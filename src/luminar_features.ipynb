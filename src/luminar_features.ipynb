{
 "cells": [
  {
   "cell_type": "code",
   "execution_count": null,
   "metadata": {},
   "outputs": [],
   "source": [
    "import importlib\n",
    "import os\n",
    "import warnings\n",
    "\n",
    "from dotenv import load_dotenv\n",
    "\n",
    "load_dotenv(\"../.env\")\n",
    "\n",
    "warnings.filterwarnings(\"ignore\", \".*does not have many workers.*\")"
   ]
  },
  {
   "cell_type": "code",
   "execution_count": null,
   "metadata": {},
   "outputs": [
    {
     "data": {
      "text/plain": [
       "<module 'luminar.mongo' from '/nvme/projects/PrismAI/PrismAI/src/luminar/mongo.py'>"
      ]
     },
     "execution_count": 2,
     "metadata": {},
     "output_type": "execute_result"
    }
   ],
   "source": [
    "import luminar.data\n",
    "import luminar.model\n",
    "import luminar.features\n",
    "import luminar.mongo\n",
    "\n",
    "importlib.reload(luminar.data)\n",
    "importlib.reload(luminar.model)\n",
    "importlib.reload(luminar.features)\n",
    "importlib.reload(luminar.mongo)"
   ]
  },
  {
   "cell_type": "code",
   "execution_count": null,
   "metadata": {},
   "outputs": [],
   "source": [
    "from luminar.features import FeatureExtractor\n",
    "from luminar.mongo import PrismaiDataset"
   ]
  },
  {
   "cell_type": "code",
   "execution_count": null,
   "metadata": {},
   "outputs": [],
   "source": [
    "domains = {\n",
    "    \"Blog Authorship\": {\"domain\": \"blog_authorship_corpus\"},\n",
    "    \"Student Essays\": {\"domain\": \"student_essays\"},\n",
    "    \"CNN News\": {\"domain\": \"cnn_news\"},\n",
    "    \"Euro Court Cases\": {\"domain\": \"euro_court_cases\"},\n",
    "    \"House of Commons\": {\"domain\": \"house_of_commons\"},\n",
    "    \"ArXiv Papers\": {\"domain\": \"arxiv_papers\"},\n",
    "    \"Gutenberg\": {\"domain\": \"gutenberg\", \"lang\": \"en-EN\"},\n",
    "    \"Bundestag [DE]\": {\"domain\": \"bundestag\"},\n",
    "    \"Spiegel [DE]\": {\"domain\": \"spiegel_articles\"},\n",
    "}\n",
    "dmap = {\n",
    "    \"Blog Authorship\": \"Blog Authorship\",\n",
    "    \"Student Essays\": \"Student Essays\",\n",
    "    \"CNN News\": \"CNN News\",\n",
    "    \"Euro Court Cases\": \"Euro Court Cases\",\n",
    "    \"House of Commons\": \"House of Commons\",\n",
    "    \"ArXiv Papers\": \"ArXiv Papers\",\n",
    "    \"Gutenberg [EN]\": \"Gutenberg\",\n",
    "    \"Bundestag\": \"Bundestag [DE]\",\n",
    "    \"Spiegel\": \"Spiegel [DE]\",\n",
    "}"
   ]
  },
  {
   "cell_type": "code",
   "execution_count": null,
   "metadata": {},
   "outputs": [],
   "source": [
    "config = {\n",
    "    \"seed\": 1337,\n",
    "    \"eval_split\": 0.1,\n",
    "    \"test_split\": 0.1,\n",
    "    \"feature_model\": \"gpt2\",\n",
    "    \"synth_agent\": \"gpt-4o-mini\",\n",
    "}"
   ]
  },
  {
   "cell_type": "code",
   "execution_count": null,
   "metadata": {},
   "outputs": [
    {
     "name": "stdout",
     "output_type": "stream",
     "text": [
      "[PrismaiDataset] Loading Data from Cache File /nvme/.cache/luminar/features_prismai/227bbf10dbaf3a6123f872e05e7ba5d1727cf52a0415bdc070391a82dc514a95.pkl\n"
     ]
    }
   ],
   "source": [
    "dataset = PrismaiDataset(\n",
    "    mongo_db_connection=os.environ.get(\"MONGO_DB_CONNECTION\"),\n",
    "    database=\"prismai\",\n",
    "    collection=\"features_prismai\",\n",
    "    feature_model=config[\"feature_model\"],\n",
    "    synth_agent=config[\"synth_agent\"],\n",
    "    document_type=\"fulltext\",\n",
    "    # update_cache=True,\n",
    "    **domains[\"CNN News\"],\n",
    ").load()"
   ]
  },
  {
   "cell_type": "markdown",
   "metadata": {},
   "source": [
    "### Feature Visualization"
   ]
  },
  {
   "cell_type": "code",
   "execution_count": 7,
   "metadata": {},
   "outputs": [],
   "source": [
    "import matplotlib.pyplot as plt\n",
    "import numpy as np\n",
    "import seaborn as sns\n",
    "\n",
    "from prismai_features.data import FeatureValues"
   ]
  },
  {
   "cell_type": "code",
   "execution_count": 8,
   "metadata": {},
   "outputs": [],
   "source": [
    "def visualize_features(ai_features: np.ndarray):\n",
    "    fig = plt.imshow(\n",
    "        ai_features,\n",
    "        cmap=sns.cubehelix_palette(as_cmap=True),\n",
    "        vmin=min(0.0, ai_features.min()),\n",
    "        vmax=max(1.0, ai_features.max()),\n",
    "    )\n",
    "    fig.axes.set_axis_off()\n",
    "    plt.tight_layout()\n",
    "    return fig"
   ]
  },
  {
   "cell_type": "code",
   "execution_count": 9,
   "metadata": {},
   "outputs": [],
   "source": [
    "sample = dataset[0]"
   ]
  },
  {
   "cell_type": "code",
   "execution_count": null,
   "metadata": {},
   "outputs": [],
   "source": [
    "ai_sample = (\n",
    "    sample[\"samples\"][0]\n",
    "    if sample[\"samples\"][0][\"type\"] != \"source\"\n",
    "    else sample[\"samples\"][1]\n",
    ")\n",
    "ai_features = FeatureValues(**ai_sample[\"features\"])"
   ]
  },
  {
   "cell_type": "code",
   "execution_count": 11,
   "metadata": {},
   "outputs": [
    {
     "data": {
      "image/png": "[encoded data removed]",
      "text/plain": [
       "<Figure size 640x480 with 1 Axes>"
      ]
     },
     "metadata": {},
     "output_type": "display_data"
    }
   ],
   "source": [
    "visualize_features(\n",
    "    FeatureExtractor.Likelihood()\n",
    "    .featurize(ai_features, slices=[slice(0, 128)])\n",
    "    .view(1, -1)\n",
    "    .numpy()\n",
    "    .repeat(13, axis=0)\n",
    ")\n",
    "plt.savefig(\n",
    "    \"../figures/features/example_cnn_news_0/ai_likelihood.png\",\n",
    "    bbox_inches=\"tight\",\n",
    "    pad_inches=0,\n",
    ")\n",
    "plt.show()"
   ]
  },
  {
   "cell_type": "code",
   "execution_count": 12,
   "metadata": {},
   "outputs": [
    {
     "data": {
      "image/png": "[encoded data removed]",
      "text/plain": [
       "<Figure size 640x480 with 1 Axes>"
      ]
     },
     "metadata": {},
     "output_type": "display_data"
    }
   ],
   "source": [
    "visualize_features(\n",
    "    FeatureExtractor.LogLikelihoodLogRankRatio()\n",
    "    .featurize(ai_features, slices=[slice(0, 128)])\n",
    "    .view(1, -1)\n",
    "    .numpy()\n",
    "    .repeat(13, axis=0)\n",
    ")\n",
    "plt.savefig(\n",
    "    \"../figures/features/example_cnn_news_0/ai_lllrr.png\",\n",
    "    bbox_inches=\"tight\",\n",
    "    pad_inches=0,\n",
    ")\n",
    "plt.show()"
   ]
  },
  {
   "cell_type": "code",
   "execution_count": 13,
   "metadata": {},
   "outputs": [
    {
     "data": {
      "image/png": "[encoded data removed]",
      "text/plain": [
       "<Figure size 640x480 with 1 Axes>"
      ]
     },
     "metadata": {},
     "output_type": "display_data"
    }
   ],
   "source": [
    "visualize_features(\n",
    "    FeatureExtractor.IntermediateLikelihood(13)\n",
    "    .featurize(ai_features, slices=[slice(0, 128)])\n",
    "    .T.numpy()\n",
    ")\n",
    "plt.savefig(\n",
    "    \"../figures/features/example_cnn_news_0/ai_il.png\",\n",
    "    bbox_inches=\"tight\",\n",
    "    pad_inches=0,\n",
    ")\n",
    "plt.show()"
   ]
  },
  {
   "cell_type": "code",
   "execution_count": 14,
   "metadata": {},
   "outputs": [
    {
     "data": {
      "image/png": "[encoded data removed]",
      "text/plain": [
       "<Figure size 640x480 with 1 Axes>"
      ]
     },
     "metadata": {},
     "output_type": "display_data"
    }
   ],
   "source": [
    "visualize_features(\n",
    "    FeatureExtractor.TopkLikelihoodLikelihoodRatio(13)\n",
    "    .featurize(ai_features, slices=[slice(0, 128)])\n",
    "    .T.numpy()\n",
    ")\n",
    "plt.savefig(\n",
    "    \"../figures/features/example_cnn_news_0/ai_tkllr.png\",\n",
    "    bbox_inches=\"tight\",\n",
    "    pad_inches=0,\n",
    ")\n",
    "plt.show()"
   ]
  },
  {
   "cell_type": "code",
   "execution_count": 15,
   "metadata": {},
   "outputs": [
    {
     "data": {
      "image/png": "[encoded data removed]",
      "text/plain": [
       "<Figure size 640x480 with 1 Axes>"
      ]
     },
     "metadata": {},
     "output_type": "display_data"
    }
   ],
   "source": [
    "visualize_features(\n",
    "    FeatureExtractor.LikelihoodTopkLikelihoodRatio(13)\n",
    "    .featurize(ai_features, slices=[slice(0, 128)])\n",
    "    .T.numpy()\n",
    ")\n",
    "plt.savefig(\n",
    "    \"../figures/features/example_cnn_news_0/ai_ltklr.png\",\n",
    "    bbox_inches=\"tight\",\n",
    "    pad_inches=0,\n",
    ")\n",
    "plt.show()"
   ]
  },
  {
   "cell_type": "code",
   "execution_count": null,
   "metadata": {},
   "outputs": [],
   "source": [
    "human_sample = (\n",
    "    sample[\"samples\"][0]\n",
    "    if sample[\"samples\"][0][\"type\"] == \"source\"\n",
    "    else sample[\"samples\"][1]\n",
    ")\n",
    "human_features = FeatureValues(**human_sample[\"features\"])[35:]"
   ]
  },
  {
   "cell_type": "code",
   "execution_count": 17,
   "metadata": {},
   "outputs": [
    {
     "data": {
      "image/png": "[encoded data removed]",
      "text/plain": [
       "<Figure size 640x480 with 1 Axes>"
      ]
     },
     "metadata": {},
     "output_type": "display_data"
    }
   ],
   "source": [
    "visualize_features(\n",
    "    FeatureExtractor.Likelihood()\n",
    "    .featurize(human_features, slices=[slice(0, 128)])\n",
    "    .view(1, -1)\n",
    "    .numpy()\n",
    "    .repeat(13, axis=0)\n",
    ")\n",
    "plt.savefig(\n",
    "    \"../figures/features/example_cnn_news_0/human_likelihood.png\",\n",
    "    bbox_inches=\"tight\",\n",
    "    pad_inches=0,\n",
    ")\n",
    "plt.show()"
   ]
  },
  {
   "cell_type": "code",
   "execution_count": 18,
   "metadata": {},
   "outputs": [
    {
     "data": {
      "image/png": "[encoded data removed]",
      "text/plain": [
       "<Figure size 640x480 with 1 Axes>"
      ]
     },
     "metadata": {},
     "output_type": "display_data"
    }
   ],
   "source": [
    "visualize_features(\n",
    "    FeatureExtractor.LogLikelihoodLogRankRatio()\n",
    "    .featurize(human_features, slices=[slice(0, 128)])\n",
    "    .view(1, -1)\n",
    "    .numpy()\n",
    "    .repeat(13, axis=0)\n",
    ")\n",
    "plt.savefig(\n",
    "    \"../figures/features/example_cnn_news_0/human_lllrr.png\",\n",
    "    bbox_inches=\"tight\",\n",
    "    pad_inches=0,\n",
    ")\n",
    "plt.show()"
   ]
  },
  {
   "cell_type": "code",
   "execution_count": 19,
   "metadata": {},
   "outputs": [
    {
     "data": {
      "image/png": "[encoded data removed]",
      "text/plain": [
       "<Figure size 640x480 with 1 Axes>"
      ]
     },
     "metadata": {},
     "output_type": "display_data"
    }
   ],
   "source": [
    "visualize_features(\n",
    "    FeatureExtractor.IntermediateLikelihood(13)\n",
    "    .featurize(human_features, slices=[slice(0, 128)])\n",
    "    .T.numpy()\n",
    ")\n",
    "plt.savefig(\n",
    "    \"../figures/features/example_cnn_news_0/human_il.png\",\n",
    "    bbox_inches=\"tight\",\n",
    "    pad_inches=0,\n",
    ")\n",
    "plt.show()"
   ]
  },
  {
   "cell_type": "code",
   "execution_count": 20,
   "metadata": {},
   "outputs": [
    {
     "data": {
      "image/png": "[encoded data removed]",
      "text/plain": [
       "<Figure size 640x480 with 1 Axes>"
      ]
     },
     "metadata": {},
     "output_type": "display_data"
    }
   ],
   "source": [
    "visualize_features(\n",
    "    FeatureExtractor.TopkLikelihoodLikelihoodRatio(13)\n",
    "    .featurize(human_features, slices=[slice(0, 128)])\n",
    "    .T.numpy()\n",
    ")\n",
    "plt.savefig(\n",
    "    \"../figures/features/example_cnn_news_0/human_tkllr.png\",\n",
    "    bbox_inches=\"tight\",\n",
    "    pad_inches=0,\n",
    ")\n",
    "plt.show()"
   ]
  },
  {
   "cell_type": "code",
   "execution_count": 21,
   "metadata": {},
   "outputs": [
    {
     "data": {
      "image/png": "[encoded data removed]",
      "text/plain": [
       "<Figure size 640x480 with 1 Axes>"
      ]
     },
     "metadata": {},
     "output_type": "display_data"
    }
   ],
   "source": [
    "visualize_features(\n",
    "    FeatureExtractor.LikelihoodTopkLikelihoodRatio(13)\n",
    "    .featurize(human_features, slices=[slice(0, 128)])\n",
    "    .T.numpy()\n",
    ")\n",
    "plt.savefig(\n",
    "    \"../figures/features/example_cnn_news_0/human_ltklr.png\",\n",
    "    bbox_inches=\"tight\",\n",
    "    pad_inches=0,\n",
    ")\n",
    "plt.show()"
   ]
  },
  {
   "cell_type": "code",
   "execution_count": 25,
   "metadata": {},
   "outputs": [],
   "source": [
    "from transformers import AutoTokenizer\n",
    "\n",
    "tokenizer = AutoTokenizer.from_pretrained(\"gpt2\")\n"
   ]
  },
  {
   "cell_type": "code",
   "execution_count": 40,
   "metadata": {},
   "outputs": [
    {
     "name": "stdout",
     "output_type": "stream",
     "text": [
      " ␣The ␣Royal ␣Family ␣and ␣the ␣M idd let ons ␣put ␣up ␣a ␣united ␣fashion ␣front ␣at ␣the ␣christ ening ␣of ␣Prince ␣George ␣at ␣St ␣James 's ␣Palace ␣in ␣London ␣yesterday . ␣All ␣wore ␣shades ␣of ␣chic ␣cream ␣or ␣royal ␣blue ␣for ␣the ␣event ␣with ␣the ␣Duchess ␣of ␣Cambridge , ␣the ␣Duchess ␣of ␣Cornwall , ␣P ipp a ␣Middle ton ␣- ␣and ␣of ␣course ␣Prince ␣George ! ␣- ␣all ␣sporting ␣off - white . ␣Z ara ␣and ␣the ␣Queen ␣picked ␣shades ␣of ␣navy ␣and ␣powder - blue ␣and ␣Car ole ␣Middle ton ␣wore ␣a ␣mixture ␣of ␣the ␣two , ␣in ␣a ␣navy ␣coat ␣and ␣cream ␣dress . ␣Scroll ␣down ␣for ␣video ␣. ␣Traditional ␣gown : ␣Kate ␣co - ord inated ␣her ␣colour ␣with ␣that ␣of ␣her ␣son , ␣who ␣was\n"
     ]
    }
   ],
   "source": [
    "print(\n",
    "    \" ␣\"\n",
    "    + \" \".join(\n",
    "        tokenizer.batch_decode(\n",
    "            tokenizer(\n",
    "                \"The Royal Family and the Middletons put up a united fashion front at the christening of Prince George at St James's Palace in London yesterday. All wore shades of chic cream or royal blue for the event with the Duchess of Cambridge, the Duchess of Cornwall, Pippa Middleton - and of course Prince George! - all sporting off-white. Zara and the Queen picked shades of navy and powder-blue and Carole Middleton wore a mixture of the two, in a navy coat and cream dress. Scroll down for video . Traditional gown: Kate co-ordinated her colour with that of her son, who was\"\n",
    "            ).input_ids\n",
    "        )\n",
    "    ).replace(\"  \", \" ␣\")\n",
    ")"
   ]
  },
  {
   "cell_type": "code",
   "execution_count": 41,
   "metadata": {},
   "outputs": [
    {
     "name": "stdout",
     "output_type": "stream",
     "text": [
      " ␣On ␣a ␣sun - d renched ␣afternoon ␣in ␣July , ␣the ␣grand eur ␣of ␣St . ␣James 's ␣Palace ␣was ␣illuminated ␣not ␣just ␣by ␣the ␣bright ␣rays ␣of ␣summer ␣but ␣also ␣by ␣the ␣presence ␣of ␣the ␣British ␣Royal ␣Family ␣and ␣the ␣Middle ton ␣clan , ␣all ␣gathered ␣to ␣celebrate ␣the ␣christ ening ␣of ␣the ␣adorable ␣Prince ␣George . ␣The ␣event , ␣which ␣marked ␣a ␣significant ␣milestone ␣in ␣the ␣young ␣prince 's ␣life , ␣was ␣as ␣much ␣about ␣the ␣ceremonial ␣blessings ␣as ␣it ␣was ␣about ␣the ␣dazzling ␣array ␣of ␣fashion ␣choices ␣on ␣display . ␣ \n",
      " \n",
      " As ␣the ␣royal ␣family ␣arrived , ␣a ␣h ush ␣fell ␣over ␣the ␣crowd , ␣quickly ␣followed ␣by ␣a ␣flurry ␣of ␣excitement . ␣The ␣atmosphere ␣was ␣electric , ␣filled ␣with ␣the ␣kind ␣of ␣anticipation\n"
     ]
    }
   ],
   "source": [
    "print(\n",
    "    \" ␣\"\n",
    "    + \" \".join(\n",
    "        tokenizer.batch_decode(\n",
    "            tokenizer(\n",
    "                    \"On a sun-drenched afternoon in July, the grandeur of St. James's Palace was illuminated not just by the bright rays of summer but also by the presence of the British Royal Family and the Middleton clan, all gathered to celebrate the christening of the adorable Prince George. The event, which marked a significant milestone in the young prince's life, was as much about the ceremonial blessings as it was about the dazzling array of fashion choices on display. \\n\\nAs the royal family arrived, a hush fell over the crowd, quickly followed by a flurry of excitement. The atmosphere was electric, filled with the kind of anticipation\"\n",
    "            ).input_ids\n",
    "        )\n",
    "    ).replace(\"  \", \" ␣\")\n",
    ")"
   ]
  }
 ],
 "metadata": {
  "kernelspec": {
   "display_name": ".venv",
   "language": "python",
   "name": "python3"
  },
  "language_info": {
   "codemirror_mode": {
    "name": "ipython",
    "version": 3
   },
   "file_extension": ".py",
   "mimetype": "text/x-python",
   "name": "python",
   "nbconvert_exporter": "python",
   "pygments_lexer": "ipython3",
   "version": "3.12.7"
  }
 },
 "nbformat": 4,
 "nbformat_minor": 2
}
