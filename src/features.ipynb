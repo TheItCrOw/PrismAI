{
 "cells": [
  {
   "cell_type": "code",
   "execution_count": 1,
   "metadata": {},
   "outputs": [],
   "source": [
    "import os\n",
    "\n",
    "import pymongo\n",
    "from dotenv import load_dotenv\n",
    "from pymongo import MongoClient\n",
    "from tqdm import tqdm\n",
    "\n",
    "load_dotenv(\"../env\")\n",
    "client = MongoClient(os.environ.get(\"MONGO_DB_CONNECTION\"))\n",
    "db = client.get_database(\"prismai\")"
   ]
  },
  {
   "cell_type": "code",
   "execution_count": 2,
   "metadata": {},
   "outputs": [],
   "source": [
    "collection_transition_scores = db.get_collection(\"test_swt\")"
   ]
  },
  {
   "cell_type": "code",
   "execution_count": null,
   "metadata": {},
   "outputs": [],
   "source": [
    "from simple_dataset import Dataset\n",
    "from transition_scores.data import FeaturesDict, TransitionScores\n",
    "\n",
    "dataset = Dataset(\n",
    "    FeaturesDict.new(**document) for document in collection_transition_scores.find()\n",
    ")\n",
    "len(dataset)"
   ]
  },
  {
   "cell_type": "code",
   "execution_count": null,
   "metadata": {},
   "outputs": [],
   "source": [
    "dataset.apply(TransitionScores.merge, \"transition_scores\")\n",
    "type(dataset[0][\"transition_scores\"])"
   ]
  },
  {
   "cell_type": "code",
   "execution_count": 5,
   "metadata": {},
   "outputs": [],
   "source": [
    "grouped_dataset = dataset.map(\n",
    "    lambda doc: {\"doc_id\": doc[\"document\"][\"_id\"]} | doc,\n",
    "    in_place=False,\n",
    ").group_documents_by(\n",
    "    \"doc_id\",\n",
    "    remainder_into=\"documents\",\n",
    "    in_place=True,\n",
    ")"
   ]
  },
  {
   "cell_type": "code",
   "execution_count": null,
   "metadata": {},
   "outputs": [],
   "source": [
    "[len(group[\"documents\"]) for group in grouped_dataset]"
   ]
  },
  {
   "cell_type": "code",
   "execution_count": 3,
   "metadata": {},
   "outputs": [],
   "source": [
    "from itertools import islice\n",
    "\n",
    "import numpy as np\n",
    "from matplotlib import pyplot as plt"
   ]
  },
  {
   "cell_type": "code",
   "execution_count": 6,
   "metadata": {},
   "outputs": [],
   "source": [
    "def get_oracle_ts(\n",
    "    seq_len=1024,\n",
    "    vocab_size=128,\n",
    "    top_k=10,\n",
    ") -> TransitionScores:\n",
    "    target_ids = np.random.choice(vocab_size, seq_len, replace=True).tolist()\n",
    "    target_probs = (np.arange(seq_len) / seq_len).tolist()\n",
    "    target_ranks = np.random.choice(vocab_size, seq_len, replace=True).tolist()\n",
    "    top_k_ids = [\n",
    "        np.random.choice(vocab_size, top_k, replace=False) for _ in range(seq_len)\n",
    "    ]\n",
    "    top_k_probs = [\n",
    "        list(sorted((np.random.rand(top_k) / 10).tolist(), reverse=True))\n",
    "        for _ in range(seq_len)\n",
    "    ]\n",
    "    return TransitionScores(\n",
    "        target_ids,\n",
    "        target_probs,\n",
    "        target_ranks,\n",
    "        top_k_ids,\n",
    "        top_k_probs,\n",
    "    )"
   ]
  },
  {
   "cell_type": "code",
   "execution_count": 259,
   "metadata": {},
   "outputs": [],
   "source": [
    "def viz2d(features: np.array, vmin=None, vmax=None):\n",
    "    fig = plt.imshow(features, cmap=\"gray\", vmin=vmin, vmax=vmax)\n",
    "    fig.axes.set_axis_off()\n",
    "    return fig"
   ]
  },
  {
   "cell_type": "code",
   "execution_count": 8,
   "metadata": {},
   "outputs": [],
   "source": [
    "def features_2d_likelihood(\n",
    "    transition_scores: TransitionScores,\n",
    "    w: int,\n",
    "    h: int,\n",
    "    skip: int = 1,\n",
    "    no_overlap: bool = False,\n",
    "    take_first: bool = False,\n",
    "    sort_slices: bool = True,\n",
    "):\n",
    "    if no_overlap:\n",
    "        raise NotImplementedError(\"no_overlap not implemented\")\n",
    "\n",
    "    size = len(transition_scores) - skip - w\n",
    "    if size < w:\n",
    "        raise ValueError(\n",
    "            f\"Sequence is too short: ({len(transition_scores)} - {skip} - {w}) < {w}\"\n",
    "        )\n",
    "\n",
    "    if take_first:\n",
    "        offsets = np.arange(skip, size, w)[:h]\n",
    "        if not sort_slices:\n",
    "            offsets = np.random.permutation(offsets)\n",
    "    else:\n",
    "        offsets = np.random.choice(size, h, replace=False) + skip\n",
    "        if sort_slices:\n",
    "            offsets = np.sort(offsets)\n",
    "\n",
    "    features = np.zeros((h, w))\n",
    "    for i, offset in enumerate(offsets):\n",
    "        features[i] = transition_scores.target_probs[offset : offset + w]\n",
    "\n",
    "    return features"
   ]
  },
  {
   "cell_type": "code",
   "execution_count": null,
   "metadata": {},
   "outputs": [],
   "source": [
    "features = features_2d_likelihood(dataset[3][\"transition_scores\"], 32, 16, take_first=True)\n",
    "viz2d(features)\n",
    "plt.show()\n",
    "\n",
    "features = features_2d_likelihood(dataset[-1][\"transition_scores\"], 32, 16, take_first=True)\n",
    "viz2d(features)\n",
    "plt.show()"
   ]
  },
  {
   "cell_type": "code",
   "execution_count": 10,
   "metadata": {},
   "outputs": [],
   "source": [
    "def viz3d(features: np.array, vmin=None, vmax=None):\n",
    "    vmin = vmin or features.min()\n",
    "    vmax = vmax or features.max()\n",
    "\n",
    "    h, w, d = features.shape\n",
    "    d = int(np.ceil(np.sqrt(d)))\n",
    "    fig, axes = plt.subplots(d, d, figsize=(5, h / w * 5))\n",
    "    for i, ax in enumerate(axes.flat):\n",
    "        if i < features.shape[-1]:\n",
    "            ax.imshow(features[..., i], cmap=\"gray\", vmin=vmin, vmax=vmax)\n",
    "        ax.set_axis_off()\n",
    "    return fig"
   ]
  },
  {
   "cell_type": "code",
   "execution_count": 11,
   "metadata": {},
   "outputs": [],
   "source": [
    "from warnings import warn\n",
    "\n",
    "\n",
    "def features_3d_liklihood_topk_stack(\n",
    "    transition_scores: TransitionScores,\n",
    "    w: int,\n",
    "    h: int,\n",
    "    d: int,\n",
    "    skip: int = 1,\n",
    "    take_first: bool = False,\n",
    "    no_overlap: bool = False,\n",
    "    remove_target: bool = True,\n",
    "    sort_slices: bool = True,\n",
    "    log: bool = False,\n",
    "):\n",
    "    if no_overlap:\n",
    "        raise NotImplementedError(\"no_overlap not implemented\")\n",
    "\n",
    "    size = len(transition_scores) - skip - w\n",
    "    if size < w:\n",
    "        raise ValueError(\n",
    "            f\"Sequence is too short: ({len(transition_scores)} - {skip} - {w}) < {w}\"\n",
    "        )\n",
    "    if size < w * h:\n",
    "        warn(\n",
    "            f\"Sequence very short, will produce overlapping offsets: ({len(transition_scores)} - {skip} - {w}) = {size} < {w * h}\"\n",
    "        )\n",
    "    ts = transition_scores[skip:]\n",
    "\n",
    "    if take_first:\n",
    "        offsets = np.arange(0, size, w)[:h]\n",
    "        if not sort_slices:\n",
    "            offsets = np.random.permutation(offsets)\n",
    "    else:\n",
    "        offsets = np.random.choice(size, h, replace=False) + skip\n",
    "        if sort_slices:\n",
    "            offsets = np.sort(offsets)\n",
    "\n",
    "    top_k_probs = [\n",
    "        list(\n",
    "            islice(\n",
    "                (\n",
    "                    prob\n",
    "                    for top_id, prob in zip(top_ids, top_probs)\n",
    "                    if not remove_target or top_id != tgt_id\n",
    "                ),\n",
    "                d - 1,\n",
    "            )\n",
    "        )\n",
    "        for tgt_id, top_ids, top_probs in zip(\n",
    "            ts.target_ids,\n",
    "            ts.top_k_indices,\n",
    "            ts.top_k_probs,\n",
    "        )\n",
    "    ]\n",
    "    top_k_probs = np.array(top_k_probs)\n",
    "\n",
    "    features = np.empty((h, w, d))\n",
    "    for i, offset in enumerate(offsets):\n",
    "        features[i, :, 0] = ts.target_probs[offset : offset + w]\n",
    "        features[i, :, 1:] = top_k_probs[offset : offset + w]  # [:, ::-1]\n",
    "    if log:\n",
    "        features = np.log1p(features)\n",
    "    return features\n"
   ]
  },
  {
   "cell_type": "code",
   "execution_count": null,
   "metadata": {},
   "outputs": [],
   "source": [
    "ts = get_oracle_ts()\n",
    "features = features_3d_liklihood_topk_stack(ts, 16, 16, 4, take_first=True)\n",
    "viz3d(features)\n",
    "plt.show()"
   ]
  },
  {
   "cell_type": "code",
   "execution_count": null,
   "metadata": {},
   "outputs": [],
   "source": [
    "features = features_3d_liklihood_topk_stack(\n",
    "    dataset[3][\"transition_scores\"], 32, 16, 9, take_first=True,\n",
    "    log=\"log_ratio\"\n",
    ")\n",
    "viz3d(features)\n",
    "plt.show()\n",
    "\n",
    "mn, mx = features.min(), features.max()\n",
    "\n",
    "features = features_3d_liklihood_topk_stack(\n",
    "    dataset[-1][\"transition_scores\"], 32, 16, 9, take_first=True,\n",
    "    log=\"log_ratio\"\n",
    ")\n",
    "viz3d(features, vmin=mn, vmax=mx)\n",
    "plt.show()"
   ]
  },
  {
   "cell_type": "code",
   "execution_count": 17,
   "metadata": {},
   "outputs": [],
   "source": [
    "from typing import Literal\n",
    "\n",
    "\n",
    "def features_3d_likelihood_top_k_ratio(\n",
    "    transition_scores: TransitionScores,\n",
    "    w: int,\n",
    "    h: int,\n",
    "    d: int,\n",
    "    skip: int = 1,\n",
    "    take_first: bool = False,\n",
    "    no_overlap: bool = False,\n",
    "    sort_slices: bool = True,\n",
    "    log: None | Literal[\"log_ratio\", \"ratio_of_logs\"] = None,\n",
    "):\n",
    "    if no_overlap:\n",
    "        raise NotImplementedError(\"no_overlap not implemented\")\n",
    "\n",
    "    size = len(transition_scores) - skip - w\n",
    "    if size < w:\n",
    "        raise ValueError(\n",
    "            f\"Sequence is too short: ({len(transition_scores)} - {skip} - {w}) < {w}\"\n",
    "        )\n",
    "    if size < w * h:\n",
    "        warn(\n",
    "            f\"Sequence very short, will produce overlapping offsets: ({len(transition_scores)} - {skip} - {w}) = {size} < {w * h}\"\n",
    "        )\n",
    "    ts = transition_scores[skip:]\n",
    "\n",
    "    if take_first:\n",
    "        offsets = np.arange(0, size, w)[:h]\n",
    "        if not sort_slices:\n",
    "            offsets = np.random.permutation(offsets)\n",
    "    else:\n",
    "        offsets = np.random.choice(size, h, replace=False) + skip\n",
    "        if sort_slices:\n",
    "            offsets = np.sort(offsets)\n",
    "\n",
    "    top_k_probs = [\n",
    "        list(\n",
    "            islice(\n",
    "                (prob for top_id, prob in zip(top_ids, top_probs) if top_id != tgt_id),\n",
    "                d,\n",
    "            )\n",
    "        )\n",
    "        for tgt_id, top_ids, top_probs in zip(\n",
    "            ts.target_ids,\n",
    "            ts.top_k_indices,\n",
    "            ts.top_k_probs,\n",
    "        )\n",
    "    ]\n",
    "    top_k_probs = np.array(top_k_probs)\n",
    "    target_probs = np.array(ts.target_probs).reshape(-1, 1)\n",
    "\n",
    "    if log == \"ratio_of_logs\":\n",
    "        top_k_probs = np.log(top_k_probs)\n",
    "        target_probs = np.log(target_probs)\n",
    "\n",
    "    features = np.empty((h, w, d))\n",
    "    for i, offset in enumerate(offsets):\n",
    "        features[i, :, :] = np.true_divide(\n",
    "            target_probs[offset : offset + w],\n",
    "            top_k_probs[offset : offset + w],\n",
    "        )\n",
    "        if log == \"log_ratio\":\n",
    "            features[i, :, :] = np.log(features[i, :, :])\n",
    "\n",
    "    return features\n"
   ]
  },
  {
   "cell_type": "code",
   "execution_count": null,
   "metadata": {},
   "outputs": [],
   "source": [
    "human = features_3d_likelihood_top_k_ratio(\n",
    "    dataset[3][\"transition_scores\"],\n",
    "    32,\n",
    "    16,\n",
    "    9,\n",
    "    take_first=True,\n",
    "    # log=\"log_ratio\",\n",
    ")\n",
    "viz3d(human)\n",
    "plt.show()\n",
    "\n",
    "ai = features_3d_likelihood_top_k_ratio(\n",
    "    dataset[-1][\"transition_scores\"],\n",
    "    32,\n",
    "    16,\n",
    "    9,\n",
    "    take_first=True,\n",
    "    # log=\"log_ratio\",\n",
    ")\n",
    "viz3d(ai, vmin=human.min(), vmax=human.max())\n",
    "plt.show()"
   ]
  },
  {
   "cell_type": "code",
   "execution_count": null,
   "metadata": {},
   "outputs": [],
   "source": [
    "viz2d(human.reshape(-1, 9).T)\n",
    "plt.show()\n",
    "\n",
    "viz2d(ai.reshape(-1, 9).T, vmin=human.min(), vmax=human.max())\n",
    "plt.show()"
   ]
  },
  {
   "cell_type": "code",
   "execution_count": null,
   "metadata": {},
   "outputs": [],
   "source": [
    "features = features_3d_likelihood_top_k_ratio(ts, 32, 16, 9, take_first=True)\n",
    "viz3d(features)\n",
    "plt.show()"
   ]
  },
  {
   "cell_type": "code",
   "execution_count": null,
   "metadata": {},
   "outputs": [],
   "source": [
    "features_3d_likelihood_top_k_ratio(\n",
    "    dataset[3][\"transition_scores\"], 32, 16, 9, take_first=True\n",
    ").sum()"
   ]
  },
  {
   "cell_type": "code",
   "execution_count": null,
   "metadata": {},
   "outputs": [],
   "source": [
    "features_3d_likelihood_top_k_ratio(\n",
    "    dataset[-1][\"transition_scores\"], 32, 16, 9, take_first=True\n",
    ").sum()"
   ]
  },
  {
   "cell_type": "code",
   "execution_count": 251,
   "metadata": {},
   "outputs": [],
   "source": [
    "def features_2d_log_likelihood_log_rank_ratio(\n",
    "    transition_scores: TransitionScores,\n",
    "    w: int,\n",
    "    h: int,\n",
    "    skip: int = 1,\n",
    "    take_first: bool = False,\n",
    "    no_overlap: bool = False,\n",
    "    sort_slices: bool = True,\n",
    "    epsilon=1e-8,\n",
    "):\n",
    "    if no_overlap:\n",
    "        raise NotImplementedError(\"no_overlap not implemented\")\n",
    "\n",
    "    size = len(transition_scores) - skip - w\n",
    "    if size < w:\n",
    "        raise ValueError(\n",
    "            f\"Sequence is too short: ({len(transition_scores)} - {skip} - {w}) < {w}\"\n",
    "        )\n",
    "\n",
    "    if take_first:\n",
    "        offsets = np.arange(skip, size, w)[:h]\n",
    "        if not sort_slices:\n",
    "            offsets = np.random.permutation(offsets)\n",
    "    else:\n",
    "        offsets = np.random.choice(size, h, replace=False) + skip\n",
    "        if sort_slices:\n",
    "            offsets = np.sort(offsets)\n",
    "\n",
    "    features = np.zeros((h, w))\n",
    "    target_probs = np.array(transition_scores.target_probs)\n",
    "    target_ranks = np.array(transition_scores.target_ranks)\n",
    "    for i, offset in enumerate(offsets):\n",
    "        features[i] = -np.true_divide(\n",
    "            # probs are generally small but never zero, so log(x) is safe\n",
    "            np.log(target_probs[offset : offset + w]),\n",
    "            # ranks, however, are 0-indexed, so we use log1p to avoid log(0)\n",
    "            # and add epsilon to avoid division by zero\n",
    "            np.log1p(target_ranks[offset : offset + w]) + epsilon,\n",
    "        )\n",
    "\n",
    "    return features\n"
   ]
  },
  {
   "cell_type": "code",
   "execution_count": null,
   "metadata": {},
   "outputs": [],
   "source": [
    "human = features_2d_log_likelihood_log_rank_ratio(\n",
    "    dataset[2][\"transition_scores\"], 32, 16, take_first=False\n",
    ")\n",
    "viz2d(human)\n",
    "plt.show()\n",
    "\n",
    "ai = features_2d_log_likelihood_log_rank_ratio(\n",
    "    dataset[-1][\"transition_scores\"], 32, 16, take_first=False\n",
    ")\n",
    "viz2d(ai, vmin=human.min(), vmax=human.max())\n",
    "plt.show()"
   ]
  },
  {
   "cell_type": "code",
   "execution_count": 291,
   "metadata": {},
   "outputs": [],
   "source": [
    "def viz_line(features: np.array, vmin=None, vmax=None):\n",
    "    fig, ax = plt.subplots(figsize=(5, 5))\n",
    "    ax.set_axis_off()\n",
    "    ax.imshow(\n",
    "        features.flatten().reshape(-1, 1).repeat(32, 1).T,\n",
    "        cmap=\"gray\",\n",
    "        vmin=vmin,\n",
    "        vmax=vmax,\n",
    "    )\n",
    "    return fig"
   ]
  },
  {
   "cell_type": "code",
   "execution_count": null,
   "metadata": {},
   "outputs": [],
   "source": [
    "human = features_2d_log_likelihood_log_rank_ratio(\n",
    "    dataset[2][\"transition_scores\"],\n",
    "    32,\n",
    "    16,\n",
    "    take_first=False,\n",
    "    sort_slices=False,\n",
    ")\n",
    "viz_line(human)\n",
    "plt.show()\n",
    "\n",
    "ai = features_2d_log_likelihood_log_rank_ratio(\n",
    "    dataset[-1][\"transition_scores\"],\n",
    "    32,\n",
    "    16,\n",
    "    take_first=False,\n",
    "    sort_slices=False,\n",
    ")\n",
    "viz_line(ai, vmin=human.min(), vmax=human.max())\n",
    "plt.show()"
   ]
  },
  {
   "cell_type": "code",
   "execution_count": 293,
   "metadata": {},
   "outputs": [],
   "source": [
    "import numpy as np\n",
    "\n",
    "\n",
    "def log_likelihood_log_rank_ratio(\n",
    "    target_probs: np.array,\n",
    "    target_ranks: np.array,\n",
    "    epsilon: float = 1e-8,\n",
    ") -> np.array:\n",
    "    \"\"\"Compute the log-likelihood log-rank ratio.\n",
    "\n",
    "    Args:\n",
    "        target_probs (np.array): Target token probabilities.\n",
    "        target_ranks (np.array): Zero-indexed target token ranks.\n",
    "\n",
    "    Returns:\n",
    "        np.array: array of the same shape as target_probs and target_ranks.\n",
    "    \"\"\"\n",
    "    return -np.true_divide(\n",
    "        # probs are generally small but never zero, so log(x) is safe\n",
    "        np.log(target_probs),\n",
    "        # ranks, however, are 0-indexed, so we use log1p to avoid log(0)\n",
    "        # and add epsilon to avoid division by zero\n",
    "        np.log1p(target_ranks) + epsilon,\n",
    "    )"
   ]
  },
  {
   "cell_type": "code",
   "execution_count": null,
   "metadata": {},
   "outputs": [],
   "source": [
    "ts = dataset[2][\"transition_scores\"]\n",
    "l = len(ts.target_probs) - 256\n",
    "o = np.random.randint(1, l)\n",
    "o = 1\n",
    "human = log_likelihood_log_rank_ratio(\n",
    "    ts.target_probs[o : o + 256],\n",
    "    ts.target_ranks[o : o + 256],\n",
    ")\n",
    "viz_line(human)\n",
    "plt.show()\n",
    "\n",
    "ts = dataset[-1][\"transition_scores\"]\n",
    "l = len(ts.target_probs) - 256\n",
    "o = np.random.randint(1, l)\n",
    "o = 1\n",
    "ai = log_likelihood_log_rank_ratio(\n",
    "    ts.target_probs[o : o + 256],\n",
    "    ts.target_ranks[o : o + 256],\n",
    ")\n",
    "viz_line(ai, vmin=human.min(), vmax=human.max())\n",
    "plt.show()"
   ]
  },
  {
   "cell_type": "code",
   "execution_count": 1,
   "metadata": {},
   "outputs": [
    {
     "data": {
      "text/plain": [
       "False"
      ]
     },
     "execution_count": 1,
     "metadata": {},
     "output_type": "execute_result"
    }
   ],
   "source": [
    "import importlib\n",
    "import os\n",
    "\n",
    "import pytorch_lightning as pl\n",
    "from dotenv import load_dotenv\n",
    "from lightning.pytorch import loggers as pl_loggers\n",
    "\n",
    "load_dotenv(\"../env\")"
   ]
  },
  {
   "cell_type": "code",
   "execution_count": 2,
   "metadata": {},
   "outputs": [],
   "source": [
    "import luminar.mongo\n",
    "\n",
    "importlib.reload(luminar.mongo)\n",
    "from luminar.mongo import MongoDBAdapter"
   ]
  },
  {
   "cell_type": "code",
   "execution_count": 28,
   "metadata": {},
   "outputs": [],
   "source": [
    "domain = \"student_essays\"\n",
    "db = MongoDBAdapter(\n",
    "    os.environ.get(\"MONGO_DB_CONNECTION\"),\n",
    "    \"prismai\",\n",
    "    \"collected_items\",\n",
    "    \"synthesized_texts\",\n",
    "    \"transition_scores\",\n",
    "    domain=domain,\n",
    "    source_collection_limit=1500,\n",
    ")"
   ]
  },
  {
   "cell_type": "code",
   "execution_count": 29,
   "metadata": {},
   "outputs": [],
   "source": [
    "import luminar.document.data\n",
    "import luminar.features\n",
    "\n",
    "importlib.reload(luminar.document.data)\n",
    "importlib.reload(luminar.features)\n",
    "\n",
    "from luminar.document.data import DocumentClassificationDataModule\n",
    "from luminar.features import OneDimFeatures, ThreeDimFeatures, TwoDimFeatures"
   ]
  },
  {
   "cell_type": "code",
   "execution_count": 30,
   "metadata": {},
   "outputs": [],
   "source": [
    "feature_size = OneDimFeatures(256)\n",
    "dm = DocumentClassificationDataModule(db, feature_size)"
   ]
  },
  {
   "cell_type": "code",
   "execution_count": 31,
   "metadata": {},
   "outputs": [],
   "source": [
    "import luminar.document.model\n",
    "\n",
    "importlib.reload(luminar.document.model)\n",
    "\n",
    "from luminar.document.model import ConvolutionalLayerSpec, DocumentClassficationModel"
   ]
  },
  {
   "cell_type": "code",
   "execution_count": 43,
   "metadata": {},
   "outputs": [
    {
     "name": "stderr",
     "output_type": "stream",
     "text": [
      "GPU available: True (cuda), used: True\n",
      "TPU available: False, using: 0 TPU cores\n",
      "HPU available: False, using: 0 HPUs\n"
     ]
    }
   ],
   "source": [
    "model = DocumentClassficationModel(\n",
    "    dm.feature_selection.effective_shape(),\n",
    "    projection_dim=128,\n",
    "    learning_rate=1e-5,\n",
    "    warmup_steps=100,\n",
    ")\n",
    "trainer = pl.Trainer(\n",
    "    max_epochs=50,\n",
    "    logger=pl_loggers.TensorBoardLogger(\n",
    "        save_dir=\"logs/\",\n",
    "        name=domain,\n",
    "    ),\n",
    "    gradient_clip_val=0.5,\n",
    ")"
   ]
  },
  {
   "cell_type": "code",
   "execution_count": 44,
   "metadata": {},
   "outputs": [
    {
     "name": "stderr",
     "output_type": "stream",
     "text": [
      "LOCAL_RANK: 0 - CUDA_VISIBLE_DEVICES: [0]\n",
      "Loading `train_dataloader` to estimate number of stepping batches.\n",
      "/home/mastoeck/Projects/PrismAI/PrismAI/.venv/lib/python3.12/site-packages/pytorch_lightning/trainer/connectors/data_connector.py:425: The 'train_dataloader' does not have many workers which may be a bottleneck. Consider increasing the value of the `num_workers` argument` to `num_workers=11` in the `DataLoader` to improve performance.\n",
      "\n",
      "  | Name        | Type              | Params | Mode  | In sizes   | Out sizes\n",
      "-----------------------------------------------------------------------------------\n",
      "0 | conv_layers | ModuleList        | 148 K  | train | ?          | ?        \n",
      "1 | classifier  | Sequential        | 2.1 M  | train | [1, 16384] | [1, 1]   \n",
      "2 | criterion   | BCEWithLogitsLoss | 0      | train | ?          | ?        \n",
      "-----------------------------------------------------------------------------------\n",
      "2.2 M     Trainable params\n",
      "0         Non-trainable params\n",
      "2.2 M     Total params\n",
      "8.983     Total estimated model params size (MB)\n",
      "21        Modules in train mode\n",
      "0         Modules in eval mode\n"
     ]
    },
    {
     "name": "stdout",
     "output_type": "stream",
     "text": [
      "Caching Enabled - Dataset Already Cached\n"
     ]
    },
    {
     "data": {
      "application/vnd.jupyter.widget-view+json": {
       "model_id": "1eecc00e9bc0417dbb25add4116c219b",
       "version_major": 2,
       "version_minor": 0
      },
      "text/plain": [
       "Sanity Checking: |          | 0/? [00:00<?, ?it/s]"
      ]
     },
     "metadata": {},
     "output_type": "display_data"
    },
    {
     "name": "stderr",
     "output_type": "stream",
     "text": [
      "/home/mastoeck/Projects/PrismAI/PrismAI/.venv/lib/python3.12/site-packages/pytorch_lightning/trainer/connectors/data_connector.py:425: The 'val_dataloader' does not have many workers which may be a bottleneck. Consider increasing the value of the `num_workers` argument` to `num_workers=11` in the `DataLoader` to improve performance.\n"
     ]
    },
    {
     "data": {
      "application/vnd.jupyter.widget-view+json": {
       "model_id": "5c6f78c2994a4ff2b24afbc3ec2ba2e3",
       "version_major": 2,
       "version_minor": 0
      },
      "text/plain": [
       "Training: |          | 0/? [00:00<?, ?it/s]"
      ]
     },
     "metadata": {},
     "output_type": "display_data"
    },
    {
     "data": {
      "application/vnd.jupyter.widget-view+json": {
       "model_id": "3a0534d6527c4e8698889b6660f8ea09",
       "version_major": 2,
       "version_minor": 0
      },
      "text/plain": [
       "Validation: |          | 0/? [00:00<?, ?it/s]"
      ]
     },
     "metadata": {},
     "output_type": "display_data"
    },
    {
     "data": {
      "application/vnd.jupyter.widget-view+json": {
       "model_id": "8af8dc1e95ba4ee6a5bc10ecc03a36dc",
       "version_major": 2,
       "version_minor": 0
      },
      "text/plain": [
       "Validation: |          | 0/? [00:00<?, ?it/s]"
      ]
     },
     "metadata": {},
     "output_type": "display_data"
    },
    {
     "data": {
      "application/vnd.jupyter.widget-view+json": {
       "model_id": "3e7a3e06dc63423d95a722b831f49049",
       "version_major": 2,
       "version_minor": 0
      },
      "text/plain": [
       "Validation: |          | 0/? [00:00<?, ?it/s]"
      ]
     },
     "metadata": {},
     "output_type": "display_data"
    },
    {
     "data": {
      "application/vnd.jupyter.widget-view+json": {
       "model_id": "69ef1984d5fa4e5b854979851b0a7ab7",
       "version_major": 2,
       "version_minor": 0
      },
      "text/plain": [
       "Validation: |          | 0/? [00:00<?, ?it/s]"
      ]
     },
     "metadata": {},
     "output_type": "display_data"
    },
    {
     "data": {
      "application/vnd.jupyter.widget-view+json": {
       "model_id": "74f0e43002f94d7aa478f2b5f47d57f7",
       "version_major": 2,
       "version_minor": 0
      },
      "text/plain": [
       "Validation: |          | 0/? [00:00<?, ?it/s]"
      ]
     },
     "metadata": {},
     "output_type": "display_data"
    },
    {
     "data": {
      "application/vnd.jupyter.widget-view+json": {
       "model_id": "57ea855601b2426784965e9c94a4c708",
       "version_major": 2,
       "version_minor": 0
      },
      "text/plain": [
       "Validation: |          | 0/? [00:00<?, ?it/s]"
      ]
     },
     "metadata": {},
     "output_type": "display_data"
    },
    {
     "data": {
      "application/vnd.jupyter.widget-view+json": {
       "model_id": "0fa531f7ec3e43549b3f805b79936dab",
       "version_major": 2,
       "version_minor": 0
      },
      "text/plain": [
       "Validation: |          | 0/? [00:00<?, ?it/s]"
      ]
     },
     "metadata": {},
     "output_type": "display_data"
    },
    {
     "data": {
      "application/vnd.jupyter.widget-view+json": {
       "model_id": "f6c4e9722de247b39d0ca0e57f2fc21d",
       "version_major": 2,
       "version_minor": 0
      },
      "text/plain": [
       "Validation: |          | 0/? [00:00<?, ?it/s]"
      ]
     },
     "metadata": {},
     "output_type": "display_data"
    },
    {
     "data": {
      "application/vnd.jupyter.widget-view+json": {
       "model_id": "d510908434124c08a7fc852aa38b826f",
       "version_major": 2,
       "version_minor": 0
      },
      "text/plain": [
       "Validation: |          | 0/? [00:00<?, ?it/s]"
      ]
     },
     "metadata": {},
     "output_type": "display_data"
    },
    {
     "data": {
      "application/vnd.jupyter.widget-view+json": {
       "model_id": "26b58bae1b144471baff4a32a71d7c2c",
       "version_major": 2,
       "version_minor": 0
      },
      "text/plain": [
       "Validation: |          | 0/? [00:00<?, ?it/s]"
      ]
     },
     "metadata": {},
     "output_type": "display_data"
    },
    {
     "data": {
      "application/vnd.jupyter.widget-view+json": {
       "model_id": "3d5ad3f7ca7f446c9e2315e9c963f2e0",
       "version_major": 2,
       "version_minor": 0
      },
      "text/plain": [
       "Validation: |          | 0/? [00:00<?, ?it/s]"
      ]
     },
     "metadata": {},
     "output_type": "display_data"
    },
    {
     "data": {
      "application/vnd.jupyter.widget-view+json": {
       "model_id": "b5ce8d34c7fb45b2b94ca06fe7dcc306",
       "version_major": 2,
       "version_minor": 0
      },
      "text/plain": [
       "Validation: |          | 0/? [00:00<?, ?it/s]"
      ]
     },
     "metadata": {},
     "output_type": "display_data"
    },
    {
     "data": {
      "application/vnd.jupyter.widget-view+json": {
       "model_id": "e80d098523124c668b1b4e0f68712113",
       "version_major": 2,
       "version_minor": 0
      },
      "text/plain": [
       "Validation: |          | 0/? [00:00<?, ?it/s]"
      ]
     },
     "metadata": {},
     "output_type": "display_data"
    },
    {
     "data": {
      "application/vnd.jupyter.widget-view+json": {
       "model_id": "8517e967cfae43c882e3048db29e0ed3",
       "version_major": 2,
       "version_minor": 0
      },
      "text/plain": [
       "Validation: |          | 0/? [00:00<?, ?it/s]"
      ]
     },
     "metadata": {},
     "output_type": "display_data"
    },
    {
     "data": {
      "application/vnd.jupyter.widget-view+json": {
       "model_id": "8f98db97e0cf4857ac3cda586551bb27",
       "version_major": 2,
       "version_minor": 0
      },
      "text/plain": [
       "Validation: |          | 0/? [00:00<?, ?it/s]"
      ]
     },
     "metadata": {},
     "output_type": "display_data"
    },
    {
     "data": {
      "application/vnd.jupyter.widget-view+json": {
       "model_id": "a5cf9518120745308400ef2e5006d197",
       "version_major": 2,
       "version_minor": 0
      },
      "text/plain": [
       "Validation: |          | 0/? [00:00<?, ?it/s]"
      ]
     },
     "metadata": {},
     "output_type": "display_data"
    },
    {
     "data": {
      "application/vnd.jupyter.widget-view+json": {
       "model_id": "d571c55a4f5646bbaa6282ee9163d3d2",
       "version_major": 2,
       "version_minor": 0
      },
      "text/plain": [
       "Validation: |          | 0/? [00:00<?, ?it/s]"
      ]
     },
     "metadata": {},
     "output_type": "display_data"
    },
    {
     "data": {
      "application/vnd.jupyter.widget-view+json": {
       "model_id": "936f34f3d4c24207867817bf76066b07",
       "version_major": 2,
       "version_minor": 0
      },
      "text/plain": [
       "Validation: |          | 0/? [00:00<?, ?it/s]"
      ]
     },
     "metadata": {},
     "output_type": "display_data"
    },
    {
     "data": {
      "application/vnd.jupyter.widget-view+json": {
       "model_id": "fedd244164d64cad93653cdcf590092f",
       "version_major": 2,
       "version_minor": 0
      },
      "text/plain": [
       "Validation: |          | 0/? [00:00<?, ?it/s]"
      ]
     },
     "metadata": {},
     "output_type": "display_data"
    },
    {
     "data": {
      "application/vnd.jupyter.widget-view+json": {
       "model_id": "4385f9b6f8c947a9a23c370fecc73f33",
       "version_major": 2,
       "version_minor": 0
      },
      "text/plain": [
       "Validation: |          | 0/? [00:00<?, ?it/s]"
      ]
     },
     "metadata": {},
     "output_type": "display_data"
    },
    {
     "data": {
      "application/vnd.jupyter.widget-view+json": {
       "model_id": "06ad3b9f933f4b528002ecbb7bca01b3",
       "version_major": 2,
       "version_minor": 0
      },
      "text/plain": [
       "Validation: |          | 0/? [00:00<?, ?it/s]"
      ]
     },
     "metadata": {},
     "output_type": "display_data"
    },
    {
     "data": {
      "application/vnd.jupyter.widget-view+json": {
       "model_id": "fa2de4c5746c46819c898b0a94c1e6c0",
       "version_major": 2,
       "version_minor": 0
      },
      "text/plain": [
       "Validation: |          | 0/? [00:00<?, ?it/s]"
      ]
     },
     "metadata": {},
     "output_type": "display_data"
    },
    {
     "data": {
      "application/vnd.jupyter.widget-view+json": {
       "model_id": "458b3f3bca3f4bfea9b531c244ace8a5",
       "version_major": 2,
       "version_minor": 0
      },
      "text/plain": [
       "Validation: |          | 0/? [00:00<?, ?it/s]"
      ]
     },
     "metadata": {},
     "output_type": "display_data"
    },
    {
     "data": {
      "application/vnd.jupyter.widget-view+json": {
       "model_id": "e5b047658fb24f59b1ab68935a187399",
       "version_major": 2,
       "version_minor": 0
      },
      "text/plain": [
       "Validation: |          | 0/? [00:00<?, ?it/s]"
      ]
     },
     "metadata": {},
     "output_type": "display_data"
    },
    {
     "data": {
      "application/vnd.jupyter.widget-view+json": {
       "model_id": "f37d93e016dd497886e7455d0a27e5b4",
       "version_major": 2,
       "version_minor": 0
      },
      "text/plain": [
       "Validation: |          | 0/? [00:00<?, ?it/s]"
      ]
     },
     "metadata": {},
     "output_type": "display_data"
    },
    {
     "data": {
      "application/vnd.jupyter.widget-view+json": {
       "model_id": "2b5ec543204b4908961cbea5ddab85ab",
       "version_major": 2,
       "version_minor": 0
      },
      "text/plain": [
       "Validation: |          | 0/? [00:00<?, ?it/s]"
      ]
     },
     "metadata": {},
     "output_type": "display_data"
    },
    {
     "data": {
      "application/vnd.jupyter.widget-view+json": {
       "model_id": "b15d0b9867dc4922afc3149891df2aea",
       "version_major": 2,
       "version_minor": 0
      },
      "text/plain": [
       "Validation: |          | 0/? [00:00<?, ?it/s]"
      ]
     },
     "metadata": {},
     "output_type": "display_data"
    },
    {
     "data": {
      "application/vnd.jupyter.widget-view+json": {
       "model_id": "2dc24c4fe6314ae2b3545869a4de2b3c",
       "version_major": 2,
       "version_minor": 0
      },
      "text/plain": [
       "Validation: |          | 0/? [00:00<?, ?it/s]"
      ]
     },
     "metadata": {},
     "output_type": "display_data"
    },
    {
     "data": {
      "application/vnd.jupyter.widget-view+json": {
       "model_id": "0ffb77872a5b4d67b8204a43b205824c",
       "version_major": 2,
       "version_minor": 0
      },
      "text/plain": [
       "Validation: |          | 0/? [00:00<?, ?it/s]"
      ]
     },
     "metadata": {},
     "output_type": "display_data"
    },
    {
     "data": {
      "application/vnd.jupyter.widget-view+json": {
       "model_id": "56b3e4561ac846e2ad1ee6cec4efd0c0",
       "version_major": 2,
       "version_minor": 0
      },
      "text/plain": [
       "Validation: |          | 0/? [00:00<?, ?it/s]"
      ]
     },
     "metadata": {},
     "output_type": "display_data"
    },
    {
     "data": {
      "application/vnd.jupyter.widget-view+json": {
       "model_id": "ef1d96bd0a2f4f0c97bdb86704dde0f4",
       "version_major": 2,
       "version_minor": 0
      },
      "text/plain": [
       "Validation: |          | 0/? [00:00<?, ?it/s]"
      ]
     },
     "metadata": {},
     "output_type": "display_data"
    },
    {
     "data": {
      "application/vnd.jupyter.widget-view+json": {
       "model_id": "cfc08e14a54245d9a6ff077ad1934e06",
       "version_major": 2,
       "version_minor": 0
      },
      "text/plain": [
       "Validation: |          | 0/? [00:00<?, ?it/s]"
      ]
     },
     "metadata": {},
     "output_type": "display_data"
    },
    {
     "data": {
      "application/vnd.jupyter.widget-view+json": {
       "model_id": "a4bf2c3cb81645e5a49e2d190d08c5f0",
       "version_major": 2,
       "version_minor": 0
      },
      "text/plain": [
       "Validation: |          | 0/? [00:00<?, ?it/s]"
      ]
     },
     "metadata": {},
     "output_type": "display_data"
    },
    {
     "data": {
      "application/vnd.jupyter.widget-view+json": {
       "model_id": "e77291f46d104bd0aa28221bb8b623bc",
       "version_major": 2,
       "version_minor": 0
      },
      "text/plain": [
       "Validation: |          | 0/? [00:00<?, ?it/s]"
      ]
     },
     "metadata": {},
     "output_type": "display_data"
    },
    {
     "data": {
      "application/vnd.jupyter.widget-view+json": {
       "model_id": "f9ce371b7c7a43b29d76fd2213844727",
       "version_major": 2,
       "version_minor": 0
      },
      "text/plain": [
       "Validation: |          | 0/? [00:00<?, ?it/s]"
      ]
     },
     "metadata": {},
     "output_type": "display_data"
    },
    {
     "data": {
      "application/vnd.jupyter.widget-view+json": {
       "model_id": "d96f08a79fc64e6da7f07bbabe9c536a",
       "version_major": 2,
       "version_minor": 0
      },
      "text/plain": [
       "Validation: |          | 0/? [00:00<?, ?it/s]"
      ]
     },
     "metadata": {},
     "output_type": "display_data"
    },
    {
     "data": {
      "application/vnd.jupyter.widget-view+json": {
       "model_id": "70ae3c89ccf24461ab008dfb0ff4eaaa",
       "version_major": 2,
       "version_minor": 0
      },
      "text/plain": [
       "Validation: |          | 0/? [00:00<?, ?it/s]"
      ]
     },
     "metadata": {},
     "output_type": "display_data"
    },
    {
     "data": {
      "application/vnd.jupyter.widget-view+json": {
       "model_id": "82b469bd2aaa4e66b1fe36a056e2afdc",
       "version_major": 2,
       "version_minor": 0
      },
      "text/plain": [
       "Validation: |          | 0/? [00:00<?, ?it/s]"
      ]
     },
     "metadata": {},
     "output_type": "display_data"
    },
    {
     "data": {
      "application/vnd.jupyter.widget-view+json": {
       "model_id": "64a49eb330fb4836bdf163e2be39b569",
       "version_major": 2,
       "version_minor": 0
      },
      "text/plain": [
       "Validation: |          | 0/? [00:00<?, ?it/s]"
      ]
     },
     "metadata": {},
     "output_type": "display_data"
    },
    {
     "data": {
      "application/vnd.jupyter.widget-view+json": {
       "model_id": "a3bcba6aa47c406eb9bfa2545ca200d2",
       "version_major": 2,
       "version_minor": 0
      },
      "text/plain": [
       "Validation: |          | 0/? [00:00<?, ?it/s]"
      ]
     },
     "metadata": {},
     "output_type": "display_data"
    },
    {
     "data": {
      "application/vnd.jupyter.widget-view+json": {
       "model_id": "d9d05f103d484c5c8fecf3da0c466734",
       "version_major": 2,
       "version_minor": 0
      },
      "text/plain": [
       "Validation: |          | 0/? [00:00<?, ?it/s]"
      ]
     },
     "metadata": {},
     "output_type": "display_data"
    },
    {
     "data": {
      "application/vnd.jupyter.widget-view+json": {
       "model_id": "902db4e9552e48cab7b344ed071ce2c0",
       "version_major": 2,
       "version_minor": 0
      },
      "text/plain": [
       "Validation: |          | 0/? [00:00<?, ?it/s]"
      ]
     },
     "metadata": {},
     "output_type": "display_data"
    },
    {
     "data": {
      "application/vnd.jupyter.widget-view+json": {
       "model_id": "7671d66031984446baa1e5d789be5515",
       "version_major": 2,
       "version_minor": 0
      },
      "text/plain": [
       "Validation: |          | 0/? [00:00<?, ?it/s]"
      ]
     },
     "metadata": {},
     "output_type": "display_data"
    },
    {
     "data": {
      "application/vnd.jupyter.widget-view+json": {
       "model_id": "e0adfa75c8da480cb6b73a8adb9d98f5",
       "version_major": 2,
       "version_minor": 0
      },
      "text/plain": [
       "Validation: |          | 0/? [00:00<?, ?it/s]"
      ]
     },
     "metadata": {},
     "output_type": "display_data"
    },
    {
     "data": {
      "application/vnd.jupyter.widget-view+json": {
       "model_id": "1be2418133a34c5b888c5306b88004e5",
       "version_major": 2,
       "version_minor": 0
      },
      "text/plain": [
       "Validation: |          | 0/? [00:00<?, ?it/s]"
      ]
     },
     "metadata": {},
     "output_type": "display_data"
    },
    {
     "data": {
      "application/vnd.jupyter.widget-view+json": {
       "model_id": "38ad6bc99a9d4f9c86bb24c6fb2cf811",
       "version_major": 2,
       "version_minor": 0
      },
      "text/plain": [
       "Validation: |          | 0/? [00:00<?, ?it/s]"
      ]
     },
     "metadata": {},
     "output_type": "display_data"
    },
    {
     "data": {
      "application/vnd.jupyter.widget-view+json": {
       "model_id": "a033023f98944422bca304d87fe61979",
       "version_major": 2,
       "version_minor": 0
      },
      "text/plain": [
       "Validation: |          | 0/? [00:00<?, ?it/s]"
      ]
     },
     "metadata": {},
     "output_type": "display_data"
    },
    {
     "data": {
      "application/vnd.jupyter.widget-view+json": {
       "model_id": "7ad76033a9d6494d9babc59eed04ece2",
       "version_major": 2,
       "version_minor": 0
      },
      "text/plain": [
       "Validation: |          | 0/? [00:00<?, ?it/s]"
      ]
     },
     "metadata": {},
     "output_type": "display_data"
    },
    {
     "data": {
      "application/vnd.jupyter.widget-view+json": {
       "model_id": "08187d5bc67a41f9addc7b5035eafa44",
       "version_major": 2,
       "version_minor": 0
      },
      "text/plain": [
       "Validation: |          | 0/? [00:00<?, ?it/s]"
      ]
     },
     "metadata": {},
     "output_type": "display_data"
    },
    {
     "data": {
      "application/vnd.jupyter.widget-view+json": {
       "model_id": "436ff52aa3d1410fab69087391e4264b",
       "version_major": 2,
       "version_minor": 0
      },
      "text/plain": [
       "Validation: |          | 0/? [00:00<?, ?it/s]"
      ]
     },
     "metadata": {},
     "output_type": "display_data"
    },
    {
     "name": "stderr",
     "output_type": "stream",
     "text": [
      "`Trainer.fit` stopped: `max_epochs=50` reached.\n"
     ]
    }
   ],
   "source": [
    "trainer.fit(model, dm)"
   ]
  },
  {
   "cell_type": "code",
   "execution_count": 45,
   "metadata": {},
   "outputs": [
    {
     "name": "stderr",
     "output_type": "stream",
     "text": [
      "LOCAL_RANK: 0 - CUDA_VISIBLE_DEVICES: [0]\n"
     ]
    },
    {
     "name": "stdout",
     "output_type": "stream",
     "text": [
      "Caching Enabled - Dataset Already Cached\n"
     ]
    },
    {
     "name": "stderr",
     "output_type": "stream",
     "text": [
      "/home/mastoeck/Projects/PrismAI/PrismAI/.venv/lib/python3.12/site-packages/pytorch_lightning/trainer/connectors/data_connector.py:425: The 'val_dataloader' does not have many workers which may be a bottleneck. Consider increasing the value of the `num_workers` argument` to `num_workers=11` in the `DataLoader` to improve performance.\n"
     ]
    },
    {
     "data": {
      "application/vnd.jupyter.widget-view+json": {
       "model_id": "5a1861994538470dad27bc877ced7398",
       "version_major": 2,
       "version_minor": 0
      },
      "text/plain": [
       "Validation: |          | 0/? [00:00<?, ?it/s]"
      ]
     },
     "metadata": {},
     "output_type": "display_data"
    },
    {
     "data": {
      "text/html": [
       "<pre style=\"white-space:pre;overflow-x:auto;line-height:normal;font-family:Menlo,'DejaVu Sans Mono',consolas,'Courier New',monospace\">┏━━━━━━━━━━━━━━━━━━━━━━━━━━━┳━━━━━━━━━━━━━━━━━━━━━━━━━━━┓\n",
       "┃<span style=\"font-weight: bold\">      Validate metric      </span>┃<span style=\"font-weight: bold\">       DataLoader 0        </span>┃\n",
       "┡━━━━━━━━━━━━━━━━━━━━━━━━━━━╇━━━━━━━━━━━━━━━━━━━━━━━━━━━┩\n",
       "│<span style=\"color: #008080; text-decoration-color: #008080\">            acc            </span>│<span style=\"color: #800080; text-decoration-color: #800080\">    0.9163636565208435     </span>│\n",
       "│<span style=\"color: #008080; text-decoration-color: #008080\">            f1             </span>│<span style=\"color: #800080; text-decoration-color: #800080\">    0.9163636565208435     </span>│\n",
       "│<span style=\"color: #008080; text-decoration-color: #008080\">         precision         </span>│<span style=\"color: #800080; text-decoration-color: #800080\">    0.9163636565208435     </span>│\n",
       "│<span style=\"color: #008080; text-decoration-color: #008080\">          recall           </span>│<span style=\"color: #800080; text-decoration-color: #800080\">    0.9163636565208435     </span>│\n",
       "│<span style=\"color: #008080; text-decoration-color: #008080\">         val_loss          </span>│<span style=\"color: #800080; text-decoration-color: #800080\">    0.2443206012248993     </span>│\n",
       "└───────────────────────────┴───────────────────────────┘\n",
       "</pre>\n"
      ],
      "text/plain": [
       "┏━━━━━━━━━━━━━━━━━━━━━━━━━━━┳━━━━━━━━━━━━━━━━━━━━━━━━━━━┓\n",
       "┃\u001b[1m \u001b[0m\u001b[1m     Validate metric     \u001b[0m\u001b[1m \u001b[0m┃\u001b[1m \u001b[0m\u001b[1m      DataLoader 0       \u001b[0m\u001b[1m \u001b[0m┃\n",
       "┡━━━━━━━━━━━━━━━━━━━━━━━━━━━╇━━━━━━━━━━━━━━━━━━━━━━━━━━━┩\n",
       "│\u001b[36m \u001b[0m\u001b[36m           acc           \u001b[0m\u001b[36m \u001b[0m│\u001b[35m \u001b[0m\u001b[35m   0.9163636565208435    \u001b[0m\u001b[35m \u001b[0m│\n",
       "│\u001b[36m \u001b[0m\u001b[36m           f1            \u001b[0m\u001b[36m \u001b[0m│\u001b[35m \u001b[0m\u001b[35m   0.9163636565208435    \u001b[0m\u001b[35m \u001b[0m│\n",
       "│\u001b[36m \u001b[0m\u001b[36m        precision        \u001b[0m\u001b[36m \u001b[0m│\u001b[35m \u001b[0m\u001b[35m   0.9163636565208435    \u001b[0m\u001b[35m \u001b[0m│\n",
       "│\u001b[36m \u001b[0m\u001b[36m         recall          \u001b[0m\u001b[36m \u001b[0m│\u001b[35m \u001b[0m\u001b[35m   0.9163636565208435    \u001b[0m\u001b[35m \u001b[0m│\n",
       "│\u001b[36m \u001b[0m\u001b[36m        val_loss         \u001b[0m\u001b[36m \u001b[0m│\u001b[35m \u001b[0m\u001b[35m   0.2443206012248993    \u001b[0m\u001b[35m \u001b[0m│\n",
       "└───────────────────────────┴───────────────────────────┘\n"
      ]
     },
     "metadata": {},
     "output_type": "display_data"
    },
    {
     "data": {
      "text/plain": [
       "{'val_loss': 0.2443206012248993,\n",
       " 'acc': 0.9163636565208435,\n",
       " 'precision': 0.9163636565208435,\n",
       " 'recall': 0.9163636565208435,\n",
       " 'f1': 0.9163636565208435}"
      ]
     },
     "execution_count": 45,
     "metadata": {},
     "output_type": "execute_result"
    }
   ],
   "source": [
    "metrics, = trainer.validate(model, dataloaders=[dm.val_dataloader()])\n",
    "metrics"
   ]
  }
 ],
 "metadata": {
  "kernelspec": {
   "display_name": ".venv",
   "language": "python",
   "name": "python3"
  },
  "language_info": {
   "codemirror_mode": {
    "name": "ipython",
    "version": 3
   },
   "file_extension": ".py",
   "mimetype": "text/x-python",
   "name": "python",
   "nbconvert_exporter": "python",
   "pygments_lexer": "ipython3",
   "version": "3.12.7"
  }
 },
 "nbformat": 4,
 "nbformat_minor": 2
}
