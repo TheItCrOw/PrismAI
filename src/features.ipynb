{
 "cells": [
  {
   "cell_type": "code",
   "execution_count": 1,
   "metadata": {},
   "outputs": [],
   "source": [
    "import os\n",
    "\n",
    "import pymongo\n",
    "from dotenv import load_dotenv\n",
    "from pymongo import MongoClient\n",
    "from tqdm import tqdm\n",
    "\n",
    "load_dotenv(\"../env\")\n",
    "client = MongoClient(os.environ.get(\"MONGO_DB_CONNECTION\"))\n",
    "db = client.get_database(\"prismai\")"
   ]
  },
  {
   "cell_type": "code",
   "execution_count": 2,
   "metadata": {},
   "outputs": [],
   "source": [
    "# collected_items = db.get_collection(\"collected_items\")\n",
    "collection_transition_scores = db.get_collection(\"test_swt\")"
   ]
  },
  {
   "cell_type": "code",
   "execution_count": 3,
   "metadata": {},
   "outputs": [],
   "source": [
    "# arxiv_papers = {doc[\"_id\"] for doc in collected_items.find({\"domain\": \"arxiv_papers\"}, projection=[\"_id\"])}\n",
    "# ids = (doc[\"refs\"][\"_ref_id\"][\"$id\"] for doc in transition_scores.find(projection={\"refs._ref_id.$id\"}))#\n",
    "# arxiv_ids = {_id for _id in ids if _id in arxiv_papers}\n",
    "\n",
    "# print(len(arxiv_ids))\n",
    "\n",
    "# for _id in tqdm(arxiv_ids):\n",
    "#     collected_items.delete_one({\"_id\": _id})\n",
    "#     transition_scores.delete_many({\"refs._ref_id.$id\": _id})"
   ]
  },
  {
   "cell_type": "code",
   "execution_count": 4,
   "metadata": {},
   "outputs": [
    {
     "data": {
      "text/plain": [
       "32"
      ]
     },
     "execution_count": 4,
     "metadata": {},
     "output_type": "execute_result"
    }
   ],
   "source": [
    "from simple_dataset import Dataset\n",
    "from transition_scores.data import FeaturesDict, TransitionScores\n",
    "\n",
    "dataset = Dataset(\n",
    "    FeaturesDict.new(**document) for document in collection_transition_scores.find()\n",
    ")\n",
    "len(dataset)"
   ]
  },
  {
   "cell_type": "code",
   "execution_count": 5,
   "metadata": {},
   "outputs": [
    {
     "data": {
      "text/plain": [
       "transition_scores.data.TransitionScores"
      ]
     },
     "execution_count": 5,
     "metadata": {},
     "output_type": "execute_result"
    }
   ],
   "source": [
    "dataset.apply(TransitionScores.merge, \"transition_scores\")\n",
    "type(dataset[0][\"transition_scores\"])"
   ]
  },
  {
   "cell_type": "code",
   "execution_count": 6,
   "metadata": {},
   "outputs": [],
   "source": [
    "from itertools import islice\n",
    "\n",
    "import numpy as np\n",
    "from matplotlib import pyplot as plt"
   ]
  },
  {
   "cell_type": "code",
   "execution_count": 7,
   "metadata": {},
   "outputs": [],
   "source": [
    "def viz2d(features: np.array):\n",
    "    fig = plt.imshow(features, cmap=\"gray\")\n",
    "    fig.axes.set_axis_off()\n",
    "    return fig"
   ]
  },
  {
   "cell_type": "code",
   "execution_count": 64,
   "metadata": {},
   "outputs": [],
   "source": [
    "def fixed_2d_features(\n",
    "    transition_scores: TransitionScores,\n",
    "    w: int,\n",
    "    h: int,\n",
    "    skip: int = 1,\n",
    "    no_overlap: bool = False,\n",
    "    take_first: bool = False,\n",
    "    sort_slices: bool = True,\n",
    "):\n",
    "    if no_overlap:\n",
    "        raise NotImplementedError(\"no_overlap not implemented\")\n",
    "\n",
    "    size = len(transition_scores) - skip - w\n",
    "    if size < w:\n",
    "        raise ValueError(\n",
    "            f\"Sequence is too short: ({len(transition_scores)} - {skip} - {w}) < {w}\"\n",
    "        )\n",
    "\n",
    "    if take_first:\n",
    "        offsets = np.arange(skip, size, w)[:h]\n",
    "        if not sort_slices:\n",
    "            offsets = np.random.permutation(offsets)\n",
    "    else:\n",
    "        offsets = np.random.choice(size, h, replace=False) + skip\n",
    "        if sort_slices:\n",
    "            offsets = np.sort(offsets)\n",
    "\n",
    "    features = np.zeros((h, w))\n",
    "    for i, offset in enumerate(offsets):\n",
    "        features[i] = transition_scores.target_probs[offset : offset + w]\n",
    "\n",
    "    return features"
   ]
  },
  {
   "cell_type": "code",
   "execution_count": 65,
   "metadata": {},
   "outputs": [
    {
     "data": {
      "image/png": "[encoded data removed]",
      "text/plain": [
       "<Figure size 640x480 with 1 Axes>"
      ]
     },
     "metadata": {},
     "output_type": "display_data"
    }
   ],
   "source": [
    "features = fixed_2d_features(dataset[3][\"transition_scores\"], 32, 16, take_first=True)\n",
    "viz2d(features)\n",
    "plt.show()"
   ]
  },
  {
   "cell_type": "code",
   "execution_count": 66,
   "metadata": {},
   "outputs": [],
   "source": [
    "def viz3d(features: np.array):\n",
    "    h, w, d = features.shape\n",
    "    d = int(np.ceil(np.sqrt(d)))\n",
    "    fig, axes = plt.subplots(d, d, figsize=(5, h / w * 5))\n",
    "    for i, ax in enumerate(axes.flat):\n",
    "        if i < features.shape[-1]:\n",
    "            ax.imshow(features[..., i], cmap=\"gray\")\n",
    "        ax.set_axis_off()\n",
    "    return fig"
   ]
  },
  {
   "cell_type": "code",
   "execution_count": 107,
   "metadata": {},
   "outputs": [],
   "source": [
    "from warnings import warn\n",
    "\n",
    "\n",
    "def fixed_3d_features(\n",
    "    transition_scores: TransitionScores,\n",
    "    w: int,\n",
    "    h: int,\n",
    "    d: int,\n",
    "    skip: int = 1,\n",
    "    take_first: bool = False,\n",
    "    no_overlap: bool = False,\n",
    "    remove_target: bool = False,\n",
    "    sort_slices: bool = True,\n",
    "):\n",
    "    if no_overlap:\n",
    "        raise NotImplementedError(\"no_overlap not implemented\")\n",
    "\n",
    "    size = len(transition_scores) - skip - w\n",
    "    if size < w:\n",
    "        raise ValueError(\n",
    "            f\"Sequence is too short: ({len(transition_scores)} - {skip} - {w}) < {w}\"\n",
    "        )\n",
    "    if size < w * h:\n",
    "        warn(\n",
    "            f\"Sequence very short, will produce overlapping offsets: ({len(transition_scores)} - {skip} - {w}) = {size} < {w * h}\"\n",
    "        )\n",
    "    ts = transition_scores[skip:]\n",
    "\n",
    "    if take_first:\n",
    "        offsets = np.arange(0, size, w)[:h]\n",
    "        if not sort_slices:\n",
    "            offsets = np.random.permutation(offsets)\n",
    "    else:\n",
    "        offsets = np.random.choice(size, h, replace=False) + skip\n",
    "        if sort_slices:\n",
    "            offsets = np.sort(offsets)\n",
    "\n",
    "    top_k_probs = [\n",
    "        list(\n",
    "            islice(\n",
    "                (\n",
    "                    prob\n",
    "                    for top_id, prob in zip(top_ids, top_probs)\n",
    "                    if remove_target or top_id != tgt_id\n",
    "                ),\n",
    "                d - 1,\n",
    "            )\n",
    "        )\n",
    "        for tgt_id, top_ids, top_probs in zip(\n",
    "            ts.target_ids,\n",
    "            ts.top_k_indices,\n",
    "            ts.top_k_probs,\n",
    "        )\n",
    "    ]\n",
    "    top_k_probs = np.array(top_k_probs)\n",
    "\n",
    "    features = np.empty((h, w, d))\n",
    "    for i, offset in enumerate(offsets):\n",
    "        features[i, :, 0] = ts.target_probs[offset : offset + w]\n",
    "        features[i, :, 1:] = top_k_probs[offset : offset + w][:, ::-1]\n",
    "    return features\n"
   ]
  },
  {
   "cell_type": "code",
   "execution_count": 108,
   "metadata": {},
   "outputs": [
    {
     "data": {
      "image/png": "[encoded data removed]",
      "text/plain": [
       "<Figure size 500x250 with 9 Axes>"
      ]
     },
     "metadata": {},
     "output_type": "display_data"
    }
   ],
   "source": [
    "features = fixed_3d_features(dataset[3][\"transition_scores\"], 32, 16, 9, take_first=True)\n",
    "viz3d(features)\n",
    "plt.show()"
   ]
  },
  {
   "cell_type": "code",
   "execution_count": 109,
   "metadata": {},
   "outputs": [
    {
     "data": {
      "image/png": "[encoded data removed]",
      "text/plain": [
       "<Figure size 500x250 with 9 Axes>"
      ]
     },
     "metadata": {},
     "output_type": "display_data"
    }
   ],
   "source": [
    "features = fixed_3d_features(dataset[-1][\"transition_scores\"], 32, 16, 9, take_first=True)\n",
    "viz3d(features)\n",
    "plt.show()"
   ]
  },
  {
   "cell_type": "code",
   "execution_count": 110,
   "metadata": {},
   "outputs": [
    {
     "data": {
      "image/png": "[encoded data removed]",
      "text/plain": [
       "<Figure size 500x500 with 4 Axes>"
      ]
     },
     "metadata": {},
     "output_type": "display_data"
    }
   ],
   "source": [
    "seq_len = 1024\n",
    "vocab_size = 128\n",
    "top_k = 10\n",
    "ts = TransitionScores(\n",
    "    list(range(seq_len)),\n",
    "    (np.arange(seq_len)/seq_len).tolist(),\n",
    "    [np.random.choice(vocab_size, top_k, replace=False) for _ in range(seq_len)],\n",
    "    [list(sorted(np.random.rand(top_k).tolist())) for _ in range(seq_len)],\n",
    ")\n",
    "features = fixed_3d_features(ts, 16, 16, 4, take_first=True)\n",
    "viz3d(features)\n",
    "plt.show()"
   ]
  }
 ],
 "metadata": {
  "kernelspec": {
   "display_name": ".venv",
   "language": "python",
   "name": "python3"
  },
  "language_info": {
   "codemirror_mode": {
    "name": "ipython",
    "version": 3
   },
   "file_extension": ".py",
   "mimetype": "text/x-python",
   "name": "python",
   "nbconvert_exporter": "python",
   "pygments_lexer": "ipython3",
   "version": "3.12.7"
  }
 },
 "nbformat": 4,
 "nbformat_minor": 2
}
