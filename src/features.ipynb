{
 "cells": [
  {
   "cell_type": "code",
   "execution_count": 1,
   "metadata": {},
   "outputs": [],
   "source": [
    "import os\n",
    "\n",
    "import pymongo\n",
    "from dotenv import load_dotenv\n",
    "from pymongo import MongoClient\n",
    "from tqdm import tqdm\n",
    "\n",
    "load_dotenv(\"../env\")\n",
    "client = MongoClient(os.environ.get(\"MONGO_DB_CONNECTION\"))\n",
    "db = client.get_database(\"prismai\")"
   ]
  },
  {
   "cell_type": "code",
   "execution_count": 2,
   "metadata": {},
   "outputs": [],
   "source": [
    "collection_transition_scores = db.get_collection(\"test_swt\")"
   ]
  },
  {
   "cell_type": "code",
   "execution_count": null,
   "metadata": {},
   "outputs": [],
   "source": [
    "from simple_dataset import Dataset\n",
    "from transition_scores.data import FeaturesDict, TransitionScores\n",
    "\n",
    "dataset = Dataset(\n",
    "    FeaturesDict.new(**document) for document in collection_transition_scores.find()\n",
    ")\n",
    "len(dataset)"
   ]
  },
  {
   "cell_type": "code",
   "execution_count": null,
   "metadata": {},
   "outputs": [],
   "source": [
    "dataset.apply(TransitionScores.merge, \"transition_scores\")\n",
    "type(dataset[0][\"transition_scores\"])"
   ]
  },
  {
   "cell_type": "code",
   "execution_count": 5,
   "metadata": {},
   "outputs": [],
   "source": [
    "grouped_dataset = dataset.map(\n",
    "    lambda doc: {\"doc_id\": doc[\"document\"][\"_id\"]} | doc,\n",
    "    in_place=False,\n",
    ").group_documents_by(\n",
    "    \"doc_id\",\n",
    "    remainder_into=\"documents\",\n",
    "    in_place=True,\n",
    ")"
   ]
  },
  {
   "cell_type": "code",
   "execution_count": null,
   "metadata": {},
   "outputs": [],
   "source": [
    "[len(group[\"documents\"]) for group in grouped_dataset]"
   ]
  },
  {
   "cell_type": "code",
   "execution_count": 3,
   "metadata": {},
   "outputs": [],
   "source": [
    "from itertools import islice\n",
    "\n",
    "import numpy as np\n",
    "from matplotlib import pyplot as plt"
   ]
  },
  {
   "cell_type": "code",
   "execution_count": 6,
   "metadata": {},
   "outputs": [],
   "source": [
    "def get_oracle_ts(\n",
    "    seq_len=1024,\n",
    "    vocab_size=128,\n",
    "    top_k=10,\n",
    ") -> TransitionScores:\n",
    "    target_ids = np.random.choice(vocab_size, seq_len, replace=True).tolist()\n",
    "    target_probs = (np.arange(seq_len) / seq_len).tolist()\n",
    "    target_ranks = np.random.choice(vocab_size, seq_len, replace=True).tolist()\n",
    "    top_k_ids = [\n",
    "        np.random.choice(vocab_size, top_k, replace=False) for _ in range(seq_len)\n",
    "    ]\n",
    "    top_k_probs = [\n",
    "        list(sorted((np.random.rand(top_k) / 10).tolist(), reverse=True))\n",
    "        for _ in range(seq_len)\n",
    "    ]\n",
    "    return TransitionScores(\n",
    "        target_ids,\n",
    "        target_probs,\n",
    "        target_ranks,\n",
    "        top_k_ids,\n",
    "        top_k_probs,\n",
    "    )"
   ]
  },
  {
   "cell_type": "code",
   "execution_count": 259,
   "metadata": {},
   "outputs": [],
   "source": [
    "def viz2d(features: np.array, vmin=None, vmax=None):\n",
    "    fig = plt.imshow(features, cmap=\"gray\", vmin=vmin, vmax=vmax)\n",
    "    fig.axes.set_axis_off()\n",
    "    return fig"
   ]
  },
  {
   "cell_type": "code",
   "execution_count": 8,
   "metadata": {},
   "outputs": [],
   "source": [
    "def features_2d_likelihood(\n",
    "    transition_scores: TransitionScores,\n",
    "    w: int,\n",
    "    h: int,\n",
    "    skip: int = 1,\n",
    "    no_overlap: bool = False,\n",
    "    take_first: bool = False,\n",
    "    sort_slices: bool = True,\n",
    "):\n",
    "    if no_overlap:\n",
    "        raise NotImplementedError(\"no_overlap not implemented\")\n",
    "\n",
    "    size = len(transition_scores) - skip - w\n",
    "    if size < w:\n",
    "        raise ValueError(\n",
    "            f\"Sequence is too short: ({len(transition_scores)} - {skip} - {w}) < {w}\"\n",
    "        )\n",
    "\n",
    "    if take_first:\n",
    "        offsets = np.arange(skip, size, w)[:h]\n",
    "        if not sort_slices:\n",
    "            offsets = np.random.permutation(offsets)\n",
    "    else:\n",
    "        offsets = np.random.choice(size, h, replace=False) + skip\n",
    "        if sort_slices:\n",
    "            offsets = np.sort(offsets)\n",
    "\n",
    "    features = np.zeros((h, w))\n",
    "    for i, offset in enumerate(offsets):\n",
    "        features[i] = transition_scores.target_probs[offset : offset + w]\n",
    "\n",
    "    return features"
   ]
  },
  {
   "cell_type": "code",
   "execution_count": null,
   "metadata": {},
   "outputs": [],
   "source": [
    "features = features_2d_likelihood(dataset[3][\"transition_scores\"], 32, 16, take_first=True)\n",
    "viz2d(features)\n",
    "plt.show()\n",
    "\n",
    "features = features_2d_likelihood(dataset[-1][\"transition_scores\"], 32, 16, take_first=True)\n",
    "viz2d(features)\n",
    "plt.show()"
   ]
  },
  {
   "cell_type": "code",
   "execution_count": 10,
   "metadata": {},
   "outputs": [],
   "source": [
    "def viz3d(features: np.array, vmin=None, vmax=None):\n",
    "    vmin = vmin or features.min()\n",
    "    vmax = vmax or features.max()\n",
    "\n",
    "    h, w, d = features.shape\n",
    "    d = int(np.ceil(np.sqrt(d)))\n",
    "    fig, axes = plt.subplots(d, d, figsize=(5, h / w * 5))\n",
    "    for i, ax in enumerate(axes.flat):\n",
    "        if i < features.shape[-1]:\n",
    "            ax.imshow(features[..., i], cmap=\"gray\", vmin=vmin, vmax=vmax)\n",
    "        ax.set_axis_off()\n",
    "    return fig"
   ]
  },
  {
   "cell_type": "code",
   "execution_count": 11,
   "metadata": {},
   "outputs": [],
   "source": [
    "from warnings import warn\n",
    "\n",
    "\n",
    "def features_3d_liklihood_topk_stack(\n",
    "    transition_scores: TransitionScores,\n",
    "    w: int,\n",
    "    h: int,\n",
    "    d: int,\n",
    "    skip: int = 1,\n",
    "    take_first: bool = False,\n",
    "    no_overlap: bool = False,\n",
    "    remove_target: bool = True,\n",
    "    sort_slices: bool = True,\n",
    "    log: bool = False,\n",
    "):\n",
    "    if no_overlap:\n",
    "        raise NotImplementedError(\"no_overlap not implemented\")\n",
    "\n",
    "    size = len(transition_scores) - skip - w\n",
    "    if size < w:\n",
    "        raise ValueError(\n",
    "            f\"Sequence is too short: ({len(transition_scores)} - {skip} - {w}) < {w}\"\n",
    "        )\n",
    "    if size < w * h:\n",
    "        warn(\n",
    "            f\"Sequence very short, will produce overlapping offsets: ({len(transition_scores)} - {skip} - {w}) = {size} < {w * h}\"\n",
    "        )\n",
    "    ts = transition_scores[skip:]\n",
    "\n",
    "    if take_first:\n",
    "        offsets = np.arange(0, size, w)[:h]\n",
    "        if not sort_slices:\n",
    "            offsets = np.random.permutation(offsets)\n",
    "    else:\n",
    "        offsets = np.random.choice(size, h, replace=False) + skip\n",
    "        if sort_slices:\n",
    "            offsets = np.sort(offsets)\n",
    "\n",
    "    top_k_probs = [\n",
    "        list(\n",
    "            islice(\n",
    "                (\n",
    "                    prob\n",
    "                    for top_id, prob in zip(top_ids, top_probs)\n",
    "                    if not remove_target or top_id != tgt_id\n",
    "                ),\n",
    "                d - 1,\n",
    "            )\n",
    "        )\n",
    "        for tgt_id, top_ids, top_probs in zip(\n",
    "            ts.target_ids,\n",
    "            ts.top_k_indices,\n",
    "            ts.top_k_probs,\n",
    "        )\n",
    "    ]\n",
    "    top_k_probs = np.array(top_k_probs)\n",
    "\n",
    "    features = np.empty((h, w, d))\n",
    "    for i, offset in enumerate(offsets):\n",
    "        features[i, :, 0] = ts.target_probs[offset : offset + w]\n",
    "        features[i, :, 1:] = top_k_probs[offset : offset + w]  # [:, ::-1]\n",
    "    if log:\n",
    "        features = np.log1p(features)\n",
    "    return features\n"
   ]
  },
  {
   "cell_type": "code",
   "execution_count": null,
   "metadata": {},
   "outputs": [],
   "source": [
    "ts = get_oracle_ts()\n",
    "features = features_3d_liklihood_topk_stack(ts, 16, 16, 4, take_first=True)\n",
    "viz3d(features)\n",
    "plt.show()"
   ]
  },
  {
   "cell_type": "code",
   "execution_count": null,
   "metadata": {},
   "outputs": [],
   "source": [
    "features = features_3d_liklihood_topk_stack(\n",
    "    dataset[3][\"transition_scores\"], 32, 16, 9, take_first=True,\n",
    "    log=\"log_ratio\"\n",
    ")\n",
    "viz3d(features)\n",
    "plt.show()\n",
    "\n",
    "mn, mx = features.min(), features.max()\n",
    "\n",
    "features = features_3d_liklihood_topk_stack(\n",
    "    dataset[-1][\"transition_scores\"], 32, 16, 9, take_first=True,\n",
    "    log=\"log_ratio\"\n",
    ")\n",
    "viz3d(features, vmin=mn, vmax=mx)\n",
    "plt.show()"
   ]
  },
  {
   "cell_type": "code",
   "execution_count": 17,
   "metadata": {},
   "outputs": [],
   "source": [
    "from typing import Literal\n",
    "\n",
    "\n",
    "def features_3d_likelihood_top_k_ratio(\n",
    "    transition_scores: TransitionScores,\n",
    "    w: int,\n",
    "    h: int,\n",
    "    d: int,\n",
    "    skip: int = 1,\n",
    "    take_first: bool = False,\n",
    "    no_overlap: bool = False,\n",
    "    sort_slices: bool = True,\n",
    "    log: None | Literal[\"log_ratio\", \"ratio_of_logs\"] = None,\n",
    "):\n",
    "    if no_overlap:\n",
    "        raise NotImplementedError(\"no_overlap not implemented\")\n",
    "\n",
    "    size = len(transition_scores) - skip - w\n",
    "    if size < w:\n",
    "        raise ValueError(\n",
    "            f\"Sequence is too short: ({len(transition_scores)} - {skip} - {w}) < {w}\"\n",
    "        )\n",
    "    if size < w * h:\n",
    "        warn(\n",
    "            f\"Sequence very short, will produce overlapping offsets: ({len(transition_scores)} - {skip} - {w}) = {size} < {w * h}\"\n",
    "        )\n",
    "    ts = transition_scores[skip:]\n",
    "\n",
    "    if take_first:\n",
    "        offsets = np.arange(0, size, w)[:h]\n",
    "        if not sort_slices:\n",
    "            offsets = np.random.permutation(offsets)\n",
    "    else:\n",
    "        offsets = np.random.choice(size, h, replace=False) + skip\n",
    "        if sort_slices:\n",
    "            offsets = np.sort(offsets)\n",
    "\n",
    "    top_k_probs = [\n",
    "        list(\n",
    "            islice(\n",
    "                (prob for top_id, prob in zip(top_ids, top_probs) if top_id != tgt_id),\n",
    "                d,\n",
    "            )\n",
    "        )\n",
    "        for tgt_id, top_ids, top_probs in zip(\n",
    "            ts.target_ids,\n",
    "            ts.top_k_indices,\n",
    "            ts.top_k_probs,\n",
    "        )\n",
    "    ]\n",
    "    top_k_probs = np.array(top_k_probs)\n",
    "    target_probs = np.array(ts.target_probs).reshape(-1, 1)\n",
    "\n",
    "    if log == \"ratio_of_logs\":\n",
    "        top_k_probs = np.log(top_k_probs)\n",
    "        target_probs = np.log(target_probs)\n",
    "\n",
    "    features = np.empty((h, w, d))\n",
    "    for i, offset in enumerate(offsets):\n",
    "        features[i, :, :] = np.true_divide(\n",
    "            target_probs[offset : offset + w],\n",
    "            top_k_probs[offset : offset + w],\n",
    "        )\n",
    "        if log == \"log_ratio\":\n",
    "            features[i, :, :] = np.log(features[i, :, :])\n",
    "\n",
    "    return features\n"
   ]
  },
  {
   "cell_type": "code",
   "execution_count": null,
   "metadata": {},
   "outputs": [],
   "source": [
    "human = features_3d_likelihood_top_k_ratio(\n",
    "    dataset[3][\"transition_scores\"],\n",
    "    32,\n",
    "    16,\n",
    "    9,\n",
    "    take_first=True,\n",
    "    # log=\"log_ratio\",\n",
    ")\n",
    "viz3d(human)\n",
    "plt.show()\n",
    "\n",
    "ai = features_3d_likelihood_top_k_ratio(\n",
    "    dataset[-1][\"transition_scores\"],\n",
    "    32,\n",
    "    16,\n",
    "    9,\n",
    "    take_first=True,\n",
    "    # log=\"log_ratio\",\n",
    ")\n",
    "viz3d(ai, vmin=human.min(), vmax=human.max())\n",
    "plt.show()"
   ]
  },
  {
   "cell_type": "code",
   "execution_count": null,
   "metadata": {},
   "outputs": [],
   "source": [
    "viz2d(human.reshape(-1, 9).T)\n",
    "plt.show()\n",
    "\n",
    "viz2d(ai.reshape(-1, 9).T, vmin=human.min(), vmax=human.max())\n",
    "plt.show()"
   ]
  },
  {
   "cell_type": "code",
   "execution_count": null,
   "metadata": {},
   "outputs": [],
   "source": [
    "features = features_3d_likelihood_top_k_ratio(ts, 32, 16, 9, take_first=True)\n",
    "viz3d(features)\n",
    "plt.show()"
   ]
  },
  {
   "cell_type": "code",
   "execution_count": null,
   "metadata": {},
   "outputs": [],
   "source": [
    "features_3d_likelihood_top_k_ratio(\n",
    "    dataset[3][\"transition_scores\"], 32, 16, 9, take_first=True\n",
    ").sum()"
   ]
  },
  {
   "cell_type": "code",
   "execution_count": null,
   "metadata": {},
   "outputs": [],
   "source": [
    "features_3d_likelihood_top_k_ratio(\n",
    "    dataset[-1][\"transition_scores\"], 32, 16, 9, take_first=True\n",
    ").sum()"
   ]
  },
  {
   "cell_type": "code",
   "execution_count": 251,
   "metadata": {},
   "outputs": [],
   "source": [
    "def features_2d_log_likelihood_log_rank_ratio(\n",
    "    transition_scores: TransitionScores,\n",
    "    w: int,\n",
    "    h: int,\n",
    "    skip: int = 1,\n",
    "    take_first: bool = False,\n",
    "    no_overlap: bool = False,\n",
    "    sort_slices: bool = True,\n",
    "    epsilon=1e-8,\n",
    "):\n",
    "    if no_overlap:\n",
    "        raise NotImplementedError(\"no_overlap not implemented\")\n",
    "\n",
    "    size = len(transition_scores) - skip - w\n",
    "    if size < w:\n",
    "        raise ValueError(\n",
    "            f\"Sequence is too short: ({len(transition_scores)} - {skip} - {w}) < {w}\"\n",
    "        )\n",
    "\n",
    "    if take_first:\n",
    "        offsets = np.arange(skip, size, w)[:h]\n",
    "        if not sort_slices:\n",
    "            offsets = np.random.permutation(offsets)\n",
    "    else:\n",
    "        offsets = np.random.choice(size, h, replace=False) + skip\n",
    "        if sort_slices:\n",
    "            offsets = np.sort(offsets)\n",
    "\n",
    "    features = np.zeros((h, w))\n",
    "    target_probs = np.array(transition_scores.target_probs)\n",
    "    target_ranks = np.array(transition_scores.target_ranks)\n",
    "    for i, offset in enumerate(offsets):\n",
    "        features[i] = -np.true_divide(\n",
    "            # probs are generally small but never zero, so log(x) is safe\n",
    "            np.log(target_probs[offset : offset + w]),\n",
    "            # ranks, however, are 0-indexed, so we use log1p to avoid log(0)\n",
    "            # and add epsilon to avoid division by zero\n",
    "            np.log1p(target_ranks[offset : offset + w]) + epsilon,\n",
    "        )\n",
    "\n",
    "    return features\n"
   ]
  },
  {
   "cell_type": "code",
   "execution_count": null,
   "metadata": {},
   "outputs": [],
   "source": [
    "human = features_2d_log_likelihood_log_rank_ratio(\n",
    "    dataset[2][\"transition_scores\"], 32, 16, take_first=False\n",
    ")\n",
    "viz2d(human)\n",
    "plt.show()\n",
    "\n",
    "ai = features_2d_log_likelihood_log_rank_ratio(\n",
    "    dataset[-1][\"transition_scores\"], 32, 16, take_first=False\n",
    ")\n",
    "viz2d(ai, vmin=human.min(), vmax=human.max())\n",
    "plt.show()"
   ]
  },
  {
   "cell_type": "code",
   "execution_count": 291,
   "metadata": {},
   "outputs": [],
   "source": [
    "def viz_line(features: np.array, vmin=None, vmax=None):\n",
    "    fig, ax = plt.subplots(figsize=(5, 5))\n",
    "    ax.set_axis_off()\n",
    "    ax.imshow(\n",
    "        features.flatten().reshape(-1, 1).repeat(32, 1).T,\n",
    "        cmap=\"gray\",\n",
    "        vmin=vmin,\n",
    "        vmax=vmax,\n",
    "    )\n",
    "    return fig"
   ]
  },
  {
   "cell_type": "code",
   "execution_count": null,
   "metadata": {},
   "outputs": [],
   "source": [
    "human = features_2d_log_likelihood_log_rank_ratio(\n",
    "    dataset[2][\"transition_scores\"],\n",
    "    32,\n",
    "    16,\n",
    "    take_first=False,\n",
    "    sort_slices=False,\n",
    ")\n",
    "viz_line(human)\n",
    "plt.show()\n",
    "\n",
    "ai = features_2d_log_likelihood_log_rank_ratio(\n",
    "    dataset[-1][\"transition_scores\"],\n",
    "    32,\n",
    "    16,\n",
    "    take_first=False,\n",
    "    sort_slices=False,\n",
    ")\n",
    "viz_line(ai, vmin=human.min(), vmax=human.max())\n",
    "plt.show()"
   ]
  },
  {
   "cell_type": "code",
   "execution_count": 293,
   "metadata": {},
   "outputs": [],
   "source": [
    "import numpy as np\n",
    "\n",
    "\n",
    "def log_likelihood_log_rank_ratio(\n",
    "    target_probs: np.array,\n",
    "    target_ranks: np.array,\n",
    "    epsilon: float = 1e-8,\n",
    ") -> np.array:\n",
    "    \"\"\"Compute the log-likelihood log-rank ratio.\n",
    "\n",
    "    Args:\n",
    "        target_probs (np.array): Target token probabilities.\n",
    "        target_ranks (np.array): Zero-indexed target token ranks.\n",
    "\n",
    "    Returns:\n",
    "        np.array: array of the same shape as target_probs and target_ranks.\n",
    "    \"\"\"\n",
    "    return -np.true_divide(\n",
    "        # probs are generally small but never zero, so log(x) is safe\n",
    "        np.log(target_probs),\n",
    "        # ranks, however, are 0-indexed, so we use log1p to avoid log(0)\n",
    "        # and add epsilon to avoid division by zero\n",
    "        np.log1p(target_ranks) + epsilon,\n",
    "    )"
   ]
  },
  {
   "cell_type": "code",
   "execution_count": null,
   "metadata": {},
   "outputs": [],
   "source": [
    "ts = dataset[2][\"transition_scores\"]\n",
    "l = len(ts.target_probs) - 256\n",
    "o = np.random.randint(1, l)\n",
    "o = 1\n",
    "human = log_likelihood_log_rank_ratio(\n",
    "    ts.target_probs[o : o + 256],\n",
    "    ts.target_ranks[o : o + 256],\n",
    ")\n",
    "viz_line(human)\n",
    "plt.show()\n",
    "\n",
    "ts = dataset[-1][\"transition_scores\"]\n",
    "l = len(ts.target_probs) - 256\n",
    "o = np.random.randint(1, l)\n",
    "o = 1\n",
    "ai = log_likelihood_log_rank_ratio(\n",
    "    ts.target_probs[o : o + 256],\n",
    "    ts.target_ranks[o : o + 256],\n",
    ")\n",
    "viz_line(ai, vmin=human.min(), vmax=human.max())\n",
    "plt.show()"
   ]
  },
  {
   "cell_type": "code",
   "execution_count": 23,
   "metadata": {},
   "outputs": [],
   "source": [
    "import torch\n",
    "from transformers import AutoModelForCausalLM, AutoTokenizer\n",
    "\n",
    "model = AutoModelForCausalLM.from_pretrained(\"gpt2\")\n",
    "tokenizer = AutoTokenizer.from_pretrained(\"gpt2\")\n",
    "output_embeddings = model.get_output_embeddings() or model.get_input_embeddings()"
   ]
  },
  {
   "cell_type": "code",
   "execution_count": 24,
   "metadata": {},
   "outputs": [],
   "source": [
    "outputs = model(\n",
    "    **tokenizer(\"Hello World!\", return_tensors=\"pt\"),\n",
    "    output_hidden_states=True,\n",
    ")"
   ]
  },
  {
   "cell_type": "code",
   "execution_count": 25,
   "metadata": {},
   "outputs": [
    {
     "data": {
      "text/plain": [
       "torch.Size([13, 3, 768])"
      ]
     },
     "execution_count": 25,
     "metadata": {},
     "output_type": "execute_result"
    }
   ],
   "source": [
    "hs = torch.cat(outputs.hidden_states, dim=0)\n",
    "hs.shape"
   ]
  },
  {
   "cell_type": "code",
   "execution_count": 26,
   "metadata": {},
   "outputs": [
    {
     "data": {
      "text/plain": [
       "torch.Size([13, 3, 50257])"
      ]
     },
     "execution_count": 26,
     "metadata": {},
     "output_type": "execute_result"
    }
   ],
   "source": [
    "intermediate_logits = (hs@output_embeddings.weight.T)\n",
    "intermediate_logits.shape"
   ]
  },
  {
   "cell_type": "code",
   "execution_count": 27,
   "metadata": {},
   "outputs": [
    {
     "data": {
      "text/plain": [
       "True"
      ]
     },
     "execution_count": 27,
     "metadata": {},
     "output_type": "execute_result"
    }
   ],
   "source": [
    "torch.allclose(intermediate_logits[-1:], outputs.logits)"
   ]
  }
 ],
 "metadata": {
  "kernelspec": {
   "display_name": ".venv",
   "language": "python",
   "name": "python3"
  },
  "language_info": {
   "codemirror_mode": {
    "name": "ipython",
    "version": 3
   },
   "file_extension": ".py",
   "mimetype": "text/x-python",
   "name": "python",
   "nbconvert_exporter": "python",
   "pygments_lexer": "ipython3",
   "version": "3.12.7"
  }
 },
 "nbformat": 4,
 "nbformat_minor": 2
}
