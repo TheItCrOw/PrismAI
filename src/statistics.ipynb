{
 "cells": [
  {
   "cell_type": "code",
   "execution_count": 2,
   "metadata": {},
   "outputs": [],
   "source": [
    "from transformers import AutoTokenizer\n",
    "\n",
    "tokenizer = AutoTokenizer.from_pretrained(\"gpt2\")"
   ]
  },
  {
   "cell_type": "code",
   "execution_count": 1,
   "metadata": {},
   "outputs": [],
   "source": [
    "import os\n",
    "\n",
    "import pymongo\n",
    "from dotenv import load_dotenv\n",
    "from pymongo import MongoClient\n",
    "from tqdm import tqdm\n",
    "\n",
    "load_dotenv(\"../env\")\n",
    "client = MongoClient(os.environ.get(\"MONGO_DB_CONNECTION\"))\n",
    "db = client.get_database(\"prismai\")\n",
    "collected_items = db.get_collection(\"collected_items\")\n",
    "synthesized_texts = db.get_collection(\"synthesized_texts\")"
   ]
  },
  {
   "cell_type": "code",
   "execution_count": 3,
   "metadata": {},
   "outputs": [
    {
     "name": "stderr",
     "output_type": "stream",
     "text": [
      "  0%|          | 0/1500 [00:00<?, ?it/s]Token indices sequence length is longer than the specified maximum sequence length for this model (10096 > 1024). Running this sequence through the model will result in indexing errors\n",
      "100%|██████████| 1500/1500 [00:40<00:00, 37.25it/s]\n"
     ]
    },
    {
     "name": "stdout",
     "output_type": "stream",
     "text": [
      "arxiv_papers\n",
      "token_dist\n",
      "[(221856, 1),\n",
      " (217126, 1),\n",
      " (178281, 1),\n",
      " (166378, 1),\n",
      " (146908, 1),\n",
      " (122233, 1),\n",
      " (101665, 1),\n",
      " (98652, 1),\n",
      " (82644, 1),\n",
      " (72937, 1)]\n",
      "\n",
      "word_dist\n",
      "[(139978, 1),\n",
      " (113636, 1),\n",
      " (93948, 1),\n",
      " (86011, 1),\n",
      " (67400, 1),\n",
      " (45572, 1),\n",
      " (43331, 1),\n",
      " (38512, 1),\n",
      " (38150, 1),\n",
      " (36054, 1)]\n"
     ]
    },
    {
     "name": "stderr",
     "output_type": "stream",
     "text": [
      "100%|██████████| 1500/1500 [00:01<00:00, 1451.66it/s]\n"
     ]
    },
    {
     "name": "stdout",
     "output_type": "stream",
     "text": [
      "blog_authorship_corpus\n",
      "token_dist\n",
      "[(1944, 1),\n",
      " (1811, 1),\n",
      " (1567, 1),\n",
      " (1479, 1),\n",
      " (1290, 1),\n",
      " (1272, 1),\n",
      " (1231, 1),\n",
      " (1135, 1),\n",
      " (1108, 1),\n",
      " (1072, 1)]\n",
      "\n",
      "word_dist\n",
      "[(1431, 1),\n",
      " (1212, 1),\n",
      " (1143, 1),\n",
      " (1111, 1),\n",
      " (964, 1),\n",
      " (948, 1),\n",
      " (853, 1),\n",
      " (825, 1),\n",
      " (819, 1),\n",
      " (801, 2)]\n"
     ]
    },
    {
     "name": "stderr",
     "output_type": "stream",
     "text": [
      "100%|██████████| 1500/1500 [00:02<00:00, 514.99it/s]\n"
     ]
    },
    {
     "name": "stdout",
     "output_type": "stream",
     "text": [
      "bundestag\n",
      "token_dist\n",
      "[(18823, 1),\n",
      " (6776, 1),\n",
      " (6149, 1),\n",
      " (5368, 1),\n",
      " (4939, 1),\n",
      " (4811, 1),\n",
      " (4588, 1),\n",
      " (4574, 1),\n",
      " (4501, 1),\n",
      " (4403, 1)]\n",
      "\n",
      "word_dist\n",
      "[(7072, 1),\n",
      " (2594, 1),\n",
      " (2365, 1),\n",
      " (2004, 1),\n",
      " (1951, 1),\n",
      " (1852, 1),\n",
      " (1825, 1),\n",
      " (1714, 1),\n",
      " (1686, 1),\n",
      " (1654, 1)]\n"
     ]
    },
    {
     "name": "stderr",
     "output_type": "stream",
     "text": [
      "100%|██████████| 1500/1500 [00:02<00:00, 535.76it/s]\n"
     ]
    },
    {
     "name": "stdout",
     "output_type": "stream",
     "text": [
      "cnn_news\n",
      "token_dist\n",
      "[(2504, 1),\n",
      " (2438, 1),\n",
      " (2296, 1),\n",
      " (2288, 1),\n",
      " (2262, 1),\n",
      " (2221, 1),\n",
      " (2211, 1),\n",
      " (2203, 1),\n",
      " (2167, 1),\n",
      " (2162, 1)]\n",
      "\n",
      "word_dist\n",
      "[(1835, 1),\n",
      " (1830, 1),\n",
      " (1800, 1),\n",
      " (1773, 1),\n",
      " (1750, 1),\n",
      " (1745, 1),\n",
      " (1735, 1),\n",
      " (1734, 1),\n",
      " (1720, 1),\n",
      " (1701, 1)]\n"
     ]
    },
    {
     "name": "stderr",
     "output_type": "stream",
     "text": [
      "100%|██████████| 1500/1500 [00:06<00:00, 239.61it/s]\n"
     ]
    },
    {
     "name": "stdout",
     "output_type": "stream",
     "text": [
      "euro_court_cases\n",
      "token_dist\n",
      "[(28976, 1),\n",
      " (23653, 1),\n",
      " (18201, 1),\n",
      " (16626, 1),\n",
      " (14964, 1),\n",
      " (14490, 1),\n",
      " (13953, 1),\n",
      " (13652, 1),\n",
      " (13478, 1),\n",
      " (13307, 1)]\n",
      "\n",
      "word_dist\n",
      "[(21799, 1),\n",
      " (17595, 1),\n",
      " (14366, 1),\n",
      " (12950, 1),\n",
      " (11439, 1),\n",
      " (10703, 1),\n",
      " (10334, 1),\n",
      " (10328, 1),\n",
      " (10254, 1),\n",
      " (10158, 1)]\n"
     ]
    },
    {
     "name": "stderr",
     "output_type": "stream",
     "text": [
      "100%|██████████| 1500/1500 [04:14<00:00,  5.90it/s]\n"
     ]
    },
    {
     "name": "stdout",
     "output_type": "stream",
     "text": [
      "gutenberg\n",
      "token_dist\n",
      "[(1285971, 1),\n",
      " (898834, 1),\n",
      " (715979, 1),\n",
      " (646163, 1),\n",
      " (542038, 1),\n",
      " (510828, 1),\n",
      " (508578, 1),\n",
      " (484058, 1),\n",
      " (475326, 1),\n",
      " (471663, 1)]\n",
      "\n",
      "word_dist\n",
      "[(571984, 1),\n",
      " (498393, 1),\n",
      " (489095, 1),\n",
      " (459223, 1),\n",
      " (414031, 1),\n",
      " (345361, 1),\n",
      " (343792, 1),\n",
      " (341143, 1),\n",
      " (325343, 1),\n",
      " (309169, 1)]\n"
     ]
    },
    {
     "name": "stderr",
     "output_type": "stream",
     "text": [
      "100%|██████████| 1500/1500 [00:14<00:00, 105.29it/s]\n"
     ]
    },
    {
     "name": "stdout",
     "output_type": "stream",
     "text": [
      "house_of_commons\n",
      "token_dist\n",
      "[(73579, 1),\n",
      " (64571, 1),\n",
      " (64116, 1),\n",
      " (63235, 1),\n",
      " (62268, 1),\n",
      " (60721, 1),\n",
      " (60648, 1),\n",
      " (60239, 1),\n",
      " (59698, 1),\n",
      " (59472, 1)]\n",
      "\n",
      "word_dist\n",
      "[(62527, 1),\n",
      " (55014, 1),\n",
      " (54194, 1),\n",
      " (53478, 1),\n",
      " (53337, 1),\n",
      " (51941, 1),\n",
      " (51394, 1),\n",
      " (51321, 1),\n",
      " (50566, 1),\n",
      " (50554, 1)]\n"
     ]
    },
    {
     "name": "stderr",
     "output_type": "stream",
     "text": [
      "100%|██████████| 1500/1500 [00:02<00:00, 539.69it/s]\n"
     ]
    },
    {
     "name": "stdout",
     "output_type": "stream",
     "text": [
      "spiegel_articles\n",
      "token_dist\n",
      "[(8785, 1),\n",
      " (6542, 1),\n",
      " (6425, 1),\n",
      " (5513, 1),\n",
      " (4994, 1),\n",
      " (4727, 1),\n",
      " (4725, 1),\n",
      " (4702, 1),\n",
      " (4649, 1),\n",
      " (4550, 1)]\n",
      "\n",
      "word_dist\n",
      "[(3726, 1),\n",
      " (3552, 1),\n",
      " (3441, 1),\n",
      " (3315, 1),\n",
      " (3167, 1),\n",
      " (3122, 1),\n",
      " (2997, 1),\n",
      " (2980, 1),\n",
      " (2422, 1),\n",
      " (2300, 1)]\n"
     ]
    },
    {
     "name": "stderr",
     "output_type": "stream",
     "text": [
      "100%|██████████| 1500/1500 [00:01<00:00, 987.63it/s] "
     ]
    },
    {
     "name": "stdout",
     "output_type": "stream",
     "text": [
      "student_essays\n",
      "token_dist\n",
      "[(14883, 1),\n",
      " (4922, 1),\n",
      " (3989, 1),\n",
      " (2454, 1),\n",
      " (1510, 1),\n",
      " (1327, 1),\n",
      " (1308, 1),\n",
      " (1238, 1),\n",
      " (1228, 2),\n",
      " (1222, 1)]\n",
      "\n",
      "word_dist\n",
      "[(1145, 1),\n",
      " (1101, 1),\n",
      " (1100, 1),\n",
      " (1093, 1),\n",
      " (1073, 1),\n",
      " (1032, 2),\n",
      " (1023, 1),\n",
      " (1022, 1),\n",
      " (1015, 1),\n",
      " (1008, 1)]\n"
     ]
    },
    {
     "name": "stderr",
     "output_type": "stream",
     "text": [
      "\n"
     ]
    }
   ],
   "source": [
    "from collections import Counter\n",
    "from pprint import pprint\n",
    "\n",
    "for domain in (\n",
    "    \"arxiv_papers\",\n",
    "    \"blog_authorship_corpus\",\n",
    "    \"bundestag\",\n",
    "    \"cnn_news\",\n",
    "    \"euro_court_cases\",\n",
    "    \"gutenberg\",\n",
    "    \"house_of_commons\",\n",
    "    \"spiegel_articles\",\n",
    "    \"student_essays\",\n",
    "):\n",
    "    token_dist = Counter()\n",
    "    word_dist = Counter()\n",
    "    for doc in tqdm(\n",
    "        collected_items.find({\"domain\": domain}, projection=[\"text\"], limit=1500),\n",
    "        total=1500,\n",
    "    ):\n",
    "        text = doc[\"text\"]\n",
    "        token_dist.update(tokenizer(text, return_length=True)[\"length\"])\n",
    "        word_dist.update((len(text.split()),))\n",
    "    print(domain)\n",
    "    print(\"token_dist\")\n",
    "    pprint(list(sorted(token_dist.items(), reverse=True))[:10])\n",
    "    print()\n",
    "    print(\"word_dist\")\n",
    "    pprint(list(sorted(word_dist.items(), reverse=True))[:10])\n"
   ]
  },
  {
   "cell_type": "code",
   "execution_count": 3,
   "metadata": {},
   "outputs": [
    {
     "name": "stderr",
     "output_type": "stream",
     "text": [
      "  0%|          | 0/1483 [00:00<?, ?it/s]Token indices sequence length is longer than the specified maximum sequence length for this model (6498 > 1024). Running this sequence through the model will result in indexing errors\n",
      "100%|██████████| 1483/1483 [00:36<00:00, 40.80it/s]\n"
     ]
    },
    {
     "name": "stdout",
     "output_type": "stream",
     "text": [
      "arxiv_papers\n",
      "prefix_lenghts\n",
      "[(216076, 1),\n",
      " (174081, 1),\n",
      " (70398, 1),\n",
      " (57500, 1),\n",
      " (57412, 1),\n",
      " (48843, 1),\n",
      " (41330, 1),\n",
      " (40092, 1),\n",
      " (37898, 1),\n",
      " (37590, 1)]\n",
      "\n",
      "with_infill_lenghts\n",
      "[(217050, 1),\n",
      " (182961, 1),\n",
      " (119821, 1),\n",
      " (72393, 1),\n",
      " (62982, 1),\n",
      " (59614, 1),\n",
      " (49506, 1),\n",
      " (49355, 1),\n",
      " (46118, 1),\n",
      " (42938, 1)]\n"
     ]
    },
    {
     "name": "stderr",
     "output_type": "stream",
     "text": [
      "100%|██████████| 640/640 [00:00<00:00, 1683.84it/s]\n"
     ]
    },
    {
     "name": "stdout",
     "output_type": "stream",
     "text": [
      "blog_authorship_corpus\n",
      "prefix_lenghts\n",
      "[(1404, 1),\n",
      " (1202, 1),\n",
      " (726, 1),\n",
      " (701, 1),\n",
      " (683, 1),\n",
      " (632, 1),\n",
      " (610, 1),\n",
      " (594, 1),\n",
      " (541, 1),\n",
      " (535, 1)]\n",
      "\n",
      "with_infill_lenghts\n",
      "[(1425, 1),\n",
      " (1405, 1),\n",
      " (1032, 1),\n",
      " (958, 1),\n",
      " (815, 1),\n",
      " (746, 1),\n",
      " (714, 1),\n",
      " (704, 1),\n",
      " (688, 1),\n",
      " (682, 1)]\n"
     ]
    },
    {
     "name": "stderr",
     "output_type": "stream",
     "text": [
      "100%|██████████| 1268/1268 [00:03<00:00, 360.12it/s]\n"
     ]
    },
    {
     "name": "stdout",
     "output_type": "stream",
     "text": [
      "bundestag\n",
      "prefix_lenghts\n",
      "[(12216, 1),\n",
      " (4211, 1),\n",
      " (3648, 1),\n",
      " (2936, 1),\n",
      " (2659, 1),\n",
      " (2594, 1),\n",
      " (2211, 1),\n",
      " (2201, 1),\n",
      " (2112, 1),\n",
      " (2074, 1)]\n",
      "\n",
      "with_infill_lenghts\n",
      "[(15752, 1),\n",
      " (6339, 1),\n",
      " (4811, 1),\n",
      " (4612, 1),\n",
      " (4427, 1),\n",
      " (4351, 1),\n",
      " (4097, 1),\n",
      " (4075, 1),\n",
      " (4054, 1),\n",
      " (3797, 1)]\n"
     ]
    },
    {
     "name": "stderr",
     "output_type": "stream",
     "text": [
      "100%|██████████| 957/957 [00:01<00:00, 490.26it/s]\n"
     ]
    },
    {
     "name": "stdout",
     "output_type": "stream",
     "text": [
      "cnn_news\n",
      "prefix_lenghts\n",
      "[(1728, 1),\n",
      " (1699, 1),\n",
      " (1664, 1),\n",
      " (1553, 1),\n",
      " (1543, 1),\n",
      " (1491, 1),\n",
      " (1452, 1),\n",
      " (1450, 1),\n",
      " (1425, 1),\n",
      " (1395, 1)]\n",
      "\n",
      "with_infill_lenghts\n",
      "[(2106, 1),\n",
      " (2071, 1),\n",
      " (2069, 1),\n",
      " (1973, 1),\n",
      " (1898, 1),\n",
      " (1827, 1),\n",
      " (1796, 1),\n",
      " (1775, 1),\n",
      " (1770, 1),\n",
      " (1666, 1)]\n"
     ]
    },
    {
     "name": "stderr",
     "output_type": "stream",
     "text": [
      "100%|██████████| 1495/1495 [00:05<00:00, 272.01it/s]\n"
     ]
    },
    {
     "name": "stdout",
     "output_type": "stream",
     "text": [
      "euro_court_cases\n",
      "prefix_lenghts\n",
      "[(15145, 1),\n",
      " (8605, 1),\n",
      " (8440, 1),\n",
      " (7861, 1),\n",
      " (7798, 1),\n",
      " (7550, 1),\n",
      " (6452, 1),\n",
      " (6441, 1),\n",
      " (6050, 1),\n",
      " (5999, 1)]\n",
      "\n",
      "with_infill_lenghts\n",
      "[(16479, 1),\n",
      " (11453, 1),\n",
      " (10374, 1),\n",
      " (9604, 1),\n",
      " (9347, 1),\n",
      " (8952, 1),\n",
      " (8863, 1),\n",
      " (8312, 1),\n",
      " (8279, 1),\n",
      " (8080, 1)]\n"
     ]
    },
    {
     "name": "stderr",
     "output_type": "stream",
     "text": [
      "100%|██████████| 1494/1494 [04:12<00:00,  5.92it/s]\n"
     ]
    },
    {
     "name": "stdout",
     "output_type": "stream",
     "text": [
      "gutenberg\n",
      "prefix_lenghts\n",
      "[(759578, 1),\n",
      " (389642, 1),\n",
      " (353165, 1),\n",
      " (324779, 1),\n",
      " (314759, 1),\n",
      " (292916, 1),\n",
      " (287022, 1),\n",
      " (280718, 1),\n",
      " (274372, 1),\n",
      " (268861, 1)]\n",
      "\n",
      "with_infill_lenghts\n",
      "[(826597, 1),\n",
      " (452365, 1),\n",
      " (433536, 1),\n",
      " (431394, 1),\n",
      " (403759, 1),\n",
      " (370773, 1),\n",
      " (366399, 1),\n",
      " (356778, 1),\n",
      " (326965, 1),\n",
      " (318779, 1)]\n"
     ]
    },
    {
     "name": "stderr",
     "output_type": "stream",
     "text": [
      "100%|██████████| 1245/1245 [00:11<00:00, 104.66it/s]\n"
     ]
    },
    {
     "name": "stdout",
     "output_type": "stream",
     "text": [
      "house_of_commons\n",
      "prefix_lenghts\n",
      "[(44610, 1),\n",
      " (27324, 1),\n",
      " (25439, 1),\n",
      " (24324, 1),\n",
      " (23968, 1),\n",
      " (22229, 1),\n",
      " (22171, 1),\n",
      " (22058, 1),\n",
      " (21526, 1),\n",
      " (19752, 1)]\n",
      "\n",
      "with_infill_lenghts\n",
      "[(50358, 1),\n",
      " (48151, 1),\n",
      " (47912, 1),\n",
      " (46727, 1),\n",
      " (35395, 1),\n",
      " (33670, 1),\n",
      " (32966, 1),\n",
      " (32949, 1),\n",
      " (31994, 1),\n",
      " (30505, 1)]\n"
     ]
    },
    {
     "name": "stderr",
     "output_type": "stream",
     "text": [
      "100%|██████████| 1426/1426 [00:02<00:00, 522.09it/s]\n"
     ]
    },
    {
     "name": "stdout",
     "output_type": "stream",
     "text": [
      "spiegel_articles\n",
      "prefix_lenghts\n",
      "[(3623, 1),\n",
      " (3542, 1),\n",
      " (3407, 1),\n",
      " (2922, 1),\n",
      " (2820, 1),\n",
      " (2783, 1),\n",
      " (2751, 1),\n",
      " (2737, 1),\n",
      " (2581, 1),\n",
      " (2512, 1)]\n",
      "\n",
      "with_infill_lenghts\n",
      "[(4603, 1),\n",
      " (4260, 1),\n",
      " (3727, 1),\n",
      " (3638, 1),\n",
      " (3408, 1),\n",
      " (3367, 1),\n",
      " (3138, 1),\n",
      " (3087, 1),\n",
      " (3024, 1),\n",
      " (2982, 1)]\n"
     ]
    },
    {
     "name": "stderr",
     "output_type": "stream",
     "text": [
      "100%|██████████| 1379/1379 [00:01<00:00, 905.06it/s]"
     ]
    },
    {
     "name": "stdout",
     "output_type": "stream",
     "text": [
      "student_essays\n",
      "prefix_lenghts\n",
      "[(1241, 1),\n",
      " (1055, 1),\n",
      " (983, 1),\n",
      " (838, 1),\n",
      " (833, 1),\n",
      " (787, 1),\n",
      " (773, 1),\n",
      " (769, 1),\n",
      " (752, 1),\n",
      " (748, 1)]\n",
      "\n",
      "with_infill_lenghts\n",
      "[(1324, 1),\n",
      " (1181, 1),\n",
      " (1153, 1),\n",
      " (1022, 1),\n",
      " (995, 1),\n",
      " (972, 1),\n",
      " (940, 1),\n",
      " (929, 1),\n",
      " (924, 1),\n",
      " (918, 1)]\n"
     ]
    },
    {
     "name": "stderr",
     "output_type": "stream",
     "text": [
      "\n"
     ]
    }
   ],
   "source": [
    "from collections import Counter\n",
    "from pprint import pprint\n",
    "\n",
    "for domain in (\n",
    "    \"arxiv_papers\",\n",
    "    \"blog_authorship_corpus\",\n",
    "    \"bundestag\",\n",
    "    \"cnn_news\",\n",
    "    \"euro_court_cases\",\n",
    "    \"gutenberg\",\n",
    "    \"house_of_commons\",\n",
    "    \"spiegel_articles\",\n",
    "    \"student_essays\",\n",
    "):\n",
    "    prefix_lenghts = Counter()\n",
    "    infill_lenghts = Counter()\n",
    "    total = synthesized_texts.count_documents(\n",
    "        {\"domain\": domain, \"agent\": \"gpt-4o-mini\", \"type\": \"chunk\"}\n",
    "    )\n",
    "    for doc in tqdm(\n",
    "        synthesized_texts.find(\n",
    "            {\"domain\": domain, \"agent\": \"gpt-4o-mini\", \"type\": \"chunk\"},\n",
    "            projection=[\"chunks\", \"synth_metadata.start_idx\", \"synth_metadata.end_idx\"],\n",
    "        ),\n",
    "        total=total,\n",
    "    ):\n",
    "        chunks: list[str] = doc[\"chunks\"]\n",
    "        prefix = \" \".join(\n",
    "            word\n",
    "            for chunk in chunks[: doc[\"synth_metadata\"][\"start_idx\"]]\n",
    "            for word in chunk.strip().split()\n",
    "        )\n",
    "        infill = \" \".join(\n",
    "            word\n",
    "            for chunk in chunks[: doc[\"synth_metadata\"][\"end_idx\"]]\n",
    "            for word in chunk.strip().split()\n",
    "        )\n",
    "        prefix_length, infill_length = tokenizer([prefix, infill], return_length=True)[\n",
    "            \"length\"\n",
    "        ]\n",
    "        prefix_lenghts.update([prefix_length])\n",
    "        infill_lenghts.update([infill_length])\n",
    "    print(domain)\n",
    "    print(\"prefix_lenghts\")\n",
    "    pprint(list(sorted(prefix_lenghts.items(), reverse=True))[:10])\n",
    "    print()\n",
    "    print(\"with_infill_lenghts\")\n",
    "    pprint(list(sorted(infill_lenghts.items(), reverse=True))[:10])\n"
   ]
  }
 ],
 "metadata": {
  "kernelspec": {
   "display_name": ".venv",
   "language": "python",
   "name": "python3"
  },
  "language_info": {
   "codemirror_mode": {
    "name": "ipython",
    "version": 3
   },
   "file_extension": ".py",
   "mimetype": "text/x-python",
   "name": "python",
   "nbconvert_exporter": "python",
   "pygments_lexer": "ipython3",
   "version": "3.12.7"
  }
 },
 "nbformat": 4,
 "nbformat_minor": 2
}
