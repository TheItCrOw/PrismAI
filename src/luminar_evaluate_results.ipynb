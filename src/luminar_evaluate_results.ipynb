{
 "cells": [
  {
   "cell_type": "code",
   "execution_count": 2,
   "id": "335ff025",
   "metadata": {},
   "outputs": [
    {
     "data": {
      "text/plain": [
       "[PosixPath('../models/luminar_cnn/cross_validation_01JWBJNCZ7M8EMDX4C03280ZDR/student_essays'),\n",
       " PosixPath('../models/luminar_cnn/cross_validation_01JWBJNCZ7M8EMDX4C03280ZDR/euro_court_cases'),\n",
       " PosixPath('../models/luminar_cnn/cross_validation_01JWBJNCZ7M8EMDX4C03280ZDR/house_of_commons'),\n",
       " PosixPath('../models/luminar_cnn/cross_validation_01JWBJNCZ7M8EMDX4C03280ZDR/de'),\n",
       " PosixPath('../models/luminar_cnn/cross_validation_01JWBJNCZ7M8EMDX4C03280ZDR/spiegel_articles'),\n",
       " PosixPath('../models/luminar_cnn/cross_validation_01JWBJNCZ7M8EMDX4C03280ZDR/bundestag'),\n",
       " PosixPath('../models/luminar_cnn/cross_validation_01JWBJNCZ7M8EMDX4C03280ZDR/gutenberg_en'),\n",
       " PosixPath('../models/luminar_cnn/cross_validation_01JWBJNCZ7M8EMDX4C03280ZDR/arxiv_papers'),\n",
       " PosixPath('../models/luminar_cnn/cross_validation_01JWBJNCZ7M8EMDX4C03280ZDR/en'),\n",
       " PosixPath('../models/luminar_cnn/cross_validation_01JWBJNCZ7M8EMDX4C03280ZDR/blog_authorship_corpus'),\n",
       " PosixPath('../models/luminar_cnn/cross_validation_01JWBJNCZ7M8EMDX4C03280ZDR/cnn_news')]"
      ]
     },
     "execution_count": 2,
     "metadata": {},
     "output_type": "execute_result"
    }
   ],
   "source": [
    "from pathlib import Path\n",
    "\n",
    "\n",
    "folders = list(Path(\"../models/luminar_cnn/cross_validation_01JWBJNCZ7M8EMDX4C03280ZDR\").iterdir())\n",
    "folders"
   ]
  },
  {
   "cell_type": "code",
   "execution_count": 16,
   "id": "82c2871b",
   "metadata": {},
   "outputs": [],
   "source": [
    "domain_map = {\n",
    "    \"blog_authorship_corpus\": \"Blog Authorship\",\n",
    "    \"student_essays\": \"Student Essays\",\n",
    "    \"cnn_news\": \"CNN News\",\n",
    "    \"euro_court_cases\": \"Euro Court Cases\",\n",
    "    \"house_of_commons\": \"House of Commons\",\n",
    "    \"arxiv_papers\": \"ArXiv Papers\",\n",
    "    \"gutenberg_en\": \"Gutenberg$_{en}$\",\n",
    "    \"bundestag\": \"Bundestag$_{de}$\",\n",
    "    \"spiegel_articles\": \"Spiegel$_{de}$\",\n",
    "    \"de\": \"de\",\n",
    "    \"en\": \"en\",\n",
    "}\n",
    "order = {\n",
    "    \"Blog Authorship\": 1,\n",
    "    \"Student Essays\": 2,\n",
    "    \"CNN News\": 3,\n",
    "    \"Euro Court Cases\": 4,\n",
    "    \"House of Commons\": 5,\n",
    "    \"ArXiv Papers\": 6,\n",
    "    \"Gutenberg$_{en}$\": 7,\n",
    "    \"Bundestag$_{de}$\": 8,\n",
    "    \"Spiegel$_{de}$\": 9,\n",
    "    \"de\": 10,\n",
    "    \"en\": 11,\n",
    "}"
   ]
  },
  {
   "cell_type": "code",
   "execution_count": null,
   "id": "431e24c6",
   "metadata": {},
   "outputs": [
    {
     "data": {
      "application/vnd.microsoft.datawrangler.viewer.v0+json": {
       "columns": [
        {
         "name": "domain",
         "rawType": "object",
         "type": "string"
        },
        {
         "name": "test_f1_weighted",
         "rawType": "float64",
         "type": "float"
        },
        {
         "name": "test_roc_auc",
         "rawType": "float64",
         "type": "float"
        },
        {
         "name": "order",
         "rawType": "int64",
         "type": "integer"
        }
       ],
       "ref": "2a5abd16-1841-4673-80d1-5df2128aa6e4",
       "rows": [
        [
         "Blog Authorship",
         "0.791",
         "0.884",
         "1"
        ],
        [
         "Student Essays",
         "0.996",
         "1.0",
         "2"
        ],
        [
         "CNN News",
         "0.938",
         "0.984",
         "3"
        ],
        [
         "Euro Court Cases",
         "0.977",
         "0.997",
         "4"
        ],
        [
         "House of Commons",
         "0.947",
         "0.989",
         "5"
        ],
        [
         "ArXiv Papers",
         "0.98",
         "0.996",
         "6"
        ],
        [
         "Gutenberg$_{en}$",
         "0.905",
         "0.964",
         "7"
        ],
        [
         "Bundestag$_{de}$",
         "0.963",
         "0.992",
         "8"
        ],
        [
         "Spiegel$_{de}$",
         "0.841",
         "0.921",
         "9"
        ],
        [
         "de",
         "0.883",
         "0.958",
         "10"
        ],
        [
         "en",
         "0.959",
         "0.993",
         "11"
        ]
       ],
       "shape": {
        "columns": 3,
        "rows": 11
       }
      },
      "text/html": [
       "<div>\n",
       "<style scoped>\n",
       "    .dataframe tbody tr th:only-of-type {\n",
       "        vertical-align: middle;\n",
       "    }\n",
       "\n",
       "    .dataframe tbody tr th {\n",
       "        vertical-align: top;\n",
       "    }\n",
       "\n",
       "    .dataframe thead th {\n",
       "        text-align: right;\n",
       "    }\n",
       "</style>\n",
       "<table border=\"1\" class=\"dataframe\">\n",
       "  <thead>\n",
       "    <tr style=\"text-align: right;\">\n",
       "      <th></th>\n",
       "      <th>test_f1_weighted</th>\n",
       "      <th>test_roc_auc</th>\n",
       "      <th>order</th>\n",
       "    </tr>\n",
       "    <tr>\n",
       "      <th>domain</th>\n",
       "      <th></th>\n",
       "      <th></th>\n",
       "      <th></th>\n",
       "    </tr>\n",
       "  </thead>\n",
       "  <tbody>\n",
       "    <tr>\n",
       "      <th>Blog Authorship</th>\n",
       "      <td>0.791</td>\n",
       "      <td>0.884</td>\n",
       "      <td>1</td>\n",
       "    </tr>\n",
       "    <tr>\n",
       "      <th>Student Essays</th>\n",
       "      <td>0.996</td>\n",
       "      <td>1.000</td>\n",
       "      <td>2</td>\n",
       "    </tr>\n",
       "    <tr>\n",
       "      <th>CNN News</th>\n",
       "      <td>0.938</td>\n",
       "      <td>0.984</td>\n",
       "      <td>3</td>\n",
       "    </tr>\n",
       "    <tr>\n",
       "      <th>Euro Court Cases</th>\n",
       "      <td>0.977</td>\n",
       "      <td>0.997</td>\n",
       "      <td>4</td>\n",
       "    </tr>\n",
       "    <tr>\n",
       "      <th>House of Commons</th>\n",
       "      <td>0.947</td>\n",
       "      <td>0.989</td>\n",
       "      <td>5</td>\n",
       "    </tr>\n",
       "    <tr>\n",
       "      <th>ArXiv Papers</th>\n",
       "      <td>0.980</td>\n",
       "      <td>0.996</td>\n",
       "      <td>6</td>\n",
       "    </tr>\n",
       "    <tr>\n",
       "      <th>Gutenberg$_{en}$</th>\n",
       "      <td>0.905</td>\n",
       "      <td>0.964</td>\n",
       "      <td>7</td>\n",
       "    </tr>\n",
       "    <tr>\n",
       "      <th>Bundestag$_{de}$</th>\n",
       "      <td>0.963</td>\n",
       "      <td>0.992</td>\n",
       "      <td>8</td>\n",
       "    </tr>\n",
       "    <tr>\n",
       "      <th>Spiegel$_{de}$</th>\n",
       "      <td>0.841</td>\n",
       "      <td>0.921</td>\n",
       "      <td>9</td>\n",
       "    </tr>\n",
       "    <tr>\n",
       "      <th>de</th>\n",
       "      <td>0.883</td>\n",
       "      <td>0.958</td>\n",
       "      <td>10</td>\n",
       "    </tr>\n",
       "    <tr>\n",
       "      <th>en</th>\n",
       "      <td>0.959</td>\n",
       "      <td>0.993</td>\n",
       "      <td>11</td>\n",
       "    </tr>\n",
       "  </tbody>\n",
       "</table>\n",
       "</div>"
      ],
      "text/plain": [
       "                  test_f1_weighted  test_roc_auc  order\n",
       "domain                                                 \n",
       "Blog Authorship              0.791         0.884      1\n",
       "Student Essays               0.996         1.000      2\n",
       "CNN News                     0.938         0.984      3\n",
       "Euro Court Cases             0.977         0.997      4\n",
       "House of Commons             0.947         0.989      5\n",
       "ArXiv Papers                 0.980         0.996      6\n",
       "Gutenberg$_{en}$             0.905         0.964      7\n",
       "Bundestag$_{de}$             0.963         0.992      8\n",
       "Spiegel$_{de}$               0.841         0.921      9\n",
       "de                           0.883         0.958     10\n",
       "en                           0.959         0.993     11"
      ]
     },
     "execution_count": 31,
     "metadata": {},
     "output_type": "execute_result"
    }
   ],
   "source": [
    "import json\n",
    "\n",
    "import pandas as pd\n",
    "\n",
    "results = []\n",
    "for folder in folders:\n",
    "    if not folder.is_dir():\n",
    "        continue\n",
    "\n",
    "    domain = folder.name.split(\"-\", 1)[0]\n",
    "\n",
    "    for cv_folder in folder.iterdir():\n",
    "        metrics_test = cv_folder / \"metrics_test.json\"\n",
    "        results.append({\"domain\": domain_map[domain], \"order\": order.get(domain_map[domain], 9999)} | json.load(metrics_test.open()))\n",
    "\n",
    "results.sort(key=lambda x: order[x[\"domain\"]])\n",
    "\n",
    "results = pd.DataFrame(results).groupby(\"domain\").agg(\n",
    "    test_f1_weighted=(\"test_f1_weighted\", \"mean\"),\n",
    "    # test_accuracy=(\"test_accuracy\", \"mean\"),\n",
    "    test_roc_auc=(\"test_roc_auc\", \"mean\"),\n",
    "    order=(\"order\", \"first\"),\n",
    "    # test_f1_ai=(\"test_f1_ai\", \"mean\"),\n",
    "    # test_f1_human=(\"test_f1_human\", \"mean\"),\n",
    "    # test_f1_weighted_median=(\"test_f1_weighted_median\", \"mean\"),\n",
    ").round(3).sort_values(\"order\")\n",
    "results\n"
   ]
  },
  {
   "cell_type": "code",
   "execution_count": 34,
   "id": "f62976c8",
   "metadata": {},
   "outputs": [
    {
     "name": "stdout",
     "output_type": "stream",
     "text": [
      "\\begin{tabular}{lrrr}\n",
      "\\toprule\n",
      " & test_f1_weighted & test_roc_auc & order \\\\\n",
      "domain &  &  &  \\\\\n",
      "\\midrule\n",
      "Blog Authorship & 0.791 & 0.884 & 1 \\\\\n",
      "Student Essays & 0.996 & 1.000 & 2 \\\\\n",
      "CNN News & 0.938 & 0.984 & 3 \\\\\n",
      "Euro Court Cases & 0.977 & 0.997 & 4 \\\\\n",
      "House of Commons & 0.947 & 0.989 & 5 \\\\\n",
      "ArXiv Papers & 0.980 & 0.996 & 6 \\\\\n",
      "Gutenberg$_{en}$ & 0.905 & 0.964 & 7 \\\\\n",
      "Bundestag$_{de}$ & 0.963 & 0.992 & 8 \\\\\n",
      "Spiegel$_{de}$ & 0.841 & 0.921 & 9 \\\\\n",
      "de & 0.883 & 0.958 & 10 \\\\\n",
      "en & 0.959 & 0.993 & 11 \\\\\n",
      "\\bottomrule\n",
      "\\end{tabular}\n",
      "\n"
     ]
    }
   ],
   "source": [
    "print(results.to_latex(float_format=\"%.3f\", escape=False))"
   ]
  },
  {
   "cell_type": "code",
   "execution_count": 5,
   "id": "9598b3bd",
   "metadata": {},
   "outputs": [
    {
     "name": "stdout",
     "output_type": "stream",
     "text": [
      "Index(['domain', 'unmatched_loss', 'unmatched_f1_weighted',\n",
      "       'unmatched_accuracy', 'unmatched_roc_auc', 'unmatched_f1_human',\n",
      "       'unmatched_f1_ai', 'unmatched_n_samples', 'unmatched_f1_weighted_mean',\n",
      "       'unmatched_accuracy_mean', 'unmatched_roc_auc_mean',\n",
      "       'unmatched_f1_human_mean', 'unmatched_f1_ai_mean',\n",
      "       'unmatched_threshold_mean', 'unmatched_n_samples_human',\n",
      "       'unmatched_n_samples_ai', 'unmatched_runtime',\n",
      "       'unmatched_samples_per_second', 'unmatched_steps_per_second', 'epoch'],\n",
      "      dtype='object')\n"
     ]
    },
    {
     "data": {
      "application/vnd.microsoft.datawrangler.viewer.v0+json": {
       "columns": [
        {
         "name": "domain",
         "rawType": "object",
         "type": "string"
        },
        {
         "name": "unmatched_f1_ai",
         "rawType": "float64",
         "type": "float"
        },
        {
         "name": "unmatched_f1_human",
         "rawType": "float64",
         "type": "float"
        },
        {
         "name": "unmatched_f1_weighted",
         "rawType": "float64",
         "type": "float"
        },
        {
         "name": "unmatched_accuracy",
         "rawType": "float64",
         "type": "float"
        },
        {
         "name": "unmatched_roc_auc",
         "rawType": "float64",
         "type": "float"
        }
       ],
       "ref": "b9d376e2-7e31-45ae-b796-c7e6d71bd05b",
       "rows": [
        [
         "arxiv_papers",
         "87.13",
         "89.72",
         "88.45",
         "88.57",
         "97.79"
        ],
        [
         "blog_authorship_corpus",
         "53.89",
         "73.14",
         "65.02",
         "66.09",
         "71.45"
        ],
        [
         "bundestag",
         "62.58",
         "78.78",
         "70.86",
         "72.94",
         "90.2"
        ],
        [
         "cnn_news",
         "76.25",
         "84.19",
         "80.54",
         "81.03",
         "92.93"
        ],
        [
         "de",
         "66.76",
         "79.09",
         "73.26",
         "74.35",
         "87.14"
        ],
        [
         "en",
         "69.34",
         "80.05",
         "75.08",
         "75.84",
         "87.79"
        ],
        [
         "euro_court_cases",
         "90.6",
         "91.92",
         "91.26",
         "91.31",
         "98.62"
        ],
        [
         "gutenberg_en",
         "71.09",
         "79.63",
         "75.39",
         "76.13",
         "87.77"
        ],
        [
         "house_of_commons",
         "69.63",
         "80.11",
         "74.99",
         "75.98",
         "89.25"
        ],
        [
         "spiegel_articles",
         "56.69",
         "75.27",
         "67.14",
         "68.53",
         "76.14"
        ],
        [
         "student_essays",
         "69.07",
         "82.31",
         "76.23",
         "77.5",
         "91.68"
        ]
       ],
       "shape": {
        "columns": 5,
        "rows": 11
       }
      },
      "text/html": [
       "<div>\n",
       "<style scoped>\n",
       "    .dataframe tbody tr th:only-of-type {\n",
       "        vertical-align: middle;\n",
       "    }\n",
       "\n",
       "    .dataframe tbody tr th {\n",
       "        vertical-align: top;\n",
       "    }\n",
       "\n",
       "    .dataframe thead th {\n",
       "        text-align: right;\n",
       "    }\n",
       "</style>\n",
       "<table border=\"1\" class=\"dataframe\">\n",
       "  <thead>\n",
       "    <tr style=\"text-align: right;\">\n",
       "      <th></th>\n",
       "      <th>unmatched_f1_ai</th>\n",
       "      <th>unmatched_f1_human</th>\n",
       "      <th>unmatched_f1_weighted</th>\n",
       "      <th>unmatched_accuracy</th>\n",
       "      <th>unmatched_roc_auc</th>\n",
       "    </tr>\n",
       "    <tr>\n",
       "      <th>domain</th>\n",
       "      <th></th>\n",
       "      <th></th>\n",
       "      <th></th>\n",
       "      <th></th>\n",
       "      <th></th>\n",
       "    </tr>\n",
       "  </thead>\n",
       "  <tbody>\n",
       "    <tr>\n",
       "      <th>arxiv_papers</th>\n",
       "      <td>87.13</td>\n",
       "      <td>89.72</td>\n",
       "      <td>88.45</td>\n",
       "      <td>88.57</td>\n",
       "      <td>97.79</td>\n",
       "    </tr>\n",
       "    <tr>\n",
       "      <th>blog_authorship_corpus</th>\n",
       "      <td>53.89</td>\n",
       "      <td>73.14</td>\n",
       "      <td>65.02</td>\n",
       "      <td>66.09</td>\n",
       "      <td>71.45</td>\n",
       "    </tr>\n",
       "    <tr>\n",
       "      <th>bundestag</th>\n",
       "      <td>62.58</td>\n",
       "      <td>78.78</td>\n",
       "      <td>70.86</td>\n",
       "      <td>72.94</td>\n",
       "      <td>90.20</td>\n",
       "    </tr>\n",
       "    <tr>\n",
       "      <th>cnn_news</th>\n",
       "      <td>76.25</td>\n",
       "      <td>84.19</td>\n",
       "      <td>80.54</td>\n",
       "      <td>81.03</td>\n",
       "      <td>92.93</td>\n",
       "    </tr>\n",
       "    <tr>\n",
       "      <th>de</th>\n",
       "      <td>66.76</td>\n",
       "      <td>79.09</td>\n",
       "      <td>73.26</td>\n",
       "      <td>74.35</td>\n",
       "      <td>87.14</td>\n",
       "    </tr>\n",
       "    <tr>\n",
       "      <th>en</th>\n",
       "      <td>69.34</td>\n",
       "      <td>80.05</td>\n",
       "      <td>75.08</td>\n",
       "      <td>75.84</td>\n",
       "      <td>87.79</td>\n",
       "    </tr>\n",
       "    <tr>\n",
       "      <th>euro_court_cases</th>\n",
       "      <td>90.60</td>\n",
       "      <td>91.92</td>\n",
       "      <td>91.26</td>\n",
       "      <td>91.31</td>\n",
       "      <td>98.62</td>\n",
       "    </tr>\n",
       "    <tr>\n",
       "      <th>gutenberg_en</th>\n",
       "      <td>71.09</td>\n",
       "      <td>79.63</td>\n",
       "      <td>75.39</td>\n",
       "      <td>76.13</td>\n",
       "      <td>87.77</td>\n",
       "    </tr>\n",
       "    <tr>\n",
       "      <th>house_of_commons</th>\n",
       "      <td>69.63</td>\n",
       "      <td>80.11</td>\n",
       "      <td>74.99</td>\n",
       "      <td>75.98</td>\n",
       "      <td>89.25</td>\n",
       "    </tr>\n",
       "    <tr>\n",
       "      <th>spiegel_articles</th>\n",
       "      <td>56.69</td>\n",
       "      <td>75.27</td>\n",
       "      <td>67.14</td>\n",
       "      <td>68.53</td>\n",
       "      <td>76.14</td>\n",
       "    </tr>\n",
       "    <tr>\n",
       "      <th>student_essays</th>\n",
       "      <td>69.07</td>\n",
       "      <td>82.31</td>\n",
       "      <td>76.23</td>\n",
       "      <td>77.50</td>\n",
       "      <td>91.68</td>\n",
       "    </tr>\n",
       "  </tbody>\n",
       "</table>\n",
       "</div>"
      ],
      "text/plain": [
       "                        unmatched_f1_ai  unmatched_f1_human  \\\n",
       "domain                                                        \n",
       "arxiv_papers                      87.13               89.72   \n",
       "blog_authorship_corpus            53.89               73.14   \n",
       "bundestag                         62.58               78.78   \n",
       "cnn_news                          76.25               84.19   \n",
       "de                                66.76               79.09   \n",
       "en                                69.34               80.05   \n",
       "euro_court_cases                  90.60               91.92   \n",
       "gutenberg_en                      71.09               79.63   \n",
       "house_of_commons                  69.63               80.11   \n",
       "spiegel_articles                  56.69               75.27   \n",
       "student_essays                    69.07               82.31   \n",
       "\n",
       "                        unmatched_f1_weighted  unmatched_accuracy  \\\n",
       "domain                                                              \n",
       "arxiv_papers                            88.45               88.57   \n",
       "blog_authorship_corpus                  65.02               66.09   \n",
       "bundestag                               70.86               72.94   \n",
       "cnn_news                                80.54               81.03   \n",
       "de                                      73.26               74.35   \n",
       "en                                      75.08               75.84   \n",
       "euro_court_cases                        91.26               91.31   \n",
       "gutenberg_en                            75.39               76.13   \n",
       "house_of_commons                        74.99               75.98   \n",
       "spiegel_articles                        67.14               68.53   \n",
       "student_essays                          76.23               77.50   \n",
       "\n",
       "                        unmatched_roc_auc  \n",
       "domain                                     \n",
       "arxiv_papers                        97.79  \n",
       "blog_authorship_corpus              71.45  \n",
       "bundestag                           90.20  \n",
       "cnn_news                            92.93  \n",
       "de                                  87.14  \n",
       "en                                  87.79  \n",
       "euro_court_cases                    98.62  \n",
       "gutenberg_en                        87.77  \n",
       "house_of_commons                    89.25  \n",
       "spiegel_articles                    76.14  \n",
       "student_essays                      91.68  "
      ]
     },
     "execution_count": 5,
     "metadata": {},
     "output_type": "execute_result"
    }
   ],
   "source": [
    "import json\n",
    "\n",
    "import pandas as pd\n",
    "\n",
    "\n",
    "results = []\n",
    "for folder in folders:\n",
    "    if not folder.is_dir():\n",
    "        continue\n",
    "\n",
    "    domain = folder.name.split(\"-\", 1)[0]\n",
    "\n",
    "    for cv_folder in folder.iterdir():\n",
    "        metrics_unmatched = cv_folder / \"metrics_unmatched.json\"\n",
    "        results.append({\"domain\": domain} | json.load(metrics_unmatched.open()))\n",
    "\n",
    "results = pd.DataFrame(results)\n",
    "print(results.columns)\n",
    "results.groupby(\"domain\").agg(\n",
    "    unmatched_f1_ai=(\"unmatched_f1_ai\", \"mean\"),\n",
    "    unmatched_f1_human=(\"unmatched_f1_human\", \"mean\"),\n",
    "    unmatched_f1_weighted=(\"unmatched_f1_weighted\", \"mean\"),\n",
    "    unmatched_accuracy=(\"unmatched_accuracy\", \"mean\"),\n",
    "    unmatched_roc_auc=(\"unmatched_roc_auc\", \"mean\"),\n",
    "    # unmatched_f1_weighted_mean=(\"unmatched_f1_weighted_mean\", \"mean\"),\n",
    ").mul(100).round(2)"
   ]
  }
 ],
 "metadata": {
  "kernelspec": {
   "display_name": ".venv",
   "language": "python",
   "name": "python3"
  },
  "language_info": {
   "codemirror_mode": {
    "name": "ipython",
    "version": 3
   },
   "file_extension": ".py",
   "mimetype": "text/x-python",
   "name": "python",
   "nbconvert_exporter": "python",
   "pygments_lexer": "ipython3",
   "version": "3.12.7"
  }
 },
 "nbformat": 4,
 "nbformat_minor": 5
}
