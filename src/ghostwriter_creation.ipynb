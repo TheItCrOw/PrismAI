{
 "cells": [
  {
   "cell_type": "markdown",
   "id": "e53339f0",
   "metadata": {},
   "source": [
    "# About\n",
    "\n",
    "The dataset GhostWriter is a creation from the [PrismAI_v2 dataset](https://huggingface.co/datasets/TheItCrOw/PrismAI_v2). We only apply some more processing (removing line breaks e.g.) and then push it with common splits."
   ]
  },
  {
   "cell_type": "code",
   "execution_count": 9,
   "id": "8a24f936",
   "metadata": {},
   "outputs": [
    {
     "name": "stdout",
     "output_type": "stream",
     "text": [
      "The autoreload extension is already loaded. To reload it, use:\n",
      "  %reload_ext autoreload\n"
     ]
    }
   ],
   "source": [
    "%load_ext autoreload\n",
    "%autoreload 2"
   ]
  },
  {
   "cell_type": "code",
   "execution_count": 10,
   "id": "99753ad5",
   "metadata": {},
   "outputs": [],
   "source": [
    "import torch\n",
    "import re\n",
    "import gc\n",
    "import numpy as np\n",
    "import pandas as pd\n",
    "\n",
    "from pathlib import Path\n",
    "from IPython.display import display, HTML\n",
    "from data_hub.hub import DataHub\n",
    "from datasets import DatasetDict, load_dataset\n",
    "from huggingface_hub import HfApi, HfFolder\n",
    "from collections import Counter\n",
    "\n",
    "torch.cuda.empty_cache()\n",
    "gc.collect()\n",
    "if torch.cuda.is_available():\n",
    "    with torch.cuda.device(torch.cuda.current_device()):\n",
    "        torch.cuda.empty_cache()\n",
    "        torch.cuda.ipc_collect()"
   ]
  },
  {
   "cell_type": "code",
   "execution_count": 11,
   "id": "3c2ac357",
   "metadata": {},
   "outputs": [
    {
     "data": {
      "application/vnd.jupyter.widget-view+json": {
       "model_id": "0e58182d1b0d4a4693022ff39d3e6758",
       "version_major": 2,
       "version_minor": 0
      },
      "text/plain": [
       "Resolving data files:   0%|          | 0/17 [00:00<?, ?it/s]"
      ]
     },
     "metadata": {},
     "output_type": "display_data"
    },
    {
     "data": {
      "application/vnd.jupyter.widget-view+json": {
       "model_id": "d517a9de4d0540cdb827b5218f035b56",
       "version_major": 2,
       "version_minor": 0
      },
      "text/plain": [
       "Resolving data files:   0%|          | 0/17 [00:00<?, ?it/s]"
      ]
     },
     "metadata": {},
     "output_type": "display_data"
    },
    {
     "data": {
      "application/vnd.jupyter.widget-view+json": {
       "model_id": "5c683093fe5b4099973904bc45739be5",
       "version_major": 2,
       "version_minor": 0
      },
      "text/plain": [
       "Loading dataset shards:   0%|          | 0/17 [00:00<?, ?it/s]"
      ]
     },
     "metadata": {},
     "output_type": "display_data"
    },
    {
     "name": "stdout",
     "output_type": "stream",
     "text": [
      "Label ID mapping:\n",
      "0 → human\n",
      "1 → ai\n",
      "2 → fusion\n",
      "train distribution:\n",
      "  ai: 151977 (39.7%)\n",
      "  human: 104303 (27.3%)\n",
      "  fusion: 126255 (33.0%)\n",
      "eval distribution:\n",
      "  ai: 21711 (39.7%)\n",
      "  fusion: 18037 (33.0%)\n",
      "  human: 14900 (27.3%)\n",
      "test distribution:\n",
      "  human: 29801 (27.3%)\n",
      "  ai: 43422 (39.7%)\n",
      "  fusion: 36073 (33.0%)\n",
      "DatasetDict({\n",
      "    train: Dataset({\n",
      "        features: ['id', 'text', 'domain', 'date', 'source', 'lang', 'label', 'agent', 'type'],\n",
      "        num_rows: 382535\n",
      "    })\n",
      "    eval: Dataset({\n",
      "        features: ['id', 'text', 'domain', 'date', 'source', 'lang', 'label', 'agent', 'type'],\n",
      "        num_rows: 54648\n",
      "    })\n",
      "    test: Dataset({\n",
      "        features: ['id', 'text', 'domain', 'date', 'source', 'lang', 'label', 'agent', 'type'],\n",
      "        num_rows: 109296\n",
      "    })\n",
      "})\n"
     ]
    }
   ],
   "source": [
    "hf_token = (Path.home() / \".hf_token\").read_text().strip()\n",
    "hub = DataHub(hf_token)\n",
    "dataset = hub.get_splits(\"TheItCrOw/PrismAI_v2\")\n",
    "print(dataset)"
   ]
  },
  {
   "cell_type": "code",
   "execution_count": 12,
   "id": "4e8f2ac5",
   "metadata": {},
   "outputs": [
    {
     "data": {
      "text/plain": [
       "DatasetDict({\n",
       "    train: Dataset({\n",
       "        features: ['id', 'text', 'domain', 'date', 'source', 'lang', 'label', 'agent', 'type'],\n",
       "        num_rows: 382535\n",
       "    })\n",
       "    eval: Dataset({\n",
       "        features: ['id', 'text', 'domain', 'date', 'source', 'lang', 'label', 'agent', 'type'],\n",
       "        num_rows: 54648\n",
       "    })\n",
       "    test: Dataset({\n",
       "        features: ['id', 'text', 'domain', 'date', 'source', 'lang', 'label', 'agent', 'type'],\n",
       "        num_rows: 109296\n",
       "    })\n",
       "})"
      ]
     },
     "execution_count": 12,
     "metadata": {},
     "output_type": "execute_result"
    }
   ],
   "source": [
    "# Regex to match placeholder-style bracketed fragments like [Your Name], [Senator's Name], etc.\n",
    "# (These should have been cleaned before, but I still found some remnants so I do a double-clean)\n",
    "placeholder_re = re.compile(r\"\\[[A-Z][A-Za-z0-9'’\\-,\\. ]{1,50}\\]\")\n",
    "# Markdown and HTML-like artifacts (**bold**, ## headings, `code`, links, etc.)\n",
    "md_pattern = re.compile(\n",
    "    r\"(\\*\\*|__|[*_`#>\\[\\]\\(\\)\\~\\-]{2,}|!\\[[^\\]]*\\]\\([^\\)]*\\)|<[A-Za-z\\/][^>]*>)\"\n",
    ")\n",
    "\n",
    "def clean_newlines(example):\n",
    "    text = example[\"text\"]\n",
    "    # Replace newlines with spaces\n",
    "    text = text.replace(\"\\n\", \" \")\n",
    "    # Remove AI-style placeholders\n",
    "    text = placeholder_re.sub(\"\", text)\n",
    "    # Remove Markdown / HTML artifacts\n",
    "    text = md_pattern.sub(\"\", text)\n",
    "    # Collapse multiple spaces\n",
    "    text = re.sub(r\"\\s{2,}\", \" \", text).strip()\n",
    "    example[\"text\"] = text\n",
    "    return example\n",
    "\n",
    "# Apply cleaning to all splits\n",
    "cleaned_dataset = DatasetDict({\n",
    "    split: ds.map(clean_newlines, num_proc=8)\n",
    "    for split, ds in dataset.items()\n",
    "})\n",
    "\n",
    "cleaned_dataset"
   ]
  },
  {
   "cell_type": "code",
   "execution_count": 13,
   "id": "3ec370d7",
   "metadata": {},
   "outputs": [
    {
     "data": {
      "text/plain": [
       "DatasetDict({\n",
       "    train: Dataset({\n",
       "        features: ['id', 'text', 'domain', 'date', 'source', 'lang', 'label', 'agent', 'type'],\n",
       "        num_rows: 382535\n",
       "    })\n",
       "    test: Dataset({\n",
       "        features: ['id', 'text', 'domain', 'date', 'source', 'lang', 'label', 'agent', 'type'],\n",
       "        num_rows: 109296\n",
       "    })\n",
       "    validation: Dataset({\n",
       "        features: ['id', 'text', 'domain', 'date', 'source', 'lang', 'label', 'agent', 'type'],\n",
       "        num_rows: 54648\n",
       "    })\n",
       "})"
      ]
     },
     "execution_count": 13,
     "metadata": {},
     "output_type": "execute_result"
    }
   ],
   "source": [
    "# Rename splits\n",
    "cleaned_dataset[\"validation\"] = cleaned_dataset.pop(\"eval\")\n",
    "cleaned_dataset"
   ]
  },
  {
   "cell_type": "code",
   "execution_count": 14,
   "id": "f565469c",
   "metadata": {},
   "outputs": [
    {
     "data": {
      "text/plain": [
       "{'id': '3e549c46-e722-4c18-a9ed-470e0297d206',\n",
       " 'text': 'Sehr geehrte Damen und Herren, heute stehe ich hier, um ein Thema anzusprechen, das für die Sicherheit unseres Landes von entscheidender Bedeutung ist: die Notwendigkeit eines effektiven strategischen Frühwarnsystems in Deutschland. In einer Zeit, in der hybride Bedrohungen und geopolitische Spannungen, insbesondere in Bezug auf Russland, an der Tagesordnung sind, dürfen wir nicht tatenlos zusehen. Die Nord Stream 2-Pipeline ist nicht nur ein Infrastrukturprojekt; sie ist ein geopolitisches Instrument, das von Russland genutzt wird, um seinen Einfluss auf Europa auszuweiten. Die AfD hat in dieser Debatte eine klare Position bezogen, die nicht nur die nationalen Interessen gefährdet, sondern auch die transatlantischen Beziehungen belastet. Wie können wir es uns leisten, die Augen vor den realen Risiken zu verschließen, die mit dieser Pipeline verbunden sind? Die Antworten auf diese Fragen sind nicht nur politisch, sondern auch moralisch von Bedeutung. Ein effektives Frühwarnsystem ist unerlässlich, um die Gefahren, die von Russland und anderen Akteuren ausgehen, rechtzeitig zu erkennen. Laut dem aktuellen Bericht des Bundesamtes für Verfassungsschutz sehen wir eine Zunahme von Desinformationskampagnen, Cyberangriffen und anderen hybriden Bedrohungen. Diese Herausforderungen erfordern eine koordinierte Antwort auf nationaler und europäischer Ebene. Sind wir wirklich vorbereitet, um diesen Bedrohungen zu begegnen? Oder riskieren wir, im entscheidenden Moment unvorbereitet zu sein? Die transatlantischen Partnerschaften sind ein Grundpfeiler unserer Sicherheitsarchitektur. In einer Zeit, in der die Weltordnung im Wandel ist, müssen wir enger denn je mit unseren europäischen und amerikanischen Partnern zusammenarbeiten. Wir dürfen nicht zulassen, dass nationale Egoismen unsere gemeinsamen Werte und Sicherheitsinteressen gefährden. Ein starkes und verlässliches Frühwarnsystem ist der Schlüssel, um diese Partnerschaften zu stärken und sicherzustellen, dass wir gemeinsam auf Bedrohungen reagieren können. Ich möchte an dieser Stelle die Frage aufwerfen: Was sind die Konsequenzen, wenn wir weiterhin zögern, ein effektives Frühwarnsystem zu implementieren? Werden wir in der Lage sein, die nächsten Schritte zu unternehmen, wenn die nächste Krise vor der Tür steht? Die Geschichte lehrt uns, dass Unterschätzung und Untätigkeit fatale Folgen haben können. Wir müssen aus den Fehlern der Vergangenheit lernen und proaktive Maßnahmen ergreifen. Lassen Sie uns nicht vergessen, dass die Sicherheit unserer Bürger an erster Stelle steht. Es ist unsere Pflicht, die notwendigen Schritte zu unternehmen, um sie zu schützen. Ein Frühwarnsystem ist nicht nur eine technische Notwendigkeit; es ist ein Zeichen unseres Engagements für die Sicherheit und Stabilität in Deutschland und Europa. Wir müssen alle verfügbaren Ressourcen mobilisieren, um sicherzustellen, dass wir nicht nur reagieren, sondern auch proaktiv agieren können. Abschließend appelliere ich an alle hier Anwesenden: Lassen Sie uns gemeinsam an einem Strang ziehen, um ein starkes und effektives Frühwarnsystem zu schaffen. Lassen Sie uns die Herausforderungen annehmen und unsere Verantwortung ernst nehmen. Nur so können wir die Sicherheit unseres Landes und die unserer europäischen Partner gewährleisten. Vielen Dank.',\n",
       " 'domain': 'bundestag',\n",
       " 'date': '2025',\n",
       " 'source': '91776ec8-8884-4519-8f3d-48a7368d6f32',\n",
       " 'lang': 'de-DE',\n",
       " 'label': 1,\n",
       " 'agent': 'gpt-4o-mini',\n",
       " 'type': 'fulltext'}"
      ]
     },
     "execution_count": 14,
     "metadata": {},
     "output_type": "execute_result"
    }
   ],
   "source": [
    "cleaned_dataset['train'][5]"
   ]
  },
  {
   "cell_type": "code",
   "execution_count": 15,
   "id": "47f61205",
   "metadata": {},
   "outputs": [
    {
     "data": {
      "application/vnd.jupyter.widget-view+json": {
       "model_id": "29d45eb502694c8787fbe8c8a90fb4f4",
       "version_major": 2,
       "version_minor": 0
      },
      "text/plain": [
       "Uploading the dataset shards:   0%|          | 0/5 [00:00<?, ? shards/s]"
      ]
     },
     "metadata": {},
     "output_type": "display_data"
    },
    {
     "data": {
      "application/vnd.jupyter.widget-view+json": {
       "model_id": "98502d42ca284fc7b90d39f67954cd3b",
       "version_major": 2,
       "version_minor": 0
      },
      "text/plain": [
       "Creating parquet from Arrow format:   0%|          | 0/77 [00:00<?, ?ba/s]"
      ]
     },
     "metadata": {},
     "output_type": "display_data"
    },
    {
     "data": {
      "application/vnd.jupyter.widget-view+json": {
       "model_id": "7f9d41e9830846e6bf34d7723279a551",
       "version_major": 2,
       "version_minor": 0
      },
      "text/plain": [
       "Processing Files (0 / 0)                : |          |  0.00B /  0.00B            "
      ]
     },
     "metadata": {},
     "output_type": "display_data"
    },
    {
     "data": {
      "application/vnd.jupyter.widget-view+json": {
       "model_id": "14abd7c04e0f47aab745d83df455d5ed",
       "version_major": 2,
       "version_minor": 0
      },
      "text/plain": [
       "New Data Upload                         : |          |  0.00B /  0.00B            "
      ]
     },
     "metadata": {},
     "output_type": "display_data"
    },
    {
     "data": {
      "application/vnd.jupyter.widget-view+json": {
       "model_id": "c81f21f6281b43eb9996501ae22bad99",
       "version_major": 2,
       "version_minor": 0
      },
      "text/plain": [
       "                                        :  26%|##5       | 70.3MB /  272MB            "
      ]
     },
     "metadata": {},
     "output_type": "display_data"
    },
    {
     "data": {
      "application/vnd.jupyter.widget-view+json": {
       "model_id": "0c3b5d2dbb514ddda3ff0a0d57570d01",
       "version_major": 2,
       "version_minor": 0
      },
      "text/plain": [
       "Creating parquet from Arrow format:   0%|          | 0/77 [00:00<?, ?ba/s]"
      ]
     },
     "metadata": {},
     "output_type": "display_data"
    },
    {
     "data": {
      "application/vnd.jupyter.widget-view+json": {
       "model_id": "d14415cd5b194f87accd8e1c316410cb",
       "version_major": 2,
       "version_minor": 0
      },
      "text/plain": [
       "Processing Files (0 / 0)                : |          |  0.00B /  0.00B            "
      ]
     },
     "metadata": {},
     "output_type": "display_data"
    },
    {
     "data": {
      "application/vnd.jupyter.widget-view+json": {
       "model_id": "3c755654d1ef437f9f4f6631663a213d",
       "version_major": 2,
       "version_minor": 0
      },
      "text/plain": [
       "New Data Upload                         : |          |  0.00B /  0.00B            "
      ]
     },
     "metadata": {},
     "output_type": "display_data"
    },
    {
     "data": {
      "application/vnd.jupyter.widget-view+json": {
       "model_id": "cb60b7ecb1d14797afaada9efae60352",
       "version_major": 2,
       "version_minor": 0
      },
      "text/plain": [
       "                                        :  19%|#8        | 50.3MB /  271MB            "
      ]
     },
     "metadata": {},
     "output_type": "display_data"
    },
    {
     "data": {
      "application/vnd.jupyter.widget-view+json": {
       "model_id": "a361661f250d4656bb524e9834ef7b98",
       "version_major": 2,
       "version_minor": 0
      },
      "text/plain": [
       "Creating parquet from Arrow format:   0%|          | 0/77 [00:00<?, ?ba/s]"
      ]
     },
     "metadata": {},
     "output_type": "display_data"
    },
    {
     "data": {
      "application/vnd.jupyter.widget-view+json": {
       "model_id": "ff140fafa32a4f9c932f1f399b9c6938",
       "version_major": 2,
       "version_minor": 0
      },
      "text/plain": [
       "Processing Files (0 / 0)                : |          |  0.00B /  0.00B            "
      ]
     },
     "metadata": {},
     "output_type": "display_data"
    },
    {
     "data": {
      "application/vnd.jupyter.widget-view+json": {
       "model_id": "02ae79f825b8446fb523a0a8f4625606",
       "version_major": 2,
       "version_minor": 0
      },
      "text/plain": [
       "New Data Upload                         : |          |  0.00B /  0.00B            "
      ]
     },
     "metadata": {},
     "output_type": "display_data"
    },
    {
     "data": {
      "application/vnd.jupyter.widget-view+json": {
       "model_id": "990894f5b35248eb8eaebec2e1593ff5",
       "version_major": 2,
       "version_minor": 0
      },
      "text/plain": [
       "                                        :  18%|#7        | 48.2MB /  273MB            "
      ]
     },
     "metadata": {},
     "output_type": "display_data"
    },
    {
     "data": {
      "application/vnd.jupyter.widget-view+json": {
       "model_id": "e8c0931c63b5485883e7dd0ed3f0e966",
       "version_major": 2,
       "version_minor": 0
      },
      "text/plain": [
       "Creating parquet from Arrow format:   0%|          | 0/77 [00:00<?, ?ba/s]"
      ]
     },
     "metadata": {},
     "output_type": "display_data"
    },
    {
     "data": {
      "application/vnd.jupyter.widget-view+json": {
       "model_id": "3d2e693be5f044aa871120f9b3e32dcc",
       "version_major": 2,
       "version_minor": 0
      },
      "text/plain": [
       "Processing Files (0 / 0)                : |          |  0.00B /  0.00B            "
      ]
     },
     "metadata": {},
     "output_type": "display_data"
    },
    {
     "data": {
      "application/vnd.jupyter.widget-view+json": {
       "model_id": "2f2c829f11c143398ab3be3d1dbca1e3",
       "version_major": 2,
       "version_minor": 0
      },
      "text/plain": [
       "New Data Upload                         : |          |  0.00B /  0.00B            "
      ]
     },
     "metadata": {},
     "output_type": "display_data"
    },
    {
     "data": {
      "application/vnd.jupyter.widget-view+json": {
       "model_id": "e573786903e744199b58ffc1a4524fea",
       "version_major": 2,
       "version_minor": 0
      },
      "text/plain": [
       "                                        :  18%|#7        | 47.3MB /  270MB            "
      ]
     },
     "metadata": {},
     "output_type": "display_data"
    },
    {
     "data": {
      "application/vnd.jupyter.widget-view+json": {
       "model_id": "37962e135e9142efba44147c6e4a4193",
       "version_major": 2,
       "version_minor": 0
      },
      "text/plain": [
       "Creating parquet from Arrow format:   0%|          | 0/77 [00:00<?, ?ba/s]"
      ]
     },
     "metadata": {},
     "output_type": "display_data"
    },
    {
     "data": {
      "application/vnd.jupyter.widget-view+json": {
       "model_id": "0360c9e6e6a947828060a8efb5829e57",
       "version_major": 2,
       "version_minor": 0
      },
      "text/plain": [
       "Processing Files (0 / 0)                : |          |  0.00B /  0.00B            "
      ]
     },
     "metadata": {},
     "output_type": "display_data"
    },
    {
     "data": {
      "application/vnd.jupyter.widget-view+json": {
       "model_id": "f48abce5c6584652b111bec1bd03d3f6",
       "version_major": 2,
       "version_minor": 0
      },
      "text/plain": [
       "New Data Upload                         : |          |  0.00B /  0.00B            "
      ]
     },
     "metadata": {},
     "output_type": "display_data"
    },
    {
     "data": {
      "application/vnd.jupyter.widget-view+json": {
       "model_id": "e8c4cc637dbb4c4c9ab2910f2caebfec",
       "version_major": 2,
       "version_minor": 0
      },
      "text/plain": [
       "                                        :  18%|#8        | 50.3MB /  274MB            "
      ]
     },
     "metadata": {},
     "output_type": "display_data"
    },
    {
     "data": {
      "application/vnd.jupyter.widget-view+json": {
       "model_id": "0073b3c4e3894aea902b16f0b7ce024c",
       "version_major": 2,
       "version_minor": 0
      },
      "text/plain": [
       "Uploading the dataset shards:   0%|          | 0/2 [00:00<?, ? shards/s]"
      ]
     },
     "metadata": {},
     "output_type": "display_data"
    },
    {
     "data": {
      "application/vnd.jupyter.widget-view+json": {
       "model_id": "4729426f57974dbda4a95134d5e79463",
       "version_major": 2,
       "version_minor": 0
      },
      "text/plain": [
       "Creating parquet from Arrow format:   0%|          | 0/55 [00:00<?, ?ba/s]"
      ]
     },
     "metadata": {},
     "output_type": "display_data"
    },
    {
     "data": {
      "application/vnd.jupyter.widget-view+json": {
       "model_id": "3cfb22991f8347728bcd7cb59f2ea71b",
       "version_major": 2,
       "version_minor": 0
      },
      "text/plain": [
       "Processing Files (0 / 0)                : |          |  0.00B /  0.00B            "
      ]
     },
     "metadata": {},
     "output_type": "display_data"
    },
    {
     "data": {
      "application/vnd.jupyter.widget-view+json": {
       "model_id": "7421c5cc385342c19285a7235350d31a",
       "version_major": 2,
       "version_minor": 0
      },
      "text/plain": [
       "New Data Upload                         : |          |  0.00B /  0.00B            "
      ]
     },
     "metadata": {},
     "output_type": "display_data"
    },
    {
     "data": {
      "application/vnd.jupyter.widget-view+json": {
       "model_id": "7668d64adae14753a8739461573d05e0",
       "version_major": 2,
       "version_minor": 0
      },
      "text/plain": [
       "                                        :  26%|##5       | 50.3MB /  197MB            "
      ]
     },
     "metadata": {},
     "output_type": "display_data"
    },
    {
     "data": {
      "application/vnd.jupyter.widget-view+json": {
       "model_id": "558fbae332dc4783afbc41095db6b0be",
       "version_major": 2,
       "version_minor": 0
      },
      "text/plain": [
       "Creating parquet from Arrow format:   0%|          | 0/55 [00:00<?, ?ba/s]"
      ]
     },
     "metadata": {},
     "output_type": "display_data"
    },
    {
     "data": {
      "application/vnd.jupyter.widget-view+json": {
       "model_id": "46d65badf21a427485db310daf4f9275",
       "version_major": 2,
       "version_minor": 0
      },
      "text/plain": [
       "Processing Files (0 / 0)                : |          |  0.00B /  0.00B            "
      ]
     },
     "metadata": {},
     "output_type": "display_data"
    },
    {
     "data": {
      "application/vnd.jupyter.widget-view+json": {
       "model_id": "145a7e52aee44e15b3937bc0d0ae0511",
       "version_major": 2,
       "version_minor": 0
      },
      "text/plain": [
       "New Data Upload                         : |          |  0.00B /  0.00B            "
      ]
     },
     "metadata": {},
     "output_type": "display_data"
    },
    {
     "data": {
      "application/vnd.jupyter.widget-view+json": {
       "model_id": "bcdd4cacc027406d9e898f3af12e34e4",
       "version_major": 2,
       "version_minor": 0
      },
      "text/plain": [
       "                                        :  23%|##3       | 45.6MB /  195MB            "
      ]
     },
     "metadata": {},
     "output_type": "display_data"
    },
    {
     "data": {
      "application/vnd.jupyter.widget-view+json": {
       "model_id": "6f998f05ec6e42a3b304553c3fc62c9a",
       "version_major": 2,
       "version_minor": 0
      },
      "text/plain": [
       "Uploading the dataset shards:   0%|          | 0/1 [00:00<?, ? shards/s]"
      ]
     },
     "metadata": {},
     "output_type": "display_data"
    },
    {
     "data": {
      "application/vnd.jupyter.widget-view+json": {
       "model_id": "efd52f56adee4b09beb4a93a5186d7ab",
       "version_major": 2,
       "version_minor": 0
      },
      "text/plain": [
       "Creating parquet from Arrow format:   0%|          | 0/55 [00:00<?, ?ba/s]"
      ]
     },
     "metadata": {},
     "output_type": "display_data"
    },
    {
     "data": {
      "application/vnd.jupyter.widget-view+json": {
       "model_id": "5651e8cebed841c79f6ed8361d9c6d75",
       "version_major": 2,
       "version_minor": 0
      },
      "text/plain": [
       "Processing Files (0 / 0)                : |          |  0.00B /  0.00B            "
      ]
     },
     "metadata": {},
     "output_type": "display_data"
    },
    {
     "data": {
      "application/vnd.jupyter.widget-view+json": {
       "model_id": "96962f0247184c0db885ee18e8c6807e",
       "version_major": 2,
       "version_minor": 0
      },
      "text/plain": [
       "New Data Upload                         : |          |  0.00B /  0.00B            "
      ]
     },
     "metadata": {},
     "output_type": "display_data"
    },
    {
     "data": {
      "application/vnd.jupyter.widget-view+json": {
       "model_id": "b294d9973e9d4675855deff3478ecc15",
       "version_major": 2,
       "version_minor": 0
      },
      "text/plain": [
       "                                        :  26%|##6       | 50.3MB /  193MB            "
      ]
     },
     "metadata": {},
     "output_type": "display_data"
    },
    {
     "name": "stdout",
     "output_type": "stream",
     "text": [
      "Pushed to https://huggingface.co/datasets/TheItCrOw/GhostWriter with splits: ['train', 'test', 'validation']\n"
     ]
    }
   ],
   "source": [
    "repo_id = \"TheItCrOw/GhostWriter\"\n",
    "cleaned_dataset.push_to_hub(repo_id, token=hf_token)\n",
    "print(f\"Pushed to https://huggingface.co/datasets/{repo_id} with splits: {list(cleaned_dataset.keys())}\")"
   ]
  },
  {
   "cell_type": "code",
   "execution_count": null,
   "id": "835442df",
   "metadata": {},
   "outputs": [],
   "source": []
  }
 ],
 "metadata": {
  "kernelspec": {
   "display_name": "Python 3 (ipykernel)",
   "language": "python",
   "name": "python3"
  },
  "language_info": {
   "codemirror_mode": {
    "name": "ipython",
    "version": 3
   },
   "file_extension": ".py",
   "mimetype": "text/x-python",
   "name": "python",
   "nbconvert_exporter": "python",
   "pygments_lexer": "ipython3",
   "version": "3.12.11"
  }
 },
 "nbformat": 4,
 "nbformat_minor": 5
}
