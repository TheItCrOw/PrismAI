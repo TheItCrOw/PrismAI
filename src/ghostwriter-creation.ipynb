{
 "cells": [
  {
   "cell_type": "markdown",
   "id": "e53339f0",
   "metadata": {},
   "source": [
    "# About\n",
    "\n",
    "The dataset GhostWriter is a creation from the [PrismAI_v2 dataset](https://huggingface.co/datasets/TheItCrOw/PrismAI_v2). We only apply some more processing (removing line breaks e.g.) and then push it with common splits."
   ]
  },
  {
   "cell_type": "code",
   "execution_count": 198,
   "id": "8a24f936",
   "metadata": {},
   "outputs": [
    {
     "name": "stdout",
     "output_type": "stream",
     "text": [
      "The autoreload extension is already loaded. To reload it, use:\n",
      "  %reload_ext autoreload\n"
     ]
    }
   ],
   "source": [
    "%load_ext autoreload\n",
    "%autoreload 2"
   ]
  },
  {
   "cell_type": "code",
   "execution_count": null,
   "id": "99753ad5",
   "metadata": {},
   "outputs": [],
   "source": [
    "import torch\n",
    "import re\n",
    "import gc\n",
    "import numpy as np\n",
    "import pandas as pd\n",
    "\n",
    "from pathlib import Path\n",
    "from IPython.display import display, HTML\n",
    "from data_hub.hub import DataHub\n",
    "from datasets import DatasetDict, load_dataset\n",
    "from huggingface_hub import HfApi, HfFolder\n",
    "from collections import Counter\n",
    "\n",
    "torch.cuda.empty_cache()\n",
    "gc.collect()\n",
    "if torch.cuda.is_available():\n",
    "    with torch.cuda.device(torch.cuda.current_device()):\n",
    "        torch.cuda.empty_cache()\n",
    "        torch.cuda.ipc_collect()"
   ]
  },
  {
   "cell_type": "code",
   "execution_count": 205,
   "id": "3c2ac357",
   "metadata": {},
   "outputs": [
    {
     "data": {
      "application/vnd.jupyter.widget-view+json": {
       "model_id": "a72bc1e424fc42f3bba7d8455d02dfa4",
       "version_major": 2,
       "version_minor": 0
      },
      "text/plain": [
       "Resolving data files:   0%|          | 0/17 [00:00<?, ?it/s]"
      ]
     },
     "metadata": {},
     "output_type": "display_data"
    },
    {
     "data": {
      "application/vnd.jupyter.widget-view+json": {
       "model_id": "c65e46bd6ef64feea84f39b398751951",
       "version_major": 2,
       "version_minor": 0
      },
      "text/plain": [
       "Resolving data files:   0%|          | 0/17 [00:00<?, ?it/s]"
      ]
     },
     "metadata": {},
     "output_type": "display_data"
    },
    {
     "data": {
      "application/vnd.jupyter.widget-view+json": {
       "model_id": "311851b50c2d4b47a7c1043192816e77",
       "version_major": 2,
       "version_minor": 0
      },
      "text/plain": [
       "Loading dataset shards:   0%|          | 0/17 [00:00<?, ?it/s]"
      ]
     },
     "metadata": {},
     "output_type": "display_data"
    },
    {
     "name": "stdout",
     "output_type": "stream",
     "text": [
      "Label ID mapping:\n",
      "0 → human\n",
      "1 → ai\n",
      "2 → fusion\n",
      "train distribution:\n",
      "  ai: 151977 (39.7%)\n",
      "  human: 104303 (27.3%)\n",
      "  fusion: 126255 (33.0%)\n",
      "eval distribution:\n",
      "  ai: 21711 (39.7%)\n",
      "  fusion: 18037 (33.0%)\n",
      "  human: 14900 (27.3%)\n",
      "test distribution:\n",
      "  human: 29801 (27.3%)\n",
      "  ai: 43422 (39.7%)\n",
      "  fusion: 36073 (33.0%)\n",
      "DatasetDict({\n",
      "    train: Dataset({\n",
      "        features: ['id', 'text', 'domain', 'date', 'source', 'lang', 'label', 'agent', 'type'],\n",
      "        num_rows: 382535\n",
      "    })\n",
      "    eval: Dataset({\n",
      "        features: ['id', 'text', 'domain', 'date', 'source', 'lang', 'label', 'agent', 'type'],\n",
      "        num_rows: 54648\n",
      "    })\n",
      "    test: Dataset({\n",
      "        features: ['id', 'text', 'domain', 'date', 'source', 'lang', 'label', 'agent', 'type'],\n",
      "        num_rows: 109296\n",
      "    })\n",
      "})\n"
     ]
    }
   ],
   "source": [
    "hf_token = (Path.home() / \".hf_token\").read_text().strip()\n",
    "hub = DataHub(hf_token)\n",
    "dataset = hub.get_splits(\"TheItCrOw/PrismAI_v2\")\n",
    "print(dataset)"
   ]
  },
  {
   "cell_type": "code",
   "execution_count": 276,
   "id": "4e8f2ac5",
   "metadata": {},
   "outputs": [
    {
     "data": {
      "application/vnd.jupyter.widget-view+json": {
       "model_id": "5888205efb3c43a0b50ac9b9232ccc05",
       "version_major": 2,
       "version_minor": 0
      },
      "text/plain": [
       "Map (num_proc=8):   0%|          | 0/382535 [00:00<?, ? examples/s]"
      ]
     },
     "metadata": {},
     "output_type": "display_data"
    },
    {
     "data": {
      "application/vnd.jupyter.widget-view+json": {
       "model_id": "99539e49edb0440fa4f21909f7234e9f",
       "version_major": 2,
       "version_minor": 0
      },
      "text/plain": [
       "Map (num_proc=8):   0%|          | 0/54648 [00:00<?, ? examples/s]"
      ]
     },
     "metadata": {},
     "output_type": "display_data"
    },
    {
     "data": {
      "application/vnd.jupyter.widget-view+json": {
       "model_id": "4da9610ade984931b1343ef354662570",
       "version_major": 2,
       "version_minor": 0
      },
      "text/plain": [
       "Map (num_proc=8):   0%|          | 0/109296 [00:00<?, ? examples/s]"
      ]
     },
     "metadata": {},
     "output_type": "display_data"
    },
    {
     "data": {
      "text/plain": [
       "DatasetDict({\n",
       "    train: Dataset({\n",
       "        features: ['id', 'text', 'domain', 'date', 'source', 'lang', 'label', 'agent', 'type'],\n",
       "        num_rows: 382535\n",
       "    })\n",
       "    eval: Dataset({\n",
       "        features: ['id', 'text', 'domain', 'date', 'source', 'lang', 'label', 'agent', 'type'],\n",
       "        num_rows: 54648\n",
       "    })\n",
       "    test: Dataset({\n",
       "        features: ['id', 'text', 'domain', 'date', 'source', 'lang', 'label', 'agent', 'type'],\n",
       "        num_rows: 109296\n",
       "    })\n",
       "})"
      ]
     },
     "execution_count": 276,
     "metadata": {},
     "output_type": "execute_result"
    }
   ],
   "source": [
    "# Regex to match placeholder-style bracketed fragments like [Your Name], [Senator's Name], etc.\n",
    "# (These should have been cleaned before, but I still found some remnants so I do a double-clean)\n",
    "placeholder_re = re.compile(r\"\\[[A-Z][A-Za-z0-9'’\\-,\\. ]{1,50}\\]\")\n",
    "# Markdown and HTML-like artifacts (**bold**, ## headings, `code`, links, etc.)\n",
    "md_pattern = re.compile(\n",
    "    r\"(\\*\\*|__|[*_`#>\\[\\]\\(\\)\\~\\-]{2,}|!\\[[^\\]]*\\]\\([^\\)]*\\)|<[A-Za-z\\/][^>]*>)\"\n",
    ")\n",
    "\n",
    "def clean_newlines(example):\n",
    "    text = example[\"text\"]\n",
    "    # Replace newlines with spaces\n",
    "    text = text.replace(\"\\n\", \" \")\n",
    "    # Remove AI-style placeholders\n",
    "    text = placeholder_re.sub(\"\", text)\n",
    "    # Remove Markdown / HTML artifacts\n",
    "    text = md_pattern.sub(\"\", text)\n",
    "    # Collapse multiple spaces\n",
    "    text = re.sub(r\"\\s{2,}\", \" \", text).strip()\n",
    "    example[\"text\"] = text\n",
    "    return example\n",
    "\n",
    "# Apply cleaning to all splits\n",
    "cleaned_dataset = DatasetDict({\n",
    "    split: ds.map(clean_newlines, num_proc=8)\n",
    "    for split, ds in dataset.items()\n",
    "})\n",
    "\n",
    "cleaned_dataset"
   ]
  },
  {
   "cell_type": "code",
   "execution_count": 278,
   "id": "f565469c",
   "metadata": {},
   "outputs": [
    {
     "data": {
      "text/plain": [
       "{'id': '3e549c46-e722-4c18-a9ed-470e0297d206',\n",
       " 'text': 'Sehr geehrte Damen und Herren, heute stehe ich hier, um ein Thema anzusprechen, das für die Sicherheit unseres Landes von entscheidender Bedeutung ist: die Notwendigkeit eines effektiven strategischen Frühwarnsystems in Deutschland. In einer Zeit, in der hybride Bedrohungen und geopolitische Spannungen, insbesondere in Bezug auf Russland, an der Tagesordnung sind, dürfen wir nicht tatenlos zusehen. Die Nord Stream 2-Pipeline ist nicht nur ein Infrastrukturprojekt; sie ist ein geopolitisches Instrument, das von Russland genutzt wird, um seinen Einfluss auf Europa auszuweiten. Die AfD hat in dieser Debatte eine klare Position bezogen, die nicht nur die nationalen Interessen gefährdet, sondern auch die transatlantischen Beziehungen belastet. Wie können wir es uns leisten, die Augen vor den realen Risiken zu verschließen, die mit dieser Pipeline verbunden sind? Die Antworten auf diese Fragen sind nicht nur politisch, sondern auch moralisch von Bedeutung. Ein effektives Frühwarnsystem ist unerlässlich, um die Gefahren, die von Russland und anderen Akteuren ausgehen, rechtzeitig zu erkennen. Laut dem aktuellen Bericht des Bundesamtes für Verfassungsschutz sehen wir eine Zunahme von Desinformationskampagnen, Cyberangriffen und anderen hybriden Bedrohungen. Diese Herausforderungen erfordern eine koordinierte Antwort auf nationaler und europäischer Ebene. Sind wir wirklich vorbereitet, um diesen Bedrohungen zu begegnen? Oder riskieren wir, im entscheidenden Moment unvorbereitet zu sein? Die transatlantischen Partnerschaften sind ein Grundpfeiler unserer Sicherheitsarchitektur. In einer Zeit, in der die Weltordnung im Wandel ist, müssen wir enger denn je mit unseren europäischen und amerikanischen Partnern zusammenarbeiten. Wir dürfen nicht zulassen, dass nationale Egoismen unsere gemeinsamen Werte und Sicherheitsinteressen gefährden. Ein starkes und verlässliches Frühwarnsystem ist der Schlüssel, um diese Partnerschaften zu stärken und sicherzustellen, dass wir gemeinsam auf Bedrohungen reagieren können. Ich möchte an dieser Stelle die Frage aufwerfen: Was sind die Konsequenzen, wenn wir weiterhin zögern, ein effektives Frühwarnsystem zu implementieren? Werden wir in der Lage sein, die nächsten Schritte zu unternehmen, wenn die nächste Krise vor der Tür steht? Die Geschichte lehrt uns, dass Unterschätzung und Untätigkeit fatale Folgen haben können. Wir müssen aus den Fehlern der Vergangenheit lernen und proaktive Maßnahmen ergreifen. Lassen Sie uns nicht vergessen, dass die Sicherheit unserer Bürger an erster Stelle steht. Es ist unsere Pflicht, die notwendigen Schritte zu unternehmen, um sie zu schützen. Ein Frühwarnsystem ist nicht nur eine technische Notwendigkeit; es ist ein Zeichen unseres Engagements für die Sicherheit und Stabilität in Deutschland und Europa. Wir müssen alle verfügbaren Ressourcen mobilisieren, um sicherzustellen, dass wir nicht nur reagieren, sondern auch proaktiv agieren können. Abschließend appelliere ich an alle hier Anwesenden: Lassen Sie uns gemeinsam an einem Strang ziehen, um ein starkes und effektives Frühwarnsystem zu schaffen. Lassen Sie uns die Herausforderungen annehmen und unsere Verantwortung ernst nehmen. Nur so können wir die Sicherheit unseres Landes und die unserer europäischen Partner gewährleisten. Vielen Dank.',\n",
       " 'domain': 'bundestag',\n",
       " 'date': '2025',\n",
       " 'source': '91776ec8-8884-4519-8f3d-48a7368d6f32',\n",
       " 'lang': 'de-DE',\n",
       " 'label': 1,\n",
       " 'agent': 'gpt-4o-mini',\n",
       " 'type': 'fulltext'}"
      ]
     },
     "execution_count": 278,
     "metadata": {},
     "output_type": "execute_result"
    }
   ],
   "source": [
    "cleaned_dataset['train'][5]"
   ]
  },
  {
   "cell_type": "code",
   "execution_count": 279,
   "id": "47f61205",
   "metadata": {},
   "outputs": [
    {
     "data": {
      "application/vnd.jupyter.widget-view+json": {
       "model_id": "d08c13b28696484fbf03f33a64e7a8a0",
       "version_major": 2,
       "version_minor": 0
      },
      "text/plain": [
       "Uploading the dataset shards:   0%|          | 0/5 [00:00<?, ? shards/s]"
      ]
     },
     "metadata": {},
     "output_type": "display_data"
    },
    {
     "data": {
      "application/vnd.jupyter.widget-view+json": {
       "model_id": "a268e72d334647e6945fa3f572990ce7",
       "version_major": 2,
       "version_minor": 0
      },
      "text/plain": [
       "Creating parquet from Arrow format:   0%|          | 0/77 [00:00<?, ?ba/s]"
      ]
     },
     "metadata": {},
     "output_type": "display_data"
    },
    {
     "data": {
      "application/vnd.jupyter.widget-view+json": {
       "model_id": "fab387db4cd84575b83e4e488b656fdb",
       "version_major": 2,
       "version_minor": 0
      },
      "text/plain": [
       "Processing Files (0 / 0)                : |          |  0.00B /  0.00B            "
      ]
     },
     "metadata": {},
     "output_type": "display_data"
    },
    {
     "data": {
      "application/vnd.jupyter.widget-view+json": {
       "model_id": "e018d36883d946fa91c832074135f719",
       "version_major": 2,
       "version_minor": 0
      },
      "text/plain": [
       "New Data Upload                         : |          |  0.00B /  0.00B            "
      ]
     },
     "metadata": {},
     "output_type": "display_data"
    },
    {
     "data": {
      "application/vnd.jupyter.widget-view+json": {
       "model_id": "b0022952c9a146a59ef7144ca4bdedd3",
       "version_major": 2,
       "version_minor": 0
      },
      "text/plain": [
       "                                        :   0%|          | 53.8kB /  272MB            "
      ]
     },
     "metadata": {},
     "output_type": "display_data"
    },
    {
     "data": {
      "application/vnd.jupyter.widget-view+json": {
       "model_id": "4f52c46ac02d475cbee6a20d89323912",
       "version_major": 2,
       "version_minor": 0
      },
      "text/plain": [
       "Creating parquet from Arrow format:   0%|          | 0/77 [00:00<?, ?ba/s]"
      ]
     },
     "metadata": {},
     "output_type": "display_data"
    },
    {
     "data": {
      "application/vnd.jupyter.widget-view+json": {
       "model_id": "9bce63de8e854fbb971d7d9f1a2c9824",
       "version_major": 2,
       "version_minor": 0
      },
      "text/plain": [
       "Processing Files (0 / 0)                : |          |  0.00B /  0.00B            "
      ]
     },
     "metadata": {},
     "output_type": "display_data"
    },
    {
     "data": {
      "application/vnd.jupyter.widget-view+json": {
       "model_id": "76da79e216f243f4bbca3283a0ef04ad",
       "version_major": 2,
       "version_minor": 0
      },
      "text/plain": [
       "New Data Upload                         : |          |  0.00B /  0.00B            "
      ]
     },
     "metadata": {},
     "output_type": "display_data"
    },
    {
     "data": {
      "application/vnd.jupyter.widget-view+json": {
       "model_id": "fe2407f15c8b4a9bb0f1b171a34425a4",
       "version_major": 2,
       "version_minor": 0
      },
      "text/plain": [
       "                                        :   0%|          |  153kB /  271MB            "
      ]
     },
     "metadata": {},
     "output_type": "display_data"
    },
    {
     "data": {
      "application/vnd.jupyter.widget-view+json": {
       "model_id": "f96f1a0c680749b3957dc27d5a795f7b",
       "version_major": 2,
       "version_minor": 0
      },
      "text/plain": [
       "Creating parquet from Arrow format:   0%|          | 0/77 [00:00<?, ?ba/s]"
      ]
     },
     "metadata": {},
     "output_type": "display_data"
    },
    {
     "data": {
      "application/vnd.jupyter.widget-view+json": {
       "model_id": "79f9f578085a48d980b34f2cb7a9da01",
       "version_major": 2,
       "version_minor": 0
      },
      "text/plain": [
       "Processing Files (0 / 0)                : |          |  0.00B /  0.00B            "
      ]
     },
     "metadata": {},
     "output_type": "display_data"
    },
    {
     "data": {
      "application/vnd.jupyter.widget-view+json": {
       "model_id": "62f2eaf123554d6599792f7fddc0f061",
       "version_major": 2,
       "version_minor": 0
      },
      "text/plain": [
       "New Data Upload                         : |          |  0.00B /  0.00B            "
      ]
     },
     "metadata": {},
     "output_type": "display_data"
    },
    {
     "data": {
      "application/vnd.jupyter.widget-view+json": {
       "model_id": "3bdbca784be44963bba9c7c83873f645",
       "version_major": 2,
       "version_minor": 0
      },
      "text/plain": [
       "                                        :   0%|          |  120kB /  273MB            "
      ]
     },
     "metadata": {},
     "output_type": "display_data"
    },
    {
     "data": {
      "application/vnd.jupyter.widget-view+json": {
       "model_id": "34d7465f5e4349c094005e3efe23dec0",
       "version_major": 2,
       "version_minor": 0
      },
      "text/plain": [
       "Creating parquet from Arrow format:   0%|          | 0/77 [00:00<?, ?ba/s]"
      ]
     },
     "metadata": {},
     "output_type": "display_data"
    },
    {
     "data": {
      "application/vnd.jupyter.widget-view+json": {
       "model_id": "70d4b2de07bc46d6ac51d83e14f32f8e",
       "version_major": 2,
       "version_minor": 0
      },
      "text/plain": [
       "Processing Files (0 / 0)                : |          |  0.00B /  0.00B            "
      ]
     },
     "metadata": {},
     "output_type": "display_data"
    },
    {
     "data": {
      "application/vnd.jupyter.widget-view+json": {
       "model_id": "61c9af93fe9644a286852bd5391cd8ca",
       "version_major": 2,
       "version_minor": 0
      },
      "text/plain": [
       "New Data Upload                         : |          |  0.00B /  0.00B            "
      ]
     },
     "metadata": {},
     "output_type": "display_data"
    },
    {
     "data": {
      "application/vnd.jupyter.widget-view+json": {
       "model_id": "94abc83113294422a319b7b8e897a81a",
       "version_major": 2,
       "version_minor": 0
      },
      "text/plain": [
       "                                        :   0%|          | 67.4kB /  270MB            "
      ]
     },
     "metadata": {},
     "output_type": "display_data"
    },
    {
     "data": {
      "application/vnd.jupyter.widget-view+json": {
       "model_id": "cdfd39cb6d2c4b34a929835d6867bf1c",
       "version_major": 2,
       "version_minor": 0
      },
      "text/plain": [
       "Creating parquet from Arrow format:   0%|          | 0/77 [00:00<?, ?ba/s]"
      ]
     },
     "metadata": {},
     "output_type": "display_data"
    },
    {
     "data": {
      "application/vnd.jupyter.widget-view+json": {
       "model_id": "54a7331bb9024265876352e92f94c84b",
       "version_major": 2,
       "version_minor": 0
      },
      "text/plain": [
       "Processing Files (0 / 0)                : |          |  0.00B /  0.00B            "
      ]
     },
     "metadata": {},
     "output_type": "display_data"
    },
    {
     "data": {
      "application/vnd.jupyter.widget-view+json": {
       "model_id": "d92b0e1912da4820b837bdd85ffd50d3",
       "version_major": 2,
       "version_minor": 0
      },
      "text/plain": [
       "New Data Upload                         : |          |  0.00B /  0.00B            "
      ]
     },
     "metadata": {},
     "output_type": "display_data"
    },
    {
     "data": {
      "application/vnd.jupyter.widget-view+json": {
       "model_id": "881502904e294b478adf32d0884878e1",
       "version_major": 2,
       "version_minor": 0
      },
      "text/plain": [
       "                                        :   0%|          |  338kB /  274MB            "
      ]
     },
     "metadata": {},
     "output_type": "display_data"
    },
    {
     "data": {
      "application/vnd.jupyter.widget-view+json": {
       "model_id": "e652e4ba549546c98a135acf69386ef9",
       "version_major": 2,
       "version_minor": 0
      },
      "text/plain": [
       "Uploading the dataset shards:   0%|          | 0/1 [00:00<?, ? shards/s]"
      ]
     },
     "metadata": {},
     "output_type": "display_data"
    },
    {
     "data": {
      "application/vnd.jupyter.widget-view+json": {
       "model_id": "67051d43d8874d95a9650a76fb6e8176",
       "version_major": 2,
       "version_minor": 0
      },
      "text/plain": [
       "Creating parquet from Arrow format:   0%|          | 0/55 [00:00<?, ?ba/s]"
      ]
     },
     "metadata": {},
     "output_type": "display_data"
    },
    {
     "data": {
      "application/vnd.jupyter.widget-view+json": {
       "model_id": "d19db8731de44680ad8fe9080af796e5",
       "version_major": 2,
       "version_minor": 0
      },
      "text/plain": [
       "Processing Files (0 / 0)                : |          |  0.00B /  0.00B            "
      ]
     },
     "metadata": {},
     "output_type": "display_data"
    },
    {
     "data": {
      "application/vnd.jupyter.widget-view+json": {
       "model_id": "68cce5ab6b914e5c8f9532ed28e9e70b",
       "version_major": 2,
       "version_minor": 0
      },
      "text/plain": [
       "New Data Upload                         : |          |  0.00B /  0.00B            "
      ]
     },
     "metadata": {},
     "output_type": "display_data"
    },
    {
     "data": {
      "application/vnd.jupyter.widget-view+json": {
       "model_id": "4c9d51f44b584af98253f18a87136340",
       "version_major": 2,
       "version_minor": 0
      },
      "text/plain": [
       "                                        :   0%|          |  108kB /  193MB            "
      ]
     },
     "metadata": {},
     "output_type": "display_data"
    },
    {
     "data": {
      "application/vnd.jupyter.widget-view+json": {
       "model_id": "2f1001386c5145549a5879af166101a9",
       "version_major": 2,
       "version_minor": 0
      },
      "text/plain": [
       "Uploading the dataset shards:   0%|          | 0/2 [00:00<?, ? shards/s]"
      ]
     },
     "metadata": {},
     "output_type": "display_data"
    },
    {
     "data": {
      "application/vnd.jupyter.widget-view+json": {
       "model_id": "197fceffadb94c1189ece5d7c3610d4e",
       "version_major": 2,
       "version_minor": 0
      },
      "text/plain": [
       "Creating parquet from Arrow format:   0%|          | 0/55 [00:00<?, ?ba/s]"
      ]
     },
     "metadata": {},
     "output_type": "display_data"
    },
    {
     "data": {
      "application/vnd.jupyter.widget-view+json": {
       "model_id": "61da68ee9b99411c93c2fd7a35295823",
       "version_major": 2,
       "version_minor": 0
      },
      "text/plain": [
       "Processing Files (0 / 0)                : |          |  0.00B /  0.00B            "
      ]
     },
     "metadata": {},
     "output_type": "display_data"
    },
    {
     "data": {
      "application/vnd.jupyter.widget-view+json": {
       "model_id": "740785f35f2b48bfa7186163595f8a01",
       "version_major": 2,
       "version_minor": 0
      },
      "text/plain": [
       "New Data Upload                         : |          |  0.00B /  0.00B            "
      ]
     },
     "metadata": {},
     "output_type": "display_data"
    },
    {
     "data": {
      "application/vnd.jupyter.widget-view+json": {
       "model_id": "fae9691616014610a1d770615b08a4a7",
       "version_major": 2,
       "version_minor": 0
      },
      "text/plain": [
       "                                        :   0%|          |  228kB /  197MB            "
      ]
     },
     "metadata": {},
     "output_type": "display_data"
    },
    {
     "data": {
      "application/vnd.jupyter.widget-view+json": {
       "model_id": "02c022b46a7045759a57237bfec92a82",
       "version_major": 2,
       "version_minor": 0
      },
      "text/plain": [
       "Creating parquet from Arrow format:   0%|          | 0/55 [00:00<?, ?ba/s]"
      ]
     },
     "metadata": {},
     "output_type": "display_data"
    },
    {
     "data": {
      "application/vnd.jupyter.widget-view+json": {
       "model_id": "574bc0de98ad4c2c8a67f8c48be755e2",
       "version_major": 2,
       "version_minor": 0
      },
      "text/plain": [
       "Processing Files (0 / 0)                : |          |  0.00B /  0.00B            "
      ]
     },
     "metadata": {},
     "output_type": "display_data"
    },
    {
     "data": {
      "application/vnd.jupyter.widget-view+json": {
       "model_id": "c7fcb8ebfa2b47bab57ff9f9dccc0dfb",
       "version_major": 2,
       "version_minor": 0
      },
      "text/plain": [
       "New Data Upload                         : |          |  0.00B /  0.00B            "
      ]
     },
     "metadata": {},
     "output_type": "display_data"
    },
    {
     "data": {
      "application/vnd.jupyter.widget-view+json": {
       "model_id": "b36c2c2fec5c49b5a7efce36429ff348",
       "version_major": 2,
       "version_minor": 0
      },
      "text/plain": [
       "                                        :   0%|          | 82.9kB /  195MB            "
      ]
     },
     "metadata": {},
     "output_type": "display_data"
    },
    {
     "name": "stdout",
     "output_type": "stream",
     "text": [
      "Pushed to https://huggingface.co/datasets/TheItCrOw/GhostWriter with splits: ['train', 'eval', 'test']\n"
     ]
    }
   ],
   "source": [
    "repo_id = \"TheItCrOw/GhostWriter\"\n",
    "cleaned_dataset.push_to_hub(repo_id, token=hf_token)\n",
    "print(f\"Pushed to https://huggingface.co/datasets/{repo_id} with splits: {list(cleaned_dataset.keys())}\")"
   ]
  },
  {
   "cell_type": "code",
   "execution_count": null,
   "id": "835442df",
   "metadata": {},
   "outputs": [],
   "source": []
  }
 ],
 "metadata": {
  "kernelspec": {
   "display_name": "Python 3 (ipykernel)",
   "language": "python",
   "name": "python3"
  },
  "language_info": {
   "codemirror_mode": {
    "name": "ipython",
    "version": 3
   },
   "file_extension": ".py",
   "mimetype": "text/x-python",
   "name": "python",
   "nbconvert_exporter": "python",
   "pygments_lexer": "ipython3",
   "version": "3.12.11"
  }
 },
 "nbformat": 4,
 "nbformat_minor": 5
}
