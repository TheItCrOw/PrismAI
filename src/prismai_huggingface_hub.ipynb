{
 "cells": [
  {
   "cell_type": "markdown",
   "metadata": {},
   "source": [
    "# PrismAI"
   ]
  },
  {
   "cell_type": "markdown",
   "metadata": {},
   "source": [
    "## Data"
   ]
  },
  {
   "cell_type": "markdown",
   "metadata": {},
   "source": [
    "### Upload Data to HuggingFace Hub"
   ]
  },
  {
   "cell_type": "code",
   "execution_count": null,
   "metadata": {},
   "outputs": [],
   "source": [
    "HF_TOKEN = open(\"/home/mastoeck/.hf_token\").read().strip()"
   ]
  },
  {
   "cell_type": "code",
   "execution_count": null,
   "metadata": {},
   "outputs": [],
   "source": [
    "import bz2\n",
    "import json\n",
    "from collections import defaultdict\n",
    "from pathlib import Path\n",
    "\n",
    "from datasets import Dataset, DatasetDict, concatenate_datasets, load_dataset"
   ]
  },
  {
   "cell_type": "code",
   "execution_count": null,
   "metadata": {},
   "outputs": [],
   "source": [
    "def flatten_samples(batch: dict):\n",
    "    result = defaultdict(list)\n",
    "    for element in batch[\"samples\"]:\n",
    "        for sample in element:\n",
    "            for key, value in sample.items():\n",
    "                result[key].append(value)\n",
    "    return result\n"
   ]
  },
  {
   "cell_type": "code",
   "execution_count": null,
   "metadata": {},
   "outputs": [],
   "source": [
    "from unicodedata import normalize\n",
    "\n",
    "\n",
    "def normalize_text(batch: dict[str, list[str]]):\n",
    "    return {\n",
    "        \"text\": [\n",
    "            \" \".join(normalize(\"NFC\", text).strip().split()) for text in batch[\"text\"]\n",
    "        ]\n",
    "    }"
   ]
  },
  {
   "cell_type": "code",
   "execution_count": null,
   "metadata": {},
   "outputs": [],
   "source": [
    "for path in sorted(Path(\"../data\").iterdir()):\n",
    "    if path.is_file() and path.stem.startswith(\"prismai-\"):\n",
    "        config_name = path.with_suffix(\"\").stem.removeprefix(\"prismai-\")\n",
    "        print(config_name)\n",
    "\n",
    "        raw_dataset = (\n",
    "            Dataset.from_list(\n",
    "                [json.loads(line) for line in bz2.open(path, \"rt\")],\n",
    "            )\n",
    "            .map(\n",
    "                flatten_samples,\n",
    "                batched=True,\n",
    "                remove_columns=[\"_id\", \"samples\"],\n",
    "            )\n",
    "            .map(normalize_text, batched=True)\n",
    "            .map(lambda sample: {\"agent\": sample[\"agent\"].replace(\"-\", \"_\").replace(\":\", \"_\")})\n",
    "        )\n",
    "        dataset = DatasetDict(\n",
    "            {\n",
    "                agent: raw_dataset.filter(lambda x: x[\"agent\"] == agent)\n",
    "                for agent in set(raw_dataset[\"agent\"])\n",
    "            }\n",
    "        )\n",
    "        dataset.push_to_hub(\n",
    "            \"liberi-luminaris/PrismAI\",\n",
    "            config_name,\n",
    "            private=True,\n",
    "            token=HF_TOKEN,\n",
    "        )"
   ]
  },
  {
   "cell_type": "code",
   "execution_count": null,
   "metadata": {},
   "outputs": [],
   "source": [
    "# for agent in [\n",
    "#     \"gpt_4o_mini\",\n",
    "#     \"gemma2_9b\",\n",
    "# ]:\n",
    "datasets: list[DatasetDict] = [\n",
    "    # load_dataset(\"liberi-luminaris/PrismAI\", f\"{domain}-fulltext-{agent}\")\n",
    "    load_dataset(\"liberi-luminaris/PrismAI\", f\"{domain}-fulltext\").map(\n",
    "        lambda _: {\"domain\": domain}\n",
    "    )\n",
    "    for domain in [\"bundestag\", \"spiegel_articles\", \"gutenberg_de\"]\n",
    "]  # type: ignore\n",
    "agents = set(agent for dataset in datasets for agent in dataset.keys())\n",
    "dataset = DatasetDict(\n",
    "    {\n",
    "        agent: concatenate_datasets(\n",
    "            [dataset[agent] for dataset in datasets if agent in dataset.keys()]\n",
    "        )\n",
    "        for agent in agents\n",
    "    }\n",
    ")\n",
    "dataset.push_to_hub(\n",
    "    \"liberi-luminaris/PrismAI\",\n",
    "    \"de-fulltext\",\n",
    "    # f\"de-fulltext-{agent}\",\n",
    "    private=True,\n",
    "    token=HF_TOKEN,\n",
    ")"
   ]
  },
  {
   "cell_type": "code",
   "execution_count": 32,
   "metadata": {},
   "outputs": [
    {
     "data": {
      "application/vnd.jupyter.widget-view+json": {
       "model_id": "8ffc24a7282f422694d77063cbf739da",
       "version_major": 2,
       "version_minor": 0
      },
      "text/plain": [
       "Map:   0%|          | 0/195 [00:00<?, ? examples/s]"
      ]
     },
     "metadata": {},
     "output_type": "display_data"
    },
    {
     "data": {
      "application/vnd.jupyter.widget-view+json": {
       "model_id": "e3dfb964d8664ceda8b3a31cab03ab5d",
       "version_major": 2,
       "version_minor": 0
      },
      "text/plain": [
       "Map:   0%|          | 0/42311 [00:00<?, ? examples/s]"
      ]
     },
     "metadata": {},
     "output_type": "display_data"
    },
    {
     "data": {
      "application/vnd.jupyter.widget-view+json": {
       "model_id": "c35190ee7e3d4bcca222c041e022304f",
       "version_major": 2,
       "version_minor": 0
      },
      "text/plain": [
       "Map:   0%|          | 0/80 [00:00<?, ? examples/s]"
      ]
     },
     "metadata": {},
     "output_type": "display_data"
    },
    {
     "data": {
      "application/vnd.jupyter.widget-view+json": {
       "model_id": "edbd082a015d40019f8fbd103a755a86",
       "version_major": 2,
       "version_minor": 0
      },
      "text/plain": [
       "Map:   0%|          | 0/100 [00:00<?, ? examples/s]"
      ]
     },
     "metadata": {},
     "output_type": "display_data"
    },
    {
     "data": {
      "application/vnd.jupyter.widget-view+json": {
       "model_id": "979e8e0bf74b46669a039771a29e9d1c",
       "version_major": 2,
       "version_minor": 0
      },
      "text/plain": [
       "Map:   0%|          | 0/15177 [00:00<?, ? examples/s]"
      ]
     },
     "metadata": {},
     "output_type": "display_data"
    },
    {
     "data": {
      "application/vnd.jupyter.widget-view+json": {
       "model_id": "c0c76d27439645b5ab5266b43fbefa9f",
       "version_major": 2,
       "version_minor": 0
      },
      "text/plain": [
       "Map:   0%|          | 0/36239 [00:00<?, ? examples/s]"
      ]
     },
     "metadata": {},
     "output_type": "display_data"
    },
    {
     "data": {
      "application/vnd.jupyter.widget-view+json": {
       "model_id": "03760ab4759d4c128b5a5022f7e1c6e2",
       "version_major": 2,
       "version_minor": 0
      },
      "text/plain": [
       "Map:   0%|          | 0/300 [00:00<?, ? examples/s]"
      ]
     },
     "metadata": {},
     "output_type": "display_data"
    },
    {
     "data": {
      "application/vnd.jupyter.widget-view+json": {
       "model_id": "e980bdc0e8c54513945823e7c028c6fd",
       "version_major": 2,
       "version_minor": 0
      },
      "text/plain": [
       "Map:   0%|          | 0/219 [00:00<?, ? examples/s]"
      ]
     },
     "metadata": {},
     "output_type": "display_data"
    },
    {
     "data": {
      "application/vnd.jupyter.widget-view+json": {
       "model_id": "9ace395a91c847ccbab2f1d3c37666d9",
       "version_major": 2,
       "version_minor": 0
      },
      "text/plain": [
       "Map:   0%|          | 0/1167 [00:00<?, ? examples/s]"
      ]
     },
     "metadata": {},
     "output_type": "display_data"
    },
    {
     "data": {
      "application/vnd.jupyter.widget-view+json": {
       "model_id": "7f493ec0e1f642e6881c02c76f8b2827",
       "version_major": 2,
       "version_minor": 0
      },
      "text/plain": [
       "o3_mini-00000-of-00001.parquet:   0%|          | 0.00/38.7k [00:00<?, ?B/s]"
      ]
     },
     "metadata": {},
     "output_type": "display_data"
    },
    {
     "data": {
      "application/vnd.jupyter.widget-view+json": {
       "model_id": "4463b6343c9446bb909d190aa3c7ffa5",
       "version_major": 2,
       "version_minor": 0
      },
      "text/plain": [
       "human-00000-of-00001.parquet:   0%|          | 0.00/47.6M [00:00<?, ?B/s]"
      ]
     },
     "metadata": {},
     "output_type": "display_data"
    },
    {
     "data": {
      "application/vnd.jupyter.widget-view+json": {
       "model_id": "9376996f3e244832a79ba00e5021b54f",
       "version_major": 2,
       "version_minor": 0
      },
      "text/plain": [
       "nemotron-00000-of-00001.parquet:   0%|          | 0.00/189k [00:00<?, ?B/s]"
      ]
     },
     "metadata": {},
     "output_type": "display_data"
    },
    {
     "data": {
      "application/vnd.jupyter.widget-view+json": {
       "model_id": "d83c638bd74149a0985cf908f169784b",
       "version_major": 2,
       "version_minor": 0
      },
      "text/plain": [
       "gpt_4_turbo-00000-of-00001.parquet:   0%|          | 0.00/186k [00:00<?, ?B/s]"
      ]
     },
     "metadata": {},
     "output_type": "display_data"
    },
    {
     "data": {
      "application/vnd.jupyter.widget-view+json": {
       "model_id": "e31836cd22e149529066aa29cc4b1ad9",
       "version_major": 2,
       "version_minor": 0
      },
      "text/plain": [
       "gemma2_9b-00000-of-00001.parquet:   0%|          | 0.00/28.7M [00:00<?, ?B/s]"
      ]
     },
     "metadata": {},
     "output_type": "display_data"
    },
    {
     "data": {
      "application/vnd.jupyter.widget-view+json": {
       "model_id": "730fbdbe08d847748260a56e5373117f",
       "version_major": 2,
       "version_minor": 0
      },
      "text/plain": [
       "gpt_4o_mini-00000-of-00001.parquet:   0%|          | 0.00/29.4M [00:00<?, ?B/s]"
      ]
     },
     "metadata": {},
     "output_type": "display_data"
    },
    {
     "data": {
      "application/vnd.jupyter.widget-view+json": {
       "model_id": "f0ffe552bba34a21a82993d68e0a1762",
       "version_major": 2,
       "version_minor": 0
      },
      "text/plain": [
       "deepseek_r1_1.5b-00000-of-00001.parquet:   0%|          | 0.00/384k [00:00<?, ?B/s]"
      ]
     },
     "metadata": {},
     "output_type": "display_data"
    },
    {
     "data": {
      "application/vnd.jupyter.widget-view+json": {
       "model_id": "ab0745f413fa4da8aff4f55da49e3653",
       "version_major": 2,
       "version_minor": 0
      },
      "text/plain": [
       "deepseek_r1_32b-00000-of-00001.parquet:   0%|          | 0.00/513k [00:00<?, ?B/s]"
      ]
     },
     "metadata": {},
     "output_type": "display_data"
    },
    {
     "data": {
      "application/vnd.jupyter.widget-view+json": {
       "model_id": "9144c3b4084f43e1a9e92e8a4158578d",
       "version_major": 2,
       "version_minor": 0
      },
      "text/plain": [
       "phi3_3.8b-00000-of-00001.parquet:   0%|          | 0.00/2.64M [00:00<?, ?B/s]"
      ]
     },
     "metadata": {},
     "output_type": "display_data"
    },
    {
     "data": {
      "application/vnd.jupyter.widget-view+json": {
       "model_id": "ac4be72a107e4a6ea5588352ea4d3d8e",
       "version_major": 2,
       "version_minor": 0
      },
      "text/plain": [
       "Generating o3_mini split:   0%|          | 0/7 [00:00<?, ? examples/s]"
      ]
     },
     "metadata": {},
     "output_type": "display_data"
    },
    {
     "data": {
      "application/vnd.jupyter.widget-view+json": {
       "model_id": "2b4ea3cf0d81405f852ee38359490318",
       "version_major": 2,
       "version_minor": 0
      },
      "text/plain": [
       "Generating human split:   0%|          | 0/18773 [00:00<?, ? examples/s]"
      ]
     },
     "metadata": {},
     "output_type": "display_data"
    },
    {
     "data": {
      "application/vnd.jupyter.widget-view+json": {
       "model_id": "c18162f47a7c4076a914de6261fee82e",
       "version_major": 2,
       "version_minor": 0
      },
      "text/plain": [
       "Generating nemotron split:   0%|          | 0/79 [00:00<?, ? examples/s]"
      ]
     },
     "metadata": {},
     "output_type": "display_data"
    },
    {
     "data": {
      "application/vnd.jupyter.widget-view+json": {
       "model_id": "01e64f1b3b1249d582d8de158ae693fb",
       "version_major": 2,
       "version_minor": 0
      },
      "text/plain": [
       "Generating gpt_4_turbo split:   0%|          | 0/74 [00:00<?, ? examples/s]"
      ]
     },
     "metadata": {},
     "output_type": "display_data"
    },
    {
     "data": {
      "application/vnd.jupyter.widget-view+json": {
       "model_id": "2eaea9fb8a6f485980818191452e8b67",
       "version_major": 2,
       "version_minor": 0
      },
      "text/plain": [
       "Generating gemma2_9b split:   0%|          | 0/13799 [00:00<?, ? examples/s]"
      ]
     },
     "metadata": {},
     "output_type": "display_data"
    },
    {
     "data": {
      "application/vnd.jupyter.widget-view+json": {
       "model_id": "bdad4198cd0b42c19cb2db4c3f141f9e",
       "version_major": 2,
       "version_minor": 0
      },
      "text/plain": [
       "Generating gpt_4o_mini split:   0%|          | 0/11814 [00:00<?, ? examples/s]"
      ]
     },
     "metadata": {},
     "output_type": "display_data"
    },
    {
     "data": {
      "application/vnd.jupyter.widget-view+json": {
       "model_id": "32fc47577e9749a6be71fc0497875bed",
       "version_major": 2,
       "version_minor": 0
      },
      "text/plain": [
       "Generating deepseek_r1_1.5b split:   0%|          | 0/300 [00:00<?, ? examples/s]"
      ]
     },
     "metadata": {},
     "output_type": "display_data"
    },
    {
     "data": {
      "application/vnd.jupyter.widget-view+json": {
       "model_id": "a3a11b5e02eb42f7b4632f90181e8767",
       "version_major": 2,
       "version_minor": 0
      },
      "text/plain": [
       "Generating deepseek_r1_32b split:   0%|          | 0/217 [00:00<?, ? examples/s]"
      ]
     },
     "metadata": {},
     "output_type": "display_data"
    },
    {
     "data": {
      "application/vnd.jupyter.widget-view+json": {
       "model_id": "8bd80191636c4d3a9eac06534897397b",
       "version_major": 2,
       "version_minor": 0
      },
      "text/plain": [
       "Generating phi3_3.8b split:   0%|          | 0/872 [00:00<?, ? examples/s]"
      ]
     },
     "metadata": {},
     "output_type": "display_data"
    },
    {
     "data": {
      "application/vnd.jupyter.widget-view+json": {
       "model_id": "58b151a5cf3341d1a13d2a5f87116f9c",
       "version_major": 2,
       "version_minor": 0
      },
      "text/plain": [
       "Map:   0%|          | 0/7 [00:00<?, ? examples/s]"
      ]
     },
     "metadata": {},
     "output_type": "display_data"
    },
    {
     "data": {
      "application/vnd.jupyter.widget-view+json": {
       "model_id": "c1f002de3c314d24bf46da1e3a7b3fea",
       "version_major": 2,
       "version_minor": 0
      },
      "text/plain": [
       "Map:   0%|          | 0/18773 [00:00<?, ? examples/s]"
      ]
     },
     "metadata": {},
     "output_type": "display_data"
    },
    {
     "data": {
      "application/vnd.jupyter.widget-view+json": {
       "model_id": "7bc56c49154740cb8608e0d5094231ab",
       "version_major": 2,
       "version_minor": 0
      },
      "text/plain": [
       "Map:   0%|          | 0/79 [00:00<?, ? examples/s]"
      ]
     },
     "metadata": {},
     "output_type": "display_data"
    },
    {
     "data": {
      "application/vnd.jupyter.widget-view+json": {
       "model_id": "d4b1fe4363a44aa19c1d5fce0d55cba2",
       "version_major": 2,
       "version_minor": 0
      },
      "text/plain": [
       "Map:   0%|          | 0/74 [00:00<?, ? examples/s]"
      ]
     },
     "metadata": {},
     "output_type": "display_data"
    },
    {
     "data": {
      "application/vnd.jupyter.widget-view+json": {
       "model_id": "8cb2c13389524dd29e6c2133c6707a53",
       "version_major": 2,
       "version_minor": 0
      },
      "text/plain": [
       "Map:   0%|          | 0/13799 [00:00<?, ? examples/s]"
      ]
     },
     "metadata": {},
     "output_type": "display_data"
    },
    {
     "data": {
      "application/vnd.jupyter.widget-view+json": {
       "model_id": "cd487dbd42394a1e9d0331bced462e13",
       "version_major": 2,
       "version_minor": 0
      },
      "text/plain": [
       "Map:   0%|          | 0/11814 [00:00<?, ? examples/s]"
      ]
     },
     "metadata": {},
     "output_type": "display_data"
    },
    {
     "data": {
      "application/vnd.jupyter.widget-view+json": {
       "model_id": "3e1b833ed2354b55b4c064417fbc7498",
       "version_major": 2,
       "version_minor": 0
      },
      "text/plain": [
       "Map:   0%|          | 0/300 [00:00<?, ? examples/s]"
      ]
     },
     "metadata": {},
     "output_type": "display_data"
    },
    {
     "data": {
      "application/vnd.jupyter.widget-view+json": {
       "model_id": "239eea1d813645c583c20e9d9a816530",
       "version_major": 2,
       "version_minor": 0
      },
      "text/plain": [
       "Map:   0%|          | 0/217 [00:00<?, ? examples/s]"
      ]
     },
     "metadata": {},
     "output_type": "display_data"
    },
    {
     "data": {
      "application/vnd.jupyter.widget-view+json": {
       "model_id": "b66bc72197654453a80e1a52ebc27b9e",
       "version_major": 2,
       "version_minor": 0
      },
      "text/plain": [
       "Map:   0%|          | 0/872 [00:00<?, ? examples/s]"
      ]
     },
     "metadata": {},
     "output_type": "display_data"
    },
    {
     "data": {
      "application/vnd.jupyter.widget-view+json": {
       "model_id": "2ae880fc337a4a6e90716612135885fa",
       "version_major": 2,
       "version_minor": 0
      },
      "text/plain": [
       "o3_mini-00000-of-00001.parquet:   0%|          | 0.00/610k [00:00<?, ?B/s]"
      ]
     },
     "metadata": {},
     "output_type": "display_data"
    },
    {
     "data": {
      "application/vnd.jupyter.widget-view+json": {
       "model_id": "759e630cfcd240d1abadd29f6b5f8cf5",
       "version_major": 2,
       "version_minor": 0
      },
      "text/plain": [
       "human-00000-of-00001.parquet:   0%|          | 0.00/45.1M [00:00<?, ?B/s]"
      ]
     },
     "metadata": {},
     "output_type": "display_data"
    },
    {
     "data": {
      "application/vnd.jupyter.widget-view+json": {
       "model_id": "1b3818e01fcb4128ae6a5dfd71e446cd",
       "version_major": 2,
       "version_minor": 0
      },
      "text/plain": [
       "nemotron-00000-of-00001.parquet:   0%|          | 0.00/993k [00:00<?, ?B/s]"
      ]
     },
     "metadata": {},
     "output_type": "display_data"
    },
    {
     "data": {
      "application/vnd.jupyter.widget-view+json": {
       "model_id": "279841cccc1b465bb70760942482d669",
       "version_major": 2,
       "version_minor": 0
      },
      "text/plain": [
       "gpt_4_turbo-00000-of-00001.parquet:   0%|          | 0.00/123k [00:00<?, ?B/s]"
      ]
     },
     "metadata": {},
     "output_type": "display_data"
    },
    {
     "data": {
      "application/vnd.jupyter.widget-view+json": {
       "model_id": "7a38ab036d40418faa45ecb7365fa6b4",
       "version_major": 2,
       "version_minor": 0
      },
      "text/plain": [
       "gemma2_9b-00000-of-00001.parquet:   0%|          | 0.00/17.3M [00:00<?, ?B/s]"
      ]
     },
     "metadata": {},
     "output_type": "display_data"
    },
    {
     "data": {
      "application/vnd.jupyter.widget-view+json": {
       "model_id": "763d1ffa4c5b4372b930d372e1f8d288",
       "version_major": 2,
       "version_minor": 0
      },
      "text/plain": [
       "gpt_4o_mini-00000-of-00001.parquet:   0%|          | 0.00/9.05M [00:00<?, ?B/s]"
      ]
     },
     "metadata": {},
     "output_type": "display_data"
    },
    {
     "data": {
      "application/vnd.jupyter.widget-view+json": {
       "model_id": "d99a6dcb5b1b4d729a560c9e5824bdd5",
       "version_major": 2,
       "version_minor": 0
      },
      "text/plain": [
       "deepseek_r1_1.5b-00000-of-00001.parquet:   0%|          | 0.00/387k [00:00<?, ?B/s]"
      ]
     },
     "metadata": {},
     "output_type": "display_data"
    },
    {
     "data": {
      "application/vnd.jupyter.widget-view+json": {
       "model_id": "cb80ebbf56f74d7ab107958828153b52",
       "version_major": 2,
       "version_minor": 0
      },
      "text/plain": [
       "deepseek_r1_32b-00000-of-00001.parquet:   0%|          | 0.00/552k [00:00<?, ?B/s]"
      ]
     },
     "metadata": {},
     "output_type": "display_data"
    },
    {
     "data": {
      "application/vnd.jupyter.widget-view+json": {
       "model_id": "95ca1d0e7b2f4c309ddf55967d56a6e1",
       "version_major": 2,
       "version_minor": 0
      },
      "text/plain": [
       "phi3_3.8b-00000-of-00001.parquet:   0%|          | 0.00/394k [00:00<?, ?B/s]"
      ]
     },
     "metadata": {},
     "output_type": "display_data"
    },
    {
     "data": {
      "application/vnd.jupyter.widget-view+json": {
       "model_id": "7e132e2cd12344eba7f7750f15a2cb05",
       "version_major": 2,
       "version_minor": 0
      },
      "text/plain": [
       "Generating o3_mini split:   0%|          | 0/109 [00:00<?, ? examples/s]"
      ]
     },
     "metadata": {},
     "output_type": "display_data"
    },
    {
     "data": {
      "application/vnd.jupyter.widget-view+json": {
       "model_id": "5044591d142540aea5b2d59b4cb9c9c6",
       "version_major": 2,
       "version_minor": 0
      },
      "text/plain": [
       "Generating human split:   0%|          | 0/9148 [00:00<?, ? examples/s]"
      ]
     },
     "metadata": {},
     "output_type": "display_data"
    },
    {
     "data": {
      "application/vnd.jupyter.widget-view+json": {
       "model_id": "f55488112a9745cea303adfb94fd50e2",
       "version_major": 2,
       "version_minor": 0
      },
      "text/plain": [
       "Generating nemotron split:   0%|          | 0/474 [00:00<?, ? examples/s]"
      ]
     },
     "metadata": {},
     "output_type": "display_data"
    },
    {
     "data": {
      "application/vnd.jupyter.widget-view+json": {
       "model_id": "4f52f12eae6447889430ca92e58b5912",
       "version_major": 2,
       "version_minor": 0
      },
      "text/plain": [
       "Generating gpt_4_turbo split:   0%|          | 0/59 [00:00<?, ? examples/s]"
      ]
     },
     "metadata": {},
     "output_type": "display_data"
    },
    {
     "data": {
      "application/vnd.jupyter.widget-view+json": {
       "model_id": "6276c178f1c9457192c6b0ceb0436c7f",
       "version_major": 2,
       "version_minor": 0
      },
      "text/plain": [
       "Generating gemma2_9b split:   0%|          | 0/8909 [00:00<?, ? examples/s]"
      ]
     },
     "metadata": {},
     "output_type": "display_data"
    },
    {
     "data": {
      "application/vnd.jupyter.widget-view+json": {
       "model_id": "275d86f91e584be19ca25b7d6ebdf059",
       "version_major": 2,
       "version_minor": 0
      },
      "text/plain": [
       "Generating gpt_4o_mini split:   0%|          | 0/3761 [00:00<?, ? examples/s]"
      ]
     },
     "metadata": {},
     "output_type": "display_data"
    },
    {
     "data": {
      "application/vnd.jupyter.widget-view+json": {
       "model_id": "11beb7e9488b4186ade1ddc8140bb5be",
       "version_major": 2,
       "version_minor": 0
      },
      "text/plain": [
       "Generating deepseek_r1_1.5b split:   0%|          | 0/300 [00:00<?, ? examples/s]"
      ]
     },
     "metadata": {},
     "output_type": "display_data"
    },
    {
     "data": {
      "application/vnd.jupyter.widget-view+json": {
       "model_id": "c219edd0cf3643c7af5a20b84d778ed9",
       "version_major": 2,
       "version_minor": 0
      },
      "text/plain": [
       "Generating deepseek_r1_32b split:   0%|          | 0/216 [00:00<?, ? examples/s]"
      ]
     },
     "metadata": {},
     "output_type": "display_data"
    },
    {
     "data": {
      "application/vnd.jupyter.widget-view+json": {
       "model_id": "a02deef29d464d80ab94fac2aa47c615",
       "version_major": 2,
       "version_minor": 0
      },
      "text/plain": [
       "Generating phi3_3.8b split:   0%|          | 0/100 [00:00<?, ? examples/s]"
      ]
     },
     "metadata": {},
     "output_type": "display_data"
    },
    {
     "data": {
      "application/vnd.jupyter.widget-view+json": {
       "model_id": "21f5bfa068a14db1bd6c04c37c43c876",
       "version_major": 2,
       "version_minor": 0
      },
      "text/plain": [
       "Map:   0%|          | 0/109 [00:00<?, ? examples/s]"
      ]
     },
     "metadata": {},
     "output_type": "display_data"
    },
    {
     "data": {
      "application/vnd.jupyter.widget-view+json": {
       "model_id": "eaf99a5f778a4d388deb29bebc622a1d",
       "version_major": 2,
       "version_minor": 0
      },
      "text/plain": [
       "Map:   0%|          | 0/9148 [00:00<?, ? examples/s]"
      ]
     },
     "metadata": {},
     "output_type": "display_data"
    },
    {
     "data": {
      "application/vnd.jupyter.widget-view+json": {
       "model_id": "6bd7a27191f04abf9b9f0d19c8bd4ebf",
       "version_major": 2,
       "version_minor": 0
      },
      "text/plain": [
       "Map:   0%|          | 0/474 [00:00<?, ? examples/s]"
      ]
     },
     "metadata": {},
     "output_type": "display_data"
    },
    {
     "data": {
      "application/vnd.jupyter.widget-view+json": {
       "model_id": "a068c951a99e4e6b861cd08600168a2e",
       "version_major": 2,
       "version_minor": 0
      },
      "text/plain": [
       "Map:   0%|          | 0/59 [00:00<?, ? examples/s]"
      ]
     },
     "metadata": {},
     "output_type": "display_data"
    },
    {
     "data": {
      "application/vnd.jupyter.widget-view+json": {
       "model_id": "15919d204e9547afb8f9c63d578b3815",
       "version_major": 2,
       "version_minor": 0
      },
      "text/plain": [
       "Map:   0%|          | 0/8909 [00:00<?, ? examples/s]"
      ]
     },
     "metadata": {},
     "output_type": "display_data"
    },
    {
     "data": {
      "application/vnd.jupyter.widget-view+json": {
       "model_id": "033730f79690434996bef2889bfc9d9e",
       "version_major": 2,
       "version_minor": 0
      },
      "text/plain": [
       "Map:   0%|          | 0/3761 [00:00<?, ? examples/s]"
      ]
     },
     "metadata": {},
     "output_type": "display_data"
    },
    {
     "data": {
      "application/vnd.jupyter.widget-view+json": {
       "model_id": "fd1d8de6a1224235a20db3d1d6041a81",
       "version_major": 2,
       "version_minor": 0
      },
      "text/plain": [
       "Map:   0%|          | 0/300 [00:00<?, ? examples/s]"
      ]
     },
     "metadata": {},
     "output_type": "display_data"
    },
    {
     "data": {
      "application/vnd.jupyter.widget-view+json": {
       "model_id": "ac16961ce57744bf8b939f52114c9046",
       "version_major": 2,
       "version_minor": 0
      },
      "text/plain": [
       "Map:   0%|          | 0/216 [00:00<?, ? examples/s]"
      ]
     },
     "metadata": {},
     "output_type": "display_data"
    },
    {
     "data": {
      "application/vnd.jupyter.widget-view+json": {
       "model_id": "4334adf0514b4cf7bfdb1aeaed70c8c0",
       "version_major": 2,
       "version_minor": 0
      },
      "text/plain": [
       "Map:   0%|          | 0/100 [00:00<?, ? examples/s]"
      ]
     },
     "metadata": {},
     "output_type": "display_data"
    },
    {
     "data": {
      "application/vnd.jupyter.widget-view+json": {
       "model_id": "ddee7a3380794a1296ec7eef73182af3",
       "version_major": 2,
       "version_minor": 0
      },
      "text/plain": [
       "o3_mini-00000-of-00001.parquet:   0%|          | 0.00/709k [00:00<?, ?B/s]"
      ]
     },
     "metadata": {},
     "output_type": "display_data"
    },
    {
     "data": {
      "application/vnd.jupyter.widget-view+json": {
       "model_id": "d7ee6088e95a4fb98643dde8aaa553d8",
       "version_major": 2,
       "version_minor": 0
      },
      "text/plain": [
       "human-00000-of-00001.parquet:   0%|          | 0.00/178M [00:00<?, ?B/s]"
      ]
     },
     "metadata": {},
     "output_type": "display_data"
    },
    {
     "data": {
      "application/vnd.jupyter.widget-view+json": {
       "model_id": "7ae6b55c80cc40e1a035af9c9e7b3a4f",
       "version_major": 2,
       "version_minor": 0
      },
      "text/plain": [
       "nemotron-00000-of-00001.parquet:   0%|          | 0.00/175k [00:00<?, ?B/s]"
      ]
     },
     "metadata": {},
     "output_type": "display_data"
    },
    {
     "data": {
      "application/vnd.jupyter.widget-view+json": {
       "model_id": "881f0b4d81b445148a6aad95ceb72478",
       "version_major": 2,
       "version_minor": 0
      },
      "text/plain": [
       "gpt_4_turbo-00000-of-00001.parquet:   0%|          | 0.00/154k [00:00<?, ?B/s]"
      ]
     },
     "metadata": {},
     "output_type": "display_data"
    },
    {
     "data": {
      "application/vnd.jupyter.widget-view+json": {
       "model_id": "ee465fa00388424b877d4167910560c0",
       "version_major": 2,
       "version_minor": 0
      },
      "text/plain": [
       "gemma2_9b-00000-of-00001.parquet:   0%|          | 0.00/25.8M [00:00<?, ?B/s]"
      ]
     },
     "metadata": {},
     "output_type": "display_data"
    },
    {
     "data": {
      "application/vnd.jupyter.widget-view+json": {
       "model_id": "6ae5be869efd4822b349de7ea36d9021",
       "version_major": 2,
       "version_minor": 0
      },
      "text/plain": [
       "gpt_4o_mini-00000-of-00001.parquet:   0%|          | 0.00/12.0M [00:00<?, ?B/s]"
      ]
     },
     "metadata": {},
     "output_type": "display_data"
    },
    {
     "data": {
      "application/vnd.jupyter.widget-view+json": {
       "model_id": "cd95f80a891a424380119e0491ff936b",
       "version_major": 2,
       "version_minor": 0
      },
      "text/plain": [
       "deepseek_r1_1.5b-00000-of-00001.parquet:   0%|          | 0.00/367k [00:00<?, ?B/s]"
      ]
     },
     "metadata": {},
     "output_type": "display_data"
    },
    {
     "data": {
      "application/vnd.jupyter.widget-view+json": {
       "model_id": "6aac3a29d4434b678ec36dc6e7bd22cf",
       "version_major": 2,
       "version_minor": 0
      },
      "text/plain": [
       "deepseek_r1_32b-00000-of-00001.parquet:   0%|          | 0.00/430k [00:00<?, ?B/s]"
      ]
     },
     "metadata": {},
     "output_type": "display_data"
    },
    {
     "data": {
      "application/vnd.jupyter.widget-view+json": {
       "model_id": "e76cb50bf1754547aef233dce3213eda",
       "version_major": 2,
       "version_minor": 0
      },
      "text/plain": [
       "phi3_3.8b-00000-of-00001.parquet:   0%|          | 0.00/399k [00:00<?, ?B/s]"
      ]
     },
     "metadata": {},
     "output_type": "display_data"
    },
    {
     "data": {
      "application/vnd.jupyter.widget-view+json": {
       "model_id": "43bb29a31b0c4971a68d9af73d7878b3",
       "version_major": 2,
       "version_minor": 0
      },
      "text/plain": [
       "Generating o3_mini split:   0%|          | 0/171 [00:00<?, ? examples/s]"
      ]
     },
     "metadata": {},
     "output_type": "display_data"
    },
    {
     "data": {
      "application/vnd.jupyter.widget-view+json": {
       "model_id": "33e3ed5ee807496ba39bd2e52d9b53c4",
       "version_major": 2,
       "version_minor": 0
      },
      "text/plain": [
       "Generating human split:   0%|          | 0/13760 [00:00<?, ? examples/s]"
      ]
     },
     "metadata": {},
     "output_type": "display_data"
    },
    {
     "data": {
      "application/vnd.jupyter.widget-view+json": {
       "model_id": "ea68782aa5b0451197d9ddc5f13630ed",
       "version_major": 2,
       "version_minor": 0
      },
      "text/plain": [
       "Generating nemotron split:   0%|          | 0/81 [00:00<?, ? examples/s]"
      ]
     },
     "metadata": {},
     "output_type": "display_data"
    },
    {
     "data": {
      "application/vnd.jupyter.widget-view+json": {
       "model_id": "6a0b9154e563487ba8684ad5764093ca",
       "version_major": 2,
       "version_minor": 0
      },
      "text/plain": [
       "Generating gpt_4_turbo split:   0%|          | 0/74 [00:00<?, ? examples/s]"
      ]
     },
     "metadata": {},
     "output_type": "display_data"
    },
    {
     "data": {
      "application/vnd.jupyter.widget-view+json": {
       "model_id": "74d143f915db43ca83008b455660a9a7",
       "version_major": 2,
       "version_minor": 0
      },
      "text/plain": [
       "Generating gemma2_9b split:   0%|          | 0/13343 [00:00<?, ? examples/s]"
      ]
     },
     "metadata": {},
     "output_type": "display_data"
    },
    {
     "data": {
      "application/vnd.jupyter.widget-view+json": {
       "model_id": "2cf9369690c44673aa787782e6b919ea",
       "version_major": 2,
       "version_minor": 0
      },
      "text/plain": [
       "Generating gpt_4o_mini split:   0%|          | 0/5961 [00:00<?, ? examples/s]"
      ]
     },
     "metadata": {},
     "output_type": "display_data"
    },
    {
     "data": {
      "application/vnd.jupyter.widget-view+json": {
       "model_id": "62acc80acce44445858b469d6df2c7cb",
       "version_major": 2,
       "version_minor": 0
      },
      "text/plain": [
       "Generating deepseek_r1_1.5b split:   0%|          | 0/300 [00:00<?, ? examples/s]"
      ]
     },
     "metadata": {},
     "output_type": "display_data"
    },
    {
     "data": {
      "application/vnd.jupyter.widget-view+json": {
       "model_id": "efa89c129f9448ecb4f6c299280f9fe4",
       "version_major": 2,
       "version_minor": 0
      },
      "text/plain": [
       "Generating deepseek_r1_32b split:   0%|          | 0/218 [00:00<?, ? examples/s]"
      ]
     },
     "metadata": {},
     "output_type": "display_data"
    },
    {
     "data": {
      "application/vnd.jupyter.widget-view+json": {
       "model_id": "8ccf74d179d44920975513cee04ad6a4",
       "version_major": 2,
       "version_minor": 0
      },
      "text/plain": [
       "Generating phi3_3.8b split:   0%|          | 0/100 [00:00<?, ? examples/s]"
      ]
     },
     "metadata": {},
     "output_type": "display_data"
    },
    {
     "data": {
      "application/vnd.jupyter.widget-view+json": {
       "model_id": "ab9078ec8e354ad5b7815d3f35003e5d",
       "version_major": 2,
       "version_minor": 0
      },
      "text/plain": [
       "Map:   0%|          | 0/171 [00:00<?, ? examples/s]"
      ]
     },
     "metadata": {},
     "output_type": "display_data"
    },
    {
     "data": {
      "application/vnd.jupyter.widget-view+json": {
       "model_id": "6a375877c02c4385898965ebcd01a68d",
       "version_major": 2,
       "version_minor": 0
      },
      "text/plain": [
       "Map:   0%|          | 0/13760 [00:00<?, ? examples/s]"
      ]
     },
     "metadata": {},
     "output_type": "display_data"
    },
    {
     "data": {
      "application/vnd.jupyter.widget-view+json": {
       "model_id": "11cfd02a12ce4450b4ec66ccaa13fc09",
       "version_major": 2,
       "version_minor": 0
      },
      "text/plain": [
       "Map:   0%|          | 0/81 [00:00<?, ? examples/s]"
      ]
     },
     "metadata": {},
     "output_type": "display_data"
    },
    {
     "data": {
      "application/vnd.jupyter.widget-view+json": {
       "model_id": "b949229c924e43ca9dcc60ac9fdcdd07",
       "version_major": 2,
       "version_minor": 0
      },
      "text/plain": [
       "Map:   0%|          | 0/74 [00:00<?, ? examples/s]"
      ]
     },
     "metadata": {},
     "output_type": "display_data"
    },
    {
     "data": {
      "application/vnd.jupyter.widget-view+json": {
       "model_id": "ce5ae9acc60e4ded9b728fd748528a96",
       "version_major": 2,
       "version_minor": 0
      },
      "text/plain": [
       "Map:   0%|          | 0/13343 [00:00<?, ? examples/s]"
      ]
     },
     "metadata": {},
     "output_type": "display_data"
    },
    {
     "data": {
      "application/vnd.jupyter.widget-view+json": {
       "model_id": "173a7604bdc14b07856a2fba93f31bdf",
       "version_major": 2,
       "version_minor": 0
      },
      "text/plain": [
       "Map:   0%|          | 0/5961 [00:00<?, ? examples/s]"
      ]
     },
     "metadata": {},
     "output_type": "display_data"
    },
    {
     "data": {
      "application/vnd.jupyter.widget-view+json": {
       "model_id": "d4cb47d406da4731b0a0c0cb5986e911",
       "version_major": 2,
       "version_minor": 0
      },
      "text/plain": [
       "Map:   0%|          | 0/300 [00:00<?, ? examples/s]"
      ]
     },
     "metadata": {},
     "output_type": "display_data"
    },
    {
     "data": {
      "application/vnd.jupyter.widget-view+json": {
       "model_id": "6ea468a49b77463dbe9d12ecb2ea8ba2",
       "version_major": 2,
       "version_minor": 0
      },
      "text/plain": [
       "Map:   0%|          | 0/218 [00:00<?, ? examples/s]"
      ]
     },
     "metadata": {},
     "output_type": "display_data"
    },
    {
     "data": {
      "application/vnd.jupyter.widget-view+json": {
       "model_id": "fb74fa0b83ac489a9f471cc2cf5526ed",
       "version_major": 2,
       "version_minor": 0
      },
      "text/plain": [
       "Map:   0%|          | 0/100 [00:00<?, ? examples/s]"
      ]
     },
     "metadata": {},
     "output_type": "display_data"
    },
    {
     "data": {
      "application/vnd.jupyter.widget-view+json": {
       "model_id": "349bcef60cb342aca9f7f3d3bde7730d",
       "version_major": 2,
       "version_minor": 0
      },
      "text/plain": [
       "o3_mini-00000-of-00001.parquet:   0%|          | 0.00/949k [00:00<?, ?B/s]"
      ]
     },
     "metadata": {},
     "output_type": "display_data"
    },
    {
     "data": {
      "application/vnd.jupyter.widget-view+json": {
       "model_id": "abab8fc8535047fd90364413115c41fc",
       "version_major": 2,
       "version_minor": 0
      },
      "text/plain": [
       "human-00000-of-00001.parquet:   0%|          | 0.00/242M [00:00<?, ?B/s]"
      ]
     },
     "metadata": {},
     "output_type": "display_data"
    },
    {
     "data": {
      "application/vnd.jupyter.widget-view+json": {
       "model_id": "e11d7d9a2eaa4edca268694983dc88bb",
       "version_major": 2,
       "version_minor": 0
      },
      "text/plain": [
       "gpt_4_turbo-00000-of-00001.parquet:   0%|          | 0.00/15.2k [00:00<?, ?B/s]"
      ]
     },
     "metadata": {},
     "output_type": "display_data"
    },
    {
     "data": {
      "application/vnd.jupyter.widget-view+json": {
       "model_id": "e366dcd60ce246d2bffecf64dd78146a",
       "version_major": 2,
       "version_minor": 0
      },
      "text/plain": [
       "gemma2_9b-00000-of-00001.parquet:   0%|          | 0.00/21.1M [00:00<?, ?B/s]"
      ]
     },
     "metadata": {},
     "output_type": "display_data"
    },
    {
     "data": {
      "application/vnd.jupyter.widget-view+json": {
       "model_id": "dd13aa98f4374f35b78348307f99f549",
       "version_major": 2,
       "version_minor": 0
      },
      "text/plain": [
       "gpt_4o_mini-00000-of-00001.parquet:   0%|          | 0.00/22.9M [00:00<?, ?B/s]"
      ]
     },
     "metadata": {},
     "output_type": "display_data"
    },
    {
     "data": {
      "application/vnd.jupyter.widget-view+json": {
       "model_id": "7265b4255d8449e3a7ffe2098b8cc00f",
       "version_major": 2,
       "version_minor": 0
      },
      "text/plain": [
       "deepseek_r1_1.5b-00000-of-00001.parquet:   0%|          | 0.00/473k [00:00<?, ?B/s]"
      ]
     },
     "metadata": {},
     "output_type": "display_data"
    },
    {
     "data": {
      "application/vnd.jupyter.widget-view+json": {
       "model_id": "0f0bbc12ea7c4d33bc932698e78c13b2",
       "version_major": 2,
       "version_minor": 0
      },
      "text/plain": [
       "deepseek_r1_32b-00000-of-00001.parquet:   0%|          | 0.00/476k [00:00<?, ?B/s]"
      ]
     },
     "metadata": {},
     "output_type": "display_data"
    },
    {
     "data": {
      "application/vnd.jupyter.widget-view+json": {
       "model_id": "fece688cfd634b56a35099e44f50d5e6",
       "version_major": 2,
       "version_minor": 0
      },
      "text/plain": [
       "phi3_3.8b-00000-of-00001.parquet:   0%|          | 0.00/645k [00:00<?, ?B/s]"
      ]
     },
     "metadata": {},
     "output_type": "display_data"
    },
    {
     "data": {
      "application/vnd.jupyter.widget-view+json": {
       "model_id": "54b5f1be6f5a45c19d59d76452557a56",
       "version_major": 2,
       "version_minor": 0
      },
      "text/plain": [
       "Generating o3_mini split:   0%|          | 0/116 [00:00<?, ? examples/s]"
      ]
     },
     "metadata": {},
     "output_type": "display_data"
    },
    {
     "data": {
      "application/vnd.jupyter.widget-view+json": {
       "model_id": "c96e5cea096b47c4a8e3e1b36e42e3e6",
       "version_major": 2,
       "version_minor": 0
      },
      "text/plain": [
       "Generating human split:   0%|          | 0/8448 [00:00<?, ? examples/s]"
      ]
     },
     "metadata": {},
     "output_type": "display_data"
    },
    {
     "data": {
      "application/vnd.jupyter.widget-view+json": {
       "model_id": "9319163a90454ecf9dc5ca94bb1781e2",
       "version_major": 2,
       "version_minor": 0
      },
      "text/plain": [
       "Generating gpt_4_turbo split:   0%|          | 0/5 [00:00<?, ? examples/s]"
      ]
     },
     "metadata": {},
     "output_type": "display_data"
    },
    {
     "data": {
      "application/vnd.jupyter.widget-view+json": {
       "model_id": "12c89ee59a7e4f5087c6ee44833b66b1",
       "version_major": 2,
       "version_minor": 0
      },
      "text/plain": [
       "Generating gemma2_9b split:   0%|          | 0/7780 [00:00<?, ? examples/s]"
      ]
     },
     "metadata": {},
     "output_type": "display_data"
    },
    {
     "data": {
      "application/vnd.jupyter.widget-view+json": {
       "model_id": "8abe8975fc0049d19d9cbec7be9a7256",
       "version_major": 2,
       "version_minor": 0
      },
      "text/plain": [
       "Generating gpt_4o_mini split:   0%|          | 0/7173 [00:00<?, ? examples/s]"
      ]
     },
     "metadata": {},
     "output_type": "display_data"
    },
    {
     "data": {
      "application/vnd.jupyter.widget-view+json": {
       "model_id": "cf2ac8caa89d4628b4a9fb364e845213",
       "version_major": 2,
       "version_minor": 0
      },
      "text/plain": [
       "Generating deepseek_r1_1.5b split:   0%|          | 0/300 [00:00<?, ? examples/s]"
      ]
     },
     "metadata": {},
     "output_type": "display_data"
    },
    {
     "data": {
      "application/vnd.jupyter.widget-view+json": {
       "model_id": "c8a42835edaa41cba520d0c24073b247",
       "version_major": 2,
       "version_minor": 0
      },
      "text/plain": [
       "Generating deepseek_r1_32b split:   0%|          | 0/218 [00:00<?, ? examples/s]"
      ]
     },
     "metadata": {},
     "output_type": "display_data"
    },
    {
     "data": {
      "application/vnd.jupyter.widget-view+json": {
       "model_id": "6c9ddc307ec34687941781aeb7721879",
       "version_major": 2,
       "version_minor": 0
      },
      "text/plain": [
       "Generating phi3_3.8b split:   0%|          | 0/109 [00:00<?, ? examples/s]"
      ]
     },
     "metadata": {},
     "output_type": "display_data"
    },
    {
     "data": {
      "application/vnd.jupyter.widget-view+json": {
       "model_id": "eab11cb4e22a45f4b9b7b275e856b924",
       "version_major": 2,
       "version_minor": 0
      },
      "text/plain": [
       "Map:   0%|          | 0/116 [00:00<?, ? examples/s]"
      ]
     },
     "metadata": {},
     "output_type": "display_data"
    },
    {
     "data": {
      "application/vnd.jupyter.widget-view+json": {
       "model_id": "6ba3d96297c54a82bec7c5ddd186fc29",
       "version_major": 2,
       "version_minor": 0
      },
      "text/plain": [
       "Map:   0%|          | 0/8448 [00:00<?, ? examples/s]"
      ]
     },
     "metadata": {},
     "output_type": "display_data"
    },
    {
     "data": {
      "application/vnd.jupyter.widget-view+json": {
       "model_id": "116e66a1355e47648b5b993fe07c3b3f",
       "version_major": 2,
       "version_minor": 0
      },
      "text/plain": [
       "Map:   0%|          | 0/5 [00:00<?, ? examples/s]"
      ]
     },
     "metadata": {},
     "output_type": "display_data"
    },
    {
     "data": {
      "application/vnd.jupyter.widget-view+json": {
       "model_id": "5a3acef672c14bba8676461324d1c758",
       "version_major": 2,
       "version_minor": 0
      },
      "text/plain": [
       "Map:   0%|          | 0/7780 [00:00<?, ? examples/s]"
      ]
     },
     "metadata": {},
     "output_type": "display_data"
    },
    {
     "data": {
      "application/vnd.jupyter.widget-view+json": {
       "model_id": "c1cabc68ca2d445b9efee48f954ee708",
       "version_major": 2,
       "version_minor": 0
      },
      "text/plain": [
       "Map:   0%|          | 0/7173 [00:00<?, ? examples/s]"
      ]
     },
     "metadata": {},
     "output_type": "display_data"
    },
    {
     "data": {
      "application/vnd.jupyter.widget-view+json": {
       "model_id": "20d8d13295ba4a4483817f1986c7648f",
       "version_major": 2,
       "version_minor": 0
      },
      "text/plain": [
       "Map:   0%|          | 0/300 [00:00<?, ? examples/s]"
      ]
     },
     "metadata": {},
     "output_type": "display_data"
    },
    {
     "data": {
      "application/vnd.jupyter.widget-view+json": {
       "model_id": "ad8f5c0c7fa8422aa0c7b84d5587b161",
       "version_major": 2,
       "version_minor": 0
      },
      "text/plain": [
       "Map:   0%|          | 0/218 [00:00<?, ? examples/s]"
      ]
     },
     "metadata": {},
     "output_type": "display_data"
    },
    {
     "data": {
      "application/vnd.jupyter.widget-view+json": {
       "model_id": "ecdd1e78191c44e787dfc100d2041f5a",
       "version_major": 2,
       "version_minor": 0
      },
      "text/plain": [
       "Map:   0%|          | 0/109 [00:00<?, ? examples/s]"
      ]
     },
     "metadata": {},
     "output_type": "display_data"
    },
    {
     "data": {
      "application/vnd.jupyter.widget-view+json": {
       "model_id": "33c27121f8654989a7ee8af5978de0e5",
       "version_major": 2,
       "version_minor": 0
      },
      "text/plain": [
       "o3_mini-00000-of-00001.parquet:   0%|          | 0.00/545k [00:00<?, ?B/s]"
      ]
     },
     "metadata": {},
     "output_type": "display_data"
    },
    {
     "data": {
      "application/vnd.jupyter.widget-view+json": {
       "model_id": "6ae49a1265f74ee787d93457aeff55fc",
       "version_major": 2,
       "version_minor": 0
      },
      "text/plain": [
       "human-00000-of-00003.parquet:   0%|          | 0.00/454M [00:00<?, ?B/s]"
      ]
     },
     "metadata": {},
     "output_type": "display_data"
    },
    {
     "data": {
      "application/vnd.jupyter.widget-view+json": {
       "model_id": "cd411736d1814f36b16d25b3b2a8736c",
       "version_major": 2,
       "version_minor": 0
      },
      "text/plain": [
       "human-00001-of-00003.parquet:   0%|          | 0.00/440M [00:00<?, ?B/s]"
      ]
     },
     "metadata": {},
     "output_type": "display_data"
    },
    {
     "data": {
      "application/vnd.jupyter.widget-view+json": {
       "model_id": "f02a9aa2ba234123ba64e70ce53f29e1",
       "version_major": 2,
       "version_minor": 0
      },
      "text/plain": [
       "human-00002-of-00003.parquet:   0%|          | 0.00/482M [00:00<?, ?B/s]"
      ]
     },
     "metadata": {},
     "output_type": "display_data"
    },
    {
     "data": {
      "application/vnd.jupyter.widget-view+json": {
       "model_id": "279bf91119ab4cbc8d7b020eddb0f61d",
       "version_major": 2,
       "version_minor": 0
      },
      "text/plain": [
       "nemotron-00000-of-00001.parquet:   0%|          | 0.00/1.19M [00:00<?, ?B/s]"
      ]
     },
     "metadata": {},
     "output_type": "display_data"
    },
    {
     "data": {
      "application/vnd.jupyter.widget-view+json": {
       "model_id": "7b556f89d0054202b0a66a7e669c51fc",
       "version_major": 2,
       "version_minor": 0
      },
      "text/plain": [
       "gpt_4_turbo-00000-of-00001.parquet:   0%|          | 0.00/40.4k [00:00<?, ?B/s]"
      ]
     },
     "metadata": {},
     "output_type": "display_data"
    },
    {
     "data": {
      "application/vnd.jupyter.widget-view+json": {
       "model_id": "a6df511404d44cac90e1719f2e7ee953",
       "version_major": 2,
       "version_minor": 0
      },
      "text/plain": [
       "gemma2_9b-00000-of-00003.parquet:   0%|          | 0.00/6.08M [00:00<?, ?B/s]"
      ]
     },
     "metadata": {},
     "output_type": "display_data"
    },
    {
     "data": {
      "application/vnd.jupyter.widget-view+json": {
       "model_id": "762de55f43774aba9e9c7eb2449da978",
       "version_major": 2,
       "version_minor": 0
      },
      "text/plain": [
       "gemma2_9b-00001-of-00003.parquet:   0%|          | 0.00/6.02M [00:00<?, ?B/s]"
      ]
     },
     "metadata": {},
     "output_type": "display_data"
    },
    {
     "data": {
      "application/vnd.jupyter.widget-view+json": {
       "model_id": "96fe428a7f4343ce9c18c134fa277c8c",
       "version_major": 2,
       "version_minor": 0
      },
      "text/plain": [
       "gemma2_9b-00002-of-00003.parquet:   0%|          | 0.00/5.99M [00:00<?, ?B/s]"
      ]
     },
     "metadata": {},
     "output_type": "display_data"
    },
    {
     "data": {
      "application/vnd.jupyter.widget-view+json": {
       "model_id": "1c856ac1211a48eb9d759bbe4e424588",
       "version_major": 2,
       "version_minor": 0
      },
      "text/plain": [
       "gpt_4o_mini-00000-of-00001.parquet:   0%|          | 0.00/5.92M [00:00<?, ?B/s]"
      ]
     },
     "metadata": {},
     "output_type": "display_data"
    },
    {
     "data": {
      "application/vnd.jupyter.widget-view+json": {
       "model_id": "68cf449c811445689026005bd9712a0e",
       "version_major": 2,
       "version_minor": 0
      },
      "text/plain": [
       "deepseek_r1_1.5b-00000-of-00001.parquet:   0%|          | 0.00/207k [00:00<?, ?B/s]"
      ]
     },
     "metadata": {},
     "output_type": "display_data"
    },
    {
     "data": {
      "application/vnd.jupyter.widget-view+json": {
       "model_id": "ab009be9d2a74a57a408b31b9eb4b738",
       "version_major": 2,
       "version_minor": 0
      },
      "text/plain": [
       "deepseek_r1_32b-00000-of-00001.parquet:   0%|          | 0.00/159k [00:00<?, ?B/s]"
      ]
     },
     "metadata": {},
     "output_type": "display_data"
    },
    {
     "data": {
      "application/vnd.jupyter.widget-view+json": {
       "model_id": "471f390ed1ae412a824899c708543aed",
       "version_major": 2,
       "version_minor": 0
      },
      "text/plain": [
       "phi3_3.8b-00000-of-00001.parquet:   0%|          | 0.00/57.6k [00:00<?, ?B/s]"
      ]
     },
     "metadata": {},
     "output_type": "display_data"
    },
    {
     "data": {
      "application/vnd.jupyter.widget-view+json": {
       "model_id": "824278e8525d419f9b377657f7f55014",
       "version_major": 2,
       "version_minor": 0
      },
      "text/plain": [
       "Generating o3_mini split:   0%|          | 0/65 [00:00<?, ? examples/s]"
      ]
     },
     "metadata": {},
     "output_type": "display_data"
    },
    {
     "data": {
      "application/vnd.jupyter.widget-view+json": {
       "model_id": "4b0139313c78410eaf65626fd7a595b6",
       "version_major": 2,
       "version_minor": 0
      },
      "text/plain": [
       "Generating human split:   0%|          | 0/6801 [00:00<?, ? examples/s]"
      ]
     },
     "metadata": {},
     "output_type": "display_data"
    },
    {
     "data": {
      "application/vnd.jupyter.widget-view+json": {
       "model_id": "2dbb2227b462465489f452aa56ec449f",
       "version_major": 2,
       "version_minor": 0
      },
      "text/plain": [
       "Generating nemotron split:   0%|          | 0/381 [00:00<?, ? examples/s]"
      ]
     },
     "metadata": {},
     "output_type": "display_data"
    },
    {
     "data": {
      "application/vnd.jupyter.widget-view+json": {
       "model_id": "5f732fd517b340f184bda0ce12af4623",
       "version_major": 2,
       "version_minor": 0
      },
      "text/plain": [
       "Generating gpt_4_turbo split:   0%|          | 0/12 [00:00<?, ? examples/s]"
      ]
     },
     "metadata": {},
     "output_type": "display_data"
    },
    {
     "data": {
      "application/vnd.jupyter.widget-view+json": {
       "model_id": "fc305602bb524fbcb08c339f740f2bc6",
       "version_major": 2,
       "version_minor": 0
      },
      "text/plain": [
       "Generating gemma2_9b split:   0%|          | 0/6575 [00:00<?, ? examples/s]"
      ]
     },
     "metadata": {},
     "output_type": "display_data"
    },
    {
     "data": {
      "application/vnd.jupyter.widget-view+json": {
       "model_id": "11c912621bdd4a0e910a3834ded79abc",
       "version_major": 2,
       "version_minor": 0
      },
      "text/plain": [
       "Generating gpt_4o_mini split:   0%|          | 0/1485 [00:00<?, ? examples/s]"
      ]
     },
     "metadata": {},
     "output_type": "display_data"
    },
    {
     "data": {
      "application/vnd.jupyter.widget-view+json": {
       "model_id": "835aed97634e481591400809cf979ac0",
       "version_major": 2,
       "version_minor": 0
      },
      "text/plain": [
       "Generating deepseek_r1_1.5b split:   0%|          | 0/113 [00:00<?, ? examples/s]"
      ]
     },
     "metadata": {},
     "output_type": "display_data"
    },
    {
     "data": {
      "application/vnd.jupyter.widget-view+json": {
       "model_id": "67515bd8ed5c48af82940843ae12b835",
       "version_major": 2,
       "version_minor": 0
      },
      "text/plain": [
       "Generating deepseek_r1_32b split:   0%|          | 0/49 [00:00<?, ? examples/s]"
      ]
     },
     "metadata": {},
     "output_type": "display_data"
    },
    {
     "data": {
      "application/vnd.jupyter.widget-view+json": {
       "model_id": "075eb04c2a7d4a64b3a6fce1ae5cad72",
       "version_major": 2,
       "version_minor": 0
      },
      "text/plain": [
       "Generating phi3_3.8b split:   0%|          | 0/6 [00:00<?, ? examples/s]"
      ]
     },
     "metadata": {},
     "output_type": "display_data"
    },
    {
     "data": {
      "application/vnd.jupyter.widget-view+json": {
       "model_id": "030992a95b294da4a0688ad7582f258c",
       "version_major": 2,
       "version_minor": 0
      },
      "text/plain": [
       "Map:   0%|          | 0/65 [00:00<?, ? examples/s]"
      ]
     },
     "metadata": {},
     "output_type": "display_data"
    },
    {
     "data": {
      "application/vnd.jupyter.widget-view+json": {
       "model_id": "c42a6e1db6af4ac29d6d5d40ee6e5b93",
       "version_major": 2,
       "version_minor": 0
      },
      "text/plain": [
       "Map:   0%|          | 0/6801 [00:00<?, ? examples/s]"
      ]
     },
     "metadata": {},
     "output_type": "display_data"
    },
    {
     "data": {
      "application/vnd.jupyter.widget-view+json": {
       "model_id": "b6e20eece14e4171a29fc21322f51ef6",
       "version_major": 2,
       "version_minor": 0
      },
      "text/plain": [
       "Map:   0%|          | 0/381 [00:00<?, ? examples/s]"
      ]
     },
     "metadata": {},
     "output_type": "display_data"
    },
    {
     "data": {
      "application/vnd.jupyter.widget-view+json": {
       "model_id": "fc1249000f95417f8767b16b015b0b4c",
       "version_major": 2,
       "version_minor": 0
      },
      "text/plain": [
       "Map:   0%|          | 0/12 [00:00<?, ? examples/s]"
      ]
     },
     "metadata": {},
     "output_type": "display_data"
    },
    {
     "data": {
      "application/vnd.jupyter.widget-view+json": {
       "model_id": "62edff86c2da43b0875b0fb63fb468d9",
       "version_major": 2,
       "version_minor": 0
      },
      "text/plain": [
       "Map:   0%|          | 0/6575 [00:00<?, ? examples/s]"
      ]
     },
     "metadata": {},
     "output_type": "display_data"
    },
    {
     "data": {
      "application/vnd.jupyter.widget-view+json": {
       "model_id": "df39407e4b7b47bda5b8162f0a37b187",
       "version_major": 2,
       "version_minor": 0
      },
      "text/plain": [
       "Map:   0%|          | 0/1485 [00:00<?, ? examples/s]"
      ]
     },
     "metadata": {},
     "output_type": "display_data"
    },
    {
     "data": {
      "application/vnd.jupyter.widget-view+json": {
       "model_id": "679d85c093a8453c85e3a26aed7a8a36",
       "version_major": 2,
       "version_minor": 0
      },
      "text/plain": [
       "Map:   0%|          | 0/113 [00:00<?, ? examples/s]"
      ]
     },
     "metadata": {},
     "output_type": "display_data"
    },
    {
     "data": {
      "application/vnd.jupyter.widget-view+json": {
       "model_id": "f78ac0dcd7544f3a997cc21c7ef8764a",
       "version_major": 2,
       "version_minor": 0
      },
      "text/plain": [
       "Map:   0%|          | 0/49 [00:00<?, ? examples/s]"
      ]
     },
     "metadata": {},
     "output_type": "display_data"
    },
    {
     "data": {
      "application/vnd.jupyter.widget-view+json": {
       "model_id": "5df21b861d704dc4a3a94d13c59f756c",
       "version_major": 2,
       "version_minor": 0
      },
      "text/plain": [
       "Map:   0%|          | 0/6 [00:00<?, ? examples/s]"
      ]
     },
     "metadata": {},
     "output_type": "display_data"
    },
    {
     "data": {
      "application/vnd.jupyter.widget-view+json": {
       "model_id": "b6678f2720b4497cb954759d2aa973d9",
       "version_major": 2,
       "version_minor": 0
      },
      "text/plain": [
       "Uploading the dataset shards:   0%|          | 0/1 [00:00<?, ?it/s]"
      ]
     },
     "metadata": {},
     "output_type": "display_data"
    },
    {
     "data": {
      "application/vnd.jupyter.widget-view+json": {
       "model_id": "cd3024bcf9cb48029d0fffcbad6dac5d",
       "version_major": 2,
       "version_minor": 0
      },
      "text/plain": [
       "Creating parquet from Arrow format:   0%|          | 0/1 [00:00<?, ?ba/s]"
      ]
     },
     "metadata": {},
     "output_type": "display_data"
    },
    {
     "data": {
      "application/vnd.jupyter.widget-view+json": {
       "model_id": "3e77c1193fa045c9ae605373bdbfdc5e",
       "version_major": 2,
       "version_minor": 0
      },
      "text/plain": [
       "Uploading the dataset shards:   0%|          | 0/7 [00:00<?, ?it/s]"
      ]
     },
     "metadata": {},
     "output_type": "display_data"
    },
    {
     "data": {
      "application/vnd.jupyter.widget-view+json": {
       "model_id": "130f4c1ea3644e719a0c5b45735f3d28",
       "version_major": 2,
       "version_minor": 0
      },
      "text/plain": [
       "Creating parquet from Arrow format:   0%|          | 0/17 [00:00<?, ?ba/s]"
      ]
     },
     "metadata": {},
     "output_type": "display_data"
    },
    {
     "data": {
      "application/vnd.jupyter.widget-view+json": {
       "model_id": "463dc89f47b146b49b722bf189317e4d",
       "version_major": 2,
       "version_minor": 0
      },
      "text/plain": [
       "Creating parquet from Arrow format:   0%|          | 0/17 [00:00<?, ?ba/s]"
      ]
     },
     "metadata": {},
     "output_type": "display_data"
    },
    {
     "data": {
      "application/vnd.jupyter.widget-view+json": {
       "model_id": "a6e52f83c79b4c66a20836c5b549734c",
       "version_major": 2,
       "version_minor": 0
      },
      "text/plain": [
       "Creating parquet from Arrow format:   0%|          | 0/17 [00:00<?, ?ba/s]"
      ]
     },
     "metadata": {},
     "output_type": "display_data"
    },
    {
     "data": {
      "application/vnd.jupyter.widget-view+json": {
       "model_id": "66958d264fba4c6c90a734cdd8bb5481",
       "version_major": 2,
       "version_minor": 0
      },
      "text/plain": [
       "Creating parquet from Arrow format:   0%|          | 0/17 [00:00<?, ?ba/s]"
      ]
     },
     "metadata": {},
     "output_type": "display_data"
    },
    {
     "data": {
      "application/vnd.jupyter.widget-view+json": {
       "model_id": "f86bfe6e9dd440b8a4b48019f8edddf3",
       "version_major": 2,
       "version_minor": 0
      },
      "text/plain": [
       "Creating parquet from Arrow format:   0%|          | 0/17 [00:00<?, ?ba/s]"
      ]
     },
     "metadata": {},
     "output_type": "display_data"
    },
    {
     "data": {
      "application/vnd.jupyter.widget-view+json": {
       "model_id": "ad5beddb938d445e93cad49b106f6f2a",
       "version_major": 2,
       "version_minor": 0
      },
      "text/plain": [
       "Creating parquet from Arrow format:   0%|          | 0/17 [00:00<?, ?ba/s]"
      ]
     },
     "metadata": {},
     "output_type": "display_data"
    },
    {
     "data": {
      "application/vnd.jupyter.widget-view+json": {
       "model_id": "1c7c9a5f7710416e8dc8a2af090a37aa",
       "version_major": 2,
       "version_minor": 0
      },
      "text/plain": [
       "Creating parquet from Arrow format:   0%|          | 0/17 [00:00<?, ?ba/s]"
      ]
     },
     "metadata": {},
     "output_type": "display_data"
    },
    {
     "data": {
      "application/vnd.jupyter.widget-view+json": {
       "model_id": "1422261fd7694e17a1aed4ad246f7468",
       "version_major": 2,
       "version_minor": 0
      },
      "text/plain": [
       "Uploading the dataset shards:   0%|          | 0/1 [00:00<?, ?it/s]"
      ]
     },
     "metadata": {},
     "output_type": "display_data"
    },
    {
     "data": {
      "application/vnd.jupyter.widget-view+json": {
       "model_id": "5841ec686e914804b5db4159f9f99d49",
       "version_major": 2,
       "version_minor": 0
      },
      "text/plain": [
       "Creating parquet from Arrow format:   0%|          | 0/3 [00:00<?, ?ba/s]"
      ]
     },
     "metadata": {},
     "output_type": "display_data"
    },
    {
     "data": {
      "application/vnd.jupyter.widget-view+json": {
       "model_id": "9466f0c1a56e4ebebcb7cc1c2943d4f2",
       "version_major": 2,
       "version_minor": 0
      },
      "text/plain": [
       "Uploading the dataset shards:   0%|          | 0/1 [00:00<?, ?it/s]"
      ]
     },
     "metadata": {},
     "output_type": "display_data"
    },
    {
     "data": {
      "application/vnd.jupyter.widget-view+json": {
       "model_id": "da8300f1712c411d81bfc752a1d7c720",
       "version_major": 2,
       "version_minor": 0
      },
      "text/plain": [
       "Creating parquet from Arrow format:   0%|          | 0/1 [00:00<?, ?ba/s]"
      ]
     },
     "metadata": {},
     "output_type": "display_data"
    },
    {
     "data": {
      "application/vnd.jupyter.widget-view+json": {
       "model_id": "b7f15b0cf2cd44e9887c5325be8b8b3d",
       "version_major": 2,
       "version_minor": 0
      },
      "text/plain": [
       "Uploading the dataset shards:   0%|          | 0/1 [00:00<?, ?it/s]"
      ]
     },
     "metadata": {},
     "output_type": "display_data"
    },
    {
     "data": {
      "application/vnd.jupyter.widget-view+json": {
       "model_id": "7e8f1be132d14a31a7b4db9a08f13473",
       "version_major": 2,
       "version_minor": 0
      },
      "text/plain": [
       "Creating parquet from Arrow format:   0%|          | 0/81 [00:00<?, ?ba/s]"
      ]
     },
     "metadata": {},
     "output_type": "display_data"
    },
    {
     "data": {
      "application/vnd.jupyter.widget-view+json": {
       "model_id": "34d1c3596e3541cab4bf6bc42aee6e92",
       "version_major": 2,
       "version_minor": 0
      },
      "text/plain": [
       "Uploading the dataset shards:   0%|          | 0/1 [00:00<?, ?it/s]"
      ]
     },
     "metadata": {},
     "output_type": "display_data"
    },
    {
     "data": {
      "application/vnd.jupyter.widget-view+json": {
       "model_id": "491ca337427446d99ffdf9b59e2cdca0",
       "version_major": 2,
       "version_minor": 0
      },
      "text/plain": [
       "Creating parquet from Arrow format:   0%|          | 0/72 [00:00<?, ?ba/s]"
      ]
     },
     "metadata": {},
     "output_type": "display_data"
    },
    {
     "data": {
      "application/vnd.jupyter.widget-view+json": {
       "model_id": "5382dc6e094749b88e46c4d1f392f061",
       "version_major": 2,
       "version_minor": 0
      },
      "text/plain": [
       "Uploading the dataset shards:   0%|          | 0/1 [00:00<?, ?it/s]"
      ]
     },
     "metadata": {},
     "output_type": "display_data"
    },
    {
     "data": {
      "application/vnd.jupyter.widget-view+json": {
       "model_id": "ace2ebca28254576adcb866689a2097c",
       "version_major": 2,
       "version_minor": 0
      },
      "text/plain": [
       "Creating parquet from Arrow format:   0%|          | 0/2 [00:00<?, ?ba/s]"
      ]
     },
     "metadata": {},
     "output_type": "display_data"
    },
    {
     "data": {
      "application/vnd.jupyter.widget-view+json": {
       "model_id": "7df2722c4ce44f09968047b27ff6aa3a",
       "version_major": 2,
       "version_minor": 0
      },
      "text/plain": [
       "Uploading the dataset shards:   0%|          | 0/1 [00:00<?, ?it/s]"
      ]
     },
     "metadata": {},
     "output_type": "display_data"
    },
    {
     "data": {
      "application/vnd.jupyter.widget-view+json": {
       "model_id": "c26dcd0c70d544ef87d0649fcc68fe11",
       "version_major": 2,
       "version_minor": 0
      },
      "text/plain": [
       "Creating parquet from Arrow format:   0%|          | 0/2 [00:00<?, ?ba/s]"
      ]
     },
     "metadata": {},
     "output_type": "display_data"
    },
    {
     "data": {
      "application/vnd.jupyter.widget-view+json": {
       "model_id": "65117013e134434ca563453c7d0d861a",
       "version_major": 2,
       "version_minor": 0
      },
      "text/plain": [
       "Uploading the dataset shards:   0%|          | 0/1 [00:00<?, ?it/s]"
      ]
     },
     "metadata": {},
     "output_type": "display_data"
    },
    {
     "data": {
      "application/vnd.jupyter.widget-view+json": {
       "model_id": "b5bdd2bde0974008a6ed8ba51de859af",
       "version_major": 2,
       "version_minor": 0
      },
      "text/plain": [
       "Creating parquet from Arrow format:   0%|          | 0/6 [00:00<?, ?ba/s]"
      ]
     },
     "metadata": {},
     "output_type": "display_data"
    },
    {
     "data": {
      "text/plain": [
       "CommitInfo(commit_url='https://huggingface.co/datasets/liberi-luminaris/PrismAI/commit/d903bd37cbb12e2201d4511fe60fb3d80231bd2c', commit_message='Upload dataset', commit_description='', oid='d903bd37cbb12e2201d4511fe60fb3d80231bd2c', pr_url=None, repo_url=RepoUrl('https://huggingface.co/datasets/liberi-luminaris/PrismAI', endpoint='https://huggingface.co', repo_type='dataset', repo_id='liberi-luminaris/PrismAI'), pr_revision=None, pr_num=None)"
      ]
     },
     "execution_count": 32,
     "metadata": {},
     "output_type": "execute_result"
    }
   ],
   "source": [
    "datasets: list[DatasetDict] = [\n",
    "    load_dataset(\"liberi-luminaris/PrismAI\", f\"{domain}-fulltext\").map(\n",
    "        lambda _: {\"domain\": domain}\n",
    "    )\n",
    "    for domain in [\n",
    "        \"blog_authorship_corpus\",\n",
    "        \"student_essays\",\n",
    "        \"cnn_news\",\n",
    "        \"euro_court_cases\",\n",
    "        \"house_of_commons\",\n",
    "        \"arxiv_papers\",\n",
    "        \"gutenberg_en\",\n",
    "    ]\n",
    "]  # type: ignore\n",
    "agents = set(agent for dataset in datasets for agent in dataset.keys())\n",
    "dataset = DatasetDict(\n",
    "    {\n",
    "        agent: concatenate_datasets(\n",
    "            [dataset[agent] for dataset in datasets if agent in dataset.keys()]\n",
    "        )\n",
    "        for agent in agents\n",
    "    }\n",
    ")\n",
    "dataset.push_to_hub(\n",
    "    \"liberi-luminaris/PrismAI\",\n",
    "    \"en-fulltext\",\n",
    "    private=True,\n",
    "    token=HF_TOKEN,\n",
    ")"
   ]
  }
 ],
 "metadata": {
  "kernelspec": {
   "display_name": ".venv",
   "language": "python",
   "name": "python3"
  },
  "language_info": {
   "codemirror_mode": {
    "name": "ipython",
    "version": 3
   },
   "file_extension": ".py",
   "mimetype": "text/x-python",
   "name": "python",
   "nbconvert_exporter": "python",
   "pygments_lexer": "ipython3",
   "version": "3.12.7"
  }
 },
 "nbformat": 4,
 "nbformat_minor": 2
}
