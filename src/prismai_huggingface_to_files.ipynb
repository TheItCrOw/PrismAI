{
 "cells": [
  {
   "cell_type": "code",
   "execution_count": null,
   "id": "a84c975c",
   "metadata": {},
   "outputs": [],
   "source": [
    "from pathlib import Path\n",
    "\n",
    "from datasets import load_dataset, Dataset\n",
    "\n",
    "from luminar.utils.data import get_matched_ids\n",
    "\n",
    "HF_TOKEN = (Path.home() / \".hf_token\").read_text().strip()"
   ]
  },
  {
   "cell_type": "code",
   "execution_count": null,
   "id": "f44bfa53",
   "metadata": {},
   "outputs": [],
   "source": [
    "domains = [\n",
    "    \"blog_authorship_corpus\",\n",
    "    \"student_essays\",\n",
    "    \"cnn_news\",\n",
    "    \"euro_court_cases\",\n",
    "    \"house_of_commons\",\n",
    "    \"arxiv_papers\",\n",
    "    \"gutenberg_en\",\n",
    "    # \"bundestag\",\n",
    "    # \"spiegel_articles\",\n",
    "    # \"gutenberg_de\",\n",
    "]\n",
    "agents = {\"human\", \"gpt_4o_mini\", \"gemma2_9b\"}"
   ]
  },
  {
   "cell_type": "code",
   "execution_count": null,
   "id": "97e7d98a",
   "metadata": {},
   "outputs": [],
   "source": [
    "path = Path(\"../data/prismai/share\")\n",
    "\n",
    "stats = []\n",
    "for domain in domains:\n",
    "    datset_config_name = f\"{domain}-fulltext\"\n",
    "    folder = path / datset_config_name\n",
    "    folder.mkdir(parents=True, exist_ok=True)\n",
    "\n",
    "    for agent in agents:\n",
    "        dataset: Dataset = (\n",
    "            load_dataset(\n",
    "                \"liberi-luminaris/PrismAI\",\n",
    "                datset_config_name,\n",
    "                split=agent,\n",
    "                token=HF_TOKEN,\n",
    "            )  # type: ignore\n",
    "        )\n",
    "        file = folder / agent\n",
    "        with (\n",
    "            file.with_suffix(\".jsonl.gz\").open(\"wb\") as fp,\n",
    "            gzip.GzipFile(fileobj=fp, mode=\"w\") as fout,\n",
    "        ):\n",
    "            dataset.to_json(fout)"
   ]
  },
  {
   "cell_type": "code",
   "execution_count": null,
   "id": "cc68b493",
   "metadata": {},
   "outputs": [],
   "source": [
    "raise RuntimeError\n",
    "stats = []\n",
    "for domain in domains:\n",
    "    datset_config_name = f\"{domain}-fulltext\"\n",
    "    dataset_split_name = f\"human+{'+'.join(agents)}\"\n",
    "    dataset: Dataset = (\n",
    "        load_dataset(\n",
    "            \"liberi-luminaris/PrismAI-encoded-gpt2\",\n",
    "            datset_config_name,\n",
    "            split=dataset_split_name,\n",
    "            token=HF_TOKEN,\n",
    "        )  # type: ignore\n",
    "        .map(\n",
    "            lambda features: {\"len\": len(features)},\n",
    "            input_columns=[\"features\"],\n",
    "            remove_columns=[\"features\"],\n",
    "            num_proc=8,\n",
    "        )\n",
    "        .filter(lambda len: len > 0, input_columns=[\"len\"], num_proc=8)\n",
    "    )\n",
    "    matched_ids = get_matched_ids(dataset, agents)\n",
    "    stats.append(\n",
    "        {\n",
    "            \"domain\": domain,\n",
    "            \"dataset_size\": len(dataset),\n",
    "            \"matched_dataset_size\": len(matched_ids),\n",
    "            \"splits\": dataset_split_name,\n",
    "        }\n",
    "    )"
   ]
  },
  {
   "cell_type": "code",
   "execution_count": null,
   "id": "d4811bc6",
   "metadata": {},
   "outputs": [],
   "source": [
    "import pandas\n",
    "\n",
    "\n",
    "pandas.DataFrame(\n",
    "    stats\n",
    "    + [\n",
    "        {\n",
    "            \"domain\": \"all\",\n",
    "            \"dataset_size\": sum(s[\"dataset_size\"] for s in stats),\n",
    "            \"matched_dataset_size\": sum(s[\"matched_dataset_size\"] for s in stats),\n",
    "        }\n",
    "    ]\n",
    ")"
   ]
  }
 ],
 "metadata": {
  "kernelspec": {
   "display_name": ".venv",
   "language": "python",
   "name": "python3"
  },
  "language_info": {
   "codemirror_mode": {
    "name": "ipython",
    "version": 3
   },
   "file_extension": ".py",
   "mimetype": "text/x-python",
   "name": "python",
   "nbconvert_exporter": "python",
   "pygments_lexer": "ipython3",
   "version": "3.12.7"
  }
 },
 "nbformat": 4,
 "nbformat_minor": 5
}
