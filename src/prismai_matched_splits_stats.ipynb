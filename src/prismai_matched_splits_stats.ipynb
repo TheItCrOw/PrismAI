{
 "cells": [
  {
   "cell_type": "code",
   "execution_count": 1,
   "id": "a84c975c",
   "metadata": {},
   "outputs": [],
   "source": [
    "from pathlib import Path\n",
    "\n",
    "from datasets import load_dataset, Dataset\n",
    "\n",
    "from luminar.utils.data import get_matched_ids\n",
    "\n",
    "HF_TOKEN = (Path.home() / \".hf_token\").read_text().strip()"
   ]
  },
  {
   "cell_type": "code",
   "execution_count": 2,
   "id": "f44bfa53",
   "metadata": {},
   "outputs": [],
   "source": [
    "domains = [\n",
    "    \"blog_authorship_corpus\",\n",
    "    \"student_essays\",\n",
    "    \"cnn_news\",\n",
    "    \"euro_court_cases\",\n",
    "    \"house_of_commons\",\n",
    "    \"arxiv_papers\",\n",
    "    \"gutenberg_en\",\n",
    "    \"bundestag\",\n",
    "    \"spiegel_articles\",\n",
    "    \"gutenberg_de\",\n",
    "]\n",
    "agents = {\"gpt_4o_mini\", \"gemma2_9b\"}"
   ]
  },
  {
   "cell_type": "code",
   "execution_count": 3,
   "id": "cc68b493",
   "metadata": {},
   "outputs": [
    {
     "data": {
      "application/vnd.jupyter.widget-view+json": {
       "model_id": "4e2f360e1d3746b086d199d56f11c88e",
       "version_major": 2,
       "version_minor": 0
      },
      "text/plain": [
       "Filter:   0%|          | 0/93727 [00:00<?, ? examples/s]"
      ]
     },
     "metadata": {},
     "output_type": "display_data"
    },
    {
     "data": {
      "application/vnd.jupyter.widget-view+json": {
       "model_id": "cc5c841ed6344fb6b78e1ded5bd05265",
       "version_major": 2,
       "version_minor": 0
      },
      "text/plain": [
       "Filter:   0%|          | 0/93727 [00:00<?, ? examples/s]"
      ]
     },
     "metadata": {},
     "output_type": "display_data"
    },
    {
     "data": {
      "application/vnd.jupyter.widget-view+json": {
       "model_id": "9a6defe5030049f7921b72031aeca1c0",
       "version_major": 2,
       "version_minor": 0
      },
      "text/plain": [
       "Filter:   0%|          | 0/44386 [00:00<?, ? examples/s]"
      ]
     },
     "metadata": {},
     "output_type": "display_data"
    },
    {
     "data": {
      "application/vnd.jupyter.widget-view+json": {
       "model_id": "56329508c264411bb51a9434128448eb",
       "version_major": 2,
       "version_minor": 0
      },
      "text/plain": [
       "Filter:   0%|          | 0/44386 [00:00<?, ? examples/s]"
      ]
     },
     "metadata": {},
     "output_type": "display_data"
    },
    {
     "data": {
      "application/vnd.jupyter.widget-view+json": {
       "model_id": "5eceb4953ae941258cf4e8c0f3dc7cdc",
       "version_major": 2,
       "version_minor": 0
      },
      "text/plain": [
       "Filter:   0%|          | 0/21818 [00:00<?, ? examples/s]"
      ]
     },
     "metadata": {},
     "output_type": "display_data"
    },
    {
     "data": {
      "application/vnd.jupyter.widget-view+json": {
       "model_id": "f6aafdb04cf9429ba825849e39e67720",
       "version_major": 2,
       "version_minor": 0
      },
      "text/plain": [
       "Filter:   0%|          | 0/21818 [00:00<?, ? examples/s]"
      ]
     },
     "metadata": {},
     "output_type": "display_data"
    },
    {
     "data": {
      "application/vnd.jupyter.widget-view+json": {
       "model_id": "8825799121a641e59865db6f7ec03bad",
       "version_major": 2,
       "version_minor": 0
      },
      "text/plain": [
       "Filter:   0%|          | 0/33064 [00:00<?, ? examples/s]"
      ]
     },
     "metadata": {},
     "output_type": "display_data"
    },
    {
     "data": {
      "application/vnd.jupyter.widget-view+json": {
       "model_id": "675043c1afa84e709393fa3aefe2d619",
       "version_major": 2,
       "version_minor": 0
      },
      "text/plain": [
       "Filter:   0%|          | 0/33064 [00:00<?, ? examples/s]"
      ]
     },
     "metadata": {},
     "output_type": "display_data"
    },
    {
     "data": {
      "application/vnd.jupyter.widget-view+json": {
       "model_id": "f749713515264c8c80cc1b2b00dff670",
       "version_major": 2,
       "version_minor": 0
      },
      "text/plain": [
       "Filter:   0%|          | 0/23401 [00:00<?, ? examples/s]"
      ]
     },
     "metadata": {},
     "output_type": "display_data"
    },
    {
     "data": {
      "application/vnd.jupyter.widget-view+json": {
       "model_id": "2a07afb21305451d836c0665f43a85af",
       "version_major": 2,
       "version_minor": 0
      },
      "text/plain": [
       "Filter:   0%|          | 0/23401 [00:00<?, ? examples/s]"
      ]
     },
     "metadata": {},
     "output_type": "display_data"
    },
    {
     "data": {
      "application/vnd.jupyter.widget-view+json": {
       "model_id": "808fb1fcad3c412fa1b426356b479527",
       "version_major": 2,
       "version_minor": 0
      },
      "text/plain": [
       "Filter:   0%|          | 0/14861 [00:00<?, ? examples/s]"
      ]
     },
     "metadata": {},
     "output_type": "display_data"
    },
    {
     "data": {
      "application/vnd.jupyter.widget-view+json": {
       "model_id": "9c63cbafaf4c4d56bcf25cf79fe103f9",
       "version_major": 2,
       "version_minor": 0
      },
      "text/plain": [
       "Filter:   0%|          | 0/14861 [00:00<?, ? examples/s]"
      ]
     },
     "metadata": {},
     "output_type": "display_data"
    },
    {
     "data": {
      "application/vnd.jupyter.widget-view+json": {
       "model_id": "543331c572374cc2b55365e187085799",
       "version_major": 2,
       "version_minor": 0
      },
      "text/plain": [
       "Filter:   0%|          | 0/41783 [00:00<?, ? examples/s]"
      ]
     },
     "metadata": {},
     "output_type": "display_data"
    },
    {
     "data": {
      "application/vnd.jupyter.widget-view+json": {
       "model_id": "fa775a616a6a46ed91717a9ccbed48a0",
       "version_major": 2,
       "version_minor": 0
      },
      "text/plain": [
       "Filter:   0%|          | 0/41783 [00:00<?, ? examples/s]"
      ]
     },
     "metadata": {},
     "output_type": "display_data"
    },
    {
     "data": {
      "application/vnd.jupyter.widget-view+json": {
       "model_id": "d65f5e37ada54c0db6bd797f2e2c4392",
       "version_major": 2,
       "version_minor": 0
      },
      "text/plain": [
       "Filter:   0%|          | 0/43023 [00:00<?, ? examples/s]"
      ]
     },
     "metadata": {},
     "output_type": "display_data"
    },
    {
     "data": {
      "application/vnd.jupyter.widget-view+json": {
       "model_id": "4c99b1087eef4f63a3ffc0988f6e631f",
       "version_major": 2,
       "version_minor": 0
      },
      "text/plain": [
       "Filter:   0%|          | 0/43023 [00:00<?, ? examples/s]"
      ]
     },
     "metadata": {},
     "output_type": "display_data"
    },
    {
     "data": {
      "application/vnd.jupyter.widget-view+json": {
       "model_id": "2d6cbc4f558145bd8c3a7671193ac7d9",
       "version_major": 2,
       "version_minor": 0
      },
      "text/plain": [
       "Filter:   0%|          | 0/810 [00:00<?, ? examples/s]"
      ]
     },
     "metadata": {},
     "output_type": "display_data"
    },
    {
     "data": {
      "application/vnd.jupyter.widget-view+json": {
       "model_id": "8a1ac4b020dc45ea8929c8df27f30dfb",
       "version_major": 2,
       "version_minor": 0
      },
      "text/plain": [
       "Filter:   0%|          | 0/810 [00:00<?, ? examples/s]"
      ]
     },
     "metadata": {},
     "output_type": "display_data"
    }
   ],
   "source": [
    "stats = []\n",
    "for domain in domains:\n",
    "    datset_config_name = f\"{domain}-fulltext\"\n",
    "    dataset_split_name = f\"human+{'+'.join(agents)}\"\n",
    "    dataset: Dataset = (\n",
    "        load_dataset(\n",
    "            \"liberi-luminaris/PrismAI-encoded-gpt2\",\n",
    "            datset_config_name,\n",
    "            split=dataset_split_name,\n",
    "            token=HF_TOKEN,\n",
    "        )  # type: ignore\n",
    "        .map(\n",
    "            lambda features: {\"len\": len(features)},\n",
    "            input_columns=[\"features\"],\n",
    "            remove_columns=[\"features\"],\n",
    "            num_proc=8,\n",
    "        )\n",
    "        .filter(lambda len: len > 0, input_columns=[\"len\"], num_proc=8)\n",
    "    )\n",
    "    stats.append(\n",
    "        {\n",
    "            \"domain\": domain,\n",
    "            \"dataset_size\": len(dataset),\n",
    "            \"matched_dataset_size\": len(get_matched_ids(dataset, agents)),\n",
    "            \"split\": dataset_split_name,\n",
    "        }\n",
    "    )\n",
    "    for agent in agents:\n",
    "        stats.append(\n",
    "            {\n",
    "                \"domain\": domain,\n",
    "                \"dataset_size\": len(dataset),\n",
    "                \"matched_dataset_size\": len(get_matched_ids(dataset, {agent})),\n",
    "                \"split\": f\"human+{agent}\",\n",
    "            }\n",
    "        )"
   ]
  },
  {
   "cell_type": "code",
   "execution_count": 4,
   "id": "d4811bc6",
   "metadata": {},
   "outputs": [
    {
     "data": {
      "application/vnd.microsoft.datawrangler.viewer.v0+json": {
       "columns": [
        {
         "name": "index",
         "rawType": "int64",
         "type": "integer"
        },
        {
         "name": "domain",
         "rawType": "object",
         "type": "string"
        },
        {
         "name": "dataset_size",
         "rawType": "int64",
         "type": "integer"
        },
        {
         "name": "matched_dataset_size",
         "rawType": "int64",
         "type": "integer"
        },
        {
         "name": "split",
         "rawType": "object",
         "type": "unknown"
        }
       ],
       "ref": "4c5516d3-46a8-4742-8049-ef48f5048511",
       "rows": [
        [
         "0",
         "blog_authorship_corpus",
         "37864",
         "14818",
         "human+gemma2_9b+gpt_4o_mini"
        ],
        [
         "1",
         "blog_authorship_corpus",
         "37864",
         "14674",
         "human+gemma2_9b"
        ],
        [
         "2",
         "blog_authorship_corpus",
         "37864",
         "4576",
         "human+gpt_4o_mini"
        ],
        [
         "3",
         "student_essays",
         "93727",
         "41389",
         "human+gemma2_9b+gpt_4o_mini"
        ],
        [
         "4",
         "student_essays",
         "93727",
         "15177",
         "human+gemma2_9b"
        ],
        [
         "5",
         "student_essays",
         "93727",
         "36239",
         "human+gpt_4o_mini"
        ],
        [
         "6",
         "cnn_news",
         "44386",
         "17756",
         "human+gemma2_9b+gpt_4o_mini"
        ],
        [
         "7",
         "cnn_news",
         "44386",
         "13799",
         "human+gemma2_9b"
        ],
        [
         "8",
         "cnn_news",
         "44386",
         "11814",
         "human+gpt_4o_mini"
        ],
        [
         "9",
         "euro_court_cases",
         "21818",
         "9106",
         "human+gemma2_9b+gpt_4o_mini"
        ],
        [
         "10",
         "euro_court_cases",
         "21818",
         "8909",
         "human+gemma2_9b"
        ],
        [
         "11",
         "euro_court_cases",
         "21818",
         "3761",
         "human+gpt_4o_mini"
        ],
        [
         "12",
         "house_of_commons",
         "33064",
         "13399",
         "human+gemma2_9b+gpt_4o_mini"
        ],
        [
         "13",
         "house_of_commons",
         "33064",
         "13343",
         "human+gemma2_9b"
        ],
        [
         "14",
         "house_of_commons",
         "33064",
         "5961",
         "human+gpt_4o_mini"
        ],
        [
         "15",
         "arxiv_papers",
         "23401",
         "8395",
         "human+gemma2_9b+gpt_4o_mini"
        ],
        [
         "16",
         "arxiv_papers",
         "23401",
         "7780",
         "human+gemma2_9b"
        ],
        [
         "17",
         "arxiv_papers",
         "23401",
         "7173",
         "human+gpt_4o_mini"
        ],
        [
         "18",
         "gutenberg_en",
         "14861",
         "6721",
         "human+gemma2_9b+gpt_4o_mini"
        ],
        [
         "19",
         "gutenberg_en",
         "14861",
         "6575",
         "human+gemma2_9b"
        ],
        [
         "20",
         "gutenberg_en",
         "14861",
         "1485",
         "human+gpt_4o_mini"
        ],
        [
         "21",
         "bundestag",
         "41783",
         "17956",
         "human+gemma2_9b+gpt_4o_mini"
        ],
        [
         "22",
         "bundestag",
         "41783",
         "13403",
         "human+gemma2_9b"
        ],
        [
         "23",
         "bundestag",
         "41783",
         "10057",
         "human+gpt_4o_mini"
        ],
        [
         "24",
         "spiegel_articles",
         "43023",
         "15543",
         "human+gemma2_9b+gpt_4o_mini"
        ],
        [
         "25",
         "spiegel_articles",
         "43023",
         "14283",
         "human+gemma2_9b"
        ],
        [
         "26",
         "spiegel_articles",
         "43023",
         "12253",
         "human+gpt_4o_mini"
        ],
        [
         "27",
         "gutenberg_de",
         "810",
         "363",
         "human+gemma2_9b+gpt_4o_mini"
        ],
        [
         "28",
         "gutenberg_de",
         "810",
         "338",
         "human+gemma2_9b"
        ],
        [
         "29",
         "gutenberg_de",
         "810",
         "100",
         "human+gpt_4o_mini"
        ],
        [
         "30",
         "all",
         "1064211",
         "347146",
         null
        ]
       ],
       "shape": {
        "columns": 4,
        "rows": 31
       }
      },
      "text/html": [
       "<div>\n",
       "<style scoped>\n",
       "    .dataframe tbody tr th:only-of-type {\n",
       "        vertical-align: middle;\n",
       "    }\n",
       "\n",
       "    .dataframe tbody tr th {\n",
       "        vertical-align: top;\n",
       "    }\n",
       "\n",
       "    .dataframe thead th {\n",
       "        text-align: right;\n",
       "    }\n",
       "</style>\n",
       "<table border=\"1\" class=\"dataframe\">\n",
       "  <thead>\n",
       "    <tr style=\"text-align: right;\">\n",
       "      <th></th>\n",
       "      <th>domain</th>\n",
       "      <th>dataset_size</th>\n",
       "      <th>matched_dataset_size</th>\n",
       "      <th>split</th>\n",
       "    </tr>\n",
       "  </thead>\n",
       "  <tbody>\n",
       "    <tr>\n",
       "      <th>0</th>\n",
       "      <td>blog_authorship_corpus</td>\n",
       "      <td>37864</td>\n",
       "      <td>14818</td>\n",
       "      <td>human+gemma2_9b+gpt_4o_mini</td>\n",
       "    </tr>\n",
       "    <tr>\n",
       "      <th>1</th>\n",
       "      <td>blog_authorship_corpus</td>\n",
       "      <td>37864</td>\n",
       "      <td>14674</td>\n",
       "      <td>human+gemma2_9b</td>\n",
       "    </tr>\n",
       "    <tr>\n",
       "      <th>2</th>\n",
       "      <td>blog_authorship_corpus</td>\n",
       "      <td>37864</td>\n",
       "      <td>4576</td>\n",
       "      <td>human+gpt_4o_mini</td>\n",
       "    </tr>\n",
       "    <tr>\n",
       "      <th>3</th>\n",
       "      <td>student_essays</td>\n",
       "      <td>93727</td>\n",
       "      <td>41389</td>\n",
       "      <td>human+gemma2_9b+gpt_4o_mini</td>\n",
       "    </tr>\n",
       "    <tr>\n",
       "      <th>4</th>\n",
       "      <td>student_essays</td>\n",
       "      <td>93727</td>\n",
       "      <td>15177</td>\n",
       "      <td>human+gemma2_9b</td>\n",
       "    </tr>\n",
       "    <tr>\n",
       "      <th>5</th>\n",
       "      <td>student_essays</td>\n",
       "      <td>93727</td>\n",
       "      <td>36239</td>\n",
       "      <td>human+gpt_4o_mini</td>\n",
       "    </tr>\n",
       "    <tr>\n",
       "      <th>6</th>\n",
       "      <td>cnn_news</td>\n",
       "      <td>44386</td>\n",
       "      <td>17756</td>\n",
       "      <td>human+gemma2_9b+gpt_4o_mini</td>\n",
       "    </tr>\n",
       "    <tr>\n",
       "      <th>7</th>\n",
       "      <td>cnn_news</td>\n",
       "      <td>44386</td>\n",
       "      <td>13799</td>\n",
       "      <td>human+gemma2_9b</td>\n",
       "    </tr>\n",
       "    <tr>\n",
       "      <th>8</th>\n",
       "      <td>cnn_news</td>\n",
       "      <td>44386</td>\n",
       "      <td>11814</td>\n",
       "      <td>human+gpt_4o_mini</td>\n",
       "    </tr>\n",
       "    <tr>\n",
       "      <th>9</th>\n",
       "      <td>euro_court_cases</td>\n",
       "      <td>21818</td>\n",
       "      <td>9106</td>\n",
       "      <td>human+gemma2_9b+gpt_4o_mini</td>\n",
       "    </tr>\n",
       "    <tr>\n",
       "      <th>10</th>\n",
       "      <td>euro_court_cases</td>\n",
       "      <td>21818</td>\n",
       "      <td>8909</td>\n",
       "      <td>human+gemma2_9b</td>\n",
       "    </tr>\n",
       "    <tr>\n",
       "      <th>11</th>\n",
       "      <td>euro_court_cases</td>\n",
       "      <td>21818</td>\n",
       "      <td>3761</td>\n",
       "      <td>human+gpt_4o_mini</td>\n",
       "    </tr>\n",
       "    <tr>\n",
       "      <th>12</th>\n",
       "      <td>house_of_commons</td>\n",
       "      <td>33064</td>\n",
       "      <td>13399</td>\n",
       "      <td>human+gemma2_9b+gpt_4o_mini</td>\n",
       "    </tr>\n",
       "    <tr>\n",
       "      <th>13</th>\n",
       "      <td>house_of_commons</td>\n",
       "      <td>33064</td>\n",
       "      <td>13343</td>\n",
       "      <td>human+gemma2_9b</td>\n",
       "    </tr>\n",
       "    <tr>\n",
       "      <th>14</th>\n",
       "      <td>house_of_commons</td>\n",
       "      <td>33064</td>\n",
       "      <td>5961</td>\n",
       "      <td>human+gpt_4o_mini</td>\n",
       "    </tr>\n",
       "    <tr>\n",
       "      <th>15</th>\n",
       "      <td>arxiv_papers</td>\n",
       "      <td>23401</td>\n",
       "      <td>8395</td>\n",
       "      <td>human+gemma2_9b+gpt_4o_mini</td>\n",
       "    </tr>\n",
       "    <tr>\n",
       "      <th>16</th>\n",
       "      <td>arxiv_papers</td>\n",
       "      <td>23401</td>\n",
       "      <td>7780</td>\n",
       "      <td>human+gemma2_9b</td>\n",
       "    </tr>\n",
       "    <tr>\n",
       "      <th>17</th>\n",
       "      <td>arxiv_papers</td>\n",
       "      <td>23401</td>\n",
       "      <td>7173</td>\n",
       "      <td>human+gpt_4o_mini</td>\n",
       "    </tr>\n",
       "    <tr>\n",
       "      <th>18</th>\n",
       "      <td>gutenberg_en</td>\n",
       "      <td>14861</td>\n",
       "      <td>6721</td>\n",
       "      <td>human+gemma2_9b+gpt_4o_mini</td>\n",
       "    </tr>\n",
       "    <tr>\n",
       "      <th>19</th>\n",
       "      <td>gutenberg_en</td>\n",
       "      <td>14861</td>\n",
       "      <td>6575</td>\n",
       "      <td>human+gemma2_9b</td>\n",
       "    </tr>\n",
       "    <tr>\n",
       "      <th>20</th>\n",
       "      <td>gutenberg_en</td>\n",
       "      <td>14861</td>\n",
       "      <td>1485</td>\n",
       "      <td>human+gpt_4o_mini</td>\n",
       "    </tr>\n",
       "    <tr>\n",
       "      <th>21</th>\n",
       "      <td>bundestag</td>\n",
       "      <td>41783</td>\n",
       "      <td>17956</td>\n",
       "      <td>human+gemma2_9b+gpt_4o_mini</td>\n",
       "    </tr>\n",
       "    <tr>\n",
       "      <th>22</th>\n",
       "      <td>bundestag</td>\n",
       "      <td>41783</td>\n",
       "      <td>13403</td>\n",
       "      <td>human+gemma2_9b</td>\n",
       "    </tr>\n",
       "    <tr>\n",
       "      <th>23</th>\n",
       "      <td>bundestag</td>\n",
       "      <td>41783</td>\n",
       "      <td>10057</td>\n",
       "      <td>human+gpt_4o_mini</td>\n",
       "    </tr>\n",
       "    <tr>\n",
       "      <th>24</th>\n",
       "      <td>spiegel_articles</td>\n",
       "      <td>43023</td>\n",
       "      <td>15543</td>\n",
       "      <td>human+gemma2_9b+gpt_4o_mini</td>\n",
       "    </tr>\n",
       "    <tr>\n",
       "      <th>25</th>\n",
       "      <td>spiegel_articles</td>\n",
       "      <td>43023</td>\n",
       "      <td>14283</td>\n",
       "      <td>human+gemma2_9b</td>\n",
       "    </tr>\n",
       "    <tr>\n",
       "      <th>26</th>\n",
       "      <td>spiegel_articles</td>\n",
       "      <td>43023</td>\n",
       "      <td>12253</td>\n",
       "      <td>human+gpt_4o_mini</td>\n",
       "    </tr>\n",
       "    <tr>\n",
       "      <th>27</th>\n",
       "      <td>gutenberg_de</td>\n",
       "      <td>810</td>\n",
       "      <td>363</td>\n",
       "      <td>human+gemma2_9b+gpt_4o_mini</td>\n",
       "    </tr>\n",
       "    <tr>\n",
       "      <th>28</th>\n",
       "      <td>gutenberg_de</td>\n",
       "      <td>810</td>\n",
       "      <td>338</td>\n",
       "      <td>human+gemma2_9b</td>\n",
       "    </tr>\n",
       "    <tr>\n",
       "      <th>29</th>\n",
       "      <td>gutenberg_de</td>\n",
       "      <td>810</td>\n",
       "      <td>100</td>\n",
       "      <td>human+gpt_4o_mini</td>\n",
       "    </tr>\n",
       "    <tr>\n",
       "      <th>30</th>\n",
       "      <td>all</td>\n",
       "      <td>1064211</td>\n",
       "      <td>347146</td>\n",
       "      <td>NaN</td>\n",
       "    </tr>\n",
       "  </tbody>\n",
       "</table>\n",
       "</div>"
      ],
      "text/plain": [
       "                    domain  dataset_size  matched_dataset_size  \\\n",
       "0   blog_authorship_corpus         37864                 14818   \n",
       "1   blog_authorship_corpus         37864                 14674   \n",
       "2   blog_authorship_corpus         37864                  4576   \n",
       "3           student_essays         93727                 41389   \n",
       "4           student_essays         93727                 15177   \n",
       "5           student_essays         93727                 36239   \n",
       "6                 cnn_news         44386                 17756   \n",
       "7                 cnn_news         44386                 13799   \n",
       "8                 cnn_news         44386                 11814   \n",
       "9         euro_court_cases         21818                  9106   \n",
       "10        euro_court_cases         21818                  8909   \n",
       "11        euro_court_cases         21818                  3761   \n",
       "12        house_of_commons         33064                 13399   \n",
       "13        house_of_commons         33064                 13343   \n",
       "14        house_of_commons         33064                  5961   \n",
       "15            arxiv_papers         23401                  8395   \n",
       "16            arxiv_papers         23401                  7780   \n",
       "17            arxiv_papers         23401                  7173   \n",
       "18            gutenberg_en         14861                  6721   \n",
       "19            gutenberg_en         14861                  6575   \n",
       "20            gutenberg_en         14861                  1485   \n",
       "21               bundestag         41783                 17956   \n",
       "22               bundestag         41783                 13403   \n",
       "23               bundestag         41783                 10057   \n",
       "24        spiegel_articles         43023                 15543   \n",
       "25        spiegel_articles         43023                 14283   \n",
       "26        spiegel_articles         43023                 12253   \n",
       "27            gutenberg_de           810                   363   \n",
       "28            gutenberg_de           810                   338   \n",
       "29            gutenberg_de           810                   100   \n",
       "30                     all       1064211                347146   \n",
       "\n",
       "                          split  \n",
       "0   human+gemma2_9b+gpt_4o_mini  \n",
       "1               human+gemma2_9b  \n",
       "2             human+gpt_4o_mini  \n",
       "3   human+gemma2_9b+gpt_4o_mini  \n",
       "4               human+gemma2_9b  \n",
       "5             human+gpt_4o_mini  \n",
       "6   human+gemma2_9b+gpt_4o_mini  \n",
       "7               human+gemma2_9b  \n",
       "8             human+gpt_4o_mini  \n",
       "9   human+gemma2_9b+gpt_4o_mini  \n",
       "10              human+gemma2_9b  \n",
       "11            human+gpt_4o_mini  \n",
       "12  human+gemma2_9b+gpt_4o_mini  \n",
       "13              human+gemma2_9b  \n",
       "14            human+gpt_4o_mini  \n",
       "15  human+gemma2_9b+gpt_4o_mini  \n",
       "16              human+gemma2_9b  \n",
       "17            human+gpt_4o_mini  \n",
       "18  human+gemma2_9b+gpt_4o_mini  \n",
       "19              human+gemma2_9b  \n",
       "20            human+gpt_4o_mini  \n",
       "21  human+gemma2_9b+gpt_4o_mini  \n",
       "22              human+gemma2_9b  \n",
       "23            human+gpt_4o_mini  \n",
       "24  human+gemma2_9b+gpt_4o_mini  \n",
       "25              human+gemma2_9b  \n",
       "26            human+gpt_4o_mini  \n",
       "27  human+gemma2_9b+gpt_4o_mini  \n",
       "28              human+gemma2_9b  \n",
       "29            human+gpt_4o_mini  \n",
       "30                          NaN  "
      ]
     },
     "execution_count": 4,
     "metadata": {},
     "output_type": "execute_result"
    }
   ],
   "source": [
    "import pandas\n",
    "\n",
    "\n",
    "pandas.DataFrame(\n",
    "    stats\n",
    "    + [\n",
    "        {\n",
    "            \"domain\": \"all\",\n",
    "            \"dataset_size\": sum(s[\"dataset_size\"] for s in stats),\n",
    "            \"matched_dataset_size\": sum(s[\"matched_dataset_size\"] for s in stats),\n",
    "        }\n",
    "    ]\n",
    ")"
   ]
  }
 ],
 "metadata": {
  "kernelspec": {
   "display_name": ".venv",
   "language": "python",
   "name": "python3"
  },
  "language_info": {
   "codemirror_mode": {
    "name": "ipython",
    "version": 3
   },
   "file_extension": ".py",
   "mimetype": "text/x-python",
   "name": "python",
   "nbconvert_exporter": "python",
   "pygments_lexer": "ipython3",
   "version": "3.12.7"
  }
 },
 "nbformat": 4,
 "nbformat_minor": 5
}
