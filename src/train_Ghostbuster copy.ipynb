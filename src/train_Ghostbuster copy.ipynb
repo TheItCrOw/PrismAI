{
 "cells": [
  {
   "cell_type": "code",
   "execution_count": null,
   "metadata": {},
   "outputs": [],
   "source": [
    "import os\n",
    "import warnings\n",
    "from collections import defaultdict\n",
    "\n",
    "import pandas as pd\n",
    "import torch\n",
    "from dotenv import load_dotenv\n",
    "from lightning.pytorch import Trainer, seed_everything\n",
    "from lightning.pytorch import loggers as pl_loggers\n",
    "from lightning.pytorch.callbacks.early_stopping import EarlyStopping\n",
    "from tqdm.auto import tqdm, trange\n",
    "\n",
    "load_dotenv(\"../env\")\n",
    "\n",
    "warnings.filterwarnings(\"ignore\", \".*does not have many workers.*\")"
   ]
  },
  {
   "cell_type": "code",
   "execution_count": 2,
   "metadata": {},
   "outputs": [],
   "source": [
    "from luminar.document.data import (\n",
    "    FeatureDataset,\n",
    "    PaddingDataloader,\n",
    "    n_way_split,\n",
    ")\n",
    "from luminar.document.model import ConvolutionalLayerSpec, DocumentClassficationModel\n",
    "from luminar.features import FeatureExtractor, OneDimFeatures, Slicer, TwoDimFeatures\n",
    "from luminar.mongo import MongoFindDataset"
   ]
  },
  {
   "cell_type": "code",
   "execution_count": 3,
   "metadata": {},
   "outputs": [],
   "source": [
    "config = {\n",
    "    \"seed\": 42,\n",
    "    \"eval_split\": 0.1,\n",
    "    \"test_split\": 0.2,\n",
    "    # \"feature_model\": \"meta-llama/Llama-3.2-1B\",\n",
    "    \"feature_model\": \"gpt2\",\n",
    "}"
   ]
  },
  {
   "cell_type": "code",
   "execution_count": 4,
   "metadata": {},
   "outputs": [],
   "source": [
    "agents = [\n",
    "    \"human\",\n",
    "    \"claude\",\n",
    "    \"gpt\",\n",
    "    \"gpt_prompt1\",\n",
    "    \"gpt_prompt2\",\n",
    "    \"gpt_semantic\",\n",
    "    \"gpt_writing\",\n",
    "]"
   ]
  },
  {
   "cell_type": "code",
   "execution_count": 45,
   "metadata": {},
   "outputs": [],
   "source": [
    "# feature_dim = OneDimFeatures(128)\n",
    "# featurizer = FeatureExtractor.Likelihood()\n",
    "# config[\"second_dim_as_channels\"] = False\n",
    "feature_dim = TwoDimFeatures(256, 13)\n",
    "featurizer = FeatureExtractor.IntermediateLogits(13)\n",
    "config[\"second_dim_as_channels\"] = True\n",
    "\n",
    "# slicer = Slicer.First(feature_dim[0])\n",
    "# slicer = Slicer.Random(feature_dim[0])\n",
    "slicer = Slicer.RandomMultiple(feature_dim[0] // 4, multiple=4, stride=16)\n",
    "# slicer = Slicer.RandomMultiple(feature_dim[0] // 4, 4)\n",
    "\n",
    "config[\"feature_dim\"] = feature_dim\n",
    "config[\"featurizer\"] = repr(featurizer)\n",
    "config[\"slicer\"] = repr(slicer)\n",
    "\n",
    "config[\"num_samples\"] = None\n",
    "\n",
    "\n",
    "def featurize(dataset) -> FeatureDataset:\n",
    "    return FeatureDataset(\n",
    "        tqdm(dataset, desc=\"Featurizing\", leave=False),\n",
    "        slicer,\n",
    "        featurizer,\n",
    "        num_samples=config[\"num_samples\"],\n",
    "        label_field=\"label\",\n",
    "        label_zero=\"human\",\n",
    "    )"
   ]
  },
  {
   "cell_type": "code",
   "execution_count": 46,
   "metadata": {},
   "outputs": [
    {
     "data": {
      "application/vnd.jupyter.widget-view+json": {
       "model_id": "e6fcde643e574db9ba5629628d2751c9",
       "version_major": 2,
       "version_minor": 0
      },
      "text/plain": [
       "Domains:   0%|          | 0/2 [00:00<?, ?it/s]"
      ]
     },
     "metadata": {},
     "output_type": "display_data"
    },
    {
     "name": "stderr",
     "output_type": "stream",
     "text": [
      "Seed set to 42\n"
     ]
    },
    {
     "name": "stdout",
     "output_type": "stream",
     "text": [
      "[MongoFindDataset] Loading Data from Cache File /nvme/.cache/luminar/2fc8f94775268bb36929501eeb2b22785746a2d838056230e87e68f6c8395ca6.pkl\n"
     ]
    },
    {
     "data": {
      "application/vnd.jupyter.widget-view+json": {
       "model_id": "20dd8cfa4dfe4a4fab0178b8d91fc336",
       "version_major": 2,
       "version_minor": 0
      },
      "text/plain": [
       "Featurizing:   0%|          | 0/200 [00:00<?, ?it/s]"
      ]
     },
     "metadata": {},
     "output_type": "display_data"
    },
    {
     "data": {
      "application/vnd.jupyter.widget-view+json": {
       "model_id": "d2325d4ea11f47a3a94d1adcb4fe5c92",
       "version_major": 2,
       "version_minor": 0
      },
      "text/plain": [
       "Featurizing:   0%|          | 0/200 [00:00<?, ?it/s]"
      ]
     },
     "metadata": {},
     "output_type": "display_data"
    },
    {
     "data": {
      "application/vnd.jupyter.widget-view+json": {
       "model_id": "dfd15a4470a9429686dea829cf88c05e",
       "version_major": 2,
       "version_minor": 0
      },
      "text/plain": [
       "Featurizing:   0%|          | 0/200 [00:00<?, ?it/s]"
      ]
     },
     "metadata": {},
     "output_type": "display_data"
    },
    {
     "data": {
      "application/vnd.jupyter.widget-view+json": {
       "model_id": "ac3be822cc514d1884b9fed0f7e3a09c",
       "version_major": 2,
       "version_minor": 0
      },
      "text/plain": [
       "Featurizing:   0%|          | 0/200 [00:00<?, ?it/s]"
      ]
     },
     "metadata": {},
     "output_type": "display_data"
    },
    {
     "data": {
      "application/vnd.jupyter.widget-view+json": {
       "model_id": "5d68871a0d614de7a20cbdafea590588",
       "version_major": 2,
       "version_minor": 0
      },
      "text/plain": [
       "Featurizing:   0%|          | 0/199 [00:00<?, ?it/s]"
      ]
     },
     "metadata": {},
     "output_type": "display_data"
    },
    {
     "data": {
      "application/vnd.jupyter.widget-view+json": {
       "model_id": "2b05a97d4e354b1fb832c69b8d69ba11",
       "version_major": 2,
       "version_minor": 0
      },
      "text/plain": [
       "Featurizing:   0%|          | 0/199 [00:00<?, ?it/s]"
      ]
     },
     "metadata": {},
     "output_type": "display_data"
    },
    {
     "data": {
      "application/vnd.jupyter.widget-view+json": {
       "model_id": "4273cef3a2ce480590813a219479f28d",
       "version_major": 2,
       "version_minor": 0
      },
      "text/plain": [
       "Featurizing:   0%|          | 0/199 [00:00<?, ?it/s]"
      ]
     },
     "metadata": {},
     "output_type": "display_data"
    },
    {
     "data": {
      "application/vnd.jupyter.widget-view+json": {
       "model_id": "e948f411e4aa4c64af92560bac9022cc",
       "version_major": 2,
       "version_minor": 0
      },
      "text/plain": [
       "Featurizing:   0%|          | 0/199 [00:00<?, ?it/s]"
      ]
     },
     "metadata": {},
     "output_type": "display_data"
    },
    {
     "data": {
      "application/vnd.jupyter.widget-view+json": {
       "model_id": "768dcc030cee47e49d840ac5fa6dbdf2",
       "version_major": 2,
       "version_minor": 0
      },
      "text/plain": [
       "Featurizing:   0%|          | 0/199 [00:00<?, ?it/s]"
      ]
     },
     "metadata": {},
     "output_type": "display_data"
    },
    {
     "data": {
      "application/vnd.jupyter.widget-view+json": {
       "model_id": "3ead6c7cdb6e4158852aa9bf8c2de763",
       "version_major": 2,
       "version_minor": 0
      },
      "text/plain": [
       "Featurizing:   0%|          | 0/199 [00:00<?, ?it/s]"
      ]
     },
     "metadata": {},
     "output_type": "display_data"
    },
    {
     "name": "stderr",
     "output_type": "stream",
     "text": [
      "Seed set to 42\n"
     ]
    },
    {
     "name": "stdout",
     "output_type": "stream",
     "text": [
      "[MongoFindDataset] Loading Data from Cache File /nvme/.cache/luminar/ba86eacbce10c7dc12309de1b948eb81c824d0d941c989b59968f834c2199be8.pkl\n"
     ]
    },
    {
     "data": {
      "application/vnd.jupyter.widget-view+json": {
       "model_id": "5a25519394c8403da8b1d2dfd54e10e8",
       "version_major": 2,
       "version_minor": 0
      },
      "text/plain": [
       "Featurizing:   0%|          | 0/200 [00:00<?, ?it/s]"
      ]
     },
     "metadata": {},
     "output_type": "display_data"
    },
    {
     "data": {
      "application/vnd.jupyter.widget-view+json": {
       "model_id": "a57baa38347347a0b8e2a6dc04b09f9a",
       "version_major": 2,
       "version_minor": 0
      },
      "text/plain": [
       "Featurizing:   0%|          | 0/200 [00:00<?, ?it/s]"
      ]
     },
     "metadata": {},
     "output_type": "display_data"
    },
    {
     "data": {
      "application/vnd.jupyter.widget-view+json": {
       "model_id": "61aed7da06f14cbe87806809f0fd9e76",
       "version_major": 2,
       "version_minor": 0
      },
      "text/plain": [
       "Featurizing:   0%|          | 0/200 [00:00<?, ?it/s]"
      ]
     },
     "metadata": {},
     "output_type": "display_data"
    },
    {
     "data": {
      "application/vnd.jupyter.widget-view+json": {
       "model_id": "f8b31ae76ec748448259a3352594b162",
       "version_major": 2,
       "version_minor": 0
      },
      "text/plain": [
       "Featurizing:   0%|          | 0/200 [00:00<?, ?it/s]"
      ]
     },
     "metadata": {},
     "output_type": "display_data"
    },
    {
     "data": {
      "application/vnd.jupyter.widget-view+json": {
       "model_id": "bc03422fd6794bbe9fb27f07126e6b25",
       "version_major": 2,
       "version_minor": 0
      },
      "text/plain": [
       "Featurizing:   0%|          | 0/200 [00:00<?, ?it/s]"
      ]
     },
     "metadata": {},
     "output_type": "display_data"
    },
    {
     "data": {
      "application/vnd.jupyter.widget-view+json": {
       "model_id": "744189ce7a3648b0a1ec78393965362f",
       "version_major": 2,
       "version_minor": 0
      },
      "text/plain": [
       "Featurizing:   0%|          | 0/200 [00:00<?, ?it/s]"
      ]
     },
     "metadata": {},
     "output_type": "display_data"
    },
    {
     "data": {
      "application/vnd.jupyter.widget-view+json": {
       "model_id": "3da7967c5e6442a1be6ff2f1a6ab1328",
       "version_major": 2,
       "version_minor": 0
      },
      "text/plain": [
       "Featurizing:   0%|          | 0/200 [00:00<?, ?it/s]"
      ]
     },
     "metadata": {},
     "output_type": "display_data"
    },
    {
     "data": {
      "application/vnd.jupyter.widget-view+json": {
       "model_id": "a5a0839981754a22bea2299b509f381b",
       "version_major": 2,
       "version_minor": 0
      },
      "text/plain": [
       "Featurizing:   0%|          | 0/200 [00:00<?, ?it/s]"
      ]
     },
     "metadata": {},
     "output_type": "display_data"
    },
    {
     "data": {
      "application/vnd.jupyter.widget-view+json": {
       "model_id": "f0b511e774bf437e9023bf0523cadad3",
       "version_major": 2,
       "version_minor": 0
      },
      "text/plain": [
       "Featurizing:   0%|          | 0/200 [00:00<?, ?it/s]"
      ]
     },
     "metadata": {},
     "output_type": "display_data"
    },
    {
     "data": {
      "application/vnd.jupyter.widget-view+json": {
       "model_id": "2bdca2d6ac64492984dde0e4f4e07393",
       "version_major": 2,
       "version_minor": 0
      },
      "text/plain": [
       "Featurizing:   0%|          | 0/200 [00:00<?, ?it/s]"
      ]
     },
     "metadata": {},
     "output_type": "display_data"
    }
   ],
   "source": [
    "config[\"seed\"] = 42\n",
    "\n",
    "sizes = [0.1] * 10\n",
    "ai_splits = {}\n",
    "for agent in tqdm([\"human\", \"gpt\"], desc=\"Domains\", position=0):\n",
    "# for agent in tqdm(agents, desc=\"Domains\", position=0):\n",
    "    seed_everything(config[\"seed\"])\n",
    "    ai_splits[agent] = [\n",
    "        featurize(subset)\n",
    "        for subset in n_way_split(\n",
    "            MongoFindDataset(\n",
    "                {\"document.agent\": agent, \"model.name\": config[\"feature_model\"]},\n",
    "                projection={\n",
    "                    \"_id\": 1,\n",
    "                    \"features\": [\n",
    "                        {\n",
    "                            \"label\": \"$document.label\",\n",
    "                            \"agent\": \"$document.agent\",\n",
    "                            \"type\": \"$document.type\",\n",
    "                            \"split\": \"$split\",\n",
    "                            \"transition_scores\": \"$transition_scores\",\n",
    "                        }\n",
    "                    ],\n",
    "                },\n",
    "                mongo_db_connection=os.environ.get(\"MONGO_DB_CONNECTION\"),\n",
    "                collection=\"features_Ghostbuster\",\n",
    "            ).load(),\n",
    "            *sizes,\n",
    "        )\n",
    "    ]"
   ]
  },
  {
   "cell_type": "code",
   "execution_count": 47,
   "metadata": {},
   "outputs": [],
   "source": [
    "human_subsets = ai_splits.pop(\"human\")"
   ]
  },
  {
   "cell_type": "markdown",
   "metadata": {},
   "source": [
    "## In-Domain Training & Evaluation"
   ]
  },
  {
   "cell_type": "code",
   "execution_count": 48,
   "metadata": {},
   "outputs": [],
   "source": [
    "from torch.utils.data import ConcatDataset\n",
    "\n",
    "config |= {\n",
    "    \"batch_size\": 32,\n",
    "}\n",
    "\n",
    "\n",
    "# capturing config from \"closure\"\n",
    "def get_dataloader(*dataset, **kwargs) -> PaddingDataloader:\n",
    "    if len(dataset) == 1:\n",
    "        dataset = dataset[0]\n",
    "    else:\n",
    "        dataset = ConcatDataset(dataset)\n",
    "    return PaddingDataloader(\n",
    "        dataset,\n",
    "        feature_dim=config[\"feature_dim\"],\n",
    "        batch_size=config[\"batch_size\"],\n",
    "        **kwargs,\n",
    "    )"
   ]
  },
  {
   "cell_type": "code",
   "execution_count": 49,
   "metadata": {},
   "outputs": [],
   "source": [
    "config |= {\n",
    "    \"projection_dim\": 32,\n",
    "    \"learning_rate\": 0.0001,\n",
    "    \"warmup_steps\": 80,\n",
    "    \"max_epochs\": 50,\n",
    "    \"gradient_clip_val\": 1.0,\n",
    "}\n",
    "\n",
    "# SeqXGPT Layer Configuration\n",
    "config[\"conv_layer_shapes\"] = [\n",
    "    ConvolutionalLayerSpec(64, 5),\n",
    "    *[ConvolutionalLayerSpec(128, 3)],\n",
    "    ConvolutionalLayerSpec(64, 3),\n",
    "]"
   ]
  },
  {
   "cell_type": "code",
   "execution_count": 50,
   "metadata": {},
   "outputs": [
    {
     "name": "stderr",
     "output_type": "stream",
     "text": [
      "Seed set to 42\n",
      "GPU available: True (cuda), used: True\n",
      "TPU available: False, using: 0 TPU cores\n",
      "HPU available: False, using: 0 HPUs\n",
      "LOCAL_RANK: 0 - CUDA_VISIBLE_DEVICES: [0]\n",
      "Loading `train_dataloader` to estimate number of stepping batches.\n",
      "\n",
      "  | Name        | Type              | Params | Mode  | In sizes    | Out sizes\n",
      "------------------------------------------------------------------------------------\n",
      "0 | conv_layers | Sequential        | 53.6 K | train | ?           | ?        \n",
      "1 | projection  | Sequential        | 524 K  | train | [32, 16384] | [32, 32] \n",
      "2 | classifier  | Linear            | 33     | train | [32, 32]    | [32, 1]  \n",
      "3 | criterion   | BCEWithLogitsLoss | 0      | train | ?           | ?        \n",
      "------------------------------------------------------------------------------------\n",
      "577 K     Trainable params\n",
      "0         Non-trainable params\n",
      "577 K     Total params\n",
      "2.312     Total estimated model params size (MB)\n",
      "13        Modules in train mode\n",
      "0         Modules in eval mode\n"
     ]
    },
    {
     "data": {
      "application/vnd.jupyter.widget-view+json": {
       "model_id": "e66ab6af6e374663b5ff49ae0536156c",
       "version_major": 2,
       "version_minor": 0
      },
      "text/plain": [
       "Sanity Checking: |          | 0/? [00:00<?, ?it/s]"
      ]
     },
     "metadata": {},
     "output_type": "display_data"
    },
    {
     "name": "stderr",
     "output_type": "stream",
     "text": [
      "/home/mastoeck/Projects/PrismAI/PrismAI/.venv/lib/python3.12/site-packages/sklearn/metrics/_classification.py:1565: UndefinedMetricWarning: F-score is ill-defined and being set to 0.0 due to no true nor predicted samples. Use `zero_division` parameter to control this behavior.\n",
      "  _warn_prf(average, modifier, f\"{metric.capitalize()} is\", len(result))\n",
      "/home/mastoeck/Projects/PrismAI/PrismAI/.venv/lib/python3.12/site-packages/sklearn/metrics/_classification.py:1565: UndefinedMetricWarning: F-score is ill-defined and being set to 0.0 due to no true nor predicted samples. Use `zero_division` parameter to control this behavior.\n",
      "  _warn_prf(average, modifier, f\"{metric.capitalize()} is\", len(result))\n",
      "/home/mastoeck/Projects/PrismAI/PrismAI/.venv/lib/python3.12/site-packages/sklearn/metrics/_ranking.py:1188: UndefinedMetricWarning: No positive samples in y_true, true positive value should be meaningless\n",
      "  warnings.warn(\n"
     ]
    },
    {
     "data": {
      "application/vnd.jupyter.widget-view+json": {
       "model_id": "8abb4931380d4ea389a0b64669dd7f7e",
       "version_major": 2,
       "version_minor": 0
      },
      "text/plain": [
       "Training: |          | 0/? [00:00<?, ?it/s]"
      ]
     },
     "metadata": {},
     "output_type": "display_data"
    },
    {
     "data": {
      "application/vnd.jupyter.widget-view+json": {
       "model_id": "3d3c6568e5fb4e058a051d76a2e4998f",
       "version_major": 2,
       "version_minor": 0
      },
      "text/plain": [
       "Validation: |          | 0/? [00:00<?, ?it/s]"
      ]
     },
     "metadata": {},
     "output_type": "display_data"
    },
    {
     "data": {
      "application/vnd.jupyter.widget-view+json": {
       "model_id": "7297f761ceef4603a01cf0401d50ebab",
       "version_major": 2,
       "version_minor": 0
      },
      "text/plain": [
       "Validation: |          | 0/? [00:00<?, ?it/s]"
      ]
     },
     "metadata": {},
     "output_type": "display_data"
    },
    {
     "data": {
      "application/vnd.jupyter.widget-view+json": {
       "model_id": "ec800c5094f9440b8aa5be042e6242f3",
       "version_major": 2,
       "version_minor": 0
      },
      "text/plain": [
       "Validation: |          | 0/? [00:00<?, ?it/s]"
      ]
     },
     "metadata": {},
     "output_type": "display_data"
    },
    {
     "data": {
      "application/vnd.jupyter.widget-view+json": {
       "model_id": "d0c4171ba4d64b1ebc8fed0b1abb42a8",
       "version_major": 2,
       "version_minor": 0
      },
      "text/plain": [
       "Validation: |          | 0/? [00:00<?, ?it/s]"
      ]
     },
     "metadata": {},
     "output_type": "display_data"
    },
    {
     "data": {
      "application/vnd.jupyter.widget-view+json": {
       "model_id": "0439554049384a5db8c51781d01fe5f7",
       "version_major": 2,
       "version_minor": 0
      },
      "text/plain": [
       "Validation: |          | 0/? [00:00<?, ?it/s]"
      ]
     },
     "metadata": {},
     "output_type": "display_data"
    },
    {
     "data": {
      "application/vnd.jupyter.widget-view+json": {
       "model_id": "c85937402e5046e9a3b6f0a72e8d696b",
       "version_major": 2,
       "version_minor": 0
      },
      "text/plain": [
       "Validation: |          | 0/? [00:00<?, ?it/s]"
      ]
     },
     "metadata": {},
     "output_type": "display_data"
    },
    {
     "data": {
      "application/vnd.jupyter.widget-view+json": {
       "model_id": "a3553a3b18ad4bdebbdf09dfd03d9ba1",
       "version_major": 2,
       "version_minor": 0
      },
      "text/plain": [
       "Validation: |          | 0/? [00:00<?, ?it/s]"
      ]
     },
     "metadata": {},
     "output_type": "display_data"
    },
    {
     "data": {
      "application/vnd.jupyter.widget-view+json": {
       "model_id": "2d2e2523241a485cbf8211d3c0a00941",
       "version_major": 2,
       "version_minor": 0
      },
      "text/plain": [
       "Validation: |          | 0/? [00:00<?, ?it/s]"
      ]
     },
     "metadata": {},
     "output_type": "display_data"
    },
    {
     "data": {
      "application/vnd.jupyter.widget-view+json": {
       "model_id": "6ecfc5d682b14b909fa7a5f81949fa2e",
       "version_major": 2,
       "version_minor": 0
      },
      "text/plain": [
       "Validation: |          | 0/? [00:00<?, ?it/s]"
      ]
     },
     "metadata": {},
     "output_type": "display_data"
    },
    {
     "data": {
      "application/vnd.jupyter.widget-view+json": {
       "model_id": "0b01701a14254f708e2a718b085ac1bc",
       "version_major": 2,
       "version_minor": 0
      },
      "text/plain": [
       "Validation: |          | 0/? [00:00<?, ?it/s]"
      ]
     },
     "metadata": {},
     "output_type": "display_data"
    },
    {
     "data": {
      "application/vnd.jupyter.widget-view+json": {
       "model_id": "cf83d3bbf6ae4b54a3017b922f96e55f",
       "version_major": 2,
       "version_minor": 0
      },
      "text/plain": [
       "Validation: |          | 0/? [00:00<?, ?it/s]"
      ]
     },
     "metadata": {},
     "output_type": "display_data"
    },
    {
     "data": {
      "application/vnd.jupyter.widget-view+json": {
       "model_id": "0d51ba903c2f49a19773b5485040d82d",
       "version_major": 2,
       "version_minor": 0
      },
      "text/plain": [
       "Validation: |          | 0/? [00:00<?, ?it/s]"
      ]
     },
     "metadata": {},
     "output_type": "display_data"
    },
    {
     "data": {
      "application/vnd.jupyter.widget-view+json": {
       "model_id": "a935f10bdff440629d5266410afae334",
       "version_major": 2,
       "version_minor": 0
      },
      "text/plain": [
       "Validation: |          | 0/? [00:00<?, ?it/s]"
      ]
     },
     "metadata": {},
     "output_type": "display_data"
    },
    {
     "data": {
      "application/vnd.jupyter.widget-view+json": {
       "model_id": "c95be2c313ed477cba0720c26366d7bd",
       "version_major": 2,
       "version_minor": 0
      },
      "text/plain": [
       "Validation: |          | 0/? [00:00<?, ?it/s]"
      ]
     },
     "metadata": {},
     "output_type": "display_data"
    },
    {
     "data": {
      "application/vnd.jupyter.widget-view+json": {
       "model_id": "6e8a8db4f961471da2492ae5c9a52b90",
       "version_major": 2,
       "version_minor": 0
      },
      "text/plain": [
       "Validation: |          | 0/? [00:00<?, ?it/s]"
      ]
     },
     "metadata": {},
     "output_type": "display_data"
    },
    {
     "data": {
      "application/vnd.jupyter.widget-view+json": {
       "model_id": "8837c2c3762f4a62ba1c09bf0452928d",
       "version_major": 2,
       "version_minor": 0
      },
      "text/plain": [
       "Validation: |          | 0/? [00:00<?, ?it/s]"
      ]
     },
     "metadata": {},
     "output_type": "display_data"
    },
    {
     "data": {
      "application/vnd.jupyter.widget-view+json": {
       "model_id": "4fb51153bea44707b74c52f5c9b8b70d",
       "version_major": 2,
       "version_minor": 0
      },
      "text/plain": [
       "Validation: |          | 0/? [00:00<?, ?it/s]"
      ]
     },
     "metadata": {},
     "output_type": "display_data"
    },
    {
     "data": {
      "application/vnd.jupyter.widget-view+json": {
       "model_id": "7c5c5735df48477e96154e7f1fde6c73",
       "version_major": 2,
       "version_minor": 0
      },
      "text/plain": [
       "Validation: |          | 0/? [00:00<?, ?it/s]"
      ]
     },
     "metadata": {},
     "output_type": "display_data"
    },
    {
     "data": {
      "application/vnd.jupyter.widget-view+json": {
       "model_id": "c3ddea7d7cdb41808c35dfa4eef38d88",
       "version_major": 2,
       "version_minor": 0
      },
      "text/plain": [
       "Validation: |          | 0/? [00:00<?, ?it/s]"
      ]
     },
     "metadata": {},
     "output_type": "display_data"
    },
    {
     "data": {
      "application/vnd.jupyter.widget-view+json": {
       "model_id": "110d85c1c28145098ab76ba646debda6",
       "version_major": 2,
       "version_minor": 0
      },
      "text/plain": [
       "Validation: |          | 0/? [00:00<?, ?it/s]"
      ]
     },
     "metadata": {},
     "output_type": "display_data"
    },
    {
     "data": {
      "application/vnd.jupyter.widget-view+json": {
       "model_id": "b54273c5a61944cda9a10c3904a985c4",
       "version_major": 2,
       "version_minor": 0
      },
      "text/plain": [
       "Validation: |          | 0/? [00:00<?, ?it/s]"
      ]
     },
     "metadata": {},
     "output_type": "display_data"
    },
    {
     "data": {
      "application/vnd.jupyter.widget-view+json": {
       "model_id": "2ec2e24abf7b48dbb954ba3b4d7a15eb",
       "version_major": 2,
       "version_minor": 0
      },
      "text/plain": [
       "Validation: |          | 0/? [00:00<?, ?it/s]"
      ]
     },
     "metadata": {},
     "output_type": "display_data"
    },
    {
     "name": "stderr",
     "output_type": "stream",
     "text": [
      "LOCAL_RANK: 0 - CUDA_VISIBLE_DEVICES: [0]\n"
     ]
    },
    {
     "data": {
      "application/vnd.jupyter.widget-view+json": {
       "model_id": "74f9de27723540ceb16bd34fbd94df0f",
       "version_major": 2,
       "version_minor": 0
      },
      "text/plain": [
       "Testing: |          | 0/? [00:00<?, ?it/s]"
      ]
     },
     "metadata": {},
     "output_type": "display_data"
    },
    {
     "data": {
      "application/vnd.microsoft.datawrangler.viewer.v0+json": {
       "columns": [
        {
         "name": "index",
         "rawType": "int64",
         "type": "integer"
        },
        {
         "name": "test_loss",
         "rawType": "float64",
         "type": "float"
        },
        {
         "name": "test_acc@0.5",
         "rawType": "float64",
         "type": "float"
        },
        {
         "name": "test_f1@0.5",
         "rawType": "float64",
         "type": "float"
        },
        {
         "name": "test_acc@best",
         "rawType": "float64",
         "type": "float"
        },
        {
         "name": "test_f1@best",
         "rawType": "float64",
         "type": "float"
        },
        {
         "name": "test_roc_auc",
         "rawType": "float64",
         "type": "float"
        }
       ],
       "conversionMethod": "pd.DataFrame",
       "ref": "51840332-302b-4aa4-bdf7-8bf20e9571be",
       "rows": [
        [
         "0",
         "0.3466794192790985",
         "0.8550000190734863",
         "0.8512820601463318",
         "0.8299999833106995",
         "0.844748854637146",
         "0.9318125247955322"
        ]
       ],
       "shape": {
        "columns": 6,
        "rows": 1
       }
      },
      "text/html": [
       "<div>\n",
       "<style scoped>\n",
       "    .dataframe tbody tr th:only-of-type {\n",
       "        vertical-align: middle;\n",
       "    }\n",
       "\n",
       "    .dataframe tbody tr th {\n",
       "        vertical-align: top;\n",
       "    }\n",
       "\n",
       "    .dataframe thead th {\n",
       "        text-align: right;\n",
       "    }\n",
       "</style>\n",
       "<table border=\"1\" class=\"dataframe\">\n",
       "  <thead>\n",
       "    <tr style=\"text-align: right;\">\n",
       "      <th></th>\n",
       "      <th>test_loss</th>\n",
       "      <th>test_acc@0.5</th>\n",
       "      <th>test_f1@0.5</th>\n",
       "      <th>test_acc@best</th>\n",
       "      <th>test_f1@best</th>\n",
       "      <th>test_roc_auc</th>\n",
       "    </tr>\n",
       "  </thead>\n",
       "  <tbody>\n",
       "    <tr>\n",
       "      <th>0</th>\n",
       "      <td>0.346679</td>\n",
       "      <td>0.855</td>\n",
       "      <td>0.851282</td>\n",
       "      <td>0.83</td>\n",
       "      <td>0.844749</td>\n",
       "      <td>0.931813</td>\n",
       "    </tr>\n",
       "  </tbody>\n",
       "</table>\n",
       "</div>"
      ],
      "text/plain": [
       "   test_loss  test_acc@0.5  test_f1@0.5  test_acc@best  test_f1@best  \\\n",
       "0   0.346679         0.855     0.851282           0.83      0.844749   \n",
       "\n",
       "   test_roc_auc  \n",
       "0      0.931813  "
      ]
     },
     "execution_count": 50,
     "metadata": {},
     "output_type": "execute_result"
    }
   ],
   "source": [
    "ai_subsets = ai_splits[agent]\n",
    "seed_everything(config[\"seed\"])\n",
    "\n",
    "# human_subsets.insert(0, human_subsets.pop())\n",
    "# ai_subsets.insert(0, ai_subsets.pop())\n",
    "\n",
    "eval_dataloader = get_dataloader(human_subsets[0], ai_subsets[0])\n",
    "test_dataloader = get_dataloader(*human_subsets[1:3], *ai_subsets[1:3])\n",
    "train_dataloader = get_dataloader(*human_subsets[3:], *ai_subsets[3:], shuffle=True)\n",
    "\n",
    "model = DocumentClassficationModel(**config)\n",
    "trainer = Trainer(\n",
    "    max_epochs=config[\"max_epochs\"],\n",
    "    logger=pl_loggers.TensorBoardLogger(\n",
    "        save_dir=f\"logs/Ghostbuster/in_domain/{type(featurizer).__name__}\",\n",
    "        name=agent,\n",
    "    ),\n",
    "    gradient_clip_val=config[\"gradient_clip_val\"],\n",
    "    callbacks=[EarlyStopping(monitor=\"val_loss\", mode=\"min\", patience=10)],\n",
    "    deterministic=True,\n",
    ")\n",
    "trainer.fit(\n",
    "    model,\n",
    "    train_dataloaders=train_dataloader,\n",
    "    val_dataloaders=eval_dataloader,\n",
    ")\n",
    "(metrics,) = trainer.test(model, test_dataloader, verbose=False)\n",
    "pd.DataFrame([metrics])"
   ]
  },
  {
   "cell_type": "code",
   "execution_count": null,
   "metadata": {},
   "outputs": [
    {
     "data": {
      "application/vnd.jupyter.widget-view+json": {
       "model_id": "22ce2db636564f7cbd949d50f77c2b12",
       "version_major": 2,
       "version_minor": 0
      },
      "text/plain": [
       "  0%|          | 0/6 [00:00<?, ?it/s]"
      ]
     },
     "metadata": {},
     "output_type": "display_data"
    },
    {
     "data": {
      "application/vnd.jupyter.widget-view+json": {
       "model_id": "7cbbadfdce734ddd83e1c399d505bff1",
       "version_major": 2,
       "version_minor": 0
      },
      "text/plain": [
       "claude:   0%|          | 0/5 [00:00<?, ?it/s]"
      ]
     },
     "metadata": {},
     "output_type": "display_data"
    },
    {
     "name": "stderr",
     "output_type": "stream",
     "text": [
      "Seed set to 42\n",
      "GPU available: True (cuda), used: True\n",
      "TPU available: False, using: 0 TPU cores\n",
      "HPU available: False, using: 0 HPUs\n",
      "LOCAL_RANK: 0 - CUDA_VISIBLE_DEVICES: [0]\n",
      "Loading `train_dataloader` to estimate number of stepping batches.\n",
      "\n",
      "  | Name        | Type              | Params | Mode  | In sizes    | Out sizes  \n",
      "--------------------------------------------------------------------------------------\n",
      "0 | conv_layers | Sequential        | 152 K  | train | ?           | ?          \n",
      "1 | projection  | Identity          | 0      | train | [32, 16384] | [32, 16384]\n",
      "2 | classifier  | Linear            | 16.4 K | train | [32, 16384] | [32, 1]    \n",
      "3 | criterion   | BCEWithLogitsLoss | 0      | train | ?           | ?          \n",
      "--------------------------------------------------------------------------------------\n",
      "168 K     Trainable params\n",
      "0         Non-trainable params\n",
      "168 K     Total params\n",
      "0.674     Total estimated model params size (MB)\n",
      "15        Modules in train mode\n",
      "0         Modules in eval mode\n",
      "/home/mastoeck/Projects/PrismAI/PrismAI/.venv/lib/python3.12/site-packages/sklearn/metrics/_classification.py:1565: UndefinedMetricWarning: F-score is ill-defined and being set to 0.0 due to no true nor predicted samples. Use `zero_division` parameter to control this behavior.\n",
      "  _warn_prf(average, modifier, f\"{metric.capitalize()} is\", len(result))\n",
      "/home/mastoeck/Projects/PrismAI/PrismAI/.venv/lib/python3.12/site-packages/sklearn/metrics/_classification.py:1565: UndefinedMetricWarning: F-score is ill-defined and being set to 0.0 due to no true nor predicted samples. Use `zero_division` parameter to control this behavior.\n",
      "  _warn_prf(average, modifier, f\"{metric.capitalize()} is\", len(result))\n",
      "/home/mastoeck/Projects/PrismAI/PrismAI/.venv/lib/python3.12/site-packages/sklearn/metrics/_ranking.py:1188: UndefinedMetricWarning: No positive samples in y_true, true positive value should be meaningless\n",
      "  warnings.warn(\n",
      "LOCAL_RANK: 0 - CUDA_VISIBLE_DEVICES: [0]\n",
      "Seed set to 42\n"
     ]
    },
    {
     "name": "stdout",
     "output_type": "stream",
     "text": [
      "claude {'test_loss': 0.1087355762720108, 'test_acc@0.5': 0.9662500023841858, 'test_f1@0.5': 0.9663760662078857, 'test_acc@best': 0.9725000262260437, 'test_f1@best': 0.9723618030548096, 'test_roc_auc': 0.994446873664856}\n"
     ]
    },
    {
     "name": "stderr",
     "output_type": "stream",
     "text": [
      "GPU available: True (cuda), used: True\n",
      "TPU available: False, using: 0 TPU cores\n",
      "HPU available: False, using: 0 HPUs\n",
      "LOCAL_RANK: 0 - CUDA_VISIBLE_DEVICES: [0]\n",
      "Loading `train_dataloader` to estimate number of stepping batches.\n",
      "\n",
      "  | Name        | Type              | Params | Mode  | In sizes    | Out sizes  \n",
      "--------------------------------------------------------------------------------------\n",
      "0 | conv_layers | Sequential        | 152 K  | train | ?           | ?          \n",
      "1 | projection  | Identity          | 0      | train | [32, 16384] | [32, 16384]\n",
      "2 | classifier  | Linear            | 16.4 K | train | [32, 16384] | [32, 1]    \n",
      "3 | criterion   | BCEWithLogitsLoss | 0      | train | ?           | ?          \n",
      "--------------------------------------------------------------------------------------\n",
      "168 K     Trainable params\n",
      "0         Non-trainable params\n",
      "168 K     Total params\n",
      "0.674     Total estimated model params size (MB)\n",
      "15        Modules in train mode\n",
      "0         Modules in eval mode\n",
      "/home/mastoeck/Projects/PrismAI/PrismAI/.venv/lib/python3.12/site-packages/sklearn/metrics/_classification.py:1565: UndefinedMetricWarning: F-score is ill-defined and being set to 0.0 due to no true nor predicted samples. Use `zero_division` parameter to control this behavior.\n",
      "  _warn_prf(average, modifier, f\"{metric.capitalize()} is\", len(result))\n",
      "/home/mastoeck/Projects/PrismAI/PrismAI/.venv/lib/python3.12/site-packages/sklearn/metrics/_classification.py:1565: UndefinedMetricWarning: F-score is ill-defined and being set to 0.0 due to no true nor predicted samples. Use `zero_division` parameter to control this behavior.\n",
      "  _warn_prf(average, modifier, f\"{metric.capitalize()} is\", len(result))\n",
      "/home/mastoeck/Projects/PrismAI/PrismAI/.venv/lib/python3.12/site-packages/sklearn/metrics/_ranking.py:1188: UndefinedMetricWarning: No positive samples in y_true, true positive value should be meaningless\n",
      "  warnings.warn(\n",
      "LOCAL_RANK: 0 - CUDA_VISIBLE_DEVICES: [0]\n",
      "Seed set to 42\n"
     ]
    },
    {
     "name": "stdout",
     "output_type": "stream",
     "text": [
      "claude {'test_loss': 0.14335134625434875, 'test_acc@0.5': 0.9511889815330505, 'test_f1@0.5': 0.9520295262336731, 'test_acc@best': 0.9624530673027039, 'test_f1@best': 0.9624060392379761, 'test_roc_auc': 0.9910212755203247}\n"
     ]
    },
    {
     "name": "stderr",
     "output_type": "stream",
     "text": [
      "GPU available: True (cuda), used: True\n",
      "TPU available: False, using: 0 TPU cores\n",
      "HPU available: False, using: 0 HPUs\n",
      "LOCAL_RANK: 0 - CUDA_VISIBLE_DEVICES: [0]\n",
      "Loading `train_dataloader` to estimate number of stepping batches.\n",
      "\n",
      "  | Name        | Type              | Params | Mode  | In sizes    | Out sizes  \n",
      "--------------------------------------------------------------------------------------\n",
      "0 | conv_layers | Sequential        | 152 K  | train | ?           | ?          \n",
      "1 | projection  | Identity          | 0      | train | [32, 16384] | [32, 16384]\n",
      "2 | classifier  | Linear            | 16.4 K | train | [32, 16384] | [32, 1]    \n",
      "3 | criterion   | BCEWithLogitsLoss | 0      | train | ?           | ?          \n",
      "--------------------------------------------------------------------------------------\n",
      "168 K     Trainable params\n",
      "0         Non-trainable params\n",
      "168 K     Total params\n",
      "0.674     Total estimated model params size (MB)\n",
      "15        Modules in train mode\n",
      "0         Modules in eval mode\n",
      "/home/mastoeck/Projects/PrismAI/PrismAI/.venv/lib/python3.12/site-packages/sklearn/metrics/_classification.py:1565: UndefinedMetricWarning: F-score is ill-defined and being set to 0.0 due to no true nor predicted samples. Use `zero_division` parameter to control this behavior.\n",
      "  _warn_prf(average, modifier, f\"{metric.capitalize()} is\", len(result))\n",
      "/home/mastoeck/Projects/PrismAI/PrismAI/.venv/lib/python3.12/site-packages/sklearn/metrics/_classification.py:1565: UndefinedMetricWarning: F-score is ill-defined and being set to 0.0 due to no true nor predicted samples. Use `zero_division` parameter to control this behavior.\n",
      "  _warn_prf(average, modifier, f\"{metric.capitalize()} is\", len(result))\n",
      "/home/mastoeck/Projects/PrismAI/PrismAI/.venv/lib/python3.12/site-packages/sklearn/metrics/_ranking.py:1188: UndefinedMetricWarning: No positive samples in y_true, true positive value should be meaningless\n",
      "  warnings.warn(\n",
      "LOCAL_RANK: 0 - CUDA_VISIBLE_DEVICES: [0]\n",
      "Seed set to 42\n"
     ]
    },
    {
     "name": "stdout",
     "output_type": "stream",
     "text": [
      "claude {'test_loss': 0.16900520026683807, 'test_acc@0.5': 0.9598997235298157, 'test_f1@0.5': 0.9595959782600403, 'test_acc@best': 0.9523809552192688, 'test_f1@best': 0.9528536200523376, 'test_roc_auc': 0.984698474407196}\n"
     ]
    },
    {
     "name": "stderr",
     "output_type": "stream",
     "text": [
      "GPU available: True (cuda), used: True\n",
      "TPU available: False, using: 0 TPU cores\n",
      "HPU available: False, using: 0 HPUs\n",
      "LOCAL_RANK: 0 - CUDA_VISIBLE_DEVICES: [0]\n",
      "Loading `train_dataloader` to estimate number of stepping batches.\n",
      "\n",
      "  | Name        | Type              | Params | Mode  | In sizes    | Out sizes  \n",
      "--------------------------------------------------------------------------------------\n",
      "0 | conv_layers | Sequential        | 152 K  | train | ?           | ?          \n",
      "1 | projection  | Identity          | 0      | train | [32, 16384] | [32, 16384]\n",
      "2 | classifier  | Linear            | 16.4 K | train | [32, 16384] | [32, 1]    \n",
      "3 | criterion   | BCEWithLogitsLoss | 0      | train | ?           | ?          \n",
      "--------------------------------------------------------------------------------------\n",
      "168 K     Trainable params\n",
      "0         Non-trainable params\n",
      "168 K     Total params\n",
      "0.674     Total estimated model params size (MB)\n",
      "15        Modules in train mode\n",
      "0         Modules in eval mode\n",
      "/home/mastoeck/Projects/PrismAI/PrismAI/.venv/lib/python3.12/site-packages/sklearn/metrics/_classification.py:1565: UndefinedMetricWarning: F-score is ill-defined and being set to 0.0 due to no true nor predicted samples. Use `zero_division` parameter to control this behavior.\n",
      "  _warn_prf(average, modifier, f\"{metric.capitalize()} is\", len(result))\n",
      "/home/mastoeck/Projects/PrismAI/PrismAI/.venv/lib/python3.12/site-packages/sklearn/metrics/_classification.py:1565: UndefinedMetricWarning: F-score is ill-defined and being set to 0.0 due to no true nor predicted samples. Use `zero_division` parameter to control this behavior.\n",
      "  _warn_prf(average, modifier, f\"{metric.capitalize()} is\", len(result))\n",
      "/home/mastoeck/Projects/PrismAI/PrismAI/.venv/lib/python3.12/site-packages/sklearn/metrics/_ranking.py:1188: UndefinedMetricWarning: No positive samples in y_true, true positive value should be meaningless\n",
      "  warnings.warn(\n",
      "LOCAL_RANK: 0 - CUDA_VISIBLE_DEVICES: [0]\n",
      "Seed set to 42\n"
     ]
    },
    {
     "name": "stdout",
     "output_type": "stream",
     "text": [
      "claude {'test_loss': 0.5317082405090332, 'test_acc@0.5': 0.9160401225090027, 'test_f1@0.5': 0.9201430082321167, 'test_acc@best': 0.9373433589935303, 'test_f1@best': 0.9382715821266174, 'test_roc_auc': 0.9760050177574158}\n"
     ]
    },
    {
     "name": "stderr",
     "output_type": "stream",
     "text": [
      "GPU available: True (cuda), used: True\n",
      "TPU available: False, using: 0 TPU cores\n",
      "HPU available: False, using: 0 HPUs\n",
      "LOCAL_RANK: 0 - CUDA_VISIBLE_DEVICES: [0]\n",
      "Loading `train_dataloader` to estimate number of stepping batches.\n",
      "\n",
      "  | Name        | Type              | Params | Mode  | In sizes    | Out sizes  \n",
      "--------------------------------------------------------------------------------------\n",
      "0 | conv_layers | Sequential        | 152 K  | train | ?           | ?          \n",
      "1 | projection  | Identity          | 0      | train | [32, 16384] | [32, 16384]\n",
      "2 | classifier  | Linear            | 16.4 K | train | [32, 16384] | [32, 1]    \n",
      "3 | criterion   | BCEWithLogitsLoss | 0      | train | ?           | ?          \n",
      "--------------------------------------------------------------------------------------\n",
      "168 K     Trainable params\n",
      "0         Non-trainable params\n",
      "168 K     Total params\n",
      "0.674     Total estimated model params size (MB)\n",
      "15        Modules in train mode\n",
      "0         Modules in eval mode\n",
      "/home/mastoeck/Projects/PrismAI/PrismAI/.venv/lib/python3.12/site-packages/sklearn/metrics/_classification.py:1565: UndefinedMetricWarning: F-score is ill-defined and being set to 0.0 due to no true nor predicted samples. Use `zero_division` parameter to control this behavior.\n",
      "  _warn_prf(average, modifier, f\"{metric.capitalize()} is\", len(result))\n",
      "/home/mastoeck/Projects/PrismAI/PrismAI/.venv/lib/python3.12/site-packages/sklearn/metrics/_classification.py:1565: UndefinedMetricWarning: F-score is ill-defined and being set to 0.0 due to no true nor predicted samples. Use `zero_division` parameter to control this behavior.\n",
      "  _warn_prf(average, modifier, f\"{metric.capitalize()} is\", len(result))\n",
      "/home/mastoeck/Projects/PrismAI/PrismAI/.venv/lib/python3.12/site-packages/sklearn/metrics/_ranking.py:1188: UndefinedMetricWarning: No positive samples in y_true, true positive value should be meaningless\n",
      "  warnings.warn(\n",
      "LOCAL_RANK: 0 - CUDA_VISIBLE_DEVICES: [0]\n"
     ]
    },
    {
     "name": "stdout",
     "output_type": "stream",
     "text": [
      "claude {'test_loss': 0.11776493489742279, 'test_acc@0.5': 0.9573934674263, 'test_f1@0.5': 0.9561855792999268, 'test_acc@best': 0.9624060392379761, 'test_f1@best': 0.9622166156768799, 'test_roc_auc': 0.990207314491272}\n"
     ]
    },
    {
     "data": {
      "application/vnd.jupyter.widget-view+json": {
       "model_id": "877a1b4cd7bd4ca78a897f86505fb99b",
       "version_major": 2,
       "version_minor": 0
      },
      "text/plain": [
       "gpt:   0%|          | 0/5 [00:00<?, ?it/s]"
      ]
     },
     "metadata": {},
     "output_type": "display_data"
    },
    {
     "name": "stderr",
     "output_type": "stream",
     "text": [
      "Seed set to 42\n",
      "GPU available: True (cuda), used: True\n",
      "TPU available: False, using: 0 TPU cores\n",
      "HPU available: False, using: 0 HPUs\n",
      "LOCAL_RANK: 0 - CUDA_VISIBLE_DEVICES: [0]\n",
      "Loading `train_dataloader` to estimate number of stepping batches.\n",
      "\n",
      "  | Name        | Type              | Params | Mode  | In sizes    | Out sizes  \n",
      "--------------------------------------------------------------------------------------\n",
      "0 | conv_layers | Sequential        | 152 K  | train | ?           | ?          \n",
      "1 | projection  | Identity          | 0      | train | [32, 16384] | [32, 16384]\n",
      "2 | classifier  | Linear            | 16.4 K | train | [32, 16384] | [32, 1]    \n",
      "3 | criterion   | BCEWithLogitsLoss | 0      | train | ?           | ?          \n",
      "--------------------------------------------------------------------------------------\n",
      "168 K     Trainable params\n",
      "0         Non-trainable params\n",
      "168 K     Total params\n",
      "0.674     Total estimated model params size (MB)\n",
      "15        Modules in train mode\n",
      "0         Modules in eval mode\n",
      "/home/mastoeck/Projects/PrismAI/PrismAI/.venv/lib/python3.12/site-packages/sklearn/metrics/_classification.py:1565: UndefinedMetricWarning: F-score is ill-defined and being set to 0.0 due to no true nor predicted samples. Use `zero_division` parameter to control this behavior.\n",
      "  _warn_prf(average, modifier, f\"{metric.capitalize()} is\", len(result))\n",
      "/home/mastoeck/Projects/PrismAI/PrismAI/.venv/lib/python3.12/site-packages/sklearn/metrics/_classification.py:1565: UndefinedMetricWarning: F-score is ill-defined and being set to 0.0 due to no true nor predicted samples. Use `zero_division` parameter to control this behavior.\n",
      "  _warn_prf(average, modifier, f\"{metric.capitalize()} is\", len(result))\n",
      "/home/mastoeck/Projects/PrismAI/PrismAI/.venv/lib/python3.12/site-packages/sklearn/metrics/_ranking.py:1188: UndefinedMetricWarning: No positive samples in y_true, true positive value should be meaningless\n",
      "  warnings.warn(\n",
      "LOCAL_RANK: 0 - CUDA_VISIBLE_DEVICES: [0]\n",
      "Seed set to 42\n"
     ]
    },
    {
     "name": "stdout",
     "output_type": "stream",
     "text": [
      "gpt {'test_loss': 0.4585123658180237, 'test_acc@0.5': 0.7882205247879028, 'test_f1@0.5': 0.8219178318977356, 'test_acc@best': 0.878446102142334, 'test_f1@best': 0.8779874444007874, 'test_roc_auc': 0.9533103108406067}\n"
     ]
    },
    {
     "name": "stderr",
     "output_type": "stream",
     "text": [
      "GPU available: True (cuda), used: True\n",
      "TPU available: False, using: 0 TPU cores\n",
      "HPU available: False, using: 0 HPUs\n",
      "LOCAL_RANK: 0 - CUDA_VISIBLE_DEVICES: [0]\n",
      "Loading `train_dataloader` to estimate number of stepping batches.\n",
      "\n",
      "  | Name        | Type              | Params | Mode  | In sizes    | Out sizes  \n",
      "--------------------------------------------------------------------------------------\n",
      "0 | conv_layers | Sequential        | 152 K  | train | ?           | ?          \n",
      "1 | projection  | Identity          | 0      | train | [32, 16384] | [32, 16384]\n",
      "2 | classifier  | Linear            | 16.4 K | train | [32, 16384] | [32, 1]    \n",
      "3 | criterion   | BCEWithLogitsLoss | 0      | train | ?           | ?          \n",
      "--------------------------------------------------------------------------------------\n",
      "168 K     Trainable params\n",
      "0         Non-trainable params\n",
      "168 K     Total params\n",
      "0.674     Total estimated model params size (MB)\n",
      "15        Modules in train mode\n",
      "0         Modules in eval mode\n",
      "/home/mastoeck/Projects/PrismAI/PrismAI/.venv/lib/python3.12/site-packages/sklearn/metrics/_classification.py:1565: UndefinedMetricWarning: F-score is ill-defined and being set to 0.0 due to no true nor predicted samples. Use `zero_division` parameter to control this behavior.\n",
      "  _warn_prf(average, modifier, f\"{metric.capitalize()} is\", len(result))\n",
      "/home/mastoeck/Projects/PrismAI/PrismAI/.venv/lib/python3.12/site-packages/sklearn/metrics/_classification.py:1565: UndefinedMetricWarning: F-score is ill-defined and being set to 0.0 due to no true nor predicted samples. Use `zero_division` parameter to control this behavior.\n",
      "  _warn_prf(average, modifier, f\"{metric.capitalize()} is\", len(result))\n",
      "/home/mastoeck/Projects/PrismAI/PrismAI/.venv/lib/python3.12/site-packages/sklearn/metrics/_ranking.py:1188: UndefinedMetricWarning: No positive samples in y_true, true positive value should be meaningless\n",
      "  warnings.warn(\n",
      "LOCAL_RANK: 0 - CUDA_VISIBLE_DEVICES: [0]\n",
      "Seed set to 42\n"
     ]
    },
    {
     "name": "stdout",
     "output_type": "stream",
     "text": [
      "gpt {'test_loss': 0.4053586423397064, 'test_acc@0.5': 0.8433583974838257, 'test_f1@0.5': 0.8294679522514343, 'test_acc@best': 0.8395990133285522, 'test_f1@best': 0.8476190567016602, 'test_roc_auc': 0.9352763891220093}\n"
     ]
    },
    {
     "name": "stderr",
     "output_type": "stream",
     "text": [
      "GPU available: True (cuda), used: True\n",
      "TPU available: False, using: 0 TPU cores\n",
      "HPU available: False, using: 0 HPUs\n",
      "LOCAL_RANK: 0 - CUDA_VISIBLE_DEVICES: [0]\n",
      "Loading `train_dataloader` to estimate number of stepping batches.\n",
      "\n",
      "  | Name        | Type              | Params | Mode  | In sizes    | Out sizes  \n",
      "--------------------------------------------------------------------------------------\n",
      "0 | conv_layers | Sequential        | 152 K  | train | ?           | ?          \n",
      "1 | projection  | Identity          | 0      | train | [32, 16384] | [32, 16384]\n",
      "2 | classifier  | Linear            | 16.4 K | train | [32, 16384] | [32, 1]    \n",
      "3 | criterion   | BCEWithLogitsLoss | 0      | train | ?           | ?          \n",
      "--------------------------------------------------------------------------------------\n",
      "168 K     Trainable params\n",
      "0         Non-trainable params\n",
      "168 K     Total params\n",
      "0.674     Total estimated model params size (MB)\n",
      "15        Modules in train mode\n",
      "0         Modules in eval mode\n",
      "/home/mastoeck/Projects/PrismAI/PrismAI/.venv/lib/python3.12/site-packages/sklearn/metrics/_classification.py:1565: UndefinedMetricWarning: F-score is ill-defined and being set to 0.0 due to no true nor predicted samples. Use `zero_division` parameter to control this behavior.\n",
      "  _warn_prf(average, modifier, f\"{metric.capitalize()} is\", len(result))\n",
      "/home/mastoeck/Projects/PrismAI/PrismAI/.venv/lib/python3.12/site-packages/sklearn/metrics/_classification.py:1565: UndefinedMetricWarning: F-score is ill-defined and being set to 0.0 due to no true nor predicted samples. Use `zero_division` parameter to control this behavior.\n",
      "  _warn_prf(average, modifier, f\"{metric.capitalize()} is\", len(result))\n",
      "/home/mastoeck/Projects/PrismAI/PrismAI/.venv/lib/python3.12/site-packages/sklearn/metrics/_ranking.py:1188: UndefinedMetricWarning: No positive samples in y_true, true positive value should be meaningless\n",
      "  warnings.warn(\n",
      "LOCAL_RANK: 0 - CUDA_VISIBLE_DEVICES: [0]\n",
      "Seed set to 42\n"
     ]
    },
    {
     "name": "stdout",
     "output_type": "stream",
     "text": [
      "gpt {'test_loss': 0.440337598323822, 'test_acc@0.5': 0.822277843952179, 'test_f1@0.5': 0.8422222137451172, 'test_acc@best': 0.8598247766494751, 'test_f1@best': 0.8585858345031738, 'test_roc_auc': 0.9325438737869263}\n"
     ]
    },
    {
     "name": "stderr",
     "output_type": "stream",
     "text": [
      "GPU available: True (cuda), used: True\n",
      "TPU available: False, using: 0 TPU cores\n",
      "HPU available: False, using: 0 HPUs\n",
      "LOCAL_RANK: 0 - CUDA_VISIBLE_DEVICES: [0]\n",
      "Loading `train_dataloader` to estimate number of stepping batches.\n",
      "\n",
      "  | Name        | Type              | Params | Mode  | In sizes    | Out sizes  \n",
      "--------------------------------------------------------------------------------------\n",
      "0 | conv_layers | Sequential        | 152 K  | train | ?           | ?          \n",
      "1 | projection  | Identity          | 0      | train | [32, 16384] | [32, 16384]\n",
      "2 | classifier  | Linear            | 16.4 K | train | [32, 16384] | [32, 1]    \n",
      "3 | criterion   | BCEWithLogitsLoss | 0      | train | ?           | ?          \n",
      "--------------------------------------------------------------------------------------\n",
      "168 K     Trainable params\n",
      "0         Non-trainable params\n",
      "168 K     Total params\n",
      "0.674     Total estimated model params size (MB)\n",
      "15        Modules in train mode\n",
      "0         Modules in eval mode\n",
      "/home/mastoeck/Projects/PrismAI/PrismAI/.venv/lib/python3.12/site-packages/sklearn/metrics/_classification.py:1565: UndefinedMetricWarning: F-score is ill-defined and being set to 0.0 due to no true nor predicted samples. Use `zero_division` parameter to control this behavior.\n",
      "  _warn_prf(average, modifier, f\"{metric.capitalize()} is\", len(result))\n",
      "/home/mastoeck/Projects/PrismAI/PrismAI/.venv/lib/python3.12/site-packages/sklearn/metrics/_classification.py:1565: UndefinedMetricWarning: F-score is ill-defined and being set to 0.0 due to no true nor predicted samples. Use `zero_division` parameter to control this behavior.\n",
      "  _warn_prf(average, modifier, f\"{metric.capitalize()} is\", len(result))\n",
      "/home/mastoeck/Projects/PrismAI/PrismAI/.venv/lib/python3.12/site-packages/sklearn/metrics/_ranking.py:1188: UndefinedMetricWarning: No positive samples in y_true, true positive value should be meaningless\n",
      "  warnings.warn(\n",
      "LOCAL_RANK: 0 - CUDA_VISIBLE_DEVICES: [0]\n",
      "Seed set to 42\n"
     ]
    },
    {
     "name": "stdout",
     "output_type": "stream",
     "text": [
      "gpt {'test_loss': 0.4874598979949951, 'test_acc@0.5': 0.8100000023841858, 'test_f1@0.5': 0.7764706015586853, 'test_acc@best': 0.8399999737739563, 'test_f1@best': 0.8419753313064575, 'test_roc_auc': 0.9255437254905701}\n"
     ]
    },
    {
     "name": "stderr",
     "output_type": "stream",
     "text": [
      "GPU available: True (cuda), used: True\n",
      "TPU available: False, using: 0 TPU cores\n",
      "HPU available: False, using: 0 HPUs\n",
      "LOCAL_RANK: 0 - CUDA_VISIBLE_DEVICES: [0]\n",
      "Loading `train_dataloader` to estimate number of stepping batches.\n",
      "\n",
      "  | Name        | Type              | Params | Mode  | In sizes    | Out sizes  \n",
      "--------------------------------------------------------------------------------------\n",
      "0 | conv_layers | Sequential        | 152 K  | train | ?           | ?          \n",
      "1 | projection  | Identity          | 0      | train | [32, 16384] | [32, 16384]\n",
      "2 | classifier  | Linear            | 16.4 K | train | [32, 16384] | [32, 1]    \n",
      "3 | criterion   | BCEWithLogitsLoss | 0      | train | ?           | ?          \n",
      "--------------------------------------------------------------------------------------\n",
      "168 K     Trainable params\n",
      "0         Non-trainable params\n",
      "168 K     Total params\n",
      "0.674     Total estimated model params size (MB)\n",
      "15        Modules in train mode\n",
      "0         Modules in eval mode\n",
      "/home/mastoeck/Projects/PrismAI/PrismAI/.venv/lib/python3.12/site-packages/sklearn/metrics/_classification.py:1565: UndefinedMetricWarning: F-score is ill-defined and being set to 0.0 due to no true nor predicted samples. Use `zero_division` parameter to control this behavior.\n",
      "  _warn_prf(average, modifier, f\"{metric.capitalize()} is\", len(result))\n",
      "/home/mastoeck/Projects/PrismAI/PrismAI/.venv/lib/python3.12/site-packages/sklearn/metrics/_classification.py:1565: UndefinedMetricWarning: F-score is ill-defined and being set to 0.0 due to no true nor predicted samples. Use `zero_division` parameter to control this behavior.\n",
      "  _warn_prf(average, modifier, f\"{metric.capitalize()} is\", len(result))\n",
      "/home/mastoeck/Projects/PrismAI/PrismAI/.venv/lib/python3.12/site-packages/sklearn/metrics/_ranking.py:1188: UndefinedMetricWarning: No positive samples in y_true, true positive value should be meaningless\n",
      "  warnings.warn(\n",
      "LOCAL_RANK: 0 - CUDA_VISIBLE_DEVICES: [0]\n"
     ]
    },
    {
     "name": "stdout",
     "output_type": "stream",
     "text": [
      "gpt {'test_loss': 0.4792071282863617, 'test_acc@0.5': 0.8050000071525574, 'test_f1@0.5': 0.7671641707420349, 'test_acc@best': 0.8662499785423279, 'test_f1@best': 0.8654087781906128, 'test_roc_auc': 0.9381062388420105}\n"
     ]
    },
    {
     "data": {
      "application/vnd.jupyter.widget-view+json": {
       "model_id": "8c674e69b8af44aea15a27ecd2f062bc",
       "version_major": 2,
       "version_minor": 0
      },
      "text/plain": [
       "gpt_prompt1:   0%|          | 0/5 [00:00<?, ?it/s]"
      ]
     },
     "metadata": {},
     "output_type": "display_data"
    },
    {
     "name": "stderr",
     "output_type": "stream",
     "text": [
      "Seed set to 42\n",
      "GPU available: True (cuda), used: True\n",
      "TPU available: False, using: 0 TPU cores\n",
      "HPU available: False, using: 0 HPUs\n",
      "LOCAL_RANK: 0 - CUDA_VISIBLE_DEVICES: [0]\n",
      "Loading `train_dataloader` to estimate number of stepping batches.\n",
      "\n",
      "  | Name        | Type              | Params | Mode  | In sizes    | Out sizes  \n",
      "--------------------------------------------------------------------------------------\n",
      "0 | conv_layers | Sequential        | 152 K  | train | ?           | ?          \n",
      "1 | projection  | Identity          | 0      | train | [32, 16384] | [32, 16384]\n",
      "2 | classifier  | Linear            | 16.4 K | train | [32, 16384] | [32, 1]    \n",
      "3 | criterion   | BCEWithLogitsLoss | 0      | train | ?           | ?          \n",
      "--------------------------------------------------------------------------------------\n",
      "168 K     Trainable params\n",
      "0         Non-trainable params\n",
      "168 K     Total params\n",
      "0.674     Total estimated model params size (MB)\n",
      "15        Modules in train mode\n",
      "0         Modules in eval mode\n",
      "/home/mastoeck/Projects/PrismAI/PrismAI/.venv/lib/python3.12/site-packages/sklearn/metrics/_classification.py:1565: UndefinedMetricWarning: F-score is ill-defined and being set to 0.0 due to no true nor predicted samples. Use `zero_division` parameter to control this behavior.\n",
      "  _warn_prf(average, modifier, f\"{metric.capitalize()} is\", len(result))\n",
      "/home/mastoeck/Projects/PrismAI/PrismAI/.venv/lib/python3.12/site-packages/sklearn/metrics/_classification.py:1565: UndefinedMetricWarning: F-score is ill-defined and being set to 0.0 due to no true nor predicted samples. Use `zero_division` parameter to control this behavior.\n",
      "  _warn_prf(average, modifier, f\"{metric.capitalize()} is\", len(result))\n",
      "/home/mastoeck/Projects/PrismAI/PrismAI/.venv/lib/python3.12/site-packages/sklearn/metrics/_ranking.py:1188: UndefinedMetricWarning: No positive samples in y_true, true positive value should be meaningless\n",
      "  warnings.warn(\n",
      "LOCAL_RANK: 0 - CUDA_VISIBLE_DEVICES: [0]\n",
      "Seed set to 42\n"
     ]
    },
    {
     "name": "stdout",
     "output_type": "stream",
     "text": [
      "gpt_prompt1 {'test_loss': 0.35296154022216797, 'test_acc@0.5': 0.8550000190734863, 'test_f1@0.5': 0.8690744638442993, 'test_acc@best': 0.8824999928474426, 'test_f1@best': 0.881313145160675, 'test_roc_auc': 0.9500062465667725}\n"
     ]
    },
    {
     "name": "stderr",
     "output_type": "stream",
     "text": [
      "GPU available: True (cuda), used: True\n",
      "TPU available: False, using: 0 TPU cores\n",
      "HPU available: False, using: 0 HPUs\n",
      "LOCAL_RANK: 0 - CUDA_VISIBLE_DEVICES: [0]\n",
      "Loading `train_dataloader` to estimate number of stepping batches.\n",
      "\n",
      "  | Name        | Type              | Params | Mode  | In sizes    | Out sizes  \n",
      "--------------------------------------------------------------------------------------\n",
      "0 | conv_layers | Sequential        | 152 K  | train | ?           | ?          \n",
      "1 | projection  | Identity          | 0      | train | [32, 16384] | [32, 16384]\n",
      "2 | classifier  | Linear            | 16.4 K | train | [32, 16384] | [32, 1]    \n",
      "3 | criterion   | BCEWithLogitsLoss | 0      | train | ?           | ?          \n",
      "--------------------------------------------------------------------------------------\n",
      "168 K     Trainable params\n",
      "0         Non-trainable params\n",
      "168 K     Total params\n",
      "0.674     Total estimated model params size (MB)\n",
      "15        Modules in train mode\n",
      "0         Modules in eval mode\n",
      "/home/mastoeck/Projects/PrismAI/PrismAI/.venv/lib/python3.12/site-packages/sklearn/metrics/_classification.py:1565: UndefinedMetricWarning: F-score is ill-defined and being set to 0.0 due to no true nor predicted samples. Use `zero_division` parameter to control this behavior.\n",
      "  _warn_prf(average, modifier, f\"{metric.capitalize()} is\", len(result))\n",
      "/home/mastoeck/Projects/PrismAI/PrismAI/.venv/lib/python3.12/site-packages/sklearn/metrics/_classification.py:1565: UndefinedMetricWarning: F-score is ill-defined and being set to 0.0 due to no true nor predicted samples. Use `zero_division` parameter to control this behavior.\n",
      "  _warn_prf(average, modifier, f\"{metric.capitalize()} is\", len(result))\n",
      "/home/mastoeck/Projects/PrismAI/PrismAI/.venv/lib/python3.12/site-packages/sklearn/metrics/_ranking.py:1188: UndefinedMetricWarning: No positive samples in y_true, true positive value should be meaningless\n",
      "  warnings.warn(\n",
      "LOCAL_RANK: 0 - CUDA_VISIBLE_DEVICES: [0]\n",
      "Seed set to 42\n"
     ]
    },
    {
     "name": "stdout",
     "output_type": "stream",
     "text": [
      "gpt_prompt1 {'test_loss': 0.6446144580841064, 'test_acc@0.5': 0.7434293031692505, 'test_f1@0.5': 0.6677471399307251, 'test_acc@best': 0.8735920190811157, 'test_f1@best': 0.8710089325904846, 'test_roc_auc': 0.9291541576385498}\n"
     ]
    },
    {
     "name": "stderr",
     "output_type": "stream",
     "text": [
      "GPU available: True (cuda), used: True\n",
      "TPU available: False, using: 0 TPU cores\n",
      "HPU available: False, using: 0 HPUs\n",
      "LOCAL_RANK: 0 - CUDA_VISIBLE_DEVICES: [0]\n",
      "Loading `train_dataloader` to estimate number of stepping batches.\n",
      "\n",
      "  | Name        | Type              | Params | Mode  | In sizes    | Out sizes  \n",
      "--------------------------------------------------------------------------------------\n",
      "0 | conv_layers | Sequential        | 152 K  | train | ?           | ?          \n",
      "1 | projection  | Identity          | 0      | train | [32, 16384] | [32, 16384]\n",
      "2 | classifier  | Linear            | 16.4 K | train | [32, 16384] | [32, 1]    \n",
      "3 | criterion   | BCEWithLogitsLoss | 0      | train | ?           | ?          \n",
      "--------------------------------------------------------------------------------------\n",
      "168 K     Trainable params\n",
      "0         Non-trainable params\n",
      "168 K     Total params\n",
      "0.674     Total estimated model params size (MB)\n",
      "15        Modules in train mode\n",
      "0         Modules in eval mode\n",
      "/home/mastoeck/Projects/PrismAI/PrismAI/.venv/lib/python3.12/site-packages/sklearn/metrics/_classification.py:1565: UndefinedMetricWarning: F-score is ill-defined and being set to 0.0 due to no true nor predicted samples. Use `zero_division` parameter to control this behavior.\n",
      "  _warn_prf(average, modifier, f\"{metric.capitalize()} is\", len(result))\n",
      "/home/mastoeck/Projects/PrismAI/PrismAI/.venv/lib/python3.12/site-packages/sklearn/metrics/_classification.py:1565: UndefinedMetricWarning: F-score is ill-defined and being set to 0.0 due to no true nor predicted samples. Use `zero_division` parameter to control this behavior.\n",
      "  _warn_prf(average, modifier, f\"{metric.capitalize()} is\", len(result))\n",
      "/home/mastoeck/Projects/PrismAI/PrismAI/.venv/lib/python3.12/site-packages/sklearn/metrics/_ranking.py:1188: UndefinedMetricWarning: No positive samples in y_true, true positive value should be meaningless\n",
      "  warnings.warn(\n",
      "LOCAL_RANK: 0 - CUDA_VISIBLE_DEVICES: [0]\n",
      "Seed set to 42\n"
     ]
    },
    {
     "name": "stdout",
     "output_type": "stream",
     "text": [
      "gpt_prompt1 {'test_loss': 0.4005458652973175, 'test_acc@0.5': 0.8521303534507751, 'test_f1@0.5': 0.8608490824699402, 'test_acc@best': 0.8634085059165955, 'test_f1@best': 0.8614993691444397, 'test_roc_auc': 0.9269598126411438}\n"
     ]
    },
    {
     "name": "stderr",
     "output_type": "stream",
     "text": [
      "GPU available: True (cuda), used: True\n",
      "TPU available: False, using: 0 TPU cores\n",
      "HPU available: False, using: 0 HPUs\n",
      "LOCAL_RANK: 0 - CUDA_VISIBLE_DEVICES: [0]\n",
      "Loading `train_dataloader` to estimate number of stepping batches.\n",
      "\n",
      "  | Name        | Type              | Params | Mode  | In sizes    | Out sizes  \n",
      "--------------------------------------------------------------------------------------\n",
      "0 | conv_layers | Sequential        | 152 K  | train | ?           | ?          \n",
      "1 | projection  | Identity          | 0      | train | [32, 16384] | [32, 16384]\n",
      "2 | classifier  | Linear            | 16.4 K | train | [32, 16384] | [32, 1]    \n",
      "3 | criterion   | BCEWithLogitsLoss | 0      | train | ?           | ?          \n",
      "--------------------------------------------------------------------------------------\n",
      "168 K     Trainable params\n",
      "0         Non-trainable params\n",
      "168 K     Total params\n",
      "0.674     Total estimated model params size (MB)\n",
      "15        Modules in train mode\n",
      "0         Modules in eval mode\n",
      "/home/mastoeck/Projects/PrismAI/PrismAI/.venv/lib/python3.12/site-packages/sklearn/metrics/_classification.py:1565: UndefinedMetricWarning: F-score is ill-defined and being set to 0.0 due to no true nor predicted samples. Use `zero_division` parameter to control this behavior.\n",
      "  _warn_prf(average, modifier, f\"{metric.capitalize()} is\", len(result))\n",
      "/home/mastoeck/Projects/PrismAI/PrismAI/.venv/lib/python3.12/site-packages/sklearn/metrics/_classification.py:1565: UndefinedMetricWarning: F-score is ill-defined and being set to 0.0 due to no true nor predicted samples. Use `zero_division` parameter to control this behavior.\n",
      "  _warn_prf(average, modifier, f\"{metric.capitalize()} is\", len(result))\n",
      "/home/mastoeck/Projects/PrismAI/PrismAI/.venv/lib/python3.12/site-packages/sklearn/metrics/_ranking.py:1188: UndefinedMetricWarning: No positive samples in y_true, true positive value should be meaningless\n",
      "  warnings.warn(\n",
      "LOCAL_RANK: 0 - CUDA_VISIBLE_DEVICES: [0]\n",
      "Seed set to 42\n"
     ]
    },
    {
     "name": "stdout",
     "output_type": "stream",
     "text": [
      "gpt_prompt1 {'test_loss': 0.2967509925365448, 'test_acc@0.5': 0.8809523582458496, 'test_f1@0.5': 0.8786717653274536, 'test_acc@best': 0.8796992301940918, 'test_f1@best': 0.877237856388092, 'test_roc_auc': 0.9495100378990173}\n"
     ]
    },
    {
     "name": "stderr",
     "output_type": "stream",
     "text": [
      "GPU available: True (cuda), used: True\n",
      "TPU available: False, using: 0 TPU cores\n",
      "HPU available: False, using: 0 HPUs\n",
      "LOCAL_RANK: 0 - CUDA_VISIBLE_DEVICES: [0]\n",
      "Loading `train_dataloader` to estimate number of stepping batches.\n",
      "\n",
      "  | Name        | Type              | Params | Mode  | In sizes    | Out sizes  \n",
      "--------------------------------------------------------------------------------------\n",
      "0 | conv_layers | Sequential        | 152 K  | train | ?           | ?          \n",
      "1 | projection  | Identity          | 0      | train | [32, 16384] | [32, 16384]\n",
      "2 | classifier  | Linear            | 16.4 K | train | [32, 16384] | [32, 1]    \n",
      "3 | criterion   | BCEWithLogitsLoss | 0      | train | ?           | ?          \n",
      "--------------------------------------------------------------------------------------\n",
      "168 K     Trainable params\n",
      "0         Non-trainable params\n",
      "168 K     Total params\n",
      "0.674     Total estimated model params size (MB)\n",
      "15        Modules in train mode\n",
      "0         Modules in eval mode\n",
      "/home/mastoeck/Projects/PrismAI/PrismAI/.venv/lib/python3.12/site-packages/sklearn/metrics/_classification.py:1565: UndefinedMetricWarning: F-score is ill-defined and being set to 0.0 due to no true nor predicted samples. Use `zero_division` parameter to control this behavior.\n",
      "  _warn_prf(average, modifier, f\"{metric.capitalize()} is\", len(result))\n",
      "/home/mastoeck/Projects/PrismAI/PrismAI/.venv/lib/python3.12/site-packages/sklearn/metrics/_classification.py:1565: UndefinedMetricWarning: F-score is ill-defined and being set to 0.0 due to no true nor predicted samples. Use `zero_division` parameter to control this behavior.\n",
      "  _warn_prf(average, modifier, f\"{metric.capitalize()} is\", len(result))\n",
      "/home/mastoeck/Projects/PrismAI/PrismAI/.venv/lib/python3.12/site-packages/sklearn/metrics/_ranking.py:1188: UndefinedMetricWarning: No positive samples in y_true, true positive value should be meaningless\n",
      "  warnings.warn(\n",
      "LOCAL_RANK: 0 - CUDA_VISIBLE_DEVICES: [0]\n"
     ]
    },
    {
     "name": "stdout",
     "output_type": "stream",
     "text": [
      "gpt_prompt1 {'test_loss': 0.3610204756259918, 'test_acc@0.5': 0.8496240377426147, 'test_f1@0.5': 0.8314606547355652, 'test_acc@best': 0.8897243142127991, 'test_f1@best': 0.8913580179214478, 'test_roc_auc': 0.9577889442443848}\n"
     ]
    },
    {
     "data": {
      "application/vnd.jupyter.widget-view+json": {
       "model_id": "56f9dd3e2d844ce0903deae272334c9a",
       "version_major": 2,
       "version_minor": 0
      },
      "text/plain": [
       "gpt_prompt2:   0%|          | 0/5 [00:00<?, ?it/s]"
      ]
     },
     "metadata": {},
     "output_type": "display_data"
    },
    {
     "name": "stderr",
     "output_type": "stream",
     "text": [
      "Seed set to 42\n",
      "GPU available: True (cuda), used: True\n",
      "TPU available: False, using: 0 TPU cores\n",
      "HPU available: False, using: 0 HPUs\n",
      "LOCAL_RANK: 0 - CUDA_VISIBLE_DEVICES: [0]\n",
      "Loading `train_dataloader` to estimate number of stepping batches.\n",
      "\n",
      "  | Name        | Type              | Params | Mode  | In sizes    | Out sizes  \n",
      "--------------------------------------------------------------------------------------\n",
      "0 | conv_layers | Sequential        | 152 K  | train | ?           | ?          \n",
      "1 | projection  | Identity          | 0      | train | [32, 16384] | [32, 16384]\n",
      "2 | classifier  | Linear            | 16.4 K | train | [32, 16384] | [32, 1]    \n",
      "3 | criterion   | BCEWithLogitsLoss | 0      | train | ?           | ?          \n",
      "--------------------------------------------------------------------------------------\n",
      "168 K     Trainable params\n",
      "0         Non-trainable params\n",
      "168 K     Total params\n",
      "0.674     Total estimated model params size (MB)\n",
      "15        Modules in train mode\n",
      "0         Modules in eval mode\n",
      "/home/mastoeck/Projects/PrismAI/PrismAI/.venv/lib/python3.12/site-packages/sklearn/metrics/_classification.py:1565: UndefinedMetricWarning: F-score is ill-defined and being set to 0.0 due to no true nor predicted samples. Use `zero_division` parameter to control this behavior.\n",
      "  _warn_prf(average, modifier, f\"{metric.capitalize()} is\", len(result))\n",
      "/home/mastoeck/Projects/PrismAI/PrismAI/.venv/lib/python3.12/site-packages/sklearn/metrics/_classification.py:1565: UndefinedMetricWarning: F-score is ill-defined and being set to 0.0 due to no true nor predicted samples. Use `zero_division` parameter to control this behavior.\n",
      "  _warn_prf(average, modifier, f\"{metric.capitalize()} is\", len(result))\n",
      "/home/mastoeck/Projects/PrismAI/PrismAI/.venv/lib/python3.12/site-packages/sklearn/metrics/_ranking.py:1188: UndefinedMetricWarning: No positive samples in y_true, true positive value should be meaningless\n",
      "  warnings.warn(\n",
      "LOCAL_RANK: 0 - CUDA_VISIBLE_DEVICES: [0]\n",
      "Seed set to 42\n"
     ]
    },
    {
     "name": "stdout",
     "output_type": "stream",
     "text": [
      "gpt_prompt2 {'test_loss': 0.36569640040397644, 'test_acc@0.5': 0.8521303534507751, 'test_f1@0.5': 0.8374655842781067, 'test_acc@best': 0.8659147620201111, 'test_f1@best': 0.8690330386161804, 'test_roc_auc': 0.9448366761207581}\n"
     ]
    },
    {
     "name": "stderr",
     "output_type": "stream",
     "text": [
      "GPU available: True (cuda), used: True\n",
      "TPU available: False, using: 0 TPU cores\n",
      "HPU available: False, using: 0 HPUs\n",
      "LOCAL_RANK: 0 - CUDA_VISIBLE_DEVICES: [0]\n",
      "Loading `train_dataloader` to estimate number of stepping batches.\n",
      "\n",
      "  | Name        | Type              | Params | Mode  | In sizes    | Out sizes  \n",
      "--------------------------------------------------------------------------------------\n",
      "0 | conv_layers | Sequential        | 152 K  | train | ?           | ?          \n",
      "1 | projection  | Identity          | 0      | train | [32, 16384] | [32, 16384]\n",
      "2 | classifier  | Linear            | 16.4 K | train | [32, 16384] | [32, 1]    \n",
      "3 | criterion   | BCEWithLogitsLoss | 0      | train | ?           | ?          \n",
      "--------------------------------------------------------------------------------------\n",
      "168 K     Trainable params\n",
      "0         Non-trainable params\n",
      "168 K     Total params\n",
      "0.674     Total estimated model params size (MB)\n",
      "15        Modules in train mode\n",
      "0         Modules in eval mode\n",
      "/home/mastoeck/Projects/PrismAI/PrismAI/.venv/lib/python3.12/site-packages/sklearn/metrics/_classification.py:1565: UndefinedMetricWarning: F-score is ill-defined and being set to 0.0 due to no true nor predicted samples. Use `zero_division` parameter to control this behavior.\n",
      "  _warn_prf(average, modifier, f\"{metric.capitalize()} is\", len(result))\n",
      "/home/mastoeck/Projects/PrismAI/PrismAI/.venv/lib/python3.12/site-packages/sklearn/metrics/_classification.py:1565: UndefinedMetricWarning: F-score is ill-defined and being set to 0.0 due to no true nor predicted samples. Use `zero_division` parameter to control this behavior.\n",
      "  _warn_prf(average, modifier, f\"{metric.capitalize()} is\", len(result))\n",
      "/home/mastoeck/Projects/PrismAI/PrismAI/.venv/lib/python3.12/site-packages/sklearn/metrics/_ranking.py:1188: UndefinedMetricWarning: No positive samples in y_true, true positive value should be meaningless\n",
      "  warnings.warn(\n",
      "LOCAL_RANK: 0 - CUDA_VISIBLE_DEVICES: [0]\n",
      "Seed set to 42\n"
     ]
    },
    {
     "name": "stdout",
     "output_type": "stream",
     "text": [
      "gpt_prompt2 {'test_loss': 0.35692325234413147, 'test_acc@0.5': 0.8421052694320679, 'test_f1@0.5': 0.8538283109664917, 'test_acc@best': 0.8571428656578064, 'test_f1@best': 0.8575000166893005, 'test_roc_auc': 0.9291268587112427}\n"
     ]
    },
    {
     "name": "stderr",
     "output_type": "stream",
     "text": [
      "GPU available: True (cuda), used: True\n",
      "TPU available: False, using: 0 TPU cores\n",
      "HPU available: False, using: 0 HPUs\n",
      "LOCAL_RANK: 0 - CUDA_VISIBLE_DEVICES: [0]\n",
      "Loading `train_dataloader` to estimate number of stepping batches.\n",
      "\n",
      "  | Name        | Type              | Params | Mode  | In sizes    | Out sizes  \n",
      "--------------------------------------------------------------------------------------\n",
      "0 | conv_layers | Sequential        | 152 K  | train | ?           | ?          \n",
      "1 | projection  | Identity          | 0      | train | [32, 16384] | [32, 16384]\n",
      "2 | classifier  | Linear            | 16.4 K | train | [32, 16384] | [32, 1]    \n",
      "3 | criterion   | BCEWithLogitsLoss | 0      | train | ?           | ?          \n",
      "--------------------------------------------------------------------------------------\n",
      "168 K     Trainable params\n",
      "0         Non-trainable params\n",
      "168 K     Total params\n",
      "0.674     Total estimated model params size (MB)\n",
      "15        Modules in train mode\n",
      "0         Modules in eval mode\n",
      "/home/mastoeck/Projects/PrismAI/PrismAI/.venv/lib/python3.12/site-packages/sklearn/metrics/_classification.py:1565: UndefinedMetricWarning: F-score is ill-defined and being set to 0.0 due to no true nor predicted samples. Use `zero_division` parameter to control this behavior.\n",
      "  _warn_prf(average, modifier, f\"{metric.capitalize()} is\", len(result))\n",
      "/home/mastoeck/Projects/PrismAI/PrismAI/.venv/lib/python3.12/site-packages/sklearn/metrics/_classification.py:1565: UndefinedMetricWarning: F-score is ill-defined and being set to 0.0 due to no true nor predicted samples. Use `zero_division` parameter to control this behavior.\n",
      "  _warn_prf(average, modifier, f\"{metric.capitalize()} is\", len(result))\n",
      "/home/mastoeck/Projects/PrismAI/PrismAI/.venv/lib/python3.12/site-packages/sklearn/metrics/_ranking.py:1188: UndefinedMetricWarning: No positive samples in y_true, true positive value should be meaningless\n",
      "  warnings.warn(\n",
      "LOCAL_RANK: 0 - CUDA_VISIBLE_DEVICES: [0]\n",
      "Seed set to 42\n"
     ]
    },
    {
     "name": "stdout",
     "output_type": "stream",
     "text": [
      "gpt_prompt2 {'test_loss': 0.3661993741989136, 'test_acc@0.5': 0.8410513401031494, 'test_f1@0.5': 0.8558456301689148, 'test_acc@best': 0.8723404407501221, 'test_f1@best': 0.8746928572654724, 'test_roc_auc': 0.9375689029693604}\n"
     ]
    },
    {
     "name": "stderr",
     "output_type": "stream",
     "text": [
      "GPU available: True (cuda), used: True\n",
      "TPU available: False, using: 0 TPU cores\n",
      "HPU available: False, using: 0 HPUs\n",
      "LOCAL_RANK: 0 - CUDA_VISIBLE_DEVICES: [0]\n",
      "Loading `train_dataloader` to estimate number of stepping batches.\n",
      "\n",
      "  | Name        | Type              | Params | Mode  | In sizes    | Out sizes  \n",
      "--------------------------------------------------------------------------------------\n",
      "0 | conv_layers | Sequential        | 152 K  | train | ?           | ?          \n",
      "1 | projection  | Identity          | 0      | train | [32, 16384] | [32, 16384]\n",
      "2 | classifier  | Linear            | 16.4 K | train | [32, 16384] | [32, 1]    \n",
      "3 | criterion   | BCEWithLogitsLoss | 0      | train | ?           | ?          \n",
      "--------------------------------------------------------------------------------------\n",
      "168 K     Trainable params\n",
      "0         Non-trainable params\n",
      "168 K     Total params\n",
      "0.674     Total estimated model params size (MB)\n",
      "15        Modules in train mode\n",
      "0         Modules in eval mode\n",
      "/home/mastoeck/Projects/PrismAI/PrismAI/.venv/lib/python3.12/site-packages/sklearn/metrics/_classification.py:1565: UndefinedMetricWarning: F-score is ill-defined and being set to 0.0 due to no true nor predicted samples. Use `zero_division` parameter to control this behavior.\n",
      "  _warn_prf(average, modifier, f\"{metric.capitalize()} is\", len(result))\n",
      "/home/mastoeck/Projects/PrismAI/PrismAI/.venv/lib/python3.12/site-packages/sklearn/metrics/_classification.py:1565: UndefinedMetricWarning: F-score is ill-defined and being set to 0.0 due to no true nor predicted samples. Use `zero_division` parameter to control this behavior.\n",
      "  _warn_prf(average, modifier, f\"{metric.capitalize()} is\", len(result))\n",
      "/home/mastoeck/Projects/PrismAI/PrismAI/.venv/lib/python3.12/site-packages/sklearn/metrics/_ranking.py:1188: UndefinedMetricWarning: No positive samples in y_true, true positive value should be meaningless\n",
      "  warnings.warn(\n",
      "LOCAL_RANK: 0 - CUDA_VISIBLE_DEVICES: [0]\n",
      "Seed set to 42\n"
     ]
    },
    {
     "name": "stdout",
     "output_type": "stream",
     "text": [
      "gpt_prompt2 {'test_loss': 0.4033776819705963, 'test_acc@0.5': 0.856249988079071, 'test_f1@0.5': 0.8476821184158325, 'test_acc@best': 0.8600000143051147, 'test_f1@best': 0.8653846383094788, 'test_roc_auc': 0.9301312565803528}\n"
     ]
    },
    {
     "name": "stderr",
     "output_type": "stream",
     "text": [
      "GPU available: True (cuda), used: True\n",
      "TPU available: False, using: 0 TPU cores\n",
      "HPU available: False, using: 0 HPUs\n",
      "LOCAL_RANK: 0 - CUDA_VISIBLE_DEVICES: [0]\n",
      "Loading `train_dataloader` to estimate number of stepping batches.\n",
      "\n",
      "  | Name        | Type              | Params | Mode  | In sizes    | Out sizes  \n",
      "--------------------------------------------------------------------------------------\n",
      "0 | conv_layers | Sequential        | 152 K  | train | ?           | ?          \n",
      "1 | projection  | Identity          | 0      | train | [32, 16384] | [32, 16384]\n",
      "2 | classifier  | Linear            | 16.4 K | train | [32, 16384] | [32, 1]    \n",
      "3 | criterion   | BCEWithLogitsLoss | 0      | train | ?           | ?          \n",
      "--------------------------------------------------------------------------------------\n",
      "168 K     Trainable params\n",
      "0         Non-trainable params\n",
      "168 K     Total params\n",
      "0.674     Total estimated model params size (MB)\n",
      "15        Modules in train mode\n",
      "0         Modules in eval mode\n",
      "/home/mastoeck/Projects/PrismAI/PrismAI/.venv/lib/python3.12/site-packages/sklearn/metrics/_classification.py:1565: UndefinedMetricWarning: F-score is ill-defined and being set to 0.0 due to no true nor predicted samples. Use `zero_division` parameter to control this behavior.\n",
      "  _warn_prf(average, modifier, f\"{metric.capitalize()} is\", len(result))\n",
      "/home/mastoeck/Projects/PrismAI/PrismAI/.venv/lib/python3.12/site-packages/sklearn/metrics/_classification.py:1565: UndefinedMetricWarning: F-score is ill-defined and being set to 0.0 due to no true nor predicted samples. Use `zero_division` parameter to control this behavior.\n",
      "  _warn_prf(average, modifier, f\"{metric.capitalize()} is\", len(result))\n",
      "/home/mastoeck/Projects/PrismAI/PrismAI/.venv/lib/python3.12/site-packages/sklearn/metrics/_ranking.py:1188: UndefinedMetricWarning: No positive samples in y_true, true positive value should be meaningless\n",
      "  warnings.warn(\n",
      "LOCAL_RANK: 0 - CUDA_VISIBLE_DEVICES: [0]\n"
     ]
    },
    {
     "name": "stdout",
     "output_type": "stream",
     "text": [
      "gpt_prompt2 {'test_loss': 0.401864230632782, 'test_acc@0.5': 0.8212500214576721, 'test_f1@0.5': 0.8395061492919922, 'test_acc@best': 0.8399999737739563, 'test_f1@best': 0.8501170873641968, 'test_roc_auc': 0.9347624778747559}\n"
     ]
    },
    {
     "data": {
      "application/vnd.jupyter.widget-view+json": {
       "model_id": "7828ed09313c490ab8fd3738a20fcdd4",
       "version_major": 2,
       "version_minor": 0
      },
      "text/plain": [
       "gpt_semantic:   0%|          | 0/5 [00:00<?, ?it/s]"
      ]
     },
     "metadata": {},
     "output_type": "display_data"
    },
    {
     "name": "stderr",
     "output_type": "stream",
     "text": [
      "Seed set to 42\n",
      "GPU available: True (cuda), used: True\n",
      "TPU available: False, using: 0 TPU cores\n",
      "HPU available: False, using: 0 HPUs\n",
      "LOCAL_RANK: 0 - CUDA_VISIBLE_DEVICES: [0]\n",
      "Loading `train_dataloader` to estimate number of stepping batches.\n",
      "\n",
      "  | Name        | Type              | Params | Mode  | In sizes    | Out sizes  \n",
      "--------------------------------------------------------------------------------------\n",
      "0 | conv_layers | Sequential        | 152 K  | train | ?           | ?          \n",
      "1 | projection  | Identity          | 0      | train | [32, 16384] | [32, 16384]\n",
      "2 | classifier  | Linear            | 16.4 K | train | [32, 16384] | [32, 1]    \n",
      "3 | criterion   | BCEWithLogitsLoss | 0      | train | ?           | ?          \n",
      "--------------------------------------------------------------------------------------\n",
      "168 K     Trainable params\n",
      "0         Non-trainable params\n",
      "168 K     Total params\n",
      "0.674     Total estimated model params size (MB)\n",
      "15        Modules in train mode\n",
      "0         Modules in eval mode\n",
      "/home/mastoeck/Projects/PrismAI/PrismAI/.venv/lib/python3.12/site-packages/sklearn/metrics/_classification.py:1565: UndefinedMetricWarning: F-score is ill-defined and being set to 0.0 due to no true nor predicted samples. Use `zero_division` parameter to control this behavior.\n",
      "  _warn_prf(average, modifier, f\"{metric.capitalize()} is\", len(result))\n",
      "/home/mastoeck/Projects/PrismAI/PrismAI/.venv/lib/python3.12/site-packages/sklearn/metrics/_classification.py:1565: UndefinedMetricWarning: F-score is ill-defined and being set to 0.0 due to no true nor predicted samples. Use `zero_division` parameter to control this behavior.\n",
      "  _warn_prf(average, modifier, f\"{metric.capitalize()} is\", len(result))\n",
      "/home/mastoeck/Projects/PrismAI/PrismAI/.venv/lib/python3.12/site-packages/sklearn/metrics/_ranking.py:1188: UndefinedMetricWarning: No positive samples in y_true, true positive value should be meaningless\n",
      "  warnings.warn(\n",
      "LOCAL_RANK: 0 - CUDA_VISIBLE_DEVICES: [0]\n",
      "Seed set to 42\n"
     ]
    },
    {
     "name": "stdout",
     "output_type": "stream",
     "text": [
      "gpt_semantic {'test_loss': 0.27327337861061096, 'test_acc@0.5': 0.8924999833106995, 'test_f1@0.5': 0.8938271403312683, 'test_acc@best': 0.893750011920929, 'test_f1@best': 0.8982036113739014, 'test_roc_auc': 0.9562875032424927}\n"
     ]
    },
    {
     "name": "stderr",
     "output_type": "stream",
     "text": [
      "GPU available: True (cuda), used: True\n",
      "TPU available: False, using: 0 TPU cores\n",
      "HPU available: False, using: 0 HPUs\n",
      "LOCAL_RANK: 0 - CUDA_VISIBLE_DEVICES: [0]\n",
      "Loading `train_dataloader` to estimate number of stepping batches.\n",
      "\n",
      "  | Name        | Type              | Params | Mode  | In sizes    | Out sizes  \n",
      "--------------------------------------------------------------------------------------\n",
      "0 | conv_layers | Sequential        | 152 K  | train | ?           | ?          \n",
      "1 | projection  | Identity          | 0      | train | [32, 16384] | [32, 16384]\n",
      "2 | classifier  | Linear            | 16.4 K | train | [32, 16384] | [32, 1]    \n",
      "3 | criterion   | BCEWithLogitsLoss | 0      | train | ?           | ?          \n",
      "--------------------------------------------------------------------------------------\n",
      "168 K     Trainable params\n",
      "0         Non-trainable params\n",
      "168 K     Total params\n",
      "0.674     Total estimated model params size (MB)\n",
      "15        Modules in train mode\n",
      "0         Modules in eval mode\n",
      "/home/mastoeck/Projects/PrismAI/PrismAI/.venv/lib/python3.12/site-packages/sklearn/metrics/_classification.py:1565: UndefinedMetricWarning: F-score is ill-defined and being set to 0.0 due to no true nor predicted samples. Use `zero_division` parameter to control this behavior.\n",
      "  _warn_prf(average, modifier, f\"{metric.capitalize()} is\", len(result))\n",
      "/home/mastoeck/Projects/PrismAI/PrismAI/.venv/lib/python3.12/site-packages/sklearn/metrics/_classification.py:1565: UndefinedMetricWarning: F-score is ill-defined and being set to 0.0 due to no true nor predicted samples. Use `zero_division` parameter to control this behavior.\n",
      "  _warn_prf(average, modifier, f\"{metric.capitalize()} is\", len(result))\n",
      "/home/mastoeck/Projects/PrismAI/PrismAI/.venv/lib/python3.12/site-packages/sklearn/metrics/_ranking.py:1188: UndefinedMetricWarning: No positive samples in y_true, true positive value should be meaningless\n",
      "  warnings.warn(\n",
      "LOCAL_RANK: 0 - CUDA_VISIBLE_DEVICES: [0]\n",
      "Seed set to 42\n"
     ]
    },
    {
     "name": "stdout",
     "output_type": "stream",
     "text": [
      "gpt_semantic {'test_loss': 0.2824324071407318, 'test_acc@0.5': 0.8936170339584351, 'test_f1@0.5': 0.9001175165176392, 'test_acc@best': 0.9011263847351074, 'test_f1@best': 0.9035409092903137, 'test_roc_auc': 0.962274432182312}\n"
     ]
    },
    {
     "name": "stderr",
     "output_type": "stream",
     "text": [
      "GPU available: True (cuda), used: True\n",
      "TPU available: False, using: 0 TPU cores\n",
      "HPU available: False, using: 0 HPUs\n",
      "LOCAL_RANK: 0 - CUDA_VISIBLE_DEVICES: [0]\n",
      "Loading `train_dataloader` to estimate number of stepping batches.\n",
      "\n",
      "  | Name        | Type              | Params | Mode  | In sizes    | Out sizes  \n",
      "--------------------------------------------------------------------------------------\n",
      "0 | conv_layers | Sequential        | 152 K  | train | ?           | ?          \n",
      "1 | projection  | Identity          | 0      | train | [32, 16384] | [32, 16384]\n",
      "2 | classifier  | Linear            | 16.4 K | train | [32, 16384] | [32, 1]    \n",
      "3 | criterion   | BCEWithLogitsLoss | 0      | train | ?           | ?          \n",
      "--------------------------------------------------------------------------------------\n",
      "168 K     Trainable params\n",
      "0         Non-trainable params\n",
      "168 K     Total params\n",
      "0.674     Total estimated model params size (MB)\n",
      "15        Modules in train mode\n",
      "0         Modules in eval mode\n",
      "/home/mastoeck/Projects/PrismAI/PrismAI/.venv/lib/python3.12/site-packages/sklearn/metrics/_classification.py:1565: UndefinedMetricWarning: F-score is ill-defined and being set to 0.0 due to no true nor predicted samples. Use `zero_division` parameter to control this behavior.\n",
      "  _warn_prf(average, modifier, f\"{metric.capitalize()} is\", len(result))\n",
      "/home/mastoeck/Projects/PrismAI/PrismAI/.venv/lib/python3.12/site-packages/sklearn/metrics/_classification.py:1565: UndefinedMetricWarning: F-score is ill-defined and being set to 0.0 due to no true nor predicted samples. Use `zero_division` parameter to control this behavior.\n",
      "  _warn_prf(average, modifier, f\"{metric.capitalize()} is\", len(result))\n",
      "/home/mastoeck/Projects/PrismAI/PrismAI/.venv/lib/python3.12/site-packages/sklearn/metrics/_ranking.py:1188: UndefinedMetricWarning: No positive samples in y_true, true positive value should be meaningless\n",
      "  warnings.warn(\n",
      "LOCAL_RANK: 0 - CUDA_VISIBLE_DEVICES: [0]\n",
      "Seed set to 42\n"
     ]
    },
    {
     "name": "stdout",
     "output_type": "stream",
     "text": [
      "gpt_semantic {'test_loss': 0.2922516465187073, 'test_acc@0.5': 0.88345867395401, 'test_f1@0.5': 0.8768212199211121, 'test_acc@best': 0.8696742057800293, 'test_f1@best': 0.8820861577987671, 'test_roc_auc': 0.9593467116355896}\n"
     ]
    },
    {
     "name": "stderr",
     "output_type": "stream",
     "text": [
      "GPU available: True (cuda), used: True\n",
      "TPU available: False, using: 0 TPU cores\n",
      "HPU available: False, using: 0 HPUs\n",
      "LOCAL_RANK: 0 - CUDA_VISIBLE_DEVICES: [0]\n",
      "Loading `train_dataloader` to estimate number of stepping batches.\n",
      "\n",
      "  | Name        | Type              | Params | Mode  | In sizes    | Out sizes  \n",
      "--------------------------------------------------------------------------------------\n",
      "0 | conv_layers | Sequential        | 152 K  | train | ?           | ?          \n",
      "1 | projection  | Identity          | 0      | train | [32, 16384] | [32, 16384]\n",
      "2 | classifier  | Linear            | 16.4 K | train | [32, 16384] | [32, 1]    \n",
      "3 | criterion   | BCEWithLogitsLoss | 0      | train | ?           | ?          \n",
      "--------------------------------------------------------------------------------------\n",
      "168 K     Trainable params\n",
      "0         Non-trainable params\n",
      "168 K     Total params\n",
      "0.674     Total estimated model params size (MB)\n",
      "15        Modules in train mode\n",
      "0         Modules in eval mode\n",
      "/home/mastoeck/Projects/PrismAI/PrismAI/.venv/lib/python3.12/site-packages/sklearn/metrics/_classification.py:1565: UndefinedMetricWarning: F-score is ill-defined and being set to 0.0 due to no true nor predicted samples. Use `zero_division` parameter to control this behavior.\n",
      "  _warn_prf(average, modifier, f\"{metric.capitalize()} is\", len(result))\n",
      "/home/mastoeck/Projects/PrismAI/PrismAI/.venv/lib/python3.12/site-packages/sklearn/metrics/_classification.py:1565: UndefinedMetricWarning: F-score is ill-defined and being set to 0.0 due to no true nor predicted samples. Use `zero_division` parameter to control this behavior.\n",
      "  _warn_prf(average, modifier, f\"{metric.capitalize()} is\", len(result))\n",
      "/home/mastoeck/Projects/PrismAI/PrismAI/.venv/lib/python3.12/site-packages/sklearn/metrics/_ranking.py:1188: UndefinedMetricWarning: No positive samples in y_true, true positive value should be meaningless\n",
      "  warnings.warn(\n",
      "LOCAL_RANK: 0 - CUDA_VISIBLE_DEVICES: [0]\n",
      "Seed set to 42\n"
     ]
    },
    {
     "name": "stdout",
     "output_type": "stream",
     "text": [
      "gpt_semantic {'test_loss': 0.2812647521495819, 'test_acc@0.5': 0.8796992301940918, 'test_f1@0.5': 0.8775510191917419, 'test_acc@best': 0.8771929740905762, 'test_f1@best': 0.8784118890762329, 'test_roc_auc': 0.9551758766174316}\n"
     ]
    },
    {
     "name": "stderr",
     "output_type": "stream",
     "text": [
      "GPU available: True (cuda), used: True\n",
      "TPU available: False, using: 0 TPU cores\n",
      "HPU available: False, using: 0 HPUs\n",
      "LOCAL_RANK: 0 - CUDA_VISIBLE_DEVICES: [0]\n",
      "Loading `train_dataloader` to estimate number of stepping batches.\n",
      "\n",
      "  | Name        | Type              | Params | Mode  | In sizes    | Out sizes  \n",
      "--------------------------------------------------------------------------------------\n",
      "0 | conv_layers | Sequential        | 152 K  | train | ?           | ?          \n",
      "1 | projection  | Identity          | 0      | train | [32, 16384] | [32, 16384]\n",
      "2 | classifier  | Linear            | 16.4 K | train | [32, 16384] | [32, 1]    \n",
      "3 | criterion   | BCEWithLogitsLoss | 0      | train | ?           | ?          \n",
      "--------------------------------------------------------------------------------------\n",
      "168 K     Trainable params\n",
      "0         Non-trainable params\n",
      "168 K     Total params\n",
      "0.674     Total estimated model params size (MB)\n",
      "15        Modules in train mode\n",
      "0         Modules in eval mode\n",
      "/home/mastoeck/Projects/PrismAI/PrismAI/.venv/lib/python3.12/site-packages/sklearn/metrics/_classification.py:1565: UndefinedMetricWarning: F-score is ill-defined and being set to 0.0 due to no true nor predicted samples. Use `zero_division` parameter to control this behavior.\n",
      "  _warn_prf(average, modifier, f\"{metric.capitalize()} is\", len(result))\n",
      "/home/mastoeck/Projects/PrismAI/PrismAI/.venv/lib/python3.12/site-packages/sklearn/metrics/_classification.py:1565: UndefinedMetricWarning: F-score is ill-defined and being set to 0.0 due to no true nor predicted samples. Use `zero_division` parameter to control this behavior.\n",
      "  _warn_prf(average, modifier, f\"{metric.capitalize()} is\", len(result))\n",
      "/home/mastoeck/Projects/PrismAI/PrismAI/.venv/lib/python3.12/site-packages/sklearn/metrics/_ranking.py:1188: UndefinedMetricWarning: No positive samples in y_true, true positive value should be meaningless\n",
      "  warnings.warn(\n",
      "LOCAL_RANK: 0 - CUDA_VISIBLE_DEVICES: [0]\n"
     ]
    },
    {
     "name": "stdout",
     "output_type": "stream",
     "text": [
      "gpt_semantic {'test_loss': 0.4555540978908539, 'test_acc@0.5': 0.8283208012580872, 'test_f1@0.5': 0.8023087978363037, 'test_acc@best': 0.8859649300575256, 'test_f1@best': 0.8858218193054199, 'test_roc_auc': 0.9552261233329773}\n"
     ]
    },
    {
     "data": {
      "application/vnd.jupyter.widget-view+json": {
       "model_id": "c45a6c64633247859ad9f5b509c1c064",
       "version_major": 2,
       "version_minor": 0
      },
      "text/plain": [
       "gpt_writing:   0%|          | 0/5 [00:00<?, ?it/s]"
      ]
     },
     "metadata": {},
     "output_type": "display_data"
    },
    {
     "name": "stderr",
     "output_type": "stream",
     "text": [
      "Seed set to 42\n",
      "GPU available: True (cuda), used: True\n",
      "TPU available: False, using: 0 TPU cores\n",
      "HPU available: False, using: 0 HPUs\n",
      "LOCAL_RANK: 0 - CUDA_VISIBLE_DEVICES: [0]\n",
      "Loading `train_dataloader` to estimate number of stepping batches.\n",
      "\n",
      "  | Name        | Type              | Params | Mode  | In sizes    | Out sizes  \n",
      "--------------------------------------------------------------------------------------\n",
      "0 | conv_layers | Sequential        | 152 K  | train | ?           | ?          \n",
      "1 | projection  | Identity          | 0      | train | [32, 16384] | [32, 16384]\n",
      "2 | classifier  | Linear            | 16.4 K | train | [32, 16384] | [32, 1]    \n",
      "3 | criterion   | BCEWithLogitsLoss | 0      | train | ?           | ?          \n",
      "--------------------------------------------------------------------------------------\n",
      "168 K     Trainable params\n",
      "0         Non-trainable params\n",
      "168 K     Total params\n",
      "0.674     Total estimated model params size (MB)\n",
      "15        Modules in train mode\n",
      "0         Modules in eval mode\n",
      "/home/mastoeck/Projects/PrismAI/PrismAI/.venv/lib/python3.12/site-packages/sklearn/metrics/_classification.py:1565: UndefinedMetricWarning: F-score is ill-defined and being set to 0.0 due to no true nor predicted samples. Use `zero_division` parameter to control this behavior.\n",
      "  _warn_prf(average, modifier, f\"{metric.capitalize()} is\", len(result))\n",
      "/home/mastoeck/Projects/PrismAI/PrismAI/.venv/lib/python3.12/site-packages/sklearn/metrics/_classification.py:1565: UndefinedMetricWarning: F-score is ill-defined and being set to 0.0 due to no true nor predicted samples. Use `zero_division` parameter to control this behavior.\n",
      "  _warn_prf(average, modifier, f\"{metric.capitalize()} is\", len(result))\n",
      "/home/mastoeck/Projects/PrismAI/PrismAI/.venv/lib/python3.12/site-packages/sklearn/metrics/_ranking.py:1188: UndefinedMetricWarning: No positive samples in y_true, true positive value should be meaningless\n",
      "  warnings.warn(\n",
      "LOCAL_RANK: 0 - CUDA_VISIBLE_DEVICES: [0]\n",
      "Seed set to 42\n"
     ]
    },
    {
     "name": "stdout",
     "output_type": "stream",
     "text": [
      "gpt_writing {'test_loss': 0.2586323916912079, 'test_acc@0.5': 0.8847118020057678, 'test_f1@0.5': 0.8832487463951111, 'test_acc@best': 0.8872180581092834, 'test_f1@best': 0.8863636255264282, 'test_roc_auc': 0.9614133238792419}\n"
     ]
    },
    {
     "name": "stderr",
     "output_type": "stream",
     "text": [
      "GPU available: True (cuda), used: True\n",
      "TPU available: False, using: 0 TPU cores\n",
      "HPU available: False, using: 0 HPUs\n",
      "LOCAL_RANK: 0 - CUDA_VISIBLE_DEVICES: [0]\n",
      "Loading `train_dataloader` to estimate number of stepping batches.\n",
      "\n",
      "  | Name        | Type              | Params | Mode  | In sizes    | Out sizes  \n",
      "--------------------------------------------------------------------------------------\n",
      "0 | conv_layers | Sequential        | 152 K  | train | ?           | ?          \n",
      "1 | projection  | Identity          | 0      | train | [32, 16384] | [32, 16384]\n",
      "2 | classifier  | Linear            | 16.4 K | train | [32, 16384] | [32, 1]    \n",
      "3 | criterion   | BCEWithLogitsLoss | 0      | train | ?           | ?          \n",
      "--------------------------------------------------------------------------------------\n",
      "168 K     Trainable params\n",
      "0         Non-trainable params\n",
      "168 K     Total params\n",
      "0.674     Total estimated model params size (MB)\n",
      "15        Modules in train mode\n",
      "0         Modules in eval mode\n",
      "/home/mastoeck/Projects/PrismAI/PrismAI/.venv/lib/python3.12/site-packages/sklearn/metrics/_classification.py:1565: UndefinedMetricWarning: F-score is ill-defined and being set to 0.0 due to no true nor predicted samples. Use `zero_division` parameter to control this behavior.\n",
      "  _warn_prf(average, modifier, f\"{metric.capitalize()} is\", len(result))\n",
      "/home/mastoeck/Projects/PrismAI/PrismAI/.venv/lib/python3.12/site-packages/sklearn/metrics/_classification.py:1565: UndefinedMetricWarning: F-score is ill-defined and being set to 0.0 due to no true nor predicted samples. Use `zero_division` parameter to control this behavior.\n",
      "  _warn_prf(average, modifier, f\"{metric.capitalize()} is\", len(result))\n",
      "/home/mastoeck/Projects/PrismAI/PrismAI/.venv/lib/python3.12/site-packages/sklearn/metrics/_ranking.py:1188: UndefinedMetricWarning: No positive samples in y_true, true positive value should be meaningless\n",
      "  warnings.warn(\n",
      "LOCAL_RANK: 0 - CUDA_VISIBLE_DEVICES: [0]\n",
      "Seed set to 42\n"
     ]
    },
    {
     "name": "stdout",
     "output_type": "stream",
     "text": [
      "gpt_writing {'test_loss': 0.3856202960014343, 'test_acc@0.5': 0.8270676732063293, 'test_f1@0.5': 0.801152765750885, 'test_acc@best': 0.878446102142334, 'test_f1@best': 0.8857479095458984, 'test_roc_auc': 0.952305257320404}\n"
     ]
    },
    {
     "name": "stderr",
     "output_type": "stream",
     "text": [
      "GPU available: True (cuda), used: True\n",
      "TPU available: False, using: 0 TPU cores\n",
      "HPU available: False, using: 0 HPUs\n",
      "LOCAL_RANK: 0 - CUDA_VISIBLE_DEVICES: [0]\n",
      "Loading `train_dataloader` to estimate number of stepping batches.\n",
      "\n",
      "  | Name        | Type              | Params | Mode  | In sizes    | Out sizes  \n",
      "--------------------------------------------------------------------------------------\n",
      "0 | conv_layers | Sequential        | 152 K  | train | ?           | ?          \n",
      "1 | projection  | Identity          | 0      | train | [32, 16384] | [32, 16384]\n",
      "2 | classifier  | Linear            | 16.4 K | train | [32, 16384] | [32, 1]    \n",
      "3 | criterion   | BCEWithLogitsLoss | 0      | train | ?           | ?          \n",
      "--------------------------------------------------------------------------------------\n",
      "168 K     Trainable params\n",
      "0         Non-trainable params\n",
      "168 K     Total params\n",
      "0.674     Total estimated model params size (MB)\n",
      "15        Modules in train mode\n",
      "0         Modules in eval mode\n",
      "/home/mastoeck/Projects/PrismAI/PrismAI/.venv/lib/python3.12/site-packages/sklearn/metrics/_classification.py:1565: UndefinedMetricWarning: F-score is ill-defined and being set to 0.0 due to no true nor predicted samples. Use `zero_division` parameter to control this behavior.\n",
      "  _warn_prf(average, modifier, f\"{metric.capitalize()} is\", len(result))\n",
      "/home/mastoeck/Projects/PrismAI/PrismAI/.venv/lib/python3.12/site-packages/sklearn/metrics/_classification.py:1565: UndefinedMetricWarning: F-score is ill-defined and being set to 0.0 due to no true nor predicted samples. Use `zero_division` parameter to control this behavior.\n",
      "  _warn_prf(average, modifier, f\"{metric.capitalize()} is\", len(result))\n",
      "/home/mastoeck/Projects/PrismAI/PrismAI/.venv/lib/python3.12/site-packages/sklearn/metrics/_ranking.py:1188: UndefinedMetricWarning: No positive samples in y_true, true positive value should be meaningless\n",
      "  warnings.warn(\n",
      "LOCAL_RANK: 0 - CUDA_VISIBLE_DEVICES: [0]\n",
      "Seed set to 42\n"
     ]
    },
    {
     "name": "stdout",
     "output_type": "stream",
     "text": [
      "gpt_writing {'test_loss': 0.6687334775924683, 'test_acc@0.5': 0.7309136390686035, 'test_f1@0.5': 0.6386554837226868, 'test_acc@best': 0.8723404407501221, 'test_f1@best': 0.8728179335594177, 'test_roc_auc': 0.9510839581489563}\n"
     ]
    },
    {
     "name": "stderr",
     "output_type": "stream",
     "text": [
      "GPU available: True (cuda), used: True\n",
      "TPU available: False, using: 0 TPU cores\n",
      "HPU available: False, using: 0 HPUs\n",
      "LOCAL_RANK: 0 - CUDA_VISIBLE_DEVICES: [0]\n",
      "Loading `train_dataloader` to estimate number of stepping batches.\n",
      "\n",
      "  | Name        | Type              | Params | Mode  | In sizes    | Out sizes  \n",
      "--------------------------------------------------------------------------------------\n",
      "0 | conv_layers | Sequential        | 152 K  | train | ?           | ?          \n",
      "1 | projection  | Identity          | 0      | train | [32, 16384] | [32, 16384]\n",
      "2 | classifier  | Linear            | 16.4 K | train | [32, 16384] | [32, 1]    \n",
      "3 | criterion   | BCEWithLogitsLoss | 0      | train | ?           | ?          \n",
      "--------------------------------------------------------------------------------------\n",
      "168 K     Trainable params\n",
      "0         Non-trainable params\n",
      "168 K     Total params\n",
      "0.674     Total estimated model params size (MB)\n",
      "15        Modules in train mode\n",
      "0         Modules in eval mode\n",
      "/home/mastoeck/Projects/PrismAI/PrismAI/.venv/lib/python3.12/site-packages/sklearn/metrics/_classification.py:1565: UndefinedMetricWarning: F-score is ill-defined and being set to 0.0 due to no true nor predicted samples. Use `zero_division` parameter to control this behavior.\n",
      "  _warn_prf(average, modifier, f\"{metric.capitalize()} is\", len(result))\n",
      "/home/mastoeck/Projects/PrismAI/PrismAI/.venv/lib/python3.12/site-packages/sklearn/metrics/_classification.py:1565: UndefinedMetricWarning: F-score is ill-defined and being set to 0.0 due to no true nor predicted samples. Use `zero_division` parameter to control this behavior.\n",
      "  _warn_prf(average, modifier, f\"{metric.capitalize()} is\", len(result))\n",
      "/home/mastoeck/Projects/PrismAI/PrismAI/.venv/lib/python3.12/site-packages/sklearn/metrics/_ranking.py:1188: UndefinedMetricWarning: No positive samples in y_true, true positive value should be meaningless\n",
      "  warnings.warn(\n",
      "LOCAL_RANK: 0 - CUDA_VISIBLE_DEVICES: [0]\n",
      "Seed set to 42\n"
     ]
    },
    {
     "name": "stdout",
     "output_type": "stream",
     "text": [
      "gpt_writing {'test_loss': 0.4027191698551178, 'test_acc@0.5': 0.875, 'test_f1@0.5': 0.8714653253555298, 'test_acc@best': 0.8675000071525574, 'test_f1@best': 0.875, 'test_roc_auc': 0.9446125030517578}\n"
     ]
    },
    {
     "name": "stderr",
     "output_type": "stream",
     "text": [
      "GPU available: True (cuda), used: True\n",
      "TPU available: False, using: 0 TPU cores\n",
      "HPU available: False, using: 0 HPUs\n",
      "LOCAL_RANK: 0 - CUDA_VISIBLE_DEVICES: [0]\n",
      "Loading `train_dataloader` to estimate number of stepping batches.\n",
      "\n",
      "  | Name        | Type              | Params | Mode  | In sizes    | Out sizes  \n",
      "--------------------------------------------------------------------------------------\n",
      "0 | conv_layers | Sequential        | 152 K  | train | ?           | ?          \n",
      "1 | projection  | Identity          | 0      | train | [32, 16384] | [32, 16384]\n",
      "2 | classifier  | Linear            | 16.4 K | train | [32, 16384] | [32, 1]    \n",
      "3 | criterion   | BCEWithLogitsLoss | 0      | train | ?           | ?          \n",
      "--------------------------------------------------------------------------------------\n",
      "168 K     Trainable params\n",
      "0         Non-trainable params\n",
      "168 K     Total params\n",
      "0.674     Total estimated model params size (MB)\n",
      "15        Modules in train mode\n",
      "0         Modules in eval mode\n",
      "/home/mastoeck/Projects/PrismAI/PrismAI/.venv/lib/python3.12/site-packages/sklearn/metrics/_classification.py:1565: UndefinedMetricWarning: F-score is ill-defined and being set to 0.0 due to no true nor predicted samples. Use `zero_division` parameter to control this behavior.\n",
      "  _warn_prf(average, modifier, f\"{metric.capitalize()} is\", len(result))\n",
      "/home/mastoeck/Projects/PrismAI/PrismAI/.venv/lib/python3.12/site-packages/sklearn/metrics/_classification.py:1565: UndefinedMetricWarning: F-score is ill-defined and being set to 0.0 due to no true nor predicted samples. Use `zero_division` parameter to control this behavior.\n",
      "  _warn_prf(average, modifier, f\"{metric.capitalize()} is\", len(result))\n",
      "/home/mastoeck/Projects/PrismAI/PrismAI/.venv/lib/python3.12/site-packages/sklearn/metrics/_ranking.py:1188: UndefinedMetricWarning: No positive samples in y_true, true positive value should be meaningless\n",
      "  warnings.warn(\n",
      "LOCAL_RANK: 0 - CUDA_VISIBLE_DEVICES: [0]\n"
     ]
    },
    {
     "name": "stdout",
     "output_type": "stream",
     "text": [
      "gpt_writing {'test_loss': 0.4400838315486908, 'test_acc@0.5': 0.862500011920929, 'test_f1@0.5': 0.8463687300682068, 'test_acc@best': 0.8887500166893005, 'test_f1@best': 0.8954171538352966, 'test_roc_auc': 0.9561562538146973}\n"
     ]
    }
   ],
   "source": [
    "\n",
    "results_in_domain = defaultdict(list)\n",
    "for agent, ai_subsets in tqdm(ai_splits.items()):\n",
    "    for _ in trange(5, desc=agent, position=1):\n",
    "        seed_everything(config[\"seed\"])\n",
    "\n",
    "        human_subsets.insert(0, human_subsets.pop())\n",
    "        ai_subsets.insert(0, ai_subsets.pop())\n",
    "        eval_dataloader = get_dataloader(human_subsets[0], ai_subsets[0])\n",
    "        test_dataloader = get_dataloader(*human_subsets[1:3], *ai_subsets[1:3])\n",
    "        train_dataloader = get_dataloader(\n",
    "            *human_subsets[3:], *ai_subsets[3:], shuffle=True\n",
    "        )\n",
    "\n",
    "        model = DocumentClassficationModel(**config)\n",
    "        trainer = Trainer(\n",
    "            max_epochs=config[\"max_epochs\"],\n",
    "            logger=pl_loggers.TensorBoardLogger(\n",
    "                save_dir=f\"logs/Ghostbuster/in_domain/{type(featurizer).__name__}\",\n",
    "                name=agent,\n",
    "            ),\n",
    "            gradient_clip_val=config[\"gradient_clip_val\"],\n",
    "            callbacks=[EarlyStopping(monitor=\"val_loss\", mode=\"min\", patience=3)],\n",
    "            deterministic=True,\n",
    "        )\n",
    "        trainer.progress_bar_callback.disable()\n",
    "\n",
    "        trainer.fit(\n",
    "            model,\n",
    "            train_dataloaders=train_dataloader,\n",
    "            val_dataloaders=eval_dataloader,\n",
    "        )\n",
    "        (metrics,) = trainer.test(model, test_dataloader, verbose=False)\n",
    "        results_in_domain[agent].append(metrics)\n",
    "\n",
    "        # metrics = []\n",
    "        # for other, subsets in splits.items():\n",
    "        #     trainer.validate(model, get_dataloader(subsets[-1]), verbose=False)\n",
    "        #     metrics.append(\n",
    "        #         {\"other\": other}\n",
    "        #         | trainer.test(model, get_dataloader(*subsets[:2]), verbose=False)[0]\n",
    "        #     )\n",
    "        # results_in_domain[agent].append(metrics)\n",
    "\n",
    "        print(agent, metrics)\n"
   ]
  },
  {
   "cell_type": "code",
   "execution_count": 11,
   "metadata": {},
   "outputs": [
    {
     "name": "stdout",
     "output_type": "stream",
     "text": [
      "\\begin{tabular}{lrrrrrr}\n",
      "\\toprule\n",
      " & test_loss & test_acc@0.5 & test_f1@0.5 & test_acc@best & test_f1@best & test_roc_auc \\\\\n",
      "agent &  &  &  &  &  &  \\\\\n",
      "\\midrule\n",
      "claude & \\np{0.214} & \\np{0.950} & \\np{0.951} & \\np{0.957} & \\np{0.958} & \\np{0.987} \\\\\n",
      "gpt & \\np{0.454} & \\np{0.814} & \\np{0.807} & \\np{0.857} & \\np{0.858} & \\np{0.937} \\\\\n",
      "gpt_prompt1 & \\np{0.411} & \\np{0.836} & \\np{0.822} & \\np{0.878} & \\np{0.876} & \\np{0.943} \\\\\n",
      "gpt_prompt2 & \\np{0.379} & \\np{0.843} & \\np{0.847} & \\np{0.859} & \\np{0.863} & \\np{0.935} \\\\\n",
      "gpt_semantic & \\np{0.317} & \\np{0.876} & \\np{0.870} & \\np{0.886} & \\np{0.890} & \\np{0.958} \\\\\n",
      "gpt_writing & \\np{0.431} & \\np{0.836} & \\np{0.808} & \\np{0.879} & \\np{0.883} & \\np{0.953} \\\\\n",
      "\\bottomrule\n",
      "\\end{tabular}\n",
      "\n"
     ]
    },
    {
     "data": {
      "application/vnd.microsoft.datawrangler.viewer.v0+json": {
       "columns": [
        {
         "name": "agent",
         "rawType": "object",
         "type": "string"
        },
        {
         "name": "test_loss",
         "rawType": "float64",
         "type": "float"
        },
        {
         "name": "test_acc@0.5",
         "rawType": "float64",
         "type": "float"
        },
        {
         "name": "test_f1@0.5",
         "rawType": "float64",
         "type": "float"
        },
        {
         "name": "test_acc@best",
         "rawType": "float64",
         "type": "float"
        },
        {
         "name": "test_f1@best",
         "rawType": "float64",
         "type": "float"
        },
        {
         "name": "test_roc_auc",
         "rawType": "float64",
         "type": "float"
        }
       ],
       "conversionMethod": "pd.DataFrame",
       "ref": "48028014-f79a-4391-be89-ad3faf36eb16",
       "rows": [
        [
         "claude",
         "0.21411305963993071",
         "0.9501544594764709",
         "0.9508660316467286",
         "0.9574166893959045",
         "0.9576219320297241",
         "0.9872757911682128"
        ],
        [
         "gpt",
         "0.4541751265525818",
         "0.8137713551521302",
         "0.8074485540390015",
         "0.8568239688873291",
         "0.8583152890205383",
         "0.9369561076164246"
        ],
        [
         "gpt_prompt1",
         "0.4111786663532257",
         "0.8362272143363952",
         "0.8215606212615967",
         "0.877784812450409",
         "0.8764834642410279",
         "0.9426838397979737"
        ],
        [
         "gpt_prompt2",
         "0.37881218791008",
         "0.8425573945045471",
         "0.8468655586242676",
         "0.8590796113014221",
         "0.8633455276489258",
         "0.935285234451294"
        ],
        [
         "gpt_semantic",
         "0.31695525646209716",
         "0.8755191445350647",
         "0.8701251387596131",
         "0.8855417013168335",
         "0.889612877368927",
         "0.9576621294021607"
        ],
        [
         "gpt_writing",
         "0.4311578333377838",
         "0.8360386252403259",
         "0.8081782102584839",
         "0.8788509249687195",
         "0.8830693244934082",
         "0.9531142592430115"
        ]
       ],
       "shape": {
        "columns": 6,
        "rows": 6
       }
      },
      "text/html": [
       "<div>\n",
       "<style scoped>\n",
       "    .dataframe tbody tr th:only-of-type {\n",
       "        vertical-align: middle;\n",
       "    }\n",
       "\n",
       "    .dataframe tbody tr th {\n",
       "        vertical-align: top;\n",
       "    }\n",
       "\n",
       "    .dataframe thead th {\n",
       "        text-align: right;\n",
       "    }\n",
       "</style>\n",
       "<table border=\"1\" class=\"dataframe\">\n",
       "  <thead>\n",
       "    <tr style=\"text-align: right;\">\n",
       "      <th></th>\n",
       "      <th>test_loss</th>\n",
       "      <th>test_acc@0.5</th>\n",
       "      <th>test_f1@0.5</th>\n",
       "      <th>test_acc@best</th>\n",
       "      <th>test_f1@best</th>\n",
       "      <th>test_roc_auc</th>\n",
       "    </tr>\n",
       "    <tr>\n",
       "      <th>agent</th>\n",
       "      <th></th>\n",
       "      <th></th>\n",
       "      <th></th>\n",
       "      <th></th>\n",
       "      <th></th>\n",
       "      <th></th>\n",
       "    </tr>\n",
       "  </thead>\n",
       "  <tbody>\n",
       "    <tr>\n",
       "      <th>claude</th>\n",
       "      <td>0.214113</td>\n",
       "      <td>0.950154</td>\n",
       "      <td>0.950866</td>\n",
       "      <td>0.957417</td>\n",
       "      <td>0.957622</td>\n",
       "      <td>0.987276</td>\n",
       "    </tr>\n",
       "    <tr>\n",
       "      <th>gpt</th>\n",
       "      <td>0.454175</td>\n",
       "      <td>0.813771</td>\n",
       "      <td>0.807449</td>\n",
       "      <td>0.856824</td>\n",
       "      <td>0.858315</td>\n",
       "      <td>0.936956</td>\n",
       "    </tr>\n",
       "    <tr>\n",
       "      <th>gpt_prompt1</th>\n",
       "      <td>0.411179</td>\n",
       "      <td>0.836227</td>\n",
       "      <td>0.821561</td>\n",
       "      <td>0.877785</td>\n",
       "      <td>0.876483</td>\n",
       "      <td>0.942684</td>\n",
       "    </tr>\n",
       "    <tr>\n",
       "      <th>gpt_prompt2</th>\n",
       "      <td>0.378812</td>\n",
       "      <td>0.842557</td>\n",
       "      <td>0.846866</td>\n",
       "      <td>0.859080</td>\n",
       "      <td>0.863346</td>\n",
       "      <td>0.935285</td>\n",
       "    </tr>\n",
       "    <tr>\n",
       "      <th>gpt_semantic</th>\n",
       "      <td>0.316955</td>\n",
       "      <td>0.875519</td>\n",
       "      <td>0.870125</td>\n",
       "      <td>0.885542</td>\n",
       "      <td>0.889613</td>\n",
       "      <td>0.957662</td>\n",
       "    </tr>\n",
       "    <tr>\n",
       "      <th>gpt_writing</th>\n",
       "      <td>0.431158</td>\n",
       "      <td>0.836039</td>\n",
       "      <td>0.808178</td>\n",
       "      <td>0.878851</td>\n",
       "      <td>0.883069</td>\n",
       "      <td>0.953114</td>\n",
       "    </tr>\n",
       "  </tbody>\n",
       "</table>\n",
       "</div>"
      ],
      "text/plain": [
       "              test_loss  test_acc@0.5  test_f1@0.5  test_acc@best  \\\n",
       "agent                                                               \n",
       "claude         0.214113      0.950154     0.950866       0.957417   \n",
       "gpt            0.454175      0.813771     0.807449       0.856824   \n",
       "gpt_prompt1    0.411179      0.836227     0.821561       0.877785   \n",
       "gpt_prompt2    0.378812      0.842557     0.846866       0.859080   \n",
       "gpt_semantic   0.316955      0.875519     0.870125       0.885542   \n",
       "gpt_writing    0.431158      0.836039     0.808178       0.878851   \n",
       "\n",
       "              test_f1@best  test_roc_auc  \n",
       "agent                                     \n",
       "claude            0.957622      0.987276  \n",
       "gpt               0.858315      0.936956  \n",
       "gpt_prompt1       0.876483      0.942684  \n",
       "gpt_prompt2       0.863346      0.935285  \n",
       "gpt_semantic      0.889613      0.957662  \n",
       "gpt_writing       0.883069      0.953114  "
      ]
     },
     "execution_count": 11,
     "metadata": {},
     "output_type": "execute_result"
    }
   ],
   "source": [
    "import pandas as pd\n",
    "\n",
    "df = pd.DataFrame(\n",
    "    [\n",
    "        {\n",
    "            \"agent\": agent,\n",
    "            **metric,\n",
    "        }\n",
    "        for agent, metrics in results_in_domain.items()\n",
    "        for metric in metrics\n",
    "    ]\n",
    ")\n",
    "df = df.groupby(\"agent\").mean()\n",
    "print(df.to_latex(float_format=\"\\\\np{%.3f}\"))\n",
    "df"
   ]
  },
  {
   "cell_type": "markdown",
   "metadata": {},
   "source": [
    "## Cross-Domain Training & Evaluation"
   ]
  },
  {
   "cell_type": "code",
   "execution_count": null,
   "metadata": {},
   "outputs": [
    {
     "data": {
      "application/vnd.jupyter.widget-view+json": {
       "model_id": "8067e9cd4a46492d97ed04f7da09cdad",
       "version_major": 2,
       "version_minor": 0
      },
      "text/plain": [
       "  0%|          | 0/5 [00:00<?, ?it/s]"
      ]
     },
     "metadata": {},
     "output_type": "display_data"
    },
    {
     "name": "stderr",
     "output_type": "stream",
     "text": [
      "Seed set to 42\n",
      "GPU available: True (cuda), used: True\n",
      "TPU available: False, using: 0 TPU cores\n",
      "HPU available: False, using: 0 HPUs\n",
      "LOCAL_RANK: 0 - CUDA_VISIBLE_DEVICES: [0]\n",
      "Loading `train_dataloader` to estimate number of stepping batches.\n",
      "\n",
      "  | Name        | Type              | Params | Mode  | In sizes    | Out sizes  \n",
      "--------------------------------------------------------------------------------------\n",
      "0 | conv_layers | Sequential        | 152 K  | train | ?           | ?          \n",
      "1 | projection  | Identity          | 0      | train | [32, 16384] | [32, 16384]\n",
      "2 | classifier  | Linear            | 16.4 K | train | [32, 16384] | [32, 1]    \n",
      "3 | criterion   | BCEWithLogitsLoss | 0      | train | ?           | ?          \n",
      "--------------------------------------------------------------------------------------\n",
      "168 K     Trainable params\n",
      "0         Non-trainable params\n",
      "168 K     Total params\n",
      "0.674     Total estimated model params size (MB)\n",
      "15        Modules in train mode\n",
      "0         Modules in eval mode\n",
      "/home/mastoeck/Projects/PrismAI/PrismAI/.venv/lib/python3.12/site-packages/sklearn/metrics/_classification.py:1565: UndefinedMetricWarning: F-score is ill-defined and being set to 0.0 due to no true nor predicted samples. Use `zero_division` parameter to control this behavior.\n",
      "  _warn_prf(average, modifier, f\"{metric.capitalize()} is\", len(result))\n",
      "/home/mastoeck/Projects/PrismAI/PrismAI/.venv/lib/python3.12/site-packages/sklearn/metrics/_classification.py:1565: UndefinedMetricWarning: F-score is ill-defined and being set to 0.0 due to no true nor predicted samples. Use `zero_division` parameter to control this behavior.\n",
      "  _warn_prf(average, modifier, f\"{metric.capitalize()} is\", len(result))\n",
      "/home/mastoeck/Projects/PrismAI/PrismAI/.venv/lib/python3.12/site-packages/sklearn/metrics/_ranking.py:1188: UndefinedMetricWarning: No positive samples in y_true, true positive value should be meaningless\n",
      "  warnings.warn(\n"
     ]
    },
    {
     "data": {
      "application/vnd.jupyter.widget-view+json": {
       "model_id": "63579b054fed446a9baeaf64621bee33",
       "version_major": 2,
       "version_minor": 0
      },
      "text/plain": [
       "  0%|          | 0/6 [00:00<?, ?it/s]"
      ]
     },
     "metadata": {},
     "output_type": "display_data"
    },
    {
     "name": "stderr",
     "output_type": "stream",
     "text": [
      "LOCAL_RANK: 0 - CUDA_VISIBLE_DEVICES: [0]\n",
      "LOCAL_RANK: 0 - CUDA_VISIBLE_DEVICES: [0]\n",
      "LOCAL_RANK: 0 - CUDA_VISIBLE_DEVICES: [0]\n",
      "LOCAL_RANK: 0 - CUDA_VISIBLE_DEVICES: [0]\n",
      "LOCAL_RANK: 0 - CUDA_VISIBLE_DEVICES: [0]\n",
      "LOCAL_RANK: 0 - CUDA_VISIBLE_DEVICES: [0]\n"
     ]
    },
    {
     "name": "stdout",
     "output_type": "stream",
     "text": [
      "claude {'test_loss': 0.5283629298210144, 'test_acc@0.5': 0.8212500214576721, 'test_f1@0.5': 0.84573894739151, 'test_acc@best': 0.8787500262260437, 'test_f1@best': 0.887601375579834, 'test_roc_auc': 0.9706687331199646}\n",
      "gpt {'test_loss': 0.5276883840560913, 'test_acc@0.5': 0.8237500190734863, 'test_f1@0.5': 0.8482239246368408, 'test_acc@best': 0.8824999928474426, 'test_f1@best': 0.8914549946784973, 'test_roc_auc': 0.9641781449317932}\n",
      "gpt_prompt1 {'test_loss': 0.5279452204704285, 'test_acc@0.5': 0.8237500190734863, 'test_f1@0.5': 0.8482239246368408, 'test_acc@best': 0.8762500286102295, 'test_f1@best': 0.8850173950195312, 'test_roc_auc': 0.9586906433105469}\n",
      "gpt_prompt2 {'test_loss': 0.5247037410736084, 'test_acc@0.5': 0.8274999856948853, 'test_f1@0.5': 0.8519313335418701, 'test_acc@best': 0.8799999952316284, 'test_f1@best': 0.8888888955116272, 'test_roc_auc': 0.9624156355857849}\n",
      "gpt_semantic {'test_loss': 0.5324054956436157, 'test_acc@0.5': 0.8199999928474426, 'test_f1@0.5': 0.8444924354553223, 'test_acc@best': 0.8712499737739563, 'test_f1@best': 0.8798133134841919, 'test_roc_auc': 0.9555343985557556}\n"
     ]
    },
    {
     "name": "stderr",
     "output_type": "stream",
     "text": [
      "Seed set to 42\n"
     ]
    },
    {
     "name": "stdout",
     "output_type": "stream",
     "text": [
      "gpt_writing {'test_loss': 0.5153222680091858, 'test_acc@0.5': 0.8287500143051147, 'test_f1@0.5': 0.8531618714332581, 'test_acc@best': 0.887499988079071, 'test_f1@best': 0.8965517282485962, 'test_roc_auc': 0.9693499803543091}\n"
     ]
    },
    {
     "name": "stderr",
     "output_type": "stream",
     "text": [
      "GPU available: True (cuda), used: True\n",
      "TPU available: False, using: 0 TPU cores\n",
      "HPU available: False, using: 0 HPUs\n",
      "LOCAL_RANK: 0 - CUDA_VISIBLE_DEVICES: [0]\n",
      "Loading `train_dataloader` to estimate number of stepping batches.\n",
      "\n",
      "  | Name        | Type              | Params | Mode  | In sizes    | Out sizes  \n",
      "--------------------------------------------------------------------------------------\n",
      "0 | conv_layers | Sequential        | 152 K  | train | ?           | ?          \n",
      "1 | projection  | Identity          | 0      | train | [32, 16384] | [32, 16384]\n",
      "2 | classifier  | Linear            | 16.4 K | train | [32, 16384] | [32, 1]    \n",
      "3 | criterion   | BCEWithLogitsLoss | 0      | train | ?           | ?          \n",
      "--------------------------------------------------------------------------------------\n",
      "168 K     Trainable params\n",
      "0         Non-trainable params\n",
      "168 K     Total params\n",
      "0.674     Total estimated model params size (MB)\n",
      "15        Modules in train mode\n",
      "0         Modules in eval mode\n",
      "/home/mastoeck/Projects/PrismAI/PrismAI/.venv/lib/python3.12/site-packages/sklearn/metrics/_classification.py:1565: UndefinedMetricWarning: F-score is ill-defined and being set to 0.0 due to no true nor predicted samples. Use `zero_division` parameter to control this behavior.\n",
      "  _warn_prf(average, modifier, f\"{metric.capitalize()} is\", len(result))\n",
      "/home/mastoeck/Projects/PrismAI/PrismAI/.venv/lib/python3.12/site-packages/sklearn/metrics/_classification.py:1565: UndefinedMetricWarning: F-score is ill-defined and being set to 0.0 due to no true nor predicted samples. Use `zero_division` parameter to control this behavior.\n",
      "  _warn_prf(average, modifier, f\"{metric.capitalize()} is\", len(result))\n",
      "/home/mastoeck/Projects/PrismAI/PrismAI/.venv/lib/python3.12/site-packages/sklearn/metrics/_ranking.py:1188: UndefinedMetricWarning: No positive samples in y_true, true positive value should be meaningless\n",
      "  warnings.warn(\n"
     ]
    },
    {
     "data": {
      "application/vnd.jupyter.widget-view+json": {
       "model_id": "784ad38bede0413199f899ee0c1ec1aa",
       "version_major": 2,
       "version_minor": 0
      },
      "text/plain": [
       "  0%|          | 0/6 [00:00<?, ?it/s]"
      ]
     },
     "metadata": {},
     "output_type": "display_data"
    },
    {
     "name": "stderr",
     "output_type": "stream",
     "text": [
      "LOCAL_RANK: 0 - CUDA_VISIBLE_DEVICES: [0]\n",
      "LOCAL_RANK: 0 - CUDA_VISIBLE_DEVICES: [0]\n",
      "LOCAL_RANK: 0 - CUDA_VISIBLE_DEVICES: [0]\n",
      "LOCAL_RANK: 0 - CUDA_VISIBLE_DEVICES: [0]\n",
      "LOCAL_RANK: 0 - CUDA_VISIBLE_DEVICES: [0]\n",
      "LOCAL_RANK: 0 - CUDA_VISIBLE_DEVICES: [0]\n"
     ]
    },
    {
     "name": "stdout",
     "output_type": "stream",
     "text": [
      "claude {'test_loss': 0.6655161380767822, 'test_acc@0.5': 0.75844806432724, 'test_f1@0.5': 0.7979057431221008, 'test_acc@best': 0.7759699821472168, 'test_f1@best': 0.8097768425941467, 'test_roc_auc': 0.9124373197555542}\n",
      "gpt {'test_loss': 0.6214667558670044, 'test_acc@0.5': 0.7747184038162231, 'test_f1@0.5': 0.8140496015548706, 'test_acc@best': 0.7922403216362, 'test_f1@best': 0.8259958028793335, 'test_roc_auc': 0.9567449688911438}\n",
      "gpt_prompt1 {'test_loss': 0.6167447566986084, 'test_acc@0.5': 0.7784730792045593, 'test_f1@0.5': 0.8177136778831482, 'test_acc@best': 0.7947434186935425, 'test_f1@best': 0.8284518718719482, 'test_roc_auc': 0.9528696537017822}\n",
      "gpt_prompt2 {'test_loss': 0.612399697303772, 'test_acc@0.5': 0.7772215008735657, 'test_f1@0.5': 0.8164948225021362, 'test_acc@best': 0.7947434186935425, 'test_f1@best': 0.8284518718719482, 'test_roc_auc': 0.9618953466415405}\n",
      "gpt_semantic {'test_loss': 0.6137882471084595, 'test_acc@0.5': 0.7772215008735657, 'test_f1@0.5': 0.8164948225021362, 'test_acc@best': 0.7922403216362, 'test_f1@best': 0.8259958028793335, 'test_roc_auc': 0.9579135179519653}\n"
     ]
    },
    {
     "name": "stderr",
     "output_type": "stream",
     "text": [
      "Seed set to 42\n"
     ]
    },
    {
     "name": "stdout",
     "output_type": "stream",
     "text": [
      "gpt_writing {'test_loss': 0.6060510277748108, 'test_acc@0.5': 0.7822278141975403, 'test_f1@0.5': 0.8213552236557007, 'test_acc@best': 0.7997496724128723, 'test_f1@best': 0.8333333134651184, 'test_roc_auc': 0.9697869420051575}\n"
     ]
    },
    {
     "name": "stderr",
     "output_type": "stream",
     "text": [
      "GPU available: True (cuda), used: True\n",
      "TPU available: False, using: 0 TPU cores\n",
      "HPU available: False, using: 0 HPUs\n",
      "LOCAL_RANK: 0 - CUDA_VISIBLE_DEVICES: [0]\n",
      "Loading `train_dataloader` to estimate number of stepping batches.\n",
      "\n",
      "  | Name        | Type              | Params | Mode  | In sizes    | Out sizes  \n",
      "--------------------------------------------------------------------------------------\n",
      "0 | conv_layers | Sequential        | 152 K  | train | ?           | ?          \n",
      "1 | projection  | Identity          | 0      | train | [32, 16384] | [32, 16384]\n",
      "2 | classifier  | Linear            | 16.4 K | train | [32, 16384] | [32, 1]    \n",
      "3 | criterion   | BCEWithLogitsLoss | 0      | train | ?           | ?          \n",
      "--------------------------------------------------------------------------------------\n",
      "168 K     Trainable params\n",
      "0         Non-trainable params\n",
      "168 K     Total params\n",
      "0.674     Total estimated model params size (MB)\n",
      "15        Modules in train mode\n",
      "0         Modules in eval mode\n",
      "/home/mastoeck/Projects/PrismAI/PrismAI/.venv/lib/python3.12/site-packages/sklearn/metrics/_classification.py:1565: UndefinedMetricWarning: F-score is ill-defined and being set to 0.0 due to no true nor predicted samples. Use `zero_division` parameter to control this behavior.\n",
      "  _warn_prf(average, modifier, f\"{metric.capitalize()} is\", len(result))\n",
      "/home/mastoeck/Projects/PrismAI/PrismAI/.venv/lib/python3.12/site-packages/sklearn/metrics/_classification.py:1565: UndefinedMetricWarning: F-score is ill-defined and being set to 0.0 due to no true nor predicted samples. Use `zero_division` parameter to control this behavior.\n",
      "  _warn_prf(average, modifier, f\"{metric.capitalize()} is\", len(result))\n",
      "/home/mastoeck/Projects/PrismAI/PrismAI/.venv/lib/python3.12/site-packages/sklearn/metrics/_ranking.py:1188: UndefinedMetricWarning: No positive samples in y_true, true positive value should be meaningless\n",
      "  warnings.warn(\n"
     ]
    },
    {
     "data": {
      "application/vnd.jupyter.widget-view+json": {
       "model_id": "0b18980cc418473fa543757871fe5733",
       "version_major": 2,
       "version_minor": 0
      },
      "text/plain": [
       "  0%|          | 0/6 [00:00<?, ?it/s]"
      ]
     },
     "metadata": {},
     "output_type": "display_data"
    },
    {
     "name": "stderr",
     "output_type": "stream",
     "text": [
      "LOCAL_RANK: 0 - CUDA_VISIBLE_DEVICES: [0]\n",
      "LOCAL_RANK: 0 - CUDA_VISIBLE_DEVICES: [0]\n",
      "LOCAL_RANK: 0 - CUDA_VISIBLE_DEVICES: [0]\n",
      "LOCAL_RANK: 0 - CUDA_VISIBLE_DEVICES: [0]\n",
      "LOCAL_RANK: 0 - CUDA_VISIBLE_DEVICES: [0]\n",
      "LOCAL_RANK: 0 - CUDA_VISIBLE_DEVICES: [0]\n"
     ]
    },
    {
     "name": "stdout",
     "output_type": "stream",
     "text": [
      "claude {'test_loss': 0.4741660952568054, 'test_acc@0.5': 0.8245614171028137, 'test_f1@0.5': 0.8444444537162781, 'test_acc@best': 0.8157894611358643, 'test_f1@best': 0.8393442630767822, 'test_roc_auc': 0.9424999952316284}\n",
      "gpt {'test_loss': 0.4461359679698944, 'test_acc@0.5': 0.829573929309845, 'test_f1@0.5': 0.8495575189590454, 'test_acc@best': 0.8245614171028137, 'test_f1@best': 0.8481561541557312, 'test_roc_auc': 0.9536117911338806}\n",
      "gpt_prompt1 {'test_loss': 0.4463060796260834, 'test_acc@0.5': 0.8320801854133606, 'test_f1@0.5': 0.8520971536636353, 'test_acc@best': 0.8270676732063293, 'test_f1@best': 0.850649356842041, 'test_roc_auc': 0.948951005935669}\n",
      "gpt_prompt2 {'test_loss': 0.4251119792461395, 'test_acc@0.5': 0.8421052694320679, 'test_f1@0.5': 0.862144410610199, 'test_acc@best': 0.8308270573616028, 'test_f1@best': 0.8543689250946045, 'test_roc_auc': 0.9601067900657654}\n",
      "gpt_semantic {'test_loss': 0.4242076873779297, 'test_acc@0.5': 0.8383458852767944, 'test_f1@0.5': 0.858397364616394, 'test_acc@best': 0.829573929309845, 'test_f1@best': 0.8531317710876465, 'test_roc_auc': 0.9651916027069092}\n"
     ]
    },
    {
     "name": "stderr",
     "output_type": "stream",
     "text": [
      "Seed set to 42\n"
     ]
    },
    {
     "name": "stdout",
     "output_type": "stream",
     "text": [
      "gpt_writing {'test_loss': 0.4172142744064331, 'test_acc@0.5': 0.8446115255355835, 'test_f1@0.5': 0.864628791809082, 'test_acc@best': 0.8333333134651184, 'test_f1@best': 0.8568353056907654, 'test_roc_auc': 0.9709485173225403}\n"
     ]
    },
    {
     "name": "stderr",
     "output_type": "stream",
     "text": [
      "GPU available: True (cuda), used: True\n",
      "TPU available: False, using: 0 TPU cores\n",
      "HPU available: False, using: 0 HPUs\n",
      "LOCAL_RANK: 0 - CUDA_VISIBLE_DEVICES: [0]\n",
      "Loading `train_dataloader` to estimate number of stepping batches.\n",
      "\n",
      "  | Name        | Type              | Params | Mode  | In sizes    | Out sizes  \n",
      "--------------------------------------------------------------------------------------\n",
      "0 | conv_layers | Sequential        | 152 K  | train | ?           | ?          \n",
      "1 | projection  | Identity          | 0      | train | [32, 16384] | [32, 16384]\n",
      "2 | classifier  | Linear            | 16.4 K | train | [32, 16384] | [32, 1]    \n",
      "3 | criterion   | BCEWithLogitsLoss | 0      | train | ?           | ?          \n",
      "--------------------------------------------------------------------------------------\n",
      "168 K     Trainable params\n",
      "0         Non-trainable params\n",
      "168 K     Total params\n",
      "0.674     Total estimated model params size (MB)\n",
      "15        Modules in train mode\n",
      "0         Modules in eval mode\n",
      "/home/mastoeck/Projects/PrismAI/PrismAI/.venv/lib/python3.12/site-packages/sklearn/metrics/_classification.py:1565: UndefinedMetricWarning: F-score is ill-defined and being set to 0.0 due to no true nor predicted samples. Use `zero_division` parameter to control this behavior.\n",
      "  _warn_prf(average, modifier, f\"{metric.capitalize()} is\", len(result))\n",
      "/home/mastoeck/Projects/PrismAI/PrismAI/.venv/lib/python3.12/site-packages/sklearn/metrics/_classification.py:1565: UndefinedMetricWarning: F-score is ill-defined and being set to 0.0 due to no true nor predicted samples. Use `zero_division` parameter to control this behavior.\n",
      "  _warn_prf(average, modifier, f\"{metric.capitalize()} is\", len(result))\n",
      "/home/mastoeck/Projects/PrismAI/PrismAI/.venv/lib/python3.12/site-packages/sklearn/metrics/_ranking.py:1188: UndefinedMetricWarning: No positive samples in y_true, true positive value should be meaningless\n",
      "  warnings.warn(\n"
     ]
    },
    {
     "data": {
      "application/vnd.jupyter.widget-view+json": {
       "model_id": "9d798f44daba4e519116f38dfafe67ba",
       "version_major": 2,
       "version_minor": 0
      },
      "text/plain": [
       "  0%|          | 0/6 [00:00<?, ?it/s]"
      ]
     },
     "metadata": {},
     "output_type": "display_data"
    },
    {
     "name": "stderr",
     "output_type": "stream",
     "text": [
      "LOCAL_RANK: 0 - CUDA_VISIBLE_DEVICES: [0]\n",
      "LOCAL_RANK: 0 - CUDA_VISIBLE_DEVICES: [0]\n",
      "LOCAL_RANK: 0 - CUDA_VISIBLE_DEVICES: [0]\n",
      "LOCAL_RANK: 0 - CUDA_VISIBLE_DEVICES: [0]\n",
      "LOCAL_RANK: 0 - CUDA_VISIBLE_DEVICES: [0]\n",
      "LOCAL_RANK: 0 - CUDA_VISIBLE_DEVICES: [0]\n"
     ]
    },
    {
     "name": "stdout",
     "output_type": "stream",
     "text": [
      "claude {'test_loss': 0.2881002128124237, 'test_acc@0.5': 0.897243082523346, 'test_f1@0.5': 0.9002432823181152, 'test_acc@best': 0.8546366095542908, 'test_f1@best': 0.8696629405021667, 'test_roc_auc': 0.966158926486969}\n",
      "gpt {'test_loss': 0.33411896228790283, 'test_acc@0.5': 0.8872180581092834, 'test_f1@0.5': 0.8894348740577698, 'test_acc@best': 0.8458646535873413, 'test_f1@best': 0.8607021570205688, 'test_roc_auc': 0.9500596523284912}\n",
      "gpt_prompt1 {'test_loss': 0.32562491297721863, 'test_acc@0.5': 0.8809523582458496, 'test_f1@0.5': 0.8825711011886597, 'test_acc@best': 0.8508771657943726, 'test_f1@best': 0.8658398985862732, 'test_roc_auc': 0.9526947140693665}\n",
      "gpt_prompt2 {'test_loss': 0.28810012340545654, 'test_acc@0.5': 0.8984962701797485, 'test_f1@0.5': 0.9015795588493347, 'test_acc@best': 0.8621553778648376, 'test_f1@best': 0.8772321343421936, 'test_roc_auc': 0.961127519607544}\n",
      "gpt_semantic {'test_loss': 0.2946299612522125, 'test_acc@0.5': 0.902255654335022, 'test_f1@0.5': 0.9055690169334412, 'test_acc@best': 0.8571428656578064, 'test_f1@best': 0.8721973299980164, 'test_roc_auc': 0.9626224637031555}\n"
     ]
    },
    {
     "name": "stderr",
     "output_type": "stream",
     "text": [
      "Seed set to 42\n"
     ]
    },
    {
     "name": "stdout",
     "output_type": "stream",
     "text": [
      "gpt_writing {'test_loss': 0.2732551395893097, 'test_acc@0.5': 0.9072681665420532, 'test_f1@0.5': 0.9108433723449707, 'test_acc@best': 0.8621553778648376, 'test_f1@best': 0.8772321343421936, 'test_roc_auc': 0.9654051661491394}\n"
     ]
    },
    {
     "name": "stderr",
     "output_type": "stream",
     "text": [
      "GPU available: True (cuda), used: True\n",
      "TPU available: False, using: 0 TPU cores\n",
      "HPU available: False, using: 0 HPUs\n",
      "LOCAL_RANK: 0 - CUDA_VISIBLE_DEVICES: [0]\n",
      "Loading `train_dataloader` to estimate number of stepping batches.\n",
      "\n",
      "  | Name        | Type              | Params | Mode  | In sizes    | Out sizes  \n",
      "--------------------------------------------------------------------------------------\n",
      "0 | conv_layers | Sequential        | 152 K  | train | ?           | ?          \n",
      "1 | projection  | Identity          | 0      | train | [32, 16384] | [32, 16384]\n",
      "2 | classifier  | Linear            | 16.4 K | train | [32, 16384] | [32, 1]    \n",
      "3 | criterion   | BCEWithLogitsLoss | 0      | train | ?           | ?          \n",
      "--------------------------------------------------------------------------------------\n",
      "168 K     Trainable params\n",
      "0         Non-trainable params\n",
      "168 K     Total params\n",
      "0.674     Total estimated model params size (MB)\n",
      "15        Modules in train mode\n",
      "0         Modules in eval mode\n",
      "/home/mastoeck/Projects/PrismAI/PrismAI/.venv/lib/python3.12/site-packages/sklearn/metrics/_classification.py:1565: UndefinedMetricWarning: F-score is ill-defined and being set to 0.0 due to no true nor predicted samples. Use `zero_division` parameter to control this behavior.\n",
      "  _warn_prf(average, modifier, f\"{metric.capitalize()} is\", len(result))\n",
      "/home/mastoeck/Projects/PrismAI/PrismAI/.venv/lib/python3.12/site-packages/sklearn/metrics/_classification.py:1565: UndefinedMetricWarning: F-score is ill-defined and being set to 0.0 due to no true nor predicted samples. Use `zero_division` parameter to control this behavior.\n",
      "  _warn_prf(average, modifier, f\"{metric.capitalize()} is\", len(result))\n",
      "/home/mastoeck/Projects/PrismAI/PrismAI/.venv/lib/python3.12/site-packages/sklearn/metrics/_ranking.py:1188: UndefinedMetricWarning: No positive samples in y_true, true positive value should be meaningless\n",
      "  warnings.warn(\n"
     ]
    },
    {
     "data": {
      "application/vnd.jupyter.widget-view+json": {
       "model_id": "a27b87d299434779be21da1f98e59001",
       "version_major": 2,
       "version_minor": 0
      },
      "text/plain": [
       "  0%|          | 0/6 [00:00<?, ?it/s]"
      ]
     },
     "metadata": {},
     "output_type": "display_data"
    },
    {
     "name": "stderr",
     "output_type": "stream",
     "text": [
      "LOCAL_RANK: 0 - CUDA_VISIBLE_DEVICES: [0]\n",
      "LOCAL_RANK: 0 - CUDA_VISIBLE_DEVICES: [0]\n",
      "LOCAL_RANK: 0 - CUDA_VISIBLE_DEVICES: [0]\n",
      "LOCAL_RANK: 0 - CUDA_VISIBLE_DEVICES: [0]\n",
      "LOCAL_RANK: 0 - CUDA_VISIBLE_DEVICES: [0]\n",
      "LOCAL_RANK: 0 - CUDA_VISIBLE_DEVICES: [0]\n"
     ]
    },
    {
     "name": "stdout",
     "output_type": "stream",
     "text": [
      "claude {'test_loss': 0.5803608298301697, 'test_acc@0.5': 0.7819548845291138, 'test_f1@0.5': 0.8187500238418579, 'test_acc@best': 0.8446115255355835, 'test_f1@best': 0.8628318309783936, 'test_roc_auc': 0.9629836678504944}\n",
      "gpt {'test_loss': 0.5899897813796997, 'test_acc@0.5': 0.780701756477356, 'test_f1@0.5': 0.8175182342529297, 'test_acc@best': 0.8383458852767944, 'test_f1@best': 0.8565072417259216, 'test_roc_auc': 0.9560803771018982}\n",
      "gpt_prompt1 {'test_loss': 0.5841663479804993, 'test_acc@0.5': 0.7832080125808716, 'test_f1@0.5': 0.819979190826416, 'test_acc@best': 0.8458646535873413, 'test_f1@best': 0.8640884160995483, 'test_roc_auc': 0.958574116230011}\n",
      "gpt_prompt2 {'test_loss': 0.581856369972229, 'test_acc@0.5': 0.780701756477356, 'test_f1@0.5': 0.8175182342529297, 'test_acc@best': 0.8433583974838257, 'test_f1@best': 0.8615725636482239, 'test_roc_auc': 0.9590766429901123}\n",
      "gpt_semantic {'test_loss': 0.5920119881629944, 'test_acc@0.5': 0.7819548845291138, 'test_f1@0.5': 0.8187500238418579, 'test_acc@best': 0.8433583974838257, 'test_f1@best': 0.8615725636482239, 'test_roc_auc': 0.9575377106666565}\n",
      "gpt_writing {'test_loss': 0.5779515504837036, 'test_acc@0.5': 0.7844611406326294, 'test_f1@0.5': 0.8212057948112488, 'test_acc@best': 0.8458646535873413, 'test_f1@best': 0.8640884160995483, 'test_roc_auc': 0.9650251269340515}\n"
     ]
    }
   ],
   "source": [
    "results_cross_domain = defaultdict(list)\n",
    "for _ in trange(5, position=0):\n",
    "    seed_everything(config[\"seed\"])\n",
    "\n",
    "    human_subsets.insert(0, human_subsets.pop())\n",
    "    for ai_subsets in ai_splits.values():\n",
    "        ai_subsets.insert(0, ai_subsets.pop())\n",
    "\n",
    "    eval_dataloader = get_dataloader(\n",
    "        human_subsets[0],\n",
    "        *[ai_subsets[0] for ai_subsets in ai_splits.values()],\n",
    "    )\n",
    "    train_dataloader = get_dataloader(\n",
    "        *human_subsets[3:],\n",
    "        *[subset for ai_subsets in ai_splits.values() for subset in ai_subsets[3:]],\n",
    "        shuffle=True,\n",
    "    )\n",
    "\n",
    "    model = DocumentClassficationModel(**config)\n",
    "    trainer = Trainer(\n",
    "        max_epochs=config[\"max_epochs\"],\n",
    "        logger=pl_loggers.TensorBoardLogger(\n",
    "            save_dir=f\"logs/Ghostbuster/cross_domain/{type(featurizer).__name__}\",\n",
    "            name=agent,\n",
    "        ),\n",
    "        gradient_clip_val=config[\"gradient_clip_val\"],\n",
    "        callbacks=[EarlyStopping(monitor=\"val_loss\", mode=\"min\", patience=3)],\n",
    "        deterministic=True,\n",
    "    )\n",
    "    trainer.progress_bar_callback.disable()\n",
    "\n",
    "    trainer.fit(\n",
    "        model,\n",
    "        train_dataloaders=train_dataloader,\n",
    "        val_dataloaders=eval_dataloader,\n",
    "    )\n",
    "\n",
    "    for agent, ai_subsets in tqdm(ai_splits.items(), position=1):\n",
    "        (metrics,) = trainer.test(\n",
    "            model, get_dataloader(*human_subsets[1:3], *ai_subsets[1:3]), verbose=False\n",
    "        )\n",
    "        results_cross_domain[agent].append(metrics)\n",
    "        print(agent, metrics)\n"
   ]
  },
  {
   "cell_type": "code",
   "execution_count": 15,
   "metadata": {},
   "outputs": [
    {
     "name": "stdout",
     "output_type": "stream",
     "text": [
      "\\begin{tabular}{lrrrrrr}\n",
      "\\toprule\n",
      " & test_loss & test_acc@0.5 & test_f1@0.5 & test_acc@best & test_f1@best & test_roc_auc \\\\\n",
      "agent &  &  &  &  &  &  \\\\\n",
      "\\midrule\n",
      "claude & \\np{0.507} & \\np{0.817} & \\np{0.841} & \\np{0.834} & \\np{0.854} & \\np{0.951} \\\\\n",
      "gpt & \\np{0.504} & \\np{0.819} & \\np{0.844} & \\np{0.837} & \\np{0.857} & \\np{0.956} \\\\\n",
      "gpt_prompt1 & \\np{0.500} & \\np{0.820} & \\np{0.844} & \\np{0.839} & \\np{0.859} & \\np{0.954} \\\\\n",
      "gpt_prompt2 & \\np{0.486} & \\np{0.825} & \\np{0.850} & \\np{0.842} & \\np{0.862} & \\np{0.961} \\\\\n",
      "gpt_semantic & \\np{0.491} & \\np{0.824} & \\np{0.849} & \\np{0.839} & \\np{0.859} & \\np{0.960} \\\\\n",
      "gpt_writing & \\np{0.478} & \\np{0.829} & \\np{0.854} & \\np{0.846} & \\np{0.866} & \\np{0.968} \\\\\n",
      "\\bottomrule\n",
      "\\end{tabular}\n",
      "\n"
     ]
    },
    {
     "data": {
      "application/vnd.microsoft.datawrangler.viewer.v0+json": {
       "columns": [
        {
         "name": "agent",
         "rawType": "object",
         "type": "string"
        },
        {
         "name": "test_loss",
         "rawType": "float64",
         "type": "float"
        },
        {
         "name": "test_acc@0.5",
         "rawType": "float64",
         "type": "float"
        },
        {
         "name": "test_f1@0.5",
         "rawType": "float64",
         "type": "float"
        },
        {
         "name": "test_acc@best",
         "rawType": "float64",
         "type": "float"
        },
        {
         "name": "test_f1@best",
         "rawType": "float64",
         "type": "float"
        },
        {
         "name": "test_roc_auc",
         "rawType": "float64",
         "type": "float"
        }
       ],
       "conversionMethod": "pd.DataFrame",
       "ref": "83c8884f-6815-435f-af49-5939f50bed40",
       "rows": [
        [
         "claude",
         "0.5073012411594391",
         "0.8166914939880371",
         "0.8414164900779724",
         "0.8339515209197998",
         "0.8538434505462646",
         "0.9509497284889221"
        ],
        [
         "gpt",
         "0.5038799703121185",
         "0.8191924333572388",
         "0.8437568306922912",
         "0.8367024540901185",
         "0.8565632700920105",
         "0.9561349868774414"
        ],
        [
         "gpt_prompt1",
         "0.5001574635505677",
         "0.8196927309036255",
         "0.84411700963974",
         "0.838960587978363",
         "0.8588093876838684",
         "0.954356026649475"
        ],
        [
         "gpt_prompt2",
         "0.4864343822002411",
         "0.8252049565315247",
         "0.849933671951294",
         "0.8422168493270874",
         "0.8621028780937194",
         "0.9609243869781494"
        ],
        [
         "gpt_semantic",
         "0.49140867590904236",
         "0.8239555835723877",
         "0.8487407326698303",
         "0.8387130975723267",
         "0.8585421562194824",
         "0.9597599387168885"
        ],
        [
         "gpt_writing",
         "0.4779588520526886",
         "0.8294637322425842",
         "0.8542390108108521",
         "0.8457206010818481",
         "0.8656081795692444",
         "0.9681031465530395"
        ]
       ],
       "shape": {
        "columns": 6,
        "rows": 6
       }
      },
      "text/html": [
       "<div>\n",
       "<style scoped>\n",
       "    .dataframe tbody tr th:only-of-type {\n",
       "        vertical-align: middle;\n",
       "    }\n",
       "\n",
       "    .dataframe tbody tr th {\n",
       "        vertical-align: top;\n",
       "    }\n",
       "\n",
       "    .dataframe thead th {\n",
       "        text-align: right;\n",
       "    }\n",
       "</style>\n",
       "<table border=\"1\" class=\"dataframe\">\n",
       "  <thead>\n",
       "    <tr style=\"text-align: right;\">\n",
       "      <th></th>\n",
       "      <th>test_loss</th>\n",
       "      <th>test_acc@0.5</th>\n",
       "      <th>test_f1@0.5</th>\n",
       "      <th>test_acc@best</th>\n",
       "      <th>test_f1@best</th>\n",
       "      <th>test_roc_auc</th>\n",
       "    </tr>\n",
       "    <tr>\n",
       "      <th>agent</th>\n",
       "      <th></th>\n",
       "      <th></th>\n",
       "      <th></th>\n",
       "      <th></th>\n",
       "      <th></th>\n",
       "      <th></th>\n",
       "    </tr>\n",
       "  </thead>\n",
       "  <tbody>\n",
       "    <tr>\n",
       "      <th>claude</th>\n",
       "      <td>0.507301</td>\n",
       "      <td>0.816691</td>\n",
       "      <td>0.841416</td>\n",
       "      <td>0.833952</td>\n",
       "      <td>0.853843</td>\n",
       "      <td>0.950950</td>\n",
       "    </tr>\n",
       "    <tr>\n",
       "      <th>gpt</th>\n",
       "      <td>0.503880</td>\n",
       "      <td>0.819192</td>\n",
       "      <td>0.843757</td>\n",
       "      <td>0.836702</td>\n",
       "      <td>0.856563</td>\n",
       "      <td>0.956135</td>\n",
       "    </tr>\n",
       "    <tr>\n",
       "      <th>gpt_prompt1</th>\n",
       "      <td>0.500157</td>\n",
       "      <td>0.819693</td>\n",
       "      <td>0.844117</td>\n",
       "      <td>0.838961</td>\n",
       "      <td>0.858809</td>\n",
       "      <td>0.954356</td>\n",
       "    </tr>\n",
       "    <tr>\n",
       "      <th>gpt_prompt2</th>\n",
       "      <td>0.486434</td>\n",
       "      <td>0.825205</td>\n",
       "      <td>0.849934</td>\n",
       "      <td>0.842217</td>\n",
       "      <td>0.862103</td>\n",
       "      <td>0.960924</td>\n",
       "    </tr>\n",
       "    <tr>\n",
       "      <th>gpt_semantic</th>\n",
       "      <td>0.491409</td>\n",
       "      <td>0.823956</td>\n",
       "      <td>0.848741</td>\n",
       "      <td>0.838713</td>\n",
       "      <td>0.858542</td>\n",
       "      <td>0.959760</td>\n",
       "    </tr>\n",
       "    <tr>\n",
       "      <th>gpt_writing</th>\n",
       "      <td>0.477959</td>\n",
       "      <td>0.829464</td>\n",
       "      <td>0.854239</td>\n",
       "      <td>0.845721</td>\n",
       "      <td>0.865608</td>\n",
       "      <td>0.968103</td>\n",
       "    </tr>\n",
       "  </tbody>\n",
       "</table>\n",
       "</div>"
      ],
      "text/plain": [
       "              test_loss  test_acc@0.5  test_f1@0.5  test_acc@best  \\\n",
       "agent                                                               \n",
       "claude         0.507301      0.816691     0.841416       0.833952   \n",
       "gpt            0.503880      0.819192     0.843757       0.836702   \n",
       "gpt_prompt1    0.500157      0.819693     0.844117       0.838961   \n",
       "gpt_prompt2    0.486434      0.825205     0.849934       0.842217   \n",
       "gpt_semantic   0.491409      0.823956     0.848741       0.838713   \n",
       "gpt_writing    0.477959      0.829464     0.854239       0.845721   \n",
       "\n",
       "              test_f1@best  test_roc_auc  \n",
       "agent                                     \n",
       "claude            0.853843      0.950950  \n",
       "gpt               0.856563      0.956135  \n",
       "gpt_prompt1       0.858809      0.954356  \n",
       "gpt_prompt2       0.862103      0.960924  \n",
       "gpt_semantic      0.858542      0.959760  \n",
       "gpt_writing       0.865608      0.968103  "
      ]
     },
     "execution_count": 15,
     "metadata": {},
     "output_type": "execute_result"
    }
   ],
   "source": [
    "df = pd.DataFrame(\n",
    "    [\n",
    "        {\n",
    "            \"agent\": agent,\n",
    "            **metric,\n",
    "        }\n",
    "        for agent, metrics in results_cross_domain.items()\n",
    "        for metric in metrics\n",
    "    ]\n",
    ")\n",
    "df = df.groupby(\"agent\").mean()\n",
    "print(df.to_latex(float_format=\"\\\\np{%.3f}\"))\n",
    "df"
   ]
  },
  {
   "cell_type": "code",
   "execution_count": 13,
   "metadata": {},
   "outputs": [],
   "source": [
    "import pandas as pd\n",
    "\n",
    "\n",
    "def df_to_latex_heatmap(_df: pd.DataFrame):\n",
    "    print(\n",
    "        \"\\\\plotHeatmap{\"\n",
    "        + \",\".join(_df.index)\n",
    "        + \"}{%\\n    \"\n",
    "        + \",%\\n    \".join(\n",
    "            [\n",
    "                \"{\"\n",
    "                + \",\".join(f\"{val:.4f}/{round(val, 2):.2f}\" for val in row[1:])\n",
    "                + \"}\"\n",
    "                for row in _df.reset_index().values\n",
    "            ]\n",
    "        )\n",
    "        + \"%\\n}{\"\n",
    "        + \",\".join(_df.columns)\n",
    "        + \"}\"\n",
    "    )\n"
   ]
  },
  {
   "cell_type": "code",
   "execution_count": 14,
   "metadata": {},
   "outputs": [
    {
     "ename": "NameError",
     "evalue": "name 'sources' is not defined",
     "output_type": "error",
     "traceback": [
      "\u001b[0;31m---------------------------------------------------------------------------\u001b[0m",
      "\u001b[0;31mNameError\u001b[0m                                 Traceback (most recent call last)",
      "Cell \u001b[0;32mIn[14], line 5\u001b[0m\n\u001b[1;32m      2\u001b[0m \u001b[38;5;66;03m# _metric = \"test_acc@best\"\u001b[39;00m\n\u001b[1;32m      4\u001b[0m results \u001b[38;5;241m=\u001b[39m []\n\u001b[0;32m----> 5\u001b[0m \u001b[38;5;28;01mfor\u001b[39;00m ai_counterpart \u001b[38;5;129;01min\u001b[39;00m \u001b[43msources\u001b[49m:\n\u001b[1;32m      6\u001b[0m     results\u001b[38;5;241m.\u001b[39mappend(\n\u001b[1;32m      7\u001b[0m         [\n\u001b[1;32m      8\u001b[0m             results_in_domain[ai_counterpart][\u001b[38;5;124m\"\u001b[39m\u001b[38;5;124mmetrics\u001b[39m\u001b[38;5;124m\"\u001b[39m][i][_metric]\n\u001b[1;32m      9\u001b[0m             \u001b[38;5;28;01mfor\u001b[39;00m i \u001b[38;5;129;01min\u001b[39;00m \u001b[38;5;28mrange\u001b[39m(\u001b[38;5;28mlen\u001b[39m(sources))\n\u001b[1;32m     10\u001b[0m         ]\n\u001b[1;32m     11\u001b[0m     )\n\u001b[1;32m     12\u001b[0m results\u001b[38;5;241m.\u001b[39mappend([m[_metric] \u001b[38;5;28;01mfor\u001b[39;00m m \u001b[38;5;129;01min\u001b[39;00m metrics_cross_domain[: \u001b[38;5;28mlen\u001b[39m(sources)]])\n",
      "\u001b[0;31mNameError\u001b[0m: name 'sources' is not defined"
     ]
    }
   ],
   "source": [
    "_metric = \"test_roc_auc\"\n",
    "# _metric = \"test_acc@best\"\n",
    "\n",
    "results = []\n",
    "for ai_counterpart in sources:\n",
    "    results.append(\n",
    "        [\n",
    "            results_in_domain[ai_counterpart][\"metrics\"][i][_metric]\n",
    "            for i in range(len(sources))\n",
    "        ]\n",
    "    )\n",
    "results.append([m[_metric] for m in metrics_cross_domain[: len(sources)]])\n",
    "\n",
    "df = pd.DataFrame(results, columns=sources, index=list(sources) + [\"ALL\"])\n",
    "df[\"AVG\"] = df.mean(axis=1)\n",
    "df[\"AVG\"][-1] = metrics_cross_domain[-1][_metric]\n",
    "df"
   ]
  },
  {
   "cell_type": "code",
   "execution_count": null,
   "metadata": {},
   "outputs": [],
   "source": [
    "df_to_latex_heatmap(df)"
   ]
  },
  {
   "cell_type": "code",
   "execution_count": null,
   "metadata": {},
   "outputs": [],
   "source": [
    "config"
   ]
  },
  {
   "cell_type": "code",
   "execution_count": null,
   "metadata": {},
   "outputs": [],
   "source": [
    "import matplotlib.pyplot as plt\n",
    "import numpy as np\n",
    "import seaborn as sns\n",
    "\n",
    "ax = sns.heatmap(\n",
    "    df,\n",
    "    annot=True,\n",
    "    fmt=\".2f\",\n",
    "    vmax=1.0,\n",
    "    vmin=0.0,\n",
    "    cmap=sns.cubehelix_palette(rot=-0.2, as_cmap=True),\n",
    "    yticklabels=list(sources) + [\"ALL\"],\n",
    "    xticklabels=list(sources) + [\"AVG\"],\n",
    "    square=True,\n",
    "    # reduce annotation font size\n",
    "    annot_kws={\"fontsize\": 8},\n",
    "    cbar=False,\n",
    ")\n",
    "\n",
    "# rotate x-axis labels by 45 degrees\n",
    "# anchored at the right edge of the axes\n",
    "for tick in ax.get_xticklabels():\n",
    "    tick.set_rotation(45)\n",
    "    tick.set_horizontalalignment(\"right\")\n",
    "\n",
    "plt.tight_layout()\n",
    "# plt.savefig(\n",
    "#     \"../figures/evaluation-trained_in_domain-test_0.1-gpt2_256-rand_4-il_13_as_channels.pdf\",\n",
    "#     dpi=300,\n",
    "# )\n",
    "plt.show()"
   ]
  },
  {
   "cell_type": "markdown",
   "metadata": {},
   "source": [
    "### LLR on Whole Datasets"
   ]
  },
  {
   "cell_type": "code",
   "execution_count": null,
   "metadata": {},
   "outputs": [],
   "source": [
    "from sklearn.metrics import auc, roc_curve\n",
    "\n",
    "from luminar.baselines import llr_from_transition_scores\n",
    "from simple_dataset import Dataset as SimpleDataset\n",
    "from transition_scores.data import TransitionScores\n",
    "\n",
    "results_llr = []\n",
    "for ai_counterpart, split in datasets.items():\n",
    "    dataset_test = (\n",
    "        SimpleDataset(split)\n",
    "        .flat_map(lambda doc: doc[\"features\"])\n",
    "        .map(\n",
    "            lambda x: {\n",
    "                \"llr\": llr_from_transition_scores(\n",
    "                    TransitionScores(**x[\"transition_scores\"])\n",
    "                ),\n",
    "                \"labels\": int(x[\"label\"] != \"human\"),\n",
    "            },\n",
    "            in_place=False,\n",
    "        )\n",
    "    )\n",
    "    fpr, tpr, _ = roc_curve(dataset_test[\"labels\"], dataset_test[\"llr\"])\n",
    "    auroc = auc(fpr, tpr)\n",
    "\n",
    "    preds = np.array(dataset_test[\"llr\"])\n",
    "    labels = np.array(dataset_test[\"labels\"])\n",
    "\n",
    "    mean_0 = float(np.mean(preds[labels == 0]))\n",
    "    mean_1 = float(np.mean(preds[labels == 1]))\n",
    "\n",
    "    thresholds = np.linspace(round(mean_0, 1) - 0.2, round(mean_1, 1) + 0.3, 5001)\n",
    "    preds_thresholded: np.ndarray = preds > thresholds.reshape(-1, 1)\n",
    "    acc_thresholded = np.mean((preds_thresholded == labels), axis=1)\n",
    "    idx = np.argmax(acc_thresholded)\n",
    "    best_threshold = thresholds[idx]\n",
    "    best_acc = acc_thresholded[idx]\n",
    "\n",
    "    results_llr.append(\n",
    "        {\n",
    "            \"domain\": ai_counterpart,\n",
    "            \"auroc\": auroc,\n",
    "            \"best_acc\": best_acc,\n",
    "            \"best_threshold\": best_threshold,\n",
    "        }\n",
    "    )\n",
    "\n",
    "pd.DataFrame(results_llr)"
   ]
  },
  {
   "cell_type": "markdown",
   "metadata": {},
   "source": [
    "### LLR on Test Splits"
   ]
  },
  {
   "cell_type": "code",
   "execution_count": null,
   "metadata": {},
   "outputs": [],
   "source": [
    "from sklearn.metrics import auc, roc_curve\n",
    "\n",
    "from luminar.baselines import llr_from_transition_scores\n",
    "from simple_dataset import Dataset as SimpleDataset\n",
    "from transition_scores.data import TransitionScores\n",
    "\n",
    "results_llr = []\n",
    "for ai_counterpart, split in test_splits.items():\n",
    "    dataset_test = (\n",
    "        SimpleDataset(split)\n",
    "        .flat_map(lambda doc: doc[\"features\"])\n",
    "        .map(\n",
    "            lambda x: {\n",
    "                \"llr\": llr_from_transition_scores(\n",
    "                    TransitionScores(**x[\"transition_scores\"])\n",
    "                ),\n",
    "                \"labels\": int(x[\"label\"] != \"human\"),\n",
    "            },\n",
    "            in_place=False,\n",
    "        )\n",
    "    )\n",
    "    fpr, tpr, _ = roc_curve(dataset_test[\"labels\"], dataset_test[\"llr\"])\n",
    "    auroc = auc(fpr, tpr)\n",
    "\n",
    "    preds = np.array(dataset_test[\"llr\"])\n",
    "    labels = np.array(dataset_test[\"labels\"])\n",
    "\n",
    "    mean_0 = float(np.mean(preds[labels == 0]))\n",
    "    mean_1 = float(np.mean(preds[labels == 1]))\n",
    "\n",
    "    thresholds = np.linspace(round(mean_0, 1) - 0.2, round(mean_1, 1) + 0.3, 1001)\n",
    "    preds_thresholded: np.ndarray = preds > thresholds.reshape(-1, 1)\n",
    "    acc_thresholded = np.mean((preds_thresholded == labels), axis=1)\n",
    "    idx = np.argmax(acc_thresholded)\n",
    "    best_threshold = thresholds[idx]\n",
    "    best_acc = acc_thresholded[idx]\n",
    "\n",
    "    results_llr.append(\n",
    "        {\n",
    "            \"domain\": ai_counterpart,\n",
    "            \"auroc\": auroc,\n",
    "            \"best_acc\": best_acc,\n",
    "            \"best_threshold\": best_threshold,\n",
    "        }\n",
    "    )\n",
    "\n",
    "pd.DataFrame(results_llr)"
   ]
  },
  {
   "cell_type": "code",
   "execution_count": null,
   "metadata": {},
   "outputs": [],
   "source": [
    "raise RuntimeError(\"STOP\")"
   ]
  },
  {
   "cell_type": "code",
   "execution_count": null,
   "metadata": {},
   "outputs": [],
   "source": [
    "sample = train_dataset[0][\"features\"].numpy().squeeze()\n",
    "train_dataset[0][\"labels\"]"
   ]
  },
  {
   "cell_type": "code",
   "execution_count": null,
   "metadata": {},
   "outputs": [],
   "source": [
    "fig = plt.imshow(sample.T, cmap=sns.cubehelix_palette(rot=-0.2, as_cmap=True))\n",
    "fig.axes.set_axis_off()\n",
    "plt.show()"
   ]
  },
  {
   "cell_type": "code",
   "execution_count": null,
   "metadata": {},
   "outputs": [],
   "source": [
    "sample = train_dataset[2][\"features\"].numpy().squeeze()\n",
    "train_dataset[2][\"labels\"]"
   ]
  },
  {
   "cell_type": "code",
   "execution_count": null,
   "metadata": {},
   "outputs": [],
   "source": [
    "fig = plt.imshow(sample.T, cmap=sns.cubehelix_palette(rot=-0.2, as_cmap=True))\n",
    "fig.axes.set_axis_off()\n",
    "plt.show()"
   ]
  },
  {
   "cell_type": "code",
   "execution_count": null,
   "metadata": {},
   "outputs": [],
   "source": [
    "raise RuntimeError(\"STOP\")"
   ]
  },
  {
   "cell_type": "code",
   "execution_count": null,
   "metadata": {},
   "outputs": [],
   "source": []
  },
  {
   "cell_type": "code",
   "execution_count": null,
   "metadata": {},
   "outputs": [],
   "source": [
    "from sklearn.metrics import auc, roc_curve\n",
    "\n",
    "from luminar.baselines import llr_from_transition_scores\n",
    "\n",
    "dataset_test = dm._dataset_test.map(\n",
    "    lambda x: {\n",
    "        \"llr\": llr_from_transition_scores(x[\"features\"]),\n",
    "        \"labels\": x[\"labels\"],\n",
    "    },\n",
    "    in_place=False,\n",
    ")\n",
    "fpr, tpr, _ = roc_curve(dataset_test[\"labels\"], dataset_test[\"llr\"])\n",
    "auc(fpr, tpr)"
   ]
  }
 ],
 "metadata": {
  "kernelspec": {
   "display_name": ".venv",
   "language": "python",
   "name": "python3"
  },
  "language_info": {
   "codemirror_mode": {
    "name": "ipython",
    "version": 3
   },
   "file_extension": ".py",
   "mimetype": "text/x-python",
   "name": "python",
   "nbconvert_exporter": "python",
   "pygments_lexer": "ipython3",
   "version": "3.12.7"
  }
 },
 "nbformat": 4,
 "nbformat_minor": 2
}
