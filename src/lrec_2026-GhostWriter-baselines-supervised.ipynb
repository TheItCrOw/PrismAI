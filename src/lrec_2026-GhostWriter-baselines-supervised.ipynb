{
 "cells": [
  {
   "cell_type": "markdown",
   "metadata": {},
   "source": [
    "# OpenGhostbuster"
   ]
  },
  {
   "cell_type": "markdown",
   "metadata": {},
   "source": [
    "## Baselines"
   ]
  },
  {
   "cell_type": "code",
   "execution_count": null,
   "metadata": {},
   "outputs": [],
   "source": [
    "import gc\n",
    "import json\n",
    "from pathlib import Path\n",
    "\n",
    "import numpy as np\n",
    "import torch\n",
    "from datasets import Dataset, load_dataset\n",
    "from tqdm.auto import tqdm\n",
    "import pandas as pd\n",
    "\n",
    "from luminar.utils.data import batched_dynamic, transpose_batch"
   ]
  },
  {
   "cell_type": "code",
   "execution_count": null,
   "metadata": {},
   "outputs": [],
   "source": [
    "preds_path = Path(\"/storage/projects/stoeckel/GhostWriter/predictions\")"
   ]
  },
  {
   "cell_type": "code",
   "execution_count": null,
   "metadata": {},
   "outputs": [],
   "source": [
    "dataset: Dataset = load_dataset(\"TheItCrOw/GhostWriter\", split=\"test\")"
   ]
  },
  {
   "cell_type": "markdown",
   "metadata": {},
   "source": [
    "### RADAR"
   ]
  },
  {
   "cell_type": "code",
   "execution_count": null,
   "metadata": {},
   "outputs": [],
   "source": [
    "from luminar.baselines.radar import Radar"
   ]
  },
  {
   "cell_type": "code",
   "execution_count": null,
   "metadata": {},
   "outputs": [],
   "source": [
    "# %%script echo skipping\n",
    "\n",
    "pred_path_model = preds_path / \"radar\"\n",
    "pred_path_model.mkdir(parents=True, exist_ok=True)\n",
    "corpus = \"test\"\n",
    "\n",
    "detector = Radar(device=\"cuda:1\")\n",
    "tok_dataset = dataset.map(\n",
    "    detector.tokenize,\n",
    "    input_columns=[\"text\"],\n",
    "    batched=True,\n",
    "    batch_size=1024,\n",
    "    desc=\"Tokenizing\",\n",
    ")\n",
    "tok_dataset = tok_dataset.sort(\"length\")\n",
    "\n",
    "predictions = pd.DataFrame()\n",
    "with tqdm(  # type: ignore\n",
    "    tok_dataset,\n",
    "    desc=f\"Processing {corpus}\",\n",
    "    position=1,\n",
    ") as tq:\n",
    "    for batch in batched_dynamic(tq, 512 * 128, key=\"length\"):  # type: ignore\n",
    "        batch = transpose_batch(batch)\n",
    "        preds = detector.process(batch)\n",
    "        batch[\"y_score\"] = preds[\"y_scores\"]\n",
    "        predictions = pd.concat(\n",
    "            [predictions, pd.DataFrame.from_dict(batch)], ignore_index=True\n",
    "        )\n",
    "\n",
    "        tq.set_postfix(\n",
    "            {\n",
    "                \"batch_size\": len(batch[\"input_ids\"]),\n",
    "                \"effective_length\": max(batch[\"length\"]) * len(batch[\"input_ids\"]),\n",
    "            }\n",
    "        )\n",
    "\n",
    "predictions = predictions.drop(columns=[\"text\", \"input_ids\", \"attention_mask\"])\n",
    "predictions.to_csv(str(pred_path_model / f\"{corpus}.csv\"))\n",
    "\n",
    "try:\n",
    "    detector.to(\"cpu\")\n",
    "    del detector\n",
    "    gc.collect()\n",
    "    torch.cuda.empty_cache()\n",
    "except Exception:\n",
    "    pass"
   ]
  },
  {
   "cell_type": "code",
   "execution_count": null,
   "metadata": {},
   "outputs": [],
   "source": [
    "from luminar.baselines.trainable.e5_lora import E5Lora"
   ]
  },
  {
   "cell_type": "code",
   "execution_count": null,
   "metadata": {},
   "outputs": [],
   "source": [
    "%%script echo skipping\n",
    "\n",
    "pred_path_model = preds_path / \"e5_lora\"\n",
    "pred_path_model.mkdir(parents=True, exist_ok=True)\n",
    "corpus = \"test\"\n",
    "\n",
    "detector = E5Lora(device=\"cuda:1\")\n",
    "tok_dataset = dataset.map(\n",
    "    detector.tokenize,\n",
    "    input_columns=[\"text\"],\n",
    "    batched=True,\n",
    "    batch_size=1024,\n",
    "    desc=\"Tokenizing\",\n",
    ")\n",
    "tok_dataset = tok_dataset.sort(\"length\")\n",
    "\n",
    "predictions = pd.DataFrame()\n",
    "with tqdm(  # type: ignore\n",
    "    tok_dataset,\n",
    "    desc=f\"Processing {corpus}\",\n",
    "    position=1,\n",
    ") as tq:\n",
    "    for batch in batched_dynamic(tq, 1024 * 32, key=\"length\"):  # type: ignore\n",
    "        batch = transpose_batch(batch)\n",
    "        preds = detector.process(batch)\n",
    "        batch[\"y_score\"] = preds[\"y_scores\"]\n",
    "        predictions = pd.concat(\n",
    "            [predictions, pd.DataFrame.from_dict(batch)], ignore_index=True\n",
    "        )\n",
    "\n",
    "        tq.set_postfix(\n",
    "            {\n",
    "                \"batch_size\": len(batch[\"input_ids\"]),\n",
    "                \"effective_length\": max(batch[\"length\"]) * len(batch[\"input_ids\"]),\n",
    "            }\n",
    "        )\n",
    "\n",
    "predictions = predictions.drop(columns=[\"text\", \"input_ids\", \"attention_mask\"])\n",
    "predictions.to_csv(str(pred_path_model / f\"{corpus}.csv\"))\n",
    "\n",
    "try:\n",
    "    detector.to(\"cpu\")\n",
    "    del detector\n",
    "    gc.collect()\n",
    "    torch.cuda.empty_cache()\n",
    "except Exception:\n",
    "    pass"
   ]
  }
 ],
 "metadata": {
  "kernelspec": {
   "display_name": "Python 3 (ipykernel)",
   "language": "python",
   "name": "python3"
  },
  "language_info": {
   "codemirror_mode": {
    "name": "ipython",
    "version": 3
   },
   "file_extension": ".py",
   "mimetype": "text/x-python",
   "name": "python",
   "nbconvert_exporter": "python",
   "pygments_lexer": "ipython3",
   "version": "3.12.7"
  }
 },
 "nbformat": 4,
 "nbformat_minor": 2
}
