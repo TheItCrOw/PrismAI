{
 "cells": [
  {
   "cell_type": "code",
   "execution_count": null,
   "metadata": {},
   "outputs": [],
   "source": [
    "import os\n",
    "from collections import defaultdict\n",
    "\n",
    "import numpy as np\n",
    "import pandas as pd\n",
    "import pymongo\n",
    "from dotenv import load_dotenv\n",
    "from pymongo import MongoClient\n",
    "from tqdm import tqdm\n",
    "from transformers import AutoTokenizer\n",
    "\n",
    "gpt_tokenizer = AutoTokenizer.from_pretrained(\"gpt2\", use_fast=True)\n",
    "llama_tokenizer = AutoTokenizer.from_pretrained(\n",
    "    \"meta-llama/Llama-3.2-1B\", use_fast=True\n",
    ")\n",
    "load_dotenv(\"../.env\")\n",
    "client = MongoClient(os.environ.get(\"MONGO_DB_CONNECTION\"))\n",
    "db = client.get_database(\"prismai\")"
   ]
  },
  {
   "cell_type": "code",
   "execution_count": null,
   "metadata": {},
   "outputs": [],
   "source": [
    "prismai_gpt2 = defaultdict(list)\n",
    "prismai_llama = defaultdict(list)"
   ]
  },
  {
   "cell_type": "code",
   "execution_count": null,
   "metadata": {},
   "outputs": [],
   "source": [
    "for domain in tqdm(db.get_collection(\"collected_items\").distinct(\"domain\"), position=0):\n",
    "    for item in tqdm(\n",
    "        db.get_collection(\"features_prismai\").aggregate(\n",
    "            [\n",
    "                {\"$match\": {\"document.domain\": domain}},\n",
    "                {\"$project\": {\"_id\": 1, \"document._id.$id\": 1}},\n",
    "                {\n",
    "                    \"$lookup\": {\n",
    "                        \"from\": \"collected_items\",\n",
    "                        \"localField\": \"document._id.$id\",\n",
    "                        \"foreignField\": \"_id\",\n",
    "                        \"as\": \"text\",\n",
    "                        \"pipeline\": [\n",
    "                            {\"$project\": {\"text\": 1}},\n",
    "                        ],\n",
    "                    }\n",
    "                },\n",
    "                {\"$unwind\": \"$text\"},\n",
    "                {\"$project\": {\"text\": \"$text.text\"}},\n",
    "            ]\n",
    "        ),\n",
    "        desc=domain,\n",
    "        position=1,\n",
    "    ):\n",
    "        text = \" \".join(item.get(\"text\").strip().split())\n",
    "        encoding = gpt_tokenizer(text, return_length=True)\n",
    "        (length,) = encoding[\"length\"]\n",
    "        prismai_gpt2[domain].append(length)\n",
    "\n",
    "        encoding = llama_tokenizer(text, return_length=True)\n",
    "        (length,) = encoding[\"length\"]\n",
    "        prismai_llama[domain].append(length)"
   ]
  },
  {
   "cell_type": "code",
   "execution_count": null,
   "metadata": {},
   "outputs": [
    {
     "name": "stdout",
     "output_type": "stream",
     "text": [
      "\\begin{tabular}{lrrrrrr}\n",
      "\\toprule\n",
      " & gpt2_05p & gpt2_median & gpt2_95p & llama_05p & llama_median & llama_95p \\\\\n",
      "\\midrule\n",
      "arxiv_papers & \\np{1009} & \\np{11338} & \\np{34941} & \\np{966} & \\np{11158} & \\np{34433} \\\\\n",
      "blog_authorship_corpus & \\np{15} & \\np{65} & \\np{600} & \\np{16} & \\np{66} & \\np{593} \\\\\n",
      "bundestag & \\np{234} & \\np{1342} & \\np{2483} & \\np{170} & \\np{946} & \\np{1747} \\\\\n",
      "cnn_news & \\np{309} & \\np{749} & \\np{1597} & \\np{309} & \\np{748} & \\np{1588} \\\\\n",
      "euro_court_cases & \\np{258} & \\np{984} & \\np{5046} & \\np{280} & \\np{1019} & \\np{5140} \\\\\n",
      "gutenberg & \\np{784} & \\np{39006} & \\np{222774} & \\np{778} & \\np{37531} & \\np{202753} \\\\\n",
      "house_of_commons & \\np{89} & \\np{818} & \\np{18497} & \\np{91} & \\np{822} & \\np{18700} \\\\\n",
      "spiegel_articles & \\np{334} & \\np{912} & \\np{2603} & \\np{250} & \\np{682} & \\np{1934} \\\\\n",
      "student_essays & \\np{213} & \\np{439} & \\np{890} & \\np{212} & \\np{436} & \\np{884} \\\\\n",
      "\\bottomrule\n",
      "\\end{tabular}\n",
      "\n"
     ]
    },
    {
     "data": {
      "application/vnd.microsoft.datawrangler.viewer.v0+json": {
       "columns": [
        {
         "name": "index",
         "rawType": "object",
         "type": "string"
        },
        {
         "name": "gpt2_05p",
         "rawType": "float64",
         "type": "float"
        },
        {
         "name": "gpt2_median",
         "rawType": "float64",
         "type": "float"
        },
        {
         "name": "gpt2_95p",
         "rawType": "float64",
         "type": "float"
        },
        {
         "name": "llama_05p",
         "rawType": "float64",
         "type": "float"
        },
        {
         "name": "llama_median",
         "rawType": "float64",
         "type": "float"
        },
        {
         "name": "llama_95p",
         "rawType": "float64",
         "type": "float"
        }
       ],
       "conversionMethod": "pd.DataFrame",
       "ref": "a10d792f-83f7-46b4-9594-0661c40ad92f",
       "rows": [
        [
         "arxiv_papers",
         "1009.0",
         "11338.0",
         "34941.5",
         "966.5",
         "11158.0",
         "34433.0"
        ],
        [
         "blog_authorship_corpus",
         "15.0",
         "65.0",
         "600.0",
         "16.0",
         "66.0",
         "593.0"
        ],
        [
         "bundestag",
         "234.0",
         "1342.0",
         "2483.899999999998",
         "170.0",
         "946.0",
         "1747.0"
        ],
        [
         "cnn_news",
         "309.0",
         "749.0",
         "1597.0",
         "309.55000000000007",
         "748.0",
         "1588.0"
        ],
        [
         "euro_court_cases",
         "258.25",
         "984.0",
         "5046.0",
         "280.25",
         "1019.0",
         "5140.0"
        ],
        [
         "gutenberg",
         "784.9000000000001",
         "39006.0",
         "222774.0",
         "778.9000000000001",
         "37531.0",
         "202753.0"
        ],
        [
         "house_of_commons",
         "89.0",
         "818.0",
         "18497.399999999965",
         "91.0",
         "822.0",
         "18700.5499999999"
        ],
        [
         "spiegel_articles",
         "334.0",
         "912.0",
         "2603.0",
         "250.0",
         "682.0",
         "1934.0"
        ],
        [
         "student_essays",
         "213.0",
         "439.0",
         "890.0",
         "212.0",
         "436.0",
         "884.0"
        ]
       ],
       "shape": {
        "columns": 6,
        "rows": 9
       }
      },
      "text/html": [
       "<div>\n",
       "<style scoped>\n",
       "    .dataframe tbody tr th:only-of-type {\n",
       "        vertical-align: middle;\n",
       "    }\n",
       "\n",
       "    .dataframe tbody tr th {\n",
       "        vertical-align: top;\n",
       "    }\n",
       "\n",
       "    .dataframe thead th {\n",
       "        text-align: right;\n",
       "    }\n",
       "</style>\n",
       "<table border=\"1\" class=\"dataframe\">\n",
       "  <thead>\n",
       "    <tr style=\"text-align: right;\">\n",
       "      <th></th>\n",
       "      <th>gpt2_05p</th>\n",
       "      <th>gpt2_median</th>\n",
       "      <th>gpt2_95p</th>\n",
       "      <th>llama_05p</th>\n",
       "      <th>llama_median</th>\n",
       "      <th>llama_95p</th>\n",
       "    </tr>\n",
       "  </thead>\n",
       "  <tbody>\n",
       "    <tr>\n",
       "      <th>arxiv_papers</th>\n",
       "      <td>1009.00</td>\n",
       "      <td>11338.0</td>\n",
       "      <td>34941.5</td>\n",
       "      <td>966.50</td>\n",
       "      <td>11158.0</td>\n",
       "      <td>34433.00</td>\n",
       "    </tr>\n",
       "    <tr>\n",
       "      <th>blog_authorship_corpus</th>\n",
       "      <td>15.00</td>\n",
       "      <td>65.0</td>\n",
       "      <td>600.0</td>\n",
       "      <td>16.00</td>\n",
       "      <td>66.0</td>\n",
       "      <td>593.00</td>\n",
       "    </tr>\n",
       "    <tr>\n",
       "      <th>bundestag</th>\n",
       "      <td>234.00</td>\n",
       "      <td>1342.0</td>\n",
       "      <td>2483.9</td>\n",
       "      <td>170.00</td>\n",
       "      <td>946.0</td>\n",
       "      <td>1747.00</td>\n",
       "    </tr>\n",
       "    <tr>\n",
       "      <th>cnn_news</th>\n",
       "      <td>309.00</td>\n",
       "      <td>749.0</td>\n",
       "      <td>1597.0</td>\n",
       "      <td>309.55</td>\n",
       "      <td>748.0</td>\n",
       "      <td>1588.00</td>\n",
       "    </tr>\n",
       "    <tr>\n",
       "      <th>euro_court_cases</th>\n",
       "      <td>258.25</td>\n",
       "      <td>984.0</td>\n",
       "      <td>5046.0</td>\n",
       "      <td>280.25</td>\n",
       "      <td>1019.0</td>\n",
       "      <td>5140.00</td>\n",
       "    </tr>\n",
       "    <tr>\n",
       "      <th>gutenberg</th>\n",
       "      <td>784.90</td>\n",
       "      <td>39006.0</td>\n",
       "      <td>222774.0</td>\n",
       "      <td>778.90</td>\n",
       "      <td>37531.0</td>\n",
       "      <td>202753.00</td>\n",
       "    </tr>\n",
       "    <tr>\n",
       "      <th>house_of_commons</th>\n",
       "      <td>89.00</td>\n",
       "      <td>818.0</td>\n",
       "      <td>18497.4</td>\n",
       "      <td>91.00</td>\n",
       "      <td>822.0</td>\n",
       "      <td>18700.55</td>\n",
       "    </tr>\n",
       "    <tr>\n",
       "      <th>spiegel_articles</th>\n",
       "      <td>334.00</td>\n",
       "      <td>912.0</td>\n",
       "      <td>2603.0</td>\n",
       "      <td>250.00</td>\n",
       "      <td>682.0</td>\n",
       "      <td>1934.00</td>\n",
       "    </tr>\n",
       "    <tr>\n",
       "      <th>student_essays</th>\n",
       "      <td>213.00</td>\n",
       "      <td>439.0</td>\n",
       "      <td>890.0</td>\n",
       "      <td>212.00</td>\n",
       "      <td>436.0</td>\n",
       "      <td>884.00</td>\n",
       "    </tr>\n",
       "  </tbody>\n",
       "</table>\n",
       "</div>"
      ],
      "text/plain": [
       "                        gpt2_05p  gpt2_median  gpt2_95p  llama_05p  \\\n",
       "arxiv_papers             1009.00      11338.0   34941.5     966.50   \n",
       "blog_authorship_corpus     15.00         65.0     600.0      16.00   \n",
       "bundestag                 234.00       1342.0    2483.9     170.00   \n",
       "cnn_news                  309.00        749.0    1597.0     309.55   \n",
       "euro_court_cases          258.25        984.0    5046.0     280.25   \n",
       "gutenberg                 784.90      39006.0  222774.0     778.90   \n",
       "house_of_commons           89.00        818.0   18497.4      91.00   \n",
       "spiegel_articles          334.00        912.0    2603.0     250.00   \n",
       "student_essays            213.00        439.0     890.0     212.00   \n",
       "\n",
       "                        llama_median  llama_95p  \n",
       "arxiv_papers                 11158.0   34433.00  \n",
       "blog_authorship_corpus          66.0     593.00  \n",
       "bundestag                      946.0    1747.00  \n",
       "cnn_news                       748.0    1588.00  \n",
       "euro_court_cases              1019.0    5140.00  \n",
       "gutenberg                    37531.0  202753.00  \n",
       "house_of_commons               822.0   18700.55  \n",
       "spiegel_articles               682.0    1934.00  \n",
       "student_essays                 436.0     884.00  "
      ]
     },
     "metadata": {},
     "output_type": "display_data"
    }
   ],
   "source": [
    "df = pd.DataFrame(\n",
    "    [{\"gpt2\": prismai_gpt2[key], \"llama\": prismai_llama[key]} for key in prismai_llama],\n",
    "    columns=[\"gpt2\", \"llama\"],\n",
    "    index=list(prismai_llama.keys()),\n",
    ")\n",
    "df[\"gpt2_05p\"] = df[\"gpt2\"].map(lambda x: np.percentile(x, 5))\n",
    "# df[\"gpt2_mean\"] = df[\"gpt2\"].map(np.mean)\n",
    "df[\"gpt2_median\"] = df[\"gpt2\"].map(np.median)\n",
    "df[\"gpt2_95p\"] = df[\"gpt2\"].map(lambda x: np.percentile(x, 95))\n",
    "del df[\"gpt2\"]\n",
    "df[\"llama_05p\"] = df[\"llama\"].map(lambda x: np.percentile(x, 5))\n",
    "# df[\"llama_mean\"] = df[\"llama\"].map(np.mean)\n",
    "df[\"llama_median\"] = df[\"llama\"].map(np.median)\n",
    "df[\"llama_95p\"] = df[\"llama\"].map(lambda x: np.percentile(x, 95))\n",
    "del df[\"llama\"]\n",
    "# print(df.to_latex(float_format=\"\\\\np{%d}\"))\n",
    "df"
   ]
  },
  {
   "cell_type": "code",
   "execution_count": null,
   "metadata": {},
   "outputs": [],
   "source": [
    "values_gpt2 = defaultdict(list)\n",
    "values_llama = defaultdict(list)\n",
    "\n",
    "for ds in (\"CHEAT\",\"Ghostbuster\",\"HC3-Plus\",\"MAGE\",\"OpenLLMText\",\"SeqXGPT\"):\n",
    "    for item in tqdm(db.get_collection(f\"dataset_{ds}\").find(), position=0, desc=ds):\n",
    "        text = \" \".join(item.get(\"text\").strip().split())\n",
    "        encoding = gpt_tokenizer(text, return_length=True)\n",
    "        (length,) = encoding[\"length\"]\n",
    "        values_gpt2[ds].append(length)\n",
    "\n",
    "        encoding = llama_tokenizer(text, return_length=True)\n",
    "        (length,) = encoding[\"length\"]\n",
    "        values_llama[ds].append(length)"
   ]
  },
  {
   "cell_type": "code",
   "execution_count": null,
   "metadata": {},
   "outputs": [
    {
     "name": "stdout",
     "output_type": "stream",
     "text": [
      "\\begin{tabular}{lrrrrrr}\n",
      "\\toprule\n",
      " & gpt2_05p & gpt2_median & gpt2_95p & llama_05p & llama_median & llama_95p \\\\\n",
      "\\midrule\n",
      "CHEAT & \\np{106} & \\np{176} & \\np{298} & \\np{105} & \\np{173} & \\np{291} \\\\\n",
      "Ghostbuster & \\np{280} & \\np{632} & \\np{997} & \\np{281} & \\np{631} & \\np{998} \\\\\n",
      "HC3-Plus & \\np{12} & \\np{52} & \\np{383} & \\np{11} & \\np{41} & \\np{257} \\\\\n",
      "MAGE & \\np{36} & \\np{141} & \\np{951} & \\np{37} & \\np{142} & \\np{952} \\\\\n",
      "OpenLLMText & \\np{120} & \\np{392} & \\np{1024} & \\np{120} & \\np{390} & \\np{1031} \\\\\n",
      "SeqXGPT & \\np{72} & \\np{270} & \\np{504} & \\np{73} & \\np{270} & \\np{499} \\\\\n",
      "\\bottomrule\n",
      "\\end{tabular}\n",
      "\n"
     ]
    },
    {
     "data": {
      "application/vnd.microsoft.datawrangler.viewer.v0+json": {
       "columns": [
        {
         "name": "index",
         "rawType": "object",
         "type": "string"
        },
        {
         "name": "gpt2_05p",
         "rawType": "float64",
         "type": "float"
        },
        {
         "name": "gpt2_median",
         "rawType": "float64",
         "type": "float"
        },
        {
         "name": "gpt2_95p",
         "rawType": "float64",
         "type": "float"
        },
        {
         "name": "llama_05p",
         "rawType": "float64",
         "type": "float"
        },
        {
         "name": "llama_median",
         "rawType": "float64",
         "type": "float"
        },
        {
         "name": "llama_95p",
         "rawType": "float64",
         "type": "float"
        }
       ],
       "conversionMethod": "pd.DataFrame",
       "ref": "9078274e-458c-49a7-8801-00b0f9697713",
       "rows": [
        [
         "CHEAT",
         "106.0",
         "176.0",
         "298.0",
         "105.0",
         "173.0",
         "291.0"
        ],
        [
         "Ghostbuster",
         "280.0",
         "632.0",
         "997.0",
         "281.0",
         "631.0",
         "998.0499999999993"
        ],
        [
         "HC3-Plus",
         "12.0",
         "52.0",
         "383.0",
         "11.0",
         "41.0",
         "257.0"
        ],
        [
         "MAGE",
         "36.0",
         "141.0",
         "951.0",
         "37.0",
         "142.0",
         "952.0"
        ],
        [
         "OpenLLMText",
         "120.0",
         "392.0",
         "1024.0",
         "120.0",
         "390.0",
         "1031.0"
        ],
        [
         "SeqXGPT",
         "72.0",
         "270.0",
         "504.0",
         "73.0",
         "270.0",
         "499.0"
        ]
       ],
       "shape": {
        "columns": 6,
        "rows": 6
       }
      },
      "text/html": [
       "<div>\n",
       "<style scoped>\n",
       "    .dataframe tbody tr th:only-of-type {\n",
       "        vertical-align: middle;\n",
       "    }\n",
       "\n",
       "    .dataframe tbody tr th {\n",
       "        vertical-align: top;\n",
       "    }\n",
       "\n",
       "    .dataframe thead th {\n",
       "        text-align: right;\n",
       "    }\n",
       "</style>\n",
       "<table border=\"1\" class=\"dataframe\">\n",
       "  <thead>\n",
       "    <tr style=\"text-align: right;\">\n",
       "      <th></th>\n",
       "      <th>gpt2_05p</th>\n",
       "      <th>gpt2_median</th>\n",
       "      <th>gpt2_95p</th>\n",
       "      <th>llama_05p</th>\n",
       "      <th>llama_median</th>\n",
       "      <th>llama_95p</th>\n",
       "    </tr>\n",
       "  </thead>\n",
       "  <tbody>\n",
       "    <tr>\n",
       "      <th>CHEAT</th>\n",
       "      <td>106.0</td>\n",
       "      <td>176.0</td>\n",
       "      <td>298.0</td>\n",
       "      <td>105.0</td>\n",
       "      <td>173.0</td>\n",
       "      <td>291.00</td>\n",
       "    </tr>\n",
       "    <tr>\n",
       "      <th>Ghostbuster</th>\n",
       "      <td>280.0</td>\n",
       "      <td>632.0</td>\n",
       "      <td>997.0</td>\n",
       "      <td>281.0</td>\n",
       "      <td>631.0</td>\n",
       "      <td>998.05</td>\n",
       "    </tr>\n",
       "    <tr>\n",
       "      <th>HC3-Plus</th>\n",
       "      <td>12.0</td>\n",
       "      <td>52.0</td>\n",
       "      <td>383.0</td>\n",
       "      <td>11.0</td>\n",
       "      <td>41.0</td>\n",
       "      <td>257.00</td>\n",
       "    </tr>\n",
       "    <tr>\n",
       "      <th>MAGE</th>\n",
       "      <td>36.0</td>\n",
       "      <td>141.0</td>\n",
       "      <td>951.0</td>\n",
       "      <td>37.0</td>\n",
       "      <td>142.0</td>\n",
       "      <td>952.00</td>\n",
       "    </tr>\n",
       "    <tr>\n",
       "      <th>OpenLLMText</th>\n",
       "      <td>120.0</td>\n",
       "      <td>392.0</td>\n",
       "      <td>1024.0</td>\n",
       "      <td>120.0</td>\n",
       "      <td>390.0</td>\n",
       "      <td>1031.00</td>\n",
       "    </tr>\n",
       "    <tr>\n",
       "      <th>SeqXGPT</th>\n",
       "      <td>72.0</td>\n",
       "      <td>270.0</td>\n",
       "      <td>504.0</td>\n",
       "      <td>73.0</td>\n",
       "      <td>270.0</td>\n",
       "      <td>499.00</td>\n",
       "    </tr>\n",
       "  </tbody>\n",
       "</table>\n",
       "</div>"
      ],
      "text/plain": [
       "             gpt2_05p  gpt2_median  gpt2_95p  llama_05p  llama_median  \\\n",
       "CHEAT           106.0        176.0     298.0      105.0         173.0   \n",
       "Ghostbuster     280.0        632.0     997.0      281.0         631.0   \n",
       "HC3-Plus         12.0         52.0     383.0       11.0          41.0   \n",
       "MAGE             36.0        141.0     951.0       37.0         142.0   \n",
       "OpenLLMText     120.0        392.0    1024.0      120.0         390.0   \n",
       "SeqXGPT          72.0        270.0     504.0       73.0         270.0   \n",
       "\n",
       "             llama_95p  \n",
       "CHEAT           291.00  \n",
       "Ghostbuster     998.05  \n",
       "HC3-Plus        257.00  \n",
       "MAGE            952.00  \n",
       "OpenLLMText    1031.00  \n",
       "SeqXGPT         499.00  "
      ]
     },
     "metadata": {},
     "output_type": "display_data"
    }
   ],
   "source": [
    "df = pd.DataFrame(\n",
    "    [{\"gpt2\": values_gpt2[key], \"llama\": values_llama[key]} for key in values_llama],\n",
    "    columns=[\"gpt2\", \"llama\"],\n",
    "    index=list(values_llama.keys()),\n",
    ")\n",
    "df[\"gpt2_05p\"] = df[\"gpt2\"].map(lambda x: np.percentile(x, 5))\n",
    "# df[\"gpt2_mean\"] = df[\"gpt2\"].map(np.mean)\n",
    "df[\"gpt2_median\"] = df[\"gpt2\"].map(np.median)\n",
    "df[\"gpt2_95p\"] = df[\"gpt2\"].map(lambda x: np.percentile(x, 95))\n",
    "del df[\"gpt2\"]\n",
    "df[\"llama_05p\"] = df[\"llama\"].map(lambda x: np.percentile(x, 5))\n",
    "# df[\"llama_mean\"] = df[\"llama\"].map(np.mean)\n",
    "df[\"llama_median\"] = df[\"llama\"].map(np.median)\n",
    "df[\"llama_95p\"] = df[\"llama\"].map(lambda x: np.percentile(x, 95))\n",
    "del df[\"llama\"]\n",
    "print(df.to_latex(float_format=\"\\\\np{%d}\"))\n",
    "df"
   ]
  }
 ],
 "metadata": {
  "kernelspec": {
   "display_name": ".venv",
   "language": "python",
   "name": "python3"
  },
  "language_info": {
   "codemirror_mode": {
    "name": "ipython",
    "version": 3
   },
   "file_extension": ".py",
   "mimetype": "text/x-python",
   "name": "python",
   "nbconvert_exporter": "python",
   "pygments_lexer": "ipython3",
   "version": "3.12.7"
  }
 },
 "nbformat": 4,
 "nbformat_minor": 2
}
