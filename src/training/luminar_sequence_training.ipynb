{
 "cells": [
  {
   "cell_type": "markdown",
   "id": "f1cac2df18338774",
   "metadata": {},
   "source": [
    "# About\n",
    "\n",
    "Training of LuminarSequenceClassifier on the PrismAI dataset."
   ]
  },
  {
   "cell_type": "code",
   "execution_count": 1,
   "id": "66a5cfd8c7d2051e",
   "metadata": {
    "ExecuteTime": {
     "end_time": "2025-07-29T08:28:26.762715Z",
     "start_time": "2025-07-29T08:28:25.576944Z"
    }
   },
   "outputs": [],
   "source": [
    "%load_ext autoreload\n",
    "%autoreload 2"
   ]
  },
  {
   "cell_type": "code",
   "execution_count": 2,
   "id": "5a16e47050282fde",
   "metadata": {
    "ExecuteTime": {
     "end_time": "2025-07-29T11:36:41.189363Z",
     "start_time": "2025-07-29T11:36:40.007702Z"
    }
   },
   "outputs": [],
   "source": [
    "import sys\n",
    "import torch\n",
    "import wandb\n",
    "\n",
    "from typing import Final, Callable\n",
    "from pathlib import Path\n",
    "\n",
    "sys.path.insert(0, str(Path().resolve().parent.parent))\n",
    "\n",
    "from tqdm import tqdm\n",
    "from sklearn.metrics import accuracy_score, f1_score\n",
    "from sklearn.model_selection import KFold\n",
    "from torch.utils.data import DataLoader, ConcatDataset\n",
    "from IPython.display import display, Markdown\n",
    "from datasets import load_dataset\n",
    "from numpy._typing import NDArray\n",
    "from torch.utils.data import Dataset, Subset\n",
    "from datasets import DatasetDict\n",
    "from luminar.utils.sequential_data import SequentialDataService\n",
    "from luminar.utils.data import get_pad_to_fixed_length_fn, get_matched_datasets\n",
    "from luminar.utils.cuda import get_best_device\n",
    "from luminar.utils.training import ConvolutionalLayerSpec, LuminarSequenceTrainingConfig\n",
    "from luminar.encoder import LuminarEncoder\n",
    "\n",
    "import numpy as np\n",
    "import glob"
   ]
  },
  {
   "cell_type": "code",
   "execution_count": 3,
   "id": "a9172b7cf1e56309",
   "metadata": {
    "ExecuteTime": {
     "end_time": "2025-07-29T08:28:27.010928Z",
     "start_time": "2025-07-29T08:28:26.959082Z"
    }
   },
   "outputs": [],
   "source": [
    "class Config:\n",
    "    HF_TOKEN: Final[str] = (Path.home() / \".hf_token\").read_text().strip()\n",
    "    #DATASET_PATH: Final[str] = \"liberi-luminaris/PrismAI-encoded-gpt2\"\n",
    "    DATASET_ROOT_PATH: Final[str] = \"/storage/projects/stoeckel/prismai/encoded/fulltext/\"\n",
    "    #DATASET_ROOT_PATH: Final[str] = \"/mnt/c/home/projects/prismAI/data/encoded/fulltext/\"\n",
    "    NUM_INTERMEDIATE_LIKELIHOODS: Final[int] = 13 # gpt2=13, falcon=33\n",
    "    FEATURE_LEN = 512\n",
    "    BATCH_SIZE = 512\n",
    "    SEED = 42\n"
   ]
  },
  {
   "cell_type": "markdown",
   "id": "7a319dd3c792f5ce",
   "metadata": {},
   "source": [
    "## Loading & Preprocessing the datasets\n",
    "\n",
    "Load the datasets for the training."
   ]
  },
  {
   "cell_type": "code",
   "execution_count": 4,
   "id": "60326fc7",
   "metadata": {},
   "outputs": [
    {
     "name": "stderr",
     "output_type": "stream",
     "text": [
      "[nltk_data] Downloading package punkt to\n",
      "[nltk_data]     /home/staff_homes/kboenisc/nltk_data...\n",
      "[nltk_data]   Package punkt is already up-to-date!\n"
     ]
    }
   ],
   "source": [
    "domains = ['student_essays']#, 'student_essays']\n",
    "agents = ['gpt_4o_mini_gemma2_9b']\n",
    "feature_agents = ['gpt2_512'] #, 'falcon_7b_512']\n",
    "\n",
    "luminar_encoder = LuminarEncoder(max_len=Config.FEATURE_LEN)\n",
    "data_service = SequentialDataService(luminar_encoder, Config.BATCH_SIZE, Config.FEATURE_LEN)"
   ]
  },
  {
   "cell_type": "code",
   "execution_count": 6,
   "id": "d6f5d8ba7e620bec",
   "metadata": {
    "ExecuteTime": {
     "end_time": "2025-07-29T16:42:47.459712Z",
     "start_time": "2025-07-29T16:36:44.665665Z"
    }
   },
   "outputs": [
    {
     "name": "stdout",
     "output_type": "stream",
     "text": [
      "Loading dataset from: /storage/projects/stoeckel/prismai/encoded/fulltext/gpt_4o_mini_gemma2_9b/gpt2_512/student_essays\n"
     ]
    },
    {
     "data": {
      "application/vnd.jupyter.widget-view+json": {
       "model_id": "eec6068159e84915b44a6b9eac767492",
       "version_major": 2,
       "version_minor": 0
      },
      "text/plain": [
       "Tokenizing, padding, and aligning sentences:   0%|          | 0/50734 [00:00<?, ? examples/s]"
      ]
     },
     "metadata": {},
     "output_type": "display_data"
    },
    {
     "data": {
      "application/vnd.jupyter.widget-view+json": {
       "model_id": "30abb21734b349bd92ae7576c1ed5f45",
       "version_major": 2,
       "version_minor": 0
      },
      "text/plain": [
       "Tokenizing, padding, and aligning sentences:   0%|          | 0/14496 [00:00<?, ? examples/s]"
      ]
     },
     "metadata": {},
     "output_type": "display_data"
    },
    {
     "data": {
      "application/vnd.jupyter.widget-view+json": {
       "model_id": "f07eedc9e4ec4fbaa87176937a317d15",
       "version_major": 2,
       "version_minor": 0
      },
      "text/plain": [
       "Tokenizing, padding, and aligning sentences:   0%|          | 0/7248 [00:00<?, ? examples/s]"
      ]
     },
     "metadata": {},
     "output_type": "display_data"
    },
    {
     "data": {
      "application/vnd.jupyter.widget-view+json": {
       "model_id": "fe0aa32a7db444c2b8c1abc5eb787ef0",
       "version_major": 2,
       "version_minor": 0
      },
      "text/plain": [
       "Assigning labels to sentence spans:   0%|          | 0/50734 [00:00<?, ? examples/s]"
      ]
     },
     "metadata": {},
     "output_type": "display_data"
    },
    {
     "data": {
      "application/vnd.jupyter.widget-view+json": {
       "model_id": "da01d2282251450dac2c665d0ef9dc8c",
       "version_major": 2,
       "version_minor": 0
      },
      "text/plain": [
       "Assigning labels to sentence spans:   0%|          | 0/14496 [00:00<?, ? examples/s]"
      ]
     },
     "metadata": {},
     "output_type": "display_data"
    },
    {
     "data": {
      "application/vnd.jupyter.widget-view+json": {
       "model_id": "0b246762d2964cd28ddf4d96aa6eac8a",
       "version_major": 2,
       "version_minor": 0
      },
      "text/plain": [
       "Assigning labels to sentence spans:   0%|          | 0/7248 [00:00<?, ? examples/s]"
      ]
     },
     "metadata": {},
     "output_type": "display_data"
    },
    {
     "name": "stdout",
     "output_type": "stream",
     "text": [
      "Loaded dataset for domain 'student_essays' with agent 'gpt_4o_mini_gemma2_9b' and feature agent 'gpt2_512'\n"
     ]
    },
    {
     "data": {
      "text/plain": [
       "{'student_essays': {'gpt_4o_mini_gemma2_9b': {'gpt2_512': DatasetDict({\n",
       "       train: Dataset({\n",
       "           features: ['agent', 'id_sample', 'id_source', 'labels', 'text', 'features', 'tokenized_text', 'sentence_token_spans', 'span_labels'],\n",
       "           num_rows: 50734\n",
       "       })\n",
       "       test: Dataset({\n",
       "           features: ['agent', 'id_sample', 'id_source', 'labels', 'text', 'features', 'tokenized_text', 'sentence_token_spans', 'span_labels'],\n",
       "           num_rows: 14496\n",
       "       })\n",
       "       eval: Dataset({\n",
       "           features: ['agent', 'id_sample', 'id_source', 'labels', 'text', 'features', 'tokenized_text', 'sentence_token_spans', 'span_labels'],\n",
       "           num_rows: 7248\n",
       "       })\n",
       "   })}}}"
      ]
     },
     "execution_count": 6,
     "metadata": {},
     "output_type": "execute_result"
    }
   ],
   "source": [
    "datasets = {}\n",
    "\n",
    "for domain in domains:\n",
    "    for agent in agents:\n",
    "        for feature_agent in feature_agents:\n",
    "            dataset_path = Path(Config.DATASET_ROOT_PATH) / agent / feature_agent / domain\n",
    "\n",
    "            dataset_dict = data_service.load_dataset(dataset_path)\n",
    "\n",
    "            datasets.setdefault(domain, {}).setdefault(agent, {})[feature_agent] = dataset_dict\n",
    "            print(f\"Loaded dataset for domain '{domain}' with agent '{agent}' and feature agent '{feature_agent}'\")\n",
    "\n",
    "datasets"
   ]
  },
  {
   "cell_type": "code",
   "execution_count": 7,
   "id": "98f45ae307339095",
   "metadata": {
    "ExecuteTime": {
     "end_time": "2025-07-29T16:44:27.544084Z",
     "start_time": "2025-07-29T16:44:26.433043Z"
    }
   },
   "outputs": [
    {
     "data": {
      "text/markdown": [
       "\n",
       "**Domain:** `student_essays`\n",
       "**Agent:** `gpt_4o_mini_gemma2_9b`\n",
       "**Feature Agent:** `gpt2_512`\n",
       "\n",
       "**Train:** 50734\n",
       "**Test:** 14496\n",
       "**Eval:** 7248\n",
       "\n",
       "**Example-Features:**\n",
       "`[[4.4132913899375126e-05, 4.203895392974451e-45, 0.0, 0.0, 0.0, 0.0, 0.0, 0.0, 0.0, 0.0, 0.0, 0.0, 0.00015184479707386345], [9.98157247522613e-06, 2.268475629563227e-09, 2.4706817147723825e-10, 2.598772308459729e-10, 4.608947598572222e-11, 2.177385494128714e-10, 7.711160811448015e-13, 6.366168985201537e-13, 2.281021511211531e-17, 9.533206545892253e-25, 7.987888483894126e-31, 0.0, 0.029878340661525726]]...`\n",
       "\n",
       "**Feature-Shape:**\n",
       "`(512, 13)`\n",
       "\n",
       "**Example text:**\n",
       "`[Your Name] [Your Address] [City, State, Zip Code] [Email Address] [Date] The Honorable [Senator's Name] [Senator's Office Address] [City, State, Zip Code] Dear Senator [Senator's Last Name], I hope this letter finds you well. I’m writing to you today as a concerned citizen who’s really worried about the way our presidential elections work. Honestly, I can’t wrap my head around the Electoral College anymore. It feels like an outdated system that just doesn’t represent us, the people. I mean, how is it fair that a candidate can win the presidency without winning the popular vote? It’s like saying my vote doesn’t count just because I live in a state that leans one way or another. That doesn’t seem right, does it? We should all have an equal say in who leads our country, and the popular vote is the only way to truly reflect the will of the people. The Electoral College creates a situation where some votes are more valuable than others, and that’s just plain wrong. It leads to candidates ignoring vast swathes of the country because they know they won’t win those states. Isn’t it time we changed that? We need a system that encourages candidates to engage with all of us, not just the folks in swing states. I urge you to consider advocating for a popular vote system. It’s time for our elections to truly represent the voice of the people. Thank you for your time, and I hope you’ll take my concerns to heart.`\n",
       "\n",
       "**Example-Tokenized Text:**\n",
       "`[[58], [7120], [6530], [60], [685], [7120], [17917], [60], [685], [14941]]...`\n",
       "\n",
       "**Tokenized Text Shape:**\n",
       "`(512, 1)`\n",
       "\n",
       "**Sentence-Token-Spans:**\n",
       "`[[0, 61], [61, 87], [87, 103], [103, 121], [121, 141], [141, 168], [168, 179], [179, 209], [209, 233], [233, 256], [256, 266], [266, 288], [288, 300], [300, 317], [317, 336]]`\n",
       "\n",
       "**Example Sentence-Token Span decoded:**\n",
       "`[Your Name] [Your Address] [City, State, Zip Code] [Email Address] [Date] The Honorable [Senator's Name] [Senator's Office Address] [City, State, Zip Code] Dear Senator [Senator's Last Name], I hope this letter finds you well.`\n",
       "\n",
       "**Example span labels:**\n",
       "`[1, 1, 1, 1, 1, 1, 1, 1, 1, 1, 1, 1, 1, 1, 1]`\n",
       "\n",
       "**Example label:**\n",
       "`1`\n",
       "\n",
       "---\n"
      ],
      "text/plain": [
       "<IPython.core.display.Markdown object>"
      ]
     },
     "metadata": {},
     "output_type": "display_data"
    }
   ],
   "source": [
    "# Sanity check\n",
    "idx = 0\n",
    "for domain, agents_dict in datasets.items():\n",
    "    for agent, feature_agents_dict in agents_dict.items():\n",
    "        for feature_agent, dataset in feature_agents_dict.items():\n",
    "            md = f\"\"\"\n",
    "**Domain:** `{domain}`\n",
    "**Agent:** `{agent}`\n",
    "**Feature Agent:** `{feature_agent}`\n",
    "\n",
    "**Train:** {len(dataset['train'])}\n",
    "**Test:** {len(dataset['test'])}\n",
    "**Eval:** {len(dataset['eval'])}\n",
    "\n",
    "**Example-Features:**\n",
    "`{dataset['train'][idx]['features'][:2]}...`\n",
    "\n",
    "**Feature-Shape:**\n",
    "`{np.asarray(dataset['train'][idx]['features']).shape}`\n",
    "\n",
    "**Example text:**\n",
    "`{dataset['train'][idx]['text']}`\n",
    "\n",
    "**Example-Tokenized Text:**\n",
    "`{dataset['train'][idx]['tokenized_text'][:10]}...`\n",
    "\n",
    "**Tokenized Text Shape:**\n",
    "`{np.asarray(dataset['train'][idx]['tokenized_text']).shape}`\n",
    "\n",
    "**Sentence-Token-Spans:**\n",
    "`{dataset['train'][idx]['sentence_token_spans']}`\n",
    "\n",
    "**Example Sentence-Token Span decoded:**\n",
    "`{luminar_encoder.tokenizer.decode(np.asarray(dataset['train'][idx]['tokenized_text'])[dataset['train'][idx]['sentence_token_spans'][0][0]:dataset['train'][idx]['sentence_token_spans'][0][1]].flatten().tolist())}`\n",
    "\n",
    "**Example span labels:**\n",
    "`{dataset['train'][idx]['span_labels']}`\n",
    "\n",
    "**Example label:**\n",
    "`{dataset['train'][idx]['labels']}`\n",
    "\n",
    "---\n",
    "\"\"\"\n",
    "            display(Markdown(md))"
   ]
  },
  {
   "cell_type": "markdown",
   "id": "51b81189b4cd0958",
   "metadata": {},
   "source": [
    "# Data Loaders\n",
    "\n",
    "Create the data loaders for training and evaluation."
   ]
  },
  {
   "cell_type": "code",
   "execution_count": 8,
   "id": "ebcb886877bdde06",
   "metadata": {
    "ExecuteTime": {
     "end_time": "2025-07-29T18:48:09.246068Z",
     "start_time": "2025-07-29T18:42:24.696784Z"
    }
   },
   "outputs": [
    {
     "name": "stdout",
     "output_type": "stream",
     "text": [
      "Creating datasets for domain: student_essays\n",
      "Train Dataset: 57982\n",
      "Test Dataset: 14496\n",
      "All Train: 57982\n",
      "All Test: 14496\n"
     ]
    }
   ],
   "source": [
    "train_datasets = []\n",
    "test_loaders = []\n",
    "\n",
    "all_train_parts = []\n",
    "all_test_parts = []\n",
    "\n",
    "for domain in domains:\n",
    "    for agent in feature_agents:\n",
    "        print(f\"Creating datasets for domain: {domain}\")\n",
    "\n",
    "        train_dataset, test_dataset, test_loader = data_service.dataset_to_luminar_sequence_dataset(\n",
    "            datasets[domain][\"gpt_4o_mini_gemma2_9b\"][agent]\n",
    "        )\n",
    "\n",
    "        print(f\"Train Dataset: {len(train_dataset)}\")\n",
    "        train_datasets.append((domain, agent, train_dataset))\n",
    "        all_train_parts.append(train_dataset)\n",
    "\n",
    "        print(f\"Test Dataset: {len(test_dataset)}\")\n",
    "        test_loaders.append((domain, agent, test_loader))\n",
    "        all_test_parts.append(test_dataset)\n",
    "\n",
    "# Now concat all\n",
    "all_domains_train_datasets = ConcatDataset(all_train_parts)\n",
    "all_domains_test_dataset = ConcatDataset(all_test_parts)\n",
    "all_domains_test_loader = DataLoader(\n",
    "    all_domains_test_dataset, batch_size=data_service.batch_size, shuffle=False, collate_fn=data_service._collate_fn\n",
    ")\n",
    "\n",
    "print(f\"All Train: {len(all_domains_train_datasets)}\")\n",
    "train_datasets.append((\"all\", \"all\", all_domains_train_datasets))\n",
    "\n",
    "print(f\"All Test: {len(all_domains_test_dataset)}\")\n",
    "test_loaders.append((\"all\", \"all\", all_domains_test_loader))"
   ]
  },
  {
   "cell_type": "markdown",
   "id": "b29e02e97c1f008",
   "metadata": {},
   "source": [
    "# Training\n",
    "\n",
    "Train the model using K-Fold Cross Validation on the training dataset."
   ]
  },
  {
   "cell_type": "code",
   "execution_count": null,
   "id": "2828fd3277e84424",
   "metadata": {
    "ExecuteTime": {
     "end_time": "2025-07-29T19:56:22.860092Z",
     "start_time": "2025-07-29T19:56:21.762495Z"
    }
   },
   "outputs": [
    {
     "name": "stdout",
     "output_type": "stream",
     "text": [
      "LuminarSequenceTrainingConfig(feature_len=512, num_intermediate_likelihoods=13, apply_delta_augmentation=False, apply_product_augmentation=True, conv_layer_shapes=((64, 5, 1), (128, 5, 1), (64, 3, 1)), projection_dim=64, lstm_hidden_dim=64, lstm_layers=1, stack_spans=0, dataset_root_path='/storage/projects/stoeckel/prismai/encoded/fulltext/', models_root_path='/storage/projects/boenisch/PrismAI/models/luminar_sequence/', domain='student_essays', agent='gpt_4o_mini_gemma2_9b', feature_agent='gpt2_512', max_epochs=120, batch_size=512, early_stopping_patience=17, rescale_features=False, kfold=3, learning_rate=0.0007, seed=42)\n"
     ]
    }
   ],
   "source": [
    "from luminar.sequence_trainer import LuminarSequenceTrainer\n",
    "\n",
    "device = get_best_device()\n",
    "\n",
    "config = LuminarSequenceTrainingConfig(**{\n",
    "    \"feature_len\": Config.FEATURE_LEN,\n",
    "    \"num_intermediate_likelihoods\": Config.NUM_INTERMEDIATE_LIKELIHOODS,\n",
    "    \"conv_layer_shapes\": (\n",
    "        ConvolutionalLayerSpec(64, 5),\n",
    "        ConvolutionalLayerSpec(128, 5),\n",
    "        ConvolutionalLayerSpec(64, 3),\n",
    "    ),\n",
    "    \"projection_dim\": 64,\n",
    "    \"lstm_hidden_dim\": 64,\n",
    "    \"lstm_layers\": 1,\n",
    "    \"apply_delta_augmentation\": False,\n",
    "    \"apply_product_augmentation\": False,\n",
    "    \"max_epochs\": 120,\n",
    "    \"kfold\": 3,\n",
    "    \"early_stopping_patience\": 17,\n",
    "    \"learning_rate\": 7e-4,\n",
    "    \"batch_size\": Config.BATCH_SIZE,\n",
    "    \"seed\": Config.SEED,\n",
    "    \"rescale_features\": False,\n",
    "    \"stack_spans\": 0,\n",
    "    \"dataset_root_path\": Config.DATASET_ROOT_PATH\n",
    "})\n",
    "print(config)"
   ]
  },
  {
   "cell_type": "code",
   "execution_count": 13,
   "id": "08f7a50a",
   "metadata": {},
   "outputs": [],
   "source": [
    "log_to_wandb = False"
   ]
  },
  {
   "cell_type": "code",
   "execution_count": 14,
   "id": "93d3186525396281",
   "metadata": {
    "ExecuteTime": {
     "start_time": "2025-07-29T19:56:23.206133Z"
    },
    "jupyter": {
     "is_executing": true
    }
   },
   "outputs": [
    {
     "name": "stdout",
     "output_type": "stream",
     "text": [
      "Training on domain: student_essays\n",
      "Train Dataset Size: 57982\n",
      "Test Dataset Size: 14496\n",
      "\n",
      "========== Fold 1/3 ==========\n",
      "\n",
      "Epoch 1/120\n",
      "Train Loss: 0.6896 | Eval Loss: 0.6913\n",
      "\n",
      "Epoch 2/120\n",
      "Train Loss: 0.6898 | Eval Loss: 0.6889\n",
      "\n",
      "Epoch 3/120\n",
      "Train Loss: 0.6895 | Eval Loss: 0.6889\n",
      "\n",
      "Epoch 4/120\n"
     ]
    },
    {
     "ename": "KeyboardInterrupt",
     "evalue": "",
     "output_type": "error",
     "traceback": [
      "\u001b[31m---------------------------------------------------------------------------\u001b[39m",
      "\u001b[31mKeyboardInterrupt\u001b[39m                         Traceback (most recent call last)",
      "\u001b[36mCell\u001b[39m\u001b[36m \u001b[39m\u001b[32mIn[14]\u001b[39m\u001b[32m, line 35\u001b[39m\n\u001b[32m     19\u001b[39m     run = wandb.init(\n\u001b[32m     20\u001b[39m         project=\u001b[33m\"\u001b[39m\u001b[33mLuminar\u001b[39m\u001b[33m\"\u001b[39m,\n\u001b[32m     21\u001b[39m         config=config.\u001b[34m__dict__\u001b[39m,\n\u001b[32m   (...)\u001b[39m\u001b[32m     24\u001b[39m         name=\u001b[33mf\u001b[39m\u001b[33m\"\u001b[39m\u001b[33mnotebook_\u001b[39m\u001b[38;5;132;01m{\u001b[39;00mconfig.domain\u001b[38;5;132;01m}\u001b[39;00m\u001b[33m_\u001b[39m\u001b[38;5;132;01m{\u001b[39;00mconfig.feature_agent\u001b[38;5;132;01m}\u001b[39;00m\u001b[33m_\u001b[39m\u001b[38;5;132;01m{\u001b[39;00mconfig.feature_agent\u001b[38;5;132;01m}\u001b[39;00m\u001b[33m\"\u001b[39m\n\u001b[32m     25\u001b[39m     )\n\u001b[32m     27\u001b[39m trainer = LuminarSequenceTrainer(train_dataset=train_dataset,\n\u001b[32m     28\u001b[39m                                  test_data_loader = test_loader,\n\u001b[32m     29\u001b[39m                                  collate_fn=data_service._collate_fn,\n\u001b[32m   (...)\u001b[39m\u001b[32m     32\u001b[39m                                  device=device,\n\u001b[32m     33\u001b[39m                                  use_experimental_attention=\u001b[38;5;28;01mTrue\u001b[39;00m)\n\u001b[32m---> \u001b[39m\u001b[32m35\u001b[39m metrics, best_model = \u001b[43mtrainer\u001b[49m\u001b[43m.\u001b[49m\u001b[43mtrain\u001b[49m\u001b[43m(\u001b[49m\u001b[43m)\u001b[49m\n\u001b[32m     36\u001b[39m avg_f1 = metrics.get(\u001b[33m\"\u001b[39m\u001b[33mf1_score\u001b[39m\u001b[33m\"\u001b[39m, \u001b[32m0.0\u001b[39m)\n\u001b[32m     37\u001b[39m \u001b[38;5;28;01mif\u001b[39;00m log_to_wandb:\n",
      "\u001b[36mFile \u001b[39m\u001b[32m~/home/prismAI/PrismAI/src/luminar/sequence_trainer.py:66\u001b[39m, in \u001b[36mLuminarSequenceTrainer.train\u001b[39m\u001b[34m(self)\u001b[39m\n\u001b[32m     62\u001b[39m     model = LuminarSequence(\u001b[38;5;28mself\u001b[39m.config).to(\u001b[38;5;28mself\u001b[39m.device)\n\u001b[32m     64\u001b[39m optimizer = torch.optim.Adam(model.parameters(), lr=\u001b[38;5;28mself\u001b[39m.config.learning_rate)\n\u001b[32m---> \u001b[39m\u001b[32m66\u001b[39m model = \u001b[38;5;28;43mself\u001b[39;49m\u001b[43m.\u001b[49m\u001b[43m_train_and_evaluate\u001b[49m\u001b[43m(\u001b[49m\n\u001b[32m     67\u001b[39m \u001b[43m    \u001b[49m\u001b[43mmodel\u001b[49m\u001b[43m,\u001b[49m\u001b[43m \u001b[49m\u001b[43mtrain_loader\u001b[49m\u001b[43m,\u001b[49m\u001b[43m \u001b[49m\u001b[43meval_loader\u001b[49m\u001b[43m,\u001b[49m\u001b[43m \u001b[49m\u001b[43moptimizer\u001b[49m\u001b[43m,\u001b[49m\u001b[43m \u001b[49m\u001b[38;5;28;43mself\u001b[39;49m\u001b[43m.\u001b[49m\u001b[43mconfig\u001b[49m\u001b[43m.\u001b[49m\u001b[43mmax_epochs\u001b[49m\u001b[43m,\u001b[49m\u001b[43m \u001b[49m\u001b[43mfold\u001b[49m\u001b[43m,\u001b[49m\u001b[43m \u001b[49m\u001b[38;5;28;43mself\u001b[39;49m\u001b[43m.\u001b[49m\u001b[43mconfig\u001b[49m\u001b[43m.\u001b[49m\u001b[43mearly_stopping_patience\u001b[49m\n\u001b[32m     68\u001b[39m \u001b[43m\u001b[49m\u001b[43m)\u001b[49m\n\u001b[32m     70\u001b[39m \u001b[38;5;66;03m# Evaluate and collect fold metrics\u001b[39;00m\n\u001b[32m     71\u001b[39m metrics = \u001b[38;5;28mself\u001b[39m._evaluate_test(model)\n",
      "\u001b[36mFile \u001b[39m\u001b[32m~/home/prismAI/PrismAI/src/luminar/sequence_trainer.py:135\u001b[39m, in \u001b[36mLuminarSequenceTrainer._train_and_evaluate\u001b[39m\u001b[34m(self, model, train_loader, eval_loader, optimizer, epochs, fold, patience)\u001b[39m\n\u001b[32m    132\u001b[39m span_labels = batch[\u001b[33m\"\u001b[39m\u001b[33mspan_labels\u001b[39m\u001b[33m\"\u001b[39m]\n\u001b[32m    134\u001b[39m optimizer.zero_grad()\n\u001b[32m--> \u001b[39m\u001b[32m135\u001b[39m output = \u001b[43mmodel\u001b[49m\u001b[43m(\u001b[49m\u001b[43mfeatures\u001b[49m\u001b[43m,\u001b[49m\u001b[43m \u001b[49m\u001b[43msentence_spans\u001b[49m\u001b[43m,\u001b[49m\u001b[43m \u001b[49m\u001b[43mspan_labels\u001b[49m\u001b[43m=\u001b[49m\u001b[43mspan_labels\u001b[49m\u001b[43m)\u001b[49m\n\u001b[32m    136\u001b[39m loss = output.loss\n\u001b[32m    138\u001b[39m loss.backward()\n",
      "\u001b[36mFile \u001b[39m\u001b[32m~/miniconda3/envs/luminar/lib/python3.12/site-packages/torch/nn/modules/module.py:1751\u001b[39m, in \u001b[36mModule._wrapped_call_impl\u001b[39m\u001b[34m(self, *args, **kwargs)\u001b[39m\n\u001b[32m   1749\u001b[39m     \u001b[38;5;28;01mreturn\u001b[39;00m \u001b[38;5;28mself\u001b[39m._compiled_call_impl(*args, **kwargs)  \u001b[38;5;66;03m# type: ignore[misc]\u001b[39;00m\n\u001b[32m   1750\u001b[39m \u001b[38;5;28;01melse\u001b[39;00m:\n\u001b[32m-> \u001b[39m\u001b[32m1751\u001b[39m     \u001b[38;5;28;01mreturn\u001b[39;00m \u001b[38;5;28;43mself\u001b[39;49m\u001b[43m.\u001b[49m\u001b[43m_call_impl\u001b[49m\u001b[43m(\u001b[49m\u001b[43m*\u001b[49m\u001b[43margs\u001b[49m\u001b[43m,\u001b[49m\u001b[43m \u001b[49m\u001b[43m*\u001b[49m\u001b[43m*\u001b[49m\u001b[43mkwargs\u001b[49m\u001b[43m)\u001b[49m\n",
      "\u001b[36mFile \u001b[39m\u001b[32m~/miniconda3/envs/luminar/lib/python3.12/site-packages/torch/nn/modules/module.py:1762\u001b[39m, in \u001b[36mModule._call_impl\u001b[39m\u001b[34m(self, *args, **kwargs)\u001b[39m\n\u001b[32m   1757\u001b[39m \u001b[38;5;66;03m# If we don't have any hooks, we want to skip the rest of the logic in\u001b[39;00m\n\u001b[32m   1758\u001b[39m \u001b[38;5;66;03m# this function, and just call forward.\u001b[39;00m\n\u001b[32m   1759\u001b[39m \u001b[38;5;28;01mif\u001b[39;00m \u001b[38;5;129;01mnot\u001b[39;00m (\u001b[38;5;28mself\u001b[39m._backward_hooks \u001b[38;5;129;01mor\u001b[39;00m \u001b[38;5;28mself\u001b[39m._backward_pre_hooks \u001b[38;5;129;01mor\u001b[39;00m \u001b[38;5;28mself\u001b[39m._forward_hooks \u001b[38;5;129;01mor\u001b[39;00m \u001b[38;5;28mself\u001b[39m._forward_pre_hooks\n\u001b[32m   1760\u001b[39m         \u001b[38;5;129;01mor\u001b[39;00m _global_backward_pre_hooks \u001b[38;5;129;01mor\u001b[39;00m _global_backward_hooks\n\u001b[32m   1761\u001b[39m         \u001b[38;5;129;01mor\u001b[39;00m _global_forward_hooks \u001b[38;5;129;01mor\u001b[39;00m _global_forward_pre_hooks):\n\u001b[32m-> \u001b[39m\u001b[32m1762\u001b[39m     \u001b[38;5;28;01mreturn\u001b[39;00m \u001b[43mforward_call\u001b[49m\u001b[43m(\u001b[49m\u001b[43m*\u001b[49m\u001b[43margs\u001b[49m\u001b[43m,\u001b[49m\u001b[43m \u001b[49m\u001b[43m*\u001b[49m\u001b[43m*\u001b[49m\u001b[43mkwargs\u001b[49m\u001b[43m)\u001b[49m\n\u001b[32m   1764\u001b[39m result = \u001b[38;5;28;01mNone\u001b[39;00m\n\u001b[32m   1765\u001b[39m called_always_called_hooks = \u001b[38;5;28mset\u001b[39m()\n",
      "\u001b[36mFile \u001b[39m\u001b[32m~/home/prismAI/PrismAI/src/luminar/sequence_classifier.py:369\u001b[39m, in \u001b[36mLuminarSequenceAttention.forward\u001b[39m\u001b[34m(self, features, sentence_spans, span_labels)\u001b[39m\n\u001b[32m    366\u001b[39m \u001b[38;5;28;01mif\u001b[39;00m span_labels \u001b[38;5;129;01mis\u001b[39;00m \u001b[38;5;28;01mNone\u001b[39;00m:\n\u001b[32m    367\u001b[39m     \u001b[38;5;28;01mreturn\u001b[39;00m ModelOutput(logits=logits)\n\u001b[32m--> \u001b[39m\u001b[32m369\u001b[39m flat_labels = \u001b[43mtorch\u001b[49m\u001b[43m.\u001b[49m\u001b[43mcat\u001b[49m\u001b[43m(\u001b[49m\u001b[43m[\u001b[49m\u001b[43mtorch\u001b[49m\u001b[43m.\u001b[49m\u001b[43mtensor\u001b[49m\u001b[43m(\u001b[49m\u001b[43mlabel_seq\u001b[49m\u001b[43m,\u001b[49m\u001b[43m \u001b[49m\u001b[43mdtype\u001b[49m\u001b[43m=\u001b[49m\u001b[43mtorch\u001b[49m\u001b[43m.\u001b[49m\u001b[43mfloat32\u001b[49m\u001b[43m)\u001b[49m\u001b[43m \u001b[49m\u001b[38;5;28;43;01mfor\u001b[39;49;00m\u001b[43m \u001b[49m\u001b[43mlabel_seq\u001b[49m\u001b[43m \u001b[49m\u001b[38;5;129;43;01min\u001b[39;49;00m\u001b[43m \u001b[49m\u001b[43mspan_labels\u001b[49m\u001b[43m]\u001b[49m\u001b[43m)\u001b[49m\u001b[43m.\u001b[49m\u001b[43mto\u001b[49m\u001b[43m(\u001b[49m\u001b[43mlogits\u001b[49m\u001b[43m.\u001b[49m\u001b[43mdevice\u001b[49m\u001b[43m)\u001b[49m\n\u001b[32m    370\u001b[39m loss = \u001b[38;5;28mself\u001b[39m.criterion(logits.view(-\u001b[32m1\u001b[39m), flat_labels.view(-\u001b[32m1\u001b[39m))\n\u001b[32m    371\u001b[39m \u001b[38;5;28;01mreturn\u001b[39;00m ModelOutput(logits=logits, loss=loss)\n",
      "\u001b[31mKeyboardInterrupt\u001b[39m: "
     ]
    }
   ],
   "source": [
    "for train_dataset, test_loader in zip(train_datasets, test_loaders):\n",
    "    config.domain = train_dataset[0]\n",
    "    print(f\"Training on domain: {config.domain}\")\n",
    "    config.feature_agent = train_dataset[1]\n",
    "\n",
    "    # Reset the random seed for reproducibility\n",
    "    torch.manual_seed(Config.SEED)\n",
    "    np.random.seed(Config.SEED)\n",
    "\n",
    "    # Unpack the datasets\n",
    "    train_dataset = train_dataset[2]\n",
    "    test_loader = test_loader[2]\n",
    "\n",
    "    print(f\"Train Dataset Size: {len(train_dataset)}\")\n",
    "    print(f\"Test Dataset Size: {len(test_loader.dataset)}\")\n",
    "\n",
    "    # Init wandb\n",
    "    if log_to_wandb:\n",
    "        run = wandb.init(\n",
    "            project=\"Luminar\",\n",
    "            config=config.__dict__,\n",
    "            reinit=True,\n",
    "            group=f\"notebook_runs\",\n",
    "            name=f\"notebook_{config.domain}_{config.feature_agent}_{config.feature_agent}\"\n",
    "        )\n",
    "\n",
    "    trainer = LuminarSequenceTrainer(train_dataset=train_dataset,\n",
    "                                     test_data_loader = test_loader,\n",
    "                                     collate_fn=data_service._collate_fn,\n",
    "                                     log_to_wandb=log_to_wandb,\n",
    "                                     config=config,\n",
    "                                     device=device,\n",
    "                                     use_experimental_attention=True)\n",
    "    \n",
    "    metrics, best_model = trainer.train()\n",
    "    avg_f1 = metrics.get(\"f1_score\", 0.0)\n",
    "    if log_to_wandb:\n",
    "        wandb.log({\"objective_f1\": avg_f1})\n",
    "\n",
    "    # Save model locally\n",
    "    model_store_path = Path(config.models_root_path) / config.domain / wandb.run.id\n",
    "    best_model.save(model_store_path)\n",
    "\n",
    "    # Upload to wandb as an artifact\n",
    "    if log_to_wandb:\n",
    "        artifact = wandb.Artifact(name=f\"luminar-sequence-{wandb.run.id}\", type=\"model\")\n",
    "        artifact.add_dir(str(model_store_path))\n",
    "        wandb.log_artifact(artifact)\n",
    "        wandb.finish()"
   ]
  },
  {
   "cell_type": "code",
   "execution_count": null,
   "id": "099ad46f",
   "metadata": {},
   "outputs": [],
   "source": []
  }
 ],
 "metadata": {
  "kernelspec": {
   "display_name": "Python 3 (ipykernel)",
   "language": "python",
   "name": "python3"
  },
  "language_info": {
   "codemirror_mode": {
    "name": "ipython",
    "version": 3
   },
   "file_extension": ".py",
   "mimetype": "text/x-python",
   "name": "python",
   "nbconvert_exporter": "python",
   "pygments_lexer": "ipython3",
   "version": "3.12.11"
  }
 },
 "nbformat": 4,
 "nbformat_minor": 5
}
