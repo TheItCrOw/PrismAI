{
 "cells": [
  {
   "metadata": {},
   "cell_type": "markdown",
   "source": [
    "# About\n",
    "\n",
    "Training of LuminarSequenceClassifier on the PrismAI dataset."
   ],
   "id": "f1cac2df18338774"
  },
  {
   "metadata": {
    "ExecuteTime": {
     "end_time": "2025-07-29T08:28:26.762715Z",
     "start_time": "2025-07-29T08:28:25.576944Z"
    }
   },
   "cell_type": "code",
   "source": [
    "%load_ext autoreload\n",
    "%autoreload 2"
   ],
   "id": "66a5cfd8c7d2051e",
   "outputs": [
    {
     "name": "stdout",
     "output_type": "stream",
     "text": [
      "The autoreload extension is already loaded. To reload it, use:\n",
      "  %reload_ext autoreload\n"
     ]
    }
   ],
   "execution_count": 14
  },
  {
   "metadata": {
    "ExecuteTime": {
     "end_time": "2025-07-29T11:36:41.189363Z",
     "start_time": "2025-07-29T11:36:40.007702Z"
    }
   },
   "cell_type": "code",
   "source": [
    "import sys\n",
    "import torch\n",
    "\n",
    "from typing import Final, Callable\n",
    "from pathlib import Path\n",
    "\n",
    "sys.path.insert(0, str(Path().resolve().parent.parent))\n",
    "\n",
    "from tqdm import tqdm\n",
    "from sklearn.metrics import accuracy_score, f1_score\n",
    "from sklearn.model_selection import KFold\n",
    "from torch.utils.data import DataLoader, ConcatDataset\n",
    "from IPython.display import display, Markdown\n",
    "from datasets import load_dataset\n",
    "from numpy._typing import NDArray\n",
    "from torch.utils.data import Dataset, Subset\n",
    "from datasets import DatasetDict\n",
    "from src.luminar.utils.data import get_pad_to_fixed_length_fn, get_matched_datasets\n",
    "from src.luminar.utils.training import ConvolutionalLayerSpec\n",
    "from src.luminar.encoder import LuminarEncoder\n",
    "\n",
    "import numpy as np\n",
    "import glob"
   ],
   "id": "5a16e47050282fde",
   "outputs": [],
   "execution_count": 110
  },
  {
   "metadata": {
    "ExecuteTime": {
     "end_time": "2025-07-29T08:28:27.010928Z",
     "start_time": "2025-07-29T08:28:26.959082Z"
    }
   },
   "cell_type": "code",
   "source": [
    "class Config:\n",
    "    HF_TOKEN: Final[str] = (Path.home() / \".hf_token\").read_text().strip()\n",
    "    #DATASET_PATH: Final[str] = \"liberi-luminaris/PrismAI-encoded-gpt2\"\n",
    "    DATASET_ROOT_PATH: Final[str] = \"/storage/projects/stoeckel/prismai/encoded/fulltext/\"\n",
    "    #DATASET_ROOT_PATH: Final[str] = \"/mnt/c/home/projects/prismAI/data/encoded/fulltext/\"\n",
    "    NUM_INTERMEDIATE_LIKELIHOODS: Final[int] = 13\n",
    "    FEATURE_LEN = 512\n",
    "    SEED = 42\n"
   ],
   "id": "a9172b7cf1e56309",
   "outputs": [],
   "execution_count": 16
  },
  {
   "metadata": {},
   "cell_type": "markdown",
   "source": [
    "## Loading & Preprocessing the datasets\n",
    "\n",
    "Load the datasets for the training."
   ],
   "id": "7a319dd3c792f5ce"
  },
  {
   "metadata": {
    "ExecuteTime": {
     "end_time": "2025-07-29T08:28:27.116580Z",
     "start_time": "2025-07-29T08:28:27.065977Z"
    }
   },
   "cell_type": "code",
   "source": [
    "# We need that to sentence tokenize the text\n",
    "import nltk\n",
    "\n",
    "nltk.download(\"punkt\")\n",
    "from nltk.tokenize import sent_tokenize"
   ],
   "id": "c8c1f57c27d96d42",
   "outputs": [
    {
     "name": "stderr",
     "output_type": "stream",
     "text": [
      "[nltk_data] Downloading package punkt to\n",
      "[nltk_data]     /home/staff_homes/kboenisc/nltk_data...\n",
      "[nltk_data]   Package punkt is already up-to-date!\n"
     ]
    }
   ],
   "execution_count": 17
  },
  {
   "metadata": {
    "ExecuteTime": {
     "end_time": "2025-07-29T13:23:52.985584Z",
     "start_time": "2025-07-29T13:23:51.860274Z"
    }
   },
   "cell_type": "code",
   "source": [
    "def sentence_to_token_spans(text: str, span_min_length : int = -1) -> list[tuple[int, int]]:\n",
    "    \"\"\"Return a list of (start_token_idx, end_token_idx) for each sentence in the text.\"\"\"\n",
    "    sentences = sent_tokenize(text)\n",
    "    spans = []\n",
    "    current_token_idx = 0\n",
    "\n",
    "    for sent in sentences:\n",
    "        tokens = luminar_encoder.tokenize(sent)[\"input_ids\"]\n",
    "        token_count = len(tokens)\n",
    "\n",
    "        start = current_token_idx\n",
    "        end = min(current_token_idx + token_count, Config.FEATURE_LEN)\n",
    "\n",
    "        if start >= Config.FEATURE_LEN:\n",
    "            break  # Stop if padding region or overflow\n",
    "        # Testing: only take spans of a minimal length\n",
    "        if end - start > span_min_length:\n",
    "            spans.append((start, end))\n",
    "        current_token_idx = end\n",
    "\n",
    "    return spans\n"
   ],
   "id": "5bfc20f0f811508",
   "outputs": [],
   "execution_count": 131
  },
  {
   "metadata": {
    "ExecuteTime": {
     "end_time": "2025-07-29T16:36:42.537922Z",
     "start_time": "2025-07-29T16:36:41.512138Z"
    }
   },
   "cell_type": "code",
   "source": [
    "domains = ['bundestag', 'student_essays']\n",
    "agents = ['gpt_4o_mini_gemma2_9b']\n",
    "feature_agents = ['gpt2_512']\n",
    "\n",
    "luminar_encoder = LuminarEncoder(max_len=Config.FEATURE_LEN)"
   ],
   "id": "7ae3dbbad3613837",
   "outputs": [],
   "execution_count": 208
  },
  {
   "metadata": {
    "ExecuteTime": {
     "end_time": "2025-07-29T16:42:47.459712Z",
     "start_time": "2025-07-29T16:36:44.665665Z"
    }
   },
   "cell_type": "code",
   "source": [
    "datasets = {}\n",
    "\n",
    "pad_to_fixed_length: Callable[[NDArray], NDArray] = get_pad_to_fixed_length_fn(Config.FEATURE_LEN)\n",
    "\n",
    "for domain in domains:\n",
    "    for agent in agents:\n",
    "        for feature_agent in feature_agents:\n",
    "            dataset_path = Path(Config.DATASET_ROOT_PATH) / agent / feature_agent / domain\n",
    "\n",
    "            if not dataset_path.exists():\n",
    "                raise FileNotFoundError(f\"Dataset path {dataset_path} does not exist.\")\n",
    "\n",
    "            data_files = {\n",
    "                \"train\": sorted(str(f) for f in dataset_path.glob(\"train/*.arrow\")),\n",
    "                \"test\": sorted(str(f) for f in dataset_path.glob(\"test/*.arrow\")),\n",
    "                \"eval\": sorted(str(f) for f in dataset_path.glob(\"eval/*.arrow\")),\n",
    "            }\n",
    "            data_files = {k: v for k, v in data_files.items() if v}\n",
    "\n",
    "            # These datasets are already matched, so we can load them directly\n",
    "            # We need the tokenized text since we label sequences based on sentences.\n",
    "            dataset_dict = (\n",
    "                load_dataset(\n",
    "                    \"arrow\",\n",
    "                    data_files=data_files,\n",
    "                )\n",
    "                .map(\n",
    "                    lambda batch: {\n",
    "                        \"tokenized_text\": [\n",
    "                            pad_to_fixed_length(\n",
    "                                np.array(luminar_encoder.tokenize(t)[\"input_ids\"]).reshape(-1, 1)\n",
    "                            )\n",
    "                            for t in batch[\"text\"]\n",
    "                        ],\n",
    "                        \"sentence_token_spans\": [\n",
    "                            sentence_to_token_spans(t)\n",
    "                            for t in batch[\"text\"]\n",
    "                        ],\n",
    "                    },\n",
    "                    batched=True,\n",
    "                    desc=\"Tokenizing, padding, and aligning sentences\"\n",
    "                )\n",
    "                .map(\n",
    "                    lambda batch: {\n",
    "                        \"span_labels\": [\n",
    "                            [label] * len(spans)\n",
    "                            for label, spans in zip(batch[\"labels\"], batch[\"sentence_token_spans\"])\n",
    "                        ]\n",
    "                    },\n",
    "                    batched=True,\n",
    "                    desc=\"Assigning labels to sentence spans\"\n",
    "                )\n",
    "            )\n",
    "\n",
    "            datasets.setdefault(domain, {}).setdefault(agent, {})[feature_agent] = dataset_dict\n",
    "            print(f\"Loaded dataset for domain '{domain}' with agent '{agent}' and feature agent '{feature_agent}'\")\n",
    "\n",
    "datasets"
   ],
   "id": "d6f5d8ba7e620bec",
   "outputs": [
    {
     "data": {
      "text/plain": [
       "Generating train split: 0 examples [00:00, ? examples/s]"
      ],
      "application/vnd.jupyter.widget-view+json": {
       "version_major": 2,
       "version_minor": 0,
       "model_id": "d983be714c7b4a789945c0677fbf2ab3"
      }
     },
     "metadata": {},
     "output_type": "display_data"
    },
    {
     "data": {
      "text/plain": [
       "Generating test split: 0 examples [00:00, ? examples/s]"
      ],
      "application/vnd.jupyter.widget-view+json": {
       "version_major": 2,
       "version_minor": 0,
       "model_id": "38721a395d554f8b892d127a5b4e65dd"
      }
     },
     "metadata": {},
     "output_type": "display_data"
    },
    {
     "data": {
      "text/plain": [
       "Generating eval split: 0 examples [00:00, ? examples/s]"
      ],
      "application/vnd.jupyter.widget-view+json": {
       "version_major": 2,
       "version_minor": 0,
       "model_id": "f057fe25008c4950b097cf6bbeb7617f"
      }
     },
     "metadata": {},
     "output_type": "display_data"
    },
    {
     "data": {
      "text/plain": [
       "Tokenizing, padding, and aligning sentences:   0%|          | 0/14078 [00:00<?, ? examples/s]"
      ],
      "application/vnd.jupyter.widget-view+json": {
       "version_major": 2,
       "version_minor": 0,
       "model_id": "b0552d277fef4a61b042a312c36e84a1"
      }
     },
     "metadata": {},
     "output_type": "display_data"
    },
    {
     "data": {
      "text/plain": [
       "Tokenizing, padding, and aligning sentences:   0%|          | 0/4024 [00:00<?, ? examples/s]"
      ],
      "application/vnd.jupyter.widget-view+json": {
       "version_major": 2,
       "version_minor": 0,
       "model_id": "cf14c126a2ab4bcd9431dc5d6ccd0b99"
      }
     },
     "metadata": {},
     "output_type": "display_data"
    },
    {
     "data": {
      "text/plain": [
       "Tokenizing, padding, and aligning sentences:   0%|          | 0/2012 [00:00<?, ? examples/s]"
      ],
      "application/vnd.jupyter.widget-view+json": {
       "version_major": 2,
       "version_minor": 0,
       "model_id": "1827268808d5465e9a327c2e0fc471a5"
      }
     },
     "metadata": {},
     "output_type": "display_data"
    },
    {
     "data": {
      "text/plain": [
       "Assigning labels to sentence spans:   0%|          | 0/14078 [00:00<?, ? examples/s]"
      ],
      "application/vnd.jupyter.widget-view+json": {
       "version_major": 2,
       "version_minor": 0,
       "model_id": "93dce34c85624054a8698db54aa841c0"
      }
     },
     "metadata": {},
     "output_type": "display_data"
    },
    {
     "data": {
      "text/plain": [
       "Assigning labels to sentence spans:   0%|          | 0/4024 [00:00<?, ? examples/s]"
      ],
      "application/vnd.jupyter.widget-view+json": {
       "version_major": 2,
       "version_minor": 0,
       "model_id": "2194cc8ad0d04ae490a4499a8b728214"
      }
     },
     "metadata": {},
     "output_type": "display_data"
    },
    {
     "data": {
      "text/plain": [
       "Assigning labels to sentence spans:   0%|          | 0/2012 [00:00<?, ? examples/s]"
      ],
      "application/vnd.jupyter.widget-view+json": {
       "version_major": 2,
       "version_minor": 0,
       "model_id": "0e935fc3622e44e7926c1e08534eb4d3"
      }
     },
     "metadata": {},
     "output_type": "display_data"
    },
    {
     "name": "stdout",
     "output_type": "stream",
     "text": [
      "Loaded dataset for domain 'bundestag' with agent 'gpt_4o_mini_gemma2_9b' and feature agent 'gpt2_512'\n"
     ]
    },
    {
     "data": {
      "text/plain": [
       "Tokenizing, padding, and aligning sentences:   0%|          | 0/50734 [00:00<?, ? examples/s]"
      ],
      "application/vnd.jupyter.widget-view+json": {
       "version_major": 2,
       "version_minor": 0,
       "model_id": "5bbba06f025f43dab3363b362d5e50f8"
      }
     },
     "metadata": {},
     "output_type": "display_data"
    },
    {
     "data": {
      "text/plain": [
       "Tokenizing, padding, and aligning sentences:   0%|          | 0/14496 [00:00<?, ? examples/s]"
      ],
      "application/vnd.jupyter.widget-view+json": {
       "version_major": 2,
       "version_minor": 0,
       "model_id": "aaf83137dd4b4e2e90ccb9fa5abddbad"
      }
     },
     "metadata": {},
     "output_type": "display_data"
    },
    {
     "data": {
      "text/plain": [
       "Tokenizing, padding, and aligning sentences:   0%|          | 0/7248 [00:00<?, ? examples/s]"
      ],
      "application/vnd.jupyter.widget-view+json": {
       "version_major": 2,
       "version_minor": 0,
       "model_id": "1e51be3f9f9d4c7c893ea02b0dd78d13"
      }
     },
     "metadata": {},
     "output_type": "display_data"
    },
    {
     "data": {
      "text/plain": [
       "Assigning labels to sentence spans:   0%|          | 0/50734 [00:00<?, ? examples/s]"
      ],
      "application/vnd.jupyter.widget-view+json": {
       "version_major": 2,
       "version_minor": 0,
       "model_id": "8bc0fbb68f2349f49ef6d07b74ff6cb6"
      }
     },
     "metadata": {},
     "output_type": "display_data"
    },
    {
     "data": {
      "text/plain": [
       "Assigning labels to sentence spans:   0%|          | 0/14496 [00:00<?, ? examples/s]"
      ],
      "application/vnd.jupyter.widget-view+json": {
       "version_major": 2,
       "version_minor": 0,
       "model_id": "7bb44bf015854efa8163537271aba214"
      }
     },
     "metadata": {},
     "output_type": "display_data"
    },
    {
     "data": {
      "text/plain": [
       "Assigning labels to sentence spans:   0%|          | 0/7248 [00:00<?, ? examples/s]"
      ],
      "application/vnd.jupyter.widget-view+json": {
       "version_major": 2,
       "version_minor": 0,
       "model_id": "c470ca8f09004395820e50e80c8ef402"
      }
     },
     "metadata": {},
     "output_type": "display_data"
    },
    {
     "name": "stdout",
     "output_type": "stream",
     "text": [
      "Loaded dataset for domain 'student_essays' with agent 'gpt_4o_mini_gemma2_9b' and feature agent 'gpt2_512'\n"
     ]
    },
    {
     "data": {
      "text/plain": [
       "{'bundestag': {'gpt_4o_mini_gemma2_9b': {'gpt2_512': DatasetDict({\n",
       "       train: Dataset({\n",
       "           features: ['agent', 'id_sample', 'id_source', 'labels', 'text', 'features', 'tokenized_text', 'sentence_token_spans', 'span_labels'],\n",
       "           num_rows: 14078\n",
       "       })\n",
       "       test: Dataset({\n",
       "           features: ['agent', 'id_sample', 'id_source', 'labels', 'text', 'features', 'tokenized_text', 'sentence_token_spans', 'span_labels'],\n",
       "           num_rows: 4024\n",
       "       })\n",
       "       eval: Dataset({\n",
       "           features: ['agent', 'id_sample', 'id_source', 'labels', 'text', 'features', 'tokenized_text', 'sentence_token_spans', 'span_labels'],\n",
       "           num_rows: 2012\n",
       "       })\n",
       "   })}},\n",
       " 'student_essays': {'gpt_4o_mini_gemma2_9b': {'gpt2_512': DatasetDict({\n",
       "       train: Dataset({\n",
       "           features: ['agent', 'id_sample', 'id_source', 'labels', 'text', 'features', 'tokenized_text', 'sentence_token_spans', 'span_labels'],\n",
       "           num_rows: 50734\n",
       "       })\n",
       "       test: Dataset({\n",
       "           features: ['agent', 'id_sample', 'id_source', 'labels', 'text', 'features', 'tokenized_text', 'sentence_token_spans', 'span_labels'],\n",
       "           num_rows: 14496\n",
       "       })\n",
       "       eval: Dataset({\n",
       "           features: ['agent', 'id_sample', 'id_source', 'labels', 'text', 'features', 'tokenized_text', 'sentence_token_spans', 'span_labels'],\n",
       "           num_rows: 7248\n",
       "       })\n",
       "   })}}}"
      ]
     },
     "execution_count": 209,
     "metadata": {},
     "output_type": "execute_result"
    }
   ],
   "execution_count": 209
  },
  {
   "metadata": {
    "ExecuteTime": {
     "end_time": "2025-07-29T16:44:27.544084Z",
     "start_time": "2025-07-29T16:44:26.433043Z"
    }
   },
   "cell_type": "code",
   "source": [
    "# Sanity check\n",
    "idx = 0\n",
    "for domain, agents_dict in datasets.items():\n",
    "    for agent, feature_agents_dict in agents_dict.items():\n",
    "        for feature_agent, dataset in feature_agents_dict.items():\n",
    "            md = f\"\"\"\n",
    "**Domain:** `{domain}`\n",
    "**Agent:** `{agent}`\n",
    "**Feature Agent:** `{feature_agent}`\n",
    "\n",
    "**Train:** {len(dataset['train'])}\n",
    "**Test:** {len(dataset['test'])}\n",
    "**Eval:** {len(dataset['eval'])}\n",
    "\n",
    "**Example-Features:**\n",
    "`{dataset['train'][idx]['features'][:2]}...`\n",
    "\n",
    "**Feature-Shape:**\n",
    "`{np.asarray(dataset['train'][idx]['features']).shape}`\n",
    "\n",
    "**Example text:**\n",
    "`{dataset['train'][idx]['text']}`\n",
    "\n",
    "**Example-Tokenized Text:**\n",
    "`{dataset['train'][idx]['tokenized_text'][:10]}...`\n",
    "\n",
    "**Tokenized Text Shape:**\n",
    "`{np.asarray(dataset['train'][idx]['tokenized_text']).shape}`\n",
    "\n",
    "**Sentence-Token-Spans:**\n",
    "`{dataset['train'][idx]['sentence_token_spans']}`\n",
    "\n",
    "**Example Sentence-Token Span decoded:**\n",
    "`{luminar_encoder.tokenizer.decode(np.asarray(dataset['train'][idx]['tokenized_text'])[dataset['train'][idx]['sentence_token_spans'][0][0]:dataset['train'][idx]['sentence_token_spans'][0][1]].flatten().tolist())}`\n",
    "\n",
    "**Example span labels:**\n",
    "`{dataset['train'][idx]['span_labels']}`\n",
    "\n",
    "**Example label:**\n",
    "`{dataset['train'][idx]['labels']}`\n",
    "\n",
    "---\n",
    "\"\"\"\n",
    "            display(Markdown(md))"
   ],
   "id": "98f45ae307339095",
   "outputs": [
    {
     "data": {
      "text/plain": [
       "<IPython.core.display.Markdown object>"
      ],
      "text/markdown": "\n**Domain:** `bundestag`\n**Agent:** `gpt_4o_mini_gemma2_9b`\n**Feature Agent:** `gpt2_512`\n\n**Train:** 14078\n**Test:** 4024\n**Eval:** 2012\n\n**Example-Features:**\n`[[1.8125965652870946e-05, 0.0, 0.0, 0.0, 0.0, 0.0, 0.0, 0.0, 0.0, 0.0, 0.0, 0.0, 0.00021406936866696924], [1.058023485711601e-06, 6.257003803966654e-08, 1.0760977176005326e-07, 1.8288755398998546e-08, 5.383418155702202e-10, 4.788487661944174e-11, 1.5573458321538336e-13, 2.799126584192487e-17, 1.2352709805983406e-22, 1.2212475851755014e-28, 6.798245356840774e-40, 0.0, 0.00011042043479392305]]...`\n\n**Feature-Shape:**\n`(512, 13)`\n\n**Example text:**\n`Sehr geehrte Damen und Herren, heute stehen wir hier im Deutschen Bundestag, um über ein Thema zu diskutieren, das für unsere Gesellschaft von entscheidender Bedeutung ist: die Gesundheitspolitik in Deutschland. Die Herausforderungen, vor denen unser Gesundheitssystem steht, sind nicht nur vielschichtig, sondern auch von drängender Aktualität, insbesondere im Kontext der COVID-19-Pandemie und ihrer weitreichenden Folgen. Es ist an der Zeit, dass wir uns den Fragen der Finanzierung und der strukturellen Reformen stellen, die notwendig sind, um ein Gesundheitssystem zu gewährleisten, das allen Bürgerinnen und Bürgern zugutekommt. Die Pandemie hat nicht nur die Schwächen unseres Gesundheitssystems offengelegt, sondern auch die Dringlichkeit von Reformen unterstrichen. Wir haben erlebt, wie überlastet unsere Krankenhäuser waren, wie das Pflegepersonal am Limit seiner Belastbarkeit operierte und wie die fehlende Ausstattung in vielen Einrichtungen zu einem echten Problem wurde. Diese Herausforderungen sind nicht neu, sie sind jedoch durch die Pandemie in den Fokus gerückt worden. Wir können nicht länger ignorieren, dass wir in der Vergangenheit versäumt haben, in die Zukunft unserer Gesundheitsversorgung zu investieren. Ein zentraler Punkt in dieser Debatte ist die Finanzierung des Gesundheitssystems. Der Gesundheitsfonds, der ursprünglich geschaffen wurde, um die Finanzierung der gesetzlichen Krankenversicherung zu stabilisieren, steht heute vor ernsthaften Herausforderungen. Die steigenden Kosten im Gesundheitswesen, die durch die COVID-19-Pandemie noch verstärkt wurden, erfordern ein Umdenken in der Finanzierungsstrategie. Wir müssen sicherstellen, dass die Mittel dort ankommen, wo sie am dringendsten benötigt werden – in den Kliniken, bei den Pflegekräften und in der Prävention. Die Bundesregierung hat in der Vergangenheit zahlreiche Maßnahmen ergriffen, um die finanziellen Belastungen während der Pandemie abzufedern. Doch ich frage Sie: Reichen diese Maßnahmen aus? Sind wir bereit, die Lehren aus dieser Krise zu ziehen und die notwendigen Schritte zu unternehmen, um unser Gesundheitssystem nachhaltig zu stärken? Ich bin der Überzeugung, dass wir nicht nur kurzfristige Lösungen suchen dürfen, sondern auch langfristige Strategien entwickeln müssen, die die strukturellen Probleme angehen. Ein weiterer Aspekt, den wir nicht außer Acht lassen dürfen, ist die Digitalisierung im Gesundheitswesen. Die Pandemie hat uns gezeigt, wie wichtig digitale Lösungen sind, um die Patientenversorgung zu verbessern und den Austausch von Informationen zu erleichtern. Dennoch stehen wir vor der Herausforderung, dass viele Einrichtungen nicht ausreichend digitalisiert sind. Hier müssen wir investieren, um die digitale Infrastruktur auszubauen und sicherzustellen, dass alle Bürgerinnen und Bürger von den Vorteilen der Digitalisierung profitieren können. Es ist auch unerlässlich, dass wir die Rolle der Pflegekräfte in unserer Gesellschaft neu bewerten. Die Pandemie hat uns eindringlich vor Augen geführt, wie wichtig das Pflegepersonal für die Funktionsfähigkeit unseres Gesundheitssystems ist. Dennoch sehen wir, dass die Arbeitsbedingungen und die Bezahlung in vielen Bereichen unzureichend sind. Wir müssen die Wertschätzung für diese Berufe erhöhen und die Rahmenbedingungen so gestalten, dass Pflegekräfte ihre wichtige Arbeit unter würdigen Bedingungen leisten können. Darüber hinaus müssen wir auch die Prävention in den Fokus rücken. Die COVID-19-Pandemie hat uns gelehrt, wie wichtig es ist, frühzeitig zu handeln, um Gesundheitsrisiken zu minimieren. Investitionen in präventive Maßnahmen sind nicht nur eine Frage der Gerechtigkeit, sondern auch eine ökonomische Notwendigkeit. Wir sollten uns nicht nur auf die Behandlung von Krankheiten konzentrieren, sondern auch auf deren Verhinderung. Hierzu gehört auch die Förderung von gesundheitsbewusstem Verhalten in der Bevölkerung und der Zugang zu Informationen über gesunde Lebensweisen. Ich möchte auch die Bedeutung der Zusammenarbeit zwischen Bund, Ländern und Kommunen betonen. Nur wenn wir gemeinsam an einem Strang ziehen, können wir die Herausforderungen, vor denen unser Gesundheitssystem steht, bewältigen. Es ist wichtig, dass wir die verschiedenen Akteure im Gesundheitswesen – von den Ärzten über die Krankenhäuser bis hin zu den Pflegeeinrichtungen – in den Reformprozess einbeziehen. Nur so können wir sicherstellen, dass die Lösungen, die wir entwickeln, auch tatsächlich den Bedürfnissen der Menschen entsprechen. Abschließend möchte ich betonen, dass wir jetzt die Chance haben, die Weichen für die Zukunft unseres Gesundheitssystems zu stellen. Lassen Sie uns diese Gelegenheit nutzen, um die notwendigen Reformen einzuleiten und ein Gesundheitssystem zu schaffen, das nicht nur auf Krisen reagiert, sondern proaktiv handelt. Wir müssen die Herausforderungen annehmen und gemeinsam für ein Gesundheitssystem kämpfen, das allen Bürgerinnen und Bürgern gerecht wird. Ich fordere Sie alle auf, sich an dieser wichtigen Debatte zu beteiligen. Lassen Sie uns gemeinsam für eine bessere Gesundheitspolitik in Deutschland eintreten, die den Menschen in den Mittelpunkt stellt und die Herausforderungen der Zukunft aktiv angeht. Vielen Dank für Ihre Aufmerksamkeit.`\n\n**Example-Tokenized Text:**\n`[[4653], [11840], [308], [1453], [11840], [660], [5245], [268], [3318], [2332]]...`\n\n**Tokenized Text Shape:**\n`(512, 1)`\n\n**Sentence-Token-Spans:**\n`[[0, 78], [78, 158], [158, 237], [237, 283], [283, 360], [360, 401], [401, 455], [455, 484], [484, 512]]`\n\n**Example Sentence-Token Span decoded:**\n`Sehr geehrte Damen und Herren, heute stehen wir hier im Deutschen Bundestag, um über ein Thema zu diskutieren, das für unsere Gesellschaft von entscheidender Bedeutung ist: die Gesundheitspolitik in Deutschland.`\n\n**Example span labels:**\n`[1, 1, 1, 1, 1, 1, 1, 1, 1]`\n\n**Example label:**\n`1`\n\n---\n"
     },
     "metadata": {},
     "output_type": "display_data"
    },
    {
     "data": {
      "text/plain": [
       "<IPython.core.display.Markdown object>"
      ],
      "text/markdown": "\n**Domain:** `student_essays`\n**Agent:** `gpt_4o_mini_gemma2_9b`\n**Feature Agent:** `gpt2_512`\n\n**Train:** 50734\n**Test:** 14496\n**Eval:** 7248\n\n**Example-Features:**\n`[[4.4132913899375126e-05, 4.203895392974451e-45, 0.0, 0.0, 0.0, 0.0, 0.0, 0.0, 0.0, 0.0, 0.0, 0.0, 0.00015184479707386345], [9.98157247522613e-06, 2.268475629563227e-09, 2.4706817147723825e-10, 2.598772308459729e-10, 4.608947598572222e-11, 2.177385494128714e-10, 7.711160811448015e-13, 6.366168985201537e-13, 2.281021511211531e-17, 9.533206545892253e-25, 7.987888483894126e-31, 0.0, 0.029878340661525726]]...`\n\n**Feature-Shape:**\n`(512, 13)`\n\n**Example text:**\n`[Your Name] [Your Address] [City, State, Zip Code] [Email Address] [Date] The Honorable [Senator's Name] [Senator's Office Address] [City, State, Zip Code] Dear Senator [Senator's Last Name], I hope this letter finds you well. I’m writing to you today as a concerned citizen who’s really worried about the way our presidential elections work. Honestly, I can’t wrap my head around the Electoral College anymore. It feels like an outdated system that just doesn’t represent us, the people. I mean, how is it fair that a candidate can win the presidency without winning the popular vote? It’s like saying my vote doesn’t count just because I live in a state that leans one way or another. That doesn’t seem right, does it? We should all have an equal say in who leads our country, and the popular vote is the only way to truly reflect the will of the people. The Electoral College creates a situation where some votes are more valuable than others, and that’s just plain wrong. It leads to candidates ignoring vast swathes of the country because they know they won’t win those states. Isn’t it time we changed that? We need a system that encourages candidates to engage with all of us, not just the folks in swing states. I urge you to consider advocating for a popular vote system. It’s time for our elections to truly represent the voice of the people. Thank you for your time, and I hope you’ll take my concerns to heart.`\n\n**Example-Tokenized Text:**\n`[[58], [7120], [6530], [60], [685], [7120], [17917], [60], [685], [14941]]...`\n\n**Tokenized Text Shape:**\n`(512, 1)`\n\n**Sentence-Token-Spans:**\n`[[0, 61], [61, 87], [87, 103], [103, 121], [121, 141], [141, 168], [168, 179], [179, 209], [209, 233], [233, 256], [256, 266], [266, 288], [288, 300], [300, 317], [317, 336]]`\n\n**Example Sentence-Token Span decoded:**\n`[Your Name] [Your Address] [City, State, Zip Code] [Email Address] [Date] The Honorable [Senator's Name] [Senator's Office Address] [City, State, Zip Code] Dear Senator [Senator's Last Name], I hope this letter finds you well.`\n\n**Example span labels:**\n`[1, 1, 1, 1, 1, 1, 1, 1, 1, 1, 1, 1, 1, 1, 1]`\n\n**Example label:**\n`1`\n\n---\n"
     },
     "metadata": {},
     "output_type": "display_data"
    }
   ],
   "execution_count": 211
  },
  {
   "metadata": {},
   "cell_type": "markdown",
   "source": [
    "# Data Loaders\n",
    "\n",
    "Create the data loaders for training and evaluation."
   ],
   "id": "51b81189b4cd0958"
  },
  {
   "metadata": {
    "ExecuteTime": {
     "end_time": "2025-07-29T16:44:32.437851Z",
     "start_time": "2025-07-29T16:44:32.389216Z"
    }
   },
   "cell_type": "code",
   "source": [
    "class LuminarSequenceDataset(Dataset):\n",
    "    def __init__(self, dataset, feature_key=\"features\"):\n",
    "        self.samples = []\n",
    "        for example in dataset:\n",
    "            spans = example[\"sentence_token_spans\"]\n",
    "            features = torch.tensor(example[feature_key])  # (seq_len, feature_dim)\n",
    "            labels = example[\"span_labels\"]\n",
    "            self.samples.append({\n",
    "                \"features\": features,\n",
    "                \"sentence_spans\": spans,\n",
    "                \"span_labels\": labels\n",
    "            })\n",
    "\n",
    "    def __len__(self):\n",
    "        return len(self.samples)\n",
    "\n",
    "    def __getitem__(self, idx):\n",
    "        return self.samples[idx]\n",
    "\n",
    "\n",
    "def collate_fn(batch):\n",
    "    features = [item[\"features\"] for item in batch]\n",
    "    sentence_spans = [item[\"sentence_spans\"] for item in batch]\n",
    "    span_labels = [item[\"span_labels\"] for item in batch]\n",
    "    features = torch.stack(features)\n",
    "    return {\n",
    "        \"features\": features,\n",
    "        \"sentence_spans\": sentence_spans,\n",
    "        \"span_labels\": span_labels\n",
    "    }"
   ],
   "id": "d50cd8ab23c00195",
   "outputs": [],
   "execution_count": 212
  },
  {
   "metadata": {
    "ExecuteTime": {
     "end_time": "2025-07-29T18:48:09.246068Z",
     "start_time": "2025-07-29T18:42:24.696784Z"
    }
   },
   "cell_type": "code",
   "source": [
    "from torch.utils.data import ConcatDataset, DataLoader\n",
    "\n",
    "train_datasets = []\n",
    "test_loaders = []\n",
    "\n",
    "all_train_parts = []\n",
    "all_test_parts = []\n",
    "\n",
    "for domain in domains:\n",
    "    print(f\"Creating datasets for domain: {domain}\")\n",
    "\n",
    "    # Merge train and eval for cross-validation\n",
    "    train_dataset = LuminarSequenceDataset(\n",
    "        ConcatDataset([\n",
    "            datasets[domain][\"gpt_4o_mini_gemma2_9b\"][\"gpt2_512\"][\"train\"],\n",
    "            datasets[domain][\"gpt_4o_mini_gemma2_9b\"][\"gpt2_512\"][\"eval\"]\n",
    "        ])\n",
    "    )\n",
    "    print(f\"Train Dataset: {len(train_dataset)}\")\n",
    "    train_datasets.append((domain, train_dataset))\n",
    "    all_train_parts.append(train_dataset)\n",
    "\n",
    "    # Prepare test loader\n",
    "    test_dataset = LuminarSequenceDataset(\n",
    "        datasets[domain][\"gpt_4o_mini_gemma2_9b\"][\"gpt2_512\"][\"test\"]\n",
    "    )\n",
    "    test_loader = DataLoader(test_dataset, batch_size=64, shuffle=False, collate_fn=collate_fn)\n",
    "    print(f\"Test Dataset: {len(test_dataset)}\")\n",
    "    test_loaders.append((domain, test_loader))\n",
    "    all_test_parts.append(test_dataset)\n",
    "\n",
    "# Now concat all\n",
    "all_domains_train_datasets = ConcatDataset(all_train_parts)\n",
    "all_domains_test_dataset = ConcatDataset(all_test_parts)\n",
    "all_domains_test_loader = DataLoader(all_domains_test_dataset, batch_size=64, shuffle=False, collate_fn=collate_fn)\n",
    "\n",
    "print(f\"All Train: {len(all_domains_train_datasets)}\")\n",
    "train_datasets.append((\"all\", all_domains_train_datasets))\n",
    "\n",
    "print(f\"All Test: {len(all_domains_test_dataset)}\")\n",
    "test_loaders.append((\"all\", all_domains_test_loader))\n"
   ],
   "id": "ebcb886877bdde06",
   "outputs": [
    {
     "name": "stdout",
     "output_type": "stream",
     "text": [
      "Creating datasets for domain: bundestag\n",
      "Train Dataset: 16090\n",
      "Test Dataset: 4024\n",
      "Creating datasets for domain: student_essays\n",
      "Train Dataset: 57982\n",
      "Test Dataset: 14496\n",
      "All Train: 74072\n",
      "All Test: 18520\n"
     ]
    }
   ],
   "execution_count": 220
  },
  {
   "metadata": {
    "ExecuteTime": {
     "end_time": "2025-07-29T18:48:10.271402Z",
     "start_time": "2025-07-29T18:48:09.436519Z"
    }
   },
   "cell_type": "code",
   "source": [
    "def evaluate_metrics(model, data_loader, device):\n",
    "    model.eval()\n",
    "    all_preds = []\n",
    "    all_labels = []\n",
    "    with torch.no_grad():\n",
    "        for batch in data_loader:\n",
    "            features = batch[\"features\"].to(device)\n",
    "            sentence_spans = batch[\"sentence_spans\"]\n",
    "            span_labels = batch[\"span_labels\"]\n",
    "\n",
    "            output = model(features, sentence_spans)\n",
    "            probs = torch.sigmoid(output.logits).view(-1).cpu().numpy()\n",
    "            preds = (probs > 0.5).astype(int)\n",
    "\n",
    "            labels = torch.cat([torch.tensor(lbl, dtype=torch.int) for lbl in span_labels]).cpu().numpy()\n",
    "            all_preds.extend(preds)\n",
    "            all_labels.extend(labels)\n",
    "    acc = accuracy_score(all_labels, all_preds)\n",
    "    f1 = f1_score(all_labels, all_preds)\n",
    "    return acc, f1\n",
    "\n",
    "\n",
    "def evaluate(model, eval_loader, device):\n",
    "    model.eval()\n",
    "    total_loss = 0\n",
    "    with torch.no_grad():\n",
    "        for batch in eval_loader:\n",
    "            features = batch[\"features\"].to(device)\n",
    "            sentence_spans = batch[\"sentence_spans\"]\n",
    "            span_labels = batch[\"span_labels\"]\n",
    "\n",
    "            output = model(features, sentence_spans, span_labels=span_labels)\n",
    "            loss = output.loss\n",
    "            total_loss += loss.item()\n",
    "    avg_loss = total_loss / len(eval_loader)\n",
    "    return avg_loss\n",
    "\n",
    "\n",
    "def train_and_evaluate(model, train_loader, eval_loader, optimizer, device, epochs, patience=3):\n",
    "    best_eval_loss = float(\"inf\")\n",
    "    best_train_loss = None\n",
    "    epochs_no_improve = 0\n",
    "    best_model_state = None\n",
    "\n",
    "    for epoch in range(epochs):\n",
    "        print(f\"\\nEpoch {epoch + 1}/{epochs}\")\n",
    "\n",
    "        # Training\n",
    "        model.train()\n",
    "        total_train_loss = 0\n",
    "        for batch in train_loader:\n",
    "            features = batch[\"features\"].to(device)\n",
    "            sentence_spans = batch[\"sentence_spans\"]\n",
    "            span_labels = batch[\"span_labels\"]\n",
    "\n",
    "            optimizer.zero_grad()\n",
    "            output = model(features, sentence_spans, span_labels=span_labels)\n",
    "            loss = output.loss\n",
    "\n",
    "            loss.backward()\n",
    "            torch.nn.utils.clip_grad_norm_(model.parameters(), 1.0)\n",
    "            optimizer.step()\n",
    "\n",
    "            total_train_loss += loss.item()\n",
    "        avg_train_loss = total_train_loss / len(train_loader)\n",
    "\n",
    "        # Evaluation\n",
    "        avg_eval_loss = evaluate(model, eval_loader, device)\n",
    "        print(f\"Train Loss: {avg_train_loss:.4f} | Eval Loss: {avg_eval_loss:.4f}\")\n",
    "\n",
    "        # Early Stopping & Checkpoint\n",
    "        if avg_eval_loss < best_eval_loss:\n",
    "            best_eval_loss = avg_eval_loss\n",
    "            best_train_loss = avg_train_loss\n",
    "            epochs_no_improve = 0\n",
    "            best_model_state = model.state_dict()\n",
    "        else:\n",
    "            epochs_no_improve += 1\n",
    "            if epochs_no_improve >= patience:\n",
    "                print(f\"Early stopping after {epoch + 1} epochs.\")\n",
    "                if best_model_state is not None:\n",
    "                    model.load_state_dict(best_model_state)\n",
    "                break\n",
    "\n",
    "    print(f\"\\nBest Eval Loss: {best_eval_loss:.4f} | Best Train Loss: {best_train_loss:.4f}\")\n",
    "    return model"
   ],
   "id": "91e1d2c24f9a1755",
   "outputs": [],
   "execution_count": 221
  },
  {
   "metadata": {},
   "cell_type": "markdown",
   "source": [
    "# Training\n",
    "\n",
    "Train the model using K-Fold Cross Validation on the training dataset."
   ],
   "id": "b29e02e97c1f008"
  },
  {
   "metadata": {
    "ExecuteTime": {
     "end_time": "2025-07-29T19:47:48.285228Z",
     "start_time": "2025-07-29T19:47:47.343971Z"
    }
   },
   "cell_type": "code",
   "source": [
    "#from luminar.sequence_classifier import LuminarSequence\n",
    "from src.luminar.sequence_classifier import LuminarSequence\n",
    "\n",
    "device = torch.device(\"cuda:0\" if torch.cuda.is_available() else \"cpu\")\n",
    "\n",
    "config = {\n",
    "    \"feature_dim\": (Config.FEATURE_LEN, Config.NUM_INTERMEDIATE_LIKELIHOODS),\n",
    "    \"feature_type\": \"intermediate_likelihoods\",\n",
    "    \"feature_selection\": \"first\",\n",
    "    \"conv_layer_shapes\": (\n",
    "        ConvolutionalLayerSpec(128, 5),\n",
    "        ConvolutionalLayerSpec(256, 5),\n",
    "        ConvolutionalLayerSpec(128, 3),\n",
    "    ),\n",
    "    \"lstm_hidden_dim\": 256,\n",
    "    \"lstm_layers\": 1,\n",
    "    \"projection_dim\": 128,\n",
    "    \"early_stopping_patience\": 3,\n",
    "    \"learning_rate\": 9e-5,\n",
    "    \"max_epochs\": 40,\n",
    "    \"seed\": Config.SEED,\n",
    "    \"rescale_features\": False,\n",
    "    \"stack_spans\": 1\n",
    "}"
   ],
   "id": "2828fd3277e84424",
   "outputs": [],
   "execution_count": 258
  },
  {
   "metadata": {
    "ExecuteTime": {
     "end_time": "2025-07-29T19:47:48.452998Z",
     "start_time": "2025-07-29T19:47:48.401166Z"
    }
   },
   "cell_type": "code",
   "source": [
    "def run_kfold_training(\n",
    "        dataset, test_loader, model_config, num_folds=5, epochs=10, batch_size=32, patience=3, device=\"cpu\"\n",
    "):\n",
    "    kf = KFold(n_splits=num_folds, shuffle=True, random_state=42)\n",
    "    fold_metrics = []\n",
    "\n",
    "    indices = list(range(len(dataset)))\n",
    "    best_models = []\n",
    "    for fold, (train_idx, val_idx) in enumerate(kf.split(indices)):\n",
    "        print(f\"\\n========== Fold {fold + 1}/{num_folds} ==========\")\n",
    "\n",
    "        train_subset = Subset(dataset, train_idx)\n",
    "        val_subset = Subset(dataset, val_idx)\n",
    "\n",
    "        train_loader = DataLoader(train_subset, batch_size=batch_size, shuffle=True, collate_fn=collate_fn)\n",
    "        eval_loader = DataLoader(val_subset, batch_size=batch_size, shuffle=False, collate_fn=collate_fn)\n",
    "\n",
    "        model = LuminarSequence(**model_config).to(device)\n",
    "        optimizer = torch.optim.Adam(model.parameters(), lr=model_config[\"learning_rate\"])\n",
    "\n",
    "        model = train_and_evaluate(model, train_loader, eval_loader, optimizer, device, epochs, patience)\n",
    "        best_models.append((fold, model))\n",
    "\n",
    "        # Evaluate after training on the validation set\n",
    "        acc, f1 = evaluate_metrics(model, eval_loader, device)\n",
    "        print(f\"[Fold {fold + 1}] Final Accuracy: {acc:.4f} | F1: {f1:.4f}\")\n",
    "        fold_metrics.append({\"accuracy\": acc, \"f1\": f1})\n",
    "\n",
    "    # Summarize results\n",
    "    avg_acc = sum(m[\"accuracy\"] for m in fold_metrics) / num_folds\n",
    "    avg_f1 = sum(m[\"f1\"] for m in fold_metrics) / num_folds\n",
    "    print(f\"\\n========== K-Fold Cross Validation Results ==========\")\n",
    "    for i, m in enumerate(fold_metrics):\n",
    "        print(f\"Fold {i + 1}: Accuracy = {m['accuracy']:.4f}, F1 = {m['f1']:.4f}\")\n",
    "    print(f\"\\nAverage Accuracy: {avg_acc:.4f} | Average F1: {avg_f1:.4f}\")\n",
    "    print()\n",
    "\n",
    "    print(f\"\\n========== Test Evaluation of all K-Fold Cross Model ==========\")\n",
    "    for (fold, model) in best_models:\n",
    "        test_acc, test_f1 = evaluate_metrics(model, test_loader, device)\n",
    "        print(f\"K-Fold {fold}: Test Accuracy = {test_acc:.4f}, Test F1 = {test_f1:.4f}\")\n"
   ],
   "id": "105a3383df0d35de",
   "outputs": [],
   "execution_count": 259
  },
  {
   "metadata": {
    "jupyter": {
     "is_executing": true
    },
    "ExecuteTime": {
     "start_time": "2025-07-29T19:47:48.486517Z"
    }
   },
   "cell_type": "code",
   "source": [
    "for train_dataset, test_loader in zip(train_datasets, test_loaders):\n",
    "    print(f\"Training on domain: {train_dataset[0]}\")\n",
    "\n",
    "    # Reset the random seed for reproducibility\n",
    "    torch.manual_seed(Config.SEED)\n",
    "    np.random.seed(Config.SEED)\n",
    "\n",
    "    # Unpack the datasets\n",
    "    train_dataset = train_dataset[1]\n",
    "    test_loader = test_loader[1]\n",
    "\n",
    "    print(f\"Train Dataset Size: {len(train_dataset)}\")\n",
    "    print(f\"Test Dataset Size: {len(test_loader.dataset)}\")\n",
    "\n",
    "    # Run K-Fold training\n",
    "    run_kfold_training(train_dataset, test_loader, config, num_folds=5, epochs=120, batch_size=512, patience=14, device=device)"
   ],
   "id": "93d3186525396281",
   "outputs": [
    {
     "name": "stdout",
     "output_type": "stream",
     "text": [
      "Training on domain: bundestag\n",
      "Train Dataset Size: 16090\n",
      "Test Dataset Size: 4024\n",
      "\n",
      "========== Fold 1/5 ==========\n",
      "LuminarTrainingConfig(feature_dim=(512, 13), feature_type='intermediate_likelihoods', feature_selection='first', conv_layer_shapes=((128, 5, 1), (256, 5, 1), (128, 3, 1)), lstm_hidden_dim=256, lstm_layers=1, projection_dim=128, early_stopping_patience=3, learning_rate=9e-05, max_epochs=40, seed=42, rescale_features=False, stack_spans=1)\n",
      "\n",
      "Epoch 1/120\n"
     ]
    }
   ],
   "execution_count": null
  },
  {
   "metadata": {
    "ExecuteTime": {
     "end_time": "2025-07-29T19:47:08.161828800Z",
     "start_time": "2025-07-29T18:37:13.697264Z"
    }
   },
   "cell_type": "code",
   "source": "",
   "id": "5e7a49225612a113",
   "outputs": [],
   "execution_count": null
  }
 ],
 "metadata": {
  "kernelspec": {
   "display_name": "Python 3",
   "language": "python",
   "name": "python3"
  },
  "language_info": {
   "codemirror_mode": {
    "name": "ipython",
    "version": 2
   },
   "file_extension": ".py",
   "mimetype": "text/x-python",
   "name": "python",
   "nbconvert_exporter": "python",
   "pygments_lexer": "ipython2",
   "version": "2.7.6"
  }
 },
 "nbformat": 4,
 "nbformat_minor": 5
}
