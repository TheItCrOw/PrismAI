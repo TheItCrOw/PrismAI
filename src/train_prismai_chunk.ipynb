{
 "cells": [
  {
   "cell_type": "code",
   "execution_count": 1,
   "metadata": {},
   "outputs": [],
   "source": [
    "import copy\n",
    "import importlib\n",
    "import os\n",
    "import warnings\n",
    "from itertools import product\n",
    "\n",
    "import torch\n",
    "from dotenv import load_dotenv\n",
    "from lightning.pytorch import Trainer, seed_everything\n",
    "from lightning.pytorch import loggers as pl_loggers\n",
    "from lightning.pytorch.callbacks.early_stopping import EarlyStopping\n",
    "from lightning.pytorch.tuner import Tuner\n",
    "from tqdm.auto import tqdm\n",
    "\n",
    "load_dotenv(\"../env\")\n",
    "\n",
    "warnings.filterwarnings(\"ignore\", \".*does not have many workers.*\")"
   ]
  },
  {
   "cell_type": "code",
   "execution_count": 20,
   "metadata": {},
   "outputs": [
    {
     "data": {
      "text/plain": [
       "<module 'luminar.mongo' from '/nvme/projects/PrismAI/PrismAI/src/luminar/mongo.py'>"
      ]
     },
     "execution_count": 20,
     "metadata": {},
     "output_type": "execute_result"
    }
   ],
   "source": [
    "import luminar.document.data\n",
    "import luminar.document.model\n",
    "import luminar.features\n",
    "import luminar.mongo\n",
    "\n",
    "importlib.reload(luminar.document.data)\n",
    "importlib.reload(luminar.document.model)\n",
    "importlib.reload(luminar.features)\n",
    "importlib.reload(luminar.mongo)"
   ]
  },
  {
   "cell_type": "code",
   "execution_count": 21,
   "metadata": {},
   "outputs": [],
   "source": [
    "from luminar.document.data import (\n",
    "    DocumentClassificationDataModule,\n",
    "    FeatureDataset,\n",
    "    PaddingDataloader,\n",
    "    n_way_split,\n",
    ")\n",
    "from luminar.document.model import ConvolutionalLayerSpec, DocumentClassficationModel\n",
    "from luminar.features import FeatureExtractor, OneDimFeatures, Slicer, TwoDimFeatures\n",
    "from luminar.mongo import MongoDatset"
   ]
  },
  {
   "cell_type": "code",
   "execution_count": 4,
   "metadata": {},
   "outputs": [],
   "source": [
    "domains = {\n",
    "    \"Blog Authorship\": {\"domain\": \"blog_authorship_corpus\"},\n",
    "    \"Student Essays\": {\"domain\": \"student_essays\"},\n",
    "    \"CNN News\": {\"domain\": \"cnn_news\"},\n",
    "    \"Euro Court Cases\": {\"domain\": \"euro_court_cases\"},\n",
    "    \"House of Commons\": {\"domain\": \"house_of_commons\"},\n",
    "    \"ArXiv Papers\": {\"domain\": \"arxiv_papers\"},\n",
    "    \"Gutenberg\": {\"domain\": \"gutenberg\"},\n",
    "    \"Bundestag [DE]\": {\"domain\": \"bundestag\"},\n",
    "    \"Spiegel [DE]\": {\"domain\": \"spiegel_articles\"},\n",
    "    # \"Gutenberg [DE]\": {\"domain\": \"gutenberg\", \"lang\": \"de-DE\"},\n",
    "}"
   ]
  },
  {
   "cell_type": "code",
   "execution_count": 5,
   "metadata": {},
   "outputs": [],
   "source": [
    "dmap = {\n",
    "    \"Blog Authorship\": \"Blog Authorship\",\n",
    "    \"Student Essays\": \"Student Essays\",\n",
    "    \"CNN News\": \"CNN News\",\n",
    "    \"Euro Court Cases\": \"Euro Court Cases\",\n",
    "    \"House of Commons\": \"House of Commons\",\n",
    "    \"ArXiv Papers\": \"ArXiv Papers\",\n",
    "    \"Gutenberg [EN]\": \"Gutenberg\",\n",
    "    \"Bundestag\": \"Bundestag [DE]\",\n",
    "    \"Spiegel\": \"Spiegel [DE]\",\n",
    "    # \"Gutenberg [DE]\": \n",
    "}"
   ]
  },
  {
   "cell_type": "code",
   "execution_count": 6,
   "metadata": {},
   "outputs": [],
   "source": [
    "config = {\n",
    "    \"seed\": 1337,\n",
    "    \"eval_split\": 0.1,\n",
    "    \"test_split\": 0.1,\n",
    "    \"feature_model\": \"gpt2\",\n",
    "    \"synth_agent\": \"gpt-4o-mini\",\n",
    "    # \"synth_agent\": \"gemma2:9b\"\n",
    "}"
   ]
  },
  {
   "cell_type": "code",
   "execution_count": 7,
   "metadata": {},
   "outputs": [],
   "source": [
    "datasets = {\n",
    "    domain: MongoDatset(\n",
    "        mongo_db_connection=os.environ.get(\"MONGO_DB_CONNECTION\"),\n",
    "        database=\"prismai\",\n",
    "        collection=\"features_prismai\",\n",
    "        feature_model=config[\"feature_model\"],\n",
    "        synth_agent=config[\"synth_agent\"],\n",
    "        **kwargs,\n",
    "    )\n",
    "    for domain, kwargs in domains.items()\n",
    "}"
   ]
  },
  {
   "cell_type": "code",
   "execution_count": 8,
   "metadata": {},
   "outputs": [
    {
     "name": "stderr",
     "output_type": "stream",
     "text": [
      "Seed set to 1337\n"
     ]
    },
    {
     "name": "stdout",
     "output_type": "stream",
     "text": [
      "[MongoDatset] Loading Data from Cache File /tmp/luminar/6fe5c1ea3a4633ec60bc87ebc52f02e24546eacc75d014ff3870a788a6f42df1.pkl\n"
     ]
    },
    {
     "name": "stderr",
     "output_type": "stream",
     "text": [
      "Seed set to 1337\n"
     ]
    },
    {
     "name": "stdout",
     "output_type": "stream",
     "text": [
      "[MongoDatset] Loading Data from Cache File /tmp/luminar/22674c066cbcb55bcf2d3f2d5feadd616caceeb82e256620961dada261b75dcc.pkl\n"
     ]
    },
    {
     "name": "stderr",
     "output_type": "stream",
     "text": [
      "Seed set to 1337\n"
     ]
    },
    {
     "name": "stdout",
     "output_type": "stream",
     "text": [
      "[MongoDatset] Loading Data from Cache File /tmp/luminar/bbdde01b89676a5f2c4d82cf43d1b5f7071cec218f519be16dd1dfebdeacb7ac.pkl\n"
     ]
    },
    {
     "name": "stderr",
     "output_type": "stream",
     "text": [
      "Seed set to 1337\n"
     ]
    },
    {
     "name": "stdout",
     "output_type": "stream",
     "text": [
      "[MongoDatset] Loading Data from Cache File /tmp/luminar/c6cb0dc5d141e419441eceba902218f2128f377fe836cece3d6450a9992ce3e6.pkl\n"
     ]
    },
    {
     "name": "stderr",
     "output_type": "stream",
     "text": [
      "Seed set to 1337\n"
     ]
    },
    {
     "name": "stdout",
     "output_type": "stream",
     "text": [
      "[MongoDatset] Loading Data from Cache File /tmp/luminar/c1e288d51f532bf525959cfd500ceeb1d597c7539a1dea46216a82f32e9c6353.pkl\n"
     ]
    },
    {
     "name": "stderr",
     "output_type": "stream",
     "text": [
      "Seed set to 1337\n"
     ]
    },
    {
     "name": "stdout",
     "output_type": "stream",
     "text": [
      "[MongoDatset] Loading Data from Cache File /tmp/luminar/3a8b18d691e7c533e8deba53358a2472ce47ca53d830044e567890e398928f08.pkl\n"
     ]
    },
    {
     "name": "stderr",
     "output_type": "stream",
     "text": [
      "Seed set to 1337\n"
     ]
    },
    {
     "name": "stdout",
     "output_type": "stream",
     "text": [
      "[MongoDatset] Loading Data from Cache File /tmp/luminar/90fea92552034a8b51a3ce69f83ff4af1a196e4a651c4d326f65107b7ceb50d7.pkl\n"
     ]
    },
    {
     "name": "stderr",
     "output_type": "stream",
     "text": [
      "Seed set to 1337\n"
     ]
    },
    {
     "name": "stdout",
     "output_type": "stream",
     "text": [
      "[MongoDatset] Loading Data from Cache File /tmp/luminar/0f844027ef471bc1603bade40612188bd1e68f7d20617673a9d8db56f72dc5e4.pkl\n"
     ]
    },
    {
     "name": "stderr",
     "output_type": "stream",
     "text": [
      "Seed set to 1337\n"
     ]
    },
    {
     "name": "stdout",
     "output_type": "stream",
     "text": [
      "[MongoDatset] Loading Data from Cache File /tmp/luminar/72e65d4ab74e195872a70c33cf8861a888202e4cdac7fe412178b5b56b3385b8.pkl\n"
     ]
    }
   ],
   "source": [
    "train_splits = {}\n",
    "eval_splits = {}\n",
    "test_splits = {}\n",
    "for domain, dataset in datasets.items():\n",
    "    seed_everything(config[\"seed\"])\n",
    "    train_dataset, eval_dataset, test_dataset = n_way_split(\n",
    "        dataset,\n",
    "        config[\"eval_split\"],\n",
    "        config[\"test_split\"],\n",
    "        infer_first=True,\n",
    "    )\n",
    "    train_splits[domain] = train_dataset\n",
    "    eval_splits[domain] = eval_dataset\n",
    "    test_splits[domain] = test_dataset"
   ]
  },
  {
   "cell_type": "code",
   "execution_count": 9,
   "metadata": {},
   "outputs": [],
   "source": [
    "# feature_dim = OneDimFeatures(256)\n",
    "# featurizer = FeatureExtractor.Likelihood()\n",
    "# featurizer = FeatureExtractor.LogLikelihoodLogRankRatio()\n",
    "# config[\"second_dim_as_channels\"] = False\n",
    "feature_dim = TwoDimFeatures(256, 13)\n",
    "# featurizer = FeatureExtractor.LikelihoodTopkLikelihoodRatio(13)\n",
    "featurizer = FeatureExtractor.IntermediateLogits(13)\n",
    "config[\"second_dim_as_channels\"] = True\n",
    "\n",
    "# slicer = Slicer.Random(feature_dim[0])\n",
    "slicer = Slicer.RandomMultiple(feature_dim[0] // 4, multiple=4, stride=16)\n",
    "# slicer = Slicer.RandomMultiple(feature_dim[0] // 4, 4)\n",
    "\n",
    "config[\"feature_dim\"] = feature_dim\n",
    "config[\"featurizer\"] = repr(featurizer)\n",
    "config[\"slicer\"] = repr(slicer)\n",
    "\n",
    "config[\"num_samples\"] = None\n",
    "\n",
    "\n",
    "def featurize(dataset) -> FeatureDataset:\n",
    "    return FeatureDataset(\n",
    "        dataset, slicer, featurizer, num_samples=config[\"num_samples\"]\n",
    "    )"
   ]
  },
  {
   "cell_type": "code",
   "execution_count": 10,
   "metadata": {},
   "outputs": [
    {
     "data": {
      "application/vnd.jupyter.widget-view+json": {
       "model_id": "3e019d19d19c4b348a5314ca252dd722",
       "version_major": 2,
       "version_minor": 0
      },
      "text/plain": [
       "  0%|          | 0/9 [00:00<?, ?it/s]"
      ]
     },
     "metadata": {},
     "output_type": "display_data"
    }
   ],
   "source": [
    "train_datasets, eval_datasets, test_datasets = {}, {}, {}\n",
    "for domain, dataset in tqdm(datasets.items()):\n",
    "    train_datasets[domain] = featurize(train_splits[domain])\n",
    "    eval_datasets[domain] = featurize(eval_splits[domain])\n",
    "    test_datasets[domain] = featurize(test_splits[domain])"
   ]
  },
  {
   "cell_type": "markdown",
   "metadata": {},
   "source": [
    "## In-Domain Training & Evaluation"
   ]
  },
  {
   "cell_type": "code",
   "execution_count": 11,
   "metadata": {},
   "outputs": [],
   "source": [
    "config |= {\n",
    "    \"projection_dim\": None,\n",
    "    \"learning_rate\": 0.0001,\n",
    "    \"warmup_steps\": 66,\n",
    "    \"max_epochs\": 50,\n",
    "    \"gradient_clip_val\": 0.5,\n",
    "    \"batch_size\": 32,\n",
    "}\n",
    "\n",
    "# SeqXGPT Layer Configuration\n",
    "config[\"conv_layer_shapes\"] = [\n",
    "    ConvolutionalLayerSpec(64, 5),\n",
    "    *[ConvolutionalLayerSpec(128, 3)] * 3,\n",
    "    ConvolutionalLayerSpec(64, 3),\n",
    "]"
   ]
  },
  {
   "cell_type": "code",
   "execution_count": 12,
   "metadata": {},
   "outputs": [],
   "source": [
    "from torch.utils.data import ConcatDataset\n",
    "\n",
    "\n",
    "# capturing config from \"closure\"\n",
    "def get_dataloader(*dataset, **kwargs) -> PaddingDataloader:\n",
    "    if len(dataset) == 1:\n",
    "        dataset = dataset[0]\n",
    "    else:\n",
    "        dataset = ConcatDataset(dataset)\n",
    "    return PaddingDataloader(\n",
    "        dataset,\n",
    "        feature_dim=config[\"feature_dim\"],\n",
    "        batch_size=config[\"batch_size\"],\n",
    "        **kwargs,\n",
    "    )"
   ]
  },
  {
   "cell_type": "code",
   "execution_count": null,
   "metadata": {},
   "outputs": [
    {
     "name": "stderr",
     "output_type": "stream",
     "text": [
      "Seed set to 1337\n",
      "GPU available: True (cuda), used: True\n",
      "TPU available: False, using: 0 TPU cores\n",
      "HPU available: False, using: 0 HPUs\n",
      "/home/mastoeck/Projects/PrismAI/PrismAI/.venv/lib/python3.12/site-packages/lightning/pytorch/utilities/parsing.py:45: Attribute 'feature_dim' removed from hparams because it cannot be pickled. You can suppress this warning by setting `self.save_hyperparameters(ignore=['feature_dim'])`.\n",
      "/home/mastoeck/Projects/PrismAI/PrismAI/.venv/lib/python3.12/site-packages/lightning/pytorch/utilities/parsing.py:45: Attribute 'conv_layer_shapes' removed from hparams because it cannot be pickled. You can suppress this warning by setting `self.save_hyperparameters(ignore=['conv_layer_shapes'])`.\n",
      "LOCAL_RANK: 0 - CUDA_VISIBLE_DEVICES: [0]\n",
      "Loading `train_dataloader` to estimate number of stepping batches.\n",
      "\n",
      "  | Name        | Type              | Params | Mode  | In sizes    | Out sizes  \n",
      "--------------------------------------------------------------------------------------\n",
      "0 | conv_layers | Sequential        | 152 K  | train | ?           | ?          \n",
      "1 | projection  | Identity          | 0      | train | [32, 16384] | [32, 16384]\n",
      "2 | classifier  | Linear            | 16.4 K | train | [32, 16384] | [32, 1]    \n",
      "3 | criterion   | BCEWithLogitsLoss | 0      | train | ?           | ?          \n",
      "--------------------------------------------------------------------------------------\n",
      "168 K     Trainable params\n",
      "0         Non-trainable params\n",
      "168 K     Total params\n",
      "0.674     Total estimated model params size (MB)\n",
      "15        Modules in train mode\n",
      "0         Modules in eval mode\n"
     ]
    },
    {
     "data": {
      "application/vnd.jupyter.widget-view+json": {
       "model_id": "8a8732e14f1c4ddfbeca5875df3a4b10",
       "version_major": 2,
       "version_minor": 0
      },
      "text/plain": [
       "Sanity Checking: |          | 0/? [00:00<?, ?it/s]"
      ]
     },
     "metadata": {},
     "output_type": "display_data"
    },
    {
     "data": {
      "application/vnd.jupyter.widget-view+json": {
       "model_id": "76a347c9fcbe4bb98424695cfd05fc98",
       "version_major": 2,
       "version_minor": 0
      },
      "text/plain": [
       "Training: |          | 0/? [00:00<?, ?it/s]"
      ]
     },
     "metadata": {},
     "output_type": "display_data"
    },
    {
     "data": {
      "application/vnd.jupyter.widget-view+json": {
       "model_id": "08f319bbe7c44ab3967c4c5c667e02f4",
       "version_major": 2,
       "version_minor": 0
      },
      "text/plain": [
       "Validation: |          | 0/? [00:00<?, ?it/s]"
      ]
     },
     "metadata": {},
     "output_type": "display_data"
    },
    {
     "data": {
      "application/vnd.jupyter.widget-view+json": {
       "model_id": "f0551975ccdd48bd97d13ef699fdf42e",
       "version_major": 2,
       "version_minor": 0
      },
      "text/plain": [
       "Validation: |          | 0/? [00:00<?, ?it/s]"
      ]
     },
     "metadata": {},
     "output_type": "display_data"
    },
    {
     "data": {
      "application/vnd.jupyter.widget-view+json": {
       "model_id": "4eb1bc6eea014ef0a210003152d51b2d",
       "version_major": 2,
       "version_minor": 0
      },
      "text/plain": [
       "Validation: |          | 0/? [00:00<?, ?it/s]"
      ]
     },
     "metadata": {},
     "output_type": "display_data"
    },
    {
     "data": {
      "application/vnd.jupyter.widget-view+json": {
       "model_id": "35df508eeb29446c8905efc781cb52f0",
       "version_major": 2,
       "version_minor": 0
      },
      "text/plain": [
       "Validation: |          | 0/? [00:00<?, ?it/s]"
      ]
     },
     "metadata": {},
     "output_type": "display_data"
    },
    {
     "data": {
      "application/vnd.jupyter.widget-view+json": {
       "model_id": "3e954ffd56894874a6f8dedb3e0f4937",
       "version_major": 2,
       "version_minor": 0
      },
      "text/plain": [
       "Validation: |          | 0/? [00:00<?, ?it/s]"
      ]
     },
     "metadata": {},
     "output_type": "display_data"
    },
    {
     "data": {
      "application/vnd.jupyter.widget-view+json": {
       "model_id": "487e8c2eb0ae446aad296ad5c5120a52",
       "version_major": 2,
       "version_minor": 0
      },
      "text/plain": [
       "Validation: |          | 0/? [00:00<?, ?it/s]"
      ]
     },
     "metadata": {},
     "output_type": "display_data"
    },
    {
     "data": {
      "application/vnd.jupyter.widget-view+json": {
       "model_id": "34b0a0540a6b42658c1fc43f6b337d64",
       "version_major": 2,
       "version_minor": 0
      },
      "text/plain": [
       "Validation: |          | 0/? [00:00<?, ?it/s]"
      ]
     },
     "metadata": {},
     "output_type": "display_data"
    },
    {
     "data": {
      "application/vnd.jupyter.widget-view+json": {
       "model_id": "5d9585112ef746e8a9adb777c8b0ec84",
       "version_major": 2,
       "version_minor": 0
      },
      "text/plain": [
       "Validation: |          | 0/? [00:00<?, ?it/s]"
      ]
     },
     "metadata": {},
     "output_type": "display_data"
    },
    {
     "data": {
      "application/vnd.jupyter.widget-view+json": {
       "model_id": "24faf96a341b48549a2679e48abf9d42",
       "version_major": 2,
       "version_minor": 0
      },
      "text/plain": [
       "Validation: |          | 0/? [00:00<?, ?it/s]"
      ]
     },
     "metadata": {},
     "output_type": "display_data"
    },
    {
     "data": {
      "application/vnd.jupyter.widget-view+json": {
       "model_id": "d8eb67b9a25b4f14b93a4da06912de90",
       "version_major": 2,
       "version_minor": 0
      },
      "text/plain": [
       "Validation: |          | 0/? [00:00<?, ?it/s]"
      ]
     },
     "metadata": {},
     "output_type": "display_data"
    },
    {
     "data": {
      "application/vnd.jupyter.widget-view+json": {
       "model_id": "b2b0b654319b446eb341cf3e80ae4f2f",
       "version_major": 2,
       "version_minor": 0
      },
      "text/plain": [
       "Validation: |          | 0/? [00:00<?, ?it/s]"
      ]
     },
     "metadata": {},
     "output_type": "display_data"
    },
    {
     "name": "stderr",
     "output_type": "stream",
     "text": [
      "LOCAL_RANK: 0 - CUDA_VISIBLE_DEVICES: [0]\n",
      "LOCAL_RANK: 0 - CUDA_VISIBLE_DEVICES: [0]\n",
      "LOCAL_RANK: 0 - CUDA_VISIBLE_DEVICES: [0]\n",
      "LOCAL_RANK: 0 - CUDA_VISIBLE_DEVICES: [0]\n",
      "LOCAL_RANK: 0 - CUDA_VISIBLE_DEVICES: [0]\n",
      "LOCAL_RANK: 0 - CUDA_VISIBLE_DEVICES: [0]\n",
      "LOCAL_RANK: 0 - CUDA_VISIBLE_DEVICES: [0]\n",
      "LOCAL_RANK: 0 - CUDA_VISIBLE_DEVICES: [0]\n",
      "LOCAL_RANK: 0 - CUDA_VISIBLE_DEVICES: [0]\n",
      "LOCAL_RANK: 0 - CUDA_VISIBLE_DEVICES: [0]\n",
      "LOCAL_RANK: 0 - CUDA_VISIBLE_DEVICES: [0]\n",
      "LOCAL_RANK: 0 - CUDA_VISIBLE_DEVICES: [0]\n",
      "LOCAL_RANK: 0 - CUDA_VISIBLE_DEVICES: [0]\n",
      "LOCAL_RANK: 0 - CUDA_VISIBLE_DEVICES: [0]\n",
      "LOCAL_RANK: 0 - CUDA_VISIBLE_DEVICES: [0]\n",
      "LOCAL_RANK: 0 - CUDA_VISIBLE_DEVICES: [0]\n",
      "LOCAL_RANK: 0 - CUDA_VISIBLE_DEVICES: [0]\n",
      "LOCAL_RANK: 0 - CUDA_VISIBLE_DEVICES: [0]\n",
      "Seed set to 1337\n"
     ]
    },
    {
     "name": "stdout",
     "output_type": "stream",
     "text": [
      "Blog Authorship [{'other': 'Blog Authorship', 'test_loss': 0.12927396595478058, 'test_acc@0.5': 0.9540635943412781, 'test_roc_auc': 0.9905263185501099, 'test_acc': 0.9540635943412781}, {'other': 'Student Essays', 'test_loss': 1.524064064025879, 'test_acc@0.5': 0.5600000023841858, 'test_roc_auc': 0.6703110933303833, 'test_acc': 0.5666666626930237}, {'other': 'CNN News', 'test_loss': 1.4044389724731445, 'test_acc@0.5': 0.5133333206176758, 'test_roc_auc': 0.7703555822372437, 'test_acc': 0.5299999713897705}, {'other': 'Euro Court Cases', 'test_loss': 2.6178324222564697, 'test_acc@0.5': 0.503333330154419, 'test_roc_auc': 0.7273111343383789, 'test_acc': 0.503333330154419}, {'other': 'House of Commons', 'test_loss': 1.8245090246200562, 'test_acc@0.5': 0.5033556818962097, 'test_roc_auc': 0.6809459328651428, 'test_acc': 0.5100671052932739}, {'other': 'ArXiv Papers', 'test_loss': 1.4874645471572876, 'test_acc@0.5': 0.5017064809799194, 'test_roc_auc': 0.8186562061309814, 'test_acc': 0.5221843123435974}, {'other': 'Gutenberg', 'test_loss': 1.6198275089263916, 'test_acc@0.5': 0.5395188927650452, 'test_roc_auc': 0.8304018974304199, 'test_acc': 0.5567010045051575}, {'other': 'Bundestag [DE]', 'test_loss': 0.8057321906089783, 'test_acc@0.5': 0.5773195624351501, 'test_roc_auc': 0.5850269198417664, 'test_acc': 0.5979381203651428}, {'other': 'Spiegel [DE]', 'test_loss': 0.7324520945549011, 'test_acc@0.5': 0.648829460144043, 'test_roc_auc': 0.6713646650314331, 'test_acc': 0.6421404480934143}]\n"
     ]
    },
    {
     "name": "stderr",
     "output_type": "stream",
     "text": [
      "GPU available: True (cuda), used: True\n",
      "TPU available: False, using: 0 TPU cores\n",
      "HPU available: False, using: 0 HPUs\n",
      "/home/mastoeck/Projects/PrismAI/PrismAI/.venv/lib/python3.12/site-packages/lightning/pytorch/utilities/parsing.py:45: Attribute 'feature_dim' removed from hparams because it cannot be pickled. You can suppress this warning by setting `self.save_hyperparameters(ignore=['feature_dim'])`.\n",
      "/home/mastoeck/Projects/PrismAI/PrismAI/.venv/lib/python3.12/site-packages/lightning/pytorch/utilities/parsing.py:45: Attribute 'conv_layer_shapes' removed from hparams because it cannot be pickled. You can suppress this warning by setting `self.save_hyperparameters(ignore=['conv_layer_shapes'])`.\n",
      "LOCAL_RANK: 0 - CUDA_VISIBLE_DEVICES: [0]\n",
      "Loading `train_dataloader` to estimate number of stepping batches.\n",
      "\n",
      "  | Name        | Type              | Params | Mode  | In sizes    | Out sizes  \n",
      "--------------------------------------------------------------------------------------\n",
      "0 | conv_layers | Sequential        | 152 K  | train | ?           | ?          \n",
      "1 | projection  | Identity          | 0      | train | [32, 16384] | [32, 16384]\n",
      "2 | classifier  | Linear            | 16.4 K | train | [32, 16384] | [32, 1]    \n",
      "3 | criterion   | BCEWithLogitsLoss | 0      | train | ?           | ?          \n",
      "--------------------------------------------------------------------------------------\n",
      "168 K     Trainable params\n",
      "0         Non-trainable params\n",
      "168 K     Total params\n",
      "0.674     Total estimated model params size (MB)\n",
      "15        Modules in train mode\n",
      "0         Modules in eval mode\n"
     ]
    },
    {
     "data": {
      "application/vnd.jupyter.widget-view+json": {
       "model_id": "f35fdd8b733c46e59aa64fcec7abdc3b",
       "version_major": 2,
       "version_minor": 0
      },
      "text/plain": [
       "Sanity Checking: |          | 0/? [00:00<?, ?it/s]"
      ]
     },
     "metadata": {},
     "output_type": "display_data"
    },
    {
     "data": {
      "application/vnd.jupyter.widget-view+json": {
       "model_id": "028f67777c314465b516cc3ff2be7080",
       "version_major": 2,
       "version_minor": 0
      },
      "text/plain": [
       "Training: |          | 0/? [00:00<?, ?it/s]"
      ]
     },
     "metadata": {},
     "output_type": "display_data"
    },
    {
     "data": {
      "application/vnd.jupyter.widget-view+json": {
       "model_id": "490d311149aa4e6b8b9edc0a93310c62",
       "version_major": 2,
       "version_minor": 0
      },
      "text/plain": [
       "Validation: |          | 0/? [00:00<?, ?it/s]"
      ]
     },
     "metadata": {},
     "output_type": "display_data"
    },
    {
     "data": {
      "application/vnd.jupyter.widget-view+json": {
       "model_id": "22b77816016c4c3ba9410bb0deef153e",
       "version_major": 2,
       "version_minor": 0
      },
      "text/plain": [
       "Validation: |          | 0/? [00:00<?, ?it/s]"
      ]
     },
     "metadata": {},
     "output_type": "display_data"
    },
    {
     "data": {
      "application/vnd.jupyter.widget-view+json": {
       "model_id": "6c2013eab8604395a0d8c3193113bc5e",
       "version_major": 2,
       "version_minor": 0
      },
      "text/plain": [
       "Validation: |          | 0/? [00:00<?, ?it/s]"
      ]
     },
     "metadata": {},
     "output_type": "display_data"
    },
    {
     "data": {
      "application/vnd.jupyter.widget-view+json": {
       "model_id": "e90b8259db2d4df1a7dbbe894788ec1e",
       "version_major": 2,
       "version_minor": 0
      },
      "text/plain": [
       "Validation: |          | 0/? [00:00<?, ?it/s]"
      ]
     },
     "metadata": {},
     "output_type": "display_data"
    },
    {
     "data": {
      "application/vnd.jupyter.widget-view+json": {
       "model_id": "4f67ef167fa5429786cab5eef4dd42dc",
       "version_major": 2,
       "version_minor": 0
      },
      "text/plain": [
       "Validation: |          | 0/? [00:00<?, ?it/s]"
      ]
     },
     "metadata": {},
     "output_type": "display_data"
    },
    {
     "data": {
      "application/vnd.jupyter.widget-view+json": {
       "model_id": "89f7701f8cab4a15a51d35ef03d51708",
       "version_major": 2,
       "version_minor": 0
      },
      "text/plain": [
       "Validation: |          | 0/? [00:00<?, ?it/s]"
      ]
     },
     "metadata": {},
     "output_type": "display_data"
    },
    {
     "data": {
      "application/vnd.jupyter.widget-view+json": {
       "model_id": "8638c91ba27a45648273a1c4aaf1fbd0",
       "version_major": 2,
       "version_minor": 0
      },
      "text/plain": [
       "Validation: |          | 0/? [00:00<?, ?it/s]"
      ]
     },
     "metadata": {},
     "output_type": "display_data"
    },
    {
     "data": {
      "application/vnd.jupyter.widget-view+json": {
       "model_id": "05166683d6374041ae7a90adf8bc4652",
       "version_major": 2,
       "version_minor": 0
      },
      "text/plain": [
       "Validation: |          | 0/? [00:00<?, ?it/s]"
      ]
     },
     "metadata": {},
     "output_type": "display_data"
    },
    {
     "data": {
      "application/vnd.jupyter.widget-view+json": {
       "model_id": "a63ca28f4c854cb688cd5ece7c59190d",
       "version_major": 2,
       "version_minor": 0
      },
      "text/plain": [
       "Validation: |          | 0/? [00:00<?, ?it/s]"
      ]
     },
     "metadata": {},
     "output_type": "display_data"
    },
    {
     "data": {
      "application/vnd.jupyter.widget-view+json": {
       "model_id": "e452dbb3e1ef4a0883498e89517d9847",
       "version_major": 2,
       "version_minor": 0
      },
      "text/plain": [
       "Validation: |          | 0/? [00:00<?, ?it/s]"
      ]
     },
     "metadata": {},
     "output_type": "display_data"
    },
    {
     "data": {
      "application/vnd.jupyter.widget-view+json": {
       "model_id": "a8fa3e933a274625b3f2b02dadba28ad",
       "version_major": 2,
       "version_minor": 0
      },
      "text/plain": [
       "Validation: |          | 0/? [00:00<?, ?it/s]"
      ]
     },
     "metadata": {},
     "output_type": "display_data"
    },
    {
     "data": {
      "application/vnd.jupyter.widget-view+json": {
       "model_id": "50ad2802da104d65a779db4ebdec7073",
       "version_major": 2,
       "version_minor": 0
      },
      "text/plain": [
       "Validation: |          | 0/? [00:00<?, ?it/s]"
      ]
     },
     "metadata": {},
     "output_type": "display_data"
    },
    {
     "data": {
      "application/vnd.jupyter.widget-view+json": {
       "model_id": "e1b1e11471404a089c86d474ba97560e",
       "version_major": 2,
       "version_minor": 0
      },
      "text/plain": [
       "Validation: |          | 0/? [00:00<?, ?it/s]"
      ]
     },
     "metadata": {},
     "output_type": "display_data"
    },
    {
     "data": {
      "application/vnd.jupyter.widget-view+json": {
       "model_id": "adb3d6ec331d4331a57a7208cd24289c",
       "version_major": 2,
       "version_minor": 0
      },
      "text/plain": [
       "Validation: |          | 0/? [00:00<?, ?it/s]"
      ]
     },
     "metadata": {},
     "output_type": "display_data"
    },
    {
     "data": {
      "application/vnd.jupyter.widget-view+json": {
       "model_id": "38f4c5d467824fd9b1be1831a6fee1a7",
       "version_major": 2,
       "version_minor": 0
      },
      "text/plain": [
       "Validation: |          | 0/? [00:00<?, ?it/s]"
      ]
     },
     "metadata": {},
     "output_type": "display_data"
    },
    {
     "data": {
      "application/vnd.jupyter.widget-view+json": {
       "model_id": "a09c204f0d1e4d1aba92529d075ef73a",
       "version_major": 2,
       "version_minor": 0
      },
      "text/plain": [
       "Validation: |          | 0/? [00:00<?, ?it/s]"
      ]
     },
     "metadata": {},
     "output_type": "display_data"
    },
    {
     "data": {
      "application/vnd.jupyter.widget-view+json": {
       "model_id": "f531a91ffbd043549f3e3d6e4feb5d0d",
       "version_major": 2,
       "version_minor": 0
      },
      "text/plain": [
       "Validation: |          | 0/? [00:00<?, ?it/s]"
      ]
     },
     "metadata": {},
     "output_type": "display_data"
    },
    {
     "data": {
      "application/vnd.jupyter.widget-view+json": {
       "model_id": "afc021a7baed4622b392f0474f8649d4",
       "version_major": 2,
       "version_minor": 0
      },
      "text/plain": [
       "Validation: |          | 0/? [00:00<?, ?it/s]"
      ]
     },
     "metadata": {},
     "output_type": "display_data"
    },
    {
     "data": {
      "application/vnd.jupyter.widget-view+json": {
       "model_id": "1c629f0495e84f979d173c4125ff9a3e",
       "version_major": 2,
       "version_minor": 0
      },
      "text/plain": [
       "Validation: |          | 0/? [00:00<?, ?it/s]"
      ]
     },
     "metadata": {},
     "output_type": "display_data"
    },
    {
     "data": {
      "application/vnd.jupyter.widget-view+json": {
       "model_id": "4384fca0c9994ca08d28939688696372",
       "version_major": 2,
       "version_minor": 0
      },
      "text/plain": [
       "Validation: |          | 0/? [00:00<?, ?it/s]"
      ]
     },
     "metadata": {},
     "output_type": "display_data"
    },
    {
     "data": {
      "application/vnd.jupyter.widget-view+json": {
       "model_id": "60a9ff1114354245afa51198d6ddf302",
       "version_major": 2,
       "version_minor": 0
      },
      "text/plain": [
       "Validation: |          | 0/? [00:00<?, ?it/s]"
      ]
     },
     "metadata": {},
     "output_type": "display_data"
    },
    {
     "data": {
      "application/vnd.jupyter.widget-view+json": {
       "model_id": "f818598e19a5430089edeeb73092a0fc",
       "version_major": 2,
       "version_minor": 0
      },
      "text/plain": [
       "Validation: |          | 0/? [00:00<?, ?it/s]"
      ]
     },
     "metadata": {},
     "output_type": "display_data"
    },
    {
     "data": {
      "application/vnd.jupyter.widget-view+json": {
       "model_id": "e284000dd6064bd996ea7aa9d96b24cf",
       "version_major": 2,
       "version_minor": 0
      },
      "text/plain": [
       "Validation: |          | 0/? [00:00<?, ?it/s]"
      ]
     },
     "metadata": {},
     "output_type": "display_data"
    },
    {
     "data": {
      "application/vnd.jupyter.widget-view+json": {
       "model_id": "cacf996c61834b6ea3ebde07743c56e3",
       "version_major": 2,
       "version_minor": 0
      },
      "text/plain": [
       "Validation: |          | 0/? [00:00<?, ?it/s]"
      ]
     },
     "metadata": {},
     "output_type": "display_data"
    },
    {
     "data": {
      "application/vnd.jupyter.widget-view+json": {
       "model_id": "5d47303dfde04a78b701a7f954df65d1",
       "version_major": 2,
       "version_minor": 0
      },
      "text/plain": [
       "Validation: |          | 0/? [00:00<?, ?it/s]"
      ]
     },
     "metadata": {},
     "output_type": "display_data"
    },
    {
     "data": {
      "application/vnd.jupyter.widget-view+json": {
       "model_id": "0d9d6933e155450ea42fef8dfd748c4e",
       "version_major": 2,
       "version_minor": 0
      },
      "text/plain": [
       "Validation: |          | 0/? [00:00<?, ?it/s]"
      ]
     },
     "metadata": {},
     "output_type": "display_data"
    },
    {
     "data": {
      "application/vnd.jupyter.widget-view+json": {
       "model_id": "53e3a94279494d388c23479606c05d2e",
       "version_major": 2,
       "version_minor": 0
      },
      "text/plain": [
       "Validation: |          | 0/? [00:00<?, ?it/s]"
      ]
     },
     "metadata": {},
     "output_type": "display_data"
    },
    {
     "data": {
      "application/vnd.jupyter.widget-view+json": {
       "model_id": "75f0b18c91df435581df87b18d15a4bf",
       "version_major": 2,
       "version_minor": 0
      },
      "text/plain": [
       "Validation: |          | 0/? [00:00<?, ?it/s]"
      ]
     },
     "metadata": {},
     "output_type": "display_data"
    },
    {
     "data": {
      "application/vnd.jupyter.widget-view+json": {
       "model_id": "8890bd809a5f4b0c8823dbbcf35f2a20",
       "version_major": 2,
       "version_minor": 0
      },
      "text/plain": [
       "Validation: |          | 0/? [00:00<?, ?it/s]"
      ]
     },
     "metadata": {},
     "output_type": "display_data"
    },
    {
     "data": {
      "application/vnd.jupyter.widget-view+json": {
       "model_id": "d425bf25df1145fb9d670d327641b115",
       "version_major": 2,
       "version_minor": 0
      },
      "text/plain": [
       "Validation: |          | 0/? [00:00<?, ?it/s]"
      ]
     },
     "metadata": {},
     "output_type": "display_data"
    },
    {
     "name": "stderr",
     "output_type": "stream",
     "text": [
      "LOCAL_RANK: 0 - CUDA_VISIBLE_DEVICES: [0]\n",
      "LOCAL_RANK: 0 - CUDA_VISIBLE_DEVICES: [0]\n",
      "LOCAL_RANK: 0 - CUDA_VISIBLE_DEVICES: [0]\n",
      "LOCAL_RANK: 0 - CUDA_VISIBLE_DEVICES: [0]\n",
      "LOCAL_RANK: 0 - CUDA_VISIBLE_DEVICES: [0]\n",
      "LOCAL_RANK: 0 - CUDA_VISIBLE_DEVICES: [0]\n",
      "LOCAL_RANK: 0 - CUDA_VISIBLE_DEVICES: [0]\n",
      "LOCAL_RANK: 0 - CUDA_VISIBLE_DEVICES: [0]\n",
      "LOCAL_RANK: 0 - CUDA_VISIBLE_DEVICES: [0]\n",
      "LOCAL_RANK: 0 - CUDA_VISIBLE_DEVICES: [0]\n",
      "LOCAL_RANK: 0 - CUDA_VISIBLE_DEVICES: [0]\n",
      "LOCAL_RANK: 0 - CUDA_VISIBLE_DEVICES: [0]\n",
      "LOCAL_RANK: 0 - CUDA_VISIBLE_DEVICES: [0]\n",
      "LOCAL_RANK: 0 - CUDA_VISIBLE_DEVICES: [0]\n",
      "LOCAL_RANK: 0 - CUDA_VISIBLE_DEVICES: [0]\n",
      "LOCAL_RANK: 0 - CUDA_VISIBLE_DEVICES: [0]\n",
      "LOCAL_RANK: 0 - CUDA_VISIBLE_DEVICES: [0]\n",
      "LOCAL_RANK: 0 - CUDA_VISIBLE_DEVICES: [0]\n",
      "Seed set to 1337\n"
     ]
    },
    {
     "name": "stdout",
     "output_type": "stream",
     "text": [
      "Student Essays [{'other': 'Blog Authorship', 'test_loss': 6.6242289543151855, 'test_acc@0.5': 0.6007066965103149, 'test_roc_auc': 0.5453634262084961, 'test_acc': 0.5795053243637085}, {'other': 'Student Essays', 'test_loss': 0.16484086215496063, 'test_acc@0.5': 0.9133333563804626, 'test_roc_auc': 0.9873777627944946, 'test_acc': 0.949999988079071}, {'other': 'CNN News', 'test_loss': 1.0666855573654175, 'test_acc@0.5': 0.7266666889190674, 'test_roc_auc': 0.8714222311973572, 'test_acc': 0.7633333206176758}, {'other': 'Euro Court Cases', 'test_loss': 1.1247600317001343, 'test_acc@0.5': 0.6966666579246521, 'test_roc_auc': 0.8642666935920715, 'test_acc': 0.7633333206176758}, {'other': 'House of Commons', 'test_loss': 1.9349571466445923, 'test_acc@0.5': 0.7651006579399109, 'test_roc_auc': 0.7896396517753601, 'test_acc': 0.7885906100273132}, {'other': 'ArXiv Papers', 'test_loss': 1.8645610809326172, 'test_acc@0.5': 0.7576791644096375, 'test_roc_auc': 0.7656322717666626, 'test_acc': 0.7610921263694763}, {'other': 'Gutenberg', 'test_loss': 0.7871955633163452, 'test_acc@0.5': 0.8178694248199463, 'test_roc_auc': 0.8746099472045898, 'test_acc': 0.831615149974823}, {'other': 'Bundestag [DE]', 'test_loss': 1.9177801609039307, 'test_acc@0.5': 0.5326460599899292, 'test_roc_auc': 0.7126855254173279, 'test_acc': 0.49140894412994385}, {'other': 'Spiegel [DE]', 'test_loss': 2.2603721618652344, 'test_acc@0.5': 0.5384615659713745, 'test_roc_auc': 0.7762863636016846, 'test_acc': 0.5083612203598022}]\n"
     ]
    },
    {
     "name": "stderr",
     "output_type": "stream",
     "text": [
      "GPU available: True (cuda), used: True\n",
      "TPU available: False, using: 0 TPU cores\n",
      "HPU available: False, using: 0 HPUs\n",
      "/home/mastoeck/Projects/PrismAI/PrismAI/.venv/lib/python3.12/site-packages/lightning/pytorch/utilities/parsing.py:45: Attribute 'feature_dim' removed from hparams because it cannot be pickled. You can suppress this warning by setting `self.save_hyperparameters(ignore=['feature_dim'])`.\n",
      "/home/mastoeck/Projects/PrismAI/PrismAI/.venv/lib/python3.12/site-packages/lightning/pytorch/utilities/parsing.py:45: Attribute 'conv_layer_shapes' removed from hparams because it cannot be pickled. You can suppress this warning by setting `self.save_hyperparameters(ignore=['conv_layer_shapes'])`.\n",
      "LOCAL_RANK: 0 - CUDA_VISIBLE_DEVICES: [0]\n",
      "Loading `train_dataloader` to estimate number of stepping batches.\n",
      "\n",
      "  | Name        | Type              | Params | Mode  | In sizes    | Out sizes  \n",
      "--------------------------------------------------------------------------------------\n",
      "0 | conv_layers | Sequential        | 152 K  | train | ?           | ?          \n",
      "1 | projection  | Identity          | 0      | train | [32, 16384] | [32, 16384]\n",
      "2 | classifier  | Linear            | 16.4 K | train | [32, 16384] | [32, 1]    \n",
      "3 | criterion   | BCEWithLogitsLoss | 0      | train | ?           | ?          \n",
      "--------------------------------------------------------------------------------------\n",
      "168 K     Trainable params\n",
      "0         Non-trainable params\n",
      "168 K     Total params\n",
      "0.674     Total estimated model params size (MB)\n",
      "15        Modules in train mode\n",
      "0         Modules in eval mode\n"
     ]
    },
    {
     "data": {
      "application/vnd.jupyter.widget-view+json": {
       "model_id": "a9a8c82c87204d608f4c782d44be4d0d",
       "version_major": 2,
       "version_minor": 0
      },
      "text/plain": [
       "Sanity Checking: |          | 0/? [00:00<?, ?it/s]"
      ]
     },
     "metadata": {},
     "output_type": "display_data"
    },
    {
     "data": {
      "application/vnd.jupyter.widget-view+json": {
       "model_id": "b95b7539be754fd895e5b9863da2fb1f",
       "version_major": 2,
       "version_minor": 0
      },
      "text/plain": [
       "Training: |          | 0/? [00:00<?, ?it/s]"
      ]
     },
     "metadata": {},
     "output_type": "display_data"
    },
    {
     "data": {
      "application/vnd.jupyter.widget-view+json": {
       "model_id": "d89ee1036ec34836a6af30fd604049ea",
       "version_major": 2,
       "version_minor": 0
      },
      "text/plain": [
       "Validation: |          | 0/? [00:00<?, ?it/s]"
      ]
     },
     "metadata": {},
     "output_type": "display_data"
    },
    {
     "data": {
      "application/vnd.jupyter.widget-view+json": {
       "model_id": "f3e60e86281e4134b10a6ffd9985d823",
       "version_major": 2,
       "version_minor": 0
      },
      "text/plain": [
       "Validation: |          | 0/? [00:00<?, ?it/s]"
      ]
     },
     "metadata": {},
     "output_type": "display_data"
    },
    {
     "data": {
      "application/vnd.jupyter.widget-view+json": {
       "model_id": "ea40e4ccea7443508fd8cd753d0aff4a",
       "version_major": 2,
       "version_minor": 0
      },
      "text/plain": [
       "Validation: |          | 0/? [00:00<?, ?it/s]"
      ]
     },
     "metadata": {},
     "output_type": "display_data"
    },
    {
     "data": {
      "application/vnd.jupyter.widget-view+json": {
       "model_id": "46dfb028e2a34764b637239f4e8b1b7a",
       "version_major": 2,
       "version_minor": 0
      },
      "text/plain": [
       "Validation: |          | 0/? [00:00<?, ?it/s]"
      ]
     },
     "metadata": {},
     "output_type": "display_data"
    },
    {
     "data": {
      "application/vnd.jupyter.widget-view+json": {
       "model_id": "3406b7fd39d44e69ba4bba54e7f77184",
       "version_major": 2,
       "version_minor": 0
      },
      "text/plain": [
       "Validation: |          | 0/? [00:00<?, ?it/s]"
      ]
     },
     "metadata": {},
     "output_type": "display_data"
    },
    {
     "data": {
      "application/vnd.jupyter.widget-view+json": {
       "model_id": "389d2bc9bc2c474c9a1c53f6c57a721f",
       "version_major": 2,
       "version_minor": 0
      },
      "text/plain": [
       "Validation: |          | 0/? [00:00<?, ?it/s]"
      ]
     },
     "metadata": {},
     "output_type": "display_data"
    },
    {
     "data": {
      "application/vnd.jupyter.widget-view+json": {
       "model_id": "93bbee0eba0f4d9288dbd578b65fcd69",
       "version_major": 2,
       "version_minor": 0
      },
      "text/plain": [
       "Validation: |          | 0/? [00:00<?, ?it/s]"
      ]
     },
     "metadata": {},
     "output_type": "display_data"
    },
    {
     "data": {
      "application/vnd.jupyter.widget-view+json": {
       "model_id": "66dd0c45fd574390956edc9a00736207",
       "version_major": 2,
       "version_minor": 0
      },
      "text/plain": [
       "Validation: |          | 0/? [00:00<?, ?it/s]"
      ]
     },
     "metadata": {},
     "output_type": "display_data"
    },
    {
     "data": {
      "application/vnd.jupyter.widget-view+json": {
       "model_id": "a2aa434066644e5ebf48d01eeac7d1ad",
       "version_major": 2,
       "version_minor": 0
      },
      "text/plain": [
       "Validation: |          | 0/? [00:00<?, ?it/s]"
      ]
     },
     "metadata": {},
     "output_type": "display_data"
    },
    {
     "data": {
      "application/vnd.jupyter.widget-view+json": {
       "model_id": "9430031b2cdf4dfeb571144089837fd0",
       "version_major": 2,
       "version_minor": 0
      },
      "text/plain": [
       "Validation: |          | 0/? [00:00<?, ?it/s]"
      ]
     },
     "metadata": {},
     "output_type": "display_data"
    },
    {
     "data": {
      "application/vnd.jupyter.widget-view+json": {
       "model_id": "442f05cc3151436080d6a90e58a258e8",
       "version_major": 2,
       "version_minor": 0
      },
      "text/plain": [
       "Validation: |          | 0/? [00:00<?, ?it/s]"
      ]
     },
     "metadata": {},
     "output_type": "display_data"
    },
    {
     "data": {
      "application/vnd.jupyter.widget-view+json": {
       "model_id": "0ec8905cb9f441eabe53dc52c7549657",
       "version_major": 2,
       "version_minor": 0
      },
      "text/plain": [
       "Validation: |          | 0/? [00:00<?, ?it/s]"
      ]
     },
     "metadata": {},
     "output_type": "display_data"
    },
    {
     "data": {
      "application/vnd.jupyter.widget-view+json": {
       "model_id": "7b6d5959a0624467948fb96471858b8f",
       "version_major": 2,
       "version_minor": 0
      },
      "text/plain": [
       "Validation: |          | 0/? [00:00<?, ?it/s]"
      ]
     },
     "metadata": {},
     "output_type": "display_data"
    },
    {
     "data": {
      "application/vnd.jupyter.widget-view+json": {
       "model_id": "fb346af043fd4b9483069b56388e06f5",
       "version_major": 2,
       "version_minor": 0
      },
      "text/plain": [
       "Validation: |          | 0/? [00:00<?, ?it/s]"
      ]
     },
     "metadata": {},
     "output_type": "display_data"
    },
    {
     "data": {
      "application/vnd.jupyter.widget-view+json": {
       "model_id": "d90812f26218427a812235e45448f803",
       "version_major": 2,
       "version_minor": 0
      },
      "text/plain": [
       "Validation: |          | 0/? [00:00<?, ?it/s]"
      ]
     },
     "metadata": {},
     "output_type": "display_data"
    },
    {
     "data": {
      "application/vnd.jupyter.widget-view+json": {
       "model_id": "975840d7c5324da89727c7f4fbedf94b",
       "version_major": 2,
       "version_minor": 0
      },
      "text/plain": [
       "Validation: |          | 0/? [00:00<?, ?it/s]"
      ]
     },
     "metadata": {},
     "output_type": "display_data"
    },
    {
     "data": {
      "application/vnd.jupyter.widget-view+json": {
       "model_id": "e65857bf534a43fb9db78eeb0822c6d6",
       "version_major": 2,
       "version_minor": 0
      },
      "text/plain": [
       "Validation: |          | 0/? [00:00<?, ?it/s]"
      ]
     },
     "metadata": {},
     "output_type": "display_data"
    },
    {
     "data": {
      "application/vnd.jupyter.widget-view+json": {
       "model_id": "90c3e3bcdb8c43059150163199f9fe99",
       "version_major": 2,
       "version_minor": 0
      },
      "text/plain": [
       "Validation: |          | 0/? [00:00<?, ?it/s]"
      ]
     },
     "metadata": {},
     "output_type": "display_data"
    },
    {
     "data": {
      "application/vnd.jupyter.widget-view+json": {
       "model_id": "2d28d97cf7b54991bb23ac6c35642fd0",
       "version_major": 2,
       "version_minor": 0
      },
      "text/plain": [
       "Validation: |          | 0/? [00:00<?, ?it/s]"
      ]
     },
     "metadata": {},
     "output_type": "display_data"
    },
    {
     "data": {
      "application/vnd.jupyter.widget-view+json": {
       "model_id": "c108b707e4d64282a101960108151b59",
       "version_major": 2,
       "version_minor": 0
      },
      "text/plain": [
       "Validation: |          | 0/? [00:00<?, ?it/s]"
      ]
     },
     "metadata": {},
     "output_type": "display_data"
    },
    {
     "name": "stderr",
     "output_type": "stream",
     "text": [
      "LOCAL_RANK: 0 - CUDA_VISIBLE_DEVICES: [0]\n",
      "LOCAL_RANK: 0 - CUDA_VISIBLE_DEVICES: [0]\n",
      "LOCAL_RANK: 0 - CUDA_VISIBLE_DEVICES: [0]\n",
      "LOCAL_RANK: 0 - CUDA_VISIBLE_DEVICES: [0]\n",
      "LOCAL_RANK: 0 - CUDA_VISIBLE_DEVICES: [0]\n",
      "LOCAL_RANK: 0 - CUDA_VISIBLE_DEVICES: [0]\n",
      "LOCAL_RANK: 0 - CUDA_VISIBLE_DEVICES: [0]\n",
      "LOCAL_RANK: 0 - CUDA_VISIBLE_DEVICES: [0]\n",
      "LOCAL_RANK: 0 - CUDA_VISIBLE_DEVICES: [0]\n",
      "LOCAL_RANK: 0 - CUDA_VISIBLE_DEVICES: [0]\n",
      "LOCAL_RANK: 0 - CUDA_VISIBLE_DEVICES: [0]\n",
      "LOCAL_RANK: 0 - CUDA_VISIBLE_DEVICES: [0]\n",
      "LOCAL_RANK: 0 - CUDA_VISIBLE_DEVICES: [0]\n",
      "LOCAL_RANK: 0 - CUDA_VISIBLE_DEVICES: [0]\n",
      "LOCAL_RANK: 0 - CUDA_VISIBLE_DEVICES: [0]\n",
      "LOCAL_RANK: 0 - CUDA_VISIBLE_DEVICES: [0]\n",
      "LOCAL_RANK: 0 - CUDA_VISIBLE_DEVICES: [0]\n",
      "LOCAL_RANK: 0 - CUDA_VISIBLE_DEVICES: [0]\n",
      "Seed set to 1337\n"
     ]
    },
    {
     "name": "stdout",
     "output_type": "stream",
     "text": [
      "CNN News [{'other': 'Blog Authorship', 'test_loss': 2.6755316257476807, 'test_acc@0.5': 0.5194346308708191, 'test_roc_auc': 0.24295739829540253, 'test_acc': 0.5229681730270386}, {'other': 'Student Essays', 'test_loss': 1.0468742847442627, 'test_acc@0.5': 0.7099999785423279, 'test_roc_auc': 0.7954666614532471, 'test_acc': 0.7099999785423279}, {'other': 'CNN News', 'test_loss': 0.20822416245937347, 'test_acc@0.5': 0.9133333563804626, 'test_roc_auc': 0.9815999865531921, 'test_acc': 0.9433333277702332}, {'other': 'Euro Court Cases', 'test_loss': 0.37343406677246094, 'test_acc@0.5': 0.8500000238418579, 'test_roc_auc': 0.9469777941703796, 'test_acc': 0.8933333158493042}, {'other': 'House of Commons', 'test_loss': 0.6511669158935547, 'test_acc@0.5': 0.8456375598907471, 'test_roc_auc': 0.846486508846283, 'test_acc': 0.8557047247886658}, {'other': 'ArXiv Papers', 'test_loss': 0.7939708828926086, 'test_acc@0.5': 0.8054607510566711, 'test_roc_auc': 0.8560246229171753, 'test_acc': 0.8361774682998657}, {'other': 'Gutenberg', 'test_loss': 0.5414149165153503, 'test_acc@0.5': 0.8522336483001709, 'test_roc_auc': 0.9048227071762085, 'test_acc': 0.8350515365600586}, {'other': 'Bundestag [DE]', 'test_loss': 2.9237289428710938, 'test_acc@0.5': 0.4879724979400635, 'test_roc_auc': 0.7287077903747559, 'test_acc': 0.4879724979400635}, {'other': 'Spiegel [DE]', 'test_loss': 2.941007137298584, 'test_acc@0.5': 0.5050167441368103, 'test_roc_auc': 0.6568232774734497, 'test_acc': 0.5083612203598022}]\n"
     ]
    },
    {
     "name": "stderr",
     "output_type": "stream",
     "text": [
      "GPU available: True (cuda), used: True\n",
      "TPU available: False, using: 0 TPU cores\n",
      "HPU available: False, using: 0 HPUs\n",
      "/home/mastoeck/Projects/PrismAI/PrismAI/.venv/lib/python3.12/site-packages/lightning/pytorch/utilities/parsing.py:45: Attribute 'feature_dim' removed from hparams because it cannot be pickled. You can suppress this warning by setting `self.save_hyperparameters(ignore=['feature_dim'])`.\n",
      "/home/mastoeck/Projects/PrismAI/PrismAI/.venv/lib/python3.12/site-packages/lightning/pytorch/utilities/parsing.py:45: Attribute 'conv_layer_shapes' removed from hparams because it cannot be pickled. You can suppress this warning by setting `self.save_hyperparameters(ignore=['conv_layer_shapes'])`.\n",
      "LOCAL_RANK: 0 - CUDA_VISIBLE_DEVICES: [0]\n",
      "Loading `train_dataloader` to estimate number of stepping batches.\n",
      "\n",
      "  | Name        | Type              | Params | Mode  | In sizes    | Out sizes  \n",
      "--------------------------------------------------------------------------------------\n",
      "0 | conv_layers | Sequential        | 152 K  | train | ?           | ?          \n",
      "1 | projection  | Identity          | 0      | train | [32, 16384] | [32, 16384]\n",
      "2 | classifier  | Linear            | 16.4 K | train | [32, 16384] | [32, 1]    \n",
      "3 | criterion   | BCEWithLogitsLoss | 0      | train | ?           | ?          \n",
      "--------------------------------------------------------------------------------------\n",
      "168 K     Trainable params\n",
      "0         Non-trainable params\n",
      "168 K     Total params\n",
      "0.674     Total estimated model params size (MB)\n",
      "15        Modules in train mode\n",
      "0         Modules in eval mode\n"
     ]
    },
    {
     "data": {
      "application/vnd.jupyter.widget-view+json": {
       "model_id": "39f1d64b3f5b4a28bed0991a3e9ebc77",
       "version_major": 2,
       "version_minor": 0
      },
      "text/plain": [
       "Sanity Checking: |          | 0/? [00:00<?, ?it/s]"
      ]
     },
     "metadata": {},
     "output_type": "display_data"
    },
    {
     "data": {
      "application/vnd.jupyter.widget-view+json": {
       "model_id": "a707ea15a2b6423bb15c309b9e66b7aa",
       "version_major": 2,
       "version_minor": 0
      },
      "text/plain": [
       "Training: |          | 0/? [00:00<?, ?it/s]"
      ]
     },
     "metadata": {},
     "output_type": "display_data"
    },
    {
     "data": {
      "application/vnd.jupyter.widget-view+json": {
       "model_id": "ed830413cea14d6686230c7e54456345",
       "version_major": 2,
       "version_minor": 0
      },
      "text/plain": [
       "Validation: |          | 0/? [00:00<?, ?it/s]"
      ]
     },
     "metadata": {},
     "output_type": "display_data"
    },
    {
     "data": {
      "application/vnd.jupyter.widget-view+json": {
       "model_id": "19fde93620da4bc7a6e196a6f34c2134",
       "version_major": 2,
       "version_minor": 0
      },
      "text/plain": [
       "Validation: |          | 0/? [00:00<?, ?it/s]"
      ]
     },
     "metadata": {},
     "output_type": "display_data"
    },
    {
     "data": {
      "application/vnd.jupyter.widget-view+json": {
       "model_id": "99a58b15d6aa47b6bec4da91c2e679f5",
       "version_major": 2,
       "version_minor": 0
      },
      "text/plain": [
       "Validation: |          | 0/? [00:00<?, ?it/s]"
      ]
     },
     "metadata": {},
     "output_type": "display_data"
    },
    {
     "data": {
      "application/vnd.jupyter.widget-view+json": {
       "model_id": "59bf52e07558449b93cec8b2aeea34ce",
       "version_major": 2,
       "version_minor": 0
      },
      "text/plain": [
       "Validation: |          | 0/? [00:00<?, ?it/s]"
      ]
     },
     "metadata": {},
     "output_type": "display_data"
    },
    {
     "data": {
      "application/vnd.jupyter.widget-view+json": {
       "model_id": "4892a990ca0a490f9582076ec1528684",
       "version_major": 2,
       "version_minor": 0
      },
      "text/plain": [
       "Validation: |          | 0/? [00:00<?, ?it/s]"
      ]
     },
     "metadata": {},
     "output_type": "display_data"
    },
    {
     "data": {
      "application/vnd.jupyter.widget-view+json": {
       "model_id": "8f93fa11cef444aaa20ef11722813013",
       "version_major": 2,
       "version_minor": 0
      },
      "text/plain": [
       "Validation: |          | 0/? [00:00<?, ?it/s]"
      ]
     },
     "metadata": {},
     "output_type": "display_data"
    },
    {
     "data": {
      "application/vnd.jupyter.widget-view+json": {
       "model_id": "6465675312e84ec589dfef1d990af188",
       "version_major": 2,
       "version_minor": 0
      },
      "text/plain": [
       "Validation: |          | 0/? [00:00<?, ?it/s]"
      ]
     },
     "metadata": {},
     "output_type": "display_data"
    },
    {
     "data": {
      "application/vnd.jupyter.widget-view+json": {
       "model_id": "f4e21119f04f4dd1b62b75421452fe1f",
       "version_major": 2,
       "version_minor": 0
      },
      "text/plain": [
       "Validation: |          | 0/? [00:00<?, ?it/s]"
      ]
     },
     "metadata": {},
     "output_type": "display_data"
    },
    {
     "data": {
      "application/vnd.jupyter.widget-view+json": {
       "model_id": "965bf443bcb9436498e9e7d56bf4d6dc",
       "version_major": 2,
       "version_minor": 0
      },
      "text/plain": [
       "Validation: |          | 0/? [00:00<?, ?it/s]"
      ]
     },
     "metadata": {},
     "output_type": "display_data"
    },
    {
     "data": {
      "application/vnd.jupyter.widget-view+json": {
       "model_id": "98da0ffdcb5847608734a7acbc8cf646",
       "version_major": 2,
       "version_minor": 0
      },
      "text/plain": [
       "Validation: |          | 0/? [00:00<?, ?it/s]"
      ]
     },
     "metadata": {},
     "output_type": "display_data"
    },
    {
     "data": {
      "application/vnd.jupyter.widget-view+json": {
       "model_id": "21d039e9394c46fea21b65deeec18d8e",
       "version_major": 2,
       "version_minor": 0
      },
      "text/plain": [
       "Validation: |          | 0/? [00:00<?, ?it/s]"
      ]
     },
     "metadata": {},
     "output_type": "display_data"
    },
    {
     "data": {
      "application/vnd.jupyter.widget-view+json": {
       "model_id": "97749664c05d48808132e1f35c835fca",
       "version_major": 2,
       "version_minor": 0
      },
      "text/plain": [
       "Validation: |          | 0/? [00:00<?, ?it/s]"
      ]
     },
     "metadata": {},
     "output_type": "display_data"
    },
    {
     "data": {
      "application/vnd.jupyter.widget-view+json": {
       "model_id": "abd19140a2734dc1a2da694c340600ac",
       "version_major": 2,
       "version_minor": 0
      },
      "text/plain": [
       "Validation: |          | 0/? [00:00<?, ?it/s]"
      ]
     },
     "metadata": {},
     "output_type": "display_data"
    },
    {
     "data": {
      "application/vnd.jupyter.widget-view+json": {
       "model_id": "6ffc2a2db8e2462d827a1508344b8485",
       "version_major": 2,
       "version_minor": 0
      },
      "text/plain": [
       "Validation: |          | 0/? [00:00<?, ?it/s]"
      ]
     },
     "metadata": {},
     "output_type": "display_data"
    },
    {
     "data": {
      "application/vnd.jupyter.widget-view+json": {
       "model_id": "a58d8fab45eb4a3ba1f03e28450eeb74",
       "version_major": 2,
       "version_minor": 0
      },
      "text/plain": [
       "Validation: |          | 0/? [00:00<?, ?it/s]"
      ]
     },
     "metadata": {},
     "output_type": "display_data"
    },
    {
     "data": {
      "application/vnd.jupyter.widget-view+json": {
       "model_id": "d04c241b024e47b3aad0c75ea7e29579",
       "version_major": 2,
       "version_minor": 0
      },
      "text/plain": [
       "Validation: |          | 0/? [00:00<?, ?it/s]"
      ]
     },
     "metadata": {},
     "output_type": "display_data"
    },
    {
     "data": {
      "application/vnd.jupyter.widget-view+json": {
       "model_id": "469df8b2060f47158c82dbc8737e2c58",
       "version_major": 2,
       "version_minor": 0
      },
      "text/plain": [
       "Validation: |          | 0/? [00:00<?, ?it/s]"
      ]
     },
     "metadata": {},
     "output_type": "display_data"
    },
    {
     "data": {
      "application/vnd.jupyter.widget-view+json": {
       "model_id": "9d1385db831640ce932a67354ba522e1",
       "version_major": 2,
       "version_minor": 0
      },
      "text/plain": [
       "Validation: |          | 0/? [00:00<?, ?it/s]"
      ]
     },
     "metadata": {},
     "output_type": "display_data"
    },
    {
     "data": {
      "application/vnd.jupyter.widget-view+json": {
       "model_id": "f4b9028752cf485ea81dabc374e58a76",
       "version_major": 2,
       "version_minor": 0
      },
      "text/plain": [
       "Validation: |          | 0/? [00:00<?, ?it/s]"
      ]
     },
     "metadata": {},
     "output_type": "display_data"
    },
    {
     "data": {
      "application/vnd.jupyter.widget-view+json": {
       "model_id": "634e79a2f2c64a78aae68df4ce1a4c4e",
       "version_major": 2,
       "version_minor": 0
      },
      "text/plain": [
       "Validation: |          | 0/? [00:00<?, ?it/s]"
      ]
     },
     "metadata": {},
     "output_type": "display_data"
    },
    {
     "data": {
      "application/vnd.jupyter.widget-view+json": {
       "model_id": "e8e437a9964042e6a62f85ed707e50d3",
       "version_major": 2,
       "version_minor": 0
      },
      "text/plain": [
       "Validation: |          | 0/? [00:00<?, ?it/s]"
      ]
     },
     "metadata": {},
     "output_type": "display_data"
    },
    {
     "data": {
      "application/vnd.jupyter.widget-view+json": {
       "model_id": "f1ea043c64d241e88e52bb6a4d5cc711",
       "version_major": 2,
       "version_minor": 0
      },
      "text/plain": [
       "Validation: |          | 0/? [00:00<?, ?it/s]"
      ]
     },
     "metadata": {},
     "output_type": "display_data"
    },
    {
     "data": {
      "application/vnd.jupyter.widget-view+json": {
       "model_id": "f625072eb25e4aa9bc68dabcb361cd0a",
       "version_major": 2,
       "version_minor": 0
      },
      "text/plain": [
       "Validation: |          | 0/? [00:00<?, ?it/s]"
      ]
     },
     "metadata": {},
     "output_type": "display_data"
    },
    {
     "data": {
      "application/vnd.jupyter.widget-view+json": {
       "model_id": "39726ad3eed242ae91c7d1dd0e3aca92",
       "version_major": 2,
       "version_minor": 0
      },
      "text/plain": [
       "Validation: |          | 0/? [00:00<?, ?it/s]"
      ]
     },
     "metadata": {},
     "output_type": "display_data"
    },
    {
     "data": {
      "application/vnd.jupyter.widget-view+json": {
       "model_id": "34581670f9184991bc48540f2bea4e97",
       "version_major": 2,
       "version_minor": 0
      },
      "text/plain": [
       "Validation: |          | 0/? [00:00<?, ?it/s]"
      ]
     },
     "metadata": {},
     "output_type": "display_data"
    },
    {
     "data": {
      "application/vnd.jupyter.widget-view+json": {
       "model_id": "df6effc46fd64ce39530868439c012e1",
       "version_major": 2,
       "version_minor": 0
      },
      "text/plain": [
       "Validation: |          | 0/? [00:00<?, ?it/s]"
      ]
     },
     "metadata": {},
     "output_type": "display_data"
    },
    {
     "name": "stderr",
     "output_type": "stream",
     "text": [
      "LOCAL_RANK: 0 - CUDA_VISIBLE_DEVICES: [0]\n",
      "LOCAL_RANK: 0 - CUDA_VISIBLE_DEVICES: [0]\n",
      "LOCAL_RANK: 0 - CUDA_VISIBLE_DEVICES: [0]\n",
      "LOCAL_RANK: 0 - CUDA_VISIBLE_DEVICES: [0]\n",
      "LOCAL_RANK: 0 - CUDA_VISIBLE_DEVICES: [0]\n",
      "LOCAL_RANK: 0 - CUDA_VISIBLE_DEVICES: [0]\n",
      "LOCAL_RANK: 0 - CUDA_VISIBLE_DEVICES: [0]\n",
      "LOCAL_RANK: 0 - CUDA_VISIBLE_DEVICES: [0]\n",
      "LOCAL_RANK: 0 - CUDA_VISIBLE_DEVICES: [0]\n",
      "LOCAL_RANK: 0 - CUDA_VISIBLE_DEVICES: [0]\n",
      "LOCAL_RANK: 0 - CUDA_VISIBLE_DEVICES: [0]\n",
      "LOCAL_RANK: 0 - CUDA_VISIBLE_DEVICES: [0]\n",
      "LOCAL_RANK: 0 - CUDA_VISIBLE_DEVICES: [0]\n",
      "LOCAL_RANK: 0 - CUDA_VISIBLE_DEVICES: [0]\n",
      "LOCAL_RANK: 0 - CUDA_VISIBLE_DEVICES: [0]\n",
      "LOCAL_RANK: 0 - CUDA_VISIBLE_DEVICES: [0]\n",
      "LOCAL_RANK: 0 - CUDA_VISIBLE_DEVICES: [0]\n",
      "LOCAL_RANK: 0 - CUDA_VISIBLE_DEVICES: [0]\n",
      "Seed set to 1337\n"
     ]
    },
    {
     "name": "stdout",
     "output_type": "stream",
     "text": [
      "Euro Court Cases [{'other': 'Blog Authorship', 'test_loss': 3.750967264175415, 'test_acc@0.5': 0.46289753913879395, 'test_roc_auc': 0.26654136180877686, 'test_acc': 0.40282684564590454}, {'other': 'Student Essays', 'test_loss': 1.239440679550171, 'test_acc@0.5': 0.75, 'test_roc_auc': 0.8228444457054138, 'test_acc': 0.6933333277702332}, {'other': 'CNN News', 'test_loss': 0.4872305989265442, 'test_acc@0.5': 0.8533333539962769, 'test_roc_auc': 0.9318666458129883, 'test_acc': 0.8266666531562805}, {'other': 'Euro Court Cases', 'test_loss': 0.12037040293216705, 'test_acc@0.5': 0.95333331823349, 'test_roc_auc': 0.9942666888237, 'test_acc': 0.9633333086967468}, {'other': 'House of Commons', 'test_loss': 0.5555992126464844, 'test_acc@0.5': 0.8523489832878113, 'test_roc_auc': 0.9129729866981506, 'test_acc': 0.744966447353363}, {'other': 'ArXiv Papers', 'test_loss': 0.5808747410774231, 'test_acc@0.5': 0.8839590549468994, 'test_roc_auc': 0.9197651743888855, 'test_acc': 0.8361774682998657}, {'other': 'Gutenberg', 'test_loss': 0.8145835995674133, 'test_acc@0.5': 0.7800687551498413, 'test_roc_auc': 0.8719149231910706, 'test_acc': 0.7800687551498413}, {'other': 'Bundestag [DE]', 'test_loss': 6.211577892303467, 'test_acc@0.5': 0.49484536051750183, 'test_roc_auc': 0.5692881941795349, 'test_acc': 0.49140894412994385}, {'other': 'Spiegel [DE]', 'test_loss': 5.682788848876953, 'test_acc@0.5': 0.5016722679138184, 'test_roc_auc': 0.5009396076202393, 'test_acc': 0.5016722679138184}]\n"
     ]
    },
    {
     "name": "stderr",
     "output_type": "stream",
     "text": [
      "GPU available: True (cuda), used: True\n",
      "TPU available: False, using: 0 TPU cores\n",
      "HPU available: False, using: 0 HPUs\n",
      "/home/mastoeck/Projects/PrismAI/PrismAI/.venv/lib/python3.12/site-packages/lightning/pytorch/utilities/parsing.py:45: Attribute 'feature_dim' removed from hparams because it cannot be pickled. You can suppress this warning by setting `self.save_hyperparameters(ignore=['feature_dim'])`.\n",
      "/home/mastoeck/Projects/PrismAI/PrismAI/.venv/lib/python3.12/site-packages/lightning/pytorch/utilities/parsing.py:45: Attribute 'conv_layer_shapes' removed from hparams because it cannot be pickled. You can suppress this warning by setting `self.save_hyperparameters(ignore=['conv_layer_shapes'])`.\n",
      "LOCAL_RANK: 0 - CUDA_VISIBLE_DEVICES: [0]\n",
      "Loading `train_dataloader` to estimate number of stepping batches.\n",
      "\n",
      "  | Name        | Type              | Params | Mode  | In sizes    | Out sizes  \n",
      "--------------------------------------------------------------------------------------\n",
      "0 | conv_layers | Sequential        | 152 K  | train | ?           | ?          \n",
      "1 | projection  | Identity          | 0      | train | [32, 16384] | [32, 16384]\n",
      "2 | classifier  | Linear            | 16.4 K | train | [32, 16384] | [32, 1]    \n",
      "3 | criterion   | BCEWithLogitsLoss | 0      | train | ?           | ?          \n",
      "--------------------------------------------------------------------------------------\n",
      "168 K     Trainable params\n",
      "0         Non-trainable params\n",
      "168 K     Total params\n",
      "0.674     Total estimated model params size (MB)\n",
      "15        Modules in train mode\n",
      "0         Modules in eval mode\n"
     ]
    },
    {
     "data": {
      "application/vnd.jupyter.widget-view+json": {
       "model_id": "4f33ce854dd14ef891604aa99283c6c2",
       "version_major": 2,
       "version_minor": 0
      },
      "text/plain": [
       "Sanity Checking: |          | 0/? [00:00<?, ?it/s]"
      ]
     },
     "metadata": {},
     "output_type": "display_data"
    },
    {
     "data": {
      "application/vnd.jupyter.widget-view+json": {
       "model_id": "a42e7f1ffd274dfcacffb976ea5c600c",
       "version_major": 2,
       "version_minor": 0
      },
      "text/plain": [
       "Training: |          | 0/? [00:00<?, ?it/s]"
      ]
     },
     "metadata": {},
     "output_type": "display_data"
    },
    {
     "data": {
      "application/vnd.jupyter.widget-view+json": {
       "model_id": "6f55a52796a940dca52bb01b06ab2530",
       "version_major": 2,
       "version_minor": 0
      },
      "text/plain": [
       "Validation: |          | 0/? [00:00<?, ?it/s]"
      ]
     },
     "metadata": {},
     "output_type": "display_data"
    },
    {
     "data": {
      "application/vnd.jupyter.widget-view+json": {
       "model_id": "f8f6e26b15404e7c923297c2e39fdba1",
       "version_major": 2,
       "version_minor": 0
      },
      "text/plain": [
       "Validation: |          | 0/? [00:00<?, ?it/s]"
      ]
     },
     "metadata": {},
     "output_type": "display_data"
    },
    {
     "data": {
      "application/vnd.jupyter.widget-view+json": {
       "model_id": "6d2c52fe85e142df8a073ceb6ea26fae",
       "version_major": 2,
       "version_minor": 0
      },
      "text/plain": [
       "Validation: |          | 0/? [00:00<?, ?it/s]"
      ]
     },
     "metadata": {},
     "output_type": "display_data"
    },
    {
     "data": {
      "application/vnd.jupyter.widget-view+json": {
       "model_id": "b2d2695b388a472f9fcd78161ed1d584",
       "version_major": 2,
       "version_minor": 0
      },
      "text/plain": [
       "Validation: |          | 0/? [00:00<?, ?it/s]"
      ]
     },
     "metadata": {},
     "output_type": "display_data"
    },
    {
     "data": {
      "application/vnd.jupyter.widget-view+json": {
       "model_id": "68f05651e85f4c68be555cd5ddbd677f",
       "version_major": 2,
       "version_minor": 0
      },
      "text/plain": [
       "Validation: |          | 0/? [00:00<?, ?it/s]"
      ]
     },
     "metadata": {},
     "output_type": "display_data"
    },
    {
     "data": {
      "application/vnd.jupyter.widget-view+json": {
       "model_id": "bd3962665e9741afb1c51f8c591d0a5b",
       "version_major": 2,
       "version_minor": 0
      },
      "text/plain": [
       "Validation: |          | 0/? [00:00<?, ?it/s]"
      ]
     },
     "metadata": {},
     "output_type": "display_data"
    },
    {
     "data": {
      "application/vnd.jupyter.widget-view+json": {
       "model_id": "129db20da63b482797f33e378cf94a2c",
       "version_major": 2,
       "version_minor": 0
      },
      "text/plain": [
       "Validation: |          | 0/? [00:00<?, ?it/s]"
      ]
     },
     "metadata": {},
     "output_type": "display_data"
    },
    {
     "data": {
      "application/vnd.jupyter.widget-view+json": {
       "model_id": "3bfd29dea25646b199c6b82b9ff6056b",
       "version_major": 2,
       "version_minor": 0
      },
      "text/plain": [
       "Validation: |          | 0/? [00:00<?, ?it/s]"
      ]
     },
     "metadata": {},
     "output_type": "display_data"
    },
    {
     "data": {
      "application/vnd.jupyter.widget-view+json": {
       "model_id": "e72620d365dc44d880631ea8cd0b82ac",
       "version_major": 2,
       "version_minor": 0
      },
      "text/plain": [
       "Validation: |          | 0/? [00:00<?, ?it/s]"
      ]
     },
     "metadata": {},
     "output_type": "display_data"
    },
    {
     "data": {
      "application/vnd.jupyter.widget-view+json": {
       "model_id": "308d06de481f497f94ec65b75151bf44",
       "version_major": 2,
       "version_minor": 0
      },
      "text/plain": [
       "Validation: |          | 0/? [00:00<?, ?it/s]"
      ]
     },
     "metadata": {},
     "output_type": "display_data"
    },
    {
     "data": {
      "application/vnd.jupyter.widget-view+json": {
       "model_id": "f802b5bde2bd488da6ff7ca413f209a4",
       "version_major": 2,
       "version_minor": 0
      },
      "text/plain": [
       "Validation: |          | 0/? [00:00<?, ?it/s]"
      ]
     },
     "metadata": {},
     "output_type": "display_data"
    },
    {
     "data": {
      "application/vnd.jupyter.widget-view+json": {
       "model_id": "b40add6086844cdda4b72614d49ee90e",
       "version_major": 2,
       "version_minor": 0
      },
      "text/plain": [
       "Validation: |          | 0/? [00:00<?, ?it/s]"
      ]
     },
     "metadata": {},
     "output_type": "display_data"
    },
    {
     "data": {
      "application/vnd.jupyter.widget-view+json": {
       "model_id": "38e084c4690441dfabb545778c9a02f5",
       "version_major": 2,
       "version_minor": 0
      },
      "text/plain": [
       "Validation: |          | 0/? [00:00<?, ?it/s]"
      ]
     },
     "metadata": {},
     "output_type": "display_data"
    },
    {
     "data": {
      "application/vnd.jupyter.widget-view+json": {
       "model_id": "ec20daf3db9b41a9822454d4154e5963",
       "version_major": 2,
       "version_minor": 0
      },
      "text/plain": [
       "Validation: |          | 0/? [00:00<?, ?it/s]"
      ]
     },
     "metadata": {},
     "output_type": "display_data"
    },
    {
     "data": {
      "application/vnd.jupyter.widget-view+json": {
       "model_id": "b4395b8b931c4de5976be7e115d6078d",
       "version_major": 2,
       "version_minor": 0
      },
      "text/plain": [
       "Validation: |          | 0/? [00:00<?, ?it/s]"
      ]
     },
     "metadata": {},
     "output_type": "display_data"
    },
    {
     "data": {
      "application/vnd.jupyter.widget-view+json": {
       "model_id": "b3d71eb1203c4ecbb73e039c19dd1035",
       "version_major": 2,
       "version_minor": 0
      },
      "text/plain": [
       "Validation: |          | 0/? [00:00<?, ?it/s]"
      ]
     },
     "metadata": {},
     "output_type": "display_data"
    },
    {
     "data": {
      "application/vnd.jupyter.widget-view+json": {
       "model_id": "2376f27e40cd49a680ace7248f65aa53",
       "version_major": 2,
       "version_minor": 0
      },
      "text/plain": [
       "Validation: |          | 0/? [00:00<?, ?it/s]"
      ]
     },
     "metadata": {},
     "output_type": "display_data"
    },
    {
     "data": {
      "application/vnd.jupyter.widget-view+json": {
       "model_id": "d9c87ea864594aa191f120b7be9a4576",
       "version_major": 2,
       "version_minor": 0
      },
      "text/plain": [
       "Validation: |          | 0/? [00:00<?, ?it/s]"
      ]
     },
     "metadata": {},
     "output_type": "display_data"
    },
    {
     "data": {
      "application/vnd.jupyter.widget-view+json": {
       "model_id": "045ff2cbe6674a69b91bd14e757ee18c",
       "version_major": 2,
       "version_minor": 0
      },
      "text/plain": [
       "Validation: |          | 0/? [00:00<?, ?it/s]"
      ]
     },
     "metadata": {},
     "output_type": "display_data"
    },
    {
     "data": {
      "application/vnd.jupyter.widget-view+json": {
       "model_id": "a0592f58a47b4e409ec596728a3a2c31",
       "version_major": 2,
       "version_minor": 0
      },
      "text/plain": [
       "Validation: |          | 0/? [00:00<?, ?it/s]"
      ]
     },
     "metadata": {},
     "output_type": "display_data"
    },
    {
     "name": "stderr",
     "output_type": "stream",
     "text": [
      "LOCAL_RANK: 0 - CUDA_VISIBLE_DEVICES: [0]\n",
      "LOCAL_RANK: 0 - CUDA_VISIBLE_DEVICES: [0]\n",
      "LOCAL_RANK: 0 - CUDA_VISIBLE_DEVICES: [0]\n",
      "LOCAL_RANK: 0 - CUDA_VISIBLE_DEVICES: [0]\n",
      "LOCAL_RANK: 0 - CUDA_VISIBLE_DEVICES: [0]\n",
      "LOCAL_RANK: 0 - CUDA_VISIBLE_DEVICES: [0]\n",
      "LOCAL_RANK: 0 - CUDA_VISIBLE_DEVICES: [0]\n",
      "LOCAL_RANK: 0 - CUDA_VISIBLE_DEVICES: [0]\n",
      "LOCAL_RANK: 0 - CUDA_VISIBLE_DEVICES: [0]\n",
      "LOCAL_RANK: 0 - CUDA_VISIBLE_DEVICES: [0]\n",
      "LOCAL_RANK: 0 - CUDA_VISIBLE_DEVICES: [0]\n",
      "LOCAL_RANK: 0 - CUDA_VISIBLE_DEVICES: [0]\n",
      "LOCAL_RANK: 0 - CUDA_VISIBLE_DEVICES: [0]\n",
      "LOCAL_RANK: 0 - CUDA_VISIBLE_DEVICES: [0]\n",
      "LOCAL_RANK: 0 - CUDA_VISIBLE_DEVICES: [0]\n",
      "LOCAL_RANK: 0 - CUDA_VISIBLE_DEVICES: [0]\n",
      "LOCAL_RANK: 0 - CUDA_VISIBLE_DEVICES: [0]\n",
      "LOCAL_RANK: 0 - CUDA_VISIBLE_DEVICES: [0]\n",
      "Seed set to 1337\n"
     ]
    },
    {
     "name": "stdout",
     "output_type": "stream",
     "text": [
      "House of Commons [{'other': 'Blog Authorship', 'test_loss': 1.6250951290130615, 'test_acc@0.5': 0.4098939895629883, 'test_roc_auc': 0.4286716878414154, 'test_acc': 0.4416961073875427}, {'other': 'Student Essays', 'test_loss': 0.5336195826530457, 'test_acc@0.5': 0.8266666531562805, 'test_roc_auc': 0.9189333319664001, 'test_acc': 0.8366666436195374}, {'other': 'CNN News', 'test_loss': 0.5140358805656433, 'test_acc@0.5': 0.8066666722297668, 'test_roc_auc': 0.9035999774932861, 'test_acc': 0.8066666722297668}, {'other': 'Euro Court Cases', 'test_loss': 0.6002725958824158, 'test_acc@0.5': 0.8299999833106995, 'test_roc_auc': 0.9213777780532837, 'test_acc': 0.8066666722297668}, {'other': 'House of Commons', 'test_loss': 0.23081710934638977, 'test_acc@0.5': 0.9161073565483093, 'test_roc_auc': 0.9741891622543335, 'test_acc': 0.9228187799453735}, {'other': 'ArXiv Papers', 'test_loss': 0.3865963816642761, 'test_acc@0.5': 0.8976109027862549, 'test_roc_auc': 0.9358866810798645, 'test_acc': 0.8907849788665771}, {'other': 'Gutenberg', 'test_loss': 0.7638420462608337, 'test_acc@0.5': 0.7835051417350769, 'test_roc_auc': 0.882033109664917, 'test_acc': 0.7972508668899536}, {'other': 'Bundestag [DE]', 'test_loss': 3.1861302852630615, 'test_acc@0.5': 0.49140894412994385, 'test_roc_auc': 0.7134889960289001, 'test_acc': 0.49140894412994385}, {'other': 'Spiegel [DE]', 'test_loss': 3.335517168045044, 'test_acc@0.5': 0.5016722679138184, 'test_roc_auc': 0.6538702249526978, 'test_acc': 0.5016722679138184}]\n"
     ]
    },
    {
     "name": "stderr",
     "output_type": "stream",
     "text": [
      "GPU available: True (cuda), used: True\n",
      "TPU available: False, using: 0 TPU cores\n",
      "HPU available: False, using: 0 HPUs\n",
      "/home/mastoeck/Projects/PrismAI/PrismAI/.venv/lib/python3.12/site-packages/lightning/pytorch/utilities/parsing.py:45: Attribute 'feature_dim' removed from hparams because it cannot be pickled. You can suppress this warning by setting `self.save_hyperparameters(ignore=['feature_dim'])`.\n",
      "/home/mastoeck/Projects/PrismAI/PrismAI/.venv/lib/python3.12/site-packages/lightning/pytorch/utilities/parsing.py:45: Attribute 'conv_layer_shapes' removed from hparams because it cannot be pickled. You can suppress this warning by setting `self.save_hyperparameters(ignore=['conv_layer_shapes'])`.\n",
      "LOCAL_RANK: 0 - CUDA_VISIBLE_DEVICES: [0]\n",
      "Loading `train_dataloader` to estimate number of stepping batches.\n",
      "\n",
      "  | Name        | Type              | Params | Mode  | In sizes    | Out sizes  \n",
      "--------------------------------------------------------------------------------------\n",
      "0 | conv_layers | Sequential        | 152 K  | train | ?           | ?          \n",
      "1 | projection  | Identity          | 0      | train | [32, 16384] | [32, 16384]\n",
      "2 | classifier  | Linear            | 16.4 K | train | [32, 16384] | [32, 1]    \n",
      "3 | criterion   | BCEWithLogitsLoss | 0      | train | ?           | ?          \n",
      "--------------------------------------------------------------------------------------\n",
      "168 K     Trainable params\n",
      "0         Non-trainable params\n",
      "168 K     Total params\n",
      "0.674     Total estimated model params size (MB)\n",
      "15        Modules in train mode\n",
      "0         Modules in eval mode\n"
     ]
    },
    {
     "data": {
      "application/vnd.jupyter.widget-view+json": {
       "model_id": "75baa193258e4de895b06fe02542836d",
       "version_major": 2,
       "version_minor": 0
      },
      "text/plain": [
       "Sanity Checking: |          | 0/? [00:00<?, ?it/s]"
      ]
     },
     "metadata": {},
     "output_type": "display_data"
    },
    {
     "data": {
      "application/vnd.jupyter.widget-view+json": {
       "model_id": "ae7896ff8444401b8feee3c1823b2122",
       "version_major": 2,
       "version_minor": 0
      },
      "text/plain": [
       "Training: |          | 0/? [00:00<?, ?it/s]"
      ]
     },
     "metadata": {},
     "output_type": "display_data"
    },
    {
     "data": {
      "application/vnd.jupyter.widget-view+json": {
       "model_id": "20b18e6482304d95b5917ad6c66441cb",
       "version_major": 2,
       "version_minor": 0
      },
      "text/plain": [
       "Validation: |          | 0/? [00:00<?, ?it/s]"
      ]
     },
     "metadata": {},
     "output_type": "display_data"
    },
    {
     "data": {
      "application/vnd.jupyter.widget-view+json": {
       "model_id": "d3208185e27a47619c28303b331eecb9",
       "version_major": 2,
       "version_minor": 0
      },
      "text/plain": [
       "Validation: |          | 0/? [00:00<?, ?it/s]"
      ]
     },
     "metadata": {},
     "output_type": "display_data"
    },
    {
     "data": {
      "application/vnd.jupyter.widget-view+json": {
       "model_id": "574c08e7b59f430e8e02b235b692a66f",
       "version_major": 2,
       "version_minor": 0
      },
      "text/plain": [
       "Validation: |          | 0/? [00:00<?, ?it/s]"
      ]
     },
     "metadata": {},
     "output_type": "display_data"
    },
    {
     "data": {
      "application/vnd.jupyter.widget-view+json": {
       "model_id": "f080b8e31b0c488cbdf6e96a4b49b2c5",
       "version_major": 2,
       "version_minor": 0
      },
      "text/plain": [
       "Validation: |          | 0/? [00:00<?, ?it/s]"
      ]
     },
     "metadata": {},
     "output_type": "display_data"
    },
    {
     "data": {
      "application/vnd.jupyter.widget-view+json": {
       "model_id": "feca91fcd59b4769bb3110c80056548e",
       "version_major": 2,
       "version_minor": 0
      },
      "text/plain": [
       "Validation: |          | 0/? [00:00<?, ?it/s]"
      ]
     },
     "metadata": {},
     "output_type": "display_data"
    },
    {
     "data": {
      "application/vnd.jupyter.widget-view+json": {
       "model_id": "1a9cd0d3053c47acb26b15bfabc11144",
       "version_major": 2,
       "version_minor": 0
      },
      "text/plain": [
       "Validation: |          | 0/? [00:00<?, ?it/s]"
      ]
     },
     "metadata": {},
     "output_type": "display_data"
    },
    {
     "data": {
      "application/vnd.jupyter.widget-view+json": {
       "model_id": "d91eacaa157f4153b18ba2bbca1f8d79",
       "version_major": 2,
       "version_minor": 0
      },
      "text/plain": [
       "Validation: |          | 0/? [00:00<?, ?it/s]"
      ]
     },
     "metadata": {},
     "output_type": "display_data"
    },
    {
     "data": {
      "application/vnd.jupyter.widget-view+json": {
       "model_id": "775c303c23974413b9003a39dee839f3",
       "version_major": 2,
       "version_minor": 0
      },
      "text/plain": [
       "Validation: |          | 0/? [00:00<?, ?it/s]"
      ]
     },
     "metadata": {},
     "output_type": "display_data"
    },
    {
     "data": {
      "application/vnd.jupyter.widget-view+json": {
       "model_id": "1777da0884b7435c81bf3b2f7c401552",
       "version_major": 2,
       "version_minor": 0
      },
      "text/plain": [
       "Validation: |          | 0/? [00:00<?, ?it/s]"
      ]
     },
     "metadata": {},
     "output_type": "display_data"
    },
    {
     "data": {
      "application/vnd.jupyter.widget-view+json": {
       "model_id": "7745d398d909487ebc8825431f6257c5",
       "version_major": 2,
       "version_minor": 0
      },
      "text/plain": [
       "Validation: |          | 0/? [00:00<?, ?it/s]"
      ]
     },
     "metadata": {},
     "output_type": "display_data"
    },
    {
     "data": {
      "application/vnd.jupyter.widget-view+json": {
       "model_id": "4619d9c3cc7147508fe10e9c8c18d9e3",
       "version_major": 2,
       "version_minor": 0
      },
      "text/plain": [
       "Validation: |          | 0/? [00:00<?, ?it/s]"
      ]
     },
     "metadata": {},
     "output_type": "display_data"
    },
    {
     "data": {
      "application/vnd.jupyter.widget-view+json": {
       "model_id": "945f16c22a1442419e7f848d1ff749ae",
       "version_major": 2,
       "version_minor": 0
      },
      "text/plain": [
       "Validation: |          | 0/? [00:00<?, ?it/s]"
      ]
     },
     "metadata": {},
     "output_type": "display_data"
    },
    {
     "data": {
      "application/vnd.jupyter.widget-view+json": {
       "model_id": "cb05b12655a04592b35616da4d902979",
       "version_major": 2,
       "version_minor": 0
      },
      "text/plain": [
       "Validation: |          | 0/? [00:00<?, ?it/s]"
      ]
     },
     "metadata": {},
     "output_type": "display_data"
    },
    {
     "data": {
      "application/vnd.jupyter.widget-view+json": {
       "model_id": "a55bd3bb2c6c4e828bb8b8661c435879",
       "version_major": 2,
       "version_minor": 0
      },
      "text/plain": [
       "Validation: |          | 0/? [00:00<?, ?it/s]"
      ]
     },
     "metadata": {},
     "output_type": "display_data"
    },
    {
     "data": {
      "application/vnd.jupyter.widget-view+json": {
       "model_id": "aeb391b6ce84400384c8f23f6d767d61",
       "version_major": 2,
       "version_minor": 0
      },
      "text/plain": [
       "Validation: |          | 0/? [00:00<?, ?it/s]"
      ]
     },
     "metadata": {},
     "output_type": "display_data"
    },
    {
     "data": {
      "application/vnd.jupyter.widget-view+json": {
       "model_id": "301faa36c6c843798c9173d14ffac9fd",
       "version_major": 2,
       "version_minor": 0
      },
      "text/plain": [
       "Validation: |          | 0/? [00:00<?, ?it/s]"
      ]
     },
     "metadata": {},
     "output_type": "display_data"
    },
    {
     "data": {
      "application/vnd.jupyter.widget-view+json": {
       "model_id": "b05035a6afd84265a1707a055febccd5",
       "version_major": 2,
       "version_minor": 0
      },
      "text/plain": [
       "Validation: |          | 0/? [00:00<?, ?it/s]"
      ]
     },
     "metadata": {},
     "output_type": "display_data"
    },
    {
     "data": {
      "application/vnd.jupyter.widget-view+json": {
       "model_id": "164eba30fbec4767b10c22630c3bc946",
       "version_major": 2,
       "version_minor": 0
      },
      "text/plain": [
       "Validation: |          | 0/? [00:00<?, ?it/s]"
      ]
     },
     "metadata": {},
     "output_type": "display_data"
    },
    {
     "name": "stderr",
     "output_type": "stream",
     "text": [
      "LOCAL_RANK: 0 - CUDA_VISIBLE_DEVICES: [0]\n",
      "LOCAL_RANK: 0 - CUDA_VISIBLE_DEVICES: [0]\n",
      "LOCAL_RANK: 0 - CUDA_VISIBLE_DEVICES: [0]\n",
      "LOCAL_RANK: 0 - CUDA_VISIBLE_DEVICES: [0]\n",
      "LOCAL_RANK: 0 - CUDA_VISIBLE_DEVICES: [0]\n",
      "LOCAL_RANK: 0 - CUDA_VISIBLE_DEVICES: [0]\n",
      "LOCAL_RANK: 0 - CUDA_VISIBLE_DEVICES: [0]\n",
      "LOCAL_RANK: 0 - CUDA_VISIBLE_DEVICES: [0]\n",
      "LOCAL_RANK: 0 - CUDA_VISIBLE_DEVICES: [0]\n",
      "LOCAL_RANK: 0 - CUDA_VISIBLE_DEVICES: [0]\n",
      "LOCAL_RANK: 0 - CUDA_VISIBLE_DEVICES: [0]\n",
      "LOCAL_RANK: 0 - CUDA_VISIBLE_DEVICES: [0]\n",
      "LOCAL_RANK: 0 - CUDA_VISIBLE_DEVICES: [0]\n",
      "LOCAL_RANK: 0 - CUDA_VISIBLE_DEVICES: [0]\n",
      "LOCAL_RANK: 0 - CUDA_VISIBLE_DEVICES: [0]\n",
      "LOCAL_RANK: 0 - CUDA_VISIBLE_DEVICES: [0]\n",
      "LOCAL_RANK: 0 - CUDA_VISIBLE_DEVICES: [0]\n",
      "LOCAL_RANK: 0 - CUDA_VISIBLE_DEVICES: [0]\n",
      "Seed set to 1337\n"
     ]
    },
    {
     "name": "stdout",
     "output_type": "stream",
     "text": [
      "ArXiv Papers [{'other': 'Blog Authorship', 'test_loss': 3.663987159729004, 'test_acc@0.5': 0.5017668008804321, 'test_roc_auc': 0.5705012679100037, 'test_acc': 0.5017668008804321}, {'other': 'Student Essays', 'test_loss': 0.6074722409248352, 'test_acc@0.5': 0.800000011920929, 'test_roc_auc': 0.8910222053527832, 'test_acc': 0.8100000023841858}, {'other': 'CNN News', 'test_loss': 0.47591787576675415, 'test_acc@0.5': 0.8100000023841858, 'test_roc_auc': 0.8979555368423462, 'test_acc': 0.8266666531562805}, {'other': 'Euro Court Cases', 'test_loss': 0.6954304575920105, 'test_acc@0.5': 0.7599999904632568, 'test_roc_auc': 0.9099110960960388, 'test_acc': 0.7433333396911621}, {'other': 'House of Commons', 'test_loss': 0.6852285265922546, 'test_acc@0.5': 0.8389261960983276, 'test_roc_auc': 0.8872522711753845, 'test_acc': 0.8557047247886658}, {'other': 'ArXiv Papers', 'test_loss': 0.1830557882785797, 'test_acc@0.5': 0.9317406415939331, 'test_roc_auc': 0.9794986248016357, 'test_acc': 0.9215016961097717}, {'other': 'Gutenberg', 'test_loss': 0.5761012434959412, 'test_acc@0.5': 0.8178694248199463, 'test_roc_auc': 0.9111111164093018, 'test_acc': 0.838487982749939}, {'other': 'Bundestag [DE]', 'test_loss': 2.2733447551727295, 'test_acc@0.5': 0.49140894412994385, 'test_roc_auc': 0.6036959886550903, 'test_acc': 0.4879724979400635}, {'other': 'Spiegel [DE]', 'test_loss': 2.197226047515869, 'test_acc@0.5': 0.49163880944252014, 'test_roc_auc': 0.4978523552417755, 'test_acc': 0.49163880944252014}]\n"
     ]
    },
    {
     "name": "stderr",
     "output_type": "stream",
     "text": [
      "GPU available: True (cuda), used: True\n",
      "TPU available: False, using: 0 TPU cores\n",
      "HPU available: False, using: 0 HPUs\n",
      "/home/mastoeck/Projects/PrismAI/PrismAI/.venv/lib/python3.12/site-packages/lightning/pytorch/utilities/parsing.py:45: Attribute 'feature_dim' removed from hparams because it cannot be pickled. You can suppress this warning by setting `self.save_hyperparameters(ignore=['feature_dim'])`.\n",
      "/home/mastoeck/Projects/PrismAI/PrismAI/.venv/lib/python3.12/site-packages/lightning/pytorch/utilities/parsing.py:45: Attribute 'conv_layer_shapes' removed from hparams because it cannot be pickled. You can suppress this warning by setting `self.save_hyperparameters(ignore=['conv_layer_shapes'])`.\n",
      "LOCAL_RANK: 0 - CUDA_VISIBLE_DEVICES: [0]\n",
      "Loading `train_dataloader` to estimate number of stepping batches.\n",
      "\n",
      "  | Name        | Type              | Params | Mode  | In sizes    | Out sizes  \n",
      "--------------------------------------------------------------------------------------\n",
      "0 | conv_layers | Sequential        | 152 K  | train | ?           | ?          \n",
      "1 | projection  | Identity          | 0      | train | [32, 16384] | [32, 16384]\n",
      "2 | classifier  | Linear            | 16.4 K | train | [32, 16384] | [32, 1]    \n",
      "3 | criterion   | BCEWithLogitsLoss | 0      | train | ?           | ?          \n",
      "--------------------------------------------------------------------------------------\n",
      "168 K     Trainable params\n",
      "0         Non-trainable params\n",
      "168 K     Total params\n",
      "0.674     Total estimated model params size (MB)\n",
      "15        Modules in train mode\n",
      "0         Modules in eval mode\n"
     ]
    },
    {
     "data": {
      "application/vnd.jupyter.widget-view+json": {
       "model_id": "82bb735a29034e99815c6850c0764208",
       "version_major": 2,
       "version_minor": 0
      },
      "text/plain": [
       "Sanity Checking: |          | 0/? [00:00<?, ?it/s]"
      ]
     },
     "metadata": {},
     "output_type": "display_data"
    },
    {
     "data": {
      "application/vnd.jupyter.widget-view+json": {
       "model_id": "e309e82089f44b06970e7d531b11cf82",
       "version_major": 2,
       "version_minor": 0
      },
      "text/plain": [
       "Training: |          | 0/? [00:00<?, ?it/s]"
      ]
     },
     "metadata": {},
     "output_type": "display_data"
    },
    {
     "data": {
      "application/vnd.jupyter.widget-view+json": {
       "model_id": "2f361da425d44e8aa6d833655482e5dc",
       "version_major": 2,
       "version_minor": 0
      },
      "text/plain": [
       "Validation: |          | 0/? [00:00<?, ?it/s]"
      ]
     },
     "metadata": {},
     "output_type": "display_data"
    },
    {
     "data": {
      "application/vnd.jupyter.widget-view+json": {
       "model_id": "df36e41166424441b27093314fcc06d5",
       "version_major": 2,
       "version_minor": 0
      },
      "text/plain": [
       "Validation: |          | 0/? [00:00<?, ?it/s]"
      ]
     },
     "metadata": {},
     "output_type": "display_data"
    },
    {
     "data": {
      "application/vnd.jupyter.widget-view+json": {
       "model_id": "91dbc48ffcc44d9fbeaac26cbbecd999",
       "version_major": 2,
       "version_minor": 0
      },
      "text/plain": [
       "Validation: |          | 0/? [00:00<?, ?it/s]"
      ]
     },
     "metadata": {},
     "output_type": "display_data"
    },
    {
     "data": {
      "application/vnd.jupyter.widget-view+json": {
       "model_id": "f54080d174534d68bd98eeed311b5257",
       "version_major": 2,
       "version_minor": 0
      },
      "text/plain": [
       "Validation: |          | 0/? [00:00<?, ?it/s]"
      ]
     },
     "metadata": {},
     "output_type": "display_data"
    },
    {
     "data": {
      "application/vnd.jupyter.widget-view+json": {
       "model_id": "795832ebee4d4d55b03cbe3e12898e41",
       "version_major": 2,
       "version_minor": 0
      },
      "text/plain": [
       "Validation: |          | 0/? [00:00<?, ?it/s]"
      ]
     },
     "metadata": {},
     "output_type": "display_data"
    },
    {
     "data": {
      "application/vnd.jupyter.widget-view+json": {
       "model_id": "70fe261464374dc9aff8de64f2a02048",
       "version_major": 2,
       "version_minor": 0
      },
      "text/plain": [
       "Validation: |          | 0/? [00:00<?, ?it/s]"
      ]
     },
     "metadata": {},
     "output_type": "display_data"
    },
    {
     "data": {
      "application/vnd.jupyter.widget-view+json": {
       "model_id": "d670b6e82b254dc6967d4baa6d05cf4e",
       "version_major": 2,
       "version_minor": 0
      },
      "text/plain": [
       "Validation: |          | 0/? [00:00<?, ?it/s]"
      ]
     },
     "metadata": {},
     "output_type": "display_data"
    },
    {
     "data": {
      "application/vnd.jupyter.widget-view+json": {
       "model_id": "9fd7f572be76498986601cf05ab6bac5",
       "version_major": 2,
       "version_minor": 0
      },
      "text/plain": [
       "Validation: |          | 0/? [00:00<?, ?it/s]"
      ]
     },
     "metadata": {},
     "output_type": "display_data"
    },
    {
     "data": {
      "application/vnd.jupyter.widget-view+json": {
       "model_id": "4682460a44f5423b87bd88c750bb161b",
       "version_major": 2,
       "version_minor": 0
      },
      "text/plain": [
       "Validation: |          | 0/? [00:00<?, ?it/s]"
      ]
     },
     "metadata": {},
     "output_type": "display_data"
    },
    {
     "data": {
      "application/vnd.jupyter.widget-view+json": {
       "model_id": "3544709cb885404da182dabda4c49339",
       "version_major": 2,
       "version_minor": 0
      },
      "text/plain": [
       "Validation: |          | 0/? [00:00<?, ?it/s]"
      ]
     },
     "metadata": {},
     "output_type": "display_data"
    },
    {
     "data": {
      "application/vnd.jupyter.widget-view+json": {
       "model_id": "de7beb35756340239f1f955114fc6785",
       "version_major": 2,
       "version_minor": 0
      },
      "text/plain": [
       "Validation: |          | 0/? [00:00<?, ?it/s]"
      ]
     },
     "metadata": {},
     "output_type": "display_data"
    },
    {
     "data": {
      "application/vnd.jupyter.widget-view+json": {
       "model_id": "0e465eefd7da425786754cce19149ce1",
       "version_major": 2,
       "version_minor": 0
      },
      "text/plain": [
       "Validation: |          | 0/? [00:00<?, ?it/s]"
      ]
     },
     "metadata": {},
     "output_type": "display_data"
    },
    {
     "data": {
      "application/vnd.jupyter.widget-view+json": {
       "model_id": "ef496f1b2305466fad7f2e8f2e822918",
       "version_major": 2,
       "version_minor": 0
      },
      "text/plain": [
       "Validation: |          | 0/? [00:00<?, ?it/s]"
      ]
     },
     "metadata": {},
     "output_type": "display_data"
    },
    {
     "data": {
      "application/vnd.jupyter.widget-view+json": {
       "model_id": "ab1798f2e5224c3db33d1cb04780eeee",
       "version_major": 2,
       "version_minor": 0
      },
      "text/plain": [
       "Validation: |          | 0/? [00:00<?, ?it/s]"
      ]
     },
     "metadata": {},
     "output_type": "display_data"
    },
    {
     "data": {
      "application/vnd.jupyter.widget-view+json": {
       "model_id": "166c1e9062d14f2cad767d84ecf47702",
       "version_major": 2,
       "version_minor": 0
      },
      "text/plain": [
       "Validation: |          | 0/? [00:00<?, ?it/s]"
      ]
     },
     "metadata": {},
     "output_type": "display_data"
    },
    {
     "data": {
      "application/vnd.jupyter.widget-view+json": {
       "model_id": "a26cbdbed6c94f52b05fdd7275ffac3d",
       "version_major": 2,
       "version_minor": 0
      },
      "text/plain": [
       "Validation: |          | 0/? [00:00<?, ?it/s]"
      ]
     },
     "metadata": {},
     "output_type": "display_data"
    },
    {
     "data": {
      "application/vnd.jupyter.widget-view+json": {
       "model_id": "150341a544894149b1f8e483196bf1b4",
       "version_major": 2,
       "version_minor": 0
      },
      "text/plain": [
       "Validation: |          | 0/? [00:00<?, ?it/s]"
      ]
     },
     "metadata": {},
     "output_type": "display_data"
    },
    {
     "data": {
      "application/vnd.jupyter.widget-view+json": {
       "model_id": "8ac6c9bd820e4eaa86efdc7c09c8dfdd",
       "version_major": 2,
       "version_minor": 0
      },
      "text/plain": [
       "Validation: |          | 0/? [00:00<?, ?it/s]"
      ]
     },
     "metadata": {},
     "output_type": "display_data"
    },
    {
     "data": {
      "application/vnd.jupyter.widget-view+json": {
       "model_id": "9a7d52f3a7534c94be84d3659f615785",
       "version_major": 2,
       "version_minor": 0
      },
      "text/plain": [
       "Validation: |          | 0/? [00:00<?, ?it/s]"
      ]
     },
     "metadata": {},
     "output_type": "display_data"
    },
    {
     "name": "stderr",
     "output_type": "stream",
     "text": [
      "LOCAL_RANK: 0 - CUDA_VISIBLE_DEVICES: [0]\n",
      "LOCAL_RANK: 0 - CUDA_VISIBLE_DEVICES: [0]\n",
      "LOCAL_RANK: 0 - CUDA_VISIBLE_DEVICES: [0]\n",
      "LOCAL_RANK: 0 - CUDA_VISIBLE_DEVICES: [0]\n",
      "LOCAL_RANK: 0 - CUDA_VISIBLE_DEVICES: [0]\n",
      "LOCAL_RANK: 0 - CUDA_VISIBLE_DEVICES: [0]\n",
      "LOCAL_RANK: 0 - CUDA_VISIBLE_DEVICES: [0]\n",
      "LOCAL_RANK: 0 - CUDA_VISIBLE_DEVICES: [0]\n",
      "LOCAL_RANK: 0 - CUDA_VISIBLE_DEVICES: [0]\n",
      "LOCAL_RANK: 0 - CUDA_VISIBLE_DEVICES: [0]\n",
      "LOCAL_RANK: 0 - CUDA_VISIBLE_DEVICES: [0]\n",
      "LOCAL_RANK: 0 - CUDA_VISIBLE_DEVICES: [0]\n",
      "LOCAL_RANK: 0 - CUDA_VISIBLE_DEVICES: [0]\n",
      "LOCAL_RANK: 0 - CUDA_VISIBLE_DEVICES: [0]\n",
      "LOCAL_RANK: 0 - CUDA_VISIBLE_DEVICES: [0]\n",
      "LOCAL_RANK: 0 - CUDA_VISIBLE_DEVICES: [0]\n",
      "LOCAL_RANK: 0 - CUDA_VISIBLE_DEVICES: [0]\n",
      "LOCAL_RANK: 0 - CUDA_VISIBLE_DEVICES: [0]\n",
      "Seed set to 1337\n"
     ]
    },
    {
     "name": "stdout",
     "output_type": "stream",
     "text": [
      "Gutenberg [{'other': 'Blog Authorship', 'test_loss': 1.7988485097885132, 'test_acc@0.5': 0.4840989410877228, 'test_roc_auc': 0.36812031269073486, 'test_acc': 0.5123674869537354}, {'other': 'Student Essays', 'test_loss': 0.6884621381759644, 'test_acc@0.5': 0.7233333587646484, 'test_roc_auc': 0.893822193145752, 'test_acc': 0.7933333516120911}, {'other': 'CNN News', 'test_loss': 0.53090500831604, 'test_acc@0.5': 0.7900000214576721, 'test_roc_auc': 0.861822247505188, 'test_acc': 0.7266666889190674}, {'other': 'Euro Court Cases', 'test_loss': 1.000800371170044, 'test_acc@0.5': 0.6299999952316284, 'test_roc_auc': 0.8449777960777283, 'test_acc': 0.5433333516120911}, {'other': 'House of Commons', 'test_loss': 0.35946178436279297, 'test_acc@0.5': 0.8255033493041992, 'test_roc_auc': 0.9254504442214966, 'test_acc': 0.7785235047340393}, {'other': 'ArXiv Papers', 'test_loss': 0.3020920753479004, 'test_acc@0.5': 0.8703071475028992, 'test_roc_auc': 0.9440406560897827, 'test_acc': 0.8430033922195435}, {'other': 'Gutenberg', 'test_loss': 0.30382654070854187, 'test_acc@0.5': 0.869415819644928, 'test_roc_auc': 0.97711580991745, 'test_acc': 0.9278350472450256}, {'other': 'Bundestag [DE]', 'test_loss': 2.246187925338745, 'test_acc@0.5': 0.49484536051750183, 'test_roc_auc': 0.7180735468864441, 'test_acc': 0.5223367810249329}, {'other': 'Spiegel [DE]', 'test_loss': 2.4930436611175537, 'test_acc@0.5': 0.5016722679138184, 'test_roc_auc': 0.716867983341217, 'test_acc': 0.5284280776977539}]\n"
     ]
    },
    {
     "name": "stderr",
     "output_type": "stream",
     "text": [
      "GPU available: True (cuda), used: True\n",
      "TPU available: False, using: 0 TPU cores\n",
      "HPU available: False, using: 0 HPUs\n",
      "/home/mastoeck/Projects/PrismAI/PrismAI/.venv/lib/python3.12/site-packages/lightning/pytorch/utilities/parsing.py:45: Attribute 'feature_dim' removed from hparams because it cannot be pickled. You can suppress this warning by setting `self.save_hyperparameters(ignore=['feature_dim'])`.\n",
      "/home/mastoeck/Projects/PrismAI/PrismAI/.venv/lib/python3.12/site-packages/lightning/pytorch/utilities/parsing.py:45: Attribute 'conv_layer_shapes' removed from hparams because it cannot be pickled. You can suppress this warning by setting `self.save_hyperparameters(ignore=['conv_layer_shapes'])`.\n",
      "LOCAL_RANK: 0 - CUDA_VISIBLE_DEVICES: [0]\n",
      "Loading `train_dataloader` to estimate number of stepping batches.\n",
      "\n",
      "  | Name        | Type              | Params | Mode  | In sizes    | Out sizes  \n",
      "--------------------------------------------------------------------------------------\n",
      "0 | conv_layers | Sequential        | 152 K  | train | ?           | ?          \n",
      "1 | projection  | Identity          | 0      | train | [32, 16384] | [32, 16384]\n",
      "2 | classifier  | Linear            | 16.4 K | train | [32, 16384] | [32, 1]    \n",
      "3 | criterion   | BCEWithLogitsLoss | 0      | train | ?           | ?          \n",
      "--------------------------------------------------------------------------------------\n",
      "168 K     Trainable params\n",
      "0         Non-trainable params\n",
      "168 K     Total params\n",
      "0.674     Total estimated model params size (MB)\n",
      "15        Modules in train mode\n",
      "0         Modules in eval mode\n"
     ]
    },
    {
     "data": {
      "application/vnd.jupyter.widget-view+json": {
       "model_id": "2f0068d8c24c4c7180f97010789468ec",
       "version_major": 2,
       "version_minor": 0
      },
      "text/plain": [
       "Sanity Checking: |          | 0/? [00:00<?, ?it/s]"
      ]
     },
     "metadata": {},
     "output_type": "display_data"
    },
    {
     "data": {
      "application/vnd.jupyter.widget-view+json": {
       "model_id": "270b5d7439094552837b865f02673ad4",
       "version_major": 2,
       "version_minor": 0
      },
      "text/plain": [
       "Training: |          | 0/? [00:00<?, ?it/s]"
      ]
     },
     "metadata": {},
     "output_type": "display_data"
    },
    {
     "data": {
      "application/vnd.jupyter.widget-view+json": {
       "model_id": "befab48faa4544898a822e4b62dc2324",
       "version_major": 2,
       "version_minor": 0
      },
      "text/plain": [
       "Validation: |          | 0/? [00:00<?, ?it/s]"
      ]
     },
     "metadata": {},
     "output_type": "display_data"
    },
    {
     "data": {
      "application/vnd.jupyter.widget-view+json": {
       "model_id": "c92b507aedc74718bd31157b80ce5d27",
       "version_major": 2,
       "version_minor": 0
      },
      "text/plain": [
       "Validation: |          | 0/? [00:00<?, ?it/s]"
      ]
     },
     "metadata": {},
     "output_type": "display_data"
    },
    {
     "data": {
      "application/vnd.jupyter.widget-view+json": {
       "model_id": "122148fb298b4ced954e930471577524",
       "version_major": 2,
       "version_minor": 0
      },
      "text/plain": [
       "Validation: |          | 0/? [00:00<?, ?it/s]"
      ]
     },
     "metadata": {},
     "output_type": "display_data"
    },
    {
     "data": {
      "application/vnd.jupyter.widget-view+json": {
       "model_id": "9513a5a79c9d4003afc70872dfc7ed72",
       "version_major": 2,
       "version_minor": 0
      },
      "text/plain": [
       "Validation: |          | 0/? [00:00<?, ?it/s]"
      ]
     },
     "metadata": {},
     "output_type": "display_data"
    },
    {
     "data": {
      "application/vnd.jupyter.widget-view+json": {
       "model_id": "10ea4a8bb43d468f87f225b7b5519eee",
       "version_major": 2,
       "version_minor": 0
      },
      "text/plain": [
       "Validation: |          | 0/? [00:00<?, ?it/s]"
      ]
     },
     "metadata": {},
     "output_type": "display_data"
    },
    {
     "data": {
      "application/vnd.jupyter.widget-view+json": {
       "model_id": "376f94008fa84fd78045914a919e770f",
       "version_major": 2,
       "version_minor": 0
      },
      "text/plain": [
       "Validation: |          | 0/? [00:00<?, ?it/s]"
      ]
     },
     "metadata": {},
     "output_type": "display_data"
    },
    {
     "data": {
      "application/vnd.jupyter.widget-view+json": {
       "model_id": "60d6880b42cd4f518f70720ceebcbab5",
       "version_major": 2,
       "version_minor": 0
      },
      "text/plain": [
       "Validation: |          | 0/? [00:00<?, ?it/s]"
      ]
     },
     "metadata": {},
     "output_type": "display_data"
    },
    {
     "data": {
      "application/vnd.jupyter.widget-view+json": {
       "model_id": "2c33fa9d3286416d84799933115e327d",
       "version_major": 2,
       "version_minor": 0
      },
      "text/plain": [
       "Validation: |          | 0/? [00:00<?, ?it/s]"
      ]
     },
     "metadata": {},
     "output_type": "display_data"
    },
    {
     "data": {
      "application/vnd.jupyter.widget-view+json": {
       "model_id": "4efbd24afb134c8fb1277577fed911cf",
       "version_major": 2,
       "version_minor": 0
      },
      "text/plain": [
       "Validation: |          | 0/? [00:00<?, ?it/s]"
      ]
     },
     "metadata": {},
     "output_type": "display_data"
    },
    {
     "data": {
      "application/vnd.jupyter.widget-view+json": {
       "model_id": "1a468e8dc64e4dd68e5229d7115debe3",
       "version_major": 2,
       "version_minor": 0
      },
      "text/plain": [
       "Validation: |          | 0/? [00:00<?, ?it/s]"
      ]
     },
     "metadata": {},
     "output_type": "display_data"
    },
    {
     "data": {
      "application/vnd.jupyter.widget-view+json": {
       "model_id": "a646424c2851476e9b59748a364fb5ba",
       "version_major": 2,
       "version_minor": 0
      },
      "text/plain": [
       "Validation: |          | 0/? [00:00<?, ?it/s]"
      ]
     },
     "metadata": {},
     "output_type": "display_data"
    },
    {
     "data": {
      "application/vnd.jupyter.widget-view+json": {
       "model_id": "08b377a0add9494a8db3377d1a874f0f",
       "version_major": 2,
       "version_minor": 0
      },
      "text/plain": [
       "Validation: |          | 0/? [00:00<?, ?it/s]"
      ]
     },
     "metadata": {},
     "output_type": "display_data"
    },
    {
     "data": {
      "application/vnd.jupyter.widget-view+json": {
       "model_id": "167e22f50e694a27a8c5c3c61f5c411a",
       "version_major": 2,
       "version_minor": 0
      },
      "text/plain": [
       "Validation: |          | 0/? [00:00<?, ?it/s]"
      ]
     },
     "metadata": {},
     "output_type": "display_data"
    },
    {
     "data": {
      "application/vnd.jupyter.widget-view+json": {
       "model_id": "f986f1a6d51944a9a5a5548c71d507f7",
       "version_major": 2,
       "version_minor": 0
      },
      "text/plain": [
       "Validation: |          | 0/? [00:00<?, ?it/s]"
      ]
     },
     "metadata": {},
     "output_type": "display_data"
    },
    {
     "data": {
      "application/vnd.jupyter.widget-view+json": {
       "model_id": "1da7106fd0934ef1aee4928806936fa8",
       "version_major": 2,
       "version_minor": 0
      },
      "text/plain": [
       "Validation: |          | 0/? [00:00<?, ?it/s]"
      ]
     },
     "metadata": {},
     "output_type": "display_data"
    },
    {
     "data": {
      "application/vnd.jupyter.widget-view+json": {
       "model_id": "ab2373cf36b246b09cda1c8b7f1305dc",
       "version_major": 2,
       "version_minor": 0
      },
      "text/plain": [
       "Validation: |          | 0/? [00:00<?, ?it/s]"
      ]
     },
     "metadata": {},
     "output_type": "display_data"
    },
    {
     "data": {
      "application/vnd.jupyter.widget-view+json": {
       "model_id": "aec7af6fccb74c468c56df9670d822c0",
       "version_major": 2,
       "version_minor": 0
      },
      "text/plain": [
       "Validation: |          | 0/? [00:00<?, ?it/s]"
      ]
     },
     "metadata": {},
     "output_type": "display_data"
    },
    {
     "data": {
      "application/vnd.jupyter.widget-view+json": {
       "model_id": "266b198925db41199cdc7ef25d1ae712",
       "version_major": 2,
       "version_minor": 0
      },
      "text/plain": [
       "Validation: |          | 0/? [00:00<?, ?it/s]"
      ]
     },
     "metadata": {},
     "output_type": "display_data"
    },
    {
     "data": {
      "application/vnd.jupyter.widget-view+json": {
       "model_id": "3c49f22b698e427ea0207b822603fd12",
       "version_major": 2,
       "version_minor": 0
      },
      "text/plain": [
       "Validation: |          | 0/? [00:00<?, ?it/s]"
      ]
     },
     "metadata": {},
     "output_type": "display_data"
    },
    {
     "data": {
      "application/vnd.jupyter.widget-view+json": {
       "model_id": "6ca46895cda24210b7e6667f6123ae7b",
       "version_major": 2,
       "version_minor": 0
      },
      "text/plain": [
       "Validation: |          | 0/? [00:00<?, ?it/s]"
      ]
     },
     "metadata": {},
     "output_type": "display_data"
    },
    {
     "name": "stderr",
     "output_type": "stream",
     "text": [
      "LOCAL_RANK: 0 - CUDA_VISIBLE_DEVICES: [0]\n",
      "LOCAL_RANK: 0 - CUDA_VISIBLE_DEVICES: [0]\n",
      "LOCAL_RANK: 0 - CUDA_VISIBLE_DEVICES: [0]\n",
      "LOCAL_RANK: 0 - CUDA_VISIBLE_DEVICES: [0]\n",
      "LOCAL_RANK: 0 - CUDA_VISIBLE_DEVICES: [0]\n",
      "LOCAL_RANK: 0 - CUDA_VISIBLE_DEVICES: [0]\n",
      "LOCAL_RANK: 0 - CUDA_VISIBLE_DEVICES: [0]\n",
      "LOCAL_RANK: 0 - CUDA_VISIBLE_DEVICES: [0]\n",
      "LOCAL_RANK: 0 - CUDA_VISIBLE_DEVICES: [0]\n",
      "LOCAL_RANK: 0 - CUDA_VISIBLE_DEVICES: [0]\n",
      "LOCAL_RANK: 0 - CUDA_VISIBLE_DEVICES: [0]\n",
      "LOCAL_RANK: 0 - CUDA_VISIBLE_DEVICES: [0]\n",
      "LOCAL_RANK: 0 - CUDA_VISIBLE_DEVICES: [0]\n",
      "LOCAL_RANK: 0 - CUDA_VISIBLE_DEVICES: [0]\n",
      "LOCAL_RANK: 0 - CUDA_VISIBLE_DEVICES: [0]\n",
      "LOCAL_RANK: 0 - CUDA_VISIBLE_DEVICES: [0]\n",
      "LOCAL_RANK: 0 - CUDA_VISIBLE_DEVICES: [0]\n",
      "LOCAL_RANK: 0 - CUDA_VISIBLE_DEVICES: [0]\n",
      "Seed set to 1337\n"
     ]
    },
    {
     "name": "stdout",
     "output_type": "stream",
     "text": [
      "Bundestag [DE] [{'other': 'Blog Authorship', 'test_loss': 7.39722204208374, 'test_acc@0.5': 0.16961130499839783, 'test_roc_auc': 0.19576440751552582, 'test_acc': 0.18727914988994598}, {'other': 'Student Essays', 'test_loss': 8.450758934020996, 'test_acc@0.5': 0.5299999713897705, 'test_roc_auc': 0.6588444709777832, 'test_acc': 0.5266666412353516}, {'other': 'CNN News', 'test_loss': 5.898632049560547, 'test_acc@0.5': 0.5299999713897705, 'test_roc_auc': 0.81086665391922, 'test_acc': 0.5266666412353516}, {'other': 'Euro Court Cases', 'test_loss': 11.601397514343262, 'test_acc@0.5': 0.49000000953674316, 'test_roc_auc': 0.5934666395187378, 'test_acc': 0.49000000953674316}, {'other': 'House of Commons', 'test_loss': 5.868144512176514, 'test_acc@0.5': 0.47651007771492004, 'test_roc_auc': 0.6883333325386047, 'test_acc': 0.47651007771492004}, {'other': 'ArXiv Papers', 'test_loss': 5.0874199867248535, 'test_acc@0.5': 0.4948805570602417, 'test_roc_auc': 0.7518637776374817, 'test_acc': 0.49146756529808044}, {'other': 'Gutenberg', 'test_loss': 6.040561199188232, 'test_acc@0.5': 0.5189003348350525, 'test_roc_auc': 0.7876123189926147, 'test_acc': 0.5017182230949402}, {'other': 'Bundestag [DE]', 'test_loss': 0.267972856760025, 'test_acc@0.5': 0.876288652420044, 'test_roc_auc': 0.9546270966529846, 'test_acc': 0.8900343775749207}, {'other': 'Spiegel [DE]', 'test_loss': 0.435638427734375, 'test_acc@0.5': 0.8595317602157593, 'test_roc_auc': 0.9276957511901855, 'test_acc': 0.8662207126617432}]\n"
     ]
    },
    {
     "name": "stderr",
     "output_type": "stream",
     "text": [
      "GPU available: True (cuda), used: True\n",
      "TPU available: False, using: 0 TPU cores\n",
      "HPU available: False, using: 0 HPUs\n",
      "/home/mastoeck/Projects/PrismAI/PrismAI/.venv/lib/python3.12/site-packages/lightning/pytorch/utilities/parsing.py:45: Attribute 'feature_dim' removed from hparams because it cannot be pickled. You can suppress this warning by setting `self.save_hyperparameters(ignore=['feature_dim'])`.\n",
      "/home/mastoeck/Projects/PrismAI/PrismAI/.venv/lib/python3.12/site-packages/lightning/pytorch/utilities/parsing.py:45: Attribute 'conv_layer_shapes' removed from hparams because it cannot be pickled. You can suppress this warning by setting `self.save_hyperparameters(ignore=['conv_layer_shapes'])`.\n",
      "LOCAL_RANK: 0 - CUDA_VISIBLE_DEVICES: [0]\n",
      "Loading `train_dataloader` to estimate number of stepping batches.\n",
      "\n",
      "  | Name        | Type              | Params | Mode  | In sizes    | Out sizes  \n",
      "--------------------------------------------------------------------------------------\n",
      "0 | conv_layers | Sequential        | 152 K  | train | ?           | ?          \n",
      "1 | projection  | Identity          | 0      | train | [32, 16384] | [32, 16384]\n",
      "2 | classifier  | Linear            | 16.4 K | train | [32, 16384] | [32, 1]    \n",
      "3 | criterion   | BCEWithLogitsLoss | 0      | train | ?           | ?          \n",
      "--------------------------------------------------------------------------------------\n",
      "168 K     Trainable params\n",
      "0         Non-trainable params\n",
      "168 K     Total params\n",
      "0.674     Total estimated model params size (MB)\n",
      "15        Modules in train mode\n",
      "0         Modules in eval mode\n"
     ]
    },
    {
     "data": {
      "application/vnd.jupyter.widget-view+json": {
       "model_id": "498eca91a4ab4c9c9adef3b25f581ea9",
       "version_major": 2,
       "version_minor": 0
      },
      "text/plain": [
       "Sanity Checking: |          | 0/? [00:00<?, ?it/s]"
      ]
     },
     "metadata": {},
     "output_type": "display_data"
    },
    {
     "data": {
      "application/vnd.jupyter.widget-view+json": {
       "model_id": "c6549f53f24742d794efab00e5bb7a85",
       "version_major": 2,
       "version_minor": 0
      },
      "text/plain": [
       "Training: |          | 0/? [00:00<?, ?it/s]"
      ]
     },
     "metadata": {},
     "output_type": "display_data"
    },
    {
     "data": {
      "application/vnd.jupyter.widget-view+json": {
       "model_id": "0e5d36ccf4b041a28b457309ec04e6ba",
       "version_major": 2,
       "version_minor": 0
      },
      "text/plain": [
       "Validation: |          | 0/? [00:00<?, ?it/s]"
      ]
     },
     "metadata": {},
     "output_type": "display_data"
    },
    {
     "data": {
      "application/vnd.jupyter.widget-view+json": {
       "model_id": "0693fc852c294f8a9a63a169ede18810",
       "version_major": 2,
       "version_minor": 0
      },
      "text/plain": [
       "Validation: |          | 0/? [00:00<?, ?it/s]"
      ]
     },
     "metadata": {},
     "output_type": "display_data"
    },
    {
     "data": {
      "application/vnd.jupyter.widget-view+json": {
       "model_id": "065d43f0f9944823b155801eda065d09",
       "version_major": 2,
       "version_minor": 0
      },
      "text/plain": [
       "Validation: |          | 0/? [00:00<?, ?it/s]"
      ]
     },
     "metadata": {},
     "output_type": "display_data"
    },
    {
     "data": {
      "application/vnd.jupyter.widget-view+json": {
       "model_id": "cb78d2a4969249cca80278fb63984a71",
       "version_major": 2,
       "version_minor": 0
      },
      "text/plain": [
       "Validation: |          | 0/? [00:00<?, ?it/s]"
      ]
     },
     "metadata": {},
     "output_type": "display_data"
    },
    {
     "data": {
      "application/vnd.jupyter.widget-view+json": {
       "model_id": "8a4eca3b335f437486989e558e9d2f0f",
       "version_major": 2,
       "version_minor": 0
      },
      "text/plain": [
       "Validation: |          | 0/? [00:00<?, ?it/s]"
      ]
     },
     "metadata": {},
     "output_type": "display_data"
    },
    {
     "data": {
      "application/vnd.jupyter.widget-view+json": {
       "model_id": "017dd1ff77074039a7d90490e7475945",
       "version_major": 2,
       "version_minor": 0
      },
      "text/plain": [
       "Validation: |          | 0/? [00:00<?, ?it/s]"
      ]
     },
     "metadata": {},
     "output_type": "display_data"
    },
    {
     "data": {
      "application/vnd.jupyter.widget-view+json": {
       "model_id": "2f3ccda313b44840b1ec31152d8422b0",
       "version_major": 2,
       "version_minor": 0
      },
      "text/plain": [
       "Validation: |          | 0/? [00:00<?, ?it/s]"
      ]
     },
     "metadata": {},
     "output_type": "display_data"
    },
    {
     "data": {
      "application/vnd.jupyter.widget-view+json": {
       "model_id": "1a790645534b4e62b3bc7db903210030",
       "version_major": 2,
       "version_minor": 0
      },
      "text/plain": [
       "Validation: |          | 0/? [00:00<?, ?it/s]"
      ]
     },
     "metadata": {},
     "output_type": "display_data"
    },
    {
     "data": {
      "application/vnd.jupyter.widget-view+json": {
       "model_id": "98648f8bed8d47529430fed417d88d87",
       "version_major": 2,
       "version_minor": 0
      },
      "text/plain": [
       "Validation: |          | 0/? [00:00<?, ?it/s]"
      ]
     },
     "metadata": {},
     "output_type": "display_data"
    },
    {
     "data": {
      "application/vnd.jupyter.widget-view+json": {
       "model_id": "77192ce3d79b475590caec7d9728c8d7",
       "version_major": 2,
       "version_minor": 0
      },
      "text/plain": [
       "Validation: |          | 0/? [00:00<?, ?it/s]"
      ]
     },
     "metadata": {},
     "output_type": "display_data"
    },
    {
     "data": {
      "application/vnd.jupyter.widget-view+json": {
       "model_id": "a0622970dc174569b7874ec3ded1b5ff",
       "version_major": 2,
       "version_minor": 0
      },
      "text/plain": [
       "Validation: |          | 0/? [00:00<?, ?it/s]"
      ]
     },
     "metadata": {},
     "output_type": "display_data"
    },
    {
     "data": {
      "application/vnd.jupyter.widget-view+json": {
       "model_id": "9168ab47d8714be3bd5f7b3c45516f55",
       "version_major": 2,
       "version_minor": 0
      },
      "text/plain": [
       "Validation: |          | 0/? [00:00<?, ?it/s]"
      ]
     },
     "metadata": {},
     "output_type": "display_data"
    },
    {
     "data": {
      "application/vnd.jupyter.widget-view+json": {
       "model_id": "a799dc9ade3643f0b8ac5fc72b9a1449",
       "version_major": 2,
       "version_minor": 0
      },
      "text/plain": [
       "Validation: |          | 0/? [00:00<?, ?it/s]"
      ]
     },
     "metadata": {},
     "output_type": "display_data"
    },
    {
     "data": {
      "application/vnd.jupyter.widget-view+json": {
       "model_id": "3311701177394dca8a75ae6f9f8f4db7",
       "version_major": 2,
       "version_minor": 0
      },
      "text/plain": [
       "Validation: |          | 0/? [00:00<?, ?it/s]"
      ]
     },
     "metadata": {},
     "output_type": "display_data"
    },
    {
     "data": {
      "application/vnd.jupyter.widget-view+json": {
       "model_id": "7c27ae1941314a41b07faceb08f8ac88",
       "version_major": 2,
       "version_minor": 0
      },
      "text/plain": [
       "Validation: |          | 0/? [00:00<?, ?it/s]"
      ]
     },
     "metadata": {},
     "output_type": "display_data"
    },
    {
     "data": {
      "application/vnd.jupyter.widget-view+json": {
       "model_id": "6a830e8dfab548478622d9b86dd1795e",
       "version_major": 2,
       "version_minor": 0
      },
      "text/plain": [
       "Validation: |          | 0/? [00:00<?, ?it/s]"
      ]
     },
     "metadata": {},
     "output_type": "display_data"
    },
    {
     "data": {
      "application/vnd.jupyter.widget-view+json": {
       "model_id": "e13dc72f68894a72bdfccc14c108d81a",
       "version_major": 2,
       "version_minor": 0
      },
      "text/plain": [
       "Validation: |          | 0/? [00:00<?, ?it/s]"
      ]
     },
     "metadata": {},
     "output_type": "display_data"
    },
    {
     "data": {
      "application/vnd.jupyter.widget-view+json": {
       "model_id": "52bd0b2ac21c47e5bf05150f46fb98f7",
       "version_major": 2,
       "version_minor": 0
      },
      "text/plain": [
       "Validation: |          | 0/? [00:00<?, ?it/s]"
      ]
     },
     "metadata": {},
     "output_type": "display_data"
    },
    {
     "data": {
      "application/vnd.jupyter.widget-view+json": {
       "model_id": "16af7d71a98849fa8713a4153a088591",
       "version_major": 2,
       "version_minor": 0
      },
      "text/plain": [
       "Validation: |          | 0/? [00:00<?, ?it/s]"
      ]
     },
     "metadata": {},
     "output_type": "display_data"
    },
    {
     "data": {
      "application/vnd.jupyter.widget-view+json": {
       "model_id": "75976462e7c641bdb8b9b9218ac456f8",
       "version_major": 2,
       "version_minor": 0
      },
      "text/plain": [
       "Validation: |          | 0/? [00:00<?, ?it/s]"
      ]
     },
     "metadata": {},
     "output_type": "display_data"
    },
    {
     "data": {
      "application/vnd.jupyter.widget-view+json": {
       "model_id": "94f7a5142365469aa6197a2ab98a7e68",
       "version_major": 2,
       "version_minor": 0
      },
      "text/plain": [
       "Validation: |          | 0/? [00:00<?, ?it/s]"
      ]
     },
     "metadata": {},
     "output_type": "display_data"
    },
    {
     "name": "stderr",
     "output_type": "stream",
     "text": [
      "LOCAL_RANK: 0 - CUDA_VISIBLE_DEVICES: [0]\n",
      "LOCAL_RANK: 0 - CUDA_VISIBLE_DEVICES: [0]\n",
      "LOCAL_RANK: 0 - CUDA_VISIBLE_DEVICES: [0]\n",
      "LOCAL_RANK: 0 - CUDA_VISIBLE_DEVICES: [0]\n",
      "LOCAL_RANK: 0 - CUDA_VISIBLE_DEVICES: [0]\n",
      "LOCAL_RANK: 0 - CUDA_VISIBLE_DEVICES: [0]\n",
      "LOCAL_RANK: 0 - CUDA_VISIBLE_DEVICES: [0]\n",
      "LOCAL_RANK: 0 - CUDA_VISIBLE_DEVICES: [0]\n",
      "LOCAL_RANK: 0 - CUDA_VISIBLE_DEVICES: [0]\n",
      "LOCAL_RANK: 0 - CUDA_VISIBLE_DEVICES: [0]\n",
      "LOCAL_RANK: 0 - CUDA_VISIBLE_DEVICES: [0]\n",
      "LOCAL_RANK: 0 - CUDA_VISIBLE_DEVICES: [0]\n",
      "LOCAL_RANK: 0 - CUDA_VISIBLE_DEVICES: [0]\n",
      "LOCAL_RANK: 0 - CUDA_VISIBLE_DEVICES: [0]\n",
      "LOCAL_RANK: 0 - CUDA_VISIBLE_DEVICES: [0]\n",
      "LOCAL_RANK: 0 - CUDA_VISIBLE_DEVICES: [0]\n",
      "LOCAL_RANK: 0 - CUDA_VISIBLE_DEVICES: [0]\n",
      "LOCAL_RANK: 0 - CUDA_VISIBLE_DEVICES: [0]\n"
     ]
    },
    {
     "name": "stdout",
     "output_type": "stream",
     "text": [
      "Spiegel [DE] [{'other': 'Blog Authorship', 'test_loss': 1.899004578590393, 'test_acc@0.5': 0.5300353169441223, 'test_roc_auc': 0.3709774315357208, 'test_acc': 0.5300353169441223}, {'other': 'Student Essays', 'test_loss': 1.9004229307174683, 'test_acc@0.5': 0.6133333444595337, 'test_roc_auc': 0.6586666703224182, 'test_acc': 0.6133333444595337}, {'other': 'CNN News', 'test_loss': 1.2783634662628174, 'test_acc@0.5': 0.6633333563804626, 'test_roc_auc': 0.740066647529602, 'test_acc': 0.6633333563804626}, {'other': 'Euro Court Cases', 'test_loss': 1.8682434558868408, 'test_acc@0.5': 0.6033333539962769, 'test_roc_auc': 0.7562888860702515, 'test_acc': 0.6000000238418579}, {'other': 'House of Commons', 'test_loss': 1.1434385776519775, 'test_acc@0.5': 0.6677852272987366, 'test_roc_auc': 0.7288288474082947, 'test_acc': 0.6677852272987366}, {'other': 'ArXiv Papers', 'test_loss': 0.9927137494087219, 'test_acc@0.5': 0.7337883710861206, 'test_roc_auc': 0.7872052788734436, 'test_acc': 0.7269624471664429}, {'other': 'Gutenberg', 'test_loss': 1.4210386276245117, 'test_acc@0.5': 0.6426116824150085, 'test_roc_auc': 0.6870921850204468, 'test_acc': 0.6391752362251282}, {'other': 'Bundestag [DE]', 'test_loss': 0.39259156584739685, 'test_acc@0.5': 0.7869415879249573, 'test_roc_auc': 0.8924756646156311, 'test_acc': 0.7903780341148376}, {'other': 'Spiegel [DE]', 'test_loss': 0.28682926297187805, 'test_acc@0.5': 0.8762542009353638, 'test_roc_auc': 0.9534675478935242, 'test_acc': 0.8795986771583557}]\n"
     ]
    }
   ],
   "source": [
    "results_in_domain = {}\n",
    "for domain in domains:\n",
    "    seed_everything(config[\"seed\"])\n",
    "\n",
    "    train_dataloader = get_dataloader(train_datasets[domain], shuffle=True)\n",
    "    eval_dataloader = get_dataloader(eval_datasets[domain])\n",
    "\n",
    "    model = DocumentClassficationModel(**config)\n",
    "    trainer = Trainer(\n",
    "        max_epochs=config[\"max_epochs\"],\n",
    "        logger=pl_loggers.TensorBoardLogger(\n",
    "            save_dir=f\"logs/in_domain/{type(featurizer).__name__}\",\n",
    "            name=domain,\n",
    "        ),\n",
    "        gradient_clip_val=config[\"gradient_clip_val\"],\n",
    "        callbacks=[EarlyStopping(monitor=\"val_loss\", mode=\"min\", patience=3)],\n",
    "        deterministic=True,\n",
    "    )\n",
    "\n",
    "    trainer.fit(\n",
    "        model,\n",
    "        train_dataloaders=train_dataloader,\n",
    "        val_dataloaders=eval_dataloader,\n",
    "    )\n",
    "\n",
    "    trainer.progress_bar_callback.disable()\n",
    "    metrics = []\n",
    "    for other, dataset in test_datasets.items():\n",
    "        trainer.validate(model, get_dataloader(eval_datasets[other]), verbose=False)\n",
    "        metrics.append(\n",
    "            {\n",
    "                \"other\": other,\n",
    "            }\n",
    "            | trainer.test(\n",
    "                model,\n",
    "                get_dataloader(dataset),\n",
    "                verbose=False,\n",
    "            )[0]\n",
    "        )\n",
    "    trainer.progress_bar_callback.enable()\n",
    "\n",
    "    results_in_domain[domain] = {\n",
    "        \"domain\": domain,\n",
    "        \"config\": copy.deepcopy(config),\n",
    "        \"metrics\": metrics,\n",
    "    }\n",
    "    print(domain, metrics)\n"
   ]
  },
  {
   "cell_type": "code",
   "execution_count": 23,
   "metadata": {},
   "outputs": [
    {
     "data": {
      "application/vnd.microsoft.datawrangler.viewer.v0+json": {
       "columns": [
        {
         "name": "index",
         "rawType": "object",
         "type": "string"
        },
        {
         "name": "Blog Authorship",
         "rawType": "float64",
         "type": "float"
        },
        {
         "name": "Student Essays",
         "rawType": "float64",
         "type": "float"
        },
        {
         "name": "CNN News",
         "rawType": "float64",
         "type": "float"
        },
        {
         "name": "Euro Court Cases",
         "rawType": "float64",
         "type": "float"
        },
        {
         "name": "House of Commons",
         "rawType": "float64",
         "type": "float"
        },
        {
         "name": "ArXiv Papers",
         "rawType": "float64",
         "type": "float"
        },
        {
         "name": "Gutenberg",
         "rawType": "float64",
         "type": "float"
        },
        {
         "name": "Bundestag [DE]",
         "rawType": "float64",
         "type": "float"
        },
        {
         "name": "Spiegel [DE]",
         "rawType": "float64",
         "type": "float"
        }
       ],
       "conversionMethod": "pd.DataFrame",
       "ref": "1e02a16f-1620-4de5-ab7d-9fa4d29d74cb",
       "rows": [
        [
         "Blog Authorship",
         "0.9905263185501099",
         "0.6703110933303833",
         "0.7703555822372437",
         "0.7273111343383789",
         "0.6809459328651428",
         "0.8186562061309814",
         "0.8304018974304199",
         "0.5850269198417664",
         "0.6713646650314331"
        ],
        [
         "Student Essays",
         "0.5453634262084961",
         "0.9873777627944946",
         "0.8714222311973572",
         "0.8642666935920715",
         "0.7896396517753601",
         "0.7656322717666626",
         "0.8746099472045898",
         "0.7126855254173279",
         "0.7762863636016846"
        ],
        [
         "CNN News",
         "0.24295739829540253",
         "0.7954666614532471",
         "0.9815999865531921",
         "0.9469777941703796",
         "0.846486508846283",
         "0.8560246229171753",
         "0.9048227071762085",
         "0.7287077903747559",
         "0.6568232774734497"
        ],
        [
         "Euro Court Cases",
         "0.26654136180877686",
         "0.8228444457054138",
         "0.9318666458129883",
         "0.9942666888237",
         "0.9129729866981506",
         "0.9197651743888855",
         "0.8719149231910706",
         "0.5692881941795349",
         "0.5009396076202393"
        ],
        [
         "House of Commons",
         "0.4286716878414154",
         "0.9189333319664001",
         "0.9035999774932861",
         "0.9213777780532837",
         "0.9741891622543335",
         "0.9358866810798645",
         "0.882033109664917",
         "0.7134889960289001",
         "0.6538702249526978"
        ],
        [
         "ArXiv Papers",
         "0.5705012679100037",
         "0.8910222053527832",
         "0.8979555368423462",
         "0.9099110960960388",
         "0.8872522711753845",
         "0.9794986248016357",
         "0.9111111164093018",
         "0.6036959886550903",
         "0.4978523552417755"
        ],
        [
         "Gutenberg",
         "0.36812031269073486",
         "0.893822193145752",
         "0.861822247505188",
         "0.8449777960777283",
         "0.9254504442214966",
         "0.9440406560897827",
         "0.97711580991745",
         "0.7180735468864441",
         "0.716867983341217"
        ],
        [
         "Bundestag [DE]",
         "0.19576440751552582",
         "0.6588444709777832",
         "0.81086665391922",
         "0.5934666395187378",
         "0.6883333325386047",
         "0.7518637776374817",
         "0.7876123189926147",
         "0.9546270966529846",
         "0.9276957511901855"
        ],
        [
         "Spiegel [DE]",
         "0.3709774315357208",
         "0.6586666703224182",
         "0.740066647529602",
         "0.7562888860702515",
         "0.7288288474082947",
         "0.7872052788734436",
         "0.6870921850204468",
         "0.8924756646156311",
         "0.9534675478935242"
        ]
       ],
       "shape": {
        "columns": 9,
        "rows": 9
       }
      },
      "text/html": [
       "<div>\n",
       "<style scoped>\n",
       "    .dataframe tbody tr th:only-of-type {\n",
       "        vertical-align: middle;\n",
       "    }\n",
       "\n",
       "    .dataframe tbody tr th {\n",
       "        vertical-align: top;\n",
       "    }\n",
       "\n",
       "    .dataframe thead th {\n",
       "        text-align: right;\n",
       "    }\n",
       "</style>\n",
       "<table border=\"1\" class=\"dataframe\">\n",
       "  <thead>\n",
       "    <tr style=\"text-align: right;\">\n",
       "      <th></th>\n",
       "      <th>Blog Authorship</th>\n",
       "      <th>Student Essays</th>\n",
       "      <th>CNN News</th>\n",
       "      <th>Euro Court Cases</th>\n",
       "      <th>House of Commons</th>\n",
       "      <th>ArXiv Papers</th>\n",
       "      <th>Gutenberg</th>\n",
       "      <th>Bundestag [DE]</th>\n",
       "      <th>Spiegel [DE]</th>\n",
       "    </tr>\n",
       "  </thead>\n",
       "  <tbody>\n",
       "    <tr>\n",
       "      <th>Blog Authorship</th>\n",
       "      <td>0.990526</td>\n",
       "      <td>0.670311</td>\n",
       "      <td>0.770356</td>\n",
       "      <td>0.727311</td>\n",
       "      <td>0.680946</td>\n",
       "      <td>0.818656</td>\n",
       "      <td>0.830402</td>\n",
       "      <td>0.585027</td>\n",
       "      <td>0.671365</td>\n",
       "    </tr>\n",
       "    <tr>\n",
       "      <th>Student Essays</th>\n",
       "      <td>0.545363</td>\n",
       "      <td>0.987378</td>\n",
       "      <td>0.871422</td>\n",
       "      <td>0.864267</td>\n",
       "      <td>0.789640</td>\n",
       "      <td>0.765632</td>\n",
       "      <td>0.874610</td>\n",
       "      <td>0.712686</td>\n",
       "      <td>0.776286</td>\n",
       "    </tr>\n",
       "    <tr>\n",
       "      <th>CNN News</th>\n",
       "      <td>0.242957</td>\n",
       "      <td>0.795467</td>\n",
       "      <td>0.981600</td>\n",
       "      <td>0.946978</td>\n",
       "      <td>0.846487</td>\n",
       "      <td>0.856025</td>\n",
       "      <td>0.904823</td>\n",
       "      <td>0.728708</td>\n",
       "      <td>0.656823</td>\n",
       "    </tr>\n",
       "    <tr>\n",
       "      <th>Euro Court Cases</th>\n",
       "      <td>0.266541</td>\n",
       "      <td>0.822844</td>\n",
       "      <td>0.931867</td>\n",
       "      <td>0.994267</td>\n",
       "      <td>0.912973</td>\n",
       "      <td>0.919765</td>\n",
       "      <td>0.871915</td>\n",
       "      <td>0.569288</td>\n",
       "      <td>0.500940</td>\n",
       "    </tr>\n",
       "    <tr>\n",
       "      <th>House of Commons</th>\n",
       "      <td>0.428672</td>\n",
       "      <td>0.918933</td>\n",
       "      <td>0.903600</td>\n",
       "      <td>0.921378</td>\n",
       "      <td>0.974189</td>\n",
       "      <td>0.935887</td>\n",
       "      <td>0.882033</td>\n",
       "      <td>0.713489</td>\n",
       "      <td>0.653870</td>\n",
       "    </tr>\n",
       "    <tr>\n",
       "      <th>ArXiv Papers</th>\n",
       "      <td>0.570501</td>\n",
       "      <td>0.891022</td>\n",
       "      <td>0.897956</td>\n",
       "      <td>0.909911</td>\n",
       "      <td>0.887252</td>\n",
       "      <td>0.979499</td>\n",
       "      <td>0.911111</td>\n",
       "      <td>0.603696</td>\n",
       "      <td>0.497852</td>\n",
       "    </tr>\n",
       "    <tr>\n",
       "      <th>Gutenberg</th>\n",
       "      <td>0.368120</td>\n",
       "      <td>0.893822</td>\n",
       "      <td>0.861822</td>\n",
       "      <td>0.844978</td>\n",
       "      <td>0.925450</td>\n",
       "      <td>0.944041</td>\n",
       "      <td>0.977116</td>\n",
       "      <td>0.718074</td>\n",
       "      <td>0.716868</td>\n",
       "    </tr>\n",
       "    <tr>\n",
       "      <th>Bundestag [DE]</th>\n",
       "      <td>0.195764</td>\n",
       "      <td>0.658844</td>\n",
       "      <td>0.810867</td>\n",
       "      <td>0.593467</td>\n",
       "      <td>0.688333</td>\n",
       "      <td>0.751864</td>\n",
       "      <td>0.787612</td>\n",
       "      <td>0.954627</td>\n",
       "      <td>0.927696</td>\n",
       "    </tr>\n",
       "    <tr>\n",
       "      <th>Spiegel [DE]</th>\n",
       "      <td>0.370977</td>\n",
       "      <td>0.658667</td>\n",
       "      <td>0.740067</td>\n",
       "      <td>0.756289</td>\n",
       "      <td>0.728829</td>\n",
       "      <td>0.787205</td>\n",
       "      <td>0.687092</td>\n",
       "      <td>0.892476</td>\n",
       "      <td>0.953468</td>\n",
       "    </tr>\n",
       "  </tbody>\n",
       "</table>\n",
       "</div>"
      ],
      "text/plain": [
       "                  Blog Authorship  Student Essays  CNN News  Euro Court Cases  \\\n",
       "Blog Authorship          0.990526        0.670311  0.770356          0.727311   \n",
       "Student Essays           0.545363        0.987378  0.871422          0.864267   \n",
       "CNN News                 0.242957        0.795467  0.981600          0.946978   \n",
       "Euro Court Cases         0.266541        0.822844  0.931867          0.994267   \n",
       "House of Commons         0.428672        0.918933  0.903600          0.921378   \n",
       "ArXiv Papers             0.570501        0.891022  0.897956          0.909911   \n",
       "Gutenberg                0.368120        0.893822  0.861822          0.844978   \n",
       "Bundestag [DE]           0.195764        0.658844  0.810867          0.593467   \n",
       "Spiegel [DE]             0.370977        0.658667  0.740067          0.756289   \n",
       "\n",
       "                  House of Commons  ArXiv Papers  Gutenberg  Bundestag [DE]  \\\n",
       "Blog Authorship           0.680946      0.818656   0.830402        0.585027   \n",
       "Student Essays            0.789640      0.765632   0.874610        0.712686   \n",
       "CNN News                  0.846487      0.856025   0.904823        0.728708   \n",
       "Euro Court Cases          0.912973      0.919765   0.871915        0.569288   \n",
       "House of Commons          0.974189      0.935887   0.882033        0.713489   \n",
       "ArXiv Papers              0.887252      0.979499   0.911111        0.603696   \n",
       "Gutenberg                 0.925450      0.944041   0.977116        0.718074   \n",
       "Bundestag [DE]            0.688333      0.751864   0.787612        0.954627   \n",
       "Spiegel [DE]              0.728829      0.787205   0.687092        0.892476   \n",
       "\n",
       "                  Spiegel [DE]  \n",
       "Blog Authorship       0.671365  \n",
       "Student Essays        0.776286  \n",
       "CNN News              0.656823  \n",
       "Euro Court Cases      0.500940  \n",
       "House of Commons      0.653870  \n",
       "ArXiv Papers          0.497852  \n",
       "Gutenberg             0.716868  \n",
       "Bundestag [DE]        0.927696  \n",
       "Spiegel [DE]          0.953468  "
      ]
     },
     "execution_count": 23,
     "metadata": {},
     "output_type": "execute_result"
    }
   ],
   "source": [
    "import pandas as pd\n",
    "\n",
    "results = []\n",
    "for domain in domains:\n",
    "    results.append(\n",
    "        [results_in_domain[domain][\"metrics\"][i][\"test_roc_auc\"] for i in range(len(domains))]\n",
    "    )\n",
    "\n",
    "df = pd.DataFrame(results, columns=domains, index=domains)\n",
    "df"
   ]
  },
  {
   "cell_type": "markdown",
   "metadata": {},
   "source": [
    "## Cross-Domain Training & Evaluation"
   ]
  },
  {
   "cell_type": "code",
   "execution_count": 24,
   "metadata": {},
   "outputs": [
    {
     "name": "stderr",
     "output_type": "stream",
     "text": [
      "Seed set to 1337\n",
      "GPU available: True (cuda), used: True\n",
      "TPU available: False, using: 0 TPU cores\n",
      "HPU available: False, using: 0 HPUs\n",
      "/home/mastoeck/Projects/PrismAI/PrismAI/.venv/lib/python3.12/site-packages/lightning/pytorch/utilities/parsing.py:45: Attribute 'feature_dim' removed from hparams because it cannot be pickled. You can suppress this warning by setting `self.save_hyperparameters(ignore=['feature_dim'])`.\n",
      "/home/mastoeck/Projects/PrismAI/PrismAI/.venv/lib/python3.12/site-packages/lightning/pytorch/utilities/parsing.py:45: Attribute 'conv_layer_shapes' removed from hparams because it cannot be pickled. You can suppress this warning by setting `self.save_hyperparameters(ignore=['conv_layer_shapes'])`.\n",
      "LOCAL_RANK: 0 - CUDA_VISIBLE_DEVICES: [0]\n",
      "Loading `train_dataloader` to estimate number of stepping batches.\n",
      "\n",
      "  | Name        | Type              | Params | Mode  | In sizes    | Out sizes  \n",
      "--------------------------------------------------------------------------------------\n",
      "0 | conv_layers | Sequential        | 152 K  | train | ?           | ?          \n",
      "1 | projection  | Identity          | 0      | train | [32, 16384] | [32, 16384]\n",
      "2 | classifier  | Linear            | 16.4 K | train | [32, 16384] | [32, 1]    \n",
      "3 | criterion   | BCEWithLogitsLoss | 0      | train | ?           | ?          \n",
      "--------------------------------------------------------------------------------------\n",
      "168 K     Trainable params\n",
      "0         Non-trainable params\n",
      "168 K     Total params\n",
      "0.674     Total estimated model params size (MB)\n",
      "15        Modules in train mode\n",
      "0         Modules in eval mode\n"
     ]
    },
    {
     "data": {
      "application/vnd.jupyter.widget-view+json": {
       "model_id": "cb4ee91625464b889784e279813348f7",
       "version_major": 2,
       "version_minor": 0
      },
      "text/plain": [
       "Sanity Checking: |          | 0/? [00:00<?, ?it/s]"
      ]
     },
     "metadata": {},
     "output_type": "display_data"
    },
    {
     "data": {
      "application/vnd.jupyter.widget-view+json": {
       "model_id": "5bf3268c6fb84b65adde1ae695e996be",
       "version_major": 2,
       "version_minor": 0
      },
      "text/plain": [
       "Training: |          | 0/? [00:00<?, ?it/s]"
      ]
     },
     "metadata": {},
     "output_type": "display_data"
    },
    {
     "data": {
      "application/vnd.jupyter.widget-view+json": {
       "model_id": "fcd5962c6b7845a4aff0ea0bf09fee7e",
       "version_major": 2,
       "version_minor": 0
      },
      "text/plain": [
       "Validation: |          | 0/? [00:00<?, ?it/s]"
      ]
     },
     "metadata": {},
     "output_type": "display_data"
    },
    {
     "data": {
      "application/vnd.jupyter.widget-view+json": {
       "model_id": "305375ad03a24a04af2040c28c85e194",
       "version_major": 2,
       "version_minor": 0
      },
      "text/plain": [
       "Validation: |          | 0/? [00:00<?, ?it/s]"
      ]
     },
     "metadata": {},
     "output_type": "display_data"
    },
    {
     "data": {
      "application/vnd.jupyter.widget-view+json": {
       "model_id": "5dd3bdfc3cd141b6bad25db4dd7636ec",
       "version_major": 2,
       "version_minor": 0
      },
      "text/plain": [
       "Validation: |          | 0/? [00:00<?, ?it/s]"
      ]
     },
     "metadata": {},
     "output_type": "display_data"
    },
    {
     "data": {
      "application/vnd.jupyter.widget-view+json": {
       "model_id": "0d25a6be24f84519b8e2f72f4ad7c8cc",
       "version_major": 2,
       "version_minor": 0
      },
      "text/plain": [
       "Validation: |          | 0/? [00:00<?, ?it/s]"
      ]
     },
     "metadata": {},
     "output_type": "display_data"
    },
    {
     "data": {
      "application/vnd.jupyter.widget-view+json": {
       "model_id": "f7bd4c28e9c241f1822d9e6b69151cdd",
       "version_major": 2,
       "version_minor": 0
      },
      "text/plain": [
       "Validation: |          | 0/? [00:00<?, ?it/s]"
      ]
     },
     "metadata": {},
     "output_type": "display_data"
    },
    {
     "data": {
      "application/vnd.jupyter.widget-view+json": {
       "model_id": "bfdbb008bd14469d8db5a6aaa726e07f",
       "version_major": 2,
       "version_minor": 0
      },
      "text/plain": [
       "Validation: |          | 0/? [00:00<?, ?it/s]"
      ]
     },
     "metadata": {},
     "output_type": "display_data"
    },
    {
     "data": {
      "application/vnd.jupyter.widget-view+json": {
       "model_id": "ec1a6cb9155247eabf94682e7d4d8ceb",
       "version_major": 2,
       "version_minor": 0
      },
      "text/plain": [
       "Validation: |          | 0/? [00:00<?, ?it/s]"
      ]
     },
     "metadata": {},
     "output_type": "display_data"
    },
    {
     "data": {
      "application/vnd.jupyter.widget-view+json": {
       "model_id": "5f2484178a7649f9ae6a3b9f21fe2d31",
       "version_major": 2,
       "version_minor": 0
      },
      "text/plain": [
       "Validation: |          | 0/? [00:00<?, ?it/s]"
      ]
     },
     "metadata": {},
     "output_type": "display_data"
    },
    {
     "data": {
      "application/vnd.jupyter.widget-view+json": {
       "model_id": "916a07d1df7b4dc29e3c0a4c3c596c1f",
       "version_major": 2,
       "version_minor": 0
      },
      "text/plain": [
       "Validation: |          | 0/? [00:00<?, ?it/s]"
      ]
     },
     "metadata": {},
     "output_type": "display_data"
    },
    {
     "data": {
      "application/vnd.jupyter.widget-view+json": {
       "model_id": "e2919d7c43854867a2e4916bd3f95394",
       "version_major": 2,
       "version_minor": 0
      },
      "text/plain": [
       "Validation: |          | 0/? [00:00<?, ?it/s]"
      ]
     },
     "metadata": {},
     "output_type": "display_data"
    },
    {
     "data": {
      "application/vnd.jupyter.widget-view+json": {
       "model_id": "bbd8f9cfa19649dabb1ba49b9f8cd313",
       "version_major": 2,
       "version_minor": 0
      },
      "text/plain": [
       "Validation: |          | 0/? [00:00<?, ?it/s]"
      ]
     },
     "metadata": {},
     "output_type": "display_data"
    },
    {
     "data": {
      "application/vnd.jupyter.widget-view+json": {
       "model_id": "2e938664706d449ea65c783b23ea5ad8",
       "version_major": 2,
       "version_minor": 0
      },
      "text/plain": [
       "Validation: |          | 0/? [00:00<?, ?it/s]"
      ]
     },
     "metadata": {},
     "output_type": "display_data"
    },
    {
     "data": {
      "application/vnd.jupyter.widget-view+json": {
       "model_id": "1ded99e822814179847b9f86895e0940",
       "version_major": 2,
       "version_minor": 0
      },
      "text/plain": [
       "Validation: |          | 0/? [00:00<?, ?it/s]"
      ]
     },
     "metadata": {},
     "output_type": "display_data"
    }
   ],
   "source": [
    "seed_everything(config[\"seed\"])\n",
    "train_dataloader = get_dataloader(*train_datasets.values(), shuffle=True)\n",
    "eval_dataloader = get_dataloader(*eval_datasets.values())\n",
    "test_dataloader = get_dataloader(*test_datasets.values())\n",
    "\n",
    "model = DocumentClassficationModel(**config)\n",
    "trainer = Trainer(\n",
    "    max_epochs=config[\"max_epochs\"],\n",
    "    logger=pl_loggers.TensorBoardLogger(\n",
    "        save_dir=f\"logs/all_domains/{type(featurizer).__name__}\",\n",
    "    ),\n",
    "    gradient_clip_val=config[\"gradient_clip_val\"],\n",
    "    callbacks=[EarlyStopping(monitor=\"val_loss\", mode=\"min\", patience=3)],\n",
    "    deterministic=True,\n",
    ")\n",
    "trainer.fit(\n",
    "    model,\n",
    "    train_dataloaders=train_dataloader,\n",
    "    val_dataloaders=eval_dataloader,\n",
    ")"
   ]
  },
  {
   "cell_type": "code",
   "execution_count": 25,
   "metadata": {},
   "outputs": [
    {
     "name": "stderr",
     "output_type": "stream",
     "text": [
      "LOCAL_RANK: 0 - CUDA_VISIBLE_DEVICES: [0]\n",
      "LOCAL_RANK: 0 - CUDA_VISIBLE_DEVICES: [0]\n",
      "LOCAL_RANK: 0 - CUDA_VISIBLE_DEVICES: [0]\n",
      "LOCAL_RANK: 0 - CUDA_VISIBLE_DEVICES: [0]\n",
      "LOCAL_RANK: 0 - CUDA_VISIBLE_DEVICES: [0]\n",
      "LOCAL_RANK: 0 - CUDA_VISIBLE_DEVICES: [0]\n",
      "LOCAL_RANK: 0 - CUDA_VISIBLE_DEVICES: [0]\n",
      "LOCAL_RANK: 0 - CUDA_VISIBLE_DEVICES: [0]\n",
      "LOCAL_RANK: 0 - CUDA_VISIBLE_DEVICES: [0]\n",
      "LOCAL_RANK: 0 - CUDA_VISIBLE_DEVICES: [0]\n",
      "LOCAL_RANK: 0 - CUDA_VISIBLE_DEVICES: [0]\n",
      "LOCAL_RANK: 0 - CUDA_VISIBLE_DEVICES: [0]\n",
      "LOCAL_RANK: 0 - CUDA_VISIBLE_DEVICES: [0]\n",
      "LOCAL_RANK: 0 - CUDA_VISIBLE_DEVICES: [0]\n",
      "LOCAL_RANK: 0 - CUDA_VISIBLE_DEVICES: [0]\n",
      "LOCAL_RANK: 0 - CUDA_VISIBLE_DEVICES: [0]\n",
      "LOCAL_RANK: 0 - CUDA_VISIBLE_DEVICES: [0]\n",
      "LOCAL_RANK: 0 - CUDA_VISIBLE_DEVICES: [0]\n",
      "LOCAL_RANK: 0 - CUDA_VISIBLE_DEVICES: [0]\n",
      "LOCAL_RANK: 0 - CUDA_VISIBLE_DEVICES: [0]\n"
     ]
    }
   ],
   "source": [
    "trainer.progress_bar_callback.disable()\n",
    "metrics_cross_domain = []\n",
    "for other, dataset in test_datasets.items():\n",
    "    trainer.validate(model, get_dataloader(eval_datasets[domain]), verbose=False)\n",
    "    metrics_cross_domain.append(\n",
    "        {\"other\": other}\n",
    "        | trainer.test(\n",
    "            model,\n",
    "            get_dataloader(dataset),\n",
    "            verbose=False,\n",
    "        )[0]\n",
    "    )\n",
    "trainer.validate(model, eval_dataloader, verbose=False)\n",
    "metrics_cross_domain += [\n",
    "    {\n",
    "        \"other\": \"ALL\",\n",
    "        **trainer.test(\n",
    "            model,\n",
    "            test_dataloader,\n",
    "            verbose=False,\n",
    "        )[0],\n",
    "    }\n",
    "]\n",
    "trainer.progress_bar_callback.enable()"
   ]
  },
  {
   "cell_type": "code",
   "execution_count": 26,
   "metadata": {},
   "outputs": [],
   "source": [
    "import pandas as pd\n",
    "\n",
    "\n",
    "def df_to_latex_heatmap(_df: pd.DataFrame):\n",
    "    print(\n",
    "        \"\\\\plotHeatmap{\"\n",
    "        + \",\".join(_df.index)\n",
    "        + \"}{%\\n    \"\n",
    "        + \",%\\n    \".join(\n",
    "            [\n",
    "                \"{\"\n",
    "                + \",\".join(f\"{val:.4f}/{round(val, 2):.2f}\" for val in row[1:])\n",
    "                + \"}\"\n",
    "                for row in _df.reset_index().values\n",
    "            ]\n",
    "        )\n",
    "        + \"%\\n}{\"\n",
    "        + \",\".join(_df.columns)\n",
    "        + \"}\"\n",
    "    )\n"
   ]
  },
  {
   "cell_type": "code",
   "execution_count": 83,
   "metadata": {},
   "outputs": [
    {
     "name": "stderr",
     "output_type": "stream",
     "text": [
      "/tmp/ipykernel_1250882/1315127472.py:16: FutureWarning: ChainedAssignmentError: behaviour will change in pandas 3.0!\n",
      "You are setting values through chained assignment. Currently this works in certain cases, but when using Copy-on-Write (which will become the default behaviour in pandas 3.0) this will never work to update the original DataFrame or Series, because the intermediate object on which we are setting values will behave as a copy.\n",
      "A typical example is when you are setting values in a column of a DataFrame, like:\n",
      "\n",
      "df[\"col\"][row_indexer] = value\n",
      "\n",
      "Use `df.loc[row_indexer, \"col\"] = values` instead, to perform the assignment in a single step and ensure this keeps updating the original `df`.\n",
      "\n",
      "See the caveats in the documentation: https://pandas.pydata.org/pandas-docs/stable/user_guide/indexing.html#returning-a-view-versus-a-copy\n",
      "\n",
      "  df[\"AVG\"][-1] = metrics_cross_domain[-1][_metric]\n",
      "/tmp/ipykernel_1250882/1315127472.py:16: FutureWarning: Series.__setitem__ treating keys as positions is deprecated. In a future version, integer keys will always be treated as labels (consistent with DataFrame behavior). To set a value by position, use `ser.iloc[pos] = value`\n",
      "  df[\"AVG\"][-1] = metrics_cross_domain[-1][_metric]\n"
     ]
    },
    {
     "data": {
      "application/vnd.microsoft.datawrangler.viewer.v0+json": {
       "columns": [
        {
         "name": "index",
         "rawType": "object",
         "type": "string"
        },
        {
         "name": "Blog Authorship",
         "rawType": "float64",
         "type": "float"
        },
        {
         "name": "Student Essays",
         "rawType": "float64",
         "type": "float"
        },
        {
         "name": "CNN News",
         "rawType": "float64",
         "type": "float"
        },
        {
         "name": "Euro Court Cases",
         "rawType": "float64",
         "type": "float"
        },
        {
         "name": "House of Commons",
         "rawType": "float64",
         "type": "float"
        },
        {
         "name": "ArXiv Papers",
         "rawType": "float64",
         "type": "float"
        },
        {
         "name": "Gutenberg",
         "rawType": "float64",
         "type": "float"
        },
        {
         "name": "Bundestag [DE]",
         "rawType": "float64",
         "type": "float"
        },
        {
         "name": "Spiegel [DE]",
         "rawType": "float64",
         "type": "float"
        },
        {
         "name": "AVG",
         "rawType": "float64",
         "type": "float"
        }
       ],
       "conversionMethod": "pd.DataFrame",
       "ref": "168f5a11-81f0-47b2-b1a5-c0c054ae8bee",
       "rows": [
        [
         "Blog Authorship",
         "0.9540635943412781",
         "0.5666666626930237",
         "0.5299999713897705",
         "0.503333330154419",
         "0.5100671052932739",
         "0.5221843123435974",
         "0.5567010045051575",
         "0.5979381203651428",
         "0.6421404480934143",
         "0.598121616575453"
        ],
        [
         "Student Essays",
         "0.5795053243637085",
         "0.949999988079071",
         "0.7633333206176758",
         "0.7633333206176758",
         "0.7885906100273132",
         "0.7610921263694763",
         "0.831615149974823",
         "0.49140894412994385",
         "0.5083612203598022",
         "0.7152488893932767"
        ],
        [
         "CNN News",
         "0.5229681730270386",
         "0.7099999785423279",
         "0.9433333277702332",
         "0.8933333158493042",
         "0.8557047247886658",
         "0.8361774682998657",
         "0.8350515365600586",
         "0.4879724979400635",
         "0.5083612203598022",
         "0.7325446936819289"
        ],
        [
         "Euro Court Cases",
         "0.40282684564590454",
         "0.6933333277702332",
         "0.8266666531562805",
         "0.9633333086967468",
         "0.744966447353363",
         "0.8361774682998657",
         "0.7800687551498413",
         "0.49140894412994385",
         "0.5016722679138184",
         "0.6933837797906663"
        ],
        [
         "House of Commons",
         "0.4416961073875427",
         "0.8366666436195374",
         "0.8066666722297668",
         "0.8066666722297668",
         "0.9228187799453735",
         "0.8907849788665771",
         "0.7972508668899536",
         "0.49140894412994385",
         "0.5016722679138184",
         "0.7217368814680312"
        ],
        [
         "ArXiv Papers",
         "0.5017668008804321",
         "0.8100000023841858",
         "0.8266666531562805",
         "0.7433333396911621",
         "0.8557047247886658",
         "0.9215016961097717",
         "0.838487982749939",
         "0.4879724979400635",
         "0.49163880944252014",
         "0.7196747230158912"
        ],
        [
         "Gutenberg",
         "0.5123674869537354",
         "0.7933333516120911",
         "0.7266666889190674",
         "0.5433333516120911",
         "0.7785235047340393",
         "0.8430033922195435",
         "0.9278350472450256",
         "0.5223367810249329",
         "0.5284280776977539",
         "0.6862030757798089"
        ],
        [
         "Bundestag [DE]",
         "0.18727914988994598",
         "0.5266666412353516",
         "0.5266666412353516",
         "0.49000000953674316",
         "0.47651007771492004",
         "0.49146756529808044",
         "0.5017182230949402",
         "0.8900343775749207",
         "0.8662207126617432",
         "0.550729266471333"
        ],
        [
         "Spiegel [DE]",
         "0.5300353169441223",
         "0.6133333444595337",
         "0.6633333563804626",
         "0.6000000238418579",
         "0.6677852272987366",
         "0.7269624471664429",
         "0.6391752362251282",
         "0.7903780341148376",
         "0.8795986771583557",
         "0.6789557403988309"
        ],
        [
         "ALL",
         "0.9434629082679749",
         "0.8066666722297668",
         "0.9233333468437195",
         "0.9399999976158142",
         "0.9295302033424377",
         "0.9590443968772888",
         "0.9450171589851379",
         "0.8625429272651672",
         "0.8260869383811951",
         "0.9111111164093018"
        ]
       ],
       "shape": {
        "columns": 10,
        "rows": 10
       }
      },
      "text/html": [
       "<div>\n",
       "<style scoped>\n",
       "    .dataframe tbody tr th:only-of-type {\n",
       "        vertical-align: middle;\n",
       "    }\n",
       "\n",
       "    .dataframe tbody tr th {\n",
       "        vertical-align: top;\n",
       "    }\n",
       "\n",
       "    .dataframe thead th {\n",
       "        text-align: right;\n",
       "    }\n",
       "</style>\n",
       "<table border=\"1\" class=\"dataframe\">\n",
       "  <thead>\n",
       "    <tr style=\"text-align: right;\">\n",
       "      <th></th>\n",
       "      <th>Blog Authorship</th>\n",
       "      <th>Student Essays</th>\n",
       "      <th>CNN News</th>\n",
       "      <th>Euro Court Cases</th>\n",
       "      <th>House of Commons</th>\n",
       "      <th>ArXiv Papers</th>\n",
       "      <th>Gutenberg</th>\n",
       "      <th>Bundestag [DE]</th>\n",
       "      <th>Spiegel [DE]</th>\n",
       "      <th>AVG</th>\n",
       "    </tr>\n",
       "  </thead>\n",
       "  <tbody>\n",
       "    <tr>\n",
       "      <th>Blog Authorship</th>\n",
       "      <td>0.954064</td>\n",
       "      <td>0.566667</td>\n",
       "      <td>0.530000</td>\n",
       "      <td>0.503333</td>\n",
       "      <td>0.510067</td>\n",
       "      <td>0.522184</td>\n",
       "      <td>0.556701</td>\n",
       "      <td>0.597938</td>\n",
       "      <td>0.642140</td>\n",
       "      <td>0.598122</td>\n",
       "    </tr>\n",
       "    <tr>\n",
       "      <th>Student Essays</th>\n",
       "      <td>0.579505</td>\n",
       "      <td>0.950000</td>\n",
       "      <td>0.763333</td>\n",
       "      <td>0.763333</td>\n",
       "      <td>0.788591</td>\n",
       "      <td>0.761092</td>\n",
       "      <td>0.831615</td>\n",
       "      <td>0.491409</td>\n",
       "      <td>0.508361</td>\n",
       "      <td>0.715249</td>\n",
       "    </tr>\n",
       "    <tr>\n",
       "      <th>CNN News</th>\n",
       "      <td>0.522968</td>\n",
       "      <td>0.710000</td>\n",
       "      <td>0.943333</td>\n",
       "      <td>0.893333</td>\n",
       "      <td>0.855705</td>\n",
       "      <td>0.836177</td>\n",
       "      <td>0.835052</td>\n",
       "      <td>0.487972</td>\n",
       "      <td>0.508361</td>\n",
       "      <td>0.732545</td>\n",
       "    </tr>\n",
       "    <tr>\n",
       "      <th>Euro Court Cases</th>\n",
       "      <td>0.402827</td>\n",
       "      <td>0.693333</td>\n",
       "      <td>0.826667</td>\n",
       "      <td>0.963333</td>\n",
       "      <td>0.744966</td>\n",
       "      <td>0.836177</td>\n",
       "      <td>0.780069</td>\n",
       "      <td>0.491409</td>\n",
       "      <td>0.501672</td>\n",
       "      <td>0.693384</td>\n",
       "    </tr>\n",
       "    <tr>\n",
       "      <th>House of Commons</th>\n",
       "      <td>0.441696</td>\n",
       "      <td>0.836667</td>\n",
       "      <td>0.806667</td>\n",
       "      <td>0.806667</td>\n",
       "      <td>0.922819</td>\n",
       "      <td>0.890785</td>\n",
       "      <td>0.797251</td>\n",
       "      <td>0.491409</td>\n",
       "      <td>0.501672</td>\n",
       "      <td>0.721737</td>\n",
       "    </tr>\n",
       "    <tr>\n",
       "      <th>ArXiv Papers</th>\n",
       "      <td>0.501767</td>\n",
       "      <td>0.810000</td>\n",
       "      <td>0.826667</td>\n",
       "      <td>0.743333</td>\n",
       "      <td>0.855705</td>\n",
       "      <td>0.921502</td>\n",
       "      <td>0.838488</td>\n",
       "      <td>0.487972</td>\n",
       "      <td>0.491639</td>\n",
       "      <td>0.719675</td>\n",
       "    </tr>\n",
       "    <tr>\n",
       "      <th>Gutenberg</th>\n",
       "      <td>0.512367</td>\n",
       "      <td>0.793333</td>\n",
       "      <td>0.726667</td>\n",
       "      <td>0.543333</td>\n",
       "      <td>0.778524</td>\n",
       "      <td>0.843003</td>\n",
       "      <td>0.927835</td>\n",
       "      <td>0.522337</td>\n",
       "      <td>0.528428</td>\n",
       "      <td>0.686203</td>\n",
       "    </tr>\n",
       "    <tr>\n",
       "      <th>Bundestag [DE]</th>\n",
       "      <td>0.187279</td>\n",
       "      <td>0.526667</td>\n",
       "      <td>0.526667</td>\n",
       "      <td>0.490000</td>\n",
       "      <td>0.476510</td>\n",
       "      <td>0.491468</td>\n",
       "      <td>0.501718</td>\n",
       "      <td>0.890034</td>\n",
       "      <td>0.866221</td>\n",
       "      <td>0.550729</td>\n",
       "    </tr>\n",
       "    <tr>\n",
       "      <th>Spiegel [DE]</th>\n",
       "      <td>0.530035</td>\n",
       "      <td>0.613333</td>\n",
       "      <td>0.663333</td>\n",
       "      <td>0.600000</td>\n",
       "      <td>0.667785</td>\n",
       "      <td>0.726962</td>\n",
       "      <td>0.639175</td>\n",
       "      <td>0.790378</td>\n",
       "      <td>0.879599</td>\n",
       "      <td>0.678956</td>\n",
       "    </tr>\n",
       "    <tr>\n",
       "      <th>ALL</th>\n",
       "      <td>0.943463</td>\n",
       "      <td>0.806667</td>\n",
       "      <td>0.923333</td>\n",
       "      <td>0.940000</td>\n",
       "      <td>0.929530</td>\n",
       "      <td>0.959044</td>\n",
       "      <td>0.945017</td>\n",
       "      <td>0.862543</td>\n",
       "      <td>0.826087</td>\n",
       "      <td>0.911111</td>\n",
       "    </tr>\n",
       "  </tbody>\n",
       "</table>\n",
       "</div>"
      ],
      "text/plain": [
       "                  Blog Authorship  Student Essays  CNN News  Euro Court Cases  \\\n",
       "Blog Authorship          0.954064        0.566667  0.530000          0.503333   \n",
       "Student Essays           0.579505        0.950000  0.763333          0.763333   \n",
       "CNN News                 0.522968        0.710000  0.943333          0.893333   \n",
       "Euro Court Cases         0.402827        0.693333  0.826667          0.963333   \n",
       "House of Commons         0.441696        0.836667  0.806667          0.806667   \n",
       "ArXiv Papers             0.501767        0.810000  0.826667          0.743333   \n",
       "Gutenberg                0.512367        0.793333  0.726667          0.543333   \n",
       "Bundestag [DE]           0.187279        0.526667  0.526667          0.490000   \n",
       "Spiegel [DE]             0.530035        0.613333  0.663333          0.600000   \n",
       "ALL                      0.943463        0.806667  0.923333          0.940000   \n",
       "\n",
       "                  House of Commons  ArXiv Papers  Gutenberg  Bundestag [DE]  \\\n",
       "Blog Authorship           0.510067      0.522184   0.556701        0.597938   \n",
       "Student Essays            0.788591      0.761092   0.831615        0.491409   \n",
       "CNN News                  0.855705      0.836177   0.835052        0.487972   \n",
       "Euro Court Cases          0.744966      0.836177   0.780069        0.491409   \n",
       "House of Commons          0.922819      0.890785   0.797251        0.491409   \n",
       "ArXiv Papers              0.855705      0.921502   0.838488        0.487972   \n",
       "Gutenberg                 0.778524      0.843003   0.927835        0.522337   \n",
       "Bundestag [DE]            0.476510      0.491468   0.501718        0.890034   \n",
       "Spiegel [DE]              0.667785      0.726962   0.639175        0.790378   \n",
       "ALL                       0.929530      0.959044   0.945017        0.862543   \n",
       "\n",
       "                  Spiegel [DE]       AVG  \n",
       "Blog Authorship       0.642140  0.598122  \n",
       "Student Essays        0.508361  0.715249  \n",
       "CNN News              0.508361  0.732545  \n",
       "Euro Court Cases      0.501672  0.693384  \n",
       "House of Commons      0.501672  0.721737  \n",
       "ArXiv Papers          0.491639  0.719675  \n",
       "Gutenberg             0.528428  0.686203  \n",
       "Bundestag [DE]        0.866221  0.550729  \n",
       "Spiegel [DE]          0.879599  0.678956  \n",
       "ALL                   0.826087  0.911111  "
      ]
     },
     "execution_count": 83,
     "metadata": {},
     "output_type": "execute_result"
    }
   ],
   "source": [
    "# _metric = \"test_roc_auc\"\n",
    "_metric = \"test_acc\"\n",
    "\n",
    "results = []\n",
    "for domain in domains:\n",
    "    results.append(\n",
    "        [\n",
    "            results_in_domain[domain][\"metrics\"][i][_metric]\n",
    "            for i in range(len(domains))\n",
    "        ]\n",
    "    )\n",
    "results.append([m[_metric] for m in metrics_cross_domain[:len(domains)]])\n",
    "\n",
    "df = pd.DataFrame(results, columns=domains, index=list(domains) + [\"ALL\"])\n",
    "df[\"AVG\"] = df.mean(axis=1)\n",
    "df[\"AVG\"][-1] = metrics_cross_domain[-1][_metric]\n",
    "df"
   ]
  },
  {
   "cell_type": "code",
   "execution_count": 84,
   "metadata": {},
   "outputs": [
    {
     "name": "stdout",
     "output_type": "stream",
     "text": [
      "\\plotHeatmap{Blog Authorship,Student Essays,CNN News,Euro Court Cases,House of Commons,ArXiv Papers,Gutenberg,Bundestag [DE],Spiegel [DE],ALL}{%\n",
      "    {0.9541/0.95,0.5667/0.57,0.5300/0.53,0.5033/0.50,0.5101/0.51,0.5222/0.52,0.5567/0.56,0.5979/0.60,0.6421/0.64,0.5981/0.60},%\n",
      "    {0.5795/0.58,0.9500/0.95,0.7633/0.76,0.7633/0.76,0.7886/0.79,0.7611/0.76,0.8316/0.83,0.4914/0.49,0.5084/0.51,0.7152/0.72},%\n",
      "    {0.5230/0.52,0.7100/0.71,0.9433/0.94,0.8933/0.89,0.8557/0.86,0.8362/0.84,0.8351/0.84,0.4880/0.49,0.5084/0.51,0.7325/0.73},%\n",
      "    {0.4028/0.40,0.6933/0.69,0.8267/0.83,0.9633/0.96,0.7450/0.74,0.8362/0.84,0.7801/0.78,0.4914/0.49,0.5017/0.50,0.6934/0.69},%\n",
      "    {0.4417/0.44,0.8367/0.84,0.8067/0.81,0.8067/0.81,0.9228/0.92,0.8908/0.89,0.7973/0.80,0.4914/0.49,0.5017/0.50,0.7217/0.72},%\n",
      "    {0.5018/0.50,0.8100/0.81,0.8267/0.83,0.7433/0.74,0.8557/0.86,0.9215/0.92,0.8385/0.84,0.4880/0.49,0.4916/0.49,0.7197/0.72},%\n",
      "    {0.5124/0.51,0.7933/0.79,0.7267/0.73,0.5433/0.54,0.7785/0.78,0.8430/0.84,0.9278/0.93,0.5223/0.52,0.5284/0.53,0.6862/0.69},%\n",
      "    {0.1873/0.19,0.5267/0.53,0.5267/0.53,0.4900/0.49,0.4765/0.48,0.4915/0.49,0.5017/0.50,0.8900/0.89,0.8662/0.87,0.5507/0.55},%\n",
      "    {0.5300/0.53,0.6133/0.61,0.6633/0.66,0.6000/0.60,0.6678/0.67,0.7270/0.73,0.6392/0.64,0.7904/0.79,0.8796/0.88,0.6790/0.68},%\n",
      "    {0.9435/0.94,0.8067/0.81,0.9233/0.92,0.9400/0.94,0.9295/0.93,0.9590/0.96,0.9450/0.95,0.8625/0.86,0.8261/0.83,0.9111/0.91}%\n",
      "}{Blog Authorship,Student Essays,CNN News,Euro Court Cases,House of Commons,ArXiv Papers,Gutenberg,Bundestag [DE],Spiegel [DE],AVG}\n"
     ]
    }
   ],
   "source": [
    "df_to_latex_heatmap(df)"
   ]
  },
  {
   "cell_type": "code",
   "execution_count": 85,
   "metadata": {},
   "outputs": [
    {
     "data": {
      "text/plain": [
       "{'seed': 1337,\n",
       " 'eval_split': 0.1,\n",
       " 'test_split': 0.1,\n",
       " 'feature_model': 'gpt2',\n",
       " 'synth_agent': 'gpt-4o-mini',\n",
       " 'second_dim_as_channels': True,\n",
       " 'feature_dim': TwoDimFeatures(height=256, width=13),\n",
       " 'featurizer': 'IntermediateLogits(last_n=13)',\n",
       " 'slicer': 'SliceRandomMultiple(size=64, multiple=4, stride=16, sort=False)',\n",
       " 'num_samples': None,\n",
       " 'projection_dim': None,\n",
       " 'learning_rate': 0.0001,\n",
       " 'warmup_steps': 66,\n",
       " 'max_epochs': 50,\n",
       " 'gradient_clip_val': 0.5,\n",
       " 'batch_size': 32,\n",
       " 'conv_layer_shapes': [(64, 5, 1),\n",
       "  (128, 3, 1),\n",
       "  (128, 3, 1),\n",
       "  (128, 3, 1),\n",
       "  (64, 3, 1)]}"
      ]
     },
     "execution_count": 85,
     "metadata": {},
     "output_type": "execute_result"
    }
   ],
   "source": [
    "config"
   ]
  },
  {
   "cell_type": "code",
   "execution_count": 86,
   "metadata": {},
   "outputs": [
    {
     "data": {
      "image/png": "[encoded data removed]",
      "text/plain": [
       "<Figure size 640x480 with 1 Axes>"
      ]
     },
     "metadata": {},
     "output_type": "display_data"
    }
   ],
   "source": [
    "import matplotlib.pyplot as plt\n",
    "import numpy as np\n",
    "import seaborn as sns\n",
    "\n",
    "ax = sns.heatmap(\n",
    "    df,\n",
    "    annot=True,\n",
    "    fmt=\".2f\",\n",
    "    vmax=1.0,\n",
    "    vmin=0.0,\n",
    "    cmap=sns.cubehelix_palette(rot=-0.2, as_cmap=True),\n",
    "    yticklabels=list(domains) + [\"ALL\"],\n",
    "    xticklabels=list(domains) + [\"AVG\"],\n",
    "    square=True,\n",
    "    # reduce annotation font size\n",
    "    annot_kws={\"fontsize\": 8},\n",
    "    cbar=False,\n",
    ")\n",
    "\n",
    "# rotate x-axis labels by 45 degrees\n",
    "# anchored at the right edge of the axes\n",
    "for tick in ax.get_xticklabels():\n",
    "    tick.set_rotation(45)\n",
    "    tick.set_horizontalalignment(\"right\")\n",
    "\n",
    "plt.tight_layout()\n",
    "# plt.savefig(\n",
    "#     \"../figures/evaluation-trained_in_domain-test_0.1-gpt2_256-rand_4-il_13_as_channels.pdf\",\n",
    "#     dpi=300,\n",
    "# )\n",
    "plt.show()"
   ]
  },
  {
   "cell_type": "markdown",
   "metadata": {},
   "source": [
    "### LLR on Whole Datasets"
   ]
  },
  {
   "cell_type": "code",
   "execution_count": 90,
   "metadata": {},
   "outputs": [
    {
     "data": {
      "application/vnd.microsoft.datawrangler.viewer.v0+json": {
       "columns": [
        {
         "name": "index",
         "rawType": "int64",
         "type": "integer"
        },
        {
         "name": "domain",
         "rawType": "object",
         "type": "string"
        },
        {
         "name": "auroc",
         "rawType": "float64",
         "type": "float"
        },
        {
         "name": "best_acc",
         "rawType": "float64",
         "type": "float"
        },
        {
         "name": "best_threshold",
         "rawType": "float64",
         "type": "float"
        }
       ],
       "conversionMethod": "pd.DataFrame",
       "ref": "5cd259c5-b452-461e-b99f-ba6a14442a5c",
       "rows": [
        [
         "0",
         "Blog Authorship",
         "0.469396170442287",
         "0.5303362573099415",
         "1.91608"
        ],
        [
         "1",
         "Student Essays",
         "0.8453984444444443",
         "0.7803333333333333",
         "1.9758799999999999"
        ],
        [
         "2",
         "CNN News",
         "0.9411831111111111",
         "0.879",
         "1.99316"
        ],
        [
         "3",
         "Euro Court Cases",
         "0.9145772575250836",
         "0.8550918196994992",
         "2.05116"
        ],
        [
         "4",
         "House of Commons",
         "0.8558063063063064",
         "0.852013422818792",
         "1.98152"
        ],
        [
         "5",
         "ArXiv Papers",
         "0.9654875555555555",
         "0.9403333333333334",
         "1.908"
        ],
        [
         "6",
         "Gutenberg",
         "0.9026498921639108",
         "0.8450363196125908",
         "1.9260799999999998"
        ],
        [
         "7",
         "Bundestag [DE]",
         "0.8435767300428432",
         "0.7832764505119454",
         "1.79"
        ],
        [
         "8",
         "Spiegel [DE]",
         "0.8665623885918003",
         "0.812082777036048",
         "1.758"
        ]
       ],
       "shape": {
        "columns": 4,
        "rows": 9
       }
      },
      "text/html": [
       "<div>\n",
       "<style scoped>\n",
       "    .dataframe tbody tr th:only-of-type {\n",
       "        vertical-align: middle;\n",
       "    }\n",
       "\n",
       "    .dataframe tbody tr th {\n",
       "        vertical-align: top;\n",
       "    }\n",
       "\n",
       "    .dataframe thead th {\n",
       "        text-align: right;\n",
       "    }\n",
       "</style>\n",
       "<table border=\"1\" class=\"dataframe\">\n",
       "  <thead>\n",
       "    <tr style=\"text-align: right;\">\n",
       "      <th></th>\n",
       "      <th>domain</th>\n",
       "      <th>auroc</th>\n",
       "      <th>best_acc</th>\n",
       "      <th>best_threshold</th>\n",
       "    </tr>\n",
       "  </thead>\n",
       "  <tbody>\n",
       "    <tr>\n",
       "      <th>0</th>\n",
       "      <td>Blog Authorship</td>\n",
       "      <td>0.469396</td>\n",
       "      <td>0.530336</td>\n",
       "      <td>1.91608</td>\n",
       "    </tr>\n",
       "    <tr>\n",
       "      <th>1</th>\n",
       "      <td>Student Essays</td>\n",
       "      <td>0.845398</td>\n",
       "      <td>0.780333</td>\n",
       "      <td>1.97588</td>\n",
       "    </tr>\n",
       "    <tr>\n",
       "      <th>2</th>\n",
       "      <td>CNN News</td>\n",
       "      <td>0.941183</td>\n",
       "      <td>0.879000</td>\n",
       "      <td>1.99316</td>\n",
       "    </tr>\n",
       "    <tr>\n",
       "      <th>3</th>\n",
       "      <td>Euro Court Cases</td>\n",
       "      <td>0.914577</td>\n",
       "      <td>0.855092</td>\n",
       "      <td>2.05116</td>\n",
       "    </tr>\n",
       "    <tr>\n",
       "      <th>4</th>\n",
       "      <td>House of Commons</td>\n",
       "      <td>0.855806</td>\n",
       "      <td>0.852013</td>\n",
       "      <td>1.98152</td>\n",
       "    </tr>\n",
       "    <tr>\n",
       "      <th>5</th>\n",
       "      <td>ArXiv Papers</td>\n",
       "      <td>0.965488</td>\n",
       "      <td>0.940333</td>\n",
       "      <td>1.90800</td>\n",
       "    </tr>\n",
       "    <tr>\n",
       "      <th>6</th>\n",
       "      <td>Gutenberg</td>\n",
       "      <td>0.902650</td>\n",
       "      <td>0.845036</td>\n",
       "      <td>1.92608</td>\n",
       "    </tr>\n",
       "    <tr>\n",
       "      <th>7</th>\n",
       "      <td>Bundestag [DE]</td>\n",
       "      <td>0.843577</td>\n",
       "      <td>0.783276</td>\n",
       "      <td>1.79000</td>\n",
       "    </tr>\n",
       "    <tr>\n",
       "      <th>8</th>\n",
       "      <td>Spiegel [DE]</td>\n",
       "      <td>0.866562</td>\n",
       "      <td>0.812083</td>\n",
       "      <td>1.75800</td>\n",
       "    </tr>\n",
       "  </tbody>\n",
       "</table>\n",
       "</div>"
      ],
      "text/plain": [
       "             domain     auroc  best_acc  best_threshold\n",
       "0   Blog Authorship  0.469396  0.530336         1.91608\n",
       "1    Student Essays  0.845398  0.780333         1.97588\n",
       "2          CNN News  0.941183  0.879000         1.99316\n",
       "3  Euro Court Cases  0.914577  0.855092         2.05116\n",
       "4  House of Commons  0.855806  0.852013         1.98152\n",
       "5      ArXiv Papers  0.965488  0.940333         1.90800\n",
       "6         Gutenberg  0.902650  0.845036         1.92608\n",
       "7    Bundestag [DE]  0.843577  0.783276         1.79000\n",
       "8      Spiegel [DE]  0.866562  0.812083         1.75800"
      ]
     },
     "execution_count": 90,
     "metadata": {},
     "output_type": "execute_result"
    }
   ],
   "source": [
    "from sklearn.metrics import auc, roc_curve\n",
    "\n",
    "from luminar.baselines import llr_from_transition_scores\n",
    "from simple_dataset import Dataset as SimpleDataset\n",
    "from transition_scores.data import TransitionScores\n",
    "\n",
    "results_llr = []\n",
    "for domain, split in datasets.items():\n",
    "    dataset_test = (\n",
    "        SimpleDataset(split)\n",
    "        .flat_map(lambda doc: doc[\"features\"])\n",
    "        .map(\n",
    "            lambda x: {\n",
    "                \"llr\": llr_from_transition_scores(\n",
    "                    TransitionScores(**x[\"transition_scores\"])\n",
    "                ),\n",
    "                \"labels\": int(x[\"type\"] != \"source\"),\n",
    "            },\n",
    "            in_place=False,\n",
    "        )\n",
    "    )\n",
    "    fpr, tpr, _ = roc_curve(dataset_test[\"labels\"], dataset_test[\"llr\"])\n",
    "    auroc = auc(fpr, tpr)\n",
    "\n",
    "    preds = np.array(dataset_test[\"llr\"])\n",
    "    labels = np.array(dataset_test[\"labels\"])\n",
    "\n",
    "    mean_0 = float(np.mean(preds[labels == 0]))\n",
    "    mean_1 = float(np.mean(preds[labels == 1]))\n",
    "\n",
    "    thresholds = np.linspace(round(mean_0, 1) - 0.2, round(mean_1, 1) + 0.3, 5001)\n",
    "    preds_thresholded: np.ndarray = preds > thresholds.reshape(-1, 1)\n",
    "    acc_thresholded = np.mean((preds_thresholded == labels), axis=1)\n",
    "    idx = np.argmax(acc_thresholded)\n",
    "    best_threshold = thresholds[idx]\n",
    "    best_acc = acc_thresholded[idx]\n",
    "\n",
    "    results_llr.append({\n",
    "        \"domain\": domain,\n",
    "        \"auroc\": auroc,\n",
    "        \"best_acc\": best_acc,\n",
    "        \"best_threshold\": best_threshold,\n",
    "    })\n",
    "\n",
    "pd.DataFrame(results_llr)"
   ]
  },
  {
   "cell_type": "markdown",
   "metadata": {},
   "source": [
    "### LLR on Test Splits"
   ]
  },
  {
   "cell_type": "code",
   "execution_count": 91,
   "metadata": {},
   "outputs": [
    {
     "data": {
      "application/vnd.microsoft.datawrangler.viewer.v0+json": {
       "columns": [
        {
         "name": "index",
         "rawType": "int64",
         "type": "integer"
        },
        {
         "name": "domain",
         "rawType": "object",
         "type": "string"
        },
        {
         "name": "auroc",
         "rawType": "float64",
         "type": "float"
        },
        {
         "name": "best_acc",
         "rawType": "float64",
         "type": "float"
        },
        {
         "name": "best_threshold",
         "rawType": "float64",
         "type": "float"
        }
       ],
       "conversionMethod": "pd.DataFrame",
       "ref": "e080b9aa-e018-4d2f-a8dc-6292679f567f",
       "rows": [
        [
         "0",
         "Blog Authorship",
         "0.4423057644110276",
         "0.5300353356890459",
         "1.912"
        ],
        [
         "1",
         "Student Essays",
         "0.8500444444444444",
         "0.79",
         "1.9747999999999999"
        ],
        [
         "2",
         "CNN News",
         "0.9312444444444444",
         "0.88",
         "1.98"
        ],
        [
         "3",
         "Euro Court Cases",
         "0.9162222222222222",
         "0.8566666666666667",
         "2.073"
        ],
        [
         "4",
         "House of Commons",
         "0.8530630630630631",
         "0.8523489932885906",
         "1.9922"
        ],
        [
         "5",
         "ArXiv Papers",
         "0.9536389898425123",
         "0.9249146757679181",
         "1.9143"
        ],
        [
         "6",
         "Gutenberg",
         "0.8869030732860521",
         "0.8487972508591065",
         "1.9147999999999998"
        ],
        [
         "7",
         "Bundestag [DE]",
         "0.8182720483977691",
         "0.7800687285223368",
         "1.7965"
        ],
        [
         "8",
         "Spiegel [DE]",
         "0.8583892617449665",
         "0.7892976588628763",
         "1.7454"
        ]
       ],
       "shape": {
        "columns": 4,
        "rows": 9
       }
      },
      "text/html": [
       "<div>\n",
       "<style scoped>\n",
       "    .dataframe tbody tr th:only-of-type {\n",
       "        vertical-align: middle;\n",
       "    }\n",
       "\n",
       "    .dataframe tbody tr th {\n",
       "        vertical-align: top;\n",
       "    }\n",
       "\n",
       "    .dataframe thead th {\n",
       "        text-align: right;\n",
       "    }\n",
       "</style>\n",
       "<table border=\"1\" class=\"dataframe\">\n",
       "  <thead>\n",
       "    <tr style=\"text-align: right;\">\n",
       "      <th></th>\n",
       "      <th>domain</th>\n",
       "      <th>auroc</th>\n",
       "      <th>best_acc</th>\n",
       "      <th>best_threshold</th>\n",
       "    </tr>\n",
       "  </thead>\n",
       "  <tbody>\n",
       "    <tr>\n",
       "      <th>0</th>\n",
       "      <td>Blog Authorship</td>\n",
       "      <td>0.442306</td>\n",
       "      <td>0.530035</td>\n",
       "      <td>1.9120</td>\n",
       "    </tr>\n",
       "    <tr>\n",
       "      <th>1</th>\n",
       "      <td>Student Essays</td>\n",
       "      <td>0.850044</td>\n",
       "      <td>0.790000</td>\n",
       "      <td>1.9748</td>\n",
       "    </tr>\n",
       "    <tr>\n",
       "      <th>2</th>\n",
       "      <td>CNN News</td>\n",
       "      <td>0.931244</td>\n",
       "      <td>0.880000</td>\n",
       "      <td>1.9800</td>\n",
       "    </tr>\n",
       "    <tr>\n",
       "      <th>3</th>\n",
       "      <td>Euro Court Cases</td>\n",
       "      <td>0.916222</td>\n",
       "      <td>0.856667</td>\n",
       "      <td>2.0730</td>\n",
       "    </tr>\n",
       "    <tr>\n",
       "      <th>4</th>\n",
       "      <td>House of Commons</td>\n",
       "      <td>0.853063</td>\n",
       "      <td>0.852349</td>\n",
       "      <td>1.9922</td>\n",
       "    </tr>\n",
       "    <tr>\n",
       "      <th>5</th>\n",
       "      <td>ArXiv Papers</td>\n",
       "      <td>0.953639</td>\n",
       "      <td>0.924915</td>\n",
       "      <td>1.9143</td>\n",
       "    </tr>\n",
       "    <tr>\n",
       "      <th>6</th>\n",
       "      <td>Gutenberg</td>\n",
       "      <td>0.886903</td>\n",
       "      <td>0.848797</td>\n",
       "      <td>1.9148</td>\n",
       "    </tr>\n",
       "    <tr>\n",
       "      <th>7</th>\n",
       "      <td>Bundestag [DE]</td>\n",
       "      <td>0.818272</td>\n",
       "      <td>0.780069</td>\n",
       "      <td>1.7965</td>\n",
       "    </tr>\n",
       "    <tr>\n",
       "      <th>8</th>\n",
       "      <td>Spiegel [DE]</td>\n",
       "      <td>0.858389</td>\n",
       "      <td>0.789298</td>\n",
       "      <td>1.7454</td>\n",
       "    </tr>\n",
       "  </tbody>\n",
       "</table>\n",
       "</div>"
      ],
      "text/plain": [
       "             domain     auroc  best_acc  best_threshold\n",
       "0   Blog Authorship  0.442306  0.530035          1.9120\n",
       "1    Student Essays  0.850044  0.790000          1.9748\n",
       "2          CNN News  0.931244  0.880000          1.9800\n",
       "3  Euro Court Cases  0.916222  0.856667          2.0730\n",
       "4  House of Commons  0.853063  0.852349          1.9922\n",
       "5      ArXiv Papers  0.953639  0.924915          1.9143\n",
       "6         Gutenberg  0.886903  0.848797          1.9148\n",
       "7    Bundestag [DE]  0.818272  0.780069          1.7965\n",
       "8      Spiegel [DE]  0.858389  0.789298          1.7454"
      ]
     },
     "execution_count": 91,
     "metadata": {},
     "output_type": "execute_result"
    }
   ],
   "source": [
    "from sklearn.metrics import auc, roc_curve\n",
    "\n",
    "from luminar.baselines import llr_from_transition_scores\n",
    "from simple_dataset import Dataset as SimpleDataset\n",
    "from transition_scores.data import TransitionScores\n",
    "\n",
    "results_llr = []\n",
    "for domain, split in test_splits.items():\n",
    "    dataset_test = (\n",
    "        SimpleDataset(split)\n",
    "        .flat_map(lambda doc: doc[\"features\"])\n",
    "        .map(\n",
    "            lambda x: {\n",
    "                \"llr\": llr_from_transition_scores(\n",
    "                    TransitionScores(**x[\"transition_scores\"])\n",
    "                ),\n",
    "                \"labels\": int(x[\"type\"] != \"source\"),\n",
    "            },\n",
    "            in_place=False,\n",
    "        )\n",
    "    )\n",
    "    fpr, tpr, _ = roc_curve(dataset_test[\"labels\"], dataset_test[\"llr\"])\n",
    "    auroc = auc(fpr, tpr)\n",
    "\n",
    "    preds = np.array(dataset_test[\"llr\"])\n",
    "    labels = np.array(dataset_test[\"labels\"])\n",
    "\n",
    "    mean_0 = float(np.mean(preds[labels == 0]))\n",
    "    mean_1 = float(np.mean(preds[labels == 1]))\n",
    "\n",
    "    thresholds = np.linspace(round(mean_0, 1) - 0.2, round(mean_1, 1) + 0.3, 1001)\n",
    "    preds_thresholded: np.ndarray = preds > thresholds.reshape(-1, 1)\n",
    "    acc_thresholded = np.mean((preds_thresholded == labels), axis=1)\n",
    "    idx = np.argmax(acc_thresholded)\n",
    "    best_threshold = thresholds[idx]\n",
    "    best_acc = acc_thresholded[idx]\n",
    "\n",
    "    results_llr.append({\n",
    "        \"domain\": domain,\n",
    "        \"auroc\": auroc,\n",
    "        \"best_acc\": best_acc,\n",
    "        \"best_threshold\": best_threshold,\n",
    "    })\n",
    "\n",
    "pd.DataFrame(results_llr)"
   ]
  },
  {
   "cell_type": "code",
   "execution_count": 89,
   "metadata": {},
   "outputs": [
    {
     "ename": "RuntimeError",
     "evalue": "STOP",
     "output_type": "error",
     "traceback": [
      "\u001b[0;31m---------------------------------------------------------------------------\u001b[0m",
      "\u001b[0;31mRuntimeError\u001b[0m                              Traceback (most recent call last)",
      "Cell \u001b[0;32mIn[89], line 1\u001b[0m\n\u001b[0;32m----> 1\u001b[0m \u001b[38;5;28;01mraise\u001b[39;00m \u001b[38;5;167;01mRuntimeError\u001b[39;00m(\u001b[38;5;124m\"\u001b[39m\u001b[38;5;124mSTOP\u001b[39m\u001b[38;5;124m\"\u001b[39m)\n",
      "\u001b[0;31mRuntimeError\u001b[0m: STOP"
     ]
    }
   ],
   "source": [
    "raise RuntimeError(\"STOP\")"
   ]
  },
  {
   "cell_type": "code",
   "execution_count": null,
   "metadata": {},
   "outputs": [],
   "source": [
    "sample = train_datasets[\"CNN News\"][0][\"features\"].numpy().squeeze()\n",
    "train_datasets[\"CNN News\"][0][\"labels\"]"
   ]
  },
  {
   "cell_type": "code",
   "execution_count": null,
   "metadata": {},
   "outputs": [],
   "source": [
    "fig = plt.imshow(sample.T, cmap=sns.cubehelix_palette(rot=-0.2, as_cmap=True))\n",
    "fig.axes.set_axis_off()\n",
    "plt.show()"
   ]
  },
  {
   "cell_type": "code",
   "execution_count": null,
   "metadata": {},
   "outputs": [],
   "source": [
    "sample = train_datasets[\"CNN News\"][1][\"features\"].numpy().squeeze()\n",
    "train_datasets[\"CNN News\"][1][\"labels\"]"
   ]
  },
  {
   "cell_type": "code",
   "execution_count": null,
   "metadata": {},
   "outputs": [],
   "source": [
    "fig = plt.imshow(sample.T, cmap=sns.cubehelix_palette(rot=-0.2, as_cmap=True))\n",
    "fig.axes.set_axis_off()\n",
    "plt.show()"
   ]
  },
  {
   "cell_type": "code",
   "execution_count": null,
   "metadata": {},
   "outputs": [],
   "source": [
    "raise RuntimeError(\"STOP\")"
   ]
  },
  {
   "cell_type": "code",
   "execution_count": null,
   "metadata": {},
   "outputs": [],
   "source": []
  },
  {
   "cell_type": "code",
   "execution_count": null,
   "metadata": {},
   "outputs": [],
   "source": [
    "from sklearn.metrics import auc, roc_curve\n",
    "\n",
    "from luminar.baselines import llr_from_transition_scores\n",
    "\n",
    "dataset_test = dm._dataset_test.map(\n",
    "    lambda x: {\n",
    "        \"llr\": llr_from_transition_scores(x[\"features\"]),\n",
    "        \"labels\": x[\"labels\"],\n",
    "    },\n",
    "    in_place=False,\n",
    ")\n",
    "fpr, tpr, _ = roc_curve(dataset_test[\"labels\"], dataset_test[\"llr\"])\n",
    "auc(fpr, tpr)"
   ]
  }
 ],
 "metadata": {
  "kernelspec": {
   "display_name": ".venv",
   "language": "python",
   "name": "python3"
  },
  "language_info": {
   "codemirror_mode": {
    "name": "ipython",
    "version": 3
   },
   "file_extension": ".py",
   "mimetype": "text/x-python",
   "name": "python",
   "nbconvert_exporter": "python",
   "pygments_lexer": "ipython3",
   "version": "3.12.7"
  }
 },
 "nbformat": 4,
 "nbformat_minor": 2
}
