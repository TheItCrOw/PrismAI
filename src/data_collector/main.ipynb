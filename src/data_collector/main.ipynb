{
 "cells": [
  {
   "cell_type": "markdown",
   "metadata": {},
   "source": [
    "# About\n",
    "\n",
    "**This is not an experimental notebook.** In here, we implement the (at best) final version(s) of the collector.\n",
    "\n",
    "-------------------\n",
    "\n",
    "A list of possible domains to fetch content from:\n",
    "\n",
    "- Politics\n",
    "    - [German Bundestag](https://www.bundestag.de/) (X)\n",
    "    - [House of Commons](https://reshare.ukdataservice.ac.uk/854292/) (X)\n",
    "- Student/School\n",
    "    - [Kaggle Student Essays](https://www.kaggle.com/competitions/learning-agency-lab-automated-essay-scoring-2/data?select=train.csv) (X)\n",
    "    - Take the english dataset and translate it?\n",
    "- Research\n",
    "    - [Arxiv](https://arxiv.org/search/advanced?advanced=&terms-0-operator=AND&terms-0-term=language+model&terms-0-field=all&classification-physics_archives=all&classification-include_cross_list=include&date-year=&date-filter_by=date_range&date-from_date=2005&date-to_date=2020&date-date_type=submitted_date&abstracts=show&size=50&order=-announced_date_first) (X)\n",
    "    - [I've seen a paper recently that creates full AI written papers. Maybe I can use it.](https://www.kaggle.com/discussions/general/527817#2958636)\n",
    "- News\n",
    "    - [Spiegel Online](https://www.spiegel.de/) (X)\n",
    "    - [CNN Articles](https://www.kaggle.com/datasets/gowrishankarp/newspaper-text-summarization-cnn-dailymail) (X)\n",
    "- Blogs/Tutorials/Forums\n",
    "- Law\n",
    "    - [German Open Legal Data](https://de.openlegaldata.io/) (X)\n",
    "    - [European Court of Human Rights Cases](https://www.kaggle.com/datasets/mathurinache/ecthrnaacl2021/data) (X)\n",
    "- Philosophy\n",
    "    - Gutenberg Project ([ENG](https://www.gutenberg.org/) | [GER](https://www.projekt-gutenberg.org/))\n",
    "- Literature\n",
    "    - Gutenberg Project ([ENG](https://www.gutenberg.org/) | [GER](https://www.projekt-gutenberg.org/))\n",
    "- Food and Lifestyle\n",
    "    - [Food Blogs](https://detailed.com/food-blogs/)\n",
    "- Religion\n",
    "    - [Bible](https://github.com/mxw/grmr/blob/master/src/finaltests/bible.txt)\n",
    "- Gaming\n",
    "\n",
    "Interesting Languages:\n",
    "\n",
    "- English\n",
    "- German"
   ]
  },
  {
   "cell_type": "code",
   "execution_count": 116,
   "metadata": {},
   "outputs": [],
   "source": [
    "class CONFIG:\n",
    "    SRC_ROOT_PATH = '/home/staff_homes/kboenisc/home/prismAI/PrismAI/src'\n",
    "    SRC_ROOT_PATH_COLL = '/home/staff_homes/kboenisc/home/prismAI/PrismAI/src/data_collector'\n",
    "    DATA_ROOT_PATH = '/home/staff_homes/kboenisc/home/prismAI/data'"
   ]
  },
  {
   "cell_type": "code",
   "execution_count": 117,
   "metadata": {},
   "outputs": [],
   "source": [
    "import sys\n",
    "import importlib\n",
    "\n",
    "# So that it includes local imports. This is some next level python shit import\n",
    "sys.path.insert(0, CONFIG.SRC_ROOT_PATH)\n",
    "sys.path.insert(0, CONFIG.SRC_ROOT_PATH_COLL)"
   ]
  },
  {
   "cell_type": "code",
   "execution_count": 118,
   "metadata": {},
   "outputs": [
    {
     "data": {
      "text/plain": [
       "<module 'collectors.religion_collector' from '/home/staff_homes/kboenisc/home/prismAI/PrismAI/src/data_collector/collectors/religion_collector.py'>"
      ]
     },
     "execution_count": 118,
     "metadata": {},
     "output_type": "execute_result"
    }
   ],
   "source": [
    "import collector\n",
    "import collected_item\n",
    "import collectors.bundestag_collector\n",
    "import collectors.house_of_commons_collector\n",
    "import collectors.student_essays_collector\n",
    "import collectors.arxiv_collector\n",
    "import collectors.spiegel_collector\n",
    "import collectors.cnn_news_collector\n",
    "import collectors.open_legal_data_collector\n",
    "import collectors.euro_court_cases_collector\n",
    "import collectors.religion_collector\n",
    "\n",
    "importlib.reload(collector)\n",
    "importlib.reload(collected_item)\n",
    "importlib.reload(collectors.bundestag_collector)\n",
    "importlib.reload(collectors.house_of_commons_collector)\n",
    "importlib.reload(collectors.student_essays_collector)\n",
    "importlib.reload(collectors.arxiv_collector)\n",
    "importlib.reload(collectors.spiegel_collector)\n",
    "importlib.reload(collectors.cnn_news_collector)\n",
    "importlib.reload(collectors.open_legal_data_collector)\n",
    "importlib.reload(collectors.euro_court_cases_collector)\n",
    "importlib.reload(collectors.religion_collector)\n"
   ]
  },
  {
   "cell_type": "markdown",
   "metadata": {},
   "source": [
    "## Init the Collectors"
   ]
  },
  {
   "cell_type": "code",
   "execution_count": null,
   "metadata": {},
   "outputs": [],
   "source": [
    "collection = [\n",
    "    #collectors.bundestag_collector.BundestagCollector(CONFIG.DATA_ROOT_PATH),\n",
    "    #collectors.house_of_commons_collector.HouseOfCommonsCollector(CONFIG.DATA_ROOT_PATH),\n",
    "    #collectors.student_essays_collector.StudentEssaysCollector(CONFIG.DATA_ROOT_PATH),\n",
    "    #collectors.arxiv_collector.ArxivCollector(CONFIG.DATA_ROOT_PATH),\n",
    "    #collectors.spiegel_collector.SpiegelCollector(CONFIG.DATA_ROOT_PATH),\n",
    "    #collectors.cnn_news_collector.CNNNewsCollector(CONFIG.DATA_ROOT_PATH),\n",
    "    collectors.open_legal_data_collector.OpenLegalDataCollector(CONFIG.DATA_ROOT_PATH),\n",
    "    # collectors.euro_court_cases_collector.EuroCourtCasesCollector(CONFIG.DATA_ROOT_PATH),\n",
    "    # collectors.religion_collector.ReligionCollector(CONFIG.DATA_ROOT_PATH)\n",
    "]"
   ]
  },
  {
   "cell_type": "code",
   "execution_count": 120,
   "metadata": {},
   "outputs": [
    {
     "name": "stdout",
     "output_type": "stream",
     "text": [
      "\n",
      "\n",
      " ============== Collection started for EURO COURT CASES ============== \n",
      "\n",
      "Min Date:2001-07-12 00:00:00\n",
      "Max Date:2019-07-02 00:00:00\n",
      "Cases collected: 300/10000\n",
      "Cases collected: 600/10000\n",
      "Cases collected: 900/10000\n",
      "Cases collected: 1200/10000\n",
      "Cases collected: 1500/10000\n",
      "Cases collected: 1800/10000\n",
      "Cases collected: 2100/10000\n",
      "Cases collected: 2400/10000\n",
      "Cases collected: 2700/10000\n",
      "Cases collected: 3000/10000\n",
      "Cases collected: 3300/10000\n",
      "Cases collected: 3600/10000\n",
      "Cases collected: 3900/10000\n",
      "Cases collected: 4200/10000\n",
      "Cases collected: 4500/10000\n",
      "Cases collected: 4800/10000\n",
      "Cases collected: 5100/10000\n",
      "Cases collected: 5400/10000\n",
      "Cases collected: 5700/10000\n",
      "Cases collected: 6000/10000\n",
      "Cases collected: 6300/10000\n",
      "Cases collected: 6600/10000\n",
      "Cases collected: 6900/10000\n",
      "Cases collected: 7200/10000\n",
      "Cases collected: 7500/10000\n",
      "Cases collected: 7800/10000\n",
      "Cases collected: 8100/10000\n",
      "Cases collected: 8400/10000\n",
      "Cases collected: 8700/10000\n",
      "Cases collected: 9000/10000\n",
      "Cases collected: 9300/10000\n",
      "Cases collected: 9600/10000\n",
      "Cases collected: 9900/10000\n",
      "Cases collected:10100/10100\n",
      "Collection finished. Total Cases collected: 10100\n",
      "\n",
      "\n",
      " ==================================================== \n",
      "\n",
      "\n",
      "All collectors finished. Total data items: 10100\n"
     ]
    }
   ],
   "source": [
    "total_items = 0\n",
    "\n",
    "for coll in collection:\n",
    "    try:\n",
    "        coll.init()\n",
    "        coll.collect(force=True)\n",
    "        total_items += coll.get_count()\n",
    "    except Exception as ex:\n",
    "        print('ERROR: Current collection failed due to an error: ')\n",
    "        print(ex)\n",
    "        print('\\n ***** Continuing with the other collectors. ***** \\n')\n",
    "\n",
    "print('\\n\\n ==================================================== \\n\\n')\n",
    "print(f'All collectors finished. Total data items: {total_items}')"
   ]
  },
  {
   "cell_type": "code",
   "execution_count": null,
   "metadata": {},
   "outputs": [],
   "source": []
  }
 ],
 "metadata": {
  "kernelspec": {
   "display_name": "Python 3 (ipykernel)",
   "language": "python",
   "name": "python3"
  },
  "language_info": {
   "codemirror_mode": {
    "name": "ipython",
    "version": 3
   },
   "file_extension": ".py",
   "mimetype": "text/x-python",
   "name": "python",
   "nbconvert_exporter": "python",
   "pygments_lexer": "ipython3",
   "version": "3.12.7"
  }
 },
 "nbformat": 4,
 "nbformat_minor": 2
}
