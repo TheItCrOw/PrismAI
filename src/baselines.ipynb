{
 "cells": [
  {
   "cell_type": "code",
   "execution_count": 1,
   "metadata": {},
   "outputs": [
    {
     "name": "stderr",
     "output_type": "stream",
     "text": [
      "Seed set to 42\n"
     ]
    },
    {
     "data": {
      "text/plain": [
       "42"
      ]
     },
     "execution_count": 1,
     "metadata": {},
     "output_type": "execute_result"
    }
   ],
   "source": [
    "import os\n",
    "import pickle\n",
    "\n",
    "from dotenv import load_dotenv\n",
    "from lightning.pytorch import seed_everything\n",
    "from sklearn.metrics import auc, roc_curve\n",
    "\n",
    "# from luminar.baselines import log_likelihood_log_rank_ratio\n",
    "from luminar.mongo import MongoDBAdapter\n",
    "from simple_dataset.dataset import Dataset\n",
    "from transition_scores.data import TransitionScores\n",
    "\n",
    "load_dotenv(\"../env\")\n",
    "seed_everything(42)"
   ]
  },
  {
   "cell_type": "code",
   "execution_count": 2,
   "metadata": {},
   "outputs": [],
   "source": [
    "import torch\n",
    "\n",
    "\n",
    "def log_likelihood_log_rank_ratio(transition_scores: TransitionScores) -> float:\n",
    "    target_probs = torch.tensor(transition_scores.target_probs)\n",
    "    target_ranks = torch.tensor(transition_scores.target_ranks)\n",
    "    mask = target_probs.ne(0.0)\n",
    "    return (\n",
    "        -(target_probs[mask] + 1e-8).log().sum()\n",
    "        / (target_ranks[mask] + 1e-8).log1p().sum()\n",
    "    )\n"
   ]
  },
  {
   "cell_type": "code",
   "execution_count": 3,
   "metadata": {},
   "outputs": [
    {
     "name": "stdout",
     "output_type": "stream",
     "text": [
      "blog_authorship_corpus: 0.48696861155622584\n",
      "bundestag: 0.8565655823166545\n",
      "cnn_news: 0.9434142222222223\n",
      "euro_court_cases: 0.9052147067706178\n",
      "student_essays: 0.84698\n"
     ]
    }
   ],
   "source": [
    "for domain in (\n",
    "    # \"arxiv_papers\",\n",
    "    \"blog_authorship_corpus\",\n",
    "    \"bundestag\",\n",
    "    \"cnn_news\",\n",
    "    \"euro_court_cases\",\n",
    "    # \"gutenberg\",\n",
    "    # \"house_of_commons\",\n",
    "    # \"spiegel_articles\",\n",
    "    \"student_essays\",\n",
    "):\n",
    "    db = MongoDBAdapter(\n",
    "        os.environ.get(\"MONGO_DB_CONNECTION\"),\n",
    "        \"prismai\",\n",
    "        \"collected_items\",\n",
    "        \"synthesized_texts\",\n",
    "        \"transition_scores\",\n",
    "        domain=domain,\n",
    "        source_collection_limit=1500,\n",
    "    )\n",
    "    with db.get_cache_file(\"pkl\").open(\"rb\") as f:\n",
    "        dataset = Dataset(pickle.load(f))\n",
    "\n",
    "    dataset = (\n",
    "        dataset.filter(\n",
    "            lambda doc: len(doc[\"features\"]) == 2\n",
    "            and len({ts[\"document\"][\"type\"] for ts in doc[\"features\"]}) == 2\n",
    "        )\n",
    "        .flat_map(lambda doc: doc[\"features\"])\n",
    "        .apply(TransitionScores.merge, \"transition_scores\")\n",
    "        .map(\n",
    "            lambda doc: {\n",
    "                \"llr\": log_likelihood_log_rank_ratio(doc[\"transition_scores\"]),\n",
    "                \"labels\": int(doc[\"document\"][\"type\"] != \"source\"),\n",
    "            }\n",
    "        )\n",
    "    )\n",
    "    llr, labels = zip(*[(doc[\"llr\"], doc[\"labels\"]) for doc in dataset])\n",
    "\n",
    "    fpr, tpr, _ = roc_curve(labels, llr)\n",
    "    roc_auc = auc(fpr, tpr)\n",
    "    print(f\"{domain}: {roc_auc}\")"
   ]
  },
  {
   "cell_type": "code",
   "execution_count": null,
   "metadata": {},
   "outputs": [],
   "source": []
  }
 ],
 "metadata": {
  "kernelspec": {
   "display_name": ".venv",
   "language": "python",
   "name": "python3"
  },
  "language_info": {
   "codemirror_mode": {
    "name": "ipython",
    "version": 3
   },
   "file_extension": ".py",
   "mimetype": "text/x-python",
   "name": "python",
   "nbconvert_exporter": "python",
   "pygments_lexer": "ipython3",
   "version": "3.12.7"
  }
 },
 "nbformat": 4,
 "nbformat_minor": 2
}
