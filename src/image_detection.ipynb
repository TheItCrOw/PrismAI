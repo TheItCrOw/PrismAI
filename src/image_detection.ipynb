{
 "cells": [
  {
   "cell_type": "code",
   "execution_count": 12,
   "metadata": {},
   "outputs": [],
   "source": [
    "\n",
    "from detector import Detector\n",
    "import glob\n",
    "import matplotlib.pyplot as plt\n",
    "import pandas as pd\n",
    "import os\n",
    "import json\n",
    "from PIL import Image\n",
    "from IPython.display import display\n",
    "import random\n",
    "\n",
    "test_text = '''\n",
    "Do you have a problem that you are struggling to solve? Why don't you ask your friends for advice? When people ask for advice on solving a problem, often times they speak to more than one person. This is because different views are better for figuring out a tough problem, many opinions are better than one, and other people may have experienced a problem like yours and may be able to help you in making better decisions.\n",
    "'''"
   ]
  },
  {
   "cell_type": "markdown",
   "metadata": {},
   "source": [
    "# AI Text Image Recognition\n",
    "\n",
    "Is there some similarity to Malware detection, where it's common to translate malware code to bytes and then images, which are then fed into NN/DL networks? Let's test a bit."
   ]
  },
  {
   "cell_type": "code",
   "execution_count": 6,
   "metadata": {},
   "outputs": [
    {
     "name": "stdout",
     "output_type": "stream",
     "text": [
      "{'full_text': \" In recent years, technology has had a profound impact on our daily lives and the world around us. From staying connected with loved ones to ordering food online through an app, technology has made our lives easier and more convenient. However, with great power comes great responsibility, and technology can also have negative consequences if used improperly.\\n\\nOne example of this is the spread of misinformation through the internet. It's easy to find articles and sources that may not be accurate or reliable, which can lead to confusion and even harm. Additionally, technology can also pose a threat to our privacy and security if we are not careful about the websites and apps we use.\\n\\nDespite these potential drawbacks, I believe that technology can be a powerful tool for achieving great things. For example, technology has revolutionized the way we learn and access information. With the internet, we can easily find resources and information on any topic, making it easier to stay informed and up-to-date on current events.\\n\\nFurthermore, technology has opened up new opportunities for collaboration and communication, allowing people from all over the world to work together and share ideas. This has led to many great achievements and innovations, and I believe that technology will continue to play a vital role in shaping our future.\\n\\nIn conclusion, while technology has its drawbacks, I believe that its potential benefits far outweigh the risks. With responsible use and proper precautions, technology can be a powerful tool for achieving great things and improving our lives.\", 'ensemble': ['gpt2'], 'sample_rate': 6, 'sample_sequence_length': 24, 'min_token_length': 32, 'date': '2024-02-13 18:48:14.333806', 'seed': 42, 'signature': '84d816cc5c381a9b8ddeaed0b1086ea59c5302150e8bff23677903f374aad994'}\n",
      "{'full_text': \"People can learn without making mistakes. People should seek guidance from experts and authorities about life's important. People should not make their own decision. First, they would learn in a better way, also people need someone to advise them. As well, the world would not be destroy as it is now.\\n\\nPeople would learn in better way. To begin, if people seek the guidance from experts they would not make a lot of mistake, and their life would be better. For example, a person who seek the guidance from experts it would have more opportunities. Likewise, a student who doesn't understand math class can talk with his teacher or other expert in math and the teacher can explain it. On the other hand, if the student doesn't talk to anyone he provably would fail math. In addition, a person who get a new job need someone to explain it what to do. While, if nobody explain it the new employee would make many mistakes. As you can see, the people who take the advise of a experts would learn better.\\n\\nPeople need someone to advise them. For example, everybody have problems, but not everybody have someone to advise them. First, a new student came to my school and he didn't know the rules of the school, so he did something that it wasn't good and he get in big trouble, but if someone would explain him he would't get any trouble. Therefore, many teenager do whatever they want because they doesn't have anyone to guide them, and the result of that is those teenager get it many troubles each day. While, the teenager who are guide for any expert they do well in everything they do. As you can see, everyone need someone to guide for the right way, and nobody would do a lot of mistakes.\\n\\nThe world would not be destroy as it is today. For example, if everyone would have the opportunity to have someone to advice them the world would'n be danger to anyone. Furthermore, in many countries the people are in danger because their governors doesn't know how to guide a country, but if an expert took the control of the government the people would not be in danger anymore. Likewise, teenager sometimes live by them-self, so they don't have anyone to tell them what is good and what is bad; teenager many times do bad things and they don't even know. As I repeat, if the whole world would have someone to guide everyone the world would not be destroy as it's today, everything would be in peace.\\n\\nIn conclusion, if everyone would have the opportunity to have an expert guide during life the entire world would be better. Likewise, people would make better choices in their life. Also, with a expert guide the people nobody would be in danger again. Furthermore, teenagers and kids would have a better future around the world; as well, the world would be in peace, and people would learn in a better way. Also, if someone doesn't know something he/she can talk with an expert and the expert would guide her/him. Finally, life would be better and easier if everyone talk to an expert what is going on, so nobody would do a big mistake.\", 'ensemble': ['gpt2'], 'sample_rate': 6, 'sample_sequence_length': 24, 'min_token_length': 32, 'date': '2024-02-13 18:45:56.534418', 'seed': 42, 'signature': 'b87d358170bd58461cb271a739917b71d75425500a5801c6481919ede4e9638a'}\n"
     ]
    }
   ],
   "source": [
    "ai = json.load(open(\"E:\\\\Python_Projects\\\\PrismAI\\\\PrismAI\\\\src\\\\outputs\\\\generator_1_gpt2_100_outputs.json\", encoding='utf8'))\n",
    "human = json.load(open(\"E:\\\\Python_Projects\\\\PrismAI\\\\PrismAI\\\\src\\\\outputs\\\\generator_0_gpt2_100_outputs.json\", encoding='utf8'))\n",
    "print(ai[0]['metadata'])\n",
    "print(human[0]['metadata'])"
   ]
  },
  {
   "cell_type": "markdown",
   "metadata": {},
   "source": [
    "## Do Function"
   ]
  },
  {
   "cell_type": "code",
   "execution_count": 125,
   "metadata": {},
   "outputs": [],
   "source": [
    "def do(detector_outputs):\n",
    "    for output in detector_outputs:\n",
    "        meta = output['metadata']\n",
    "        height = meta['sample_rate']\n",
    "        width = meta['sample_sequence_length']\n",
    "        results = output['ensemble_results'][0]['sample_results']\n",
    "        \n",
    "        image = Image.new('RGBA', (100, 20), color=(0,0,0,255))\n",
    "        pixels = image.load()\n",
    "\n",
    "        x = 1\n",
    "        offset_x = x\n",
    "        y = 1\n",
    "\n",
    "        for result in results:\n",
    "            steps = result['model_outputs']['steps']\n",
    "            steps.sort(key= lambda x: x['step'])\n",
    "\n",
    "            for step in steps:                \n",
    "                r = 255\n",
    "                g = 255\n",
    "                b = 255\n",
    "                \n",
    "                all_probs = step['top_k_probs']\n",
    "                all_probs.sort(reverse=True)\n",
    "                other_probs = all_probs[1:]\n",
    "                \n",
    "                # mid\n",
    "                pixels[x, y] = (r, g, b, int(step['target_prob'] * 255))\n",
    "                # right\n",
    "                pixels[x+1, y] = (r, g, b, int(other_probs[0] * 255))\n",
    "                # left\n",
    "                pixels[x-1, y] = (r, g, b, int(other_probs[1] * 255))\n",
    "                # down\n",
    "                pixels[x, y-1] = (r, g, b, int(other_probs[2] * 255))\n",
    "                # up\n",
    "                pixels[x, y+1] = (r, g, b, int(other_probs[3] * 255))\n",
    "                \n",
    "                x += 3\n",
    "            \n",
    "            offset_x = int((offset_x % 2 == 1))\n",
    "            x = offset_x\n",
    "            y += 3\n",
    "        display(image)\n",
    "\n",
    "                 \n",
    "            \n",
    "def draw_image(width, height):\n",
    "    image = Image.new('RGBA', (width, height))\n",
    "    pixels = image.load()\n",
    "    # iterate over all pixels\n",
    "    for y in range(height):\n",
    "        for x in range(width):\n",
    "            r = random.randint(0, 255)\n",
    "            g = random.randint(0, 255)\n",
    "            b = random.randint(0, 255)\n",
    "            a = random.randint(0, 1)\n",
    "            pixels[x, y] = (r, g, b, int(a * 255))  # Set the pixel RGBA values\n",
    "    return image\n",
    "    "
   ]
  },
  {
   "cell_type": "code",
   "execution_count": 127,
   "metadata": {},
   "outputs": [
    {
     "data": {
      "image/png": "[encoded data removed]",
      "text/plain": [
       "<PIL.Image.Image image mode=RGBA size=100x20>"
      ]
     },
     "metadata": {},
     "output_type": "display_data"
    },
    {
     "data": {
      "image/png": "[encoded data removed]",
      "text/plain": [
       "<PIL.Image.Image image mode=RGBA size=100x20>"
      ]
     },
     "metadata": {},
     "output_type": "display_data"
    },
    {
     "data": {
      "image/png": "[encoded data removed]",
      "text/plain": [
       "<PIL.Image.Image image mode=RGBA size=100x20>"
      ]
     },
     "metadata": {},
     "output_type": "display_data"
    },
    {
     "data": {
      "image/png": "[encoded data removed]",
      "text/plain": [
       "<PIL.Image.Image image mode=RGBA size=100x20>"
      ]
     },
     "metadata": {},
     "output_type": "display_data"
    },
    {
     "data": {
      "image/png": "[encoded data removed]",
      "text/plain": [
       "<PIL.Image.Image image mode=RGBA size=100x20>"
      ]
     },
     "metadata": {},
     "output_type": "display_data"
    },
    {
     "data": {
      "image/png": "[encoded data removed]",
      "text/plain": [
       "<PIL.Image.Image image mode=RGBA size=100x20>"
      ]
     },
     "metadata": {},
     "output_type": "display_data"
    },
    {
     "data": {
      "image/png": "[encoded data removed]",
      "text/plain": [
       "<PIL.Image.Image image mode=RGBA size=100x20>"
      ]
     },
     "metadata": {},
     "output_type": "display_data"
    },
    {
     "data": {
      "image/png": "[encoded data removed]",
      "text/plain": [
       "<PIL.Image.Image image mode=RGBA size=100x20>"
      ]
     },
     "metadata": {},
     "output_type": "display_data"
    },
    {
     "data": {
      "image/png": "[encoded data removed]",
      "text/plain": [
       "<PIL.Image.Image image mode=RGBA size=100x20>"
      ]
     },
     "metadata": {},
     "output_type": "display_data"
    },
    {
     "data": {
      "image/png": "[encoded data removed]",
      "text/plain": [
       "<PIL.Image.Image image mode=RGBA size=100x20>"
      ]
     },
     "metadata": {},
     "output_type": "display_data"
    }
   ],
   "source": [
    "do(human[:5])\n",
    "do(ai[:5])\n"
   ]
  },
  {
   "cell_type": "code",
   "execution_count": null,
   "metadata": {},
   "outputs": [],
   "source": []
  },
  {
   "cell_type": "markdown",
   "metadata": {},
   "source": []
  }
 ],
 "metadata": {
  "kernelspec": {
   "display_name": "Python 3 (ipykernel)",
   "language": "python",
   "name": "python3"
  },
  "language_info": {
   "codemirror_mode": {
    "name": "ipython",
    "version": 3
   },
   "file_extension": ".py",
   "mimetype": "text/x-python",
   "name": "python",
   "nbconvert_exporter": "python",
   "pygments_lexer": "ipython3",
   "version": "3.10.11"
  }
 },
 "nbformat": 4,
 "nbformat_minor": 2
}
