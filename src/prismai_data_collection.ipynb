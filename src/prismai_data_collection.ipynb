{
 "cells": [
  {
   "cell_type": "markdown",
   "metadata": {},
   "source": [
    "# About\n",
    "\n",
    "Here we collect our dataset for detecting AI-generated content. \n",
    "\n",
    "-------------------\n",
    "\n",
    "A list of possible domains to fetch content from:\n",
    "\n",
    "**Current Total:** (71.967 📝)\n",
    "\n",
    "- Politics\n",
    "    - [German Bundestag](https://www.bundestag.de/) ✔ (10394 📝)\n",
    "    - [House of Commons](https://reshare.ukdataservice.ac.uk/854292/) ✔ (5944 📝)\n",
    "- Student/School\n",
    "    - [Kaggle Student Essays](https://www.kaggle.com/competitions/learning-agency-lab-automated-essay-scoring-2/data?select=train.csv) ✔ (9107 📝)\n",
    "    - Take the english dataset and translate it?\n",
    "- Research\n",
    "    - [Arxiv](https://arxiv.org/search/advanced?advanced=&terms-0-operator=AND&terms-0-term=language+model&terms-0-field=all&classification-physics_archives=all&classification-include_cross_list=include&date-year=&date-filter_by=date_range&date-from_date=2005&date-to_date=2020&date-date_type=submitted_date&abstracts=show&size=50&order=-announced_date_first) ✔ (5395 📝)\n",
    "    - [I've seen a paper recently that creates full AI written papers. Maybe I can use it.](https://www.kaggle.com/discussions/general/527817#2958636)\n",
    "- News\n",
    "    - [Spiegel Online](https://www.spiegel.de/) ✔ (14543 📝)\n",
    "    - [CNN Articles](https://www.kaggle.com/datasets/gowrishankarp/newspaper-text-summarization-cnn-dailymail) ✔ (10601 📝)\n",
    "- Blogs/Tutorials/Forums\n",
    "- Law\n",
    "    - [German Open Legal Data](https://de.openlegaldata.io/) ✔\n",
    "    - [European Court of Human Rights Cases](https://www.kaggle.com/datasets/mathurinache/ecthrnaacl2021/data) ✔ (7276 📝)\n",
    "- Philosophy\n",
    "    - Gutenberg Project ([ENG](https://www.gutenberg.org/) | [GER](https://www.projekt-gutenberg.org/)) ✔\n",
    "- Literature\n",
    "    - Gutenberg Project ([ENG](https://www.gutenberg.org/) | [GER](https://www.projekt-gutenberg.org/)) ✔ (4103 📝)\n",
    "- Blogs, Food and Lifestyle\n",
    "    - [Food Blogs](https://detailed.com/food-blogs/)\n",
    "    - [WebBlogs](https://www.kaggle.com/datasets/rtatman/blog-authorship-corpus?select=blogtext.csv) (ENG) ✔ (9999 📝)\n",
    "- Religion\n",
    "    - [Bible](https://github.com/mxw/grmr/blob/master/src/finaltests/bible.txt) (ENG|GER) ✔\n",
    "- Gaming\n",
    "\n",
    "Interesting Languages:\n",
    "\n",
    "- English\n",
    "- German"
   ]
  },
  {
   "cell_type": "code",
   "execution_count": null,
   "metadata": {},
   "outputs": [
    {
     "data": {
      "text/plain": [
       "True"
      ]
     },
     "execution_count": 1,
     "metadata": {},
     "output_type": "execute_result"
    }
   ],
   "source": [
    "import sys\n",
    "import importlib\n",
    "import os\n",
    "import pandas as pd\n",
    "import time\n",
    "import argparse\n",
    "\n",
    "from dotenv import load_dotenv\n",
    "from tqdm.notebook import tqdm\n",
    "\n",
    "load_dotenv(\"../.env\")"
   ]
  },
  {
   "cell_type": "code",
   "execution_count": 2,
   "metadata": {},
   "outputs": [],
   "source": [
    "class CONFIG:\n",
    "    SRC_ROOT_PATH = os.getenv('SRC_ROOT_PATH')\n",
    "    SRC_ROOT_PATH_COLL = os.getenv('SRC_ROOT_PATH_COLL')\n",
    "    DATA_ROOT_PATH = os.getenv('DATA_ROOT_PATH')\n",
    "\n",
    "    RUN_AS_SCRIPT = False\n",
    "\n",
    "    COLLECT = False\n",
    "\n",
    "    SYNCHRONIZE_TO_MONGODB = False\n",
    "    CLEAN_SYNTHESIZED_ITEMS = False\n",
    "\n",
    "    SYNTHESIZE = True\n",
    "    FORCE_SYNTH = False\n",
    "    SYNTHESIZE_PER_COLLECTOR = 100000\n",
    "\n",
    "    EXTRACT_FEATURES = False\n",
    "    FORCE_FEATURED = False\n",
    "    EXTRACT_FEATURES_PER_COLLECTOR = 15\n",
    "    BATCH_SIZE = 10\n",
    "\n",
    "    SKIP_PER_COLLECTOR = 0\n",
    "\n",
    "    CAUSAL_LLMS = []"
   ]
  },
  {
   "cell_type": "code",
   "execution_count": null,
   "metadata": {},
   "outputs": [],
   "source": [
    "# # So that it includes local imports. This is some next level python shit import\n",
    "# sys.path.insert(0, CONFIG.SRC_ROOT_PATH)\n",
    "# sys.path.insert(0, CONFIG.SRC_ROOT_PATH_COLL)"
   ]
  },
  {
   "cell_type": "code",
   "execution_count": 3,
   "metadata": {},
   "outputs": [
    {
     "ename": "ModuleNotFoundError",
     "evalue": "No module named 'collected_item'",
     "output_type": "error",
     "traceback": [
      "\u001b[0;31m---------------------------------------------------------------------------\u001b[0m",
      "\u001b[0;31mModuleNotFoundError\u001b[0m                       Traceback (most recent call last)",
      "Cell \u001b[0;32mIn[3], line 21\u001b[0m\n\u001b[1;32m     18\u001b[0m \u001b[38;5;28;01mimport\u001b[39;00m\u001b[38;5;250m \u001b[39m\u001b[38;5;21;01mdata_collector\u001b[39;00m\u001b[38;5;21;01m.\u001b[39;00m\u001b[38;5;21;01magents\u001b[39;00m\u001b[38;5;21;01m.\u001b[39;00m\u001b[38;5;21;01mopenai_agent\u001b[39;00m\n\u001b[1;32m     19\u001b[0m \u001b[38;5;28;01mimport\u001b[39;00m\u001b[38;5;250m \u001b[39m\u001b[38;5;21;01mdata_collector\u001b[39;00m\u001b[38;5;21;01m.\u001b[39;00m\u001b[38;5;21;01magents\u001b[39;00m\u001b[38;5;21;01m.\u001b[39;00m\u001b[38;5;21;01mollama_agent\u001b[39;00m\n\u001b[0;32m---> 21\u001b[0m \u001b[38;5;28;01mimport\u001b[39;00m\u001b[38;5;250m \u001b[39m\u001b[38;5;21;01mdata_collector\u001b[39;00m\u001b[38;5;21;01m.\u001b[39;00m\u001b[38;5;21;01mmongodb_client\u001b[39;00m\n\u001b[1;32m     23\u001b[0m \u001b[38;5;28;01mdef\u001b[39;00m\u001b[38;5;250m \u001b[39m\u001b[38;5;21mreload\u001b[39m():\n\u001b[1;32m     24\u001b[0m     importlib\u001b[38;5;241m.\u001b[39mreload(data_collector)\n",
      "File \u001b[0;32m/nvme/projects/PrismAI/PrismAI/src/data_collector/mongodb_client.py:3\u001b[0m\n\u001b[1;32m      1\u001b[0m \u001b[38;5;28;01mimport\u001b[39;00m\u001b[38;5;250m \u001b[39m\u001b[38;5;21;01mos\u001b[39;00m\n\u001b[0;32m----> 3\u001b[0m \u001b[38;5;28;01mfrom\u001b[39;00m\u001b[38;5;250m \u001b[39m\u001b[38;5;21;01mcollected_item\u001b[39;00m\u001b[38;5;250m \u001b[39m\u001b[38;5;28;01mimport\u001b[39;00m CollectedItem\n\u001b[1;32m      4\u001b[0m \u001b[38;5;28;01mfrom\u001b[39;00m\u001b[38;5;250m \u001b[39m\u001b[38;5;21;01mpymongo\u001b[39;00m\u001b[38;5;250m \u001b[39m\u001b[38;5;28;01mimport\u001b[39;00m MongoClient, errors\n\u001b[1;32m      5\u001b[0m \u001b[38;5;28;01mfrom\u001b[39;00m\u001b[38;5;250m \u001b[39m\u001b[38;5;21;01mdotenv\u001b[39;00m\u001b[38;5;250m \u001b[39m\u001b[38;5;28;01mimport\u001b[39;00m load_dotenv\n",
      "\u001b[0;31mModuleNotFoundError\u001b[0m: No module named 'collected_item'"
     ]
    }
   ],
   "source": [
    "import data_collector\n",
    "import data_collector.collector\n",
    "import data_collector.collected_item\n",
    "import data_collector.collectors.bundestag_collector\n",
    "import data_collector.collectors.house_of_commons_collector\n",
    "import data_collector.collectors.student_essays_collector\n",
    "import data_collector.collectors.arxiv_collector\n",
    "import data_collector.collectors.spiegel_collector\n",
    "import data_collector.collectors.cnn_news_collector\n",
    "import data_collector.collectors.open_legal_data_collector\n",
    "import data_collector.collectors.euro_court_cases_collector\n",
    "import data_collector.collectors.religion_collector\n",
    "import data_collector.collectors.gutenberg_collector\n",
    "import data_collector.collectors.blog_corpus_collector\n",
    "\n",
    "import data_collector.agents.ai_agent\n",
    "import data_collector.agents.ollama_agent\n",
    "import data_collector.agents.openai_agent\n",
    "import data_collector.agents.ollama_agent\n",
    "\n",
    "import data_collector.mongodb_client\n",
    "\n",
    "def reload():\n",
    "    importlib.reload(data_collector)\n",
    "    importlib.reload(data_collector.collector)\n",
    "    importlib.reload(data_collector.collected_item)\n",
    "    importlib.reload(data_collector.collectors.bundestag_collector)\n",
    "    importlib.reload(data_collector.collectors.house_of_commons_collector)\n",
    "    importlib.reload(data_collector.collectors.student_essays_collector)\n",
    "    importlib.reload(data_collector.collectors.arxiv_collector)\n",
    "    importlib.reload(data_collector.collectors.spiegel_collector)\n",
    "    importlib.reload(data_collector.collectors.cnn_news_collector)\n",
    "    importlib.reload(data_collector.collectors.open_legal_data_collector)\n",
    "    importlib.reload(data_collector.collectors.euro_court_cases_collector)\n",
    "    importlib.reload(data_collector.collectors.religion_collector)\n",
    "    importlib.reload(data_collector.collectors.gutenberg_collector)\n",
    "    importlib.reload(data_collector.collectors.blog_corpus_collector)\n",
    "\n",
    "    importlib.reload(data_collector.agents.ai_agent)\n",
    "    importlib.reload(data_collector.agents.openai_agent)\n",
    "    importlib.reload(data_collector.agents.ollama_agent)\n",
    "\n",
    "    importlib.reload(data_collector.mongodb_client)\n",
    "\n",
    "reload()"
   ]
  },
  {
   "cell_type": "markdown",
   "metadata": {},
   "source": [
    "We basically always need access to our db."
   ]
  },
  {
   "cell_type": "code",
   "execution_count": 5,
   "metadata": {},
   "outputs": [
    {
     "name": "stdout",
     "output_type": "stream",
     "text": [
      "Connecting to the MongoDB...\n",
      "Connected to MongoDB successfully.\n"
     ]
    }
   ],
   "source": [
    "mongo_conn = data_collector.mongodb_client.MongoDBConnection(os.getenv('MONGO_DB_CONNECTION'))"
   ]
  },
  {
   "cell_type": "markdown",
   "metadata": {},
   "source": [
    "Check if we have cli arguments passed in. This is only done when this notebook is turned to a script."
   ]
  },
  {
   "cell_type": "code",
   "execution_count": null,
   "metadata": {},
   "outputs": [],
   "source": [
    "parser = argparse.ArgumentParser(description=\"Worker Script for the orchestrator.\")\n",
    "\n",
    "parser.add_argument(\"--collectors\", nargs=\"+\", help=\"Pass in the collectors of this instance. Only works if --script-mode=True\")\n",
    "parser.add_argument(\"--collect\", action=\"store_true\", help=\"Determine if we collect a dataset.\")\n",
    "parser.add_argument(\"--synth\", action=\"store_true\", help=\"Determine if we synthesize a dataset.\")\n",
    "parser.add_argument(\"--synch\", action=\"store_true\", help=\"Determine if we syncrhonize the dataset to the mongo db.\")\n",
    "parser.add_argument(\"--clean\", action=\"store_true\", help=\"Determine if we clean the collected synthesized items.\")\n",
    "\n",
    "parser.add_argument(\"--take\", type=int, default=100, help=\"Determine how many items we synthesize per collector.\")\n",
    "parser.add_argument(\"--skip\", type=int, default=0, help=\"Determine how many items we skip per collector.\")\n",
    "parser.add_argument(\"--batch_size\", type=int, default=0, help=\"Determine how many items we skip per collector.\")\n",
    "\n",
    "parser.add_argument(\"--featured\", action=\"store_true\", help=\"Determine if we feature_exract a dataset.\")\n",
    "parser.add_argument(\"--causal_llms\", help=\"Pass in the CausalLLMs to generate the features.\")\n",
    "\n",
    "parser.add_argument(\"--force\", action=\"store_true\", help=\"Determine if we force a synthesization.\")\n",
    "\n",
    "try:\n",
    "    args = parser.parse_args()\n",
    "    print('=== Passed Parameters:')\n",
    "    print('= Collectors:')\n",
    "    print(args.collectors)\n",
    "\n",
    "    print(f'= Take: {str(args.take)}')\n",
    "    CONFIG.EXTRACT_FEATURES_PER_COLLECTOR = args.take\n",
    "    CONFIG.SYNTHESIZE_PER_COLLECTOR = args.take\n",
    "    \n",
    "    print(f'= Skip: {str(args.skip)}')\n",
    "    CONFIG.SKIP_PER_COLLECTOR = args.skip\n",
    "\n",
    "    print(f'= Batch Size: {str(args.batch_size)}')\n",
    "    CONFIG.BATCH_SIZE = args.batch_size\n",
    "    \n",
    "    print(f'= Force: {str(args.force)}')\n",
    "    CONFIG.FORCE_SYNTH = args.force\n",
    "    CONFIG.FORCE_FEATURED = args.force\n",
    "\n",
    "    print(f'= Synchronize to DB: {str(args.synch)}')\n",
    "    CONFIG.SYNCHRONIZE_TO_MONGODB = args.synch\n",
    "    print(f'= Clean synthesized items: {str(args.synch)}')\n",
    "    CONFIG.CLEAN_SYNTHESIZED_ITEMS = args.clean\n",
    "\n",
    "    print(f'= Activated Levels:')\n",
    "    print(f'- Collect: {args.collect}')\n",
    "    CONFIG.COLLECT = args.collect\n",
    "    print(f'- Synthesize: {args.synth}')\n",
    "    CONFIG.SYNTHESIZE = args.synth\n",
    "    print(f'- Extract features: {args.featured}')\n",
    "    print(f'- Used CausalLLMs: {args.causal_llms}')\n",
    "    CONFIG.CAUSAL_LLMS = args.causal_llms.split(',')\n",
    "    CONFIG.EXTRACT_FEATURES = args.featured\n",
    "    \n",
    "    CONFIG.RUN_AS_SCRIPT = True\n",
    "except:\n",
    "    print('CLI parsing failed - this is hence run as a notebook.')\n"
   ]
  },
  {
   "cell_type": "markdown",
   "metadata": {},
   "source": [
    "---------------------\n",
    "\n",
    "# Collect\n",
    "\n",
    "First, we gotta create a dataset and for that, we collect texts from various domains."
   ]
  },
  {
   "cell_type": "code",
   "execution_count": 7,
   "metadata": {},
   "outputs": [
    {
     "name": "stdout",
     "output_type": "stream",
     "text": [
      "Manually defined collectors: ['BundestagCollector']\n"
     ]
    }
   ],
   "source": [
    "# If this is run as a script, that means the orcestrator passes in a list of collectors we are supposed to use.\n",
    "# Fill the list dynamically then. If its from within a notebook, just add them by hand.\n",
    "if CONFIG.RUN_AS_SCRIPT:\n",
    "    collection = []\n",
    "    for collector_name in args.collectors:\n",
    "        try:\n",
    "            module_name, class_name = collector_name.rsplit(\".\", 1)\n",
    "            CollectorClass = getattr(eval(module_name), class_name)\n",
    "            collector_instance = CollectorClass(CONFIG.DATA_ROOT_PATH)\n",
    "            collection.append(collector_instance)\n",
    "        except AttributeError as e:\n",
    "            print(f\"Error creating collector '{collector_name}': {e}\")\n",
    "else:\n",
    "    collection = [\n",
    "        collectors.bundestag_collector.BundestagCollector(CONFIG.DATA_ROOT_PATH),\n",
    "        #collectors.house_of_commons_collector.HouseOfCommonsCollector(CONFIG.DATA_ROOT_PATH),\n",
    "        #collectors.student_essays_collector.StudentEssaysCollector(CONFIG.DATA_ROOT_PATH),\n",
    "        #collectors.arxiv_collector.ArxivCollector(CONFIG.DATA_ROOT_PATH),\n",
    "        #collectors.spiegel_collector.SpiegelCollector(CONFIG.DATA_ROOT_PATH),\n",
    "        #collectors.cnn_news_collector.CNNNewsCollector(CONFIG.DATA_ROOT_PATH),\n",
    "        #collectors.open_legal_data_collector.OpenLegalDataCollector(CONFIG.DATA_ROOT_PATH),\n",
    "        #collectors.euro_court_cases_collector.EuroCourtCasesCollector(CONFIG.DATA_ROOT_PATH),\n",
    "        #collectors.religion_collector.ReligionCollector(CONFIG.DATA_ROOT_PATH),\n",
    "        #collectors.gutenberg_collector.GutenbergCollector(CONFIG.DATA_ROOT_PATH),\n",
    "        #collectors.blog_corpus_collector.BlogCorpusCollector(CONFIG.DATA_ROOT_PATH)\n",
    "    ]\n",
    "\n",
    "if CONFIG.RUN_AS_SCRIPT:\n",
    "    print(f'Dynamically created collectors: {[type(c).__name__ for c in collection]}')\n",
    "else:\n",
    "    print(f'Manually defined collectors: {[type(c).__name__ for c in collection]}')"
   ]
  },
  {
   "cell_type": "code",
   "execution_count": 8,
   "metadata": {},
   "outputs": [
    {
     "name": "stdout",
     "output_type": "stream",
     "text": [
      "Collecting turned off - skipping it.\n"
     ]
    }
   ],
   "source": [
    "if CONFIG.COLLECT:\n",
    "    total_items = 0\n",
    "\n",
    "    for coll in collection:\n",
    "        try:\n",
    "            coll.init()\n",
    "            coll.collect(CONFIG.FORCE_FEATURED)\n",
    "            total_items += coll.get_count()\n",
    "        except Exception as ex:\n",
    "            print('ERROR: Current collection failed due to an error: ')\n",
    "            print(ex)\n",
    "            print('\\n ***** Continuing with the other collectors. ***** \\n')\n",
    "\n",
    "    print('\\n\\n ==================================================== \\n\\n')\n",
    "    print(f'All collectors finished. Total data items: {total_items}')\n",
    "else:\n",
    "    print('Collecting turned off - skipping it.')"
   ]
  },
  {
   "cell_type": "markdown",
   "metadata": {},
   "source": [
    "We started collecting items to disc and then switched to a MongoDB. Hence this script."
   ]
  },
  {
   "cell_type": "code",
   "execution_count": 9,
   "metadata": {},
   "outputs": [],
   "source": [
    "if CONFIG.SYNCHRONIZE_TO_MONGODB:\n",
    "    # Use this when synchronizing only the collected level.\n",
    "    if False:\n",
    "        for coll in collection:\n",
    "            print(f'Doing collector: {coll.get_folder_path()} with {coll.get_count()} items.')\n",
    "\n",
    "            for df in coll.read_from_cache('collected'):\n",
    "                try:\n",
    "                    items = [collected_item.CollectedItem.from_dict(row) for _, row in df.iterrows() if row['text'] != '' and row['text'] is not None]\n",
    "                    mongo_conn.insert_many_collected_items(items)\n",
    "                except Exception as ex:\n",
    "                    print('Error while inserting a CollectedItem: ', ex)\n",
    "    \n",
    "    # Use this when synchornizing already synthesized items, mainly the ones by gpt-4-o\n",
    "    if True:\n",
    "        for coll in collection:\n",
    "            print(f'Doing collector: {coll.get_folder_path()} with {coll.get_count()} items.')\n",
    "\n",
    "            for df in coll.read_from_cache('synthesized'):\n",
    "                for index, row in df.iterrows():\n",
    "                    try:\n",
    "                        item = collected_item.CollectedItem.from_dict(row)\n",
    "                        if item.synthetization is None or len(item.synthetization) == 0 or item.text == '':\n",
    "                            continue\n",
    "\n",
    "                        found = False\n",
    "                        for mongo_item in mongo_conn.get_collected_items_by_text(item.text):\n",
    "                            found = True\n",
    "                            coll_item = collected_item.CollectedItem.from_dict(mongo_item)\n",
    "                        \n",
    "                            if any(synth['agent'] == 'gpt-4o-mini' for synth in coll_item.synthetization):\n",
    "                                continue                                \n",
    "                        \n",
    "                            coll_item.synthetization.append(item.synthetization[0])\n",
    "                            mongo_conn.update_collected_item(coll_item)\n",
    "\n",
    "                        if found is False:\n",
    "                            print(f'Item with id {item.id} had no stored equivalent in the db.')\n",
    "                    except Exception as ex:\n",
    "                        print('Error while inserting a CollectedItem: ', ex)\n",
    "                print('Done with a dataframe chunk.')\n"
   ]
  },
  {
   "cell_type": "markdown",
   "metadata": {},
   "source": [
    "---------------------\n",
    "\n",
    "# Synthesize\n",
    "\n",
    "After we've collected the dataset, we want to create it's AI-generated counterpart. We do this on multiple levels:\n",
    "\n",
    "- Inject passages of AI-generated content\n",
    "- Trying to rewrite the whole text as an AI agent.\n",
    "- Trying different models"
   ]
  },
  {
   "cell_type": "code",
   "execution_count": 10,
   "metadata": {},
   "outputs": [],
   "source": [
    "agents = [\n",
    "    # data_collector.agents.openai_agent.OpenAIAgent(name='gpt-4o-mini', api_key=os.getenv('OPENAI_API_KEY')),\n",
    "    # data_collector.agents.openai_agent.OpenAIAgent(name='o3-mini', api_key=os.getenv('OPENAI_API_KEY')),\n",
    "    # data_collector.agents.openai_agent.OpenAIAgent(name='gpt-4-turbo', api_key=os.getenv('OPENAI_API_KEY')),\n",
    "    #data_collector.agents.ollama_agent.OllamaAgent(name='nemotron', \n",
    "    #                                               ollama_base_url=os.getenv('OLLAMA_BASE_URL'),\n",
    "    #                                               context_length=131072),\n",
    "    data_collector.agents.ollama_agent.OllamaAgent(name='phi3:3.8b', \n",
    "                                                   ollama_base_url=os.getenv('OLLAMA_BASE_URL'),\n",
    "                                                   context_length=131072),\n",
    "    #data_collector.agents.ollama_agent.OllamaAgent(name='gemma2:9b', \n",
    "    #                                               ollama_base_url=os.getenv('OLLAMA_BASE_URL'),\n",
    "    #                                               context_length=8192),\n",
    "    #data_collector.agents.ollama_agent.OllamaAgent(name='deepseek-r1:32b', \n",
    "    #                                               ollama_base_url=os.getenv('OLLAMA_BASE_URL'),\n",
    "    #                                               context_length=131072),\n",
    "]"
   ]
  },
  {
   "cell_type": "markdown",
   "metadata": {},
   "source": [
    "Foreach agent, we go through all different collectors and synthesize the texts."
   ]
  },
  {
   "cell_type": "code",
   "execution_count": 11,
   "metadata": {},
   "outputs": [
    {
     "data": {
      "application/vnd.jupyter.widget-view+json": {
       "model_id": "37d3c5f8e22149ca99410cb8e1c9c9eb",
       "version_major": 2,
       "version_minor": 0
      },
      "text/plain": [
       "Collectors:   0%|          | 0/1 [00:00<?, ?it/s]"
      ]
     },
     "metadata": {},
     "output_type": "display_data"
    },
    {
     "ename": "KeyboardInterrupt",
     "evalue": "",
     "output_type": "error",
     "traceback": [
      "\u001b[0;31m---------------------------------------------------------------------------\u001b[0m",
      "\u001b[0;31mKeyboardInterrupt\u001b[0m                         Traceback (most recent call last)",
      "Cell \u001b[0;32mIn[11], line 23\u001b[0m\n\u001b[1;32m     18\u001b[0m     \u001b[38;5;28;01mcontinue\u001b[39;00m            \n\u001b[1;32m     20\u001b[0m \u001b[38;5;28;01mtry\u001b[39;00m:\n\u001b[1;32m     21\u001b[0m     new_obj \u001b[38;5;241m=\u001b[39m {\n\u001b[1;32m     22\u001b[0m         \u001b[38;5;124m'\u001b[39m\u001b[38;5;124magent\u001b[39m\u001b[38;5;124m'\u001b[39m: agent\u001b[38;5;241m.\u001b[39mname,\n\u001b[0;32m---> 23\u001b[0m         \u001b[38;5;124m'\u001b[39m\u001b[38;5;124msynth_obj\u001b[39m\u001b[38;5;124m'\u001b[39m: \u001b[43magent\u001b[49m\u001b[38;5;241;43m.\u001b[39;49m\u001b[43msynthesize_collected_item\u001b[49m\u001b[43m(\u001b[49m\u001b[43mitem\u001b[49m\u001b[43m,\u001b[49m\u001b[43m \u001b[49m\u001b[43mcoll\u001b[49m\u001b[43m)\u001b[49m\n\u001b[1;32m     24\u001b[0m     }\n\u001b[1;32m     25\u001b[0m     item\u001b[38;5;241m.\u001b[39msynthetization\u001b[38;5;241m.\u001b[39mappend(new_obj)\n\u001b[1;32m     26\u001b[0m \u001b[38;5;28;01mexcept\u001b[39;00m \u001b[38;5;167;01mException\u001b[39;00m \u001b[38;5;28;01mas\u001b[39;00m ex:\n",
      "File \u001b[0;32m/mnt/e/Python_Projects/PrismAI/PrismAI/src/data_collector/agents/ai_agent.py:170\u001b[0m, in \u001b[0;36mAgent.synthesize_collected_item\u001b[0;34m(self, item, collector, force)\u001b[0m\n\u001b[1;32m    166\u001b[0m     \u001b[38;5;28mprint\u001b[39m(\u001b[38;5;124m'\u001b[39m\u001b[38;5;124mItem already synthesized with agent; skipping it. Use force=True to synthesize again.\u001b[39m\u001b[38;5;124m'\u001b[39m)\n\u001b[1;32m    167\u001b[0m     \u001b[38;5;28;01mreturn\u001b[39;00m \u001b[38;5;28;01mNone\u001b[39;00m\n\u001b[1;32m    169\u001b[0m \u001b[38;5;28;01mreturn\u001b[39;00m {\n\u001b[0;32m--> 170\u001b[0m     \u001b[38;5;124m'\u001b[39m\u001b[38;5;124msynth_chunks\u001b[39m\u001b[38;5;124m'\u001b[39m: \u001b[38;5;28;43mself\u001b[39;49m\u001b[38;5;241;43m.\u001b[39;49m\u001b[43msynthesize_chunks\u001b[49m\u001b[43m(\u001b[49m\u001b[43mitem\u001b[49m\u001b[43m,\u001b[49m\u001b[43m \u001b[49m\u001b[43mcollector\u001b[49m\u001b[43m)\u001b[49m,\n\u001b[1;32m    171\u001b[0m     \u001b[38;5;124m'\u001b[39m\u001b[38;5;124msynth_fulltext\u001b[39m\u001b[38;5;124m'\u001b[39m: \u001b[38;5;28mself\u001b[39m\u001b[38;5;241m.\u001b[39msynthesize_fulltext(item, collector)\n\u001b[1;32m    172\u001b[0m }\n",
      "File \u001b[0;32m/mnt/e/Python_Projects/PrismAI/PrismAI/src/data_collector/agents/ai_agent.py:145\u001b[0m, in \u001b[0;36mAgent.synthesize_chunks\u001b[0;34m(self, item, collector)\u001b[0m\n\u001b[1;32m    141\u001b[0m \u001b[38;5;28;01mif\u001b[39;00m \u001b[38;5;28mself\u001b[39m\u001b[38;5;241m.\u001b[39mname\u001b[38;5;241m.\u001b[39mstartswith(\u001b[38;5;124m'\u001b[39m\u001b[38;5;124mdeepseek-r1\u001b[39m\u001b[38;5;124m'\u001b[39m) \u001b[38;5;129;01mor\u001b[39;00m \u001b[38;5;28mself\u001b[39m\u001b[38;5;241m.\u001b[39mname \u001b[38;5;241m==\u001b[39m \u001b[38;5;124m'\u001b[39m\u001b[38;5;124mo3-mini\u001b[39m\u001b[38;5;124m'\u001b[39m:\n\u001b[1;32m    142\u001b[0m     \u001b[38;5;66;03m# In this case, we have a reasoning model. Their response looks differently,\u001b[39;00m\n\u001b[1;32m    143\u001b[0m     \u001b[38;5;66;03m# since they \"<think></think>\" before hand. We hence give them more tokens\u001b[39;00m\n\u001b[1;32m    144\u001b[0m     multiplier \u001b[38;5;241m=\u001b[39m \u001b[38;5;241m15\u001b[39m\n\u001b[0;32m--> 145\u001b[0m response \u001b[38;5;241m=\u001b[39m \u001b[38;5;28;43mself\u001b[39;49m\u001b[38;5;241;43m.\u001b[39;49m\u001b[43mget_response\u001b[49m\u001b[43m(\u001b[49m\u001b[43msystem_prompt\u001b[49m\u001b[38;5;241;43m=\u001b[39;49m\u001b[43msystem_prompt\u001b[49m\u001b[43m,\u001b[49m\u001b[43m \u001b[49m\n\u001b[1;32m    146\u001b[0m \u001b[43m                             \u001b[49m\u001b[43muser_prompt\u001b[49m\u001b[38;5;241;43m=\u001b[39;49m\u001b[43muser_prompt\u001b[49m\u001b[43m,\u001b[49m\u001b[43m \u001b[49m\n\u001b[1;32m    147\u001b[0m \u001b[43m                             \u001b[49m\u001b[43mmax_tokens\u001b[49m\u001b[38;5;241;43m=\u001b[39;49m\u001b[43m(\u001b[49m\u001b[38;5;28;43mint\u001b[39;49m\u001b[43m)\u001b[49m\u001b[43m(\u001b[49m\u001b[43msynth_obj\u001b[49m\u001b[43m[\u001b[49m\u001b[38;5;124;43m'\u001b[39;49m\u001b[38;5;124;43mog_chunk_text_length\u001b[39;49m\u001b[38;5;124;43m'\u001b[39;49m\u001b[43m]\u001b[49m\u001b[43m \u001b[49m\u001b[38;5;241;43m*\u001b[39;49m\u001b[43m \u001b[49m\u001b[43mmultiplier\u001b[49m\u001b[43m)\u001b[49m\u001b[43m)\u001b[49m\n\u001b[1;32m    148\u001b[0m \u001b[38;5;28;01mif\u001b[39;00m \u001b[38;5;28mself\u001b[39m\u001b[38;5;241m.\u001b[39mname\u001b[38;5;241m.\u001b[39mstartswith(\u001b[38;5;124m'\u001b[39m\u001b[38;5;124mdeepseek-r1\u001b[39m\u001b[38;5;124m'\u001b[39m):\n\u001b[1;32m    149\u001b[0m     response \u001b[38;5;241m=\u001b[39m re\u001b[38;5;241m.\u001b[39msub(\u001b[38;5;124mr\u001b[39m\u001b[38;5;124m\"\u001b[39m\u001b[38;5;124m<think>.*?</think>\u001b[39m\u001b[38;5;124m\"\u001b[39m, \u001b[38;5;124m\"\u001b[39m\u001b[38;5;124m\"\u001b[39m, response, flags\u001b[38;5;241m=\u001b[39mre\u001b[38;5;241m.\u001b[39mDOTALL)\u001b[38;5;241m.\u001b[39mstrip()\n",
      "File \u001b[0;32m/mnt/e/Python_Projects/PrismAI/PrismAI/src/data_collector/agents/openai_agent.py:27\u001b[0m, in \u001b[0;36mOpenAIAgent.get_response\u001b[0;34m(self, system_prompt, user_prompt, temperature, max_tokens)\u001b[0m\n\u001b[1;32m     24\u001b[0m     params[\u001b[38;5;124m\"\u001b[39m\u001b[38;5;124mmax_tokens\u001b[39m\u001b[38;5;124m\"\u001b[39m] \u001b[38;5;241m=\u001b[39m max_tokens\n\u001b[1;32m     25\u001b[0m     params[\u001b[38;5;124m\"\u001b[39m\u001b[38;5;124mtop_p\u001b[39m\u001b[38;5;124m\"\u001b[39m] \u001b[38;5;241m=\u001b[39m \u001b[38;5;241m0.6\u001b[39m\n\u001b[0;32m---> 27\u001b[0m completion \u001b[38;5;241m=\u001b[39m \u001b[38;5;28;43mself\u001b[39;49m\u001b[38;5;241;43m.\u001b[39;49m\u001b[43mclient\u001b[49m\u001b[38;5;241;43m.\u001b[39;49m\u001b[43mchat\u001b[49m\u001b[38;5;241;43m.\u001b[39;49m\u001b[43mcompletions\u001b[49m\u001b[38;5;241;43m.\u001b[39;49m\u001b[43mcreate\u001b[49m\u001b[43m(\u001b[49m\u001b[38;5;241;43m*\u001b[39;49m\u001b[38;5;241;43m*\u001b[39;49m\u001b[43mparams\u001b[49m\u001b[43m)\u001b[49m\n\u001b[1;32m     28\u001b[0m \u001b[38;5;28;01mreturn\u001b[39;00m completion\u001b[38;5;241m.\u001b[39mchoices[\u001b[38;5;241m0\u001b[39m]\u001b[38;5;241m.\u001b[39mmessage\u001b[38;5;241m.\u001b[39mcontent\n",
      "File \u001b[0;32m~/miniforge3/envs/prism/lib/python3.12/site-packages/openai/_utils/_utils.py:275\u001b[0m, in \u001b[0;36mrequired_args.<locals>.inner.<locals>.wrapper\u001b[0;34m(*args, **kwargs)\u001b[0m\n\u001b[1;32m    273\u001b[0m             msg \u001b[38;5;241m=\u001b[39m \u001b[38;5;124mf\u001b[39m\u001b[38;5;124m\"\u001b[39m\u001b[38;5;124mMissing required argument: \u001b[39m\u001b[38;5;132;01m{\u001b[39;00mquote(missing[\u001b[38;5;241m0\u001b[39m])\u001b[38;5;132;01m}\u001b[39;00m\u001b[38;5;124m\"\u001b[39m\n\u001b[1;32m    274\u001b[0m     \u001b[38;5;28;01mraise\u001b[39;00m \u001b[38;5;167;01mTypeError\u001b[39;00m(msg)\n\u001b[0;32m--> 275\u001b[0m \u001b[38;5;28;01mreturn\u001b[39;00m \u001b[43mfunc\u001b[49m\u001b[43m(\u001b[49m\u001b[38;5;241;43m*\u001b[39;49m\u001b[43margs\u001b[49m\u001b[43m,\u001b[49m\u001b[43m \u001b[49m\u001b[38;5;241;43m*\u001b[39;49m\u001b[38;5;241;43m*\u001b[39;49m\u001b[43mkwargs\u001b[49m\u001b[43m)\u001b[49m\n",
      "File \u001b[0;32m~/miniforge3/envs/prism/lib/python3.12/site-packages/openai/resources/chat/completions.py:859\u001b[0m, in \u001b[0;36mCompletions.create\u001b[0;34m(self, messages, model, audio, frequency_penalty, function_call, functions, logit_bias, logprobs, max_completion_tokens, max_tokens, metadata, modalities, n, parallel_tool_calls, prediction, presence_penalty, reasoning_effort, response_format, seed, service_tier, stop, store, stream, stream_options, temperature, tool_choice, tools, top_logprobs, top_p, user, extra_headers, extra_query, extra_body, timeout)\u001b[0m\n\u001b[1;32m    817\u001b[0m \u001b[38;5;129m@required_args\u001b[39m([\u001b[38;5;124m\"\u001b[39m\u001b[38;5;124mmessages\u001b[39m\u001b[38;5;124m\"\u001b[39m, \u001b[38;5;124m\"\u001b[39m\u001b[38;5;124mmodel\u001b[39m\u001b[38;5;124m\"\u001b[39m], [\u001b[38;5;124m\"\u001b[39m\u001b[38;5;124mmessages\u001b[39m\u001b[38;5;124m\"\u001b[39m, \u001b[38;5;124m\"\u001b[39m\u001b[38;5;124mmodel\u001b[39m\u001b[38;5;124m\"\u001b[39m, \u001b[38;5;124m\"\u001b[39m\u001b[38;5;124mstream\u001b[39m\u001b[38;5;124m\"\u001b[39m])\n\u001b[1;32m    818\u001b[0m \u001b[38;5;28;01mdef\u001b[39;00m \u001b[38;5;21mcreate\u001b[39m(\n\u001b[1;32m    819\u001b[0m     \u001b[38;5;28mself\u001b[39m,\n\u001b[0;32m   (...)\u001b[0m\n\u001b[1;32m    856\u001b[0m     timeout: \u001b[38;5;28mfloat\u001b[39m \u001b[38;5;241m|\u001b[39m httpx\u001b[38;5;241m.\u001b[39mTimeout \u001b[38;5;241m|\u001b[39m \u001b[38;5;28;01mNone\u001b[39;00m \u001b[38;5;241m|\u001b[39m NotGiven \u001b[38;5;241m=\u001b[39m NOT_GIVEN,\n\u001b[1;32m    857\u001b[0m ) \u001b[38;5;241m-\u001b[39m\u001b[38;5;241m>\u001b[39m ChatCompletion \u001b[38;5;241m|\u001b[39m Stream[ChatCompletionChunk]:\n\u001b[1;32m    858\u001b[0m     validate_response_format(response_format)\n\u001b[0;32m--> 859\u001b[0m     \u001b[38;5;28;01mreturn\u001b[39;00m \u001b[38;5;28;43mself\u001b[39;49m\u001b[38;5;241;43m.\u001b[39;49m\u001b[43m_post\u001b[49m\u001b[43m(\u001b[49m\n\u001b[1;32m    860\u001b[0m \u001b[43m        \u001b[49m\u001b[38;5;124;43m\"\u001b[39;49m\u001b[38;5;124;43m/chat/completions\u001b[39;49m\u001b[38;5;124;43m\"\u001b[39;49m\u001b[43m,\u001b[49m\n\u001b[1;32m    861\u001b[0m \u001b[43m        \u001b[49m\u001b[43mbody\u001b[49m\u001b[38;5;241;43m=\u001b[39;49m\u001b[43mmaybe_transform\u001b[49m\u001b[43m(\u001b[49m\n\u001b[1;32m    862\u001b[0m \u001b[43m            \u001b[49m\u001b[43m{\u001b[49m\n\u001b[1;32m    863\u001b[0m \u001b[43m                \u001b[49m\u001b[38;5;124;43m\"\u001b[39;49m\u001b[38;5;124;43mmessages\u001b[39;49m\u001b[38;5;124;43m\"\u001b[39;49m\u001b[43m:\u001b[49m\u001b[43m \u001b[49m\u001b[43mmessages\u001b[49m\u001b[43m,\u001b[49m\n\u001b[1;32m    864\u001b[0m \u001b[43m                \u001b[49m\u001b[38;5;124;43m\"\u001b[39;49m\u001b[38;5;124;43mmodel\u001b[39;49m\u001b[38;5;124;43m\"\u001b[39;49m\u001b[43m:\u001b[49m\u001b[43m \u001b[49m\u001b[43mmodel\u001b[49m\u001b[43m,\u001b[49m\n\u001b[1;32m    865\u001b[0m \u001b[43m                \u001b[49m\u001b[38;5;124;43m\"\u001b[39;49m\u001b[38;5;124;43maudio\u001b[39;49m\u001b[38;5;124;43m\"\u001b[39;49m\u001b[43m:\u001b[49m\u001b[43m \u001b[49m\u001b[43maudio\u001b[49m\u001b[43m,\u001b[49m\n\u001b[1;32m    866\u001b[0m \u001b[43m                \u001b[49m\u001b[38;5;124;43m\"\u001b[39;49m\u001b[38;5;124;43mfrequency_penalty\u001b[39;49m\u001b[38;5;124;43m\"\u001b[39;49m\u001b[43m:\u001b[49m\u001b[43m \u001b[49m\u001b[43mfrequency_penalty\u001b[49m\u001b[43m,\u001b[49m\n\u001b[1;32m    867\u001b[0m \u001b[43m                \u001b[49m\u001b[38;5;124;43m\"\u001b[39;49m\u001b[38;5;124;43mfunction_call\u001b[39;49m\u001b[38;5;124;43m\"\u001b[39;49m\u001b[43m:\u001b[49m\u001b[43m \u001b[49m\u001b[43mfunction_call\u001b[49m\u001b[43m,\u001b[49m\n\u001b[1;32m    868\u001b[0m \u001b[43m                \u001b[49m\u001b[38;5;124;43m\"\u001b[39;49m\u001b[38;5;124;43mfunctions\u001b[39;49m\u001b[38;5;124;43m\"\u001b[39;49m\u001b[43m:\u001b[49m\u001b[43m \u001b[49m\u001b[43mfunctions\u001b[49m\u001b[43m,\u001b[49m\n\u001b[1;32m    869\u001b[0m \u001b[43m                \u001b[49m\u001b[38;5;124;43m\"\u001b[39;49m\u001b[38;5;124;43mlogit_bias\u001b[39;49m\u001b[38;5;124;43m\"\u001b[39;49m\u001b[43m:\u001b[49m\u001b[43m \u001b[49m\u001b[43mlogit_bias\u001b[49m\u001b[43m,\u001b[49m\n\u001b[1;32m    870\u001b[0m \u001b[43m                \u001b[49m\u001b[38;5;124;43m\"\u001b[39;49m\u001b[38;5;124;43mlogprobs\u001b[39;49m\u001b[38;5;124;43m\"\u001b[39;49m\u001b[43m:\u001b[49m\u001b[43m \u001b[49m\u001b[43mlogprobs\u001b[49m\u001b[43m,\u001b[49m\n\u001b[1;32m    871\u001b[0m \u001b[43m                \u001b[49m\u001b[38;5;124;43m\"\u001b[39;49m\u001b[38;5;124;43mmax_completion_tokens\u001b[39;49m\u001b[38;5;124;43m\"\u001b[39;49m\u001b[43m:\u001b[49m\u001b[43m \u001b[49m\u001b[43mmax_completion_tokens\u001b[49m\u001b[43m,\u001b[49m\n\u001b[1;32m    872\u001b[0m \u001b[43m                \u001b[49m\u001b[38;5;124;43m\"\u001b[39;49m\u001b[38;5;124;43mmax_tokens\u001b[39;49m\u001b[38;5;124;43m\"\u001b[39;49m\u001b[43m:\u001b[49m\u001b[43m \u001b[49m\u001b[43mmax_tokens\u001b[49m\u001b[43m,\u001b[49m\n\u001b[1;32m    873\u001b[0m \u001b[43m                \u001b[49m\u001b[38;5;124;43m\"\u001b[39;49m\u001b[38;5;124;43mmetadata\u001b[39;49m\u001b[38;5;124;43m\"\u001b[39;49m\u001b[43m:\u001b[49m\u001b[43m \u001b[49m\u001b[43mmetadata\u001b[49m\u001b[43m,\u001b[49m\n\u001b[1;32m    874\u001b[0m \u001b[43m                \u001b[49m\u001b[38;5;124;43m\"\u001b[39;49m\u001b[38;5;124;43mmodalities\u001b[39;49m\u001b[38;5;124;43m\"\u001b[39;49m\u001b[43m:\u001b[49m\u001b[43m \u001b[49m\u001b[43mmodalities\u001b[49m\u001b[43m,\u001b[49m\n\u001b[1;32m    875\u001b[0m \u001b[43m                \u001b[49m\u001b[38;5;124;43m\"\u001b[39;49m\u001b[38;5;124;43mn\u001b[39;49m\u001b[38;5;124;43m\"\u001b[39;49m\u001b[43m:\u001b[49m\u001b[43m \u001b[49m\u001b[43mn\u001b[49m\u001b[43m,\u001b[49m\n\u001b[1;32m    876\u001b[0m \u001b[43m                \u001b[49m\u001b[38;5;124;43m\"\u001b[39;49m\u001b[38;5;124;43mparallel_tool_calls\u001b[39;49m\u001b[38;5;124;43m\"\u001b[39;49m\u001b[43m:\u001b[49m\u001b[43m \u001b[49m\u001b[43mparallel_tool_calls\u001b[49m\u001b[43m,\u001b[49m\n\u001b[1;32m    877\u001b[0m \u001b[43m                \u001b[49m\u001b[38;5;124;43m\"\u001b[39;49m\u001b[38;5;124;43mprediction\u001b[39;49m\u001b[38;5;124;43m\"\u001b[39;49m\u001b[43m:\u001b[49m\u001b[43m \u001b[49m\u001b[43mprediction\u001b[49m\u001b[43m,\u001b[49m\n\u001b[1;32m    878\u001b[0m \u001b[43m                \u001b[49m\u001b[38;5;124;43m\"\u001b[39;49m\u001b[38;5;124;43mpresence_penalty\u001b[39;49m\u001b[38;5;124;43m\"\u001b[39;49m\u001b[43m:\u001b[49m\u001b[43m \u001b[49m\u001b[43mpresence_penalty\u001b[49m\u001b[43m,\u001b[49m\n\u001b[1;32m    879\u001b[0m \u001b[43m                \u001b[49m\u001b[38;5;124;43m\"\u001b[39;49m\u001b[38;5;124;43mreasoning_effort\u001b[39;49m\u001b[38;5;124;43m\"\u001b[39;49m\u001b[43m:\u001b[49m\u001b[43m \u001b[49m\u001b[43mreasoning_effort\u001b[49m\u001b[43m,\u001b[49m\n\u001b[1;32m    880\u001b[0m \u001b[43m                \u001b[49m\u001b[38;5;124;43m\"\u001b[39;49m\u001b[38;5;124;43mresponse_format\u001b[39;49m\u001b[38;5;124;43m\"\u001b[39;49m\u001b[43m:\u001b[49m\u001b[43m \u001b[49m\u001b[43mresponse_format\u001b[49m\u001b[43m,\u001b[49m\n\u001b[1;32m    881\u001b[0m \u001b[43m                \u001b[49m\u001b[38;5;124;43m\"\u001b[39;49m\u001b[38;5;124;43mseed\u001b[39;49m\u001b[38;5;124;43m\"\u001b[39;49m\u001b[43m:\u001b[49m\u001b[43m \u001b[49m\u001b[43mseed\u001b[49m\u001b[43m,\u001b[49m\n\u001b[1;32m    882\u001b[0m \u001b[43m                \u001b[49m\u001b[38;5;124;43m\"\u001b[39;49m\u001b[38;5;124;43mservice_tier\u001b[39;49m\u001b[38;5;124;43m\"\u001b[39;49m\u001b[43m:\u001b[49m\u001b[43m \u001b[49m\u001b[43mservice_tier\u001b[49m\u001b[43m,\u001b[49m\n\u001b[1;32m    883\u001b[0m \u001b[43m                \u001b[49m\u001b[38;5;124;43m\"\u001b[39;49m\u001b[38;5;124;43mstop\u001b[39;49m\u001b[38;5;124;43m\"\u001b[39;49m\u001b[43m:\u001b[49m\u001b[43m \u001b[49m\u001b[43mstop\u001b[49m\u001b[43m,\u001b[49m\n\u001b[1;32m    884\u001b[0m \u001b[43m                \u001b[49m\u001b[38;5;124;43m\"\u001b[39;49m\u001b[38;5;124;43mstore\u001b[39;49m\u001b[38;5;124;43m\"\u001b[39;49m\u001b[43m:\u001b[49m\u001b[43m \u001b[49m\u001b[43mstore\u001b[49m\u001b[43m,\u001b[49m\n\u001b[1;32m    885\u001b[0m \u001b[43m                \u001b[49m\u001b[38;5;124;43m\"\u001b[39;49m\u001b[38;5;124;43mstream\u001b[39;49m\u001b[38;5;124;43m\"\u001b[39;49m\u001b[43m:\u001b[49m\u001b[43m \u001b[49m\u001b[43mstream\u001b[49m\u001b[43m,\u001b[49m\n\u001b[1;32m    886\u001b[0m \u001b[43m                \u001b[49m\u001b[38;5;124;43m\"\u001b[39;49m\u001b[38;5;124;43mstream_options\u001b[39;49m\u001b[38;5;124;43m\"\u001b[39;49m\u001b[43m:\u001b[49m\u001b[43m \u001b[49m\u001b[43mstream_options\u001b[49m\u001b[43m,\u001b[49m\n\u001b[1;32m    887\u001b[0m \u001b[43m                \u001b[49m\u001b[38;5;124;43m\"\u001b[39;49m\u001b[38;5;124;43mtemperature\u001b[39;49m\u001b[38;5;124;43m\"\u001b[39;49m\u001b[43m:\u001b[49m\u001b[43m \u001b[49m\u001b[43mtemperature\u001b[49m\u001b[43m,\u001b[49m\n\u001b[1;32m    888\u001b[0m \u001b[43m                \u001b[49m\u001b[38;5;124;43m\"\u001b[39;49m\u001b[38;5;124;43mtool_choice\u001b[39;49m\u001b[38;5;124;43m\"\u001b[39;49m\u001b[43m:\u001b[49m\u001b[43m \u001b[49m\u001b[43mtool_choice\u001b[49m\u001b[43m,\u001b[49m\n\u001b[1;32m    889\u001b[0m \u001b[43m                \u001b[49m\u001b[38;5;124;43m\"\u001b[39;49m\u001b[38;5;124;43mtools\u001b[39;49m\u001b[38;5;124;43m\"\u001b[39;49m\u001b[43m:\u001b[49m\u001b[43m \u001b[49m\u001b[43mtools\u001b[49m\u001b[43m,\u001b[49m\n\u001b[1;32m    890\u001b[0m \u001b[43m                \u001b[49m\u001b[38;5;124;43m\"\u001b[39;49m\u001b[38;5;124;43mtop_logprobs\u001b[39;49m\u001b[38;5;124;43m\"\u001b[39;49m\u001b[43m:\u001b[49m\u001b[43m \u001b[49m\u001b[43mtop_logprobs\u001b[49m\u001b[43m,\u001b[49m\n\u001b[1;32m    891\u001b[0m \u001b[43m                \u001b[49m\u001b[38;5;124;43m\"\u001b[39;49m\u001b[38;5;124;43mtop_p\u001b[39;49m\u001b[38;5;124;43m\"\u001b[39;49m\u001b[43m:\u001b[49m\u001b[43m \u001b[49m\u001b[43mtop_p\u001b[49m\u001b[43m,\u001b[49m\n\u001b[1;32m    892\u001b[0m \u001b[43m                \u001b[49m\u001b[38;5;124;43m\"\u001b[39;49m\u001b[38;5;124;43muser\u001b[39;49m\u001b[38;5;124;43m\"\u001b[39;49m\u001b[43m:\u001b[49m\u001b[43m \u001b[49m\u001b[43muser\u001b[49m\u001b[43m,\u001b[49m\n\u001b[1;32m    893\u001b[0m \u001b[43m            \u001b[49m\u001b[43m}\u001b[49m\u001b[43m,\u001b[49m\n\u001b[1;32m    894\u001b[0m \u001b[43m            \u001b[49m\u001b[43mcompletion_create_params\u001b[49m\u001b[38;5;241;43m.\u001b[39;49m\u001b[43mCompletionCreateParams\u001b[49m\u001b[43m,\u001b[49m\n\u001b[1;32m    895\u001b[0m \u001b[43m        \u001b[49m\u001b[43m)\u001b[49m\u001b[43m,\u001b[49m\n\u001b[1;32m    896\u001b[0m \u001b[43m        \u001b[49m\u001b[43moptions\u001b[49m\u001b[38;5;241;43m=\u001b[39;49m\u001b[43mmake_request_options\u001b[49m\u001b[43m(\u001b[49m\n\u001b[1;32m    897\u001b[0m \u001b[43m            \u001b[49m\u001b[43mextra_headers\u001b[49m\u001b[38;5;241;43m=\u001b[39;49m\u001b[43mextra_headers\u001b[49m\u001b[43m,\u001b[49m\u001b[43m \u001b[49m\u001b[43mextra_query\u001b[49m\u001b[38;5;241;43m=\u001b[39;49m\u001b[43mextra_query\u001b[49m\u001b[43m,\u001b[49m\u001b[43m \u001b[49m\u001b[43mextra_body\u001b[49m\u001b[38;5;241;43m=\u001b[39;49m\u001b[43mextra_body\u001b[49m\u001b[43m,\u001b[49m\u001b[43m \u001b[49m\u001b[43mtimeout\u001b[49m\u001b[38;5;241;43m=\u001b[39;49m\u001b[43mtimeout\u001b[49m\n\u001b[1;32m    898\u001b[0m \u001b[43m        \u001b[49m\u001b[43m)\u001b[49m\u001b[43m,\u001b[49m\n\u001b[1;32m    899\u001b[0m \u001b[43m        \u001b[49m\u001b[43mcast_to\u001b[49m\u001b[38;5;241;43m=\u001b[39;49m\u001b[43mChatCompletion\u001b[49m\u001b[43m,\u001b[49m\n\u001b[1;32m    900\u001b[0m \u001b[43m        \u001b[49m\u001b[43mstream\u001b[49m\u001b[38;5;241;43m=\u001b[39;49m\u001b[43mstream\u001b[49m\u001b[43m \u001b[49m\u001b[38;5;129;43;01mor\u001b[39;49;00m\u001b[43m \u001b[49m\u001b[38;5;28;43;01mFalse\u001b[39;49;00m\u001b[43m,\u001b[49m\n\u001b[1;32m    901\u001b[0m \u001b[43m        \u001b[49m\u001b[43mstream_cls\u001b[49m\u001b[38;5;241;43m=\u001b[39;49m\u001b[43mStream\u001b[49m\u001b[43m[\u001b[49m\u001b[43mChatCompletionChunk\u001b[49m\u001b[43m]\u001b[49m\u001b[43m,\u001b[49m\n\u001b[1;32m    902\u001b[0m \u001b[43m    \u001b[49m\u001b[43m)\u001b[49m\n",
      "File \u001b[0;32m~/miniforge3/envs/prism/lib/python3.12/site-packages/openai/_base_client.py:1280\u001b[0m, in \u001b[0;36mSyncAPIClient.post\u001b[0;34m(self, path, cast_to, body, options, files, stream, stream_cls)\u001b[0m\n\u001b[1;32m   1266\u001b[0m \u001b[38;5;28;01mdef\u001b[39;00m \u001b[38;5;21mpost\u001b[39m(\n\u001b[1;32m   1267\u001b[0m     \u001b[38;5;28mself\u001b[39m,\n\u001b[1;32m   1268\u001b[0m     path: \u001b[38;5;28mstr\u001b[39m,\n\u001b[0;32m   (...)\u001b[0m\n\u001b[1;32m   1275\u001b[0m     stream_cls: \u001b[38;5;28mtype\u001b[39m[_StreamT] \u001b[38;5;241m|\u001b[39m \u001b[38;5;28;01mNone\u001b[39;00m \u001b[38;5;241m=\u001b[39m \u001b[38;5;28;01mNone\u001b[39;00m,\n\u001b[1;32m   1276\u001b[0m ) \u001b[38;5;241m-\u001b[39m\u001b[38;5;241m>\u001b[39m ResponseT \u001b[38;5;241m|\u001b[39m _StreamT:\n\u001b[1;32m   1277\u001b[0m     opts \u001b[38;5;241m=\u001b[39m FinalRequestOptions\u001b[38;5;241m.\u001b[39mconstruct(\n\u001b[1;32m   1278\u001b[0m         method\u001b[38;5;241m=\u001b[39m\u001b[38;5;124m\"\u001b[39m\u001b[38;5;124mpost\u001b[39m\u001b[38;5;124m\"\u001b[39m, url\u001b[38;5;241m=\u001b[39mpath, json_data\u001b[38;5;241m=\u001b[39mbody, files\u001b[38;5;241m=\u001b[39mto_httpx_files(files), \u001b[38;5;241m*\u001b[39m\u001b[38;5;241m*\u001b[39moptions\n\u001b[1;32m   1279\u001b[0m     )\n\u001b[0;32m-> 1280\u001b[0m     \u001b[38;5;28;01mreturn\u001b[39;00m cast(ResponseT, \u001b[38;5;28;43mself\u001b[39;49m\u001b[38;5;241;43m.\u001b[39;49m\u001b[43mrequest\u001b[49m\u001b[43m(\u001b[49m\u001b[43mcast_to\u001b[49m\u001b[43m,\u001b[49m\u001b[43m \u001b[49m\u001b[43mopts\u001b[49m\u001b[43m,\u001b[49m\u001b[43m \u001b[49m\u001b[43mstream\u001b[49m\u001b[38;5;241;43m=\u001b[39;49m\u001b[43mstream\u001b[49m\u001b[43m,\u001b[49m\u001b[43m \u001b[49m\u001b[43mstream_cls\u001b[49m\u001b[38;5;241;43m=\u001b[39;49m\u001b[43mstream_cls\u001b[49m\u001b[43m)\u001b[49m)\n",
      "File \u001b[0;32m~/miniforge3/envs/prism/lib/python3.12/site-packages/openai/_base_client.py:957\u001b[0m, in \u001b[0;36mSyncAPIClient.request\u001b[0;34m(self, cast_to, options, remaining_retries, stream, stream_cls)\u001b[0m\n\u001b[1;32m    954\u001b[0m \u001b[38;5;28;01melse\u001b[39;00m:\n\u001b[1;32m    955\u001b[0m     retries_taken \u001b[38;5;241m=\u001b[39m \u001b[38;5;241m0\u001b[39m\n\u001b[0;32m--> 957\u001b[0m \u001b[38;5;28;01mreturn\u001b[39;00m \u001b[38;5;28;43mself\u001b[39;49m\u001b[38;5;241;43m.\u001b[39;49m\u001b[43m_request\u001b[49m\u001b[43m(\u001b[49m\n\u001b[1;32m    958\u001b[0m \u001b[43m    \u001b[49m\u001b[43mcast_to\u001b[49m\u001b[38;5;241;43m=\u001b[39;49m\u001b[43mcast_to\u001b[49m\u001b[43m,\u001b[49m\n\u001b[1;32m    959\u001b[0m \u001b[43m    \u001b[49m\u001b[43moptions\u001b[49m\u001b[38;5;241;43m=\u001b[39;49m\u001b[43moptions\u001b[49m\u001b[43m,\u001b[49m\n\u001b[1;32m    960\u001b[0m \u001b[43m    \u001b[49m\u001b[43mstream\u001b[49m\u001b[38;5;241;43m=\u001b[39;49m\u001b[43mstream\u001b[49m\u001b[43m,\u001b[49m\n\u001b[1;32m    961\u001b[0m \u001b[43m    \u001b[49m\u001b[43mstream_cls\u001b[49m\u001b[38;5;241;43m=\u001b[39;49m\u001b[43mstream_cls\u001b[49m\u001b[43m,\u001b[49m\n\u001b[1;32m    962\u001b[0m \u001b[43m    \u001b[49m\u001b[43mretries_taken\u001b[49m\u001b[38;5;241;43m=\u001b[39;49m\u001b[43mretries_taken\u001b[49m\u001b[43m,\u001b[49m\n\u001b[1;32m    963\u001b[0m \u001b[43m\u001b[49m\u001b[43m)\u001b[49m\n",
      "File \u001b[0;32m~/miniforge3/envs/prism/lib/python3.12/site-packages/openai/_base_client.py:993\u001b[0m, in \u001b[0;36mSyncAPIClient._request\u001b[0;34m(self, cast_to, options, retries_taken, stream, stream_cls)\u001b[0m\n\u001b[1;32m    990\u001b[0m log\u001b[38;5;241m.\u001b[39mdebug(\u001b[38;5;124m\"\u001b[39m\u001b[38;5;124mSending HTTP Request: \u001b[39m\u001b[38;5;132;01m%s\u001b[39;00m\u001b[38;5;124m \u001b[39m\u001b[38;5;132;01m%s\u001b[39;00m\u001b[38;5;124m\"\u001b[39m, request\u001b[38;5;241m.\u001b[39mmethod, request\u001b[38;5;241m.\u001b[39murl)\n\u001b[1;32m    992\u001b[0m \u001b[38;5;28;01mtry\u001b[39;00m:\n\u001b[0;32m--> 993\u001b[0m     response \u001b[38;5;241m=\u001b[39m \u001b[38;5;28;43mself\u001b[39;49m\u001b[38;5;241;43m.\u001b[39;49m\u001b[43m_client\u001b[49m\u001b[38;5;241;43m.\u001b[39;49m\u001b[43msend\u001b[49m\u001b[43m(\u001b[49m\n\u001b[1;32m    994\u001b[0m \u001b[43m        \u001b[49m\u001b[43mrequest\u001b[49m\u001b[43m,\u001b[49m\n\u001b[1;32m    995\u001b[0m \u001b[43m        \u001b[49m\u001b[43mstream\u001b[49m\u001b[38;5;241;43m=\u001b[39;49m\u001b[43mstream\u001b[49m\u001b[43m \u001b[49m\u001b[38;5;129;43;01mor\u001b[39;49;00m\u001b[43m \u001b[49m\u001b[38;5;28;43mself\u001b[39;49m\u001b[38;5;241;43m.\u001b[39;49m\u001b[43m_should_stream_response_body\u001b[49m\u001b[43m(\u001b[49m\u001b[43mrequest\u001b[49m\u001b[38;5;241;43m=\u001b[39;49m\u001b[43mrequest\u001b[49m\u001b[43m)\u001b[49m\u001b[43m,\u001b[49m\n\u001b[1;32m    996\u001b[0m \u001b[43m        \u001b[49m\u001b[38;5;241;43m*\u001b[39;49m\u001b[38;5;241;43m*\u001b[39;49m\u001b[43mkwargs\u001b[49m\u001b[43m,\u001b[49m\n\u001b[1;32m    997\u001b[0m \u001b[43m    \u001b[49m\u001b[43m)\u001b[49m\n\u001b[1;32m    998\u001b[0m \u001b[38;5;28;01mexcept\u001b[39;00m httpx\u001b[38;5;241m.\u001b[39mTimeoutException \u001b[38;5;28;01mas\u001b[39;00m err:\n\u001b[1;32m    999\u001b[0m     log\u001b[38;5;241m.\u001b[39mdebug(\u001b[38;5;124m\"\u001b[39m\u001b[38;5;124mEncountered httpx.TimeoutException\u001b[39m\u001b[38;5;124m\"\u001b[39m, exc_info\u001b[38;5;241m=\u001b[39m\u001b[38;5;28;01mTrue\u001b[39;00m)\n",
      "File \u001b[0;32m~/miniforge3/envs/prism/lib/python3.12/site-packages/httpx/_client.py:926\u001b[0m, in \u001b[0;36mClient.send\u001b[0;34m(self, request, stream, auth, follow_redirects)\u001b[0m\n\u001b[1;32m    922\u001b[0m \u001b[38;5;28mself\u001b[39m\u001b[38;5;241m.\u001b[39m_set_timeout(request)\n\u001b[1;32m    924\u001b[0m auth \u001b[38;5;241m=\u001b[39m \u001b[38;5;28mself\u001b[39m\u001b[38;5;241m.\u001b[39m_build_request_auth(request, auth)\n\u001b[0;32m--> 926\u001b[0m response \u001b[38;5;241m=\u001b[39m \u001b[38;5;28;43mself\u001b[39;49m\u001b[38;5;241;43m.\u001b[39;49m\u001b[43m_send_handling_auth\u001b[49m\u001b[43m(\u001b[49m\n\u001b[1;32m    927\u001b[0m \u001b[43m    \u001b[49m\u001b[43mrequest\u001b[49m\u001b[43m,\u001b[49m\n\u001b[1;32m    928\u001b[0m \u001b[43m    \u001b[49m\u001b[43mauth\u001b[49m\u001b[38;5;241;43m=\u001b[39;49m\u001b[43mauth\u001b[49m\u001b[43m,\u001b[49m\n\u001b[1;32m    929\u001b[0m \u001b[43m    \u001b[49m\u001b[43mfollow_redirects\u001b[49m\u001b[38;5;241;43m=\u001b[39;49m\u001b[43mfollow_redirects\u001b[49m\u001b[43m,\u001b[49m\n\u001b[1;32m    930\u001b[0m \u001b[43m    \u001b[49m\u001b[43mhistory\u001b[49m\u001b[38;5;241;43m=\u001b[39;49m\u001b[43m[\u001b[49m\u001b[43m]\u001b[49m\u001b[43m,\u001b[49m\n\u001b[1;32m    931\u001b[0m \u001b[43m\u001b[49m\u001b[43m)\u001b[49m\n\u001b[1;32m    932\u001b[0m \u001b[38;5;28;01mtry\u001b[39;00m:\n\u001b[1;32m    933\u001b[0m     \u001b[38;5;28;01mif\u001b[39;00m \u001b[38;5;129;01mnot\u001b[39;00m stream:\n",
      "File \u001b[0;32m~/miniforge3/envs/prism/lib/python3.12/site-packages/httpx/_client.py:954\u001b[0m, in \u001b[0;36mClient._send_handling_auth\u001b[0;34m(self, request, auth, follow_redirects, history)\u001b[0m\n\u001b[1;32m    951\u001b[0m request \u001b[38;5;241m=\u001b[39m \u001b[38;5;28mnext\u001b[39m(auth_flow)\n\u001b[1;32m    953\u001b[0m \u001b[38;5;28;01mwhile\u001b[39;00m \u001b[38;5;28;01mTrue\u001b[39;00m:\n\u001b[0;32m--> 954\u001b[0m     response \u001b[38;5;241m=\u001b[39m \u001b[38;5;28;43mself\u001b[39;49m\u001b[38;5;241;43m.\u001b[39;49m\u001b[43m_send_handling_redirects\u001b[49m\u001b[43m(\u001b[49m\n\u001b[1;32m    955\u001b[0m \u001b[43m        \u001b[49m\u001b[43mrequest\u001b[49m\u001b[43m,\u001b[49m\n\u001b[1;32m    956\u001b[0m \u001b[43m        \u001b[49m\u001b[43mfollow_redirects\u001b[49m\u001b[38;5;241;43m=\u001b[39;49m\u001b[43mfollow_redirects\u001b[49m\u001b[43m,\u001b[49m\n\u001b[1;32m    957\u001b[0m \u001b[43m        \u001b[49m\u001b[43mhistory\u001b[49m\u001b[38;5;241;43m=\u001b[39;49m\u001b[43mhistory\u001b[49m\u001b[43m,\u001b[49m\n\u001b[1;32m    958\u001b[0m \u001b[43m    \u001b[49m\u001b[43m)\u001b[49m\n\u001b[1;32m    959\u001b[0m     \u001b[38;5;28;01mtry\u001b[39;00m:\n\u001b[1;32m    960\u001b[0m         \u001b[38;5;28;01mtry\u001b[39;00m:\n",
      "File \u001b[0;32m~/miniforge3/envs/prism/lib/python3.12/site-packages/httpx/_client.py:991\u001b[0m, in \u001b[0;36mClient._send_handling_redirects\u001b[0;34m(self, request, follow_redirects, history)\u001b[0m\n\u001b[1;32m    988\u001b[0m \u001b[38;5;28;01mfor\u001b[39;00m hook \u001b[38;5;129;01min\u001b[39;00m \u001b[38;5;28mself\u001b[39m\u001b[38;5;241m.\u001b[39m_event_hooks[\u001b[38;5;124m\"\u001b[39m\u001b[38;5;124mrequest\u001b[39m\u001b[38;5;124m\"\u001b[39m]:\n\u001b[1;32m    989\u001b[0m     hook(request)\n\u001b[0;32m--> 991\u001b[0m response \u001b[38;5;241m=\u001b[39m \u001b[38;5;28;43mself\u001b[39;49m\u001b[38;5;241;43m.\u001b[39;49m\u001b[43m_send_single_request\u001b[49m\u001b[43m(\u001b[49m\u001b[43mrequest\u001b[49m\u001b[43m)\u001b[49m\n\u001b[1;32m    992\u001b[0m \u001b[38;5;28;01mtry\u001b[39;00m:\n\u001b[1;32m    993\u001b[0m     \u001b[38;5;28;01mfor\u001b[39;00m hook \u001b[38;5;129;01min\u001b[39;00m \u001b[38;5;28mself\u001b[39m\u001b[38;5;241m.\u001b[39m_event_hooks[\u001b[38;5;124m\"\u001b[39m\u001b[38;5;124mresponse\u001b[39m\u001b[38;5;124m\"\u001b[39m]:\n",
      "File \u001b[0;32m~/miniforge3/envs/prism/lib/python3.12/site-packages/httpx/_client.py:1027\u001b[0m, in \u001b[0;36mClient._send_single_request\u001b[0;34m(self, request)\u001b[0m\n\u001b[1;32m   1022\u001b[0m     \u001b[38;5;28;01mraise\u001b[39;00m \u001b[38;5;167;01mRuntimeError\u001b[39;00m(\n\u001b[1;32m   1023\u001b[0m         \u001b[38;5;124m\"\u001b[39m\u001b[38;5;124mAttempted to send an async request with a sync Client instance.\u001b[39m\u001b[38;5;124m\"\u001b[39m\n\u001b[1;32m   1024\u001b[0m     )\n\u001b[1;32m   1026\u001b[0m \u001b[38;5;28;01mwith\u001b[39;00m request_context(request\u001b[38;5;241m=\u001b[39mrequest):\n\u001b[0;32m-> 1027\u001b[0m     response \u001b[38;5;241m=\u001b[39m \u001b[43mtransport\u001b[49m\u001b[38;5;241;43m.\u001b[39;49m\u001b[43mhandle_request\u001b[49m\u001b[43m(\u001b[49m\u001b[43mrequest\u001b[49m\u001b[43m)\u001b[49m\n\u001b[1;32m   1029\u001b[0m \u001b[38;5;28;01massert\u001b[39;00m \u001b[38;5;28misinstance\u001b[39m(response\u001b[38;5;241m.\u001b[39mstream, SyncByteStream)\n\u001b[1;32m   1031\u001b[0m response\u001b[38;5;241m.\u001b[39mrequest \u001b[38;5;241m=\u001b[39m request\n",
      "File \u001b[0;32m~/miniforge3/envs/prism/lib/python3.12/site-packages/httpx/_transports/default.py:236\u001b[0m, in \u001b[0;36mHTTPTransport.handle_request\u001b[0;34m(self, request)\u001b[0m\n\u001b[1;32m    223\u001b[0m req \u001b[38;5;241m=\u001b[39m httpcore\u001b[38;5;241m.\u001b[39mRequest(\n\u001b[1;32m    224\u001b[0m     method\u001b[38;5;241m=\u001b[39mrequest\u001b[38;5;241m.\u001b[39mmethod,\n\u001b[1;32m    225\u001b[0m     url\u001b[38;5;241m=\u001b[39mhttpcore\u001b[38;5;241m.\u001b[39mURL(\n\u001b[0;32m   (...)\u001b[0m\n\u001b[1;32m    233\u001b[0m     extensions\u001b[38;5;241m=\u001b[39mrequest\u001b[38;5;241m.\u001b[39mextensions,\n\u001b[1;32m    234\u001b[0m )\n\u001b[1;32m    235\u001b[0m \u001b[38;5;28;01mwith\u001b[39;00m map_httpcore_exceptions():\n\u001b[0;32m--> 236\u001b[0m     resp \u001b[38;5;241m=\u001b[39m \u001b[38;5;28;43mself\u001b[39;49m\u001b[38;5;241;43m.\u001b[39;49m\u001b[43m_pool\u001b[49m\u001b[38;5;241;43m.\u001b[39;49m\u001b[43mhandle_request\u001b[49m\u001b[43m(\u001b[49m\u001b[43mreq\u001b[49m\u001b[43m)\u001b[49m\n\u001b[1;32m    238\u001b[0m \u001b[38;5;28;01massert\u001b[39;00m \u001b[38;5;28misinstance\u001b[39m(resp\u001b[38;5;241m.\u001b[39mstream, typing\u001b[38;5;241m.\u001b[39mIterable)\n\u001b[1;32m    240\u001b[0m \u001b[38;5;28;01mreturn\u001b[39;00m Response(\n\u001b[1;32m    241\u001b[0m     status_code\u001b[38;5;241m=\u001b[39mresp\u001b[38;5;241m.\u001b[39mstatus,\n\u001b[1;32m    242\u001b[0m     headers\u001b[38;5;241m=\u001b[39mresp\u001b[38;5;241m.\u001b[39mheaders,\n\u001b[1;32m    243\u001b[0m     stream\u001b[38;5;241m=\u001b[39mResponseStream(resp\u001b[38;5;241m.\u001b[39mstream),\n\u001b[1;32m    244\u001b[0m     extensions\u001b[38;5;241m=\u001b[39mresp\u001b[38;5;241m.\u001b[39mextensions,\n\u001b[1;32m    245\u001b[0m )\n",
      "File \u001b[0;32m~/miniforge3/envs/prism/lib/python3.12/site-packages/httpcore/_sync/connection_pool.py:256\u001b[0m, in \u001b[0;36mConnectionPool.handle_request\u001b[0;34m(self, request)\u001b[0m\n\u001b[1;32m    253\u001b[0m         closing \u001b[38;5;241m=\u001b[39m \u001b[38;5;28mself\u001b[39m\u001b[38;5;241m.\u001b[39m_assign_requests_to_connections()\n\u001b[1;32m    255\u001b[0m     \u001b[38;5;28mself\u001b[39m\u001b[38;5;241m.\u001b[39m_close_connections(closing)\n\u001b[0;32m--> 256\u001b[0m     \u001b[38;5;28;01mraise\u001b[39;00m exc \u001b[38;5;28;01mfrom\u001b[39;00m \u001b[38;5;28;01mNone\u001b[39;00m\n\u001b[1;32m    258\u001b[0m \u001b[38;5;66;03m# Return the response. Note that in this case we still have to manage\u001b[39;00m\n\u001b[1;32m    259\u001b[0m \u001b[38;5;66;03m# the point at which the response is closed.\u001b[39;00m\n\u001b[1;32m    260\u001b[0m \u001b[38;5;28;01massert\u001b[39;00m \u001b[38;5;28misinstance\u001b[39m(response\u001b[38;5;241m.\u001b[39mstream, typing\u001b[38;5;241m.\u001b[39mIterable)\n",
      "File \u001b[0;32m~/miniforge3/envs/prism/lib/python3.12/site-packages/httpcore/_sync/connection_pool.py:236\u001b[0m, in \u001b[0;36mConnectionPool.handle_request\u001b[0;34m(self, request)\u001b[0m\n\u001b[1;32m    232\u001b[0m connection \u001b[38;5;241m=\u001b[39m pool_request\u001b[38;5;241m.\u001b[39mwait_for_connection(timeout\u001b[38;5;241m=\u001b[39mtimeout)\n\u001b[1;32m    234\u001b[0m \u001b[38;5;28;01mtry\u001b[39;00m:\n\u001b[1;32m    235\u001b[0m     \u001b[38;5;66;03m# Send the request on the assigned connection.\u001b[39;00m\n\u001b[0;32m--> 236\u001b[0m     response \u001b[38;5;241m=\u001b[39m \u001b[43mconnection\u001b[49m\u001b[38;5;241;43m.\u001b[39;49m\u001b[43mhandle_request\u001b[49m\u001b[43m(\u001b[49m\n\u001b[1;32m    237\u001b[0m \u001b[43m        \u001b[49m\u001b[43mpool_request\u001b[49m\u001b[38;5;241;43m.\u001b[39;49m\u001b[43mrequest\u001b[49m\n\u001b[1;32m    238\u001b[0m \u001b[43m    \u001b[49m\u001b[43m)\u001b[49m\n\u001b[1;32m    239\u001b[0m \u001b[38;5;28;01mexcept\u001b[39;00m ConnectionNotAvailable:\n\u001b[1;32m    240\u001b[0m     \u001b[38;5;66;03m# In some cases a connection may initially be available to\u001b[39;00m\n\u001b[1;32m    241\u001b[0m     \u001b[38;5;66;03m# handle a request, but then become unavailable.\u001b[39;00m\n\u001b[1;32m    242\u001b[0m     \u001b[38;5;66;03m#\u001b[39;00m\n\u001b[1;32m    243\u001b[0m     \u001b[38;5;66;03m# In this case we clear the connection and try again.\u001b[39;00m\n\u001b[1;32m    244\u001b[0m     pool_request\u001b[38;5;241m.\u001b[39mclear_connection()\n",
      "File \u001b[0;32m~/miniforge3/envs/prism/lib/python3.12/site-packages/httpcore/_sync/connection.py:103\u001b[0m, in \u001b[0;36mHTTPConnection.handle_request\u001b[0;34m(self, request)\u001b[0m\n\u001b[1;32m    100\u001b[0m     \u001b[38;5;28mself\u001b[39m\u001b[38;5;241m.\u001b[39m_connect_failed \u001b[38;5;241m=\u001b[39m \u001b[38;5;28;01mTrue\u001b[39;00m\n\u001b[1;32m    101\u001b[0m     \u001b[38;5;28;01mraise\u001b[39;00m exc\n\u001b[0;32m--> 103\u001b[0m \u001b[38;5;28;01mreturn\u001b[39;00m \u001b[38;5;28;43mself\u001b[39;49m\u001b[38;5;241;43m.\u001b[39;49m\u001b[43m_connection\u001b[49m\u001b[38;5;241;43m.\u001b[39;49m\u001b[43mhandle_request\u001b[49m\u001b[43m(\u001b[49m\u001b[43mrequest\u001b[49m\u001b[43m)\u001b[49m\n",
      "File \u001b[0;32m~/miniforge3/envs/prism/lib/python3.12/site-packages/httpcore/_sync/http11.py:136\u001b[0m, in \u001b[0;36mHTTP11Connection.handle_request\u001b[0;34m(self, request)\u001b[0m\n\u001b[1;32m    134\u001b[0m     \u001b[38;5;28;01mwith\u001b[39;00m Trace(\u001b[38;5;124m\"\u001b[39m\u001b[38;5;124mresponse_closed\u001b[39m\u001b[38;5;124m\"\u001b[39m, logger, request) \u001b[38;5;28;01mas\u001b[39;00m trace:\n\u001b[1;32m    135\u001b[0m         \u001b[38;5;28mself\u001b[39m\u001b[38;5;241m.\u001b[39m_response_closed()\n\u001b[0;32m--> 136\u001b[0m \u001b[38;5;28;01mraise\u001b[39;00m exc\n",
      "File \u001b[0;32m~/miniforge3/envs/prism/lib/python3.12/site-packages/httpcore/_sync/http11.py:106\u001b[0m, in \u001b[0;36mHTTP11Connection.handle_request\u001b[0;34m(self, request)\u001b[0m\n\u001b[1;32m     95\u001b[0m     \u001b[38;5;28;01mpass\u001b[39;00m\n\u001b[1;32m     97\u001b[0m \u001b[38;5;28;01mwith\u001b[39;00m Trace(\n\u001b[1;32m     98\u001b[0m     \u001b[38;5;124m\"\u001b[39m\u001b[38;5;124mreceive_response_headers\u001b[39m\u001b[38;5;124m\"\u001b[39m, logger, request, kwargs\n\u001b[1;32m     99\u001b[0m ) \u001b[38;5;28;01mas\u001b[39;00m trace:\n\u001b[1;32m    100\u001b[0m     (\n\u001b[1;32m    101\u001b[0m         http_version,\n\u001b[1;32m    102\u001b[0m         status,\n\u001b[1;32m    103\u001b[0m         reason_phrase,\n\u001b[1;32m    104\u001b[0m         headers,\n\u001b[1;32m    105\u001b[0m         trailing_data,\n\u001b[0;32m--> 106\u001b[0m     ) \u001b[38;5;241m=\u001b[39m \u001b[38;5;28;43mself\u001b[39;49m\u001b[38;5;241;43m.\u001b[39;49m\u001b[43m_receive_response_headers\u001b[49m\u001b[43m(\u001b[49m\u001b[38;5;241;43m*\u001b[39;49m\u001b[38;5;241;43m*\u001b[39;49m\u001b[43mkwargs\u001b[49m\u001b[43m)\u001b[49m\n\u001b[1;32m    107\u001b[0m     trace\u001b[38;5;241m.\u001b[39mreturn_value \u001b[38;5;241m=\u001b[39m (\n\u001b[1;32m    108\u001b[0m         http_version,\n\u001b[1;32m    109\u001b[0m         status,\n\u001b[1;32m    110\u001b[0m         reason_phrase,\n\u001b[1;32m    111\u001b[0m         headers,\n\u001b[1;32m    112\u001b[0m     )\n\u001b[1;32m    114\u001b[0m network_stream \u001b[38;5;241m=\u001b[39m \u001b[38;5;28mself\u001b[39m\u001b[38;5;241m.\u001b[39m_network_stream\n",
      "File \u001b[0;32m~/miniforge3/envs/prism/lib/python3.12/site-packages/httpcore/_sync/http11.py:177\u001b[0m, in \u001b[0;36mHTTP11Connection._receive_response_headers\u001b[0;34m(self, request)\u001b[0m\n\u001b[1;32m    174\u001b[0m timeout \u001b[38;5;241m=\u001b[39m timeouts\u001b[38;5;241m.\u001b[39mget(\u001b[38;5;124m\"\u001b[39m\u001b[38;5;124mread\u001b[39m\u001b[38;5;124m\"\u001b[39m, \u001b[38;5;28;01mNone\u001b[39;00m)\n\u001b[1;32m    176\u001b[0m \u001b[38;5;28;01mwhile\u001b[39;00m \u001b[38;5;28;01mTrue\u001b[39;00m:\n\u001b[0;32m--> 177\u001b[0m     event \u001b[38;5;241m=\u001b[39m \u001b[38;5;28;43mself\u001b[39;49m\u001b[38;5;241;43m.\u001b[39;49m\u001b[43m_receive_event\u001b[49m\u001b[43m(\u001b[49m\u001b[43mtimeout\u001b[49m\u001b[38;5;241;43m=\u001b[39;49m\u001b[43mtimeout\u001b[49m\u001b[43m)\u001b[49m\n\u001b[1;32m    178\u001b[0m     \u001b[38;5;28;01mif\u001b[39;00m \u001b[38;5;28misinstance\u001b[39m(event, h11\u001b[38;5;241m.\u001b[39mResponse):\n\u001b[1;32m    179\u001b[0m         \u001b[38;5;28;01mbreak\u001b[39;00m\n",
      "File \u001b[0;32m~/miniforge3/envs/prism/lib/python3.12/site-packages/httpcore/_sync/http11.py:217\u001b[0m, in \u001b[0;36mHTTP11Connection._receive_event\u001b[0;34m(self, timeout)\u001b[0m\n\u001b[1;32m    214\u001b[0m     event \u001b[38;5;241m=\u001b[39m \u001b[38;5;28mself\u001b[39m\u001b[38;5;241m.\u001b[39m_h11_state\u001b[38;5;241m.\u001b[39mnext_event()\n\u001b[1;32m    216\u001b[0m \u001b[38;5;28;01mif\u001b[39;00m event \u001b[38;5;129;01mis\u001b[39;00m h11\u001b[38;5;241m.\u001b[39mNEED_DATA:\n\u001b[0;32m--> 217\u001b[0m     data \u001b[38;5;241m=\u001b[39m \u001b[38;5;28;43mself\u001b[39;49m\u001b[38;5;241;43m.\u001b[39;49m\u001b[43m_network_stream\u001b[49m\u001b[38;5;241;43m.\u001b[39;49m\u001b[43mread\u001b[49m\u001b[43m(\u001b[49m\n\u001b[1;32m    218\u001b[0m \u001b[43m        \u001b[49m\u001b[38;5;28;43mself\u001b[39;49m\u001b[38;5;241;43m.\u001b[39;49m\u001b[43mREAD_NUM_BYTES\u001b[49m\u001b[43m,\u001b[49m\u001b[43m \u001b[49m\u001b[43mtimeout\u001b[49m\u001b[38;5;241;43m=\u001b[39;49m\u001b[43mtimeout\u001b[49m\n\u001b[1;32m    219\u001b[0m \u001b[43m    \u001b[49m\u001b[43m)\u001b[49m\n\u001b[1;32m    221\u001b[0m     \u001b[38;5;66;03m# If we feed this case through h11 we'll raise an exception like:\u001b[39;00m\n\u001b[1;32m    222\u001b[0m     \u001b[38;5;66;03m#\u001b[39;00m\n\u001b[1;32m    223\u001b[0m     \u001b[38;5;66;03m#     httpcore.RemoteProtocolError: can't handle event type\u001b[39;00m\n\u001b[0;32m   (...)\u001b[0m\n\u001b[1;32m    227\u001b[0m     \u001b[38;5;66;03m# perspective. Instead we handle this case distinctly and treat\u001b[39;00m\n\u001b[1;32m    228\u001b[0m     \u001b[38;5;66;03m# it as a ConnectError.\u001b[39;00m\n\u001b[1;32m    229\u001b[0m     \u001b[38;5;28;01mif\u001b[39;00m data \u001b[38;5;241m==\u001b[39m \u001b[38;5;124mb\u001b[39m\u001b[38;5;124m\"\u001b[39m\u001b[38;5;124m\"\u001b[39m \u001b[38;5;129;01mand\u001b[39;00m \u001b[38;5;28mself\u001b[39m\u001b[38;5;241m.\u001b[39m_h11_state\u001b[38;5;241m.\u001b[39mtheir_state \u001b[38;5;241m==\u001b[39m h11\u001b[38;5;241m.\u001b[39mSEND_RESPONSE:\n",
      "File \u001b[0;32m~/miniforge3/envs/prism/lib/python3.12/site-packages/httpcore/_backends/sync.py:128\u001b[0m, in \u001b[0;36mSyncStream.read\u001b[0;34m(self, max_bytes, timeout)\u001b[0m\n\u001b[1;32m    126\u001b[0m \u001b[38;5;28;01mwith\u001b[39;00m map_exceptions(exc_map):\n\u001b[1;32m    127\u001b[0m     \u001b[38;5;28mself\u001b[39m\u001b[38;5;241m.\u001b[39m_sock\u001b[38;5;241m.\u001b[39msettimeout(timeout)\n\u001b[0;32m--> 128\u001b[0m     \u001b[38;5;28;01mreturn\u001b[39;00m \u001b[38;5;28;43mself\u001b[39;49m\u001b[38;5;241;43m.\u001b[39;49m\u001b[43m_sock\u001b[49m\u001b[38;5;241;43m.\u001b[39;49m\u001b[43mrecv\u001b[49m\u001b[43m(\u001b[49m\u001b[43mmax_bytes\u001b[49m\u001b[43m)\u001b[49m\n",
      "File \u001b[0;32m~/miniforge3/envs/prism/lib/python3.12/ssl.py:1232\u001b[0m, in \u001b[0;36mSSLSocket.recv\u001b[0;34m(self, buflen, flags)\u001b[0m\n\u001b[1;32m   1228\u001b[0m     \u001b[38;5;28;01mif\u001b[39;00m flags \u001b[38;5;241m!=\u001b[39m \u001b[38;5;241m0\u001b[39m:\n\u001b[1;32m   1229\u001b[0m         \u001b[38;5;28;01mraise\u001b[39;00m \u001b[38;5;167;01mValueError\u001b[39;00m(\n\u001b[1;32m   1230\u001b[0m             \u001b[38;5;124m\"\u001b[39m\u001b[38;5;124mnon-zero flags not allowed in calls to recv() on \u001b[39m\u001b[38;5;132;01m%s\u001b[39;00m\u001b[38;5;124m\"\u001b[39m \u001b[38;5;241m%\u001b[39m\n\u001b[1;32m   1231\u001b[0m             \u001b[38;5;28mself\u001b[39m\u001b[38;5;241m.\u001b[39m\u001b[38;5;18m__class__\u001b[39m)\n\u001b[0;32m-> 1232\u001b[0m     \u001b[38;5;28;01mreturn\u001b[39;00m \u001b[38;5;28;43mself\u001b[39;49m\u001b[38;5;241;43m.\u001b[39;49m\u001b[43mread\u001b[49m\u001b[43m(\u001b[49m\u001b[43mbuflen\u001b[49m\u001b[43m)\u001b[49m\n\u001b[1;32m   1233\u001b[0m \u001b[38;5;28;01melse\u001b[39;00m:\n\u001b[1;32m   1234\u001b[0m     \u001b[38;5;28;01mreturn\u001b[39;00m \u001b[38;5;28msuper\u001b[39m()\u001b[38;5;241m.\u001b[39mrecv(buflen, flags)\n",
      "File \u001b[0;32m~/miniforge3/envs/prism/lib/python3.12/ssl.py:1105\u001b[0m, in \u001b[0;36mSSLSocket.read\u001b[0;34m(self, len, buffer)\u001b[0m\n\u001b[1;32m   1103\u001b[0m         \u001b[38;5;28;01mreturn\u001b[39;00m \u001b[38;5;28mself\u001b[39m\u001b[38;5;241m.\u001b[39m_sslobj\u001b[38;5;241m.\u001b[39mread(\u001b[38;5;28mlen\u001b[39m, buffer)\n\u001b[1;32m   1104\u001b[0m     \u001b[38;5;28;01melse\u001b[39;00m:\n\u001b[0;32m-> 1105\u001b[0m         \u001b[38;5;28;01mreturn\u001b[39;00m \u001b[38;5;28;43mself\u001b[39;49m\u001b[38;5;241;43m.\u001b[39;49m\u001b[43m_sslobj\u001b[49m\u001b[38;5;241;43m.\u001b[39;49m\u001b[43mread\u001b[49m\u001b[43m(\u001b[49m\u001b[38;5;28;43mlen\u001b[39;49m\u001b[43m)\u001b[49m\n\u001b[1;32m   1106\u001b[0m \u001b[38;5;28;01mexcept\u001b[39;00m SSLError \u001b[38;5;28;01mas\u001b[39;00m x:\n\u001b[1;32m   1107\u001b[0m     \u001b[38;5;28;01mif\u001b[39;00m x\u001b[38;5;241m.\u001b[39margs[\u001b[38;5;241m0\u001b[39m] \u001b[38;5;241m==\u001b[39m SSL_ERROR_EOF \u001b[38;5;129;01mand\u001b[39;00m \u001b[38;5;28mself\u001b[39m\u001b[38;5;241m.\u001b[39msuppress_ragged_eofs:\n",
      "\u001b[0;31mKeyboardInterrupt\u001b[0m: "
     ]
    }
   ],
   "source": [
    "if CONFIG.SYNTHESIZE:\n",
    "    # Foreach collector (so foreach domain)\n",
    "    for coll in tqdm(collection, desc='Collectors', leave=False):\n",
    "        items_count = 0\n",
    "        for mongo_item in mongo_conn.get_collected_items_by_domain(coll.get_folder_path(), skip=CONFIG.SKIP_PER_COLLECTOR, batch_size=10):\n",
    "            if items_count >= CONFIG.SYNTHESIZE_PER_COLLECTOR:\n",
    "                break\n",
    "\n",
    "            item = collected_item.CollectedItem.from_dict(mongo_item)\n",
    "            \n",
    "            if item.text == '' or item.text is None:\n",
    "                continue\n",
    "            \n",
    "            # We have multiple agents. Foreach agent, synthesize the item\n",
    "            for agent in agents:\n",
    "                # Skip if an agent if that one already did the synthesization\n",
    "                if any(synth['agent'] == agent.name for synth in item.synthetization):\n",
    "                    continue            \n",
    "\n",
    "                try:\n",
    "                    new_obj = {\n",
    "                        'agent': agent.name,\n",
    "                        'synth_obj': agent.synthesize_collected_item(item, coll)\n",
    "                    }\n",
    "                    item.synthetization.append(new_obj)\n",
    "                except Exception as ex:\n",
    "                    print(f'There was an error with item with id {item.id} from collected {coll.get_folder_path()}')\n",
    "                    print(ex)\n",
    "            items_count += 1\n",
    "            # Afterwards, update and save the changes to the db.\n",
    "            mongo_conn.update_collected_item(item)\n",
    "\n",
    "    print('Done with synthesization.')\n",
    "else:\n",
    "    print('Synthesization turned off - skipping it.')"
   ]
  },
  {
   "cell_type": "markdown",
   "metadata": {},
   "source": [
    "---------------------\n",
    "\n",
    "# Feature Extraction\n",
    "\n",
    "After we have collected and synthesized a dataset, we can now start collecting the feature space. We do that with the Detector class, give him an ensemble of models and let it extract features."
   ]
  },
  {
   "cell_type": "code",
   "execution_count": 10,
   "metadata": {},
   "outputs": [
    {
     "data": {
      "text/plain": [
       "<module 'causal_lm' from '/mnt/e/Python_Projects/PrismAI/PrismAI/src/causal_lm.py'>"
      ]
     },
     "execution_count": 10,
     "metadata": {},
     "output_type": "execute_result"
    }
   ],
   "source": [
    "import detector\n",
    "import causal_lm\n",
    "\n",
    "importlib.reload(detector)\n",
    "importlib.reload(causal_lm)"
   ]
  },
  {
   "cell_type": "markdown",
   "metadata": {},
   "source": [
    "Create the detector, which we use for feature extractio and also for prediction if we wanted (currently not). Also test the detection, which is also the feature extraction.\n",
    "\n",
    "I want to try out the following models maybe:\n",
    "- [openGPT-X/Teuken-7B-instruct-research-v0.4](https://huggingface.co/meta-llama/Llama-3.2-3B)\n",
    "- GPT2 as a cheap alternative maybe\n",
    "- [meta-llama/Llama-3.2-3B](https://huggingface.co/meta-llama/Llama-3.2-3B)"
   ]
  },
  {
   "cell_type": "code",
   "execution_count": 11,
   "metadata": {},
   "outputs": [
    {
     "name": "stdout",
     "output_type": "stream",
     "text": [
      "Created model GPT2 to device cuda:0\n",
      "Model ensemble: ['GPT2']\n",
      "\n",
      "{'metadata': {'full_text': \"In his first State of the Union address, President Joe Biden delivered an optimistic outlook on the nation's economy, celebrating its remarkable rebound while drawing a clear contrast with the policies of his predecessor, Donald Trump. Against the backdrop of ongoing challenges posed by the pandemic and geopolitical tensions, Biden sought to instill confidence in the American people and reaffirm his administration's commitment to fostering inclusive growth and resilience.\", 'ensemble': ['GPT2'], 'sample_rate': 6, 'sample_sequence_length': 12, 'min_token_length': 16, 'date': '2025-01-06 11:28:43.184215', 'seed': 42, 'signature': '06389dcec0049767d1dea3176ad6a88b3ef63782aa9628f537f3396c8272d1d7'}, 'ensemble_results': [{'model': 'GPT2', 'sample_results': [{'avg_prob': 0.40746395699776866, 'model_outputs': {'generated_text': ' Biden sought to instill confidence in the American people and reaff', 'steps': [{'step': 0, 'context': \"In his first State of the Union address, President Joe Biden delivered an optimistic outlook on the nation's economy, celebrating its remarkable rebound while drawing a clear contrast with the policies of his predecessor, Donald Trump. Against the backdrop of ongoing challenges posed by the pandemic and geopolitical tensions,\", 'token_id': 21010, 'token': ' Biden', 'token_prob': 0.42553403973579407, 'top_k_tokens': ['Mr', 'Trump', 'he', 'Biden', 'for', 'He', 'the', 'neither', 'Obama', 'his'], 'top_k_token_ids': [1770, 1301, 339, 21010, 329, 679, 262, 6159, 2486, 465], 'top_k_probs': [0.019526109099388123, 0.016206372529268265, 0.22914980351924896, 0.42553403973579407, 0.00022196289501152933, 0.00010822396870935336, 0.14305463433265686, 4.75599299534224e-05, 0.03683784231543541, 0.009953424334526062], 'target_prob': 0.42553403973579407, 'target': 'Biden', 'target_pos': 'UNKOWN'}, {'step': 1, 'context': \"In his first State of the Union address, President Joe Biden delivered an optimistic outlook on the nation's economy, celebrating its remarkable rebound while drawing a clear contrast with the policies of his predecessor, Donald Trump. Against the backdrop of ongoing challenges posed by the pandemic and geopolitical tensions, Biden\", 'token_id': 531, 'token': ' said', 'token_prob': 0.22976958751678467, 'top_k_tokens': ['recounted', 'rejected', 'conveyed', 'reiterated', 'urged', 'laid', 'said', 'warned', 'concluded', 'was'], 'top_k_token_ids': [34187, 8606, 33348, 27116, 11643, 8104, 531, 7728, 8391, 373], 'top_k_probs': [0.0004006188246421516, 0.00018918118439614773, 0.00012869971396867186, 0.0061269840225577354, 0.04812559112906456, 0.03249341621994972, 0.22976958751678467, 0.027786731719970703, 0.009905096143484116, 0.008136899210512638], 'target_prob': 0.002540929475799203, 'target': 'sought', 'target_pos': 'UNKOWN'}, {'step': 2, 'context': \"In his first State of the Union address, President Joe Biden delivered an optimistic outlook on the nation's economy, celebrating its remarkable rebound while drawing a clear contrast with the policies of his predecessor, Donald Trump. Against the backdrop of ongoing challenges posed by the pandemic and geopolitical tensions, Biden sought\", 'token_id': 284, 'token': ' to', 'token_prob': 0.960338294506073, 'top_k_tokens': ['to', 'several', 'no', 'the', 'advice', 'a', 'lessons', 'only', 'ways', 'new'], 'top_k_token_ids': [284, 1811, 645, 262, 5608, 257, 11658, 691, 2842, 649], 'top_k_probs': [0.960338294506073, 6.414281233446673e-05, 4.70706909254659e-05, 0.003504297463223338, 0.00016207524458877742, 0.011760790832340717, 6.169495463836938e-05, 7.425159128615633e-05, 0.00205039931461215, 0.00030877444078214467], 'target_prob': 0.960338294506073, 'target': 'to', 'target_pos': 'UNKOWN'}, {'step': 3, 'context': \"In his first State of the Union address, President Joe Biden delivered an optimistic outlook on the nation's economy, celebrating its remarkable rebound while drawing a clear contrast with the policies of his predecessor, Donald Trump. Against the backdrop of ongoing challenges posed by the pandemic and geopolitical tensions, Biden sought to\", 'token_id': 37762, 'token': ' reassure', 'token_prob': 0.07865992188453674, 'top_k_tokens': ['reassure', 'offset', 'repair', 'highlight', 'restore', 'break', 'move', 'share', 'ref', 'draw'], 'top_k_token_ids': [37762, 11677, 9185, 7238, 11169, 2270, 1445, 2648, 1006, 3197], 'top_k_probs': [0.07865992188453674, 0.00020550822955556214, 0.002338248072192073, 0.026156699284911156, 0.006135322153568268, 0.005247898865491152, 0.004687706008553505, 0.0016635654028505087, 0.0027519783470779657, 0.03684242069721222], 'target_prob': 0.0002463856362737715, 'target': 'inst', 'target_pos': 'UNKOWN'}, {'step': 4, 'context': \"In his first State of the Union address, President Joe Biden delivered an optimistic outlook on the nation's economy, celebrating its remarkable rebound while drawing a clear contrast with the policies of his predecessor, Donald Trump. Against the backdrop of ongoing challenges posed by the pandemic and geopolitical tensions, Biden sought to inst\", 'token_id': 359, 'token': 'ill', 'token_prob': 0.8848116397857666, 'top_k_tokens': ['ill', 'il', 'igate', 'illed', 'ate', 'iver', 'ils', 'al', 'ul', 'illing'], 'top_k_token_ids': [359, 346, 10055, 2967, 378, 1428, 4487, 282, 377, 4509], 'top_k_probs': [0.8848116397857666, 0.08656442165374756, 0.025822756811976433, 0.00012868309568148106, 0.0014444028493016958, 1.0677395039238036e-06, 1.6077481632237323e-05, 0.0002526576572563499, 3.1346473861049162e-06, 0.00018949477816931903], 'target_prob': 0.8848116397857666, 'target': 'ill', 'target_pos': 'UNKOWN'}, {'step': 5, 'context': \"In his first State of the Union address, President Joe Biden delivered an optimistic outlook on the nation's economy, celebrating its remarkable rebound while drawing a clear contrast with the policies of his predecessor, Donald Trump. Against the backdrop of ongoing challenges posed by the pandemic and geopolitical tensions, Biden sought to instill\", 'token_id': 6628, 'token': ' confidence', 'token_prob': 0.2812522351741791, 'top_k_tokens': ['confidence', 'spiritual', 'fear', 'hope', 'focus', 'more', 'in', 'something', 'a', 'respect'], 'top_k_token_ids': [6628, 8557, 3252, 2911, 2962, 517, 287, 1223, 257, 2461], 'top_k_probs': [0.2812522351741791, 2.229267374787014e-05, 0.0037109185941517353, 0.06472670286893845, 0.0003988300741184503, 0.006010653916746378, 0.05294661968946457, 0.0002095027157338336, 0.21527862548828125, 0.0006394815281964839], 'target_prob': 0.2812522351741791, 'target': 'confidence', 'target_pos': 'UNKOWN'}, {'step': 6, 'context': \"In his first State of the Union address, President Joe Biden delivered an optimistic outlook on the nation's economy, celebrating its remarkable rebound while drawing a clear contrast with the policies of his predecessor, Donald Trump. Against the backdrop of ongoing challenges posed by the pandemic and geopolitical tensions, Biden sought to instill confidence\", 'token_id': 287, 'token': ' in', 'token_prob': 0.7681654691696167, 'top_k_tokens': ['in', 'and', 'by', 'among', 'that', ',', '—', 'with', 'as', '.'], 'top_k_token_ids': [287, 290, 416, 1871, 326, 11, 851, 351, 355, 13], 'top_k_probs': [0.7681654691696167, 0.0907328650355339, 0.0037083153147250414, 0.028105370700359344, 0.06658650934696198, 0.01097310334444046, 0.0008701288606971502, 0.002811211394146085, 0.0017276345752179623, 0.0055476343259215355], 'target_prob': 0.7681654691696167, 'target': 'in', 'target_pos': 'UNKOWN'}, {'step': 7, 'context': \"In his first State of the Union address, President Joe Biden delivered an optimistic outlook on the nation's economy, celebrating its remarkable rebound while drawing a clear contrast with the policies of his predecessor, Donald Trump. Against the backdrop of ongoing challenges posed by the pandemic and geopolitical tensions, Biden sought to instill confidence in\", 'token_id': 262, 'token': ' the', 'token_prob': 0.5481078624725342, 'top_k_tokens': ['the', 'our', 'Chief', 'his', 'Americans', 'a', 'government', 'recovery', 'America', 'current'], 'top_k_token_ids': [262, 674, 5953, 465, 3399, 257, 1230, 7628, 2253, 1459], 'top_k_probs': [0.5481078624725342, 0.011623898521065712, 5.524875632545445e-06, 0.055578626692295074, 0.06503652036190033, 0.018261585384607315, 0.0052289594896137714, 8.66692207637243e-05, 0.03580276668071747, 0.000755513203330338], 'target_prob': 0.5481078624725342, 'target': 'the', 'target_pos': 'UNKOWN'}, {'step': 8, 'context': \"In his first State of the Union address, President Joe Biden delivered an optimistic outlook on the nation's economy, celebrating its remarkable rebound while drawing a clear contrast with the policies of his predecessor, Donald Trump. Against the backdrop of ongoing challenges posed by the pandemic and geopolitical tensions, Biden sought to instill confidence in the\", 'token_id': 3277, 'token': ' nation', 'token_prob': 0.24592828750610352, 'top_k_tokens': ['administration', 'nation', 'American', 'future', 'U', 'prospects', 'country', 'working', 'political', 'Democratic'], 'top_k_token_ids': [3662, 3277, 1605, 2003, 471, 13285, 1499, 1762, 1964, 4390], 'top_k_probs': [0.018375445157289505, 0.24592828750610352, 0.08487390726804733, 0.02189141884446144, 0.08290401101112366, 0.006930612493306398, 0.07670293003320694, 0.005155898164957762, 0.0057084523141384125, 0.0016853308770805597], 'target_prob': 0.08487390726804733, 'target': 'American', 'target_pos': 'UNKOWN'}, {'step': 9, 'context': \"In his first State of the Union address, President Joe Biden delivered an optimistic outlook on the nation's economy, celebrating its remarkable rebound while drawing a clear contrast with the policies of his predecessor, Donald Trump. Against the backdrop of ongoing challenges posed by the pandemic and geopolitical tensions, Biden sought to instill confidence in the American\", 'token_id': 661, 'token': ' people', 'token_prob': 0.7405385971069336, 'top_k_tokens': ['people', 'economy', 'public', 'middle', 'president', 'leadership', 'workers', 'nation', 'spirit', '\"'], 'top_k_token_ids': [661, 3773, 1171, 3504, 1893, 5531, 3259, 3277, 4437, 366], 'top_k_probs': [0.7405385971069336, 0.09803242981433868, 0.03465183824300766, 0.0037689025048166513, 0.0009224825189448893, 0.03415471687912941, 0.0102441580966115, 0.0032120763789862394, 0.003834568429738283, 0.0004207801539450884], 'target_prob': 0.7405385971069336, 'target': 'people', 'target_pos': 'UNKOWN'}, {'step': 10, 'context': \"In his first State of the Union address, President Joe Biden delivered an optimistic outlook on the nation's economy, celebrating its remarkable rebound while drawing a clear contrast with the policies of his predecessor, Donald Trump. Against the backdrop of ongoing challenges posed by the pandemic and geopolitical tensions, Biden sought to instill confidence in the American people\", 'token_id': 326, 'token': ' that', 'token_prob': 0.269022136926651, 'top_k_tokens': ['and', 'that', '.', 'while', ',', 's', 'through', \"'s\", 'amid', 'toward'], 'top_k_token_ids': [290, 326, 13, 981, 11, 82, 832, 338, 10371, 3812], 'top_k_probs': [0.18578685820102692, 0.269022136926651, 0.17561250925064087, 0.005598518531769514, 0.1353750377893448, 8.860703019308858e-06, 0.022251462563872337, 0.012694278731942177, 0.0007631362532265484, 0.0002914582728408277], 'target_prob': 0.18578685820102692, 'target': 'and', 'target_pos': 'UNKOWN'}, {'step': 11, 'context': \"In his first State of the Union address, President Joe Biden delivered an optimistic outlook on the nation's economy, celebrating its remarkable rebound while drawing a clear contrast with the policies of his predecessor, Donald Trump. Against the backdrop of ongoing challenges posed by the pandemic and geopolitical tensions, Biden sought to instill confidence in the American people and\", 'token_id': 284, 'token': ' to', 'token_prob': 0.15583859384059906, 'top_k_tokens': ['the', 'reassure', 'draw', 'to', 'willingness', 'provide', 'ass', 'close', 'their', 'through'], 'top_k_token_ids': [262, 37762, 3197, 284, 16826, 2148, 840, 1969, 511, 832], 'top_k_probs': [0.10876382142305374, 0.01940840482711792, 0.009199339896440506, 0.15583859384059906, 2.5885026843752712e-05, 0.004656204953789711, 0.00023108773166313767, 0.00019521992362570018, 0.02758048288524151, 0.0007558945217169821], 'target_prob': 0.0073712654411792755, 'target': 'reaff', 'target_pos': 'UNKOWN'}], 'context': \"In his first State of the Union address, President Joe Biden delivered an optimistic outlook on the nation's economy, celebrating its remarkable rebound while drawing a clear contrast with the policies of his predecessor, Donald Trump. Against the backdrop of ongoing challenges posed by the pandemic and geopolitical tensions,\", 'sample_sequence': ' Biden sought to instill confidence in the American people and reaff'}}, {'avg_prob': 0.1547743766568601, 'model_outputs': {'generated_text': ' its remarkable rebound while drawing a clear contrast with the policies of', 'steps': [{'step': 0, 'context': \"In his first State of the Union address, President Joe Biden delivered an optimistic outlook on the nation's economy, celebrating\", 'token_id': 262, 'token': ' the', 'token_prob': 0.40904057025909424, 'top_k_tokens': ['his', 'some', 'the', 'hard', 'that', 'economic', '\"', 'spending', 'an', 'in'], 'top_k_token_ids': [465, 617, 262, 1327, 326, 3034, 366, 4581, 281, 287], 'top_k_probs': [0.049702953547239304, 0.002019526669755578, 0.40904057025909424, 0.0002944732259493321, 0.08996198326349258, 0.01462562195956707, 0.10964333266019821, 0.00023466706625185907, 0.009776419959962368, 0.0020316115114837885], 'target_prob': 0.0292766522616148, 'target': 'its', 'target_pos': 'UNKOWN'}, {'step': 1, 'context': \"In his first State of the Union address, President Joe Biden delivered an optimistic outlook on the nation's economy, celebrating its\", 'token_id': 4371, 'token': ' progress', 'token_prob': 0.15078093111515045, 'top_k_tokens': ['successes', 'growth', 'turnaround', 'annual', 'impressive', 'progress', 'latest', '\"', 'strong', 'achievements'], 'top_k_token_ids': [23682, 3349, 34217, 5079, 8036, 4371, 3452, 366, 1913, 16970], 'top_k_probs': [0.01234036311507225, 0.07300028949975967, 0.0013180866371840239, 0.0005877154762856662, 0.0009059759322553873, 0.15078093111515045, 0.0019689842592924833, 0.13370992243289948, 0.033763859421014786, 0.021570943295955658], 'target_prob': 0.002742060925811529, 'target': 'remarkable', 'target_pos': 'UNKOWN'}, {'step': 2, 'context': \"In his first State of the Union address, President Joe Biden delivered an optimistic outlook on the nation's economy, celebrating its remarkable\", 'token_id': 3349, 'token': ' growth', 'token_prob': 0.34869635105133057, 'top_k_tokens': ['growth', 'progress', 'economic', 'recovery', 'turnaround', 'investment', 'prospects', 'expansion', 'spreading', 'resilience'], 'top_k_token_ids': [3349, 4371, 3034, 7628, 34217, 4896, 13285, 7118, 14342, 31307], 'top_k_probs': [0.34869635105133057, 0.09540977329015732, 0.05051271989941597, 0.16797654330730438, 0.03144696727395058, 0.0006925418274477124, 0.00202666106633842, 0.0029131753835827112, 8.200785828194057e-07, 0.0261138454079628], 'target_prob': 0.000988635467365384, 'target': 'rebound', 'target_pos': 'UNKOWN'}, {'step': 3, 'context': \"In his first State of the Union address, President Joe Biden delivered an optimistic outlook on the nation's economy, celebrating its remarkable rebound\", 'token_id': 422, 'token': ' from', 'token_prob': 0.22967547178268433, 'top_k_tokens': ['from', 'in', ',', 'after', '.', 'and', 'over', 'but', 'while', 'this'], 'top_k_token_ids': [422, 287, 11, 706, 13, 290, 625, 475, 981, 428], 'top_k_probs': [0.22967547178268433, 0.09084425121545792, 0.14512883126735687, 0.05065356194972992, 0.13181909918785095, 0.19072170555591583, 0.00921147782355547, 0.004661635961383581, 0.004124344792217016, 0.00453925458714366], 'target_prob': 0.004124344792217016, 'target': 'while', 'target_pos': 'UNKOWN'}, {'step': 4, 'context': \"In his first State of the Union address, President Joe Biden delivered an optimistic outlook on the nation's economy, celebrating its remarkable rebound while\", 'token_id': 635, 'token': ' also', 'token_prob': 0.1537802666425705, 'top_k_tokens': ['also', 'promising', 'saying', 'reminding', 'portrayed', 'outlining', 'she', 'laying', 'lament', 'undersc'], 'top_k_token_ids': [635, 11781, 2282, 30047, 19152, 36995, 673, 16299, 23146, 27840], 'top_k_probs': [0.1537802666425705, 0.05092886462807655, 0.028981221839785576, 0.01581571251153946, 5.601074008154683e-06, 0.005118261557072401, 6.88242944306694e-05, 0.010670953430235386, 0.014984186738729477, 0.011554702185094357], 'target_prob': 0.003592886496335268, 'target': 'drawing', 'target_pos': 'UNKOWN'}, {'step': 5, 'context': \"In his first State of the Union address, President Joe Biden delivered an optimistic outlook on the nation's economy, celebrating its remarkable rebound while drawing\", 'token_id': 319, 'token': ' on', 'token_prob': 0.09717345982789993, 'top_k_tokens': ['comparisons', 'lessons', 'common', 'on', 'bo', 'applause', 'renewed', 'criticism', 'sharp', 'momentum'], 'top_k_token_ids': [17909, 11658, 2219, 319, 1489, 28445, 16434, 7734, 7786, 12858], 'top_k_probs': [0.08805790543556213, 0.017097000032663345, 0.0006443872698582709, 0.09717345982789993, 0.0009093905100598931, 0.04068664088845253, 0.0021917913109064102, 0.029551563784480095, 0.04584479704499245, 8.298842294607311e-05], 'target_prob': 0.13780924677848816, 'target': 'a', 'target_pos': 'UNKOWN'}, {'step': 6, 'context': \"In his first State of the Union address, President Joe Biden delivered an optimistic outlook on the nation's economy, celebrating its remarkable rebound while drawing a\", 'token_id': 1627, 'token': ' line', 'token_prob': 0.18703018128871918, 'top_k_tokens': ['distinction', 'line', 'rebuke', 's', 'connection', 'comparison', 'human', 'contrast', 'clear', 'warning'], 'top_k_token_ids': [12941, 1627, 45830, 264, 4637, 7208, 1692, 6273, 1598, 6509], 'top_k_probs': [0.06324371695518494, 0.18703018128871918, 0.01766669750213623, 0.00028671693871729076, 0.002097819233313203, 0.03941779583692551, 3.5471988667268306e-05, 0.07325772196054459, 0.01461394876241684, 0.017505157738924026], 'target_prob': 0.01461394876241684, 'target': 'clear', 'target_pos': 'UNKOWN'}, {'step': 7, 'context': \"In his first State of the Union address, President Joe Biden delivered an optimistic outlook on the nation's economy, celebrating its remarkable rebound while drawing a clear\", 'token_id': 12941, 'token': ' distinction', 'token_prob': 0.3874058723449707, 'top_k_tokens': ['line', 'distinction', 'repud', '\"', 'contrast', 'link', 'est', 'criticism', 'parallel', 'lesson'], 'top_k_token_ids': [1627, 12941, 42405, 366, 6273, 2792, 395, 7734, 10730, 11483], 'top_k_probs': [0.29961538314819336, 0.3874058723449707, 3.0764800612814724e-05, 0.0019796700216829777, 0.0680232048034668, 0.003859039628878236, 2.5535877284710295e-05, 0.0008980167331174016, 0.01199856773018837, 0.02964942529797554], 'target_prob': 0.0680232048034668, 'target': 'contrast', 'target_pos': 'UNKOWN'}, {'step': 8, 'context': \"In his first State of the Union address, President Joe Biden delivered an optimistic outlook on the nation's economy, celebrating its remarkable rebound while drawing a clear contrast\", 'token_id': 351, 'token': ' with', 'token_prob': 0.4188939332962036, 'top_k_tokens': ['with', 'to', 'between', 'in', 'against', 'from', 'facing', 'of', 'back', 'for'], 'top_k_token_ids': [351, 284, 1022, 287, 1028, 422, 6476, 286, 736, 329], 'top_k_probs': [0.4188939332962036, 0.31377413868904114, 0.2550450265407562, 0.0026264332700520754, 0.0016654044156894088, 0.0016188147710636258, 2.1108783130330266e-06, 0.000566281727515161, 2.2136682673590258e-05, 0.000321370258461684], 'target_prob': 0.4188939332962036, 'target': 'with', 'target_pos': 'UNKOWN'}, {'step': 9, 'context': \"In his first State of the Union address, President Joe Biden delivered an optimistic outlook on the nation's economy, celebrating its remarkable rebound while drawing a clear contrast with\", 'token_id': 262, 'token': ' the', 'token_prob': 0.36992111802101135, 'top_k_tokens': ['the', 'Obama', 'President', 'aggressive', '\"', 'Mitt', 'president', 'his', 'current', 'arguments'], 'top_k_token_ids': [262, 2486, 1992, 8361, 366, 16627, 1893, 465, 1459, 7159], 'top_k_probs': [0.36992111802101135, 0.021448535844683647, 0.1659838706254959, 0.00011126833851449192, 0.012126736342906952, 0.0036345564294606447, 0.0006143301143310964, 0.0757700577378273, 0.006757119204849005, 8.565282769268379e-05], 'target_prob': 0.36992111802101135, 'target': 'the', 'target_pos': 'UNKOWN'}, {'step': 10, 'context': \"In his first State of the Union address, President Joe Biden delivered an optimistic outlook on the nation's economy, celebrating its remarkable rebound while drawing a clear contrast with the\", 'token_id': 3034, 'token': ' economic', 'token_prob': 0.04659184068441391, 'top_k_tokens': ['Obama', 'gloomy', 'bleak', '6', 'economic', 'electorate', '\"', 'past', 'tumultuous', 'attitude'], 'top_k_token_ids': [2486, 46400, 30942, 718, 3034, 23879, 366, 1613, 47312, 9408], 'top_k_probs': [0.03302823007106781, 0.007183515001088381, 0.007163866888731718, 7.706544420216233e-05, 0.04659184068441391, 0.00015279125364031643, 0.04272475093603134, 0.012986049056053162, 0.0016904784133657813, 6.457162817241624e-05], 'target_prob': 0.0032220680732280016, 'target': 'policies', 'target_pos': 'UNKOWN'}, {'step': 11, 'context': \"In his first State of the Union address, President Joe Biden delivered an optimistic outlook on the nation's economy, celebrating its remarkable rebound while drawing a clear contrast with the policies\", 'token_id': 286, 'token': ' of', 'token_prob': 0.8040844202041626, 'top_k_tokens': ['of', 'Obama', 'under', 'and', 'he', 'adopted', 'described', 'on', 'that', 'Trump'], 'top_k_token_ids': [286, 2486, 739, 290, 339, 8197, 3417, 319, 326, 1301], 'top_k_probs': [0.8040844202041626, 0.005382404662668705, 0.0006838524714112282, 0.020455125719308853, 0.028709132224321365, 0.00210106885060668, 7.419208850478753e-05, 0.0007423374336212873, 0.06478741019964218, 0.0007217302336357534], 'target_prob': 0.8040844202041626, 'target': 'of', 'target_pos': 'UNKOWN'}], 'context': \"In his first State of the Union address, President Joe Biden delivered an optimistic outlook on the nation's economy, celebrating\", 'sample_sequence': ' its remarkable rebound while drawing a clear contrast with the policies of'}}, {'avg_prob': 0.18986319763280335, 'model_outputs': {'generated_text': \" the nation's economy, celebrating its remarkable rebound while drawing a\", 'steps': [{'step': 0, 'context': 'In his first State of the Union address, President Joe Biden delivered an optimistic outlook on', 'token_id': 262, 'token': ' the', 'token_prob': 0.6446861624717712, 'top_k_tokens': ['the', 'all', 'his', 'election', 'President', 'Syria', 'improving', 'economic', 'America', 'a'], 'top_k_token_ids': [262, 477, 465, 3071, 1992, 4392, 10068, 3034, 2253, 257], 'top_k_probs': [0.6446861624717712, 0.0003774082288146019, 0.05599525198340416, 0.00013628104352392256, 0.004615697544068098, 0.0005907958257012069, 0.00037717216764576733, 0.011465175077319145, 0.04977699741721153, 0.026362044736742973], 'target_prob': 0.6446861624717712, 'target': 'the', 'target_pos': 'UNKOWN'}, {'step': 1, 'context': 'In his first State of the Union address, President Joe Biden delivered an optimistic outlook on the', 'token_id': 3773, 'token': ' economy', 'token_prob': 0.29927295446395874, 'top_k_tokens': ['presidential', 'A', 'economy', 'debate', 'long', 'nation', 'public', 'revival', 'political', 'American'], 'top_k_token_ids': [4787, 317, 3773, 4384, 890, 3277, 1171, 26624, 1964, 1605], 'top_k_probs': [0.00457612331956625, 3.820370329776779e-05, 0.29927295446395874, 0.0003223156672902405, 0.003179282182827592, 0.07392197102308273, 0.0002369075664319098, 2.031027906923555e-05, 0.006185250822454691, 0.005273116752505302], 'target_prob': 0.07392197102308273, 'target': 'nation', 'target_pos': 'UNKOWN'}, {'step': 2, 'context': 'In his first State of the Union address, President Joe Biden delivered an optimistic outlook on the nation', 'token_id': 338, 'token': \"'s\", 'token_prob': 0.825920581817627, 'top_k_tokens': [\"'s\", ',', 'and', '.', 'as', 'after', '…', 'that', 'following', ':'], 'top_k_token_ids': [338, 11, 290, 13, 355, 706, 1399, 326, 1708, 25], 'top_k_probs': [0.825920581817627, 0.04767584800720215, 0.03095281310379505, 0.0455554760992527, 0.009503159672021866, 0.0018939480651170015, 3.379751433385536e-05, 0.004261505324393511, 0.0002617046411614865, 0.013497649691998959], 'target_prob': 0.825920581817627, 'target': \"'s\", 'target_pos': 'UNKOWN'}, {'step': 3, 'context': \"In his first State of the Union address, President Joe Biden delivered an optimistic outlook on the nation's\", 'token_id': 2003, 'token': ' future', 'token_prob': 0.21903331577777863, 'top_k_tokens': ['security', 'energy', 'economy', 'long', 'forthcoming', 'health', 'future', 'economic', 'predicament', 'ability'], 'top_k_token_ids': [2324, 2568, 3773, 890, 21220, 1535, 2003, 3034, 44472, 2694], 'top_k_probs': [0.002593196230009198, 0.010118101723492146, 0.20767106115818024, 0.007442769128829241, 5.204811895964667e-05, 0.024999208748340607, 0.21903331577777863, 0.2032151073217392, 0.0006771262269467115, 0.008486172184348106], 'target_prob': 0.20767106115818024, 'target': 'economy', 'target_pos': 'UNKOWN'}, {'step': 4, 'context': \"In his first State of the Union address, President Joe Biden delivered an optimistic outlook on the nation's economy\", 'token_id': 11, 'token': ',', 'token_prob': 0.34747907519340515, 'top_k_tokens': ['.', 'and', ',', ':', 'as', 'on', 'divided', 'ahead', '–', '—'], 'top_k_token_ids': [13, 290, 11, 25, 355, 319, 9086, 4058, 784, 851], 'top_k_probs': [0.3240813910961151, 0.1848829835653305, 0.34747907519340515, 0.04680176079273224, 0.0095214219763875, 0.002515448722988367, 1.6699110574336373e-06, 0.0009464382310397923, 0.001446872134692967, 0.00886580441147089], 'target_prob': 0.34747907519340515, 'target': ',', 'target_pos': 'UNKOWN'}, {'step': 5, 'context': \"In his first State of the Union address, President Joe Biden delivered an optimistic outlook on the nation's economy,\", 'token_id': 10820, 'token': ' noting', 'token_prob': 0.06738334149122238, 'top_k_tokens': ['which', 'and', 'with', 'emphasizing', 'as', 'looking', 'pointing', 'but', 'noting', 'calling'], 'top_k_token_ids': [543, 290, 351, 36360, 355, 2045, 10609, 475, 10820, 4585], 'top_k_probs': [0.057530153542757034, 0.048968084156513214, 0.012234119698405266, 0.0027647200040519238, 0.00716484896838665, 0.0004982880782335997, 0.015115422196686268, 0.03615780174732208, 0.06738334149122238, 0.03494975343346596], 'target_prob': 0.00014569320774171501, 'target': 'celebrating', 'target_pos': 'UNKOWN'}, {'step': 6, 'context': \"In his first State of the Union address, President Joe Biden delivered an optimistic outlook on the nation's economy, celebrating\", 'token_id': 262, 'token': ' the', 'token_prob': 0.40904057025909424, 'top_k_tokens': ['the', 'for', 'that', 'fostering', 'Trump', 'how', '\"', 'year', 'national', 'one'], 'top_k_token_ids': [262, 329, 326, 44209, 1301, 703, 366, 614, 2260, 530], 'top_k_probs': [0.40904057025909424, 0.0009373559150844812, 0.08996198326349258, 7.584531545035134e-07, 0.0008403622778132558, 0.01726820319890976, 0.10964333266019821, 3.995978840976022e-05, 0.0006498078582808375, 0.0008502228884026408], 'target_prob': 0.0292766522616148, 'target': 'its', 'target_pos': 'UNKOWN'}, {'step': 7, 'context': \"In his first State of the Union address, President Joe Biden delivered an optimistic outlook on the nation's economy, celebrating its\", 'token_id': 4371, 'token': ' progress', 'token_prob': 0.15078093111515045, 'top_k_tokens': ['potential', 'progress', 'momentum', '\"', 'prospects', 'resilience', 'deepening', 'growth', 'new', 'improving'], 'top_k_token_ids': [2785, 4371, 12858, 366, 13285, 31307, 46539, 3349, 649, 10068], 'top_k_probs': [0.01624859869480133, 0.15078093111515045, 0.0025072882417589426, 0.13370992243289948, 0.010983285494148731, 0.02209528721868992, 0.0003292863257229328, 0.07300028949975967, 0.008488002233207226, 0.00043532918789424], 'target_prob': 0.002742060925811529, 'target': 'remarkable', 'target_pos': 'UNKOWN'}, {'step': 8, 'context': \"In his first State of the Union address, President Joe Biden delivered an optimistic outlook on the nation's economy, celebrating its remarkable\", 'token_id': 3349, 'token': ' growth', 'token_prob': 0.34869635105133057, 'top_k_tokens': ['growth', 'productivity', 'success', 'achievement', 'progress', 'recovery', 'economy', 'economic', 'record', 'resilience'], 'top_k_token_ids': [3349, 13714, 1943, 13293, 4371, 7628, 3773, 3034, 1700, 31307], 'top_k_probs': [0.34869635105133057, 0.0040765139274299145, 0.02932879701256752, 0.004600233398377895, 0.09540977329015732, 0.16797654330730438, 0.002231394639238715, 0.05051271989941597, 0.02477242983877659, 0.0261138454079628], 'target_prob': 0.000988635467365384, 'target': 'rebound', 'target_pos': 'UNKOWN'}, {'step': 9, 'context': \"In his first State of the Union address, President Joe Biden delivered an optimistic outlook on the nation's economy, celebrating its remarkable rebound\", 'token_id': 422, 'token': ' from', 'token_prob': 0.22967547178268433, 'top_k_tokens': [',', 'from', 'in', 'and', 'under', '.', 'after', 'through', 'rating', 'as'], 'top_k_token_ids': [11, 422, 287, 290, 739, 13, 706, 832, 7955, 355], 'top_k_probs': [0.14512883126735687, 0.22967547178268433, 0.09084425121545792, 0.19072170555591583, 0.011057970114052296, 0.13181909918785095, 0.05065356194972992, 0.002645644126459956, 6.6155862441519275e-06, 0.014813067391514778], 'target_prob': 0.004124344792217016, 'target': 'while', 'target_pos': 'UNKOWN'}, {'step': 10, 'context': \"In his first State of the Union address, President Joe Biden delivered an optimistic outlook on the nation's economy, celebrating its remarkable rebound while\", 'token_id': 635, 'token': ' also', 'token_prob': 0.1537802666425705, 'top_k_tokens': ['also', 'ref', 'announcing', 'laud', 'touting', 'noting', 'calling', 'creating', 'telling', 'ca'], 'top_k_token_ids': [635, 1006, 16428, 28907, 48120, 10820, 4585, 4441, 5149, 1275], 'top_k_probs': [0.1537802666425705, 0.0008226108620874584, 0.0028834212571382523, 0.005858944728970528, 0.014760659076273441, 0.03353682905435562, 0.010545909404754639, 0.00044332872494123876, 0.005247598979622126, 0.0016687579918652773], 'target_prob': 0.003592886496335268, 'target': 'drawing', 'target_pos': 'UNKOWN'}, {'step': 11, 'context': \"In his first State of the Union address, President Joe Biden delivered an optimistic outlook on the nation's economy, celebrating its remarkable rebound while drawing\", 'token_id': 257, 'token': ' a', 'token_prob': 0.13780924677848816, 'top_k_tokens': ['some', 'from', 'sharp', 'on', 'applause', 'a', 'mixed', 'casualties', 'inspiration', 'strong'], 'top_k_token_ids': [617, 422, 7786, 319, 28445, 257, 7668, 18499, 12141, 1913], 'top_k_probs': [0.023811381310224533, 0.038211070001125336, 0.04584479704499245, 0.09717345982789993, 0.04068664088845253, 0.13780924677848816, 0.0011704188073053956, 3.158245817758143e-06, 0.014286930672824383, 0.015664929524064064], 'target_prob': 0.13780924677848816, 'target': 'a', 'target_pos': 'UNKOWN'}], 'context': 'In his first State of the Union address, President Joe Biden delivered an optimistic outlook on', 'sample_sequence': \" the nation's economy, celebrating its remarkable rebound while drawing a\"}}, {'avg_prob': 0.42166972837488476, 'model_outputs': {'generated_text': \" the American people and reaffirm his administration's commitment to fostering\", 'steps': [{'step': 0, 'context': \"In his first State of the Union address, President Joe Biden delivered an optimistic outlook on the nation's economy, celebrating its remarkable rebound while drawing a clear contrast with the policies of his predecessor, Donald Trump. Against the backdrop of ongoing challenges posed by the pandemic and geopolitical tensions, Biden sought to instill confidence in\", 'token_id': 262, 'token': ' the', 'token_prob': 0.5481078624725342, 'top_k_tokens': ['the', 'our', 'a', 'American', 'policymakers', 'members', 'class', 'each', 'even', 'government'], 'top_k_token_ids': [262, 674, 257, 1605, 29484, 1866, 1398, 1123, 772, 1230], 'top_k_probs': [0.5481078624725342, 0.011623898521065712, 0.018261585384607315, 0.035242319107055664, 0.006891137454658747, 0.0006202271906659007, 2.798097966660862e-06, 0.00016883522039279342, 0.00034599151695147157, 0.0052289594896137714], 'target_prob': 0.5481078624725342, 'target': 'the', 'target_pos': 'UNKOWN'}, {'step': 1, 'context': \"In his first State of the Union address, President Joe Biden delivered an optimistic outlook on the nation's economy, celebrating its remarkable rebound while drawing a clear contrast with the policies of his predecessor, Donald Trump. Against the backdrop of ongoing challenges posed by the pandemic and geopolitical tensions, Biden sought to instill confidence in the\", 'token_id': 3277, 'token': ' nation', 'token_prob': 0.24592828750610352, 'top_k_tokens': ['electorate', 'political', 'U', 'nation', 'pre', 'United', 'country', 'American', 'president', 'role'], 'top_k_token_ids': [23879, 1964, 471, 3277, 662, 1578, 1499, 1605, 1893, 2597], 'top_k_probs': [0.0009376272791996598, 0.0057084523141384125, 0.08290401101112366, 0.24592828750610352, 0.0001250736095244065, 0.06213488057255745, 0.07670293003320694, 0.08487390726804733, 0.017637820914387703, 0.0007567344000563025], 'target_prob': 0.08487390726804733, 'target': 'American', 'target_pos': 'UNKOWN'}, {'step': 2, 'context': \"In his first State of the Union address, President Joe Biden delivered an optimistic outlook on the nation's economy, celebrating its remarkable rebound while drawing a clear contrast with the policies of his predecessor, Donald Trump. Against the backdrop of ongoing challenges posed by the pandemic and geopolitical tensions, Biden sought to instill confidence in the American\", 'token_id': 661, 'token': ' people', 'token_prob': 0.7405385971069336, 'top_k_tokens': ['people', 'public', 'government', 'economy', 'leadership', 'spirit', 'Legion', 'working', 'society', 'leaders'], 'top_k_token_ids': [661, 1171, 1230, 3773, 5531, 4437, 15778, 1762, 3592, 2766], 'top_k_probs': [0.7405385971069336, 0.03465183824300766, 0.005745662376284599, 0.09803242981433868, 0.03415471687912941, 0.003834568429738283, 1.583566154295113e-05, 0.0031020604074001312, 0.0006606481620110571, 0.00021997644216753542], 'target_prob': 0.7405385971069336, 'target': 'people', 'target_pos': 'UNKOWN'}, {'step': 3, 'context': \"In his first State of the Union address, President Joe Biden delivered an optimistic outlook on the nation's economy, celebrating its remarkable rebound while drawing a clear contrast with the policies of his predecessor, Donald Trump. Against the backdrop of ongoing challenges posed by the pandemic and geopolitical tensions, Biden sought to instill confidence in the American people\", 'token_id': 326, 'token': ' that', 'token_prob': 0.269022136926651, 'top_k_tokens': ['.', ',', 'in', 'that', 'and', \"'s\", 'by', 'as', 'during', 'through'], 'top_k_token_ids': [13, 11, 287, 326, 290, 338, 416, 355, 1141, 832], 'top_k_probs': [0.17561250925064087, 0.1353750377893448, 0.041261229664087296, 0.269022136926651, 0.18578685820102692, 0.012694278731942177, 0.033795345574617386, 0.01967223547399044, 0.0019663895945996046, 0.022251462563872337], 'target_prob': 0.18578685820102692, 'target': 'and', 'target_pos': 'UNKOWN'}, {'step': 4, 'context': \"In his first State of the Union address, President Joe Biden delivered an optimistic outlook on the nation's economy, celebrating its remarkable rebound while drawing a clear contrast with the policies of his predecessor, Donald Trump. Against the backdrop of ongoing challenges posed by the pandemic and geopolitical tensions, Biden sought to instill confidence in the American people and\", 'token_id': 284, 'token': ' to', 'token_prob': 0.15583859384059906, 'top_k_tokens': ['preserve', 'noted', 'reminded', 'to', 'the', 'convince', 'a', 'their', 'promote', 'put'], 'top_k_token_ids': [12201, 4367, 14516, 284, 262, 11508, 257, 511, 7719, 1234], 'top_k_probs': [0.001159020932391286, 0.0021924658212810755, 0.006038278806954622, 0.15583859384059906, 0.10876382142305374, 0.0012231619330123067, 0.012168562971055508, 0.02758048288524151, 0.0066671608947217464, 0.007756201550364494], 'target_prob': 0.0073712654411792755, 'target': 'reaff', 'target_pos': 'UNKOWN'}, {'step': 5, 'context': \"In his first State of the Union address, President Joe Biden delivered an optimistic outlook on the nation's economy, celebrating its remarkable rebound while drawing a clear contrast with the policies of his predecessor, Donald Trump. Against the backdrop of ongoing challenges posed by the pandemic and geopolitical tensions, Biden sought to instill confidence in the American people and reaff\", 'token_id': 15491, 'token': 'irmed', 'token_prob': 0.7197793126106262, 'top_k_tokens': ['irmed', 'irming', 'irm', 'irmation', 'irms', 'ified', 'iliate', 'ront', 'ained', 'ined'], 'top_k_token_ids': [15491, 29808, 2533, 36241, 8789, 1431, 49826, 4298, 1328, 1389], 'top_k_probs': [0.7197793126106262, 0.0025965634267777205, 0.2762449085712433, 0.0011816136538982391, 0.00018002949946094304, 7.660434420131423e-08, 4.326377620600397e-07, 7.98710743765696e-07, 9.551911972494054e-08, 1.7989888192460057e-06], 'target_prob': 0.2762449085712433, 'target': 'irm', 'target_pos': 'UNKOWN'}, {'step': 6, 'context': \"In his first State of the Union address, President Joe Biden delivered an optimistic outlook on the nation's economy, celebrating its remarkable rebound while drawing a clear contrast with the policies of his predecessor, Donald Trump. Against the backdrop of ongoing challenges posed by the pandemic and geopolitical tensions, Biden sought to instill confidence in the American people and reaffirm\", 'token_id': 465, 'token': ' his', 'token_prob': 0.424936443567276, 'top_k_tokens': ['the', 'what', 'American', 'his', 'President', 'America', 'how', 'a', 'support', 'an'], 'top_k_token_ids': [262, 644, 1605, 465, 1992, 2253, 703, 257, 1104, 281], 'top_k_probs': [0.28373464941978455, 0.008460215292870998, 0.00835986528545618, 0.424936443567276, 0.007335685193538666, 0.04398205131292343, 0.00261376379057765, 0.03244518116116524, 0.003117163199931383, 0.005393459461629391], 'target_prob': 0.424936443567276, 'target': 'his', 'target_pos': 'UNKOWN'}, {'step': 7, 'context': \"In his first State of the Union address, President Joe Biden delivered an optimistic outlook on the nation's economy, celebrating its remarkable rebound while drawing a clear contrast with the policies of his predecessor, Donald Trump. Against the backdrop of ongoing challenges posed by the pandemic and geopolitical tensions, Biden sought to instill confidence in the American people and reaffirm his\", 'token_id': 7901, 'token': ' commitment', 'token_prob': 0.5593409538269043, 'top_k_tokens': ['belief', 'pledge', 'commitment', 'strong', 'President', 'decision', 'administration', 'campaign', 'efforts', 'shared'], 'top_k_token_ids': [4901, 13995, 7901, 1913, 1992, 2551, 3662, 1923, 4040, 4888], 'top_k_probs': [0.05514109507203102, 0.01091423537582159, 0.5593409538269043, 0.00896958913654089, 0.00020601711003109813, 0.001300420262850821, 0.013921444304287434, 0.0016509238630533218, 0.0013009760295972228, 0.0008161449804902077], 'target_prob': 0.013921444304287434, 'target': 'administration', 'target_pos': 'UNKOWN'}, {'step': 8, 'context': \"In his first State of the Union address, President Joe Biden delivered an optimistic outlook on the nation's economy, celebrating its remarkable rebound while drawing a clear contrast with the policies of his predecessor, Donald Trump. Against the backdrop of ongoing challenges posed by the pandemic and geopolitical tensions, Biden sought to instill confidence in the American people and reaffirm his administration\", 'token_id': 338, 'token': \"'s\", 'token_prob': 0.9975612163543701, 'top_k_tokens': [\"'s\", 'has', 'position', '-', 'and', 'high', 'as', 'on', '�', 'goal'], 'top_k_token_ids': [338, 468, 2292, 12, 290, 1029, 355, 319, 4210, 3061], 'top_k_probs': [0.9975612163543701, 0.000140293879667297, 2.60501001321245e-05, 5.839056757395156e-05, 0.00014096310769673437, 9.965725666916114e-08, 0.00014315891894511878, 4.2599760490702465e-05, 8.677873665874358e-06, 3.722133897099411e-06], 'target_prob': 0.9975612163543701, 'target': \"'s\", 'target_pos': 'UNKOWN'}, {'step': 9, 'context': \"In his first State of the Union address, President Joe Biden delivered an optimistic outlook on the nation's economy, celebrating its remarkable rebound while drawing a clear contrast with the policies of his predecessor, Donald Trump. Against the backdrop of ongoing challenges posed by the pandemic and geopolitical tensions, Biden sought to instill confidence in the American people and reaffirm his administration's\", 'token_id': 7901, 'token': ' commitment', 'token_prob': 0.7844642400741577, 'top_k_tokens': ['commitment', 'leadership', 'drive', 'long', 'vision', 'support', 'resolve', 'economic', 'commitments', 'critical'], 'top_k_token_ids': [7901, 5531, 3708, 890, 5761, 1104, 10568, 3034, 19405, 4688], 'top_k_probs': [0.7844642400741577, 0.006306082475930452, 0.0003030876687262207, 0.013077390380203724, 0.011571615003049374, 0.007441501133143902, 0.012337671592831612, 0.0025777642149478197, 0.0031273155473172665, 0.00027428107568994164], 'target_prob': 0.7844642400741577, 'target': 'commitment', 'target_pos': 'UNKOWN'}, {'step': 10, 'context': \"In his first State of the Union address, President Joe Biden delivered an optimistic outlook on the nation's economy, celebrating its remarkable rebound while drawing a clear contrast with the policies of his predecessor, Donald Trump. Against the backdrop of ongoing challenges posed by the pandemic and geopolitical tensions, Biden sought to instill confidence in the American people and reaffirm his administration's commitment\", 'token_id': 284, 'token': ' to', 'token_prob': 0.9925022125244141, 'top_k_tokens': ['to', 'of', '--', 'for', 'as', 'at', 'and', 'both', 'by', 'not'], 'top_k_token_ids': [284, 286, 1377, 329, 355, 379, 290, 1111, 416, 407], 'top_k_probs': [0.9925022125244141, 0.00012713704199995846, 1.259305099665653e-05, 0.00018481790903024375, 0.0005081715062260628, 4.206126686767675e-05, 0.00035188195761293173, 2.3412096197716892e-05, 6.653032323811203e-05, 0.0018915572436526418], 'target_prob': 0.9925022125244141, 'target': 'to', 'target_pos': 'UNKOWN'}, {'step': 11, 'context': \"In his first State of the Union address, President Joe Biden delivered an optimistic outlook on the nation's economy, celebrating its remarkable rebound while drawing a clear contrast with the policies of his predecessor, Donald Trump. Against the backdrop of ongoing challenges posed by the pandemic and geopolitical tensions, Biden sought to instill confidence in the American people and reaffirm his administration's commitment to\", 'token_id': 262, 'token': ' the', 'token_prob': 0.12758570909500122, 'top_k_tokens': ['the', 'making', 'strengthen', 'international', 'cutting', 'secured', 'creating', 'pass', 'a', 'working'], 'top_k_token_ids': [262, 1642, 12160, 3230, 7720, 13659, 4441, 1208, 257, 1762], 'top_k_probs': [0.12758570909500122, 0.02228384092450142, 0.002323409542441368, 0.0020794677548110485, 0.004720745608210564, 1.0630311635395628e-06, 0.010569194331765175, 0.0002544756280258298, 0.04592345282435417, 0.025293322280049324], 'target_prob': 0.003727784613147378, 'target': 'fostering', 'target_pos': 'UNKOWN'}], 'context': \"In his first State of the Union address, President Joe Biden delivered an optimistic outlook on the nation's economy, celebrating its remarkable rebound while drawing a clear contrast with the policies of his predecessor, Donald Trump. Against the backdrop of ongoing challenges posed by the pandemic and geopolitical tensions, Biden sought to instill confidence in\", 'sample_sequence': \" the American people and reaffirm his administration's commitment to fostering\"}}, {'avg_prob': 0.5012467222910194, 'model_outputs': {'generated_text': ' policies of his predecessor, Donald Trump. Against the backdrop of', 'steps': [{'step': 0, 'context': \"In his first State of the Union address, President Joe Biden delivered an optimistic outlook on the nation's economy, celebrating its remarkable rebound while drawing a clear contrast with the\", 'token_id': 3034, 'token': ' economic', 'token_prob': 0.04659184068441391, 'top_k_tokens': ['\"', 'majority', 'financial', 'latest', 'lingering', 'conference', 'dec', 'tumultuous', 'disappoint', 'economic'], 'top_k_token_ids': [366, 3741, 3176, 3452, 28528, 4495, 875, 47312, 6703, 3034], 'top_k_probs': [0.04272475093603134, 7.988388097146526e-05, 0.019452769309282303, 0.0022595832124352455, 0.0009492350509390235, 1.5589568647556007e-05, 8.175956463674083e-05, 0.0016904784133657813, 0.00011917384108528495, 0.04659184068441391], 'target_prob': 0.0032220680732280016, 'target': 'policies', 'target_pos': 'UNKOWN'}, {'step': 1, 'context': \"In his first State of the Union address, President Joe Biden delivered an optimistic outlook on the nation's economy, celebrating its remarkable rebound while drawing a clear contrast with the policies\", 'token_id': 286, 'token': ' of', 'token_prob': 0.8040844202041626, 'top_k_tokens': ['of', 'be', 'he', 'and', 'undertaken', 'used', 'the', 'Obama', 'that', 'Bush'], 'top_k_token_ids': [286, 307, 339, 290, 21846, 973, 262, 2486, 326, 5511], 'top_k_probs': [0.8040844202041626, 1.3796278835798148e-05, 0.028709132224321365, 0.020455125719308853, 0.00014249929517973214, 0.00038148462772369385, 0.007339776493608952, 0.005382404662668705, 0.06478741019964218, 0.0008490511681884527], 'target_prob': 0.8040844202041626, 'target': 'of', 'target_pos': 'UNKOWN'}, {'step': 2, 'context': \"In his first State of the Union address, President Joe Biden delivered an optimistic outlook on the nation's economy, celebrating its remarkable rebound while drawing a clear contrast with the policies of\", 'token_id': 465, 'token': ' his', 'token_prob': 0.24629755318164825, 'top_k_tokens': ['presidential', 'close', 'President', 'his', 'current', 'many', 'the', 'Mrs', 'Hillary', 'past'], 'top_k_token_ids': [4787, 1969, 1992, 465, 1459, 867, 262, 9074, 5073, 1613], 'top_k_probs': [0.0003711135941557586, 2.1316696802387014e-05, 0.21843072772026062, 0.24629755318164825, 0.0028365738689899445, 0.00622445298358798, 0.2050871104001999, 0.0005087093450129032, 0.007787997368723154, 0.01551737915724516], 'target_prob': 0.24629755318164825, 'target': 'his', 'target_pos': 'UNKOWN'}, {'step': 3, 'context': \"In his first State of the Union address, President Joe Biden delivered an optimistic outlook on the nation's economy, celebrating its remarkable rebound while drawing a clear contrast with the policies of his\", 'token_id': 18476, 'token': ' predecessor', 'token_prob': 0.46969467401504517, 'top_k_tokens': ['Republican', 'predecessor', 'Democratic', 'predecessors', 'administration', 'earlier', 'first', 'political', 'former', 'new'], 'top_k_token_ids': [3415, 18476, 4390, 27677, 3662, 2961, 717, 1964, 1966, 649], 'top_k_probs': [0.0888366848230362, 0.46969467401504517, 0.08407551795244217, 0.11635919660329819, 0.01724439114332199, 0.0003048985672648996, 0.0160189401358366, 0.0019093981245532632, 0.024141764268279076, 0.0001748082140693441], 'target_prob': 0.46969467401504517, 'target': 'predecessor', 'target_pos': 'UNKOWN'}, {'step': 4, 'context': \"In his first State of the Union address, President Joe Biden delivered an optimistic outlook on the nation's economy, celebrating its remarkable rebound while drawing a clear contrast with the policies of his predecessor\", 'token_id': 11, 'token': ',', 'token_prob': 0.5033411979675293, 'top_k_tokens': [',', '.', 'and', 'Barack', '--', 'Vice', 'Donald', 'who', 'in', '-'], 'top_k_token_ids': [11, 13, 290, 8732, 438, 11079, 3759, 508, 287, 532], 'top_k_probs': [0.5033411979675293, 0.3512896001338959, 0.022938592359423637, 0.04727891460061073, 0.00039678768371231854, 6.945663335500285e-05, 0.00081734819104895, 0.00438569625839591, 0.007330999244004488, 0.0005553667433559895], 'target_prob': 0.5033411979675293, 'target': ',', 'target_pos': 'UNKOWN'}, {'step': 5, 'context': \"In his first State of the Union address, President Joe Biden delivered an optimistic outlook on the nation's economy, celebrating its remarkable rebound while drawing a clear contrast with the policies of his predecessor,\", 'token_id': 8732, 'token': ' Barack', 'token_prob': 0.3192792534828186, 'top_k_tokens': ['George', 'Jimmy', 'Barack', 'Larry', 'Hillary', 'Obama', 'President', 'who', 'his', 'Ben'], 'top_k_token_ids': [4502, 12963, 8732, 13633, 5073, 2486, 1992, 508, 465, 3932], 'top_k_probs': [0.19460055232048035, 0.010392200201749802, 0.3192792534828186, 0.00010965792171191424, 0.022619472816586494, 0.0033588544465601444, 0.1919463872909546, 0.016430504620075226, 0.004096371587365866, 0.0004884026711806655], 'target_prob': 0.0021661920472979546, 'target': 'Donald', 'target_pos': 'UNKOWN'}, {'step': 6, 'context': \"In his first State of the Union address, President Joe Biden delivered an optimistic outlook on the nation's economy, celebrating its remarkable rebound while drawing a clear contrast with the policies of his predecessor, Donald\", 'token_id': 1301, 'token': ' Trump', 'token_prob': 0.9509817361831665, 'top_k_tokens': ['Trump', 'J', 'Reagan', 'Bush', '\"', 'D', 'Obama', 'T', 'R', 'E'], 'top_k_token_ids': [1301, 449, 12823, 5511, 366, 360, 2486, 309, 371, 412], 'top_k_probs': [0.9509817361831665, 0.04143276438117027, 0.00038878811756148934, 0.00018032113439403474, 0.00012083486944902688, 0.0002797858905978501, 0.0017984515288844705, 0.0013208846794441342, 0.0010796384885907173, 0.0001369426609016955], 'target_prob': 0.9509817361831665, 'target': 'Trump', 'target_pos': 'UNKOWN'}, {'step': 7, 'context': \"In his first State of the Union address, President Joe Biden delivered an optimistic outlook on the nation's economy, celebrating its remarkable rebound while drawing a clear contrast with the policies of his predecessor, Donald Trump\", 'token_id': 13, 'token': '.', 'token_prob': 0.7939535975456238, 'top_k_tokens': ['.', ',', 'Donald', '--', ':', '.\"', 'who', 'of', '—', '.'], 'top_k_token_ids': [13, 11, 3759, 1377, 25, 526, 508, 286, 851, 764], 'top_k_probs': [0.7939535975456238, 0.1776171624660492, 0.0011115707457065582, 0.0002219095767941326, 0.009395857341587543, 0.0012808946194127202, 0.0014441038947552443, 0.0006465803016908467, 0.0014000901719555259, 0.0003330252948217094], 'target_prob': 0.7939535975456238, 'target': '.', 'target_pos': 'UNKOWN'}, {'step': 8, 'context': \"In his first State of the Union address, President Joe Biden delivered an optimistic outlook on the nation's economy, celebrating its remarkable rebound while drawing a clear contrast with the policies of his predecessor, Donald Trump.\", 'token_id': 198, 'token': '\\n', 'token_prob': 0.7981509566307068, 'top_k_tokens': ['', 'Reflect', 'He', 'All', '\"', '<|endoftext|>', 'If', 'Seven', 'The', ''], 'top_k_token_ids': [198, 36901, 679, 1439, 366, 50256, 1002, 13723, 383, 628], 'top_k_probs': [0.7981509566307068, 1.0635365470079705e-05, 0.02683185786008835, 4.23082965426147e-05, 0.05443017929792404, 0.008796178735792637, 0.00011802363587776199, 4.421252015163191e-06, 0.014491387642920017, 0.014648900367319584], 'target_prob': 5.638367838400882e-06, 'target': 'Against', 'target_pos': 'UNKOWN'}, {'step': 9, 'context': \"In his first State of the Union address, President Joe Biden delivered an optimistic outlook on the nation's economy, celebrating its remarkable rebound while drawing a clear contrast with the policies of his predecessor, Donald Trump. Against\", 'token_id': 262, 'token': ' the', 'token_prob': 0.2878171503543854, 'top_k_tokens': ['the', 'his', 'what', 'Trump', 'such', 'this', 'credentials', 'presumptive', 'more', 'all'], 'top_k_token_ids': [262, 465, 644, 1301, 884, 428, 18031, 39715, 517, 477], 'top_k_probs': [0.2878171503543854, 0.06066114455461502, 0.009586936794221401, 0.03127551078796387, 0.016272133216261864, 0.09217244386672974, 5.382862582337111e-07, 0.00044798344606533647, 0.0027255150489509106, 0.04537559300661087], 'target_prob': 0.2878171503543854, 'target': 'the', 'target_pos': 'UNKOWN'}, {'step': 10, 'context': \"In his first State of the Union address, President Joe Biden delivered an optimistic outlook on the nation's economy, celebrating its remarkable rebound while drawing a clear contrast with the policies of his predecessor, Donald Trump. Against the\", 'token_id': 26373, 'token': ' backdrop', 'token_prob': 0.9553853273391724, 'top_k_tokens': ['backdrop', 'universal', 'remarks', 'Republican', 'background', 'tide', 'president', 'expectations', 'right', 'advice'], 'top_k_token_ids': [26373, 10112, 10252, 3415, 4469, 20013, 1893, 9027, 826, 5608], 'top_k_probs': [0.9553853273391724, 2.816929963955772e-06, 4.2073447730217595e-06, 0.0010270868660882115, 0.001411228091455996, 0.00042310080607421696, 0.0009493277175351977, 0.0005847568390890956, 5.5674325267318636e-05, 0.00133683776948601], 'target_prob': 0.9553853273391724, 'target': 'backdrop', 'target_pos': 'UNKOWN'}, {'step': 11, 'context': \"In his first State of the Union address, President Joe Biden delivered an optimistic outlook on the nation's economy, celebrating its remarkable rebound while drawing a clear contrast with the policies of his predecessor, Donald Trump. Against the backdrop\", 'token_id': 286, 'token': ' of', 'token_prob': 0.9980111122131348, 'top_k_tokens': ['of', '—', ',', 'that', 'out', 'the', '.', 'to', 'in', 'likely'], 'top_k_token_ids': [286, 851, 11, 326, 503, 262, 13, 284, 287, 1884], 'top_k_probs': [0.9980111122131348, 2.81068832919118e-06, 0.0016532099107280374, 0.00010236580419586971, 9.528510531708889e-07, 1.8419386833556928e-05, 3.4979580050276127e-06, 3.451606971793808e-05, 1.565333514008671e-05, 5.6232927647670294e-08], 'target_prob': 0.9980111122131348, 'target': 'of', 'target_pos': 'UNKOWN'}], 'context': \"In his first State of the Union address, President Joe Biden delivered an optimistic outlook on the nation's economy, celebrating its remarkable rebound while drawing a clear contrast with the\", 'sample_sequence': ' policies of his predecessor, Donald Trump. Against the backdrop of'}}, {'avg_prob': 0.4041982732714284, 'model_outputs': {'generated_text': ' with the policies of his predecessor, Donald Trump. Against the', 'steps': [{'step': 0, 'context': \"In his first State of the Union address, President Joe Biden delivered an optimistic outlook on the nation's economy, celebrating its remarkable rebound while drawing a clear contrast\", 'token_id': 351, 'token': ' with', 'token_prob': 0.4188939332962036, 'top_k_tokens': ['with', 'between', 'to', 'in', 'of', 'instead', ',', ':', 'against', 'and'], 'top_k_token_ids': [351, 1022, 284, 287, 286, 2427, 11, 25, 1028, 290], 'top_k_probs': [0.4188939332962036, 0.2550450265407562, 0.31377413868904114, 0.0026264332700520754, 0.000566281727515161, 2.5948911570594646e-05, 0.0004194257198832929, 0.00017830812430474907, 0.0016654044156894088, 0.0003356913512106985], 'target_prob': 0.4188939332962036, 'target': 'with', 'target_pos': 'UNKOWN'}, {'step': 1, 'context': \"In his first State of the Union address, President Joe Biden delivered an optimistic outlook on the nation's economy, celebrating its remarkable rebound while drawing a clear contrast with\", 'token_id': 262, 'token': ' the', 'token_prob': 0.36992111802101135, 'top_k_tokens': ['the', 'a', 'President', 'something', 'current', 'World', 'business', 'Ford', 'his', 'emerging'], 'top_k_token_ids': [262, 257, 1992, 1223, 1459, 2159, 1597, 8092, 465, 11823], 'top_k_probs': [0.36992111802101135, 0.02000138722360134, 0.1659838706254959, 0.0001155816571554169, 0.006757119204849005, 0.00014031979662831873, 0.0004806065699085593, 0.00010065762762678787, 0.0757700577378273, 0.00029683500179089606], 'target_prob': 0.36992111802101135, 'target': 'the', 'target_pos': 'UNKOWN'}, {'step': 2, 'context': \"In his first State of the Union address, President Joe Biden delivered an optimistic outlook on the nation's economy, celebrating its remarkable rebound while drawing a clear contrast with the\", 'token_id': 3034, 'token': ' economic', 'token_prob': 0.04659184068441391, 'top_k_tokens': ['Obama', 'country', 'economic', 'nation', 'recession', 'Romney', 'U', 'long', 'downturn', 'aggressive'], 'top_k_token_ids': [2486, 1499, 3034, 3277, 16457, 8431, 471, 890, 34540, 8361], 'top_k_probs': [0.03302823007106781, 0.01418760884553194, 0.04659184068441391, 0.02575599029660225, 0.015337889082729816, 0.0006514541455544531, 0.021306414157152176, 0.006436658091843128, 0.0028433785773813725, 0.000641422753687948], 'target_prob': 0.0032220680732280016, 'target': 'policies', 'target_pos': 'UNKOWN'}, {'step': 3, 'context': \"In his first State of the Union address, President Joe Biden delivered an optimistic outlook on the nation's economy, celebrating its remarkable rebound while drawing a clear contrast with the policies\", 'token_id': 286, 'token': ' of', 'token_prob': 0.8040844202041626, 'top_k_tokens': ['of', 'President', 'that', 'pursued', 'implemented', 'in', 'and', 'adopted', 'he', 'championed'], 'top_k_token_ids': [286, 1992, 326, 19189, 9177, 287, 290, 8197, 339, 39257], 'top_k_probs': [0.8040844202041626, 0.002439031144604087, 0.06478741019964218, 0.010753056965768337, 0.0004961661761626601, 0.0015450642677024007, 0.020455125719308853, 0.00210106885060668, 0.028709132224321365, 0.0011043846607208252], 'target_prob': 0.8040844202041626, 'target': 'of', 'target_pos': 'UNKOWN'}, {'step': 4, 'context': \"In his first State of the Union address, President Joe Biden delivered an optimistic outlook on the nation's economy, celebrating its remarkable rebound while drawing a clear contrast with the policies of\", 'token_id': 465, 'token': ' his', 'token_prob': 0.24629755318164825, 'top_k_tokens': ['other', 'Ty', 'Republican', 'his', 'President', 'Bill', 'former', 'the', 'Congress', 'neighboring'], 'top_k_token_ids': [584, 7039, 3415, 465, 1992, 3941, 1966, 262, 3162, 19651], 'top_k_probs': [0.016240499913692474, 3.5442261037132994e-07, 0.016161639243364334, 0.24629755318164825, 0.21843072772026062, 0.0030670207925140858, 0.013628271408379078, 0.2050871104001999, 0.0020999847911298275, 4.096380507689901e-05], 'target_prob': 0.24629755318164825, 'target': 'his', 'target_pos': 'UNKOWN'}, {'step': 5, 'context': \"In his first State of the Union address, President Joe Biden delivered an optimistic outlook on the nation's economy, celebrating its remarkable rebound while drawing a clear contrast with the policies of his\", 'token_id': 18476, 'token': ' predecessor', 'token_prob': 0.46969467401504517, 'top_k_tokens': ['predecessor', 'Democratic', 'fellow', 'predecessors', 'American', 'administration', '2012', 'physician', '20', 'middle'], 'top_k_token_ids': [18476, 4390, 5891, 27677, 1605, 3662, 2321, 14325, 1160, 3504], 'top_k_probs': [0.46969467401504517, 0.08407551795244217, 0.006937130354344845, 0.11635919660329819, 0.0001847131788963452, 0.01724439114332199, 0.000789098849054426, 7.871944944781717e-07, 5.599838186753914e-05, 0.00018120685126632452], 'target_prob': 0.46969467401504517, 'target': 'predecessor', 'target_pos': 'UNKOWN'}, {'step': 6, 'context': \"In his first State of the Union address, President Joe Biden delivered an optimistic outlook on the nation's economy, celebrating its remarkable rebound while drawing a clear contrast with the policies of his predecessor\", 'token_id': 11, 'token': ',', 'token_prob': 0.5033411979675293, 'top_k_tokens': ['.', ',', ':', 'Barack', 'Democrats', 'who', 'as', \"'s\", 'and', 'President'], 'top_k_token_ids': [13, 11, 25, 8732, 4956, 508, 355, 338, 290, 1992], 'top_k_probs': [0.3512896001338959, 0.5033411979675293, 0.004991341382265091, 0.04727891460061073, 1.5083408470673021e-05, 0.00438569625839591, 0.0019139379728585482, 0.002315158722922206, 0.022938592359423637, 0.004833162762224674], 'target_prob': 0.5033411979675293, 'target': ',', 'target_pos': 'UNKOWN'}, {'step': 7, 'context': \"In his first State of the Union address, President Joe Biden delivered an optimistic outlook on the nation's economy, celebrating its remarkable rebound while drawing a clear contrast with the policies of his predecessor,\", 'token_id': 8732, 'token': ' Barack', 'token_prob': 0.3192792534828186, 'top_k_tokens': ['Barack', 'former', 'President', 'his', 'Democrat', 'Hillary', 'Kim', 'George', 'who', 'Democratic'], 'top_k_token_ids': [8732, 1966, 1992, 465, 9755, 5073, 6502, 4502, 508, 4390], 'top_k_probs': [0.3192792534828186, 0.03736383467912674, 0.1919463872909546, 0.004096371587365866, 0.015500406734645367, 0.022619472816586494, 2.284234881244629e-07, 0.19460055232048035, 0.016430504620075226, 0.007938848808407784], 'target_prob': 0.0021661920472979546, 'target': 'Donald', 'target_pos': 'UNKOWN'}, {'step': 8, 'context': \"In his first State of the Union address, President Joe Biden delivered an optimistic outlook on the nation's economy, celebrating its remarkable rebound while drawing a clear contrast with the policies of his predecessor, Donald\", 'token_id': 1301, 'token': ' Trump', 'token_prob': 0.9509817361831665, 'top_k_tokens': ['Trump', 'J', 'Reagan', 'R', 'T', 'Obama', 'George', 'John', '2002', 'H'], 'top_k_token_ids': [1301, 449, 12823, 371, 309, 2486, 4502, 1757, 6244, 367], 'top_k_probs': [0.9509817361831665, 0.04143276438117027, 0.00038878811756148934, 0.0010796384885907173, 0.0013208846794441342, 0.0017984515288844705, 4.637251913663931e-05, 7.698096305830404e-05, 4.563647166833107e-07, 0.0005047285812906921], 'target_prob': 0.9509817361831665, 'target': 'Trump', 'target_pos': 'UNKOWN'}, {'step': 9, 'context': \"In his first State of the Union address, President Joe Biden delivered an optimistic outlook on the nation's economy, celebrating its remarkable rebound while drawing a clear contrast with the policies of his predecessor, Donald Trump\", 'token_id': 13, 'token': '.', 'token_prob': 0.7939535975456238, 'top_k_tokens': [',', '.', 'and', ':', '.\"', 'or', 'president', \"'s\", 'in', '.:'], 'top_k_token_ids': [11, 13, 290, 25, 526, 393, 1893, 338, 287, 11207], 'top_k_probs': [0.1776171624660492, 0.7939535975456238, 0.004337063990533352, 0.009395857341587543, 0.0012808946194127202, 8.298483589896932e-05, 1.3901684724260122e-05, 0.001769717549905181, 0.0009215666796080768, 8.330926902999636e-06], 'target_prob': 0.7939535975456238, 'target': '.', 'target_pos': 'UNKOWN'}, {'step': 10, 'context': \"In his first State of the Union address, President Joe Biden delivered an optimistic outlook on the nation's economy, celebrating its remarkable rebound while drawing a clear contrast with the policies of his predecessor, Donald Trump.\", 'token_id': 198, 'token': '\\n', 'token_prob': 0.7981509566307068, 'top_k_tokens': ['', 'In', 'The', 'Over', '\"', '', 'Democrats', 'On', 'Biden', 'He'], 'top_k_token_ids': [198, 554, 383, 3827, 366, 628, 4956, 1550, 21010, 679], 'top_k_probs': [0.7981509566307068, 0.0077063641510903835, 0.014491387642920017, 6.707721331622452e-05, 0.05443017929792404, 0.014648900367319584, 9.00291051948443e-05, 0.001257703173905611, 0.01713741011917591, 0.02683185786008835], 'target_prob': 5.638367838400882e-06, 'target': 'Against', 'target_pos': 'UNKOWN'}, {'step': 11, 'context': \"In his first State of the Union address, President Joe Biden delivered an optimistic outlook on the nation's economy, celebrating its remarkable rebound while drawing a clear contrast with the policies of his predecessor, Donald Trump. Against\", 'token_id': 262, 'token': ' the', 'token_prob': 0.2878171503543854, 'top_k_tokens': ['further', 'the', 'populist', 'members', 'it', 'a', 'all', 'that', 'Trump', 'much'], 'top_k_token_ids': [2252, 262, 26815, 1866, 340, 257, 477, 326, 1301, 881], 'top_k_probs': [0.00020450801821425557, 0.2878171503543854, 0.0013243838911876082, 4.593719495460391e-05, 0.0028515253216028214, 0.15490365028381348, 0.04537559300661087, 0.06064032018184662, 0.03127551078796387, 0.003579398151487112], 'target_prob': 0.2878171503543854, 'target': 'the', 'target_pos': 'UNKOWN'}], 'context': \"In his first State of the Union address, President Joe Biden delivered an optimistic outlook on the nation's economy, celebrating its remarkable rebound while drawing a clear contrast\", 'sample_sequence': ' with the policies of his predecessor, Donald Trump. Against the'}}], 'avg_prob': 0.3465360425374608}]}\n"
     ]
    }
   ],
   "source": [
    "if CONFIG.EXTRACT_FEATURES:\n",
    "    if CONFIG.RUN_AS_SCRIPT:\n",
    "        det = detector.Detector(models=CONFIG.CAUSAL_LLMS, min_token_length=16)\n",
    "    else:\n",
    "        det = detector.Detector(models=['GPT2'], min_token_length=16)\n",
    "\n",
    "    test_text = \"In his first State of the Union address, President Joe Biden delivered an optimistic outlook on the nation's economy, celebrating its remarkable rebound while drawing a clear contrast with the policies of his predecessor, Donald Trump. Against the backdrop of ongoing challenges posed by the pandemic and geopolitical tensions, Biden sought to instill confidence in the American people and reaffirm his administration's commitment to fostering inclusive growth and resilience.\"\n",
    "    print(det.detect(test_text))"
   ]
  },
  {
   "cell_type": "markdown",
   "metadata": {},
   "source": [
    "If everything works, we can go through the collectors and extract the features from each text."
   ]
  },
  {
   "cell_type": "code",
   "execution_count": 12,
   "metadata": {},
   "outputs": [],
   "source": [
    "def extract_features(text):\n",
    "    try:\n",
    "        fs = det.detect(text, sample_rate=16, sample_sequence_length=32, k=100)\n",
    "        fs['metadata']['full_text'] = ''\n",
    "        return fs\n",
    "    except Exception as ex:\n",
    "        print(ex)\n",
    "        return None\n",
    "    \n",
    "def write_featured_items(featured_items, stored_path):\n",
    "    out_df = pd.DataFrame([item.__dict__ for item in featured_items])\n",
    "    out_df.to_json(stored_path)\n",
    "    print(f'Stored and wrote {len(out_df)} featured items to file {stored_path}')"
   ]
  },
  {
   "cell_type": "code",
   "execution_count": 13,
   "metadata": {},
   "outputs": [
    {
     "data": {
      "application/vnd.jupyter.widget-view+json": {
       "model_id": "21764a067114463196362adecfd86449",
       "version_major": 2,
       "version_minor": 0
      },
      "text/plain": [
       "Collectors:   0%|          | 0/1 [00:00<?, ?it/s]"
      ]
     },
     "metadata": {},
     "output_type": "display_data"
    },
    {
     "name": "stderr",
     "output_type": "stream",
     "text": [
      "Token indices sequence length is longer than the specified maximum sequence length for this model (3392 > 1024). Running this sequence through the model will result in indexing errors\n"
     ]
    },
    {
     "name": "stdout",
     "output_type": "stream",
     "text": [
      "Loaded in 1816 synthesized items.\n",
      "Already featured 0 items.\n",
      "Since force is False, items count starts at: 0\n",
      "The text must be at least 48 tokens long, got only 0.\n",
      "Stored and wrote 10 featured items to file /mnt/c/home/projects/prismAI/data/bundestag/feature_space/items_10.json\n",
      "The text must be at least 48 tokens long, got only 44.\n",
      "Featured 15 items; going to next collector.\n",
      "Stored and wrote 5 featured items to file /mnt/c/home/projects/prismAI/data/bundestag/feature_space/items_15.json\n"
     ]
    }
   ],
   "source": [
    "if CONFIG.EXTRACT_FEATURES:\n",
    "    for coll in tqdm(collection, desc='Collectors', leave=False):\n",
    "        \n",
    "        synth_items_df = pd.concat(coll.get_synthesized_items_dfs(), ignore_index=True)\n",
    "        items_count = 0\n",
    "        featured_items = []\n",
    "        meta = coll.get_meta_file()\n",
    "        if 'total_feature_extracted' not in meta:\n",
    "            meta['total_feature_extracted'] = 0\n",
    "        possible_skip = meta['total_feature_extracted']\n",
    "\n",
    "        if CONFIG.FORCE_FEATURED:\n",
    "            possible_skip = 0\n",
    "\n",
    "        print(f'Loaded in {len(synth_items_df)} synthesized items.')\n",
    "        print(f'Already featured {possible_skip} items.')\n",
    "        print(f'Since force is {CONFIG.FORCE_FEATURED}, items count starts at: {str(possible_skip)}')\n",
    "\n",
    "        for index, row in synth_items_df.iterrows():\n",
    "            \n",
    "            if items_count < possible_skip:\n",
    "                items_count += 1\n",
    "                continue\n",
    "\n",
    "            if items_count >= CONFIG.EXTRACT_FEATURES_PER_COLLECTOR:\n",
    "                print(f'Featured {items_count} items; going to next collector.')\n",
    "                break\n",
    "\n",
    "            item = collected_item.CollectedItem.from_dict(row)\n",
    "\n",
    "            # Extract features from this item here.\n",
    "            try:\n",
    "                # Do the original human text first.\n",
    "                item.feature_space = extract_features(item.text)\n",
    "\n",
    "                # Then the synth objects\n",
    "                if item.synthetization is not None:\n",
    "                    # We have multiple AI agents that did a synthesization\n",
    "                    for agent_obj in item.synthetization:\n",
    "                        synth_obj = agent_obj['synth_obj']\n",
    "                        if synth_obj is None:\n",
    "                            continue\n",
    "                        # We did synthesize chunks and fulltexts.\n",
    "                        chunks = synth_obj['synth_chunks']\n",
    "                        fulltext = synth_obj['synth_fulltext']\n",
    "                        if chunks is not None:\n",
    "                            chunks['feature_space'] = extract_features(chunks['synth_text'])\n",
    "                        if fulltext is not None:\n",
    "                            fulltext['feature_space'] = extract_features(fulltext['synth_text'])\n",
    "                featured_items.append(item)\n",
    "            except Exception as ex:\n",
    "                print('Error while extracting features from an item:')\n",
    "                print(ex)\n",
    "\n",
    "            items_count += 1\n",
    "\n",
    "            # We write and store in batches.\n",
    "            if len(featured_items) >= CONFIG.BATCH_SIZE:\n",
    "                stored_path = os.path.join(coll.get_feature_space_path(), f\"items_{items_count}.json\")\n",
    "                write_featured_items(featured_items, stored_path)\n",
    "                featured_items = []\n",
    "                # Update the meta file.\n",
    "                meta['total_feature_extracted'] = items_count\n",
    "                coll.update_meta_file(meta)\n",
    "\n",
    "        # and the final batch\n",
    "        if len(featured_items) > 0:\n",
    "            stored_path = os.path.join(coll.get_feature_space_path(), f\"items_{items_count}.json\")\n",
    "            write_featured_items(featured_items, stored_path)\n",
    "            # Update the meta file.\n",
    "            meta['total_feature_extracted'] = items_count\n",
    "            coll.update_meta_file(meta)\n"
   ]
  },
  {
   "cell_type": "code",
   "execution_count": null,
   "metadata": {},
   "outputs": [],
   "source": []
  }
 ],
 "metadata": {
  "kernelspec": {
   "display_name": "Python 3 (ipykernel)",
   "language": "python",
   "name": "python3"
  },
  "language_info": {
   "codemirror_mode": {
    "name": "ipython",
    "version": 3
   },
   "file_extension": ".py",
   "mimetype": "text/x-python",
   "name": "python",
   "nbconvert_exporter": "python",
   "pygments_lexer": "ipython3",
   "version": "3.12.7"
  }
 },
 "nbformat": 4,
 "nbformat_minor": 2
}
