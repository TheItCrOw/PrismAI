{
 "cells": [
  {
   "metadata": {},
   "cell_type": "markdown",
   "source": [
    "# About\n",
    "\n",
    "Examples on how to use the LuminarSequenceDetector on the basis of the LuminarSequenceClassifier."
   ],
   "id": "48ee13b35836de92"
  },
  {
   "metadata": {
    "ExecuteTime": {
     "end_time": "2025-09-05T08:18:41.510942Z",
     "start_time": "2025-09-05T08:18:41.443429Z"
    }
   },
   "cell_type": "code",
   "source": [
    "%load_ext autoreload\n",
    "%autoreload 2"
   ],
   "id": "7a383348c04c2758",
   "outputs": [
    {
     "name": "stdout",
     "output_type": "stream",
     "text": [
      "The autoreload extension is already loaded. To reload it, use:\n",
      "  %reload_ext autoreload\n"
     ]
    }
   ],
   "execution_count": 41
  },
  {
   "cell_type": "code",
   "id": "initial_id",
   "metadata": {
    "collapsed": true,
    "ExecuteTime": {
     "end_time": "2025-09-05T08:18:41.822178Z",
     "start_time": "2025-09-05T08:18:41.538187Z"
    }
   },
   "source": [
    "import torch\n",
    "import gc\n",
    "\n",
    "from IPython.display import display, HTML\n",
    "from luminar.detector import LuminarSequenceDetector\n",
    "from luminar.utils.cuda import get_best_device\n",
    "from luminar.sequence_classifier import LuminarSequence\n",
    "from luminar.utils import LuminarSequenceTrainingConfig, ConvolutionalLayerSpec\n",
    "from luminar.utils.visualization import visualize_detection\n",
    "\n",
    "torch.cuda.empty_cache()\n",
    "gc.collect()\n",
    "if torch.cuda.is_available():\n",
    "    with torch.cuda.device(torch.cuda.current_device()):\n",
    "        torch.cuda.empty_cache()\n",
    "        torch.cuda.ipc_collect()"
   ],
   "outputs": [],
   "execution_count": 42
  },
  {
   "metadata": {
    "ExecuteTime": {
     "end_time": "2025-09-05T08:18:41.896574Z",
     "start_time": "2025-09-05T08:18:41.854586Z"
    }
   },
   "cell_type": "code",
   "source": [
    "class Config:\n",
    "    MODEL_PATH = \"/storage/projects/boenisch/PrismAI/models/luminar_sequence/PrismAI_v2-encoded-gpt2/e1s2k2du\""
   ],
   "id": "fbf5731055a65deb",
   "outputs": [],
   "execution_count": 43
  },
  {
   "metadata": {
    "ExecuteTime": {
     "end_time": "2025-09-05T08:18:43.245503Z",
     "start_time": "2025-09-05T08:18:41.936545Z"
    }
   },
   "cell_type": "code",
   "source": [
    "# tiiuae/falcon-7b\n",
    "detector = LuminarSequenceDetector(model_path=Config.MODEL_PATH, feature_agent=\"gpt2\", device=get_best_device())"
   ],
   "id": "33dfcbc78e2bbc47",
   "outputs": [
    {
     "name": "stdout",
     "output_type": "stream",
     "text": [
      "Loading LuminarSequenceDetector from /storage/projects/boenisch/PrismAI/models/luminar_sequence/PrismAI_v2-encoded-gpt2/e1s2k2du to device cuda:3\n",
      "LuminarSequenceTrainingConfig(feature_len=512, num_intermediate_likelihoods=13, apply_delta_augmentation=False, apply_product_augmentation=True, conv_layer_shapes=[[64, 5, 1], [128, 5, 1], [64, 3, 1]], projection_dim=64, lstm_hidden_dim=128, lstm_layers=1, stack_spans=4, hf_dataset='TheItCrOw/PrismAI_v2-encoded-gpt2', dataset_root_path='/storage/projects/stoeckel/prismai/encoded/fulltext/', models_root_path='/storage/projects/boenisch/PrismAI/models/luminar_sequence/', domain=None, agent='gpt_4o_mini_gemma2_9b', feature_agent='gpt2', max_epochs=100, batch_size=128, early_stopping_patience=8, rescale_features=False, kfold=3, learning_rate=0.004, seed=42)\n",
      "Loaded.\n"
     ]
    },
    {
     "name": "stderr",
     "output_type": "stream",
     "text": [
      "[nltk_data] Downloading package punkt to\n",
      "[nltk_data]     /home/staff_homes/kboenisc/nltk_data...\n",
      "[nltk_data]   Package punkt is already up-to-date!\n"
     ]
    }
   ],
   "execution_count": 44
  },
  {
   "metadata": {
    "ExecuteTime": {
     "end_time": "2025-09-05T08:18:43.412354Z",
     "start_time": "2025-09-05T08:18:43.342044Z"
    }
   },
   "cell_type": "code",
   "source": [
    "document = \"\"\"\n",
    "What a moment to remember! Zlatan Ibrahimovic's overhead volley against England was nothing short of spectacular. Did you see that? The way he connected with the ball was pure magic! It’s not every day we witness such brilliance on the pitch. What are your thoughts on this jaw-dropping goal?\n",
    "\"\"\""
   ],
   "id": "b14fc72bcc70e37",
   "outputs": [],
   "execution_count": 45
  },
  {
   "metadata": {
    "ExecuteTime": {
     "end_time": "2025-09-05T08:18:44.058723Z",
     "start_time": "2025-09-05T08:18:43.457098Z"
    }
   },
   "cell_type": "code",
   "source": [
    "print(\"Document length:\", len(document))\n",
    "\n",
    "result = detector.detect(document)\n",
    "print(result)"
   ],
   "id": "c628a5cdf9b06ce9",
   "outputs": [
    {
     "name": "stderr",
     "output_type": "stream",
     "text": [
      "You're using a GPT2TokenizerFast tokenizer. Please note that with a fast tokenizer, using the `__call__` method is faster than using a method to encode the text followed by a call to the `pad` method to get a padded encoding.\n"
     ]
    },
    {
     "name": "stdout",
     "output_type": "stream",
     "text": [
      "Document length: 294\n",
      "tensor([[[6.3622e-06, 7.7874e-08, 5.4592e-33, 0.0000e+00, 0.0000e+00,\n",
      "          0.0000e+00, 0.0000e+00, 0.0000e+00, 0.0000e+00, 0.0000e+00,\n",
      "          0.0000e+00, 0.0000e+00, 1.0516e-02],\n",
      "         [3.2084e-05, 2.6067e-08, 1.8492e-08, 7.5986e-08, 1.3105e-07,\n",
      "          1.1779e-09, 1.5003e-12, 1.5431e-15, 1.7344e-17, 1.8784e-19,\n",
      "          8.3984e-30, 0.0000e+00, 1.5076e-03],\n",
      "         [7.7152e-06, 9.8323e-05, 4.0813e-05, 1.8469e-05, 1.5947e-05,\n",
      "          7.0180e-06, 8.3697e-05, 1.3514e-05, 1.4912e-09, 1.1850e-10,\n",
      "          8.3702e-13, 1.8794e-21, 3.3894e-02],\n",
      "         [4.8900e-05, 2.5890e-13, 2.0744e-09, 1.3011e-08, 3.6538e-08,\n",
      "          7.7174e-10, 2.2685e-09, 1.6650e-11, 7.7822e-12, 1.1519e-09,\n",
      "          2.3775e-13, 1.7161e-40, 7.4561e-02],\n",
      "         [7.2630e-06, 4.6461e-10, 7.2275e-08, 1.2999e-09, 4.2903e-10,\n",
      "          1.4010e-11, 2.1255e-11, 8.6406e-12, 4.5402e-12, 1.2517e-10,\n",
      "          1.8555e-16, 1.6911e-35, 1.4446e-01],\n",
      "         [1.6122e-05, 1.6164e-08, 2.3352e-08, 5.4332e-10, 1.0720e-11,\n",
      "          9.0885e-15, 8.3885e-16, 9.3629e-21, 2.5116e-29, 2.8382e-34,\n",
      "          7.0065e-45, 0.0000e+00, 2.3219e-04],\n",
      "         [1.8858e-05, 5.7699e-14, 4.1230e-12, 1.2769e-14, 5.1367e-17,\n",
      "          2.1937e-19, 6.7737e-23, 1.7694e-24, 1.1160e-28, 4.5270e-38,\n",
      "          0.0000e+00, 0.0000e+00, 3.3882e-03],\n",
      "         [2.0339e-07, 1.7096e-07, 5.3434e-07, 1.0055e-03, 9.1607e-05,\n",
      "          2.6638e-04, 4.0575e-03, 5.4558e-03, 1.6427e-03, 5.3074e-05,\n",
      "          1.2928e-10, 9.8590e-24, 8.8692e-01],\n",
      "         [2.2732e-05, 5.1662e-18, 3.2136e-14, 2.9090e-14, 1.1969e-15,\n",
      "          3.9049e-16, 3.4319e-12, 3.6423e-10, 2.2219e-16, 2.3519e-25,\n",
      "          5.0307e-43, 0.0000e+00, 8.1042e-01],\n",
      "         [5.3898e-05, 2.4781e-08, 3.4675e-07, 1.9063e-08, 1.3862e-08,\n",
      "          7.1674e-10, 1.7458e-12, 1.3798e-18, 2.5846e-27, 1.1854e-30,\n",
      "          1.8668e-38, 0.0000e+00, 9.1331e-01],\n",
      "         [5.3554e-08, 3.3723e-02, 1.6035e-01, 2.2779e-02, 5.4109e-03,\n",
      "          9.0423e-04, 1.7813e-03, 8.7675e-05, 5.2051e-05, 1.4081e-04,\n",
      "          1.3015e-03, 1.7136e-07, 1.0185e-01],\n",
      "         [8.1126e-06, 6.6188e-19, 7.3610e-16, 2.8317e-18, 9.1227e-21,\n",
      "          5.4154e-25, 1.0661e-25, 1.1992e-30, 1.4747e-35, 0.0000e+00,\n",
      "          0.0000e+00, 0.0000e+00, 4.3186e-05],\n",
      "         [2.9780e-05, 8.8313e-16, 1.0731e-14, 4.9373e-16, 2.8391e-17,\n",
      "          8.4461e-22, 2.1839e-25, 1.3560e-25, 2.5011e-32, 8.2120e-36,\n",
      "          2.1556e-35, 0.0000e+00, 2.7847e-03],\n",
      "         [2.3102e-06, 4.6572e-12, 3.7590e-12, 1.6501e-12, 1.2056e-12,\n",
      "          7.9308e-17, 3.3322e-19, 1.4731e-18, 5.1694e-22, 1.1833e-22,\n",
      "          2.6230e-16, 5.1907e-34, 2.3227e-02],\n",
      "         [2.0096e-05, 4.3542e-19, 7.3615e-17, 1.6144e-17, 1.4103e-18,\n",
      "          3.9885e-23, 2.2012e-25, 6.8147e-28, 7.8970e-27, 1.1996e-32,\n",
      "          1.0434e-29, 0.0000e+00, 3.0125e-03],\n",
      "         [4.5608e-06, 1.3292e-08, 6.4304e-11, 3.6692e-11, 1.9279e-12,\n",
      "          1.3880e-14, 4.4897e-16, 3.3515e-20, 2.6598e-19, 3.7165e-20,\n",
      "          2.0880e-18, 3.4772e-22, 5.5969e-02],\n",
      "         [2.1554e-05, 1.7608e-14, 1.1014e-13, 3.8943e-14, 9.4008e-15,\n",
      "          6.6282e-16, 3.3377e-16, 2.5942e-20, 3.6823e-25, 1.5470e-29,\n",
      "          4.4926e-42, 0.0000e+00, 2.2661e-03],\n",
      "         [7.7963e-06, 3.2748e-09, 1.0797e-08, 8.7558e-10, 3.0250e-09,\n",
      "          4.2882e-11, 1.2836e-12, 4.9312e-13, 1.1874e-14, 2.6374e-12,\n",
      "          5.4466e-10, 8.9627e-24, 5.8466e-01],\n",
      "         [1.9435e-05, 4.0071e-06, 5.0275e-06, 3.1811e-05, 2.9075e-07,\n",
      "          1.2216e-08, 1.2752e-09, 3.1878e-09, 1.6986e-08, 9.9977e-01,\n",
      "          1.0000e+00, 1.0000e+00, 9.9953e-01],\n",
      "         [2.8162e-05, 4.5706e-22, 5.1087e-20, 2.3499e-18, 1.7389e-19,\n",
      "          6.0930e-19, 5.1543e-12, 4.4604e-14, 5.0657e-19, 2.0616e-17,\n",
      "          1.7582e-22, 0.0000e+00, 7.5465e-02],\n",
      "         [2.0979e-06, 7.5825e-03, 3.0080e-03, 1.7323e-02, 4.0086e-02,\n",
      "          6.9179e-02, 7.0882e-02, 3.0415e-02, 5.5667e-01, 2.6855e-01,\n",
      "          9.1769e-01, 1.2013e-01, 4.7234e-01],\n",
      "         [3.0568e-05, 3.4427e-14, 5.7218e-15, 3.5795e-16, 1.7244e-16,\n",
      "          3.4612e-17, 6.4186e-20, 4.7239e-22, 3.7663e-28, 9.0912e-37,\n",
      "          0.0000e+00, 0.0000e+00, 9.2154e-04],\n",
      "         [1.0028e-05, 6.0514e-07, 3.5172e-07, 1.9796e-07, 1.8489e-07,\n",
      "          3.8167e-06, 2.3705e-06, 3.4433e-06, 1.8653e-06, 4.2487e-07,\n",
      "          8.1937e-10, 3.7685e-22, 1.4560e-01],\n",
      "         [6.9027e-05, 2.9363e-06, 4.6214e-05, 1.0426e-03, 9.9367e-04,\n",
      "          4.3167e-04, 1.6872e-03, 2.8558e-03, 3.5438e-05, 1.3865e-07,\n",
      "          2.8009e-08, 2.7524e-16, 8.8971e-02],\n",
      "         [2.2987e-05, 8.7562e-07, 1.2610e-06, 2.6104e-06, 5.3533e-06,\n",
      "          4.0139e-07, 2.5662e-06, 3.5239e-06, 8.2675e-05, 1.0445e-04,\n",
      "          2.0366e-07, 6.2592e-18, 1.4902e-01],\n",
      "         [1.1064e-04, 3.0218e-12, 6.7638e-11, 3.8869e-11, 2.2000e-10,\n",
      "          1.4602e-08, 1.9214e-07, 2.4400e-10, 9.8989e-01, 1.5313e-03,\n",
      "          5.4676e-05, 1.7404e-12, 3.3208e-01],\n",
      "         [2.7404e-05, 2.5359e-03, 4.8692e-03, 7.2396e-04, 3.5216e-03,\n",
      "          3.3355e-05, 2.6006e-04, 2.6825e-02, 2.0726e-03, 3.9118e-05,\n",
      "          3.7249e-08, 1.0626e-11, 5.7782e-02],\n",
      "         [4.1949e-05, 3.2941e-07, 8.2790e-07, 1.8536e-06, 3.8217e-06,\n",
      "          2.6307e-07, 1.0089e-06, 1.7179e-09, 1.4963e-12, 5.1988e-16,\n",
      "          2.0990e-18, 9.3678e-29, 8.7779e-03],\n",
      "         [2.4915e-05, 7.4401e-07, 6.0237e-07, 3.3527e-06, 1.6687e-06,\n",
      "          2.0856e-05, 8.9188e-07, 2.9902e-08, 6.5177e-09, 1.6965e-09,\n",
      "          3.5856e-11, 1.6154e-26, 3.4250e-01],\n",
      "         [2.4963e-05, 2.6494e-15, 2.2331e-15, 8.7505e-17, 3.3139e-17,\n",
      "          2.9255e-17, 1.5406e-21, 8.5647e-24, 3.3136e-28, 5.8955e-31,\n",
      "          1.9390e-37, 0.0000e+00, 1.4715e-03],\n",
      "         [8.7145e-06, 3.3703e-03, 5.5682e-04, 1.2739e-03, 7.6870e-04,\n",
      "          1.4554e-03, 8.1936e-04, 4.1054e-05, 3.2289e-06, 3.2269e-06,\n",
      "          2.2328e-01, 9.8064e-01, 6.3938e-01],\n",
      "         [2.2919e-04, 9.9823e-01, 9.9723e-01, 9.9478e-01, 9.9905e-01,\n",
      "          9.9983e-01, 9.9980e-01, 9.9999e-01, 1.0000e+00, 1.0000e+00,\n",
      "          1.0000e+00, 1.0000e+00, 1.7562e-01],\n",
      "         [2.5812e-05, 2.6466e-14, 7.4688e-14, 1.8724e-13, 2.9387e-13,\n",
      "          1.7491e-12, 3.8927e-13, 5.3834e-10, 4.8855e-10, 1.2528e-09,\n",
      "          1.0061e-07, 3.8039e-17, 4.1819e-01],\n",
      "         [1.2882e-05, 4.7134e-09, 8.1508e-10, 5.0153e-10, 3.0606e-08,\n",
      "          1.1868e-09, 5.3842e-11, 3.0410e-13, 1.9580e-17, 2.6438e-19,\n",
      "          3.3562e-21, 6.1406e-25, 3.6185e-02],\n",
      "         [1.8104e-05, 3.3670e-15, 1.2616e-15, 1.4663e-16, 1.0117e-17,\n",
      "          1.2724e-18, 2.2676e-23, 1.7064e-21, 4.0073e-22, 3.5625e-25,\n",
      "          3.8502e-36, 0.0000e+00, 2.7209e-03],\n",
      "         [2.2359e-05, 1.5435e-12, 1.1143e-13, 1.8225e-12, 2.5044e-14,\n",
      "          1.2047e-14, 5.9984e-15, 6.6568e-17, 2.3279e-18, 2.9626e-21,\n",
      "          2.6715e-30, 0.0000e+00, 5.8062e-02],\n",
      "         [1.2748e-05, 1.4261e-10, 2.8795e-11, 1.4391e-11, 6.1873e-12,\n",
      "          4.1303e-12, 2.4294e-14, 2.5963e-17, 1.1595e-19, 3.4390e-19,\n",
      "          1.8823e-23, 3.1925e-36, 8.0048e-02],\n",
      "         [3.9710e-05, 4.2778e-06, 6.2850e-06, 8.6938e-07, 2.8409e-05,\n",
      "          1.9909e-05, 7.1666e-07, 8.1653e-07, 3.5475e-08, 4.5996e-12,\n",
      "          8.0996e-16, 2.2278e-26, 5.3715e-02],\n",
      "         [1.5929e-05, 3.9160e-24, 1.8537e-28, 1.1277e-29, 3.3352e-31,\n",
      "          5.7032e-34, 1.4804e-36, 7.5605e-40, 0.0000e+00, 0.0000e+00,\n",
      "          0.0000e+00, 0.0000e+00, 2.9958e-08],\n",
      "         [1.2650e-05, 3.5100e-15, 1.5264e-16, 1.0813e-19, 3.0016e-19,\n",
      "          4.5924e-23, 4.7400e-24, 9.2115e-30, 2.2384e-31, 0.0000e+00,\n",
      "          0.0000e+00, 0.0000e+00, 5.7107e-04],\n",
      "         [7.1948e-07, 2.3534e-07, 3.8416e-07, 3.9668e-05, 5.4678e-06,\n",
      "          1.4408e-05, 7.0407e-03, 8.2779e-02, 9.4495e-01, 6.8404e-03,\n",
      "          1.5259e-10, 2.6352e-16, 4.1547e-02],\n",
      "         [4.9127e-05, 8.9943e-08, 2.0706e-08, 2.6233e-05, 3.4163e-03,\n",
      "          1.6703e-02, 1.6640e-02, 6.9789e-02, 6.9730e-04, 1.2813e-04,\n",
      "          1.0900e-11, 6.7541e-20, 4.7901e-02],\n",
      "         [5.1808e-05, 4.9297e-13, 3.6893e-13, 1.5207e-12, 3.0161e-13,\n",
      "          4.6776e-15, 3.3700e-15, 2.4029e-16, 4.7565e-18, 2.6387e-24,\n",
      "          1.6392e-33, 0.0000e+00, 3.9455e-03],\n",
      "         [2.9403e-05, 5.1815e-06, 2.6303e-05, 1.8176e-05, 8.9178e-07,\n",
      "          8.2273e-06, 1.5028e-03, 7.2794e-03, 1.6536e-02, 8.4033e-03,\n",
      "          3.0284e-02, 2.3365e-11, 4.9073e-01],\n",
      "         [2.9863e-05, 6.4887e-11, 1.1001e-12, 1.0726e-13, 1.8600e-14,\n",
      "          1.3188e-14, 2.7333e-15, 1.4434e-15, 4.2420e-16, 7.7111e-18,\n",
      "          9.6484e-18, 5.6205e-23, 4.2523e-02],\n",
      "         [1.5318e-05, 2.1001e-19, 1.6608e-21, 1.4231e-22, 8.1811e-23,\n",
      "          1.0007e-22, 7.2762e-23, 6.7344e-23, 3.6362e-32, 5.7934e-33,\n",
      "          3.4843e-38, 0.0000e+00, 8.2669e-04],\n",
      "         [2.7217e-06, 6.5555e-12, 2.3553e-13, 9.1681e-15, 3.0368e-14,\n",
      "          9.2842e-16, 1.5345e-16, 3.4459e-16, 5.5605e-18, 6.3669e-20,\n",
      "          6.2866e-22, 1.1355e-32, 6.2340e-02],\n",
      "         [1.1145e-05, 2.1819e-25, 3.0401e-25, 1.2002e-26, 9.0934e-29,\n",
      "          7.6924e-33, 4.5445e-36, 2.1849e-40, 5.7453e-44, 0.0000e+00,\n",
      "          0.0000e+00, 0.0000e+00, 1.3746e-02],\n",
      "         [5.2370e-07, 2.4089e-08, 1.8700e-09, 1.9907e-09, 1.2030e-11,\n",
      "          1.9645e-12, 2.5916e-14, 2.9354e-16, 2.9396e-19, 6.4277e-18,\n",
      "          3.1116e-19, 1.8197e-23, 2.0135e-02],\n",
      "         [2.9190e-04, 9.9953e-01, 9.9986e-01, 9.9997e-01, 9.9997e-01,\n",
      "          9.9996e-01, 9.9999e-01, 9.9999e-01, 1.0000e+00, 1.0000e+00,\n",
      "          1.0000e+00, 1.0000e+00, 4.8661e-01],\n",
      "         [2.2183e-05, 5.4628e-20, 2.9100e-20, 2.8131e-19, 2.9870e-19,\n",
      "          1.4736e-19, 1.0364e-19, 2.2721e-22, 1.3601e-23, 1.8190e-21,\n",
      "          4.7929e-18, 1.7145e-34, 7.2889e-01],\n",
      "         [2.3309e-06, 2.5842e-03, 2.8513e-03, 1.2684e-02, 6.6940e-03,\n",
      "          9.0945e-04, 2.3260e-02, 1.1267e-02, 9.7484e-02, 5.6845e-01,\n",
      "          9.8725e-01, 9.9816e-01, 4.5674e-01],\n",
      "         [6.3113e-05, 2.6586e-11, 1.5510e-11, 6.0450e-12, 5.8530e-11,\n",
      "          6.6964e-11, 4.5736e-12, 1.9171e-13, 6.2469e-17, 6.8233e-24,\n",
      "          1.6617e-33, 6.0256e-44, 6.5818e-03],\n",
      "         [2.5463e-05, 7.9865e-09, 1.0888e-09, 2.9879e-09, 2.3364e-08,\n",
      "          1.0620e-06, 8.5029e-08, 2.8574e-08, 1.4261e-08, 1.2174e-08,\n",
      "          7.5589e-14, 1.9817e-33, 9.8679e-03],\n",
      "         [6.0618e-05, 1.5635e-12, 2.9459e-13, 6.4257e-14, 1.1041e-13,\n",
      "          3.0407e-13, 7.0514e-12, 2.2276e-12, 1.0178e-10, 4.4759e-12,\n",
      "          3.5389e-21, 8.0467e-38, 3.8332e-02],\n",
      "         [3.2812e-05, 3.1718e-17, 1.3961e-16, 1.5245e-16, 7.9835e-14,\n",
      "          1.4964e-13, 3.8872e-11, 7.6562e-10, 1.1069e-03, 9.9930e-01,\n",
      "          3.4751e-01, 2.6300e-12, 6.9604e-01],\n",
      "         [2.6225e-06, 1.9772e-06, 3.2144e-07, 1.5954e-07, 1.7186e-07,\n",
      "          1.0075e-07, 5.5121e-07, 1.4695e-06, 1.1505e-05, 5.0834e-05,\n",
      "          1.1216e-04, 6.8794e-03, 4.9727e-01],\n",
      "         [1.5798e-04, 7.4702e-10, 4.9898e-10, 1.0768e-09, 1.0541e-09,\n",
      "          3.7258e-10, 3.5673e-10, 1.2422e-09, 3.2764e-10, 1.0738e-09,\n",
      "          9.5374e-16, 1.7086e-25, 1.3386e-01],\n",
      "         [1.3375e-05, 1.2975e-25, 1.4532e-27, 2.1776e-29, 2.3842e-33,\n",
      "          5.2338e-37, 3.1221e-42, 2.8026e-45, 0.0000e+00, 0.0000e+00,\n",
      "          0.0000e+00, 0.0000e+00, 3.1455e-05],\n",
      "         [1.0075e-06, 3.5635e-01, 5.0065e-01, 7.6803e-01, 8.4209e-01,\n",
      "          9.8177e-01, 9.9983e-01, 1.0000e+00, 1.0000e+00, 1.0000e+00,\n",
      "          1.0000e+00, 1.0000e+00, 6.0194e-01],\n",
      "         [1.7329e-05, 1.9220e-27, 7.1629e-28, 3.1329e-26, 3.0229e-25,\n",
      "          1.4319e-23, 3.0231e-19, 3.5697e-16, 5.4488e-14, 3.2043e-06,\n",
      "          9.8438e-01, 3.0594e-24, 9.8478e-01],\n",
      "         [3.8847e-08, 5.9599e-20, 1.0159e-22, 3.1847e-23, 2.0811e-25,\n",
      "          3.2568e-29, 1.4344e-32, 9.6323e-35, 2.3554e-36, 5.3530e-43,\n",
      "          5.0639e-41, 0.0000e+00, 1.9328e-01],\n",
      "         [1.0915e-05, 7.2247e-11, 1.0457e-12, 3.5326e-14, 4.7526e-17,\n",
      "          5.5783e-18, 6.8193e-18, 2.6527e-21, 2.4304e-20, 2.4424e-15,\n",
      "          8.9268e-18, 1.6753e-07, 6.3588e-01]]], device='cuda:3')\n",
      "[[(0, 6), (6, 22), (22, 27), (27, 38), (38, 53), (53, 63)]]\n",
      "{'avg': 71.66674733161926, 'probs': [58.15282464027405, 87.62794137001038, 90.28005599975586, 48.15889894962311, 58.15282464027405, 87.62794137001038], 'token_spans': [(0, 6), (6, 22), (22, 27), (27, 38), (38, 53), (53, 63)], 'char_spans': [(0, 26), (26, 113), (113, 131), (131, 182), (182, 242), (242, 291)]}\n"
     ]
    }
   ],
   "execution_count": 46
  },
  {
   "metadata": {
    "ExecuteTime": {
     "end_time": "2025-09-05T08:18:44.153063Z",
     "start_time": "2025-09-05T08:18:44.109584Z"
    }
   },
   "cell_type": "code",
   "source": [
    "html_output = visualize_detection(document, result)\n",
    "HTML(html_output)"
   ],
   "id": "f029337014b04b5c",
   "outputs": [
    {
     "data": {
      "text/plain": [
       "<IPython.core.display.HTML object>"
      ],
      "text/html": [
       "<div style='line-height:1.6; font-family:monospace;'><span style=\"background-color:rgba(148, 106, 100, 0.5); padding:1px 3px; border-radius:3px; margin-right:2px;\" title=\"AI probability: 58.15\">\n",
       "What a moment to remember</span><span style=\"font-size: 0.8em; color: #555; margin-right: 6px; background-color: ghostwhite; border: gray 1px solid; padding:1px 3px; border-radius:3px;\">(58.15%)</span><span style=\"background-color:rgba(223, 31, 100, 0.5); padding:1px 3px; border-radius:3px; margin-right:2px;\" title=\"AI probability: 87.63\">! Zlatan Ibrahimovic&#x27;s overhead volley against England was nothing short of spectacular</span><span style=\"font-size: 0.8em; color: #555; margin-right: 6px; background-color: ghostwhite; border: gray 1px solid; padding:1px 3px; border-radius:3px;\">(87.63%)</span><span style=\"background-color:rgba(230, 24, 100, 0.5); padding:1px 3px; border-radius:3px; margin-right:2px;\" title=\"AI probability: 90.28\">. Did you see that</span><span style=\"font-size: 0.8em; color: #555; margin-right: 6px; background-color: ghostwhite; border: gray 1px solid; padding:1px 3px; border-radius:3px;\">(90.28%)</span><span style=\"background-color:rgba(122, 132, 100, 0.5); padding:1px 3px; border-radius:3px; margin-right:2px;\" title=\"AI probability: 48.16\">? The way he connected with the ball was pure magic</span><span style=\"font-size: 0.8em; color: #555; margin-right: 6px; background-color: ghostwhite; border: gray 1px solid; padding:1px 3px; border-radius:3px;\">(48.16%)</span><span style=\"background-color:rgba(148, 106, 100, 0.5); padding:1px 3px; border-radius:3px; margin-right:2px;\" title=\"AI probability: 58.15\">! It’s not every day we witness such brilliance on the pitch</span><span style=\"font-size: 0.8em; color: #555; margin-right: 6px; background-color: ghostwhite; border: gray 1px solid; padding:1px 3px; border-radius:3px;\">(58.15%)</span><span style=\"background-color:rgba(223, 31, 100, 0.5); padding:1px 3px; border-radius:3px; margin-right:2px;\" title=\"AI probability: 87.63\">. What are your thoughts on this jaw-dropping goa</span><span style=\"font-size: 0.8em; color: #555; margin-right: 6px; background-color: ghostwhite; border: gray 1px solid; padding:1px 3px; border-radius:3px;\">(87.63%)</span>l?\n",
       "</div>"
      ]
     },
     "execution_count": 47,
     "metadata": {},
     "output_type": "execute_result"
    }
   ],
   "execution_count": 47
  }
 ],
 "metadata": {
  "kernelspec": {
   "display_name": "Python 3",
   "language": "python",
   "name": "python3"
  },
  "language_info": {
   "codemirror_mode": {
    "name": "ipython",
    "version": 2
   },
   "file_extension": ".py",
   "mimetype": "text/x-python",
   "name": "python",
   "nbconvert_exporter": "python",
   "pygments_lexer": "ipython2",
   "version": "2.7.6"
  }
 },
 "nbformat": 4,
 "nbformat_minor": 5
}
