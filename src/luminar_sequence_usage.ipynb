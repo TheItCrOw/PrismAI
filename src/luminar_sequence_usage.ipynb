{
 "cells": [
  {
   "cell_type": "markdown",
   "id": "48ee13b35836de92",
   "metadata": {},
   "source": [
    "# About\n",
    "\n",
    "Examples on how to use the LuminarSequenceDetector on the basis of the LuminarSequenceClassifier."
   ]
  },
  {
   "cell_type": "code",
   "execution_count": 1,
   "id": "7a383348c04c2758",
   "metadata": {
    "ExecuteTime": {
     "end_time": "2025-09-17T10:06:39.129463Z",
     "start_time": "2025-09-17T10:06:38.739664Z"
    }
   },
   "outputs": [],
   "source": [
    "%load_ext autoreload\n",
    "%autoreload 2"
   ]
  },
  {
   "cell_type": "code",
   "execution_count": 2,
   "id": "initial_id",
   "metadata": {
    "ExecuteTime": {
     "end_time": "2025-09-17T10:06:59.856336Z",
     "start_time": "2025-09-17T10:06:39.258756Z"
    },
    "collapsed": true
   },
   "outputs": [],
   "source": [
    "import torch\n",
    "import gc\n",
    "\n",
    "from IPython.display import display, HTML\n",
    "from luminar.detector import LuminarSequenceDetector\n",
    "from luminar.utils.cuda import get_best_device\n",
    "from luminar.sequence_classifier import LuminarSequence\n",
    "from luminar.utils import LuminarSequenceTrainingConfig, ConvolutionalLayerSpec\n",
    "from luminar.utils.visualization import visualize_detection\n",
    "\n",
    "torch.cuda.empty_cache()\n",
    "gc.collect()\n",
    "if torch.cuda.is_available():\n",
    "    with torch.cuda.device(torch.cuda.current_device()):\n",
    "        torch.cuda.empty_cache()\n",
    "        torch.cuda.ipc_collect()"
   ]
  },
  {
   "cell_type": "code",
   "execution_count": 3,
   "id": "fbf5731055a65deb",
   "metadata": {
    "ExecuteTime": {
     "end_time": "2025-09-17T10:07:00.320884Z",
     "start_time": "2025-09-17T10:06:59.875232Z"
    }
   },
   "outputs": [],
   "source": [
    "class Config:\n",
    "    # \"/storage/projects/boenisch/PrismAI/models/luminar_sequence/PrismAI_v2-encoded-gpt2/e1s2k2du\"\n",
    "    MODEL_PATH = \"TheItCrOw/LuminarSeq\""
   ]
  },
  {
   "cell_type": "code",
   "execution_count": 4,
   "id": "33dfcbc78e2bbc47",
   "metadata": {
    "ExecuteTime": {
     "end_time": "2025-09-17T10:07:04.663220Z",
     "start_time": "2025-09-17T10:07:00.389543Z"
    }
   },
   "outputs": [
    {
     "name": "stdout",
     "output_type": "stream",
     "text": [
      "Loading LuminarSequenceDetector from TheItCrOw/LuminarSeq to device cuda:0\n",
      "LuminarSequenceTrainingConfig(feature_len=512, num_intermediate_likelihoods=13, apply_delta_augmentation=False, apply_product_augmentation=True, weighted_sampling=False, conv_layer_shapes=[[32, 5, 1], [64, 5, 1], [32, 3, 1]], projection_dim=128, lstm_hidden_dim=256, lstm_layers=1, stack_spans=4, hf_dataset='TheItCrOw/MAGE-encoded-gpt2', dataset_root_path='/storage/projects/stoeckel/prismai/encoded/fulltext/', models_root_path='/storage/projects/boenisch/PrismAI/models/luminar_sequence/', domain=None, agent='gpt_4o_mini_gemma2_9b', feature_agent='gpt2', max_epochs=100, batch_size=128, early_stopping_patience=8, rescale_features=False, kfold=3, learning_rate=0.004, seed=42)\n",
      "Loaded.\n"
     ]
    },
    {
     "name": "stderr",
     "output_type": "stream",
     "text": [
      "[nltk_data] Downloading package punkt to\n",
      "[nltk_data]     /home/staff_homes/kboenisc/nltk_data...\n",
      "[nltk_data]   Package punkt is already up-to-date!\n"
     ]
    }
   ],
   "source": [
    "# tiiuae/falcon-7b\n",
    "detector = LuminarSequenceDetector(model_path=Config.MODEL_PATH, feature_agent=\"gpt2\", device=get_best_device())"
   ]
  },
  {
   "cell_type": "code",
   "execution_count": 5,
   "id": "b14fc72bcc70e37",
   "metadata": {
    "ExecuteTime": {
     "end_time": "2025-09-17T10:08:00.009681Z",
     "start_time": "2025-09-17T10:07:57.123500Z"
    }
   },
   "outputs": [],
   "source": [
    "document = \"\"\"\n",
    "current and upcoming surveys will measure the cosmological parameters with an extremely high accuracy . the primary goal of these observations is to eliminate some of the currently viable cosmological models created to explain the late time accelerated expansion ( either real or only inferred ) . however , most of the statistical tests used in cosmology have a strong requirement : the use of a model to fit the data . these statistical tests are usually based on the normal , or Gaussian , distribution . this distribution is defined by two basic parameters : the mean and the variance ( also referred to as standard deviation or simply \"σ\") . the hypothesis that we test , which is referred to as the \"Model\" , is also defined by only two parameters : the \"F\" and the \"ω\" values ; defined by : F(ω) = σ(ω) 2 - (σF)2. The observed data in the analysis is given by . where \"s\" is the square amplitude of the CMB temperature vector and is associated with the \"angular power spectrum\" while is the amplitude of the CMB temperature vector and is associated with the \"angular power spectrum\" . the observed data in the analysis is given by : where \"s\" is the square amplitude of the CMB temperature vector and is associated with the \"angular power spectrum\" while is the amplitude of the CMB temperature vector and is associated with the \"angular power spectrum\" . it is not very useful when dealing with a theoretical distribution that is not in a normal case, such as the CMB , which is defined by : where is the scalar function describing the temperature distribution , and is defined by . the inverse cumulative density is defined by . so, the inverse probability is simply equal to : The assumption is basically: the data we are observing is normally distributed and our model is exactly correct. we use the data to construct the probability for our hypothesis: .\n",
    "when using an iterative method to solve for the initial parameters ( ω , F ) of a statistical model , the method must be based on some form of a \"\n",
    "\"\"\""
   ]
  },
  {
   "cell_type": "code",
   "execution_count": 6,
   "id": "c628a5cdf9b06ce9",
   "metadata": {
    "ExecuteTime": {
     "end_time": "2025-09-17T10:08:00.596079Z",
     "start_time": "2025-09-17T10:08:00.124460Z"
    }
   },
   "outputs": [
    {
     "name": "stderr",
     "output_type": "stream",
     "text": [
      "You're using a GPT2TokenizerFast tokenizer. Please note that with a fast tokenizer, using the `__call__` method is faster than using a method to encode the text followed by a call to the `pad` method to get a padded encoding.\n"
     ]
    },
    {
     "name": "stdout",
     "output_type": "stream",
     "text": [
      "Document length: 2015\n",
      "{'avg': 41.33349061012268, 'probs': [23.08170050382614, 10.568853467702866, 12.825265526771545, 40.45039117336273, 79.97509241104126, 10.568853467702866, 12.825265526771545, 40.45039117336273, 86.18561625480652, 19.017255306243896, 71.19887471199036, 43.53920519351959, 79.09947633743286, 19.017255306243896, 71.19887471199036], 'token_spans': [(0, 17), (17, 51), (51, 78), (78, 94), (94, 121), (121, 177), (177, 187), (187, 232), (232, 255), (256, 273), (273, 307), (307, 334), (334, 350), (350, 377), (377, 416)], 'char_spans': [(0, 103), (103, 297), (297, 426), (426, 512), (512, 650), (650, 824), (824, 874), (874, 1095), (1095, 1203), (1207, 1289), (1289, 1467), (1467, 1602), (1602, 1686), (1686, 1832), (1832, 2011)]}\n"
     ]
    }
   ],
   "source": [
    "print(\"Document length:\", len(document))\n",
    "\n",
    "result = detector.detect(document)\n",
    "print(result)"
   ]
  },
  {
   "cell_type": "code",
   "execution_count": 7,
   "id": "f029337014b04b5c",
   "metadata": {
    "ExecuteTime": {
     "end_time": "2025-09-17T10:08:01.045416Z",
     "start_time": "2025-09-17T10:08:00.659870Z"
    }
   },
   "outputs": [
    {
     "data": {
      "text/html": [
       "<div style='line-height:1.6; font-family:monospace;'><span style=\"background-color:rgba(58, 196, 100, 0.5); padding:1px 3px; border-radius:3px; margin-right:2px;\" title=\"AI probability: 23.08\">\n",
       "current and upcoming surveys will measure the cosmological parameters with an extremely high accuracy </span><span style=\"font-size: 0.8em; color: #555; margin-right: 6px; background-color: ghostwhite; border: gray 1px solid; padding:1px 3px; border-radius:3px;\">(23.08%)</span><span style=\"background-color:rgba(26, 228, 100, 0.5); padding:1px 3px; border-radius:3px; margin-right:2px;\" title=\"AI probability: 10.57\">. the primary goal of these observations is to eliminate some of the currently viable cosmological models created to explain the late time accelerated expansion ( either real or only inferred ) </span><span style=\"font-size: 0.8em; color: #555; margin-right: 6px; background-color: ghostwhite; border: gray 1px solid; padding:1px 3px; border-radius:3px;\">(10.57%)</span><span style=\"background-color:rgba(32, 222, 100, 0.5); padding:1px 3px; border-radius:3px; margin-right:2px;\" title=\"AI probability: 12.83\">. however , most of the statistical tests used in cosmology have a strong requirement : the use of a model to fit the data . thes</span><span style=\"font-size: 0.8em; color: #555; margin-right: 6px; background-color: ghostwhite; border: gray 1px solid; padding:1px 3px; border-radius:3px;\">(12.83%)</span><span style=\"background-color:rgba(103, 151, 100, 0.5); padding:1px 3px; border-radius:3px; margin-right:2px;\" title=\"AI probability: 40.45\">e statistical tests are usually based on the normal , or Gaussian , distribution . thi</span><span style=\"font-size: 0.8em; color: #555; margin-right: 6px; background-color: ghostwhite; border: gray 1px solid; padding:1px 3px; border-radius:3px;\">(40.45%)</span><span style=\"background-color:rgba(203, 51, 100, 0.5); padding:1px 3px; border-radius:3px; margin-right:2px;\" title=\"AI probability: 79.98\">s distribution is defined by two basic parameters : the mean and the variance ( also referred to as standard deviation or simply &quot;σ&quot;) . th</span><span style=\"font-size: 0.8em; color: #555; margin-right: 6px; background-color: ghostwhite; border: gray 1px solid; padding:1px 3px; border-radius:3px;\">(79.98%)</span><span style=\"background-color:rgba(26, 228, 100, 0.5); padding:1px 3px; border-radius:3px; margin-right:2px;\" title=\"AI probability: 10.57\">e hypothesis that we test , which is referred to as the &quot;Model&quot; , is also defined by only two parameters : the &quot;F&quot; and the &quot;ω&quot; values ; defined by : F(ω) = σ(ω) 2 - (σF)2. Th</span><span style=\"font-size: 0.8em; color: #555; margin-right: 6px; background-color: ghostwhite; border: gray 1px solid; padding:1px 3px; border-radius:3px;\">(10.57%)</span><span style=\"background-color:rgba(32, 222, 100, 0.5); padding:1px 3px; border-radius:3px; margin-right:2px;\" title=\"AI probability: 12.83\">e observed data in the analysis is given by . wher</span><span style=\"font-size: 0.8em; color: #555; margin-right: 6px; background-color: ghostwhite; border: gray 1px solid; padding:1px 3px; border-radius:3px;\">(12.83%)</span><span style=\"background-color:rgba(103, 151, 100, 0.5); padding:1px 3px; border-radius:3px; margin-right:2px;\" title=\"AI probability: 40.45\">e &quot;s&quot; is the square amplitude of the CMB temperature vector and is associated with the &quot;angular power spectrum&quot; while is the amplitude of the CMB temperature vector and is associated with the &quot;angular power spectrum&quot; . th</span><span style=\"font-size: 0.8em; color: #555; margin-right: 6px; background-color: ghostwhite; border: gray 1px solid; padding:1px 3px; border-radius:3px;\">(40.45%)</span><span style=\"background-color:rgba(219, 35, 100, 0.5); padding:1px 3px; border-radius:3px; margin-right:2px;\" title=\"AI probability: 86.19\">e observed data in the analysis is given by : where &quot;s&quot; is the square amplitude of the CMB temperature vecto</span><span style=\"font-size: 0.8em; color: #555; margin-right: 6px; background-color: ghostwhite; border: gray 1px solid; padding:1px 3px; border-radius:3px;\">(86.19%)</span>r an<span style=\"background-color:rgba(48, 206, 100, 0.5); padding:1px 3px; border-radius:3px; margin-right:2px;\" title=\"AI probability: 19.02\">d is associated with the &quot;angular power spectrum&quot; while is the amplitude of the CM</span><span style=\"font-size: 0.8em; color: #555; margin-right: 6px; background-color: ghostwhite; border: gray 1px solid; padding:1px 3px; border-radius:3px;\">(19.02%)</span><span style=\"background-color:rgba(181, 73, 100, 0.5); padding:1px 3px; border-radius:3px; margin-right:2px;\" title=\"AI probability: 71.20\">B temperature vector and is associated with the &quot;angular power spectrum&quot; . it is not very useful when dealing with a theoretical distribution that is not in a normal case, such a</span><span style=\"font-size: 0.8em; color: #555; margin-right: 6px; background-color: ghostwhite; border: gray 1px solid; padding:1px 3px; border-radius:3px;\">(71.20%)</span><span style=\"background-color:rgba(111, 143, 100, 0.5); padding:1px 3px; border-radius:3px; margin-right:2px;\" title=\"AI probability: 43.54\">s the CMB , which is defined by : where is the scalar function describing the temperature distribution , and is defined by . the invers</span><span style=\"font-size: 0.8em; color: #555; margin-right: 6px; background-color: ghostwhite; border: gray 1px solid; padding:1px 3px; border-radius:3px;\">(43.54%)</span><span style=\"background-color:rgba(201, 53, 100, 0.5); padding:1px 3px; border-radius:3px; margin-right:2px;\" title=\"AI probability: 79.10\">e cumulative density is defined by . so, the inverse probability is simply equal to </span><span style=\"font-size: 0.8em; color: #555; margin-right: 6px; background-color: ghostwhite; border: gray 1px solid; padding:1px 3px; border-radius:3px;\">(79.10%)</span><span style=\"background-color:rgba(48, 206, 100, 0.5); padding:1px 3px; border-radius:3px; margin-right:2px;\" title=\"AI probability: 19.02\">: The assumption is basically: the data we are observing is normally distributed and our model is exactly correct. we use the data to construct th</span><span style=\"font-size: 0.8em; color: #555; margin-right: 6px; background-color: ghostwhite; border: gray 1px solid; padding:1px 3px; border-radius:3px;\">(19.02%)</span><span style=\"background-color:rgba(181, 73, 100, 0.5); padding:1px 3px; border-radius:3px; margin-right:2px;\" title=\"AI probability: 71.20\">e probability for our hypothesis: .\n",
       "when using an iterative method to solve for the initial parameters ( ω , F ) of a statistical model , the method must be based on some form of </span><span style=\"font-size: 0.8em; color: #555; margin-right: 6px; background-color: ghostwhite; border: gray 1px solid; padding:1px 3px; border-radius:3px;\">(71.20%)</span>a &quot;\n",
       "</div>"
      ],
      "text/plain": [
       "<IPython.core.display.HTML object>"
      ]
     },
     "execution_count": 7,
     "metadata": {},
     "output_type": "execute_result"
    }
   ],
   "source": [
    "html_output = visualize_detection(document, result)\n",
    "HTML(html_output)"
   ]
  },
  {
   "cell_type": "code",
   "execution_count": null,
   "id": "d699c0e6dac86d35",
   "metadata": {
    "ExecuteTime": {
     "end_time": "2025-09-17T10:08:01.104391Z",
     "start_time": "2025-09-17T10:08:01.101765Z"
    }
   },
   "outputs": [],
   "source": []
  },
  {
   "cell_type": "code",
   "execution_count": null,
   "id": "3318c3937f38ab49",
   "metadata": {},
   "outputs": [],
   "source": []
  }
 ],
 "metadata": {
  "kernelspec": {
   "display_name": "Python 3 (ipykernel)",
   "language": "python",
   "name": "python3"
  },
  "language_info": {
   "codemirror_mode": {
    "name": "ipython",
    "version": 3
   },
   "file_extension": ".py",
   "mimetype": "text/x-python",
   "name": "python",
   "nbconvert_exporter": "python",
   "pygments_lexer": "ipython3",
   "version": "3.12.11"
  }
 },
 "nbformat": 4,
 "nbformat_minor": 5
}
