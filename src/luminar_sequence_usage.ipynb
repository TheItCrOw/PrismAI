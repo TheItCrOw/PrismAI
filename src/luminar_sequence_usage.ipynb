{
 "cells": [
  {
   "metadata": {},
   "cell_type": "markdown",
   "source": [
    "# About\n",
    "\n",
    "Examples on how to use the LuminarSequenceDetector on the basis of the LuminarSequenceClassifier."
   ],
   "id": "48ee13b35836de92"
  },
  {
   "metadata": {
    "ExecuteTime": {
     "end_time": "2025-09-17T10:06:39.129463Z",
     "start_time": "2025-09-17T10:06:38.739664Z"
    }
   },
   "cell_type": "code",
   "source": [
    "%load_ext autoreload\n",
    "%autoreload 2"
   ],
   "id": "7a383348c04c2758",
   "outputs": [],
   "execution_count": 1
  },
  {
   "cell_type": "code",
   "id": "initial_id",
   "metadata": {
    "collapsed": true,
    "ExecuteTime": {
     "end_time": "2025-09-17T10:06:59.856336Z",
     "start_time": "2025-09-17T10:06:39.258756Z"
    }
   },
   "source": [
    "import torch\n",
    "import gc\n",
    "\n",
    "from IPython.display import display, HTML\n",
    "from luminar.detector import LuminarSequenceDetector\n",
    "from luminar.utils.cuda import get_best_device\n",
    "from luminar.sequence_classifier import LuminarSequence\n",
    "from luminar.utils import LuminarSequenceTrainingConfig, ConvolutionalLayerSpec\n",
    "from luminar.utils.visualization import visualize_detection\n",
    "\n",
    "torch.cuda.empty_cache()\n",
    "gc.collect()\n",
    "if torch.cuda.is_available():\n",
    "    with torch.cuda.device(torch.cuda.current_device()):\n",
    "        torch.cuda.empty_cache()\n",
    "        torch.cuda.ipc_collect()"
   ],
   "outputs": [],
   "execution_count": 2
  },
  {
   "metadata": {
    "ExecuteTime": {
     "end_time": "2025-09-17T10:07:00.320884Z",
     "start_time": "2025-09-17T10:06:59.875232Z"
    }
   },
   "cell_type": "code",
   "source": [
    "class Config:\n",
    "    # \"/storage/projects/boenisch/PrismAI/models/luminar_sequence/PrismAI_v2-encoded-gpt2/e1s2k2du\"\n",
    "    MODEL_PATH = \"/storage/projects/boenisch/PrismAI/models/luminar_sequence/SeqXGPT-encoded-gpt2/zgfsvd82\""
   ],
   "id": "fbf5731055a65deb",
   "outputs": [],
   "execution_count": 3
  },
  {
   "metadata": {
    "ExecuteTime": {
     "end_time": "2025-09-17T10:07:04.663220Z",
     "start_time": "2025-09-17T10:07:00.389543Z"
    }
   },
   "cell_type": "code",
   "source": [
    "# tiiuae/falcon-7b\n",
    "detector = LuminarSequenceDetector(model_path=Config.MODEL_PATH, feature_agent=\"gpt2\", device=get_best_device())"
   ],
   "id": "33dfcbc78e2bbc47",
   "outputs": [
    {
     "name": "stdout",
     "output_type": "stream",
     "text": [
      "Loading LuminarSequenceDetector from /storage/projects/boenisch/PrismAI/models/luminar_sequence/SeqXGPT-encoded-gpt2/zgfsvd82 to device cuda:2\n",
      "LuminarSequenceTrainingConfig(feature_len=512, num_intermediate_likelihoods=13, apply_delta_augmentation=True, apply_product_augmentation=False, weighted_sampling=False, conv_layer_shapes=[[128, 5, 1], [256, 5, 1]], projection_dim=128, lstm_hidden_dim=128, lstm_layers=1, stack_spans=4, hf_dataset='TheItCrOw/SeqXGPT-encoded-gpt2', dataset_root_path='/storage/projects/stoeckel/prismai/encoded/fulltext/', models_root_path='/storage/projects/boenisch/PrismAI/models/luminar_sequence/', domain=None, agent='gpt_4o_mini_gemma2_9b', feature_agent='gpt2', max_epochs=100, batch_size=128, early_stopping_patience=8, rescale_features=False, kfold=3, learning_rate=0.004, seed=42)\n",
      "Loaded.\n"
     ]
    },
    {
     "name": "stderr",
     "output_type": "stream",
     "text": [
      "[nltk_data] Downloading package punkt to\n",
      "[nltk_data]     /home/staff_homes/kboenisc/nltk_data...\n",
      "[nltk_data]   Package punkt is already up-to-date!\n"
     ]
    }
   ],
   "execution_count": 4
  },
  {
   "metadata": {
    "ExecuteTime": {
     "end_time": "2025-09-17T10:08:00.009681Z",
     "start_time": "2025-09-17T10:07:57.123500Z"
    }
   },
   "cell_type": "code",
   "source": [
    "document = \"\"\"\n",
    "current and upcoming surveys will measure the cosmological parameters with an extremely high accuracy . the primary goal of these observations is to eliminate some of the currently viable cosmological models created to explain the late time accelerated expansion ( either real or only inferred ) . however , most of the statistical tests used in cosmology have a strong requirement : the use of a model to fit the data . these statistical tests are usually based on the normal , or Gaussian , distribution . this distribution is defined by two basic parameters : the mean and the variance ( also referred to as standard deviation or simply \"σ\") . the hypothesis that we test , which is referred to as the \"Model\" , is also defined by only two parameters : the \"F\" and the \"ω\" values ; defined by : F(ω) = σ(ω) 2 - (σF)2. The observed data in the analysis is given by . where \"s\" is the square amplitude of the CMB temperature vector and is associated with the \"angular power spectrum\" while is the amplitude of the CMB temperature vector and is associated with the \"angular power spectrum\" . the observed data in the analysis is given by : where \"s\" is the square amplitude of the CMB temperature vector and is associated with the \"angular power spectrum\" while is the amplitude of the CMB temperature vector and is associated with the \"angular power spectrum\" . it is not very useful when dealing with a theoretical distribution that is not in a normal case, such as the CMB , which is defined by : where is the scalar function describing the temperature distribution , and is defined by . the inverse cumulative density is defined by . so, the inverse probability is simply equal to : The assumption is basically: the data we are observing is normally distributed and our model is exactly correct. we use the data to construct the probability for our hypothesis: .\n",
    "when using an iterative method to solve for the initial parameters ( ω , F ) of a statistical model , the method must be based on some form of a \"\n",
    "\"\"\""
   ],
   "id": "b14fc72bcc70e37",
   "outputs": [],
   "execution_count": 11
  },
  {
   "metadata": {
    "ExecuteTime": {
     "end_time": "2025-09-17T10:08:00.596079Z",
     "start_time": "2025-09-17T10:08:00.124460Z"
    }
   },
   "cell_type": "code",
   "source": [
    "print(\"Document length:\", len(document))\n",
    "\n",
    "result = detector.detect(document)\n",
    "print(result)"
   ],
   "id": "c628a5cdf9b06ce9",
   "outputs": [
    {
     "name": "stdout",
     "output_type": "stream",
     "text": [
      "Document length: 2015\n",
      "{'avg': 81.15194439888, 'probs': [85.36797165870667, 87.96407580375671, 75.72213411331177, 77.14009881019592, 74.45729970932007, 87.96407580375671, 75.72213411331177, 77.14009881019592, 81.47144317626953, 83.44812989234924, 89.38723802566528, 75.20662546157837, 73.45250248908997, 83.44812989234924, 89.38723802566528], 'token_spans': [(0, 17), (17, 51), (51, 78), (78, 94), (94, 121), (121, 177), (177, 187), (187, 232), (232, 255), (256, 273), (273, 307), (307, 334), (334, 350), (350, 377), (377, 416)], 'char_spans': [(0, 103), (103, 297), (297, 426), (426, 512), (512, 650), (650, 824), (824, 874), (874, 1095), (1095, 1203), (1207, 1289), (1289, 1467), (1467, 1602), (1602, 1686), (1686, 1832), (1832, 2011)]}\n"
     ]
    }
   ],
   "execution_count": 12
  },
  {
   "metadata": {
    "ExecuteTime": {
     "end_time": "2025-09-17T10:08:01.045416Z",
     "start_time": "2025-09-17T10:08:00.659870Z"
    }
   },
   "cell_type": "code",
   "source": [
    "html_output = visualize_detection(document, result)\n",
    "HTML(html_output)"
   ],
   "id": "f029337014b04b5c",
   "outputs": [
    {
     "data": {
      "text/plain": [
       "<IPython.core.display.HTML object>"
      ],
      "text/html": [
       "<div style='line-height:1.6; font-family:monospace;'><span style=\"background-color:rgba(217, 37, 100, 0.5); padding:1px 3px; border-radius:3px; margin-right:2px;\" title=\"AI probability: 85.37\">\n",
       "current and upcoming surveys will measure the cosmological parameters with an extremely high accuracy </span><span style=\"font-size: 0.8em; color: #555; margin-right: 6px; background-color: ghostwhite; border: gray 1px solid; padding:1px 3px; border-radius:3px;\">(85.37%)</span><span style=\"background-color:rgba(224, 30, 100, 0.5); padding:1px 3px; border-radius:3px; margin-right:2px;\" title=\"AI probability: 87.96\">. the primary goal of these observations is to eliminate some of the currently viable cosmological models created to explain the late time accelerated expansion ( either real or only inferred ) </span><span style=\"font-size: 0.8em; color: #555; margin-right: 6px; background-color: ghostwhite; border: gray 1px solid; padding:1px 3px; border-radius:3px;\">(87.96%)</span><span style=\"background-color:rgba(193, 61, 100, 0.5); padding:1px 3px; border-radius:3px; margin-right:2px;\" title=\"AI probability: 75.72\">. however , most of the statistical tests used in cosmology have a strong requirement : the use of a model to fit the data . thes</span><span style=\"font-size: 0.8em; color: #555; margin-right: 6px; background-color: ghostwhite; border: gray 1px solid; padding:1px 3px; border-radius:3px;\">(75.72%)</span><span style=\"background-color:rgba(196, 58, 100, 0.5); padding:1px 3px; border-radius:3px; margin-right:2px;\" title=\"AI probability: 77.14\">e statistical tests are usually based on the normal , or Gaussian , distribution . thi</span><span style=\"font-size: 0.8em; color: #555; margin-right: 6px; background-color: ghostwhite; border: gray 1px solid; padding:1px 3px; border-radius:3px;\">(77.14%)</span><span style=\"background-color:rgba(189, 65, 100, 0.5); padding:1px 3px; border-radius:3px; margin-right:2px;\" title=\"AI probability: 74.46\">s distribution is defined by two basic parameters : the mean and the variance ( also referred to as standard deviation or simply &quot;σ&quot;) . th</span><span style=\"font-size: 0.8em; color: #555; margin-right: 6px; background-color: ghostwhite; border: gray 1px solid; padding:1px 3px; border-radius:3px;\">(74.46%)</span><span style=\"background-color:rgba(224, 30, 100, 0.5); padding:1px 3px; border-radius:3px; margin-right:2px;\" title=\"AI probability: 87.96\">e hypothesis that we test , which is referred to as the &quot;Model&quot; , is also defined by only two parameters : the &quot;F&quot; and the &quot;ω&quot; values ; defined by : F(ω) = σ(ω) 2 - (σF)2. Th</span><span style=\"font-size: 0.8em; color: #555; margin-right: 6px; background-color: ghostwhite; border: gray 1px solid; padding:1px 3px; border-radius:3px;\">(87.96%)</span><span style=\"background-color:rgba(193, 61, 100, 0.5); padding:1px 3px; border-radius:3px; margin-right:2px;\" title=\"AI probability: 75.72\">e observed data in the analysis is given by . wher</span><span style=\"font-size: 0.8em; color: #555; margin-right: 6px; background-color: ghostwhite; border: gray 1px solid; padding:1px 3px; border-radius:3px;\">(75.72%)</span><span style=\"background-color:rgba(196, 58, 100, 0.5); padding:1px 3px; border-radius:3px; margin-right:2px;\" title=\"AI probability: 77.14\">e &quot;s&quot; is the square amplitude of the CMB temperature vector and is associated with the &quot;angular power spectrum&quot; while is the amplitude of the CMB temperature vector and is associated with the &quot;angular power spectrum&quot; . th</span><span style=\"font-size: 0.8em; color: #555; margin-right: 6px; background-color: ghostwhite; border: gray 1px solid; padding:1px 3px; border-radius:3px;\">(77.14%)</span><span style=\"background-color:rgba(207, 47, 100, 0.5); padding:1px 3px; border-radius:3px; margin-right:2px;\" title=\"AI probability: 81.47\">e observed data in the analysis is given by : where &quot;s&quot; is the square amplitude of the CMB temperature vecto</span><span style=\"font-size: 0.8em; color: #555; margin-right: 6px; background-color: ghostwhite; border: gray 1px solid; padding:1px 3px; border-radius:3px;\">(81.47%)</span>r an<span style=\"background-color:rgba(212, 42, 100, 0.5); padding:1px 3px; border-radius:3px; margin-right:2px;\" title=\"AI probability: 83.45\">d is associated with the &quot;angular power spectrum&quot; while is the amplitude of the CM</span><span style=\"font-size: 0.8em; color: #555; margin-right: 6px; background-color: ghostwhite; border: gray 1px solid; padding:1px 3px; border-radius:3px;\">(83.45%)</span><span style=\"background-color:rgba(227, 27, 100, 0.5); padding:1px 3px; border-radius:3px; margin-right:2px;\" title=\"AI probability: 89.39\">B temperature vector and is associated with the &quot;angular power spectrum&quot; . it is not very useful when dealing with a theoretical distribution that is not in a normal case, such a</span><span style=\"font-size: 0.8em; color: #555; margin-right: 6px; background-color: ghostwhite; border: gray 1px solid; padding:1px 3px; border-radius:3px;\">(89.39%)</span><span style=\"background-color:rgba(191, 63, 100, 0.5); padding:1px 3px; border-radius:3px; margin-right:2px;\" title=\"AI probability: 75.21\">s the CMB , which is defined by : where is the scalar function describing the temperature distribution , and is defined by . the invers</span><span style=\"font-size: 0.8em; color: #555; margin-right: 6px; background-color: ghostwhite; border: gray 1px solid; padding:1px 3px; border-radius:3px;\">(75.21%)</span><span style=\"background-color:rgba(187, 67, 100, 0.5); padding:1px 3px; border-radius:3px; margin-right:2px;\" title=\"AI probability: 73.45\">e cumulative density is defined by . so, the inverse probability is simply equal to </span><span style=\"font-size: 0.8em; color: #555; margin-right: 6px; background-color: ghostwhite; border: gray 1px solid; padding:1px 3px; border-radius:3px;\">(73.45%)</span><span style=\"background-color:rgba(212, 42, 100, 0.5); padding:1px 3px; border-radius:3px; margin-right:2px;\" title=\"AI probability: 83.45\">: The assumption is basically: the data we are observing is normally distributed and our model is exactly correct. we use the data to construct th</span><span style=\"font-size: 0.8em; color: #555; margin-right: 6px; background-color: ghostwhite; border: gray 1px solid; padding:1px 3px; border-radius:3px;\">(83.45%)</span><span style=\"background-color:rgba(227, 27, 100, 0.5); padding:1px 3px; border-radius:3px; margin-right:2px;\" title=\"AI probability: 89.39\">e probability for our hypothesis: .\n",
       "when using an iterative method to solve for the initial parameters ( ω , F ) of a statistical model , the method must be based on some form of </span><span style=\"font-size: 0.8em; color: #555; margin-right: 6px; background-color: ghostwhite; border: gray 1px solid; padding:1px 3px; border-radius:3px;\">(89.39%)</span>a &quot;\n",
       "</div>"
      ]
     },
     "execution_count": 13,
     "metadata": {},
     "output_type": "execute_result"
    }
   ],
   "execution_count": 13
  },
  {
   "metadata": {
    "ExecuteTime": {
     "end_time": "2025-09-17T10:08:01.104391Z",
     "start_time": "2025-09-17T10:08:01.101765Z"
    }
   },
   "cell_type": "code",
   "source": "",
   "id": "d699c0e6dac86d35",
   "outputs": [],
   "execution_count": null
  },
  {
   "metadata": {},
   "cell_type": "code",
   "outputs": [],
   "execution_count": null,
   "source": "",
   "id": "3318c3937f38ab49"
  }
 ],
 "metadata": {
  "kernelspec": {
   "display_name": "Python 3",
   "language": "python",
   "name": "python3"
  },
  "language_info": {
   "codemirror_mode": {
    "name": "ipython",
    "version": 2
   },
   "file_extension": ".py",
   "mimetype": "text/x-python",
   "name": "python",
   "nbconvert_exporter": "python",
   "pygments_lexer": "ipython2",
   "version": "2.7.6"
  }
 },
 "nbformat": 4,
 "nbformat_minor": 5
}
