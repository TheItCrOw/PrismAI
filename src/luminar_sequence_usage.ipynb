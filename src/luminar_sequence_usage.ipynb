{
 "cells": [
  {
   "metadata": {},
   "cell_type": "markdown",
   "source": [
    "# About\n",
    "\n",
    "Examples on how to use the LuminarSequenceDetector on the basis of the LuminarSequenceClassifier."
   ],
   "id": "48ee13b35836de92"
  },
  {
   "metadata": {
    "jupyter": {
     "is_executing": true
    }
   },
   "cell_type": "code",
   "source": [
    "%load_ext autoreload\n",
    "%autoreload 2"
   ],
   "id": "7a383348c04c2758",
   "outputs": [],
   "execution_count": null
  },
  {
   "cell_type": "code",
   "id": "initial_id",
   "metadata": {
    "collapsed": true,
    "ExecuteTime": {
     "end_time": "2025-08-07T15:10:25.759695Z",
     "start_time": "2025-08-07T15:10:07.122321Z"
    }
   },
   "source": [
    "import torch\n",
    "import gc\n",
    "\n",
    "from IPython.display import display, HTML\n",
    "from luminar.detector import LuminarSequenceDetector\n",
    "from luminar.utils.cuda import get_best_device\n",
    "from luminar.sequence_classifier import LuminarSequence\n",
    "from luminar.utils import LuminarSequenceTrainingConfig, ConvolutionalLayerSpec\n",
    "from luminar.utils.visualization import visualize_detection\n",
    "\n",
    "torch.cuda.empty_cache()\n",
    "gc.collect()\n",
    "if torch.cuda.is_available():\n",
    "    with torch.cuda.device(torch.cuda.current_device()):\n",
    "        torch.cuda.empty_cache()\n",
    "        torch.cuda.ipc_collect()"
   ],
   "outputs": [],
   "execution_count": 2
  },
  {
   "metadata": {
    "ExecuteTime": {
     "end_time": "2025-08-07T15:10:26.032723Z",
     "start_time": "2025-08-07T15:10:25.853376Z"
    }
   },
   "cell_type": "code",
   "source": [
    "class Config:\n",
    "    # That's the only model path that is working... I stored the config files wrong ._.\n",
    "    MODEL_PATH = \"/storage/projects/boenisch/PrismAI/models/luminar_sequence/de___en/trvaaa3c\""
   ],
   "id": "fbf5731055a65deb",
   "outputs": [],
   "execution_count": 3
  },
  {
   "metadata": {
    "ExecuteTime": {
     "end_time": "2025-08-07T15:10:31.239651Z",
     "start_time": "2025-08-07T15:10:26.067513Z"
    }
   },
   "cell_type": "code",
   "source": "detector = LuminarSequenceDetector(model_path=Config.MODEL_PATH, feature_agent=\"tiiuae/falcon-7b\", device=get_best_device())",
   "id": "33dfcbc78e2bbc47",
   "outputs": [
    {
     "name": "stdout",
     "output_type": "stream",
     "text": [
      "Loading LuminarSequenceDetector from /storage/projects/boenisch/PrismAI/models/luminar_sequence/de___en/trvaaa3c to device cuda:3\n",
      "LuminarSequenceTrainingConfig(feature_len=512, num_intermediate_likelihoods=33, apply_delta_augmentation=False, apply_product_augmentation=True, conv_layer_shapes=[[128, 5, 1], [256, 5, 1]], projection_dim=128, lstm_hidden_dim=256, lstm_layers=1, stack_spans=3, hf_dataset='liberi-luminaris/Ghostbuster-encoded-gpt2', dataset_root_path='/storage/projects/stoeckel/prismai/encoded/fulltext/', models_root_path='/storage/projects/boenisch/PrismAI/models/luminar_sequence/', domain=None, agent='gpt_4o_mini_gemma2_9b', feature_agent='gpt2_512', max_epochs=115, batch_size=128, early_stopping_patience=8, rescale_features=False, kfold=3, learning_rate=0.00103, seed=42)\n"
     ]
    },
    {
     "data": {
      "text/plain": [
       "Loading checkpoint shards:   0%|          | 0/2 [00:00<?, ?it/s]"
      ],
      "application/vnd.jupyter.widget-view+json": {
       "version_major": 2,
       "version_minor": 0,
       "model_id": "f3a8a0106230456cba71c096a484009e"
      }
     },
     "metadata": {},
     "output_type": "display_data"
    },
    {
     "name": "stdout",
     "output_type": "stream",
     "text": [
      "Loaded.\n"
     ]
    },
    {
     "name": "stderr",
     "output_type": "stream",
     "text": [
      "[nltk_data] Downloading package punkt to\n",
      "[nltk_data]     /home/staff_homes/kboenisc/nltk_data...\n",
      "[nltk_data]   Package punkt is already up-to-date!\n"
     ]
    }
   ],
   "execution_count": 4
  },
  {
   "metadata": {
    "ExecuteTime": {
     "end_time": "2025-08-07T15:10:31.575518Z",
     "start_time": "2025-08-07T15:10:31.333571Z"
    }
   },
   "cell_type": "code",
   "source": [
    "document = \"\"\"\n",
    "Sehr geehrter Herr Präsident! Liebe Kolleginnen und Kollegen! Ich muss sagen: Ich bin ein wenig enttäuscht, –\n",
    "Meine Damen und Herren, lassen Sie uns nicht vergessen, dass eine nachhaltige und zukunftsorientierte Industriepolitik eine der Grundlagen für den Wohlstand unseres Landes ist. Wir stehen vor großen Herausforderungen: der Digitalisierung, der Energiewende, der demografischen Entwicklung. All diese Faktoren verlangen nach einer klugen und weitsichtigen Politik, die den Industriestandort Deutschland stärkt und gleichzeitig zukunftsfähig macht.\n",
    "\n",
    "Es ist unerlässlich, dass wir die Weichen richtig stellen. Dazu gehört auch, dass wir die Rahmenbedingungen für Innovationen verbessern und Forschung sowie Entwicklung stärken. Wir müssen sicherstellen, dass unsere Unternehmen im internationalen Wettbewerb bestehen können. Das bedeutet auch, dass wir effiziente und nachhaltige Produktionsmethoden fördern und unterstützen müssen, die sowohl ökologischen als auch ökonomischen Anforderungen gerecht werden.\n",
    "\n",
    "Es ist ein Trugschluss zu glauben, dass eine starke Industriepolitik automatisch zu Lasten des Mittelstandes geht. Ganz im Gegenteil: Der Mittelstand ist das Rückgrat unserer Wirtschaft. Viele mittelständische Unternehmen sind Zulieferer für große Industriekonzerne oder sind selbst Innovationsführer in ihren Branchen. Eine gezielte Förderung der Schlüsseltechnologien, die auch den Mittelstand einbezieht, ist daher essentiell.\n",
    "\n",
    "Ich möchte betonen, dass es nicht darum geht, einzelne Branchen zu bevorzugen. Vielmehr müssen wir ein Umfeld schaffen, in dem alle Unternehmen, groß und klein, die Möglichkeit haben, zu wachsen und zu prosperieren. Dazu gehört auch, dass wir bürokratische Hürden abbauen und digitale Infrastrukturen ausbauen.\n",
    "\n",
    "In diesem Sinne müssen wir auch die Diskussion um den CO2-Zertifikatehandel führen. Es ist richtig, dass wir uns ambitionierte Ziele im Klimaschutz setzen, aber wir müssen auch die Realitäten der Wirtschaft berücksichtigen. Ein Mindestpreis für CO2 könnte zwar theoretisch zu mehr Investitionen in saubere Technologien führen, aber er würde auch zusätzliche Belastungen für die Industrie und insbesondere für den Mittelstand bedeuten, die wir uns in der aktuellen wirtschaftlichen Lage nicht leisten können. Wir müssen schauen, dass wir mit der steuerlichen Forschungsförderung auch die Innovationskraft der Unternehmen stärken. Deutsche und europäische Start-ups brauchen bessere Finanzierungsmöglichkeiten und einen digitalen Binnenmarkt, damit sie ihre Geschäftsmodelle ausrollen und schneller wachsen können.\n",
    "Allen Kritikern einer Industriestrategie sei hier gesagt: Eine kluge Industriepolitik richtet sich nicht gegen den Mittelstand; sie ist im Interesse des Mittelstandes. Hier hat Peter Altmaier durchaus den einen oder anderen positiven Beitrag geleistet.\n",
    "Ich sage das, auch wenn wir die Diskussion natürlich weiter führen werden.\n",
    "Liebe Kolleginnen und Kollegen von den Grünen, ich bin mir nicht sicher, ob wir demnächst noch eine europäische Industrie hätten, wenn wir Ihren Antrag tatsächlich umsetzen würden. Es ist sicherlich nicht alles falsch, was in Ihrem Antrag steht. Aber nehmen wir einmal den CO 2 -Zertifikatehandel. Sie fordern jetzt die Einführung eines CO 2 -Mindestpreises, obwohl der Zertifikatehandel sehr gut funktioniert,\n",
    "obwohl der Preis in zwei Jahren um 400 Prozent gestiegen ist.\n",
    "Staatliche Eingriffe in ein funktionierendes marktwirtschaftliches Instrument sind aus Unionssicht der falsche Weg; da können Sie noch so meckern und jammern.\n",
    "\"\"\""
   ],
   "id": "b14fc72bcc70e37",
   "outputs": [],
   "execution_count": 5
  },
  {
   "metadata": {
    "ExecuteTime": {
     "end_time": "2025-08-07T15:10:33.133807Z",
     "start_time": "2025-08-07T15:10:31.625647Z"
    }
   },
   "cell_type": "code",
   "source": [
    "print(\"Document length:\", len(document))\n",
    "\n",
    "result = detector.detect(document)\n",
    "print(result)"
   ],
   "id": "c628a5cdf9b06ce9",
   "outputs": [
    {
     "name": "stderr",
     "output_type": "stream",
     "text": [
      "You're using a PreTrainedTokenizerFast tokenizer. Please note that with a fast tokenizer, using the `__call__` method is faster than using a method to encode the text followed by a call to the `pad` method to get a padded encoding.\n"
     ]
    },
    {
     "name": "stdout",
     "output_type": "stream",
     "text": [
      "Document length: 3533\n",
      "{'avg': np.float32(0.6791362), 'probs': [np.float32(0.00041567066), np.float32(0.9844604), np.float32(0.93683887), np.float32(0.9793658), np.float32(0.9990368), np.float32(0.93683887), np.float32(0.99999905), np.float32(0.9999974), np.float32(0.9999994), np.float32(0.9999882), np.float32(0.99938905), np.float32(0.99999654), np.float32(0.99999714), np.float32(0.9999999), np.float32(0.99996495), np.float32(0.99999714), np.float32(0.99999976), np.float32(0.99999964), np.float32(0.9999989), np.float32(0.99999905), np.float32(0.7547952), np.float32(0.99980766), np.float32(0.80622876), np.float32(0.43815523), np.float32(0.10683258), np.float32(0.80622876), np.float32(0.012153896), np.float32(0.00590026), np.float32(0.00023579993), np.float32(0.015097922), np.float32(0.007888102), np.float32(0.9801374), np.float32(1.699618e-05), np.float32(3.765806e-06), np.float32(1.9124877e-06)], 'token_spans': [(0, 10), (10, 19), (19, 82), (82, 104), (104, 142), (142, 157), (157, 182), (182, 202), (202, 246), (246, 255), (256, 266), (266, 275), (275, 338), (338, 360), (360, 398), (398, 413), (413, 438), (438, 458), (458, 502), (502, 511), (512, 522), (522, 531), (531, 594), (594, 616), (616, 654), (654, 669), (669, 694), (694, 714), (714, 758), (758, 767), (768, 778), (778, 787), (787, 850), (850, 872), (872, 907)], 'char_spans': [(0, 30), (30, 62), (62, 287), (287, 399), (399, 556), (556, 607), (607, 733), (733, 830), (830, 1014), (1014, 1039), (1042, 1079), (1079, 1118), (1118, 1348), (1348, 1424), (1424, 1553), (1553, 1630), (1630, 1719), (1719, 1782), (1782, 1940), (1940, 1982), (1983, 2015), (2015, 2057), (2057, 2296), (2296, 2407), (2407, 2573), (2573, 2630), (2630, 2739), (2739, 2825), (2825, 2984), (2984, 3022), (3024, 3070), (3070, 3099), (3099, 3312), (3312, 3394), (3394, 3532)]}\n"
     ]
    }
   ],
   "execution_count": 6
  },
  {
   "metadata": {
    "ExecuteTime": {
     "end_time": "2025-08-07T15:10:33.220574Z",
     "start_time": "2025-08-07T15:10:33.179716Z"
    }
   },
   "cell_type": "code",
   "source": [
    "html_output = visualize_detection(document, result)\n",
    "HTML(html_output)"
   ],
   "id": "f029337014b04b5c",
   "outputs": [
    {
     "data": {
      "text/plain": [
       "<IPython.core.display.HTML object>"
      ],
      "text/html": [
       "<div style='line-height:1.6; font-family:monospace;'><span style=\"background-color:rgba(0, 254, 100, 0.5); padding:1px 3px; border-radius:3px; margin-right:2px;\" title=\"AI probability: 0.00\">\n",
       "Sehr geehrter Herr Präsident!</span><span style=\"font-size: 0.8em; color: #555; margin-right: 6px; background-color: ghostwhite; border: gray 1px solid; padding:1px 3px; border-radius:3px;\">(0.00%)</span><span style=\"background-color:rgba(251, 3, 100, 0.5); padding:1px 3px; border-radius:3px; margin-right:2px;\" title=\"AI probability: 0.98\"> Liebe Kolleginnen und Kollegen!</span><span style=\"font-size: 0.8em; color: #555; margin-right: 6px; background-color: ghostwhite; border: gray 1px solid; padding:1px 3px; border-radius:3px;\">(0.98%)</span><span style=\"background-color:rgba(238, 16, 100, 0.5); padding:1px 3px; border-radius:3px; margin-right:2px;\" title=\"AI probability: 0.94\"> Ich muss sagen: Ich bin ein wenig enttäuscht, –\n",
       "Meine Damen und Herren, lassen Sie uns nicht vergessen, dass eine nachhaltige und zukunftsorientierte Industriepolitik eine der Grundlagen für den Wohlstand unseres Landes ist.</span><span style=\"font-size: 0.8em; color: #555; margin-right: 6px; background-color: ghostwhite; border: gray 1px solid; padding:1px 3px; border-radius:3px;\">(0.94%)</span><span style=\"background-color:rgba(249, 5, 100, 0.5); padding:1px 3px; border-radius:3px; margin-right:2px;\" title=\"AI probability: 0.98\"> Wir stehen vor großen Herausforderungen: der Digitalisierung, der Energiewende, der demografischen Entwicklung.</span><span style=\"font-size: 0.8em; color: #555; margin-right: 6px; background-color: ghostwhite; border: gray 1px solid; padding:1px 3px; border-radius:3px;\">(0.98%)</span><span style=\"background-color:rgba(254, 0, 100, 0.5); padding:1px 3px; border-radius:3px; margin-right:2px;\" title=\"AI probability: 1.00\"> All diese Faktoren verlangen nach einer klugen und weitsichtigen Politik, die den Industriestandort Deutschland stärkt und gleichzeitig zukunftsfähig macht.</span><span style=\"font-size: 0.8em; color: #555; margin-right: 6px; background-color: ghostwhite; border: gray 1px solid; padding:1px 3px; border-radius:3px;\">(1.00%)</span><span style=\"background-color:rgba(238, 16, 100, 0.5); padding:1px 3px; border-radius:3px; margin-right:2px;\" title=\"AI probability: 0.94\">\n",
       "\n",
       "Es ist unerlässlich, dass wir die Weichen richtig</span><span style=\"font-size: 0.8em; color: #555; margin-right: 6px; background-color: ghostwhite; border: gray 1px solid; padding:1px 3px; border-radius:3px;\">(0.94%)</span><span style=\"background-color:rgba(254, 0, 100, 0.5); padding:1px 3px; border-radius:3px; margin-right:2px;\" title=\"AI probability: 1.00\"> stellen. Dazu gehört auch, dass wir die Rahmenbedingungen für Innovationen verbessern und Forschung sowie Entwicklung stärken</span><span style=\"font-size: 0.8em; color: #555; margin-right: 6px; background-color: ghostwhite; border: gray 1px solid; padding:1px 3px; border-radius:3px;\">(1.00%)</span><span style=\"background-color:rgba(254, 0, 100, 0.5); padding:1px 3px; border-radius:3px; margin-right:2px;\" title=\"AI probability: 1.00\">. Wir müssen sicherstellen, dass unsere Unternehmen im internationalen Wettbewerb bestehen können</span><span style=\"font-size: 0.8em; color: #555; margin-right: 6px; background-color: ghostwhite; border: gray 1px solid; padding:1px 3px; border-radius:3px;\">(1.00%)</span><span style=\"background-color:rgba(254, 0, 100, 0.5); padding:1px 3px; border-radius:3px; margin-right:2px;\" title=\"AI probability: 1.00\">. Das bedeutet auch, dass wir effiziente und nachhaltige Produktionsmethoden fördern und unterstützen müssen, die sowohl ökologischen als auch ökonomischen Anforderungen gerecht werden</span><span style=\"font-size: 0.8em; color: #555; margin-right: 6px; background-color: ghostwhite; border: gray 1px solid; padding:1px 3px; border-radius:3px;\">(1.00%)</span><span style=\"background-color:rgba(254, 0, 100, 0.5); padding:1px 3px; border-radius:3px; margin-right:2px;\" title=\"AI probability: 1.00\">.\n",
       "\n",
       "Es ist ein Trugschluss</span><span style=\"font-size: 0.8em; color: #555; margin-right: 6px; background-color: ghostwhite; border: gray 1px solid; padding:1px 3px; border-radius:3px;\">(1.00%)</span> zu<span style=\"background-color:rgba(254, 0, 100, 0.5); padding:1px 3px; border-radius:3px; margin-right:2px;\" title=\"AI probability: 1.00\"> glauben, dass eine starke Industriep</span><span style=\"font-size: 0.8em; color: #555; margin-right: 6px; background-color: ghostwhite; border: gray 1px solid; padding:1px 3px; border-radius:3px;\">(1.00%)</span><span style=\"background-color:rgba(254, 0, 100, 0.5); padding:1px 3px; border-radius:3px; margin-right:2px;\" title=\"AI probability: 1.00\">olitik automatisch zu Lasten des Mittel</span><span style=\"font-size: 0.8em; color: #555; margin-right: 6px; background-color: ghostwhite; border: gray 1px solid; padding:1px 3px; border-radius:3px;\">(1.00%)</span><span style=\"background-color:rgba(254, 0, 100, 0.5); padding:1px 3px; border-radius:3px; margin-right:2px;\" title=\"AI probability: 1.00\">standes geht. Ganz im Gegenteil: Der Mittelstand ist das Rückgrat unserer Wirtschaft. Viele mittelständische Unternehmen sind Zulieferer für große Industriekonzerne oder sind selbst Innovationsführer in ihren Branchen. Eine geziel</span><span style=\"font-size: 0.8em; color: #555; margin-right: 6px; background-color: ghostwhite; border: gray 1px solid; padding:1px 3px; border-radius:3px;\">(1.00%)</span><span style=\"background-color:rgba(254, 0, 100, 0.5); padding:1px 3px; border-radius:3px; margin-right:2px;\" title=\"AI probability: 1.00\">te Förderung der Schlüsseltechnologien, die auch den Mittelstand einbezieht,</span><span style=\"font-size: 0.8em; color: #555; margin-right: 6px; background-color: ghostwhite; border: gray 1px solid; padding:1px 3px; border-radius:3px;\">(1.00%)</span><span style=\"background-color:rgba(254, 0, 100, 0.5); padding:1px 3px; border-radius:3px; margin-right:2px;\" title=\"AI probability: 1.00\"> ist daher essentiell.\n",
       "\n",
       "Ich möchte betonen, dass es nicht darum geht, einzelne Branchen zu bevorzugen. Vielmehr müssen wir ein Um</span><span style=\"font-size: 0.8em; color: #555; margin-right: 6px; background-color: ghostwhite; border: gray 1px solid; padding:1px 3px; border-radius:3px;\">(1.00%)</span><span style=\"background-color:rgba(254, 0, 100, 0.5); padding:1px 3px; border-radius:3px; margin-right:2px;\" title=\"AI probability: 1.00\">feld schaffen, in dem alle Unternehmen, groß und klein, die Möglichkeit haben</span><span style=\"font-size: 0.8em; color: #555; margin-right: 6px; background-color: ghostwhite; border: gray 1px solid; padding:1px 3px; border-radius:3px;\">(1.00%)</span><span style=\"background-color:rgba(254, 0, 100, 0.5); padding:1px 3px; border-radius:3px; margin-right:2px;\" title=\"AI probability: 1.00\">, zu wachsen und zu prosperieren. Dazu gehört auch, dass wir bürokratische Hürden abbauen</span><span style=\"font-size: 0.8em; color: #555; margin-right: 6px; background-color: ghostwhite; border: gray 1px solid; padding:1px 3px; border-radius:3px;\">(1.00%)</span><span style=\"background-color:rgba(254, 0, 100, 0.5); padding:1px 3px; border-radius:3px; margin-right:2px;\" title=\"AI probability: 1.00\"> und digitale Infrastrukturen ausbauen.\n",
       "\n",
       "In diesem Sinne müssen</span><span style=\"font-size: 0.8em; color: #555; margin-right: 6px; background-color: ghostwhite; border: gray 1px solid; padding:1px 3px; border-radius:3px;\">(1.00%)</span><span style=\"background-color:rgba(254, 0, 100, 0.5); padding:1px 3px; border-radius:3px; margin-right:2px;\" title=\"AI probability: 1.00\"> wir auch die Diskussion um den CO2-Zertifikatehandel führen. Es ist richtig, dass wir uns ambitionierte Ziele im Klimaschutz setzen, aber wir müssen auch die</span><span style=\"font-size: 0.8em; color: #555; margin-right: 6px; background-color: ghostwhite; border: gray 1px solid; padding:1px 3px; border-radius:3px;\">(1.00%)</span><span style=\"background-color:rgba(254, 0, 100, 0.5); padding:1px 3px; border-radius:3px; margin-right:2px;\" title=\"AI probability: 1.00\"> Realitäten der Wirtschaft berücksichtigen</span><span style=\"font-size: 0.8em; color: #555; margin-right: 6px; background-color: ghostwhite; border: gray 1px solid; padding:1px 3px; border-radius:3px;\">(1.00%)</span>.<span style=\"background-color:rgba(192, 62, 100, 0.5); padding:1px 3px; border-radius:3px; margin-right:2px;\" title=\"AI probability: 0.75\"> Ein Mindestpreis für CO2 könnte</span><span style=\"font-size: 0.8em; color: #555; margin-right: 6px; background-color: ghostwhite; border: gray 1px solid; padding:1px 3px; border-radius:3px;\">(0.75%)</span><span style=\"background-color:rgba(254, 0, 100, 0.5); padding:1px 3px; border-radius:3px; margin-right:2px;\" title=\"AI probability: 1.00\"> zwar theoretisch zu mehr Investitionen in</span><span style=\"font-size: 0.8em; color: #555; margin-right: 6px; background-color: ghostwhite; border: gray 1px solid; padding:1px 3px; border-radius:3px;\">(1.00%)</span><span style=\"background-color:rgba(205, 49, 100, 0.5); padding:1px 3px; border-radius:3px; margin-right:2px;\" title=\"AI probability: 0.81\"> saubere Technologien führen, aber er würde auch zusätzliche Belastungen für die Industrie und insbesondere für den Mittelstand bedeuten, die wir uns in der aktuellen wirtschaftlichen Lage nicht leisten können. Wir müssen schauen, dass wir</span><span style=\"font-size: 0.8em; color: #555; margin-right: 6px; background-color: ghostwhite; border: gray 1px solid; padding:1px 3px; border-radius:3px;\">(0.81%)</span><span style=\"background-color:rgba(111, 143, 100, 0.5); padding:1px 3px; border-radius:3px; margin-right:2px;\" title=\"AI probability: 0.44\"> mit der steuerlichen Forschungsförderung auch die Innovationskraft der Unternehmen stärken. Deutsche und europ</span><span style=\"font-size: 0.8em; color: #555; margin-right: 6px; background-color: ghostwhite; border: gray 1px solid; padding:1px 3px; border-radius:3px;\">(0.44%)</span><span style=\"background-color:rgba(27, 227, 100, 0.5); padding:1px 3px; border-radius:3px; margin-right:2px;\" title=\"AI probability: 0.11\">äische Start-ups brauchen bessere Finanzierungsmöglichkeiten und einen digitalen Binnenmarkt, damit sie ihre Geschäftsmodelle ausrollen und schneller wachsen können.\n",
       "</span><span style=\"font-size: 0.8em; color: #555; margin-right: 6px; background-color: ghostwhite; border: gray 1px solid; padding:1px 3px; border-radius:3px;\">(0.11%)</span><span style=\"background-color:rgba(205, 49, 100, 0.5); padding:1px 3px; border-radius:3px; margin-right:2px;\" title=\"AI probability: 0.81\">Allen Kritikern einer Industriestrategie sei hier gesagt:</span><span style=\"font-size: 0.8em; color: #555; margin-right: 6px; background-color: ghostwhite; border: gray 1px solid; padding:1px 3px; border-radius:3px;\">(0.81%)</span><span style=\"background-color:rgba(3, 251, 100, 0.5); padding:1px 3px; border-radius:3px; margin-right:2px;\" title=\"AI probability: 0.01\"> Eine kluge Industriepolitik richtet sich nicht gegen den Mittelstand; sie ist im Interesse des Mittelstandes</span><span style=\"font-size: 0.8em; color: #555; margin-right: 6px; background-color: ghostwhite; border: gray 1px solid; padding:1px 3px; border-radius:3px;\">(0.01%)</span><span style=\"background-color:rgba(1, 253, 100, 0.5); padding:1px 3px; border-radius:3px; margin-right:2px;\" title=\"AI probability: 0.01\">. Hier hat Peter Altmaier durchaus den einen oder anderen positiven Beitrag geleistet.</span><span style=\"font-size: 0.8em; color: #555; margin-right: 6px; background-color: ghostwhite; border: gray 1px solid; padding:1px 3px; border-radius:3px;\">(0.01%)</span><span style=\"background-color:rgba(0, 254, 100, 0.5); padding:1px 3px; border-radius:3px; margin-right:2px;\" title=\"AI probability: 0.00\">\n",
       "Ich sage das, auch wenn wir die Diskussion natürlich weiter führen werden.\n",
       "Liebe Kolleginnen und Kollegen von den Grünen, ich bin mir nicht sicher, ob wir dem</span><span style=\"font-size: 0.8em; color: #555; margin-right: 6px; background-color: ghostwhite; border: gray 1px solid; padding:1px 3px; border-radius:3px;\">(0.00%)</span><span style=\"background-color:rgba(3, 251, 100, 0.5); padding:1px 3px; border-radius:3px; margin-right:2px;\" title=\"AI probability: 0.02\">nächst noch eine europäische Industrie</span><span style=\"font-size: 0.8em; color: #555; margin-right: 6px; background-color: ghostwhite; border: gray 1px solid; padding:1px 3px; border-radius:3px;\">(0.02%)</span> h<span style=\"background-color:rgba(2, 252, 100, 0.5); padding:1px 3px; border-radius:3px; margin-right:2px;\" title=\"AI probability: 0.01\">ätten, wenn wir Ihren Antrag tatsächlich umset</span><span style=\"font-size: 0.8em; color: #555; margin-right: 6px; background-color: ghostwhite; border: gray 1px solid; padding:1px 3px; border-radius:3px;\">(0.01%)</span><span style=\"background-color:rgba(249, 5, 100, 0.5); padding:1px 3px; border-radius:3px; margin-right:2px;\" title=\"AI probability: 0.98\">zen würden. Es ist sicherlich</span><span style=\"font-size: 0.8em; color: #555; margin-right: 6px; background-color: ghostwhite; border: gray 1px solid; padding:1px 3px; border-radius:3px;\">(0.98%)</span><span style=\"background-color:rgba(0, 254, 100, 0.5); padding:1px 3px; border-radius:3px; margin-right:2px;\" title=\"AI probability: 0.00\"> nicht alles falsch, was in Ihrem Antrag steht. Aber nehmen wir einmal den CO 2 -Zertifikatehandel. Sie fordern jetzt die Einführung eines CO 2 -Mindestpreises, obwohl der Zertifikatehandel sehr gut funktioniert,\n",
       "</span><span style=\"font-size: 0.8em; color: #555; margin-right: 6px; background-color: ghostwhite; border: gray 1px solid; padding:1px 3px; border-radius:3px;\">(0.00%)</span><span style=\"background-color:rgba(0, 254, 100, 0.5); padding:1px 3px; border-radius:3px; margin-right:2px;\" title=\"AI probability: 0.00\">obwohl der Preis in zwei Jahren um 400 Prozent gestiegen ist.\n",
       "Staatliche Eingriffe</span><span style=\"font-size: 0.8em; color: #555; margin-right: 6px; background-color: ghostwhite; border: gray 1px solid; padding:1px 3px; border-radius:3px;\">(0.00%)</span><span style=\"background-color:rgba(0, 254, 100, 0.5); padding:1px 3px; border-radius:3px; margin-right:2px;\" title=\"AI probability: 0.00\"> in ein funktionierendes marktwirtschaftliches Instrument sind aus Unionssicht der falsche Weg; da können Sie noch so meckern und jammern.</span><span style=\"font-size: 0.8em; color: #555; margin-right: 6px; background-color: ghostwhite; border: gray 1px solid; padding:1px 3px; border-radius:3px;\">(0.00%)</span>\n",
       "</div>"
      ]
     },
     "execution_count": 7,
     "metadata": {},
     "output_type": "execute_result"
    }
   ],
   "execution_count": 7
  },
  {
   "metadata": {
    "ExecuteTime": {
     "end_time": "2025-08-07T15:10:33.294716Z",
     "start_time": "2025-08-07T15:10:33.293177Z"
    }
   },
   "cell_type": "code",
   "source": "",
   "id": "d59c91215c74c273",
   "outputs": [],
   "execution_count": null
  }
 ],
 "metadata": {
  "kernelspec": {
   "display_name": "Python 3",
   "language": "python",
   "name": "python3"
  },
  "language_info": {
   "codemirror_mode": {
    "name": "ipython",
    "version": 2
   },
   "file_extension": ".py",
   "mimetype": "text/x-python",
   "name": "python",
   "nbconvert_exporter": "python",
   "pygments_lexer": "ipython2",
   "version": "2.7.6"
  }
 },
 "nbformat": 4,
 "nbformat_minor": 5
}
