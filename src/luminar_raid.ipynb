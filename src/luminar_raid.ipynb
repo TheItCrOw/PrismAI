{
 "cells": [
  {
   "cell_type": "markdown",
   "metadata": {},
   "source": [
    "# Luminar"
   ]
  },
  {
   "cell_type": "markdown",
   "metadata": {},
   "source": [
    "## Minimal Code"
   ]
  },
  {
   "cell_type": "code",
   "execution_count": 1,
   "metadata": {},
   "outputs": [],
   "source": [
    "from typing import Iterable, NamedTuple\n",
    "\n",
    "import torch\n",
    "from datasets import load_dataset\n",
    "from torch import nn\n",
    "from torch.utils.data import DataLoader\n",
    "from transformers import (\n",
    "    AutoModelForCausalLM,\n",
    "    AutoTokenizer,\n",
    "    PreTrainedModel,\n",
    "    PreTrainedTokenizer,\n",
    ")"
   ]
  },
  {
   "cell_type": "code",
   "execution_count": 11,
   "metadata": {},
   "outputs": [
    {
     "data": {
      "application/vnd.jupyter.widget-view+json": {
       "model_id": "33b318b4ce7e492e99050b9f15e6e506",
       "version_major": 2,
       "version_minor": 0
      },
      "text/plain": [
       "test.csv:   0%|          | 0.00/1.22G [00:00<?, ?B/s]"
      ]
     },
     "metadata": {},
     "output_type": "display_data"
    },
    {
     "data": {
      "application/vnd.jupyter.widget-view+json": {
       "model_id": "425ae4574c404cd9b73f702b141fd719",
       "version_major": 2,
       "version_minor": 0
      },
      "text/plain": [
       "Generating test split: 0 examples [00:00, ? examples/s]"
      ]
     },
     "metadata": {},
     "output_type": "display_data"
    },
    {
     "data": {
      "text/plain": [
       "DatasetDict({\n",
       "    test: Dataset({\n",
       "        features: ['id', 'generation'],\n",
       "        num_rows: 672000\n",
       "    })\n",
       "})"
      ]
     },
     "execution_count": 11,
     "metadata": {},
     "output_type": "execute_result"
    }
   ],
   "source": [
    "ds = load_dataset(\"liamdugan/raid\", \"raid_test\")\n",
    "ds"
   ]
  },
  {
   "cell_type": "code",
   "execution_count": 9,
   "metadata": {},
   "outputs": [
    {
     "data": {
      "text/plain": [
       "DatasetDict({\n",
       "    train: Dataset({\n",
       "        features: ['id', 'adv_source_id', 'source_id', 'model', 'decoding', 'repetition_penalty', 'attack', 'domain', 'title', 'prompt', 'generation'],\n",
       "        num_rows: 5615820\n",
       "    })\n",
       "    extra: Dataset({\n",
       "        features: ['id', 'adv_source_id', 'source_id', 'model', 'decoding', 'repetition_penalty', 'attack', 'domain', 'title', 'prompt', 'generation'],\n",
       "        num_rows: 2039100\n",
       "    })\n",
       "})"
      ]
     },
     "execution_count": 9,
     "metadata": {},
     "output_type": "execute_result"
    }
   ],
   "source": [
    "ds"
   ]
  },
  {
   "cell_type": "code",
   "execution_count": 6,
   "metadata": {},
   "outputs": [
    {
     "data": {
      "application/vnd.jupyter.widget-view+json": {
       "model_id": "ee30ee1ec0e049728a14c018a8b3f85e",
       "version_major": 2,
       "version_minor": 0
      },
      "text/plain": [
       "Filter:   0%|          | 0/5615820 [00:00<?, ? examples/s]"
      ]
     },
     "metadata": {},
     "output_type": "display_data"
    },
    {
     "data": {
      "text/plain": [
       "Dataset({\n",
       "    features: ['id', 'adv_source_id', 'source_id', 'model', 'decoding', 'repetition_penalty', 'attack', 'domain', 'title', 'prompt', 'generation'],\n",
       "    num_rows: 160452\n",
       "})"
      ]
     },
     "execution_count": 6,
     "metadata": {},
     "output_type": "execute_result"
    }
   ],
   "source": [
    "ds.filter(lambda x: x[\"model\"] == \"human\")"
   ]
  },
  {
   "cell_type": "markdown",
   "metadata": {},
   "source": [
    "### Luminar Encoder\n",
    "\n",
    "1. Pre-Process Inputs: tokenize and pass through LLM, recording hidden states\n",
    "2. Calculate _Intermediate Likelihoods_: pass each hidden state through the models LM head"
   ]
  },
  {
   "cell_type": "code",
   "execution_count": 2,
   "metadata": {},
   "outputs": [],
   "source": [
    "class LuminarEncoder:\n",
    "    def __init__(\n",
    "        self,\n",
    "        feature_dim: int = 256,\n",
    "        model_name_or_path: str = \"gpt2\",\n",
    "        device: str = (\"cuda\" if torch.cuda.is_available() else \"cpu\"),\n",
    "        key: str = \"text\",\n",
    "    ):\n",
    "        self.feature_dim = feature_dim\n",
    "        self.device = torch.device(device)\n",
    "        self._key = key\n",
    "\n",
    "        self.tokenizer: PreTrainedTokenizer = AutoTokenizer.from_pretrained(\n",
    "            model_name_or_path\n",
    "        )\n",
    "        if not hasattr(self.tokenizer, \"pad_token\") or self.tokenizer.pad_token is None:\n",
    "            self.tokenizer.pad_token = self.tokenizer.eos_token\n",
    "        self.pad_token_id = self.tokenizer.pad_token_id\n",
    "\n",
    "        self.model: PreTrainedModel = AutoModelForCausalLM.from_pretrained(\n",
    "            model_name_or_path\n",
    "        )\n",
    "        self.model = self.model.to(self.device)\n",
    "\n",
    "        if hasattr(self.model, \"lm_head\"):\n",
    "            self.model_lm_head: nn.Linear = self.model.lm_head\n",
    "        elif hasattr(self.model.model, \"lm_head\"):\n",
    "            self.model_lm_head: nn.Linear = self.model.model.lm_head\n",
    "        else:\n",
    "            raise ValueError(\"Could not find lm_head in model\")\n",
    "\n",
    "    def __call__(\n",
    "        self, batch: dict[str, list[str]], /, key=None\n",
    "    ) -> dict[str, list[torch.Tensor]]:\n",
    "        return {\"features\": self.process(batch[key or self._key])}\n",
    "\n",
    "    def process(self, batch: list[str]) -> list[torch.Tensor]:\n",
    "        encoding = self.tokenizer(\n",
    "            batch,\n",
    "            padding=True,\n",
    "            truncation=True,\n",
    "            max_length=self.feature_dim,\n",
    "            return_tensors=\"pt\",\n",
    "        )\n",
    "        batch_hidden_states = self.forward(encoding.input_ids, encoding.attention_mask)\n",
    "\n",
    "        intermediate_likelihoods = []\n",
    "        for input_ids, hidden_states in zip(encoding.input_ids, batch_hidden_states):\n",
    "            intermediate_likelihoods.append(\n",
    "                self.compute_intermediate_likelihoods(input_ids, hidden_states)\n",
    "            )\n",
    "\n",
    "        return intermediate_likelihoods\n",
    "\n",
    "    def forward(\n",
    "        self,\n",
    "        input_ids: torch.Tensor,\n",
    "        attention_mask: torch.Tensor,\n",
    "    ) -> Iterable[tuple[torch.Tensor, ...]]:\n",
    "        with torch.no_grad():\n",
    "            outputs = self.model(\n",
    "                input_ids=input_ids.to(self.device),\n",
    "                attention_mask=attention_mask.to(self.device),\n",
    "                output_hidden_states=True,\n",
    "            )\n",
    "\n",
    "            # unpack hidden states to get one list of tensors per input sequence,\n",
    "            # instead of one hidden state per layer in the model\n",
    "            hidden_states = zip(*[hs.cpu() for hs in outputs.hidden_states])  # type: ignore\n",
    "\n",
    "            del outputs\n",
    "        return hidden_states\n",
    "\n",
    "    def compute_intermediate_likelihoods(\n",
    "        self,\n",
    "        input_ids: torch.Tensor,\n",
    "        hidden_states: tuple[torch.Tensor],\n",
    "    ) -> torch.Tensor:\n",
    "        labels = input_ids[1:].view(-1, 1)\n",
    "\n",
    "        seq_length = min(labels.ne(self.pad_token_id).sum(), self.feature_dim)\n",
    "        labels = labels[:seq_length].to(self.device)\n",
    "\n",
    "        intermediate_likelihoods = []\n",
    "        with torch.no_grad():\n",
    "            for hs in hidden_states:\n",
    "                hs: torch.Tensor = hs[:seq_length].to(self.device)\n",
    "                il = (\n",
    "                    # get layer logits\n",
    "                    self.model_lm_head(hs)\n",
    "                    # calculate likelihoods\n",
    "                    .softmax(-1)\n",
    "                    # get likelihoods of input tokens\n",
    "                    .gather(-1, labels)\n",
    "                    .squeeze(-1)\n",
    "                    .cpu()\n",
    "                )\n",
    "                del hs\n",
    "\n",
    "                # pad with zeros if sequence is shorter than required feature_dim\n",
    "                if seq_length < self.feature_dim:\n",
    "                    il = torch.cat([il, torch.zeros(self.feature_dim - seq_length)])\n",
    "\n",
    "                intermediate_likelihoods.append(il)\n",
    "        # stack intermediate likelihoods to get tensor of shape (feature_dim, num_layers)\n",
    "        return torch.stack(intermediate_likelihoods, dim=1)"
   ]
  },
  {
   "cell_type": "markdown",
   "metadata": {},
   "source": [
    "### Luminar Classifier\n",
    "\n",
    "CNN-based classifier using _Intermediate Likelihoods_ as input features.\n",
    "Here, we utilize these inherently 2D values (`seq_len * num_layers`) as 1D inputs where the second dimension is treated as input channels."
   ]
  },
  {
   "cell_type": "code",
   "execution_count": 3,
   "metadata": {},
   "outputs": [],
   "source": [
    "class ConvolutionalLayerSpec(NamedTuple):\n",
    "    channels: int\n",
    "    kernel_size: int | tuple[int, int]\n",
    "    stride: int = 1\n",
    "\n",
    "    @property\n",
    "    def kernel_size_1d(self):\n",
    "        if isinstance(self.kernel_size, int):\n",
    "            return self.kernel_size\n",
    "        return self.kernel_size[0]\n",
    "\n",
    "    @property\n",
    "    def kernel_size_2d(self):\n",
    "        if isinstance(self.kernel_size, int):\n",
    "            return (self.kernel_size, self.kernel_size)\n",
    "        return self.kernel_size\n",
    "\n",
    "    @property\n",
    "    def padding(self) -> int:\n",
    "        return (self.kernel_size_1d - 1) // 2\n",
    "\n",
    "    def __repr__(self):\n",
    "        return repr(tuple(self))\n",
    "\n",
    "\n",
    "DEFAULT_CONV_LAYER_SHAPES = ((64, 5), (128, 3), (128, 3), (128, 3), (64, 3))\n",
    "\n",
    "\n",
    "class LuminarClassifier(nn.Module):\n",
    "    def __init__(\n",
    "        self,\n",
    "        conv_layer_shapes: Iterable[ConvolutionalLayerSpec] = DEFAULT_CONV_LAYER_SHAPES,\n",
    "        projection_dim: int | None = None,\n",
    "    ):\n",
    "        super().__init__()\n",
    "        self.conv_layers = nn.Sequential()\n",
    "        for conv in conv_layer_shapes:\n",
    "            conv = ConvolutionalLayerSpec(*conv)\n",
    "            self.conv_layers.append(\n",
    "                nn.LazyConv1d(\n",
    "                    conv.channels,\n",
    "                    conv.kernel_size,  # type: ignore\n",
    "                    conv.stride,\n",
    "                    conv.padding,\n",
    "                ),\n",
    "            )\n",
    "            self.conv_layers.append(\n",
    "                nn.LeakyReLU(),\n",
    "            )\n",
    "        self.conv_layers.append(nn.Flatten())\n",
    "\n",
    "        if projection_dim:\n",
    "            self.projection = nn.Sequential(\n",
    "                nn.LazyLinear(projection_dim), nn.LeakyReLU()\n",
    "            )\n",
    "        else:\n",
    "            self.projection = nn.Identity()\n",
    "\n",
    "        self.classifier = nn.LazyLinear(1)\n",
    "\n",
    "    def forward(self, features: torch.Tensor):\n",
    "        # We are using 2D features (so `features` is a 3D tensor)\n",
    "        # but we want to treat the second feature dimension as channels.\n",
    "        # Thus, we need to transpose the tensor here\n",
    "        features = features.transpose(1, 2)\n",
    "\n",
    "        for layer in self.conv_layers:\n",
    "            features = layer(features)\n",
    "\n",
    "        return self.classifier(self.projection(features.flatten(1)))\n"
   ]
  },
  {
   "cell_type": "markdown",
   "metadata": {},
   "source": [
    "## Example"
   ]
  },
  {
   "cell_type": "markdown",
   "metadata": {},
   "source": [
    "### Prepare Data"
   ]
  },
  {
   "cell_type": "code",
   "execution_count": 1,
   "metadata": {},
   "outputs": [
    {
     "name": "stderr",
     "output_type": "stream",
     "text": [
      "2025-05-14 11:13:56,048\tINFO worker.py:1694 -- Connecting to existing Ray cluster at address: 141.2.108.212:6379...\n",
      "2025-05-14 11:13:56,058\tINFO worker.py:1879 -- Connected to Ray cluster. View the dashboard at \u001b[1m\u001b[32mhttp://141.2.108.212:8265 \u001b[39m\u001b[22m\n"
     ]
    },
    {
     "data": {
      "application/vnd.jupyter.widget-view+json": {
       "model_id": "e49f5bc38d574851ad5fbea30fe7aea0",
       "version_major": 2,
       "version_minor": 0
      },
      "text/html": [
       "<div class=\"lm-Widget p-Widget lm-Panel p-Panel jp-Cell-outputWrapper\">\n",
       "    <div style=\"margin-left: 50px;display: flex;flex-direction: row;align-items: center\">\n",
       "        <div class=\"jp-RenderedHTMLCommon\" style=\"display: flex; flex-direction: row;\">\n",
       "  <svg viewBox=\"0 0 567 224\" fill=\"none\" xmlns=\"http://www.w3.org/2000/svg\" style=\"height: 3em;\">\n",
       "    <g clip-path=\"url(#clip0_4338_178347)\">\n",
       "        <path d=\"M341.29 165.561H355.29L330.13 129.051C345.63 123.991 354.21 112.051 354.21 94.2307C354.21 71.3707 338.72 58.1807 311.88 58.1807H271V165.561H283.27V131.661H311.8C314.25 131.661 316.71 131.501 319.01 131.351L341.25 165.561H341.29ZM283.29 119.851V70.0007H311.82C331.3 70.0007 342.34 78.2907 342.34 94.5507C342.34 111.271 331.34 119.861 311.82 119.861L283.29 119.851ZM451.4 138.411L463.4 165.561H476.74L428.74 58.1807H416L367.83 165.561H380.83L392.83 138.411H451.4ZM446.19 126.601H398L422 72.1407L446.24 126.601H446.19ZM526.11 128.741L566.91 58.1807H554.35L519.99 114.181L485.17 58.1807H472.44L514.01 129.181V165.541H526.13V128.741H526.11Z\" fill=\"var(--jp-ui-font-color0)\"/>\n",
       "        <path d=\"M82.35 104.44C84.0187 97.8827 87.8248 92.0678 93.1671 87.9146C98.5094 83.7614 105.083 81.5067 111.85 81.5067C118.617 81.5067 125.191 83.7614 130.533 87.9146C135.875 92.0678 139.681 97.8827 141.35 104.44H163.75C164.476 101.562 165.622 98.8057 167.15 96.2605L127.45 56.5605C121.071 60.3522 113.526 61.6823 106.235 60.3005C98.9443 58.9187 92.4094 54.9203 87.8602 49.0574C83.3109 43.1946 81.0609 35.8714 81.5332 28.4656C82.0056 21.0599 85.1679 14.0819 90.4252 8.8446C95.6824 3.60726 102.672 0.471508 110.08 0.0272655C117.487 -0.416977 124.802 1.86091 130.647 6.4324C136.493 11.0039 140.467 17.5539 141.821 24.8501C143.175 32.1463 141.816 39.6859 138 46.0505L177.69 85.7505C182.31 82.9877 187.58 81.4995 192.962 81.4375C198.345 81.3755 203.648 82.742 208.33 85.3976C213.012 88.0532 216.907 91.9029 219.616 96.5544C222.326 101.206 223.753 106.492 223.753 111.875C223.753 117.258 222.326 122.545 219.616 127.197C216.907 131.848 213.012 135.698 208.33 138.353C203.648 141.009 198.345 142.375 192.962 142.313C187.58 142.251 182.31 140.763 177.69 138L138 177.7C141.808 184.071 143.155 191.614 141.79 198.91C140.424 206.205 136.44 212.75 130.585 217.313C124.731 221.875 117.412 224.141 110.004 223.683C102.596 223.226 95.6103 220.077 90.3621 214.828C85.1139 209.58 81.9647 202.595 81.5072 195.187C81.0497 187.779 83.3154 180.459 87.878 174.605C92.4405 168.751 98.9853 164.766 106.281 163.401C113.576 162.035 121.119 163.383 127.49 167.19L167.19 127.49C165.664 124.941 164.518 122.182 163.79 119.3H141.39C139.721 125.858 135.915 131.673 130.573 135.826C125.231 139.98 118.657 142.234 111.89 142.234C105.123 142.234 98.5494 139.98 93.2071 135.826C87.8648 131.673 84.0587 125.858 82.39 119.3H60C58.1878 126.495 53.8086 132.78 47.6863 136.971C41.5641 141.163 34.1211 142.972 26.7579 142.059C19.3947 141.146 12.6191 137.574 7.70605 132.014C2.79302 126.454 0.0813599 119.29 0.0813599 111.87C0.0813599 104.451 2.79302 97.2871 7.70605 91.7272C12.6191 86.1673 19.3947 82.5947 26.7579 81.6817C34.1211 80.7686 41.5641 82.5781 47.6863 86.7696C53.8086 90.9611 58.1878 97.2456 60 104.44H82.35ZM100.86 204.32C103.407 206.868 106.759 208.453 110.345 208.806C113.93 209.159 117.527 208.258 120.522 206.256C123.517 204.254 125.725 201.276 126.771 197.828C127.816 194.38 127.633 190.677 126.253 187.349C124.874 184.021 122.383 181.274 119.205 179.577C116.027 177.88 112.359 177.337 108.826 178.042C105.293 178.746 102.113 180.654 99.8291 183.44C97.5451 186.226 96.2979 189.718 96.3 193.32C96.2985 195.364 96.7006 197.388 97.4831 199.275C98.2656 201.163 99.4132 202.877 100.86 204.32ZM204.32 122.88C206.868 120.333 208.453 116.981 208.806 113.396C209.159 109.811 208.258 106.214 206.256 103.219C204.254 100.223 201.275 98.0151 197.827 96.97C194.38 95.9249 190.676 96.1077 187.348 97.4873C184.02 98.8669 181.274 101.358 179.577 104.536C177.879 107.714 177.337 111.382 178.041 114.915C178.746 118.448 180.653 121.627 183.439 123.911C186.226 126.195 189.717 127.443 193.32 127.44C195.364 127.443 197.388 127.042 199.275 126.259C201.163 125.476 202.878 124.328 204.32 122.88ZM122.88 19.4205C120.333 16.8729 116.981 15.2876 113.395 14.9347C109.81 14.5817 106.213 15.483 103.218 17.4849C100.223 19.4868 98.0146 22.4654 96.9696 25.9131C95.9245 29.3608 96.1073 33.0642 97.4869 36.3922C98.8665 39.7202 101.358 42.4668 104.535 44.1639C107.713 45.861 111.381 46.4036 114.914 45.6992C118.447 44.9949 121.627 43.0871 123.911 40.301C126.195 37.515 127.442 34.0231 127.44 30.4205C127.44 28.3772 127.038 26.3539 126.255 24.4664C125.473 22.5788 124.326 20.8642 122.88 19.4205ZM19.42 100.86C16.8725 103.408 15.2872 106.76 14.9342 110.345C14.5813 113.93 15.4826 117.527 17.4844 120.522C19.4863 123.518 22.4649 125.726 25.9127 126.771C29.3604 127.816 33.0638 127.633 36.3918 126.254C39.7198 124.874 42.4664 122.383 44.1635 119.205C45.8606 116.027 46.4032 112.359 45.6988 108.826C44.9944 105.293 43.0866 102.114 40.3006 99.8296C37.5145 97.5455 34.0227 96.2983 30.42 96.3005C26.2938 96.3018 22.337 97.9421 19.42 100.86ZM100.86 100.86C98.3125 103.408 96.7272 106.76 96.3742 110.345C96.0213 113.93 96.9226 117.527 98.9244 120.522C100.926 123.518 103.905 125.726 107.353 126.771C110.8 127.816 114.504 127.633 117.832 126.254C121.16 124.874 123.906 122.383 125.604 119.205C127.301 116.027 127.843 112.359 127.139 108.826C126.434 105.293 124.527 102.114 121.741 99.8296C118.955 97.5455 115.463 96.2983 111.86 96.3005C109.817 96.299 107.793 96.701 105.905 97.4835C104.018 98.2661 102.303 99.4136 100.86 100.86Z\" fill=\"#00AEEF\"/>\n",
       "    </g>\n",
       "    <defs>\n",
       "        <clipPath id=\"clip0_4338_178347\">\n",
       "            <rect width=\"566.93\" height=\"223.75\" fill=\"white\"/>\n",
       "        </clipPath>\n",
       "    </defs>\n",
       "  </svg>\n",
       "</div>\n",
       "\n",
       "        <table class=\"jp-RenderedHTMLCommon\" style=\"border-collapse: collapse;color: var(--jp-ui-font-color1);font-size: var(--jp-ui-font-size1);\">\n",
       "    <tr>\n",
       "        <td style=\"text-align: left\"><b>Python version:</b></td>\n",
       "        <td style=\"text-align: left\"><b>3.12.7</b></td>\n",
       "    </tr>\n",
       "    <tr>\n",
       "        <td style=\"text-align: left\"><b>Ray version:</b></td>\n",
       "        <td style=\"text-align: left\"><b>2.46.0</b></td>\n",
       "    </tr>\n",
       "    <tr>\n",
       "    <td style=\"text-align: left\"><b>Dashboard:</b></td>\n",
       "    <td style=\"text-align: left\"><b><a href=\"http://141.2.108.212:8265\" target=\"_blank\">http://141.2.108.212:8265</a></b></td>\n",
       "</tr>\n",
       "\n",
       "</table>\n",
       "\n",
       "    </div>\n",
       "</div>\n"
      ],
      "text/plain": [
       "RayContext(dashboard_url='141.2.108.212:8265', python_version='3.12.7', ray_version='2.46.0', ray_commit='c3dd2ca0c2a24ddf327a213d2e936bd4eaa4ca0a')"
      ]
     },
     "execution_count": 1,
     "metadata": {},
     "output_type": "execute_result"
    },
    {
     "name": "stderr",
     "output_type": "stream",
     "text": [
      "\u001b[36m(raylet)\u001b[0m Spilled 11379 MiB, 2 objects, write throughput 2299 MiB/s. Set RAY_verbose_spill_logs=0 to disable this message.\n"
     ]
    },
    {
     "name": "stdout",
     "output_type": "stream",
     "text": [
      "\u001b[33m(raylet)\u001b[0m The autoscaler failed with the following error:\n",
      "Terminated with signal 15\n",
      "  File \"/nvme/projects/PrismAI/PrismAI/.venv/lib/python3.12/site-packages/ray/autoscaler/_private/monitor.py\", line 748, in <module>\n",
      "    monitor.run()\n",
      "  File \"/nvme/projects/PrismAI/PrismAI/.venv/lib/python3.12/site-packages/ray/autoscaler/_private/monitor.py\", line 605, in run\n",
      "    self._run()\n",
      "  File \"/nvme/projects/PrismAI/PrismAI/.venv/lib/python3.12/site-packages/ray/autoscaler/_private/monitor.py\", line 459, in _run\n",
      "    time.sleep(AUTOSCALER_UPDATE_INTERVAL_S)\n",
      "\n"
     ]
    }
   ],
   "source": [
    "import ray\n",
    "\n",
    "ray.init(address=\"auto\")"
   ]
  },
  {
   "cell_type": "code",
   "execution_count": 4,
   "metadata": {},
   "outputs": [
    {
     "data": {
      "application/vnd.jupyter.widget-view+json": {
       "model_id": "843c3c55e62449f5b598dccf35fc9828",
       "version_major": 2,
       "version_minor": 0
      },
      "text/plain": [
       "Loading dataset shards:   0%|          | 0/24 [00:00<?, ?it/s]"
      ]
     },
     "metadata": {},
     "output_type": "display_data"
    }
   ],
   "source": [
    "def load_ray_dataset():\n",
    "    return ray.data.from_huggingface(load_dataset(\"liamdugan/raid\", split=\"train\"))\n",
    "\n",
    "\n",
    "ray_ds = load_ray_dataset()"
   ]
  },
  {
   "cell_type": "code",
   "execution_count": null,
   "metadata": {},
   "outputs": [
    {
     "name": "stderr",
     "output_type": "stream",
     "text": [
      "2025-05-14 11:42:08,993\tINFO logging.py:290 -- Registered dataset logger for dataset dataset_10_0\n",
      "2025-05-14 11:42:08,995\tINFO streaming_executor.py:117 -- Starting execution of Dataset dataset_10_0. Full logs are in /tmp/ray/session_2025-05-14_10-45-36_614083_46283/logs/ray-data\n",
      "2025-05-14 11:42:08,996\tINFO streaming_executor.py:118 -- Execution plan of Dataset dataset_10_0: InputDataBuffer[Input] -> TaskPoolMapOperator[Write]\n"
     ]
    },
    {
     "data": {
      "application/vnd.jupyter.widget-view+json": {
       "model_id": "76d077b635c34c9c873a360b8f0b4c95",
       "version_major": 2,
       "version_minor": 0
      },
      "text/plain": [
       "Running 0: 0.00 row [00:00, ? row/s]"
      ]
     },
     "metadata": {},
     "output_type": "display_data"
    },
    {
     "data": {
      "application/vnd.jupyter.widget-view+json": {
       "model_id": "e228c29e4ba04cdfb86d8bcf52ed9dda",
       "version_major": 2,
       "version_minor": 0
      },
      "text/plain": [
       "- Write 1: 0.00 row [00:00, ? row/s]"
      ]
     },
     "metadata": {},
     "output_type": "display_data"
    },
    {
     "name": "stderr",
     "output_type": "stream",
     "text": [
      "2025-05-14 11:42:09,027\tERROR streaming_executor_state.py:489 -- An exception was raised from a task of operator \"Write\". Dataset execution will now abort. To ignore this exception and continue, set DataContext.max_errored_blocks.\n",
      "Traceback (most recent call last):\n",
      "  File \"/nvme/projects/PrismAI/PrismAI/.venv/lib/python3.12/site-packages/ray/data/_internal/execution/streaming_executor_state.py\", line 457, in process_completed_tasks\n",
      "    bytes_read = task.on_data_ready(\n",
      "                 ^^^^^^^^^^^^^^^^^^^\n",
      "  File \"/nvme/projects/PrismAI/PrismAI/.venv/lib/python3.12/site-packages/ray/data/_internal/execution/interfaces/physical_operator.py\", line 137, in on_data_ready\n",
      "    raise ex from None\n",
      "  File \"/nvme/projects/PrismAI/PrismAI/.venv/lib/python3.12/site-packages/ray/data/_internal/execution/interfaces/physical_operator.py\", line 133, in on_data_ready\n",
      "    ray.get(block_ref)\n",
      "  File \"/nvme/projects/PrismAI/PrismAI/.venv/lib/python3.12/site-packages/ray/_private/auto_init_hook.py\", line 21, in auto_init_wrapper\n",
      "    return fn(*args, **kwargs)\n",
      "           ^^^^^^^^^^^^^^^^^^^\n",
      "  File \"/nvme/projects/PrismAI/PrismAI/.venv/lib/python3.12/site-packages/ray/_private/client_mode_hook.py\", line 103, in wrapper\n",
      "    return func(*args, **kwargs)\n",
      "           ^^^^^^^^^^^^^^^^^^^^^\n",
      "  File \"/nvme/projects/PrismAI/PrismAI/.venv/lib/python3.12/site-packages/ray/_private/worker.py\", line 2822, in get\n",
      "    values, debugger_breakpoint = worker.get_objects(object_refs, timeout=timeout)\n",
      "                                  ^^^^^^^^^^^^^^^^^^^^^^^^^^^^^^^^^^^^^^^^^^^^^^^^\n",
      "  File \"/nvme/projects/PrismAI/PrismAI/.venv/lib/python3.12/site-packages/ray/_private/worker.py\", line 932, in get_objects\n",
      "    raise value\n",
      "ray.exceptions.TaskUnschedulableError: The task is not schedulable: The node specified via NodeAffinitySchedulingStrategy doesn't exist any more or is infeasible, and soft=False was specified. task_id=39132ad0276b05af6bf564f1c746b1a7d2cc62a30b000000, task_name=Write\n",
      "2025-05-14 11:42:09,039\tINFO streaming_executor.py:220 -- ⚠️  Dataset dataset_10_0 execution failed\n",
      "2025-05-14 11:42:09,041\tERROR exceptions.py:73 -- Exception occurred in Ray Data or Ray Core internal code. If you continue to see this error, please open an issue on the Ray project GitHub page with the full stack trace below: https://github.com/ray-project/ray/issues/new/choose\n",
      "2025-05-14 11:42:09,042\tERROR exceptions.py:81 -- Full stack trace:\n",
      "Traceback (most recent call last):\n",
      "  File \"/nvme/projects/PrismAI/PrismAI/.venv/lib/python3.12/site-packages/ray/data/exceptions.py\", line 49, in handle_trace\n",
      "    return fn(*args, **kwargs)\n",
      "           ^^^^^^^^^^^^^^^^^^^\n",
      "  File \"/nvme/projects/PrismAI/PrismAI/.venv/lib/python3.12/site-packages/ray/data/_internal/plan.py\", line 510, in execute\n",
      "    blocks = execute_to_legacy_block_list(\n",
      "             ^^^^^^^^^^^^^^^^^^^^^^^^^^^^^\n",
      "  File \"/nvme/projects/PrismAI/PrismAI/.venv/lib/python3.12/site-packages/ray/data/_internal/execution/legacy_compat.py\", line 121, in execute_to_legacy_block_list\n",
      "    block_list = _bundles_to_block_list(bundles)\n",
      "                 ^^^^^^^^^^^^^^^^^^^^^^^^^^^^^^^\n",
      "  File \"/nvme/projects/PrismAI/PrismAI/.venv/lib/python3.12/site-packages/ray/data/_internal/execution/legacy_compat.py\", line 169, in _bundles_to_block_list\n",
      "    for ref_bundle in bundles:\n",
      "                      ^^^^^^^\n",
      "  File \"/nvme/projects/PrismAI/PrismAI/.venv/lib/python3.12/site-packages/ray/data/_internal/execution/interfaces/executor.py\", line 34, in __next__\n",
      "    return self.get_next()\n",
      "           ^^^^^^^^^^^^^^^\n",
      "  File \"/nvme/projects/PrismAI/PrismAI/.venv/lib/python3.12/site-packages/ray/data/_internal/execution/streaming_executor.py\", line 568, in get_next\n",
      "    bundle = state.get_output_blocking(output_split_idx)\n",
      "             ^^^^^^^^^^^^^^^^^^^^^^^^^^^^^^^^^^^^^^^^^^^\n",
      "  File \"/nvme/projects/PrismAI/PrismAI/.venv/lib/python3.12/site-packages/ray/data/_internal/execution/streaming_executor_state.py\", line 316, in get_output_blocking\n",
      "    raise self._exception\n",
      "  File \"/nvme/projects/PrismAI/PrismAI/.venv/lib/python3.12/site-packages/ray/data/_internal/execution/streaming_executor.py\", line 268, in run\n",
      "    continue_sched = self._scheduling_loop_step(self._topology)\n",
      "                     ^^^^^^^^^^^^^^^^^^^^^^^^^^^^^^^^^^^^^^^^^^\n",
      "  File \"/nvme/projects/PrismAI/PrismAI/.venv/lib/python3.12/site-packages/ray/data/_internal/execution/streaming_executor.py\", line 326, in _scheduling_loop_step\n",
      "    num_errored_blocks = process_completed_tasks(\n",
      "                         ^^^^^^^^^^^^^^^^^^^^^^^^\n",
      "  File \"/nvme/projects/PrismAI/PrismAI/.venv/lib/python3.12/site-packages/ray/data/_internal/execution/streaming_executor_state.py\", line 490, in process_completed_tasks\n",
      "    raise e from None\n",
      "  File \"/nvme/projects/PrismAI/PrismAI/.venv/lib/python3.12/site-packages/ray/data/_internal/execution/streaming_executor_state.py\", line 457, in process_completed_tasks\n",
      "    bytes_read = task.on_data_ready(\n",
      "                 ^^^^^^^^^^^^^^^^^^^\n",
      "  File \"/nvme/projects/PrismAI/PrismAI/.venv/lib/python3.12/site-packages/ray/data/_internal/execution/interfaces/physical_operator.py\", line 137, in on_data_ready\n",
      "    raise ex from None\n",
      "  File \"/nvme/projects/PrismAI/PrismAI/.venv/lib/python3.12/site-packages/ray/data/_internal/execution/interfaces/physical_operator.py\", line 133, in on_data_ready\n",
      "    ray.get(block_ref)\n",
      "  File \"/nvme/projects/PrismAI/PrismAI/.venv/lib/python3.12/site-packages/ray/_private/auto_init_hook.py\", line 21, in auto_init_wrapper\n",
      "    return fn(*args, **kwargs)\n",
      "           ^^^^^^^^^^^^^^^^^^^\n",
      "  File \"/nvme/projects/PrismAI/PrismAI/.venv/lib/python3.12/site-packages/ray/_private/client_mode_hook.py\", line 103, in wrapper\n",
      "    return func(*args, **kwargs)\n",
      "           ^^^^^^^^^^^^^^^^^^^^^\n",
      "  File \"/nvme/projects/PrismAI/PrismAI/.venv/lib/python3.12/site-packages/ray/_private/worker.py\", line 2822, in get\n",
      "    values, debugger_breakpoint = worker.get_objects(object_refs, timeout=timeout)\n",
      "                                  ^^^^^^^^^^^^^^^^^^^^^^^^^^^^^^^^^^^^^^^^^^^^^^^^\n",
      "  File \"/nvme/projects/PrismAI/PrismAI/.venv/lib/python3.12/site-packages/ray/_private/worker.py\", line 932, in get_objects\n",
      "    raise value\n",
      "ray.exceptions.TaskUnschedulableError: The task is not schedulable: The node specified via NodeAffinitySchedulingStrategy doesn't exist any more or is infeasible, and soft=False was specified. task_id=39132ad0276b05af6bf564f1c746b1a7d2cc62a30b000000, task_name=Write\n"
     ]
    },
    {
     "ename": "TaskUnschedulableError",
     "evalue": "The task is not schedulable: The node specified via NodeAffinitySchedulingStrategy doesn't exist any more or is infeasible, and soft=False was specified. task_id=39132ad0276b05af6bf564f1c746b1a7d2cc62a30b000000, task_name=Write",
     "output_type": "error",
     "traceback": [
      "\u001b[0;31m---------------------------------------------------------------------------\u001b[0m",
      "\u001b[0;31mSystemException\u001b[0m                           Traceback (most recent call last)",
      "\u001b[0;31mSystemException\u001b[0m: ",
      "\nThe above exception was the direct cause of the following exception:\n",
      "\u001b[0;31mTaskUnschedulableError\u001b[0m                    Traceback (most recent call last)",
      "Cell \u001b[0;32mIn[9], line 1\u001b[0m\n\u001b[0;32m----> 1\u001b[0m \u001b[43mray_ds\u001b[49m\u001b[38;5;241;43m.\u001b[39;49m\u001b[43mwrite_parquet\u001b[49m\u001b[43m(\u001b[49m\u001b[38;5;124;43m\"\u001b[39;49m\u001b[38;5;124;43mlocal:///nvme/projects/PrismAI/PrismAI/data/liamdugan_raid_train/\u001b[39;49m\u001b[38;5;124;43m\"\u001b[39;49m\u001b[43m)\u001b[49m\n",
      "File \u001b[0;32m/nvme/projects/PrismAI/PrismAI/.venv/lib/python3.12/site-packages/ray/data/dataset.py:3422\u001b[0m, in \u001b[0;36mDataset.write_parquet\u001b[0;34m(self, path, partition_cols, filesystem, try_create_dir, arrow_open_stream_args, filename_provider, arrow_parquet_args_fn, min_rows_per_file, ray_remote_args, concurrency, num_rows_per_file, **arrow_parquet_args)\u001b[0m\n\u001b[1;32m   3406\u001b[0m effective_min_rows \u001b[38;5;241m=\u001b[39m _validate_rows_per_file_args(\n\u001b[1;32m   3407\u001b[0m     num_rows_per_file\u001b[38;5;241m=\u001b[39mnum_rows_per_file, min_rows_per_file\u001b[38;5;241m=\u001b[39mmin_rows_per_file\n\u001b[1;32m   3408\u001b[0m )\n\u001b[1;32m   3410\u001b[0m datasink \u001b[38;5;241m=\u001b[39m ParquetDatasink(\n\u001b[1;32m   3411\u001b[0m     path,\n\u001b[1;32m   3412\u001b[0m     partition_cols\u001b[38;5;241m=\u001b[39mpartition_cols,\n\u001b[0;32m   (...)\u001b[0m\n\u001b[1;32m   3420\u001b[0m     dataset_uuid\u001b[38;5;241m=\u001b[39m\u001b[38;5;28mself\u001b[39m\u001b[38;5;241m.\u001b[39m_uuid,\n\u001b[1;32m   3421\u001b[0m )\n\u001b[0;32m-> 3422\u001b[0m \u001b[38;5;28;43mself\u001b[39;49m\u001b[38;5;241;43m.\u001b[39;49m\u001b[43mwrite_datasink\u001b[49m\u001b[43m(\u001b[49m\n\u001b[1;32m   3423\u001b[0m \u001b[43m    \u001b[49m\u001b[43mdatasink\u001b[49m\u001b[43m,\u001b[49m\n\u001b[1;32m   3424\u001b[0m \u001b[43m    \u001b[49m\u001b[43mray_remote_args\u001b[49m\u001b[38;5;241;43m=\u001b[39;49m\u001b[43mray_remote_args\u001b[49m\u001b[43m,\u001b[49m\n\u001b[1;32m   3425\u001b[0m \u001b[43m    \u001b[49m\u001b[43mconcurrency\u001b[49m\u001b[38;5;241;43m=\u001b[39;49m\u001b[43mconcurrency\u001b[49m\u001b[43m,\u001b[49m\n\u001b[1;32m   3426\u001b[0m \u001b[43m\u001b[49m\u001b[43m)\u001b[49m\n",
      "File \u001b[0;32m/nvme/projects/PrismAI/PrismAI/.venv/lib/python3.12/site-packages/ray/data/dataset.py:4532\u001b[0m, in \u001b[0;36mDataset.write_datasink\u001b[0;34m(self, datasink, ray_remote_args, concurrency)\u001b[0m\n\u001b[1;32m   4529\u001b[0m \u001b[38;5;28;01mtry\u001b[39;00m:\n\u001b[1;32m   4530\u001b[0m     datasink\u001b[38;5;241m.\u001b[39mon_write_start()\n\u001b[0;32m-> 4532\u001b[0m     \u001b[38;5;28mself\u001b[39m\u001b[38;5;241m.\u001b[39m_write_ds \u001b[38;5;241m=\u001b[39m \u001b[43mDataset\u001b[49m\u001b[43m(\u001b[49m\u001b[43mplan\u001b[49m\u001b[43m,\u001b[49m\u001b[43m \u001b[49m\u001b[43mlogical_plan\u001b[49m\u001b[43m)\u001b[49m\u001b[38;5;241;43m.\u001b[39;49m\u001b[43mmaterialize\u001b[49m\u001b[43m(\u001b[49m\u001b[43m)\u001b[49m\n\u001b[1;32m   4533\u001b[0m     \u001b[38;5;66;03m# TODO: Get and handle the blocks with an iterator instead of getting\u001b[39;00m\n\u001b[1;32m   4534\u001b[0m     \u001b[38;5;66;03m# everything in a blocking way, so some blocks can be freed earlier.\u001b[39;00m\n\u001b[1;32m   4535\u001b[0m     raw_write_results \u001b[38;5;241m=\u001b[39m ray\u001b[38;5;241m.\u001b[39mget(\u001b[38;5;28mself\u001b[39m\u001b[38;5;241m.\u001b[39m_write_ds\u001b[38;5;241m.\u001b[39m_plan\u001b[38;5;241m.\u001b[39mexecute()\u001b[38;5;241m.\u001b[39mblock_refs)\n",
      "File \u001b[0;32m/nvme/projects/PrismAI/PrismAI/.venv/lib/python3.12/site-packages/ray/data/dataset.py:5589\u001b[0m, in \u001b[0;36mDataset.materialize\u001b[0;34m(self)\u001b[0m\n\u001b[1;32m   5569\u001b[0m \u001b[38;5;250m\u001b[39m\u001b[38;5;124;03m\"\"\"Execute and materialize this dataset into object store memory.\u001b[39;00m\n\u001b[1;32m   5570\u001b[0m \n\u001b[1;32m   5571\u001b[0m \u001b[38;5;124;03mThis can be used to read all blocks into memory. By default, Dataset\u001b[39;00m\n\u001b[0;32m   (...)\u001b[0m\n\u001b[1;32m   5585\u001b[0m \u001b[38;5;124;03m    A MaterializedDataset holding the materialized data blocks.\u001b[39;00m\n\u001b[1;32m   5586\u001b[0m \u001b[38;5;124;03m\"\"\"\u001b[39;00m\n\u001b[1;32m   5587\u001b[0m copy \u001b[38;5;241m=\u001b[39m Dataset\u001b[38;5;241m.\u001b[39mcopy(\u001b[38;5;28mself\u001b[39m, _deep_copy\u001b[38;5;241m=\u001b[39m\u001b[38;5;28;01mTrue\u001b[39;00m, _as\u001b[38;5;241m=\u001b[39mMaterializedDataset)\n\u001b[0;32m-> 5589\u001b[0m bundle \u001b[38;5;241m=\u001b[39m \u001b[43mcopy\u001b[49m\u001b[38;5;241;43m.\u001b[39;49m\u001b[43m_plan\u001b[49m\u001b[38;5;241;43m.\u001b[39;49m\u001b[43mexecute\u001b[49m\u001b[43m(\u001b[49m\u001b[43m)\u001b[49m\n\u001b[1;32m   5590\u001b[0m blocks_with_metadata \u001b[38;5;241m=\u001b[39m bundle\u001b[38;5;241m.\u001b[39mblocks\n\u001b[1;32m   5592\u001b[0m \u001b[38;5;66;03m# TODO(hchen): Here we generate the same number of blocks as\u001b[39;00m\n\u001b[1;32m   5593\u001b[0m \u001b[38;5;66;03m# the original Dataset. Because the old code path does this, and\u001b[39;00m\n\u001b[1;32m   5594\u001b[0m \u001b[38;5;66;03m# some unit tests implicily depend on this behavior.\u001b[39;00m\n\u001b[1;32m   5595\u001b[0m \u001b[38;5;66;03m# After we remove the old code path, we should consider merging\u001b[39;00m\n\u001b[1;32m   5596\u001b[0m \u001b[38;5;66;03m# some blocks for better perf.\u001b[39;00m\n",
      "File \u001b[0;32m/nvme/projects/PrismAI/PrismAI/.venv/lib/python3.12/site-packages/ray/data/exceptions.py:89\u001b[0m, in \u001b[0;36momit_traceback_stdout.<locals>.handle_trace\u001b[0;34m(*args, **kwargs)\u001b[0m\n\u001b[1;32m     87\u001b[0m     \u001b[38;5;28;01mraise\u001b[39;00m e\u001b[38;5;241m.\u001b[39mwith_traceback(\u001b[38;5;28;01mNone\u001b[39;00m)\n\u001b[1;32m     88\u001b[0m \u001b[38;5;28;01melse\u001b[39;00m:\n\u001b[0;32m---> 89\u001b[0m     \u001b[38;5;28;01mraise\u001b[39;00m e\u001b[38;5;241m.\u001b[39mwith_traceback(\u001b[38;5;28;01mNone\u001b[39;00m) \u001b[38;5;28;01mfrom\u001b[39;00m\u001b[38;5;250m \u001b[39m\u001b[38;5;21;01mSystemException\u001b[39;00m()\n",
      "\u001b[0;31mTaskUnschedulableError\u001b[0m: The task is not schedulable: The node specified via NodeAffinitySchedulingStrategy doesn't exist any more or is infeasible, and soft=False was specified. task_id=39132ad0276b05af6bf564f1c746b1a7d2cc62a30b000000, task_name=Write"
     ]
    },
    {
     "name": "stderr",
     "output_type": "stream",
     "text": [
      "[2025-05-14 11:50:02,631 E 61783 62468] core_worker.cc:941: :info_message: Attempting to recover 2 lost objects by resubmitting their tasks or setting a new primary location from existing copies. To disable object reconstruction, set @ray.remote(max_retries=0).\n"
     ]
    },
    {
     "ename": "",
     "evalue": "",
     "output_type": "error",
     "traceback": [
      "\u001b[1;31mThe Kernel crashed while executing code in the current cell or a previous cell. \n",
      "\u001b[1;31mPlease review the code in the cell(s) to identify a possible cause of the failure. \n",
      "\u001b[1;31mClick <a href='https://aka.ms/vscodeJupyterKernelCrash'>here</a> for more info. \n",
      "\u001b[1;31mView Jupyter <a href='command:jupyter.viewOutput'>log</a> for further details."
     ]
    }
   ],
   "source": [
    "ray_ds.write_parquet(\"local:///nvme/projects/PrismAI/PrismAI/data/liamdugan_raid_train/\")"
   ]
  },
  {
   "cell_type": "code",
   "execution_count": 39,
   "metadata": {},
   "outputs": [
    {
     "data": {
      "text/plain": [
       "0"
      ]
     },
     "execution_count": 39,
     "metadata": {},
     "output_type": "execute_result"
    }
   ],
   "source": [
    "import gc\n",
    "\n",
    "gc.collect()"
   ]
  },
  {
   "cell_type": "code",
   "execution_count": null,
   "metadata": {},
   "outputs": [],
   "source": [
    "class LuminarEncoderRaid(LuminarEncoder):\n",
    "    def __init__(self):\n",
    "        super().__init__(256, \"gpt2\", key=\"generation\")"
   ]
  },
  {
   "cell_type": "markdown",
   "metadata": {},
   "source": [
    "### Encode Samples"
   ]
  },
  {
   "cell_type": "code",
   "execution_count": 41,
   "metadata": {},
   "outputs": [
    {
     "data": {
      "application/vnd.jupyter.widget-view+json": {
       "model_id": "1b31616ba4f74021b734e9cfe7ff35f5",
       "version_major": 2,
       "version_minor": 0
      },
      "text/plain": [
       "limit=2560\n",
       "+- Dataset(\n",
       "      num_rows=5615820,\n",
       "      schema={\n",
       "         id: string,\n",
       "         adv_source_id: string,\n",
       "         source_id: string,\n",
       "         model: string,\n",
       "         decoding: string,\n",
       "         repetition_penalty: string,\n",
       "         attack: string,\n",
       "         domain: string,\n",
       "         title: string,\n",
       "         prompt: string,\n",
       "         generation: string\n",
       "      }\n",
       "   )"
      ]
     },
     "execution_count": 41,
     "metadata": {},
     "output_type": "execute_result"
    }
   ],
   "source": [
    "tiny_ds = ray_ds.limit(2560)\n",
    "tiny_ds"
   ]
  },
  {
   "cell_type": "code",
   "execution_count": 47,
   "metadata": {},
   "outputs": [
    {
     "name": "stderr",
     "output_type": "stream",
     "text": [
      "2025-05-13 19:21:35,508\tINFO logging.py:290 -- Registered dataset logger for dataset dataset_6c9ecd80d7ad4139bb83e54952b64013_0\n",
      "2025-05-13 19:21:35,508\tINFO logging.py:298 -- dataset_6c9ecd80d7ad4139bb83e54952b64013_0 registers for logging while another dataset dataset_28_0 is also logging. For performance reasons, we will not log to the dataset dataset_6c9ecd80d7ad4139bb83e54952b64013_0 until it is the only active dataset.\n",
      "2025-05-13 19:21:35,510\tINFO streaming_executor.py:117 -- Starting execution of Dataset dataset_6c9ecd80d7ad4139bb83e54952b64013_0. Full logs are in /tmp/ray/session_2025-05-13_18-37-32_148385_1350620/logs/ray-data\n",
      "2025-05-13 19:21:35,510\tINFO streaming_executor.py:118 -- Execution plan of Dataset dataset_6c9ecd80d7ad4139bb83e54952b64013_0: InputDataBuffer[Input] -> LimitOperator[limit=2560] -> ActorPoolMapOperator[MapBatches(LuminarEncoderRaid)] -> TaskPoolMapOperator[Write]\n"
     ]
    },
    {
     "data": {
      "application/vnd.jupyter.widget-view+json": {
       "model_id": "4afa667a27984b3c9272eaf36b6a4d53",
       "version_major": 2,
       "version_minor": 0
      },
      "text/plain": [
       "Running 0: 0.00 row [00:00, ? row/s]"
      ]
     },
     "metadata": {},
     "output_type": "display_data"
    },
    {
     "name": "stderr",
     "output_type": "stream",
     "text": [
      "2025-05-13 19:21:40,434\tERROR exceptions.py:73 -- Exception occurred in Ray Data or Ray Core internal code. If you continue to see this error, please open an issue on the Ray project GitHub page with the full stack trace below: https://github.com/ray-project/ray/issues/new/choose\n",
      "2025-05-13 19:21:40,434\tERROR exceptions.py:81 -- Full stack trace:\n",
      "Traceback (most recent call last):\n",
      "  File \"/nvme/projects/PrismAI/PrismAI/.venv/lib/python3.12/site-packages/ray/data/exceptions.py\", line 49, in handle_trace\n",
      "    return fn(*args, **kwargs)\n",
      "           ^^^^^^^^^^^^^^^^^^^\n",
      "  File \"/nvme/projects/PrismAI/PrismAI/.venv/lib/python3.12/site-packages/ray/data/_internal/plan.py\", line 510, in execute\n",
      "    blocks = execute_to_legacy_block_list(\n",
      "             ^^^^^^^^^^^^^^^^^^^^^^^^^^^^^\n",
      "  File \"/nvme/projects/PrismAI/PrismAI/.venv/lib/python3.12/site-packages/ray/data/_internal/execution/legacy_compat.py\", line 120, in execute_to_legacy_block_list\n",
      "    bundles = executor.execute(dag, initial_stats=stats)\n",
      "              ^^^^^^^^^^^^^^^^^^^^^^^^^^^^^^^^^^^^^^^^^^\n",
      "  File \"/nvme/projects/PrismAI/PrismAI/.venv/lib/python3.12/site-packages/ray/data/_internal/execution/streaming_executor.py\", line 135, in execute\n",
      "    self._topology, _ = build_streaming_topology(dag, self._options)\n",
      "                        ^^^^^^^^^^^^^^^^^^^^^^^^^^^^^^^^^^^^^^^^^^^^\n",
      "  File \"/nvme/projects/PrismAI/PrismAI/.venv/lib/python3.12/site-packages/ray/data/_internal/execution/streaming_executor_state.py\", line 386, in build_streaming_topology\n",
      "    setup_state(dag)\n",
      "  File \"/nvme/projects/PrismAI/PrismAI/.venv/lib/python3.12/site-packages/ray/data/_internal/execution/streaming_executor_state.py\", line 377, in setup_state\n",
      "    parent_state = setup_state(parent)\n",
      "                   ^^^^^^^^^^^^^^^^^^^\n",
      "  File \"/nvme/projects/PrismAI/PrismAI/.venv/lib/python3.12/site-packages/ray/data/_internal/execution/streaming_executor_state.py\", line 383, in setup_state\n",
      "    op.start(options)\n",
      "  File \"/nvme/projects/PrismAI/PrismAI/.venv/lib/python3.12/site-packages/ray/data/_internal/execution/operators/actor_pool_map_operator.py\", line 155, in start\n",
      "    ray.get(refs, timeout=timeout)\n",
      "  File \"/nvme/projects/PrismAI/PrismAI/.venv/lib/python3.12/site-packages/ray/_private/auto_init_hook.py\", line 21, in auto_init_wrapper\n",
      "    return fn(*args, **kwargs)\n",
      "           ^^^^^^^^^^^^^^^^^^^\n",
      "  File \"/nvme/projects/PrismAI/PrismAI/.venv/lib/python3.12/site-packages/ray/_private/client_mode_hook.py\", line 103, in wrapper\n",
      "    return func(*args, **kwargs)\n",
      "           ^^^^^^^^^^^^^^^^^^^^^\n",
      "  File \"/nvme/projects/PrismAI/PrismAI/.venv/lib/python3.12/site-packages/ray/_private/worker.py\", line 2822, in get\n",
      "    values, debugger_breakpoint = worker.get_objects(object_refs, timeout=timeout)\n",
      "                                  ^^^^^^^^^^^^^^^^^^^^^^^^^^^^^^^^^^^^^^^^^^^^^^^^\n",
      "  File \"/nvme/projects/PrismAI/PrismAI/.venv/lib/python3.12/site-packages/ray/_private/worker.py\", line 932, in get_objects\n",
      "    raise value\n",
      "ray.exceptions.ActorDiedError: The actor died because of an error raised in its creation task, \u001b[36mray::_MapWorker.__init__()\u001b[39m (pid=1354939, ip=141.2.89.10, actor_id=b5e20e564e3653a2f198951804000000, repr=MapWorker(MapBatches(LuminarEncoderRaid)))\n",
      "           ^^^^^^^^^^^^^^^^^^^^^^^^^^^^^^^^^^^^\n",
      "  File \"/home/staff_homes/mastoeck/python/.venv/lib/python3.12/site-packages/ray/data/_internal/execution/operators/actor_pool_map_operator.py\", line 425, in __init__\n",
      "    self._map_transformer.init()\n",
      "  File \"/home/staff_homes/mastoeck/python/.venv/lib/python3.12/site-packages/ray/data/_internal/execution/operators/map_transformer.py\", line 203, in init\n",
      "    self._init_fn()\n",
      "  File \"/nvme/projects/PrismAI/PrismAI/.venv/lib/python3.12/site-packages/ray/data/_internal/planner/plan_udf_map_op.py\", line 273, in init_fn\n",
      "  File \"/nvme/projects/PrismAI/PrismAI/.venv/lib/python3.12/site-packages/ray/data/_internal/execution/util.py\", line 70, in __init__\n",
      "  File \"/tmp/ipykernel_1354780/4182275563.py\", line 3, in __init__\n",
      "AssertionError\n"
     ]
    },
    {
     "ename": "ActorDiedError",
     "evalue": "The actor died because of an error raised in its creation task, \u001b[36mray::_MapWorker.__init__()\u001b[39m (pid=1354939, ip=141.2.89.10, actor_id=b5e20e564e3653a2f198951804000000, repr=MapWorker(MapBatches(LuminarEncoderRaid)))\n           ^^^^^^^^^^^^^^^^^^^^^^^^^^^^^^^^^^^^\n  File \"/home/staff_homes/mastoeck/python/.venv/lib/python3.12/site-packages/ray/data/_internal/execution/operators/actor_pool_map_operator.py\", line 425, in __init__\n    self._map_transformer.init()\n  File \"/home/staff_homes/mastoeck/python/.venv/lib/python3.12/site-packages/ray/data/_internal/execution/operators/map_transformer.py\", line 203, in init\n    self._init_fn()\n  File \"/nvme/projects/PrismAI/PrismAI/.venv/lib/python3.12/site-packages/ray/data/_internal/planner/plan_udf_map_op.py\", line 273, in init_fn\n  File \"/nvme/projects/PrismAI/PrismAI/.venv/lib/python3.12/site-packages/ray/data/_internal/execution/util.py\", line 70, in __init__\n  File \"/tmp/ipykernel_1354780/4182275563.py\", line 3, in __init__\nAssertionError",
     "output_type": "error",
     "traceback": [
      "\u001b[0;31m---------------------------------------------------------------------------\u001b[0m",
      "\u001b[0;31mSystemException\u001b[0m                           Traceback (most recent call last)",
      "\u001b[0;31mSystemException\u001b[0m: ",
      "\nThe above exception was the direct cause of the following exception:\n",
      "\u001b[0;31mActorDiedError\u001b[0m                            Traceback (most recent call last)",
      "Cell \u001b[0;32mIn[47], line 6\u001b[0m\n\u001b[1;32m      1\u001b[0m ds \u001b[38;5;241m=\u001b[39m tiny_ds\u001b[38;5;241m.\u001b[39mmap_batches(\n\u001b[1;32m      2\u001b[0m     LuminarEncoderRaid,\n\u001b[1;32m      3\u001b[0m     concurrency\u001b[38;5;241m=\u001b[39m\u001b[38;5;241m10\u001b[39m,\n\u001b[1;32m      4\u001b[0m     batch_size\u001b[38;5;241m=\u001b[39m\u001b[38;5;241m128\u001b[39m,\n\u001b[1;32m      5\u001b[0m )\n\u001b[0;32m----> 6\u001b[0m \u001b[43mds\u001b[49m\u001b[38;5;241;43m.\u001b[39;49m\u001b[43mwrite_parquet\u001b[49m\u001b[43m(\u001b[49m\u001b[38;5;124;43m\"\u001b[39;49m\u001b[38;5;124;43mdata/raid-gpt2-256-first.parquet\u001b[39;49m\u001b[38;5;124;43m\"\u001b[39;49m\u001b[43m,\u001b[49m\u001b[43m \u001b[49m\u001b[43moverwrite\u001b[49m\u001b[38;5;241;43m=\u001b[39;49m\u001b[38;5;28;43;01mTrue\u001b[39;49;00m\u001b[43m)\u001b[49m\n",
      "File \u001b[0;32m/nvme/projects/PrismAI/PrismAI/.venv/lib/python3.12/site-packages/ray/data/dataset.py:3422\u001b[0m, in \u001b[0;36mDataset.write_parquet\u001b[0;34m(self, path, partition_cols, filesystem, try_create_dir, arrow_open_stream_args, filename_provider, arrow_parquet_args_fn, min_rows_per_file, ray_remote_args, concurrency, num_rows_per_file, **arrow_parquet_args)\u001b[0m\n\u001b[1;32m   3406\u001b[0m effective_min_rows \u001b[38;5;241m=\u001b[39m _validate_rows_per_file_args(\n\u001b[1;32m   3407\u001b[0m     num_rows_per_file\u001b[38;5;241m=\u001b[39mnum_rows_per_file, min_rows_per_file\u001b[38;5;241m=\u001b[39mmin_rows_per_file\n\u001b[1;32m   3408\u001b[0m )\n\u001b[1;32m   3410\u001b[0m datasink \u001b[38;5;241m=\u001b[39m ParquetDatasink(\n\u001b[1;32m   3411\u001b[0m     path,\n\u001b[1;32m   3412\u001b[0m     partition_cols\u001b[38;5;241m=\u001b[39mpartition_cols,\n\u001b[0;32m   (...)\u001b[0m\n\u001b[1;32m   3420\u001b[0m     dataset_uuid\u001b[38;5;241m=\u001b[39m\u001b[38;5;28mself\u001b[39m\u001b[38;5;241m.\u001b[39m_uuid,\n\u001b[1;32m   3421\u001b[0m )\n\u001b[0;32m-> 3422\u001b[0m \u001b[38;5;28;43mself\u001b[39;49m\u001b[38;5;241;43m.\u001b[39;49m\u001b[43mwrite_datasink\u001b[49m\u001b[43m(\u001b[49m\n\u001b[1;32m   3423\u001b[0m \u001b[43m    \u001b[49m\u001b[43mdatasink\u001b[49m\u001b[43m,\u001b[49m\n\u001b[1;32m   3424\u001b[0m \u001b[43m    \u001b[49m\u001b[43mray_remote_args\u001b[49m\u001b[38;5;241;43m=\u001b[39;49m\u001b[43mray_remote_args\u001b[49m\u001b[43m,\u001b[49m\n\u001b[1;32m   3425\u001b[0m \u001b[43m    \u001b[49m\u001b[43mconcurrency\u001b[49m\u001b[38;5;241;43m=\u001b[39;49m\u001b[43mconcurrency\u001b[49m\u001b[43m,\u001b[49m\n\u001b[1;32m   3426\u001b[0m \u001b[43m\u001b[49m\u001b[43m)\u001b[49m\n",
      "File \u001b[0;32m/nvme/projects/PrismAI/PrismAI/.venv/lib/python3.12/site-packages/ray/data/dataset.py:4532\u001b[0m, in \u001b[0;36mDataset.write_datasink\u001b[0;34m(self, datasink, ray_remote_args, concurrency)\u001b[0m\n\u001b[1;32m   4529\u001b[0m \u001b[38;5;28;01mtry\u001b[39;00m:\n\u001b[1;32m   4530\u001b[0m     datasink\u001b[38;5;241m.\u001b[39mon_write_start()\n\u001b[0;32m-> 4532\u001b[0m     \u001b[38;5;28mself\u001b[39m\u001b[38;5;241m.\u001b[39m_write_ds \u001b[38;5;241m=\u001b[39m \u001b[43mDataset\u001b[49m\u001b[43m(\u001b[49m\u001b[43mplan\u001b[49m\u001b[43m,\u001b[49m\u001b[43m \u001b[49m\u001b[43mlogical_plan\u001b[49m\u001b[43m)\u001b[49m\u001b[38;5;241;43m.\u001b[39;49m\u001b[43mmaterialize\u001b[49m\u001b[43m(\u001b[49m\u001b[43m)\u001b[49m\n\u001b[1;32m   4533\u001b[0m     \u001b[38;5;66;03m# TODO: Get and handle the blocks with an iterator instead of getting\u001b[39;00m\n\u001b[1;32m   4534\u001b[0m     \u001b[38;5;66;03m# everything in a blocking way, so some blocks can be freed earlier.\u001b[39;00m\n\u001b[1;32m   4535\u001b[0m     raw_write_results \u001b[38;5;241m=\u001b[39m ray\u001b[38;5;241m.\u001b[39mget(\u001b[38;5;28mself\u001b[39m\u001b[38;5;241m.\u001b[39m_write_ds\u001b[38;5;241m.\u001b[39m_plan\u001b[38;5;241m.\u001b[39mexecute()\u001b[38;5;241m.\u001b[39mblock_refs)\n",
      "File \u001b[0;32m/nvme/projects/PrismAI/PrismAI/.venv/lib/python3.12/site-packages/ray/data/dataset.py:5589\u001b[0m, in \u001b[0;36mDataset.materialize\u001b[0;34m(self)\u001b[0m\n\u001b[1;32m   5569\u001b[0m \u001b[38;5;250m\u001b[39m\u001b[38;5;124;03m\"\"\"Execute and materialize this dataset into object store memory.\u001b[39;00m\n\u001b[1;32m   5570\u001b[0m \n\u001b[1;32m   5571\u001b[0m \u001b[38;5;124;03mThis can be used to read all blocks into memory. By default, Dataset\u001b[39;00m\n\u001b[0;32m   (...)\u001b[0m\n\u001b[1;32m   5585\u001b[0m \u001b[38;5;124;03m    A MaterializedDataset holding the materialized data blocks.\u001b[39;00m\n\u001b[1;32m   5586\u001b[0m \u001b[38;5;124;03m\"\"\"\u001b[39;00m\n\u001b[1;32m   5587\u001b[0m copy \u001b[38;5;241m=\u001b[39m Dataset\u001b[38;5;241m.\u001b[39mcopy(\u001b[38;5;28mself\u001b[39m, _deep_copy\u001b[38;5;241m=\u001b[39m\u001b[38;5;28;01mTrue\u001b[39;00m, _as\u001b[38;5;241m=\u001b[39mMaterializedDataset)\n\u001b[0;32m-> 5589\u001b[0m bundle \u001b[38;5;241m=\u001b[39m \u001b[43mcopy\u001b[49m\u001b[38;5;241;43m.\u001b[39;49m\u001b[43m_plan\u001b[49m\u001b[38;5;241;43m.\u001b[39;49m\u001b[43mexecute\u001b[49m\u001b[43m(\u001b[49m\u001b[43m)\u001b[49m\n\u001b[1;32m   5590\u001b[0m blocks_with_metadata \u001b[38;5;241m=\u001b[39m bundle\u001b[38;5;241m.\u001b[39mblocks\n\u001b[1;32m   5592\u001b[0m \u001b[38;5;66;03m# TODO(hchen): Here we generate the same number of blocks as\u001b[39;00m\n\u001b[1;32m   5593\u001b[0m \u001b[38;5;66;03m# the original Dataset. Because the old code path does this, and\u001b[39;00m\n\u001b[1;32m   5594\u001b[0m \u001b[38;5;66;03m# some unit tests implicily depend on this behavior.\u001b[39;00m\n\u001b[1;32m   5595\u001b[0m \u001b[38;5;66;03m# After we remove the old code path, we should consider merging\u001b[39;00m\n\u001b[1;32m   5596\u001b[0m \u001b[38;5;66;03m# some blocks for better perf.\u001b[39;00m\n",
      "File \u001b[0;32m/nvme/projects/PrismAI/PrismAI/.venv/lib/python3.12/site-packages/ray/data/exceptions.py:89\u001b[0m, in \u001b[0;36momit_traceback_stdout.<locals>.handle_trace\u001b[0;34m(*args, **kwargs)\u001b[0m\n\u001b[1;32m     87\u001b[0m     \u001b[38;5;28;01mraise\u001b[39;00m e\u001b[38;5;241m.\u001b[39mwith_traceback(\u001b[38;5;28;01mNone\u001b[39;00m)\n\u001b[1;32m     88\u001b[0m \u001b[38;5;28;01melse\u001b[39;00m:\n\u001b[0;32m---> 89\u001b[0m     \u001b[38;5;28;01mraise\u001b[39;00m e\u001b[38;5;241m.\u001b[39mwith_traceback(\u001b[38;5;28;01mNone\u001b[39;00m) \u001b[38;5;28;01mfrom\u001b[39;00m\u001b[38;5;250m \u001b[39m\u001b[38;5;21;01mSystemException\u001b[39;00m()\n",
      "\u001b[0;31mActorDiedError\u001b[0m: The actor died because of an error raised in its creation task, \u001b[36mray::_MapWorker.__init__()\u001b[39m (pid=1354939, ip=141.2.89.10, actor_id=b5e20e564e3653a2f198951804000000, repr=MapWorker(MapBatches(LuminarEncoderRaid)))\n           ^^^^^^^^^^^^^^^^^^^^^^^^^^^^^^^^^^^^\n  File \"/home/staff_homes/mastoeck/python/.venv/lib/python3.12/site-packages/ray/data/_internal/execution/operators/actor_pool_map_operator.py\", line 425, in __init__\n    self._map_transformer.init()\n  File \"/home/staff_homes/mastoeck/python/.venv/lib/python3.12/site-packages/ray/data/_internal/execution/operators/map_transformer.py\", line 203, in init\n    self._init_fn()\n  File \"/nvme/projects/PrismAI/PrismAI/.venv/lib/python3.12/site-packages/ray/data/_internal/planner/plan_udf_map_op.py\", line 273, in init_fn\n  File \"/nvme/projects/PrismAI/PrismAI/.venv/lib/python3.12/site-packages/ray/data/_internal/execution/util.py\", line 70, in __init__\n  File \"/tmp/ipykernel_1354780/4182275563.py\", line 3, in __init__\nAssertionError"
     ]
    }
   ],
   "source": [
    "ds = tiny_ds.map_batches(\n",
    "    LuminarEncoderRaid,\n",
    "    concurrency=10,\n",
    "    batch_size=128,\n",
    ")\n",
    "ds.write_parquet(\"data/raid-gpt2-256-first.parquet\", overwrite=True)"
   ]
  },
  {
   "cell_type": "markdown",
   "metadata": {},
   "source": [
    "### Run Training"
   ]
  },
  {
   "cell_type": "code",
   "execution_count": null,
   "metadata": {},
   "outputs": [],
   "source": [
    "model = LuminarClassifier()\n",
    "criterion = nn.BCEWithLogitsLoss()\n",
    "optimizer = torch.optim.Adam(model.parameters())"
   ]
  },
  {
   "cell_type": "code",
   "execution_count": null,
   "metadata": {},
   "outputs": [],
   "source": [
    "from tqdm import tqdm\n",
    "\n",
    "\n",
    "train_dataset = dataset[\"train\"].with_format(\"torch\", [\"features\", \"label\"])\n",
    "for batch in tqdm(DataLoader(train_dataset, 32)):\n",
    "    optimizer.zero_grad()\n",
    "    features = batch[\"features\"]\n",
    "    labels = batch[\"label\"].float().unsqueeze(-1)\n",
    "\n",
    "    preds = model(features)\n",
    "\n",
    "    loss = criterion(preds, labels)\n",
    "\n",
    "    loss.backward()\n",
    "    optimizer.step()"
   ]
  },
  {
   "cell_type": "code",
   "execution_count": null,
   "metadata": {},
   "outputs": [],
   "source": [
    "import numpy as np\n",
    "from sklearn.metrics import f1_score\n",
    "\n",
    "\n",
    "y_pred, y_truth, losses = [], [], []\n",
    "test_dataset = dataset[\"test\"].with_format(\"torch\", [\"features\", \"label\"])\n",
    "for batch in tqdm(DataLoader(test_dataset, 32)):\n",
    "    with torch.no_grad():\n",
    "        features = batch[\"features\"]\n",
    "        labels = batch[\"label\"].float().unsqueeze(-1)\n",
    "        preds = model(features)\n",
    "\n",
    "        y_pred.extend(preds.sigmoid().round().squeeze().tolist())\n",
    "        y_truth.extend(labels.squeeze().tolist())\n",
    "\n",
    "        loss = criterion(preds, labels)\n",
    "        losses.append(loss.item())\n",
    "\n",
    "print(f\"loss={np.mean(losses)}\")\n",
    "print(f\"f1={f1_score(y_truth, y_pred)}\")"
   ]
  }
 ],
 "metadata": {
  "kernelspec": {
   "display_name": ".venv",
   "language": "python",
   "name": "python3"
  },
  "language_info": {
   "codemirror_mode": {
    "name": "ipython",
    "version": 3
   },
   "file_extension": ".py",
   "mimetype": "text/x-python",
   "name": "python",
   "nbconvert_exporter": "python",
   "pygments_lexer": "ipython3",
   "version": "3.12.7"
  }
 },
 "nbformat": 4,
 "nbformat_minor": 2
}
