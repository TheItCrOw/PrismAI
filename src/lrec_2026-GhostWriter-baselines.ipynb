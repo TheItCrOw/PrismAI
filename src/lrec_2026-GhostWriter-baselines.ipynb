{
 "cells": [
  {
   "cell_type": "markdown",
   "metadata": {},
   "source": [
    "# OpenGhostbuster"
   ]
  },
  {
   "cell_type": "markdown",
   "metadata": {},
   "source": [
    "## Baselines"
   ]
  },
  {
   "cell_type": "code",
   "execution_count": 1,
   "metadata": {},
   "outputs": [],
   "source": [
    "import gc\n",
    "import json\n",
    "from pathlib import Path\n",
    "\n",
    "import numpy as np\n",
    "import torch\n",
    "from datasets import Dataset, load_dataset\n",
    "from tqdm.auto import tqdm\n",
    "import pandas as pd\n",
    "\n",
    "from luminar.utils.data import batched_dynamic, transpose_batch\n"
   ]
  },
  {
   "cell_type": "code",
   "execution_count": 2,
   "metadata": {},
   "outputs": [],
   "source": [
    "preds_path = Path(\"/storage/projects/stoeckel/GhostWriter/predictions\")"
   ]
  },
  {
   "cell_type": "code",
   "execution_count": 3,
   "metadata": {},
   "outputs": [],
   "source": [
    "dataset: Dataset = load_dataset(\"TheItCrOw/GhostWriter\", split=\"test\")"
   ]
  },
  {
   "cell_type": "markdown",
   "metadata": {},
   "source": [
    "### Binoculars"
   ]
  },
  {
   "cell_type": "code",
   "execution_count": 4,
   "metadata": {},
   "outputs": [],
   "source": [
    "from luminar.baselines.binoculars import GLOBAL_BINOCULARS_THRESHOLD, Binoculars"
   ]
  },
  {
   "cell_type": "code",
   "execution_count": 5,
   "metadata": {},
   "outputs": [
    {
     "name": "stdout",
     "output_type": "stream",
     "text": [
      "skipping\n"
     ]
    }
   ],
   "source": [
    "%%script echo skipping\n",
    "\n",
    "pred_path_model = preds_path / \"binoculars_falcon-7b\"\n",
    "pred_path_model.mkdir(parents=True, exist_ok=True)\n",
    "corpus = \"test\"\n",
    "\n",
    "detector = Binoculars(\"tiiuae/falcon-7b\", \"tiiuae/falcon-7b-instruct\")\n",
    "\n",
    "tok_dataset = dataset.map(\n",
    "    detector.tokenize,\n",
    "    input_columns=[\"text\"],\n",
    "    batched=True,\n",
    "    batch_size=1024,\n",
    "    desc=\"Tokenizing\",\n",
    ")\n",
    "tok_dataset = tok_dataset.sort(\"length\")\n",
    "\n",
    "predictions = pd.DataFrame()\n",
    "for batch in tqdm(  # type: ignore\n",
    "    tok_dataset.batch(16),\n",
    "    desc=f\"Processing {corpus}\",\n",
    "    position=1,\n",
    "):\n",
    "    batch: dict[str, list]\n",
    "    preds = detector.process(batch)\n",
    "    batch[\"y_score\"] = preds[\"y_scores\"]\n",
    "    batch[\"y_pred\"] = [\n",
    "        int(xppl < GLOBAL_BINOCULARS_THRESHOLD) for xppl in preds[\"y_scores\"]\n",
    "    ]\n",
    "    predictions = pd.concat(\n",
    "        [predictions, pd.DataFrame.from_dict(batch)], ignore_index=True\n",
    "    )\n",
    "\n",
    "predictions = predictions.drop(columns=[\"text\", \"input_ids\", \"attention_mask\"])\n",
    "predictions.to_csv(str(pred_path_model / f\"{corpus}.csv\"))\n",
    "\n",
    "try:\n",
    "    detector.observer_model.to(\"cpu\")\n",
    "    detector.performer_model.to(\"cpu\")\n",
    "    del detector\n",
    "    gc.collect()\n",
    "    torch.cuda.empty_cache()\n",
    "except Exception:\n",
    "    pass"
   ]
  },
  {
   "cell_type": "markdown",
   "metadata": {},
   "source": [
    "### Fast-DetectGPT"
   ]
  },
  {
   "cell_type": "code",
   "execution_count": 6,
   "metadata": {},
   "outputs": [],
   "source": [
    "from luminar.baselines.fast_detectgpt import FastDetectGPT, FastDetectGPTwithScoring"
   ]
  },
  {
   "cell_type": "code",
   "execution_count": 7,
   "metadata": {},
   "outputs": [
    {
     "name": "stdout",
     "output_type": "stream",
     "text": [
      "skipping\n"
     ]
    }
   ],
   "source": [
    "%%script echo skipping\n",
    "\n",
    "pred_path_model = preds_path / \"fast_detectgpt-gpt-j-6B_gpt-neo-2.7B\"\n",
    "pred_path_model.mkdir(parents=True, exist_ok=True)\n",
    "corpus = \"test\"\n",
    "\n",
    "detector = FastDetectGPTwithScoring(\"EleutherAI/gpt-j-6B\", \"EleutherAI/gpt-neo-2.7B\")\n",
    "tok_dataset = dataset.map(\n",
    "    detector.tokenize,\n",
    "    input_columns=[\"text\"],\n",
    "    batched=True,\n",
    "    batch_size=1024,\n",
    "    desc=\"Tokenizing\",\n",
    ")\n",
    "tok_dataset = tok_dataset.sort(\"length\")\n",
    "\n",
    "predictions = pd.DataFrame()\n",
    "for batch in tqdm(  # type: ignore\n",
    "    tok_dataset.batch(16),\n",
    "    desc=f\"Processing {corpus}\",\n",
    "    position=1,\n",
    "):\n",
    "    batch: dict[str, list]\n",
    "    preds = detector.process(batch)\n",
    "    batch[\"y_score\"] = preds[\"y_scores\"]\n",
    "    predictions = pd.concat(\n",
    "        [predictions, pd.DataFrame.from_dict(batch)], ignore_index=True\n",
    "    )\n",
    "\n",
    "predictions = predictions.drop(columns=[\"text\", \"input_ids\", \"attention_mask\"])\n",
    "predictions.to_csv(str(pred_path_model / f\"{corpus}.csv\"))\n",
    "\n",
    "try:\n",
    "    detector.to(\"cpu\")\n",
    "    del detector\n",
    "    gc.collect()\n",
    "    torch.cuda.empty_cache()\n",
    "except Exception:\n",
    "    pass"
   ]
  },
  {
   "cell_type": "code",
   "execution_count": 8,
   "metadata": {},
   "outputs": [
    {
     "name": "stdout",
     "output_type": "stream",
     "text": [
      "skipping\n"
     ]
    }
   ],
   "source": [
    "%%script echo skipping\n",
    "\n",
    "pred_path_model = preds_path / \"fast_detectgpt-gpt-neo-2.7B_gpt-j-6B\"\n",
    "pred_path_model.mkdir(parents=True, exist_ok=True)\n",
    "corpus = \"test\"\n",
    "\n",
    "detector = FastDetectGPTwithScoring(\"EleutherAI/gpt-neo-2.7B\", \"EleutherAI/gpt-j-6B\")\n",
    "tok_dataset = dataset.map(\n",
    "    detector.tokenize,\n",
    "    input_columns=[\"text\"],\n",
    "    batched=True,\n",
    "    batch_size=1024,\n",
    "    desc=\"Tokenizing\",\n",
    ")\n",
    "tok_dataset = tok_dataset.sort(\"length\")\n",
    "\n",
    "predictions = pd.DataFrame()\n",
    "for batch in tqdm(  # type: ignore\n",
    "    tok_dataset.batch(16),\n",
    "    desc=f\"Processing {corpus}\",\n",
    "    position=1,\n",
    "):\n",
    "    batch: dict[str, list]\n",
    "    preds = detector.process(batch)\n",
    "    batch[\"y_score\"] = preds[\"y_scores\"]\n",
    "    predictions = pd.concat(\n",
    "        [predictions, pd.DataFrame.from_dict(batch)], ignore_index=True\n",
    "    )\n",
    "\n",
    "predictions = predictions.drop(columns=[\"text\", \"input_ids\", \"attention_mask\"])\n",
    "predictions.to_csv(str(pred_path_model / f\"{corpus}.csv\"))\n",
    "\n",
    "try:\n",
    "    detector.to(\"cpu\")\n",
    "    del detector\n",
    "    gc.collect()\n",
    "    torch.cuda.empty_cache()\n",
    "except Exception:\n",
    "    pass"
   ]
  },
  {
   "cell_type": "code",
   "execution_count": 9,
   "metadata": {},
   "outputs": [
    {
     "name": "stdout",
     "output_type": "stream",
     "text": [
      "skipping\n"
     ]
    }
   ],
   "source": [
    "%%script echo skipping\n",
    "\n",
    "pred_path_model = preds_path / \"fast_detectgpt-falcon-7b\"\n",
    "pred_path_model.mkdir(parents=True, exist_ok=True)\n",
    "corpus = \"test\"\n",
    "\n",
    "detector = FastDetectGPT(\"tiiuae/falcon-7b\")\n",
    "tok_dataset = dataset.map(\n",
    "    detector.tokenize,\n",
    "    input_columns=[\"text\"],\n",
    "    batched=True,\n",
    "    batch_size=1024,\n",
    "    desc=\"Tokenizing\",\n",
    ")\n",
    "tok_dataset = tok_dataset.sort(\"length\")\n",
    "\n",
    "predictions = pd.DataFrame()\n",
    "for batch in tqdm(  # type: ignore\n",
    "    tok_dataset.batch(16),\n",
    "    desc=f\"Processing {corpus}\",\n",
    "    position=1,\n",
    "):\n",
    "    batch: dict[str, list]\n",
    "    preds = detector.process(batch)\n",
    "    batch[\"y_score\"] = preds[\"y_scores\"]\n",
    "    predictions = pd.concat(\n",
    "        [predictions, pd.DataFrame.from_dict(batch)], ignore_index=True\n",
    "    )\n",
    "\n",
    "predictions = predictions.drop(columns=[\"text\", \"input_ids\", \"attention_mask\"])\n",
    "predictions.to_csv(str(pred_path_model / f\"{corpus}.csv\"))\n",
    "\n",
    "try:\n",
    "    detector.to(\"cpu\")\n",
    "    del detector\n",
    "    gc.collect()\n",
    "    torch.cuda.empty_cache()\n",
    "except Exception:\n",
    "    pass"
   ]
  },
  {
   "cell_type": "markdown",
   "metadata": {},
   "source": [
    "### DetectLLM-LLR"
   ]
  },
  {
   "cell_type": "code",
   "execution_count": 10,
   "metadata": {},
   "outputs": [],
   "source": [
    "from luminar.baselines.detect_llm import DetectLLM_LRR"
   ]
  },
  {
   "cell_type": "code",
   "execution_count": 11,
   "metadata": {},
   "outputs": [
    {
     "data": {
      "application/vnd.jupyter.widget-view+json": {
       "model_id": "c20da563aead454c82eca8f7ab850405",
       "version_major": 2,
       "version_minor": 0
      },
      "text/plain": [
       "Loading checkpoint shards:   0%|          | 0/2 [00:00<?, ?it/s]"
      ]
     },
     "metadata": {},
     "output_type": "display_data"
    }
   ],
   "source": [
    "# %%script echo skipping\n",
    "\n",
    "pred_path_model = preds_path / \"detectllm_llr-falcon-7b\"\n",
    "pred_path_model.mkdir(parents=True, exist_ok=True)\n",
    "corpus = \"test\"\n",
    "\n",
    "detector = DetectLLM_LRR(\"tiiuae/falcon-7b\", device=\"cuda\")\n",
    "tok_dataset = dataset.map(\n",
    "    detector.tokenize,\n",
    "    input_columns=[\"text\"],\n",
    "    batched=True,\n",
    "    batch_size=1024,\n",
    "    desc=\"Tokenizing\",\n",
    ")\n",
    "tok_dataset = tok_dataset.sort(\"length\")"
   ]
  },
  {
   "cell_type": "code",
   "execution_count": 17,
   "metadata": {},
   "outputs": [
    {
     "data": {
      "application/vnd.jupyter.widget-view+json": {
       "model_id": "a39e5d4ac69840a3a3c4f47ad7bfd1c2",
       "version_major": 2,
       "version_minor": 0
      },
      "text/plain": [
       "Processing test:   0%|          | 0/38680 [00:00<?, ?it/s]"
      ]
     },
     "metadata": {},
     "output_type": "display_data"
    },
    {
     "name": "stderr",
     "output_type": "stream",
     "text": [
      "You're using a PreTrainedTokenizerFast tokenizer. Please note that with a fast tokenizer, using the `__call__` method is faster than using a method to encode the text followed by a call to the `pad` method to get a padded encoding.\n"
     ]
    }
   ],
   "source": [
    "predictions = pd.DataFrame()\n",
    "with (\n",
    "    tqdm(  # type: ignore\n",
    "        tok_dataset.skip(70616),\n",
    "        desc=f\"Processing {corpus}\",\n",
    "        position=1,\n",
    "    ) as tq\n",
    "):\n",
    "    for batch in batched_dynamic(tq, 8192, key=\"length\"):  # type: ignore\n",
    "        batch = transpose_batch(batch)\n",
    "        preds = detector.process(batch)\n",
    "        batch[\"y_score\"] = preds[\"y_scores\"]\n",
    "        predictions = pd.concat(\n",
    "            [predictions, pd.DataFrame.from_dict(batch)], ignore_index=True\n",
    "        )\n",
    "\n",
    "        tq.set_postfix(\n",
    "            {\n",
    "                \"batch_size\": len(batch[\"input_ids\"]),\n",
    "                \"effective_length\": max(batch[\"length\"]) * len(batch[\"input_ids\"]),\n",
    "            }\n",
    "        )\n",
    "\n",
    "old_predictions = pd.read_csv(str(pred_path_model / f\"{corpus}.csv.part\"))\n",
    "predictions = pd.concat([old_predictions, predictions]).drop(\n",
    "    columns=[\"text\", \"input_ids\", \"attention_mask\"]\n",
    ")\n",
    "predictions.to_csv(str(pred_path_model / f\"{corpus}.csv\"))\n",
    "\n",
    "try:\n",
    "    detector.to(\"cpu\")\n",
    "    del detector\n",
    "    gc.collect()\n",
    "    torch.cuda.empty_cache()\n",
    "except Exception:\n",
    "    pass"
   ]
  },
  {
   "cell_type": "markdown",
   "metadata": {},
   "source": [
    "### RADAR"
   ]
  },
  {
   "cell_type": "code",
   "execution_count": null,
   "metadata": {},
   "outputs": [],
   "source": [
    "from luminar.baselines.radar import Radar"
   ]
  },
  {
   "cell_type": "code",
   "execution_count": null,
   "metadata": {},
   "outputs": [],
   "source": [
    "%%script echo skipping\n",
    "\n",
    "pred_path_model = preds_path / \"radar\"\n",
    "pred_path_model.mkdir(parents=True, exist_ok=True)\n",
    "corpus = \"test\"\n",
    "\n",
    "detector = Radar(device=\"cuda\")\n",
    "tok_dataset = dataset.map(\n",
    "    detector.tokenize,\n",
    "    input_columns=[\"text\"],\n",
    "    batched=True,\n",
    "    batch_size=1024,\n",
    "    desc=\"Tokenizing\",\n",
    ")\n",
    "tok_dataset = tok_dataset.sort(\"length\")\n",
    "\n",
    "predictions = pd.DataFrame()\n",
    "for batch in tqdm(  # type: ignore\n",
    "    tok_dataset.batch(16),\n",
    "    desc=f\"Processing {corpus}\",\n",
    "    position=1,\n",
    "):\n",
    "    batch: dict[str, list]\n",
    "    preds = detector.process(batch)\n",
    "    batch[\"y_score\"] = preds[\"y_scores\"]\n",
    "    predictions = pd.concat(\n",
    "        [predictions, pd.DataFrame.from_dict(batch)], ignore_index=True\n",
    "    )\n",
    "\n",
    "predictions = predictions.drop(columns=[\"text\", \"input_ids\", \"attention_mask\"])\n",
    "predictions.to_csv(str(pred_path_model / f\"{corpus}.csv\"))\n",
    "\n",
    "try:\n",
    "    detector.to(\"cpu\")\n",
    "    del detector\n",
    "    gc.collect()\n",
    "    torch.cuda.empty_cache()\n",
    "except Exception:\n",
    "    pass"
   ]
  }
 ],
 "metadata": {
  "kernelspec": {
   "display_name": "Python 3 (ipykernel)",
   "language": "python",
   "name": "python3"
  },
  "language_info": {
   "codemirror_mode": {
    "name": "ipython",
    "version": 3
   },
   "file_extension": ".py",
   "mimetype": "text/x-python",
   "name": "python",
   "nbconvert_exporter": "python",
   "pygments_lexer": "ipython3",
   "version": "3.12.7"
  }
 },
 "nbformat": 4,
 "nbformat_minor": 2
}
