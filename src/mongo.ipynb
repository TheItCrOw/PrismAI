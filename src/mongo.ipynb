{
 "cells": [
  {
   "cell_type": "code",
   "execution_count": 1,
   "metadata": {},
   "outputs": [],
   "source": [
    "import os\n",
    "\n",
    "import pymongo\n",
    "from dotenv import load_dotenv\n",
    "from pymongo import MongoClient\n",
    "from tqdm import tqdm\n",
    "\n",
    "load_dotenv(\"../env\")\n",
    "client = MongoClient(os.environ.get(\"MONGO_DB_CONNECTION\"))\n",
    "db = client.get_database(\"prismai\")"
   ]
  },
  {
   "cell_type": "code",
   "execution_count": 2,
   "metadata": {},
   "outputs": [],
   "source": [
    "collected_items = db.get_collection(\"collected_items\")\n",
    "synthesized_texts = db.get_collection(\"synthesized_texts\")\n",
    "features_prismai = db.get_collection(\"features_prismai\")\n",
    "features_prismai_old = db.get_collection(\"features_prismai_old\")\n",
    "test_swt = db.get_collection(\"test_swt\")\n",
    "test_new = db.get_collection(\"test_new\")\n",
    "dataset_CHEAT = db.get_collection(\"dataset_CHEAT\")"
   ]
  },
  {
   "cell_type": "code",
   "execution_count": 3,
   "metadata": {},
   "outputs": [
    {
     "name": "stderr",
     "output_type": "stream",
     "text": [
      "100%|██████████| 7/7 [00:00<00:00, 64.82it/s]\n"
     ]
    }
   ],
   "source": [
    "for index in tqdm(list(features_prismai_old.list_indexes())):\n",
    "    features_prismai.create_index(index.get(\"key\"))"
   ]
  },
  {
   "cell_type": "code",
   "execution_count": null,
   "metadata": {},
   "outputs": [],
   "source": [
    "class Averager:\n",
    "    def __init__(self):\n",
    "        self.sum = 0\n",
    "        self.count = 0\n",
    "\n",
    "    def update(self, value):\n",
    "        self.sum += value\n",
    "        self.count += 1\n",
    "\n",
    "    def average(self):\n",
    "        return self.sum / self.count"
   ]
  },
  {
   "cell_type": "code",
   "execution_count": null,
   "metadata": {},
   "outputs": [],
   "source": [
    "from collections import defaultdict\n",
    "import pandas as pd"
   ]
  },
  {
   "cell_type": "code",
   "execution_count": null,
   "metadata": {},
   "outputs": [],
   "source": [
    "from transformers import AutoTokenizer\n",
    "\n",
    "tokenizer = AutoTokenizer.from_pretrained(\"gpt2\", use_fast=True)"
   ]
  },
  {
   "cell_type": "code",
   "execution_count": null,
   "metadata": {},
   "outputs": [],
   "source": [
    "maximum = {}\n",
    "averages = defaultdict(Averager)\n",
    "\n",
    "for domain in tqdm(collected_items.distinct(\"domain\"), position=0):\n",
    "    maximum[domain] = 0\n",
    "    for item in tqdm(\n",
    "        collected_items.find({\"domain\": domain}, limit=1500),\n",
    "        total=1500,\n",
    "        position=1,\n",
    "    ):\n",
    "        text = item.get(\"text\")\n",
    "        encoding = tokenizer(text, return_length=True)\n",
    "        length = encoding[\"length\"][0]\n",
    "        maximum[domain] = max(maximum[domain], length)\n",
    "        averages[domain].update(length)"
   ]
  },
  {
   "cell_type": "code",
   "execution_count": null,
   "metadata": {},
   "outputs": [],
   "source": [
    "pd.DataFrame([{\"max\": maximum[key], \"avg\": averages[key].average()} for key in maximum], columns=[\"max\", \"avg\"], index=maximum.keys())"
   ]
  },
  {
   "cell_type": "code",
   "execution_count": null,
   "metadata": {},
   "outputs": [],
   "source": [
    "list(\n",
    "    features_prismai.aggregate(\n",
    "        [\n",
    "            {\n",
    "                \"$project\": {\n",
    "                    \"domain\": \"$document.domain\",\n",
    "                    \"size\": {\"$size\": \"$transition_scores.intermediate_logits\"},\n",
    "                },\n",
    "            },\n",
    "            {\n",
    "                \"$group\": {\n",
    "                    \"_id\": \"$domain\",\n",
    "                    \"size\": {\"$max\": \"$size\"},\n",
    "                },\n",
    "            },\n",
    "        ]\n",
    "    )\n",
    ")"
   ]
  },
  {
   "cell_type": "code",
   "execution_count": null,
   "metadata": {},
   "outputs": [],
   "source": [
    "source_collection = collected_items\n",
    "source_collection_limit = 1500\n",
    "\n",
    "synth_collection = \"synthesized_texts\"\n",
    "score_collection = \"features_prismai\"\n",
    "\n",
    "domain = \"cnn_news\"\n",
    "lang = \"en-EN\"\n",
    "\n",
    "synth_type = \"fulltext\"\n",
    "synth_agent = \"gpt-4o-mini\"\n",
    "\n",
    "feature_model = \"gpt2\"\n",
    "\n",
    "pre_processor_type = \"truncated\"\n",
    "\n",
    "next(\n",
    "    db.get_collection(score_collection).aggregate(\n",
    "        [\n",
    "            {\n",
    "                \"$match\": {\n",
    "                    \"document.agent\": {\"$in\": [None, synth_agent]},\n",
    "                    \"document.domain\": domain,\n",
    "                    \"document.lang\": lang,\n",
    "                    \"document.type\": {\"$in\": [\"source\", synth_type]},\n",
    "                    \"model.name\": feature_model,\n",
    "                    # \"pre_processor.type\": pre_processor_type,\n",
    "                }\n",
    "            },\n",
    "            {\n",
    "                \"$group\": {\n",
    "                    \"_id\": \"$document._id.$id\",\n",
    "                    \"count\": {\"$count\": {}},\n",
    "                    \"features\": {\n",
    "                        \"$push\": {\n",
    "                            \"type\": \"$document.type\",\n",
    "                            \"split\": \"$split\",\n",
    "                            \"transition_scores\": \"$transition_scores\",\n",
    "                        }\n",
    "                    },\n",
    "                }\n",
    "            },\n",
    "        ],\n",
    "        allowDiskUse=True,\n",
    "    )\n",
    ")"
   ]
  },
  {
   "cell_type": "code",
   "execution_count": null,
   "metadata": {},
   "outputs": [],
   "source": [
    "features_prismai.count_documents({\"model.name\": {\"$ne\": \"gpt2\"}})"
   ]
  },
  {
   "cell_type": "code",
   "execution_count": null,
   "metadata": {},
   "outputs": [],
   "source": [
    "features_prismai.delete_many({\"model.name\": {\"$ne\": \"gpt2\"}})"
   ]
  },
  {
   "cell_type": "code",
   "execution_count": null,
   "metadata": {},
   "outputs": [],
   "source": [
    "list(features_prismai.aggregate(\n",
    "    [\n",
    "        {\"$match\": {\"model.name\": \"meta-llama/Llama-3.2-1B\"}},\n",
    "        {\"$group\": {\"_id\": [\"$document.agent\", \"$document.type\", \"$document.domain\"], \"count\": {\"$count\": {}}}},]\n",
    "))"
   ]
  },
  {
   "cell_type": "code",
   "execution_count": null,
   "metadata": {},
   "outputs": [],
   "source": [
    "raise RuntimeError"
   ]
  },
  {
   "cell_type": "code",
   "execution_count": null,
   "metadata": {},
   "outputs": [],
   "source": [
    "synthesized_texts.count_documents({\"domain\": \"blog_authorship_corpus\", })"
   ]
  },
  {
   "cell_type": "code",
   "execution_count": null,
   "metadata": {},
   "outputs": [],
   "source": [
    "count_ = list(\n",
    "    synthesized_texts.aggregate(\n",
    "        [\n",
    "            {\"$match\": {\"agent\": {\"$ne\": \"nemotron\"}}},\n",
    "            {\n",
    "                \"$group\": {\n",
    "                    \"_id\": [\"$domain\", \"$type\", \"$agent\"],\n",
    "                    \"agent\": {\"$first\": \"$agent\"},\n",
    "                    \"domain\": {\"$first\": \"$domain\"},\n",
    "                    \"type\": {\"$first\": \"$type\"},\n",
    "                    \"count\": {\"$count\": {}},\n",
    "                }\n",
    "            },\n",
    "            {\"$group\": {\"_id\": [\"$domain\"], \"count\": {\"$min\": \"$count\"}}},\n",
    "        ]\n",
    "    )\n",
    ")\n",
    "count_"
   ]
  },
  {
   "cell_type": "code",
   "execution_count": null,
   "metadata": {},
   "outputs": [],
   "source": [
    "\n",
    "items = list(\n",
    "    collected_items.aggregate(\n",
    "        [\n",
    "            {\n",
    "                \"$lookup\": {\n",
    "                    \"from\": \"synthesized_texts\",\n",
    "                    \"as\": \"synthesized_texts\",\n",
    "                    \"localField\": \"_id\",\n",
    "                    \"foreignField\": \"_ref_id.$id\",\n",
    "                    \"pipeline\": [\n",
    "                        {\n",
    "                            \"$project\": {\n",
    "                                \"_id\": 1,\n",
    "                                \"type\": 1,\n",
    "                                \"agent\": 1,\n",
    "                                # \"_doc_id\": \"$_ref_id.$id\",\n",
    "                                # \"domain\": 1,\n",
    "                            }\n",
    "                        },\n",
    "                        {\"$match\": {\"type\": \"fulltext\", \"agent\": \"gemma2:9b\"}},\n",
    "                    ],\n",
    "                }\n",
    "            },\n",
    "        ]\n",
    "    )\n",
    ")\n",
    "# len(items)\n",
    "items"
   ]
  },
  {
   "cell_type": "code",
   "execution_count": null,
   "metadata": {},
   "outputs": [],
   "source": [
    "# db.drop_collection(transition_scores)"
   ]
  },
  {
   "cell_type": "code",
   "execution_count": null,
   "metadata": {},
   "outputs": [],
   "source": [
    "hoc_ids = [\n",
    "    doc[\"_id\"]\n",
    "    for doc in collected_items.find(\n",
    "        {\"domain\": \"house_of_commons\"}, projection={\"_id\": 1}, limit=1500\n",
    "    )\n",
    "]\n",
    "len(hoc_ids)"
   ]
  },
  {
   "cell_type": "code",
   "execution_count": null,
   "metadata": {},
   "outputs": [],
   "source": [
    "llama_ids_hoc = [\n",
    "    doc[\"document\"][\"_id\"].id\n",
    "    for doc in transition_scores.find(\n",
    "        {\n",
    "            \"document.domain\": \"house_of_commons\",\n",
    "            \"document.type\": \"source\",\n",
    "            # \"model.name\": \"gpt2\",\n",
    "            \"model.name\": \"meta-llama/Llama-3.2-1B\",\n",
    "        },\n",
    "        projection={\"document._id\": 1},\n",
    "    )\n",
    "]\n",
    "len(llama_ids_hoc)"
   ]
  },
  {
   "cell_type": "code",
   "execution_count": null,
   "metadata": {},
   "outputs": [],
   "source": [
    "len(set(llama_ids_hoc).intersection(hoc_ids))"
   ]
  },
  {
   "cell_type": "code",
   "execution_count": null,
   "metadata": {},
   "outputs": [],
   "source": [
    "len(set(llama_ids_hoc).intersection(hoc_ids[: len(llama_ids_hoc)]))"
   ]
  },
  {
   "cell_type": "code",
   "execution_count": null,
   "metadata": {},
   "outputs": [],
   "source": [
    "1500 - len(llama_ids_hoc)"
   ]
  },
  {
   "cell_type": "code",
   "execution_count": null,
   "metadata": {},
   "outputs": [],
   "source": [
    "hoc_ids_synth = [\n",
    "    doc[\"_id\"]\n",
    "    for doc in synthesized_texts.find(\n",
    "        # {\"domain\": \"euro_court_cases\"},\n",
    "        {\"domain\": \"house_of_commons\"},\n",
    "        projection={\"_id\": 1},\n",
    "    )\n",
    "]\n",
    "len(hoc_ids_synth)"
   ]
  },
  {
   "cell_type": "code",
   "execution_count": null,
   "metadata": {},
   "outputs": [],
   "source": [
    "llama_ids_hoc_synth = [\n",
    "    doc[\"document\"][\"_synth_id\"].id\n",
    "    for doc in transition_scores.find(\n",
    "        {\n",
    "            \"document.domain\": \"house_of_commons\",\n",
    "            \"document.type\": {\"$ne\": \"source\"},\n",
    "            \"model.name\": \"meta-llama/Llama-3.2-1B\",\n",
    "        },\n",
    "        projection={\"document._synth_id\": 1},\n",
    "    )\n",
    "]\n",
    "len(llama_ids_hoc)"
   ]
  },
  {
   "cell_type": "code",
   "execution_count": null,
   "metadata": {},
   "outputs": [],
   "source": [
    "len(set(llama_ids_hoc_synth).intersection(hoc_ids_synth))"
   ]
  },
  {
   "cell_type": "code",
   "execution_count": null,
   "metadata": {},
   "outputs": [],
   "source": [
    "len(set(llama_ids_hoc_synth).intersection(hoc_ids_synth[: len(llama_ids_hoc_synth)]))"
   ]
  },
  {
   "cell_type": "code",
   "execution_count": null,
   "metadata": {},
   "outputs": [],
   "source": [
    "set(doc[\"agent\"] for doc in synthesized_texts.find(projection=[\"agent\"]))"
   ]
  },
  {
   "cell_type": "code",
   "execution_count": null,
   "metadata": {},
   "outputs": [],
   "source": [
    "next(\n",
    "    synthesized_texts.aggregate(\n",
    "        [\n",
    "            {\"$match\": {\"type\": \"chunk\", \"agent\": \"gemma2:9b\"}},\n",
    "            # {\"$limit\": 1},\n",
    "            {\n",
    "                \"$project\": {\n",
    "                    \"_id\": 1,\n",
    "                    \"chunks\": 1,\n",
    "                    \"start_idx\": \"$synth_metadata.start_idx\",\n",
    "                    \"end_idx\": \"$synth_metadata.end_idx\",\n",
    "                }\n",
    "            },\n",
    "            {\n",
    "                \"$lookup\": {\n",
    "                    \"from\": \"transition_scores\",\n",
    "                    \"as\": \"transition_scores\",\n",
    "                    \"localField\": \"_id\",\n",
    "                    \"foreignField\": \"document._synth_id.$id\",\n",
    "                    \"pipeline\": [\n",
    "                        {\"$match\": {\"document.type\": \"chunk\", \"model.name\": \"gpt2\"}},\n",
    "                        {\n",
    "                            \"$project\": {\n",
    "                                \"_id\": 1,\n",
    "                                \"document\": 1,\n",
    "                                \"model\": 1,\n",
    "                                # \"transition_scores\": 1,\n",
    "                                \"metadata\": 1,\n",
    "                            }\n",
    "                        },\n",
    "                    ],\n",
    "                }\n",
    "            },\n",
    "        ],\n",
    "        # allowDiskUse=True,\n",
    "    ),\n",
    ")"
   ]
  },
  {
   "cell_type": "code",
   "execution_count": null,
   "metadata": {},
   "outputs": [],
   "source": [
    "list(\n",
    "    transition_scores.aggregate(\n",
    "        [\n",
    "            {\n",
    "                \"$lookup\": {\n",
    "                    \"from\": \"collected_items\",\n",
    "                    \"localField\": \"refs._ref_id.$id\",\n",
    "                    \"foreignField\": \"_id\",\n",
    "                    \"as\": \"source\",\n",
    "                }\n",
    "            },\n",
    "            {\n",
    "                \"$project\": {\n",
    "                    \"transition_scores\": 0,\n",
    "                    \"source.text\": 0,\n",
    "                    \"source.chunks\": 0,\n",
    "                    \"source.synthetization\": 0,\n",
    "                    # \"_id\": 1,\n",
    "                    # \"domain\": 1,\n",
    "                    # \"features._id\": 1,\n",
    "                    # \"features.model.name\": 1,\n",
    "                    # \"features.pre_processor.type\": 1,\n",
    "                }\n",
    "            },\n",
    "            {\"$unwind\": {\"path\": \"$source\"}},\n",
    "            {\n",
    "                \"$group\": {\n",
    "                    \"_id\": {\n",
    "                        \"$concat\": [\n",
    "                            \"$source.domain\",\n",
    "                            \" - \",\n",
    "                            \"$model.name\",\n",
    "                            \" - \",\n",
    "                            \"$pre_processor.type\",\n",
    "                        ]\n",
    "                    },\n",
    "                    \"total\": {\"$sum\": 1},\n",
    "                }\n",
    "            },\n",
    "        ]\n",
    "    )\n",
    ")"
   ]
  },
  {
   "cell_type": "code",
   "execution_count": null,
   "metadata": {},
   "outputs": [],
   "source": [
    "list(\n",
    "    transition_scores.aggregate(\n",
    "        [\n",
    "            {\n",
    "                \"$lookup\": {\n",
    "                    \"from\": \"synthesized_texts\",\n",
    "                    \"localField\": \"refs._ref_id.$id\",\n",
    "                    \"foreignField\": \"_id\",\n",
    "                    \"as\": \"source\",\n",
    "                }\n",
    "            },\n",
    "            {\n",
    "                \"$project\": {\n",
    "                    \"transition_scores\": 0,\n",
    "                    \"source.text\": 0,\n",
    "                    \"source.chunks\": 0,\n",
    "                    \"source.synthetization\": 0,\n",
    "                    # \"_id\": 1,\n",
    "                    # \"domain\": 1,\n",
    "                    # \"features._id\": 1,\n",
    "                    # \"features.model.name\": 1,\n",
    "                    # \"features.pre_processor.type\": 1,\n",
    "                }\n",
    "            },\n",
    "            {\"$unwind\": {\"path\": \"$source\"}},\n",
    "            {\n",
    "                \"$group\": {\n",
    "                    \"_id\": {\n",
    "                        \"$concat\": [\n",
    "                            \"$source.domain\",\n",
    "                            \" - \",\n",
    "                            \"$model.name\",\n",
    "                            \" - \",\n",
    "                            \"$pre_processor.type\",\n",
    "                        ]\n",
    "                    },\n",
    "                    \"total\": {\"$sum\": 1},\n",
    "                }\n",
    "            },\n",
    "        ]\n",
    "    )\n",
    ")"
   ]
  },
  {
   "cell_type": "code",
   "execution_count": null,
   "metadata": {},
   "outputs": [],
   "source": [
    "sum(\n",
    "    1\n",
    "    for _ in test_swt.aggregate(\n",
    "        [\n",
    "            {\n",
    "                \"$lookup\": {\n",
    "                    \"from\": \"synthesized_texts\",\n",
    "                    \"localField\": \"refs._ref_id.$id\",\n",
    "                    \"foreignField\": \"_id\",\n",
    "                    \"as\": \"features\",\n",
    "                }\n",
    "            },\n",
    "            {\"$match\": {\"features\": {\"$exists\": True, \"$ne\": []}}},\n",
    "            {\n",
    "                \"$project\": {\n",
    "                    \"_id\": 1,\n",
    "                    \"refs._ref_id.$id\": 1,\n",
    "                    \"features._id\": 1,\n",
    "                    \"features.id\": 1,\n",
    "                }\n",
    "            },\n",
    "        ]\n",
    "    )\n",
    "    # if doc[\"features\"]\n",
    ")"
   ]
  },
  {
   "cell_type": "code",
   "execution_count": null,
   "metadata": {},
   "outputs": [],
   "source": [
    "sum(1 for _ in test_swt.find(projection={\"_id\": 1}))"
   ]
  },
  {
   "cell_type": "code",
   "execution_count": null,
   "metadata": {},
   "outputs": [],
   "source": [
    "import re\n",
    "\n",
    "re.findall(\"\\d\", \"abc\")"
   ]
  }
 ],
 "metadata": {
  "kernelspec": {
   "display_name": ".venv",
   "language": "python",
   "name": "python3"
  },
  "language_info": {
   "codemirror_mode": {
    "name": "ipython",
    "version": 3
   },
   "file_extension": ".py",
   "mimetype": "text/x-python",
   "name": "python",
   "nbconvert_exporter": "python",
   "pygments_lexer": "ipython3",
   "version": "3.12.7"
  }
 },
 "nbformat": 4,
 "nbformat_minor": 2
}
