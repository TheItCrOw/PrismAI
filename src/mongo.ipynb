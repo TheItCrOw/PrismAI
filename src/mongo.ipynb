{
 "cells": [
  {
   "cell_type": "code",
   "execution_count": 18,
   "metadata": {},
   "outputs": [],
   "source": [
    "import os\n",
    "\n",
    "from dotenv import load_dotenv\n",
    "from pymongo import MongoClient\n",
    "\n",
    "load_dotenv(\"../env\")\n",
    "client = MongoClient(os.environ.get(\"MONGO_DB_CONNECTION\"))\n",
    "db = client.get_database(\"prismai\")\n",
    "collection = db.get_collection(\"collected_items\")"
   ]
  },
  {
   "cell_type": "code",
   "execution_count": 19,
   "metadata": {},
   "outputs": [
    {
     "data": {
      "text/plain": [
       "{'nIndexesWas': 1, 'ns': 'prismai.transition_scores', 'ok': 1.0}"
      ]
     },
     "execution_count": 19,
     "metadata": {},
     "output_type": "execute_result"
    }
   ],
   "source": [
    "# db.drop_collection(\"transition_scores\")"
   ]
  },
  {
   "cell_type": "code",
   "execution_count": 8,
   "metadata": {},
   "outputs": [],
   "source": [
    "stc = db.get_collection(\"synthesized_texts\")"
   ]
  },
  {
   "cell_type": "code",
   "execution_count": 17,
   "metadata": {},
   "outputs": [
    {
     "data": {
      "text/plain": [
       "{'_id': ObjectId('679793f8bb95bc200c6a2068'),\n",
       " 'ref_id': DBRef('collected_items', 'fb556a23-7abf-47b2-93f6-ab99eeedec0b'),\n",
       " '_ref_id': DBRef('collected_items', ObjectId('678fb3abdbe3ac531644d65e')),\n",
       " 'domain': 'bundestag',\n",
       " 'date': '2019-02-13T00:00:00',\n",
       " 'source': 'https://bundestag-mine.de/api/DashboardController/GetNLPSpeechById/e9e8a810-308a-4719-6138-08da0f22a008',\n",
       " 'lang': 'de-DE',\n",
       " 'agent': 'gpt-4o-mini',\n",
       " 'text': 'Sehr geehrte Damen und Herren, liebe Kolleginnen und Kollegen,\\n\\nheute stehen wir hier im Deutschen Bundestag, um über eine der drängendsten Herausforderungen unserer Zeit zu sprechen: die Energiewende und ihre weitreichenden Implikationen für unser Land, unsere Gesellschaft und unseren Planeten. Wir alle sind uns der Verantwortung bewusst, die wir tragen, nicht nur gegenüber unseren Bürgerinnen und Bürgern, sondern auch gegenüber zukünftigen Generationen. Die Klimakrise ist nicht länger ein fernes Szenario, sondern eine gegenwärtige Realität, die uns alle betrifft.\\n\\nDie Pariser Klimavereinbarung von 2015 hat einen klaren Rahmen gesetzt: Die globale Erwärmung soll auf deutlich unter 2 Grad Celsius, möglichst auf 1,5 Grad Celsius begrenzt werden. Dies ist nicht nur ein ambitioniertes Ziel, sondern auch eine moralische Verpflichtung, die wir als Nation ernst nehmen müssen. Doch wie erreichen wir dieses Ziel? Welche Strategien sind notwendig, um den Übergang zu einer nachhaltigen Energieversorgung zu gestalten? Und wie gehen wir mit den geopolitischen Herausforderungen um, die sich aus unserer Abhängigkeit von fossilen Brennstoffen ergeben?\\n\\nLassen Sie uns zunächst die Herausforderungen betrachten. Die Abkehr von fossilen Brennstoffen ist nicht nur eine technische, sondern auch eine gesellschaftliche Herausforderung. Wir müssen sicherstellen, dass die Energiewende sozial gerecht gestaltet wird. Der Strukturwandel in den betroffenen Regionen darf nicht zu einer Verlierergruppe führen. Wie können wir also den Menschen in diesen Regionen Perspektiven bieten? Wie schaffen wir Arbeitsplätze in einer grünen Wirtschaft, die nicht nur nachhaltig, sondern auch zukunftsfähig ist?\\n\\nEin weiterer Aspekt, den wir nicht ignorieren dürfen, ist die Frage der Energieversorgungssicherheit. Der Krieg in der Ukraine hat uns schmerzlich vor Augen geführt, wie verwundbar unsere Energieversorgung ist. Die Abhängigkeit von Erdgas, insbesondere von Lieferungen aus Russland, stellt uns vor enorme Herausforderungen. Hier kommt das Projekt Nord Stream 2 ins Spiel. Es wurde viel über die geopolitischen Implikationen dieses Projekts diskutiert. Ist es nicht an der Zeit, dass wir uns fragen, ob wir uns auf solche Projekte verlassen sollten, die uns in eine derartige Abhängigkeit führen?\\n\\nDie Bundesregierung hat sich klar positioniert: Wir müssen unsere Energieversorgung diversifizieren und gleichzeitig die Erneuerbaren Energien ausbauen. Wind, Sonne und Biomasse müssen die tragenden Säulen unserer zukünftigen Energieversorgung sein. Aber wie schnell können wir diesen Wandel vollziehen? Sind wir bereit, die notwendigen Investitionen zu tätigen und die Infrastruktur zu schaffen, die wir benötigen? Ich fordere Sie alle auf, sich dieser Frage zu stellen und darüber nachzudenken, wie wir gemeinsam Lösungen finden können.\\n\\nIn diesem Zusammenhang ist es auch wichtig, den europäischen Rahmen zu betrachten. Die Energiewende ist nicht nur eine nationale Aufgabe, sondern erfordert ein koordiniertes Vorgehen auf europäischer Ebene. Wir müssen unsere Nachbarn einbeziehen und gemeinsam an Lösungen arbeiten. Wie können wir den Austausch von Energie innerhalb Europas fördern? Wie können wir sicherstellen, dass wir nicht nur national, sondern auch international Vorreiter in der Klimapolitik sind?\\n\\nEin weiterer zentraler Punkt ist die Rolle der Technologie. Innovationen im Bereich der erneuerbaren Energien, der Speichertechnologien und der Energieeffizienz sind entscheidend für den Erfolg der Energiewende. Wie können wir als Staat die Forschung und Entwicklung in diesen Bereichen fördern? Welche Anreize können wir schaffen, um private Investitionen zu mobilisieren? Hier müssen wir als Legislaturperiode aktiv werden und die Rahmenbedingungen so gestalten, dass sie Innovationen begünstigen.\\n\\nLassen Sie uns auch die Bürgerinnen und Bürger in diesen Prozess einbeziehen. Die Energiewende kann nur gelingen, wenn wir die Menschen mitnehmen. Wie können wir das Bewusstsein für die Notwendigkeit der Energiewende schärfen? Wie können wir die Bürgerinnen und Bürger dazu ermutigen, aktiv an diesem Prozess teilzunehmen? Ich glaube, dass Aufklärung und Transparenz entscheidend sind. Wir müssen den Menschen die Vorteile einer nachhaltigen Energieversorgung aufzeigen und sie ermutigen, Teil der Lösung zu werden.\\n\\nEs ist auch wichtig, die Rolle der Industrie zu betrachten. Die deutsche Wirtschaft ist stark von fossilen Brennstoffen abhängig. Wie können wir sicherstellen, dass wir diesen Übergang nicht nur sozial, sondern auch wirtschaftlich gestalten? Die Industrie muss in der Lage sein, sich anzupassen und innovative Lösungen zu entwickeln. Hier sind wir als Gesetzgeber gefordert, die richtigen Rahmenbedingungen zu schaffen, um diese Transformation zu unterstützen.\\n\\nEin weiterer Punkt, den ich ansprechen möchte, ist die internationale Zusammenarbeit. Die Klimakrise kennt keine Grenzen. Wir müssen unsere Anstrengungen bündeln und gemeinsam mit anderen Ländern an Lösungen arbeiten. Wie können wir sicherstellen, dass wir nicht nur national, sondern auch international eine Vorreiterrolle einnehmen? Wie können wir unseren Einfluss nutzen, um andere Länder zu ermutigen, ebenfalls ambitionierte Klimaziele zu verfolgen?\\n\\nIn Anbetracht all dieser Herausforderungen und Fragen ist es klar, dass die Energiewende eine komplexe Aufgabe ist, die ein hohes Maß an Engagement, Zusammenarbeit und Innovation erfordert. Lassen Sie uns gemeinsam an einem Strang ziehen und die notwendigen Schritte unternehmen, um die Klimaziele zu erreichen. Es liegt in unserer Verantwortung, die Weichen für eine nachhaltige Zukunft zu stellen. Lassen Sie uns mutig und entschlossen handeln, um die Herausforderungen der Energiewende zu meistern und eine lebenswerte Zukunft für kommende Generationen zu sichern.\\n\\nVielen Dank für Ihre Aufmerksamkeit.',\n",
       " 'chunks': [],\n",
       " 'type': 'fulltext',\n",
       " 'synth_metadata': {'created': '2024-12-31 10:07:32.973589',\n",
       "  'type': 'fulltext',\n",
       "  'model': 'gpt-4o-mini',\n",
       "  'extracted_information': \"- Language: German\\n- Context: A speech delivered in the German Bundestag, likely by a government official or politician addressing energy policy and climate change. The speaker engages with a colleague and addresses the audience directly, indicating a formal political setting.\\n- Topic: The challenges and strategies related to Germany's energy transition, the implications of the Paris Climate Agreement, and the discussion surrounding gas supply, including the Nord Stream 2 project and its geopolitical ramifications.\\n- Style: Formal and argumentative, utilizing a structured approach with rhetorical questions and direct addresses to the audience. The language is sophisticated, reflecting a high level of political discourse. The speaker employs a mix of assertive statements and nuanced arguments to convey the complexities of energy policy and climate commitments.\\n- The text must be around 1300 words long.\",\n",
       "  'synth_text': 'Sehr geehrte Damen und Herren, liebe Kolleginnen und Kollegen,\\n\\nheute stehen wir hier im Deutschen Bundestag, um über eine der drängendsten Herausforderungen unserer Zeit zu sprechen: die Energiewende und ihre weitreichenden Implikationen für unser Land, unsere Gesellschaft und unseren Planeten. Wir alle sind uns der Verantwortung bewusst, die wir tragen, nicht nur gegenüber unseren Bürgerinnen und Bürgern, sondern auch gegenüber zukünftigen Generationen. Die Klimakrise ist nicht länger ein fernes Szenario, sondern eine gegenwärtige Realität, die uns alle betrifft.\\n\\nDie Pariser Klimavereinbarung von 2015 hat einen klaren Rahmen gesetzt: Die globale Erwärmung soll auf deutlich unter 2 Grad Celsius, möglichst auf 1,5 Grad Celsius begrenzt werden. Dies ist nicht nur ein ambitioniertes Ziel, sondern auch eine moralische Verpflichtung, die wir als Nation ernst nehmen müssen. Doch wie erreichen wir dieses Ziel? Welche Strategien sind notwendig, um den Übergang zu einer nachhaltigen Energieversorgung zu gestalten? Und wie gehen wir mit den geopolitischen Herausforderungen um, die sich aus unserer Abhängigkeit von fossilen Brennstoffen ergeben?\\n\\nLassen Sie uns zunächst die Herausforderungen betrachten. Die Abkehr von fossilen Brennstoffen ist nicht nur eine technische, sondern auch eine gesellschaftliche Herausforderung. Wir müssen sicherstellen, dass die Energiewende sozial gerecht gestaltet wird. Der Strukturwandel in den betroffenen Regionen darf nicht zu einer Verlierergruppe führen. Wie können wir also den Menschen in diesen Regionen Perspektiven bieten? Wie schaffen wir Arbeitsplätze in einer grünen Wirtschaft, die nicht nur nachhaltig, sondern auch zukunftsfähig ist?\\n\\nEin weiterer Aspekt, den wir nicht ignorieren dürfen, ist die Frage der Energieversorgungssicherheit. Der Krieg in der Ukraine hat uns schmerzlich vor Augen geführt, wie verwundbar unsere Energieversorgung ist. Die Abhängigkeit von Erdgas, insbesondere von Lieferungen aus Russland, stellt uns vor enorme Herausforderungen. Hier kommt das Projekt Nord Stream 2 ins Spiel. Es wurde viel über die geopolitischen Implikationen dieses Projekts diskutiert. Ist es nicht an der Zeit, dass wir uns fragen, ob wir uns auf solche Projekte verlassen sollten, die uns in eine derartige Abhängigkeit führen?\\n\\nDie Bundesregierung hat sich klar positioniert: Wir müssen unsere Energieversorgung diversifizieren und gleichzeitig die Erneuerbaren Energien ausbauen. Wind, Sonne und Biomasse müssen die tragenden Säulen unserer zukünftigen Energieversorgung sein. Aber wie schnell können wir diesen Wandel vollziehen? Sind wir bereit, die notwendigen Investitionen zu tätigen und die Infrastruktur zu schaffen, die wir benötigen? Ich fordere Sie alle auf, sich dieser Frage zu stellen und darüber nachzudenken, wie wir gemeinsam Lösungen finden können.\\n\\nIn diesem Zusammenhang ist es auch wichtig, den europäischen Rahmen zu betrachten. Die Energiewende ist nicht nur eine nationale Aufgabe, sondern erfordert ein koordiniertes Vorgehen auf europäischer Ebene. Wir müssen unsere Nachbarn einbeziehen und gemeinsam an Lösungen arbeiten. Wie können wir den Austausch von Energie innerhalb Europas fördern? Wie können wir sicherstellen, dass wir nicht nur national, sondern auch international Vorreiter in der Klimapolitik sind?\\n\\nEin weiterer zentraler Punkt ist die Rolle der Technologie. Innovationen im Bereich der erneuerbaren Energien, der Speichertechnologien und der Energieeffizienz sind entscheidend für den Erfolg der Energiewende. Wie können wir als Staat die Forschung und Entwicklung in diesen Bereichen fördern? Welche Anreize können wir schaffen, um private Investitionen zu mobilisieren? Hier müssen wir als Legislaturperiode aktiv werden und die Rahmenbedingungen so gestalten, dass sie Innovationen begünstigen.\\n\\nLassen Sie uns auch die Bürgerinnen und Bürger in diesen Prozess einbeziehen. Die Energiewende kann nur gelingen, wenn wir die Menschen mitnehmen. Wie können wir das Bewusstsein für die Notwendigkeit der Energiewende schärfen? Wie können wir die Bürgerinnen und Bürger dazu ermutigen, aktiv an diesem Prozess teilzunehmen? Ich glaube, dass Aufklärung und Transparenz entscheidend sind. Wir müssen den Menschen die Vorteile einer nachhaltigen Energieversorgung aufzeigen und sie ermutigen, Teil der Lösung zu werden.\\n\\nEs ist auch wichtig, die Rolle der Industrie zu betrachten. Die deutsche Wirtschaft ist stark von fossilen Brennstoffen abhängig. Wie können wir sicherstellen, dass wir diesen Übergang nicht nur sozial, sondern auch wirtschaftlich gestalten? Die Industrie muss in der Lage sein, sich anzupassen und innovative Lösungen zu entwickeln. Hier sind wir als Gesetzgeber gefordert, die richtigen Rahmenbedingungen zu schaffen, um diese Transformation zu unterstützen.\\n\\nEin weiterer Punkt, den ich ansprechen möchte, ist die internationale Zusammenarbeit. Die Klimakrise kennt keine Grenzen. Wir müssen unsere Anstrengungen bündeln und gemeinsam mit anderen Ländern an Lösungen arbeiten. Wie können wir sicherstellen, dass wir nicht nur national, sondern auch international eine Vorreiterrolle einnehmen? Wie können wir unseren Einfluss nutzen, um andere Länder zu ermutigen, ebenfalls ambitionierte Klimaziele zu verfolgen?\\n\\nIn Anbetracht all dieser Herausforderungen und Fragen ist es klar, dass die Energiewende eine komplexe Aufgabe ist, die ein hohes Maß an Engagement, Zusammenarbeit und Innovation erfordert. Lassen Sie uns gemeinsam an einem Strang ziehen und die notwendigen Schritte unternehmen, um die Klimaziele zu erreichen. Es liegt in unserer Verantwortung, die Weichen für eine nachhaltige Zukunft zu stellen. Lassen Sie uns mutig und entschlossen handeln, um die Herausforderungen der Energiewende zu meistern und eine lebenswerte Zukunft für kommende Generationen zu sichern.\\n\\nVielen Dank für Ihre Aufmerksamkeit.',\n",
       "  'og_text_length': 1300,\n",
       "  'synth_text_text_length': 805,\n",
       "  'synth_text_truncated': False}}"
      ]
     },
     "execution_count": 17,
     "metadata": {},
     "output_type": "execute_result"
    }
   ],
   "source": [
    "stc.find_one({\"agent\": \"gpt-4o-mini\"})"
   ]
  },
  {
   "cell_type": "code",
   "execution_count": 2,
   "metadata": {},
   "outputs": [],
   "source": [
    "\n",
    "tsc = db.get_collection(\"transition_scores\")"
   ]
  },
  {
   "cell_type": "code",
   "execution_count": 7,
   "metadata": {},
   "outputs": [
    {
     "data": {
      "text/plain": [
       "52739"
      ]
     },
     "execution_count": 7,
     "metadata": {},
     "output_type": "execute_result"
    }
   ],
   "source": [
    "tsc.count_documents({\"_ref_id.$ref\": \"synthesized_texts\"})"
   ]
  },
  {
   "cell_type": "code",
   "execution_count": 6,
   "metadata": {},
   "outputs": [],
   "source": [
    "from itertools import batched\n",
    "\n",
    "import datasets\n",
    "from datasets import Dataset\n",
    "from tqdm.auto import tqdm\n",
    "\n",
    "datasets.disable_progress_bars()"
   ]
  },
  {
   "cell_type": "code",
   "execution_count": null,
   "metadata": {},
   "outputs": [],
   "source": [
    "from transition_scores.pre_processor.chunks import RollingWindowChunkPreProcessor\n",
    "from transition_scores.pre_processor.text import TextPreProcessor\n",
    "from transition_scores.scorer import OnnxTransitionScorer\n",
    "\n",
    "scorer = OnnxTransitionScorer(\n",
    "    \"/hot_storage/models/onnx/gpt2_onnx_o4/\",\n",
    "    pre_processor=RollingWindowChunkPreProcessor.from_pretrained(\n",
    "        \"/hot_storage/models/onnx/gpt2_onnx_o4/\"\n",
    "    ),\n",
    "    batch_size=1,\n",
    "    device=\"cuda\",\n",
    "    top_k=4,\n",
    ")"
   ]
  },
  {
   "cell_type": "code",
   "execution_count": null,
   "metadata": {},
   "outputs": [],
   "source": [
    "from bson import DBRef\n",
    "\n",
    "total = collection.count_documents({})\n",
    "\n",
    "tq = tqdm(\n",
    "    collection.find(\n",
    "        projection=[\n",
    "            \"text\",\n",
    "            \"chunks\",\n",
    "        ],\n",
    "        batch_size=128,\n",
    "    ),\n",
    "    total=total,\n",
    ")\n",
    "for batch in batched(tq, 16):\n",
    "    batch = [\n",
    "        {\n",
    "            \"ref\": {\n",
    "                \"$ref\": \"collected_items\",\n",
    "                \"$id\": str(row.pop(\"_id\")),\n",
    "            }\n",
    "        }\n",
    "        | row\n",
    "        for row in batch\n",
    "    ]\n",
    "    dataset = Dataset.from_list(batch)\n",
    "    dataset = dataset.filter(lambda x: x[\"text\"] and x[\"chunks\"])\n",
    "    for scores in scorer.process(dataset):\n",
    "        print(str(scores)[:500])\n",
    "        raise RuntimeError"
   ]
  },
  {
   "cell_type": "code",
   "execution_count": null,
   "metadata": {},
   "outputs": [],
   "source": [
    "_scores = scores.copy()\n",
    "\n",
    "transposed = {\"feature_metadata\": dict()}\n",
    "for key in scorer.pre_processor.additional_fields:\n",
    "    transposed[\"feature_metadata\"][key] = _scores.pop(key)\n",
    "transposed = _scores | transposed\n",
    "transposed"
   ]
  },
  {
   "cell_type": "code",
   "execution_count": null,
   "metadata": {},
   "outputs": [],
   "source": [
    "one = collection.find_one({\"_id\": \"22c34302-0ec6-4781-8d96-1d6a4fda049e\"})\n",
    "print(one[\"text\"])\n",
    "print(\"\".join(one[\"chunks\"]))\n",
    "one"
   ]
  },
  {
   "cell_type": "code",
   "execution_count": null,
   "metadata": {},
   "outputs": [],
   "source": [
    "from bson.dbref import DBRef\n",
    "\n",
    "from transition_scores.data import LogProbs\n",
    "from transition_scores.mongo import TextTransitionScore, TransitionScoreItem\n",
    "\n",
    "dict(\n",
    "    TransitionScoreItem(\n",
    "        DBRef(\"a\", \"b\"),\n",
    "        \"gpt2\",\n",
    "        \"onnx\",\n",
    "        TextTransitionScore([LogProbs(0, 1.0, [0], [1.0])]),\n",
    "    )\n",
    ")"
   ]
  },
  {
   "cell_type": "code",
   "execution_count": null,
   "metadata": {},
   "outputs": [],
   "source": [
    "from datasets import Dataset\n",
    "\n",
    "from transition_scores.pre_processor.text import TextPreProcessor\n",
    "\n",
    "tokenizer = TextPreProcessor.from_pretrained(\"gpt2\")\n",
    "\n",
    "dataset = Dataset.from_dict(\n",
    "    {\n",
    "        \"_id\": [\"abc-def-123\"],\n",
    "        \"text\": [\n",
    "            \"Lorem ipsum dolor sit amet, consectetur adipiscing elit. Sed do eiusmod tempor incididunt ut labore et dolore magna aliqua. Ut enim ad minim veniam, quis nostrud exercitation ullamco laboris nisi ut aliquip ex ea commodo consequat.\"\n",
    "        ],\n",
    "        \"chunks\": [\n",
    "            [\n",
    "                \"Lorem ipsum dolor sit amet,\",\n",
    "                \"consectetur adipiscing elit.\",\n",
    "                \"Sed do eiusmod tempor incididunt ut labore et dolore magna aliqua.\",\n",
    "                \"Ut enim ad minim veniam,\",\n",
    "                \"quis nostrud exercitation ullamco laboris nisi ut aliquip ex ea commodo consequat.\",\n",
    "            ]\n",
    "        ],\n",
    "    }\n",
    ")\n",
    "dataset = tokenizer.prepare_dataset(dataset)\n",
    "dataset"
   ]
  },
  {
   "cell_type": "code",
   "execution_count": null,
   "metadata": {},
   "outputs": [],
   "source": [
    "from datasets import Dataset\n",
    "\n",
    "from transition_scores.pre_processor.chunks import RollingWindowChunkPreProcessor\n",
    "from transition_scores.pre_processor.text import TextPreProcessor\n",
    "\n",
    "tokenizer = RollingWindowChunkPreProcessor.from_pretrained(\"gpt2\")\n",
    "\n",
    "dataset = Dataset.from_dict(\n",
    "    {\n",
    "        \"_id\": [\"abc-def-123\"],\n",
    "        \"text\": [\n",
    "            \"Lorem ipsum dolor sit amet, consectetur adipiscing elit. Sed do eiusmod tempor incididunt ut labore et dolore magna aliqua. Ut enim ad minim veniam, quis nostrud exercitation ullamco laboris nisi ut aliquip ex ea commodo consequat.\"\n",
    "        ],\n",
    "        \"chunks\": [\n",
    "            [\n",
    "                \"Lorem ipsum dolor sit amet,\",\n",
    "                \"consectetur adipiscing elit.\",\n",
    "                \"Sed do eiusmod tempor incididunt ut labore et dolore magna aliqua.\",\n",
    "                \"Ut enim ad minim veniam,\",\n",
    "                \"quis nostrud exercitation ullamco laboris nisi ut aliquip ex ea commodo consequat.\",\n",
    "            ]\n",
    "        ],\n",
    "    }\n",
    ")\n",
    "dataset = tokenizer.prepare_dataset(dataset)\n",
    "dataset"
   ]
  },
  {
   "cell_type": "code",
   "execution_count": 1,
   "metadata": {},
   "outputs": [],
   "source": [
    "import json\n",
    "import os\n",
    "from argparse import ArgumentParser, Namespace\n",
    "from itertools import batched\n",
    "from pathlib import Path\n",
    "\n",
    "import datasets\n",
    "from datasets import Dataset\n",
    "from dotenv import load_dotenv\n",
    "from pymongo import MongoClient\n",
    "from tqdm import tqdm, trange\n",
    "\n",
    "from transition_scores.pre_processor.chunks import RollingWindowChunkPreProcessor\n",
    "from transition_scores.scorer import OnnxTransitionScorer\n",
    "\n",
    "mongodb_batch_size = 16\n",
    "mongodb_filter_query = {}\n",
    "dataset_batch_size = 8\n",
    "\n",
    "mongodb_client = MongoClient(os.environ.get(\"MONGO_DB_CONNECTION\"))\n",
    "mongodb_database = mongodb_client.get_database(\"prismai\")\n",
    "source_collection = mongodb_database.get_collection(\"collected_items\")\n",
    "target_collection = mongodb_database.get_collection(\"test\")\n",
    "\n",
    "\n",
    "scorer = OnnxTransitionScorer(\n",
    "    \"/hot_storage/models/onnx/gpt2_onnx_o4/\",\n",
    "    batch_size=4,\n",
    "    device=\"cuda\",\n",
    ")\n",
    "\n",
    "pre_processors = RollingWindowChunkPreProcessor.from_pretrained(\"gpt2\")\n",
    "num_documents = source_collection.count_documents(mongodb_filter_query)\n",
    "tq_fetch = trange(\n",
    "    0,\n",
    "    16,\n",
    "    8,\n",
    "    desc=f\"Processing Document Batches of {dataset_batch_size} from {source_collection}\",\n",
    ")\n",
    "for offset in tq_fetch:\n",
    "    batch = []\n",
    "    for row in source_collection.find(\n",
    "        mongodb_filter_query,\n",
    "        projection=[\n",
    "            \"text\",\n",
    "            \"chunks\",\n",
    "            \"id\",\n",
    "        ],\n",
    "        batch_size=mongodb_batch_size,\n",
    "        limit=min(dataset_batch_size, num_documents),\n",
    "        skip=offset,\n",
    "    ):\n",
    "        refs = {\n",
    "            \"_ref_id\": {\n",
    "                \"$ref\": \"collected_items\",\n",
    "                \"$id\": str(row.pop(\"_id\")),\n",
    "            }\n",
    "        }\n",
    "        if \"id\" in row:\n",
    "            refs[\"ref_id\"] = {\n",
    "                \"$ref\": \"collected_items\",\n",
    "                \"$id\": row.pop(\"id\"),\n",
    "            }\n",
    "        else:\n",
    "            refs[\"ref_id\"] = None\n",
    "\n",
    "        if \"_ref_id\" in row:\n",
    "            refs[\"_orig_ref_id\"] = row.pop(\"_ref_id\")\n",
    "        if \"ref_id\" in row:\n",
    "            refs[\"orig_ref_id\"] = row.pop(\"ref_id\")\n",
    "\n",
    "        batch.append(refs | row)\n",
    "    dataset = Dataset.from_list(batch).filter(\n",
    "        lambda x: x[\"text\"] and x[\"chunks\"],\n",
    "        keep_in_memory=not datasets.is_caching_enabled(),\n",
    "    )\n",
    "\n",
    "    for pre_processor in [pre_processors]:\n",
    "        processed_dataset = scorer.process(dataset, pre_processor)\n",
    "        for r_batch in batched(\n",
    "            tqdm(\n",
    "                processed_dataset,\n",
    "                desc=\"Inserting Batch Results\",\n",
    "                position=1,\n",
    "                leave=False,\n",
    "            ),\n",
    "            mongodb_batch_size,\n",
    "        ):\n",
    "            target_collection.insert_many(r_batch, ordered=False)\n"
   ]
  }
 ],
 "metadata": {
  "kernelspec": {
   "display_name": ".venv",
   "language": "python",
   "name": "python3"
  },
  "language_info": {
   "codemirror_mode": {
    "name": "ipython",
    "version": 3
   },
   "file_extension": ".py",
   "mimetype": "text/x-python",
   "name": "python",
   "nbconvert_exporter": "python",
   "pygments_lexer": "ipython3",
   "version": "3.12.7"
  }
 },
 "nbformat": 4,
 "nbformat_minor": 2
}
