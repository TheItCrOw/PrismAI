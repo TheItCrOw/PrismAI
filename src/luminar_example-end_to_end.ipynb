{
 "cells": [
  {
   "cell_type": "markdown",
   "metadata": {},
   "source": [
    "# Luminar"
   ]
  },
  {
   "cell_type": "markdown",
   "metadata": {},
   "source": [
    "## Minimal Code"
   ]
  },
  {
   "cell_type": "code",
   "execution_count": 1,
   "metadata": {},
   "outputs": [],
   "source": [
    "from typing import Iterable, NamedTuple\n",
    "\n",
    "import torch\n",
    "from datasets import Dataset\n",
    "from torch import nn\n",
    "from torch.utils.data import DataLoader, Subset\n",
    "from transformers import (\n",
    "    AutoModelForCausalLM,\n",
    "    AutoTokenizer,\n",
    "    PreTrainedModel,\n",
    "    PreTrainedTokenizer,\n",
    ")"
   ]
  },
  {
   "cell_type": "markdown",
   "metadata": {},
   "source": [
    "### Luminar Encoder\n",
    "\n",
    "1. Pre-Process Inputs: tokenize and pass through LLM, recording hidden states\n",
    "2. Calculate _Intermediate Likelihoods_: pass each hidden state through the models LM head"
   ]
  },
  {
   "cell_type": "code",
   "execution_count": 2,
   "metadata": {},
   "outputs": [],
   "source": [
    "class LuminarEncoder:\n",
    "    def __init__(\n",
    "        self,\n",
    "        feature_dim: int = 256,\n",
    "        model_name_or_path: str = \"gpt2\",\n",
    "        device: str = (\"cuda\" if torch.cuda.is_available() else \"cpu\"),\n",
    "    ):\n",
    "        self.feature_dim = feature_dim\n",
    "        self.device = torch.device(device)\n",
    "\n",
    "        self.tokenizer: PreTrainedTokenizer = AutoTokenizer.from_pretrained(\n",
    "            model_name_or_path\n",
    "        )\n",
    "        if not hasattr(self.tokenizer, \"pad_token\") or self.tokenizer.pad_token is None:\n",
    "            self.tokenizer.pad_token = self.tokenizer.eos_token\n",
    "        self.pad_token_id = self.tokenizer.pad_token_id\n",
    "\n",
    "        self.model: PreTrainedModel = AutoModelForCausalLM.from_pretrained(\n",
    "            model_name_or_path\n",
    "        )\n",
    "        self.model = self.model.to(self.device)\n",
    "\n",
    "        if hasattr(self.model, \"lm_head\"):\n",
    "            self.model_lm_head: nn.Linear = self.model.lm_head\n",
    "        elif hasattr(self.model.model, \"lm_head\"):\n",
    "            self.model_lm_head: nn.Linear = self.model.model.lm_head\n",
    "        else:\n",
    "            raise ValueError(\"Could not find lm_head in model\")\n",
    "\n",
    "    def __call__(self, batch: dict[str, list[str]]) -> dict[str, list[torch.Tensor]]:\n",
    "        return {\"features\": self.process(batch[\"text\"])}\n",
    "\n",
    "    def process(self, batch: list[str]) -> list[torch.Tensor]:\n",
    "        encoding = self.tokenizer(\n",
    "            batch,\n",
    "            padding=True,\n",
    "            truncation=True,\n",
    "            max_length=self.feature_dim,\n",
    "            return_tensors=\"pt\",\n",
    "        )\n",
    "        batch_hidden_states = self.forward(encoding.input_ids, encoding.attention_mask)\n",
    "\n",
    "        intermediate_likelihoods = []\n",
    "        for input_ids, hidden_states in zip(encoding.input_ids, batch_hidden_states):\n",
    "            intermediate_likelihoods.append(\n",
    "                self.compute_intermediate_likelihoods(input_ids, hidden_states)\n",
    "            )\n",
    "\n",
    "        return intermediate_likelihoods\n",
    "\n",
    "    @torch.no_grad()\n",
    "    def forward(\n",
    "        self,\n",
    "        input_ids: torch.Tensor,\n",
    "        attention_mask: torch.Tensor,\n",
    "    ) -> Iterable[tuple[torch.Tensor, ...]]:\n",
    "        outputs = self.model(\n",
    "            input_ids=input_ids.to(self.device),\n",
    "            attention_mask=attention_mask.to(self.device),\n",
    "            output_hidden_states=True,\n",
    "        )\n",
    "\n",
    "        # unpack hidden states to get one list of tensors per input sequence,\n",
    "        # instead of one hidden state per layer in the model\n",
    "        return zip(*outputs.hidden_states)  # type: ignore\n",
    "\n",
    "    @torch.no_grad()\n",
    "    def compute_intermediate_likelihoods(\n",
    "        self,\n",
    "        input_ids: torch.Tensor,\n",
    "        hidden_states: tuple[torch.Tensor],\n",
    "    ) -> torch.Tensor:\n",
    "        labels = input_ids[1:].view(-1, 1)\n",
    "\n",
    "        seq_length = min(labels.ne(self.pad_token_id).sum(), self.feature_dim)\n",
    "        labels = labels[:seq_length].to(self.device)\n",
    "\n",
    "        intermediate_likelihoods = []\n",
    "        for hs in hidden_states:\n",
    "            hs: torch.Tensor = hs[:seq_length].to(self.device)\n",
    "            il = (\n",
    "                # get layer logits\n",
    "                self.model_lm_head(hs)\n",
    "                # calculate likelihoods\n",
    "                .softmax(-1)\n",
    "                # get likelihoods of input tokens\n",
    "                .gather(-1, labels)\n",
    "                .squeeze(-1)\n",
    "                .cpu()\n",
    "            )\n",
    "            del hs\n",
    "\n",
    "            # pad with zeros if sequence is shorter than required feature_dim\n",
    "            if seq_length < self.feature_dim:\n",
    "                il = torch.cat([il, torch.zeros(self.feature_dim - seq_length)])\n",
    "\n",
    "            intermediate_likelihoods.append(il)\n",
    "\n",
    "        # stack intermediate likelihoods to get tensor of shape (feature_dim, num_layers)\n",
    "        return torch.stack(intermediate_likelihoods, dim=1)"
   ]
  },
  {
   "cell_type": "markdown",
   "metadata": {},
   "source": [
    "### Luminar Classifier\n",
    "\n",
    "CNN-based classifier using _Intermediate Likelihoods_ as input features.\n",
    "Here, we utilize these inherently 2D values (`seq_len * num_layers`) as 1D inputs where the second dimension is treated as input channels."
   ]
  },
  {
   "cell_type": "code",
   "execution_count": 3,
   "metadata": {},
   "outputs": [],
   "source": [
    "class ConvolutionalLayerSpec(NamedTuple):\n",
    "    channels: int\n",
    "    kernel_size: int | tuple[int, int]\n",
    "    stride: int = 1\n",
    "\n",
    "    @property\n",
    "    def kernel_size_1d(self):\n",
    "        if isinstance(self.kernel_size, int):\n",
    "            return self.kernel_size\n",
    "        return self.kernel_size[0]\n",
    "\n",
    "    @property\n",
    "    def kernel_size_2d(self):\n",
    "        if isinstance(self.kernel_size, int):\n",
    "            return (self.kernel_size, self.kernel_size)\n",
    "        return self.kernel_size\n",
    "\n",
    "    @property\n",
    "    def padding(self) -> int:\n",
    "        return (self.kernel_size_1d - 1) // 2\n",
    "\n",
    "    def __repr__(self):\n",
    "        return repr(tuple(self))\n",
    "\n",
    "\n",
    "DEFAULT_CONV_LAYER_SHAPES = ((64, 5), (128, 3), (128, 3), (128, 3), (64, 3))\n",
    "\n",
    "\n",
    "class LuminarClassifier(nn.Module):\n",
    "    def __init__(\n",
    "        self,\n",
    "        conv_layer_shapes: Iterable[ConvolutionalLayerSpec] = DEFAULT_CONV_LAYER_SHAPES,\n",
    "        projection_dim: int | None = None,\n",
    "    ):\n",
    "        super().__init__()\n",
    "        self.conv_layers = nn.Sequential()\n",
    "        for conv in conv_layer_shapes:\n",
    "            conv = ConvolutionalLayerSpec(*conv)\n",
    "            self.conv_layers.append(\n",
    "                nn.LazyConv1d(\n",
    "                    conv.channels,\n",
    "                    conv.kernel_size,  # type: ignore\n",
    "                    conv.stride,\n",
    "                    conv.padding,\n",
    "                ),\n",
    "            )\n",
    "            self.conv_layers.append(\n",
    "                nn.LeakyReLU(),\n",
    "            )\n",
    "        self.conv_layers.append(nn.Flatten())\n",
    "\n",
    "        if projection_dim:\n",
    "            self.projection = nn.Sequential(\n",
    "                nn.LazyLinear(projection_dim), nn.LeakyReLU()\n",
    "            )\n",
    "        else:\n",
    "            self.projection = nn.Identity()\n",
    "\n",
    "        self.classifier = nn.LazyLinear(1)\n",
    "\n",
    "    def forward(self, features: torch.Tensor):\n",
    "        # We are using 2D features (so `features` is a 3D tensor)\n",
    "        # but we want to treat the second feature dimension as channels.\n",
    "        # Thus, we need to transpose the tensor here\n",
    "        features = features.transpose(1, 2)\n",
    "\n",
    "        for layer in self.conv_layers:\n",
    "            features = layer(features)\n",
    "\n",
    "        return self.classifier(self.projection(features.flatten(1)))\n"
   ]
  },
  {
   "cell_type": "markdown",
   "metadata": {},
   "source": [
    "## Example"
   ]
  },
  {
   "cell_type": "markdown",
   "metadata": {},
   "source": [
    "### Prepare Data"
   ]
  },
  {
   "cell_type": "code",
   "execution_count": 6,
   "metadata": {},
   "outputs": [
    {
     "data": {
      "text/plain": [
       "Dataset({\n",
       "    features: ['_id', 'samples'],\n",
       "    num_rows: 11814\n",
       "})"
      ]
     },
     "execution_count": 6,
     "metadata": {},
     "output_type": "execute_result"
    }
   ],
   "source": [
    "import bz2\n",
    "import json\n",
    "\n",
    "raw_dataset = Dataset.from_list(\n",
    "    [\n",
    "        json.loads(line)\n",
    "        for line in bz2.open(\n",
    "            \"data/prismai-cnn_news-fulltext-gpt_4o_mini.jsonl.bz2\", \"rt\"\n",
    "        )\n",
    "    ],\n",
    ")\n",
    "raw_dataset"
   ]
  },
  {
   "cell_type": "code",
   "execution_count": 7,
   "metadata": {},
   "outputs": [
    {
     "data": {
      "application/vnd.jupyter.widget-view+json": {
       "model_id": "49bf9612ab2e40f186e4f27bf7797f45",
       "version_major": 2,
       "version_minor": 0
      },
      "text/plain": [
       "Map:   0%|          | 0/9451 [00:00<?, ? examples/s]"
      ]
     },
     "metadata": {},
     "output_type": "display_data"
    },
    {
     "data": {
      "application/vnd.jupyter.widget-view+json": {
       "model_id": "aa1023fe1b2f42cda4571cc107b945be",
       "version_major": 2,
       "version_minor": 0
      },
      "text/plain": [
       "Map:   0%|          | 0/2363 [00:00<?, ? examples/s]"
      ]
     },
     "metadata": {},
     "output_type": "display_data"
    },
    {
     "data": {
      "text/plain": [
       "DatasetDict({\n",
       "    train: Dataset({\n",
       "        features: ['agent', 'label', 'label_str', 'text'],\n",
       "        num_rows: 18902\n",
       "    })\n",
       "    test: Dataset({\n",
       "        features: ['agent', 'label', 'label_str', 'text'],\n",
       "        num_rows: 4726\n",
       "    })\n",
       "})"
      ]
     },
     "execution_count": 7,
     "metadata": {},
     "output_type": "execute_result"
    }
   ],
   "source": [
    "from collections import defaultdict\n",
    "\n",
    "\n",
    "def flatten_samples(batch: dict):\n",
    "    result = defaultdict(list)\n",
    "    for element in batch[\"samples\"]:\n",
    "        for sample in element:\n",
    "            for key, value in sample.items():\n",
    "                result[key].append(value)\n",
    "    return result\n",
    "\n",
    "\n",
    "dataset = raw_dataset.train_test_split(test_size=0.2).map(\n",
    "    flatten_samples,\n",
    "    batched=True,\n",
    "    remove_columns=raw_dataset.column_names,\n",
    ")\n",
    "dataset"
   ]
  },
  {
   "cell_type": "markdown",
   "metadata": {},
   "source": [
    "### Encode Samples"
   ]
  },
  {
   "cell_type": "code",
   "execution_count": 8,
   "metadata": {},
   "outputs": [],
   "source": [
    "encoder = LuminarEncoder(128, model_name_or_path=\"gpt2\")"
   ]
  },
  {
   "cell_type": "code",
   "execution_count": 10,
   "metadata": {},
   "outputs": [
    {
     "data": {
      "application/vnd.jupyter.widget-view+json": {
       "model_id": "66fc7babfca74154bbd94ae46ee1abda",
       "version_major": 2,
       "version_minor": 0
      },
      "text/plain": [
       "Map:   0%|          | 0/18902 [00:00<?, ? examples/s]"
      ]
     },
     "metadata": {},
     "output_type": "display_data"
    },
    {
     "data": {
      "application/vnd.jupyter.widget-view+json": {
       "model_id": "23dd3e3b875f47ebbada1731f5449501",
       "version_major": 2,
       "version_minor": 0
      },
      "text/plain": [
       "Map:   0%|          | 0/4726 [00:00<?, ? examples/s]"
      ]
     },
     "metadata": {},
     "output_type": "display_data"
    }
   ],
   "source": [
    "dataset = dataset.map(encoder, batched=True, batch_size=128)"
   ]
  },
  {
   "cell_type": "markdown",
   "metadata": {},
   "source": [
    "### Run Training"
   ]
  },
  {
   "cell_type": "code",
   "execution_count": 11,
   "metadata": {},
   "outputs": [],
   "source": [
    "model = LuminarClassifier()\n",
    "criterion = nn.BCEWithLogitsLoss()\n",
    "optimizer = torch.optim.Adam(model.parameters())"
   ]
  },
  {
   "cell_type": "code",
   "execution_count": 12,
   "metadata": {},
   "outputs": [
    {
     "name": "stderr",
     "output_type": "stream",
     "text": [
      "100%|███████████████████████████████████████████████████████████████| 591/591 [00:21<00:00, 27.05it/s]\n"
     ]
    }
   ],
   "source": [
    "from tqdm import tqdm\n",
    "\n",
    "\n",
    "train_dataset = dataset[\"train\"].with_format(\"torch\", [\"features\", \"label\"])\n",
    "for batch in tqdm(\n",
    "    DataLoader(train_dataset, 32)\n",
    "):\n",
    "    optimizer.zero_grad()\n",
    "    features = batch[\"features\"]\n",
    "    labels = batch[\"label\"].float().unsqueeze(-1)\n",
    "\n",
    "    preds = model(features)\n",
    "\n",
    "    loss = criterion(preds, labels)\n",
    "\n",
    "    loss.backward()\n",
    "    optimizer.step()"
   ]
  },
  {
   "cell_type": "code",
   "execution_count": 13,
   "metadata": {},
   "outputs": [
    {
     "name": "stderr",
     "output_type": "stream",
     "text": [
      "100%|███████████████████████████████████████████████████████████████| 148/148 [00:04<00:00, 33.95it/s]"
     ]
    },
    {
     "name": "stdout",
     "output_type": "stream",
     "text": [
      "loss=0.06053120439960244\n",
      "f1=0.982703395259449\n"
     ]
    },
    {
     "name": "stderr",
     "output_type": "stream",
     "text": [
      "\n"
     ]
    }
   ],
   "source": [
    "import numpy as np\n",
    "from sklearn.metrics import f1_score\n",
    "\n",
    "\n",
    "y_pred, y_truth, losses = [], [], []\n",
    "test_dataset = dataset[\"test\"].with_format(\"torch\", [\"features\", \"label\"])\n",
    "for batch in tqdm(DataLoader(test_dataset, 32)):\n",
    "    with torch.no_grad():\n",
    "        features = batch[\"features\"]\n",
    "        labels = batch[\"label\"].float().unsqueeze(-1)\n",
    "        preds = model(features)\n",
    "\n",
    "        y_pred.extend(preds.sigmoid().round().squeeze().tolist())\n",
    "        y_truth.extend(labels.squeeze().tolist())\n",
    "\n",
    "        loss = criterion(preds, labels)\n",
    "        losses.append(loss.item())\n",
    "\n",
    "print(f\"loss={np.mean(losses)}\")\n",
    "print(f\"f1={f1_score(y_truth, y_pred)}\")"
   ]
  }
 ],
 "metadata": {
  "kernelspec": {
   "display_name": "Python 3 (ipykernel)",
   "language": "python",
   "name": "python3"
  },
  "language_info": {
   "codemirror_mode": {
    "name": "ipython",
    "version": 3
   },
   "file_extension": ".py",
   "mimetype": "text/x-python",
   "name": "python",
   "nbconvert_exporter": "python",
   "pygments_lexer": "ipython3",
   "version": "3.12.7"
  }
 },
 "nbformat": 4,
 "nbformat_minor": 2
}
