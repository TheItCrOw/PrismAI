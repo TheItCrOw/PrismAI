{
 "cells": [
  {
   "cell_type": "markdown",
   "metadata": {},
   "source": [
    "# Luminar"
   ]
  },
  {
   "cell_type": "markdown",
   "metadata": {},
   "source": [
    "## Minimal Code"
   ]
  },
  {
   "cell_type": "code",
   "execution_count": 1,
   "metadata": {},
   "outputs": [],
   "source": [
    "from typing import Iterable, NamedTuple\n",
    "\n",
    "import torch\n",
    "from datasets import Dataset\n",
    "from torch import nn\n",
    "from torch.utils.data import DataLoader, Subset\n",
    "from transformers import (\n",
    "    AutoModelForCausalLM,\n",
    "    AutoTokenizer,\n",
    "    PreTrainedModel,\n",
    "    PreTrainedTokenizer,\n",
    ")"
   ]
  },
  {
   "cell_type": "markdown",
   "metadata": {},
   "source": [
    "### Luminar Encoder\n",
    "\n",
    "1. Pre-Process Inputs: tokenize and pass through LLM, recording hidden states\n",
    "2. Calculate _Intermediate Likelihoods_: pass each hidden state through the models LM head"
   ]
  },
  {
   "cell_type": "code",
   "execution_count": 20,
   "metadata": {},
   "outputs": [],
   "source": [
    "class LuminarEncoder:\n",
    "    def __init__(\n",
    "        self,\n",
    "        feature_dim: int = 256,\n",
    "        model_name_or_path: str = \"gpt2\",\n",
    "        device: str = (\"cuda:0\" if torch.cuda.is_available() else \"cpu\"),\n",
    "    ):\n",
    "        self.feature_dim = feature_dim\n",
    "        self.device = torch.device(device)\n",
    "\n",
    "        self.tokenizer: PreTrainedTokenizer = AutoTokenizer.from_pretrained(\n",
    "            model_name_or_path\n",
    "        )\n",
    "        if not hasattr(self.tokenizer, \"pad_token\") or self.tokenizer.pad_token is None:\n",
    "            self.tokenizer.pad_token = self.tokenizer.eos_token\n",
    "        self.pad_token_id = self.tokenizer.pad_token_id\n",
    "\n",
    "        self.model: PreTrainedModel = AutoModelForCausalLM.from_pretrained(\n",
    "            model_name_or_path\n",
    "        )\n",
    "        self.model = self.model.to(self.device)\n",
    "\n",
    "        if hasattr(self.model, \"lm_head\"):\n",
    "            self.model_lm_head: nn.Linear = self.model.lm_head\n",
    "        elif hasattr(self.model.model, \"lm_head\"):\n",
    "            self.model_lm_head: nn.Linear = self.model.model.lm_head\n",
    "        else:\n",
    "            raise ValueError(\"Could not find lm_head in model\")\n",
    "\n",
    "    def __call__(self, batch: dict[str, list[str]]) -> dict[str, list[torch.Tensor]]:\n",
    "        return {\"features\": self.process(batch[\"text\"])}\n",
    "\n",
    "    def process(self, batch: list[str]) -> list[torch.Tensor]:\n",
    "        encoding = self.tokenizer(\n",
    "            batch,\n",
    "            padding=True,\n",
    "            truncation=True,\n",
    "            max_length=self.feature_dim,\n",
    "            return_tensors=\"pt\",\n",
    "        )\n",
    "        batch_hidden_states = self.forward(encoding.input_ids, encoding.attention_mask)\n",
    "\n",
    "        intermediate_likelihoods = []\n",
    "        for input_ids, hidden_states in zip(encoding.input_ids, batch_hidden_states):\n",
    "            intermediate_likelihoods.append(\n",
    "                self.compute_intermediate_likelihoods(input_ids, hidden_states)\n",
    "            )\n",
    "\n",
    "        return intermediate_likelihoods\n",
    "\n",
    "    @torch.no_grad()\n",
    "    def forward(\n",
    "        self,\n",
    "        input_ids: torch.Tensor,\n",
    "        attention_mask: torch.Tensor,\n",
    "    ) -> Iterable[tuple[torch.Tensor, ...]]:\n",
    "        outputs = self.model(\n",
    "            input_ids=input_ids.to(self.device),\n",
    "            attention_mask=attention_mask.to(self.device),\n",
    "            output_hidden_states=True,\n",
    "        )\n",
    "\n",
    "        # unpack hidden states to get one list of tensors per input sequence,\n",
    "        # instead of one hidden state per layer in the model\n",
    "        return zip(*outputs.hidden_states)  # type: ignore\n",
    "\n",
    "    @torch.no_grad()\n",
    "    def compute_intermediate_likelihoods(\n",
    "        self,\n",
    "        input_ids: torch.Tensor,\n",
    "        hidden_states: tuple[torch.Tensor],\n",
    "    ) -> torch.Tensor:\n",
    "        labels = input_ids[1:].view(-1, 1)\n",
    "\n",
    "        seq_length = min(labels.ne(self.pad_token_id).sum(), self.feature_dim)\n",
    "        labels = labels[:seq_length].to(self.device)\n",
    "\n",
    "        intermediate_likelihoods = []\n",
    "        for hs in hidden_states:\n",
    "            hs: torch.Tensor = hs[:seq_length].to(self.device)\n",
    "            il = (\n",
    "                # get layer logits\n",
    "                self.model_lm_head(hs)\n",
    "                # calculate likelihoods\n",
    "                .softmax(-1)\n",
    "                # get likelihoods of input tokens\n",
    "                .gather(-1, labels)\n",
    "                .squeeze(-1)\n",
    "                .cpu()\n",
    "            )\n",
    "            del hs\n",
    "\n",
    "            # pad with zeros if sequence is shorter than required feature_dim\n",
    "            if seq_length < self.feature_dim:\n",
    "                il = torch.cat([il, torch.zeros(self.feature_dim - seq_length)])\n",
    "\n",
    "            intermediate_likelihoods.append(il)\n",
    "\n",
    "        # stack intermediate likelihoods to get tensor of shape (feature_dim, num_layers)\n",
    "        return torch.stack(intermediate_likelihoods, dim=1)"
   ]
  },
  {
   "cell_type": "markdown",
   "metadata": {},
   "source": [
    "### Luminar Classifier\n",
    "\n",
    "CNN-based classifier using _Intermediate Likelihoods_ as input features.\n",
    "Here, we utilize these inherently 2D values (`seq_len * num_layers`) as 1D inputs where the second dimension is treated as input channels."
   ]
  },
  {
   "cell_type": "code",
   "execution_count": 21,
   "metadata": {},
   "outputs": [],
   "source": [
    "class ConvolutionalLayerSpec(NamedTuple):\n",
    "    channels: int\n",
    "    kernel_size: int | tuple[int, int]\n",
    "    stride: int = 1\n",
    "\n",
    "    @property\n",
    "    def kernel_size_1d(self):\n",
    "        if isinstance(self.kernel_size, int):\n",
    "            return self.kernel_size\n",
    "        return self.kernel_size[0]\n",
    "\n",
    "    @property\n",
    "    def kernel_size_2d(self):\n",
    "        if isinstance(self.kernel_size, int):\n",
    "            return (self.kernel_size, self.kernel_size)\n",
    "        return self.kernel_size\n",
    "\n",
    "    @property\n",
    "    def padding(self) -> int:\n",
    "        return (self.kernel_size_1d - 1) // 2\n",
    "\n",
    "    def __repr__(self):\n",
    "        return repr(tuple(self))\n",
    "\n",
    "\n",
    "DEFAULT_CONV_LAYER_SHAPES = ((64, 5), (128, 3), (128, 3), (128, 3), (64, 3))\n",
    "\n",
    "\n",
    "class LuminarClassifier(nn.Module):\n",
    "    def __init__(\n",
    "        self,\n",
    "        conv_layer_shapes: Iterable[ConvolutionalLayerSpec] = DEFAULT_CONV_LAYER_SHAPES,\n",
    "        projection_dim: int | None = None,\n",
    "    ):\n",
    "        super().__init__()\n",
    "        self.conv_layers = nn.Sequential()\n",
    "        for conv in conv_layer_shapes:\n",
    "            conv = ConvolutionalLayerSpec(*conv)\n",
    "            self.conv_layers.append(\n",
    "                nn.LazyConv1d(\n",
    "                    conv.channels,\n",
    "                    conv.kernel_size,  # type: ignore\n",
    "                    conv.stride,\n",
    "                    conv.padding,\n",
    "                ),\n",
    "            )\n",
    "            self.conv_layers.append(\n",
    "                nn.LeakyReLU(),\n",
    "            )\n",
    "        self.conv_layers.append(nn.Flatten())\n",
    "\n",
    "        if projection_dim:\n",
    "            self.projection = nn.Sequential(\n",
    "                nn.LazyLinear(projection_dim), nn.LeakyReLU()\n",
    "            )\n",
    "        else:\n",
    "            self.projection = nn.Identity()\n",
    "\n",
    "        self.classifier = nn.LazyLinear(1)\n",
    "\n",
    "    def forward(self, features: torch.Tensor):\n",
    "        # We are using 2D features (so `features` is a 3D tensor)\n",
    "        # but we want to treat the second feature dimension as channels.\n",
    "        # Thus, we need to transpose the tensor here\n",
    "        features = features.transpose(1, 2)\n",
    "\n",
    "        for layer in self.conv_layers:\n",
    "            features = layer(features)\n",
    "\n",
    "        return self.classifier(self.projection(features.flatten(1)))\n"
   ]
  },
  {
   "cell_type": "markdown",
   "metadata": {},
   "source": [
    "## Example"
   ]
  },
  {
   "cell_type": "markdown",
   "metadata": {},
   "source": [
    "### Prepare Data"
   ]
  },
  {
   "cell_type": "code",
   "execution_count": 11,
   "metadata": {},
   "outputs": [],
   "source": [
    "from datasets import Dataset, DatasetDict, load_from_disk, load_dataset, concatenate_datasets\n",
    "from raid.utils import load_data"
   ]
  },
  {
   "cell_type": "code",
   "execution_count": 7,
   "metadata": {},
   "outputs": [
    {
     "data": {
      "text/plain": [
       "DatasetDict({\n",
       "    train: Dataset({\n",
       "        features: ['id', 'adv_source_id', 'source_id', 'model', 'decoding', 'repetition_penalty', 'attack', 'domain', 'title', 'prompt', 'generation', 'features'],\n",
       "        num_rows: 467985\n",
       "    })\n",
       "    test: Dataset({\n",
       "        features: ['id', 'generation', 'features'],\n",
       "        num_rows: 56000\n",
       "    })\n",
       "})"
      ]
     },
     "execution_count": 7,
     "metadata": {},
     "output_type": "execute_result"
    }
   ],
   "source": [
    "raid_dataset = load_from_disk('RAID_train_none_encoded.hf')\n",
    "raid_dataset"
   ]
  },
  {
   "cell_type": "code",
   "execution_count": 14,
   "metadata": {},
   "outputs": [],
   "source": [
    "import bz2\n",
    "import json\n",
    "import os\n",
    "\n",
    "dataset_list = []\n",
    "data_dir = \"/resources/public/stoeckel/PrismAI/data\"\n",
    "\n",
    "for fname in os.listdir(data_dir):\n",
    "    if fname.endswith(\".jsonl.bz2\"):\n",
    "        path = os.path.join(data_dir, fname)\n",
    "        dataset = Dataset.from_list(\n",
    "            [json.loads(line) for line in bz2.open(path, \"rt\")]\n",
    "        )\n",
    "        dataset_list.append(dataset)\n",
    "\n",
    "raw_dataset = concatenate_datasets(dataset_list)"
   ]
  },
  {
   "cell_type": "code",
   "execution_count": 15,
   "metadata": {},
   "outputs": [
    {
     "data": {
      "application/vnd.jupyter.widget-view+json": {
       "model_id": "07387045718440dfb7cb1cc586b8a297",
       "version_major": 2,
       "version_minor": 0
      },
      "text/plain": [
       "Map:   0%|          | 0/93419 [00:00<?, ? examples/s]"
      ]
     },
     "metadata": {},
     "output_type": "display_data"
    },
    {
     "data": {
      "text/plain": [
       "Dataset({\n",
       "    features: ['agent', 'label', 'label_str', 'text'],\n",
       "    num_rows: 186838\n",
       "})"
      ]
     },
     "execution_count": 15,
     "metadata": {},
     "output_type": "execute_result"
    }
   ],
   "source": [
    "from collections import defaultdict\n",
    "\n",
    "\n",
    "def flatten_samples(batch: dict):\n",
    "    result = defaultdict(list)\n",
    "    for element in batch[\"samples\"]:\n",
    "        for sample in element:\n",
    "            for key, value in sample.items():\n",
    "                result[key].append(value)\n",
    "    return result\n",
    "\n",
    "\n",
    "prism_dataset = raw_dataset.map(\n",
    "    flatten_samples,\n",
    "    batched=True,\n",
    "    remove_columns=raw_dataset.column_names,\n",
    ")\n",
    "prism_dataset"
   ]
  },
  {
   "cell_type": "markdown",
   "metadata": {},
   "source": [
    "### Encode Samples"
   ]
  },
  {
   "cell_type": "code",
   "execution_count": 22,
   "metadata": {},
   "outputs": [],
   "source": [
    "encoder = LuminarEncoder(128, model_name_or_path=\"gpt2\")"
   ]
  },
  {
   "cell_type": "code",
   "execution_count": 23,
   "metadata": {},
   "outputs": [
    {
     "data": {
      "application/vnd.jupyter.widget-view+json": {
       "model_id": "315088f66973459ebcbedd9e107a05e3",
       "version_major": 2,
       "version_minor": 0
      },
      "text/plain": [
       "Map:   0%|          | 0/186838 [00:00<?, ? examples/s]"
      ]
     },
     "metadata": {},
     "output_type": "display_data"
    },
    {
     "data": {
      "text/plain": [
       "Dataset({\n",
       "    features: ['agent', 'label', 'label_str', 'text', 'features'],\n",
       "    num_rows: 186838\n",
       "})"
      ]
     },
     "execution_count": 23,
     "metadata": {},
     "output_type": "execute_result"
    }
   ],
   "source": [
    "prism_dataset = prism_dataset.map(encoder, batched=True, batch_size=512)\n",
    "prism_dataset"
   ]
  },
  {
   "cell_type": "code",
   "execution_count": 24,
   "metadata": {},
   "outputs": [
    {
     "data": {
      "application/vnd.jupyter.widget-view+json": {
       "model_id": "23817ec58eaa44d9a2352625458eea73",
       "version_major": 2,
       "version_minor": 0
      },
      "text/plain": [
       "Saving the dataset (0/7 shards):   0%|          | 0/186838 [00:00<?, ? examples/s]"
      ]
     },
     "metadata": {},
     "output_type": "display_data"
    }
   ],
   "source": [
    "prism_dataset.save_to_disk(\"PrismAI_full_encoded.hf\")"
   ]
  },
  {
   "cell_type": "code",
   "execution_count": null,
   "metadata": {},
   "outputs": [
    {
     "data": {
      "application/vnd.jupyter.widget-view+json": {
       "model_id": "779dc527ab0d40d3b8f04b1516f98b05",
       "version_major": 2,
       "version_minor": 0
      },
      "text/plain": [
       "Map:   0%|          | 0/467985 [00:00<?, ? examples/s]"
      ]
     },
     "metadata": {},
     "output_type": "display_data"
    },
    {
     "ename": "AttributeError",
     "evalue": "'Dataset' object has no attribute 'concatenate'",
     "output_type": "error",
     "traceback": [
      "\u001b[31m---------------------------------------------------------------------------\u001b[39m",
      "\u001b[31mAttributeError\u001b[39m                            Traceback (most recent call last)",
      "\u001b[36mCell\u001b[39m\u001b[36m \u001b[39m\u001b[32mIn[26]\u001b[39m\u001b[32m, line 14\u001b[39m\n\u001b[32m      8\u001b[39m     \u001b[38;5;28;01mreturn\u001b[39;00m {\n\u001b[32m      9\u001b[39m         \u001b[33m'\u001b[39m\u001b[33mlabel\u001b[39m\u001b[33m'\u001b[39m: \u001b[33m'\u001b[39m\u001b[33mhuman\u001b[39m\u001b[33m'\u001b[39m \u001b[38;5;28;01mif\u001b[39;00m example[\u001b[33m'\u001b[39m\u001b[33mmodel\u001b[39m\u001b[33m'\u001b[39m] == \u001b[33m'\u001b[39m\u001b[33mhuman\u001b[39m\u001b[33m'\u001b[39m \u001b[38;5;28;01melse\u001b[39;00m \u001b[33m'\u001b[39m\u001b[33mai\u001b[39m\u001b[33m'\u001b[39m,\n\u001b[32m     10\u001b[39m         \u001b[33m'\u001b[39m\u001b[33mfeatures\u001b[39m\u001b[33m'\u001b[39m: example[\u001b[33m'\u001b[39m\u001b[33mfeatures\u001b[39m\u001b[33m'\u001b[39m]\n\u001b[32m     11\u001b[39m     }\n\u001b[32m     13\u001b[39m raid_train_reduced = raid_dataset[\u001b[33m'\u001b[39m\u001b[33mtrain\u001b[39m\u001b[33m'\u001b[39m].map(map_model_to_label, remove_columns=raid_dataset[\u001b[33m'\u001b[39m\u001b[33mtrain\u001b[39m\u001b[33m'\u001b[39m].column_names)\n\u001b[32m---> \u001b[39m\u001b[32m14\u001b[39m combined_train = \u001b[43mraid_train_reduced\u001b[49m\u001b[43m.\u001b[49m\u001b[43mconcatenate\u001b[49m(prism_reduced)\n\u001b[32m     15\u001b[39m raid_test = raid_dataset[\u001b[33m'\u001b[39m\u001b[33mtest\u001b[39m\u001b[33m'\u001b[39m]\n\u001b[32m     17\u001b[39m \u001b[38;5;28;01mif\u001b[39;00m \u001b[33m\"\u001b[39m\u001b[33mlabel\u001b[39m\u001b[33m\"\u001b[39m \u001b[38;5;129;01mnot\u001b[39;00m \u001b[38;5;129;01min\u001b[39;00m raid_test.column_names:\n",
      "\u001b[31mAttributeError\u001b[39m: 'Dataset' object has no attribute 'concatenate'"
     ]
    }
   ],
   "source": [
    "from datasets import Dataset, DatasetDict\n",
    "\n",
    "prism_reduced = prism_dataset.remove_columns(\n",
    "    [col for col in prism_dataset.column_names if col not in [\"label\", \"features\"]]\n",
    ")\n",
    "\n",
    "def map_model_to_label(example):\n",
    "    return {\n",
    "        'label': 0 if example['model'] == 'human' else 1,\n",
    "        'features': example['features']\n",
    "    }\n",
    "\n",
    "raid_train_reduced = raid_dataset['train'].map(map_model_to_label, remove_columns=raid_dataset['train'].column_names)\n"
   ]
  },
  {
   "cell_type": "code",
   "execution_count": 33,
   "metadata": {},
   "outputs": [
    {
     "data": {
      "text/plain": [
       "Dataset({\n",
       "    features: ['features', 'label'],\n",
       "    num_rows: 467985\n",
       "})"
      ]
     },
     "execution_count": 33,
     "metadata": {},
     "output_type": "execute_result"
    }
   ],
   "source": [
    "raid_train_reduced"
   ]
  },
  {
   "cell_type": "code",
   "execution_count": 36,
   "metadata": {},
   "outputs": [
    {
     "data": {
      "text/plain": [
       "Dataset({\n",
       "    features: ['label', 'features'],\n",
       "    num_rows: 186838\n",
       "})"
      ]
     },
     "execution_count": 36,
     "metadata": {},
     "output_type": "execute_result"
    }
   ],
   "source": [
    "prism_reduced"
   ]
  },
  {
   "cell_type": "code",
   "execution_count": 38,
   "metadata": {},
   "outputs": [],
   "source": [
    "combined_train = concatenate_datasets([raid_train_reduced, prism_reduced])\n",
    "\n",
    "dataset = DatasetDict({\n",
    "    \"train\": combined_train,\n",
    "})"
   ]
  },
  {
   "cell_type": "markdown",
   "metadata": {},
   "source": [
    "### Run Training"
   ]
  },
  {
   "cell_type": "code",
   "execution_count": 40,
   "metadata": {},
   "outputs": [],
   "source": [
    "model = LuminarClassifier()\n",
    "criterion = nn.BCEWithLogitsLoss()\n",
    "optimizer = torch.optim.Adam(model.parameters())"
   ]
  },
  {
   "cell_type": "code",
   "execution_count": 41,
   "metadata": {},
   "outputs": [
    {
     "name": "stderr",
     "output_type": "stream",
     "text": [
      "100%|████████████████████████████████████████████████████████████████████████████████████████| 20464/20464 [11:34<00:00, 29.48it/s]\n"
     ]
    }
   ],
   "source": [
    "from tqdm import tqdm\n",
    "\n",
    "\n",
    "train_dataset = dataset[\"train\"].with_format(\"torch\", [\"features\", \"label\"])\n",
    "for batch in tqdm(\n",
    "    DataLoader(train_dataset, 32)\n",
    "):\n",
    "    optimizer.zero_grad()\n",
    "    features = batch[\"features\"]\n",
    "    labels = batch[\"label\"].float().unsqueeze(-1)\n",
    "\n",
    "    preds = model(features)\n",
    "\n",
    "    loss = criterion(preds, labels)\n",
    "\n",
    "    loss.backward()\n",
    "    optimizer.step()"
   ]
  },
  {
   "cell_type": "code",
   "execution_count": 42,
   "metadata": {},
   "outputs": [
    {
     "name": "stdout",
     "output_type": "stream",
     "text": [
      "Model saved to luminar_classifier_RAID_none_PrismAI.pt\n"
     ]
    }
   ],
   "source": [
    "save_path = \"luminar_classifier_RAID_none_PrismAI.pt\"\n",
    "torch.save(model.state_dict(), save_path)\n",
    "\n",
    "print(f\"Model saved to {save_path}\")\n"
   ]
  },
  {
   "cell_type": "code",
   "execution_count": null,
   "metadata": {},
   "outputs": [],
   "source": []
  }
 ],
 "metadata": {
  "kernelspec": {
   "display_name": "Python 3 (ipykernel)",
   "language": "python",
   "name": "python3"
  }
 },
 "nbformat": 4,
 "nbformat_minor": 2
}
