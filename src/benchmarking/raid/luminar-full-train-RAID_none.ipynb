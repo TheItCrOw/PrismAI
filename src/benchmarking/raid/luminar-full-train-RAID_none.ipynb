{
 "cells": [
  {
   "cell_type": "markdown",
   "metadata": {},
   "source": [
    "# Luminar"
   ]
  },
  {
   "cell_type": "markdown",
   "metadata": {},
   "source": [
    "## Minimal Code"
   ]
  },
  {
   "cell_type": "code",
   "execution_count": 4,
   "metadata": {},
   "outputs": [],
   "source": [
    "from typing import Iterable, NamedTuple\n",
    "\n",
    "import torch\n",
    "from datasets import Dataset\n",
    "from torch import nn\n",
    "from torch.utils.data import DataLoader, Subset\n",
    "from transformers import (\n",
    "    AutoModelForCausalLM,\n",
    "    AutoTokenizer,\n",
    "    PreTrainedModel,\n",
    "    PreTrainedTokenizer,\n",
    ")"
   ]
  },
  {
   "cell_type": "markdown",
   "metadata": {},
   "source": [
    "### Luminar Encoder\n",
    "\n",
    "1. Pre-Process Inputs: tokenize and pass through LLM, recording hidden states\n",
    "2. Calculate _Intermediate Likelihoods_: pass each hidden state through the models LM head"
   ]
  },
  {
   "cell_type": "code",
   "execution_count": 5,
   "metadata": {},
   "outputs": [],
   "source": [
    "class LuminarEncoder:\n",
    "    def __init__(\n",
    "        self,\n",
    "        feature_dim: int = 256,\n",
    "        model_name_or_path: str = \"gpt2\",\n",
    "        device: str = (\"cuda:1\" if torch.cuda.is_available() else \"cpu\"),\n",
    "    ):\n",
    "        self.feature_dim = feature_dim\n",
    "        self.device = torch.device(device)\n",
    "\n",
    "        self.tokenizer: PreTrainedTokenizer = AutoTokenizer.from_pretrained(\n",
    "            model_name_or_path\n",
    "        )\n",
    "        if not hasattr(self.tokenizer, \"pad_token\") or self.tokenizer.pad_token is None:\n",
    "            self.tokenizer.pad_token = self.tokenizer.eos_token\n",
    "        self.pad_token_id = self.tokenizer.pad_token_id\n",
    "\n",
    "        self.model: PreTrainedModel = AutoModelForCausalLM.from_pretrained(\n",
    "            model_name_or_path\n",
    "        )\n",
    "        self.model = self.model.to(self.device)\n",
    "\n",
    "        if hasattr(self.model, \"lm_head\"):\n",
    "            self.model_lm_head: nn.Linear = self.model.lm_head\n",
    "        elif hasattr(self.model.model, \"lm_head\"):\n",
    "            self.model_lm_head: nn.Linear = self.model.model.lm_head\n",
    "        else:\n",
    "            raise ValueError(\"Could not find lm_head in model\")\n",
    "\n",
    "    def __call__(self, batch: dict[str, list[str]]) -> dict[str, list[torch.Tensor]]:\n",
    "        return {\"features\": self.process(batch[\"generation\"])}\n",
    "\n",
    "    def process(self, batch: list[str]) -> list[torch.Tensor]:\n",
    "        encoding = self.tokenizer(\n",
    "            batch,\n",
    "            padding=True,\n",
    "            truncation=True,\n",
    "            max_length=self.feature_dim,\n",
    "            return_tensors=\"pt\",\n",
    "        )\n",
    "        batch_hidden_states = self.forward(encoding.input_ids, encoding.attention_mask)\n",
    "\n",
    "        intermediate_likelihoods = []\n",
    "        for input_ids, hidden_states in zip(encoding.input_ids, batch_hidden_states):\n",
    "            intermediate_likelihoods.append(\n",
    "                self.compute_intermediate_likelihoods(input_ids, hidden_states)\n",
    "            )\n",
    "\n",
    "        return intermediate_likelihoods\n",
    "\n",
    "    @torch.no_grad()\n",
    "    def forward(\n",
    "        self,\n",
    "        input_ids: torch.Tensor,\n",
    "        attention_mask: torch.Tensor,\n",
    "    ) -> Iterable[tuple[torch.Tensor, ...]]:\n",
    "        outputs = self.model(\n",
    "            input_ids=input_ids.to(self.device),\n",
    "            attention_mask=attention_mask.to(self.device),\n",
    "            output_hidden_states=True,\n",
    "        )\n",
    "\n",
    "        # unpack hidden states to get one list of tensors per input sequence,\n",
    "        # instead of one hidden state per layer in the model\n",
    "        return zip(*outputs.hidden_states)  # type: ignore\n",
    "\n",
    "    @torch.no_grad()\n",
    "    def compute_intermediate_likelihoods(\n",
    "        self,\n",
    "        input_ids: torch.Tensor,\n",
    "        hidden_states: tuple[torch.Tensor],\n",
    "    ) -> torch.Tensor:\n",
    "        labels = input_ids[1:].view(-1, 1)\n",
    "\n",
    "        seq_length = min(labels.ne(self.pad_token_id).sum(), self.feature_dim)\n",
    "        labels = labels[:seq_length].to(self.device)\n",
    "\n",
    "        intermediate_likelihoods = []\n",
    "        for hs in hidden_states:\n",
    "            hs: torch.Tensor = hs[:seq_length].to(self.device)\n",
    "            il = (\n",
    "                # get layer logits\n",
    "                self.model_lm_head(hs)\n",
    "                # calculate likelihoods\n",
    "                .softmax(-1)\n",
    "                # get likelihoods of input tokens\n",
    "                .gather(-1, labels)\n",
    "                .squeeze(-1)\n",
    "                .cpu()\n",
    "            )\n",
    "            del hs\n",
    "\n",
    "            # pad with zeros if sequence is shorter than required feature_dim\n",
    "            if seq_length < self.feature_dim:\n",
    "                il = torch.cat([il, torch.zeros(self.feature_dim - seq_length)])\n",
    "\n",
    "            intermediate_likelihoods.append(il)\n",
    "\n",
    "        # stack intermediate likelihoods to get tensor of shape (feature_dim, num_layers)\n",
    "        return torch.stack(intermediate_likelihoods, dim=1)"
   ]
  },
  {
   "cell_type": "markdown",
   "metadata": {},
   "source": [
    "### Luminar Classifier\n",
    "\n",
    "CNN-based classifier using _Intermediate Likelihoods_ as input features.\n",
    "Here, we utilize these inherently 2D values (`seq_len * num_layers`) as 1D inputs where the second dimension is treated as input channels."
   ]
  },
  {
   "cell_type": "code",
   "execution_count": 6,
   "metadata": {},
   "outputs": [],
   "source": [
    "class ConvolutionalLayerSpec(NamedTuple):\n",
    "    channels: int\n",
    "    kernel_size: int | tuple[int, int]\n",
    "    stride: int = 1\n",
    "\n",
    "    @property\n",
    "    def kernel_size_1d(self):\n",
    "        if isinstance(self.kernel_size, int):\n",
    "            return self.kernel_size\n",
    "        return self.kernel_size[0]\n",
    "\n",
    "    @property\n",
    "    def kernel_size_2d(self):\n",
    "        if isinstance(self.kernel_size, int):\n",
    "            return (self.kernel_size, self.kernel_size)\n",
    "        return self.kernel_size\n",
    "\n",
    "    @property\n",
    "    def padding(self) -> int:\n",
    "        return (self.kernel_size_1d - 1) // 2\n",
    "\n",
    "    def __repr__(self):\n",
    "        return repr(tuple(self))\n",
    "\n",
    "\n",
    "DEFAULT_CONV_LAYER_SHAPES = ((64, 5), (128, 3), (128, 3), (128, 3), (64, 3))\n",
    "\n",
    "\n",
    "class LuminarClassifier(nn.Module):\n",
    "    def __init__(\n",
    "        self,\n",
    "        conv_layer_shapes: Iterable[ConvolutionalLayerSpec] = DEFAULT_CONV_LAYER_SHAPES,\n",
    "        projection_dim: int | None = None,\n",
    "    ):\n",
    "        super().__init__()\n",
    "        self.conv_layers = nn.Sequential()\n",
    "        for conv in conv_layer_shapes:\n",
    "            conv = ConvolutionalLayerSpec(*conv)\n",
    "            self.conv_layers.append(\n",
    "                nn.LazyConv1d(\n",
    "                    conv.channels,\n",
    "                    conv.kernel_size,  # type: ignore\n",
    "                    conv.stride,\n",
    "                    conv.padding,\n",
    "                ),\n",
    "            )\n",
    "            self.conv_layers.append(\n",
    "                nn.LeakyReLU(),\n",
    "            )\n",
    "        self.conv_layers.append(nn.Flatten())\n",
    "\n",
    "        if projection_dim:\n",
    "            self.projection = nn.Sequential(\n",
    "                nn.LazyLinear(projection_dim), nn.LeakyReLU()\n",
    "            )\n",
    "        else:\n",
    "            self.projection = nn.Identity()\n",
    "\n",
    "        self.classifier = nn.LazyLinear(1)\n",
    "\n",
    "    def forward(self, features: torch.Tensor):\n",
    "        # We are using 2D features (so `features` is a 3D tensor)\n",
    "        # but we want to treat the second feature dimension as channels.\n",
    "        # Thus, we need to transpose the tensor here\n",
    "        features = features.transpose(1, 2)\n",
    "\n",
    "        for layer in self.conv_layers:\n",
    "            features = layer(features)\n",
    "\n",
    "        return self.classifier(self.projection(features.flatten(1)))\n"
   ]
  },
  {
   "cell_type": "markdown",
   "metadata": {},
   "source": [
    "## Example"
   ]
  },
  {
   "cell_type": "markdown",
   "metadata": {},
   "source": [
    "### Prepare Data"
   ]
  },
  {
   "cell_type": "code",
   "execution_count": 10,
   "metadata": {},
   "outputs": [
    {
     "name": "stdout",
     "output_type": "stream",
     "text": [
      "Downloading https://dataset.raid-bench.xyz/test_none.csv (80996324B) to /mnt/conda/staff/raid/test_none.csv\n"
     ]
    },
    {
     "name": "stderr",
     "output_type": "stream",
     "text": [
      "100%|█████████████████████████████████████████████████████████████████████████████████████████| 81.0M/81.0M [00:02<00:00, 28.4MB/s]\n"
     ]
    },
    {
     "data": {
      "text/plain": [
       "DatasetDict({\n",
       "    train: Dataset({\n",
       "        features: ['id', 'adv_source_id', 'source_id', 'model', 'decoding', 'repetition_penalty', 'attack', 'domain', 'title', 'prompt', 'generation'],\n",
       "        num_rows: 467985\n",
       "    })\n",
       "    test: Dataset({\n",
       "        features: ['id', 'generation'],\n",
       "        num_rows: 56000\n",
       "    })\n",
       "})"
      ]
     },
     "execution_count": 10,
     "metadata": {},
     "output_type": "execute_result"
    }
   ],
   "source": [
    "from datasets import Dataset, DatasetDict\n",
    "from raid.utils import load_data\n",
    "\n",
    "train_df = load_data(split=\"train\", include_adversarial=False)\n",
    "test_df = load_data(split=\"test\", include_adversarial=False)\n",
    "\n",
    "train_dataset = Dataset.from_pandas(train_df)\n",
    "test_dataset = Dataset.from_pandas(test_df)\n",
    "\n",
    "dataset = DatasetDict({\n",
    "    \"train\": train_dataset,\n",
    "    \"test\": test_dataset\n",
    "})\n",
    "\n",
    "dataset\n"
   ]
  },
  {
   "cell_type": "code",
   "execution_count": 11,
   "metadata": {},
   "outputs": [
    {
     "data": {
      "text/plain": [
       "{'id': 'e5e058ce-be2b-459d-af36-32532aaba5ff',\n",
       " 'adv_source_id': 'e5e058ce-be2b-459d-af36-32532aaba5ff',\n",
       " 'source_id': 'e5e058ce-be2b-459d-af36-32532aaba5ff',\n",
       " 'model': 'human',\n",
       " 'decoding': None,\n",
       " 'repetition_penalty': None,\n",
       " 'attack': 'none',\n",
       " 'domain': 'abstracts',\n",
       " 'title': 'FUTURE-AI: Guiding Principles and Consensus Recommendations for Trustworthy Artificial Intelligence in Future Medical Imaging',\n",
       " 'prompt': None,\n",
       " 'generation': \"The recent advancements in artificial intelligence (AI) combined with the\\nextensive amount of data generated by today's clinical systems, has led to the\\ndevelopment of imaging AI solutions across the whole value chain of medical\\nimaging, including image reconstruction, medical image segmentation,\\nimage-based diagnosis and treatment planning. Notwithstanding the successes and\\nfuture potential of AI in medical imaging, many stakeholders are concerned of\\nthe potential risks and ethical implications of imaging AI solutions, which are\\nperceived as complex, opaque, and difficult to comprehend, utilise, and trust\\nin critical clinical applications. Despite these concerns and risks, there are\\ncurrently no concrete guidelines and best practices for guiding future AI\\ndevelopments in medical imaging towards increased trust, safety and adoption.\\nTo bridge this gap, this paper introduces a careful selection of guiding\\nprinciples drawn from the accumulated experiences, consensus, and best\\npractices from five large European projects on AI in Health Imaging. These\\nguiding principles are named FUTURE-AI and its building blocks consist of (i)\\nFairness, (ii) Universality, (iii) Traceability, (iv) Usability, (v) Robustness\\nand (vi) Explainability. In a step-by-step approach, these guidelines are\\nfurther translated into a framework of concrete recommendations for specifying,\\ndeveloping, evaluating, and deploying technically, clinically and ethically\\ntrustworthy AI solutions into clinical practice.\"}"
      ]
     },
     "execution_count": 11,
     "metadata": {},
     "output_type": "execute_result"
    }
   ],
   "source": [
    "dataset['train'][0]"
   ]
  },
  {
   "cell_type": "markdown",
   "metadata": {},
   "source": [
    "### Encode Samples"
   ]
  },
  {
   "cell_type": "code",
   "execution_count": 12,
   "metadata": {},
   "outputs": [],
   "source": [
    "encoder = LuminarEncoder(128, model_name_or_path=\"gpt2\")"
   ]
  },
  {
   "cell_type": "code",
   "execution_count": null,
   "metadata": {},
   "outputs": [
    {
     "data": {
      "application/vnd.jupyter.widget-view+json": {
       "model_id": "0394bc2a668d4be2ae1438f4c495a011",
       "version_major": 2,
       "version_minor": 0
      },
      "text/plain": [
       "Map:   0%|          | 0/467985 [00:00<?, ? examples/s]"
      ]
     },
     "metadata": {},
     "output_type": "display_data"
    },
    {
     "data": {
      "application/vnd.jupyter.widget-view+json": {
       "model_id": "ed8a53a6f16346299e21539ff8c6f0ac",
       "version_major": 2,
       "version_minor": 0
      },
      "text/plain": [
       "Map:   0%|          | 0/56000 [00:00<?, ? examples/s]"
      ]
     },
     "metadata": {},
     "output_type": "display_data"
    }
   ],
   "source": [
    "dataset = dataset.map(encoder, batched=True, batch_size=512)\n",
    "\n",
    "def is_ai(example):\n",
    "    return {\"label\": \"ai\" if example[\"model\"] != \"human\" else \"human\"}\n",
    "dataset = dataset.map(is_ai)\n",
    "dataset"
   ]
  },
  {
   "cell_type": "code",
   "execution_count": 14,
   "metadata": {},
   "outputs": [
    {
     "data": {
      "application/vnd.jupyter.widget-view+json": {
       "model_id": "22cbcf206cca43a383f801e3b1b6d160",
       "version_major": 2,
       "version_minor": 0
      },
      "text/plain": [
       "Saving the dataset (0/9 shards):   0%|          | 0/467985 [00:00<?, ? examples/s]"
      ]
     },
     "metadata": {},
     "output_type": "display_data"
    },
    {
     "data": {
      "application/vnd.jupyter.widget-view+json": {
       "model_id": "c977eaca6a5249afba073cbc4da8b864",
       "version_major": 2,
       "version_minor": 0
      },
      "text/plain": [
       "Saving the dataset (0/1 shards):   0%|          | 0/56000 [00:00<?, ? examples/s]"
      ]
     },
     "metadata": {},
     "output_type": "display_data"
    }
   ],
   "source": [
    "dataset.save_to_disk(\"RAID_train_none_encoded.hf\")"
   ]
  },
  {
   "cell_type": "markdown",
   "metadata": {},
   "source": [
    "### Run Training"
   ]
  },
  {
   "cell_type": "code",
   "execution_count": 15,
   "metadata": {},
   "outputs": [],
   "source": [
    "model = LuminarClassifier()\n",
    "criterion = nn.BCEWithLogitsLoss()\n",
    "optimizer = torch.optim.Adam(model.parameters())"
   ]
  },
  {
   "cell_type": "code",
   "execution_count": 19,
   "metadata": {},
   "outputs": [
    {
     "data": {
      "application/vnd.jupyter.widget-view+json": {
       "model_id": "5e6305c2617944d283e5ff44a22e7ed2",
       "version_major": 2,
       "version_minor": 0
      },
      "text/plain": [
       "Map:   0%|          | 0/467985 [00:00<?, ? examples/s]"
      ]
     },
     "metadata": {},
     "output_type": "display_data"
    },
    {
     "data": {
      "application/vnd.jupyter.widget-view+json": {
       "model_id": "be6d5e44f1c44b18836cc24295ce4f72",
       "version_major": 2,
       "version_minor": 0
      },
      "text/plain": [
       "Casting the dataset:   0%|          | 0/467985 [00:00<?, ? examples/s]"
      ]
     },
     "metadata": {},
     "output_type": "display_data"
    }
   ],
   "source": [
    "from datasets import ClassLabel\n",
    "\n",
    "def is_ai(example):\n",
    "    return {\"label\": \"ai\" if example[\"model\"] != \"human\" else \"human\"}\n",
    "\n",
    "dataset[\"train\"] = dataset[\"train\"].map(is_ai)\n",
    "label_classes = ClassLabel(names=[\"human\", \"ai\"])\n",
    "dataset[\"train\"] = dataset[\"train\"].cast_column(\"label\", label_classes)"
   ]
  },
  {
   "cell_type": "code",
   "execution_count": 20,
   "metadata": {},
   "outputs": [
    {
     "name": "stderr",
     "output_type": "stream",
     "text": [
      "100%|████████████████████████████████████████████████████████████████████████████████████████| 14625/14625 [08:43<00:00, 27.94it/s]\n"
     ]
    }
   ],
   "source": [
    "from tqdm import tqdm\n",
    "\n",
    "\n",
    "train_dataset = dataset[\"train\"].with_format(\"torch\", [\"features\", \"label\"])\n",
    "for batch in tqdm(\n",
    "    DataLoader(train_dataset, 32)\n",
    "):\n",
    "    optimizer.zero_grad()\n",
    "    features = batch[\"features\"]\n",
    "    labels = batch[\"label\"].float().unsqueeze(-1)\n",
    "\n",
    "    preds = model(features)\n",
    "\n",
    "    loss = criterion(preds, labels)\n",
    "\n",
    "    loss.backward()\n",
    "    optimizer.step()"
   ]
  },
  {
   "cell_type": "code",
   "execution_count": 21,
   "metadata": {},
   "outputs": [
    {
     "name": "stdout",
     "output_type": "stream",
     "text": [
      "Model saved to luminar_classifier_RAID_none.pt\n"
     ]
    }
   ],
   "source": [
    "save_path = \"luminar_classifier_RAID_none.pt\"\n",
    "torch.save(model.state_dict(), save_path)\n",
    "\n",
    "print(f\"Model saved to {save_path}\")\n"
   ]
  },
  {
   "cell_type": "code",
   "execution_count": null,
   "metadata": {},
   "outputs": [],
   "source": []
  }
 ],
 "metadata": {
  "kernelspec": {
   "display_name": "Python 3 (ipykernel)",
   "language": "python",
   "name": "python3"
  }
 },
 "nbformat": 4,
 "nbformat_minor": 2
}
