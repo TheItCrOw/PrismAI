{
 "cells": [
  {
   "cell_type": "code",
   "execution_count": 1,
   "metadata": {},
   "outputs": [],
   "source": [
    "import copy\n",
    "import importlib\n",
    "import os\n",
    "import warnings\n",
    "from itertools import product\n",
    "\n",
    "import torch\n",
    "from dotenv import load_dotenv\n",
    "from lightning.pytorch import Trainer, seed_everything\n",
    "from lightning.pytorch import loggers as pl_loggers\n",
    "from lightning.pytorch.callbacks.early_stopping import EarlyStopping\n",
    "from lightning.pytorch.tuner import Tuner\n",
    "from tqdm.auto import tqdm\n",
    "\n",
    "load_dotenv(\"../env\")\n",
    "\n",
    "warnings.filterwarnings(\"ignore\", \".*does not have many workers.*\")"
   ]
  },
  {
   "cell_type": "code",
   "execution_count": 2,
   "metadata": {},
   "outputs": [
    {
     "data": {
      "text/plain": [
       "<module 'luminar.mongo' from '/nvme/projects/PrismAI/PrismAI/src/luminar/mongo.py'>"
      ]
     },
     "execution_count": 2,
     "metadata": {},
     "output_type": "execute_result"
    }
   ],
   "source": [
    "import luminar.document.data\n",
    "import luminar.document.model\n",
    "import luminar.features\n",
    "import luminar.mongo\n",
    "\n",
    "importlib.reload(luminar.document.data)\n",
    "importlib.reload(luminar.document.model)\n",
    "importlib.reload(luminar.features)\n",
    "importlib.reload(luminar.mongo)"
   ]
  },
  {
   "cell_type": "code",
   "execution_count": 3,
   "metadata": {},
   "outputs": [],
   "source": [
    "from luminar.document.data import (\n",
    "    DocumentClassificationDataModule,\n",
    "    FeatureDataset,\n",
    "    PaddingDataloader,\n",
    "    n_way_split,\n",
    ")\n",
    "from luminar.document.model import ConvolutionalLayerSpec, DocumentClassficationModel\n",
    "from luminar.features import FeatureExtractor, OneDimFeatures, Slicer, TwoDimFeatures\n",
    "from luminar.mongo import PrismaiDataset"
   ]
  },
  {
   "cell_type": "code",
   "execution_count": 4,
   "metadata": {},
   "outputs": [],
   "source": [
    "domains = {\n",
    "    \"Blog Authorship\": {\"domain\": \"blog_authorship_corpus\"},\n",
    "    \"Student Essays\": {\"domain\": \"student_essays\"},\n",
    "    \"CNN News\": {\"domain\": \"cnn_news\"},\n",
    "    \"Euro Court Cases\": {\"domain\": \"euro_court_cases\"},\n",
    "    \"House of Commons\": {\"domain\": \"house_of_commons\"},\n",
    "    \"ArXiv Papers\": {\"domain\": \"arxiv_papers\"},\n",
    "    \"Gutenberg\": {\"domain\": \"gutenberg\", \"lang\": \"en-EN\"},\n",
    "    \"Bundestag [DE]\": {\"domain\": \"bundestag\"},\n",
    "    \"Spiegel [DE]\": {\"domain\": \"spiegel_articles\"},\n",
    "    # \"Gutenberg [DE]\": {\"domain\": \"gutenberg\", \"lang\": \"de-DE\"},\n",
    "}"
   ]
  },
  {
   "cell_type": "code",
   "execution_count": 5,
   "metadata": {},
   "outputs": [],
   "source": [
    "dmap = {\n",
    "    \"Blog Authorship\": \"Blog Authorship\",\n",
    "    \"Student Essays\": \"Student Essays\",\n",
    "    \"CNN News\": \"CNN News\",\n",
    "    \"Euro Court Cases\": \"Euro Court Cases\",\n",
    "    \"House of Commons\": \"House of Commons\",\n",
    "    \"ArXiv Papers\": \"ArXiv Papers\",\n",
    "    \"Gutenberg [EN]\": \"Gutenberg\",\n",
    "    \"Bundestag\": \"Bundestag [DE]\",\n",
    "    \"Spiegel\": \"Spiegel [DE]\",\n",
    "    # \"Gutenberg [DE]\": \n",
    "}"
   ]
  },
  {
   "cell_type": "code",
   "execution_count": 6,
   "metadata": {},
   "outputs": [],
   "source": [
    "config = {\n",
    "    \"seed\": 1337,\n",
    "    \"eval_split\": 0.1,\n",
    "    \"test_split\": 0.1,\n",
    "    \"feature_model\": \"gpt2\",\n",
    "    \"synth_agent\": \"gpt-4o-mini\",\n",
    "    # \"synth_agent\": \"gemma2:9b\"\n",
    "}"
   ]
  },
  {
   "cell_type": "code",
   "execution_count": 7,
   "metadata": {},
   "outputs": [],
   "source": [
    "datasets = {\n",
    "    domain: PrismaiDataset(\n",
    "        mongo_db_connection=os.environ.get(\"MONGO_DB_CONNECTION\"),\n",
    "        database=\"prismai\",\n",
    "        collection=\"features_prismai\",\n",
    "        feature_model=config[\"feature_model\"],\n",
    "        synth_agent=config[\"synth_agent\"],\n",
    "        **kwargs,\n",
    "    )\n",
    "    for domain, kwargs in domains.items()\n",
    "}"
   ]
  },
  {
   "cell_type": "code",
   "execution_count": 8,
   "metadata": {},
   "outputs": [
    {
     "name": "stderr",
     "output_type": "stream",
     "text": [
      "Seed set to 1337\n",
      "[PrismaiDataset] Loading Documents from MongoDB: 1500it [00:03, 464.53it/s]\n"
     ]
    },
    {
     "name": "stdout",
     "output_type": "stream",
     "text": [
      "[PrismaiDataset] Writing Cache File /nvme/.cache/luminar/ef0bf4ac00353b4c3cf35f1d81719f7c755a0aa74285110bc6d705aeab0f4275.pkl\n"
     ]
    },
    {
     "name": "stderr",
     "output_type": "stream",
     "text": [
      "Seed set to 1337\n",
      "[PrismaiDataset] Loading Documents from MongoDB: 1500it [00:12, 124.47it/s]\n"
     ]
    },
    {
     "name": "stdout",
     "output_type": "stream",
     "text": [
      "[PrismaiDataset] Writing Cache File /nvme/.cache/luminar/5486290edc393c9f30480a59dd534ea751ae8a31b48bfd03b5f098c4f8bdc1cc.pkl\n"
     ]
    },
    {
     "name": "stderr",
     "output_type": "stream",
     "text": [
      "Seed set to 1337\n",
      "[PrismaiDataset] Loading Documents from MongoDB: 1500it [00:18, 82.97it/s]\n"
     ]
    },
    {
     "name": "stdout",
     "output_type": "stream",
     "text": [
      "[PrismaiDataset] Writing Cache File /nvme/.cache/luminar/2982044d5332b295e5e8e3a5a6291d2757ee5843d7d6cbba05f6a53d57500b50.pkl\n"
     ]
    },
    {
     "name": "stderr",
     "output_type": "stream",
     "text": [
      "Seed set to 1337\n",
      "[PrismaiDataset] Loading Documents from MongoDB: 1500it [00:20, 72.62it/s]\n"
     ]
    },
    {
     "name": "stdout",
     "output_type": "stream",
     "text": [
      "[PrismaiDataset] Writing Cache File /nvme/.cache/luminar/22643d0366260c134eb83cdacb95ab8caf23fbaf0150d3f2f7ae2cea07101987.pkl\n"
     ]
    },
    {
     "name": "stderr",
     "output_type": "stream",
     "text": [
      "Seed set to 1337\n",
      "[PrismaiDataset] Loading Documents from MongoDB: 1500it [00:19, 78.72it/s]\n"
     ]
    },
    {
     "name": "stdout",
     "output_type": "stream",
     "text": [
      "[PrismaiDataset] Writing Cache File /nvme/.cache/luminar/1725afa23038757da3571b5b33d988ce03bef64b78aa936623b059be17e4b941.pkl\n"
     ]
    },
    {
     "name": "stderr",
     "output_type": "stream",
     "text": [
      "Seed set to 1337\n",
      "[PrismaiDataset] Loading Documents from MongoDB: 1628it [00:23, 70.73it/s]\n"
     ]
    },
    {
     "name": "stdout",
     "output_type": "stream",
     "text": [
      "[PrismaiDataset] Writing Cache File /nvme/.cache/luminar/cf046e8f2421ad8948f68de42e767365337f656a51ce9f9bf2a508f41d1e99db.pkl\n"
     ]
    },
    {
     "name": "stderr",
     "output_type": "stream",
     "text": [
      "Seed set to 1337\n",
      "[PrismaiDataset] Loading Documents from MongoDB: 1500it [00:27, 55.18it/s]\n"
     ]
    },
    {
     "name": "stdout",
     "output_type": "stream",
     "text": [
      "[PrismaiDataset] Writing Cache File /nvme/.cache/luminar/f38cb33ea5c3f40856a4db07115946d7a99c95fca0b54ce148415fb5063be266.pkl\n"
     ]
    },
    {
     "name": "stderr",
     "output_type": "stream",
     "text": [
      "Seed set to 1337\n",
      "[PrismaiDataset] Loading Documents from MongoDB: 1492it [00:26, 57.04it/s]\n"
     ]
    },
    {
     "name": "stdout",
     "output_type": "stream",
     "text": [
      "[PrismaiDataset] Writing Cache File /nvme/.cache/luminar/281b270f73261fde5b5517abe476f7282592e6e4c0c4161857d3fd83c33aaf9b.pkl\n"
     ]
    },
    {
     "name": "stderr",
     "output_type": "stream",
     "text": [
      "Seed set to 1337\n",
      "[PrismaiDataset] Loading Documents from MongoDB: 1500it [00:19, 78.75it/s]\n"
     ]
    },
    {
     "name": "stdout",
     "output_type": "stream",
     "text": [
      "[PrismaiDataset] Writing Cache File /nvme/.cache/luminar/50f2f9ce260cd153c5bca0c86708073a7221aad4c39b121601fdbb01dc3e6d31.pkl\n"
     ]
    }
   ],
   "source": [
    "train_splits = {}\n",
    "eval_splits = {}\n",
    "test_splits = {}\n",
    "for domain, dataset in datasets.items():\n",
    "    seed_everything(config[\"seed\"])\n",
    "    train_dataset, eval_dataset, test_dataset = n_way_split(\n",
    "        dataset,\n",
    "        config[\"eval_split\"],\n",
    "        config[\"test_split\"],\n",
    "        infer_first=True,\n",
    "    )\n",
    "    train_splits[domain] = train_dataset\n",
    "    eval_splits[domain] = eval_dataset\n",
    "    test_splits[domain] = test_dataset"
   ]
  },
  {
   "cell_type": "code",
   "execution_count": 9,
   "metadata": {},
   "outputs": [],
   "source": [
    "# feature_dim = OneDimFeatures(256)\n",
    "# featurizer = FeatureExtractor.Likelihood()\n",
    "# featurizer = FeatureExtractor.LogLikelihoodLogRankRatio()\n",
    "# config[\"second_dim_as_channels\"] = False\n",
    "feature_dim = TwoDimFeatures(256, 13)\n",
    "# featurizer = FeatureExtractor.LikelihoodTopkLikelihoodRatio(13)\n",
    "featurizer = FeatureExtractor.IntermediateLogits(13)\n",
    "config[\"second_dim_as_channels\"] = True\n",
    "\n",
    "# slicer = Slicer.Random(feature_dim[0])\n",
    "slicer = Slicer.RandomMultiple(feature_dim[0] // 4, multiple=4, stride=16)\n",
    "# slicer = Slicer.RandomMultiple(feature_dim[0] // 4, 4)\n",
    "\n",
    "config[\"feature_dim\"] = feature_dim\n",
    "config[\"featurizer\"] = repr(featurizer)\n",
    "config[\"slicer\"] = repr(slicer)\n",
    "\n",
    "config[\"num_samples\"] = None\n",
    "\n",
    "\n",
    "def featurize(dataset) -> FeatureDataset:\n",
    "    return FeatureDataset(\n",
    "        dataset, slicer, featurizer, num_samples=config[\"num_samples\"]\n",
    "    )"
   ]
  },
  {
   "cell_type": "code",
   "execution_count": 10,
   "metadata": {},
   "outputs": [
    {
     "data": {
      "application/vnd.jupyter.widget-view+json": {
       "model_id": "9db5a6295c6f47b9a7ab6dbc5fe6d206",
       "version_major": 2,
       "version_minor": 0
      },
      "text/plain": [
       "  0%|          | 0/9 [00:00<?, ?it/s]"
      ]
     },
     "metadata": {},
     "output_type": "display_data"
    }
   ],
   "source": [
    "train_datasets, eval_datasets, test_datasets = {}, {}, {}\n",
    "for domain, dataset in tqdm(datasets.items()):\n",
    "    train_datasets[domain] = featurize(train_splits[domain])\n",
    "    eval_datasets[domain] = featurize(eval_splits[domain])\n",
    "    test_datasets[domain] = featurize(test_splits[domain])"
   ]
  },
  {
   "cell_type": "markdown",
   "metadata": {},
   "source": [
    "## In-Domain Training & Evaluation"
   ]
  },
  {
   "cell_type": "code",
   "execution_count": 11,
   "metadata": {},
   "outputs": [],
   "source": [
    "config |= {\n",
    "    \"projection_dim\": None,\n",
    "    \"learning_rate\": 0.0001,\n",
    "    \"warmup_steps\": 66,\n",
    "    \"max_epochs\": 50,\n",
    "    \"gradient_clip_val\": 0.5,\n",
    "    \"batch_size\": 32,\n",
    "}\n",
    "\n",
    "# SeqXGPT Layer Configuration\n",
    "config[\"conv_layer_shapes\"] = [\n",
    "    ConvolutionalLayerSpec(64, 5),\n",
    "    *[ConvolutionalLayerSpec(128, 3)] * 3,\n",
    "    ConvolutionalLayerSpec(64, 3),\n",
    "]"
   ]
  },
  {
   "cell_type": "code",
   "execution_count": 12,
   "metadata": {},
   "outputs": [],
   "source": [
    "from torch.utils.data import ConcatDataset\n",
    "\n",
    "\n",
    "# capturing config from \"closure\"\n",
    "def get_dataloader(*dataset, **kwargs) -> PaddingDataloader:\n",
    "    if len(dataset) == 1:\n",
    "        dataset = dataset[0]\n",
    "    else:\n",
    "        dataset = ConcatDataset(dataset)\n",
    "    return PaddingDataloader(\n",
    "        dataset,\n",
    "        feature_dim=config[\"feature_dim\"],\n",
    "        batch_size=config[\"batch_size\"],\n",
    "        **kwargs,\n",
    "    )"
   ]
  },
  {
   "cell_type": "code",
   "execution_count": 13,
   "metadata": {},
   "outputs": [
    {
     "name": "stderr",
     "output_type": "stream",
     "text": [
      "Seed set to 1337\n",
      "GPU available: True (cuda), used: True\n",
      "TPU available: False, using: 0 TPU cores\n",
      "HPU available: False, using: 0 HPUs\n",
      "/home/mastoeck/Projects/PrismAI/PrismAI/.venv/lib/python3.12/site-packages/lightning/pytorch/utilities/parsing.py:45: Attribute 'feature_dim' removed from hparams because it cannot be pickled. You can suppress this warning by setting `self.save_hyperparameters(ignore=['feature_dim'])`.\n",
      "LOCAL_RANK: 0 - CUDA_VISIBLE_DEVICES: [0]\n",
      "Loading `train_dataloader` to estimate number of stepping batches.\n",
      "\n",
      "  | Name        | Type              | Params | Mode  | In sizes    | Out sizes  \n",
      "--------------------------------------------------------------------------------------\n",
      "0 | conv_layers | Sequential        | 152 K  | train | ?           | ?          \n",
      "1 | projection  | Identity          | 0      | train | [32, 16384] | [32, 16384]\n",
      "2 | classifier  | Linear            | 16.4 K | train | [32, 16384] | [32, 1]    \n",
      "3 | criterion   | BCEWithLogitsLoss | 0      | train | ?           | ?          \n",
      "--------------------------------------------------------------------------------------\n",
      "168 K     Trainable params\n",
      "0         Non-trainable params\n",
      "168 K     Total params\n",
      "0.674     Total estimated model params size (MB)\n",
      "15        Modules in train mode\n",
      "0         Modules in eval mode\n"
     ]
    },
    {
     "data": {
      "application/vnd.jupyter.widget-view+json": {
       "model_id": "9bf1e35fa4c44dc2a6a66442f05b123f",
       "version_major": 2,
       "version_minor": 0
      },
      "text/plain": [
       "Sanity Checking: |          | 0/? [00:00<?, ?it/s]"
      ]
     },
     "metadata": {},
     "output_type": "display_data"
    },
    {
     "data": {
      "application/vnd.jupyter.widget-view+json": {
       "model_id": "afbafa97924d47209427933f1c5c86e4",
       "version_major": 2,
       "version_minor": 0
      },
      "text/plain": [
       "Training: |          | 0/? [00:00<?, ?it/s]"
      ]
     },
     "metadata": {},
     "output_type": "display_data"
    },
    {
     "data": {
      "application/vnd.jupyter.widget-view+json": {
       "model_id": "2812e20d392747f78ee004ec15c2382f",
       "version_major": 2,
       "version_minor": 0
      },
      "text/plain": [
       "Validation: |          | 0/? [00:00<?, ?it/s]"
      ]
     },
     "metadata": {},
     "output_type": "display_data"
    },
    {
     "data": {
      "application/vnd.jupyter.widget-view+json": {
       "model_id": "26dadef4407747f1a5abe8a9bf503d81",
       "version_major": 2,
       "version_minor": 0
      },
      "text/plain": [
       "Validation: |          | 0/? [00:00<?, ?it/s]"
      ]
     },
     "metadata": {},
     "output_type": "display_data"
    },
    {
     "data": {
      "application/vnd.jupyter.widget-view+json": {
       "model_id": "2175aedbcf394f45a23fceadeb5910c9",
       "version_major": 2,
       "version_minor": 0
      },
      "text/plain": [
       "Validation: |          | 0/? [00:00<?, ?it/s]"
      ]
     },
     "metadata": {},
     "output_type": "display_data"
    },
    {
     "data": {
      "application/vnd.jupyter.widget-view+json": {
       "model_id": "8af783100ede4cd0bb928e0ef01cedc1",
       "version_major": 2,
       "version_minor": 0
      },
      "text/plain": [
       "Validation: |          | 0/? [00:00<?, ?it/s]"
      ]
     },
     "metadata": {},
     "output_type": "display_data"
    },
    {
     "data": {
      "application/vnd.jupyter.widget-view+json": {
       "model_id": "64ab755d1793438eaa65cccef3140607",
       "version_major": 2,
       "version_minor": 0
      },
      "text/plain": [
       "Validation: |          | 0/? [00:00<?, ?it/s]"
      ]
     },
     "metadata": {},
     "output_type": "display_data"
    },
    {
     "data": {
      "application/vnd.jupyter.widget-view+json": {
       "model_id": "dc0c4bda155049f5bd1cfb2323e2398b",
       "version_major": 2,
       "version_minor": 0
      },
      "text/plain": [
       "Validation: |          | 0/? [00:00<?, ?it/s]"
      ]
     },
     "metadata": {},
     "output_type": "display_data"
    },
    {
     "data": {
      "application/vnd.jupyter.widget-view+json": {
       "model_id": "ea1eaf1608b344138a6ea2bb2273e378",
       "version_major": 2,
       "version_minor": 0
      },
      "text/plain": [
       "Validation: |          | 0/? [00:00<?, ?it/s]"
      ]
     },
     "metadata": {},
     "output_type": "display_data"
    },
    {
     "data": {
      "application/vnd.jupyter.widget-view+json": {
       "model_id": "58bc04a33bbd47b5bebd03aa43eb5ca1",
       "version_major": 2,
       "version_minor": 0
      },
      "text/plain": [
       "Validation: |          | 0/? [00:00<?, ?it/s]"
      ]
     },
     "metadata": {},
     "output_type": "display_data"
    },
    {
     "data": {
      "application/vnd.jupyter.widget-view+json": {
       "model_id": "f806c4c2fd934494bdce2664500dfaf1",
       "version_major": 2,
       "version_minor": 0
      },
      "text/plain": [
       "Validation: |          | 0/? [00:00<?, ?it/s]"
      ]
     },
     "metadata": {},
     "output_type": "display_data"
    },
    {
     "data": {
      "application/vnd.jupyter.widget-view+json": {
       "model_id": "038f6183e3f848ec86c420b24520b57a",
       "version_major": 2,
       "version_minor": 0
      },
      "text/plain": [
       "Validation: |          | 0/? [00:00<?, ?it/s]"
      ]
     },
     "metadata": {},
     "output_type": "display_data"
    },
    {
     "data": {
      "application/vnd.jupyter.widget-view+json": {
       "model_id": "2ee38e4274f2455fb30d12ac8795c5c9",
       "version_major": 2,
       "version_minor": 0
      },
      "text/plain": [
       "Validation: |          | 0/? [00:00<?, ?it/s]"
      ]
     },
     "metadata": {},
     "output_type": "display_data"
    },
    {
     "name": "stderr",
     "output_type": "stream",
     "text": [
      "LOCAL_RANK: 0 - CUDA_VISIBLE_DEVICES: [0]\n",
      "LOCAL_RANK: 0 - CUDA_VISIBLE_DEVICES: [0]\n",
      "LOCAL_RANK: 0 - CUDA_VISIBLE_DEVICES: [0]\n",
      "LOCAL_RANK: 0 - CUDA_VISIBLE_DEVICES: [0]\n",
      "LOCAL_RANK: 0 - CUDA_VISIBLE_DEVICES: [0]\n",
      "LOCAL_RANK: 0 - CUDA_VISIBLE_DEVICES: [0]\n",
      "LOCAL_RANK: 0 - CUDA_VISIBLE_DEVICES: [0]\n",
      "LOCAL_RANK: 0 - CUDA_VISIBLE_DEVICES: [0]\n",
      "LOCAL_RANK: 0 - CUDA_VISIBLE_DEVICES: [0]\n",
      "LOCAL_RANK: 0 - CUDA_VISIBLE_DEVICES: [0]\n",
      "LOCAL_RANK: 0 - CUDA_VISIBLE_DEVICES: [0]\n",
      "LOCAL_RANK: 0 - CUDA_VISIBLE_DEVICES: [0]\n",
      "LOCAL_RANK: 0 - CUDA_VISIBLE_DEVICES: [0]\n",
      "LOCAL_RANK: 0 - CUDA_VISIBLE_DEVICES: [0]\n",
      "LOCAL_RANK: 0 - CUDA_VISIBLE_DEVICES: [0]\n",
      "LOCAL_RANK: 0 - CUDA_VISIBLE_DEVICES: [0]\n",
      "LOCAL_RANK: 0 - CUDA_VISIBLE_DEVICES: [0]\n",
      "LOCAL_RANK: 0 - CUDA_VISIBLE_DEVICES: [0]\n",
      "Seed set to 1337\n"
     ]
    },
    {
     "name": "stdout",
     "output_type": "stream",
     "text": [
      "Blog Authorship [{'other': 'Blog Authorship', 'test_loss': 0.12927396595478058, 'test_acc@0.5': 0.9540635943412781, 'test_acc@best': 0.9540635943412781, 'test_roc_auc': 0.9905263185501099}, {'other': 'Student Essays', 'test_loss': 1.524064064025879, 'test_acc@0.5': 0.5600000023841858, 'test_acc@best': 0.6133333444595337, 'test_roc_auc': 0.6703110933303833}, {'other': 'CNN News', 'test_loss': 1.4044389724731445, 'test_acc@0.5': 0.5133333206176758, 'test_acc@best': 0.6966666579246521, 'test_roc_auc': 0.7703555822372437}, {'other': 'Euro Court Cases', 'test_loss': 2.6178324222564697, 'test_acc@0.5': 0.503333330154419, 'test_acc@best': 0.6600000262260437, 'test_roc_auc': 0.7273111343383789}, {'other': 'House of Commons', 'test_loss': 1.8245090246200562, 'test_acc@0.5': 0.5033556818962097, 'test_acc@best': 0.6610738039016724, 'test_roc_auc': 0.6809459328651428}, {'other': 'ArXiv Papers', 'test_loss': 1.4874645471572876, 'test_acc@0.5': 0.5017064809799194, 'test_acc@best': 0.7542662024497986, 'test_roc_auc': 0.8186562061309814}, {'other': 'Gutenberg', 'test_loss': 1.6198275089263916, 'test_acc@0.5': 0.5395188927650452, 'test_acc@best': 0.7766323089599609, 'test_roc_auc': 0.8304018974304199}, {'other': 'Bundestag [DE]', 'test_loss': 0.8057321906089783, 'test_acc@0.5': 0.5773195624351501, 'test_acc@best': 0.5945017337799072, 'test_roc_auc': 0.5850269198417664}, {'other': 'Spiegel [DE]', 'test_loss': 0.7324520945549011, 'test_acc@0.5': 0.648829460144043, 'test_acc@best': 0.6421404480934143, 'test_roc_auc': 0.6713646650314331}]\n"
     ]
    },
    {
     "name": "stderr",
     "output_type": "stream",
     "text": [
      "GPU available: True (cuda), used: True\n",
      "TPU available: False, using: 0 TPU cores\n",
      "HPU available: False, using: 0 HPUs\n",
      "/home/mastoeck/Projects/PrismAI/PrismAI/.venv/lib/python3.12/site-packages/lightning/pytorch/utilities/parsing.py:45: Attribute 'feature_dim' removed from hparams because it cannot be pickled. You can suppress this warning by setting `self.save_hyperparameters(ignore=['feature_dim'])`.\n",
      "LOCAL_RANK: 0 - CUDA_VISIBLE_DEVICES: [0]\n",
      "Loading `train_dataloader` to estimate number of stepping batches.\n",
      "\n",
      "  | Name        | Type              | Params | Mode  | In sizes    | Out sizes  \n",
      "--------------------------------------------------------------------------------------\n",
      "0 | conv_layers | Sequential        | 152 K  | train | ?           | ?          \n",
      "1 | projection  | Identity          | 0      | train | [32, 16384] | [32, 16384]\n",
      "2 | classifier  | Linear            | 16.4 K | train | [32, 16384] | [32, 1]    \n",
      "3 | criterion   | BCEWithLogitsLoss | 0      | train | ?           | ?          \n",
      "--------------------------------------------------------------------------------------\n",
      "168 K     Trainable params\n",
      "0         Non-trainable params\n",
      "168 K     Total params\n",
      "0.674     Total estimated model params size (MB)\n",
      "15        Modules in train mode\n",
      "0         Modules in eval mode\n"
     ]
    },
    {
     "data": {
      "application/vnd.jupyter.widget-view+json": {
       "model_id": "72ef34506b994d23a35ff3794f300fed",
       "version_major": 2,
       "version_minor": 0
      },
      "text/plain": [
       "Sanity Checking: |          | 0/? [00:00<?, ?it/s]"
      ]
     },
     "metadata": {},
     "output_type": "display_data"
    },
    {
     "data": {
      "application/vnd.jupyter.widget-view+json": {
       "model_id": "49f5be3dcc824d099577b32d850ef10d",
       "version_major": 2,
       "version_minor": 0
      },
      "text/plain": [
       "Training: |          | 0/? [00:00<?, ?it/s]"
      ]
     },
     "metadata": {},
     "output_type": "display_data"
    },
    {
     "data": {
      "application/vnd.jupyter.widget-view+json": {
       "model_id": "c4b7d8f285c942a3ba18c7350ae454d1",
       "version_major": 2,
       "version_minor": 0
      },
      "text/plain": [
       "Validation: |          | 0/? [00:00<?, ?it/s]"
      ]
     },
     "metadata": {},
     "output_type": "display_data"
    },
    {
     "data": {
      "application/vnd.jupyter.widget-view+json": {
       "model_id": "b7a0a994b7b94aa682bf323002c784c7",
       "version_major": 2,
       "version_minor": 0
      },
      "text/plain": [
       "Validation: |          | 0/? [00:00<?, ?it/s]"
      ]
     },
     "metadata": {},
     "output_type": "display_data"
    },
    {
     "data": {
      "application/vnd.jupyter.widget-view+json": {
       "model_id": "a49ae338ac374a0384e07d897b4dc4ad",
       "version_major": 2,
       "version_minor": 0
      },
      "text/plain": [
       "Validation: |          | 0/? [00:00<?, ?it/s]"
      ]
     },
     "metadata": {},
     "output_type": "display_data"
    },
    {
     "data": {
      "application/vnd.jupyter.widget-view+json": {
       "model_id": "f034f6a6e5894c9cb734d7b8e475f860",
       "version_major": 2,
       "version_minor": 0
      },
      "text/plain": [
       "Validation: |          | 0/? [00:00<?, ?it/s]"
      ]
     },
     "metadata": {},
     "output_type": "display_data"
    },
    {
     "data": {
      "application/vnd.jupyter.widget-view+json": {
       "model_id": "0f774371b60c4add93d65e690ab3c52a",
       "version_major": 2,
       "version_minor": 0
      },
      "text/plain": [
       "Validation: |          | 0/? [00:00<?, ?it/s]"
      ]
     },
     "metadata": {},
     "output_type": "display_data"
    },
    {
     "data": {
      "application/vnd.jupyter.widget-view+json": {
       "model_id": "bdcf0e0c881a4202a269a38a3554bf5b",
       "version_major": 2,
       "version_minor": 0
      },
      "text/plain": [
       "Validation: |          | 0/? [00:00<?, ?it/s]"
      ]
     },
     "metadata": {},
     "output_type": "display_data"
    },
    {
     "data": {
      "application/vnd.jupyter.widget-view+json": {
       "model_id": "114517c747684296b5f23c338fc59e7a",
       "version_major": 2,
       "version_minor": 0
      },
      "text/plain": [
       "Validation: |          | 0/? [00:00<?, ?it/s]"
      ]
     },
     "metadata": {},
     "output_type": "display_data"
    },
    {
     "data": {
      "application/vnd.jupyter.widget-view+json": {
       "model_id": "e256a8a0b3d3467a84aa6e41875bc17c",
       "version_major": 2,
       "version_minor": 0
      },
      "text/plain": [
       "Validation: |          | 0/? [00:00<?, ?it/s]"
      ]
     },
     "metadata": {},
     "output_type": "display_data"
    },
    {
     "data": {
      "application/vnd.jupyter.widget-view+json": {
       "model_id": "5dd8cc45f46648d8abfd9eb17ead654f",
       "version_major": 2,
       "version_minor": 0
      },
      "text/plain": [
       "Validation: |          | 0/? [00:00<?, ?it/s]"
      ]
     },
     "metadata": {},
     "output_type": "display_data"
    },
    {
     "data": {
      "application/vnd.jupyter.widget-view+json": {
       "model_id": "ba5c2ddb1ea340ffadf20cee3081d204",
       "version_major": 2,
       "version_minor": 0
      },
      "text/plain": [
       "Validation: |          | 0/? [00:00<?, ?it/s]"
      ]
     },
     "metadata": {},
     "output_type": "display_data"
    },
    {
     "data": {
      "application/vnd.jupyter.widget-view+json": {
       "model_id": "63f30e746ecc4ec98352887636b27b2d",
       "version_major": 2,
       "version_minor": 0
      },
      "text/plain": [
       "Validation: |          | 0/? [00:00<?, ?it/s]"
      ]
     },
     "metadata": {},
     "output_type": "display_data"
    },
    {
     "data": {
      "application/vnd.jupyter.widget-view+json": {
       "model_id": "99290a1d1eb4435f8f34633cd24e382a",
       "version_major": 2,
       "version_minor": 0
      },
      "text/plain": [
       "Validation: |          | 0/? [00:00<?, ?it/s]"
      ]
     },
     "metadata": {},
     "output_type": "display_data"
    },
    {
     "data": {
      "application/vnd.jupyter.widget-view+json": {
       "model_id": "160e7264e877436ca99b758d570e17b9",
       "version_major": 2,
       "version_minor": 0
      },
      "text/plain": [
       "Validation: |          | 0/? [00:00<?, ?it/s]"
      ]
     },
     "metadata": {},
     "output_type": "display_data"
    },
    {
     "data": {
      "application/vnd.jupyter.widget-view+json": {
       "model_id": "a5c26d0b633d43d2912a696afc12fa1e",
       "version_major": 2,
       "version_minor": 0
      },
      "text/plain": [
       "Validation: |          | 0/? [00:00<?, ?it/s]"
      ]
     },
     "metadata": {},
     "output_type": "display_data"
    },
    {
     "data": {
      "application/vnd.jupyter.widget-view+json": {
       "model_id": "a709b15c5d5c41b3ab466a8656732118",
       "version_major": 2,
       "version_minor": 0
      },
      "text/plain": [
       "Validation: |          | 0/? [00:00<?, ?it/s]"
      ]
     },
     "metadata": {},
     "output_type": "display_data"
    },
    {
     "data": {
      "application/vnd.jupyter.widget-view+json": {
       "model_id": "06ab4e48282743fcac6d59865780fffa",
       "version_major": 2,
       "version_minor": 0
      },
      "text/plain": [
       "Validation: |          | 0/? [00:00<?, ?it/s]"
      ]
     },
     "metadata": {},
     "output_type": "display_data"
    },
    {
     "data": {
      "application/vnd.jupyter.widget-view+json": {
       "model_id": "261a981b06784ab3ab3a8b22a836fdc6",
       "version_major": 2,
       "version_minor": 0
      },
      "text/plain": [
       "Validation: |          | 0/? [00:00<?, ?it/s]"
      ]
     },
     "metadata": {},
     "output_type": "display_data"
    },
    {
     "data": {
      "application/vnd.jupyter.widget-view+json": {
       "model_id": "f9232c8236864ce7b105ed6b9c983fbc",
       "version_major": 2,
       "version_minor": 0
      },
      "text/plain": [
       "Validation: |          | 0/? [00:00<?, ?it/s]"
      ]
     },
     "metadata": {},
     "output_type": "display_data"
    },
    {
     "data": {
      "application/vnd.jupyter.widget-view+json": {
       "model_id": "bb230da0b9ad43078fb66a3ca6261bbb",
       "version_major": 2,
       "version_minor": 0
      },
      "text/plain": [
       "Validation: |          | 0/? [00:00<?, ?it/s]"
      ]
     },
     "metadata": {},
     "output_type": "display_data"
    },
    {
     "data": {
      "application/vnd.jupyter.widget-view+json": {
       "model_id": "0dba8c1ac77740df9e514daadd5ac224",
       "version_major": 2,
       "version_minor": 0
      },
      "text/plain": [
       "Validation: |          | 0/? [00:00<?, ?it/s]"
      ]
     },
     "metadata": {},
     "output_type": "display_data"
    },
    {
     "data": {
      "application/vnd.jupyter.widget-view+json": {
       "model_id": "e4320647227f4df6a5e156ac6bfff251",
       "version_major": 2,
       "version_minor": 0
      },
      "text/plain": [
       "Validation: |          | 0/? [00:00<?, ?it/s]"
      ]
     },
     "metadata": {},
     "output_type": "display_data"
    },
    {
     "data": {
      "application/vnd.jupyter.widget-view+json": {
       "model_id": "2cab9096a7f341bfad10ed70607c5842",
       "version_major": 2,
       "version_minor": 0
      },
      "text/plain": [
       "Validation: |          | 0/? [00:00<?, ?it/s]"
      ]
     },
     "metadata": {},
     "output_type": "display_data"
    },
    {
     "data": {
      "application/vnd.jupyter.widget-view+json": {
       "model_id": "14f75b1c7426452790191614cc681cfa",
       "version_major": 2,
       "version_minor": 0
      },
      "text/plain": [
       "Validation: |          | 0/? [00:00<?, ?it/s]"
      ]
     },
     "metadata": {},
     "output_type": "display_data"
    },
    {
     "data": {
      "application/vnd.jupyter.widget-view+json": {
       "model_id": "e22a048c80dd4c47b562dc727bcf0a07",
       "version_major": 2,
       "version_minor": 0
      },
      "text/plain": [
       "Validation: |          | 0/? [00:00<?, ?it/s]"
      ]
     },
     "metadata": {},
     "output_type": "display_data"
    },
    {
     "data": {
      "application/vnd.jupyter.widget-view+json": {
       "model_id": "a8d56fac20bf42a3a35713ae4203082c",
       "version_major": 2,
       "version_minor": 0
      },
      "text/plain": [
       "Validation: |          | 0/? [00:00<?, ?it/s]"
      ]
     },
     "metadata": {},
     "output_type": "display_data"
    },
    {
     "data": {
      "application/vnd.jupyter.widget-view+json": {
       "model_id": "ea1c1aab4be444a3ab16ed1850d6c790",
       "version_major": 2,
       "version_minor": 0
      },
      "text/plain": [
       "Validation: |          | 0/? [00:00<?, ?it/s]"
      ]
     },
     "metadata": {},
     "output_type": "display_data"
    },
    {
     "data": {
      "application/vnd.jupyter.widget-view+json": {
       "model_id": "35b467350e604b62b1ee90ceca72dc24",
       "version_major": 2,
       "version_minor": 0
      },
      "text/plain": [
       "Validation: |          | 0/? [00:00<?, ?it/s]"
      ]
     },
     "metadata": {},
     "output_type": "display_data"
    },
    {
     "data": {
      "application/vnd.jupyter.widget-view+json": {
       "model_id": "6cff701ce71d4b48bed9d6a1db2ed261",
       "version_major": 2,
       "version_minor": 0
      },
      "text/plain": [
       "Validation: |          | 0/? [00:00<?, ?it/s]"
      ]
     },
     "metadata": {},
     "output_type": "display_data"
    },
    {
     "data": {
      "application/vnd.jupyter.widget-view+json": {
       "model_id": "3f7a321ce4da4965a2be4eb0d9df0696",
       "version_major": 2,
       "version_minor": 0
      },
      "text/plain": [
       "Validation: |          | 0/? [00:00<?, ?it/s]"
      ]
     },
     "metadata": {},
     "output_type": "display_data"
    },
    {
     "data": {
      "application/vnd.jupyter.widget-view+json": {
       "model_id": "06d7b90fea2d4506a8b46ed61ba4f938",
       "version_major": 2,
       "version_minor": 0
      },
      "text/plain": [
       "Validation: |          | 0/? [00:00<?, ?it/s]"
      ]
     },
     "metadata": {},
     "output_type": "display_data"
    },
    {
     "name": "stderr",
     "output_type": "stream",
     "text": [
      "LOCAL_RANK: 0 - CUDA_VISIBLE_DEVICES: [0]\n",
      "LOCAL_RANK: 0 - CUDA_VISIBLE_DEVICES: [0]\n",
      "LOCAL_RANK: 0 - CUDA_VISIBLE_DEVICES: [0]\n",
      "LOCAL_RANK: 0 - CUDA_VISIBLE_DEVICES: [0]\n",
      "LOCAL_RANK: 0 - CUDA_VISIBLE_DEVICES: [0]\n",
      "LOCAL_RANK: 0 - CUDA_VISIBLE_DEVICES: [0]\n",
      "LOCAL_RANK: 0 - CUDA_VISIBLE_DEVICES: [0]\n",
      "LOCAL_RANK: 0 - CUDA_VISIBLE_DEVICES: [0]\n",
      "LOCAL_RANK: 0 - CUDA_VISIBLE_DEVICES: [0]\n",
      "LOCAL_RANK: 0 - CUDA_VISIBLE_DEVICES: [0]\n",
      "LOCAL_RANK: 0 - CUDA_VISIBLE_DEVICES: [0]\n",
      "LOCAL_RANK: 0 - CUDA_VISIBLE_DEVICES: [0]\n",
      "LOCAL_RANK: 0 - CUDA_VISIBLE_DEVICES: [0]\n",
      "LOCAL_RANK: 0 - CUDA_VISIBLE_DEVICES: [0]\n",
      "LOCAL_RANK: 0 - CUDA_VISIBLE_DEVICES: [0]\n",
      "LOCAL_RANK: 0 - CUDA_VISIBLE_DEVICES: [0]\n",
      "LOCAL_RANK: 0 - CUDA_VISIBLE_DEVICES: [0]\n",
      "LOCAL_RANK: 0 - CUDA_VISIBLE_DEVICES: [0]\n",
      "Seed set to 1337\n"
     ]
    },
    {
     "name": "stdout",
     "output_type": "stream",
     "text": [
      "Student Essays [{'other': 'Blog Authorship', 'test_loss': 6.6242289543151855, 'test_acc@0.5': 0.6007066965103149, 'test_acc@best': 0.6077738404273987, 'test_roc_auc': 0.5453634262084961}, {'other': 'Student Essays', 'test_loss': 0.16484086215496063, 'test_acc@0.5': 0.9133333563804626, 'test_acc@best': 0.949999988079071, 'test_roc_auc': 0.9873777627944946}, {'other': 'CNN News', 'test_loss': 1.0666855573654175, 'test_acc@0.5': 0.7266666889190674, 'test_acc@best': 0.7833333611488342, 'test_roc_auc': 0.8714222311973572}, {'other': 'Euro Court Cases', 'test_loss': 1.1247600317001343, 'test_acc@0.5': 0.6966666579246521, 'test_acc@best': 0.800000011920929, 'test_roc_auc': 0.8642666935920715}, {'other': 'House of Commons', 'test_loss': 1.9349571466445923, 'test_acc@0.5': 0.7651006579399109, 'test_acc@best': 0.8020133972167969, 'test_roc_auc': 0.7896396517753601}, {'other': 'ArXiv Papers', 'test_loss': 1.8645610809326172, 'test_acc@0.5': 0.7576791644096375, 'test_acc@best': 0.7713310718536377, 'test_roc_auc': 0.7656322717666626}, {'other': 'Gutenberg', 'test_loss': 0.7871955633163452, 'test_acc@0.5': 0.8178694248199463, 'test_acc@best': 0.8041236996650696, 'test_roc_auc': 0.8746099472045898}, {'other': 'Bundestag [DE]', 'test_loss': 1.9177801609039307, 'test_acc@0.5': 0.5326460599899292, 'test_acc@best': 0.6597937941551208, 'test_roc_auc': 0.7126855254173279}, {'other': 'Spiegel [DE]', 'test_loss': 2.2603721618652344, 'test_acc@0.5': 0.5384615659713745, 'test_acc@best': 0.6889632344245911, 'test_roc_auc': 0.7762863636016846}]\n"
     ]
    },
    {
     "name": "stderr",
     "output_type": "stream",
     "text": [
      "GPU available: True (cuda), used: True\n",
      "TPU available: False, using: 0 TPU cores\n",
      "HPU available: False, using: 0 HPUs\n",
      "/home/mastoeck/Projects/PrismAI/PrismAI/.venv/lib/python3.12/site-packages/lightning/pytorch/utilities/parsing.py:45: Attribute 'feature_dim' removed from hparams because it cannot be pickled. You can suppress this warning by setting `self.save_hyperparameters(ignore=['feature_dim'])`.\n",
      "LOCAL_RANK: 0 - CUDA_VISIBLE_DEVICES: [0]\n",
      "Loading `train_dataloader` to estimate number of stepping batches.\n",
      "\n",
      "  | Name        | Type              | Params | Mode  | In sizes    | Out sizes  \n",
      "--------------------------------------------------------------------------------------\n",
      "0 | conv_layers | Sequential        | 152 K  | train | ?           | ?          \n",
      "1 | projection  | Identity          | 0      | train | [32, 16384] | [32, 16384]\n",
      "2 | classifier  | Linear            | 16.4 K | train | [32, 16384] | [32, 1]    \n",
      "3 | criterion   | BCEWithLogitsLoss | 0      | train | ?           | ?          \n",
      "--------------------------------------------------------------------------------------\n",
      "168 K     Trainable params\n",
      "0         Non-trainable params\n",
      "168 K     Total params\n",
      "0.674     Total estimated model params size (MB)\n",
      "15        Modules in train mode\n",
      "0         Modules in eval mode\n"
     ]
    },
    {
     "data": {
      "application/vnd.jupyter.widget-view+json": {
       "model_id": "e71696cbc8b149daa378729592fdec4c",
       "version_major": 2,
       "version_minor": 0
      },
      "text/plain": [
       "Sanity Checking: |          | 0/? [00:00<?, ?it/s]"
      ]
     },
     "metadata": {},
     "output_type": "display_data"
    },
    {
     "data": {
      "application/vnd.jupyter.widget-view+json": {
       "model_id": "bb51770c91cd49f39ab5fce29c24843a",
       "version_major": 2,
       "version_minor": 0
      },
      "text/plain": [
       "Training: |          | 0/? [00:00<?, ?it/s]"
      ]
     },
     "metadata": {},
     "output_type": "display_data"
    },
    {
     "data": {
      "application/vnd.jupyter.widget-view+json": {
       "model_id": "88c90ddc9f9649869867a7e25fb3ccf2",
       "version_major": 2,
       "version_minor": 0
      },
      "text/plain": [
       "Validation: |          | 0/? [00:00<?, ?it/s]"
      ]
     },
     "metadata": {},
     "output_type": "display_data"
    },
    {
     "data": {
      "application/vnd.jupyter.widget-view+json": {
       "model_id": "ca65b7f22a9740d985dfcedc2f9b92c2",
       "version_major": 2,
       "version_minor": 0
      },
      "text/plain": [
       "Validation: |          | 0/? [00:00<?, ?it/s]"
      ]
     },
     "metadata": {},
     "output_type": "display_data"
    },
    {
     "data": {
      "application/vnd.jupyter.widget-view+json": {
       "model_id": "55db4d0026dd4ea5af5c4b62a513c9d2",
       "version_major": 2,
       "version_minor": 0
      },
      "text/plain": [
       "Validation: |          | 0/? [00:00<?, ?it/s]"
      ]
     },
     "metadata": {},
     "output_type": "display_data"
    },
    {
     "data": {
      "application/vnd.jupyter.widget-view+json": {
       "model_id": "4523046b16ee4a98b214c88054892d51",
       "version_major": 2,
       "version_minor": 0
      },
      "text/plain": [
       "Validation: |          | 0/? [00:00<?, ?it/s]"
      ]
     },
     "metadata": {},
     "output_type": "display_data"
    },
    {
     "data": {
      "application/vnd.jupyter.widget-view+json": {
       "model_id": "af24541c5ea14835b98e0b8160dd5c01",
       "version_major": 2,
       "version_minor": 0
      },
      "text/plain": [
       "Validation: |          | 0/? [00:00<?, ?it/s]"
      ]
     },
     "metadata": {},
     "output_type": "display_data"
    },
    {
     "data": {
      "application/vnd.jupyter.widget-view+json": {
       "model_id": "7ae0817014844e2f971b68760d3a6b4e",
       "version_major": 2,
       "version_minor": 0
      },
      "text/plain": [
       "Validation: |          | 0/? [00:00<?, ?it/s]"
      ]
     },
     "metadata": {},
     "output_type": "display_data"
    },
    {
     "data": {
      "application/vnd.jupyter.widget-view+json": {
       "model_id": "13c0da7dd57c436faed3088840838672",
       "version_major": 2,
       "version_minor": 0
      },
      "text/plain": [
       "Validation: |          | 0/? [00:00<?, ?it/s]"
      ]
     },
     "metadata": {},
     "output_type": "display_data"
    },
    {
     "data": {
      "application/vnd.jupyter.widget-view+json": {
       "model_id": "dfbe7bff0b6b4de39c26896fc72658e0",
       "version_major": 2,
       "version_minor": 0
      },
      "text/plain": [
       "Validation: |          | 0/? [00:00<?, ?it/s]"
      ]
     },
     "metadata": {},
     "output_type": "display_data"
    },
    {
     "data": {
      "application/vnd.jupyter.widget-view+json": {
       "model_id": "11335c1c9f314456a8d14bb5243d28d9",
       "version_major": 2,
       "version_minor": 0
      },
      "text/plain": [
       "Validation: |          | 0/? [00:00<?, ?it/s]"
      ]
     },
     "metadata": {},
     "output_type": "display_data"
    },
    {
     "data": {
      "application/vnd.jupyter.widget-view+json": {
       "model_id": "536b6451555a47dbb12e2ef5df63108a",
       "version_major": 2,
       "version_minor": 0
      },
      "text/plain": [
       "Validation: |          | 0/? [00:00<?, ?it/s]"
      ]
     },
     "metadata": {},
     "output_type": "display_data"
    },
    {
     "data": {
      "application/vnd.jupyter.widget-view+json": {
       "model_id": "4fcafb294aac45688841dfd138fde1e2",
       "version_major": 2,
       "version_minor": 0
      },
      "text/plain": [
       "Validation: |          | 0/? [00:00<?, ?it/s]"
      ]
     },
     "metadata": {},
     "output_type": "display_data"
    },
    {
     "data": {
      "application/vnd.jupyter.widget-view+json": {
       "model_id": "d0a83ffc3f3647e9a84d2d719e212a01",
       "version_major": 2,
       "version_minor": 0
      },
      "text/plain": [
       "Validation: |          | 0/? [00:00<?, ?it/s]"
      ]
     },
     "metadata": {},
     "output_type": "display_data"
    },
    {
     "data": {
      "application/vnd.jupyter.widget-view+json": {
       "model_id": "3986f245cf0e4a90928ca2bb59476ceb",
       "version_major": 2,
       "version_minor": 0
      },
      "text/plain": [
       "Validation: |          | 0/? [00:00<?, ?it/s]"
      ]
     },
     "metadata": {},
     "output_type": "display_data"
    },
    {
     "data": {
      "application/vnd.jupyter.widget-view+json": {
       "model_id": "4017368112424b3d9bf40824cc1a2b27",
       "version_major": 2,
       "version_minor": 0
      },
      "text/plain": [
       "Validation: |          | 0/? [00:00<?, ?it/s]"
      ]
     },
     "metadata": {},
     "output_type": "display_data"
    },
    {
     "data": {
      "application/vnd.jupyter.widget-view+json": {
       "model_id": "6acb975758284c0991a1a4af9461c566",
       "version_major": 2,
       "version_minor": 0
      },
      "text/plain": [
       "Validation: |          | 0/? [00:00<?, ?it/s]"
      ]
     },
     "metadata": {},
     "output_type": "display_data"
    },
    {
     "data": {
      "application/vnd.jupyter.widget-view+json": {
       "model_id": "76b1dba6fd524dc8978cc2170543a9f0",
       "version_major": 2,
       "version_minor": 0
      },
      "text/plain": [
       "Validation: |          | 0/? [00:00<?, ?it/s]"
      ]
     },
     "metadata": {},
     "output_type": "display_data"
    },
    {
     "data": {
      "application/vnd.jupyter.widget-view+json": {
       "model_id": "c6ea36be63984ddda97a2845aa008631",
       "version_major": 2,
       "version_minor": 0
      },
      "text/plain": [
       "Validation: |          | 0/? [00:00<?, ?it/s]"
      ]
     },
     "metadata": {},
     "output_type": "display_data"
    },
    {
     "data": {
      "application/vnd.jupyter.widget-view+json": {
       "model_id": "551e2099c1224c1699c55f1b5274e6ce",
       "version_major": 2,
       "version_minor": 0
      },
      "text/plain": [
       "Validation: |          | 0/? [00:00<?, ?it/s]"
      ]
     },
     "metadata": {},
     "output_type": "display_data"
    },
    {
     "data": {
      "application/vnd.jupyter.widget-view+json": {
       "model_id": "f611e23bfe3743af850118e2d6537b84",
       "version_major": 2,
       "version_minor": 0
      },
      "text/plain": [
       "Validation: |          | 0/? [00:00<?, ?it/s]"
      ]
     },
     "metadata": {},
     "output_type": "display_data"
    },
    {
     "data": {
      "application/vnd.jupyter.widget-view+json": {
       "model_id": "47ddd8b01dad44f8a3299d1b628508a1",
       "version_major": 2,
       "version_minor": 0
      },
      "text/plain": [
       "Validation: |          | 0/? [00:00<?, ?it/s]"
      ]
     },
     "metadata": {},
     "output_type": "display_data"
    },
    {
     "name": "stderr",
     "output_type": "stream",
     "text": [
      "LOCAL_RANK: 0 - CUDA_VISIBLE_DEVICES: [0]\n",
      "LOCAL_RANK: 0 - CUDA_VISIBLE_DEVICES: [0]\n",
      "LOCAL_RANK: 0 - CUDA_VISIBLE_DEVICES: [0]\n",
      "LOCAL_RANK: 0 - CUDA_VISIBLE_DEVICES: [0]\n",
      "LOCAL_RANK: 0 - CUDA_VISIBLE_DEVICES: [0]\n",
      "LOCAL_RANK: 0 - CUDA_VISIBLE_DEVICES: [0]\n",
      "LOCAL_RANK: 0 - CUDA_VISIBLE_DEVICES: [0]\n",
      "LOCAL_RANK: 0 - CUDA_VISIBLE_DEVICES: [0]\n",
      "LOCAL_RANK: 0 - CUDA_VISIBLE_DEVICES: [0]\n",
      "LOCAL_RANK: 0 - CUDA_VISIBLE_DEVICES: [0]\n",
      "LOCAL_RANK: 0 - CUDA_VISIBLE_DEVICES: [0]\n",
      "LOCAL_RANK: 0 - CUDA_VISIBLE_DEVICES: [0]\n",
      "LOCAL_RANK: 0 - CUDA_VISIBLE_DEVICES: [0]\n",
      "LOCAL_RANK: 0 - CUDA_VISIBLE_DEVICES: [0]\n",
      "LOCAL_RANK: 0 - CUDA_VISIBLE_DEVICES: [0]\n",
      "LOCAL_RANK: 0 - CUDA_VISIBLE_DEVICES: [0]\n",
      "LOCAL_RANK: 0 - CUDA_VISIBLE_DEVICES: [0]\n",
      "LOCAL_RANK: 0 - CUDA_VISIBLE_DEVICES: [0]\n",
      "Seed set to 1337\n"
     ]
    },
    {
     "name": "stdout",
     "output_type": "stream",
     "text": [
      "CNN News [{'other': 'Blog Authorship', 'test_loss': 2.6755316257476807, 'test_acc@0.5': 0.5194346308708191, 'test_acc@best': 0.5300353169441223, 'test_roc_auc': 0.24295739829540253}, {'other': 'Student Essays', 'test_loss': 1.0468742847442627, 'test_acc@0.5': 0.7099999785423279, 'test_acc@best': 0.7166666388511658, 'test_roc_auc': 0.7954666614532471}, {'other': 'CNN News', 'test_loss': 0.20822416245937347, 'test_acc@0.5': 0.9133333563804626, 'test_acc@best': 0.9433333277702332, 'test_roc_auc': 0.9815999865531921}, {'other': 'Euro Court Cases', 'test_loss': 0.37343406677246094, 'test_acc@0.5': 0.8500000238418579, 'test_acc@best': 0.8766666650772095, 'test_roc_auc': 0.9469777941703796}, {'other': 'House of Commons', 'test_loss': 0.6511669158935547, 'test_acc@0.5': 0.8456375598907471, 'test_acc@best': 0.8389261960983276, 'test_roc_auc': 0.846486508846283}, {'other': 'ArXiv Papers', 'test_loss': 0.7939708828926086, 'test_acc@0.5': 0.8054607510566711, 'test_acc@best': 0.8395904302597046, 'test_roc_auc': 0.8560246229171753}, {'other': 'Gutenberg', 'test_loss': 0.5414149165153503, 'test_acc@0.5': 0.8522336483001709, 'test_acc@best': 0.838487982749939, 'test_roc_auc': 0.9048227071762085}, {'other': 'Bundestag [DE]', 'test_loss': 2.9237289428710938, 'test_acc@0.5': 0.4879724979400635, 'test_acc@best': 0.6701030731201172, 'test_roc_auc': 0.7287077903747559}, {'other': 'Spiegel [DE]', 'test_loss': 2.941007137298584, 'test_acc@0.5': 0.5050167441368103, 'test_acc@best': 0.6287625432014465, 'test_roc_auc': 0.6568232774734497}]\n"
     ]
    },
    {
     "name": "stderr",
     "output_type": "stream",
     "text": [
      "GPU available: True (cuda), used: True\n",
      "TPU available: False, using: 0 TPU cores\n",
      "HPU available: False, using: 0 HPUs\n",
      "/home/mastoeck/Projects/PrismAI/PrismAI/.venv/lib/python3.12/site-packages/lightning/pytorch/utilities/parsing.py:45: Attribute 'feature_dim' removed from hparams because it cannot be pickled. You can suppress this warning by setting `self.save_hyperparameters(ignore=['feature_dim'])`.\n",
      "LOCAL_RANK: 0 - CUDA_VISIBLE_DEVICES: [0]\n",
      "Loading `train_dataloader` to estimate number of stepping batches.\n",
      "\n",
      "  | Name        | Type              | Params | Mode  | In sizes    | Out sizes  \n",
      "--------------------------------------------------------------------------------------\n",
      "0 | conv_layers | Sequential        | 152 K  | train | ?           | ?          \n",
      "1 | projection  | Identity          | 0      | train | [32, 16384] | [32, 16384]\n",
      "2 | classifier  | Linear            | 16.4 K | train | [32, 16384] | [32, 1]    \n",
      "3 | criterion   | BCEWithLogitsLoss | 0      | train | ?           | ?          \n",
      "--------------------------------------------------------------------------------------\n",
      "168 K     Trainable params\n",
      "0         Non-trainable params\n",
      "168 K     Total params\n",
      "0.674     Total estimated model params size (MB)\n",
      "15        Modules in train mode\n",
      "0         Modules in eval mode\n"
     ]
    },
    {
     "data": {
      "application/vnd.jupyter.widget-view+json": {
       "model_id": "3ffb6be7cc8e4861b203cf77c605a049",
       "version_major": 2,
       "version_minor": 0
      },
      "text/plain": [
       "Sanity Checking: |          | 0/? [00:00<?, ?it/s]"
      ]
     },
     "metadata": {},
     "output_type": "display_data"
    },
    {
     "data": {
      "application/vnd.jupyter.widget-view+json": {
       "model_id": "b2379180c3e641c5966ddc5ba9997171",
       "version_major": 2,
       "version_minor": 0
      },
      "text/plain": [
       "Training: |          | 0/? [00:00<?, ?it/s]"
      ]
     },
     "metadata": {},
     "output_type": "display_data"
    },
    {
     "data": {
      "application/vnd.jupyter.widget-view+json": {
       "model_id": "87953cc06e54407a9dc558305db315ba",
       "version_major": 2,
       "version_minor": 0
      },
      "text/plain": [
       "Validation: |          | 0/? [00:00<?, ?it/s]"
      ]
     },
     "metadata": {},
     "output_type": "display_data"
    },
    {
     "data": {
      "application/vnd.jupyter.widget-view+json": {
       "model_id": "de95a079e0324e29835025a83a1b57e1",
       "version_major": 2,
       "version_minor": 0
      },
      "text/plain": [
       "Validation: |          | 0/? [00:00<?, ?it/s]"
      ]
     },
     "metadata": {},
     "output_type": "display_data"
    },
    {
     "data": {
      "application/vnd.jupyter.widget-view+json": {
       "model_id": "f7a6f2ab6e5c412cbde4377bfb1074b0",
       "version_major": 2,
       "version_minor": 0
      },
      "text/plain": [
       "Validation: |          | 0/? [00:00<?, ?it/s]"
      ]
     },
     "metadata": {},
     "output_type": "display_data"
    },
    {
     "data": {
      "application/vnd.jupyter.widget-view+json": {
       "model_id": "55107400227f4140b5684cced11403fd",
       "version_major": 2,
       "version_minor": 0
      },
      "text/plain": [
       "Validation: |          | 0/? [00:00<?, ?it/s]"
      ]
     },
     "metadata": {},
     "output_type": "display_data"
    },
    {
     "data": {
      "application/vnd.jupyter.widget-view+json": {
       "model_id": "8d5d2db314954381b05e6fdeff49db60",
       "version_major": 2,
       "version_minor": 0
      },
      "text/plain": [
       "Validation: |          | 0/? [00:00<?, ?it/s]"
      ]
     },
     "metadata": {},
     "output_type": "display_data"
    },
    {
     "data": {
      "application/vnd.jupyter.widget-view+json": {
       "model_id": "2bacc2829d0240029967460c716e99fb",
       "version_major": 2,
       "version_minor": 0
      },
      "text/plain": [
       "Validation: |          | 0/? [00:00<?, ?it/s]"
      ]
     },
     "metadata": {},
     "output_type": "display_data"
    },
    {
     "data": {
      "application/vnd.jupyter.widget-view+json": {
       "model_id": "c8170c7a4d0d4411af4d67f7f73bc49b",
       "version_major": 2,
       "version_minor": 0
      },
      "text/plain": [
       "Validation: |          | 0/? [00:00<?, ?it/s]"
      ]
     },
     "metadata": {},
     "output_type": "display_data"
    },
    {
     "data": {
      "application/vnd.jupyter.widget-view+json": {
       "model_id": "6f664cb97e8b4f4ebf3f77d0e2b2b174",
       "version_major": 2,
       "version_minor": 0
      },
      "text/plain": [
       "Validation: |          | 0/? [00:00<?, ?it/s]"
      ]
     },
     "metadata": {},
     "output_type": "display_data"
    },
    {
     "data": {
      "application/vnd.jupyter.widget-view+json": {
       "model_id": "604f553f4f364e49bdf234eac1c46fe7",
       "version_major": 2,
       "version_minor": 0
      },
      "text/plain": [
       "Validation: |          | 0/? [00:00<?, ?it/s]"
      ]
     },
     "metadata": {},
     "output_type": "display_data"
    },
    {
     "data": {
      "application/vnd.jupyter.widget-view+json": {
       "model_id": "f5f98f0b67bb4509aca6b7308dfc239d",
       "version_major": 2,
       "version_minor": 0
      },
      "text/plain": [
       "Validation: |          | 0/? [00:00<?, ?it/s]"
      ]
     },
     "metadata": {},
     "output_type": "display_data"
    },
    {
     "data": {
      "application/vnd.jupyter.widget-view+json": {
       "model_id": "7ef87ddd605243c5b7cf300253e4d6fd",
       "version_major": 2,
       "version_minor": 0
      },
      "text/plain": [
       "Validation: |          | 0/? [00:00<?, ?it/s]"
      ]
     },
     "metadata": {},
     "output_type": "display_data"
    },
    {
     "data": {
      "application/vnd.jupyter.widget-view+json": {
       "model_id": "8164622079e24e469548096c79924f07",
       "version_major": 2,
       "version_minor": 0
      },
      "text/plain": [
       "Validation: |          | 0/? [00:00<?, ?it/s]"
      ]
     },
     "metadata": {},
     "output_type": "display_data"
    },
    {
     "data": {
      "application/vnd.jupyter.widget-view+json": {
       "model_id": "f69dcd2f15b3415bba0c64b1182658f4",
       "version_major": 2,
       "version_minor": 0
      },
      "text/plain": [
       "Validation: |          | 0/? [00:00<?, ?it/s]"
      ]
     },
     "metadata": {},
     "output_type": "display_data"
    },
    {
     "data": {
      "application/vnd.jupyter.widget-view+json": {
       "model_id": "bedcde60333a42b994612c56012fe445",
       "version_major": 2,
       "version_minor": 0
      },
      "text/plain": [
       "Validation: |          | 0/? [00:00<?, ?it/s]"
      ]
     },
     "metadata": {},
     "output_type": "display_data"
    },
    {
     "data": {
      "application/vnd.jupyter.widget-view+json": {
       "model_id": "4d8518daccfc4ef0ac38d53414b8fc20",
       "version_major": 2,
       "version_minor": 0
      },
      "text/plain": [
       "Validation: |          | 0/? [00:00<?, ?it/s]"
      ]
     },
     "metadata": {},
     "output_type": "display_data"
    },
    {
     "data": {
      "application/vnd.jupyter.widget-view+json": {
       "model_id": "5a02b7d47a704552bf32243e8a56d75c",
       "version_major": 2,
       "version_minor": 0
      },
      "text/plain": [
       "Validation: |          | 0/? [00:00<?, ?it/s]"
      ]
     },
     "metadata": {},
     "output_type": "display_data"
    },
    {
     "data": {
      "application/vnd.jupyter.widget-view+json": {
       "model_id": "9fe9c2fa9bc54efba23fdbbb3b7c55ee",
       "version_major": 2,
       "version_minor": 0
      },
      "text/plain": [
       "Validation: |          | 0/? [00:00<?, ?it/s]"
      ]
     },
     "metadata": {},
     "output_type": "display_data"
    },
    {
     "data": {
      "application/vnd.jupyter.widget-view+json": {
       "model_id": "18038d73e05b4ee3a21813222d5ba724",
       "version_major": 2,
       "version_minor": 0
      },
      "text/plain": [
       "Validation: |          | 0/? [00:00<?, ?it/s]"
      ]
     },
     "metadata": {},
     "output_type": "display_data"
    },
    {
     "data": {
      "application/vnd.jupyter.widget-view+json": {
       "model_id": "9c0ebd4f339645e68e129eb75aeeef86",
       "version_major": 2,
       "version_minor": 0
      },
      "text/plain": [
       "Validation: |          | 0/? [00:00<?, ?it/s]"
      ]
     },
     "metadata": {},
     "output_type": "display_data"
    },
    {
     "data": {
      "application/vnd.jupyter.widget-view+json": {
       "model_id": "d7a67ed947334372872cb1363b172d0e",
       "version_major": 2,
       "version_minor": 0
      },
      "text/plain": [
       "Validation: |          | 0/? [00:00<?, ?it/s]"
      ]
     },
     "metadata": {},
     "output_type": "display_data"
    },
    {
     "data": {
      "application/vnd.jupyter.widget-view+json": {
       "model_id": "3a89cff994334f70875d67ec2223d567",
       "version_major": 2,
       "version_minor": 0
      },
      "text/plain": [
       "Validation: |          | 0/? [00:00<?, ?it/s]"
      ]
     },
     "metadata": {},
     "output_type": "display_data"
    },
    {
     "data": {
      "application/vnd.jupyter.widget-view+json": {
       "model_id": "70a9f358a5664541889e6855c27c655b",
       "version_major": 2,
       "version_minor": 0
      },
      "text/plain": [
       "Validation: |          | 0/? [00:00<?, ?it/s]"
      ]
     },
     "metadata": {},
     "output_type": "display_data"
    },
    {
     "data": {
      "application/vnd.jupyter.widget-view+json": {
       "model_id": "d23997ae65f041c6acc67275a3d3be2a",
       "version_major": 2,
       "version_minor": 0
      },
      "text/plain": [
       "Validation: |          | 0/? [00:00<?, ?it/s]"
      ]
     },
     "metadata": {},
     "output_type": "display_data"
    },
    {
     "data": {
      "application/vnd.jupyter.widget-view+json": {
       "model_id": "6021b36f4e014fd4a29d31bd22140d13",
       "version_major": 2,
       "version_minor": 0
      },
      "text/plain": [
       "Validation: |          | 0/? [00:00<?, ?it/s]"
      ]
     },
     "metadata": {},
     "output_type": "display_data"
    },
    {
     "data": {
      "application/vnd.jupyter.widget-view+json": {
       "model_id": "10d2c665aa65487d9f687fdf8eb91958",
       "version_major": 2,
       "version_minor": 0
      },
      "text/plain": [
       "Validation: |          | 0/? [00:00<?, ?it/s]"
      ]
     },
     "metadata": {},
     "output_type": "display_data"
    },
    {
     "data": {
      "application/vnd.jupyter.widget-view+json": {
       "model_id": "b3f034744554455da0f1bd383215c67b",
       "version_major": 2,
       "version_minor": 0
      },
      "text/plain": [
       "Validation: |          | 0/? [00:00<?, ?it/s]"
      ]
     },
     "metadata": {},
     "output_type": "display_data"
    },
    {
     "name": "stderr",
     "output_type": "stream",
     "text": [
      "LOCAL_RANK: 0 - CUDA_VISIBLE_DEVICES: [0]\n",
      "LOCAL_RANK: 0 - CUDA_VISIBLE_DEVICES: [0]\n",
      "LOCAL_RANK: 0 - CUDA_VISIBLE_DEVICES: [0]\n",
      "LOCAL_RANK: 0 - CUDA_VISIBLE_DEVICES: [0]\n",
      "LOCAL_RANK: 0 - CUDA_VISIBLE_DEVICES: [0]\n",
      "LOCAL_RANK: 0 - CUDA_VISIBLE_DEVICES: [0]\n",
      "LOCAL_RANK: 0 - CUDA_VISIBLE_DEVICES: [0]\n",
      "LOCAL_RANK: 0 - CUDA_VISIBLE_DEVICES: [0]\n",
      "LOCAL_RANK: 0 - CUDA_VISIBLE_DEVICES: [0]\n",
      "LOCAL_RANK: 0 - CUDA_VISIBLE_DEVICES: [0]\n",
      "LOCAL_RANK: 0 - CUDA_VISIBLE_DEVICES: [0]\n",
      "LOCAL_RANK: 0 - CUDA_VISIBLE_DEVICES: [0]\n",
      "LOCAL_RANK: 0 - CUDA_VISIBLE_DEVICES: [0]\n",
      "LOCAL_RANK: 0 - CUDA_VISIBLE_DEVICES: [0]\n",
      "LOCAL_RANK: 0 - CUDA_VISIBLE_DEVICES: [0]\n",
      "LOCAL_RANK: 0 - CUDA_VISIBLE_DEVICES: [0]\n",
      "LOCAL_RANK: 0 - CUDA_VISIBLE_DEVICES: [0]\n",
      "LOCAL_RANK: 0 - CUDA_VISIBLE_DEVICES: [0]\n",
      "Seed set to 1337\n"
     ]
    },
    {
     "name": "stdout",
     "output_type": "stream",
     "text": [
      "Euro Court Cases [{'other': 'Blog Authorship', 'test_loss': 3.750967264175415, 'test_acc@0.5': 0.46289753913879395, 'test_acc@best': 0.5300353169441223, 'test_roc_auc': 0.26654136180877686}, {'other': 'Student Essays', 'test_loss': 1.239440679550171, 'test_acc@0.5': 0.75, 'test_acc@best': 0.7433333396911621, 'test_roc_auc': 0.8228444457054138}, {'other': 'CNN News', 'test_loss': 0.4872305989265442, 'test_acc@0.5': 0.8533333539962769, 'test_acc@best': 0.8366666436195374, 'test_roc_auc': 0.9318666458129883}, {'other': 'Euro Court Cases', 'test_loss': 0.12037040293216705, 'test_acc@0.5': 0.95333331823349, 'test_acc@best': 0.9633333086967468, 'test_roc_auc': 0.9942666888237}, {'other': 'House of Commons', 'test_loss': 0.5555992126464844, 'test_acc@0.5': 0.8523489832878113, 'test_acc@best': 0.8456375598907471, 'test_roc_auc': 0.9129729866981506}, {'other': 'ArXiv Papers', 'test_loss': 0.5808747410774231, 'test_acc@0.5': 0.8839590549468994, 'test_acc@best': 0.8771331310272217, 'test_roc_auc': 0.9197651743888855}, {'other': 'Gutenberg', 'test_loss': 0.8145835995674133, 'test_acc@0.5': 0.7800687551498413, 'test_acc@best': 0.7731958627700806, 'test_roc_auc': 0.8719149231910706}, {'other': 'Bundestag [DE]', 'test_loss': 6.211577892303467, 'test_acc@0.5': 0.49484536051750183, 'test_acc@best': 0.5326460599899292, 'test_roc_auc': 0.5692881941795349}, {'other': 'Spiegel [DE]', 'test_loss': 5.682788848876953, 'test_acc@0.5': 0.5016722679138184, 'test_acc@best': 0.5317725539207458, 'test_roc_auc': 0.5009396076202393}]\n"
     ]
    },
    {
     "name": "stderr",
     "output_type": "stream",
     "text": [
      "GPU available: True (cuda), used: True\n",
      "TPU available: False, using: 0 TPU cores\n",
      "HPU available: False, using: 0 HPUs\n",
      "/home/mastoeck/Projects/PrismAI/PrismAI/.venv/lib/python3.12/site-packages/lightning/pytorch/utilities/parsing.py:45: Attribute 'feature_dim' removed from hparams because it cannot be pickled. You can suppress this warning by setting `self.save_hyperparameters(ignore=['feature_dim'])`.\n",
      "LOCAL_RANK: 0 - CUDA_VISIBLE_DEVICES: [0]\n",
      "Loading `train_dataloader` to estimate number of stepping batches.\n",
      "\n",
      "  | Name        | Type              | Params | Mode  | In sizes    | Out sizes  \n",
      "--------------------------------------------------------------------------------------\n",
      "0 | conv_layers | Sequential        | 152 K  | train | ?           | ?          \n",
      "1 | projection  | Identity          | 0      | train | [32, 16384] | [32, 16384]\n",
      "2 | classifier  | Linear            | 16.4 K | train | [32, 16384] | [32, 1]    \n",
      "3 | criterion   | BCEWithLogitsLoss | 0      | train | ?           | ?          \n",
      "--------------------------------------------------------------------------------------\n",
      "168 K     Trainable params\n",
      "0         Non-trainable params\n",
      "168 K     Total params\n",
      "0.674     Total estimated model params size (MB)\n",
      "15        Modules in train mode\n",
      "0         Modules in eval mode\n"
     ]
    },
    {
     "data": {
      "application/vnd.jupyter.widget-view+json": {
       "model_id": "37063307cd6c4f419078d8535f97f65c",
       "version_major": 2,
       "version_minor": 0
      },
      "text/plain": [
       "Sanity Checking: |          | 0/? [00:00<?, ?it/s]"
      ]
     },
     "metadata": {},
     "output_type": "display_data"
    },
    {
     "data": {
      "application/vnd.jupyter.widget-view+json": {
       "model_id": "a385e33d0b9140ab8d14ac397dfc6673",
       "version_major": 2,
       "version_minor": 0
      },
      "text/plain": [
       "Training: |          | 0/? [00:00<?, ?it/s]"
      ]
     },
     "metadata": {},
     "output_type": "display_data"
    },
    {
     "data": {
      "application/vnd.jupyter.widget-view+json": {
       "model_id": "c33de75300b0462fac079e57d7d06e5b",
       "version_major": 2,
       "version_minor": 0
      },
      "text/plain": [
       "Validation: |          | 0/? [00:00<?, ?it/s]"
      ]
     },
     "metadata": {},
     "output_type": "display_data"
    },
    {
     "data": {
      "application/vnd.jupyter.widget-view+json": {
       "model_id": "fcdba557d7c547b1b78c6c54add1ac04",
       "version_major": 2,
       "version_minor": 0
      },
      "text/plain": [
       "Validation: |          | 0/? [00:00<?, ?it/s]"
      ]
     },
     "metadata": {},
     "output_type": "display_data"
    },
    {
     "data": {
      "application/vnd.jupyter.widget-view+json": {
       "model_id": "e73b450889be4c62a59e2368175817d2",
       "version_major": 2,
       "version_minor": 0
      },
      "text/plain": [
       "Validation: |          | 0/? [00:00<?, ?it/s]"
      ]
     },
     "metadata": {},
     "output_type": "display_data"
    },
    {
     "data": {
      "application/vnd.jupyter.widget-view+json": {
       "model_id": "0b8b11153610435f8700bff0616d1caa",
       "version_major": 2,
       "version_minor": 0
      },
      "text/plain": [
       "Validation: |          | 0/? [00:00<?, ?it/s]"
      ]
     },
     "metadata": {},
     "output_type": "display_data"
    },
    {
     "data": {
      "application/vnd.jupyter.widget-view+json": {
       "model_id": "168f837b5c104f678824895696b052f6",
       "version_major": 2,
       "version_minor": 0
      },
      "text/plain": [
       "Validation: |          | 0/? [00:00<?, ?it/s]"
      ]
     },
     "metadata": {},
     "output_type": "display_data"
    },
    {
     "data": {
      "application/vnd.jupyter.widget-view+json": {
       "model_id": "aa346f0f95fb4b7bb5b4137d9e31b7da",
       "version_major": 2,
       "version_minor": 0
      },
      "text/plain": [
       "Validation: |          | 0/? [00:00<?, ?it/s]"
      ]
     },
     "metadata": {},
     "output_type": "display_data"
    },
    {
     "data": {
      "application/vnd.jupyter.widget-view+json": {
       "model_id": "ac72d1de637e42b5a210e50efda4c356",
       "version_major": 2,
       "version_minor": 0
      },
      "text/plain": [
       "Validation: |          | 0/? [00:00<?, ?it/s]"
      ]
     },
     "metadata": {},
     "output_type": "display_data"
    },
    {
     "data": {
      "application/vnd.jupyter.widget-view+json": {
       "model_id": "062dc9b347bb4a26813ddeeb60726c15",
       "version_major": 2,
       "version_minor": 0
      },
      "text/plain": [
       "Validation: |          | 0/? [00:00<?, ?it/s]"
      ]
     },
     "metadata": {},
     "output_type": "display_data"
    },
    {
     "data": {
      "application/vnd.jupyter.widget-view+json": {
       "model_id": "9eb074e52b434a2da23645dbc127f712",
       "version_major": 2,
       "version_minor": 0
      },
      "text/plain": [
       "Validation: |          | 0/? [00:00<?, ?it/s]"
      ]
     },
     "metadata": {},
     "output_type": "display_data"
    },
    {
     "data": {
      "application/vnd.jupyter.widget-view+json": {
       "model_id": "f940daba5c3b40cb812ffa9251780c95",
       "version_major": 2,
       "version_minor": 0
      },
      "text/plain": [
       "Validation: |          | 0/? [00:00<?, ?it/s]"
      ]
     },
     "metadata": {},
     "output_type": "display_data"
    },
    {
     "data": {
      "application/vnd.jupyter.widget-view+json": {
       "model_id": "a19e7560a56248f5afb899361a929445",
       "version_major": 2,
       "version_minor": 0
      },
      "text/plain": [
       "Validation: |          | 0/? [00:00<?, ?it/s]"
      ]
     },
     "metadata": {},
     "output_type": "display_data"
    },
    {
     "data": {
      "application/vnd.jupyter.widget-view+json": {
       "model_id": "f7d0b53c1c71454aaac93163ba6d1ae0",
       "version_major": 2,
       "version_minor": 0
      },
      "text/plain": [
       "Validation: |          | 0/? [00:00<?, ?it/s]"
      ]
     },
     "metadata": {},
     "output_type": "display_data"
    },
    {
     "data": {
      "application/vnd.jupyter.widget-view+json": {
       "model_id": "aff79678acd84dc2bed3863feacc00ca",
       "version_major": 2,
       "version_minor": 0
      },
      "text/plain": [
       "Validation: |          | 0/? [00:00<?, ?it/s]"
      ]
     },
     "metadata": {},
     "output_type": "display_data"
    },
    {
     "data": {
      "application/vnd.jupyter.widget-view+json": {
       "model_id": "a22d04753e66413583ea299b5054c053",
       "version_major": 2,
       "version_minor": 0
      },
      "text/plain": [
       "Validation: |          | 0/? [00:00<?, ?it/s]"
      ]
     },
     "metadata": {},
     "output_type": "display_data"
    },
    {
     "data": {
      "application/vnd.jupyter.widget-view+json": {
       "model_id": "d04a0ece9bfe41389024306f2b2fe652",
       "version_major": 2,
       "version_minor": 0
      },
      "text/plain": [
       "Validation: |          | 0/? [00:00<?, ?it/s]"
      ]
     },
     "metadata": {},
     "output_type": "display_data"
    },
    {
     "data": {
      "application/vnd.jupyter.widget-view+json": {
       "model_id": "91dc5bf39e4f46b38a336c319d79f90a",
       "version_major": 2,
       "version_minor": 0
      },
      "text/plain": [
       "Validation: |          | 0/? [00:00<?, ?it/s]"
      ]
     },
     "metadata": {},
     "output_type": "display_data"
    },
    {
     "data": {
      "application/vnd.jupyter.widget-view+json": {
       "model_id": "19860c3f04db4cb0881f48a3547ae049",
       "version_major": 2,
       "version_minor": 0
      },
      "text/plain": [
       "Validation: |          | 0/? [00:00<?, ?it/s]"
      ]
     },
     "metadata": {},
     "output_type": "display_data"
    },
    {
     "data": {
      "application/vnd.jupyter.widget-view+json": {
       "model_id": "bd224ff20c1f4b31b85ad7f3a14a311f",
       "version_major": 2,
       "version_minor": 0
      },
      "text/plain": [
       "Validation: |          | 0/? [00:00<?, ?it/s]"
      ]
     },
     "metadata": {},
     "output_type": "display_data"
    },
    {
     "data": {
      "application/vnd.jupyter.widget-view+json": {
       "model_id": "aaee3b205bee47809f0737ef28312f8e",
       "version_major": 2,
       "version_minor": 0
      },
      "text/plain": [
       "Validation: |          | 0/? [00:00<?, ?it/s]"
      ]
     },
     "metadata": {},
     "output_type": "display_data"
    },
    {
     "data": {
      "application/vnd.jupyter.widget-view+json": {
       "model_id": "301e038a36fe46a9a59d45af03e72cec",
       "version_major": 2,
       "version_minor": 0
      },
      "text/plain": [
       "Validation: |          | 0/? [00:00<?, ?it/s]"
      ]
     },
     "metadata": {},
     "output_type": "display_data"
    },
    {
     "name": "stderr",
     "output_type": "stream",
     "text": [
      "LOCAL_RANK: 0 - CUDA_VISIBLE_DEVICES: [0]\n",
      "LOCAL_RANK: 0 - CUDA_VISIBLE_DEVICES: [0]\n",
      "LOCAL_RANK: 0 - CUDA_VISIBLE_DEVICES: [0]\n",
      "LOCAL_RANK: 0 - CUDA_VISIBLE_DEVICES: [0]\n",
      "LOCAL_RANK: 0 - CUDA_VISIBLE_DEVICES: [0]\n",
      "LOCAL_RANK: 0 - CUDA_VISIBLE_DEVICES: [0]\n",
      "LOCAL_RANK: 0 - CUDA_VISIBLE_DEVICES: [0]\n",
      "LOCAL_RANK: 0 - CUDA_VISIBLE_DEVICES: [0]\n",
      "LOCAL_RANK: 0 - CUDA_VISIBLE_DEVICES: [0]\n",
      "LOCAL_RANK: 0 - CUDA_VISIBLE_DEVICES: [0]\n",
      "LOCAL_RANK: 0 - CUDA_VISIBLE_DEVICES: [0]\n",
      "LOCAL_RANK: 0 - CUDA_VISIBLE_DEVICES: [0]\n",
      "LOCAL_RANK: 0 - CUDA_VISIBLE_DEVICES: [0]\n",
      "LOCAL_RANK: 0 - CUDA_VISIBLE_DEVICES: [0]\n",
      "LOCAL_RANK: 0 - CUDA_VISIBLE_DEVICES: [0]\n",
      "LOCAL_RANK: 0 - CUDA_VISIBLE_DEVICES: [0]\n",
      "LOCAL_RANK: 0 - CUDA_VISIBLE_DEVICES: [0]\n",
      "LOCAL_RANK: 0 - CUDA_VISIBLE_DEVICES: [0]\n",
      "Seed set to 1337\n"
     ]
    },
    {
     "name": "stdout",
     "output_type": "stream",
     "text": [
      "House of Commons [{'other': 'Blog Authorship', 'test_loss': 1.6250951290130615, 'test_acc@0.5': 0.4098939895629883, 'test_acc@best': 0.5123674869537354, 'test_roc_auc': 0.4286716878414154}, {'other': 'Student Essays', 'test_loss': 0.5336195826530457, 'test_acc@0.5': 0.8266666531562805, 'test_acc@best': 0.8199999928474426, 'test_roc_auc': 0.9189333319664001}, {'other': 'CNN News', 'test_loss': 0.5140358805656433, 'test_acc@0.5': 0.8066666722297668, 'test_acc@best': 0.7933333516120911, 'test_roc_auc': 0.9035999774932861}, {'other': 'Euro Court Cases', 'test_loss': 0.6002725958824158, 'test_acc@0.5': 0.8299999833106995, 'test_acc@best': 0.8100000023841858, 'test_roc_auc': 0.9213777780532837}, {'other': 'House of Commons', 'test_loss': 0.23081710934638977, 'test_acc@0.5': 0.9161073565483093, 'test_acc@best': 0.9228187799453735, 'test_roc_auc': 0.9741891622543335}, {'other': 'ArXiv Papers', 'test_loss': 0.3865963816642761, 'test_acc@0.5': 0.8976109027862549, 'test_acc@best': 0.894197940826416, 'test_roc_auc': 0.9358866810798645}, {'other': 'Gutenberg', 'test_loss': 0.7638420462608337, 'test_acc@0.5': 0.7835051417350769, 'test_acc@best': 0.8213058710098267, 'test_roc_auc': 0.882033109664917}, {'other': 'Bundestag [DE]', 'test_loss': 3.1861302852630615, 'test_acc@0.5': 0.49140894412994385, 'test_acc@best': 0.6666666865348816, 'test_roc_auc': 0.7134889960289001}, {'other': 'Spiegel [DE]', 'test_loss': 3.335517168045044, 'test_acc@0.5': 0.5016722679138184, 'test_acc@best': 0.5819398164749146, 'test_roc_auc': 0.6538702249526978}]\n"
     ]
    },
    {
     "name": "stderr",
     "output_type": "stream",
     "text": [
      "GPU available: True (cuda), used: True\n",
      "TPU available: False, using: 0 TPU cores\n",
      "HPU available: False, using: 0 HPUs\n",
      "/home/mastoeck/Projects/PrismAI/PrismAI/.venv/lib/python3.12/site-packages/lightning/pytorch/utilities/parsing.py:45: Attribute 'feature_dim' removed from hparams because it cannot be pickled. You can suppress this warning by setting `self.save_hyperparameters(ignore=['feature_dim'])`.\n",
      "LOCAL_RANK: 0 - CUDA_VISIBLE_DEVICES: [0]\n",
      "Loading `train_dataloader` to estimate number of stepping batches.\n",
      "\n",
      "  | Name        | Type              | Params | Mode  | In sizes    | Out sizes  \n",
      "--------------------------------------------------------------------------------------\n",
      "0 | conv_layers | Sequential        | 152 K  | train | ?           | ?          \n",
      "1 | projection  | Identity          | 0      | train | [32, 16384] | [32, 16384]\n",
      "2 | classifier  | Linear            | 16.4 K | train | [32, 16384] | [32, 1]    \n",
      "3 | criterion   | BCEWithLogitsLoss | 0      | train | ?           | ?          \n",
      "--------------------------------------------------------------------------------------\n",
      "168 K     Trainable params\n",
      "0         Non-trainable params\n",
      "168 K     Total params\n",
      "0.674     Total estimated model params size (MB)\n",
      "15        Modules in train mode\n",
      "0         Modules in eval mode\n"
     ]
    },
    {
     "data": {
      "application/vnd.jupyter.widget-view+json": {
       "model_id": "5db6e25290254dbb82ccc020b347b068",
       "version_major": 2,
       "version_minor": 0
      },
      "text/plain": [
       "Sanity Checking: |          | 0/? [00:00<?, ?it/s]"
      ]
     },
     "metadata": {},
     "output_type": "display_data"
    },
    {
     "data": {
      "application/vnd.jupyter.widget-view+json": {
       "model_id": "1547a15d74bc41eeb443f86676c86a80",
       "version_major": 2,
       "version_minor": 0
      },
      "text/plain": [
       "Training: |          | 0/? [00:00<?, ?it/s]"
      ]
     },
     "metadata": {},
     "output_type": "display_data"
    },
    {
     "data": {
      "application/vnd.jupyter.widget-view+json": {
       "model_id": "0683d6b63d204eedb9f15f4b696417a5",
       "version_major": 2,
       "version_minor": 0
      },
      "text/plain": [
       "Validation: |          | 0/? [00:00<?, ?it/s]"
      ]
     },
     "metadata": {},
     "output_type": "display_data"
    },
    {
     "data": {
      "application/vnd.jupyter.widget-view+json": {
       "model_id": "52b510fe4d09476d80f70618cfceb162",
       "version_major": 2,
       "version_minor": 0
      },
      "text/plain": [
       "Validation: |          | 0/? [00:00<?, ?it/s]"
      ]
     },
     "metadata": {},
     "output_type": "display_data"
    },
    {
     "data": {
      "application/vnd.jupyter.widget-view+json": {
       "model_id": "37263f32d11e4046972311eab641e0a0",
       "version_major": 2,
       "version_minor": 0
      },
      "text/plain": [
       "Validation: |          | 0/? [00:00<?, ?it/s]"
      ]
     },
     "metadata": {},
     "output_type": "display_data"
    },
    {
     "data": {
      "application/vnd.jupyter.widget-view+json": {
       "model_id": "30c19cd0f7e247ce94b8bd325540beb3",
       "version_major": 2,
       "version_minor": 0
      },
      "text/plain": [
       "Validation: |          | 0/? [00:00<?, ?it/s]"
      ]
     },
     "metadata": {},
     "output_type": "display_data"
    },
    {
     "data": {
      "application/vnd.jupyter.widget-view+json": {
       "model_id": "33d38dfd71224186b109d3336ae86473",
       "version_major": 2,
       "version_minor": 0
      },
      "text/plain": [
       "Validation: |          | 0/? [00:00<?, ?it/s]"
      ]
     },
     "metadata": {},
     "output_type": "display_data"
    },
    {
     "data": {
      "application/vnd.jupyter.widget-view+json": {
       "model_id": "bb4d3c3614a74fc1b757ecbbf063a113",
       "version_major": 2,
       "version_minor": 0
      },
      "text/plain": [
       "Validation: |          | 0/? [00:00<?, ?it/s]"
      ]
     },
     "metadata": {},
     "output_type": "display_data"
    },
    {
     "data": {
      "application/vnd.jupyter.widget-view+json": {
       "model_id": "438110f009d64b30922ff2492c46b9f8",
       "version_major": 2,
       "version_minor": 0
      },
      "text/plain": [
       "Validation: |          | 0/? [00:00<?, ?it/s]"
      ]
     },
     "metadata": {},
     "output_type": "display_data"
    },
    {
     "data": {
      "application/vnd.jupyter.widget-view+json": {
       "model_id": "8fd738db0367490aa23c6110387f364b",
       "version_major": 2,
       "version_minor": 0
      },
      "text/plain": [
       "Validation: |          | 0/? [00:00<?, ?it/s]"
      ]
     },
     "metadata": {},
     "output_type": "display_data"
    },
    {
     "data": {
      "application/vnd.jupyter.widget-view+json": {
       "model_id": "b0374d3182434468be0edadeda618f6b",
       "version_major": 2,
       "version_minor": 0
      },
      "text/plain": [
       "Validation: |          | 0/? [00:00<?, ?it/s]"
      ]
     },
     "metadata": {},
     "output_type": "display_data"
    },
    {
     "data": {
      "application/vnd.jupyter.widget-view+json": {
       "model_id": "a8e541308f51412fb8616a6471fa6402",
       "version_major": 2,
       "version_minor": 0
      },
      "text/plain": [
       "Validation: |          | 0/? [00:00<?, ?it/s]"
      ]
     },
     "metadata": {},
     "output_type": "display_data"
    },
    {
     "data": {
      "application/vnd.jupyter.widget-view+json": {
       "model_id": "6714cec8624f403892415cc35c3a6cab",
       "version_major": 2,
       "version_minor": 0
      },
      "text/plain": [
       "Validation: |          | 0/? [00:00<?, ?it/s]"
      ]
     },
     "metadata": {},
     "output_type": "display_data"
    },
    {
     "data": {
      "application/vnd.jupyter.widget-view+json": {
       "model_id": "5e3edb9cd0de4af98104a55bd3522994",
       "version_major": 2,
       "version_minor": 0
      },
      "text/plain": [
       "Validation: |          | 0/? [00:00<?, ?it/s]"
      ]
     },
     "metadata": {},
     "output_type": "display_data"
    },
    {
     "data": {
      "application/vnd.jupyter.widget-view+json": {
       "model_id": "1e6e0b30a3ac439b92bdb01165886fcc",
       "version_major": 2,
       "version_minor": 0
      },
      "text/plain": [
       "Validation: |          | 0/? [00:00<?, ?it/s]"
      ]
     },
     "metadata": {},
     "output_type": "display_data"
    },
    {
     "data": {
      "application/vnd.jupyter.widget-view+json": {
       "model_id": "31223c16b283498dabdac903fa13c6a3",
       "version_major": 2,
       "version_minor": 0
      },
      "text/plain": [
       "Validation: |          | 0/? [00:00<?, ?it/s]"
      ]
     },
     "metadata": {},
     "output_type": "display_data"
    },
    {
     "data": {
      "application/vnd.jupyter.widget-view+json": {
       "model_id": "7950115cdb1f48d49badd4e9980d2217",
       "version_major": 2,
       "version_minor": 0
      },
      "text/plain": [
       "Validation: |          | 0/? [00:00<?, ?it/s]"
      ]
     },
     "metadata": {},
     "output_type": "display_data"
    },
    {
     "data": {
      "application/vnd.jupyter.widget-view+json": {
       "model_id": "3db24abb4f2f4953a7227d052ef369cb",
       "version_major": 2,
       "version_minor": 0
      },
      "text/plain": [
       "Validation: |          | 0/? [00:00<?, ?it/s]"
      ]
     },
     "metadata": {},
     "output_type": "display_data"
    },
    {
     "data": {
      "application/vnd.jupyter.widget-view+json": {
       "model_id": "a8be9092ee5642638624600ae932a4e9",
       "version_major": 2,
       "version_minor": 0
      },
      "text/plain": [
       "Validation: |          | 0/? [00:00<?, ?it/s]"
      ]
     },
     "metadata": {},
     "output_type": "display_data"
    },
    {
     "data": {
      "application/vnd.jupyter.widget-view+json": {
       "model_id": "fe02cd5395064757a55c7efd3d729619",
       "version_major": 2,
       "version_minor": 0
      },
      "text/plain": [
       "Validation: |          | 0/? [00:00<?, ?it/s]"
      ]
     },
     "metadata": {},
     "output_type": "display_data"
    },
    {
     "name": "stderr",
     "output_type": "stream",
     "text": [
      "LOCAL_RANK: 0 - CUDA_VISIBLE_DEVICES: [0]\n",
      "LOCAL_RANK: 0 - CUDA_VISIBLE_DEVICES: [0]\n",
      "LOCAL_RANK: 0 - CUDA_VISIBLE_DEVICES: [0]\n",
      "LOCAL_RANK: 0 - CUDA_VISIBLE_DEVICES: [0]\n",
      "LOCAL_RANK: 0 - CUDA_VISIBLE_DEVICES: [0]\n",
      "LOCAL_RANK: 0 - CUDA_VISIBLE_DEVICES: [0]\n",
      "LOCAL_RANK: 0 - CUDA_VISIBLE_DEVICES: [0]\n",
      "LOCAL_RANK: 0 - CUDA_VISIBLE_DEVICES: [0]\n",
      "LOCAL_RANK: 0 - CUDA_VISIBLE_DEVICES: [0]\n",
      "LOCAL_RANK: 0 - CUDA_VISIBLE_DEVICES: [0]\n",
      "LOCAL_RANK: 0 - CUDA_VISIBLE_DEVICES: [0]\n",
      "LOCAL_RANK: 0 - CUDA_VISIBLE_DEVICES: [0]\n",
      "LOCAL_RANK: 0 - CUDA_VISIBLE_DEVICES: [0]\n",
      "LOCAL_RANK: 0 - CUDA_VISIBLE_DEVICES: [0]\n",
      "LOCAL_RANK: 0 - CUDA_VISIBLE_DEVICES: [0]\n",
      "LOCAL_RANK: 0 - CUDA_VISIBLE_DEVICES: [0]\n",
      "LOCAL_RANK: 0 - CUDA_VISIBLE_DEVICES: [0]\n",
      "LOCAL_RANK: 0 - CUDA_VISIBLE_DEVICES: [0]\n",
      "Seed set to 1337\n"
     ]
    },
    {
     "name": "stdout",
     "output_type": "stream",
     "text": [
      "ArXiv Papers [{'other': 'Blog Authorship', 'test_loss': 3.663987159729004, 'test_acc@0.5': 0.5017668008804321, 'test_acc@best': 0.5441696047782898, 'test_roc_auc': 0.5705012679100037}, {'other': 'Student Essays', 'test_loss': 0.6074722409248352, 'test_acc@0.5': 0.800000011920929, 'test_acc@best': 0.79666668176651, 'test_roc_auc': 0.8910222053527832}, {'other': 'CNN News', 'test_loss': 0.47591787576675415, 'test_acc@0.5': 0.8100000023841858, 'test_acc@best': 0.8233333230018616, 'test_roc_auc': 0.8979555368423462}, {'other': 'Euro Court Cases', 'test_loss': 0.6954304575920105, 'test_acc@0.5': 0.7599999904632568, 'test_acc@best': 0.8266666531562805, 'test_roc_auc': 0.9099110960960388}, {'other': 'House of Commons', 'test_loss': 0.6852285265922546, 'test_acc@0.5': 0.8389261960983276, 'test_acc@best': 0.8590604066848755, 'test_roc_auc': 0.8872522711753845}, {'other': 'ArXiv Papers', 'test_loss': 0.1830557882785797, 'test_acc@0.5': 0.9317406415939331, 'test_acc@best': 0.9215016961097717, 'test_roc_auc': 0.9794986248016357}, {'other': 'Gutenberg', 'test_loss': 0.5761012434959412, 'test_acc@0.5': 0.8178694248199463, 'test_acc@best': 0.838487982749939, 'test_roc_auc': 0.9111111164093018}, {'other': 'Bundestag [DE]', 'test_loss': 2.2733447551727295, 'test_acc@0.5': 0.49140894412994385, 'test_acc@best': 0.5910652875900269, 'test_roc_auc': 0.6036959886550903}, {'other': 'Spiegel [DE]', 'test_loss': 2.197226047515869, 'test_acc@0.5': 0.49163880944252014, 'test_acc@best': 0.5016722679138184, 'test_roc_auc': 0.4978523552417755}]\n"
     ]
    },
    {
     "name": "stderr",
     "output_type": "stream",
     "text": [
      "GPU available: True (cuda), used: True\n",
      "TPU available: False, using: 0 TPU cores\n",
      "HPU available: False, using: 0 HPUs\n",
      "/home/mastoeck/Projects/PrismAI/PrismAI/.venv/lib/python3.12/site-packages/lightning/pytorch/utilities/parsing.py:45: Attribute 'feature_dim' removed from hparams because it cannot be pickled. You can suppress this warning by setting `self.save_hyperparameters(ignore=['feature_dim'])`.\n",
      "LOCAL_RANK: 0 - CUDA_VISIBLE_DEVICES: [0]\n",
      "Loading `train_dataloader` to estimate number of stepping batches.\n",
      "\n",
      "  | Name        | Type              | Params | Mode  | In sizes    | Out sizes  \n",
      "--------------------------------------------------------------------------------------\n",
      "0 | conv_layers | Sequential        | 152 K  | train | ?           | ?          \n",
      "1 | projection  | Identity          | 0      | train | [32, 16384] | [32, 16384]\n",
      "2 | classifier  | Linear            | 16.4 K | train | [32, 16384] | [32, 1]    \n",
      "3 | criterion   | BCEWithLogitsLoss | 0      | train | ?           | ?          \n",
      "--------------------------------------------------------------------------------------\n",
      "168 K     Trainable params\n",
      "0         Non-trainable params\n",
      "168 K     Total params\n",
      "0.674     Total estimated model params size (MB)\n",
      "15        Modules in train mode\n",
      "0         Modules in eval mode\n"
     ]
    },
    {
     "data": {
      "application/vnd.jupyter.widget-view+json": {
       "model_id": "f84773df1ddd48209a2d98de445fb9e6",
       "version_major": 2,
       "version_minor": 0
      },
      "text/plain": [
       "Sanity Checking: |          | 0/? [00:00<?, ?it/s]"
      ]
     },
     "metadata": {},
     "output_type": "display_data"
    },
    {
     "data": {
      "application/vnd.jupyter.widget-view+json": {
       "model_id": "2cf3df04f02a4f98a02497a26d0663b4",
       "version_major": 2,
       "version_minor": 0
      },
      "text/plain": [
       "Training: |          | 0/? [00:00<?, ?it/s]"
      ]
     },
     "metadata": {},
     "output_type": "display_data"
    },
    {
     "data": {
      "application/vnd.jupyter.widget-view+json": {
       "model_id": "5da3acd757d344d28e6f0180ceecacb9",
       "version_major": 2,
       "version_minor": 0
      },
      "text/plain": [
       "Validation: |          | 0/? [00:00<?, ?it/s]"
      ]
     },
     "metadata": {},
     "output_type": "display_data"
    },
    {
     "data": {
      "application/vnd.jupyter.widget-view+json": {
       "model_id": "2002841af79e49a8aadf3c255fc5e4e4",
       "version_major": 2,
       "version_minor": 0
      },
      "text/plain": [
       "Validation: |          | 0/? [00:00<?, ?it/s]"
      ]
     },
     "metadata": {},
     "output_type": "display_data"
    },
    {
     "data": {
      "application/vnd.jupyter.widget-view+json": {
       "model_id": "96cbc4c4241d4050b6f7624272f3027c",
       "version_major": 2,
       "version_minor": 0
      },
      "text/plain": [
       "Validation: |          | 0/? [00:00<?, ?it/s]"
      ]
     },
     "metadata": {},
     "output_type": "display_data"
    },
    {
     "data": {
      "application/vnd.jupyter.widget-view+json": {
       "model_id": "8c3f70eb3f034c2eb5a75a0e5a3e50f0",
       "version_major": 2,
       "version_minor": 0
      },
      "text/plain": [
       "Validation: |          | 0/? [00:00<?, ?it/s]"
      ]
     },
     "metadata": {},
     "output_type": "display_data"
    },
    {
     "data": {
      "application/vnd.jupyter.widget-view+json": {
       "model_id": "2606cdf821ca470d9bd2e7bcc6b09c56",
       "version_major": 2,
       "version_minor": 0
      },
      "text/plain": [
       "Validation: |          | 0/? [00:00<?, ?it/s]"
      ]
     },
     "metadata": {},
     "output_type": "display_data"
    },
    {
     "data": {
      "application/vnd.jupyter.widget-view+json": {
       "model_id": "d61999e1d8914f20bf54905ef15fcf32",
       "version_major": 2,
       "version_minor": 0
      },
      "text/plain": [
       "Validation: |          | 0/? [00:00<?, ?it/s]"
      ]
     },
     "metadata": {},
     "output_type": "display_data"
    },
    {
     "data": {
      "application/vnd.jupyter.widget-view+json": {
       "model_id": "e332a0857bdf441c8598a38da31c85c8",
       "version_major": 2,
       "version_minor": 0
      },
      "text/plain": [
       "Validation: |          | 0/? [00:00<?, ?it/s]"
      ]
     },
     "metadata": {},
     "output_type": "display_data"
    },
    {
     "data": {
      "application/vnd.jupyter.widget-view+json": {
       "model_id": "f09955ae95aa4ce38cbb773f41dc68b1",
       "version_major": 2,
       "version_minor": 0
      },
      "text/plain": [
       "Validation: |          | 0/? [00:00<?, ?it/s]"
      ]
     },
     "metadata": {},
     "output_type": "display_data"
    },
    {
     "data": {
      "application/vnd.jupyter.widget-view+json": {
       "model_id": "10618f65ae2041d599b15a0b79c4f855",
       "version_major": 2,
       "version_minor": 0
      },
      "text/plain": [
       "Validation: |          | 0/? [00:00<?, ?it/s]"
      ]
     },
     "metadata": {},
     "output_type": "display_data"
    },
    {
     "data": {
      "application/vnd.jupyter.widget-view+json": {
       "model_id": "32cdaf7f70cf4735a2dab4fb34bcc102",
       "version_major": 2,
       "version_minor": 0
      },
      "text/plain": [
       "Validation: |          | 0/? [00:00<?, ?it/s]"
      ]
     },
     "metadata": {},
     "output_type": "display_data"
    },
    {
     "data": {
      "application/vnd.jupyter.widget-view+json": {
       "model_id": "d89bfa9915294afd94769ccd327d8967",
       "version_major": 2,
       "version_minor": 0
      },
      "text/plain": [
       "Validation: |          | 0/? [00:00<?, ?it/s]"
      ]
     },
     "metadata": {},
     "output_type": "display_data"
    },
    {
     "data": {
      "application/vnd.jupyter.widget-view+json": {
       "model_id": "1646c6c251a0428881876c192f4f2ead",
       "version_major": 2,
       "version_minor": 0
      },
      "text/plain": [
       "Validation: |          | 0/? [00:00<?, ?it/s]"
      ]
     },
     "metadata": {},
     "output_type": "display_data"
    },
    {
     "data": {
      "application/vnd.jupyter.widget-view+json": {
       "model_id": "ea32a259930f493c8189da2c04307e3d",
       "version_major": 2,
       "version_minor": 0
      },
      "text/plain": [
       "Validation: |          | 0/? [00:00<?, ?it/s]"
      ]
     },
     "metadata": {},
     "output_type": "display_data"
    },
    {
     "data": {
      "application/vnd.jupyter.widget-view+json": {
       "model_id": "56710ef7cb534c57a84168b2e75f6158",
       "version_major": 2,
       "version_minor": 0
      },
      "text/plain": [
       "Validation: |          | 0/? [00:00<?, ?it/s]"
      ]
     },
     "metadata": {},
     "output_type": "display_data"
    },
    {
     "data": {
      "application/vnd.jupyter.widget-view+json": {
       "model_id": "9c9b32ae555e4682b54627ad4eb1017c",
       "version_major": 2,
       "version_minor": 0
      },
      "text/plain": [
       "Validation: |          | 0/? [00:00<?, ?it/s]"
      ]
     },
     "metadata": {},
     "output_type": "display_data"
    },
    {
     "data": {
      "application/vnd.jupyter.widget-view+json": {
       "model_id": "287ecfce1349458cbe2f2727406ed216",
       "version_major": 2,
       "version_minor": 0
      },
      "text/plain": [
       "Validation: |          | 0/? [00:00<?, ?it/s]"
      ]
     },
     "metadata": {},
     "output_type": "display_data"
    },
    {
     "data": {
      "application/vnd.jupyter.widget-view+json": {
       "model_id": "a111dc9e1b1f46059a0eca69220f2f70",
       "version_major": 2,
       "version_minor": 0
      },
      "text/plain": [
       "Validation: |          | 0/? [00:00<?, ?it/s]"
      ]
     },
     "metadata": {},
     "output_type": "display_data"
    },
    {
     "data": {
      "application/vnd.jupyter.widget-view+json": {
       "model_id": "a950c3f7c09744fea9345b7b19edcfe9",
       "version_major": 2,
       "version_minor": 0
      },
      "text/plain": [
       "Validation: |          | 0/? [00:00<?, ?it/s]"
      ]
     },
     "metadata": {},
     "output_type": "display_data"
    },
    {
     "data": {
      "application/vnd.jupyter.widget-view+json": {
       "model_id": "2367bf2037e140a08331ab08fbb568a1",
       "version_major": 2,
       "version_minor": 0
      },
      "text/plain": [
       "Validation: |          | 0/? [00:00<?, ?it/s]"
      ]
     },
     "metadata": {},
     "output_type": "display_data"
    },
    {
     "name": "stderr",
     "output_type": "stream",
     "text": [
      "LOCAL_RANK: 0 - CUDA_VISIBLE_DEVICES: [0]\n",
      "LOCAL_RANK: 0 - CUDA_VISIBLE_DEVICES: [0]\n",
      "LOCAL_RANK: 0 - CUDA_VISIBLE_DEVICES: [0]\n",
      "LOCAL_RANK: 0 - CUDA_VISIBLE_DEVICES: [0]\n",
      "LOCAL_RANK: 0 - CUDA_VISIBLE_DEVICES: [0]\n",
      "LOCAL_RANK: 0 - CUDA_VISIBLE_DEVICES: [0]\n",
      "LOCAL_RANK: 0 - CUDA_VISIBLE_DEVICES: [0]\n",
      "LOCAL_RANK: 0 - CUDA_VISIBLE_DEVICES: [0]\n",
      "LOCAL_RANK: 0 - CUDA_VISIBLE_DEVICES: [0]\n",
      "LOCAL_RANK: 0 - CUDA_VISIBLE_DEVICES: [0]\n",
      "LOCAL_RANK: 0 - CUDA_VISIBLE_DEVICES: [0]\n",
      "LOCAL_RANK: 0 - CUDA_VISIBLE_DEVICES: [0]\n",
      "LOCAL_RANK: 0 - CUDA_VISIBLE_DEVICES: [0]\n",
      "LOCAL_RANK: 0 - CUDA_VISIBLE_DEVICES: [0]\n",
      "LOCAL_RANK: 0 - CUDA_VISIBLE_DEVICES: [0]\n",
      "LOCAL_RANK: 0 - CUDA_VISIBLE_DEVICES: [0]\n",
      "LOCAL_RANK: 0 - CUDA_VISIBLE_DEVICES: [0]\n",
      "LOCAL_RANK: 0 - CUDA_VISIBLE_DEVICES: [0]\n",
      "Seed set to 1337\n"
     ]
    },
    {
     "name": "stdout",
     "output_type": "stream",
     "text": [
      "Gutenberg [{'other': 'Blog Authorship', 'test_loss': 1.7988485097885132, 'test_acc@0.5': 0.4840989410877228, 'test_acc@best': 0.5265017747879028, 'test_roc_auc': 0.36812031269073486}, {'other': 'Student Essays', 'test_loss': 0.6884621381759644, 'test_acc@0.5': 0.7233333587646484, 'test_acc@best': 0.8133333325386047, 'test_roc_auc': 0.893822193145752}, {'other': 'CNN News', 'test_loss': 0.53090500831604, 'test_acc@0.5': 0.7900000214576721, 'test_acc@best': 0.79666668176651, 'test_roc_auc': 0.861822247505188}, {'other': 'Euro Court Cases', 'test_loss': 1.000800371170044, 'test_acc@0.5': 0.6299999952316284, 'test_acc@best': 0.7400000095367432, 'test_roc_auc': 0.8449777960777283}, {'other': 'House of Commons', 'test_loss': 0.35946178436279297, 'test_acc@0.5': 0.8255033493041992, 'test_acc@best': 0.8355704545974731, 'test_roc_auc': 0.9254504442214966}, {'other': 'ArXiv Papers', 'test_loss': 0.3020920753479004, 'test_acc@0.5': 0.8703071475028992, 'test_acc@best': 0.8771331310272217, 'test_roc_auc': 0.9440406560897827}, {'other': 'Gutenberg', 'test_loss': 0.30382654070854187, 'test_acc@0.5': 0.869415819644928, 'test_acc@best': 0.9278350472450256, 'test_roc_auc': 0.97711580991745}, {'other': 'Bundestag [DE]', 'test_loss': 2.246187925338745, 'test_acc@0.5': 0.49484536051750183, 'test_acc@best': 0.6494845151901245, 'test_roc_auc': 0.7180735468864441}, {'other': 'Spiegel [DE]', 'test_loss': 2.4930436611175537, 'test_acc@0.5': 0.5016722679138184, 'test_acc@best': 0.5919732451438904, 'test_roc_auc': 0.716867983341217}]\n"
     ]
    },
    {
     "name": "stderr",
     "output_type": "stream",
     "text": [
      "GPU available: True (cuda), used: True\n",
      "TPU available: False, using: 0 TPU cores\n",
      "HPU available: False, using: 0 HPUs\n",
      "/home/mastoeck/Projects/PrismAI/PrismAI/.venv/lib/python3.12/site-packages/lightning/pytorch/utilities/parsing.py:45: Attribute 'feature_dim' removed from hparams because it cannot be pickled. You can suppress this warning by setting `self.save_hyperparameters(ignore=['feature_dim'])`.\n",
      "LOCAL_RANK: 0 - CUDA_VISIBLE_DEVICES: [0]\n",
      "Loading `train_dataloader` to estimate number of stepping batches.\n",
      "\n",
      "  | Name        | Type              | Params | Mode  | In sizes    | Out sizes  \n",
      "--------------------------------------------------------------------------------------\n",
      "0 | conv_layers | Sequential        | 152 K  | train | ?           | ?          \n",
      "1 | projection  | Identity          | 0      | train | [32, 16384] | [32, 16384]\n",
      "2 | classifier  | Linear            | 16.4 K | train | [32, 16384] | [32, 1]    \n",
      "3 | criterion   | BCEWithLogitsLoss | 0      | train | ?           | ?          \n",
      "--------------------------------------------------------------------------------------\n",
      "168 K     Trainable params\n",
      "0         Non-trainable params\n",
      "168 K     Total params\n",
      "0.674     Total estimated model params size (MB)\n",
      "15        Modules in train mode\n",
      "0         Modules in eval mode\n"
     ]
    },
    {
     "data": {
      "application/vnd.jupyter.widget-view+json": {
       "model_id": "637a75da5e36473a8619369ca60f8029",
       "version_major": 2,
       "version_minor": 0
      },
      "text/plain": [
       "Sanity Checking: |          | 0/? [00:00<?, ?it/s]"
      ]
     },
     "metadata": {},
     "output_type": "display_data"
    },
    {
     "data": {
      "application/vnd.jupyter.widget-view+json": {
       "model_id": "d45b62a20c7147b9ab818d25467cc321",
       "version_major": 2,
       "version_minor": 0
      },
      "text/plain": [
       "Training: |          | 0/? [00:00<?, ?it/s]"
      ]
     },
     "metadata": {},
     "output_type": "display_data"
    },
    {
     "data": {
      "application/vnd.jupyter.widget-view+json": {
       "model_id": "56c08f0ca03c4a0fa4ea61b13a892081",
       "version_major": 2,
       "version_minor": 0
      },
      "text/plain": [
       "Validation: |          | 0/? [00:00<?, ?it/s]"
      ]
     },
     "metadata": {},
     "output_type": "display_data"
    },
    {
     "data": {
      "application/vnd.jupyter.widget-view+json": {
       "model_id": "c672bcb2e91848c7b5a83705d25a830d",
       "version_major": 2,
       "version_minor": 0
      },
      "text/plain": [
       "Validation: |          | 0/? [00:00<?, ?it/s]"
      ]
     },
     "metadata": {},
     "output_type": "display_data"
    },
    {
     "data": {
      "application/vnd.jupyter.widget-view+json": {
       "model_id": "92b6c78025914c88a60e99acd59c1138",
       "version_major": 2,
       "version_minor": 0
      },
      "text/plain": [
       "Validation: |          | 0/? [00:00<?, ?it/s]"
      ]
     },
     "metadata": {},
     "output_type": "display_data"
    },
    {
     "data": {
      "application/vnd.jupyter.widget-view+json": {
       "model_id": "c620b8c965b34c67a06f1b6f37b4c700",
       "version_major": 2,
       "version_minor": 0
      },
      "text/plain": [
       "Validation: |          | 0/? [00:00<?, ?it/s]"
      ]
     },
     "metadata": {},
     "output_type": "display_data"
    },
    {
     "data": {
      "application/vnd.jupyter.widget-view+json": {
       "model_id": "06cc14fe1d884067a8f76b3dd59f71c7",
       "version_major": 2,
       "version_minor": 0
      },
      "text/plain": [
       "Validation: |          | 0/? [00:00<?, ?it/s]"
      ]
     },
     "metadata": {},
     "output_type": "display_data"
    },
    {
     "data": {
      "application/vnd.jupyter.widget-view+json": {
       "model_id": "b8049409103046ad9ab27b313e959188",
       "version_major": 2,
       "version_minor": 0
      },
      "text/plain": [
       "Validation: |          | 0/? [00:00<?, ?it/s]"
      ]
     },
     "metadata": {},
     "output_type": "display_data"
    },
    {
     "data": {
      "application/vnd.jupyter.widget-view+json": {
       "model_id": "b97cd60050064e0c83582de502cc1a3d",
       "version_major": 2,
       "version_minor": 0
      },
      "text/plain": [
       "Validation: |          | 0/? [00:00<?, ?it/s]"
      ]
     },
     "metadata": {},
     "output_type": "display_data"
    },
    {
     "data": {
      "application/vnd.jupyter.widget-view+json": {
       "model_id": "4f5dfed395034c23a27014f90f2364da",
       "version_major": 2,
       "version_minor": 0
      },
      "text/plain": [
       "Validation: |          | 0/? [00:00<?, ?it/s]"
      ]
     },
     "metadata": {},
     "output_type": "display_data"
    },
    {
     "data": {
      "application/vnd.jupyter.widget-view+json": {
       "model_id": "5de016d7114e49b8a0218208222c0fef",
       "version_major": 2,
       "version_minor": 0
      },
      "text/plain": [
       "Validation: |          | 0/? [00:00<?, ?it/s]"
      ]
     },
     "metadata": {},
     "output_type": "display_data"
    },
    {
     "data": {
      "application/vnd.jupyter.widget-view+json": {
       "model_id": "fbc21b5739384978bba83bd049d98862",
       "version_major": 2,
       "version_minor": 0
      },
      "text/plain": [
       "Validation: |          | 0/? [00:00<?, ?it/s]"
      ]
     },
     "metadata": {},
     "output_type": "display_data"
    },
    {
     "data": {
      "application/vnd.jupyter.widget-view+json": {
       "model_id": "4f3441ba87d243ec8e90b113e3303217",
       "version_major": 2,
       "version_minor": 0
      },
      "text/plain": [
       "Validation: |          | 0/? [00:00<?, ?it/s]"
      ]
     },
     "metadata": {},
     "output_type": "display_data"
    },
    {
     "data": {
      "application/vnd.jupyter.widget-view+json": {
       "model_id": "d091b42d755643dc9ca28eb35ad76eab",
       "version_major": 2,
       "version_minor": 0
      },
      "text/plain": [
       "Validation: |          | 0/? [00:00<?, ?it/s]"
      ]
     },
     "metadata": {},
     "output_type": "display_data"
    },
    {
     "data": {
      "application/vnd.jupyter.widget-view+json": {
       "model_id": "77c55877e77348859de3d33df5422433",
       "version_major": 2,
       "version_minor": 0
      },
      "text/plain": [
       "Validation: |          | 0/? [00:00<?, ?it/s]"
      ]
     },
     "metadata": {},
     "output_type": "display_data"
    },
    {
     "data": {
      "application/vnd.jupyter.widget-view+json": {
       "model_id": "be856561404249b2a43a0b62897d5f5c",
       "version_major": 2,
       "version_minor": 0
      },
      "text/plain": [
       "Validation: |          | 0/? [00:00<?, ?it/s]"
      ]
     },
     "metadata": {},
     "output_type": "display_data"
    },
    {
     "data": {
      "application/vnd.jupyter.widget-view+json": {
       "model_id": "5e7cd86fbbc84a4594f78ccd69aa6a40",
       "version_major": 2,
       "version_minor": 0
      },
      "text/plain": [
       "Validation: |          | 0/? [00:00<?, ?it/s]"
      ]
     },
     "metadata": {},
     "output_type": "display_data"
    },
    {
     "data": {
      "application/vnd.jupyter.widget-view+json": {
       "model_id": "ad4d1cd8f6e04dd6a5943428951b6b04",
       "version_major": 2,
       "version_minor": 0
      },
      "text/plain": [
       "Validation: |          | 0/? [00:00<?, ?it/s]"
      ]
     },
     "metadata": {},
     "output_type": "display_data"
    },
    {
     "data": {
      "application/vnd.jupyter.widget-view+json": {
       "model_id": "6fbf4b52f0984024a0dff53d3d6728b3",
       "version_major": 2,
       "version_minor": 0
      },
      "text/plain": [
       "Validation: |          | 0/? [00:00<?, ?it/s]"
      ]
     },
     "metadata": {},
     "output_type": "display_data"
    },
    {
     "data": {
      "application/vnd.jupyter.widget-view+json": {
       "model_id": "d9199a38e73e45e59e5fc1609672d95d",
       "version_major": 2,
       "version_minor": 0
      },
      "text/plain": [
       "Validation: |          | 0/? [00:00<?, ?it/s]"
      ]
     },
     "metadata": {},
     "output_type": "display_data"
    },
    {
     "data": {
      "application/vnd.jupyter.widget-view+json": {
       "model_id": "c1a3a93a6dd04d5ea5c991c9a2ead4cc",
       "version_major": 2,
       "version_minor": 0
      },
      "text/plain": [
       "Validation: |          | 0/? [00:00<?, ?it/s]"
      ]
     },
     "metadata": {},
     "output_type": "display_data"
    },
    {
     "data": {
      "application/vnd.jupyter.widget-view+json": {
       "model_id": "7181a0df8b13469ab4027533380ad545",
       "version_major": 2,
       "version_minor": 0
      },
      "text/plain": [
       "Validation: |          | 0/? [00:00<?, ?it/s]"
      ]
     },
     "metadata": {},
     "output_type": "display_data"
    },
    {
     "name": "stderr",
     "output_type": "stream",
     "text": [
      "LOCAL_RANK: 0 - CUDA_VISIBLE_DEVICES: [0]\n",
      "LOCAL_RANK: 0 - CUDA_VISIBLE_DEVICES: [0]\n",
      "LOCAL_RANK: 0 - CUDA_VISIBLE_DEVICES: [0]\n",
      "LOCAL_RANK: 0 - CUDA_VISIBLE_DEVICES: [0]\n",
      "LOCAL_RANK: 0 - CUDA_VISIBLE_DEVICES: [0]\n",
      "LOCAL_RANK: 0 - CUDA_VISIBLE_DEVICES: [0]\n",
      "LOCAL_RANK: 0 - CUDA_VISIBLE_DEVICES: [0]\n",
      "LOCAL_RANK: 0 - CUDA_VISIBLE_DEVICES: [0]\n",
      "LOCAL_RANK: 0 - CUDA_VISIBLE_DEVICES: [0]\n",
      "LOCAL_RANK: 0 - CUDA_VISIBLE_DEVICES: [0]\n",
      "LOCAL_RANK: 0 - CUDA_VISIBLE_DEVICES: [0]\n",
      "LOCAL_RANK: 0 - CUDA_VISIBLE_DEVICES: [0]\n",
      "LOCAL_RANK: 0 - CUDA_VISIBLE_DEVICES: [0]\n",
      "LOCAL_RANK: 0 - CUDA_VISIBLE_DEVICES: [0]\n",
      "LOCAL_RANK: 0 - CUDA_VISIBLE_DEVICES: [0]\n",
      "LOCAL_RANK: 0 - CUDA_VISIBLE_DEVICES: [0]\n",
      "LOCAL_RANK: 0 - CUDA_VISIBLE_DEVICES: [0]\n",
      "LOCAL_RANK: 0 - CUDA_VISIBLE_DEVICES: [0]\n",
      "Seed set to 1337\n"
     ]
    },
    {
     "name": "stdout",
     "output_type": "stream",
     "text": [
      "Bundestag [DE] [{'other': 'Blog Authorship', 'test_loss': 7.39722204208374, 'test_acc@0.5': 0.16961130499839783, 'test_acc@best': 0.5300353169441223, 'test_roc_auc': 0.19576440751552582}, {'other': 'Student Essays', 'test_loss': 8.450758934020996, 'test_acc@0.5': 0.5299999713897705, 'test_acc@best': 0.5799999833106995, 'test_roc_auc': 0.6588444709777832}, {'other': 'CNN News', 'test_loss': 5.898632049560547, 'test_acc@0.5': 0.5299999713897705, 'test_acc@best': 0.6633333563804626, 'test_roc_auc': 0.81086665391922}, {'other': 'Euro Court Cases', 'test_loss': 11.601397514343262, 'test_acc@0.5': 0.49000000953674316, 'test_acc@best': 0.5099999904632568, 'test_roc_auc': 0.5934666395187378}, {'other': 'House of Commons', 'test_loss': 5.868144512176514, 'test_acc@0.5': 0.47651007771492004, 'test_acc@best': 0.5973154306411743, 'test_roc_auc': 0.6883333325386047}, {'other': 'ArXiv Papers', 'test_loss': 5.0874199867248535, 'test_acc@0.5': 0.4948805570602417, 'test_acc@best': 0.6484641432762146, 'test_roc_auc': 0.7518637776374817}, {'other': 'Gutenberg', 'test_loss': 6.040561199188232, 'test_acc@0.5': 0.5189003348350525, 'test_acc@best': 0.6666666865348816, 'test_roc_auc': 0.7876123189926147}, {'other': 'Bundestag [DE]', 'test_loss': 0.267972856760025, 'test_acc@0.5': 0.876288652420044, 'test_acc@best': 0.8865979313850403, 'test_roc_auc': 0.9546270966529846}, {'other': 'Spiegel [DE]', 'test_loss': 0.435638427734375, 'test_acc@0.5': 0.8595317602157593, 'test_acc@best': 0.8695651888847351, 'test_roc_auc': 0.9276957511901855}]\n"
     ]
    },
    {
     "name": "stderr",
     "output_type": "stream",
     "text": [
      "GPU available: True (cuda), used: True\n",
      "TPU available: False, using: 0 TPU cores\n",
      "HPU available: False, using: 0 HPUs\n",
      "/home/mastoeck/Projects/PrismAI/PrismAI/.venv/lib/python3.12/site-packages/lightning/pytorch/utilities/parsing.py:45: Attribute 'feature_dim' removed from hparams because it cannot be pickled. You can suppress this warning by setting `self.save_hyperparameters(ignore=['feature_dim'])`.\n",
      "LOCAL_RANK: 0 - CUDA_VISIBLE_DEVICES: [0]\n",
      "Loading `train_dataloader` to estimate number of stepping batches.\n",
      "\n",
      "  | Name        | Type              | Params | Mode  | In sizes    | Out sizes  \n",
      "--------------------------------------------------------------------------------------\n",
      "0 | conv_layers | Sequential        | 152 K  | train | ?           | ?          \n",
      "1 | projection  | Identity          | 0      | train | [32, 16384] | [32, 16384]\n",
      "2 | classifier  | Linear            | 16.4 K | train | [32, 16384] | [32, 1]    \n",
      "3 | criterion   | BCEWithLogitsLoss | 0      | train | ?           | ?          \n",
      "--------------------------------------------------------------------------------------\n",
      "168 K     Trainable params\n",
      "0         Non-trainable params\n",
      "168 K     Total params\n",
      "0.674     Total estimated model params size (MB)\n",
      "15        Modules in train mode\n",
      "0         Modules in eval mode\n"
     ]
    },
    {
     "data": {
      "application/vnd.jupyter.widget-view+json": {
       "model_id": "634f1b2fe4f5410da75a473e70fcc611",
       "version_major": 2,
       "version_minor": 0
      },
      "text/plain": [
       "Sanity Checking: |          | 0/? [00:00<?, ?it/s]"
      ]
     },
     "metadata": {},
     "output_type": "display_data"
    },
    {
     "data": {
      "application/vnd.jupyter.widget-view+json": {
       "model_id": "c1199e883073489c91dc8da003422655",
       "version_major": 2,
       "version_minor": 0
      },
      "text/plain": [
       "Training: |          | 0/? [00:00<?, ?it/s]"
      ]
     },
     "metadata": {},
     "output_type": "display_data"
    },
    {
     "data": {
      "application/vnd.jupyter.widget-view+json": {
       "model_id": "c2c9332cdcd34e40bec0f4030a414ab2",
       "version_major": 2,
       "version_minor": 0
      },
      "text/plain": [
       "Validation: |          | 0/? [00:00<?, ?it/s]"
      ]
     },
     "metadata": {},
     "output_type": "display_data"
    },
    {
     "data": {
      "application/vnd.jupyter.widget-view+json": {
       "model_id": "c1198134666049fa9ad35dc35c633112",
       "version_major": 2,
       "version_minor": 0
      },
      "text/plain": [
       "Validation: |          | 0/? [00:00<?, ?it/s]"
      ]
     },
     "metadata": {},
     "output_type": "display_data"
    },
    {
     "data": {
      "application/vnd.jupyter.widget-view+json": {
       "model_id": "7b8b75582b3344a9a5ec41bf3dd5877f",
       "version_major": 2,
       "version_minor": 0
      },
      "text/plain": [
       "Validation: |          | 0/? [00:00<?, ?it/s]"
      ]
     },
     "metadata": {},
     "output_type": "display_data"
    },
    {
     "data": {
      "application/vnd.jupyter.widget-view+json": {
       "model_id": "fadb5f82642944f7878a01a351b03961",
       "version_major": 2,
       "version_minor": 0
      },
      "text/plain": [
       "Validation: |          | 0/? [00:00<?, ?it/s]"
      ]
     },
     "metadata": {},
     "output_type": "display_data"
    },
    {
     "data": {
      "application/vnd.jupyter.widget-view+json": {
       "model_id": "dc856c94920b49afb7f637eace729ec6",
       "version_major": 2,
       "version_minor": 0
      },
      "text/plain": [
       "Validation: |          | 0/? [00:00<?, ?it/s]"
      ]
     },
     "metadata": {},
     "output_type": "display_data"
    },
    {
     "data": {
      "application/vnd.jupyter.widget-view+json": {
       "model_id": "42d3224047e943bfb571b340ab616f96",
       "version_major": 2,
       "version_minor": 0
      },
      "text/plain": [
       "Validation: |          | 0/? [00:00<?, ?it/s]"
      ]
     },
     "metadata": {},
     "output_type": "display_data"
    },
    {
     "data": {
      "application/vnd.jupyter.widget-view+json": {
       "model_id": "bf736a45f51d462f9ce55e952943d441",
       "version_major": 2,
       "version_minor": 0
      },
      "text/plain": [
       "Validation: |          | 0/? [00:00<?, ?it/s]"
      ]
     },
     "metadata": {},
     "output_type": "display_data"
    },
    {
     "data": {
      "application/vnd.jupyter.widget-view+json": {
       "model_id": "287e7faac2244c25bf3f6f75aaa162d5",
       "version_major": 2,
       "version_minor": 0
      },
      "text/plain": [
       "Validation: |          | 0/? [00:00<?, ?it/s]"
      ]
     },
     "metadata": {},
     "output_type": "display_data"
    },
    {
     "data": {
      "application/vnd.jupyter.widget-view+json": {
       "model_id": "c104e0ef75da453e836a10eaa1c9cafc",
       "version_major": 2,
       "version_minor": 0
      },
      "text/plain": [
       "Validation: |          | 0/? [00:00<?, ?it/s]"
      ]
     },
     "metadata": {},
     "output_type": "display_data"
    },
    {
     "data": {
      "application/vnd.jupyter.widget-view+json": {
       "model_id": "314a43bbf69249d2bf5a8ec62289a2f3",
       "version_major": 2,
       "version_minor": 0
      },
      "text/plain": [
       "Validation: |          | 0/? [00:00<?, ?it/s]"
      ]
     },
     "metadata": {},
     "output_type": "display_data"
    },
    {
     "data": {
      "application/vnd.jupyter.widget-view+json": {
       "model_id": "88bb2004868d4dfdb20655387e787a30",
       "version_major": 2,
       "version_minor": 0
      },
      "text/plain": [
       "Validation: |          | 0/? [00:00<?, ?it/s]"
      ]
     },
     "metadata": {},
     "output_type": "display_data"
    },
    {
     "data": {
      "application/vnd.jupyter.widget-view+json": {
       "model_id": "beec61a2ab8546a98bd257735be4640f",
       "version_major": 2,
       "version_minor": 0
      },
      "text/plain": [
       "Validation: |          | 0/? [00:00<?, ?it/s]"
      ]
     },
     "metadata": {},
     "output_type": "display_data"
    },
    {
     "data": {
      "application/vnd.jupyter.widget-view+json": {
       "model_id": "a97d11ac6c264d6294dd49211acfdc09",
       "version_major": 2,
       "version_minor": 0
      },
      "text/plain": [
       "Validation: |          | 0/? [00:00<?, ?it/s]"
      ]
     },
     "metadata": {},
     "output_type": "display_data"
    },
    {
     "data": {
      "application/vnd.jupyter.widget-view+json": {
       "model_id": "4db10c86c7b147a486f9a14f6ab9fd8e",
       "version_major": 2,
       "version_minor": 0
      },
      "text/plain": [
       "Validation: |          | 0/? [00:00<?, ?it/s]"
      ]
     },
     "metadata": {},
     "output_type": "display_data"
    },
    {
     "data": {
      "application/vnd.jupyter.widget-view+json": {
       "model_id": "8b9c88d5d3cb42319661ac3a1fe50e10",
       "version_major": 2,
       "version_minor": 0
      },
      "text/plain": [
       "Validation: |          | 0/? [00:00<?, ?it/s]"
      ]
     },
     "metadata": {},
     "output_type": "display_data"
    },
    {
     "data": {
      "application/vnd.jupyter.widget-view+json": {
       "model_id": "937fb78095554162b9e732943ca2a136",
       "version_major": 2,
       "version_minor": 0
      },
      "text/plain": [
       "Validation: |          | 0/? [00:00<?, ?it/s]"
      ]
     },
     "metadata": {},
     "output_type": "display_data"
    },
    {
     "data": {
      "application/vnd.jupyter.widget-view+json": {
       "model_id": "cbccf6892b624f2aad1ba787f92ee3fe",
       "version_major": 2,
       "version_minor": 0
      },
      "text/plain": [
       "Validation: |          | 0/? [00:00<?, ?it/s]"
      ]
     },
     "metadata": {},
     "output_type": "display_data"
    },
    {
     "data": {
      "application/vnd.jupyter.widget-view+json": {
       "model_id": "904464ef1a074b328da9ad9aa4c1a656",
       "version_major": 2,
       "version_minor": 0
      },
      "text/plain": [
       "Validation: |          | 0/? [00:00<?, ?it/s]"
      ]
     },
     "metadata": {},
     "output_type": "display_data"
    },
    {
     "data": {
      "application/vnd.jupyter.widget-view+json": {
       "model_id": "90040ae2dddd4e99954649339aabb56e",
       "version_major": 2,
       "version_minor": 0
      },
      "text/plain": [
       "Validation: |          | 0/? [00:00<?, ?it/s]"
      ]
     },
     "metadata": {},
     "output_type": "display_data"
    },
    {
     "data": {
      "application/vnd.jupyter.widget-view+json": {
       "model_id": "8cb4da0e6ca342619ccab068eb1625c5",
       "version_major": 2,
       "version_minor": 0
      },
      "text/plain": [
       "Validation: |          | 0/? [00:00<?, ?it/s]"
      ]
     },
     "metadata": {},
     "output_type": "display_data"
    },
    {
     "data": {
      "application/vnd.jupyter.widget-view+json": {
       "model_id": "bca1048b11884a308108cb6b53561e6b",
       "version_major": 2,
       "version_minor": 0
      },
      "text/plain": [
       "Validation: |          | 0/? [00:00<?, ?it/s]"
      ]
     },
     "metadata": {},
     "output_type": "display_data"
    },
    {
     "name": "stderr",
     "output_type": "stream",
     "text": [
      "LOCAL_RANK: 0 - CUDA_VISIBLE_DEVICES: [0]\n",
      "LOCAL_RANK: 0 - CUDA_VISIBLE_DEVICES: [0]\n",
      "LOCAL_RANK: 0 - CUDA_VISIBLE_DEVICES: [0]\n",
      "LOCAL_RANK: 0 - CUDA_VISIBLE_DEVICES: [0]\n",
      "LOCAL_RANK: 0 - CUDA_VISIBLE_DEVICES: [0]\n",
      "LOCAL_RANK: 0 - CUDA_VISIBLE_DEVICES: [0]\n",
      "LOCAL_RANK: 0 - CUDA_VISIBLE_DEVICES: [0]\n",
      "LOCAL_RANK: 0 - CUDA_VISIBLE_DEVICES: [0]\n",
      "LOCAL_RANK: 0 - CUDA_VISIBLE_DEVICES: [0]\n",
      "LOCAL_RANK: 0 - CUDA_VISIBLE_DEVICES: [0]\n",
      "LOCAL_RANK: 0 - CUDA_VISIBLE_DEVICES: [0]\n",
      "LOCAL_RANK: 0 - CUDA_VISIBLE_DEVICES: [0]\n",
      "LOCAL_RANK: 0 - CUDA_VISIBLE_DEVICES: [0]\n",
      "LOCAL_RANK: 0 - CUDA_VISIBLE_DEVICES: [0]\n",
      "LOCAL_RANK: 0 - CUDA_VISIBLE_DEVICES: [0]\n",
      "LOCAL_RANK: 0 - CUDA_VISIBLE_DEVICES: [0]\n",
      "LOCAL_RANK: 0 - CUDA_VISIBLE_DEVICES: [0]\n",
      "LOCAL_RANK: 0 - CUDA_VISIBLE_DEVICES: [0]\n"
     ]
    },
    {
     "name": "stdout",
     "output_type": "stream",
     "text": [
      "Spiegel [DE] [{'other': 'Blog Authorship', 'test_loss': 1.899004578590393, 'test_acc@0.5': 0.5300353169441223, 'test_acc@best': 0.554770290851593, 'test_roc_auc': 0.3709774315357208}, {'other': 'Student Essays', 'test_loss': 1.9004229307174683, 'test_acc@0.5': 0.6133333444595337, 'test_acc@best': 0.6233333349227905, 'test_roc_auc': 0.6586666703224182}, {'other': 'CNN News', 'test_loss': 1.2783634662628174, 'test_acc@0.5': 0.6633333563804626, 'test_acc@best': 0.6700000166893005, 'test_roc_auc': 0.740066647529602}, {'other': 'Euro Court Cases', 'test_loss': 1.8682434558868408, 'test_acc@0.5': 0.6033333539962769, 'test_acc@best': 0.6800000071525574, 'test_roc_auc': 0.7562888860702515}, {'other': 'House of Commons', 'test_loss': 1.1434385776519775, 'test_acc@0.5': 0.6677852272987366, 'test_acc@best': 0.6744966506958008, 'test_roc_auc': 0.7288288474082947}, {'other': 'ArXiv Papers', 'test_loss': 0.9927137494087219, 'test_acc@0.5': 0.7337883710861206, 'test_acc@best': 0.7406143546104431, 'test_roc_auc': 0.7872052788734436}, {'other': 'Gutenberg', 'test_loss': 1.4210386276245117, 'test_acc@0.5': 0.6426116824150085, 'test_acc@best': 0.6323024034500122, 'test_roc_auc': 0.6870921850204468}, {'other': 'Bundestag [DE]', 'test_loss': 0.39259156584739685, 'test_acc@0.5': 0.7869415879249573, 'test_acc@best': 0.7869415879249573, 'test_roc_auc': 0.8924756646156311}, {'other': 'Spiegel [DE]', 'test_loss': 0.28682926297187805, 'test_acc@0.5': 0.8762542009353638, 'test_acc@best': 0.8795986771583557, 'test_roc_auc': 0.9534675478935242}]\n"
     ]
    }
   ],
   "source": [
    "results_in_domain = {}\n",
    "for domain in domains:\n",
    "    seed_everything(config[\"seed\"])\n",
    "\n",
    "    train_dataloader = get_dataloader(train_datasets[domain], shuffle=True)\n",
    "    eval_dataloader = get_dataloader(eval_datasets[domain])\n",
    "\n",
    "    model = DocumentClassficationModel(**config)\n",
    "    trainer = Trainer(\n",
    "        max_epochs=config[\"max_epochs\"],\n",
    "        logger=pl_loggers.TensorBoardLogger(\n",
    "            save_dir=f\"logs/in_domain/{type(featurizer).__name__}\",\n",
    "            name=domain,\n",
    "        ),\n",
    "        gradient_clip_val=config[\"gradient_clip_val\"],\n",
    "        callbacks=[EarlyStopping(monitor=\"val_loss\", mode=\"min\", patience=3)],\n",
    "        deterministic=True,\n",
    "    )\n",
    "\n",
    "    trainer.fit(\n",
    "        model,\n",
    "        train_dataloaders=train_dataloader,\n",
    "        val_dataloaders=eval_dataloader,\n",
    "    )\n",
    "\n",
    "    trainer.progress_bar_callback.disable()\n",
    "    metrics = []\n",
    "    for other, dataset in test_datasets.items():\n",
    "        trainer.validate(model, get_dataloader(eval_datasets[other]), verbose=False)\n",
    "        metrics.append(\n",
    "            {\n",
    "                \"other\": other,\n",
    "            }\n",
    "            | trainer.test(\n",
    "                model,\n",
    "                get_dataloader(dataset),\n",
    "                verbose=False,\n",
    "            )[0]\n",
    "        )\n",
    "    trainer.progress_bar_callback.enable()\n",
    "\n",
    "    results_in_domain[domain] = {\n",
    "        \"domain\": domain,\n",
    "        \"config\": copy.deepcopy(config),\n",
    "        \"metrics\": metrics,\n",
    "    }\n",
    "    print(domain, metrics)\n"
   ]
  },
  {
   "cell_type": "code",
   "execution_count": 14,
   "metadata": {},
   "outputs": [
    {
     "data": {
      "application/vnd.microsoft.datawrangler.viewer.v0+json": {
       "columns": [
        {
         "name": "index",
         "rawType": "object",
         "type": "string"
        },
        {
         "name": "Blog Authorship",
         "rawType": "float64",
         "type": "float"
        },
        {
         "name": "Student Essays",
         "rawType": "float64",
         "type": "float"
        },
        {
         "name": "CNN News",
         "rawType": "float64",
         "type": "float"
        },
        {
         "name": "Euro Court Cases",
         "rawType": "float64",
         "type": "float"
        },
        {
         "name": "House of Commons",
         "rawType": "float64",
         "type": "float"
        },
        {
         "name": "ArXiv Papers",
         "rawType": "float64",
         "type": "float"
        },
        {
         "name": "Gutenberg",
         "rawType": "float64",
         "type": "float"
        },
        {
         "name": "Bundestag [DE]",
         "rawType": "float64",
         "type": "float"
        },
        {
         "name": "Spiegel [DE]",
         "rawType": "float64",
         "type": "float"
        }
       ],
       "conversionMethod": "pd.DataFrame",
       "ref": "319aa287-de32-4917-9e68-f7b7d1b3bafa",
       "rows": [
        [
         "Blog Authorship",
         "0.9905263185501099",
         "0.6703110933303833",
         "0.7703555822372437",
         "0.7273111343383789",
         "0.6809459328651428",
         "0.8186562061309814",
         "0.8304018974304199",
         "0.5850269198417664",
         "0.6713646650314331"
        ],
        [
         "Student Essays",
         "0.5453634262084961",
         "0.9873777627944946",
         "0.8714222311973572",
         "0.8642666935920715",
         "0.7896396517753601",
         "0.7656322717666626",
         "0.8746099472045898",
         "0.7126855254173279",
         "0.7762863636016846"
        ],
        [
         "CNN News",
         "0.24295739829540253",
         "0.7954666614532471",
         "0.9815999865531921",
         "0.9469777941703796",
         "0.846486508846283",
         "0.8560246229171753",
         "0.9048227071762085",
         "0.7287077903747559",
         "0.6568232774734497"
        ],
        [
         "Euro Court Cases",
         "0.26654136180877686",
         "0.8228444457054138",
         "0.9318666458129883",
         "0.9942666888237",
         "0.9129729866981506",
         "0.9197651743888855",
         "0.8719149231910706",
         "0.5692881941795349",
         "0.5009396076202393"
        ],
        [
         "House of Commons",
         "0.4286716878414154",
         "0.9189333319664001",
         "0.9035999774932861",
         "0.9213777780532837",
         "0.9741891622543335",
         "0.9358866810798645",
         "0.882033109664917",
         "0.7134889960289001",
         "0.6538702249526978"
        ],
        [
         "ArXiv Papers",
         "0.5705012679100037",
         "0.8910222053527832",
         "0.8979555368423462",
         "0.9099110960960388",
         "0.8872522711753845",
         "0.9794986248016357",
         "0.9111111164093018",
         "0.6036959886550903",
         "0.4978523552417755"
        ],
        [
         "Gutenberg",
         "0.36812031269073486",
         "0.893822193145752",
         "0.861822247505188",
         "0.8449777960777283",
         "0.9254504442214966",
         "0.9440406560897827",
         "0.97711580991745",
         "0.7180735468864441",
         "0.716867983341217"
        ],
        [
         "Bundestag [DE]",
         "0.19576440751552582",
         "0.6588444709777832",
         "0.81086665391922",
         "0.5934666395187378",
         "0.6883333325386047",
         "0.7518637776374817",
         "0.7876123189926147",
         "0.9546270966529846",
         "0.9276957511901855"
        ],
        [
         "Spiegel [DE]",
         "0.3709774315357208",
         "0.6586666703224182",
         "0.740066647529602",
         "0.7562888860702515",
         "0.7288288474082947",
         "0.7872052788734436",
         "0.6870921850204468",
         "0.8924756646156311",
         "0.9534675478935242"
        ]
       ],
       "shape": {
        "columns": 9,
        "rows": 9
       }
      },
      "text/html": [
       "<div>\n",
       "<style scoped>\n",
       "    .dataframe tbody tr th:only-of-type {\n",
       "        vertical-align: middle;\n",
       "    }\n",
       "\n",
       "    .dataframe tbody tr th {\n",
       "        vertical-align: top;\n",
       "    }\n",
       "\n",
       "    .dataframe thead th {\n",
       "        text-align: right;\n",
       "    }\n",
       "</style>\n",
       "<table border=\"1\" class=\"dataframe\">\n",
       "  <thead>\n",
       "    <tr style=\"text-align: right;\">\n",
       "      <th></th>\n",
       "      <th>Blog Authorship</th>\n",
       "      <th>Student Essays</th>\n",
       "      <th>CNN News</th>\n",
       "      <th>Euro Court Cases</th>\n",
       "      <th>House of Commons</th>\n",
       "      <th>ArXiv Papers</th>\n",
       "      <th>Gutenberg</th>\n",
       "      <th>Bundestag [DE]</th>\n",
       "      <th>Spiegel [DE]</th>\n",
       "    </tr>\n",
       "  </thead>\n",
       "  <tbody>\n",
       "    <tr>\n",
       "      <th>Blog Authorship</th>\n",
       "      <td>0.990526</td>\n",
       "      <td>0.670311</td>\n",
       "      <td>0.770356</td>\n",
       "      <td>0.727311</td>\n",
       "      <td>0.680946</td>\n",
       "      <td>0.818656</td>\n",
       "      <td>0.830402</td>\n",
       "      <td>0.585027</td>\n",
       "      <td>0.671365</td>\n",
       "    </tr>\n",
       "    <tr>\n",
       "      <th>Student Essays</th>\n",
       "      <td>0.545363</td>\n",
       "      <td>0.987378</td>\n",
       "      <td>0.871422</td>\n",
       "      <td>0.864267</td>\n",
       "      <td>0.789640</td>\n",
       "      <td>0.765632</td>\n",
       "      <td>0.874610</td>\n",
       "      <td>0.712686</td>\n",
       "      <td>0.776286</td>\n",
       "    </tr>\n",
       "    <tr>\n",
       "      <th>CNN News</th>\n",
       "      <td>0.242957</td>\n",
       "      <td>0.795467</td>\n",
       "      <td>0.981600</td>\n",
       "      <td>0.946978</td>\n",
       "      <td>0.846487</td>\n",
       "      <td>0.856025</td>\n",
       "      <td>0.904823</td>\n",
       "      <td>0.728708</td>\n",
       "      <td>0.656823</td>\n",
       "    </tr>\n",
       "    <tr>\n",
       "      <th>Euro Court Cases</th>\n",
       "      <td>0.266541</td>\n",
       "      <td>0.822844</td>\n",
       "      <td>0.931867</td>\n",
       "      <td>0.994267</td>\n",
       "      <td>0.912973</td>\n",
       "      <td>0.919765</td>\n",
       "      <td>0.871915</td>\n",
       "      <td>0.569288</td>\n",
       "      <td>0.500940</td>\n",
       "    </tr>\n",
       "    <tr>\n",
       "      <th>House of Commons</th>\n",
       "      <td>0.428672</td>\n",
       "      <td>0.918933</td>\n",
       "      <td>0.903600</td>\n",
       "      <td>0.921378</td>\n",
       "      <td>0.974189</td>\n",
       "      <td>0.935887</td>\n",
       "      <td>0.882033</td>\n",
       "      <td>0.713489</td>\n",
       "      <td>0.653870</td>\n",
       "    </tr>\n",
       "    <tr>\n",
       "      <th>ArXiv Papers</th>\n",
       "      <td>0.570501</td>\n",
       "      <td>0.891022</td>\n",
       "      <td>0.897956</td>\n",
       "      <td>0.909911</td>\n",
       "      <td>0.887252</td>\n",
       "      <td>0.979499</td>\n",
       "      <td>0.911111</td>\n",
       "      <td>0.603696</td>\n",
       "      <td>0.497852</td>\n",
       "    </tr>\n",
       "    <tr>\n",
       "      <th>Gutenberg</th>\n",
       "      <td>0.368120</td>\n",
       "      <td>0.893822</td>\n",
       "      <td>0.861822</td>\n",
       "      <td>0.844978</td>\n",
       "      <td>0.925450</td>\n",
       "      <td>0.944041</td>\n",
       "      <td>0.977116</td>\n",
       "      <td>0.718074</td>\n",
       "      <td>0.716868</td>\n",
       "    </tr>\n",
       "    <tr>\n",
       "      <th>Bundestag [DE]</th>\n",
       "      <td>0.195764</td>\n",
       "      <td>0.658844</td>\n",
       "      <td>0.810867</td>\n",
       "      <td>0.593467</td>\n",
       "      <td>0.688333</td>\n",
       "      <td>0.751864</td>\n",
       "      <td>0.787612</td>\n",
       "      <td>0.954627</td>\n",
       "      <td>0.927696</td>\n",
       "    </tr>\n",
       "    <tr>\n",
       "      <th>Spiegel [DE]</th>\n",
       "      <td>0.370977</td>\n",
       "      <td>0.658667</td>\n",
       "      <td>0.740067</td>\n",
       "      <td>0.756289</td>\n",
       "      <td>0.728829</td>\n",
       "      <td>0.787205</td>\n",
       "      <td>0.687092</td>\n",
       "      <td>0.892476</td>\n",
       "      <td>0.953468</td>\n",
       "    </tr>\n",
       "  </tbody>\n",
       "</table>\n",
       "</div>"
      ],
      "text/plain": [
       "                  Blog Authorship  Student Essays  CNN News  Euro Court Cases  \\\n",
       "Blog Authorship          0.990526        0.670311  0.770356          0.727311   \n",
       "Student Essays           0.545363        0.987378  0.871422          0.864267   \n",
       "CNN News                 0.242957        0.795467  0.981600          0.946978   \n",
       "Euro Court Cases         0.266541        0.822844  0.931867          0.994267   \n",
       "House of Commons         0.428672        0.918933  0.903600          0.921378   \n",
       "ArXiv Papers             0.570501        0.891022  0.897956          0.909911   \n",
       "Gutenberg                0.368120        0.893822  0.861822          0.844978   \n",
       "Bundestag [DE]           0.195764        0.658844  0.810867          0.593467   \n",
       "Spiegel [DE]             0.370977        0.658667  0.740067          0.756289   \n",
       "\n",
       "                  House of Commons  ArXiv Papers  Gutenberg  Bundestag [DE]  \\\n",
       "Blog Authorship           0.680946      0.818656   0.830402        0.585027   \n",
       "Student Essays            0.789640      0.765632   0.874610        0.712686   \n",
       "CNN News                  0.846487      0.856025   0.904823        0.728708   \n",
       "Euro Court Cases          0.912973      0.919765   0.871915        0.569288   \n",
       "House of Commons          0.974189      0.935887   0.882033        0.713489   \n",
       "ArXiv Papers              0.887252      0.979499   0.911111        0.603696   \n",
       "Gutenberg                 0.925450      0.944041   0.977116        0.718074   \n",
       "Bundestag [DE]            0.688333      0.751864   0.787612        0.954627   \n",
       "Spiegel [DE]              0.728829      0.787205   0.687092        0.892476   \n",
       "\n",
       "                  Spiegel [DE]  \n",
       "Blog Authorship       0.671365  \n",
       "Student Essays        0.776286  \n",
       "CNN News              0.656823  \n",
       "Euro Court Cases      0.500940  \n",
       "House of Commons      0.653870  \n",
       "ArXiv Papers          0.497852  \n",
       "Gutenberg             0.716868  \n",
       "Bundestag [DE]        0.927696  \n",
       "Spiegel [DE]          0.953468  "
      ]
     },
     "execution_count": 14,
     "metadata": {},
     "output_type": "execute_result"
    }
   ],
   "source": [
    "import pandas as pd\n",
    "\n",
    "results = []\n",
    "for domain in domains:\n",
    "    results.append(\n",
    "        [results_in_domain[domain][\"metrics\"][i][\"test_roc_auc\"] for i in range(len(domains))]\n",
    "    )\n",
    "\n",
    "df = pd.DataFrame(results, columns=domains, index=domains)\n",
    "df"
   ]
  },
  {
   "cell_type": "markdown",
   "metadata": {},
   "source": [
    "## Cross-Domain Training & Evaluation"
   ]
  },
  {
   "cell_type": "code",
   "execution_count": 15,
   "metadata": {},
   "outputs": [
    {
     "name": "stderr",
     "output_type": "stream",
     "text": [
      "Seed set to 1337\n",
      "GPU available: True (cuda), used: True\n",
      "TPU available: False, using: 0 TPU cores\n",
      "HPU available: False, using: 0 HPUs\n",
      "/home/mastoeck/Projects/PrismAI/PrismAI/.venv/lib/python3.12/site-packages/lightning/pytorch/utilities/parsing.py:45: Attribute 'feature_dim' removed from hparams because it cannot be pickled. You can suppress this warning by setting `self.save_hyperparameters(ignore=['feature_dim'])`.\n",
      "LOCAL_RANK: 0 - CUDA_VISIBLE_DEVICES: [0]\n",
      "Loading `train_dataloader` to estimate number of stepping batches.\n",
      "\n",
      "  | Name        | Type              | Params | Mode  | In sizes    | Out sizes  \n",
      "--------------------------------------------------------------------------------------\n",
      "0 | conv_layers | Sequential        | 152 K  | train | ?           | ?          \n",
      "1 | projection  | Identity          | 0      | train | [32, 16384] | [32, 16384]\n",
      "2 | classifier  | Linear            | 16.4 K | train | [32, 16384] | [32, 1]    \n",
      "3 | criterion   | BCEWithLogitsLoss | 0      | train | ?           | ?          \n",
      "--------------------------------------------------------------------------------------\n",
      "168 K     Trainable params\n",
      "0         Non-trainable params\n",
      "168 K     Total params\n",
      "0.674     Total estimated model params size (MB)\n",
      "15        Modules in train mode\n",
      "0         Modules in eval mode\n"
     ]
    },
    {
     "data": {
      "application/vnd.jupyter.widget-view+json": {
       "model_id": "ff455bbd660649c5a8eebc9c657f496e",
       "version_major": 2,
       "version_minor": 0
      },
      "text/plain": [
       "Sanity Checking: |          | 0/? [00:00<?, ?it/s]"
      ]
     },
     "metadata": {},
     "output_type": "display_data"
    },
    {
     "data": {
      "application/vnd.jupyter.widget-view+json": {
       "model_id": "1367c47203b249338d5b8bcaa85b9351",
       "version_major": 2,
       "version_minor": 0
      },
      "text/plain": [
       "Training: |          | 0/? [00:00<?, ?it/s]"
      ]
     },
     "metadata": {},
     "output_type": "display_data"
    },
    {
     "data": {
      "application/vnd.jupyter.widget-view+json": {
       "model_id": "15e1af2dbd7f49629397ac67423f4f19",
       "version_major": 2,
       "version_minor": 0
      },
      "text/plain": [
       "Validation: |          | 0/? [00:00<?, ?it/s]"
      ]
     },
     "metadata": {},
     "output_type": "display_data"
    },
    {
     "data": {
      "application/vnd.jupyter.widget-view+json": {
       "model_id": "04883ca3362048eab1aa4d01129aebec",
       "version_major": 2,
       "version_minor": 0
      },
      "text/plain": [
       "Validation: |          | 0/? [00:00<?, ?it/s]"
      ]
     },
     "metadata": {},
     "output_type": "display_data"
    },
    {
     "data": {
      "application/vnd.jupyter.widget-view+json": {
       "model_id": "f4bbd039e48a4712bc79e6ebd7bbc104",
       "version_major": 2,
       "version_minor": 0
      },
      "text/plain": [
       "Validation: |          | 0/? [00:00<?, ?it/s]"
      ]
     },
     "metadata": {},
     "output_type": "display_data"
    },
    {
     "data": {
      "application/vnd.jupyter.widget-view+json": {
       "model_id": "1e4ed26a3c1a4ea4a093d0083bd53056",
       "version_major": 2,
       "version_minor": 0
      },
      "text/plain": [
       "Validation: |          | 0/? [00:00<?, ?it/s]"
      ]
     },
     "metadata": {},
     "output_type": "display_data"
    },
    {
     "data": {
      "application/vnd.jupyter.widget-view+json": {
       "model_id": "b40dc63cfb094f858294ff35d35f91b4",
       "version_major": 2,
       "version_minor": 0
      },
      "text/plain": [
       "Validation: |          | 0/? [00:00<?, ?it/s]"
      ]
     },
     "metadata": {},
     "output_type": "display_data"
    },
    {
     "data": {
      "application/vnd.jupyter.widget-view+json": {
       "model_id": "261bc2382e604933930e84a1d2708c66",
       "version_major": 2,
       "version_minor": 0
      },
      "text/plain": [
       "Validation: |          | 0/? [00:00<?, ?it/s]"
      ]
     },
     "metadata": {},
     "output_type": "display_data"
    },
    {
     "data": {
      "application/vnd.jupyter.widget-view+json": {
       "model_id": "c53d82270c0c4fa68b9bd3acfff16c74",
       "version_major": 2,
       "version_minor": 0
      },
      "text/plain": [
       "Validation: |          | 0/? [00:00<?, ?it/s]"
      ]
     },
     "metadata": {},
     "output_type": "display_data"
    },
    {
     "data": {
      "application/vnd.jupyter.widget-view+json": {
       "model_id": "59f20ff1b6334296a82d7fb2a59e47f8",
       "version_major": 2,
       "version_minor": 0
      },
      "text/plain": [
       "Validation: |          | 0/? [00:00<?, ?it/s]"
      ]
     },
     "metadata": {},
     "output_type": "display_data"
    },
    {
     "data": {
      "application/vnd.jupyter.widget-view+json": {
       "model_id": "45d124be10764c08ab5b762e63d4afe6",
       "version_major": 2,
       "version_minor": 0
      },
      "text/plain": [
       "Validation: |          | 0/? [00:00<?, ?it/s]"
      ]
     },
     "metadata": {},
     "output_type": "display_data"
    },
    {
     "data": {
      "application/vnd.jupyter.widget-view+json": {
       "model_id": "e331d0fe963a4aff8d170890656e2dde",
       "version_major": 2,
       "version_minor": 0
      },
      "text/plain": [
       "Validation: |          | 0/? [00:00<?, ?it/s]"
      ]
     },
     "metadata": {},
     "output_type": "display_data"
    },
    {
     "data": {
      "application/vnd.jupyter.widget-view+json": {
       "model_id": "6bd7f3fdda724d9e933d962d58c368db",
       "version_major": 2,
       "version_minor": 0
      },
      "text/plain": [
       "Validation: |          | 0/? [00:00<?, ?it/s]"
      ]
     },
     "metadata": {},
     "output_type": "display_data"
    },
    {
     "data": {
      "application/vnd.jupyter.widget-view+json": {
       "model_id": "6e919cb552ee4699a94846cba76dfbee",
       "version_major": 2,
       "version_minor": 0
      },
      "text/plain": [
       "Validation: |          | 0/? [00:00<?, ?it/s]"
      ]
     },
     "metadata": {},
     "output_type": "display_data"
    },
    {
     "data": {
      "application/vnd.jupyter.widget-view+json": {
       "model_id": "48bf3e778f9c4e0483e39453cd75c227",
       "version_major": 2,
       "version_minor": 0
      },
      "text/plain": [
       "Validation: |          | 0/? [00:00<?, ?it/s]"
      ]
     },
     "metadata": {},
     "output_type": "display_data"
    }
   ],
   "source": [
    "seed_everything(config[\"seed\"])\n",
    "train_dataloader = get_dataloader(*train_datasets.values(), shuffle=True)\n",
    "eval_dataloader = get_dataloader(*eval_datasets.values())\n",
    "test_dataloader = get_dataloader(*test_datasets.values())\n",
    "\n",
    "model = DocumentClassficationModel(**config)\n",
    "trainer = Trainer(\n",
    "    max_epochs=config[\"max_epochs\"],\n",
    "    logger=pl_loggers.TensorBoardLogger(\n",
    "        save_dir=f\"logs/all_domains/{type(featurizer).__name__}\",\n",
    "    ),\n",
    "    gradient_clip_val=config[\"gradient_clip_val\"],\n",
    "    callbacks=[EarlyStopping(monitor=\"val_loss\", mode=\"min\", patience=3)],\n",
    "    deterministic=True,\n",
    ")\n",
    "trainer.fit(\n",
    "    model,\n",
    "    train_dataloaders=train_dataloader,\n",
    "    val_dataloaders=eval_dataloader,\n",
    ")"
   ]
  },
  {
   "cell_type": "code",
   "execution_count": 16,
   "metadata": {},
   "outputs": [
    {
     "name": "stderr",
     "output_type": "stream",
     "text": [
      "LOCAL_RANK: 0 - CUDA_VISIBLE_DEVICES: [0]\n",
      "LOCAL_RANK: 0 - CUDA_VISIBLE_DEVICES: [0]\n",
      "LOCAL_RANK: 0 - CUDA_VISIBLE_DEVICES: [0]\n",
      "LOCAL_RANK: 0 - CUDA_VISIBLE_DEVICES: [0]\n",
      "LOCAL_RANK: 0 - CUDA_VISIBLE_DEVICES: [0]\n",
      "LOCAL_RANK: 0 - CUDA_VISIBLE_DEVICES: [0]\n",
      "LOCAL_RANK: 0 - CUDA_VISIBLE_DEVICES: [0]\n",
      "LOCAL_RANK: 0 - CUDA_VISIBLE_DEVICES: [0]\n",
      "LOCAL_RANK: 0 - CUDA_VISIBLE_DEVICES: [0]\n",
      "LOCAL_RANK: 0 - CUDA_VISIBLE_DEVICES: [0]\n",
      "LOCAL_RANK: 0 - CUDA_VISIBLE_DEVICES: [0]\n",
      "LOCAL_RANK: 0 - CUDA_VISIBLE_DEVICES: [0]\n",
      "LOCAL_RANK: 0 - CUDA_VISIBLE_DEVICES: [0]\n",
      "LOCAL_RANK: 0 - CUDA_VISIBLE_DEVICES: [0]\n",
      "LOCAL_RANK: 0 - CUDA_VISIBLE_DEVICES: [0]\n",
      "LOCAL_RANK: 0 - CUDA_VISIBLE_DEVICES: [0]\n",
      "LOCAL_RANK: 0 - CUDA_VISIBLE_DEVICES: [0]\n",
      "LOCAL_RANK: 0 - CUDA_VISIBLE_DEVICES: [0]\n",
      "LOCAL_RANK: 0 - CUDA_VISIBLE_DEVICES: [0]\n",
      "LOCAL_RANK: 0 - CUDA_VISIBLE_DEVICES: [0]\n"
     ]
    }
   ],
   "source": [
    "trainer.progress_bar_callback.disable()\n",
    "metrics_cross_domain = []\n",
    "for other, dataset in test_datasets.items():\n",
    "    trainer.validate(model, get_dataloader(eval_datasets[domain]), verbose=False)\n",
    "    metrics_cross_domain.append(\n",
    "        {\"other\": other}\n",
    "        | trainer.test(\n",
    "            model,\n",
    "            get_dataloader(dataset),\n",
    "            verbose=False,\n",
    "        )[0]\n",
    "    )\n",
    "trainer.validate(model, eval_dataloader, verbose=False)\n",
    "metrics_cross_domain += [\n",
    "    {\n",
    "        \"other\": \"ALL\",\n",
    "        **trainer.test(\n",
    "            model,\n",
    "            test_dataloader,\n",
    "            verbose=False,\n",
    "        )[0],\n",
    "    }\n",
    "]\n",
    "trainer.progress_bar_callback.enable()"
   ]
  },
  {
   "cell_type": "code",
   "execution_count": 17,
   "metadata": {},
   "outputs": [],
   "source": [
    "import pandas as pd\n",
    "\n",
    "\n",
    "def df_to_latex_heatmap(_df: pd.DataFrame):\n",
    "    print(\n",
    "        \"\\\\plotHeatmap{\"\n",
    "        + \",\".join(_df.index)\n",
    "        + \"}{%\\n    \"\n",
    "        + \",%\\n    \".join(\n",
    "            [\n",
    "                \"{\"\n",
    "                + \",\".join(f\"{val:.4f}/{round(val, 2):.2f}\" for val in row[1:])\n",
    "                + \"}\"\n",
    "                for row in _df.reset_index().values\n",
    "            ]\n",
    "        )\n",
    "        + \"%\\n}{\"\n",
    "        + \",\".join(_df.columns)\n",
    "        + \"}\"\n",
    "    )\n"
   ]
  },
  {
   "cell_type": "code",
   "execution_count": 18,
   "metadata": {},
   "outputs": [
    {
     "ename": "KeyError",
     "evalue": "'test_acc'",
     "output_type": "error",
     "traceback": [
      "\u001b[0;31m---------------------------------------------------------------------------\u001b[0m",
      "\u001b[0;31mKeyError\u001b[0m                                  Traceback (most recent call last)",
      "Cell \u001b[0;32mIn[18], line 8\u001b[0m\n\u001b[1;32m      4\u001b[0m results \u001b[38;5;241m=\u001b[39m []\n\u001b[1;32m      5\u001b[0m \u001b[38;5;28;01mfor\u001b[39;00m domain \u001b[38;5;129;01min\u001b[39;00m domains:\n\u001b[1;32m      6\u001b[0m     results\u001b[38;5;241m.\u001b[39mappend(\n\u001b[1;32m      7\u001b[0m         [\n\u001b[0;32m----> 8\u001b[0m             \u001b[43mresults_in_domain\u001b[49m\u001b[43m[\u001b[49m\u001b[43mdomain\u001b[49m\u001b[43m]\u001b[49m\u001b[43m[\u001b[49m\u001b[38;5;124;43m\"\u001b[39;49m\u001b[38;5;124;43mmetrics\u001b[39;49m\u001b[38;5;124;43m\"\u001b[39;49m\u001b[43m]\u001b[49m\u001b[43m[\u001b[49m\u001b[43mi\u001b[49m\u001b[43m]\u001b[49m\u001b[43m[\u001b[49m\u001b[43m_metric\u001b[49m\u001b[43m]\u001b[49m\n\u001b[1;32m      9\u001b[0m             \u001b[38;5;28;01mfor\u001b[39;00m i \u001b[38;5;129;01min\u001b[39;00m \u001b[38;5;28mrange\u001b[39m(\u001b[38;5;28mlen\u001b[39m(domains))\n\u001b[1;32m     10\u001b[0m         ]\n\u001b[1;32m     11\u001b[0m     )\n\u001b[1;32m     12\u001b[0m results\u001b[38;5;241m.\u001b[39mappend([m[_metric] \u001b[38;5;28;01mfor\u001b[39;00m m \u001b[38;5;129;01min\u001b[39;00m metrics_cross_domain[:\u001b[38;5;28mlen\u001b[39m(domains)]])\n\u001b[1;32m     14\u001b[0m df \u001b[38;5;241m=\u001b[39m pd\u001b[38;5;241m.\u001b[39mDataFrame(results, columns\u001b[38;5;241m=\u001b[39mdomains, index\u001b[38;5;241m=\u001b[39m\u001b[38;5;28mlist\u001b[39m(domains) \u001b[38;5;241m+\u001b[39m [\u001b[38;5;124m\"\u001b[39m\u001b[38;5;124mALL\u001b[39m\u001b[38;5;124m\"\u001b[39m])\n",
      "\u001b[0;31mKeyError\u001b[0m: 'test_acc'"
     ]
    }
   ],
   "source": [
    "# _metric = \"test_roc_auc\"\n",
    "_metric = \"test_acc\"\n",
    "\n",
    "results = []\n",
    "for domain in domains:\n",
    "    results.append(\n",
    "        [\n",
    "            results_in_domain[domain][\"metrics\"][i][_metric]\n",
    "            for i in range(len(domains))\n",
    "        ]\n",
    "    )\n",
    "results.append([m[_metric] for m in metrics_cross_domain[:len(domains)]])\n",
    "\n",
    "df = pd.DataFrame(results, columns=domains, index=list(domains) + [\"ALL\"])\n",
    "df[\"AVG\"] = df.mean(axis=1)\n",
    "df[\"AVG\"][-1] = metrics_cross_domain[-1][_metric]\n",
    "df"
   ]
  },
  {
   "cell_type": "code",
   "execution_count": null,
   "metadata": {},
   "outputs": [],
   "source": [
    "df_to_latex_heatmap(df)"
   ]
  },
  {
   "cell_type": "code",
   "execution_count": null,
   "metadata": {},
   "outputs": [],
   "source": [
    "config"
   ]
  },
  {
   "cell_type": "code",
   "execution_count": null,
   "metadata": {},
   "outputs": [],
   "source": [
    "import matplotlib.pyplot as plt\n",
    "import numpy as np\n",
    "import seaborn as sns\n",
    "\n",
    "ax = sns.heatmap(\n",
    "    df,\n",
    "    annot=True,\n",
    "    fmt=\".2f\",\n",
    "    vmax=1.0,\n",
    "    vmin=0.0,\n",
    "    cmap=sns.cubehelix_palette(rot=-0.2, as_cmap=True),\n",
    "    yticklabels=list(domains) + [\"ALL\"],\n",
    "    xticklabels=list(domains) + [\"AVG\"],\n",
    "    square=True,\n",
    "    # reduce annotation font size\n",
    "    annot_kws={\"fontsize\": 8},\n",
    "    cbar=False,\n",
    ")\n",
    "\n",
    "# rotate x-axis labels by 45 degrees\n",
    "# anchored at the right edge of the axes\n",
    "for tick in ax.get_xticklabels():\n",
    "    tick.set_rotation(45)\n",
    "    tick.set_horizontalalignment(\"right\")\n",
    "\n",
    "plt.tight_layout()\n",
    "# plt.savefig(\n",
    "#     \"../figures/evaluation-trained_in_domain-test_0.1-gpt2_256-rand_4-il_13_as_channels.pdf\",\n",
    "#     dpi=300,\n",
    "# )\n",
    "plt.show()"
   ]
  },
  {
   "cell_type": "markdown",
   "metadata": {},
   "source": [
    "### LLR on Whole Datasets"
   ]
  },
  {
   "cell_type": "code",
   "execution_count": null,
   "metadata": {},
   "outputs": [],
   "source": [
    "from sklearn.metrics import auc, roc_curve\n",
    "\n",
    "from luminar.baselines import llr_from_transition_scores\n",
    "from simple_dataset import Dataset as SimpleDataset\n",
    "from transition_scores.data import TransitionScores\n",
    "\n",
    "results_llr = []\n",
    "for domain, split in datasets.items():\n",
    "    dataset_test = (\n",
    "        SimpleDataset(split)\n",
    "        .flat_map(lambda doc: doc[\"features\"])\n",
    "        .map(\n",
    "            lambda x: {\n",
    "                \"llr\": llr_from_transition_scores(\n",
    "                    TransitionScores(**x[\"transition_scores\"])\n",
    "                ),\n",
    "                \"labels\": int(x[\"type\"] != \"source\"),\n",
    "            },\n",
    "            in_place=False,\n",
    "        )\n",
    "    )\n",
    "    fpr, tpr, _ = roc_curve(dataset_test[\"labels\"], dataset_test[\"llr\"])\n",
    "    auroc = auc(fpr, tpr)\n",
    "\n",
    "    preds = np.array(dataset_test[\"llr\"])\n",
    "    labels = np.array(dataset_test[\"labels\"])\n",
    "\n",
    "    mean_0 = float(np.mean(preds[labels == 0]))\n",
    "    mean_1 = float(np.mean(preds[labels == 1]))\n",
    "\n",
    "    thresholds = np.linspace(round(mean_0, 1) - 0.2, round(mean_1, 1) + 0.3, 5001)\n",
    "    preds_thresholded: np.ndarray = preds > thresholds.reshape(-1, 1)\n",
    "    acc_thresholded = np.mean((preds_thresholded == labels), axis=1)\n",
    "    idx = np.argmax(acc_thresholded)\n",
    "    best_threshold = thresholds[idx]\n",
    "    best_acc = acc_thresholded[idx]\n",
    "\n",
    "    results_llr.append({\n",
    "        \"domain\": domain,\n",
    "        \"auroc\": auroc,\n",
    "        \"best_acc\": best_acc,\n",
    "        \"best_threshold\": best_threshold,\n",
    "    })\n",
    "\n",
    "pd.DataFrame(results_llr)"
   ]
  },
  {
   "cell_type": "markdown",
   "metadata": {},
   "source": [
    "### LLR on Test Splits"
   ]
  },
  {
   "cell_type": "code",
   "execution_count": null,
   "metadata": {},
   "outputs": [],
   "source": [
    "from sklearn.metrics import auc, roc_curve\n",
    "\n",
    "from luminar.baselines import llr_from_transition_scores\n",
    "from simple_dataset import Dataset as SimpleDataset\n",
    "from transition_scores.data import TransitionScores\n",
    "\n",
    "results_llr = []\n",
    "for domain, split in test_splits.items():\n",
    "    dataset_test = (\n",
    "        SimpleDataset(split)\n",
    "        .flat_map(lambda doc: doc[\"features\"])\n",
    "        .map(\n",
    "            lambda x: {\n",
    "                \"llr\": llr_from_transition_scores(\n",
    "                    TransitionScores(**x[\"transition_scores\"])\n",
    "                ),\n",
    "                \"labels\": int(x[\"type\"] != \"source\"),\n",
    "            },\n",
    "            in_place=False,\n",
    "        )\n",
    "    )\n",
    "    fpr, tpr, _ = roc_curve(dataset_test[\"labels\"], dataset_test[\"llr\"])\n",
    "    auroc = auc(fpr, tpr)\n",
    "\n",
    "    preds = np.array(dataset_test[\"llr\"])\n",
    "    labels = np.array(dataset_test[\"labels\"])\n",
    "\n",
    "    mean_0 = float(np.mean(preds[labels == 0]))\n",
    "    mean_1 = float(np.mean(preds[labels == 1]))\n",
    "\n",
    "    thresholds = np.linspace(round(mean_0, 1) - 0.2, round(mean_1, 1) + 0.3, 1001)\n",
    "    preds_thresholded: np.ndarray = preds > thresholds.reshape(-1, 1)\n",
    "    acc_thresholded = np.mean((preds_thresholded == labels), axis=1)\n",
    "    idx = np.argmax(acc_thresholded)\n",
    "    best_threshold = thresholds[idx]\n",
    "    best_acc = acc_thresholded[idx]\n",
    "\n",
    "    results_llr.append({\n",
    "        \"domain\": domain,\n",
    "        \"auroc\": auroc,\n",
    "        \"best_acc\": best_acc,\n",
    "        \"best_threshold\": best_threshold,\n",
    "    })\n",
    "\n",
    "pd.DataFrame(results_llr)"
   ]
  },
  {
   "cell_type": "code",
   "execution_count": null,
   "metadata": {},
   "outputs": [],
   "source": [
    "raise RuntimeError(\"STOP\")"
   ]
  },
  {
   "cell_type": "code",
   "execution_count": null,
   "metadata": {},
   "outputs": [],
   "source": [
    "sample = train_datasets[\"CNN News\"][0][\"features\"].numpy().squeeze()\n",
    "train_datasets[\"CNN News\"][0][\"labels\"]"
   ]
  },
  {
   "cell_type": "code",
   "execution_count": null,
   "metadata": {},
   "outputs": [],
   "source": [
    "fig = plt.imshow(sample.T, cmap=sns.cubehelix_palette(rot=-0.2, as_cmap=True))\n",
    "fig.axes.set_axis_off()\n",
    "plt.show()"
   ]
  },
  {
   "cell_type": "code",
   "execution_count": null,
   "metadata": {},
   "outputs": [],
   "source": [
    "sample = train_datasets[\"CNN News\"][1][\"features\"].numpy().squeeze()\n",
    "train_datasets[\"CNN News\"][1][\"labels\"]"
   ]
  },
  {
   "cell_type": "code",
   "execution_count": null,
   "metadata": {},
   "outputs": [],
   "source": [
    "fig = plt.imshow(sample.T, cmap=sns.cubehelix_palette(rot=-0.2, as_cmap=True))\n",
    "fig.axes.set_axis_off()\n",
    "plt.show()"
   ]
  },
  {
   "cell_type": "code",
   "execution_count": null,
   "metadata": {},
   "outputs": [],
   "source": [
    "raise RuntimeError(\"STOP\")"
   ]
  },
  {
   "cell_type": "code",
   "execution_count": null,
   "metadata": {},
   "outputs": [],
   "source": []
  },
  {
   "cell_type": "code",
   "execution_count": null,
   "metadata": {},
   "outputs": [],
   "source": [
    "from sklearn.metrics import auc, roc_curve\n",
    "\n",
    "from luminar.baselines import llr_from_transition_scores\n",
    "\n",
    "dataset_test = dm._dataset_test.map(\n",
    "    lambda x: {\n",
    "        \"llr\": llr_from_transition_scores(x[\"features\"]),\n",
    "        \"labels\": x[\"labels\"],\n",
    "    },\n",
    "    in_place=False,\n",
    ")\n",
    "fpr, tpr, _ = roc_curve(dataset_test[\"labels\"], dataset_test[\"llr\"])\n",
    "auc(fpr, tpr)"
   ]
  }
 ],
 "metadata": {
  "kernelspec": {
   "display_name": ".venv",
   "language": "python",
   "name": "python3"
  },
  "language_info": {
   "codemirror_mode": {
    "name": "ipython",
    "version": 3
   },
   "file_extension": ".py",
   "mimetype": "text/x-python",
   "name": "python",
   "nbconvert_exporter": "python",
   "pygments_lexer": "ipython3",
   "version": "3.12.7"
  }
 },
 "nbformat": 4,
 "nbformat_minor": 2
}
