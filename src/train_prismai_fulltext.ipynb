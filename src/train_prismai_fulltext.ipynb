{
 "cells": [
  {
   "cell_type": "code",
   "execution_count": null,
   "metadata": {},
   "outputs": [],
   "source": [
    "import copy\n",
    "import importlib\n",
    "import os\n",
    "import warnings\n",
    "from itertools import product\n",
    "\n",
    "import numpy as np\n",
    "import torch\n",
    "from dotenv import load_dotenv\n",
    "from lightning.pytorch import Trainer, seed_everything\n",
    "from lightning.pytorch import loggers as pl_loggers\n",
    "from lightning.pytorch.callbacks.early_stopping import EarlyStopping\n",
    "from lightning.pytorch.tuner import Tuner\n",
    "from tqdm.auto import tqdm\n",
    "\n",
    "load_dotenv(\"../env\")\n",
    "\n",
    "warnings.filterwarnings(\"ignore\", \".*does not have many workers.*\")"
   ]
  },
  {
   "cell_type": "code",
   "execution_count": 2,
   "metadata": {},
   "outputs": [
    {
     "data": {
      "text/plain": [
       "<module 'luminar.mongo' from '/nvme/projects/PrismAI/PrismAI/src/luminar/mongo.py'>"
      ]
     },
     "execution_count": 2,
     "metadata": {},
     "output_type": "execute_result"
    }
   ],
   "source": [
    "import luminar.document.data\n",
    "import luminar.document.model\n",
    "import luminar.features\n",
    "import luminar.mongo\n",
    "\n",
    "importlib.reload(luminar.document.data)\n",
    "importlib.reload(luminar.document.model)\n",
    "importlib.reload(luminar.features)\n",
    "importlib.reload(luminar.mongo)"
   ]
  },
  {
   "cell_type": "code",
   "execution_count": 3,
   "metadata": {},
   "outputs": [],
   "source": [
    "from luminar.document.data import (\n",
    "    DocumentClassificationDataModule,\n",
    "    FeatureDataset,\n",
    "    PaddingDataloader,\n",
    "    n_way_split,\n",
    ")\n",
    "from luminar.document.model import ConvolutionalLayerSpec, DocumentClassficationModel\n",
    "from luminar.features import FeatureExtractor, OneDimFeatures, Slicer, TwoDimFeatures\n",
    "from luminar.mongo import PrismaiDataset"
   ]
  },
  {
   "cell_type": "code",
   "execution_count": 4,
   "metadata": {},
   "outputs": [],
   "source": [
    "domains = {\n",
    "    \"Blog Authorship\": {\"domain\": \"blog_authorship_corpus\"},\n",
    "    \"Student Essays\": {\"domain\": \"student_essays\"},\n",
    "    \"CNN News\": {\"domain\": \"cnn_news\"},\n",
    "    \"Euro Court Cases\": {\"domain\": \"euro_court_cases\"},\n",
    "    \"House of Commons\": {\"domain\": \"house_of_commons\"},\n",
    "    \"ArXiv Papers\": {\"domain\": \"arxiv_papers\"},\n",
    "    \"Gutenberg\": {\"domain\": \"gutenberg\", \"lang\": \"en-EN\"},\n",
    "    \"Bundestag [DE]\": {\"domain\": \"bundestag\"},\n",
    "    \"Spiegel [DE]\": {\"domain\": \"spiegel_articles\"},\n",
    "    # \"Gutenberg [DE]\": {\"domain\": \"gutenberg\", \"lang\": \"de-DE\"},\n",
    "}"
   ]
  },
  {
   "cell_type": "code",
   "execution_count": 5,
   "metadata": {},
   "outputs": [],
   "source": [
    "dmap = {\n",
    "    \"Blog Authorship\": \"Blog Authorship\",\n",
    "    \"Student Essays\": \"Student Essays\",\n",
    "    \"CNN News\": \"CNN News\",\n",
    "    \"Euro Court Cases\": \"Euro Court Cases\",\n",
    "    \"House of Commons\": \"House of Commons\",\n",
    "    \"ArXiv Papers\": \"ArXiv Papers\",\n",
    "    \"Gutenberg [EN]\": \"Gutenberg\",\n",
    "    \"Bundestag\": \"Bundestag [DE]\",\n",
    "    \"Spiegel\": \"Spiegel [DE]\",\n",
    "    # \"Gutenberg [DE]\": \n",
    "}"
   ]
  },
  {
   "cell_type": "code",
   "execution_count": 6,
   "metadata": {},
   "outputs": [],
   "source": [
    "config = {\n",
    "    \"seed\": 1337,\n",
    "    \"eval_split\": 0.1,\n",
    "    \"test_split\": 0.1,\n",
    "    \"feature_model\": \"gpt2\",\n",
    "    \"synth_agent\": \"gpt-4o-mini\",\n",
    "    # \"synth_agent\": \"gemma2:9b\"\n",
    "}"
   ]
  },
  {
   "cell_type": "code",
   "execution_count": 7,
   "metadata": {},
   "outputs": [],
   "source": [
    "datasets = {\n",
    "    domain: PrismaiDataset(\n",
    "        mongo_db_connection=os.environ.get(\"MONGO_DB_CONNECTION\"),\n",
    "        database=\"prismai\",\n",
    "        collection=\"features_prismai\",\n",
    "        feature_model=config[\"feature_model\"],\n",
    "        synth_agent=config[\"synth_agent\"],\n",
    "        **kwargs,\n",
    "    )\n",
    "    for domain, kwargs in domains.items()\n",
    "}"
   ]
  },
  {
   "cell_type": "code",
   "execution_count": 8,
   "metadata": {},
   "outputs": [
    {
     "name": "stderr",
     "output_type": "stream",
     "text": [
      "Seed set to 1337\n"
     ]
    },
    {
     "name": "stdout",
     "output_type": "stream",
     "text": [
      "[PrismaiDataset] Loading Data from Cache File /nvme/.cache/luminar/ef0bf4ac00353b4c3cf35f1d81719f7c755a0aa74285110bc6d705aeab0f4275.pkl\n"
     ]
    },
    {
     "name": "stderr",
     "output_type": "stream",
     "text": [
      "Seed set to 1337\n"
     ]
    },
    {
     "name": "stdout",
     "output_type": "stream",
     "text": [
      "[PrismaiDataset] Loading Data from Cache File /nvme/.cache/luminar/5486290edc393c9f30480a59dd534ea751ae8a31b48bfd03b5f098c4f8bdc1cc.pkl\n"
     ]
    },
    {
     "name": "stderr",
     "output_type": "stream",
     "text": [
      "Seed set to 1337\n"
     ]
    },
    {
     "name": "stdout",
     "output_type": "stream",
     "text": [
      "[PrismaiDataset] Loading Data from Cache File /nvme/.cache/luminar/2982044d5332b295e5e8e3a5a6291d2757ee5843d7d6cbba05f6a53d57500b50.pkl\n"
     ]
    },
    {
     "name": "stderr",
     "output_type": "stream",
     "text": [
      "Seed set to 1337\n"
     ]
    },
    {
     "name": "stdout",
     "output_type": "stream",
     "text": [
      "[PrismaiDataset] Loading Data from Cache File /nvme/.cache/luminar/22643d0366260c134eb83cdacb95ab8caf23fbaf0150d3f2f7ae2cea07101987.pkl\n"
     ]
    },
    {
     "name": "stderr",
     "output_type": "stream",
     "text": [
      "Seed set to 1337\n"
     ]
    },
    {
     "name": "stdout",
     "output_type": "stream",
     "text": [
      "[PrismaiDataset] Loading Data from Cache File /nvme/.cache/luminar/1725afa23038757da3571b5b33d988ce03bef64b78aa936623b059be17e4b941.pkl\n"
     ]
    },
    {
     "name": "stderr",
     "output_type": "stream",
     "text": [
      "Seed set to 1337\n"
     ]
    },
    {
     "name": "stdout",
     "output_type": "stream",
     "text": [
      "[PrismaiDataset] Loading Data from Cache File /nvme/.cache/luminar/cf046e8f2421ad8948f68de42e767365337f656a51ce9f9bf2a508f41d1e99db.pkl\n"
     ]
    },
    {
     "name": "stderr",
     "output_type": "stream",
     "text": [
      "Seed set to 1337\n"
     ]
    },
    {
     "name": "stdout",
     "output_type": "stream",
     "text": [
      "[PrismaiDataset] Loading Data from Cache File /nvme/.cache/luminar/f38cb33ea5c3f40856a4db07115946d7a99c95fca0b54ce148415fb5063be266.pkl\n"
     ]
    },
    {
     "name": "stderr",
     "output_type": "stream",
     "text": [
      "Seed set to 1337\n"
     ]
    },
    {
     "name": "stdout",
     "output_type": "stream",
     "text": [
      "[PrismaiDataset] Loading Data from Cache File /nvme/.cache/luminar/281b270f73261fde5b5517abe476f7282592e6e4c0c4161857d3fd83c33aaf9b.pkl\n"
     ]
    },
    {
     "name": "stderr",
     "output_type": "stream",
     "text": [
      "Seed set to 1337\n"
     ]
    },
    {
     "name": "stdout",
     "output_type": "stream",
     "text": [
      "[PrismaiDataset] Loading Data from Cache File /nvme/.cache/luminar/50f2f9ce260cd153c5bca0c86708073a7221aad4c39b121601fdbb01dc3e6d31.pkl\n"
     ]
    }
   ],
   "source": [
    "train_splits = {}\n",
    "eval_splits = {}\n",
    "test_splits = {}\n",
    "for domain, dataset in datasets.items():\n",
    "    seed_everything(config[\"seed\"])\n",
    "    train_dataset, eval_dataset, test_dataset = n_way_split(\n",
    "        dataset,\n",
    "        config[\"eval_split\"],\n",
    "        config[\"test_split\"],\n",
    "        infer_first=True,\n",
    "    )\n",
    "    train_splits[domain] = train_dataset\n",
    "    eval_splits[domain] = eval_dataset\n",
    "    test_splits[domain] = test_dataset"
   ]
  },
  {
   "cell_type": "markdown",
   "metadata": {},
   "source": [
    "## LLR\n"
   ]
  },
  {
   "cell_type": "code",
   "execution_count": 72,
   "metadata": {},
   "outputs": [],
   "source": [
    "from luminar.baselines import llr_from_transition_scores\n",
    "from simple_dataset import Dataset as SimpleDataset\n",
    "from transition_scores.data import TransitionScores\n",
    "\n",
    "\n",
    "def precompute_llr(split: list[dict]):\n",
    "    lrr_dataset = (\n",
    "        SimpleDataset(split)\n",
    "        .flat_map(lambda doc: doc[\"features\"])\n",
    "        .map(\n",
    "            lambda x: {\n",
    "                \"llr\": llr_from_transition_scores(\n",
    "                    TransitionScores(**x[\"transition_scores\"])\n",
    "                ),\n",
    "                \"labels\": int(x[\"type\"] != \"source\"),\n",
    "            },\n",
    "            in_place=False,\n",
    "        )\n",
    "    )\n",
    "\n",
    "    llr = np.array(lrr_dataset[\"llr\"])\n",
    "    labels = np.array(lrr_dataset[\"labels\"])\n",
    "\n",
    "    return {\"llr\": llr, \"labels\": labels}\n"
   ]
  },
  {
   "cell_type": "code",
   "execution_count": 73,
   "metadata": {},
   "outputs": [],
   "source": [
    "import pandas as pd\n",
    "from sklearn.metrics import auc, roc_curve\n",
    "\n",
    "\n",
    "def llr_metrics(llr: np.ndarray, labels: np.ndarray):\n",
    "    mean_0 = float(np.mean(llr[labels == 0]))\n",
    "    mean_1 = float(np.mean(llr[labels == 1]))\n",
    "    threshold_simple = mean_0 + (mean_1 - mean_0) / 2\n",
    "    acc_simple = np.mean((llr > threshold_simple) == labels)\n",
    "\n",
    "    # thresholds = np.linspace(round(mean_0, 1) - 0.2, round(mean_1, 1) + 0.3, 1001)\n",
    "\n",
    "    threshold_space = np.linspace(llr.min(), llr.max(), 10001)\n",
    "    preds_thresholded: np.ndarray = llr > threshold_space.reshape(-1, 1)\n",
    "    acc_thresholded = np.mean((preds_thresholded == labels), axis=1)\n",
    "    idx = np.argmax(acc_thresholded)\n",
    "    threshold_best = threshold_space[idx]\n",
    "    acc_best = acc_thresholded[idx]\n",
    "\n",
    "    fpr, tpr, _ = roc_curve(labels, llr)\n",
    "    auroc = auc(fpr, tpr)\n",
    "\n",
    "    return {\n",
    "        \"acc_simple\": acc_simple,\n",
    "        \"threshold_simple\": threshold_simple,\n",
    "        \"acc_best\": acc_best,\n",
    "        \"threshold_best\": threshold_best,\n",
    "        \"auroc\": auroc,\n",
    "    }\n"
   ]
  },
  {
   "cell_type": "markdown",
   "metadata": {},
   "source": [
    "### LLR on Whole Datasets"
   ]
  },
  {
   "cell_type": "code",
   "execution_count": 74,
   "metadata": {},
   "outputs": [
    {
     "data": {
      "application/vnd.jupyter.widget-view+json": {
       "model_id": "22ff9eac520245c298b07fd799a84fc5",
       "version_major": 2,
       "version_minor": 0
      },
      "text/plain": [
       "  0%|          | 0/9 [00:00<?, ?it/s]"
      ]
     },
     "metadata": {},
     "output_type": "display_data"
    }
   ],
   "source": [
    "llr_datasets = {}\n",
    "for domain, dataset in tqdm(datasets.items()):\n",
    "    llr_datasets[domain] = precompute_llr(dataset)"
   ]
  },
  {
   "cell_type": "code",
   "execution_count": 75,
   "metadata": {},
   "outputs": [
    {
     "data": {
      "text/html": [
       "<div>\n",
       "<style scoped>\n",
       "    .dataframe tbody tr th:only-of-type {\n",
       "        vertical-align: middle;\n",
       "    }\n",
       "\n",
       "    .dataframe tbody tr th {\n",
       "        vertical-align: top;\n",
       "    }\n",
       "\n",
       "    .dataframe thead th {\n",
       "        text-align: right;\n",
       "    }\n",
       "</style>\n",
       "<table border=\"1\" class=\"dataframe\">\n",
       "  <thead>\n",
       "    <tr style=\"text-align: right;\">\n",
       "      <th></th>\n",
       "      <th>domain</th>\n",
       "      <th>acc_simple</th>\n",
       "      <th>threshold_simple</th>\n",
       "      <th>acc_best</th>\n",
       "      <th>threshold_best</th>\n",
       "      <th>auroc</th>\n",
       "    </tr>\n",
       "  </thead>\n",
       "  <tbody>\n",
       "    <tr>\n",
       "      <th>0</th>\n",
       "      <td>Blog Authorship</td>\n",
       "      <td>0.504020</td>\n",
       "      <td>1.856577</td>\n",
       "      <td>0.548246</td>\n",
       "      <td>2.927292</td>\n",
       "      <td>0.469396</td>\n",
       "    </tr>\n",
       "    <tr>\n",
       "      <th>1</th>\n",
       "      <td>Student Essays</td>\n",
       "      <td>0.769667</td>\n",
       "      <td>1.990933</td>\n",
       "      <td>0.780333</td>\n",
       "      <td>1.975895</td>\n",
       "      <td>0.845398</td>\n",
       "    </tr>\n",
       "    <tr>\n",
       "      <th>2</th>\n",
       "      <td>CNN News</td>\n",
       "      <td>0.878333</td>\n",
       "      <td>1.994945</td>\n",
       "      <td>0.879000</td>\n",
       "      <td>1.993035</td>\n",
       "      <td>0.941183</td>\n",
       "    </tr>\n",
       "    <tr>\n",
       "      <th>3</th>\n",
       "      <td>Euro Court Cases</td>\n",
       "      <td>0.851753</td>\n",
       "      <td>2.047082</td>\n",
       "      <td>0.855092</td>\n",
       "      <td>2.051046</td>\n",
       "      <td>0.914577</td>\n",
       "    </tr>\n",
       "    <tr>\n",
       "      <th>4</th>\n",
       "      <td>House of Commons</td>\n",
       "      <td>0.836577</td>\n",
       "      <td>1.973144</td>\n",
       "      <td>0.852013</td>\n",
       "      <td>1.981523</td>\n",
       "      <td>0.855806</td>\n",
       "    </tr>\n",
       "    <tr>\n",
       "      <th>5</th>\n",
       "      <td>ArXiv Papers</td>\n",
       "      <td>0.940000</td>\n",
       "      <td>1.913688</td>\n",
       "      <td>0.940333</td>\n",
       "      <td>1.908010</td>\n",
       "      <td>0.965488</td>\n",
       "    </tr>\n",
       "    <tr>\n",
       "      <th>6</th>\n",
       "      <td>Gutenberg</td>\n",
       "      <td>0.842615</td>\n",
       "      <td>1.924459</td>\n",
       "      <td>0.845036</td>\n",
       "      <td>1.926097</td>\n",
       "      <td>0.902650</td>\n",
       "    </tr>\n",
       "    <tr>\n",
       "      <th>7</th>\n",
       "      <td>Bundestag [DE]</td>\n",
       "      <td>0.777133</td>\n",
       "      <td>1.786557</td>\n",
       "      <td>0.783276</td>\n",
       "      <td>1.789739</td>\n",
       "      <td>0.843577</td>\n",
       "    </tr>\n",
       "    <tr>\n",
       "      <th>8</th>\n",
       "      <td>Spiegel [DE]</td>\n",
       "      <td>0.809746</td>\n",
       "      <td>1.757362</td>\n",
       "      <td>0.812083</td>\n",
       "      <td>1.758024</td>\n",
       "      <td>0.866562</td>\n",
       "    </tr>\n",
       "  </tbody>\n",
       "</table>\n",
       "</div>"
      ],
      "text/plain": [
       "             domain  acc_simple  threshold_simple  acc_best  threshold_best  \\\n",
       "0   Blog Authorship    0.504020          1.856577  0.548246        2.927292   \n",
       "1    Student Essays    0.769667          1.990933  0.780333        1.975895   \n",
       "2          CNN News    0.878333          1.994945  0.879000        1.993035   \n",
       "3  Euro Court Cases    0.851753          2.047082  0.855092        2.051046   \n",
       "4  House of Commons    0.836577          1.973144  0.852013        1.981523   \n",
       "5      ArXiv Papers    0.940000          1.913688  0.940333        1.908010   \n",
       "6         Gutenberg    0.842615          1.924459  0.845036        1.926097   \n",
       "7    Bundestag [DE]    0.777133          1.786557  0.783276        1.789739   \n",
       "8      Spiegel [DE]    0.809746          1.757362  0.812083        1.758024   \n",
       "\n",
       "      auroc  \n",
       "0  0.469396  \n",
       "1  0.845398  \n",
       "2  0.941183  \n",
       "3  0.914577  \n",
       "4  0.855806  \n",
       "5  0.965488  \n",
       "6  0.902650  \n",
       "7  0.843577  \n",
       "8  0.866562  "
      ]
     },
     "execution_count": 75,
     "metadata": {},
     "output_type": "execute_result"
    }
   ],
   "source": [
    "results_llr = []\n",
    "for domain, split in llr_datasets.items():\n",
    "    results_llr.append({\"domain\": domain} | llr_metrics(split[\"llr\"], split[\"labels\"]))\n",
    "\n",
    "pd.DataFrame(results_llr)"
   ]
  },
  {
   "cell_type": "markdown",
   "metadata": {},
   "source": [
    "### LLR on Test Splits"
   ]
  },
  {
   "cell_type": "code",
   "execution_count": 76,
   "metadata": {},
   "outputs": [
    {
     "data": {
      "application/vnd.jupyter.widget-view+json": {
       "model_id": "d6d16c3e77594df9bf661c155778aa23",
       "version_major": 2,
       "version_minor": 0
      },
      "text/plain": [
       "  0%|          | 0/9 [00:00<?, ?it/s]"
      ]
     },
     "metadata": {},
     "output_type": "display_data"
    }
   ],
   "source": [
    "llr_test_datasets = {}\n",
    "for domain, test_dataset in tqdm(test_splits.items()):\n",
    "    llr_test_datasets[domain] = precompute_llr(test_dataset)"
   ]
  },
  {
   "cell_type": "code",
   "execution_count": 77,
   "metadata": {},
   "outputs": [
    {
     "data": {
      "text/html": [
       "<div>\n",
       "<style scoped>\n",
       "    .dataframe tbody tr th:only-of-type {\n",
       "        vertical-align: middle;\n",
       "    }\n",
       "\n",
       "    .dataframe tbody tr th {\n",
       "        vertical-align: top;\n",
       "    }\n",
       "\n",
       "    .dataframe thead th {\n",
       "        text-align: right;\n",
       "    }\n",
       "</style>\n",
       "<table border=\"1\" class=\"dataframe\">\n",
       "  <thead>\n",
       "    <tr style=\"text-align: right;\">\n",
       "      <th></th>\n",
       "      <th>domain</th>\n",
       "      <th>acc_simple</th>\n",
       "      <th>threshold_simple</th>\n",
       "      <th>acc_best</th>\n",
       "      <th>threshold_best</th>\n",
       "      <th>auroc</th>\n",
       "    </tr>\n",
       "  </thead>\n",
       "  <tbody>\n",
       "    <tr>\n",
       "      <th>0</th>\n",
       "      <td>Blog Authorship</td>\n",
       "      <td>0.462898</td>\n",
       "      <td>1.844718</td>\n",
       "      <td>0.530035</td>\n",
       "      <td>1.911967</td>\n",
       "      <td>0.442306</td>\n",
       "    </tr>\n",
       "    <tr>\n",
       "      <th>1</th>\n",
       "      <td>Student Essays</td>\n",
       "      <td>0.786667</td>\n",
       "      <td>1.989013</td>\n",
       "      <td>0.790000</td>\n",
       "      <td>1.974502</td>\n",
       "      <td>0.850044</td>\n",
       "    </tr>\n",
       "    <tr>\n",
       "      <th>2</th>\n",
       "      <td>CNN News</td>\n",
       "      <td>0.860000</td>\n",
       "      <td>1.992728</td>\n",
       "      <td>0.880000</td>\n",
       "      <td>1.979858</td>\n",
       "      <td>0.931244</td>\n",
       "    </tr>\n",
       "    <tr>\n",
       "      <th>3</th>\n",
       "      <td>Euro Court Cases</td>\n",
       "      <td>0.833333</td>\n",
       "      <td>2.053451</td>\n",
       "      <td>0.856667</td>\n",
       "      <td>2.072896</td>\n",
       "      <td>0.916222</td>\n",
       "    </tr>\n",
       "    <tr>\n",
       "      <th>4</th>\n",
       "      <td>House of Commons</td>\n",
       "      <td>0.838926</td>\n",
       "      <td>1.974758</td>\n",
       "      <td>0.852349</td>\n",
       "      <td>1.992164</td>\n",
       "      <td>0.853063</td>\n",
       "    </tr>\n",
       "    <tr>\n",
       "      <th>5</th>\n",
       "      <td>ArXiv Papers</td>\n",
       "      <td>0.924915</td>\n",
       "      <td>1.916540</td>\n",
       "      <td>0.928328</td>\n",
       "      <td>1.916780</td>\n",
       "      <td>0.953639</td>\n",
       "    </tr>\n",
       "    <tr>\n",
       "      <th>6</th>\n",
       "      <td>Gutenberg</td>\n",
       "      <td>0.841924</td>\n",
       "      <td>1.918735</td>\n",
       "      <td>0.848797</td>\n",
       "      <td>1.913750</td>\n",
       "      <td>0.886903</td>\n",
       "    </tr>\n",
       "    <tr>\n",
       "      <th>7</th>\n",
       "      <td>Bundestag [DE]</td>\n",
       "      <td>0.752577</td>\n",
       "      <td>1.787583</td>\n",
       "      <td>0.780069</td>\n",
       "      <td>1.796051</td>\n",
       "      <td>0.818272</td>\n",
       "    </tr>\n",
       "    <tr>\n",
       "      <th>8</th>\n",
       "      <td>Spiegel [DE]</td>\n",
       "      <td>0.779264</td>\n",
       "      <td>1.754643</td>\n",
       "      <td>0.792642</td>\n",
       "      <td>1.745569</td>\n",
       "      <td>0.858389</td>\n",
       "    </tr>\n",
       "  </tbody>\n",
       "</table>\n",
       "</div>"
      ],
      "text/plain": [
       "             domain  acc_simple  threshold_simple  acc_best  threshold_best  \\\n",
       "0   Blog Authorship    0.462898          1.844718  0.530035        1.911967   \n",
       "1    Student Essays    0.786667          1.989013  0.790000        1.974502   \n",
       "2          CNN News    0.860000          1.992728  0.880000        1.979858   \n",
       "3  Euro Court Cases    0.833333          2.053451  0.856667        2.072896   \n",
       "4  House of Commons    0.838926          1.974758  0.852349        1.992164   \n",
       "5      ArXiv Papers    0.924915          1.916540  0.928328        1.916780   \n",
       "6         Gutenberg    0.841924          1.918735  0.848797        1.913750   \n",
       "7    Bundestag [DE]    0.752577          1.787583  0.780069        1.796051   \n",
       "8      Spiegel [DE]    0.779264          1.754643  0.792642        1.745569   \n",
       "\n",
       "      auroc  \n",
       "0  0.442306  \n",
       "1  0.850044  \n",
       "2  0.931244  \n",
       "3  0.916222  \n",
       "4  0.853063  \n",
       "5  0.953639  \n",
       "6  0.886903  \n",
       "7  0.818272  \n",
       "8  0.858389  "
      ]
     },
     "execution_count": 77,
     "metadata": {},
     "output_type": "execute_result"
    }
   ],
   "source": [
    "results_test_llr = []\n",
    "for domain, split in llr_test_datasets.items():\n",
    "    results_test_llr.append(\n",
    "        {\"domain\": domain} | llr_metrics(split[\"llr\"], split[\"labels\"])\n",
    "    )\n",
    "\n",
    "pd.DataFrame(results_test_llr)"
   ]
  },
  {
   "cell_type": "markdown",
   "metadata": {},
   "source": [
    "## Features"
   ]
  },
  {
   "cell_type": "code",
   "execution_count": 104,
   "metadata": {},
   "outputs": [],
   "source": [
    "# feature_dim = OneDimFeatures(256)\n",
    "# featurizer = FeatureExtractor.Likelihood()\n",
    "# featurizer = FeatureExtractor.LogLikelihoodLogRankRatio()\n",
    "# config[\"second_dim_as_channels\"] = False\n",
    "feature_dim = TwoDimFeatures(256, 16)\n",
    "featurizer = FeatureExtractor.LikelihoodTopkLikelihoodRatio(16)\n",
    "# featurizer = FeatureExtractor.IntermediateLogits(13)\n",
    "# config[\"second_dim_as_channels\"] = False\n",
    "config[\"second_dim_as_channels\"] = True\n",
    "\n",
    "# slicer = Slicer.Random(feature_dim[0])\n",
    "slicer = Slicer.RandomMultiple(feature_dim[0] // 4, multiple=4, stride=16)\n",
    "# slicer = Slicer.RandomMultiple(feature_dim[0] // 4, 4)\n",
    "\n",
    "config[\"feature_dim\"] = feature_dim\n",
    "config[\"featurizer\"] = repr(featurizer)\n",
    "config[\"slicer\"] = repr(slicer)\n",
    "\n",
    "config[\"num_samples\"] = None\n",
    "\n",
    "\n",
    "def featurize(dataset) -> FeatureDataset:\n",
    "    return FeatureDataset(\n",
    "        tqdm(dataset, position=1, leave=False),\n",
    "        slicer,\n",
    "        featurizer,\n",
    "        num_samples=config[\"num_samples\"],\n",
    "    )"
   ]
  },
  {
   "cell_type": "code",
   "execution_count": 105,
   "metadata": {},
   "outputs": [
    {
     "data": {
      "application/vnd.jupyter.widget-view+json": {
       "model_id": "e057096dc65d4536bb27456619edaba2",
       "version_major": 2,
       "version_minor": 0
      },
      "text/plain": [
       "  0%|          | 0/9 [00:00<?, ?it/s]"
      ]
     },
     "metadata": {},
     "output_type": "display_data"
    },
    {
     "data": {
      "application/vnd.jupyter.widget-view+json": {
       "model_id": "ae96225684e84964a1c097ef14ff644f",
       "version_major": 2,
       "version_minor": 0
      },
      "text/plain": [
       "  0%|          | 0/1200 [00:00<?, ?it/s]"
      ]
     },
     "metadata": {},
     "output_type": "display_data"
    },
    {
     "data": {
      "application/vnd.jupyter.widget-view+json": {
       "model_id": "6f55e419926248b28c73b9b2ade09c67",
       "version_major": 2,
       "version_minor": 0
      },
      "text/plain": [
       "  0%|          | 0/150 [00:00<?, ?it/s]"
      ]
     },
     "metadata": {},
     "output_type": "display_data"
    },
    {
     "data": {
      "application/vnd.jupyter.widget-view+json": {
       "model_id": "5e3c59dd5bdd4b4cb09489611fa006ef",
       "version_major": 2,
       "version_minor": 0
      },
      "text/plain": [
       "  0%|          | 0/150 [00:00<?, ?it/s]"
      ]
     },
     "metadata": {},
     "output_type": "display_data"
    },
    {
     "data": {
      "application/vnd.jupyter.widget-view+json": {
       "model_id": "e442817f225849d896633c3259e741bf",
       "version_major": 2,
       "version_minor": 0
      },
      "text/plain": [
       "  0%|          | 0/1200 [00:00<?, ?it/s]"
      ]
     },
     "metadata": {},
     "output_type": "display_data"
    },
    {
     "data": {
      "application/vnd.jupyter.widget-view+json": {
       "model_id": "dd9ce54982e340088c20dff419a3b221",
       "version_major": 2,
       "version_minor": 0
      },
      "text/plain": [
       "  0%|          | 0/150 [00:00<?, ?it/s]"
      ]
     },
     "metadata": {},
     "output_type": "display_data"
    },
    {
     "data": {
      "application/vnd.jupyter.widget-view+json": {
       "model_id": "1cc9a87d39a9426d96b6e5e1dd8f5559",
       "version_major": 2,
       "version_minor": 0
      },
      "text/plain": [
       "  0%|          | 0/150 [00:00<?, ?it/s]"
      ]
     },
     "metadata": {},
     "output_type": "display_data"
    },
    {
     "data": {
      "application/vnd.jupyter.widget-view+json": {
       "model_id": "78f1b0d3b2104592bb5b50cb3390fd15",
       "version_major": 2,
       "version_minor": 0
      },
      "text/plain": [
       "  0%|          | 0/1200 [00:00<?, ?it/s]"
      ]
     },
     "metadata": {},
     "output_type": "display_data"
    },
    {
     "data": {
      "application/vnd.jupyter.widget-view+json": {
       "model_id": "13e2c84e750b4035871d88f6a2e07c78",
       "version_major": 2,
       "version_minor": 0
      },
      "text/plain": [
       "  0%|          | 0/150 [00:00<?, ?it/s]"
      ]
     },
     "metadata": {},
     "output_type": "display_data"
    },
    {
     "data": {
      "application/vnd.jupyter.widget-view+json": {
       "model_id": "ac0f1060c2794b0e87e75597e0658de7",
       "version_major": 2,
       "version_minor": 0
      },
      "text/plain": [
       "  0%|          | 0/150 [00:00<?, ?it/s]"
      ]
     },
     "metadata": {},
     "output_type": "display_data"
    },
    {
     "data": {
      "application/vnd.jupyter.widget-view+json": {
       "model_id": "3d99fb28be114582918dc9f314e41552",
       "version_major": 2,
       "version_minor": 0
      },
      "text/plain": [
       "  0%|          | 0/1200 [00:00<?, ?it/s]"
      ]
     },
     "metadata": {},
     "output_type": "display_data"
    },
    {
     "data": {
      "application/vnd.jupyter.widget-view+json": {
       "model_id": "f3d73495457a41fd8110fcc3c6e73126",
       "version_major": 2,
       "version_minor": 0
      },
      "text/plain": [
       "  0%|          | 0/150 [00:00<?, ?it/s]"
      ]
     },
     "metadata": {},
     "output_type": "display_data"
    },
    {
     "data": {
      "application/vnd.jupyter.widget-view+json": {
       "model_id": "1458a0ee84bc40ef93c6d51887875c4e",
       "version_major": 2,
       "version_minor": 0
      },
      "text/plain": [
       "  0%|          | 0/150 [00:00<?, ?it/s]"
      ]
     },
     "metadata": {},
     "output_type": "display_data"
    },
    {
     "data": {
      "application/vnd.jupyter.widget-view+json": {
       "model_id": "3d28b568576947f98eb9394ba01250cb",
       "version_major": 2,
       "version_minor": 0
      },
      "text/plain": [
       "  0%|          | 0/1200 [00:00<?, ?it/s]"
      ]
     },
     "metadata": {},
     "output_type": "display_data"
    },
    {
     "data": {
      "application/vnd.jupyter.widget-view+json": {
       "model_id": "69fadd1523184299b03f7471a97c0094",
       "version_major": 2,
       "version_minor": 0
      },
      "text/plain": [
       "  0%|          | 0/150 [00:00<?, ?it/s]"
      ]
     },
     "metadata": {},
     "output_type": "display_data"
    },
    {
     "data": {
      "application/vnd.jupyter.widget-view+json": {
       "model_id": "fd14f3cb12f24c3a84925dd57999addc",
       "version_major": 2,
       "version_minor": 0
      },
      "text/plain": [
       "  0%|          | 0/150 [00:00<?, ?it/s]"
      ]
     },
     "metadata": {},
     "output_type": "display_data"
    },
    {
     "data": {
      "application/vnd.jupyter.widget-view+json": {
       "model_id": "31ed1be81f0848acb66955ffa5fac31c",
       "version_major": 2,
       "version_minor": 0
      },
      "text/plain": [
       "  0%|          | 0/1304 [00:00<?, ?it/s]"
      ]
     },
     "metadata": {},
     "output_type": "display_data"
    },
    {
     "data": {
      "application/vnd.jupyter.widget-view+json": {
       "model_id": "755663c13ada467b9cbd46d32ec676e1",
       "version_major": 2,
       "version_minor": 0
      },
      "text/plain": [
       "  0%|          | 0/162 [00:00<?, ?it/s]"
      ]
     },
     "metadata": {},
     "output_type": "display_data"
    },
    {
     "data": {
      "application/vnd.jupyter.widget-view+json": {
       "model_id": "712e68d0de5340d79ef7a1b7e4b2ade2",
       "version_major": 2,
       "version_minor": 0
      },
      "text/plain": [
       "  0%|          | 0/162 [00:00<?, ?it/s]"
      ]
     },
     "metadata": {},
     "output_type": "display_data"
    },
    {
     "data": {
      "application/vnd.jupyter.widget-view+json": {
       "model_id": "419eba1d2c2d41368e3e5658a5a97d44",
       "version_major": 2,
       "version_minor": 0
      },
      "text/plain": [
       "  0%|          | 0/1200 [00:00<?, ?it/s]"
      ]
     },
     "metadata": {},
     "output_type": "display_data"
    },
    {
     "data": {
      "application/vnd.jupyter.widget-view+json": {
       "model_id": "04d8a863148b4058b96de2f06b58fc36",
       "version_major": 2,
       "version_minor": 0
      },
      "text/plain": [
       "  0%|          | 0/150 [00:00<?, ?it/s]"
      ]
     },
     "metadata": {},
     "output_type": "display_data"
    },
    {
     "data": {
      "application/vnd.jupyter.widget-view+json": {
       "model_id": "81dc17dc0e66409dacd598bc80064761",
       "version_major": 2,
       "version_minor": 0
      },
      "text/plain": [
       "  0%|          | 0/150 [00:00<?, ?it/s]"
      ]
     },
     "metadata": {},
     "output_type": "display_data"
    },
    {
     "data": {
      "application/vnd.jupyter.widget-view+json": {
       "model_id": "715f09d3baf147ff8d32f2cef97cffe4",
       "version_major": 2,
       "version_minor": 0
      },
      "text/plain": [
       "  0%|          | 0/1194 [00:00<?, ?it/s]"
      ]
     },
     "metadata": {},
     "output_type": "display_data"
    },
    {
     "data": {
      "application/vnd.jupyter.widget-view+json": {
       "model_id": "8eb2d3f2f369421ca96deb67520b6086",
       "version_major": 2,
       "version_minor": 0
      },
      "text/plain": [
       "  0%|          | 0/149 [00:00<?, ?it/s]"
      ]
     },
     "metadata": {},
     "output_type": "display_data"
    },
    {
     "data": {
      "application/vnd.jupyter.widget-view+json": {
       "model_id": "72470f4b941b4d039c3cb7aed682538b",
       "version_major": 2,
       "version_minor": 0
      },
      "text/plain": [
       "  0%|          | 0/149 [00:00<?, ?it/s]"
      ]
     },
     "metadata": {},
     "output_type": "display_data"
    },
    {
     "data": {
      "application/vnd.jupyter.widget-view+json": {
       "model_id": "7fbe59113dda445a8a885904649a73b7",
       "version_major": 2,
       "version_minor": 0
      },
      "text/plain": [
       "  0%|          | 0/1200 [00:00<?, ?it/s]"
      ]
     },
     "metadata": {},
     "output_type": "display_data"
    },
    {
     "data": {
      "application/vnd.jupyter.widget-view+json": {
       "model_id": "59cc36c8817847b096de627aa524f23b",
       "version_major": 2,
       "version_minor": 0
      },
      "text/plain": [
       "  0%|          | 0/150 [00:00<?, ?it/s]"
      ]
     },
     "metadata": {},
     "output_type": "display_data"
    },
    {
     "data": {
      "application/vnd.jupyter.widget-view+json": {
       "model_id": "cae8c9e7f183436cbc2a94b4f9d71551",
       "version_major": 2,
       "version_minor": 0
      },
      "text/plain": [
       "  0%|          | 0/150 [00:00<?, ?it/s]"
      ]
     },
     "metadata": {},
     "output_type": "display_data"
    }
   ],
   "source": [
    "train_datasets, eval_datasets, test_datasets = {}, {}, {}\n",
    "for domain, dataset in tqdm(datasets.items()):\n",
    "    train_datasets[domain] = featurize(train_splits[domain])\n",
    "    eval_datasets[domain] = featurize(eval_splits[domain])\n",
    "    test_datasets[domain] = featurize(test_splits[domain])"
   ]
  },
  {
   "cell_type": "markdown",
   "metadata": {},
   "source": [
    "## In-Domain Training & Evaluation"
   ]
  },
  {
   "cell_type": "code",
   "execution_count": 106,
   "metadata": {},
   "outputs": [],
   "source": [
    "config |= {\n",
    "    \"projection_dim\": None,\n",
    "    \"learning_rate\": 0.0001,\n",
    "    \"warmup_steps\": 69,\n",
    "    \"max_epochs\": 50,\n",
    "    \"gradient_clip_val\": 1.0,\n",
    "    \"batch_size\": 32,\n",
    "}\n",
    "\n",
    "# SeqXGPT Layer Configuration\n",
    "config[\"conv_layer_shapes\"] = [\n",
    "    ConvolutionalLayerSpec(64, 5),\n",
    "    *[ConvolutionalLayerSpec(128, 3)] * 3,\n",
    "    ConvolutionalLayerSpec(64, 3),\n",
    "]"
   ]
  },
  {
   "cell_type": "code",
   "execution_count": 107,
   "metadata": {},
   "outputs": [],
   "source": [
    "from torch.utils.data import ConcatDataset\n",
    "\n",
    "\n",
    "# capturing config from \"closure\"\n",
    "def get_dataloader(*dataset, **kwargs) -> PaddingDataloader:\n",
    "    if len(dataset) == 1:\n",
    "        dataset = dataset[0]\n",
    "    else:\n",
    "        dataset = ConcatDataset(dataset)\n",
    "    return PaddingDataloader(\n",
    "        dataset,\n",
    "        feature_dim=config[\"feature_dim\"],\n",
    "        batch_size=config[\"batch_size\"],\n",
    "        **kwargs,\n",
    "    )"
   ]
  },
  {
   "cell_type": "code",
   "execution_count": 108,
   "metadata": {},
   "outputs": [
    {
     "name": "stderr",
     "output_type": "stream",
     "text": [
      "Seed set to 1337\n",
      "GPU available: True (cuda), used: True\n",
      "TPU available: False, using: 0 TPU cores\n",
      "HPU available: False, using: 0 HPUs\n",
      "/home/mastoeck/Projects/PrismAI/PrismAI/.venv/lib/python3.12/site-packages/lightning/pytorch/utilities/parsing.py:45: Attribute 'feature_dim' removed from hparams because it cannot be pickled. You can suppress this warning by setting `self.save_hyperparameters(ignore=['feature_dim'])`.\n",
      "LOCAL_RANK: 0 - CUDA_VISIBLE_DEVICES: [0]\n",
      "Loading `train_dataloader` to estimate number of stepping batches.\n",
      "\n",
      "  | Name        | Type              | Params | Mode  | In sizes    | Out sizes  \n",
      "--------------------------------------------------------------------------------------\n",
      "0 | conv_layers | Sequential        | 153 K  | train | ?           | ?          \n",
      "1 | projection  | Identity          | 0      | train | [32, 16384] | [32, 16384]\n",
      "2 | classifier  | Linear            | 16.4 K | train | [32, 16384] | [32, 1]    \n",
      "3 | criterion   | BCEWithLogitsLoss | 0      | train | ?           | ?          \n",
      "--------------------------------------------------------------------------------------\n",
      "169 K     Trainable params\n",
      "0         Non-trainable params\n",
      "169 K     Total params\n",
      "0.678     Total estimated model params size (MB)\n",
      "15        Modules in train mode\n",
      "0         Modules in eval mode\n"
     ]
    },
    {
     "data": {
      "application/vnd.jupyter.widget-view+json": {
       "model_id": "63ad272465944cf1bed4429cfcf7a4f4",
       "version_major": 2,
       "version_minor": 0
      },
      "text/plain": [
       "Sanity Checking: |          | 0/? [00:00<?, ?it/s]"
      ]
     },
     "metadata": {},
     "output_type": "display_data"
    },
    {
     "data": {
      "application/vnd.jupyter.widget-view+json": {
       "model_id": "c8ad8ac75df44d96ab81ce90f2ec2a40",
       "version_major": 2,
       "version_minor": 0
      },
      "text/plain": [
       "Training: |          | 0/? [00:00<?, ?it/s]"
      ]
     },
     "metadata": {},
     "output_type": "display_data"
    },
    {
     "data": {
      "application/vnd.jupyter.widget-view+json": {
       "model_id": "76fd9835ae0b43af92a51888298495ac",
       "version_major": 2,
       "version_minor": 0
      },
      "text/plain": [
       "Validation: |          | 0/? [00:00<?, ?it/s]"
      ]
     },
     "metadata": {},
     "output_type": "display_data"
    },
    {
     "data": {
      "application/vnd.jupyter.widget-view+json": {
       "model_id": "734b04469e2145859884a6b987aa22ad",
       "version_major": 2,
       "version_minor": 0
      },
      "text/plain": [
       "Validation: |          | 0/? [00:00<?, ?it/s]"
      ]
     },
     "metadata": {},
     "output_type": "display_data"
    },
    {
     "data": {
      "application/vnd.jupyter.widget-view+json": {
       "model_id": "3487b21b3523438f92af1f681ede82e2",
       "version_major": 2,
       "version_minor": 0
      },
      "text/plain": [
       "Validation: |          | 0/? [00:00<?, ?it/s]"
      ]
     },
     "metadata": {},
     "output_type": "display_data"
    },
    {
     "data": {
      "application/vnd.jupyter.widget-view+json": {
       "model_id": "a0ae3c5097a94767ac80ff08039efff4",
       "version_major": 2,
       "version_minor": 0
      },
      "text/plain": [
       "Validation: |          | 0/? [00:00<?, ?it/s]"
      ]
     },
     "metadata": {},
     "output_type": "display_data"
    },
    {
     "data": {
      "application/vnd.jupyter.widget-view+json": {
       "model_id": "8324075cdbf64c7e8e0e4cb1ee3e86bb",
       "version_major": 2,
       "version_minor": 0
      },
      "text/plain": [
       "Validation: |          | 0/? [00:00<?, ?it/s]"
      ]
     },
     "metadata": {},
     "output_type": "display_data"
    },
    {
     "data": {
      "application/vnd.jupyter.widget-view+json": {
       "model_id": "049659640e27459db5120cd828f4723e",
       "version_major": 2,
       "version_minor": 0
      },
      "text/plain": [
       "Validation: |          | 0/? [00:00<?, ?it/s]"
      ]
     },
     "metadata": {},
     "output_type": "display_data"
    },
    {
     "data": {
      "application/vnd.jupyter.widget-view+json": {
       "model_id": "f8f52c12cade4a38ac1c4334242c76d2",
       "version_major": 2,
       "version_minor": 0
      },
      "text/plain": [
       "Validation: |          | 0/? [00:00<?, ?it/s]"
      ]
     },
     "metadata": {},
     "output_type": "display_data"
    },
    {
     "data": {
      "application/vnd.jupyter.widget-view+json": {
       "model_id": "4fcd6c145c6d40c1b4f1959391f40530",
       "version_major": 2,
       "version_minor": 0
      },
      "text/plain": [
       "Validation: |          | 0/? [00:00<?, ?it/s]"
      ]
     },
     "metadata": {},
     "output_type": "display_data"
    },
    {
     "data": {
      "application/vnd.jupyter.widget-view+json": {
       "model_id": "8ba54844d587412da31d0e5d3c97401d",
       "version_major": 2,
       "version_minor": 0
      },
      "text/plain": [
       "Validation: |          | 0/? [00:00<?, ?it/s]"
      ]
     },
     "metadata": {},
     "output_type": "display_data"
    },
    {
     "data": {
      "application/vnd.jupyter.widget-view+json": {
       "model_id": "1d956e77e71d4ef585f422cdae43609e",
       "version_major": 2,
       "version_minor": 0
      },
      "text/plain": [
       "Validation: |          | 0/? [00:00<?, ?it/s]"
      ]
     },
     "metadata": {},
     "output_type": "display_data"
    },
    {
     "data": {
      "application/vnd.jupyter.widget-view+json": {
       "model_id": "2f9f7bbdb66e43839c06b9292f7e860b",
       "version_major": 2,
       "version_minor": 0
      },
      "text/plain": [
       "Validation: |          | 0/? [00:00<?, ?it/s]"
      ]
     },
     "metadata": {},
     "output_type": "display_data"
    },
    {
     "data": {
      "application/vnd.jupyter.widget-view+json": {
       "model_id": "44ab47363ffd477393b1a021d1a5e70e",
       "version_major": 2,
       "version_minor": 0
      },
      "text/plain": [
       "Validation: |          | 0/? [00:00<?, ?it/s]"
      ]
     },
     "metadata": {},
     "output_type": "display_data"
    },
    {
     "data": {
      "application/vnd.jupyter.widget-view+json": {
       "model_id": "236f37abe7c54cb1827902914f5e5c86",
       "version_major": 2,
       "version_minor": 0
      },
      "text/plain": [
       "Validation: |          | 0/? [00:00<?, ?it/s]"
      ]
     },
     "metadata": {},
     "output_type": "display_data"
    },
    {
     "data": {
      "application/vnd.jupyter.widget-view+json": {
       "model_id": "54b514d3e77d4d5682f2af417414eb6c",
       "version_major": 2,
       "version_minor": 0
      },
      "text/plain": [
       "Validation: |          | 0/? [00:00<?, ?it/s]"
      ]
     },
     "metadata": {},
     "output_type": "display_data"
    },
    {
     "data": {
      "application/vnd.jupyter.widget-view+json": {
       "model_id": "695f74a6ef474364b7ca7f0c0b859843",
       "version_major": 2,
       "version_minor": 0
      },
      "text/plain": [
       "Validation: |          | 0/? [00:00<?, ?it/s]"
      ]
     },
     "metadata": {},
     "output_type": "display_data"
    },
    {
     "name": "stderr",
     "output_type": "stream",
     "text": [
      "LOCAL_RANK: 0 - CUDA_VISIBLE_DEVICES: [0]\n",
      "LOCAL_RANK: 0 - CUDA_VISIBLE_DEVICES: [0]\n",
      "LOCAL_RANK: 0 - CUDA_VISIBLE_DEVICES: [0]\n",
      "LOCAL_RANK: 0 - CUDA_VISIBLE_DEVICES: [0]\n",
      "LOCAL_RANK: 0 - CUDA_VISIBLE_DEVICES: [0]\n",
      "LOCAL_RANK: 0 - CUDA_VISIBLE_DEVICES: [0]\n",
      "LOCAL_RANK: 0 - CUDA_VISIBLE_DEVICES: [0]\n",
      "LOCAL_RANK: 0 - CUDA_VISIBLE_DEVICES: [0]\n",
      "LOCAL_RANK: 0 - CUDA_VISIBLE_DEVICES: [0]\n",
      "LOCAL_RANK: 0 - CUDA_VISIBLE_DEVICES: [0]\n",
      "LOCAL_RANK: 0 - CUDA_VISIBLE_DEVICES: [0]\n",
      "LOCAL_RANK: 0 - CUDA_VISIBLE_DEVICES: [0]\n",
      "LOCAL_RANK: 0 - CUDA_VISIBLE_DEVICES: [0]\n",
      "LOCAL_RANK: 0 - CUDA_VISIBLE_DEVICES: [0]\n",
      "LOCAL_RANK: 0 - CUDA_VISIBLE_DEVICES: [0]\n",
      "LOCAL_RANK: 0 - CUDA_VISIBLE_DEVICES: [0]\n",
      "LOCAL_RANK: 0 - CUDA_VISIBLE_DEVICES: [0]\n",
      "LOCAL_RANK: 0 - CUDA_VISIBLE_DEVICES: [0]\n",
      "Seed set to 1337\n"
     ]
    },
    {
     "name": "stdout",
     "output_type": "stream",
     "text": [
      "Blog Authorship [{'other': 'Blog Authorship', 'test_loss': 0.18298836052417755, 'test_acc@0.5': 0.9081271886825562, 'test_acc@best': 0.8975265026092529, 'test_roc_auc': 0.9840100407600403}, {'other': 'Student Essays', 'test_loss': 1.5315074920654297, 'test_acc@0.5': 0.5433333516120911, 'test_acc@best': 0.6000000238418579, 'test_roc_auc': 0.6339111328125}, {'other': 'CNN News', 'test_loss': 1.596932291984558, 'test_acc@0.5': 0.5866666436195374, 'test_acc@best': 0.6133333444595337, 'test_roc_auc': 0.6770889163017273}, {'other': 'Euro Court Cases', 'test_loss': 2.4005837440490723, 'test_acc@0.5': 0.5166666507720947, 'test_acc@best': 0.5133333206176758, 'test_roc_auc': 0.5323110818862915}, {'other': 'House of Commons', 'test_loss': 1.6015156507492065, 'test_acc@0.5': 0.5402684807777405, 'test_acc@best': 0.6241610646247864, 'test_roc_auc': 0.6634684801101685}, {'other': 'ArXiv Papers', 'test_loss': 1.9053095579147339, 'test_acc@0.5': 0.5631399154663086, 'test_acc@best': 0.5597269535064697, 'test_roc_auc': 0.5777886509895325}, {'other': 'Gutenberg', 'test_loss': 1.1400532722473145, 'test_acc@0.5': 0.5704467296600342, 'test_acc@best': 0.6907216310501099, 'test_roc_auc': 0.7248227000236511}, {'other': 'Bundestag [DE]', 'test_loss': 1.2923392057418823, 'test_acc@0.5': 0.5360824465751648, 'test_acc@best': 0.5326460599899292, 'test_roc_auc': 0.5468853116035461}, {'other': 'Spiegel [DE]', 'test_loss': 1.0327898263931274, 'test_acc@0.5': 0.648829460144043, 'test_acc@best': 0.5953177213668823, 'test_roc_auc': 0.6759731769561768}]\n"
     ]
    },
    {
     "name": "stderr",
     "output_type": "stream",
     "text": [
      "GPU available: True (cuda), used: True\n",
      "TPU available: False, using: 0 TPU cores\n",
      "HPU available: False, using: 0 HPUs\n",
      "/home/mastoeck/Projects/PrismAI/PrismAI/.venv/lib/python3.12/site-packages/lightning/pytorch/utilities/parsing.py:45: Attribute 'feature_dim' removed from hparams because it cannot be pickled. You can suppress this warning by setting `self.save_hyperparameters(ignore=['feature_dim'])`.\n",
      "LOCAL_RANK: 0 - CUDA_VISIBLE_DEVICES: [0]\n",
      "Loading `train_dataloader` to estimate number of stepping batches.\n",
      "\n",
      "  | Name        | Type              | Params | Mode  | In sizes    | Out sizes  \n",
      "--------------------------------------------------------------------------------------\n",
      "0 | conv_layers | Sequential        | 153 K  | train | ?           | ?          \n",
      "1 | projection  | Identity          | 0      | train | [32, 16384] | [32, 16384]\n",
      "2 | classifier  | Linear            | 16.4 K | train | [32, 16384] | [32, 1]    \n",
      "3 | criterion   | BCEWithLogitsLoss | 0      | train | ?           | ?          \n",
      "--------------------------------------------------------------------------------------\n",
      "169 K     Trainable params\n",
      "0         Non-trainable params\n",
      "169 K     Total params\n",
      "0.678     Total estimated model params size (MB)\n",
      "15        Modules in train mode\n",
      "0         Modules in eval mode\n"
     ]
    },
    {
     "data": {
      "application/vnd.jupyter.widget-view+json": {
       "model_id": "8b84d6dd239f486bbf60521ce2930354",
       "version_major": 2,
       "version_minor": 0
      },
      "text/plain": [
       "Sanity Checking: |          | 0/? [00:00<?, ?it/s]"
      ]
     },
     "metadata": {},
     "output_type": "display_data"
    },
    {
     "data": {
      "application/vnd.jupyter.widget-view+json": {
       "model_id": "ae97af5a419b4f2c954fa7fcb6b99709",
       "version_major": 2,
       "version_minor": 0
      },
      "text/plain": [
       "Training: |          | 0/? [00:00<?, ?it/s]"
      ]
     },
     "metadata": {},
     "output_type": "display_data"
    },
    {
     "data": {
      "application/vnd.jupyter.widget-view+json": {
       "model_id": "f53b667cf2b348e1a2ab9af1f7e1a14d",
       "version_major": 2,
       "version_minor": 0
      },
      "text/plain": [
       "Validation: |          | 0/? [00:00<?, ?it/s]"
      ]
     },
     "metadata": {},
     "output_type": "display_data"
    },
    {
     "data": {
      "application/vnd.jupyter.widget-view+json": {
       "model_id": "50961097bba54016b0cf7986943a42ac",
       "version_major": 2,
       "version_minor": 0
      },
      "text/plain": [
       "Validation: |          | 0/? [00:00<?, ?it/s]"
      ]
     },
     "metadata": {},
     "output_type": "display_data"
    },
    {
     "data": {
      "application/vnd.jupyter.widget-view+json": {
       "model_id": "592867086f384ee8a210b39b7fbc13c6",
       "version_major": 2,
       "version_minor": 0
      },
      "text/plain": [
       "Validation: |          | 0/? [00:00<?, ?it/s]"
      ]
     },
     "metadata": {},
     "output_type": "display_data"
    },
    {
     "data": {
      "application/vnd.jupyter.widget-view+json": {
       "model_id": "3406057af45c4c1eb536b56324333097",
       "version_major": 2,
       "version_minor": 0
      },
      "text/plain": [
       "Validation: |          | 0/? [00:00<?, ?it/s]"
      ]
     },
     "metadata": {},
     "output_type": "display_data"
    },
    {
     "data": {
      "application/vnd.jupyter.widget-view+json": {
       "model_id": "84b8b8c6aeb84f93bed3891fd9bda911",
       "version_major": 2,
       "version_minor": 0
      },
      "text/plain": [
       "Validation: |          | 0/? [00:00<?, ?it/s]"
      ]
     },
     "metadata": {},
     "output_type": "display_data"
    },
    {
     "data": {
      "application/vnd.jupyter.widget-view+json": {
       "model_id": "8d83fc267e524372837598a8f7e7c73b",
       "version_major": 2,
       "version_minor": 0
      },
      "text/plain": [
       "Validation: |          | 0/? [00:00<?, ?it/s]"
      ]
     },
     "metadata": {},
     "output_type": "display_data"
    },
    {
     "data": {
      "application/vnd.jupyter.widget-view+json": {
       "model_id": "2762133e6bc54acb84976ada665b4276",
       "version_major": 2,
       "version_minor": 0
      },
      "text/plain": [
       "Validation: |          | 0/? [00:00<?, ?it/s]"
      ]
     },
     "metadata": {},
     "output_type": "display_data"
    },
    {
     "data": {
      "application/vnd.jupyter.widget-view+json": {
       "model_id": "340ebc40dc3e4eb6997700e820df04f7",
       "version_major": 2,
       "version_minor": 0
      },
      "text/plain": [
       "Validation: |          | 0/? [00:00<?, ?it/s]"
      ]
     },
     "metadata": {},
     "output_type": "display_data"
    },
    {
     "data": {
      "application/vnd.jupyter.widget-view+json": {
       "model_id": "11cdd1f491c04658a7002504b107288c",
       "version_major": 2,
       "version_minor": 0
      },
      "text/plain": [
       "Validation: |          | 0/? [00:00<?, ?it/s]"
      ]
     },
     "metadata": {},
     "output_type": "display_data"
    },
    {
     "data": {
      "application/vnd.jupyter.widget-view+json": {
       "model_id": "171aca38530943c5953b1d7f959c136b",
       "version_major": 2,
       "version_minor": 0
      },
      "text/plain": [
       "Validation: |          | 0/? [00:00<?, ?it/s]"
      ]
     },
     "metadata": {},
     "output_type": "display_data"
    },
    {
     "data": {
      "application/vnd.jupyter.widget-view+json": {
       "model_id": "e81419d2d5bc46528e75c52b80b77135",
       "version_major": 2,
       "version_minor": 0
      },
      "text/plain": [
       "Validation: |          | 0/? [00:00<?, ?it/s]"
      ]
     },
     "metadata": {},
     "output_type": "display_data"
    },
    {
     "data": {
      "application/vnd.jupyter.widget-view+json": {
       "model_id": "de9ddcdaa4eb490eb59120bb8efa730d",
       "version_major": 2,
       "version_minor": 0
      },
      "text/plain": [
       "Validation: |          | 0/? [00:00<?, ?it/s]"
      ]
     },
     "metadata": {},
     "output_type": "display_data"
    },
    {
     "data": {
      "application/vnd.jupyter.widget-view+json": {
       "model_id": "0dc06c3b88d34e859f41a79739da9a48",
       "version_major": 2,
       "version_minor": 0
      },
      "text/plain": [
       "Validation: |          | 0/? [00:00<?, ?it/s]"
      ]
     },
     "metadata": {},
     "output_type": "display_data"
    },
    {
     "data": {
      "application/vnd.jupyter.widget-view+json": {
       "model_id": "4b98721a217a488d89af75c37169eca5",
       "version_major": 2,
       "version_minor": 0
      },
      "text/plain": [
       "Validation: |          | 0/? [00:00<?, ?it/s]"
      ]
     },
     "metadata": {},
     "output_type": "display_data"
    },
    {
     "data": {
      "application/vnd.jupyter.widget-view+json": {
       "model_id": "ffe16ae038794027b4da6804ad68c9f3",
       "version_major": 2,
       "version_minor": 0
      },
      "text/plain": [
       "Validation: |          | 0/? [00:00<?, ?it/s]"
      ]
     },
     "metadata": {},
     "output_type": "display_data"
    },
    {
     "data": {
      "application/vnd.jupyter.widget-view+json": {
       "model_id": "1ffd7db9a23c44c29c124c20429567c9",
       "version_major": 2,
       "version_minor": 0
      },
      "text/plain": [
       "Validation: |          | 0/? [00:00<?, ?it/s]"
      ]
     },
     "metadata": {},
     "output_type": "display_data"
    },
    {
     "data": {
      "application/vnd.jupyter.widget-view+json": {
       "model_id": "b79979b72e7c45eeb5fe1f8e0b2c3e65",
       "version_major": 2,
       "version_minor": 0
      },
      "text/plain": [
       "Validation: |          | 0/? [00:00<?, ?it/s]"
      ]
     },
     "metadata": {},
     "output_type": "display_data"
    },
    {
     "data": {
      "application/vnd.jupyter.widget-view+json": {
       "model_id": "a74cc465c6e148b69d525cf1233cc37b",
       "version_major": 2,
       "version_minor": 0
      },
      "text/plain": [
       "Validation: |          | 0/? [00:00<?, ?it/s]"
      ]
     },
     "metadata": {},
     "output_type": "display_data"
    },
    {
     "data": {
      "application/vnd.jupyter.widget-view+json": {
       "model_id": "614204782df543058ebeb6193780971a",
       "version_major": 2,
       "version_minor": 0
      },
      "text/plain": [
       "Validation: |          | 0/? [00:00<?, ?it/s]"
      ]
     },
     "metadata": {},
     "output_type": "display_data"
    },
    {
     "data": {
      "application/vnd.jupyter.widget-view+json": {
       "model_id": "f7fc46e6b91c4b9b8ab0f28af126c203",
       "version_major": 2,
       "version_minor": 0
      },
      "text/plain": [
       "Validation: |          | 0/? [00:00<?, ?it/s]"
      ]
     },
     "metadata": {},
     "output_type": "display_data"
    },
    {
     "data": {
      "application/vnd.jupyter.widget-view+json": {
       "model_id": "8500bf632b5b4decb2487d22c9095ab1",
       "version_major": 2,
       "version_minor": 0
      },
      "text/plain": [
       "Validation: |          | 0/? [00:00<?, ?it/s]"
      ]
     },
     "metadata": {},
     "output_type": "display_data"
    },
    {
     "data": {
      "application/vnd.jupyter.widget-view+json": {
       "model_id": "eaa17f7e865845409ae1d05ab02da859",
       "version_major": 2,
       "version_minor": 0
      },
      "text/plain": [
       "Validation: |          | 0/? [00:00<?, ?it/s]"
      ]
     },
     "metadata": {},
     "output_type": "display_data"
    },
    {
     "name": "stderr",
     "output_type": "stream",
     "text": [
      "LOCAL_RANK: 0 - CUDA_VISIBLE_DEVICES: [0]\n",
      "LOCAL_RANK: 0 - CUDA_VISIBLE_DEVICES: [0]\n",
      "LOCAL_RANK: 0 - CUDA_VISIBLE_DEVICES: [0]\n",
      "LOCAL_RANK: 0 - CUDA_VISIBLE_DEVICES: [0]\n",
      "LOCAL_RANK: 0 - CUDA_VISIBLE_DEVICES: [0]\n",
      "LOCAL_RANK: 0 - CUDA_VISIBLE_DEVICES: [0]\n",
      "LOCAL_RANK: 0 - CUDA_VISIBLE_DEVICES: [0]\n",
      "LOCAL_RANK: 0 - CUDA_VISIBLE_DEVICES: [0]\n",
      "LOCAL_RANK: 0 - CUDA_VISIBLE_DEVICES: [0]\n",
      "LOCAL_RANK: 0 - CUDA_VISIBLE_DEVICES: [0]\n",
      "LOCAL_RANK: 0 - CUDA_VISIBLE_DEVICES: [0]\n",
      "LOCAL_RANK: 0 - CUDA_VISIBLE_DEVICES: [0]\n",
      "LOCAL_RANK: 0 - CUDA_VISIBLE_DEVICES: [0]\n",
      "LOCAL_RANK: 0 - CUDA_VISIBLE_DEVICES: [0]\n",
      "LOCAL_RANK: 0 - CUDA_VISIBLE_DEVICES: [0]\n",
      "LOCAL_RANK: 0 - CUDA_VISIBLE_DEVICES: [0]\n",
      "LOCAL_RANK: 0 - CUDA_VISIBLE_DEVICES: [0]\n",
      "LOCAL_RANK: 0 - CUDA_VISIBLE_DEVICES: [0]\n",
      "Seed set to 1337\n"
     ]
    },
    {
     "name": "stdout",
     "output_type": "stream",
     "text": [
      "Student Essays [{'other': 'Blog Authorship', 'test_loss': 5.719544410705566, 'test_acc@0.5': 0.583038866519928, 'test_acc@best': 0.5901060104370117, 'test_roc_auc': 0.49593985080718994}, {'other': 'Student Essays', 'test_loss': 0.26252278685569763, 'test_acc@0.5': 0.8866666555404663, 'test_acc@best': 0.8866666555404663, 'test_roc_auc': 0.9588000178337097}, {'other': 'CNN News', 'test_loss': 0.4370354115962982, 'test_acc@0.5': 0.8033333420753479, 'test_acc@best': 0.8633333444595337, 'test_roc_auc': 0.9435999989509583}, {'other': 'Euro Court Cases', 'test_loss': 1.332879900932312, 'test_acc@0.5': 0.6033333539962769, 'test_acc@best': 0.753333330154419, 'test_roc_auc': 0.8285777568817139}, {'other': 'House of Commons', 'test_loss': 1.5110257863998413, 'test_acc@0.5': 0.7986577153205872, 'test_acc@best': 0.8288590312004089, 'test_roc_auc': 0.8049549460411072}, {'other': 'ArXiv Papers', 'test_loss': 1.3275880813598633, 'test_acc@0.5': 0.80887371301651, 'test_acc@best': 0.8327645063400269, 'test_roc_auc': 0.8094772100448608}, {'other': 'Gutenberg', 'test_loss': 0.47305232286453247, 'test_acc@0.5': 0.8934707641601562, 'test_acc@best': 0.8934707641601562, 'test_roc_auc': 0.9316784739494324}, {'other': 'Bundestag [DE]', 'test_loss': 2.1762969493865967, 'test_acc@0.5': 0.5154638886451721, 'test_acc@best': 0.6666666865348816, 'test_roc_auc': 0.757254958152771}, {'other': 'Spiegel [DE]', 'test_loss': 2.9806296825408936, 'test_acc@0.5': 0.5183946490287781, 'test_acc@best': 0.735785961151123, 'test_roc_auc': 0.7866219282150269}]\n"
     ]
    },
    {
     "name": "stderr",
     "output_type": "stream",
     "text": [
      "GPU available: True (cuda), used: True\n",
      "TPU available: False, using: 0 TPU cores\n",
      "HPU available: False, using: 0 HPUs\n",
      "/home/mastoeck/Projects/PrismAI/PrismAI/.venv/lib/python3.12/site-packages/lightning/pytorch/utilities/parsing.py:45: Attribute 'feature_dim' removed from hparams because it cannot be pickled. You can suppress this warning by setting `self.save_hyperparameters(ignore=['feature_dim'])`.\n",
      "LOCAL_RANK: 0 - CUDA_VISIBLE_DEVICES: [0]\n",
      "Loading `train_dataloader` to estimate number of stepping batches.\n",
      "\n",
      "  | Name        | Type              | Params | Mode  | In sizes    | Out sizes  \n",
      "--------------------------------------------------------------------------------------\n",
      "0 | conv_layers | Sequential        | 153 K  | train | ?           | ?          \n",
      "1 | projection  | Identity          | 0      | train | [32, 16384] | [32, 16384]\n",
      "2 | classifier  | Linear            | 16.4 K | train | [32, 16384] | [32, 1]    \n",
      "3 | criterion   | BCEWithLogitsLoss | 0      | train | ?           | ?          \n",
      "--------------------------------------------------------------------------------------\n",
      "169 K     Trainable params\n",
      "0         Non-trainable params\n",
      "169 K     Total params\n",
      "0.678     Total estimated model params size (MB)\n",
      "15        Modules in train mode\n",
      "0         Modules in eval mode\n"
     ]
    },
    {
     "data": {
      "application/vnd.jupyter.widget-view+json": {
       "model_id": "f55171a40cda4994b3843b2f63bf15a1",
       "version_major": 2,
       "version_minor": 0
      },
      "text/plain": [
       "Sanity Checking: |          | 0/? [00:00<?, ?it/s]"
      ]
     },
     "metadata": {},
     "output_type": "display_data"
    },
    {
     "data": {
      "application/vnd.jupyter.widget-view+json": {
       "model_id": "4c6f9a746728422bb74d188e120aea05",
       "version_major": 2,
       "version_minor": 0
      },
      "text/plain": [
       "Training: |          | 0/? [00:00<?, ?it/s]"
      ]
     },
     "metadata": {},
     "output_type": "display_data"
    },
    {
     "data": {
      "application/vnd.jupyter.widget-view+json": {
       "model_id": "9cf35ed1d3d4440ba2e4bb9f61540c70",
       "version_major": 2,
       "version_minor": 0
      },
      "text/plain": [
       "Validation: |          | 0/? [00:00<?, ?it/s]"
      ]
     },
     "metadata": {},
     "output_type": "display_data"
    },
    {
     "data": {
      "application/vnd.jupyter.widget-view+json": {
       "model_id": "ea4902f172df4c9eb2715b0ecf1ccbbf",
       "version_major": 2,
       "version_minor": 0
      },
      "text/plain": [
       "Validation: |          | 0/? [00:00<?, ?it/s]"
      ]
     },
     "metadata": {},
     "output_type": "display_data"
    },
    {
     "data": {
      "application/vnd.jupyter.widget-view+json": {
       "model_id": "2ee3e6beea024d4b9d765c6b3683a4ae",
       "version_major": 2,
       "version_minor": 0
      },
      "text/plain": [
       "Validation: |          | 0/? [00:00<?, ?it/s]"
      ]
     },
     "metadata": {},
     "output_type": "display_data"
    },
    {
     "data": {
      "application/vnd.jupyter.widget-view+json": {
       "model_id": "1a12a810eba24848b182684f1fc6ad08",
       "version_major": 2,
       "version_minor": 0
      },
      "text/plain": [
       "Validation: |          | 0/? [00:00<?, ?it/s]"
      ]
     },
     "metadata": {},
     "output_type": "display_data"
    },
    {
     "data": {
      "application/vnd.jupyter.widget-view+json": {
       "model_id": "4aa33fd949f24ad9b9abc81ffbb628fb",
       "version_major": 2,
       "version_minor": 0
      },
      "text/plain": [
       "Validation: |          | 0/? [00:00<?, ?it/s]"
      ]
     },
     "metadata": {},
     "output_type": "display_data"
    },
    {
     "data": {
      "application/vnd.jupyter.widget-view+json": {
       "model_id": "48abb45e9ac4458bb5add26c22d9d2df",
       "version_major": 2,
       "version_minor": 0
      },
      "text/plain": [
       "Validation: |          | 0/? [00:00<?, ?it/s]"
      ]
     },
     "metadata": {},
     "output_type": "display_data"
    },
    {
     "data": {
      "application/vnd.jupyter.widget-view+json": {
       "model_id": "0fdc34aea7f14f8ea6bb37e10fd1dc27",
       "version_major": 2,
       "version_minor": 0
      },
      "text/plain": [
       "Validation: |          | 0/? [00:00<?, ?it/s]"
      ]
     },
     "metadata": {},
     "output_type": "display_data"
    },
    {
     "data": {
      "application/vnd.jupyter.widget-view+json": {
       "model_id": "908262f6702147b2a24f512e19e2e209",
       "version_major": 2,
       "version_minor": 0
      },
      "text/plain": [
       "Validation: |          | 0/? [00:00<?, ?it/s]"
      ]
     },
     "metadata": {},
     "output_type": "display_data"
    },
    {
     "data": {
      "application/vnd.jupyter.widget-view+json": {
       "model_id": "87f8da41247a470a98542ff9bdc4193f",
       "version_major": 2,
       "version_minor": 0
      },
      "text/plain": [
       "Validation: |          | 0/? [00:00<?, ?it/s]"
      ]
     },
     "metadata": {},
     "output_type": "display_data"
    },
    {
     "name": "stderr",
     "output_type": "stream",
     "text": [
      "LOCAL_RANK: 0 - CUDA_VISIBLE_DEVICES: [0]\n",
      "LOCAL_RANK: 0 - CUDA_VISIBLE_DEVICES: [0]\n",
      "LOCAL_RANK: 0 - CUDA_VISIBLE_DEVICES: [0]\n",
      "LOCAL_RANK: 0 - CUDA_VISIBLE_DEVICES: [0]\n",
      "LOCAL_RANK: 0 - CUDA_VISIBLE_DEVICES: [0]\n",
      "LOCAL_RANK: 0 - CUDA_VISIBLE_DEVICES: [0]\n",
      "LOCAL_RANK: 0 - CUDA_VISIBLE_DEVICES: [0]\n",
      "LOCAL_RANK: 0 - CUDA_VISIBLE_DEVICES: [0]\n",
      "LOCAL_RANK: 0 - CUDA_VISIBLE_DEVICES: [0]\n",
      "LOCAL_RANK: 0 - CUDA_VISIBLE_DEVICES: [0]\n",
      "LOCAL_RANK: 0 - CUDA_VISIBLE_DEVICES: [0]\n",
      "LOCAL_RANK: 0 - CUDA_VISIBLE_DEVICES: [0]\n",
      "LOCAL_RANK: 0 - CUDA_VISIBLE_DEVICES: [0]\n",
      "LOCAL_RANK: 0 - CUDA_VISIBLE_DEVICES: [0]\n",
      "LOCAL_RANK: 0 - CUDA_VISIBLE_DEVICES: [0]\n",
      "LOCAL_RANK: 0 - CUDA_VISIBLE_DEVICES: [0]\n",
      "LOCAL_RANK: 0 - CUDA_VISIBLE_DEVICES: [0]\n",
      "LOCAL_RANK: 0 - CUDA_VISIBLE_DEVICES: [0]\n",
      "Seed set to 1337\n"
     ]
    },
    {
     "name": "stdout",
     "output_type": "stream",
     "text": [
      "CNN News [{'other': 'Blog Authorship', 'test_loss': 1.356467604637146, 'test_acc@0.5': 0.5689045786857605, 'test_acc@best': 0.565371036529541, 'test_roc_auc': 0.5229573845863342}, {'other': 'Student Essays', 'test_loss': 0.38005468249320984, 'test_acc@0.5': 0.8399999737739563, 'test_acc@best': 0.8433333039283752, 'test_roc_auc': 0.9168000221252441}, {'other': 'CNN News', 'test_loss': 0.499676913022995, 'test_acc@0.5': 0.800000011920929, 'test_acc@best': 0.8533333539962769, 'test_roc_auc': 0.92448890209198}, {'other': 'Euro Court Cases', 'test_loss': 1.0921038389205933, 'test_acc@0.5': 0.5799999833106995, 'test_acc@best': 0.7200000286102295, 'test_roc_auc': 0.7957333326339722}, {'other': 'House of Commons', 'test_loss': 0.4750765860080719, 'test_acc@0.5': 0.7684563994407654, 'test_acc@best': 0.8422818779945374, 'test_roc_auc': 0.8600450158119202}, {'other': 'ArXiv Papers', 'test_loss': 0.33163899183273315, 'test_acc@0.5': 0.849829375743866, 'test_acc@best': 0.8532423377037048, 'test_roc_auc': 0.9294567108154297}, {'other': 'Gutenberg', 'test_loss': 0.31294307112693787, 'test_acc@0.5': 0.8659793734550476, 'test_acc@best': 0.8591065406799316, 'test_roc_auc': 0.9480378031730652}, {'other': 'Bundestag [DE]', 'test_loss': 1.729155421257019, 'test_acc@0.5': 0.49484536051750183, 'test_acc@best': 0.6872852444648743, 'test_roc_auc': 0.7465261220932007}, {'other': 'Spiegel [DE]', 'test_loss': 2.2863895893096924, 'test_acc@0.5': 0.5083612203598022, 'test_acc@best': 0.7491638660430908, 'test_roc_auc': 0.8127516508102417}]\n"
     ]
    },
    {
     "name": "stderr",
     "output_type": "stream",
     "text": [
      "GPU available: True (cuda), used: True\n",
      "TPU available: False, using: 0 TPU cores\n",
      "HPU available: False, using: 0 HPUs\n",
      "/home/mastoeck/Projects/PrismAI/PrismAI/.venv/lib/python3.12/site-packages/lightning/pytorch/utilities/parsing.py:45: Attribute 'feature_dim' removed from hparams because it cannot be pickled. You can suppress this warning by setting `self.save_hyperparameters(ignore=['feature_dim'])`.\n",
      "LOCAL_RANK: 0 - CUDA_VISIBLE_DEVICES: [0]\n",
      "Loading `train_dataloader` to estimate number of stepping batches.\n",
      "\n",
      "  | Name        | Type              | Params | Mode  | In sizes    | Out sizes  \n",
      "--------------------------------------------------------------------------------------\n",
      "0 | conv_layers | Sequential        | 153 K  | train | ?           | ?          \n",
      "1 | projection  | Identity          | 0      | train | [32, 16384] | [32, 16384]\n",
      "2 | classifier  | Linear            | 16.4 K | train | [32, 16384] | [32, 1]    \n",
      "3 | criterion   | BCEWithLogitsLoss | 0      | train | ?           | ?          \n",
      "--------------------------------------------------------------------------------------\n",
      "169 K     Trainable params\n",
      "0         Non-trainable params\n",
      "169 K     Total params\n",
      "0.678     Total estimated model params size (MB)\n",
      "15        Modules in train mode\n",
      "0         Modules in eval mode\n"
     ]
    },
    {
     "data": {
      "application/vnd.jupyter.widget-view+json": {
       "model_id": "d061dddea160487f9431e7a91e07e461",
       "version_major": 2,
       "version_minor": 0
      },
      "text/plain": [
       "Sanity Checking: |          | 0/? [00:00<?, ?it/s]"
      ]
     },
     "metadata": {},
     "output_type": "display_data"
    },
    {
     "data": {
      "application/vnd.jupyter.widget-view+json": {
       "model_id": "370a82de604d4f12ac144e85001deb2a",
       "version_major": 2,
       "version_minor": 0
      },
      "text/plain": [
       "Training: |          | 0/? [00:00<?, ?it/s]"
      ]
     },
     "metadata": {},
     "output_type": "display_data"
    },
    {
     "data": {
      "application/vnd.jupyter.widget-view+json": {
       "model_id": "fd7ef42778b24402bfc343c69aff25a1",
       "version_major": 2,
       "version_minor": 0
      },
      "text/plain": [
       "Validation: |          | 0/? [00:00<?, ?it/s]"
      ]
     },
     "metadata": {},
     "output_type": "display_data"
    },
    {
     "data": {
      "application/vnd.jupyter.widget-view+json": {
       "model_id": "15716c02f9604fa898f2239b60b7aea7",
       "version_major": 2,
       "version_minor": 0
      },
      "text/plain": [
       "Validation: |          | 0/? [00:00<?, ?it/s]"
      ]
     },
     "metadata": {},
     "output_type": "display_data"
    },
    {
     "data": {
      "application/vnd.jupyter.widget-view+json": {
       "model_id": "4551addf9fb9435788f8b37290449473",
       "version_major": 2,
       "version_minor": 0
      },
      "text/plain": [
       "Validation: |          | 0/? [00:00<?, ?it/s]"
      ]
     },
     "metadata": {},
     "output_type": "display_data"
    },
    {
     "data": {
      "application/vnd.jupyter.widget-view+json": {
       "model_id": "4f46dd5a18ee4924830d91460e8b4e36",
       "version_major": 2,
       "version_minor": 0
      },
      "text/plain": [
       "Validation: |          | 0/? [00:00<?, ?it/s]"
      ]
     },
     "metadata": {},
     "output_type": "display_data"
    },
    {
     "data": {
      "application/vnd.jupyter.widget-view+json": {
       "model_id": "57839009c8aa4e50875a223f8a54cc44",
       "version_major": 2,
       "version_minor": 0
      },
      "text/plain": [
       "Validation: |          | 0/? [00:00<?, ?it/s]"
      ]
     },
     "metadata": {},
     "output_type": "display_data"
    },
    {
     "data": {
      "application/vnd.jupyter.widget-view+json": {
       "model_id": "9e3bcce3b66d4a0dbe00eaa3377b7c9b",
       "version_major": 2,
       "version_minor": 0
      },
      "text/plain": [
       "Validation: |          | 0/? [00:00<?, ?it/s]"
      ]
     },
     "metadata": {},
     "output_type": "display_data"
    },
    {
     "data": {
      "application/vnd.jupyter.widget-view+json": {
       "model_id": "9751be44309b4aef9e1ce79b2b2dfd19",
       "version_major": 2,
       "version_minor": 0
      },
      "text/plain": [
       "Validation: |          | 0/? [00:00<?, ?it/s]"
      ]
     },
     "metadata": {},
     "output_type": "display_data"
    },
    {
     "name": "stderr",
     "output_type": "stream",
     "text": [
      "LOCAL_RANK: 0 - CUDA_VISIBLE_DEVICES: [0]\n",
      "LOCAL_RANK: 0 - CUDA_VISIBLE_DEVICES: [0]\n",
      "LOCAL_RANK: 0 - CUDA_VISIBLE_DEVICES: [0]\n",
      "LOCAL_RANK: 0 - CUDA_VISIBLE_DEVICES: [0]\n",
      "LOCAL_RANK: 0 - CUDA_VISIBLE_DEVICES: [0]\n",
      "LOCAL_RANK: 0 - CUDA_VISIBLE_DEVICES: [0]\n",
      "LOCAL_RANK: 0 - CUDA_VISIBLE_DEVICES: [0]\n",
      "LOCAL_RANK: 0 - CUDA_VISIBLE_DEVICES: [0]\n",
      "LOCAL_RANK: 0 - CUDA_VISIBLE_DEVICES: [0]\n",
      "LOCAL_RANK: 0 - CUDA_VISIBLE_DEVICES: [0]\n",
      "LOCAL_RANK: 0 - CUDA_VISIBLE_DEVICES: [0]\n",
      "LOCAL_RANK: 0 - CUDA_VISIBLE_DEVICES: [0]\n",
      "LOCAL_RANK: 0 - CUDA_VISIBLE_DEVICES: [0]\n",
      "LOCAL_RANK: 0 - CUDA_VISIBLE_DEVICES: [0]\n",
      "LOCAL_RANK: 0 - CUDA_VISIBLE_DEVICES: [0]\n",
      "LOCAL_RANK: 0 - CUDA_VISIBLE_DEVICES: [0]\n",
      "LOCAL_RANK: 0 - CUDA_VISIBLE_DEVICES: [0]\n",
      "LOCAL_RANK: 0 - CUDA_VISIBLE_DEVICES: [0]\n",
      "Seed set to 1337\n"
     ]
    },
    {
     "name": "stdout",
     "output_type": "stream",
     "text": [
      "Euro Court Cases [{'other': 'Blog Authorship', 'test_loss': 1.655446171760559, 'test_acc@0.5': 0.49823322892189026, 'test_acc@best': 0.5300353169441223, 'test_roc_auc': 0.5076190233230591}, {'other': 'Student Essays', 'test_loss': 0.850621223449707, 'test_acc@0.5': 0.6000000238418579, 'test_acc@best': 0.8399999737739563, 'test_roc_auc': 0.9079999923706055}, {'other': 'CNN News', 'test_loss': 0.5861331224441528, 'test_acc@0.5': 0.7066666483879089, 'test_acc@best': 0.8266666531562805, 'test_roc_auc': 0.9176444411277771}, {'other': 'Euro Court Cases', 'test_loss': 0.5176822543144226, 'test_acc@0.5': 0.7433333396911621, 'test_acc@best': 0.7333333492279053, 'test_roc_auc': 0.8338666558265686}, {'other': 'House of Commons', 'test_loss': 0.5528303980827332, 'test_acc@0.5': 0.7651006579399109, 'test_acc@best': 0.8825503587722778, 'test_roc_auc': 0.9074774980545044}, {'other': 'ArXiv Papers', 'test_loss': 0.6028715968132019, 'test_acc@0.5': 0.723549485206604, 'test_acc@best': 0.9283276200294495, 'test_roc_auc': 0.9797782301902771}, {'other': 'Gutenberg', 'test_loss': 0.898007333278656, 'test_acc@0.5': 0.6426116824150085, 'test_acc@best': 0.876288652420044, 'test_roc_auc': 0.9459101557731628}, {'other': 'Bundestag [DE]', 'test_loss': 3.43388032913208, 'test_acc@0.5': 0.49140894412994385, 'test_acc@best': 0.7044673562049866, 'test_roc_auc': 0.7661404609680176}, {'other': 'Spiegel [DE]', 'test_loss': 4.141032695770264, 'test_acc@0.5': 0.5016722679138184, 'test_acc@best': 0.7491638660430908, 'test_roc_auc': 0.8265324234962463}]\n"
     ]
    },
    {
     "name": "stderr",
     "output_type": "stream",
     "text": [
      "GPU available: True (cuda), used: True\n",
      "TPU available: False, using: 0 TPU cores\n",
      "HPU available: False, using: 0 HPUs\n",
      "/home/mastoeck/Projects/PrismAI/PrismAI/.venv/lib/python3.12/site-packages/lightning/pytorch/utilities/parsing.py:45: Attribute 'feature_dim' removed from hparams because it cannot be pickled. You can suppress this warning by setting `self.save_hyperparameters(ignore=['feature_dim'])`.\n",
      "LOCAL_RANK: 0 - CUDA_VISIBLE_DEVICES: [0]\n",
      "Loading `train_dataloader` to estimate number of stepping batches.\n",
      "\n",
      "  | Name        | Type              | Params | Mode  | In sizes    | Out sizes  \n",
      "--------------------------------------------------------------------------------------\n",
      "0 | conv_layers | Sequential        | 153 K  | train | ?           | ?          \n",
      "1 | projection  | Identity          | 0      | train | [32, 16384] | [32, 16384]\n",
      "2 | classifier  | Linear            | 16.4 K | train | [32, 16384] | [32, 1]    \n",
      "3 | criterion   | BCEWithLogitsLoss | 0      | train | ?           | ?          \n",
      "--------------------------------------------------------------------------------------\n",
      "169 K     Trainable params\n",
      "0         Non-trainable params\n",
      "169 K     Total params\n",
      "0.678     Total estimated model params size (MB)\n",
      "15        Modules in train mode\n",
      "0         Modules in eval mode\n"
     ]
    },
    {
     "data": {
      "application/vnd.jupyter.widget-view+json": {
       "model_id": "8bf74aacf6f1489a8b180cef3b4572a6",
       "version_major": 2,
       "version_minor": 0
      },
      "text/plain": [
       "Sanity Checking: |          | 0/? [00:00<?, ?it/s]"
      ]
     },
     "metadata": {},
     "output_type": "display_data"
    },
    {
     "data": {
      "application/vnd.jupyter.widget-view+json": {
       "model_id": "c23bc04619384ba3931c59161b180c0e",
       "version_major": 2,
       "version_minor": 0
      },
      "text/plain": [
       "Training: |          | 0/? [00:00<?, ?it/s]"
      ]
     },
     "metadata": {},
     "output_type": "display_data"
    },
    {
     "data": {
      "application/vnd.jupyter.widget-view+json": {
       "model_id": "0ea82c0088c94615a837d308772992f5",
       "version_major": 2,
       "version_minor": 0
      },
      "text/plain": [
       "Validation: |          | 0/? [00:00<?, ?it/s]"
      ]
     },
     "metadata": {},
     "output_type": "display_data"
    },
    {
     "data": {
      "application/vnd.jupyter.widget-view+json": {
       "model_id": "171cd7693d82442390fc9cd7c0959844",
       "version_major": 2,
       "version_minor": 0
      },
      "text/plain": [
       "Validation: |          | 0/? [00:00<?, ?it/s]"
      ]
     },
     "metadata": {},
     "output_type": "display_data"
    },
    {
     "data": {
      "application/vnd.jupyter.widget-view+json": {
       "model_id": "3f60aa0bf4604e0491c78c5fce3c61c5",
       "version_major": 2,
       "version_minor": 0
      },
      "text/plain": [
       "Validation: |          | 0/? [00:00<?, ?it/s]"
      ]
     },
     "metadata": {},
     "output_type": "display_data"
    },
    {
     "data": {
      "application/vnd.jupyter.widget-view+json": {
       "model_id": "46ca8a0373aa4831b6a1b052dbac19c0",
       "version_major": 2,
       "version_minor": 0
      },
      "text/plain": [
       "Validation: |          | 0/? [00:00<?, ?it/s]"
      ]
     },
     "metadata": {},
     "output_type": "display_data"
    },
    {
     "data": {
      "application/vnd.jupyter.widget-view+json": {
       "model_id": "f9c5b4074e684004bce7427297491caf",
       "version_major": 2,
       "version_minor": 0
      },
      "text/plain": [
       "Validation: |          | 0/? [00:00<?, ?it/s]"
      ]
     },
     "metadata": {},
     "output_type": "display_data"
    },
    {
     "data": {
      "application/vnd.jupyter.widget-view+json": {
       "model_id": "052a30cf0027475e8a64f537019e5ca9",
       "version_major": 2,
       "version_minor": 0
      },
      "text/plain": [
       "Validation: |          | 0/? [00:00<?, ?it/s]"
      ]
     },
     "metadata": {},
     "output_type": "display_data"
    },
    {
     "data": {
      "application/vnd.jupyter.widget-view+json": {
       "model_id": "1c635cbd997641ef8856d301360ce49d",
       "version_major": 2,
       "version_minor": 0
      },
      "text/plain": [
       "Validation: |          | 0/? [00:00<?, ?it/s]"
      ]
     },
     "metadata": {},
     "output_type": "display_data"
    },
    {
     "data": {
      "application/vnd.jupyter.widget-view+json": {
       "model_id": "8a906b64470d4b5fae44e50035ebd935",
       "version_major": 2,
       "version_minor": 0
      },
      "text/plain": [
       "Validation: |          | 0/? [00:00<?, ?it/s]"
      ]
     },
     "metadata": {},
     "output_type": "display_data"
    },
    {
     "data": {
      "application/vnd.jupyter.widget-view+json": {
       "model_id": "69d88326385f4242b8bb13af73921611",
       "version_major": 2,
       "version_minor": 0
      },
      "text/plain": [
       "Validation: |          | 0/? [00:00<?, ?it/s]"
      ]
     },
     "metadata": {},
     "output_type": "display_data"
    },
    {
     "data": {
      "application/vnd.jupyter.widget-view+json": {
       "model_id": "cd733751acfe4b5fa1cd667594161c41",
       "version_major": 2,
       "version_minor": 0
      },
      "text/plain": [
       "Validation: |          | 0/? [00:00<?, ?it/s]"
      ]
     },
     "metadata": {},
     "output_type": "display_data"
    },
    {
     "data": {
      "application/vnd.jupyter.widget-view+json": {
       "model_id": "5a4d8c64d66746e59caf8d442b66eaff",
       "version_major": 2,
       "version_minor": 0
      },
      "text/plain": [
       "Validation: |          | 0/? [00:00<?, ?it/s]"
      ]
     },
     "metadata": {},
     "output_type": "display_data"
    },
    {
     "data": {
      "application/vnd.jupyter.widget-view+json": {
       "model_id": "2842ac938014471c87170c21453b1617",
       "version_major": 2,
       "version_minor": 0
      },
      "text/plain": [
       "Validation: |          | 0/? [00:00<?, ?it/s]"
      ]
     },
     "metadata": {},
     "output_type": "display_data"
    },
    {
     "data": {
      "application/vnd.jupyter.widget-view+json": {
       "model_id": "b93894855b9b440e8b4714ef718af97b",
       "version_major": 2,
       "version_minor": 0
      },
      "text/plain": [
       "Validation: |          | 0/? [00:00<?, ?it/s]"
      ]
     },
     "metadata": {},
     "output_type": "display_data"
    },
    {
     "data": {
      "application/vnd.jupyter.widget-view+json": {
       "model_id": "a94f3080b8004d019c356f198fcdbeb0",
       "version_major": 2,
       "version_minor": 0
      },
      "text/plain": [
       "Validation: |          | 0/? [00:00<?, ?it/s]"
      ]
     },
     "metadata": {},
     "output_type": "display_data"
    },
    {
     "name": "stderr",
     "output_type": "stream",
     "text": [
      "LOCAL_RANK: 0 - CUDA_VISIBLE_DEVICES: [0]\n",
      "LOCAL_RANK: 0 - CUDA_VISIBLE_DEVICES: [0]\n",
      "LOCAL_RANK: 0 - CUDA_VISIBLE_DEVICES: [0]\n",
      "LOCAL_RANK: 0 - CUDA_VISIBLE_DEVICES: [0]\n",
      "LOCAL_RANK: 0 - CUDA_VISIBLE_DEVICES: [0]\n",
      "LOCAL_RANK: 0 - CUDA_VISIBLE_DEVICES: [0]\n",
      "LOCAL_RANK: 0 - CUDA_VISIBLE_DEVICES: [0]\n",
      "LOCAL_RANK: 0 - CUDA_VISIBLE_DEVICES: [0]\n",
      "LOCAL_RANK: 0 - CUDA_VISIBLE_DEVICES: [0]\n",
      "LOCAL_RANK: 0 - CUDA_VISIBLE_DEVICES: [0]\n",
      "LOCAL_RANK: 0 - CUDA_VISIBLE_DEVICES: [0]\n",
      "LOCAL_RANK: 0 - CUDA_VISIBLE_DEVICES: [0]\n",
      "LOCAL_RANK: 0 - CUDA_VISIBLE_DEVICES: [0]\n",
      "LOCAL_RANK: 0 - CUDA_VISIBLE_DEVICES: [0]\n",
      "LOCAL_RANK: 0 - CUDA_VISIBLE_DEVICES: [0]\n",
      "LOCAL_RANK: 0 - CUDA_VISIBLE_DEVICES: [0]\n",
      "LOCAL_RANK: 0 - CUDA_VISIBLE_DEVICES: [0]\n",
      "LOCAL_RANK: 0 - CUDA_VISIBLE_DEVICES: [0]\n",
      "Seed set to 1337\n"
     ]
    },
    {
     "name": "stdout",
     "output_type": "stream",
     "text": [
      "House of Commons [{'other': 'Blog Authorship', 'test_loss': 1.5660959482192993, 'test_acc@0.5': 0.49823322892189026, 'test_acc@best': 0.5335689187049866, 'test_roc_auc': 0.4866165518760681}, {'other': 'Student Essays', 'test_loss': 0.4131241738796234, 'test_acc@0.5': 0.8433333039283752, 'test_acc@best': 0.8333333134651184, 'test_roc_auc': 0.9148444533348083}, {'other': 'CNN News', 'test_loss': 0.5166752934455872, 'test_acc@0.5': 0.8100000023841858, 'test_acc@best': 0.8399999737739563, 'test_roc_auc': 0.9154222011566162}, {'other': 'Euro Court Cases', 'test_loss': 1.3253952264785767, 'test_acc@0.5': 0.6066666841506958, 'test_acc@best': 0.7266666889190674, 'test_roc_auc': 0.7940000295639038}, {'other': 'House of Commons', 'test_loss': 0.3026309311389923, 'test_acc@0.5': 0.8624160885810852, 'test_acc@best': 0.8825503587722778, 'test_roc_auc': 0.957927942276001}, {'other': 'ArXiv Papers', 'test_loss': 0.17992176115512848, 'test_acc@0.5': 0.9385665655136108, 'test_acc@best': 0.9385665655136108, 'test_roc_auc': 0.9814556241035461}, {'other': 'Gutenberg', 'test_loss': 0.3907395303249359, 'test_acc@0.5': 0.8797250986099243, 'test_acc@best': 0.8797250986099243, 'test_roc_auc': 0.95333331823349}, {'other': 'Bundestag [DE]', 'test_loss': 3.223461627960205, 'test_acc@0.5': 0.5017182230949402, 'test_acc@best': 0.7010309100151062, 'test_roc_auc': 0.7539937496185303}, {'other': 'Spiegel [DE]', 'test_loss': 4.250034332275391, 'test_acc@0.5': 0.5050167441368103, 'test_acc@best': 0.7190635204315186, 'test_roc_auc': 0.8177181482315063}]\n"
     ]
    },
    {
     "name": "stderr",
     "output_type": "stream",
     "text": [
      "GPU available: True (cuda), used: True\n",
      "TPU available: False, using: 0 TPU cores\n",
      "HPU available: False, using: 0 HPUs\n",
      "/home/mastoeck/Projects/PrismAI/PrismAI/.venv/lib/python3.12/site-packages/lightning/pytorch/utilities/parsing.py:45: Attribute 'feature_dim' removed from hparams because it cannot be pickled. You can suppress this warning by setting `self.save_hyperparameters(ignore=['feature_dim'])`.\n",
      "LOCAL_RANK: 0 - CUDA_VISIBLE_DEVICES: [0]\n",
      "Loading `train_dataloader` to estimate number of stepping batches.\n",
      "\n",
      "  | Name        | Type              | Params | Mode  | In sizes    | Out sizes  \n",
      "--------------------------------------------------------------------------------------\n",
      "0 | conv_layers | Sequential        | 153 K  | train | ?           | ?          \n",
      "1 | projection  | Identity          | 0      | train | [32, 16384] | [32, 16384]\n",
      "2 | classifier  | Linear            | 16.4 K | train | [32, 16384] | [32, 1]    \n",
      "3 | criterion   | BCEWithLogitsLoss | 0      | train | ?           | ?          \n",
      "--------------------------------------------------------------------------------------\n",
      "169 K     Trainable params\n",
      "0         Non-trainable params\n",
      "169 K     Total params\n",
      "0.678     Total estimated model params size (MB)\n",
      "15        Modules in train mode\n",
      "0         Modules in eval mode\n"
     ]
    },
    {
     "data": {
      "application/vnd.jupyter.widget-view+json": {
       "model_id": "5d1c5d5379b74eac9bff7121e5a142b0",
       "version_major": 2,
       "version_minor": 0
      },
      "text/plain": [
       "Sanity Checking: |          | 0/? [00:00<?, ?it/s]"
      ]
     },
     "metadata": {},
     "output_type": "display_data"
    },
    {
     "data": {
      "application/vnd.jupyter.widget-view+json": {
       "model_id": "b51dace0b9c34426ac1ca913a84f8245",
       "version_major": 2,
       "version_minor": 0
      },
      "text/plain": [
       "Training: |          | 0/? [00:00<?, ?it/s]"
      ]
     },
     "metadata": {},
     "output_type": "display_data"
    },
    {
     "data": {
      "application/vnd.jupyter.widget-view+json": {
       "model_id": "2208a939194e4367ae6b0540904d49b2",
       "version_major": 2,
       "version_minor": 0
      },
      "text/plain": [
       "Validation: |          | 0/? [00:00<?, ?it/s]"
      ]
     },
     "metadata": {},
     "output_type": "display_data"
    },
    {
     "data": {
      "application/vnd.jupyter.widget-view+json": {
       "model_id": "6c75b1180d6947d0bbc5675c342bfd31",
       "version_major": 2,
       "version_minor": 0
      },
      "text/plain": [
       "Validation: |          | 0/? [00:00<?, ?it/s]"
      ]
     },
     "metadata": {},
     "output_type": "display_data"
    },
    {
     "data": {
      "application/vnd.jupyter.widget-view+json": {
       "model_id": "6a3da3d815974d37ab0f078d1ddb93db",
       "version_major": 2,
       "version_minor": 0
      },
      "text/plain": [
       "Validation: |          | 0/? [00:00<?, ?it/s]"
      ]
     },
     "metadata": {},
     "output_type": "display_data"
    },
    {
     "data": {
      "application/vnd.jupyter.widget-view+json": {
       "model_id": "fdb6941d0ee449a0a8a8575ebf0ce869",
       "version_major": 2,
       "version_minor": 0
      },
      "text/plain": [
       "Validation: |          | 0/? [00:00<?, ?it/s]"
      ]
     },
     "metadata": {},
     "output_type": "display_data"
    },
    {
     "data": {
      "application/vnd.jupyter.widget-view+json": {
       "model_id": "ef7aaa9ebc9d4c3eaa8fa2506850ca1a",
       "version_major": 2,
       "version_minor": 0
      },
      "text/plain": [
       "Validation: |          | 0/? [00:00<?, ?it/s]"
      ]
     },
     "metadata": {},
     "output_type": "display_data"
    },
    {
     "data": {
      "application/vnd.jupyter.widget-view+json": {
       "model_id": "7f0db50de7d94fe5a493a3a7a820d770",
       "version_major": 2,
       "version_minor": 0
      },
      "text/plain": [
       "Validation: |          | 0/? [00:00<?, ?it/s]"
      ]
     },
     "metadata": {},
     "output_type": "display_data"
    },
    {
     "data": {
      "application/vnd.jupyter.widget-view+json": {
       "model_id": "f37c05d0a92e4773beba507271dbfa32",
       "version_major": 2,
       "version_minor": 0
      },
      "text/plain": [
       "Validation: |          | 0/? [00:00<?, ?it/s]"
      ]
     },
     "metadata": {},
     "output_type": "display_data"
    },
    {
     "data": {
      "application/vnd.jupyter.widget-view+json": {
       "model_id": "ad6a7847c00d4f7993b05bab2be00a1b",
       "version_major": 2,
       "version_minor": 0
      },
      "text/plain": [
       "Validation: |          | 0/? [00:00<?, ?it/s]"
      ]
     },
     "metadata": {},
     "output_type": "display_data"
    },
    {
     "data": {
      "application/vnd.jupyter.widget-view+json": {
       "model_id": "c560ee2a0add4732ac3a314c352f73a2",
       "version_major": 2,
       "version_minor": 0
      },
      "text/plain": [
       "Validation: |          | 0/? [00:00<?, ?it/s]"
      ]
     },
     "metadata": {},
     "output_type": "display_data"
    },
    {
     "data": {
      "application/vnd.jupyter.widget-view+json": {
       "model_id": "9e15b06322b447899587c4b6dc7bb0b9",
       "version_major": 2,
       "version_minor": 0
      },
      "text/plain": [
       "Validation: |          | 0/? [00:00<?, ?it/s]"
      ]
     },
     "metadata": {},
     "output_type": "display_data"
    },
    {
     "data": {
      "application/vnd.jupyter.widget-view+json": {
       "model_id": "5b7571ab755c472098dedbab27329fc4",
       "version_major": 2,
       "version_minor": 0
      },
      "text/plain": [
       "Validation: |          | 0/? [00:00<?, ?it/s]"
      ]
     },
     "metadata": {},
     "output_type": "display_data"
    },
    {
     "data": {
      "application/vnd.jupyter.widget-view+json": {
       "model_id": "634ee367cce34c14a081c91986807f05",
       "version_major": 2,
       "version_minor": 0
      },
      "text/plain": [
       "Validation: |          | 0/? [00:00<?, ?it/s]"
      ]
     },
     "metadata": {},
     "output_type": "display_data"
    },
    {
     "name": "stderr",
     "output_type": "stream",
     "text": [
      "LOCAL_RANK: 0 - CUDA_VISIBLE_DEVICES: [0]\n",
      "LOCAL_RANK: 0 - CUDA_VISIBLE_DEVICES: [0]\n",
      "LOCAL_RANK: 0 - CUDA_VISIBLE_DEVICES: [0]\n",
      "LOCAL_RANK: 0 - CUDA_VISIBLE_DEVICES: [0]\n",
      "LOCAL_RANK: 0 - CUDA_VISIBLE_DEVICES: [0]\n",
      "LOCAL_RANK: 0 - CUDA_VISIBLE_DEVICES: [0]\n",
      "LOCAL_RANK: 0 - CUDA_VISIBLE_DEVICES: [0]\n",
      "LOCAL_RANK: 0 - CUDA_VISIBLE_DEVICES: [0]\n",
      "LOCAL_RANK: 0 - CUDA_VISIBLE_DEVICES: [0]\n",
      "LOCAL_RANK: 0 - CUDA_VISIBLE_DEVICES: [0]\n",
      "LOCAL_RANK: 0 - CUDA_VISIBLE_DEVICES: [0]\n",
      "LOCAL_RANK: 0 - CUDA_VISIBLE_DEVICES: [0]\n",
      "LOCAL_RANK: 0 - CUDA_VISIBLE_DEVICES: [0]\n",
      "LOCAL_RANK: 0 - CUDA_VISIBLE_DEVICES: [0]\n",
      "LOCAL_RANK: 0 - CUDA_VISIBLE_DEVICES: [0]\n",
      "LOCAL_RANK: 0 - CUDA_VISIBLE_DEVICES: [0]\n",
      "LOCAL_RANK: 0 - CUDA_VISIBLE_DEVICES: [0]\n",
      "LOCAL_RANK: 0 - CUDA_VISIBLE_DEVICES: [0]\n",
      "Seed set to 1337\n"
     ]
    },
    {
     "name": "stdout",
     "output_type": "stream",
     "text": [
      "ArXiv Papers [{'other': 'Blog Authorship', 'test_loss': 9.59347915649414, 'test_acc@0.5': 0.5159010887145996, 'test_acc@best': 0.5265017747879028, 'test_roc_auc': 0.5088220834732056}, {'other': 'Student Essays', 'test_loss': 0.6637491583824158, 'test_acc@0.5': 0.7933333516120911, 'test_acc@best': 0.8266666531562805, 'test_roc_auc': 0.9128444194793701}, {'other': 'CNN News', 'test_loss': 0.9587766528129578, 'test_acc@0.5': 0.7066666483879089, 'test_acc@best': 0.8233333230018616, 'test_roc_auc': 0.9120444655418396}, {'other': 'Euro Court Cases', 'test_loss': 1.8340733051300049, 'test_acc@0.5': 0.5666666626930237, 'test_acc@best': 0.746666669845581, 'test_roc_auc': 0.8180444240570068}, {'other': 'House of Commons', 'test_loss': 1.7641674280166626, 'test_acc@0.5': 0.7315436005592346, 'test_acc@best': 0.8859060406684875, 'test_roc_auc': 0.8921621441841125}, {'other': 'ArXiv Papers', 'test_loss': 0.16134177148342133, 'test_acc@0.5': 0.9419795274734497, 'test_acc@best': 0.9453924894332886, 'test_roc_auc': 0.9858354330062866}, {'other': 'Gutenberg', 'test_loss': 0.3502478003501892, 'test_acc@0.5': 0.876288652420044, 'test_acc@best': 0.8797250986099243, 'test_roc_auc': 0.9535461068153381}, {'other': 'Bundestag [DE]', 'test_loss': 2.368018865585327, 'test_acc@0.5': 0.5154638886451721, 'test_acc@best': 0.6907216310501099, 'test_roc_auc': 0.7580111622810364}, {'other': 'Spiegel [DE]', 'test_loss': 3.487144947052002, 'test_acc@0.5': 0.5050167441368103, 'test_acc@best': 0.7625418305397034, 'test_roc_auc': 0.823445200920105}]\n"
     ]
    },
    {
     "name": "stderr",
     "output_type": "stream",
     "text": [
      "GPU available: True (cuda), used: True\n",
      "TPU available: False, using: 0 TPU cores\n",
      "HPU available: False, using: 0 HPUs\n",
      "/home/mastoeck/Projects/PrismAI/PrismAI/.venv/lib/python3.12/site-packages/lightning/pytorch/utilities/parsing.py:45: Attribute 'feature_dim' removed from hparams because it cannot be pickled. You can suppress this warning by setting `self.save_hyperparameters(ignore=['feature_dim'])`.\n",
      "LOCAL_RANK: 0 - CUDA_VISIBLE_DEVICES: [0]\n",
      "Loading `train_dataloader` to estimate number of stepping batches.\n",
      "\n",
      "  | Name        | Type              | Params | Mode  | In sizes    | Out sizes  \n",
      "--------------------------------------------------------------------------------------\n",
      "0 | conv_layers | Sequential        | 153 K  | train | ?           | ?          \n",
      "1 | projection  | Identity          | 0      | train | [32, 16384] | [32, 16384]\n",
      "2 | classifier  | Linear            | 16.4 K | train | [32, 16384] | [32, 1]    \n",
      "3 | criterion   | BCEWithLogitsLoss | 0      | train | ?           | ?          \n",
      "--------------------------------------------------------------------------------------\n",
      "169 K     Trainable params\n",
      "0         Non-trainable params\n",
      "169 K     Total params\n",
      "0.678     Total estimated model params size (MB)\n",
      "15        Modules in train mode\n",
      "0         Modules in eval mode\n"
     ]
    },
    {
     "data": {
      "application/vnd.jupyter.widget-view+json": {
       "model_id": "0c239bfbb7c24c1cb5d9140b63d7fedd",
       "version_major": 2,
       "version_minor": 0
      },
      "text/plain": [
       "Sanity Checking: |          | 0/? [00:00<?, ?it/s]"
      ]
     },
     "metadata": {},
     "output_type": "display_data"
    },
    {
     "data": {
      "application/vnd.jupyter.widget-view+json": {
       "model_id": "f265cfc08dd74d79b985040115ca9dd6",
       "version_major": 2,
       "version_minor": 0
      },
      "text/plain": [
       "Training: |          | 0/? [00:00<?, ?it/s]"
      ]
     },
     "metadata": {},
     "output_type": "display_data"
    },
    {
     "data": {
      "application/vnd.jupyter.widget-view+json": {
       "model_id": "80de1ed9c75f43f3b97bb8104950d18a",
       "version_major": 2,
       "version_minor": 0
      },
      "text/plain": [
       "Validation: |          | 0/? [00:00<?, ?it/s]"
      ]
     },
     "metadata": {},
     "output_type": "display_data"
    },
    {
     "data": {
      "application/vnd.jupyter.widget-view+json": {
       "model_id": "a3cd02e8d4164b69870128a95482bd61",
       "version_major": 2,
       "version_minor": 0
      },
      "text/plain": [
       "Validation: |          | 0/? [00:00<?, ?it/s]"
      ]
     },
     "metadata": {},
     "output_type": "display_data"
    },
    {
     "data": {
      "application/vnd.jupyter.widget-view+json": {
       "model_id": "ff05b5417fce4861ba3e59b128afe7ad",
       "version_major": 2,
       "version_minor": 0
      },
      "text/plain": [
       "Validation: |          | 0/? [00:00<?, ?it/s]"
      ]
     },
     "metadata": {},
     "output_type": "display_data"
    },
    {
     "data": {
      "application/vnd.jupyter.widget-view+json": {
       "model_id": "972cb28d7c044e0488e06ef9dce8eb59",
       "version_major": 2,
       "version_minor": 0
      },
      "text/plain": [
       "Validation: |          | 0/? [00:00<?, ?it/s]"
      ]
     },
     "metadata": {},
     "output_type": "display_data"
    },
    {
     "data": {
      "application/vnd.jupyter.widget-view+json": {
       "model_id": "a9555b1419534a18a95f0a543d2f82ec",
       "version_major": 2,
       "version_minor": 0
      },
      "text/plain": [
       "Validation: |          | 0/? [00:00<?, ?it/s]"
      ]
     },
     "metadata": {},
     "output_type": "display_data"
    },
    {
     "data": {
      "application/vnd.jupyter.widget-view+json": {
       "model_id": "6c9316b017b64e6ca337514aadb14615",
       "version_major": 2,
       "version_minor": 0
      },
      "text/plain": [
       "Validation: |          | 0/? [00:00<?, ?it/s]"
      ]
     },
     "metadata": {},
     "output_type": "display_data"
    },
    {
     "data": {
      "application/vnd.jupyter.widget-view+json": {
       "model_id": "8512964b09e645218f2dc10f86d0ae52",
       "version_major": 2,
       "version_minor": 0
      },
      "text/plain": [
       "Validation: |          | 0/? [00:00<?, ?it/s]"
      ]
     },
     "metadata": {},
     "output_type": "display_data"
    },
    {
     "name": "stderr",
     "output_type": "stream",
     "text": [
      "LOCAL_RANK: 0 - CUDA_VISIBLE_DEVICES: [0]\n",
      "LOCAL_RANK: 0 - CUDA_VISIBLE_DEVICES: [0]\n",
      "LOCAL_RANK: 0 - CUDA_VISIBLE_DEVICES: [0]\n",
      "LOCAL_RANK: 0 - CUDA_VISIBLE_DEVICES: [0]\n",
      "LOCAL_RANK: 0 - CUDA_VISIBLE_DEVICES: [0]\n",
      "LOCAL_RANK: 0 - CUDA_VISIBLE_DEVICES: [0]\n",
      "LOCAL_RANK: 0 - CUDA_VISIBLE_DEVICES: [0]\n",
      "LOCAL_RANK: 0 - CUDA_VISIBLE_DEVICES: [0]\n",
      "LOCAL_RANK: 0 - CUDA_VISIBLE_DEVICES: [0]\n",
      "LOCAL_RANK: 0 - CUDA_VISIBLE_DEVICES: [0]\n",
      "LOCAL_RANK: 0 - CUDA_VISIBLE_DEVICES: [0]\n",
      "LOCAL_RANK: 0 - CUDA_VISIBLE_DEVICES: [0]\n",
      "LOCAL_RANK: 0 - CUDA_VISIBLE_DEVICES: [0]\n",
      "LOCAL_RANK: 0 - CUDA_VISIBLE_DEVICES: [0]\n",
      "LOCAL_RANK: 0 - CUDA_VISIBLE_DEVICES: [0]\n",
      "LOCAL_RANK: 0 - CUDA_VISIBLE_DEVICES: [0]\n",
      "LOCAL_RANK: 0 - CUDA_VISIBLE_DEVICES: [0]\n",
      "LOCAL_RANK: 0 - CUDA_VISIBLE_DEVICES: [0]\n",
      "Seed set to 1337\n"
     ]
    },
    {
     "name": "stdout",
     "output_type": "stream",
     "text": [
      "Gutenberg [{'other': 'Blog Authorship', 'test_loss': 1.5097944736480713, 'test_acc@0.5': 0.5159010887145996, 'test_acc@best': 0.5441696047782898, 'test_roc_auc': 0.4877694249153137}, {'other': 'Student Essays', 'test_loss': 0.37518152594566345, 'test_acc@0.5': 0.8299999833106995, 'test_acc@best': 0.8266666531562805, 'test_roc_auc': 0.9215555787086487}, {'other': 'CNN News', 'test_loss': 0.40968504548072815, 'test_acc@0.5': 0.8399999737739563, 'test_acc@best': 0.8333333134651184, 'test_roc_auc': 0.9211111068725586}, {'other': 'Euro Court Cases', 'test_loss': 0.9050071835517883, 'test_acc@0.5': 0.6433333158493042, 'test_acc@best': 0.7133333086967468, 'test_roc_auc': 0.8117333054542542}, {'other': 'House of Commons', 'test_loss': 0.3119862973690033, 'test_acc@0.5': 0.8859060406684875, 'test_acc@best': 0.9026845693588257, 'test_roc_auc': 0.9534684419631958}, {'other': 'ArXiv Papers', 'test_loss': 0.20895396173000336, 'test_acc@0.5': 0.9249146580696106, 'test_acc@best': 0.935153603553772, 'test_roc_auc': 0.9783803820610046}, {'other': 'Gutenberg', 'test_loss': 0.37734657526016235, 'test_acc@0.5': 0.8625429272651672, 'test_acc@best': 0.8969072103500366, 'test_roc_auc': 0.9572576880455017}, {'other': 'Bundestag [DE]', 'test_loss': 2.88936710357666, 'test_acc@0.5': 0.49484536051750183, 'test_acc@best': 0.6975945234298706, 'test_roc_auc': 0.762312114238739}, {'other': 'Spiegel [DE]', 'test_loss': 3.7887299060821533, 'test_acc@0.5': 0.5016722679138184, 'test_acc@best': 0.7458193898200989, 'test_roc_auc': 0.8267561793327332}]\n"
     ]
    },
    {
     "name": "stderr",
     "output_type": "stream",
     "text": [
      "GPU available: True (cuda), used: True\n",
      "TPU available: False, using: 0 TPU cores\n",
      "HPU available: False, using: 0 HPUs\n",
      "/home/mastoeck/Projects/PrismAI/PrismAI/.venv/lib/python3.12/site-packages/lightning/pytorch/utilities/parsing.py:45: Attribute 'feature_dim' removed from hparams because it cannot be pickled. You can suppress this warning by setting `self.save_hyperparameters(ignore=['feature_dim'])`.\n",
      "LOCAL_RANK: 0 - CUDA_VISIBLE_DEVICES: [0]\n",
      "Loading `train_dataloader` to estimate number of stepping batches.\n",
      "\n",
      "  | Name        | Type              | Params | Mode  | In sizes    | Out sizes  \n",
      "--------------------------------------------------------------------------------------\n",
      "0 | conv_layers | Sequential        | 153 K  | train | ?           | ?          \n",
      "1 | projection  | Identity          | 0      | train | [32, 16384] | [32, 16384]\n",
      "2 | classifier  | Linear            | 16.4 K | train | [32, 16384] | [32, 1]    \n",
      "3 | criterion   | BCEWithLogitsLoss | 0      | train | ?           | ?          \n",
      "--------------------------------------------------------------------------------------\n",
      "169 K     Trainable params\n",
      "0         Non-trainable params\n",
      "169 K     Total params\n",
      "0.678     Total estimated model params size (MB)\n",
      "15        Modules in train mode\n",
      "0         Modules in eval mode\n"
     ]
    },
    {
     "data": {
      "application/vnd.jupyter.widget-view+json": {
       "model_id": "fd6fe1f2e5ec422fb78ea81e07280406",
       "version_major": 2,
       "version_minor": 0
      },
      "text/plain": [
       "Sanity Checking: |          | 0/? [00:00<?, ?it/s]"
      ]
     },
     "metadata": {},
     "output_type": "display_data"
    },
    {
     "data": {
      "application/vnd.jupyter.widget-view+json": {
       "model_id": "60b9f55deb84401f9d405a19fe60cd09",
       "version_major": 2,
       "version_minor": 0
      },
      "text/plain": [
       "Training: |          | 0/? [00:00<?, ?it/s]"
      ]
     },
     "metadata": {},
     "output_type": "display_data"
    },
    {
     "data": {
      "application/vnd.jupyter.widget-view+json": {
       "model_id": "761b634b568b4e29b6c402613c8a8881",
       "version_major": 2,
       "version_minor": 0
      },
      "text/plain": [
       "Validation: |          | 0/? [00:00<?, ?it/s]"
      ]
     },
     "metadata": {},
     "output_type": "display_data"
    },
    {
     "data": {
      "application/vnd.jupyter.widget-view+json": {
       "model_id": "6b8b1531ae5948c4ac3a093538133751",
       "version_major": 2,
       "version_minor": 0
      },
      "text/plain": [
       "Validation: |          | 0/? [00:00<?, ?it/s]"
      ]
     },
     "metadata": {},
     "output_type": "display_data"
    },
    {
     "data": {
      "application/vnd.jupyter.widget-view+json": {
       "model_id": "484683ceba30491bb6389726cba8133a",
       "version_major": 2,
       "version_minor": 0
      },
      "text/plain": [
       "Validation: |          | 0/? [00:00<?, ?it/s]"
      ]
     },
     "metadata": {},
     "output_type": "display_data"
    },
    {
     "data": {
      "application/vnd.jupyter.widget-view+json": {
       "model_id": "78c917efc34d4df9824290a46d1191fd",
       "version_major": 2,
       "version_minor": 0
      },
      "text/plain": [
       "Validation: |          | 0/? [00:00<?, ?it/s]"
      ]
     },
     "metadata": {},
     "output_type": "display_data"
    },
    {
     "data": {
      "application/vnd.jupyter.widget-view+json": {
       "model_id": "d42812cc20a142658eb326c1be225403",
       "version_major": 2,
       "version_minor": 0
      },
      "text/plain": [
       "Validation: |          | 0/? [00:00<?, ?it/s]"
      ]
     },
     "metadata": {},
     "output_type": "display_data"
    },
    {
     "data": {
      "application/vnd.jupyter.widget-view+json": {
       "model_id": "a91673b2f6c34b5baae9c5cd89a2e861",
       "version_major": 2,
       "version_minor": 0
      },
      "text/plain": [
       "Validation: |          | 0/? [00:00<?, ?it/s]"
      ]
     },
     "metadata": {},
     "output_type": "display_data"
    },
    {
     "data": {
      "application/vnd.jupyter.widget-view+json": {
       "model_id": "ba761cdde1df4597aa672a65950c1693",
       "version_major": 2,
       "version_minor": 0
      },
      "text/plain": [
       "Validation: |          | 0/? [00:00<?, ?it/s]"
      ]
     },
     "metadata": {},
     "output_type": "display_data"
    },
    {
     "data": {
      "application/vnd.jupyter.widget-view+json": {
       "model_id": "2691ae7b7af84a02b38618fac6ba796a",
       "version_major": 2,
       "version_minor": 0
      },
      "text/plain": [
       "Validation: |          | 0/? [00:00<?, ?it/s]"
      ]
     },
     "metadata": {},
     "output_type": "display_data"
    },
    {
     "data": {
      "application/vnd.jupyter.widget-view+json": {
       "model_id": "46435c4a7d9643a5bc0adeca6bb0fa66",
       "version_major": 2,
       "version_minor": 0
      },
      "text/plain": [
       "Validation: |          | 0/? [00:00<?, ?it/s]"
      ]
     },
     "metadata": {},
     "output_type": "display_data"
    },
    {
     "data": {
      "application/vnd.jupyter.widget-view+json": {
       "model_id": "b754ae9c729c4699aba6edd68e345078",
       "version_major": 2,
       "version_minor": 0
      },
      "text/plain": [
       "Validation: |          | 0/? [00:00<?, ?it/s]"
      ]
     },
     "metadata": {},
     "output_type": "display_data"
    },
    {
     "data": {
      "application/vnd.jupyter.widget-view+json": {
       "model_id": "770abb1a1adc421e878883cbabe30e58",
       "version_major": 2,
       "version_minor": 0
      },
      "text/plain": [
       "Validation: |          | 0/? [00:00<?, ?it/s]"
      ]
     },
     "metadata": {},
     "output_type": "display_data"
    },
    {
     "data": {
      "application/vnd.jupyter.widget-view+json": {
       "model_id": "a9ae9bd6f36443a2b4534b5e5b329879",
       "version_major": 2,
       "version_minor": 0
      },
      "text/plain": [
       "Validation: |          | 0/? [00:00<?, ?it/s]"
      ]
     },
     "metadata": {},
     "output_type": "display_data"
    },
    {
     "data": {
      "application/vnd.jupyter.widget-view+json": {
       "model_id": "8af1cebd904e46a88e0657b73c313946",
       "version_major": 2,
       "version_minor": 0
      },
      "text/plain": [
       "Validation: |          | 0/? [00:00<?, ?it/s]"
      ]
     },
     "metadata": {},
     "output_type": "display_data"
    },
    {
     "name": "stderr",
     "output_type": "stream",
     "text": [
      "LOCAL_RANK: 0 - CUDA_VISIBLE_DEVICES: [0]\n",
      "LOCAL_RANK: 0 - CUDA_VISIBLE_DEVICES: [0]\n",
      "LOCAL_RANK: 0 - CUDA_VISIBLE_DEVICES: [0]\n",
      "LOCAL_RANK: 0 - CUDA_VISIBLE_DEVICES: [0]\n",
      "LOCAL_RANK: 0 - CUDA_VISIBLE_DEVICES: [0]\n",
      "LOCAL_RANK: 0 - CUDA_VISIBLE_DEVICES: [0]\n",
      "LOCAL_RANK: 0 - CUDA_VISIBLE_DEVICES: [0]\n",
      "LOCAL_RANK: 0 - CUDA_VISIBLE_DEVICES: [0]\n",
      "LOCAL_RANK: 0 - CUDA_VISIBLE_DEVICES: [0]\n",
      "LOCAL_RANK: 0 - CUDA_VISIBLE_DEVICES: [0]\n",
      "LOCAL_RANK: 0 - CUDA_VISIBLE_DEVICES: [0]\n",
      "LOCAL_RANK: 0 - CUDA_VISIBLE_DEVICES: [0]\n",
      "LOCAL_RANK: 0 - CUDA_VISIBLE_DEVICES: [0]\n",
      "LOCAL_RANK: 0 - CUDA_VISIBLE_DEVICES: [0]\n",
      "LOCAL_RANK: 0 - CUDA_VISIBLE_DEVICES: [0]\n",
      "LOCAL_RANK: 0 - CUDA_VISIBLE_DEVICES: [0]\n",
      "LOCAL_RANK: 0 - CUDA_VISIBLE_DEVICES: [0]\n",
      "LOCAL_RANK: 0 - CUDA_VISIBLE_DEVICES: [0]\n",
      "Seed set to 1337\n"
     ]
    },
    {
     "name": "stdout",
     "output_type": "stream",
     "text": [
      "Bundestag [DE] [{'other': 'Blog Authorship', 'test_loss': 0.9933467507362366, 'test_acc@0.5': 0.4911660850048065, 'test_acc@best': 0.5724381804466248, 'test_roc_auc': 0.43253132700920105}, {'other': 'Student Essays', 'test_loss': 1.5562576055526733, 'test_acc@0.5': 0.5266666412353516, 'test_acc@best': 0.8166666626930237, 'test_roc_auc': 0.8844444155693054}, {'other': 'CNN News', 'test_loss': 1.9345356225967407, 'test_acc@0.5': 0.5166666507720947, 'test_acc@best': 0.7833333611488342, 'test_roc_auc': 0.8609777688980103}, {'other': 'Euro Court Cases', 'test_loss': 2.4676873683929443, 'test_acc@0.5': 0.5, 'test_acc@best': 0.6866666674613953, 'test_roc_auc': 0.768666684627533}, {'other': 'House of Commons', 'test_loss': 1.6124229431152344, 'test_acc@0.5': 0.5033556818962097, 'test_acc@best': 0.8020133972167969, 'test_roc_auc': 0.8000900745391846}, {'other': 'ArXiv Papers', 'test_loss': 1.1475695371627808, 'test_acc@0.5': 0.5665528774261475, 'test_acc@best': 0.8191125988960266, 'test_roc_auc': 0.8567234873771667}, {'other': 'Gutenberg', 'test_loss': 0.9549376368522644, 'test_acc@0.5': 0.5910652875900269, 'test_acc@best': 0.838487982749939, 'test_roc_auc': 0.9128605127334595}, {'other': 'Bundestag [DE]', 'test_loss': 0.6157031655311584, 'test_acc@0.5': 0.7010309100151062, 'test_acc@best': 0.7319587469100952, 'test_roc_auc': 0.7940258979797363}, {'other': 'Spiegel [DE]', 'test_loss': 0.4762987196445465, 'test_acc@0.5': 0.7658863067626953, 'test_acc@best': 0.7759197354316711, 'test_roc_auc': 0.8499329090118408}]\n"
     ]
    },
    {
     "name": "stderr",
     "output_type": "stream",
     "text": [
      "GPU available: True (cuda), used: True\n",
      "TPU available: False, using: 0 TPU cores\n",
      "HPU available: False, using: 0 HPUs\n",
      "/home/mastoeck/Projects/PrismAI/PrismAI/.venv/lib/python3.12/site-packages/lightning/pytorch/utilities/parsing.py:45: Attribute 'feature_dim' removed from hparams because it cannot be pickled. You can suppress this warning by setting `self.save_hyperparameters(ignore=['feature_dim'])`.\n",
      "LOCAL_RANK: 0 - CUDA_VISIBLE_DEVICES: [0]\n",
      "Loading `train_dataloader` to estimate number of stepping batches.\n",
      "\n",
      "  | Name        | Type              | Params | Mode  | In sizes    | Out sizes  \n",
      "--------------------------------------------------------------------------------------\n",
      "0 | conv_layers | Sequential        | 153 K  | train | ?           | ?          \n",
      "1 | projection  | Identity          | 0      | train | [32, 16384] | [32, 16384]\n",
      "2 | classifier  | Linear            | 16.4 K | train | [32, 16384] | [32, 1]    \n",
      "3 | criterion   | BCEWithLogitsLoss | 0      | train | ?           | ?          \n",
      "--------------------------------------------------------------------------------------\n",
      "169 K     Trainable params\n",
      "0         Non-trainable params\n",
      "169 K     Total params\n",
      "0.678     Total estimated model params size (MB)\n",
      "15        Modules in train mode\n",
      "0         Modules in eval mode\n"
     ]
    },
    {
     "data": {
      "application/vnd.jupyter.widget-view+json": {
       "model_id": "f8db190b73c147d49e30fc3737eb2ea4",
       "version_major": 2,
       "version_minor": 0
      },
      "text/plain": [
       "Sanity Checking: |          | 0/? [00:00<?, ?it/s]"
      ]
     },
     "metadata": {},
     "output_type": "display_data"
    },
    {
     "data": {
      "application/vnd.jupyter.widget-view+json": {
       "model_id": "421ed8d26afb4eb5a62d8299e7823c7b",
       "version_major": 2,
       "version_minor": 0
      },
      "text/plain": [
       "Training: |          | 0/? [00:00<?, ?it/s]"
      ]
     },
     "metadata": {},
     "output_type": "display_data"
    },
    {
     "data": {
      "application/vnd.jupyter.widget-view+json": {
       "model_id": "6731bcdab8984b2fb500716004feb4ce",
       "version_major": 2,
       "version_minor": 0
      },
      "text/plain": [
       "Validation: |          | 0/? [00:00<?, ?it/s]"
      ]
     },
     "metadata": {},
     "output_type": "display_data"
    },
    {
     "data": {
      "application/vnd.jupyter.widget-view+json": {
       "model_id": "67860dddc5de4715af5d8aa208fe9b0a",
       "version_major": 2,
       "version_minor": 0
      },
      "text/plain": [
       "Validation: |          | 0/? [00:00<?, ?it/s]"
      ]
     },
     "metadata": {},
     "output_type": "display_data"
    },
    {
     "data": {
      "application/vnd.jupyter.widget-view+json": {
       "model_id": "257e72be7eb745a9871f33df3cd425c8",
       "version_major": 2,
       "version_minor": 0
      },
      "text/plain": [
       "Validation: |          | 0/? [00:00<?, ?it/s]"
      ]
     },
     "metadata": {},
     "output_type": "display_data"
    },
    {
     "data": {
      "application/vnd.jupyter.widget-view+json": {
       "model_id": "e9d5261241424274ad41c7ee5e5403ba",
       "version_major": 2,
       "version_minor": 0
      },
      "text/plain": [
       "Validation: |          | 0/? [00:00<?, ?it/s]"
      ]
     },
     "metadata": {},
     "output_type": "display_data"
    },
    {
     "data": {
      "application/vnd.jupyter.widget-view+json": {
       "model_id": "f1bb2da29bf64e3f81d6e88be0c27816",
       "version_major": 2,
       "version_minor": 0
      },
      "text/plain": [
       "Validation: |          | 0/? [00:00<?, ?it/s]"
      ]
     },
     "metadata": {},
     "output_type": "display_data"
    },
    {
     "data": {
      "application/vnd.jupyter.widget-view+json": {
       "model_id": "e7672870e2ff4fad9dd398b08bc4d634",
       "version_major": 2,
       "version_minor": 0
      },
      "text/plain": [
       "Validation: |          | 0/? [00:00<?, ?it/s]"
      ]
     },
     "metadata": {},
     "output_type": "display_data"
    },
    {
     "data": {
      "application/vnd.jupyter.widget-view+json": {
       "model_id": "09768cff434f4beda5c45a119cf5832a",
       "version_major": 2,
       "version_minor": 0
      },
      "text/plain": [
       "Validation: |          | 0/? [00:00<?, ?it/s]"
      ]
     },
     "metadata": {},
     "output_type": "display_data"
    },
    {
     "data": {
      "application/vnd.jupyter.widget-view+json": {
       "model_id": "da1d0ac2b28f49d991f4262c41edd9a3",
       "version_major": 2,
       "version_minor": 0
      },
      "text/plain": [
       "Validation: |          | 0/? [00:00<?, ?it/s]"
      ]
     },
     "metadata": {},
     "output_type": "display_data"
    },
    {
     "data": {
      "application/vnd.jupyter.widget-view+json": {
       "model_id": "b86fd4460e714b6e96e769c46d6cdb25",
       "version_major": 2,
       "version_minor": 0
      },
      "text/plain": [
       "Validation: |          | 0/? [00:00<?, ?it/s]"
      ]
     },
     "metadata": {},
     "output_type": "display_data"
    },
    {
     "data": {
      "application/vnd.jupyter.widget-view+json": {
       "model_id": "1a1d66e50be64890b16260fc4a5e2973",
       "version_major": 2,
       "version_minor": 0
      },
      "text/plain": [
       "Validation: |          | 0/? [00:00<?, ?it/s]"
      ]
     },
     "metadata": {},
     "output_type": "display_data"
    },
    {
     "name": "stderr",
     "output_type": "stream",
     "text": [
      "LOCAL_RANK: 0 - CUDA_VISIBLE_DEVICES: [0]\n",
      "LOCAL_RANK: 0 - CUDA_VISIBLE_DEVICES: [0]\n",
      "LOCAL_RANK: 0 - CUDA_VISIBLE_DEVICES: [0]\n",
      "LOCAL_RANK: 0 - CUDA_VISIBLE_DEVICES: [0]\n",
      "LOCAL_RANK: 0 - CUDA_VISIBLE_DEVICES: [0]\n",
      "LOCAL_RANK: 0 - CUDA_VISIBLE_DEVICES: [0]\n",
      "LOCAL_RANK: 0 - CUDA_VISIBLE_DEVICES: [0]\n",
      "LOCAL_RANK: 0 - CUDA_VISIBLE_DEVICES: [0]\n",
      "LOCAL_RANK: 0 - CUDA_VISIBLE_DEVICES: [0]\n",
      "LOCAL_RANK: 0 - CUDA_VISIBLE_DEVICES: [0]\n",
      "LOCAL_RANK: 0 - CUDA_VISIBLE_DEVICES: [0]\n",
      "LOCAL_RANK: 0 - CUDA_VISIBLE_DEVICES: [0]\n",
      "LOCAL_RANK: 0 - CUDA_VISIBLE_DEVICES: [0]\n",
      "LOCAL_RANK: 0 - CUDA_VISIBLE_DEVICES: [0]\n",
      "LOCAL_RANK: 0 - CUDA_VISIBLE_DEVICES: [0]\n",
      "LOCAL_RANK: 0 - CUDA_VISIBLE_DEVICES: [0]\n",
      "LOCAL_RANK: 0 - CUDA_VISIBLE_DEVICES: [0]\n",
      "LOCAL_RANK: 0 - CUDA_VISIBLE_DEVICES: [0]\n"
     ]
    },
    {
     "name": "stdout",
     "output_type": "stream",
     "text": [
      "Spiegel [DE] [{'other': 'Blog Authorship', 'test_loss': 1.3505350351333618, 'test_acc@0.5': 0.5265017747879028, 'test_acc@best': 0.565371036529541, 'test_roc_auc': 0.40987467765808105}, {'other': 'Student Essays', 'test_loss': 1.8062877655029297, 'test_acc@0.5': 0.5199999809265137, 'test_acc@best': 0.8266666531562805, 'test_roc_auc': 0.8865333199501038}, {'other': 'CNN News', 'test_loss': 2.1506502628326416, 'test_acc@0.5': 0.503333330154419, 'test_acc@best': 0.8066666722297668, 'test_roc_auc': 0.8616889119148254}, {'other': 'Euro Court Cases', 'test_loss': 2.7483460903167725, 'test_acc@0.5': 0.4866666793823242, 'test_acc@best': 0.6833333373069763, 'test_roc_auc': 0.7566666603088379}, {'other': 'House of Commons', 'test_loss': 2.014195680618286, 'test_acc@0.5': 0.4563758373260498, 'test_acc@best': 0.8120805621147156, 'test_roc_auc': 0.7945045232772827}, {'other': 'ArXiv Papers', 'test_loss': 1.50626802444458, 'test_acc@0.5': 0.4505119323730469, 'test_acc@best': 0.849829375743866, 'test_roc_auc': 0.814276397228241}, {'other': 'Gutenberg', 'test_loss': 1.2233513593673706, 'test_acc@0.5': 0.5257731676101685, 'test_acc@best': 0.8522336483001709, 'test_roc_auc': 0.8995271921157837}, {'other': 'Bundestag [DE]', 'test_loss': 0.8049623370170593, 'test_acc@0.5': 0.6185566782951355, 'test_acc@best': 0.6941580772399902, 'test_roc_auc': 0.7507798671722412}, {'other': 'Spiegel [DE]', 'test_loss': 0.4935437738895416, 'test_acc@0.5': 0.7558528184890747, 'test_acc@best': 0.7725752592086792, 'test_roc_auc': 0.8591051697731018}]\n"
     ]
    }
   ],
   "source": [
    "results_in_domain = {}\n",
    "for domain in domains:\n",
    "    seed_everything(config[\"seed\"])\n",
    "\n",
    "    train_dataloader = get_dataloader(train_datasets[domain], shuffle=True)\n",
    "    eval_dataloader = get_dataloader(eval_datasets[domain])\n",
    "\n",
    "    model = DocumentClassficationModel(**config)\n",
    "    trainer = Trainer(\n",
    "        max_epochs=config[\"max_epochs\"],\n",
    "        logger=pl_loggers.TensorBoardLogger(\n",
    "            save_dir=f\"logs/in_domain/{type(featurizer).__name__}\",\n",
    "            name=domain,\n",
    "        ),\n",
    "        gradient_clip_val=config[\"gradient_clip_val\"],\n",
    "        callbacks=[EarlyStopping(monitor=\"val_loss\", mode=\"min\", patience=3)],\n",
    "        deterministic=True,\n",
    "    )\n",
    "\n",
    "    trainer.fit(\n",
    "        model,\n",
    "        train_dataloaders=train_dataloader,\n",
    "        val_dataloaders=eval_dataloader,\n",
    "    )\n",
    "\n",
    "    trainer.progress_bar_callback.disable()\n",
    "    metrics = []\n",
    "    for other, dataset in test_datasets.items():\n",
    "        trainer.validate(model, get_dataloader(eval_datasets[other]), verbose=False)\n",
    "        metrics.append(\n",
    "            {\n",
    "                \"other\": other,\n",
    "            }\n",
    "            | trainer.test(\n",
    "                model,\n",
    "                get_dataloader(dataset),\n",
    "                verbose=False,\n",
    "            )[0]\n",
    "        )\n",
    "    trainer.progress_bar_callback.enable()\n",
    "\n",
    "    results_in_domain[domain] = {\n",
    "        \"domain\": domain,\n",
    "        \"config\": copy.deepcopy(config),\n",
    "        \"metrics\": metrics,\n",
    "    }\n",
    "    print(domain, metrics)\n"
   ]
  },
  {
   "cell_type": "code",
   "execution_count": 109,
   "metadata": {},
   "outputs": [
    {
     "data": {
      "text/html": [
       "<div>\n",
       "<style scoped>\n",
       "    .dataframe tbody tr th:only-of-type {\n",
       "        vertical-align: middle;\n",
       "    }\n",
       "\n",
       "    .dataframe tbody tr th {\n",
       "        vertical-align: top;\n",
       "    }\n",
       "\n",
       "    .dataframe thead th {\n",
       "        text-align: right;\n",
       "    }\n",
       "</style>\n",
       "<table border=\"1\" class=\"dataframe\">\n",
       "  <thead>\n",
       "    <tr style=\"text-align: right;\">\n",
       "      <th></th>\n",
       "      <th>Blog Authorship</th>\n",
       "      <th>Student Essays</th>\n",
       "      <th>CNN News</th>\n",
       "      <th>Euro Court Cases</th>\n",
       "      <th>House of Commons</th>\n",
       "      <th>ArXiv Papers</th>\n",
       "      <th>Gutenberg</th>\n",
       "      <th>Bundestag [DE]</th>\n",
       "      <th>Spiegel [DE]</th>\n",
       "    </tr>\n",
       "  </thead>\n",
       "  <tbody>\n",
       "    <tr>\n",
       "      <th>Blog Authorship</th>\n",
       "      <td>0.984010</td>\n",
       "      <td>0.633911</td>\n",
       "      <td>0.677089</td>\n",
       "      <td>0.532311</td>\n",
       "      <td>0.663468</td>\n",
       "      <td>0.577789</td>\n",
       "      <td>0.724823</td>\n",
       "      <td>0.546885</td>\n",
       "      <td>0.675973</td>\n",
       "    </tr>\n",
       "    <tr>\n",
       "      <th>Student Essays</th>\n",
       "      <td>0.495940</td>\n",
       "      <td>0.958800</td>\n",
       "      <td>0.943600</td>\n",
       "      <td>0.828578</td>\n",
       "      <td>0.804955</td>\n",
       "      <td>0.809477</td>\n",
       "      <td>0.931678</td>\n",
       "      <td>0.757255</td>\n",
       "      <td>0.786622</td>\n",
       "    </tr>\n",
       "    <tr>\n",
       "      <th>CNN News</th>\n",
       "      <td>0.522957</td>\n",
       "      <td>0.916800</td>\n",
       "      <td>0.924489</td>\n",
       "      <td>0.795733</td>\n",
       "      <td>0.860045</td>\n",
       "      <td>0.929457</td>\n",
       "      <td>0.948038</td>\n",
       "      <td>0.746526</td>\n",
       "      <td>0.812752</td>\n",
       "    </tr>\n",
       "    <tr>\n",
       "      <th>Euro Court Cases</th>\n",
       "      <td>0.507619</td>\n",
       "      <td>0.908000</td>\n",
       "      <td>0.917644</td>\n",
       "      <td>0.833867</td>\n",
       "      <td>0.907477</td>\n",
       "      <td>0.979778</td>\n",
       "      <td>0.945910</td>\n",
       "      <td>0.766140</td>\n",
       "      <td>0.826532</td>\n",
       "    </tr>\n",
       "    <tr>\n",
       "      <th>House of Commons</th>\n",
       "      <td>0.486617</td>\n",
       "      <td>0.914844</td>\n",
       "      <td>0.915422</td>\n",
       "      <td>0.794000</td>\n",
       "      <td>0.957928</td>\n",
       "      <td>0.981456</td>\n",
       "      <td>0.953333</td>\n",
       "      <td>0.753994</td>\n",
       "      <td>0.817718</td>\n",
       "    </tr>\n",
       "    <tr>\n",
       "      <th>ArXiv Papers</th>\n",
       "      <td>0.508822</td>\n",
       "      <td>0.912844</td>\n",
       "      <td>0.912044</td>\n",
       "      <td>0.818044</td>\n",
       "      <td>0.892162</td>\n",
       "      <td>0.985835</td>\n",
       "      <td>0.953546</td>\n",
       "      <td>0.758011</td>\n",
       "      <td>0.823445</td>\n",
       "    </tr>\n",
       "    <tr>\n",
       "      <th>Gutenberg</th>\n",
       "      <td>0.487769</td>\n",
       "      <td>0.921556</td>\n",
       "      <td>0.921111</td>\n",
       "      <td>0.811733</td>\n",
       "      <td>0.953468</td>\n",
       "      <td>0.978380</td>\n",
       "      <td>0.957258</td>\n",
       "      <td>0.762312</td>\n",
       "      <td>0.826756</td>\n",
       "    </tr>\n",
       "    <tr>\n",
       "      <th>Bundestag [DE]</th>\n",
       "      <td>0.432531</td>\n",
       "      <td>0.884444</td>\n",
       "      <td>0.860978</td>\n",
       "      <td>0.768667</td>\n",
       "      <td>0.800090</td>\n",
       "      <td>0.856723</td>\n",
       "      <td>0.912861</td>\n",
       "      <td>0.794026</td>\n",
       "      <td>0.849933</td>\n",
       "    </tr>\n",
       "    <tr>\n",
       "      <th>Spiegel [DE]</th>\n",
       "      <td>0.409875</td>\n",
       "      <td>0.886533</td>\n",
       "      <td>0.861689</td>\n",
       "      <td>0.756667</td>\n",
       "      <td>0.794505</td>\n",
       "      <td>0.814276</td>\n",
       "      <td>0.899527</td>\n",
       "      <td>0.750780</td>\n",
       "      <td>0.859105</td>\n",
       "    </tr>\n",
       "  </tbody>\n",
       "</table>\n",
       "</div>"
      ],
      "text/plain": [
       "                  Blog Authorship  Student Essays  CNN News  Euro Court Cases  \\\n",
       "Blog Authorship          0.984010        0.633911  0.677089          0.532311   \n",
       "Student Essays           0.495940        0.958800  0.943600          0.828578   \n",
       "CNN News                 0.522957        0.916800  0.924489          0.795733   \n",
       "Euro Court Cases         0.507619        0.908000  0.917644          0.833867   \n",
       "House of Commons         0.486617        0.914844  0.915422          0.794000   \n",
       "ArXiv Papers             0.508822        0.912844  0.912044          0.818044   \n",
       "Gutenberg                0.487769        0.921556  0.921111          0.811733   \n",
       "Bundestag [DE]           0.432531        0.884444  0.860978          0.768667   \n",
       "Spiegel [DE]             0.409875        0.886533  0.861689          0.756667   \n",
       "\n",
       "                  House of Commons  ArXiv Papers  Gutenberg  Bundestag [DE]  \\\n",
       "Blog Authorship           0.663468      0.577789   0.724823        0.546885   \n",
       "Student Essays            0.804955      0.809477   0.931678        0.757255   \n",
       "CNN News                  0.860045      0.929457   0.948038        0.746526   \n",
       "Euro Court Cases          0.907477      0.979778   0.945910        0.766140   \n",
       "House of Commons          0.957928      0.981456   0.953333        0.753994   \n",
       "ArXiv Papers              0.892162      0.985835   0.953546        0.758011   \n",
       "Gutenberg                 0.953468      0.978380   0.957258        0.762312   \n",
       "Bundestag [DE]            0.800090      0.856723   0.912861        0.794026   \n",
       "Spiegel [DE]              0.794505      0.814276   0.899527        0.750780   \n",
       "\n",
       "                  Spiegel [DE]  \n",
       "Blog Authorship       0.675973  \n",
       "Student Essays        0.786622  \n",
       "CNN News              0.812752  \n",
       "Euro Court Cases      0.826532  \n",
       "House of Commons      0.817718  \n",
       "ArXiv Papers          0.823445  \n",
       "Gutenberg             0.826756  \n",
       "Bundestag [DE]        0.849933  \n",
       "Spiegel [DE]          0.859105  "
      ]
     },
     "execution_count": 109,
     "metadata": {},
     "output_type": "execute_result"
    }
   ],
   "source": [
    "import pandas as pd\n",
    "\n",
    "results = []\n",
    "for domain in domains:\n",
    "    results.append(\n",
    "        [results_in_domain[domain][\"metrics\"][i][\"test_roc_auc\"] for i in range(len(domains))]\n",
    "    )\n",
    "\n",
    "df = pd.DataFrame(results, columns=domains, index=domains)\n",
    "df"
   ]
  },
  {
   "cell_type": "markdown",
   "metadata": {},
   "source": [
    "## Cross-Domain Training & Evaluation"
   ]
  },
  {
   "cell_type": "code",
   "execution_count": 110,
   "metadata": {},
   "outputs": [
    {
     "name": "stderr",
     "output_type": "stream",
     "text": [
      "Seed set to 1337\n",
      "GPU available: True (cuda), used: True\n",
      "TPU available: False, using: 0 TPU cores\n",
      "HPU available: False, using: 0 HPUs\n",
      "/home/mastoeck/Projects/PrismAI/PrismAI/.venv/lib/python3.12/site-packages/lightning/pytorch/utilities/parsing.py:45: Attribute 'feature_dim' removed from hparams because it cannot be pickled. You can suppress this warning by setting `self.save_hyperparameters(ignore=['feature_dim'])`.\n",
      "LOCAL_RANK: 0 - CUDA_VISIBLE_DEVICES: [0]\n",
      "Loading `train_dataloader` to estimate number of stepping batches.\n",
      "\n",
      "  | Name        | Type              | Params | Mode  | In sizes    | Out sizes  \n",
      "--------------------------------------------------------------------------------------\n",
      "0 | conv_layers | Sequential        | 153 K  | train | ?           | ?          \n",
      "1 | projection  | Identity          | 0      | train | [32, 16384] | [32, 16384]\n",
      "2 | classifier  | Linear            | 16.4 K | train | [32, 16384] | [32, 1]    \n",
      "3 | criterion   | BCEWithLogitsLoss | 0      | train | ?           | ?          \n",
      "--------------------------------------------------------------------------------------\n",
      "169 K     Trainable params\n",
      "0         Non-trainable params\n",
      "169 K     Total params\n",
      "0.678     Total estimated model params size (MB)\n",
      "15        Modules in train mode\n",
      "0         Modules in eval mode\n"
     ]
    },
    {
     "data": {
      "application/vnd.jupyter.widget-view+json": {
       "model_id": "f22b1de435ee4a6f88e1d330b79676a9",
       "version_major": 2,
       "version_minor": 0
      },
      "text/plain": [
       "Sanity Checking: |          | 0/? [00:00<?, ?it/s]"
      ]
     },
     "metadata": {},
     "output_type": "display_data"
    },
    {
     "data": {
      "application/vnd.jupyter.widget-view+json": {
       "model_id": "99fc511251134961a4966e3f23f01c7e",
       "version_major": 2,
       "version_minor": 0
      },
      "text/plain": [
       "Training: |          | 0/? [00:00<?, ?it/s]"
      ]
     },
     "metadata": {},
     "output_type": "display_data"
    },
    {
     "data": {
      "application/vnd.jupyter.widget-view+json": {
       "model_id": "94dd018888a5428b84573d04b816c7b0",
       "version_major": 2,
       "version_minor": 0
      },
      "text/plain": [
       "Validation: |          | 0/? [00:00<?, ?it/s]"
      ]
     },
     "metadata": {},
     "output_type": "display_data"
    },
    {
     "data": {
      "application/vnd.jupyter.widget-view+json": {
       "model_id": "28b64e55347e4419bb561c38eb87bb78",
       "version_major": 2,
       "version_minor": 0
      },
      "text/plain": [
       "Validation: |          | 0/? [00:00<?, ?it/s]"
      ]
     },
     "metadata": {},
     "output_type": "display_data"
    },
    {
     "data": {
      "application/vnd.jupyter.widget-view+json": {
       "model_id": "75ec514177a442d09d1524c8d82abbaf",
       "version_major": 2,
       "version_minor": 0
      },
      "text/plain": [
       "Validation: |          | 0/? [00:00<?, ?it/s]"
      ]
     },
     "metadata": {},
     "output_type": "display_data"
    },
    {
     "data": {
      "application/vnd.jupyter.widget-view+json": {
       "model_id": "03d16587638a4006acc6e5c7fb7b3c76",
       "version_major": 2,
       "version_minor": 0
      },
      "text/plain": [
       "Validation: |          | 0/? [00:00<?, ?it/s]"
      ]
     },
     "metadata": {},
     "output_type": "display_data"
    },
    {
     "data": {
      "application/vnd.jupyter.widget-view+json": {
       "model_id": "ae6d12a14e814fb995cdade010e4f53d",
       "version_major": 2,
       "version_minor": 0
      },
      "text/plain": [
       "Validation: |          | 0/? [00:00<?, ?it/s]"
      ]
     },
     "metadata": {},
     "output_type": "display_data"
    },
    {
     "data": {
      "application/vnd.jupyter.widget-view+json": {
       "model_id": "90eef41b9f9647849aab87d608a29d41",
       "version_major": 2,
       "version_minor": 0
      },
      "text/plain": [
       "Validation: |          | 0/? [00:00<?, ?it/s]"
      ]
     },
     "metadata": {},
     "output_type": "display_data"
    },
    {
     "data": {
      "application/vnd.jupyter.widget-view+json": {
       "model_id": "4c8655fa9e4d4315a6af006adb516a41",
       "version_major": 2,
       "version_minor": 0
      },
      "text/plain": [
       "Validation: |          | 0/? [00:00<?, ?it/s]"
      ]
     },
     "metadata": {},
     "output_type": "display_data"
    },
    {
     "data": {
      "application/vnd.jupyter.widget-view+json": {
       "model_id": "0ffc183b97dd4095b6524ac2c8b28db0",
       "version_major": 2,
       "version_minor": 0
      },
      "text/plain": [
       "Validation: |          | 0/? [00:00<?, ?it/s]"
      ]
     },
     "metadata": {},
     "output_type": "display_data"
    },
    {
     "data": {
      "application/vnd.jupyter.widget-view+json": {
       "model_id": "2f047fbe64544eb087a5b758e56ce204",
       "version_major": 2,
       "version_minor": 0
      },
      "text/plain": [
       "Validation: |          | 0/? [00:00<?, ?it/s]"
      ]
     },
     "metadata": {},
     "output_type": "display_data"
    },
    {
     "data": {
      "application/vnd.jupyter.widget-view+json": {
       "model_id": "9aebeb8cd5d54e0bbaabd5c45605a70a",
       "version_major": 2,
       "version_minor": 0
      },
      "text/plain": [
       "Validation: |          | 0/? [00:00<?, ?it/s]"
      ]
     },
     "metadata": {},
     "output_type": "display_data"
    },
    {
     "data": {
      "application/vnd.jupyter.widget-view+json": {
       "model_id": "96908f9d5265434b8df4cc3da9672bbc",
       "version_major": 2,
       "version_minor": 0
      },
      "text/plain": [
       "Validation: |          | 0/? [00:00<?, ?it/s]"
      ]
     },
     "metadata": {},
     "output_type": "display_data"
    },
    {
     "data": {
      "application/vnd.jupyter.widget-view+json": {
       "model_id": "2938fef48f264e94bb781ea9e3d9efff",
       "version_major": 2,
       "version_minor": 0
      },
      "text/plain": [
       "Validation: |          | 0/? [00:00<?, ?it/s]"
      ]
     },
     "metadata": {},
     "output_type": "display_data"
    },
    {
     "data": {
      "application/vnd.jupyter.widget-view+json": {
       "model_id": "842b86d96183408ba9fba0e317862f47",
       "version_major": 2,
       "version_minor": 0
      },
      "text/plain": [
       "Validation: |          | 0/? [00:00<?, ?it/s]"
      ]
     },
     "metadata": {},
     "output_type": "display_data"
    }
   ],
   "source": [
    "seed_everything(config[\"seed\"])\n",
    "train_dataloader = get_dataloader(*train_datasets.values(), shuffle=True)\n",
    "eval_dataloader = get_dataloader(*eval_datasets.values())\n",
    "test_dataloader = get_dataloader(*test_datasets.values())\n",
    "\n",
    "model = DocumentClassficationModel(**config)\n",
    "trainer = Trainer(\n",
    "    max_epochs=config[\"max_epochs\"],\n",
    "    logger=pl_loggers.TensorBoardLogger(\n",
    "        save_dir=f\"logs/all_domains/{type(featurizer).__name__}\",\n",
    "    ),\n",
    "    gradient_clip_val=config[\"gradient_clip_val\"],\n",
    "    callbacks=[EarlyStopping(monitor=\"val_loss\", mode=\"min\", patience=3)],\n",
    "    deterministic=True,\n",
    ")\n",
    "trainer.fit(\n",
    "    model,\n",
    "    train_dataloaders=train_dataloader,\n",
    "    val_dataloaders=eval_dataloader,\n",
    ")"
   ]
  },
  {
   "cell_type": "code",
   "execution_count": 111,
   "metadata": {},
   "outputs": [
    {
     "name": "stderr",
     "output_type": "stream",
     "text": [
      "LOCAL_RANK: 0 - CUDA_VISIBLE_DEVICES: [0]\n",
      "LOCAL_RANK: 0 - CUDA_VISIBLE_DEVICES: [0]\n",
      "LOCAL_RANK: 0 - CUDA_VISIBLE_DEVICES: [0]\n",
      "LOCAL_RANK: 0 - CUDA_VISIBLE_DEVICES: [0]\n",
      "LOCAL_RANK: 0 - CUDA_VISIBLE_DEVICES: [0]\n",
      "LOCAL_RANK: 0 - CUDA_VISIBLE_DEVICES: [0]\n",
      "LOCAL_RANK: 0 - CUDA_VISIBLE_DEVICES: [0]\n",
      "LOCAL_RANK: 0 - CUDA_VISIBLE_DEVICES: [0]\n",
      "LOCAL_RANK: 0 - CUDA_VISIBLE_DEVICES: [0]\n",
      "LOCAL_RANK: 0 - CUDA_VISIBLE_DEVICES: [0]\n",
      "LOCAL_RANK: 0 - CUDA_VISIBLE_DEVICES: [0]\n",
      "LOCAL_RANK: 0 - CUDA_VISIBLE_DEVICES: [0]\n",
      "LOCAL_RANK: 0 - CUDA_VISIBLE_DEVICES: [0]\n",
      "LOCAL_RANK: 0 - CUDA_VISIBLE_DEVICES: [0]\n",
      "LOCAL_RANK: 0 - CUDA_VISIBLE_DEVICES: [0]\n",
      "LOCAL_RANK: 0 - CUDA_VISIBLE_DEVICES: [0]\n",
      "LOCAL_RANK: 0 - CUDA_VISIBLE_DEVICES: [0]\n",
      "LOCAL_RANK: 0 - CUDA_VISIBLE_DEVICES: [0]\n",
      "LOCAL_RANK: 0 - CUDA_VISIBLE_DEVICES: [0]\n",
      "LOCAL_RANK: 0 - CUDA_VISIBLE_DEVICES: [0]\n"
     ]
    }
   ],
   "source": [
    "trainer.progress_bar_callback.disable()\n",
    "metrics_cross_domain = []\n",
    "for other, dataset in test_datasets.items():\n",
    "    trainer.validate(model, get_dataloader(eval_datasets[domain]), verbose=False)\n",
    "    metrics_cross_domain.append(\n",
    "        {\"other\": other}\n",
    "        | trainer.test(model, get_dataloader(dataset), verbose=False)[0]\n",
    "    )\n",
    "trainer.validate(model, eval_dataloader, verbose=False)\n",
    "metrics_cross_domain += [\n",
    "    {\n",
    "        \"other\": \"ALL\",\n",
    "        **trainer.test(model, test_dataloader, verbose=False)[0],\n",
    "    }\n",
    "]\n",
    "trainer.progress_bar_callback.enable()"
   ]
  },
  {
   "cell_type": "code",
   "execution_count": 112,
   "metadata": {},
   "outputs": [],
   "source": [
    "import pandas as pd\n",
    "\n",
    "\n",
    "def df_to_latex_heatmap(_df: pd.DataFrame):\n",
    "    print(\n",
    "        \"\\\\plotHeatmap{\"\n",
    "        + \",\".join(_df.index)\n",
    "        + \"}{%\\n    \"\n",
    "        + \",%\\n    \".join(\n",
    "            [\n",
    "                \"{\"\n",
    "                + \",\".join(f\"{val:.4f}/{round(val, 2):.2f}\" for val in row[1:])\n",
    "                + \"}\"\n",
    "                for row in _df.reset_index().values\n",
    "            ]\n",
    "        )\n",
    "        + \"%\\n}{\"\n",
    "        + \",\".join(_df.columns)\n",
    "        + \"}\"\n",
    "    )\n"
   ]
  },
  {
   "cell_type": "code",
   "execution_count": 113,
   "metadata": {},
   "outputs": [
    {
     "name": "stderr",
     "output_type": "stream",
     "text": [
      "/tmp/ipykernel_37285/3101317753.py:16: FutureWarning: ChainedAssignmentError: behaviour will change in pandas 3.0!\n",
      "You are setting values through chained assignment. Currently this works in certain cases, but when using Copy-on-Write (which will become the default behaviour in pandas 3.0) this will never work to update the original DataFrame or Series, because the intermediate object on which we are setting values will behave as a copy.\n",
      "A typical example is when you are setting values in a column of a DataFrame, like:\n",
      "\n",
      "df[\"col\"][row_indexer] = value\n",
      "\n",
      "Use `df.loc[row_indexer, \"col\"] = values` instead, to perform the assignment in a single step and ensure this keeps updating the original `df`.\n",
      "\n",
      "See the caveats in the documentation: https://pandas.pydata.org/pandas-docs/stable/user_guide/indexing.html#returning-a-view-versus-a-copy\n",
      "\n",
      "  df[\"AVG\"][-1] = metrics_cross_domain[-1][_metric]\n",
      "/tmp/ipykernel_37285/3101317753.py:16: FutureWarning: Series.__setitem__ treating keys as positions is deprecated. In a future version, integer keys will always be treated as labels (consistent with DataFrame behavior). To set a value by position, use `ser.iloc[pos] = value`\n",
      "  df[\"AVG\"][-1] = metrics_cross_domain[-1][_metric]\n"
     ]
    },
    {
     "data": {
      "text/html": [
       "<div>\n",
       "<style scoped>\n",
       "    .dataframe tbody tr th:only-of-type {\n",
       "        vertical-align: middle;\n",
       "    }\n",
       "\n",
       "    .dataframe tbody tr th {\n",
       "        vertical-align: top;\n",
       "    }\n",
       "\n",
       "    .dataframe thead th {\n",
       "        text-align: right;\n",
       "    }\n",
       "</style>\n",
       "<table border=\"1\" class=\"dataframe\">\n",
       "  <thead>\n",
       "    <tr style=\"text-align: right;\">\n",
       "      <th></th>\n",
       "      <th>Blog Authorship</th>\n",
       "      <th>Student Essays</th>\n",
       "      <th>CNN News</th>\n",
       "      <th>Euro Court Cases</th>\n",
       "      <th>House of Commons</th>\n",
       "      <th>ArXiv Papers</th>\n",
       "      <th>Gutenberg</th>\n",
       "      <th>Bundestag [DE]</th>\n",
       "      <th>Spiegel [DE]</th>\n",
       "      <th>AVG</th>\n",
       "    </tr>\n",
       "  </thead>\n",
       "  <tbody>\n",
       "    <tr>\n",
       "      <th>Blog Authorship</th>\n",
       "      <td>0.984010</td>\n",
       "      <td>0.633911</td>\n",
       "      <td>0.677089</td>\n",
       "      <td>0.532311</td>\n",
       "      <td>0.663468</td>\n",
       "      <td>0.577789</td>\n",
       "      <td>0.724823</td>\n",
       "      <td>0.546885</td>\n",
       "      <td>0.675973</td>\n",
       "      <td>0.668473</td>\n",
       "    </tr>\n",
       "    <tr>\n",
       "      <th>Student Essays</th>\n",
       "      <td>0.495940</td>\n",
       "      <td>0.958800</td>\n",
       "      <td>0.943600</td>\n",
       "      <td>0.828578</td>\n",
       "      <td>0.804955</td>\n",
       "      <td>0.809477</td>\n",
       "      <td>0.931678</td>\n",
       "      <td>0.757255</td>\n",
       "      <td>0.786622</td>\n",
       "      <td>0.812989</td>\n",
       "    </tr>\n",
       "    <tr>\n",
       "      <th>CNN News</th>\n",
       "      <td>0.522957</td>\n",
       "      <td>0.916800</td>\n",
       "      <td>0.924489</td>\n",
       "      <td>0.795733</td>\n",
       "      <td>0.860045</td>\n",
       "      <td>0.929457</td>\n",
       "      <td>0.948038</td>\n",
       "      <td>0.746526</td>\n",
       "      <td>0.812752</td>\n",
       "      <td>0.828533</td>\n",
       "    </tr>\n",
       "    <tr>\n",
       "      <th>Euro Court Cases</th>\n",
       "      <td>0.507619</td>\n",
       "      <td>0.908000</td>\n",
       "      <td>0.917644</td>\n",
       "      <td>0.833867</td>\n",
       "      <td>0.907477</td>\n",
       "      <td>0.979778</td>\n",
       "      <td>0.945910</td>\n",
       "      <td>0.766140</td>\n",
       "      <td>0.826532</td>\n",
       "      <td>0.843663</td>\n",
       "    </tr>\n",
       "    <tr>\n",
       "      <th>House of Commons</th>\n",
       "      <td>0.486617</td>\n",
       "      <td>0.914844</td>\n",
       "      <td>0.915422</td>\n",
       "      <td>0.794000</td>\n",
       "      <td>0.957928</td>\n",
       "      <td>0.981456</td>\n",
       "      <td>0.953333</td>\n",
       "      <td>0.753994</td>\n",
       "      <td>0.817718</td>\n",
       "      <td>0.841701</td>\n",
       "    </tr>\n",
       "    <tr>\n",
       "      <th>ArXiv Papers</th>\n",
       "      <td>0.508822</td>\n",
       "      <td>0.912844</td>\n",
       "      <td>0.912044</td>\n",
       "      <td>0.818044</td>\n",
       "      <td>0.892162</td>\n",
       "      <td>0.985835</td>\n",
       "      <td>0.953546</td>\n",
       "      <td>0.758011</td>\n",
       "      <td>0.823445</td>\n",
       "      <td>0.840528</td>\n",
       "    </tr>\n",
       "    <tr>\n",
       "      <th>Gutenberg</th>\n",
       "      <td>0.487769</td>\n",
       "      <td>0.921556</td>\n",
       "      <td>0.921111</td>\n",
       "      <td>0.811733</td>\n",
       "      <td>0.953468</td>\n",
       "      <td>0.978380</td>\n",
       "      <td>0.957258</td>\n",
       "      <td>0.762312</td>\n",
       "      <td>0.826756</td>\n",
       "      <td>0.846705</td>\n",
       "    </tr>\n",
       "    <tr>\n",
       "      <th>Bundestag [DE]</th>\n",
       "      <td>0.432531</td>\n",
       "      <td>0.884444</td>\n",
       "      <td>0.860978</td>\n",
       "      <td>0.768667</td>\n",
       "      <td>0.800090</td>\n",
       "      <td>0.856723</td>\n",
       "      <td>0.912861</td>\n",
       "      <td>0.794026</td>\n",
       "      <td>0.849933</td>\n",
       "      <td>0.795584</td>\n",
       "    </tr>\n",
       "    <tr>\n",
       "      <th>Spiegel [DE]</th>\n",
       "      <td>0.409875</td>\n",
       "      <td>0.886533</td>\n",
       "      <td>0.861689</td>\n",
       "      <td>0.756667</td>\n",
       "      <td>0.794505</td>\n",
       "      <td>0.814276</td>\n",
       "      <td>0.899527</td>\n",
       "      <td>0.750780</td>\n",
       "      <td>0.859105</td>\n",
       "      <td>0.781440</td>\n",
       "    </tr>\n",
       "    <tr>\n",
       "      <th>ALL</th>\n",
       "      <td>0.924411</td>\n",
       "      <td>0.947511</td>\n",
       "      <td>0.966711</td>\n",
       "      <td>0.859156</td>\n",
       "      <td>0.943514</td>\n",
       "      <td>0.963191</td>\n",
       "      <td>0.968227</td>\n",
       "      <td>0.778287</td>\n",
       "      <td>0.781521</td>\n",
       "      <td>0.900894</td>\n",
       "    </tr>\n",
       "  </tbody>\n",
       "</table>\n",
       "</div>"
      ],
      "text/plain": [
       "                  Blog Authorship  Student Essays  CNN News  Euro Court Cases  \\\n",
       "Blog Authorship          0.984010        0.633911  0.677089          0.532311   \n",
       "Student Essays           0.495940        0.958800  0.943600          0.828578   \n",
       "CNN News                 0.522957        0.916800  0.924489          0.795733   \n",
       "Euro Court Cases         0.507619        0.908000  0.917644          0.833867   \n",
       "House of Commons         0.486617        0.914844  0.915422          0.794000   \n",
       "ArXiv Papers             0.508822        0.912844  0.912044          0.818044   \n",
       "Gutenberg                0.487769        0.921556  0.921111          0.811733   \n",
       "Bundestag [DE]           0.432531        0.884444  0.860978          0.768667   \n",
       "Spiegel [DE]             0.409875        0.886533  0.861689          0.756667   \n",
       "ALL                      0.924411        0.947511  0.966711          0.859156   \n",
       "\n",
       "                  House of Commons  ArXiv Papers  Gutenberg  Bundestag [DE]  \\\n",
       "Blog Authorship           0.663468      0.577789   0.724823        0.546885   \n",
       "Student Essays            0.804955      0.809477   0.931678        0.757255   \n",
       "CNN News                  0.860045      0.929457   0.948038        0.746526   \n",
       "Euro Court Cases          0.907477      0.979778   0.945910        0.766140   \n",
       "House of Commons          0.957928      0.981456   0.953333        0.753994   \n",
       "ArXiv Papers              0.892162      0.985835   0.953546        0.758011   \n",
       "Gutenberg                 0.953468      0.978380   0.957258        0.762312   \n",
       "Bundestag [DE]            0.800090      0.856723   0.912861        0.794026   \n",
       "Spiegel [DE]              0.794505      0.814276   0.899527        0.750780   \n",
       "ALL                       0.943514      0.963191   0.968227        0.778287   \n",
       "\n",
       "                  Spiegel [DE]       AVG  \n",
       "Blog Authorship       0.675973  0.668473  \n",
       "Student Essays        0.786622  0.812989  \n",
       "CNN News              0.812752  0.828533  \n",
       "Euro Court Cases      0.826532  0.843663  \n",
       "House of Commons      0.817718  0.841701  \n",
       "ArXiv Papers          0.823445  0.840528  \n",
       "Gutenberg             0.826756  0.846705  \n",
       "Bundestag [DE]        0.849933  0.795584  \n",
       "Spiegel [DE]          0.859105  0.781440  \n",
       "ALL                   0.781521  0.900894  "
      ]
     },
     "execution_count": 113,
     "metadata": {},
     "output_type": "execute_result"
    }
   ],
   "source": [
    "_metric = \"test_roc_auc\"\n",
    "# _metric = \"test_acc@best\"\n",
    "\n",
    "results = []\n",
    "for domain in domains:\n",
    "    results.append(\n",
    "        [\n",
    "            results_in_domain[domain][\"metrics\"][i][_metric]\n",
    "            for i in range(len(domains))\n",
    "        ]\n",
    "    )\n",
    "results.append([m[_metric] for m in metrics_cross_domain[:len(domains)]])\n",
    "\n",
    "df = pd.DataFrame(results, columns=list(domains), index=list(domains) + [\"ALL\"])\n",
    "df[\"AVG\"] = df.mean(axis=1)\n",
    "df[\"AVG\"][-1] = metrics_cross_domain[-1][_metric]\n",
    "df"
   ]
  },
  {
   "cell_type": "code",
   "execution_count": 114,
   "metadata": {},
   "outputs": [
    {
     "name": "stdout",
     "output_type": "stream",
     "text": [
      "\\plotHeatmap{Blog Authorship,Student Essays,CNN News,Euro Court Cases,House of Commons,ArXiv Papers,Gutenberg,Bundestag [DE],Spiegel [DE],ALL}{%\n",
      "    {0.9840/0.98,0.6339/0.63,0.6771/0.68,0.5323/0.53,0.6635/0.66,0.5778/0.58,0.7248/0.72,0.5469/0.55,0.6760/0.68,0.6685/0.67},%\n",
      "    {0.4959/0.50,0.9588/0.96,0.9436/0.94,0.8286/0.83,0.8050/0.80,0.8095/0.81,0.9317/0.93,0.7573/0.76,0.7866/0.79,0.8130/0.81},%\n",
      "    {0.5230/0.52,0.9168/0.92,0.9245/0.92,0.7957/0.80,0.8600/0.86,0.9295/0.93,0.9480/0.95,0.7465/0.75,0.8128/0.81,0.8285/0.83},%\n",
      "    {0.5076/0.51,0.9080/0.91,0.9176/0.92,0.8339/0.83,0.9075/0.91,0.9798/0.98,0.9459/0.95,0.7661/0.77,0.8265/0.83,0.8437/0.84},%\n",
      "    {0.4866/0.49,0.9148/0.91,0.9154/0.92,0.7940/0.79,0.9579/0.96,0.9815/0.98,0.9533/0.95,0.7540/0.75,0.8177/0.82,0.8417/0.84},%\n",
      "    {0.5088/0.51,0.9128/0.91,0.9120/0.91,0.8180/0.82,0.8922/0.89,0.9858/0.99,0.9535/0.95,0.7580/0.76,0.8234/0.82,0.8405/0.84},%\n",
      "    {0.4878/0.49,0.9216/0.92,0.9211/0.92,0.8117/0.81,0.9535/0.95,0.9784/0.98,0.9573/0.96,0.7623/0.76,0.8268/0.83,0.8467/0.85},%\n",
      "    {0.4325/0.43,0.8844/0.88,0.8610/0.86,0.7687/0.77,0.8001/0.80,0.8567/0.86,0.9129/0.91,0.7940/0.79,0.8499/0.85,0.7956/0.80},%\n",
      "    {0.4099/0.41,0.8865/0.89,0.8617/0.86,0.7567/0.76,0.7945/0.79,0.8143/0.81,0.8995/0.90,0.7508/0.75,0.8591/0.86,0.7814/0.78},%\n",
      "    {0.9244/0.92,0.9475/0.95,0.9667/0.97,0.8592/0.86,0.9435/0.94,0.9632/0.96,0.9682/0.97,0.7783/0.78,0.7815/0.78,0.9009/0.90}%\n",
      "}{Blog Authorship,Student Essays,CNN News,Euro Court Cases,House of Commons,ArXiv Papers,Gutenberg,Bundestag [DE],Spiegel [DE],AVG}\n"
     ]
    }
   ],
   "source": [
    "df_to_latex_heatmap(df)"
   ]
  },
  {
   "cell_type": "code",
   "execution_count": 115,
   "metadata": {},
   "outputs": [
    {
     "data": {
      "text/plain": [
       "{'seed': 1337,\n",
       " 'eval_split': 0.1,\n",
       " 'test_split': 0.1,\n",
       " 'feature_model': 'gpt2',\n",
       " 'synth_agent': 'gpt-4o-mini',\n",
       " 'second_dim_as_channels': True,\n",
       " 'feature_dim': TwoDimFeatures(height=256, width=16),\n",
       " 'featurizer': 'LikelihoodTopkLikelihoodRatio(top_k=16)',\n",
       " 'slicer': 'SliceRandomMultiple(size=64, multiple=4, stride=16, sort=False)',\n",
       " 'num_samples': None,\n",
       " 'projection_dim': None,\n",
       " 'learning_rate': 0.0001,\n",
       " 'warmup_steps': 69,\n",
       " 'max_epochs': 50,\n",
       " 'gradient_clip_val': 1.0,\n",
       " 'batch_size': 32,\n",
       " 'conv_layer_shapes': [(64, 5, 1),\n",
       "  (128, 3, 1),\n",
       "  (128, 3, 1),\n",
       "  (128, 3, 1),\n",
       "  (64, 3, 1)]}"
      ]
     },
     "execution_count": 115,
     "metadata": {},
     "output_type": "execute_result"
    }
   ],
   "source": [
    "config"
   ]
  },
  {
   "cell_type": "code",
   "execution_count": 116,
   "metadata": {},
   "outputs": [
    {
     "data": {
      "image/png": "[encoded data removed]",
      "text/plain": [
       "<Figure size 640x480 with 1 Axes>"
      ]
     },
     "metadata": {},
     "output_type": "display_data"
    }
   ],
   "source": [
    "import matplotlib.pyplot as plt\n",
    "import numpy as np\n",
    "import seaborn as sns\n",
    "\n",
    "ax = sns.heatmap(\n",
    "    df,\n",
    "    annot=True,\n",
    "    fmt=\".2f\",\n",
    "    vmax=1.0,\n",
    "    vmin=0.0,\n",
    "    cmap=sns.cubehelix_palette(rot=-0.2, as_cmap=True),\n",
    "    yticklabels=list(domains) + [\"ALL\"],\n",
    "    xticklabels=list(domains) + [\"AVG\"],\n",
    "    square=True,\n",
    "    # reduce annotation font size\n",
    "    annot_kws={\"fontsize\": 8},\n",
    "    cbar=False,\n",
    ")\n",
    "\n",
    "# rotate x-axis labels by 45 degrees\n",
    "# anchored at the right edge of the axes\n",
    "for tick in ax.get_xticklabels():\n",
    "    tick.set_rotation(45)\n",
    "    tick.set_horizontalalignment(\"right\")\n",
    "\n",
    "plt.tight_layout()\n",
    "# plt.savefig(\n",
    "#     \"../figures/evaluation-trained_in_domain-test_0.1-gpt2_256-rand_4-il_13_as_channels.pdf\",\n",
    "#     dpi=300,\n",
    "# )\n",
    "plt.show()"
   ]
  },
  {
   "cell_type": "code",
   "execution_count": 117,
   "metadata": {},
   "outputs": [
    {
     "ename": "RuntimeError",
     "evalue": "Stop here.",
     "output_type": "error",
     "traceback": [
      "\u001b[0;31m---------------------------------------------------------------------------\u001b[0m",
      "\u001b[0;31mRuntimeError\u001b[0m                              Traceback (most recent call last)",
      "Cell \u001b[0;32mIn[117], line 1\u001b[0m\n\u001b[0;32m----> 1\u001b[0m \u001b[38;5;28;01mraise\u001b[39;00m \u001b[38;5;167;01mRuntimeError\u001b[39;00m(\u001b[38;5;124m\"\u001b[39m\u001b[38;5;124mStop here.\u001b[39m\u001b[38;5;124m\"\u001b[39m)\n",
      "\u001b[0;31mRuntimeError\u001b[0m: Stop here."
     ]
    }
   ],
   "source": [
    "raise RuntimeError(\"Stop here.\")"
   ]
  },
  {
   "cell_type": "code",
   "execution_count": null,
   "metadata": {},
   "outputs": [
    {
     "data": {
      "image/png": "[encoded data removed]",
      "text/plain": [
       "<Figure size 640x480 with 1 Axes>"
      ]
     },
     "metadata": {},
     "output_type": "display_data"
    }
   ],
   "source": [
    "import matplotlib.pyplot as plt\n",
    "import numpy as np\n",
    "import seaborn as sns\n",
    "\n",
    "ax = sns.heatmap(\n",
    "    df,\n",
    "    annot=True,\n",
    "    fmt=\".2f\",\n",
    "    vmax=1.0,\n",
    "    vmin=0.0,\n",
    "    cmap=sns.cubehelix_palette(rot=-0.2, as_cmap=True),\n",
    "    yticklabels=list(domains) + [\"ALL\"],\n",
    "    xticklabels=list(domains) + [\"AVG\"],\n",
    "    square=True,\n",
    "    # reduce annotation font size\n",
    "    annot_kws={\"fontsize\": 8},\n",
    "    cbar=False,\n",
    ")\n",
    "\n",
    "# rotate x-axis labels by 45 degrees\n",
    "# anchored at the right edge of the axes\n",
    "for tick in ax.get_xticklabels():\n",
    "    tick.set_rotation(45)\n",
    "    tick.set_horizontalalignment(\"right\")\n",
    "\n",
    "plt.tight_layout()\n",
    "# plt.savefig(\n",
    "#     \"../figures/evaluation-trained_in_domain-test_0.1-gpt2_256-rand_4-il_13_as_channels.pdf\",\n",
    "#     dpi=300,\n",
    "# )\n",
    "plt.show()"
   ]
  }
 ],
 "metadata": {
  "kernelspec": {
   "display_name": ".venv",
   "language": "python",
   "name": "python3"
  },
  "language_info": {
   "codemirror_mode": {
    "name": "ipython",
    "version": 3
   },
   "file_extension": ".py",
   "mimetype": "text/x-python",
   "name": "python",
   "nbconvert_exporter": "python",
   "pygments_lexer": "ipython3",
   "version": "3.12.7"
  }
 },
 "nbformat": 4,
 "nbformat_minor": 2
}
