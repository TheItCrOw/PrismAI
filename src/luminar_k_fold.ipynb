{
 "cells": [
  {
   "cell_type": "code",
   "execution_count": 1,
   "metadata": {},
   "outputs": [],
   "source": [
    "import os\n",
    "import warnings\n",
    "\n",
    "import pandas as pd\n",
    "from dotenv import load_dotenv\n",
    "from lightning.pytorch import Trainer, seed_everything\n",
    "from lightning.pytorch import loggers as pl_loggers\n",
    "from lightning.pytorch.callbacks.early_stopping import EarlyStopping\n",
    "from tqdm.auto import tqdm, trange\n",
    "\n",
    "from luminar.data import (\n",
    "    FeatureDataset,\n",
    "    PaddingDataloader,\n",
    "    n_way_split,\n",
    ")\n",
    "from luminar.model import CNNDocumentClassficationModel, ConvolutionalLayerSpec\n",
    "from luminar.features import FeatureExtractor, OneDimFeatures, Slicer, TwoDimFeatures\n",
    "from luminar.mongo import PrismaiDataset\n",
    "\n",
    "load_dotenv(\"../.env\")\n",
    "\n",
    "warnings.filterwarnings(\"ignore\", \".*does not have many workers.*\")"
   ]
  },
  {
   "cell_type": "code",
   "execution_count": 2,
   "metadata": {},
   "outputs": [],
   "source": [
    "domains = {\n",
    "    \"Blog Authorship\": {\"domain\": \"blog_authorship_corpus\"},\n",
    "    \"Student Essays\": {\"domain\": \"student_essays\"},\n",
    "    \"CNN News\": {\"domain\": \"cnn_news\"},\n",
    "    \"Euro Court Cases\": {\"domain\": \"euro_court_cases\"},\n",
    "    \"House of Commons\": {\"domain\": \"house_of_commons\"},\n",
    "    \"ArXiv Papers\": {\"domain\": \"arxiv_papers\"},\n",
    "    \"Gutenberg\": {\"domain\": \"gutenberg\", \"lang\": \"en-EN\"},\n",
    "    \"Bundestag\": {\"domain\": \"bundestag\"},\n",
    "    \"Spiegel\": {\"domain\": \"spiegel_articles\"},\n",
    "}"
   ]
  },
  {
   "cell_type": "code",
   "execution_count": 3,
   "metadata": {},
   "outputs": [],
   "source": [
    "config = {\n",
    "    \"eval_split\": 0.1,\n",
    "    \"test_split\": 0.2,\n",
    "    \"feature_model\": \"gpt2\",\n",
    "    \"synth_agent\": \"gpt-4o-mini\",\n",
    "    \"document_type\": \"fulltext\",\n",
    "}"
   ]
  },
  {
   "cell_type": "markdown",
   "metadata": {},
   "source": [
    "## Features"
   ]
  },
  {
   "cell_type": "code",
   "execution_count": 6,
   "metadata": {},
   "outputs": [],
   "source": [
    "first_dim = 256\n",
    "k = 13\n",
    "\n",
    "feature_dim = TwoDimFeatures(first_dim, k)\n",
    "featurizer = FeatureExtractor.IntermediateLikelihood(k)\n",
    "config[\"second_dim_as_channels\"] = True\n",
    "\n",
    "# slicer = Slicer.First(first_dim)\n",
    "multiple = 4\n",
    "slicer = Slicer.RandomMultiple(first_dim // multiple, multiple=multiple, stride=16)\n",
    "\n",
    "config[\"feature_dim\"] = feature_dim\n",
    "config[\"featurizer\"] = repr(featurizer)\n",
    "config[\"slicer\"] = repr(slicer)\n",
    "\n",
    "config[\"num_samples\"] = 1\n",
    "\n",
    "\n",
    "def featurize(dataset) -> FeatureDataset:\n",
    "    return FeatureDataset.from_prismai(\n",
    "        tqdm(dataset, position=1, leave=False),\n",
    "        slicer,\n",
    "        featurizer,\n",
    "        num_samples=config[\"num_samples\"],\n",
    "    )"
   ]
  },
  {
   "cell_type": "code",
   "execution_count": 7,
   "metadata": {},
   "outputs": [
    {
     "data": {
      "application/vnd.jupyter.widget-view+json": {
       "model_id": "b8fa22ae80294c98bc759ece4712db4b",
       "version_major": 2,
       "version_minor": 0
      },
      "text/plain": [
       "Domains:   0%|          | 0/9 [00:00<?, ?it/s]"
      ]
     },
     "metadata": {},
     "output_type": "display_data"
    },
    {
     "data": {
      "application/vnd.jupyter.widget-view+json": {
       "model_id": "80c28540f9c046efa99dbefda7815a42",
       "version_major": 2,
       "version_minor": 0
      },
      "text/plain": [
       "  0%|          | 0/150 [00:00<?, ?it/s]"
      ]
     },
     "metadata": {},
     "output_type": "display_data"
    },
    {
     "data": {
      "application/vnd.jupyter.widget-view+json": {
       "model_id": "de5fe28763ca46c1a6f17e33f759e7aa",
       "version_major": 2,
       "version_minor": 0
      },
      "text/plain": [
       "  0%|          | 0/150 [00:00<?, ?it/s]"
      ]
     },
     "metadata": {},
     "output_type": "display_data"
    },
    {
     "data": {
      "application/vnd.jupyter.widget-view+json": {
       "model_id": "9b46551d98074fafb4347cbc678630aa",
       "version_major": 2,
       "version_minor": 0
      },
      "text/plain": [
       "  0%|          | 0/150 [00:00<?, ?it/s]"
      ]
     },
     "metadata": {},
     "output_type": "display_data"
    },
    {
     "data": {
      "application/vnd.jupyter.widget-view+json": {
       "model_id": "8c9bee56b5184e36832c113575a2ee53",
       "version_major": 2,
       "version_minor": 0
      },
      "text/plain": [
       "  0%|          | 0/150 [00:00<?, ?it/s]"
      ]
     },
     "metadata": {},
     "output_type": "display_data"
    },
    {
     "data": {
      "application/vnd.jupyter.widget-view+json": {
       "model_id": "8c64e06b74a242c68eba11caf606bfe6",
       "version_major": 2,
       "version_minor": 0
      },
      "text/plain": [
       "  0%|          | 0/150 [00:00<?, ?it/s]"
      ]
     },
     "metadata": {},
     "output_type": "display_data"
    },
    {
     "data": {
      "application/vnd.jupyter.widget-view+json": {
       "model_id": "ab6b24f8d1d6459684603e1376df721a",
       "version_major": 2,
       "version_minor": 0
      },
      "text/plain": [
       "  0%|          | 0/150 [00:00<?, ?it/s]"
      ]
     },
     "metadata": {},
     "output_type": "display_data"
    },
    {
     "data": {
      "application/vnd.jupyter.widget-view+json": {
       "model_id": "7cceef9711eb412d84c98dc4a66562e7",
       "version_major": 2,
       "version_minor": 0
      },
      "text/plain": [
       "  0%|          | 0/150 [00:00<?, ?it/s]"
      ]
     },
     "metadata": {},
     "output_type": "display_data"
    },
    {
     "data": {
      "application/vnd.jupyter.widget-view+json": {
       "model_id": "5168cf5833ee41e8afdd9e213bba9363",
       "version_major": 2,
       "version_minor": 0
      },
      "text/plain": [
       "  0%|          | 0/150 [00:00<?, ?it/s]"
      ]
     },
     "metadata": {},
     "output_type": "display_data"
    },
    {
     "data": {
      "application/vnd.jupyter.widget-view+json": {
       "model_id": "73bc01856a384279ae9be975c7acf936",
       "version_major": 2,
       "version_minor": 0
      },
      "text/plain": [
       "  0%|          | 0/150 [00:00<?, ?it/s]"
      ]
     },
     "metadata": {},
     "output_type": "display_data"
    },
    {
     "data": {
      "application/vnd.jupyter.widget-view+json": {
       "model_id": "6b167733a80e412b833c3ddf26444eec",
       "version_major": 2,
       "version_minor": 0
      },
      "text/plain": [
       "  0%|          | 0/150 [00:00<?, ?it/s]"
      ]
     },
     "metadata": {},
     "output_type": "display_data"
    },
    {
     "data": {
      "application/vnd.jupyter.widget-view+json": {
       "model_id": "a3444d49ee8846459ad594ec37aa3ef2",
       "version_major": 2,
       "version_minor": 0
      },
      "text/plain": [
       "  0%|          | 0/150 [00:00<?, ?it/s]"
      ]
     },
     "metadata": {},
     "output_type": "display_data"
    },
    {
     "data": {
      "application/vnd.jupyter.widget-view+json": {
       "model_id": "87cec59839d146a9bc62be6dcd095d4e",
       "version_major": 2,
       "version_minor": 0
      },
      "text/plain": [
       "  0%|          | 0/150 [00:00<?, ?it/s]"
      ]
     },
     "metadata": {},
     "output_type": "display_data"
    },
    {
     "data": {
      "application/vnd.jupyter.widget-view+json": {
       "model_id": "ee66b0b0629e404c8ad28811e028d073",
       "version_major": 2,
       "version_minor": 0
      },
      "text/plain": [
       "  0%|          | 0/150 [00:00<?, ?it/s]"
      ]
     },
     "metadata": {},
     "output_type": "display_data"
    },
    {
     "data": {
      "application/vnd.jupyter.widget-view+json": {
       "model_id": "e53b9c3f2bf64783b15f807370b88b74",
       "version_major": 2,
       "version_minor": 0
      },
      "text/plain": [
       "  0%|          | 0/150 [00:00<?, ?it/s]"
      ]
     },
     "metadata": {},
     "output_type": "display_data"
    },
    {
     "data": {
      "application/vnd.jupyter.widget-view+json": {
       "model_id": "7f5bd98f657d4c19bf4443a6ccf998fc",
       "version_major": 2,
       "version_minor": 0
      },
      "text/plain": [
       "  0%|          | 0/150 [00:00<?, ?it/s]"
      ]
     },
     "metadata": {},
     "output_type": "display_data"
    },
    {
     "data": {
      "application/vnd.jupyter.widget-view+json": {
       "model_id": "5e23004974b54077add661276a3ba4bd",
       "version_major": 2,
       "version_minor": 0
      },
      "text/plain": [
       "  0%|          | 0/150 [00:00<?, ?it/s]"
      ]
     },
     "metadata": {},
     "output_type": "display_data"
    },
    {
     "data": {
      "application/vnd.jupyter.widget-view+json": {
       "model_id": "86a8fbf505ae45a6a8c0de5116b09244",
       "version_major": 2,
       "version_minor": 0
      },
      "text/plain": [
       "  0%|          | 0/150 [00:00<?, ?it/s]"
      ]
     },
     "metadata": {},
     "output_type": "display_data"
    },
    {
     "data": {
      "application/vnd.jupyter.widget-view+json": {
       "model_id": "ee82bcf490fe4d5f84ed9955058c8c3b",
       "version_major": 2,
       "version_minor": 0
      },
      "text/plain": [
       "  0%|          | 0/150 [00:00<?, ?it/s]"
      ]
     },
     "metadata": {},
     "output_type": "display_data"
    },
    {
     "data": {
      "application/vnd.jupyter.widget-view+json": {
       "model_id": "92c43792f63e45aeac1432a753c48d01",
       "version_major": 2,
       "version_minor": 0
      },
      "text/plain": [
       "  0%|          | 0/150 [00:00<?, ?it/s]"
      ]
     },
     "metadata": {},
     "output_type": "display_data"
    },
    {
     "data": {
      "application/vnd.jupyter.widget-view+json": {
       "model_id": "12c0e46226d6474086d01d5563bc0da2",
       "version_major": 2,
       "version_minor": 0
      },
      "text/plain": [
       "  0%|          | 0/150 [00:00<?, ?it/s]"
      ]
     },
     "metadata": {},
     "output_type": "display_data"
    },
    {
     "data": {
      "application/vnd.jupyter.widget-view+json": {
       "model_id": "4c034f6848c341e4902d8c5e68ce03d5",
       "version_major": 2,
       "version_minor": 0
      },
      "text/plain": [
       "  0%|          | 0/150 [00:00<?, ?it/s]"
      ]
     },
     "metadata": {},
     "output_type": "display_data"
    },
    {
     "data": {
      "application/vnd.jupyter.widget-view+json": {
       "model_id": "6110168b735a49c090f772c5faa315cb",
       "version_major": 2,
       "version_minor": 0
      },
      "text/plain": [
       "  0%|          | 0/150 [00:00<?, ?it/s]"
      ]
     },
     "metadata": {},
     "output_type": "display_data"
    },
    {
     "data": {
      "application/vnd.jupyter.widget-view+json": {
       "model_id": "4102f466a2b14921816d9a74429f4f1b",
       "version_major": 2,
       "version_minor": 0
      },
      "text/plain": [
       "  0%|          | 0/150 [00:00<?, ?it/s]"
      ]
     },
     "metadata": {},
     "output_type": "display_data"
    },
    {
     "data": {
      "application/vnd.jupyter.widget-view+json": {
       "model_id": "35c433811348463c9e9f9d1548daf5b6",
       "version_major": 2,
       "version_minor": 0
      },
      "text/plain": [
       "  0%|          | 0/150 [00:00<?, ?it/s]"
      ]
     },
     "metadata": {},
     "output_type": "display_data"
    },
    {
     "data": {
      "application/vnd.jupyter.widget-view+json": {
       "model_id": "c9c28c1577364623b7691f50dc8c9b7f",
       "version_major": 2,
       "version_minor": 0
      },
      "text/plain": [
       "  0%|          | 0/150 [00:00<?, ?it/s]"
      ]
     },
     "metadata": {},
     "output_type": "display_data"
    },
    {
     "data": {
      "application/vnd.jupyter.widget-view+json": {
       "model_id": "a3799fdf4007419e81f65a14baf18484",
       "version_major": 2,
       "version_minor": 0
      },
      "text/plain": [
       "  0%|          | 0/150 [00:00<?, ?it/s]"
      ]
     },
     "metadata": {},
     "output_type": "display_data"
    },
    {
     "data": {
      "application/vnd.jupyter.widget-view+json": {
       "model_id": "1b9a496e942f44309d19a4cac43019f2",
       "version_major": 2,
       "version_minor": 0
      },
      "text/plain": [
       "  0%|          | 0/150 [00:00<?, ?it/s]"
      ]
     },
     "metadata": {},
     "output_type": "display_data"
    },
    {
     "data": {
      "application/vnd.jupyter.widget-view+json": {
       "model_id": "f19701e3e9ce43a3ad002c6b2235c4da",
       "version_major": 2,
       "version_minor": 0
      },
      "text/plain": [
       "  0%|          | 0/150 [00:00<?, ?it/s]"
      ]
     },
     "metadata": {},
     "output_type": "display_data"
    },
    {
     "data": {
      "application/vnd.jupyter.widget-view+json": {
       "model_id": "5d239af7850949c29a82936610823de8",
       "version_major": 2,
       "version_minor": 0
      },
      "text/plain": [
       "  0%|          | 0/150 [00:00<?, ?it/s]"
      ]
     },
     "metadata": {},
     "output_type": "display_data"
    },
    {
     "data": {
      "application/vnd.jupyter.widget-view+json": {
       "model_id": "59a06b9244bb437eafed77872565811f",
       "version_major": 2,
       "version_minor": 0
      },
      "text/plain": [
       "  0%|          | 0/150 [00:00<?, ?it/s]"
      ]
     },
     "metadata": {},
     "output_type": "display_data"
    },
    {
     "data": {
      "application/vnd.jupyter.widget-view+json": {
       "model_id": "fc220051595c479681bb2ace2a2a037c",
       "version_major": 2,
       "version_minor": 0
      },
      "text/plain": [
       "  0%|          | 0/150 [00:00<?, ?it/s]"
      ]
     },
     "metadata": {},
     "output_type": "display_data"
    },
    {
     "data": {
      "application/vnd.jupyter.widget-view+json": {
       "model_id": "0bd6c478466f4ac6a598bf938afb7c93",
       "version_major": 2,
       "version_minor": 0
      },
      "text/plain": [
       "  0%|          | 0/150 [00:00<?, ?it/s]"
      ]
     },
     "metadata": {},
     "output_type": "display_data"
    },
    {
     "data": {
      "application/vnd.jupyter.widget-view+json": {
       "model_id": "90af5ab5dd334ae3bcee845f6ebdcf81",
       "version_major": 2,
       "version_minor": 0
      },
      "text/plain": [
       "  0%|          | 0/150 [00:00<?, ?it/s]"
      ]
     },
     "metadata": {},
     "output_type": "display_data"
    },
    {
     "data": {
      "application/vnd.jupyter.widget-view+json": {
       "model_id": "09c27c6b80574901b25c6fe3dd15a219",
       "version_major": 2,
       "version_minor": 0
      },
      "text/plain": [
       "  0%|          | 0/150 [00:03<?, ?it/s]"
      ]
     },
     "metadata": {},
     "output_type": "display_data"
    },
    {
     "data": {
      "application/vnd.jupyter.widget-view+json": {
       "model_id": "b1b0d4eceba8406ca3f92156e0c7e1a4",
       "version_major": 2,
       "version_minor": 0
      },
      "text/plain": [
       "  0%|          | 0/150 [00:00<?, ?it/s]"
      ]
     },
     "metadata": {},
     "output_type": "display_data"
    },
    {
     "data": {
      "application/vnd.jupyter.widget-view+json": {
       "model_id": "52758ba2166344f0b1a0d791ffd3c5dc",
       "version_major": 2,
       "version_minor": 0
      },
      "text/plain": [
       "  0%|          | 0/150 [00:00<?, ?it/s]"
      ]
     },
     "metadata": {},
     "output_type": "display_data"
    },
    {
     "data": {
      "application/vnd.jupyter.widget-view+json": {
       "model_id": "72718bbeef2244649e14f89b170292c1",
       "version_major": 2,
       "version_minor": 0
      },
      "text/plain": [
       "  0%|          | 0/150 [00:00<?, ?it/s]"
      ]
     },
     "metadata": {},
     "output_type": "display_data"
    },
    {
     "data": {
      "application/vnd.jupyter.widget-view+json": {
       "model_id": "d1db8fa565cd47678bd85051f9f07f4b",
       "version_major": 2,
       "version_minor": 0
      },
      "text/plain": [
       "  0%|          | 0/150 [00:00<?, ?it/s]"
      ]
     },
     "metadata": {},
     "output_type": "display_data"
    },
    {
     "data": {
      "application/vnd.jupyter.widget-view+json": {
       "model_id": "861d1aab5b9d4b4eb36ea1a45ec6aaf0",
       "version_major": 2,
       "version_minor": 0
      },
      "text/plain": [
       "  0%|          | 0/150 [00:00<?, ?it/s]"
      ]
     },
     "metadata": {},
     "output_type": "display_data"
    },
    {
     "data": {
      "application/vnd.jupyter.widget-view+json": {
       "model_id": "869f005607b34dcf92a440bcb39007e1",
       "version_major": 2,
       "version_minor": 0
      },
      "text/plain": [
       "  0%|          | 0/150 [00:00<?, ?it/s]"
      ]
     },
     "metadata": {},
     "output_type": "display_data"
    },
    {
     "data": {
      "application/vnd.jupyter.widget-view+json": {
       "model_id": "650208c19db741e2b26038d41d2210ee",
       "version_major": 2,
       "version_minor": 0
      },
      "text/plain": [
       "  0%|          | 0/150 [00:00<?, ?it/s]"
      ]
     },
     "metadata": {},
     "output_type": "display_data"
    },
    {
     "data": {
      "application/vnd.jupyter.widget-view+json": {
       "model_id": "c790ae6e0fa344be883709c5103e1c57",
       "version_major": 2,
       "version_minor": 0
      },
      "text/plain": [
       "  0%|          | 0/150 [00:00<?, ?it/s]"
      ]
     },
     "metadata": {},
     "output_type": "display_data"
    },
    {
     "data": {
      "application/vnd.jupyter.widget-view+json": {
       "model_id": "ed5e80273c474a96b80190caa9bd27f8",
       "version_major": 2,
       "version_minor": 0
      },
      "text/plain": [
       "  0%|          | 0/150 [00:00<?, ?it/s]"
      ]
     },
     "metadata": {},
     "output_type": "display_data"
    },
    {
     "data": {
      "application/vnd.jupyter.widget-view+json": {
       "model_id": "3e60ea6fe972404f8a16abef4cac4c5c",
       "version_major": 2,
       "version_minor": 0
      },
      "text/plain": [
       "  0%|          | 0/150 [00:00<?, ?it/s]"
      ]
     },
     "metadata": {},
     "output_type": "display_data"
    },
    {
     "data": {
      "application/vnd.jupyter.widget-view+json": {
       "model_id": "55db18a886714d8a8eaf14266f941953",
       "version_major": 2,
       "version_minor": 0
      },
      "text/plain": [
       "  0%|          | 0/150 [00:00<?, ?it/s]"
      ]
     },
     "metadata": {},
     "output_type": "display_data"
    },
    {
     "data": {
      "application/vnd.jupyter.widget-view+json": {
       "model_id": "1fadefec9cd04a5dad50b9ab487018e5",
       "version_major": 2,
       "version_minor": 0
      },
      "text/plain": [
       "  0%|          | 0/150 [00:00<?, ?it/s]"
      ]
     },
     "metadata": {},
     "output_type": "display_data"
    },
    {
     "data": {
      "application/vnd.jupyter.widget-view+json": {
       "model_id": "c3a6bff5b5434cdcad228d4fbd812581",
       "version_major": 2,
       "version_minor": 0
      },
      "text/plain": [
       "  0%|          | 0/150 [00:00<?, ?it/s]"
      ]
     },
     "metadata": {},
     "output_type": "display_data"
    },
    {
     "data": {
      "application/vnd.jupyter.widget-view+json": {
       "model_id": "f4f8ceef0e2746e8a6a56972a1fe18e0",
       "version_major": 2,
       "version_minor": 0
      },
      "text/plain": [
       "  0%|          | 0/150 [00:00<?, ?it/s]"
      ]
     },
     "metadata": {},
     "output_type": "display_data"
    },
    {
     "data": {
      "application/vnd.jupyter.widget-view+json": {
       "model_id": "d4ab9f5525ab464386cf97807c787bb6",
       "version_major": 2,
       "version_minor": 0
      },
      "text/plain": [
       "  0%|          | 0/150 [00:00<?, ?it/s]"
      ]
     },
     "metadata": {},
     "output_type": "display_data"
    },
    {
     "data": {
      "application/vnd.jupyter.widget-view+json": {
       "model_id": "1ebcdadb2b9247629dc2751c94759c11",
       "version_major": 2,
       "version_minor": 0
      },
      "text/plain": [
       "  0%|          | 0/150 [00:00<?, ?it/s]"
      ]
     },
     "metadata": {},
     "output_type": "display_data"
    },
    {
     "data": {
      "application/vnd.jupyter.widget-view+json": {
       "model_id": "1ce5b06c2da0479592e9fbd58db66f9e",
       "version_major": 2,
       "version_minor": 0
      },
      "text/plain": [
       "  0%|          | 0/163 [00:00<?, ?it/s]"
      ]
     },
     "metadata": {},
     "output_type": "display_data"
    },
    {
     "data": {
      "application/vnd.jupyter.widget-view+json": {
       "model_id": "a5e9d83641a94a35b46570c50ca446c9",
       "version_major": 2,
       "version_minor": 0
      },
      "text/plain": [
       "  0%|          | 0/163 [00:00<?, ?it/s]"
      ]
     },
     "metadata": {},
     "output_type": "display_data"
    },
    {
     "data": {
      "application/vnd.jupyter.widget-view+json": {
       "model_id": "e390f72bec9c4fe58c4a359570f9a283",
       "version_major": 2,
       "version_minor": 0
      },
      "text/plain": [
       "  0%|          | 0/163 [00:00<?, ?it/s]"
      ]
     },
     "metadata": {},
     "output_type": "display_data"
    },
    {
     "data": {
      "application/vnd.jupyter.widget-view+json": {
       "model_id": "5812220766be4f4caf458e813bb9d417",
       "version_major": 2,
       "version_minor": 0
      },
      "text/plain": [
       "  0%|          | 0/163 [00:00<?, ?it/s]"
      ]
     },
     "metadata": {},
     "output_type": "display_data"
    },
    {
     "data": {
      "application/vnd.jupyter.widget-view+json": {
       "model_id": "5aa433fd81a4448080349ca7d8efded8",
       "version_major": 2,
       "version_minor": 0
      },
      "text/plain": [
       "  0%|          | 0/163 [00:00<?, ?it/s]"
      ]
     },
     "metadata": {},
     "output_type": "display_data"
    },
    {
     "data": {
      "application/vnd.jupyter.widget-view+json": {
       "model_id": "c905c8639ec8433aa9d33b8fc2fde248",
       "version_major": 2,
       "version_minor": 0
      },
      "text/plain": [
       "  0%|          | 0/163 [00:00<?, ?it/s]"
      ]
     },
     "metadata": {},
     "output_type": "display_data"
    },
    {
     "data": {
      "application/vnd.jupyter.widget-view+json": {
       "model_id": "3a56a611b0a347058e48f0b9815ece7c",
       "version_major": 2,
       "version_minor": 0
      },
      "text/plain": [
       "  0%|          | 0/163 [00:00<?, ?it/s]"
      ]
     },
     "metadata": {},
     "output_type": "display_data"
    },
    {
     "data": {
      "application/vnd.jupyter.widget-view+json": {
       "model_id": "e6218a6d5b91430d914debd827d2f41f",
       "version_major": 2,
       "version_minor": 0
      },
      "text/plain": [
       "  0%|          | 0/163 [00:00<?, ?it/s]"
      ]
     },
     "metadata": {},
     "output_type": "display_data"
    },
    {
     "data": {
      "application/vnd.jupyter.widget-view+json": {
       "model_id": "61617fda9df149548005a1573609ce30",
       "version_major": 2,
       "version_minor": 0
      },
      "text/plain": [
       "  0%|          | 0/162 [00:00<?, ?it/s]"
      ]
     },
     "metadata": {},
     "output_type": "display_data"
    },
    {
     "data": {
      "application/vnd.jupyter.widget-view+json": {
       "model_id": "2ccf03f7f9d0429683500b3bc7e229c2",
       "version_major": 2,
       "version_minor": 0
      },
      "text/plain": [
       "  0%|          | 0/162 [00:00<?, ?it/s]"
      ]
     },
     "metadata": {},
     "output_type": "display_data"
    },
    {
     "data": {
      "application/vnd.jupyter.widget-view+json": {
       "model_id": "09ba83458fb94e218ff74b88eec1fe2b",
       "version_major": 2,
       "version_minor": 0
      },
      "text/plain": [
       "  0%|          | 0/150 [00:00<?, ?it/s]"
      ]
     },
     "metadata": {},
     "output_type": "display_data"
    },
    {
     "data": {
      "application/vnd.jupyter.widget-view+json": {
       "model_id": "c527d80f7aa547ba80e09c715df15312",
       "version_major": 2,
       "version_minor": 0
      },
      "text/plain": [
       "  0%|          | 0/150 [00:00<?, ?it/s]"
      ]
     },
     "metadata": {},
     "output_type": "display_data"
    },
    {
     "data": {
      "application/vnd.jupyter.widget-view+json": {
       "model_id": "238bfb2538134de98e2f2bbd19bce84d",
       "version_major": 2,
       "version_minor": 0
      },
      "text/plain": [
       "  0%|          | 0/150 [00:00<?, ?it/s]"
      ]
     },
     "metadata": {},
     "output_type": "display_data"
    },
    {
     "data": {
      "application/vnd.jupyter.widget-view+json": {
       "model_id": "6035ef7742d8430689e682ece7ed786e",
       "version_major": 2,
       "version_minor": 0
      },
      "text/plain": [
       "  0%|          | 0/150 [00:00<?, ?it/s]"
      ]
     },
     "metadata": {},
     "output_type": "display_data"
    },
    {
     "data": {
      "application/vnd.jupyter.widget-view+json": {
       "model_id": "4d56e8e92c2d49d4a8663e72ab167726",
       "version_major": 2,
       "version_minor": 0
      },
      "text/plain": [
       "  0%|          | 0/150 [00:00<?, ?it/s]"
      ]
     },
     "metadata": {},
     "output_type": "display_data"
    },
    {
     "data": {
      "application/vnd.jupyter.widget-view+json": {
       "model_id": "12c4e6e80cf14d299efaad86fe7edbe3",
       "version_major": 2,
       "version_minor": 0
      },
      "text/plain": [
       "  0%|          | 0/150 [00:00<?, ?it/s]"
      ]
     },
     "metadata": {},
     "output_type": "display_data"
    },
    {
     "data": {
      "application/vnd.jupyter.widget-view+json": {
       "model_id": "d8ed58ca6c5849f891198579269b2ad5",
       "version_major": 2,
       "version_minor": 0
      },
      "text/plain": [
       "  0%|          | 0/150 [00:00<?, ?it/s]"
      ]
     },
     "metadata": {},
     "output_type": "display_data"
    },
    {
     "data": {
      "application/vnd.jupyter.widget-view+json": {
       "model_id": "f80ea8d9e7eb422581ab0fdec9d611fe",
       "version_major": 2,
       "version_minor": 0
      },
      "text/plain": [
       "  0%|          | 0/150 [00:00<?, ?it/s]"
      ]
     },
     "metadata": {},
     "output_type": "display_data"
    },
    {
     "data": {
      "application/vnd.jupyter.widget-view+json": {
       "model_id": "fad4ebc80cee40f58eecb5dc681d3e7c",
       "version_major": 2,
       "version_minor": 0
      },
      "text/plain": [
       "  0%|          | 0/150 [00:00<?, ?it/s]"
      ]
     },
     "metadata": {},
     "output_type": "display_data"
    },
    {
     "data": {
      "application/vnd.jupyter.widget-view+json": {
       "model_id": "d37aa4c58e9040449bafe0ed0f103b57",
       "version_major": 2,
       "version_minor": 0
      },
      "text/plain": [
       "  0%|          | 0/150 [00:00<?, ?it/s]"
      ]
     },
     "metadata": {},
     "output_type": "display_data"
    },
    {
     "data": {
      "application/vnd.jupyter.widget-view+json": {
       "model_id": "663c85bf274149bd818c7252beae6d9e",
       "version_major": 2,
       "version_minor": 0
      },
      "text/plain": [
       "  0%|          | 0/150 [00:00<?, ?it/s]"
      ]
     },
     "metadata": {},
     "output_type": "display_data"
    },
    {
     "data": {
      "application/vnd.jupyter.widget-view+json": {
       "model_id": "f01aef5d5fb545c78d3cf01585c1ddbb",
       "version_major": 2,
       "version_minor": 0
      },
      "text/plain": [
       "  0%|          | 0/150 [00:00<?, ?it/s]"
      ]
     },
     "metadata": {},
     "output_type": "display_data"
    },
    {
     "data": {
      "application/vnd.jupyter.widget-view+json": {
       "model_id": "baf22ba0a35f4a3fb12cfa1a9d09d218",
       "version_major": 2,
       "version_minor": 0
      },
      "text/plain": [
       "  0%|          | 0/149 [00:00<?, ?it/s]"
      ]
     },
     "metadata": {},
     "output_type": "display_data"
    },
    {
     "data": {
      "application/vnd.jupyter.widget-view+json": {
       "model_id": "b5586a1e3f474b8f9dcd8ec7d1f1fc5b",
       "version_major": 2,
       "version_minor": 0
      },
      "text/plain": [
       "  0%|          | 0/149 [00:00<?, ?it/s]"
      ]
     },
     "metadata": {},
     "output_type": "display_data"
    },
    {
     "data": {
      "application/vnd.jupyter.widget-view+json": {
       "model_id": "ddc28e70b8dc4fa7b98d23bb759ae19e",
       "version_major": 2,
       "version_minor": 0
      },
      "text/plain": [
       "  0%|          | 0/149 [00:00<?, ?it/s]"
      ]
     },
     "metadata": {},
     "output_type": "display_data"
    },
    {
     "data": {
      "application/vnd.jupyter.widget-view+json": {
       "model_id": "92905d6342d84c86bd98e4791407d39f",
       "version_major": 2,
       "version_minor": 0
      },
      "text/plain": [
       "  0%|          | 0/149 [00:00<?, ?it/s]"
      ]
     },
     "metadata": {},
     "output_type": "display_data"
    },
    {
     "data": {
      "application/vnd.jupyter.widget-view+json": {
       "model_id": "2cdbc6f299184468915f3bcff104906c",
       "version_major": 2,
       "version_minor": 0
      },
      "text/plain": [
       "  0%|          | 0/149 [00:00<?, ?it/s]"
      ]
     },
     "metadata": {},
     "output_type": "display_data"
    },
    {
     "data": {
      "application/vnd.jupyter.widget-view+json": {
       "model_id": "99b0c785c892483f9cb95bdfec37bdd4",
       "version_major": 2,
       "version_minor": 0
      },
      "text/plain": [
       "  0%|          | 0/149 [00:00<?, ?it/s]"
      ]
     },
     "metadata": {},
     "output_type": "display_data"
    },
    {
     "data": {
      "application/vnd.jupyter.widget-view+json": {
       "model_id": "86d58cf30db94c13a05794af34e1d533",
       "version_major": 2,
       "version_minor": 0
      },
      "text/plain": [
       "  0%|          | 0/149 [00:00<?, ?it/s]"
      ]
     },
     "metadata": {},
     "output_type": "display_data"
    },
    {
     "data": {
      "application/vnd.jupyter.widget-view+json": {
       "model_id": "ed9203c2bd17488286677f4563ec98d6",
       "version_major": 2,
       "version_minor": 0
      },
      "text/plain": [
       "  0%|          | 0/149 [00:00<?, ?it/s]"
      ]
     },
     "metadata": {},
     "output_type": "display_data"
    },
    {
     "data": {
      "application/vnd.jupyter.widget-view+json": {
       "model_id": "94cb40329c6f46259cf775231669624f",
       "version_major": 2,
       "version_minor": 0
      },
      "text/plain": [
       "  0%|          | 0/150 [00:00<?, ?it/s]"
      ]
     },
     "metadata": {},
     "output_type": "display_data"
    },
    {
     "data": {
      "application/vnd.jupyter.widget-view+json": {
       "model_id": "938eded43beb40c7bed43df95d55d6c3",
       "version_major": 2,
       "version_minor": 0
      },
      "text/plain": [
       "  0%|          | 0/150 [00:00<?, ?it/s]"
      ]
     },
     "metadata": {},
     "output_type": "display_data"
    },
    {
     "data": {
      "application/vnd.jupyter.widget-view+json": {
       "model_id": "cf3a2f252d21406baf07fbbfd80283fc",
       "version_major": 2,
       "version_minor": 0
      },
      "text/plain": [
       "  0%|          | 0/150 [00:00<?, ?it/s]"
      ]
     },
     "metadata": {},
     "output_type": "display_data"
    },
    {
     "data": {
      "application/vnd.jupyter.widget-view+json": {
       "model_id": "623790923d594877b7dd066cc42fb3ab",
       "version_major": 2,
       "version_minor": 0
      },
      "text/plain": [
       "  0%|          | 0/150 [00:00<?, ?it/s]"
      ]
     },
     "metadata": {},
     "output_type": "display_data"
    },
    {
     "data": {
      "application/vnd.jupyter.widget-view+json": {
       "model_id": "f0bf320d29f640a48967263a8c375e07",
       "version_major": 2,
       "version_minor": 0
      },
      "text/plain": [
       "  0%|          | 0/150 [00:00<?, ?it/s]"
      ]
     },
     "metadata": {},
     "output_type": "display_data"
    },
    {
     "data": {
      "application/vnd.jupyter.widget-view+json": {
       "model_id": "4c370e2f988a48a0904a0f6ced2bf04e",
       "version_major": 2,
       "version_minor": 0
      },
      "text/plain": [
       "  0%|          | 0/150 [00:00<?, ?it/s]"
      ]
     },
     "metadata": {},
     "output_type": "display_data"
    },
    {
     "data": {
      "application/vnd.jupyter.widget-view+json": {
       "model_id": "add3e156e78c4e70b161418ac5b97548",
       "version_major": 2,
       "version_minor": 0
      },
      "text/plain": [
       "  0%|          | 0/150 [00:00<?, ?it/s]"
      ]
     },
     "metadata": {},
     "output_type": "display_data"
    },
    {
     "data": {
      "application/vnd.jupyter.widget-view+json": {
       "model_id": "752ec41ff038458b80174b33550c9440",
       "version_major": 2,
       "version_minor": 0
      },
      "text/plain": [
       "  0%|          | 0/150 [00:00<?, ?it/s]"
      ]
     },
     "metadata": {},
     "output_type": "display_data"
    },
    {
     "data": {
      "application/vnd.jupyter.widget-view+json": {
       "model_id": "d4d860e9795747ce975caed43153659e",
       "version_major": 2,
       "version_minor": 0
      },
      "text/plain": [
       "  0%|          | 0/150 [00:00<?, ?it/s]"
      ]
     },
     "metadata": {},
     "output_type": "display_data"
    },
    {
     "data": {
      "application/vnd.jupyter.widget-view+json": {
       "model_id": "e7d3f802280e4315961d80c8e7c513a0",
       "version_major": 2,
       "version_minor": 0
      },
      "text/plain": [
       "  0%|          | 0/150 [00:00<?, ?it/s]"
      ]
     },
     "metadata": {},
     "output_type": "display_data"
    }
   ],
   "source": [
    "config[\"seed\"] = 42\n",
    "\n",
    "sizes = [0.1] * 10\n",
    "splits = {}\n",
    "for domain, kwargs in tqdm(domains.items(), desc=\"Domains\", position=0):\n",
    "    seed_everything(config[\"seed\"], verbose=False)\n",
    "    splits[domain] = [\n",
    "        featurize(subset)\n",
    "        for subset in n_way_split(\n",
    "            PrismaiDataset(\n",
    "                mongo_db_connection=os.getenv(\"MONGO_DB_CONNECTION\"),\n",
    "                database=\"prismai\",\n",
    "                collection=\"features_prismai\",\n",
    "                feature_model=config[\"feature_model\"],\n",
    "                synth_agent=config[\"synth_agent\"],\n",
    "                document_type=config[\"document_type\"],\n",
    "                additional_match_conditions=config.get(\n",
    "                    \"additional_match_conditions\", {}\n",
    "                ),\n",
    "                **kwargs,\n",
    "                # update_cache=True,\n",
    "            ).load(verbose=False),\n",
    "            *sizes,\n",
    "        )\n",
    "    ]"
   ]
  },
  {
   "cell_type": "code",
   "execution_count": 8,
   "metadata": {},
   "outputs": [],
   "source": [
    "config |= {\n",
    "    \"projection_dim\": 32,\n",
    "    \"learning_rate\": 0.0001,\n",
    "    \"warmup_steps\": 66,\n",
    "    \"max_epochs\": 25,\n",
    "    \"gradient_clip_val\": 1.0,\n",
    "    \"batch_size\": 32,\n",
    "}\n",
    "\n",
    "# SeqXGPT Layer Configuration\n",
    "config[\"conv_layer_shapes\"] = [\n",
    "    ConvolutionalLayerSpec(64, 5),\n",
    "    *[ConvolutionalLayerSpec(128, 3)] * 3,\n",
    "    ConvolutionalLayerSpec(64, 3),\n",
    "]"
   ]
  },
  {
   "cell_type": "code",
   "execution_count": 9,
   "metadata": {},
   "outputs": [],
   "source": [
    "from torch.utils.data import ConcatDataset\n",
    "\n",
    "\n",
    "# capturing config from \"closure\"\n",
    "def get_dataloader(*dataset, **kwargs) -> PaddingDataloader:\n",
    "    if len(dataset) == 1:\n",
    "        dataset = dataset[0]\n",
    "    else:\n",
    "        dataset = ConcatDataset(dataset)\n",
    "    return PaddingDataloader(\n",
    "        dataset,\n",
    "        feature_dim=config[\"feature_dim\"],\n",
    "        batch_size=config[\"batch_size\"],\n",
    "        **kwargs,\n",
    "    )"
   ]
  },
  {
   "cell_type": "markdown",
   "metadata": {},
   "source": [
    "## In-Domain Training & Evaluation"
   ]
  },
  {
   "cell_type": "code",
   "execution_count": 10,
   "metadata": {},
   "outputs": [
    {
     "data": {
      "application/vnd.jupyter.widget-view+json": {
       "model_id": "028da2f2b0474c0eacb0b0598cef6d52",
       "version_major": 2,
       "version_minor": 0
      },
      "text/plain": [
       "  0%|          | 0/9 [00:00<?, ?it/s]"
      ]
     },
     "metadata": {},
     "output_type": "display_data"
    },
    {
     "data": {
      "application/vnd.jupyter.widget-view+json": {
       "model_id": "d6501c7730fe4ff5b8c0ad5d125825fc",
       "version_major": 2,
       "version_minor": 0
      },
      "text/plain": [
       "Blog Authorship:   0%|          | 0/5 [00:00<?, ?it/s]"
      ]
     },
     "metadata": {},
     "output_type": "display_data"
    },
    {
     "name": "stderr",
     "output_type": "stream",
     "text": [
      "GPU available: True (cuda), used: True\n",
      "TPU available: False, using: 0 TPU cores\n",
      "HPU available: False, using: 0 HPUs\n",
      "LOCAL_RANK: 0 - CUDA_VISIBLE_DEVICES: [0]\n",
      "Loading `train_dataloader` to estimate number of stepping batches.\n",
      "\n",
      "  | Name        | Type              | Params | Mode  | In sizes    | Out sizes\n",
      "------------------------------------------------------------------------------------\n",
      "0 | conv_layers | Sequential        | 152 K  | train | ?           | ?        \n",
      "1 | projection  | Sequential        | 524 K  | train | [32, 16384] | [32, 32] \n",
      "2 | classifier  | Linear            | 33     | train | [32, 32]    | [32, 1]  \n",
      "3 | criterion   | BCEWithLogitsLoss | 0      | train | ?           | ?        \n",
      "------------------------------------------------------------------------------------\n",
      "676 K     Trainable params\n",
      "0         Non-trainable params\n",
      "676 K     Total params\n",
      "2.706     Total estimated model params size (MB)\n",
      "17        Modules in train mode\n",
      "0         Modules in eval mode\n",
      "LOCAL_RANK: 0 - CUDA_VISIBLE_DEVICES: [0]\n",
      "GPU available: True (cuda), used: True\n",
      "TPU available: False, using: 0 TPU cores\n",
      "HPU available: False, using: 0 HPUs\n",
      "LOCAL_RANK: 0 - CUDA_VISIBLE_DEVICES: [0]\n",
      "Loading `train_dataloader` to estimate number of stepping batches.\n",
      "\n",
      "  | Name        | Type              | Params | Mode  | In sizes    | Out sizes\n",
      "------------------------------------------------------------------------------------\n",
      "0 | conv_layers | Sequential        | 152 K  | train | ?           | ?        \n",
      "1 | projection  | Sequential        | 524 K  | train | [32, 16384] | [32, 32] \n",
      "2 | classifier  | Linear            | 33     | train | [32, 32]    | [32, 1]  \n",
      "3 | criterion   | BCEWithLogitsLoss | 0      | train | ?           | ?        \n",
      "------------------------------------------------------------------------------------\n",
      "676 K     Trainable params\n",
      "0         Non-trainable params\n",
      "676 K     Total params\n",
      "2.706     Total estimated model params size (MB)\n",
      "17        Modules in train mode\n",
      "0         Modules in eval mode\n",
      "LOCAL_RANK: 0 - CUDA_VISIBLE_DEVICES: [0]\n",
      "GPU available: True (cuda), used: True\n",
      "TPU available: False, using: 0 TPU cores\n",
      "HPU available: False, using: 0 HPUs\n",
      "LOCAL_RANK: 0 - CUDA_VISIBLE_DEVICES: [0]\n",
      "Loading `train_dataloader` to estimate number of stepping batches.\n",
      "\n",
      "  | Name        | Type              | Params | Mode  | In sizes    | Out sizes\n",
      "------------------------------------------------------------------------------------\n",
      "0 | conv_layers | Sequential        | 152 K  | train | ?           | ?        \n",
      "1 | projection  | Sequential        | 524 K  | train | [32, 16384] | [32, 32] \n",
      "2 | classifier  | Linear            | 33     | train | [32, 32]    | [32, 1]  \n",
      "3 | criterion   | BCEWithLogitsLoss | 0      | train | ?           | ?        \n",
      "------------------------------------------------------------------------------------\n",
      "676 K     Trainable params\n",
      "0         Non-trainable params\n",
      "676 K     Total params\n",
      "2.706     Total estimated model params size (MB)\n",
      "17        Modules in train mode\n",
      "0         Modules in eval mode\n",
      "LOCAL_RANK: 0 - CUDA_VISIBLE_DEVICES: [0]\n",
      "GPU available: True (cuda), used: True\n",
      "TPU available: False, using: 0 TPU cores\n",
      "HPU available: False, using: 0 HPUs\n",
      "LOCAL_RANK: 0 - CUDA_VISIBLE_DEVICES: [0]\n",
      "Loading `train_dataloader` to estimate number of stepping batches.\n",
      "\n",
      "  | Name        | Type              | Params | Mode  | In sizes    | Out sizes\n",
      "------------------------------------------------------------------------------------\n",
      "0 | conv_layers | Sequential        | 152 K  | train | ?           | ?        \n",
      "1 | projection  | Sequential        | 524 K  | train | [32, 16384] | [32, 32] \n",
      "2 | classifier  | Linear            | 33     | train | [32, 32]    | [32, 1]  \n",
      "3 | criterion   | BCEWithLogitsLoss | 0      | train | ?           | ?        \n",
      "------------------------------------------------------------------------------------\n",
      "676 K     Trainable params\n",
      "0         Non-trainable params\n",
      "676 K     Total params\n",
      "2.706     Total estimated model params size (MB)\n",
      "17        Modules in train mode\n",
      "0         Modules in eval mode\n",
      "LOCAL_RANK: 0 - CUDA_VISIBLE_DEVICES: [0]\n",
      "GPU available: True (cuda), used: True\n",
      "TPU available: False, using: 0 TPU cores\n",
      "HPU available: False, using: 0 HPUs\n",
      "LOCAL_RANK: 0 - CUDA_VISIBLE_DEVICES: [0]\n",
      "Loading `train_dataloader` to estimate number of stepping batches.\n",
      "\n",
      "  | Name        | Type              | Params | Mode  | In sizes    | Out sizes\n",
      "------------------------------------------------------------------------------------\n",
      "0 | conv_layers | Sequential        | 152 K  | train | ?           | ?        \n",
      "1 | projection  | Sequential        | 524 K  | train | [32, 16384] | [32, 32] \n",
      "2 | classifier  | Linear            | 33     | train | [32, 32]    | [32, 1]  \n",
      "3 | criterion   | BCEWithLogitsLoss | 0      | train | ?           | ?        \n",
      "------------------------------------------------------------------------------------\n",
      "676 K     Trainable params\n",
      "0         Non-trainable params\n",
      "676 K     Total params\n",
      "2.706     Total estimated model params size (MB)\n",
      "17        Modules in train mode\n",
      "0         Modules in eval mode\n",
      "`Trainer.fit` stopped: `max_epochs=25` reached.\n",
      "LOCAL_RANK: 0 - CUDA_VISIBLE_DEVICES: [0]\n"
     ]
    },
    {
     "data": {
      "application/vnd.jupyter.widget-view+json": {
       "model_id": "c3dbe4e2b27c4d1abae297c78f528147",
       "version_major": 2,
       "version_minor": 0
      },
      "text/plain": [
       "Student Essays:   0%|          | 0/5 [00:00<?, ?it/s]"
      ]
     },
     "metadata": {},
     "output_type": "display_data"
    },
    {
     "name": "stderr",
     "output_type": "stream",
     "text": [
      "GPU available: True (cuda), used: True\n",
      "TPU available: False, using: 0 TPU cores\n",
      "HPU available: False, using: 0 HPUs\n",
      "LOCAL_RANK: 0 - CUDA_VISIBLE_DEVICES: [0]\n",
      "Loading `train_dataloader` to estimate number of stepping batches.\n",
      "\n",
      "  | Name        | Type              | Params | Mode  | In sizes    | Out sizes\n",
      "------------------------------------------------------------------------------------\n",
      "0 | conv_layers | Sequential        | 152 K  | train | ?           | ?        \n",
      "1 | projection  | Sequential        | 524 K  | train | [32, 16384] | [32, 32] \n",
      "2 | classifier  | Linear            | 33     | train | [32, 32]    | [32, 1]  \n",
      "3 | criterion   | BCEWithLogitsLoss | 0      | train | ?           | ?        \n",
      "------------------------------------------------------------------------------------\n",
      "676 K     Trainable params\n",
      "0         Non-trainable params\n",
      "676 K     Total params\n",
      "2.706     Total estimated model params size (MB)\n",
      "17        Modules in train mode\n",
      "0         Modules in eval mode\n",
      "LOCAL_RANK: 0 - CUDA_VISIBLE_DEVICES: [0]\n",
      "GPU available: True (cuda), used: True\n",
      "TPU available: False, using: 0 TPU cores\n",
      "HPU available: False, using: 0 HPUs\n",
      "LOCAL_RANK: 0 - CUDA_VISIBLE_DEVICES: [0]\n",
      "Loading `train_dataloader` to estimate number of stepping batches.\n",
      "\n",
      "  | Name        | Type              | Params | Mode  | In sizes    | Out sizes\n",
      "------------------------------------------------------------------------------------\n",
      "0 | conv_layers | Sequential        | 152 K  | train | ?           | ?        \n",
      "1 | projection  | Sequential        | 524 K  | train | [32, 16384] | [32, 32] \n",
      "2 | classifier  | Linear            | 33     | train | [32, 32]    | [32, 1]  \n",
      "3 | criterion   | BCEWithLogitsLoss | 0      | train | ?           | ?        \n",
      "------------------------------------------------------------------------------------\n",
      "676 K     Trainable params\n",
      "0         Non-trainable params\n",
      "676 K     Total params\n",
      "2.706     Total estimated model params size (MB)\n",
      "17        Modules in train mode\n",
      "0         Modules in eval mode\n",
      "LOCAL_RANK: 0 - CUDA_VISIBLE_DEVICES: [0]\n",
      "GPU available: True (cuda), used: True\n",
      "TPU available: False, using: 0 TPU cores\n",
      "HPU available: False, using: 0 HPUs\n",
      "LOCAL_RANK: 0 - CUDA_VISIBLE_DEVICES: [0]\n",
      "Loading `train_dataloader` to estimate number of stepping batches.\n",
      "\n",
      "  | Name        | Type              | Params | Mode  | In sizes    | Out sizes\n",
      "------------------------------------------------------------------------------------\n",
      "0 | conv_layers | Sequential        | 152 K  | train | ?           | ?        \n",
      "1 | projection  | Sequential        | 524 K  | train | [32, 16384] | [32, 32] \n",
      "2 | classifier  | Linear            | 33     | train | [32, 32]    | [32, 1]  \n",
      "3 | criterion   | BCEWithLogitsLoss | 0      | train | ?           | ?        \n",
      "------------------------------------------------------------------------------------\n",
      "676 K     Trainable params\n",
      "0         Non-trainable params\n",
      "676 K     Total params\n",
      "2.706     Total estimated model params size (MB)\n",
      "17        Modules in train mode\n",
      "0         Modules in eval mode\n",
      "`Trainer.fit` stopped: `max_epochs=25` reached.\n",
      "LOCAL_RANK: 0 - CUDA_VISIBLE_DEVICES: [0]\n",
      "GPU available: True (cuda), used: True\n",
      "TPU available: False, using: 0 TPU cores\n",
      "HPU available: False, using: 0 HPUs\n",
      "LOCAL_RANK: 0 - CUDA_VISIBLE_DEVICES: [0]\n",
      "Loading `train_dataloader` to estimate number of stepping batches.\n",
      "\n",
      "  | Name        | Type              | Params | Mode  | In sizes    | Out sizes\n",
      "------------------------------------------------------------------------------------\n",
      "0 | conv_layers | Sequential        | 152 K  | train | ?           | ?        \n",
      "1 | projection  | Sequential        | 524 K  | train | [32, 16384] | [32, 32] \n",
      "2 | classifier  | Linear            | 33     | train | [32, 32]    | [32, 1]  \n",
      "3 | criterion   | BCEWithLogitsLoss | 0      | train | ?           | ?        \n",
      "------------------------------------------------------------------------------------\n",
      "676 K     Trainable params\n",
      "0         Non-trainable params\n",
      "676 K     Total params\n",
      "2.706     Total estimated model params size (MB)\n",
      "17        Modules in train mode\n",
      "0         Modules in eval mode\n",
      "LOCAL_RANK: 0 - CUDA_VISIBLE_DEVICES: [0]\n",
      "GPU available: True (cuda), used: True\n",
      "TPU available: False, using: 0 TPU cores\n",
      "HPU available: False, using: 0 HPUs\n",
      "LOCAL_RANK: 0 - CUDA_VISIBLE_DEVICES: [0]\n",
      "Loading `train_dataloader` to estimate number of stepping batches.\n",
      "\n",
      "  | Name        | Type              | Params | Mode  | In sizes    | Out sizes\n",
      "------------------------------------------------------------------------------------\n",
      "0 | conv_layers | Sequential        | 152 K  | train | ?           | ?        \n",
      "1 | projection  | Sequential        | 524 K  | train | [32, 16384] | [32, 32] \n",
      "2 | classifier  | Linear            | 33     | train | [32, 32]    | [32, 1]  \n",
      "3 | criterion   | BCEWithLogitsLoss | 0      | train | ?           | ?        \n",
      "------------------------------------------------------------------------------------\n",
      "676 K     Trainable params\n",
      "0         Non-trainable params\n",
      "676 K     Total params\n",
      "2.706     Total estimated model params size (MB)\n",
      "17        Modules in train mode\n",
      "0         Modules in eval mode\n",
      "LOCAL_RANK: 0 - CUDA_VISIBLE_DEVICES: [0]\n"
     ]
    },
    {
     "data": {
      "application/vnd.jupyter.widget-view+json": {
       "model_id": "cbfebd657a4a4cefa7e205f9b2f6c4d4",
       "version_major": 2,
       "version_minor": 0
      },
      "text/plain": [
       "CNN News:   0%|          | 0/5 [00:00<?, ?it/s]"
      ]
     },
     "metadata": {},
     "output_type": "display_data"
    },
    {
     "name": "stderr",
     "output_type": "stream",
     "text": [
      "GPU available: True (cuda), used: True\n",
      "TPU available: False, using: 0 TPU cores\n",
      "HPU available: False, using: 0 HPUs\n",
      "LOCAL_RANK: 0 - CUDA_VISIBLE_DEVICES: [0]\n",
      "Loading `train_dataloader` to estimate number of stepping batches.\n",
      "\n",
      "  | Name        | Type              | Params | Mode  | In sizes    | Out sizes\n",
      "------------------------------------------------------------------------------------\n",
      "0 | conv_layers | Sequential        | 152 K  | train | ?           | ?        \n",
      "1 | projection  | Sequential        | 524 K  | train | [32, 16384] | [32, 32] \n",
      "2 | classifier  | Linear            | 33     | train | [32, 32]    | [32, 1]  \n",
      "3 | criterion   | BCEWithLogitsLoss | 0      | train | ?           | ?        \n",
      "------------------------------------------------------------------------------------\n",
      "676 K     Trainable params\n",
      "0         Non-trainable params\n",
      "676 K     Total params\n",
      "2.706     Total estimated model params size (MB)\n",
      "17        Modules in train mode\n",
      "0         Modules in eval mode\n",
      "LOCAL_RANK: 0 - CUDA_VISIBLE_DEVICES: [0]\n",
      "GPU available: True (cuda), used: True\n",
      "TPU available: False, using: 0 TPU cores\n",
      "HPU available: False, using: 0 HPUs\n",
      "LOCAL_RANK: 0 - CUDA_VISIBLE_DEVICES: [0]\n",
      "Loading `train_dataloader` to estimate number of stepping batches.\n",
      "\n",
      "  | Name        | Type              | Params | Mode  | In sizes    | Out sizes\n",
      "------------------------------------------------------------------------------------\n",
      "0 | conv_layers | Sequential        | 152 K  | train | ?           | ?        \n",
      "1 | projection  | Sequential        | 524 K  | train | [32, 16384] | [32, 32] \n",
      "2 | classifier  | Linear            | 33     | train | [32, 32]    | [32, 1]  \n",
      "3 | criterion   | BCEWithLogitsLoss | 0      | train | ?           | ?        \n",
      "------------------------------------------------------------------------------------\n",
      "676 K     Trainable params\n",
      "0         Non-trainable params\n",
      "676 K     Total params\n",
      "2.706     Total estimated model params size (MB)\n",
      "17        Modules in train mode\n",
      "0         Modules in eval mode\n",
      "LOCAL_RANK: 0 - CUDA_VISIBLE_DEVICES: [0]\n",
      "GPU available: True (cuda), used: True\n",
      "TPU available: False, using: 0 TPU cores\n",
      "HPU available: False, using: 0 HPUs\n",
      "LOCAL_RANK: 0 - CUDA_VISIBLE_DEVICES: [0]\n",
      "Loading `train_dataloader` to estimate number of stepping batches.\n",
      "\n",
      "  | Name        | Type              | Params | Mode  | In sizes    | Out sizes\n",
      "------------------------------------------------------------------------------------\n",
      "0 | conv_layers | Sequential        | 152 K  | train | ?           | ?        \n",
      "1 | projection  | Sequential        | 524 K  | train | [32, 16384] | [32, 32] \n",
      "2 | classifier  | Linear            | 33     | train | [32, 32]    | [32, 1]  \n",
      "3 | criterion   | BCEWithLogitsLoss | 0      | train | ?           | ?        \n",
      "------------------------------------------------------------------------------------\n",
      "676 K     Trainable params\n",
      "0         Non-trainable params\n",
      "676 K     Total params\n",
      "2.706     Total estimated model params size (MB)\n",
      "17        Modules in train mode\n",
      "0         Modules in eval mode\n",
      "LOCAL_RANK: 0 - CUDA_VISIBLE_DEVICES: [0]\n",
      "GPU available: True (cuda), used: True\n",
      "TPU available: False, using: 0 TPU cores\n",
      "HPU available: False, using: 0 HPUs\n",
      "LOCAL_RANK: 0 - CUDA_VISIBLE_DEVICES: [0]\n",
      "Loading `train_dataloader` to estimate number of stepping batches.\n",
      "\n",
      "  | Name        | Type              | Params | Mode  | In sizes    | Out sizes\n",
      "------------------------------------------------------------------------------------\n",
      "0 | conv_layers | Sequential        | 152 K  | train | ?           | ?        \n",
      "1 | projection  | Sequential        | 524 K  | train | [32, 16384] | [32, 32] \n",
      "2 | classifier  | Linear            | 33     | train | [32, 32]    | [32, 1]  \n",
      "3 | criterion   | BCEWithLogitsLoss | 0      | train | ?           | ?        \n",
      "------------------------------------------------------------------------------------\n",
      "676 K     Trainable params\n",
      "0         Non-trainable params\n",
      "676 K     Total params\n",
      "2.706     Total estimated model params size (MB)\n",
      "17        Modules in train mode\n",
      "0         Modules in eval mode\n",
      "LOCAL_RANK: 0 - CUDA_VISIBLE_DEVICES: [0]\n",
      "GPU available: True (cuda), used: True\n",
      "TPU available: False, using: 0 TPU cores\n",
      "HPU available: False, using: 0 HPUs\n",
      "LOCAL_RANK: 0 - CUDA_VISIBLE_DEVICES: [0]\n",
      "Loading `train_dataloader` to estimate number of stepping batches.\n",
      "\n",
      "  | Name        | Type              | Params | Mode  | In sizes    | Out sizes\n",
      "------------------------------------------------------------------------------------\n",
      "0 | conv_layers | Sequential        | 152 K  | train | ?           | ?        \n",
      "1 | projection  | Sequential        | 524 K  | train | [32, 16384] | [32, 32] \n",
      "2 | classifier  | Linear            | 33     | train | [32, 32]    | [32, 1]  \n",
      "3 | criterion   | BCEWithLogitsLoss | 0      | train | ?           | ?        \n",
      "------------------------------------------------------------------------------------\n",
      "676 K     Trainable params\n",
      "0         Non-trainable params\n",
      "676 K     Total params\n",
      "2.706     Total estimated model params size (MB)\n",
      "17        Modules in train mode\n",
      "0         Modules in eval mode\n",
      "LOCAL_RANK: 0 - CUDA_VISIBLE_DEVICES: [0]\n"
     ]
    },
    {
     "data": {
      "application/vnd.jupyter.widget-view+json": {
       "model_id": "341d130ca5c0478686a53da858f7ec9b",
       "version_major": 2,
       "version_minor": 0
      },
      "text/plain": [
       "Euro Court Cases:   0%|          | 0/5 [00:00<?, ?it/s]"
      ]
     },
     "metadata": {},
     "output_type": "display_data"
    },
    {
     "name": "stderr",
     "output_type": "stream",
     "text": [
      "GPU available: True (cuda), used: True\n",
      "TPU available: False, using: 0 TPU cores\n",
      "HPU available: False, using: 0 HPUs\n",
      "LOCAL_RANK: 0 - CUDA_VISIBLE_DEVICES: [0]\n",
      "Loading `train_dataloader` to estimate number of stepping batches.\n",
      "\n",
      "  | Name        | Type              | Params | Mode  | In sizes    | Out sizes\n",
      "------------------------------------------------------------------------------------\n",
      "0 | conv_layers | Sequential        | 152 K  | train | ?           | ?        \n",
      "1 | projection  | Sequential        | 524 K  | train | [32, 16384] | [32, 32] \n",
      "2 | classifier  | Linear            | 33     | train | [32, 32]    | [32, 1]  \n",
      "3 | criterion   | BCEWithLogitsLoss | 0      | train | ?           | ?        \n",
      "------------------------------------------------------------------------------------\n",
      "676 K     Trainable params\n",
      "0         Non-trainable params\n",
      "676 K     Total params\n",
      "2.706     Total estimated model params size (MB)\n",
      "17        Modules in train mode\n",
      "0         Modules in eval mode\n",
      "LOCAL_RANK: 0 - CUDA_VISIBLE_DEVICES: [0]\n",
      "GPU available: True (cuda), used: True\n",
      "TPU available: False, using: 0 TPU cores\n",
      "HPU available: False, using: 0 HPUs\n",
      "LOCAL_RANK: 0 - CUDA_VISIBLE_DEVICES: [0]\n",
      "Loading `train_dataloader` to estimate number of stepping batches.\n",
      "\n",
      "  | Name        | Type              | Params | Mode  | In sizes    | Out sizes\n",
      "------------------------------------------------------------------------------------\n",
      "0 | conv_layers | Sequential        | 152 K  | train | ?           | ?        \n",
      "1 | projection  | Sequential        | 524 K  | train | [32, 16384] | [32, 32] \n",
      "2 | classifier  | Linear            | 33     | train | [32, 32]    | [32, 1]  \n",
      "3 | criterion   | BCEWithLogitsLoss | 0      | train | ?           | ?        \n",
      "------------------------------------------------------------------------------------\n",
      "676 K     Trainable params\n",
      "0         Non-trainable params\n",
      "676 K     Total params\n",
      "2.706     Total estimated model params size (MB)\n",
      "17        Modules in train mode\n",
      "0         Modules in eval mode\n",
      "`Trainer.fit` stopped: `max_epochs=25` reached.\n",
      "LOCAL_RANK: 0 - CUDA_VISIBLE_DEVICES: [0]\n",
      "GPU available: True (cuda), used: True\n",
      "TPU available: False, using: 0 TPU cores\n",
      "HPU available: False, using: 0 HPUs\n",
      "LOCAL_RANK: 0 - CUDA_VISIBLE_DEVICES: [0]\n",
      "Loading `train_dataloader` to estimate number of stepping batches.\n",
      "\n",
      "  | Name        | Type              | Params | Mode  | In sizes    | Out sizes\n",
      "------------------------------------------------------------------------------------\n",
      "0 | conv_layers | Sequential        | 152 K  | train | ?           | ?        \n",
      "1 | projection  | Sequential        | 524 K  | train | [32, 16384] | [32, 32] \n",
      "2 | classifier  | Linear            | 33     | train | [32, 32]    | [32, 1]  \n",
      "3 | criterion   | BCEWithLogitsLoss | 0      | train | ?           | ?        \n",
      "------------------------------------------------------------------------------------\n",
      "676 K     Trainable params\n",
      "0         Non-trainable params\n",
      "676 K     Total params\n",
      "2.706     Total estimated model params size (MB)\n",
      "17        Modules in train mode\n",
      "0         Modules in eval mode\n",
      "LOCAL_RANK: 0 - CUDA_VISIBLE_DEVICES: [0]\n",
      "GPU available: True (cuda), used: True\n",
      "TPU available: False, using: 0 TPU cores\n",
      "HPU available: False, using: 0 HPUs\n",
      "LOCAL_RANK: 0 - CUDA_VISIBLE_DEVICES: [0]\n",
      "Loading `train_dataloader` to estimate number of stepping batches.\n",
      "\n",
      "  | Name        | Type              | Params | Mode  | In sizes    | Out sizes\n",
      "------------------------------------------------------------------------------------\n",
      "0 | conv_layers | Sequential        | 152 K  | train | ?           | ?        \n",
      "1 | projection  | Sequential        | 524 K  | train | [32, 16384] | [32, 32] \n",
      "2 | classifier  | Linear            | 33     | train | [32, 32]    | [32, 1]  \n",
      "3 | criterion   | BCEWithLogitsLoss | 0      | train | ?           | ?        \n",
      "------------------------------------------------------------------------------------\n",
      "676 K     Trainable params\n",
      "0         Non-trainable params\n",
      "676 K     Total params\n",
      "2.706     Total estimated model params size (MB)\n",
      "17        Modules in train mode\n",
      "0         Modules in eval mode\n",
      "LOCAL_RANK: 0 - CUDA_VISIBLE_DEVICES: [0]\n",
      "GPU available: True (cuda), used: True\n",
      "TPU available: False, using: 0 TPU cores\n",
      "HPU available: False, using: 0 HPUs\n",
      "LOCAL_RANK: 0 - CUDA_VISIBLE_DEVICES: [0]\n",
      "Loading `train_dataloader` to estimate number of stepping batches.\n",
      "\n",
      "  | Name        | Type              | Params | Mode  | In sizes    | Out sizes\n",
      "------------------------------------------------------------------------------------\n",
      "0 | conv_layers | Sequential        | 152 K  | train | ?           | ?        \n",
      "1 | projection  | Sequential        | 524 K  | train | [32, 16384] | [32, 32] \n",
      "2 | classifier  | Linear            | 33     | train | [32, 32]    | [32, 1]  \n",
      "3 | criterion   | BCEWithLogitsLoss | 0      | train | ?           | ?        \n",
      "------------------------------------------------------------------------------------\n",
      "676 K     Trainable params\n",
      "0         Non-trainable params\n",
      "676 K     Total params\n",
      "2.706     Total estimated model params size (MB)\n",
      "17        Modules in train mode\n",
      "0         Modules in eval mode\n",
      "LOCAL_RANK: 0 - CUDA_VISIBLE_DEVICES: [0]\n"
     ]
    },
    {
     "data": {
      "application/vnd.jupyter.widget-view+json": {
       "model_id": "02769155369546f0907cb2b808eac72e",
       "version_major": 2,
       "version_minor": 0
      },
      "text/plain": [
       "House of Commons:   0%|          | 0/5 [00:00<?, ?it/s]"
      ]
     },
     "metadata": {},
     "output_type": "display_data"
    },
    {
     "name": "stderr",
     "output_type": "stream",
     "text": [
      "GPU available: True (cuda), used: True\n",
      "TPU available: False, using: 0 TPU cores\n",
      "HPU available: False, using: 0 HPUs\n",
      "LOCAL_RANK: 0 - CUDA_VISIBLE_DEVICES: [0]\n",
      "Loading `train_dataloader` to estimate number of stepping batches.\n",
      "\n",
      "  | Name        | Type              | Params | Mode  | In sizes    | Out sizes\n",
      "------------------------------------------------------------------------------------\n",
      "0 | conv_layers | Sequential        | 152 K  | train | ?           | ?        \n",
      "1 | projection  | Sequential        | 524 K  | train | [32, 16384] | [32, 32] \n",
      "2 | classifier  | Linear            | 33     | train | [32, 32]    | [32, 1]  \n",
      "3 | criterion   | BCEWithLogitsLoss | 0      | train | ?           | ?        \n",
      "------------------------------------------------------------------------------------\n",
      "676 K     Trainable params\n",
      "0         Non-trainable params\n",
      "676 K     Total params\n",
      "2.706     Total estimated model params size (MB)\n",
      "17        Modules in train mode\n",
      "0         Modules in eval mode\n",
      "LOCAL_RANK: 0 - CUDA_VISIBLE_DEVICES: [0]\n",
      "GPU available: True (cuda), used: True\n",
      "TPU available: False, using: 0 TPU cores\n",
      "HPU available: False, using: 0 HPUs\n",
      "LOCAL_RANK: 0 - CUDA_VISIBLE_DEVICES: [0]\n",
      "Loading `train_dataloader` to estimate number of stepping batches.\n",
      "\n",
      "  | Name        | Type              | Params | Mode  | In sizes    | Out sizes\n",
      "------------------------------------------------------------------------------------\n",
      "0 | conv_layers | Sequential        | 152 K  | train | ?           | ?        \n",
      "1 | projection  | Sequential        | 524 K  | train | [32, 16384] | [32, 32] \n",
      "2 | classifier  | Linear            | 33     | train | [32, 32]    | [32, 1]  \n",
      "3 | criterion   | BCEWithLogitsLoss | 0      | train | ?           | ?        \n",
      "------------------------------------------------------------------------------------\n",
      "676 K     Trainable params\n",
      "0         Non-trainable params\n",
      "676 K     Total params\n",
      "2.706     Total estimated model params size (MB)\n",
      "17        Modules in train mode\n",
      "0         Modules in eval mode\n",
      "LOCAL_RANK: 0 - CUDA_VISIBLE_DEVICES: [0]\n",
      "GPU available: True (cuda), used: True\n",
      "TPU available: False, using: 0 TPU cores\n",
      "HPU available: False, using: 0 HPUs\n",
      "LOCAL_RANK: 0 - CUDA_VISIBLE_DEVICES: [0]\n",
      "Loading `train_dataloader` to estimate number of stepping batches.\n",
      "\n",
      "  | Name        | Type              | Params | Mode  | In sizes    | Out sizes\n",
      "------------------------------------------------------------------------------------\n",
      "0 | conv_layers | Sequential        | 152 K  | train | ?           | ?        \n",
      "1 | projection  | Sequential        | 524 K  | train | [32, 16384] | [32, 32] \n",
      "2 | classifier  | Linear            | 33     | train | [32, 32]    | [32, 1]  \n",
      "3 | criterion   | BCEWithLogitsLoss | 0      | train | ?           | ?        \n",
      "------------------------------------------------------------------------------------\n",
      "676 K     Trainable params\n",
      "0         Non-trainable params\n",
      "676 K     Total params\n",
      "2.706     Total estimated model params size (MB)\n",
      "17        Modules in train mode\n",
      "0         Modules in eval mode\n",
      "LOCAL_RANK: 0 - CUDA_VISIBLE_DEVICES: [0]\n",
      "GPU available: True (cuda), used: True\n",
      "TPU available: False, using: 0 TPU cores\n",
      "HPU available: False, using: 0 HPUs\n",
      "LOCAL_RANK: 0 - CUDA_VISIBLE_DEVICES: [0]\n",
      "Loading `train_dataloader` to estimate number of stepping batches.\n",
      "\n",
      "  | Name        | Type              | Params | Mode  | In sizes    | Out sizes\n",
      "------------------------------------------------------------------------------------\n",
      "0 | conv_layers | Sequential        | 152 K  | train | ?           | ?        \n",
      "1 | projection  | Sequential        | 524 K  | train | [32, 16384] | [32, 32] \n",
      "2 | classifier  | Linear            | 33     | train | [32, 32]    | [32, 1]  \n",
      "3 | criterion   | BCEWithLogitsLoss | 0      | train | ?           | ?        \n",
      "------------------------------------------------------------------------------------\n",
      "676 K     Trainable params\n",
      "0         Non-trainable params\n",
      "676 K     Total params\n",
      "2.706     Total estimated model params size (MB)\n",
      "17        Modules in train mode\n",
      "0         Modules in eval mode\n",
      "LOCAL_RANK: 0 - CUDA_VISIBLE_DEVICES: [0]\n",
      "GPU available: True (cuda), used: True\n",
      "TPU available: False, using: 0 TPU cores\n",
      "HPU available: False, using: 0 HPUs\n",
      "LOCAL_RANK: 0 - CUDA_VISIBLE_DEVICES: [0]\n",
      "Loading `train_dataloader` to estimate number of stepping batches.\n",
      "\n",
      "  | Name        | Type              | Params | Mode  | In sizes    | Out sizes\n",
      "------------------------------------------------------------------------------------\n",
      "0 | conv_layers | Sequential        | 152 K  | train | ?           | ?        \n",
      "1 | projection  | Sequential        | 524 K  | train | [32, 16384] | [32, 32] \n",
      "2 | classifier  | Linear            | 33     | train | [32, 32]    | [32, 1]  \n",
      "3 | criterion   | BCEWithLogitsLoss | 0      | train | ?           | ?        \n",
      "------------------------------------------------------------------------------------\n",
      "676 K     Trainable params\n",
      "0         Non-trainable params\n",
      "676 K     Total params\n",
      "2.706     Total estimated model params size (MB)\n",
      "17        Modules in train mode\n",
      "0         Modules in eval mode\n",
      "LOCAL_RANK: 0 - CUDA_VISIBLE_DEVICES: [0]\n"
     ]
    },
    {
     "data": {
      "application/vnd.jupyter.widget-view+json": {
       "model_id": "5bcd297ba325466dbfeb7687f54af3df",
       "version_major": 2,
       "version_minor": 0
      },
      "text/plain": [
       "ArXiv Papers:   0%|          | 0/5 [00:00<?, ?it/s]"
      ]
     },
     "metadata": {},
     "output_type": "display_data"
    },
    {
     "name": "stderr",
     "output_type": "stream",
     "text": [
      "GPU available: True (cuda), used: True\n",
      "TPU available: False, using: 0 TPU cores\n",
      "HPU available: False, using: 0 HPUs\n",
      "LOCAL_RANK: 0 - CUDA_VISIBLE_DEVICES: [0]\n",
      "Loading `train_dataloader` to estimate number of stepping batches.\n",
      "\n",
      "  | Name        | Type              | Params | Mode  | In sizes    | Out sizes\n",
      "------------------------------------------------------------------------------------\n",
      "0 | conv_layers | Sequential        | 152 K  | train | ?           | ?        \n",
      "1 | projection  | Sequential        | 524 K  | train | [32, 16384] | [32, 32] \n",
      "2 | classifier  | Linear            | 33     | train | [32, 32]    | [32, 1]  \n",
      "3 | criterion   | BCEWithLogitsLoss | 0      | train | ?           | ?        \n",
      "------------------------------------------------------------------------------------\n",
      "676 K     Trainable params\n",
      "0         Non-trainable params\n",
      "676 K     Total params\n",
      "2.706     Total estimated model params size (MB)\n",
      "17        Modules in train mode\n",
      "0         Modules in eval mode\n",
      "`Trainer.fit` stopped: `max_epochs=25` reached.\n",
      "LOCAL_RANK: 0 - CUDA_VISIBLE_DEVICES: [0]\n",
      "GPU available: True (cuda), used: True\n",
      "TPU available: False, using: 0 TPU cores\n",
      "HPU available: False, using: 0 HPUs\n",
      "LOCAL_RANK: 0 - CUDA_VISIBLE_DEVICES: [0]\n",
      "Loading `train_dataloader` to estimate number of stepping batches.\n",
      "\n",
      "  | Name        | Type              | Params | Mode  | In sizes    | Out sizes\n",
      "------------------------------------------------------------------------------------\n",
      "0 | conv_layers | Sequential        | 152 K  | train | ?           | ?        \n",
      "1 | projection  | Sequential        | 524 K  | train | [32, 16384] | [32, 32] \n",
      "2 | classifier  | Linear            | 33     | train | [32, 32]    | [32, 1]  \n",
      "3 | criterion   | BCEWithLogitsLoss | 0      | train | ?           | ?        \n",
      "------------------------------------------------------------------------------------\n",
      "676 K     Trainable params\n",
      "0         Non-trainable params\n",
      "676 K     Total params\n",
      "2.706     Total estimated model params size (MB)\n",
      "17        Modules in train mode\n",
      "0         Modules in eval mode\n",
      "LOCAL_RANK: 0 - CUDA_VISIBLE_DEVICES: [0]\n",
      "GPU available: True (cuda), used: True\n",
      "TPU available: False, using: 0 TPU cores\n",
      "HPU available: False, using: 0 HPUs\n",
      "LOCAL_RANK: 0 - CUDA_VISIBLE_DEVICES: [0]\n",
      "Loading `train_dataloader` to estimate number of stepping batches.\n",
      "\n",
      "  | Name        | Type              | Params | Mode  | In sizes    | Out sizes\n",
      "------------------------------------------------------------------------------------\n",
      "0 | conv_layers | Sequential        | 152 K  | train | ?           | ?        \n",
      "1 | projection  | Sequential        | 524 K  | train | [32, 16384] | [32, 32] \n",
      "2 | classifier  | Linear            | 33     | train | [32, 32]    | [32, 1]  \n",
      "3 | criterion   | BCEWithLogitsLoss | 0      | train | ?           | ?        \n",
      "------------------------------------------------------------------------------------\n",
      "676 K     Trainable params\n",
      "0         Non-trainable params\n",
      "676 K     Total params\n",
      "2.706     Total estimated model params size (MB)\n",
      "17        Modules in train mode\n",
      "0         Modules in eval mode\n",
      "LOCAL_RANK: 0 - CUDA_VISIBLE_DEVICES: [0]\n",
      "GPU available: True (cuda), used: True\n",
      "TPU available: False, using: 0 TPU cores\n",
      "HPU available: False, using: 0 HPUs\n",
      "LOCAL_RANK: 0 - CUDA_VISIBLE_DEVICES: [0]\n",
      "Loading `train_dataloader` to estimate number of stepping batches.\n",
      "\n",
      "  | Name        | Type              | Params | Mode  | In sizes    | Out sizes\n",
      "------------------------------------------------------------------------------------\n",
      "0 | conv_layers | Sequential        | 152 K  | train | ?           | ?        \n",
      "1 | projection  | Sequential        | 524 K  | train | [32, 16384] | [32, 32] \n",
      "2 | classifier  | Linear            | 33     | train | [32, 32]    | [32, 1]  \n",
      "3 | criterion   | BCEWithLogitsLoss | 0      | train | ?           | ?        \n",
      "------------------------------------------------------------------------------------\n",
      "676 K     Trainable params\n",
      "0         Non-trainable params\n",
      "676 K     Total params\n",
      "2.706     Total estimated model params size (MB)\n",
      "17        Modules in train mode\n",
      "0         Modules in eval mode\n",
      "LOCAL_RANK: 0 - CUDA_VISIBLE_DEVICES: [0]\n",
      "GPU available: True (cuda), used: True\n",
      "TPU available: False, using: 0 TPU cores\n",
      "HPU available: False, using: 0 HPUs\n",
      "LOCAL_RANK: 0 - CUDA_VISIBLE_DEVICES: [0]\n",
      "Loading `train_dataloader` to estimate number of stepping batches.\n",
      "\n",
      "  | Name        | Type              | Params | Mode  | In sizes    | Out sizes\n",
      "------------------------------------------------------------------------------------\n",
      "0 | conv_layers | Sequential        | 152 K  | train | ?           | ?        \n",
      "1 | projection  | Sequential        | 524 K  | train | [32, 16384] | [32, 32] \n",
      "2 | classifier  | Linear            | 33     | train | [32, 32]    | [32, 1]  \n",
      "3 | criterion   | BCEWithLogitsLoss | 0      | train | ?           | ?        \n",
      "------------------------------------------------------------------------------------\n",
      "676 K     Trainable params\n",
      "0         Non-trainable params\n",
      "676 K     Total params\n",
      "2.706     Total estimated model params size (MB)\n",
      "17        Modules in train mode\n",
      "0         Modules in eval mode\n",
      "LOCAL_RANK: 0 - CUDA_VISIBLE_DEVICES: [0]\n"
     ]
    },
    {
     "data": {
      "application/vnd.jupyter.widget-view+json": {
       "model_id": "7198fe3bbc784d8f8edad814d424ef14",
       "version_major": 2,
       "version_minor": 0
      },
      "text/plain": [
       "Gutenberg:   0%|          | 0/5 [00:00<?, ?it/s]"
      ]
     },
     "metadata": {},
     "output_type": "display_data"
    },
    {
     "name": "stderr",
     "output_type": "stream",
     "text": [
      "GPU available: True (cuda), used: True\n",
      "TPU available: False, using: 0 TPU cores\n",
      "HPU available: False, using: 0 HPUs\n",
      "LOCAL_RANK: 0 - CUDA_VISIBLE_DEVICES: [0]\n",
      "Loading `train_dataloader` to estimate number of stepping batches.\n",
      "\n",
      "  | Name        | Type              | Params | Mode  | In sizes    | Out sizes\n",
      "------------------------------------------------------------------------------------\n",
      "0 | conv_layers | Sequential        | 152 K  | train | ?           | ?        \n",
      "1 | projection  | Sequential        | 524 K  | train | [32, 16384] | [32, 32] \n",
      "2 | classifier  | Linear            | 33     | train | [32, 32]    | [32, 1]  \n",
      "3 | criterion   | BCEWithLogitsLoss | 0      | train | ?           | ?        \n",
      "------------------------------------------------------------------------------------\n",
      "676 K     Trainable params\n",
      "0         Non-trainable params\n",
      "676 K     Total params\n",
      "2.706     Total estimated model params size (MB)\n",
      "17        Modules in train mode\n",
      "0         Modules in eval mode\n",
      "LOCAL_RANK: 0 - CUDA_VISIBLE_DEVICES: [0]\n",
      "GPU available: True (cuda), used: True\n",
      "TPU available: False, using: 0 TPU cores\n",
      "HPU available: False, using: 0 HPUs\n",
      "LOCAL_RANK: 0 - CUDA_VISIBLE_DEVICES: [0]\n",
      "Loading `train_dataloader` to estimate number of stepping batches.\n",
      "\n",
      "  | Name        | Type              | Params | Mode  | In sizes    | Out sizes\n",
      "------------------------------------------------------------------------------------\n",
      "0 | conv_layers | Sequential        | 152 K  | train | ?           | ?        \n",
      "1 | projection  | Sequential        | 524 K  | train | [32, 16384] | [32, 32] \n",
      "2 | classifier  | Linear            | 33     | train | [32, 32]    | [32, 1]  \n",
      "3 | criterion   | BCEWithLogitsLoss | 0      | train | ?           | ?        \n",
      "------------------------------------------------------------------------------------\n",
      "676 K     Trainable params\n",
      "0         Non-trainable params\n",
      "676 K     Total params\n",
      "2.706     Total estimated model params size (MB)\n",
      "17        Modules in train mode\n",
      "0         Modules in eval mode\n",
      "LOCAL_RANK: 0 - CUDA_VISIBLE_DEVICES: [0]\n",
      "GPU available: True (cuda), used: True\n",
      "TPU available: False, using: 0 TPU cores\n",
      "HPU available: False, using: 0 HPUs\n",
      "LOCAL_RANK: 0 - CUDA_VISIBLE_DEVICES: [0]\n",
      "Loading `train_dataloader` to estimate number of stepping batches.\n",
      "\n",
      "  | Name        | Type              | Params | Mode  | In sizes    | Out sizes\n",
      "------------------------------------------------------------------------------------\n",
      "0 | conv_layers | Sequential        | 152 K  | train | ?           | ?        \n",
      "1 | projection  | Sequential        | 524 K  | train | [32, 16384] | [32, 32] \n",
      "2 | classifier  | Linear            | 33     | train | [32, 32]    | [32, 1]  \n",
      "3 | criterion   | BCEWithLogitsLoss | 0      | train | ?           | ?        \n",
      "------------------------------------------------------------------------------------\n",
      "676 K     Trainable params\n",
      "0         Non-trainable params\n",
      "676 K     Total params\n",
      "2.706     Total estimated model params size (MB)\n",
      "17        Modules in train mode\n",
      "0         Modules in eval mode\n",
      "LOCAL_RANK: 0 - CUDA_VISIBLE_DEVICES: [0]\n",
      "GPU available: True (cuda), used: True\n",
      "TPU available: False, using: 0 TPU cores\n",
      "HPU available: False, using: 0 HPUs\n",
      "LOCAL_RANK: 0 - CUDA_VISIBLE_DEVICES: [0]\n",
      "Loading `train_dataloader` to estimate number of stepping batches.\n",
      "\n",
      "  | Name        | Type              | Params | Mode  | In sizes    | Out sizes\n",
      "------------------------------------------------------------------------------------\n",
      "0 | conv_layers | Sequential        | 152 K  | train | ?           | ?        \n",
      "1 | projection  | Sequential        | 524 K  | train | [32, 16384] | [32, 32] \n",
      "2 | classifier  | Linear            | 33     | train | [32, 32]    | [32, 1]  \n",
      "3 | criterion   | BCEWithLogitsLoss | 0      | train | ?           | ?        \n",
      "------------------------------------------------------------------------------------\n",
      "676 K     Trainable params\n",
      "0         Non-trainable params\n",
      "676 K     Total params\n",
      "2.706     Total estimated model params size (MB)\n",
      "17        Modules in train mode\n",
      "0         Modules in eval mode\n",
      "LOCAL_RANK: 0 - CUDA_VISIBLE_DEVICES: [0]\n",
      "GPU available: True (cuda), used: True\n",
      "TPU available: False, using: 0 TPU cores\n",
      "HPU available: False, using: 0 HPUs\n",
      "LOCAL_RANK: 0 - CUDA_VISIBLE_DEVICES: [0]\n",
      "Loading `train_dataloader` to estimate number of stepping batches.\n",
      "\n",
      "  | Name        | Type              | Params | Mode  | In sizes    | Out sizes\n",
      "------------------------------------------------------------------------------------\n",
      "0 | conv_layers | Sequential        | 152 K  | train | ?           | ?        \n",
      "1 | projection  | Sequential        | 524 K  | train | [32, 16384] | [32, 32] \n",
      "2 | classifier  | Linear            | 33     | train | [32, 32]    | [32, 1]  \n",
      "3 | criterion   | BCEWithLogitsLoss | 0      | train | ?           | ?        \n",
      "------------------------------------------------------------------------------------\n",
      "676 K     Trainable params\n",
      "0         Non-trainable params\n",
      "676 K     Total params\n",
      "2.706     Total estimated model params size (MB)\n",
      "17        Modules in train mode\n",
      "0         Modules in eval mode\n",
      "LOCAL_RANK: 0 - CUDA_VISIBLE_DEVICES: [0]\n"
     ]
    },
    {
     "data": {
      "application/vnd.jupyter.widget-view+json": {
       "model_id": "5c2402572cfb40c7a50b5046a2e6bbb8",
       "version_major": 2,
       "version_minor": 0
      },
      "text/plain": [
       "Bundestag:   0%|          | 0/5 [00:00<?, ?it/s]"
      ]
     },
     "metadata": {},
     "output_type": "display_data"
    },
    {
     "name": "stderr",
     "output_type": "stream",
     "text": [
      "GPU available: True (cuda), used: True\n",
      "TPU available: False, using: 0 TPU cores\n",
      "HPU available: False, using: 0 HPUs\n",
      "LOCAL_RANK: 0 - CUDA_VISIBLE_DEVICES: [0]\n",
      "Loading `train_dataloader` to estimate number of stepping batches.\n",
      "\n",
      "  | Name        | Type              | Params | Mode  | In sizes    | Out sizes\n",
      "------------------------------------------------------------------------------------\n",
      "0 | conv_layers | Sequential        | 152 K  | train | ?           | ?        \n",
      "1 | projection  | Sequential        | 524 K  | train | [32, 16384] | [32, 32] \n",
      "2 | classifier  | Linear            | 33     | train | [32, 32]    | [32, 1]  \n",
      "3 | criterion   | BCEWithLogitsLoss | 0      | train | ?           | ?        \n",
      "------------------------------------------------------------------------------------\n",
      "676 K     Trainable params\n",
      "0         Non-trainable params\n",
      "676 K     Total params\n",
      "2.706     Total estimated model params size (MB)\n",
      "17        Modules in train mode\n",
      "0         Modules in eval mode\n",
      "LOCAL_RANK: 0 - CUDA_VISIBLE_DEVICES: [0]\n",
      "GPU available: True (cuda), used: True\n",
      "TPU available: False, using: 0 TPU cores\n",
      "HPU available: False, using: 0 HPUs\n",
      "LOCAL_RANK: 0 - CUDA_VISIBLE_DEVICES: [0]\n",
      "Loading `train_dataloader` to estimate number of stepping batches.\n",
      "\n",
      "  | Name        | Type              | Params | Mode  | In sizes    | Out sizes\n",
      "------------------------------------------------------------------------------------\n",
      "0 | conv_layers | Sequential        | 152 K  | train | ?           | ?        \n",
      "1 | projection  | Sequential        | 524 K  | train | [32, 16384] | [32, 32] \n",
      "2 | classifier  | Linear            | 33     | train | [32, 32]    | [32, 1]  \n",
      "3 | criterion   | BCEWithLogitsLoss | 0      | train | ?           | ?        \n",
      "------------------------------------------------------------------------------------\n",
      "676 K     Trainable params\n",
      "0         Non-trainable params\n",
      "676 K     Total params\n",
      "2.706     Total estimated model params size (MB)\n",
      "17        Modules in train mode\n",
      "0         Modules in eval mode\n",
      "`Trainer.fit` stopped: `max_epochs=25` reached.\n",
      "LOCAL_RANK: 0 - CUDA_VISIBLE_DEVICES: [0]\n",
      "GPU available: True (cuda), used: True\n",
      "TPU available: False, using: 0 TPU cores\n",
      "HPU available: False, using: 0 HPUs\n",
      "LOCAL_RANK: 0 - CUDA_VISIBLE_DEVICES: [0]\n",
      "Loading `train_dataloader` to estimate number of stepping batches.\n",
      "\n",
      "  | Name        | Type              | Params | Mode  | In sizes    | Out sizes\n",
      "------------------------------------------------------------------------------------\n",
      "0 | conv_layers | Sequential        | 152 K  | train | ?           | ?        \n",
      "1 | projection  | Sequential        | 524 K  | train | [32, 16384] | [32, 32] \n",
      "2 | classifier  | Linear            | 33     | train | [32, 32]    | [32, 1]  \n",
      "3 | criterion   | BCEWithLogitsLoss | 0      | train | ?           | ?        \n",
      "------------------------------------------------------------------------------------\n",
      "676 K     Trainable params\n",
      "0         Non-trainable params\n",
      "676 K     Total params\n",
      "2.706     Total estimated model params size (MB)\n",
      "17        Modules in train mode\n",
      "0         Modules in eval mode\n",
      "`Trainer.fit` stopped: `max_epochs=25` reached.\n",
      "LOCAL_RANK: 0 - CUDA_VISIBLE_DEVICES: [0]\n",
      "GPU available: True (cuda), used: True\n",
      "TPU available: False, using: 0 TPU cores\n",
      "HPU available: False, using: 0 HPUs\n",
      "LOCAL_RANK: 0 - CUDA_VISIBLE_DEVICES: [0]\n",
      "Loading `train_dataloader` to estimate number of stepping batches.\n",
      "\n",
      "  | Name        | Type              | Params | Mode  | In sizes    | Out sizes\n",
      "------------------------------------------------------------------------------------\n",
      "0 | conv_layers | Sequential        | 152 K  | train | ?           | ?        \n",
      "1 | projection  | Sequential        | 524 K  | train | [32, 16384] | [32, 32] \n",
      "2 | classifier  | Linear            | 33     | train | [32, 32]    | [32, 1]  \n",
      "3 | criterion   | BCEWithLogitsLoss | 0      | train | ?           | ?        \n",
      "------------------------------------------------------------------------------------\n",
      "676 K     Trainable params\n",
      "0         Non-trainable params\n",
      "676 K     Total params\n",
      "2.706     Total estimated model params size (MB)\n",
      "17        Modules in train mode\n",
      "0         Modules in eval mode\n",
      "LOCAL_RANK: 0 - CUDA_VISIBLE_DEVICES: [0]\n",
      "GPU available: True (cuda), used: True\n",
      "TPU available: False, using: 0 TPU cores\n",
      "HPU available: False, using: 0 HPUs\n",
      "LOCAL_RANK: 0 - CUDA_VISIBLE_DEVICES: [0]\n",
      "Loading `train_dataloader` to estimate number of stepping batches.\n",
      "\n",
      "  | Name        | Type              | Params | Mode  | In sizes    | Out sizes\n",
      "------------------------------------------------------------------------------------\n",
      "0 | conv_layers | Sequential        | 152 K  | train | ?           | ?        \n",
      "1 | projection  | Sequential        | 524 K  | train | [32, 16384] | [32, 32] \n",
      "2 | classifier  | Linear            | 33     | train | [32, 32]    | [32, 1]  \n",
      "3 | criterion   | BCEWithLogitsLoss | 0      | train | ?           | ?        \n",
      "------------------------------------------------------------------------------------\n",
      "676 K     Trainable params\n",
      "0         Non-trainable params\n",
      "676 K     Total params\n",
      "2.706     Total estimated model params size (MB)\n",
      "17        Modules in train mode\n",
      "0         Modules in eval mode\n",
      "LOCAL_RANK: 0 - CUDA_VISIBLE_DEVICES: [0]\n"
     ]
    },
    {
     "data": {
      "application/vnd.jupyter.widget-view+json": {
       "model_id": "28f39194654543a2b20b579a9c5b258d",
       "version_major": 2,
       "version_minor": 0
      },
      "text/plain": [
       "Spiegel:   0%|          | 0/5 [00:00<?, ?it/s]"
      ]
     },
     "metadata": {},
     "output_type": "display_data"
    },
    {
     "name": "stderr",
     "output_type": "stream",
     "text": [
      "GPU available: True (cuda), used: True\n",
      "TPU available: False, using: 0 TPU cores\n",
      "HPU available: False, using: 0 HPUs\n",
      "LOCAL_RANK: 0 - CUDA_VISIBLE_DEVICES: [0]\n",
      "Loading `train_dataloader` to estimate number of stepping batches.\n",
      "\n",
      "  | Name        | Type              | Params | Mode  | In sizes    | Out sizes\n",
      "------------------------------------------------------------------------------------\n",
      "0 | conv_layers | Sequential        | 152 K  | train | ?           | ?        \n",
      "1 | projection  | Sequential        | 524 K  | train | [32, 16384] | [32, 32] \n",
      "2 | classifier  | Linear            | 33     | train | [32, 32]    | [32, 1]  \n",
      "3 | criterion   | BCEWithLogitsLoss | 0      | train | ?           | ?        \n",
      "------------------------------------------------------------------------------------\n",
      "676 K     Trainable params\n",
      "0         Non-trainable params\n",
      "676 K     Total params\n",
      "2.706     Total estimated model params size (MB)\n",
      "17        Modules in train mode\n",
      "0         Modules in eval mode\n",
      "LOCAL_RANK: 0 - CUDA_VISIBLE_DEVICES: [0]\n",
      "GPU available: True (cuda), used: True\n",
      "TPU available: False, using: 0 TPU cores\n",
      "HPU available: False, using: 0 HPUs\n",
      "LOCAL_RANK: 0 - CUDA_VISIBLE_DEVICES: [0]\n",
      "Loading `train_dataloader` to estimate number of stepping batches.\n",
      "\n",
      "  | Name        | Type              | Params | Mode  | In sizes    | Out sizes\n",
      "------------------------------------------------------------------------------------\n",
      "0 | conv_layers | Sequential        | 152 K  | train | ?           | ?        \n",
      "1 | projection  | Sequential        | 524 K  | train | [32, 16384] | [32, 32] \n",
      "2 | classifier  | Linear            | 33     | train | [32, 32]    | [32, 1]  \n",
      "3 | criterion   | BCEWithLogitsLoss | 0      | train | ?           | ?        \n",
      "------------------------------------------------------------------------------------\n",
      "676 K     Trainable params\n",
      "0         Non-trainable params\n",
      "676 K     Total params\n",
      "2.706     Total estimated model params size (MB)\n",
      "17        Modules in train mode\n",
      "0         Modules in eval mode\n",
      "LOCAL_RANK: 0 - CUDA_VISIBLE_DEVICES: [0]\n",
      "GPU available: True (cuda), used: True\n",
      "TPU available: False, using: 0 TPU cores\n",
      "HPU available: False, using: 0 HPUs\n",
      "LOCAL_RANK: 0 - CUDA_VISIBLE_DEVICES: [0]\n",
      "Loading `train_dataloader` to estimate number of stepping batches.\n",
      "\n",
      "  | Name        | Type              | Params | Mode  | In sizes    | Out sizes\n",
      "------------------------------------------------------------------------------------\n",
      "0 | conv_layers | Sequential        | 152 K  | train | ?           | ?        \n",
      "1 | projection  | Sequential        | 524 K  | train | [32, 16384] | [32, 32] \n",
      "2 | classifier  | Linear            | 33     | train | [32, 32]    | [32, 1]  \n",
      "3 | criterion   | BCEWithLogitsLoss | 0      | train | ?           | ?        \n",
      "------------------------------------------------------------------------------------\n",
      "676 K     Trainable params\n",
      "0         Non-trainable params\n",
      "676 K     Total params\n",
      "2.706     Total estimated model params size (MB)\n",
      "17        Modules in train mode\n",
      "0         Modules in eval mode\n",
      "LOCAL_RANK: 0 - CUDA_VISIBLE_DEVICES: [0]\n",
      "GPU available: True (cuda), used: True\n",
      "TPU available: False, using: 0 TPU cores\n",
      "HPU available: False, using: 0 HPUs\n",
      "LOCAL_RANK: 0 - CUDA_VISIBLE_DEVICES: [0]\n",
      "Loading `train_dataloader` to estimate number of stepping batches.\n",
      "\n",
      "  | Name        | Type              | Params | Mode  | In sizes    | Out sizes\n",
      "------------------------------------------------------------------------------------\n",
      "0 | conv_layers | Sequential        | 152 K  | train | ?           | ?        \n",
      "1 | projection  | Sequential        | 524 K  | train | [32, 16384] | [32, 32] \n",
      "2 | classifier  | Linear            | 33     | train | [32, 32]    | [32, 1]  \n",
      "3 | criterion   | BCEWithLogitsLoss | 0      | train | ?           | ?        \n",
      "------------------------------------------------------------------------------------\n",
      "676 K     Trainable params\n",
      "0         Non-trainable params\n",
      "676 K     Total params\n",
      "2.706     Total estimated model params size (MB)\n",
      "17        Modules in train mode\n",
      "0         Modules in eval mode\n",
      "LOCAL_RANK: 0 - CUDA_VISIBLE_DEVICES: [0]\n",
      "GPU available: True (cuda), used: True\n",
      "TPU available: False, using: 0 TPU cores\n",
      "HPU available: False, using: 0 HPUs\n",
      "LOCAL_RANK: 0 - CUDA_VISIBLE_DEVICES: [0]\n",
      "Loading `train_dataloader` to estimate number of stepping batches.\n",
      "\n",
      "  | Name        | Type              | Params | Mode  | In sizes    | Out sizes\n",
      "------------------------------------------------------------------------------------\n",
      "0 | conv_layers | Sequential        | 152 K  | train | ?           | ?        \n",
      "1 | projection  | Sequential        | 524 K  | train | [32, 16384] | [32, 32] \n",
      "2 | classifier  | Linear            | 33     | train | [32, 32]    | [32, 1]  \n",
      "3 | criterion   | BCEWithLogitsLoss | 0      | train | ?           | ?        \n",
      "------------------------------------------------------------------------------------\n",
      "676 K     Trainable params\n",
      "0         Non-trainable params\n",
      "676 K     Total params\n",
      "2.706     Total estimated model params size (MB)\n",
      "17        Modules in train mode\n",
      "0         Modules in eval mode\n",
      "`Trainer.fit` stopped: `max_epochs=25` reached.\n",
      "LOCAL_RANK: 0 - CUDA_VISIBLE_DEVICES: [0]\n"
     ]
    }
   ],
   "source": [
    "from collections import defaultdict\n",
    "\n",
    "metrics_in_domain = defaultdict(list)\n",
    "for domain, subsets in tqdm(splits.items()):\n",
    "    for _ in trange(5, desc=domain, position=1):\n",
    "        seed_everything(config[\"seed\"], verbose=False)\n",
    "        # cycle through splits for cross-validation\n",
    "        eval_dataset = subsets.pop(0)\n",
    "        test_dataloader = get_dataloader(*subsets[:2])\n",
    "        train_dataloader = get_dataloader(*subsets[2:], shuffle=True)\n",
    "        eval_dataloader = get_dataloader(eval_dataset)\n",
    "        subsets.append(eval_dataset)\n",
    "\n",
    "        model = CNNDocumentClassficationModel(**config)\n",
    "        trainer = Trainer(\n",
    "            max_epochs=config[\"max_epochs\"],\n",
    "            logger=pl_loggers.TensorBoardLogger(\n",
    "                save_dir=f\"logs/in_domain/{type(featurizer).__name__}\",\n",
    "                name=domain,\n",
    "            ),\n",
    "            gradient_clip_val=config[\"gradient_clip_val\"],\n",
    "            callbacks=[EarlyStopping(monitor=\"val_loss\", mode=\"min\", patience=3)],\n",
    "            deterministic=True,\n",
    "        )\n",
    "        trainer.progress_bar_callback.disable()\n",
    "\n",
    "        trainer.fit(\n",
    "            model,\n",
    "            train_dataloaders=train_dataloader,\n",
    "            val_dataloaders=eval_dataloader,\n",
    "        )\n",
    "        (metrics,) = trainer.test(model, test_dataloader, verbose=False)\n",
    "        metrics_in_domain[domain].append(metrics)"
   ]
  },
  {
   "cell_type": "code",
   "execution_count": 11,
   "metadata": {},
   "outputs": [
    {
     "data": {
      "text/plain": [
       "{'eval_split': 0.1,\n",
       " 'test_split': 0.2,\n",
       " 'feature_model': 'gpt2',\n",
       " 'synth_agent': 'gpt-4o-mini',\n",
       " 'document_type': 'fulltext',\n",
       " 'second_dim_as_channels': True,\n",
       " 'feature_dim': TwoDimFeatures(width=256, height=13),\n",
       " 'featurizer': 'IntermediateLikelihood(last_n=13)',\n",
       " 'slicer': 'SliceRandomMultiple(size=64, multiple=4, stride=16, sort=False)',\n",
       " 'num_samples': 1,\n",
       " 'seed': 42,\n",
       " 'projection_dim': 32,\n",
       " 'learning_rate': 0.0001,\n",
       " 'warmup_steps': 66,\n",
       " 'max_epochs': 25,\n",
       " 'gradient_clip_val': 1.0,\n",
       " 'batch_size': 32,\n",
       " 'conv_layer_shapes': [(64, 5, 1),\n",
       "  (128, 3, 1),\n",
       "  (128, 3, 1),\n",
       "  (128, 3, 1),\n",
       "  (64, 3, 1)]}"
      ]
     },
     "execution_count": 11,
     "metadata": {},
     "output_type": "execute_result"
    }
   ],
   "source": [
    "config"
   ]
  },
  {
   "cell_type": "code",
   "execution_count": 12,
   "metadata": {},
   "outputs": [
    {
     "name": "stdout",
     "output_type": "stream",
     "text": [
      "\\begin{tabular}{rr}\n",
      "\\toprule\n",
      "test_auroc & test_f1@0.5 \\\\\n",
      "\\midrule\n",
      "0.982 & 0.906 \\\\\n",
      "0.976 & 0.912 \\\\\n",
      "0.972 & 0.916 \\\\\n",
      "0.990 & 0.937 \\\\\n",
      "0.976 & 0.914 \\\\\n",
      "0.987 & 0.925 \\\\\n",
      "0.964 & 0.883 \\\\\n",
      "0.943 & 0.865 \\\\\n",
      "0.928 & 0.855 \\\\\n",
      "\\bottomrule\n",
      "\\end{tabular}\n",
      "\n"
     ]
    },
    {
     "data": {
      "application/vnd.microsoft.datawrangler.viewer.v0+json": {
       "columns": [
        {
         "name": "domain",
         "rawType": "object",
         "type": "string"
        },
        {
         "name": "test_auroc",
         "rawType": "float64",
         "type": "float"
        },
        {
         "name": "test_f1@0.5",
         "rawType": "float64",
         "type": "float"
        }
       ],
       "conversionMethod": "pd.DataFrame",
       "ref": "909c0e5e-a26a-4ea7-90f9-85b4869b14d7",
       "rows": [
        [
         "Blog Authorship",
         "0.9821679949760437",
         "0.9056885123252869"
        ],
        [
         "Student Essays",
         "0.9755688905715942",
         "0.9121661305427551"
        ],
        [
         "CNN News",
         "0.9722288846969604",
         "0.9157830595970153"
        ],
        [
         "Euro Court Cases",
         "0.9898062467575073",
         "0.9369313478469848"
        ],
        [
         "House of Commons",
         "0.9759865641593933",
         "0.914005982875824"
        ],
        [
         "ArXiv Papers",
         "0.9868142485618592",
         "0.9249056816101074"
        ],
        [
         "Gutenberg",
         "0.9635680794715882",
         "0.8833729505538941"
        ],
        [
         "Bundestag",
         "0.9430484056472779",
         "0.8653730511665344"
        ],
        [
         "Spiegel",
         "0.9283736824989319",
         "0.8549659729003907"
        ]
       ],
       "shape": {
        "columns": 2,
        "rows": 9
       }
      },
      "text/html": [
       "<div>\n",
       "<style scoped>\n",
       "    .dataframe tbody tr th:only-of-type {\n",
       "        vertical-align: middle;\n",
       "    }\n",
       "\n",
       "    .dataframe tbody tr th {\n",
       "        vertical-align: top;\n",
       "    }\n",
       "\n",
       "    .dataframe thead th {\n",
       "        text-align: right;\n",
       "    }\n",
       "</style>\n",
       "<table border=\"1\" class=\"dataframe\">\n",
       "  <thead>\n",
       "    <tr style=\"text-align: right;\">\n",
       "      <th></th>\n",
       "      <th>test_auroc</th>\n",
       "      <th>test_f1@0.5</th>\n",
       "    </tr>\n",
       "    <tr>\n",
       "      <th>domain</th>\n",
       "      <th></th>\n",
       "      <th></th>\n",
       "    </tr>\n",
       "  </thead>\n",
       "  <tbody>\n",
       "    <tr>\n",
       "      <th>Blog Authorship</th>\n",
       "      <td>0.982168</td>\n",
       "      <td>0.905689</td>\n",
       "    </tr>\n",
       "    <tr>\n",
       "      <th>Student Essays</th>\n",
       "      <td>0.975569</td>\n",
       "      <td>0.912166</td>\n",
       "    </tr>\n",
       "    <tr>\n",
       "      <th>CNN News</th>\n",
       "      <td>0.972229</td>\n",
       "      <td>0.915783</td>\n",
       "    </tr>\n",
       "    <tr>\n",
       "      <th>Euro Court Cases</th>\n",
       "      <td>0.989806</td>\n",
       "      <td>0.936931</td>\n",
       "    </tr>\n",
       "    <tr>\n",
       "      <th>House of Commons</th>\n",
       "      <td>0.975987</td>\n",
       "      <td>0.914006</td>\n",
       "    </tr>\n",
       "    <tr>\n",
       "      <th>ArXiv Papers</th>\n",
       "      <td>0.986814</td>\n",
       "      <td>0.924906</td>\n",
       "    </tr>\n",
       "    <tr>\n",
       "      <th>Gutenberg</th>\n",
       "      <td>0.963568</td>\n",
       "      <td>0.883373</td>\n",
       "    </tr>\n",
       "    <tr>\n",
       "      <th>Bundestag</th>\n",
       "      <td>0.943048</td>\n",
       "      <td>0.865373</td>\n",
       "    </tr>\n",
       "    <tr>\n",
       "      <th>Spiegel</th>\n",
       "      <td>0.928374</td>\n",
       "      <td>0.854966</td>\n",
       "    </tr>\n",
       "  </tbody>\n",
       "</table>\n",
       "</div>"
      ],
      "text/plain": [
       "                  test_auroc  test_f1@0.5\n",
       "domain                                   \n",
       "Blog Authorship     0.982168     0.905689\n",
       "Student Essays      0.975569     0.912166\n",
       "CNN News            0.972229     0.915783\n",
       "Euro Court Cases    0.989806     0.936931\n",
       "House of Commons    0.975987     0.914006\n",
       "ArXiv Papers        0.986814     0.924906\n",
       "Gutenberg           0.963568     0.883373\n",
       "Bundestag           0.943048     0.865373\n",
       "Spiegel             0.928374     0.854966"
      ]
     },
     "execution_count": 12,
     "metadata": {},
     "output_type": "execute_result"
    }
   ],
   "source": [
    "df = pd.DataFrame(\n",
    "    [\n",
    "        {\n",
    "            \"domain\": domain,\n",
    "            **{\n",
    "                \"test_auroc\": metric[\"test_auroc\"],\n",
    "                \"test_f1@0.5\": metric[\"test_f1@0.5\"],\n",
    "            },\n",
    "        }\n",
    "        for domain in domains\n",
    "        for metric in metrics_in_domain[domain]\n",
    "    ]\n",
    ")\n",
    "df = (\n",
    "    df.groupby(\"domain\")\n",
    "    .mean()\n",
    "    .sort_index(key=lambda i: list(map(list(domains.keys()).index, i)))\n",
    ")\n",
    "print(\n",
    "    df.to_latex(\n",
    "        float_format=\"%.3f\",\n",
    "        index=False,\n",
    "    )\n",
    ")\n",
    "df"
   ]
  },
  {
   "cell_type": "markdown",
   "metadata": {},
   "source": [
    "## Out-of-Domain"
   ]
  },
  {
   "cell_type": "code",
   "execution_count": null,
   "metadata": {},
   "outputs": [],
   "source": [
    "from collections import defaultdict\n",
    "\n",
    "metrics_out_of_domain = defaultdict(list)\n",
    "for domain in tqdm(splits.keys()):\n",
    "    for _ in trange(5, desc=domain, position=1):\n",
    "        seed_everything(config[\"seed\"], verbose=False)\n",
    "        train_subsets = []\n",
    "        eval_subsets = []\n",
    "        for other, subsets in splits.items():\n",
    "            if other == domain:\n",
    "                subsets.append(subsets.pop(0))\n",
    "                test_dataset = subsets[:2]\n",
    "            else:\n",
    "                eval_dataset = subsets.pop(0)\n",
    "                eval_subsets.append(eval_dataset)\n",
    "                train_subsets.extend(subsets[2:])\n",
    "                subsets.append(eval_dataset)\n",
    "\n",
    "        train_dataloader = get_dataloader(*train_subsets, shuffle=True)\n",
    "        eval_dataloader = get_dataloader(*eval_subsets)\n",
    "        test_dataloader = get_dataloader(*test_dataset)\n",
    "\n",
    "        model = CNNDocumentClassficationModel(**config)\n",
    "        trainer = Trainer(\n",
    "            max_epochs=config[\"max_epochs\"],\n",
    "            logger=pl_loggers.TensorBoardLogger(\n",
    "                save_dir=f\"logs/in_domain/{type(featurizer).__name__}\",\n",
    "                name=domain,\n",
    "            ),\n",
    "            gradient_clip_val=config[\"gradient_clip_val\"],\n",
    "            callbacks=[EarlyStopping(monitor=\"val_loss\", mode=\"min\", patience=3)],\n",
    "            deterministic=True,\n",
    "        )\n",
    "        trainer.progress_bar_callback.disable()\n",
    "\n",
    "        trainer.fit(\n",
    "            model,\n",
    "            train_dataloaders=train_dataloader,\n",
    "            val_dataloaders=eval_dataloader,\n",
    "        )\n",
    "        (metrics,) = trainer.test(model, test_dataloader, verbose=False)\n",
    "        metrics_out_of_domain[domain].append(metrics)\n",
    "\n",
    "        print(domain, metrics)"
   ]
  },
  {
   "cell_type": "code",
   "execution_count": 14,
   "metadata": {},
   "outputs": [
    {
     "name": "stdout",
     "output_type": "stream",
     "text": [
      "\\begin{tabular}{rr}\n",
      "\\toprule\n",
      "test_auroc & test_f1@0.5 \\\\\n",
      "\\midrule\n",
      "0.529 & 0.564 \\\\\n",
      "0.750 & 0.730 \\\\\n",
      "0.974 & 0.905 \\\\\n",
      "0.941 & 0.846 \\\\\n",
      "0.961 & 0.924 \\\\\n",
      "0.985 & 0.941 \\\\\n",
      "0.958 & 0.881 \\\\\n",
      "0.769 & 0.715 \\\\\n",
      "0.819 & 0.718 \\\\\n",
      "\\bottomrule\n",
      "\\end{tabular}\n",
      "\n"
     ]
    },
    {
     "data": {
      "application/vnd.microsoft.datawrangler.viewer.v0+json": {
       "columns": [
        {
         "name": "domain",
         "rawType": "object",
         "type": "string"
        },
        {
         "name": "test_auroc",
         "rawType": "float64",
         "type": "float"
        },
        {
         "name": "test_f1@0.5",
         "rawType": "float64",
         "type": "float"
        }
       ],
       "conversionMethod": "pd.DataFrame",
       "ref": "cb60d593-e0e5-466d-a8fe-15b3ad645729",
       "rows": [
        [
         "Blog Authorship",
         "0.5287861883640289",
         "0.5642710506916047"
        ],
        [
         "Student Essays",
         "0.7496144413948059",
         "0.72968829870224"
        ],
        [
         "CNN News",
         "0.9735177636146546",
         "0.9052268981933593"
        ],
        [
         "Euro Court Cases",
         "0.9414797902107239",
         "0.8456860542297363"
        ],
        [
         "House of Commons",
         "0.9612245321273803",
         "0.9238682508468627"
        ],
        [
         "ArXiv Papers",
         "0.9852698922157288",
         "0.9405964970588684"
        ],
        [
         "Gutenberg",
         "0.958419394493103",
         "0.8809419870376587"
        ],
        [
         "Bundestag",
         "0.7688287258148193",
         "0.7152183294296265"
        ],
        [
         "Spiegel",
         "0.8187309384346009",
         "0.7182690143585205"
        ]
       ],
       "shape": {
        "columns": 2,
        "rows": 9
       }
      },
      "text/html": [
       "<div>\n",
       "<style scoped>\n",
       "    .dataframe tbody tr th:only-of-type {\n",
       "        vertical-align: middle;\n",
       "    }\n",
       "\n",
       "    .dataframe tbody tr th {\n",
       "        vertical-align: top;\n",
       "    }\n",
       "\n",
       "    .dataframe thead th {\n",
       "        text-align: right;\n",
       "    }\n",
       "</style>\n",
       "<table border=\"1\" class=\"dataframe\">\n",
       "  <thead>\n",
       "    <tr style=\"text-align: right;\">\n",
       "      <th></th>\n",
       "      <th>test_auroc</th>\n",
       "      <th>test_f1@0.5</th>\n",
       "    </tr>\n",
       "    <tr>\n",
       "      <th>domain</th>\n",
       "      <th></th>\n",
       "      <th></th>\n",
       "    </tr>\n",
       "  </thead>\n",
       "  <tbody>\n",
       "    <tr>\n",
       "      <th>Blog Authorship</th>\n",
       "      <td>0.528786</td>\n",
       "      <td>0.564271</td>\n",
       "    </tr>\n",
       "    <tr>\n",
       "      <th>Student Essays</th>\n",
       "      <td>0.749614</td>\n",
       "      <td>0.729688</td>\n",
       "    </tr>\n",
       "    <tr>\n",
       "      <th>CNN News</th>\n",
       "      <td>0.973518</td>\n",
       "      <td>0.905227</td>\n",
       "    </tr>\n",
       "    <tr>\n",
       "      <th>Euro Court Cases</th>\n",
       "      <td>0.941480</td>\n",
       "      <td>0.845686</td>\n",
       "    </tr>\n",
       "    <tr>\n",
       "      <th>House of Commons</th>\n",
       "      <td>0.961225</td>\n",
       "      <td>0.923868</td>\n",
       "    </tr>\n",
       "    <tr>\n",
       "      <th>ArXiv Papers</th>\n",
       "      <td>0.985270</td>\n",
       "      <td>0.940596</td>\n",
       "    </tr>\n",
       "    <tr>\n",
       "      <th>Gutenberg</th>\n",
       "      <td>0.958419</td>\n",
       "      <td>0.880942</td>\n",
       "    </tr>\n",
       "    <tr>\n",
       "      <th>Bundestag</th>\n",
       "      <td>0.768829</td>\n",
       "      <td>0.715218</td>\n",
       "    </tr>\n",
       "    <tr>\n",
       "      <th>Spiegel</th>\n",
       "      <td>0.818731</td>\n",
       "      <td>0.718269</td>\n",
       "    </tr>\n",
       "  </tbody>\n",
       "</table>\n",
       "</div>"
      ],
      "text/plain": [
       "                  test_auroc  test_f1@0.5\n",
       "domain                                   \n",
       "Blog Authorship     0.528786     0.564271\n",
       "Student Essays      0.749614     0.729688\n",
       "CNN News            0.973518     0.905227\n",
       "Euro Court Cases    0.941480     0.845686\n",
       "House of Commons    0.961225     0.923868\n",
       "ArXiv Papers        0.985270     0.940596\n",
       "Gutenberg           0.958419     0.880942\n",
       "Bundestag           0.768829     0.715218\n",
       "Spiegel             0.818731     0.718269"
      ]
     },
     "execution_count": 14,
     "metadata": {},
     "output_type": "execute_result"
    }
   ],
   "source": [
    "df = pd.DataFrame(\n",
    "    [\n",
    "        {\n",
    "            \"domain\": domain,\n",
    "            **{\n",
    "                \"test_auroc\": metric[\"test_auroc\"],\n",
    "                \"test_f1@0.5\": metric[\"test_f1@0.5\"],\n",
    "            },\n",
    "        }\n",
    "        for domain in domains\n",
    "        for metric in metrics_out_of_domain[domain]\n",
    "    ]\n",
    ")\n",
    "df = (\n",
    "    df.groupby(\"domain\")\n",
    "    .mean()\n",
    "    .sort_index(key=lambda i: list(map(list(domains.keys()).index, i)))\n",
    ")\n",
    "print(\n",
    "    df.to_latex(\n",
    "        float_format=\"%.3f\",\n",
    "        index=False,\n",
    "    )\n",
    ")\n",
    "df"
   ]
  }
 ],
 "metadata": {
  "kernelspec": {
   "display_name": ".venv",
   "language": "python",
   "name": "python3"
  },
  "language_info": {
   "codemirror_mode": {
    "name": "ipython",
    "version": 3
   },
   "file_extension": ".py",
   "mimetype": "text/x-python",
   "name": "python",
   "nbconvert_exporter": "python",
   "pygments_lexer": "ipython3",
   "version": "3.12.7"
  }
 },
 "nbformat": 4,
 "nbformat_minor": 2
}
